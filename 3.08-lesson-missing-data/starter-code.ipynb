{
 "cells": [
  {
   "cell_type": "markdown",
   "metadata": {},
   "source": [
    "<img src=\"http://imgur.com/1ZcRyrc.png\" style=\"float: left; margin: 20px; height: 55px\">\n",
    "\n",
    "# Missing Data\n",
    "---\n",
    "\n",
    "### Learning Objectives\n",
    "- Define MCAR, MAR, and NMAR.\n",
    "- Describe various strategies for dealing with missing data.\n",
    "- Understand the assumptions we make when using strategies to handle missing data.\n",
    "\n",
    "### Credit\n",
    "This lesson is adapted from a missing data workshop that Matt Brems presented at the Open Data Science Conference ([ODSC](https://odsc.com/)).  Check out his GitHub repo [here](https://github.com/matthewbrems/missing-data-workshop?fbclid=IwAR1LGjaIen-ITLndPN1ODV1lYZBvxsHDs0DgIaPkuxpXMsQRBT8eAPI-0sI)."
   ]
  },
  {
   "cell_type": "code",
   "execution_count": 1,
   "metadata": {},
   "outputs": [],
   "source": [
    "# Import libraries.\n",
    "import pandas as pd\n",
    "import numpy as np\n",
    "import matplotlib.pyplot as plt\n",
    "import statistics\n",
    "\n",
    "# Set random seed.\n",
    "np.random.seed(42)"
   ]
  },
  {
   "cell_type": "code",
   "execution_count": 4,
   "metadata": {},
   "outputs": [
    {
     "data": {
      "text/html": [
       "<div>\n",
       "<style scoped>\n",
       "    .dataframe tbody tr th:only-of-type {\n",
       "        vertical-align: middle;\n",
       "    }\n",
       "\n",
       "    .dataframe tbody tr th {\n",
       "        vertical-align: top;\n",
       "    }\n",
       "\n",
       "    .dataframe thead th {\n",
       "        text-align: right;\n",
       "    }\n",
       "</style>\n",
       "<table border=\"1\" class=\"dataframe\">\n",
       "  <thead>\n",
       "    <tr style=\"text-align: right;\">\n",
       "      <th></th>\n",
       "      <th>children</th>\n",
       "      <th>age</th>\n",
       "      <th>partnered</th>\n",
       "      <th>income</th>\n",
       "    </tr>\n",
       "  </thead>\n",
       "  <tbody>\n",
       "    <tr>\n",
       "      <th>0</th>\n",
       "      <td>1</td>\n",
       "      <td>35.0</td>\n",
       "      <td>1</td>\n",
       "      <td>56531.361287</td>\n",
       "    </tr>\n",
       "    <tr>\n",
       "      <th>1</th>\n",
       "      <td>2</td>\n",
       "      <td>58.0</td>\n",
       "      <td>1</td>\n",
       "      <td>93026.182530</td>\n",
       "    </tr>\n",
       "    <tr>\n",
       "      <th>2</th>\n",
       "      <td>0</td>\n",
       "      <td>49.0</td>\n",
       "      <td>1</td>\n",
       "      <td>42693.010819</td>\n",
       "    </tr>\n",
       "    <tr>\n",
       "      <th>3</th>\n",
       "      <td>0</td>\n",
       "      <td>44.0</td>\n",
       "      <td>1</td>\n",
       "      <td>83680.128218</td>\n",
       "    </tr>\n",
       "    <tr>\n",
       "      <th>4</th>\n",
       "      <td>1</td>\n",
       "      <td>26.0</td>\n",
       "      <td>0</td>\n",
       "      <td>28845.520835</td>\n",
       "    </tr>\n",
       "    <tr>\n",
       "      <th>5</th>\n",
       "      <td>1</td>\n",
       "      <td>26.0</td>\n",
       "      <td>1</td>\n",
       "      <td>24898.840890</td>\n",
       "    </tr>\n",
       "    <tr>\n",
       "      <th>6</th>\n",
       "      <td>2</td>\n",
       "      <td>22.0</td>\n",
       "      <td>1</td>\n",
       "      <td>67152.008080</td>\n",
       "    </tr>\n",
       "    <tr>\n",
       "      <th>7</th>\n",
       "      <td>2</td>\n",
       "      <td>55.0</td>\n",
       "      <td>1</td>\n",
       "      <td>35047.373500</td>\n",
       "    </tr>\n",
       "    <tr>\n",
       "      <th>8</th>\n",
       "      <td>5</td>\n",
       "      <td>44.0</td>\n",
       "      <td>1</td>\n",
       "      <td>17245.869659</td>\n",
       "    </tr>\n",
       "    <tr>\n",
       "      <th>9</th>\n",
       "      <td>1</td>\n",
       "      <td>NaN</td>\n",
       "      <td>1</td>\n",
       "      <td>75749.529176</td>\n",
       "    </tr>\n",
       "  </tbody>\n",
       "</table>\n",
       "</div>"
      ],
      "text/plain": [
       "   children   age  partnered        income\n",
       "0         1  35.0          1  56531.361287\n",
       "1         2  58.0          1  93026.182530\n",
       "2         0  49.0          1  42693.010819\n",
       "3         0  44.0          1  83680.128218\n",
       "4         1  26.0          0  28845.520835\n",
       "5         1  26.0          1  24898.840890\n",
       "6         2  22.0          1  67152.008080\n",
       "7         2  55.0          1  35047.373500\n",
       "8         5  44.0          1  17245.869659\n",
       "9         1   NaN          1  75749.529176"
      ]
     },
     "execution_count": 4,
     "metadata": {},
     "output_type": "execute_result"
    }
   ],
   "source": [
    "# Bring in our data of age, partnered, children, and income data\n",
    "# where income is linearly related to age, partnered, and children.\n",
    "income = pd.read_csv('data/income.csv') \n",
    "income_missing = pd.read_csv('data/income_missing.csv') \n",
    "\n",
    "# Check out first 10 rows\n",
    "income_missing.head(10)"
   ]
  },
  {
   "cell_type": "code",
   "execution_count": 5,
   "metadata": {},
   "outputs": [],
   "source": [
    "# create a function to compare histograms of original & imputed data\n",
    "def compare_histograms(imputed_column, original_column, x_label, y_label = 'Frequency'):\n",
    "    fig, (ax0, ax1) = plt.subplots(nrows = 2, ncols = 1, figsize = (16,9))\n",
    "\n",
    "    # Set axes of histograms.\n",
    "    mode = statistics.mode(imputed_column)\n",
    "    rnge = max(original_column) - min(original_column)\n",
    "    xmin = min(original_column) - 0.02 * rnge\n",
    "    xmax = max(original_column) + 0.02 * rnge\n",
    "    ymax = 40\n",
    "\n",
    "    ax0.set_xlim(xmin, xmax)\n",
    "    ax0.set_ylim(0, ymax)\n",
    "    ax1.set_xlim(xmin, xmax)\n",
    "    ax1.set_ylim(0, ymax)\n",
    "\n",
    "    # Set top labels.\n",
    "    ax0.set_title('Real Histogram', position = (0,1), ha = 'left', fontsize = 25)\n",
    "    ax0.set_xlabel(x_label, position = (0,0), ha = 'left', fontsize = 25, color = 'grey', alpha = 0.85)\n",
    "    ax0.set_ylabel(y_label, position = (0,1), ha = 'right', va = 'top', fontsize = 25, rotation = 0, color = 'grey', alpha = 0.85)\n",
    "    ax0.set_xticks([])\n",
    "    ax0.set_yticks([])\n",
    "\n",
    "    # Generate top histogram.\n",
    "    ax0.hist(original_column, bins = 15, color = '#185fad', alpha = 0.75, label = '')\n",
    "    ax0.axvline(np.mean(original_column), color = '#185fad', lw = 5, label = 'True Mean')\n",
    "    ax0.legend(prop={'size': 15}, loc = 1)\n",
    "\n",
    "    # Set bottom labels.\n",
    "    ax1.set_title('Imputed Histogram', position = (0,1), ha = 'left', fontsize = 25)\n",
    "    ax1.set_xlabel(x_label, position = (0,0), ha = 'left', fontsize = 25, color = 'grey', alpha = 0.85)\n",
    "    ax1.set_ylabel(y_label, position = (0,1), ha = 'right', va = 'top', fontsize = 25, rotation = 0, color = 'grey', alpha = 0.85)\n",
    "    ax1.set_xticks([])\n",
    "    ax1.set_yticks([])\n",
    "    \n",
    "    # Generate bottom histogram.\n",
    "    ax1.hist(imputed_column, bins = 15, color = 'orange', alpha = 0.75, label = '', stacked = True)\n",
    "    ax1.axvline(np.mean(original_column), color = '#185fad', lw = 5, label = 'True Mean')\n",
    "    ax1.axvline(np.mean(imputed_column), color = 'darkorange', lw = 5, label = 'Imputed Mean')\n",
    "    ax1.legend(prop={'size': 15}, loc = 1)\n",
    "\n",
    "    plt.tight_layout();"
   ]
  },
  {
   "cell_type": "markdown",
   "metadata": {},
   "source": [
    "### Method 1: Deductive Imputation\n",
    "\n",
    "We use logical rules to fill in missing values.\n",
    "- Survey asks if the respondent was the victim of a crime in the last twelve months.\n",
    "- Respondent says no.\n",
    "- Survey then asks if the respondent was the victim of a violent crime in the last twelve months.\n",
    "- Respondent leaves this answer blank.\n",
    "\n",
    "**Pros**:\n",
    "- Can be used regardless of missingness type\n",
    "- Requires no inference\n",
    "\n",
    "**Cons**:\n",
    "- Requires specific coding\n",
    "- Can be time consuming\n",
    "- May not be possible"
   ]
  },
  {
   "cell_type": "markdown",
   "metadata": {},
   "source": [
    "### Method 2: Mean/Median/Mode Imputation\n",
    "\n",
    "For any “NA” value in a given column, replace “NA” with the mean, median, or mode.\n",
    "\n",
    "**Pros**:\n",
    "- Quick\n",
    "- Easy to implement\n",
    "- Seems reasonable\n",
    "\n",
    "**Cons**:\n",
    "- Can significantly distort histogram\n",
    "- Underestimates variance\n",
    "- Should only be considered if data is MCAR"
   ]
  },
  {
   "cell_type": "markdown",
   "metadata": {},
   "source": [
    "#### Mean Imputation"
   ]
  },
  {
   "cell_type": "code",
   "execution_count": 6,
   "metadata": {
    "scrolled": true
   },
   "outputs": [
    {
     "data": {
      "text/plain": [
       "age          0\n",
       "partnered    0\n",
       "children     0\n",
       "income       0\n",
       "dtype: int64"
      ]
     },
     "execution_count": 6,
     "metadata": {},
     "output_type": "execute_result"
    }
   ],
   "source": [
    "# Which columns have missing values\n",
    "\n",
    "income.isnull().sum()"
   ]
  },
  {
   "cell_type": "code",
   "execution_count": 7,
   "metadata": {},
   "outputs": [
    {
     "data": {
      "text/plain": [
       "children      0\n",
       "age          30\n",
       "partnered     0\n",
       "income        0\n",
       "dtype: int64"
      ]
     },
     "execution_count": 7,
     "metadata": {},
     "output_type": "execute_result"
    }
   ],
   "source": [
    "income_missing.isnull().sum()"
   ]
  },
  {
   "cell_type": "code",
   "execution_count": 17,
   "metadata": {},
   "outputs": [
    {
     "data": {
      "text/plain": [
       "39.5"
      ]
     },
     "execution_count": 17,
     "metadata": {},
     "output_type": "execute_result"
    }
   ],
   "source": [
    "# Let's impute missing values in the age column with the mean\n",
    "\n",
    "# fill mean value first \n",
    "\n",
    "mean_val = income_missing['age'].mean()\n",
    "mean_val"
   ]
  },
  {
   "cell_type": "code",
   "execution_count": 15,
   "metadata": {},
   "outputs": [],
   "source": [
    "# Let's impute missing values in the age column with the mean\n",
    "income_missing['age_mean_imputed'] = income_missing['age'].fillna(mean_val)"
   ]
  },
  {
   "cell_type": "code",
   "execution_count": 16,
   "metadata": {},
   "outputs": [
    {
     "data": {
      "image/png": "[encoded data removed]",
      "text/plain": [
       "<Figure size 1152x648 with 2 Axes>"
      ]
     },
     "metadata": {},
     "output_type": "display_data"
    }
   ],
   "source": [
    "compare_histograms(imputed_column = income_missing['age_mean_imputed'],\n",
    "                   original_column = income['age'],\n",
    "                   x_label = 'Age',\n",
    "                   y_label = 'Frequency')"
   ]
  },
  {
   "cell_type": "markdown",
   "metadata": {},
   "source": [
    "We are underestimating the variance here.\n",
    "\n",
    "\n",
    "Why is this a bad thing?\n",
    "- If we underestimate variance in a confidence interval, our confidence interval gets smaller for the same level of confidence!\n",
    "    - Our results artificially look more precise... but only because we imputed the mean!\n",
    "- If we underestimate the variance in a hypothesis test, our p-value will artificially get smaller.\n",
    "    - Our p-value may look significant... but only because we imputed the mean!"
   ]
  },
  {
   "cell_type": "markdown",
   "metadata": {},
   "source": [
    "#### Median Imputation"
   ]
  },
  {
   "cell_type": "code",
   "execution_count": 19,
   "metadata": {},
   "outputs": [
    {
     "data": {
      "text/plain": [
       "40.5"
      ]
     },
     "execution_count": 19,
     "metadata": {},
     "output_type": "execute_result"
    }
   ],
   "source": [
    "# Let's impute missing values in the age column with the median\n",
    "# need drop NA\n",
    "med_age = np.median(income_missing['age'].dropna())\n",
    "med_age"
   ]
  },
  {
   "cell_type": "code",
   "execution_count": 20,
   "metadata": {},
   "outputs": [],
   "source": [
    "income_missing['age_med_imputed'] = income_missing['age'].fillna(med_age)"
   ]
  },
  {
   "cell_type": "code",
   "execution_count": 21,
   "metadata": {},
   "outputs": [
    {
     "data": {
      "image/png": "[encoded data removed]",
      "text/plain": [
       "<Figure size 1152x648 with 2 Axes>"
      ]
     },
     "metadata": {},
     "output_type": "display_data"
    }
   ],
   "source": [
    "compare_histograms(imputed_column = income_missing['age_med_imputed'],\n",
    "                   original_column = income['age'],\n",
    "                   x_label = 'Age',\n",
    "                   y_label = 'Frequency')"
   ]
  },
  {
   "cell_type": "markdown",
   "metadata": {},
   "source": [
    "We are underestimating the variance here.\n",
    "\n",
    "\n",
    "Why is this a bad thing?\n",
    "- If we underestimate variance in a confidence interval, our confidence interval gets smaller for the same level of confidence!\n",
    "    - Our results artificially look more precise... but only because we imputed the mean!\n",
    "- If we underestimate the variance in a hypothesis test, our p-value will artificially get smaller.\n",
    "    - Our p-value may look significant... but only because we imputed the mean!m"
   ]
  },
  {
   "cell_type": "markdown",
   "metadata": {},
   "source": [
    "#### Mode Imputation"
   ]
  },
  {
   "cell_type": "code",
   "execution_count": 25,
   "metadata": {},
   "outputs": [
    {
     "data": {
      "text/plain": [
       "44.0"
      ]
     },
     "execution_count": 25,
     "metadata": {},
     "output_type": "execute_result"
    }
   ],
   "source": [
    "# Let's impute missing values in the age column with the mode\n",
    "mode_age = income_missing['age'].mode()[0]\n",
    "\n",
    "mode_age"
   ]
  },
  {
   "cell_type": "code",
   "execution_count": 26,
   "metadata": {},
   "outputs": [],
   "source": [
    "income_missing['age_mode_imputed'] = income_missing['age'].fillna(mode_age)"
   ]
  },
  {
   "cell_type": "code",
   "execution_count": 27,
   "metadata": {},
   "outputs": [
    {
     "data": {
      "image/png": "[encoded data removed]",
      "text/plain": [
       "<Figure size 1152x648 with 2 Axes>"
      ]
     },
     "metadata": {},
     "output_type": "display_data"
    }
   ],
   "source": [
    "compare_histograms(imputed_column = income_missing['age_mode_imputed'],\n",
    "                   original_column = income['age'],\n",
    "                   x_label = 'Age',\n",
    "                   y_label = 'Frequency')"
   ]
  },
  {
   "cell_type": "markdown",
   "metadata": {},
   "source": [
    "### Make your life easier -> Simple Imputer in sklearn\n",
    "\n",
    "Note: Train-test-split BEFORE doing this if you are going to model later to avoid data leakage!\n",
    "\n",
    "Documentation [here](https://scikit-learn.org/stable/modules/generated/sklearn.impute.SimpleImputer.html#sklearn.impute.SimpleImputer)."
   ]
  },
  {
   "cell_type": "code",
   "execution_count": 28,
   "metadata": {},
   "outputs": [],
   "source": [
    "# import simple imputer\n",
    "from sklearn.impute import SimpleImputer"
   ]
  },
  {
   "cell_type": "code",
   "execution_count": 29,
   "metadata": {},
   "outputs": [],
   "source": [
    "# re-load data\n",
    "income_missing = pd.read_csv('data/income_missing.csv')"
   ]
  },
  {
   "cell_type": "code",
   "execution_count": 30,
   "metadata": {
    "scrolled": true
   },
   "outputs": [],
   "source": [
    "imp = SimpleImputer()\n",
    "imp_income_missing = imp.fit_transform(income_missing)\n",
    "\n",
    "imp_income_missing = pd.DataFrame(imp_income_missing, columns = income_missing.columns)"
   ]
  },
  {
   "cell_type": "markdown",
   "metadata": {},
   "source": [
    "### Method 3: Single Regression Imputation\n",
    "\n",
    "Train a model on the rows of your data that are fully observed.\n",
    "- Suppose I’m missing income for some people, but have observed age and highest level of education for everybody.\n",
    "- X = age and highest level of education, Y = income.\n",
    "- Fit a model.\n",
    "- For any “NA” value in a given column, replace “NA” with predicted value from that model.\n",
    "\n",
    "**Pros**:\n",
    "- Seems reasonable\n",
    "- A little more nuanced than mean/median/mode imputation\n",
    "\n",
    "**Cons**:\n",
    "- Still distorts histogram\n",
    "- Underestimates variance\n",
    "- Should only be considered if data is MCAR or MAR."
   ]
  },
  {
   "cell_type": "code",
   "execution_count": 31,
   "metadata": {},
   "outputs": [],
   "source": [
    "# re-load data\n",
    "income_missing = pd.read_csv('data/income_missing.csv') "
   ]
  },
  {
   "cell_type": "code",
   "execution_count": 32,
   "metadata": {},
   "outputs": [],
   "source": [
    "# Import linear regression\n",
    "from sklearn.linear_model import LinearRegression"
   ]
  },
  {
   "cell_type": "code",
   "execution_count": 37,
   "metadata": {},
   "outputs": [],
   "source": [
    "# Save new dataframe without any missing values\n",
    "income_new = income_missing.dropna()"
   ]
  },
  {
   "cell_type": "code",
   "execution_count": 38,
   "metadata": {},
   "outputs": [
    {
     "name": "stdout",
     "output_type": "stream",
     "text": [
      "<class 'pandas.core.frame.DataFrame'>\n",
      "Int64Index: 70 entries, 0 to 99\n",
      "Data columns (total 4 columns):\n",
      " #   Column     Non-Null Count  Dtype  \n",
      "---  ------     --------------  -----  \n",
      " 0   children   70 non-null     int64  \n",
      " 1   age        70 non-null     float64\n",
      " 2   partnered  70 non-null     int64  \n",
      " 3   income     70 non-null     float64\n",
      "dtypes: float64(2), int64(2)\n",
      "memory usage: 2.7 KB\n"
     ]
    }
   ],
   "source": [
    "income_new.info()"
   ]
  },
  {
   "cell_type": "code",
   "execution_count": 41,
   "metadata": {},
   "outputs": [
    {
     "data": {
      "text/plain": [
       "LinearRegression()"
      ]
     },
     "execution_count": 41,
     "metadata": {},
     "output_type": "execute_result"
    }
   ],
   "source": [
    "# Set up model\n",
    "X = income_new[['partnered', 'income', 'children']]\n",
    "y= income_new['age'] \n",
    "\n",
    "# Instantiate\n",
    "lr = LinearRegression()\n",
    "# Fit\n",
    "lr.fit(X,y)"
   ]
  },
  {
   "cell_type": "code",
   "execution_count": 50,
   "metadata": {},
   "outputs": [
    {
     "data": {
      "text/plain": [
       "RangeIndex(start=0, stop=100, step=1)"
      ]
     },
     "execution_count": 50,
     "metadata": {},
     "output_type": "execute_result"
    }
   ],
   "source": [
    "income_missing.index"
   ]
  },
  {
   "cell_type": "code",
   "execution_count": 45,
   "metadata": {},
   "outputs": [
    {
     "data": {
      "text/plain": [
       "Int64Index([ 9, 10, 11, 12, 13, 16, 17, 19, 24, 27, 29, 30, 39, 42, 48, 52, 58,\n",
       "            59, 60, 73, 77, 78, 79, 80, 83, 85, 89, 92, 94, 98],\n",
       "           dtype='int64')"
      ]
     },
     "execution_count": 45,
     "metadata": {},
     "output_type": "execute_result"
    }
   ],
   "source": [
    "# use this to identify index of missing values \n",
    "\n",
    "income_missing.index[income_missing['age'].isnull()]"
   ]
  },
  {
   "cell_type": "code",
   "execution_count": 51,
   "metadata": {},
   "outputs": [],
   "source": [
    "# save indices of missing values\n",
    "missing_index =income_missing.index[income_missing['age'].isnull()]"
   ]
  },
  {
   "cell_type": "code",
   "execution_count": 54,
   "metadata": {},
   "outputs": [],
   "source": [
    "# Impute missing values with the prediciton from the model\n",
    "income_missing['age_regression_imputed'] = [income_missing.loc[i,'age'] if i not in missing_index\n",
    "     else lr.predict(pd.DataFrame(income_missing.loc[i,['children', 'partnered', 'income']]).T)[0]\n",
    "     for i in range(income_missing.shape[0])]"
   ]
  },
  {
   "cell_type": "code",
   "execution_count": 55,
   "metadata": {},
   "outputs": [
    {
     "data": {
      "image/png": "[encoded data removed]",
      "text/plain": [
       "<Figure size 1152x648 with 2 Axes>"
      ]
     },
     "metadata": {},
     "output_type": "display_data"
    }
   ],
   "source": [
    "compare_histograms(imputed_column = income_missing['age_regression_imputed'],\n",
    "                   original_column = income['age'],\n",
    "                   x_label = 'Age',\n",
    "                   y_label = 'Frequency')"
   ]
  },
  {
   "cell_type": "markdown",
   "metadata": {},
   "source": [
    "![](../images/deterministic_imputation.png)\n",
    "\n",
    "[source](http://www.stat.columbia.edu/~gelman/arm/missing.pdf)"
   ]
  },
  {
   "cell_type": "markdown",
   "metadata": {},
   "source": [
    "### Make your life easier -> Iterative Imputer in sklearn\n",
    "\n",
    "Documentation [here](https://scikit-learn.org/stable/modules/generated/sklearn.impute.IterativeImputer.html#sklearn.impute.IterativeImputer).\n",
    "\n",
    "From [sklearn](https://scikit-learn.org/stable/modules/generated/sklearn.impute.IterativeImputer.html#sklearn.impute.IterativeImputer): \n",
    "> Note: This estimator is still experimental for now: the predictions and the API might change without any deprecation cycle. To use it, you need to explicitly import enable_iterative_imputer:\n",
    "\n",
    "```python\n",
    "# explicitly require this experimental feature\n",
    "from sklearn.experimental import enable_iterative_imputer  \n",
    "# now you can import normally from sklearn.impute\n",
    "from sklearn.impute import IterativeImputer\n",
    "```\n",
    "\n",
    "Again, make sure to fit this only on training data if you are using this for a model (you can transform testing data)."
   ]
  },
  {
   "cell_type": "code",
   "execution_count": 58,
   "metadata": {},
   "outputs": [],
   "source": [
    "# imports\n",
    "from sklearn.experimental import enable_iterative_imputer \n",
    "from sklearn.impute import IterativeImputer\n",
    "from sklearn.linear_model import LinearRegression"
   ]
  },
  {
   "cell_type": "code",
   "execution_count": 59,
   "metadata": {},
   "outputs": [],
   "source": [
    "# re-load data\n",
    "income_missing = pd.read_csv('data/income_missing.csv') "
   ]
  },
  {
   "cell_type": "code",
   "execution_count": 61,
   "metadata": {
    "scrolled": false
   },
   "outputs": [],
   "source": [
    "it_imp = IterativeImputer(estimator = LinearRegression())\n",
    "\n",
    "it_imp_income_missing = it_imp.fit_transform(income_missing)\n",
    "\n",
    "it_imp_income_missing = pd.DataFrame(it_imp_income_missing, columns = income_missing.columns)"
   ]
  },
  {
   "cell_type": "code",
   "execution_count": 62,
   "metadata": {},
   "outputs": [
    {
     "data": {
      "image/png": "[encoded data removed]",
      "text/plain": [
       "<Figure size 1152x648 with 2 Axes>"
      ]
     },
     "metadata": {},
     "output_type": "display_data"
    }
   ],
   "source": [
    "compare_histograms(imputed_column = it_imp_income_missing['age'],\n",
    "                   original_column = income['age'],\n",
    "                   x_label = 'Age',\n",
    "                   y_label = 'Frequency')"
   ]
  },
  {
   "cell_type": "code",
   "execution_count": null,
   "metadata": {},
   "outputs": [],
   "source": [
    "# try it with the defaul model\n",
    "income_missing = pd.read_csv('../data/income_missing.csv') \n",
    "\n"
   ]
  },
  {
   "cell_type": "code",
   "execution_count": null,
   "metadata": {},
   "outputs": [],
   "source": []
  },
  {
   "cell_type": "markdown",
   "metadata": {},
   "source": [
    "### Method 4: Nearest Neighbors Imputation\n",
    "\n",
    "Documentation [here](https://scikit-learn.org/stable/modules/generated/sklearn.impute.KNNImputer.html#sklearn.impute.KNNImputer)."
   ]
  },
  {
   "cell_type": "code",
   "execution_count": 65,
   "metadata": {},
   "outputs": [],
   "source": [
    "# import it\n",
    "from sklearn.impute import KNNImputer"
   ]
  },
  {
   "cell_type": "code",
   "execution_count": 66,
   "metadata": {},
   "outputs": [],
   "source": [
    "# re-load data\n",
    "income_missing = pd.read_csv('data/income_missing.csv') "
   ]
  },
  {
   "cell_type": "code",
   "execution_count": 67,
   "metadata": {},
   "outputs": [],
   "source": [
    "knn_imp = KNNImputer()\n",
    "knn_imp_income_missing = knn_imp.fit_transform(income_missing)\n",
    "\n",
    "knn_imp_income_missing = pd.DataFrame(knn_imp_income_missing, columns = income_missing.columns)"
   ]
  },
  {
   "cell_type": "code",
   "execution_count": null,
   "metadata": {},
   "outputs": [],
   "source": []
  },
  {
   "cell_type": "markdown",
   "metadata": {},
   "source": [
    "### Method 5: Multiple Imputation\n",
    "\n",
    "If we want to account for the randomness in our data, we can fill in missing values with some amount of randomness/uncertainty.\n",
    "\n",
    "Replacing an NA with one value treats things like we know the true value.\n",
    "\n",
    "Therefore, we need to impute multiple times.\n",
    "- We will make multiple copies (say 10) of our dataset.\n",
    "- We will use [random regression imputation](https://statisticsglobe.com/regression-imputation-stochastic-vs-deterministic/) to generate one value for each NA in each dataset.\n",
    "- Once each of our 10 datasets are complete, we will do our “final model” or “final analysis” on each dataset.\n",
    "- We will then combine the results of our multiple models together, just like we aggregate results in an ensemble model.\n",
    "\n",
    "![](../images/proper_imputation.png)\n",
    "\n",
    "\n",
    "If you’re **generating predictions**, you can just average your predictions together in a regression problem or select the plurality class in a classification problem.\n",
    "\n",
    "If your goal is to do **inference** (e.g. understand how X affects Y) and are fitting a linear model to each dataset, then you get a slope and y-intercept for each model.\n",
    "- There are a set of tools, called Rubin’s rules, that will allow you to take the slopes and y-intercepts from each model and combine them together.\n",
    "- Check out documentation in the repo if interested!\n",
    "\n",
    "[IterativeImputer](https://scikit-learn.org/stable/modules/impute.html#multiple-vs-single-imputation) in sklearn can help with this!"
   ]
  },
  {
   "cell_type": "markdown",
   "metadata": {},
   "source": [
    "### Missing Indicator Column\n",
    "\n",
    "We can add a column about which values were imputed/missing and use that as a feature in our model. This can help when there is a pattern in what is missing and our target and may help our model.\n",
    "\n",
    "See another example of this [here](https://nbviewer.jupyter.org/github/justmarkham/scikit-learn-tips/blob/master/notebooks/09_add_missing_indicator.ipynb).\n",
    "\n",
    "There are several ways we can do this:\n",
    "1. Set `add_indicator = True` in Simple Imputer or Iterative Imputer if you are using these:\n",
    "```python\n",
    "imputer = SimpleImputer(add_indicator=True)\n",
    "imputer.fit_transform(X)\n",
    "```\n",
    "2. Use the `MissingIndicator` transformer in [sklearn](https://scikit-learn.org/stable/modules/generated/sklearn.impute.MissingIndicator.html#sklearn.impute.MissingIndicator)."
   ]
  },
  {
   "cell_type": "code",
   "execution_count": 69,
   "metadata": {},
   "outputs": [],
   "source": [
    "# re-load data\n",
    "income_missing = pd.read_csv('data/income_missing.csv') "
   ]
  },
  {
   "cell_type": "code",
   "execution_count": 72,
   "metadata": {},
   "outputs": [
    {
     "data": {
      "text/html": [
       "<div>\n",
       "<style scoped>\n",
       "    .dataframe tbody tr th:only-of-type {\n",
       "        vertical-align: middle;\n",
       "    }\n",
       "\n",
       "    .dataframe tbody tr th {\n",
       "        vertical-align: top;\n",
       "    }\n",
       "\n",
       "    .dataframe thead th {\n",
       "        text-align: right;\n",
       "    }\n",
       "</style>\n",
       "<table border=\"1\" class=\"dataframe\">\n",
       "  <thead>\n",
       "    <tr style=\"text-align: right;\">\n",
       "      <th></th>\n",
       "      <th>children</th>\n",
       "      <th>age</th>\n",
       "      <th>partnered</th>\n",
       "      <th>income</th>\n",
       "    </tr>\n",
       "  </thead>\n",
       "  <tbody>\n",
       "    <tr>\n",
       "      <th>0</th>\n",
       "      <td>1</td>\n",
       "      <td>35.0</td>\n",
       "      <td>1</td>\n",
       "      <td>56531.361287</td>\n",
       "    </tr>\n",
       "    <tr>\n",
       "      <th>1</th>\n",
       "      <td>2</td>\n",
       "      <td>58.0</td>\n",
       "      <td>1</td>\n",
       "      <td>93026.182530</td>\n",
       "    </tr>\n",
       "    <tr>\n",
       "      <th>2</th>\n",
       "      <td>0</td>\n",
       "      <td>49.0</td>\n",
       "      <td>1</td>\n",
       "      <td>42693.010819</td>\n",
       "    </tr>\n",
       "    <tr>\n",
       "      <th>3</th>\n",
       "      <td>0</td>\n",
       "      <td>44.0</td>\n",
       "      <td>1</td>\n",
       "      <td>83680.128218</td>\n",
       "    </tr>\n",
       "    <tr>\n",
       "      <th>4</th>\n",
       "      <td>1</td>\n",
       "      <td>26.0</td>\n",
       "      <td>0</td>\n",
       "      <td>28845.520835</td>\n",
       "    </tr>\n",
       "  </tbody>\n",
       "</table>\n",
       "</div>"
      ],
      "text/plain": [
       "   children   age  partnered        income\n",
       "0         1  35.0          1  56531.361287\n",
       "1         2  58.0          1  93026.182530\n",
       "2         0  49.0          1  42693.010819\n",
       "3         0  44.0          1  83680.128218\n",
       "4         1  26.0          0  28845.520835"
      ]
     },
     "execution_count": 72,
     "metadata": {},
     "output_type": "execute_result"
    }
   ],
   "source": [
    "income_missing.head()"
   ]
  },
  {
   "cell_type": "code",
   "execution_count": 73,
   "metadata": {},
   "outputs": [],
   "source": [
    "it_imp = SimpleImputer(strategy='median', add_indicator=True)\n",
    "it_imp_income_missing = it_imp.fit_transform(income_missing)\n",
    "\n",
    "inc_df = pd.DataFrame(it_imp_income_missing).head()"
   ]
  },
  {
   "cell_type": "code",
   "execution_count": 78,
   "metadata": {},
   "outputs": [
    {
     "data": {
      "text/html": [
       "<div>\n",
       "<style scoped>\n",
       "    .dataframe tbody tr th:only-of-type {\n",
       "        vertical-align: middle;\n",
       "    }\n",
       "\n",
       "    .dataframe tbody tr th {\n",
       "        vertical-align: top;\n",
       "    }\n",
       "\n",
       "    .dataframe thead th {\n",
       "        text-align: right;\n",
       "    }\n",
       "</style>\n",
       "<table border=\"1\" class=\"dataframe\">\n",
       "  <thead>\n",
       "    <tr style=\"text-align: right;\">\n",
       "      <th></th>\n",
       "      <th>0</th>\n",
       "      <th>1</th>\n",
       "      <th>2</th>\n",
       "      <th>3</th>\n",
       "      <th>4</th>\n",
       "    </tr>\n",
       "  </thead>\n",
       "  <tbody>\n",
       "    <tr>\n",
       "      <th>0</th>\n",
       "      <td>1.0</td>\n",
       "      <td>35.0</td>\n",
       "      <td>1.0</td>\n",
       "      <td>56531.361287</td>\n",
       "      <td>0.0</td>\n",
       "    </tr>\n",
       "    <tr>\n",
       "      <th>1</th>\n",
       "      <td>2.0</td>\n",
       "      <td>58.0</td>\n",
       "      <td>1.0</td>\n",
       "      <td>93026.182530</td>\n",
       "      <td>0.0</td>\n",
       "    </tr>\n",
       "    <tr>\n",
       "      <th>2</th>\n",
       "      <td>0.0</td>\n",
       "      <td>49.0</td>\n",
       "      <td>1.0</td>\n",
       "      <td>42693.010819</td>\n",
       "      <td>0.0</td>\n",
       "    </tr>\n",
       "    <tr>\n",
       "      <th>3</th>\n",
       "      <td>0.0</td>\n",
       "      <td>44.0</td>\n",
       "      <td>1.0</td>\n",
       "      <td>83680.128218</td>\n",
       "      <td>0.0</td>\n",
       "    </tr>\n",
       "    <tr>\n",
       "      <th>4</th>\n",
       "      <td>1.0</td>\n",
       "      <td>26.0</td>\n",
       "      <td>0.0</td>\n",
       "      <td>28845.520835</td>\n",
       "      <td>0.0</td>\n",
       "    </tr>\n",
       "  </tbody>\n",
       "</table>\n",
       "</div>"
      ],
      "text/plain": [
       "     0     1    2             3    4\n",
       "0  1.0  35.0  1.0  56531.361287  0.0\n",
       "1  2.0  58.0  1.0  93026.182530  0.0\n",
       "2  0.0  49.0  1.0  42693.010819  0.0\n",
       "3  0.0  44.0  1.0  83680.128218  0.0\n",
       "4  1.0  26.0  0.0  28845.520835  0.0"
      ]
     },
     "execution_count": 78,
     "metadata": {},
     "output_type": "execute_result"
    }
   ],
   "source": [
    "inc_df"
   ]
  },
  {
   "cell_type": "markdown",
   "metadata": {},
   "source": [
    "---\n",
    "### To the slides!\n",
    "---"
   ]
  },
  {
   "cell_type": "markdown",
   "metadata": {},
   "source": [
    "### BONUS: Pattern Submodel Approach\n",
    "\n",
    "Big Picture: We will break our dataset into subsets based on missingness pattern. We will then build one model on each subset, creating many different models.\n",
    "\n",
    "![](./images/pattern_submodel.jpeg)\n",
    "\n",
    "[image source](https://opendatascience.com/data-imputation-beyond-mean-median-and-mode/)\n",
    "\n",
    "**Pros**:\n",
    "- The pattern submodel method will outperform imputation methods when your data are NMAR, and will perform about as well as imputation methods when your data are MCAR or MAR.\n",
    "- You can generate predictions for test observations containing missing data.\n",
    "- It does not require missingness assumptions!\n",
    "\n",
    "**Cons**:\n",
    "- This is not a well-understood method for inference.\n",
    "\n",
    "Read more about this method [here](https://academic.oup.com/biostatistics/article/21/2/236/5092384).\n",
    "\n",
    "See an example of this [here](https://github.com/sarahmercaldo/MissingDataAndPrediction) - note that this example is done in R."
   ]
  }
 ],
 "metadata": {
  "kernelspec": {
   "display_name": "Python 3 (ipykernel)",
   "language": "python",
   "name": "python3"
  },
  "language_info": {
   "codemirror_mode": {
    "name": "ipython",
    "version": 3
   },
   "file_extension": ".py",
   "mimetype": "text/x-python",
   "name": "python",
   "nbconvert_exporter": "python",
   "pygments_lexer": "ipython3",
   "version": "3.8.8"
  }
 },
 "nbformat": 4,
 "nbformat_minor": 4
}
