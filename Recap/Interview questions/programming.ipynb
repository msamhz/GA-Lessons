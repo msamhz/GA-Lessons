{
 "cells": [
  {
   "cell_type": "markdown",
   "metadata": {},
   "source": [
    "code for Palindrome "
   ]
  },
  {
   "cell_type": "code",
   "execution_count": 1,
   "metadata": {},
   "outputs": [
    {
     "name": "stdout",
     "output_type": "stream",
     "text": [
      "{test} is palindrome\n"
     ]
    }
   ],
   "source": [
    "test  = '012345543210'\n",
    "\n",
    "palindrome = True\n",
    "\n",
    "for i in range(int(len(test)/2)):\n",
    "    if test[i] != test[-1-i]:\n",
    "        palindrome = False\n",
    "    \n",
    "if palindrome:\n",
    "    print(\"{test} is palindrome\")\n",
    "else:\n",
    "    print(\"{test} is not palindrome\")"
   ]
  },
  {
   "cell_type": "code",
   "execution_count": 2,
   "metadata": {},
   "outputs": [
    {
     "data": {
      "text/plain": [
       "'012345543210'"
      ]
     },
     "execution_count": 2,
     "metadata": {},
     "output_type": "execute_result"
    }
   ],
   "source": [
    "test[::-1]"
   ]
  },
  {
   "cell_type": "code",
   "execution_count": 3,
   "metadata": {},
   "outputs": [
    {
     "data": {
      "text/plain": [
       "True"
      ]
     },
     "execution_count": 3,
     "metadata": {},
     "output_type": "execute_result"
    }
   ],
   "source": [
    "def isPalindrome(s):\n",
    "    return s == s[::-1]\n",
    "\n",
    "isPalindrome(test)"
   ]
  },
  {
   "cell_type": "markdown",
   "metadata": {},
   "source": [
    "Simple Pig latin\n",
    "\n",
    "`pig_it('Pig latin is cool') # igPay atinlay siay oolcay`\n",
    "\n",
    "`pig_it('Hello world !')     # elloHay orldway !`\n"
   ]
  },
  {
   "cell_type": "code",
   "execution_count": 4,
   "metadata": {},
   "outputs": [],
   "source": [
    "def pig_it(text):\n",
    "    lst = text.split()\n",
    "    return ' '.join( [word[1:] + word[:1] + 'ay' if word.isalpha() else word for word in lst])\n"
   ]
  },
  {
   "cell_type": "code",
   "execution_count": 5,
   "metadata": {},
   "outputs": [
    {
     "data": {
      "text/plain": [
       "'igPay atinlay siay oolcay'"
      ]
     },
     "execution_count": 5,
     "metadata": {},
     "output_type": "execute_result"
    }
   ],
   "source": [
    "test = 'Pig latin is cool'\n",
    "\n",
    "pig_it(test)"
   ]
  },
  {
   "cell_type": "markdown",
   "metadata": {},
   "source": [
    "* url = \"http://github.com/carbonfive/raygun\" -> domain name = \"github\"\n",
    "* url = \"http://www.zombie-bites.com\"         -> domain name = \"zombie-bites\"\n",
    "* url = \"https://www.cnet.com\"                -> domain name = cnet\""
   ]
  },
  {
   "cell_type": "code",
   "execution_count": 6,
   "metadata": {},
   "outputs": [
    {
     "data": {
      "text/plain": [
       "'zombie-bites'"
      ]
     },
     "execution_count": 6,
     "metadata": {},
     "output_type": "execute_result"
    }
   ],
   "source": [
    "url = 'http://www.zombie-bites.com'\n",
    "\n",
    "url.split(\"//\")[-1].split(\"www.\")[-1].split(\".\")[0]"
   ]
  },
  {
   "cell_type": "markdown",
   "metadata": {},
   "source": [
    "find_uniq([ 1, 1, 1, 2, 1, 1 ]) == 2\n",
    "\n",
    "find_uniq([ 0, 0, 0.55, 0, 0 ]) == 0.55"
   ]
  },
  {
   "cell_type": "code",
   "execution_count": 22,
   "metadata": {},
   "outputs": [],
   "source": [
    "\n",
    "import numpy as np\n",
    "unique_list = [ 3, 10, 3, 3, 3 ]\n",
    "test = np.unique(unique_list)\n",
    "\n",
    "def find_uniq(test):\n",
    "    for num in test:\n",
    "        count = 0 \n",
    "        for i in test:\n",
    "            if i == num:\n",
    "                count += 1\n",
    "\n",
    "        if count == 1:\n",
    "            return  num\n",
    "        "
   ]
  },
  {
   "cell_type": "code",
   "execution_count": 23,
   "metadata": {},
   "outputs": [
    {
     "data": {
      "text/plain": [
       "10"
      ]
     },
     "execution_count": 23,
     "metadata": {},
     "output_type": "execute_result"
    }
   ],
   "source": [
    "find_uniq(unique_list)"
   ]
  },
  {
   "cell_type": "code",
   "execution_count": 24,
   "metadata": {},
   "outputs": [],
   "source": [
    "def find_uniq(arr):\n",
    "    a, b = set(arr)\n",
    "    return a if arr.count(a) == 1 else b"
   ]
  },
  {
   "cell_type": "code",
   "execution_count": 25,
   "metadata": {},
   "outputs": [
    {
     "data": {
      "text/plain": [
       "10"
      ]
     },
     "execution_count": 25,
     "metadata": {},
     "output_type": "execute_result"
    }
   ],
   "source": [
    "find_uniq(unique_list)"
   ]
  }
 ],
 "metadata": {
  "interpreter": {
   "hash": "575f3d59c62e4451a6ffa8d11d7535209d27491b7f53d7736630c65e60db3285"
  },
  "kernelspec": {
   "display_name": "Python 3.7.13 ('dsi27tf')",
   "language": "python",
   "name": "python3"
  },
  "language_info": {
   "codemirror_mode": {
    "name": "ipython",
    "version": 3
   },
   "file_extension": ".py",
   "mimetype": "text/x-python",
   "name": "python",
   "nbconvert_exporter": "python",
   "pygments_lexer": "ipython3",
   "version": "3.7.13"
  },
  "orig_nbformat": 4
 },
 "nbformat": 4,
 "nbformat_minor": 2
}
