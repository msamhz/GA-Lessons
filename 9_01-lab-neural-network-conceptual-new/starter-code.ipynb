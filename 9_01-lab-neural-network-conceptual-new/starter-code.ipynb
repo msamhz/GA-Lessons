{
 "cells": [
  {
   "cell_type": "markdown",
   "metadata": {},
   "source": [
    "<img src=\"http://imgur.com/1ZcRyrc.png\" style=\"float: left; margin: 20px; height: 55px\">\n",
    "\n",
    "# Conceptual Neural Networks Lab\n",
    "\n",
    "---\n",
    "\n",
    "\n",
    "In class, you've seen how to build a neural network in Keras. This lab is intended to help you understand exactly how a neural network is built and understand the math behind it. We will walk through the process of building a *very* simple neural network by hand.\n",
    "\n",
    "Let's start at the beginning. In general, a forward pass through a neural network works like this:\n",
    "1. Take our inputs and multiply each input by a weight.\n",
    "2. Add all of the results from step 1 together.\n",
    "3. Add a bias to the result from step 2.\n",
    "4. Pass the value from step 3 through an activation function.\n",
    "5. This is now passed to the next layer.\n",
    "\n",
    "![](./images/perceptron.jpeg)\n",
    "\n",
    "([*image source*](https://www.kdnuggets.com/2016/10/beginners-guide-neural-networks-python-scikit-learn.html))\n",
    "\n",
    "Let's code a simple one-layer neural network together!\n",
    "\n",
    "**The ONLY Python libraries you will need/can use in this lab are numpy and matplotlib!**"
   ]
  },
  {
   "cell_type": "code",
   "execution_count": 552,
   "metadata": {},
   "outputs": [],
   "source": [
    "# import numpy and matplotlib - this is all you will need for this lab!\n",
    "import numpy as np\n",
    "import matplotlib.pyplot as plt\n",
    "\n",
    "# Set a random seed\n",
    "np.random.seed(123)"
   ]
  },
  {
   "cell_type": "markdown",
   "metadata": {},
   "source": [
    "**Problem 1:** Let's write a function called `update` that takes an array of our inputs, multiplies these by their weights, and sums them together with a bias. We will start with random initialization of our weights and bias. For simplicity, the network we will build will just have 2 inputs.\n",
    "\n",
    "For example,\n",
    "```python\n",
    "inputs = np.array([12, 4])\n",
    "weights = np.array([1, 2])\n",
    "bias = 1\n",
    "\n",
    "update(inputs, weights, bias)\n",
    "```\n",
    "Should return:\n",
    "```python\n",
    "21\n",
    "```\n",
    "\n",
    "Since: $ (12*1) + (4*2) + 1 = 21 $\n"
   ]
  },
  {
   "cell_type": "code",
   "execution_count": 553,
   "metadata": {},
   "outputs": [],
   "source": [
    "# Inputs and initial weights/bias:\n",
    "\n",
    "inputs = np.array([12, 4])\n",
    "weights = np.array([1, 2])\n",
    "bias = 1"
   ]
  },
  {
   "cell_type": "code",
   "execution_count": 554,
   "metadata": {},
   "outputs": [
    {
     "data": {
      "text/plain": [
       "20"
      ]
     },
     "execution_count": 554,
     "metadata": {},
     "output_type": "execute_result"
    }
   ],
   "source": [
    "sum(inputs * weights)"
   ]
  },
  {
   "cell_type": "code",
   "execution_count": 555,
   "metadata": {},
   "outputs": [],
   "source": [
    "# Answer:\n",
    "\n",
    "def update(inputs, weights, bias):\n",
    "    return sum(inputs * weights) + bias"
   ]
  },
  {
   "cell_type": "code",
   "execution_count": 556,
   "metadata": {},
   "outputs": [
    {
     "data": {
      "text/plain": [
       "21"
      ]
     },
     "execution_count": 556,
     "metadata": {},
     "output_type": "execute_result"
    }
   ],
   "source": [
    "update(inputs, weights, bias)"
   ]
  },
  {
   "cell_type": "markdown",
   "metadata": {},
   "source": [
    "**Problem 2:** Now, let's code our activation function. For best performance, we often use ReLU as our activation function in hidden layers. Graphically, this looks like:\n",
    "\n",
    "![](./images/relu.png)\n",
    "\n",
    "([*image source*](https://medium.com/@danqing/a-practical-guide-to-relu-b83ca804f1f7))\n",
    "\n",
    "And can be written as:\n",
    "\n",
    "$$\n",
    "f(x) = \\left\\{\\begin{matrix}\n",
    "0 \\text{  for  } x<0\\\\\n",
    "x \\text{  for  } x\\geq 0\n",
    "\\end{matrix}\\right.\n",
    "$$\n",
    "\n",
    "Write a function called `relu` that takes in a value and returns the value after it has been passed through the ReLU function.\n",
    "\n",
    "For example,\n",
    "```python\n",
    "relu(-3)\n",
    "```\n",
    "Should return:\n",
    "```python\n",
    "0\n",
    "```\n",
    "Since $-3 < 0$, and\n",
    "```python\n",
    "relu(3)\n",
    "```\n",
    "Should return:\n",
    "```python\n",
    "3\n",
    "```\n",
    "Since $3 \\geq 0$."
   ]
  },
  {
   "cell_type": "code",
   "execution_count": 557,
   "metadata": {},
   "outputs": [],
   "source": [
    "# # Answer:\n",
    "\n",
    "# def relu(num):\n",
    "#     return num * (num > 0)"
   ]
  },
  {
   "cell_type": "code",
   "execution_count": 558,
   "metadata": {},
   "outputs": [],
   "source": [
    "def relu(num):\n",
    "    if num < 0:\n",
    "        return 0\n",
    "    else:\n",
    "        return num"
   ]
  },
  {
   "cell_type": "code",
   "execution_count": 559,
   "metadata": {},
   "outputs": [
    {
     "data": {
      "text/plain": [
       "0"
      ]
     },
     "execution_count": 559,
     "metadata": {},
     "output_type": "execute_result"
    }
   ],
   "source": [
    "relu(-3)"
   ]
  },
  {
   "cell_type": "code",
   "execution_count": 560,
   "metadata": {},
   "outputs": [
    {
     "data": {
      "text/plain": [
       "3"
      ]
     },
     "execution_count": 560,
     "metadata": {},
     "output_type": "execute_result"
    }
   ],
   "source": [
    "relu(3)"
   ]
  },
  {
   "cell_type": "markdown",
   "metadata": {},
   "source": [
    "**Problem 3:** Now, let's code our activation function for our output layer! Let's assume we are building a neural network for a regression problem. What activation function should we use?"
   ]
  },
  {
   "cell_type": "markdown",
   "metadata": {},
   "source": [
    "> Answer: \n",
    "\n",
    "`No activation as it is regression`\n"
   ]
  },
  {
   "cell_type": "markdown",
   "metadata": {},
   "source": [
    "**Problem 4:** Write a function called `output_activation` that takes in a value and passes it through the activation function you decided on in problem 3."
   ]
  },
  {
   "cell_type": "code",
   "execution_count": 561,
   "metadata": {},
   "outputs": [],
   "source": [
    "# Answer:\n",
    "\n",
    "def output_activation(input):\n",
    "    return input"
   ]
  },
  {
   "cell_type": "markdown",
   "metadata": {},
   "source": [
    "**Problem 5**: Put it together! We will use the functions we wrote above to build a simple neural network to predict the price of a home given home size and quality on a scale of 1-5. For simplicity, we will build a network with one hidden layer with only one node.\n",
    "\n",
    "Our general network architecture will look like this:\n",
    "\n",
    "![](./images/network_drawing.png)\n",
    "\n",
    "The simple data we will work with is given here:\n",
    "\n",
    "| square_feet | quality | price |\n",
    "| --- | --- | --- |\n",
    "| 1750 | 3 | \\$250,000 |\n",
    "| 2500 | 4 | \\$600,000 |\n",
    "| 4320 | 5 | \\$895,000 |\n",
    "| 1300 | 1 | \\$195,000 |\n",
    "\n",
    "We will normalize our data to ensure all values are between 0 and 1. This will help our neural network converge and ensure that we do not lose any weights during the fitting process (since any negative values will be set to 0 when they are passed through the ReLU function):"
   ]
  },
  {
   "cell_type": "code",
   "execution_count": 562,
   "metadata": {},
   "outputs": [],
   "source": [
    "# Put data from above into a numpy array for modeling\n",
    "\n",
    "housing_data = np.array([[1750, 3, 250_000],\n",
    "                        [2500, 4, 600_000],\n",
    "                        [4320, 5, 895_000],\n",
    "                        [1300, 1, 195_000]])"
   ]
  },
  {
   "cell_type": "code",
   "execution_count": 563,
   "metadata": {},
   "outputs": [],
   "source": [
    "# Split housing data into X & y\n",
    "X = housing_data[:,[0,1]]\n",
    "y = housing_data[:,2]\n",
    "\n",
    "# Normalize each column by scaling all values into the range [0, 1]\n",
    "#   - Avoids negative values for ReLU, which would prevent weight updates\n",
    "#   - ptp: peak-to-peak, i.e. the range of each column (max - min)\n",
    "X_scaled = (X - X.min(axis=0)) / X.ptp(axis=0)\n",
    "\n",
    "# Normalize y identically\n",
    "#    - Ensures the weights do not have to be enormously adjusted with a huge learning rate\n",
    "y_scaled = (y - y.min()) / y.ptp()"
   ]
  },
  {
   "cell_type": "markdown",
   "metadata": {},
   "source": [
    "For simplicity, we will only use **one observation** of our data to start!\n",
    "\n",
    "| square_feet | quality | price |\n",
    "| --- | --- | --- |\n",
    "| 1750 | 3 | \\$250,000 |"
   ]
  },
  {
   "cell_type": "code",
   "execution_count": 564,
   "metadata": {},
   "outputs": [],
   "source": [
    "# Save the first row of the dataset for simplicity\n",
    "\n",
    "X_scaled_simple = X_scaled[0,:]\n",
    "y_simple = y_scaled[0]"
   ]
  },
  {
   "cell_type": "code",
   "execution_count": 565,
   "metadata": {},
   "outputs": [
    {
     "data": {
      "text/plain": [
       "array([0.14900662, 0.5       ])"
      ]
     },
     "execution_count": 565,
     "metadata": {},
     "output_type": "execute_result"
    }
   ],
   "source": [
    "X_scaled_simple"
   ]
  },
  {
   "cell_type": "markdown",
   "metadata": {},
   "source": [
    "Now we will run this through our network!\n",
    "\n",
    "To do this, pass the `X_scaled_simple` data, `w1` and `w1` from the given weights vector, and `b1` from the given bias vector into your `update` function. Save the returned array as `sum1`.\n",
    "\n",
    "We will use randomly generated weights and bias to start."
   ]
  },
  {
   "cell_type": "code",
   "execution_count": 566,
   "metadata": {},
   "outputs": [],
   "source": [
    "# Initialize random weights and biases\n",
    "# We need 3 weights and 2 biases\n",
    "# If you are unsure why this is, go back to\n",
    "# the picture of the network architecture above!\n",
    "\n",
    "# # Weights & bias vectors (positive to avoid reLU zeroing out)\n",
    "# weights = np.abs(np.random.normal(size=3))  # [w1, w2, w3]\n",
    "# biases = np.abs(np.random.normal(size=2))   # [b1, b2]"
   ]
  },
  {
   "cell_type": "code",
   "execution_count": 567,
   "metadata": {},
   "outputs": [],
   "source": [
    "weights = [0.3190391 , 0.24937038, 1.46210794]\n",
    "biases = [2.06014071, 0.3224172 ]"
   ]
  },
  {
   "cell_type": "code",
   "execution_count": 568,
   "metadata": {},
   "outputs": [
    {
     "data": {
      "text/plain": [
       "array([0.14900662, 0.5       ])"
      ]
     },
     "execution_count": 568,
     "metadata": {},
     "output_type": "execute_result"
    }
   ],
   "source": [
    "X_scaled_simple"
   ]
  },
  {
   "cell_type": "code",
   "execution_count": 569,
   "metadata": {},
   "outputs": [
    {
     "data": {
      "text/plain": [
       "2.232364838741722"
      ]
     },
     "execution_count": 569,
     "metadata": {},
     "output_type": "execute_result"
    }
   ],
   "source": [
    "# Get sum1:\n",
    "# Answer:\n",
    "\n",
    "sum1 = update(X_scaled_simple, weights[0:2], biases[0])\n",
    "sum1"
   ]
  },
  {
   "cell_type": "markdown",
   "metadata": {},
   "source": [
    "**Problem 6:** Apply your hidden layer activation function `relu` to your `sum1`. Save the result of this as `out1`."
   ]
  },
  {
   "cell_type": "code",
   "execution_count": 570,
   "metadata": {},
   "outputs": [
    {
     "data": {
      "text/plain": [
       "2.232364838741722"
      ]
     },
     "execution_count": 570,
     "metadata": {},
     "output_type": "execute_result"
    }
   ],
   "source": [
    "# Get out1:\n",
    "# Answer:\n",
    "\n",
    "out1 = output_activation(relu(sum1))\n",
    "out1"
   ]
  },
  {
   "cell_type": "markdown",
   "metadata": {},
   "source": [
    "**Problem 7**: We will now pass the output from the hidden layer to our output layer. To do this:\n",
    "1. Pass the `out1` result, `w3` from the given weights vector, and `b2` from the given bias vector through your `update` function. Save the result as `sum2`.\n",
    "2. Apply your output layer activation function `output_activation` to your `sum2`. Save the result of this as `out2`. This is our prediction of the price of that first home!\n",
    "\n",
    "*Hint: Your `update` function takes in an array instead of just a single number! You may have to convert `out1` to an array before running it through your `update` function!*"
   ]
  },
  {
   "cell_type": "markdown",
   "metadata": {},
   "source": [
    "For example,\n",
    "```python\n",
    "inputs = np.array([12, 4])\n",
    "weights = np.array([1, 2])\n",
    "bias = 1\n",
    "\n",
    "update(inputs, weights, bias)\n",
    "```\n",
    "Should return:\n",
    "```python\n",
    "21\n",
    "```\n",
    "\n",
    "Since: $ (12*1) + (4*2) + 1 = 21 $"
   ]
  },
  {
   "cell_type": "code",
   "execution_count": 571,
   "metadata": {},
   "outputs": [
    {
     "data": {
      "text/plain": [
       "3.5863755557010912"
      ]
     },
     "execution_count": 571,
     "metadata": {},
     "output_type": "execute_result"
    }
   ],
   "source": [
    "# Get sum2 and out2:\n",
    "# Answer:\n",
    "\n",
    "sum2 = update(np.array([out1]), weights[2], biases[1])\n",
    "sum2"
   ]
  },
  {
   "cell_type": "code",
   "execution_count": 572,
   "metadata": {},
   "outputs": [
    {
     "data": {
      "text/plain": [
       "3.5863755557010912"
      ]
     },
     "execution_count": 572,
     "metadata": {},
     "output_type": "execute_result"
    }
   ],
   "source": [
    "out2 = output_activation(relu(sum2))\n",
    "out2"
   ]
  },
  {
   "cell_type": "markdown",
   "metadata": {},
   "source": [
    "**Problem 8**: Put it together! Write a function called `forward` that goes through a complete forward pass (combines all of your steps from problems 5-7). This function should take in a row of the data, weights, and biases and:\n",
    "1. Calculates `sum1`: the result of passing the row of data, the weights, and the bias through your `update` function.\n",
    "2. Calculates `out1`: the result of applying your hidden layer activation function `relu` to your `sum1` result from step 1.\n",
    "3. Calculates `sum2`: the result of passing `out1`, the weights, and the bias through your `update` function.\n",
    "4. Calculates `out2`: the result of applying your output layer activation function `output_activation` to your `sum2` result from step 3.\n",
    "5. Returns `sum1`, `out1`, `sum2`, and `out2`!\n",
    "\n",
    "You have now written a function that completes one forward pass through our neural network! To check your work, you should get the same results from problems 5-7 here (assuming you are using the same randomly generated weights and biases vectors)!"
   ]
  },
  {
   "cell_type": "code",
   "execution_count": 573,
   "metadata": {},
   "outputs": [],
   "source": [
    "# # Answer:\n",
    "\n",
    "# def forward(X_scaled_simple, weights, bias):\n",
    "#     sum1 = update(X_scaled_simple, weights[0:2], bias[0])\n",
    "#     out1 = output_activation(relu(sum1))\n",
    "#     sum2 = update(np.array(out1), weights[2:3], bias[1])\n",
    "#     out2 = output_activation(relu(sum2))\n",
    "\n",
    "#     return np.array([sum1,out1,sum2,out2])"
   ]
  },
  {
   "cell_type": "code",
   "execution_count": 574,
   "metadata": {},
   "outputs": [],
   "source": [
    "weights = [0.3190391 , 0.24937038, 1.46210794]\n",
    "biases = [2.06014071, 0.3224172 ]"
   ]
  },
  {
   "cell_type": "code",
   "execution_count": 575,
   "metadata": {},
   "outputs": [
    {
     "data": {
      "text/plain": [
       "array([0.14900662, 0.5       ])"
      ]
     },
     "execution_count": 575,
     "metadata": {},
     "output_type": "execute_result"
    }
   ],
   "source": [
    "X_scaled_simple"
   ]
  },
  {
   "cell_type": "code",
   "execution_count": 576,
   "metadata": {},
   "outputs": [],
   "source": [
    "def forward(scaled_dat, weights, bias):\n",
    "    sum1=update(scaled_dat, weights[0:2], bias[0])\n",
    "    out1=relu(sum1)\n",
    "    sum2 = update(np.array(out1), weights[2:3], bias[1])\n",
    "    out2 = output_activation(sum2)\n",
    "    return np.array([sum1, out1, sum2, out2])"
   ]
  },
  {
   "cell_type": "code",
   "execution_count": 577,
   "metadata": {},
   "outputs": [
    {
     "data": {
      "text/plain": [
       "array([2.23236484, 2.23236484, 3.58637556, 3.58637556])"
      ]
     },
     "execution_count": 577,
     "metadata": {},
     "output_type": "execute_result"
    }
   ],
   "source": [
    "forward(X_scaled_simple, weights, biases)"
   ]
  },
  {
   "cell_type": "markdown",
   "metadata": {},
   "source": [
    "**Problem 9:** Now, we need to quantify our loss. Since this is a regression problem, we will use the mean squared error (MSE) loss, which can be written as:\n",
    "\n",
    "$$\n",
    "MSE = \\frac{1}{n}\\sum_{i=1}^{n}(y_{true}-y_{pred})^2 \n",
    "$$\n",
    "\n",
    "Write a function called `mse` that takes in two arrays, `y_true` and `y_pred` and returns the mean squared error."
   ]
  },
  {
   "cell_type": "code",
   "execution_count": 578,
   "metadata": {},
   "outputs": [],
   "source": [
    "# # Loss function:\n",
    "# # Answer:\n",
    "\n",
    "# def mse(y_true,y_pred):\n",
    "#     n = y_true.shape[0]\n",
    "#     return (1/n) * sum((y_true - y_pred)**2)\n",
    "    "
   ]
  },
  {
   "cell_type": "code",
   "execution_count": 579,
   "metadata": {},
   "outputs": [],
   "source": [
    "def mse(y_true, y_pred):\n",
    "    return np.square(np.subtract(y_true,y_pred)).mean() "
   ]
  },
  {
   "cell_type": "markdown",
   "metadata": {},
   "source": [
    "Now, find the mean squared error between your `out2` (y_pred) and `y_simple` (y_true). Since your function took in arrays and we are just working with one example for now, we will convert these values to arrays of length 1."
   ]
  },
  {
   "cell_type": "code",
   "execution_count": 580,
   "metadata": {},
   "outputs": [],
   "source": [
    "# Convert y_simple and out2 to arrays to use in function:\n",
    "\n",
    "y_simple = np.array([y_simple])\n",
    "output = np.array([out2])"
   ]
  },
  {
   "cell_type": "code",
   "execution_count": 581,
   "metadata": {},
   "outputs": [
    {
     "data": {
      "text/plain": [
       "12.304689794307894"
      ]
     },
     "execution_count": 581,
     "metadata": {},
     "output_type": "execute_result"
    }
   ],
   "source": [
    "mse(y_simple, output)"
   ]
  },
  {
   "cell_type": "markdown",
   "metadata": {},
   "source": [
    "How is your model doing? Probably very bad! This is where the magic happens: backpropagation. Backpropagation is the process of using gradient descent to update our weights and biases in order to try to minimize the loss function (mean squared error in this case). Check out the gradient descent lesson if you need a reminder on how this works.\n",
    "\n",
    "We will be using the terms $w_1$, $h_1$, $w_3$, etc. for this next part. Here is a reminder of our network that labels all of the weights with these terms. As a simple example, we will work our way backwards through one portion of the network to update $w_1$ (through $o_1$ (predicted price), $w_3$, and $h_1$).\n",
    "\n",
    "![](./images/network_drawing.png)\n",
    "\n",
    "We can define our new weights (and biases) using gradient descent. Again, for simplicity we will just work through updating $w_1$:\n",
    "\n",
    "$$\n",
    "w_1 \\leftarrow w_1 - \\lambda \\frac{\\partial L}{\\partial w_1}\n",
    "$$\n",
    "\n",
    "Since we work backwards through our network with multiple variables, we calculate the derivative of the loss with respect to $w_1$ ($ \\frac{\\partial L}{\\partial w_1} $) using [partial derivatives](https://www.khanacademy.org/math/multivariable-calculus/multivariable-derivatives/partial-derivative-and-gradient-articles/a/introduction-to-partial-derivatives):\n",
    "\n",
    "$$\n",
    "\\frac{\\partial L}{\\partial w_1} = \\frac{\\partial L}{\\partial y_{pred}} * \\frac{\\partial y_{pred}}{\\partial h_1} * \\frac{\\partial h_1}{\\partial w_1}\n",
    "$$\n",
    "\n",
    "Where $L$ is the loss, $w_1$ is the first weight, $h_1$ is the output from the first hidden layer, and $y_{pred}$ is the predicted value of y.\n",
    "\n",
    "For those of you familiar with calculus, feel free to try to compute these partial derivatives on your own! For those of you not as familiar, I will give you each of these for our scenario. Remember, we are using MSE as our loss function and ReLU as our hidden layer activation function:\n",
    "\n",
    "$$\n",
    "\\frac{\\partial L}{\\partial y_{pred}} = -2(y_{true}-y_{pred})\n",
    "$$\n",
    "\n",
    "$$\n",
    "\\frac{\\partial y_{pred}}{\\partial h_1} = w_3*f'(w_3h_1+b_2)\n",
    "$$\n",
    "\n",
    "$$\n",
    "\\frac{\\partial h_1}{\\partial w_1} = x_1*f'(w_1x_1+w_2x_2+b_1)\n",
    "$$\n",
    "\n",
    "Where $f'$ is the derivative of the ReLU function:\n",
    "\n",
    "$$\n",
    "f'(x) = \\left\\{\\begin{matrix}\n",
    "0 \\text{  for  } x<0\\\\\n",
    "1 \\text{  for  } x\\geq 0\n",
    "\\end{matrix}\\right.\n",
    "$$\n",
    "\n",
    "These last two work because of the [chain rule](https://www.khanacademy.org/math/ap-calculus-ab/ab-differentiation-2-new/ab-3-1a/a/chain-rule-review).\n",
    "\n",
    "We now have all the pieces to update our weights and biases! We are technically using stochastic gradient descent to update our weights and biases here, since we only operate on one sample at a time. The general process for backpropagation will be:\n",
    "1. Select one sample from our dataset.\n",
    "2. Calculate the partial derivatives.\n",
    "3. Use the equation from gradient descent to update each weight and bias ($w_1 \\leftarrow w_1 - \\lambda \\frac{\\partial L}{\\partial w_1}$).\n",
    "4. Repeat for each sample."
   ]
  },
  {
   "cell_type": "markdown",
   "metadata": {},
   "source": [
    "**Problem 10:** Write a function called `relu_deriv` that is the derivative of the ReLU function:\n",
    "\n",
    "$$\n",
    "f'(x) = \\left\\{\\begin{matrix}\n",
    "0 \\text{  for  } x<0\\\\\n",
    "1 \\text{  for  } x\\geq 0\n",
    "\\end{matrix}\\right.\n",
    "$$\n",
    "\n",
    "This function should take in an input and return the derivative of the ReLU function at that input."
   ]
  },
  {
   "cell_type": "code",
   "execution_count": 582,
   "metadata": {},
   "outputs": [],
   "source": [
    "# # Derivative of ReLU:\n",
    "# # Answer:\n",
    "\n",
    "# def relu_deriv(num):\n",
    "#     return 1 * (num > 0)"
   ]
  },
  {
   "cell_type": "code",
   "execution_count": 583,
   "metadata": {},
   "outputs": [],
   "source": [
    "def relu_deriv(num):\n",
    "    if num < 0:\n",
    "        return 0\n",
    "    else:\n",
    "        return 1"
   ]
  },
  {
   "cell_type": "markdown",
   "metadata": {},
   "source": [
    "### Putting it all together\n",
    "\n",
    "We are now ready to create a neural network from scratch! \n",
    "\n",
    "Again, for simplicity all we will do right now is write code that updates $w_1$ to start. (In order to actually minimize our loss function, we will need to expand this to update $w_2$, $w_3$, $b_1$, and $b_2$ as well. We will do this later on.)\n",
    "\n",
    "![](./images/network_drawing.png)\n",
    "\n",
    "*Note*: this is definitely not going to find an optimal model since this is an extremely simplified example. Hopefully you have developed more of an appreciation for Keras!\n",
    "\n",
    "**Problem 11:** Write a function called `update_weights` that takes in your X data, y data, weights, biases, and a learning rate ($\\lambda$) in order to update the weights using gradient descent. This function should:\n",
    "1. Go through one forward pass of your network to generate a prediction (use your `forward` function here) for each row in your dataset.\n",
    "2. Goes through the process of backpropagation to find $\\frac{\\partial L}{\\partial w_1}$: $\\frac{\\partial L}{\\partial w_1} = \\frac{\\partial L}{\\partial y_{pred}} * \\frac{\\partial y_{pred}}{\\partial h_1} * \\frac{\\partial h_1}{\\partial w_1}$ (this code is given for you).\n",
    "3. Updates $w_1$ using gradient descent ($w_1 \\leftarrow w_1 - \\lambda \\frac{\\partial L}{\\partial w_1}$).\n",
    "4. Calculates the loss.\n",
    "5. Returns the loss.\n",
    "\n",
    "Comments and starter code is given to help you work through this problem!"
   ]
  },
  {
   "cell_type": "code",
   "execution_count": 584,
   "metadata": {},
   "outputs": [
    {
     "data": {
      "text/plain": [
       "array([2.23236484, 2.23236484, 3.58637556, 3.58637556])"
      ]
     },
     "execution_count": 584,
     "metadata": {},
     "output_type": "execute_result"
    }
   ],
   "source": [
    "forward(X_scaled_simple, weights, biases)"
   ]
  },
  {
   "cell_type": "code",
   "execution_count": 596,
   "metadata": {},
   "outputs": [],
   "source": [
    "def update_weights(X, y_true, weights, biases, learning_rate):\n",
    "    \"\"\" Updates the weight values. Returns the resulting loss. \"\"\"\n",
    "    \n",
    "    # Initialize prediction array with 0's\n",
    "    y_preds = np.zeros_like(y_true)\n",
    "    \n",
    "    # loop through each row in the dataset\n",
    "    for i, (row,y_actual) in enumerate(zip(X, y_true)):\n",
    "        # TO DO: get values for sum1, out1, sum2, and out2 using your forward function\n",
    "        sum1,out1,sum2,out2 = forward(row,weights,biases)\n",
    "        \n",
    "        # TO DO: save out2 as the corresponding position in y_pred\n",
    "        y_preds[i] = out2\n",
    "\n",
    "        # Backpropagation\n",
    "        dl_dypred = 2 * (out2 - y_actual)\n",
    "        dypred_dh1 = weights[2] * relu_deriv(sum2)\n",
    "        dh1_dw1 = row[0] * relu_deriv(sum1)\n",
    "\n",
    "        # TO DO: use gradient descent to update w1\n",
    "        weights[0] -= learning_rate * dl_dypred * dypred_dh1 * dh1_dw1\n",
    "        print(weights)\n",
    "    # TO DO: calculate loss\n",
    "    loss = mse(y_true,y_preds)\n",
    "    \n",
    "    # TO DO: return the loss\n",
    "    return loss"
   ]
  },
  {
   "cell_type": "code",
   "execution_count": 586,
   "metadata": {},
   "outputs": [],
   "source": [
    "# def update_weights(X, y_true, weights, biases, learning_rate):\n",
    "#     \"\"\" Updates the weight values. Returns the resulting loss. \"\"\"\n",
    "    \n",
    "#     # Initialize prediction array with 0's\n",
    "#     y_preds = np.zeros_like(y_true)\n",
    "    \n",
    "#     # loop through each row in the dataset\n",
    "#     for i, (row,y_actual) in enumerate(zip(X, y_true)):\n",
    "#         # TO DO: get values for sum1, out1, sum2, and out2 using your forward function\n",
    "#         sum1,out1,sum2,out2 = forward(X, weights, biases)\n",
    "        \n",
    "#         # TO DO: save out2 as the corresponding position in y_pred\n",
    "#         y_preds[i] = out2\n",
    "\n",
    "#         # Backpropagation\n",
    "#         dl_dypred = 2 * (out2 - y_actual)\n",
    "#         dypred_dh1 = weights[2] * relu_deriv(sum2)\n",
    "#         dh1_dw1 = row[0] * relu_deriv(sum1)\n",
    "\n",
    "#         # TO DO: use gradient descent to update w1\n",
    "#         weights[0] -= dl_dypred*dypred_dh1*dh1_dw1*learning_rate\n",
    "    \n",
    "#     # TO DO: calculate loss\n",
    "#     loss = mse(y_true, y_preds)\n",
    "    \n",
    "#     # TO DO: return the loss\n",
    "#     return loss"
   ]
  },
  {
   "cell_type": "code",
   "execution_count": 601,
   "metadata": {},
   "outputs": [
    {
     "name": "stdout",
     "output_type": "stream",
     "text": [
      "[-0.05557869407125275, 0.004347907201697416, 0.5406787635235273]\n",
      "[-0.05621949295675986, 0.004347907201697416, 0.5406787635235273]\n",
      "[-0.04833142634117117, 0.004347907201697416, 0.5406787635235273]\n",
      "[-0.04833142634117117, 0.004347907201697416, 0.5406787635235273]\n"
     ]
    },
    {
     "data": {
      "text/plain": [
       "0.22920677920801674"
      ]
     },
     "execution_count": 601,
     "metadata": {},
     "output_type": "execute_result"
    }
   ],
   "source": [
    "update_weights(X_scaled, y_scaled, weights, biases, learning_rate = 0.02)"
   ]
  },
  {
   "cell_type": "markdown",
   "metadata": {},
   "source": [
    "Congrats! You've updated $w_1$ using gradient descent and returned your loss! Now, lets put this all together to update $w_1$ in our network to actually train our model. Since this is challenging, this function is given for you. As long as you have successfully completed the problems up to this point, your neural network should work and we can actually train our model!\n",
    "\n",
    "The first function is called `plot_predictions` and allows us to visualize how our model is doing by plotting the loss via gradient descent and the difference between the true square footage and our model's predictions.\n",
    "\n",
    "The second function is called `train` and trains our model by taking in your X data, y data, a learning rate, and a certain number of epochs. For each epoch, the network:\n",
    "1. Goes through a forward pass using your `forward` function.\n",
    "2. Goes through a backward pass to calculate the loss using your `update_weights` function.\n",
    "3. Uses the `plot_predictions` function to visualize how our model is doing!\n",
    "4. Repeats steps 1-3 for the given number of epochs."
   ]
  },
  {
   "cell_type": "code",
   "execution_count": 588,
   "metadata": {},
   "outputs": [],
   "source": [
    "def plot_predictions(X, y_true, weights, biases):\n",
    "    # Loss scatter plot titles\n",
    "    plt.title('Loss via Gradient Descent')\n",
    "    plt.xlabel('Epoch')\n",
    "    plt.ylabel('Loss')\n",
    "    \n",
    "    # Side-by-side prediction plots\n",
    "    fig, ax = plt.subplots(1, 2, sharey=True)\n",
    "    fig.suptitle('Actual (blue) vs. predicted (orange)')\n",
    "    ax[0].set_ylabel('price (normalized)')\n",
    "    ax[0].set_xlabel('square feet (normalized)')\n",
    "    ax[1].set_xlabel('quality (normalized)')\n",
    "    \n",
    "    # Display each predicted value\n",
    "    for i, (row, y_actual) in enumerate(zip(X, y_true)):\n",
    "        *_, y_pred = forward(row, weights, biases)\n",
    "        ax[0].scatter(row[0], y_pred, c='orange')\n",
    "        ax[0].scatter(row[0], y_actual, c='b')\n",
    "        ax[1].scatter(row[1], y_pred, c='orange')\n",
    "        ax[1].scatter(row[1], y_actual, c='b')"
   ]
  },
  {
   "cell_type": "code",
   "execution_count": 589,
   "metadata": {},
   "outputs": [],
   "source": [
    "# create code for training\n",
    "def train(X, y_true, learning_rate, epochs):\n",
    "    \"\"\" Initialize and train netork for given epochs.\"\"\"\n",
    "    \n",
    "    # Initialize random weights and biases:\n",
    "    weights = np.abs(np.random.normal(size=3))  # [w1, w2, w3]\n",
    "    biases = np.abs(np.random.normal(size=2))   # [b1, b2]\n",
    "    \n",
    "    for epoch in range(epochs):\n",
    "        # Forward pass + Backpropagation + Gradient Descent\n",
    "        loss = update_weights(X, y_true, weights, biases, learning_rate)\n",
    "      \n",
    "        #print(f'Loss at epoch {epoch}: {loss}')\n",
    "        plt.scatter(epoch, loss, c='b')\n",
    "    \n",
    "    print('Final loss:', loss)\n",
    "    plot_predictions(X, y_true, weights, biases)"
   ]
  },
  {
   "cell_type": "markdown",
   "metadata": {},
   "source": [
    "Now run the `train` function on the `X_scaled` and `y_scaled` data! Your loss should be decreasing each epoch, but this will be a sub-optimal model since we are only updating $w_1$ for now."
   ]
  },
  {
   "cell_type": "code",
   "execution_count": 590,
   "metadata": {
    "scrolled": true
   },
   "outputs": [
    {
     "name": "stdout",
     "output_type": "stream",
     "text": [
      "[1.0837531  0.99734545 0.2829785 ]\n",
      "[1.08033574 0.99734545 0.2829785 ]\n",
      "[1.07362589 0.99734545 0.2829785 ]\n",
      "[1.07362589 0.99734545 0.2829785 ]\n",
      "[1.07174924 0.99734545 0.2829785 ]\n",
      "[1.06833795 0.99734545 0.2829785 ]\n",
      "[1.06166652 0.99734545 0.2829785 ]\n",
      "[1.06166652 0.99734545 0.2829785 ]\n",
      "[1.05979073 0.99734545 0.2829785 ]\n",
      "[1.05638548 0.99734545 0.2829785 ]\n",
      "[1.04975234 0.99734545 0.2829785 ]\n",
      "[1.04975234 0.99734545 0.2829785 ]\n",
      "[1.04787739 0.99734545 0.2829785 ]\n",
      "[1.04447817 0.99734545 0.2829785 ]\n",
      "[1.03788317 0.99734545 0.2829785 ]\n",
      "[1.03788317 0.99734545 0.2829785 ]\n",
      "[1.03600907 0.99734545 0.2829785 ]\n",
      "[1.03261585 0.99734545 0.2829785 ]\n",
      "[1.02605885 0.99734545 0.2829785 ]\n",
      "[1.02605885 0.99734545 0.2829785 ]\n",
      "[1.02418559 0.99734545 0.2829785 ]\n",
      "[1.02079835 0.99734545 0.2829785 ]\n",
      "[1.01427919 0.99734545 0.2829785 ]\n",
      "[1.01427919 0.99734545 0.2829785 ]\n",
      "[1.01240677 0.99734545 0.2829785 ]\n",
      "[1.00902549 0.99734545 0.2829785 ]\n",
      "[1.00254404 0.99734545 0.2829785 ]\n",
      "[1.00254404 0.99734545 0.2829785 ]\n",
      "[1.00067245 0.99734545 0.2829785 ]\n",
      "[0.99729711 0.99734545 0.2829785 ]\n",
      "[0.99085323 0.99734545 0.2829785 ]\n",
      "[0.99085323 0.99734545 0.2829785 ]\n",
      "[0.98898247 0.99734545 0.2829785 ]\n",
      "[0.98561304 0.99734545 0.2829785 ]\n",
      "[0.97920659 0.99734545 0.2829785 ]\n",
      "[0.97920659 0.99734545 0.2829785 ]\n",
      "[0.97733666 0.99734545 0.2829785 ]\n",
      "[0.97397311 0.99734545 0.2829785 ]\n",
      "[0.96760394 0.99734545 0.2829785 ]\n",
      "[0.96760394 0.99734545 0.2829785 ]\n",
      "[0.96573484 0.99734545 0.2829785 ]\n",
      "[0.96237716 0.99734545 0.2829785 ]\n",
      "[0.95604513 0.99734545 0.2829785 ]\n",
      "[0.95604513 0.99734545 0.2829785 ]\n",
      "[0.95417685 0.99734545 0.2829785 ]\n",
      "[0.95082502 0.99734545 0.2829785 ]\n",
      "[0.94452999 0.99734545 0.2829785 ]\n",
      "[0.94452999 0.99734545 0.2829785 ]\n",
      "[0.94266253 0.99734545 0.2829785 ]\n",
      "[0.93931652 0.99734545 0.2829785 ]\n",
      "[0.93305836 0.99734545 0.2829785 ]\n",
      "[0.93305836 0.99734545 0.2829785 ]\n",
      "[0.93119171 0.99734545 0.2829785 ]\n",
      "[0.9278515  0.99734545 0.2829785 ]\n",
      "[0.92163006 0.99734545 0.2829785 ]\n",
      "[0.92163006 0.99734545 0.2829785 ]\n",
      "[0.91976423 0.99734545 0.2829785 ]\n",
      "[0.9164298  0.99734545 0.2829785 ]\n",
      "[0.91024495 0.99734545 0.2829785 ]\n",
      "[0.91024495 0.99734545 0.2829785 ]\n",
      "[0.90837992 0.99734545 0.2829785 ]\n",
      "[0.90505125 0.99734545 0.2829785 ]\n",
      "[0.89890284 0.99734545 0.2829785 ]\n",
      "[0.89890284 0.99734545 0.2829785 ]\n",
      "[0.89703862 0.99734545 0.2829785 ]\n",
      "[0.89371568 0.99734545 0.2829785 ]\n",
      "[0.88760359 0.99734545 0.2829785 ]\n",
      "[0.88760359 0.99734545 0.2829785 ]\n",
      "[0.88574017 0.99734545 0.2829785 ]\n",
      "[0.88242295 0.99734545 0.2829785 ]\n",
      "[0.87634702 0.99734545 0.2829785 ]\n",
      "[0.87634702 0.99734545 0.2829785 ]\n",
      "[0.87448441 0.99734545 0.2829785 ]\n",
      "[0.87117288 0.99734545 0.2829785 ]\n",
      "[0.86513299 0.99734545 0.2829785 ]\n",
      "[0.86513299 0.99734545 0.2829785 ]\n",
      "[0.86327117 0.99734545 0.2829785 ]\n",
      "[0.85996531 0.99734545 0.2829785 ]\n",
      "[0.85396131 0.99734545 0.2829785 ]\n",
      "[0.85396131 0.99734545 0.2829785 ]\n",
      "[0.85210029 0.99734545 0.2829785 ]\n",
      "[0.84880008 0.99734545 0.2829785 ]\n",
      "[0.84283185 0.99734545 0.2829785 ]\n",
      "[0.84283185 0.99734545 0.2829785 ]\n",
      "[0.84097162 0.99734545 0.2829785 ]\n",
      "[0.83767704 0.99734545 0.2829785 ]\n",
      "[0.83174444 0.99734545 0.2829785 ]\n",
      "[0.83174444 0.99734545 0.2829785 ]\n",
      "[0.82988499 0.99734545 0.2829785 ]\n",
      "[0.82659602 0.99734545 0.2829785 ]\n",
      "[0.82069891 0.99734545 0.2829785 ]\n",
      "[0.82069891 0.99734545 0.2829785 ]\n",
      "[0.81884025 0.99734545 0.2829785 ]\n",
      "[0.81555686 0.99734545 0.2829785 ]\n",
      "[0.80969511 0.99734545 0.2829785 ]\n",
      "[0.80969511 0.99734545 0.2829785 ]\n",
      "[0.80783724 0.99734545 0.2829785 ]\n",
      "[0.80455941 0.99734545 0.2829785 ]\n",
      "[0.79873289 0.99734545 0.2829785 ]\n",
      "[0.79873289 0.99734545 0.2829785 ]\n",
      "[0.79687579 0.99734545 0.2829785 ]\n",
      "[0.79360351 0.99734545 0.2829785 ]\n",
      "[0.78781208 0.99734545 0.2829785 ]\n",
      "[0.78781208 0.99734545 0.2829785 ]\n",
      "[0.78595576 0.99734545 0.2829785 ]\n",
      "[0.782689   0.99734545 0.2829785 ]\n",
      "[0.77693253 0.99734545 0.2829785 ]\n",
      "[0.77693253 0.99734545 0.2829785 ]\n",
      "[0.77507699 0.99734545 0.2829785 ]\n",
      "[0.77181573 0.99734545 0.2829785 ]\n",
      "[0.76609408 0.99734545 0.2829785 ]\n",
      "[0.76609408 0.99734545 0.2829785 ]\n",
      "[0.76423931 0.99734545 0.2829785 ]\n",
      "[0.76098353 0.99734545 0.2829785 ]\n",
      "[0.75529659 0.99734545 0.2829785 ]\n",
      "[0.75529659 0.99734545 0.2829785 ]\n",
      "[0.75344258 0.99734545 0.2829785 ]\n",
      "[0.75019226 0.99734545 0.2829785 ]\n",
      "[0.74453988 0.99734545 0.2829785 ]\n",
      "[0.74453988 0.99734545 0.2829785 ]\n",
      "[0.74268664 0.99734545 0.2829785 ]\n",
      "[0.73944176 0.99734545 0.2829785 ]\n",
      "[0.73382382 0.99734545 0.2829785 ]\n",
      "[0.73382382 0.99734545 0.2829785 ]\n",
      "[0.73197134 0.99734545 0.2829785 ]\n",
      "[0.72873188 0.99734545 0.2829785 ]\n",
      "[0.72314824 0.99734545 0.2829785 ]\n",
      "[0.72314824 0.99734545 0.2829785 ]\n",
      "[0.72129652 0.99734545 0.2829785 ]\n",
      "[0.71806246 0.99734545 0.2829785 ]\n",
      "[0.71251299 0.99734545 0.2829785 ]\n",
      "[0.71251299 0.99734545 0.2829785 ]\n",
      "[0.71066203 0.99734545 0.2829785 ]\n",
      "[0.70743334 0.99734545 0.2829785 ]\n",
      "[0.70191792 0.99734545 0.2829785 ]\n",
      "[0.70191792 0.99734545 0.2829785 ]\n",
      "[0.70006771 0.99734545 0.2829785 ]\n",
      "[0.69684439 0.99734545 0.2829785 ]\n",
      "[0.69136289 0.99734545 0.2829785 ]\n",
      "[0.69136289 0.99734545 0.2829785 ]\n",
      "[0.68951343 0.99734545 0.2829785 ]\n",
      "[0.68629544 0.99734545 0.2829785 ]\n",
      "[0.68084772 0.99734545 0.2829785 ]\n",
      "[0.68084772 0.99734545 0.2829785 ]\n",
      "[0.67899901 0.99734545 0.2829785 ]\n",
      "[0.67578634 0.99734545 0.2829785 ]\n",
      "[0.67037229 0.99734545 0.2829785 ]\n",
      "[0.67037229 0.99734545 0.2829785 ]\n",
      "[0.66852432 0.99734545 0.2829785 ]\n",
      "[0.66531695 0.99734545 0.2829785 ]\n",
      "[0.65993643 0.99734545 0.2829785 ]\n",
      "[0.65993643 0.99734545 0.2829785 ]\n",
      "[0.65808921 0.99734545 0.2829785 ]\n",
      "[0.65488711 0.99734545 0.2829785 ]\n",
      "[0.64954    0.99734545 0.2829785 ]\n",
      "[0.64954    0.99734545 0.2829785 ]\n",
      "[0.64769352 0.99734545 0.2829785 ]\n",
      "[0.64449668 0.99734545 0.2829785 ]\n",
      "[0.63918285 0.99734545 0.2829785 ]\n",
      "[0.63918285 0.99734545 0.2829785 ]\n",
      "[0.6373371  0.99734545 0.2829785 ]\n",
      "[0.6341455  0.99734545 0.2829785 ]\n",
      "[0.62886483 0.99734545 0.2829785 ]\n",
      "[0.62886483 0.99734545 0.2829785 ]\n",
      "[0.62701981 0.99734545 0.2829785 ]\n",
      "[0.62383343 0.99734545 0.2829785 ]\n",
      "[0.61858579 0.99734545 0.2829785 ]\n",
      "[0.61858579 0.99734545 0.2829785 ]\n",
      "[0.6167415  0.99734545 0.2829785 ]\n",
      "[0.61356032 0.99734545 0.2829785 ]\n",
      "[0.60834558 0.99734545 0.2829785 ]\n",
      "[0.60834558 0.99734545 0.2829785 ]\n",
      "[0.60650202 0.99734545 0.2829785 ]\n",
      "[0.60332602 0.99734545 0.2829785 ]\n",
      "[0.59814406 0.99734545 0.2829785 ]\n",
      "[0.59814406 0.99734545 0.2829785 ]\n",
      "[0.59630123 0.99734545 0.2829785 ]\n",
      "[0.59313038 0.99734545 0.2829785 ]\n",
      "[0.58798108 0.99734545 0.2829785 ]\n",
      "[0.58798108 0.99734545 0.2829785 ]\n",
      "[0.58613898 0.99734545 0.2829785 ]\n",
      "[0.58297327 0.99734545 0.2829785 ]\n",
      "[0.5778565  0.99734545 0.2829785 ]\n",
      "[0.5778565  0.99734545 0.2829785 ]\n",
      "[0.57601512 0.99734545 0.2829785 ]\n",
      "[0.57285453 0.99734545 0.2829785 ]\n",
      "[0.56777017 0.99734545 0.2829785 ]\n",
      "[0.56777017 0.99734545 0.2829785 ]\n",
      "[0.5659295  0.99734545 0.2829785 ]\n",
      "[0.56277402 0.99734545 0.2829785 ]\n",
      "[0.55772195 0.99734545 0.2829785 ]\n",
      "[0.55772195 0.99734545 0.2829785 ]\n",
      "[0.55588199 0.99734545 0.2829785 ]\n",
      "[0.55273159 0.99734545 0.2829785 ]\n",
      "[0.54771169 0.99734545 0.2829785 ]\n",
      "[0.54771169 0.99734545 0.2829785 ]\n",
      "[0.54587244 0.99734545 0.2829785 ]\n",
      "[0.5427271  0.99734545 0.2829785 ]\n",
      "[0.53773925 0.99734545 0.2829785 ]\n",
      "[0.53773925 0.99734545 0.2829785 ]\n",
      "[0.53590071 0.99734545 0.2829785 ]\n",
      "[0.53276041 0.99734545 0.2829785 ]\n",
      "[0.52780448 0.99734545 0.2829785 ]\n",
      "[0.52780448 0.99734545 0.2829785 ]\n",
      "[0.52596665 0.99734545 0.2829785 ]\n",
      "[0.52283138 0.99734545 0.2829785 ]\n",
      "[0.51790725 0.99734545 0.2829785 ]\n",
      "[0.51790725 0.99734545 0.2829785 ]\n",
      "[0.51607013 0.99734545 0.2829785 ]\n",
      "[0.51293985 0.99734545 0.2829785 ]\n",
      "[0.50804741 0.99734545 0.2829785 ]\n",
      "[0.50804741 0.99734545 0.2829785 ]\n",
      "[0.50621099 0.99734545 0.2829785 ]\n",
      "[0.5030857  0.99734545 0.2829785 ]\n",
      "[0.49822482 0.99734545 0.2829785 ]\n",
      "[0.49822482 0.99734545 0.2829785 ]\n",
      "[0.4963891  0.99734545 0.2829785 ]\n",
      "[0.49326878 0.99734545 0.2829785 ]\n",
      "[0.48843934 0.99734545 0.2829785 ]\n",
      "[0.48843934 0.99734545 0.2829785 ]\n",
      "[0.48660431 0.99734545 0.2829785 ]\n",
      "[0.48348894 0.99734545 0.2829785 ]\n",
      "[0.47869083 0.99734545 0.2829785 ]\n",
      "[0.47869083 0.99734545 0.2829785 ]\n",
      "[0.4768565  0.99734545 0.2829785 ]\n",
      "[0.47374606 0.99734545 0.2829785 ]\n",
      "[0.46897915 0.99734545 0.2829785 ]\n",
      "[0.46897915 0.99734545 0.2829785 ]\n",
      "[0.46714551 0.99734545 0.2829785 ]\n",
      "[0.46403998 0.99734545 0.2829785 ]\n",
      "[0.45930417 0.99734545 0.2829785 ]\n",
      "[0.45930417 0.99734545 0.2829785 ]\n",
      "[0.45747121 0.99734545 0.2829785 ]\n",
      "[0.45437057 0.99734545 0.2829785 ]\n",
      "[0.44966573 0.99734545 0.2829785 ]\n",
      "[0.44966573 0.99734545 0.2829785 ]\n",
      "[0.44783346 0.99734545 0.2829785 ]\n",
      "[0.4447377  0.99734545 0.2829785 ]\n",
      "[0.44006371 0.99734545 0.2829785 ]\n",
      "[0.44006371 0.99734545 0.2829785 ]\n",
      "[0.43823212 0.99734545 0.2829785 ]\n",
      "[0.43514122 0.99734545 0.2829785 ]\n",
      "[0.43049797 0.99734545 0.2829785 ]\n",
      "[0.43049797 0.99734545 0.2829785 ]\n",
      "[0.42866706 0.99734545 0.2829785 ]\n",
      "[0.42558099 0.99734545 0.2829785 ]\n",
      "[0.42096836 0.99734545 0.2829785 ]\n",
      "[0.42096836 0.99734545 0.2829785 ]\n",
      "[0.41913813 0.99734545 0.2829785 ]\n",
      "[0.41605688 0.99734545 0.2829785 ]\n",
      "[0.41147476 0.99734545 0.2829785 ]\n",
      "[0.41147476 0.99734545 0.2829785 ]\n",
      "[0.40964521 0.99734545 0.2829785 ]\n",
      "[0.40656876 0.99734545 0.2829785 ]\n",
      "[0.40201703 0.99734545 0.2829785 ]\n",
      "[0.40201703 0.99734545 0.2829785 ]\n",
      "[0.40018814 0.99734545 0.2829785 ]\n",
      "[0.39711648 0.99734545 0.2829785 ]\n",
      "[0.39259502 0.99734545 0.2829785 ]\n",
      "[0.39259502 0.99734545 0.2829785 ]\n",
      "[0.39076681 0.99734545 0.2829785 ]\n",
      "[0.38769991 0.99734545 0.2829785 ]\n",
      "[0.38320862 0.99734545 0.2829785 ]\n",
      "[0.38320862 0.99734545 0.2829785 ]\n",
      "[0.38138107 0.99734545 0.2829785 ]\n",
      "[0.37831892 0.99734545 0.2829785 ]\n",
      "[0.37385767 0.99734545 0.2829785 ]\n",
      "[0.37385767 0.99734545 0.2829785 ]\n",
      "[0.3720308  0.99734545 0.2829785 ]\n",
      "[0.36897337 0.99734545 0.2829785 ]\n",
      "[0.36454206 0.99734545 0.2829785 ]\n",
      "[0.36454206 0.99734545 0.2829785 ]\n",
      "[0.36271584 0.99734545 0.2829785 ]\n",
      "[0.35966313 0.99734545 0.2829785 ]\n",
      "[0.35526164 0.99734545 0.2829785 ]\n",
      "[0.35526164 0.99734545 0.2829785 ]\n",
      "[0.35343608 0.99734545 0.2829785 ]\n",
      "[0.35038806 0.99734545 0.2829785 ]\n",
      "[0.34601628 0.99734545 0.2829785 ]\n",
      "[0.34601628 0.99734545 0.2829785 ]\n",
      "[0.34419138 0.99734545 0.2829785 ]\n",
      "[0.34114803 0.99734545 0.2829785 ]\n",
      "[0.33680585 0.99734545 0.2829785 ]\n",
      "[0.33680585 0.99734545 0.2829785 ]\n",
      "[0.33498161 0.99734545 0.2829785 ]\n",
      "[0.33194291 0.99734545 0.2829785 ]\n",
      "[0.32763022 0.99734545 0.2829785 ]\n",
      "[0.32763022 0.99734545 0.2829785 ]\n",
      "[0.32580663 0.99734545 0.2829785 ]\n",
      "[0.32277257 0.99734545 0.2829785 ]\n",
      "[0.31848925 0.99734545 0.2829785 ]\n",
      "[0.31848925 0.99734545 0.2829785 ]\n",
      "[0.31666631 0.99734545 0.2829785 ]\n",
      "[0.31363688 0.99734545 0.2829785 ]\n",
      "[0.30938282 0.99734545 0.2829785 ]\n",
      "[0.30938282 0.99734545 0.2829785 ]\n",
      "[0.30756052 0.99734545 0.2829785 ]\n",
      "[0.3045357  0.99734545 0.2829785 ]\n",
      "[0.30031079 0.99734545 0.2829785 ]\n",
      "[0.30031079 0.99734545 0.2829785 ]\n",
      "[0.29848914 0.99734545 0.2829785 ]\n",
      "[0.29546891 0.99734545 0.2829785 ]\n",
      "[0.29127304 0.99734545 0.2829785 ]\n",
      "[0.29127304 0.99734545 0.2829785 ]\n",
      "[0.28945203 0.99734545 0.2829785 ]\n",
      "[0.28643637 0.99734545 0.2829785 ]\n",
      "[0.28226943 0.99734545 0.2829785 ]\n",
      "[0.28226943 0.99734545 0.2829785 ]\n",
      "[0.28044906 0.99734545 0.2829785 ]\n",
      "[0.27743795 0.99734545 0.2829785 ]\n",
      "[0.27329984 0.99734545 0.2829785 ]\n",
      "[0.27329984 0.99734545 0.2829785 ]\n",
      "[0.27148011 0.99734545 0.2829785 ]\n",
      "[0.26847353 0.99734545 0.2829785 ]\n",
      "[0.26436413 0.99734545 0.2829785 ]\n",
      "[0.26436413 0.99734545 0.2829785 ]\n",
      "[0.26254504 0.99734545 0.2829785 ]\n",
      "[0.25954298 0.99734545 0.2829785 ]\n",
      "[0.25546219 0.99734545 0.2829785 ]\n",
      "[0.25546219 0.99734545 0.2829785 ]\n",
      "[0.25364373 0.99734545 0.2829785 ]\n",
      "[0.25064617 0.99734545 0.2829785 ]\n",
      "[0.24659387 0.99734545 0.2829785 ]\n",
      "[0.24659387 0.99734545 0.2829785 ]\n",
      "[0.24477605 0.99734545 0.2829785 ]\n",
      "[0.24178297 0.99734545 0.2829785 ]\n",
      "[0.23775907 0.99734545 0.2829785 ]\n",
      "[0.23775907 0.99734545 0.2829785 ]\n",
      "[0.23594187 0.99734545 0.2829785 ]\n",
      "[0.23295326 0.99734545 0.2829785 ]\n",
      "[0.22895764 0.99734545 0.2829785 ]\n",
      "[0.22895764 0.99734545 0.2829785 ]\n",
      "[0.22714106 0.99734545 0.2829785 ]\n",
      "[0.22415691 0.99734545 0.2829785 ]\n",
      "[0.22018946 0.99734545 0.2829785 ]\n",
      "[0.22018946 0.99734545 0.2829785 ]\n",
      "[0.21837351 0.99734545 0.2829785 ]\n",
      "[0.21539379 0.99734545 0.2829785 ]\n",
      "[0.21145441 0.99734545 0.2829785 ]\n",
      "[0.21145441 0.99734545 0.2829785 ]\n",
      "[0.20963908 0.99734545 0.2829785 ]\n",
      "[0.20666377 0.99734545 0.2829785 ]\n",
      "[0.20275236 0.99734545 0.2829785 ]\n",
      "[0.20275236 0.99734545 0.2829785 ]\n",
      "[0.20093764 0.99734545 0.2829785 ]\n",
      "[0.19796674 0.99734545 0.2829785 ]\n",
      "[0.19408318 0.99734545 0.2829785 ]\n",
      "[0.19408318 0.99734545 0.2829785 ]\n",
      "[0.19226909 0.99734545 0.2829785 ]\n",
      "[0.18930257 0.99734545 0.2829785 ]\n",
      "[0.18544676 0.99734545 0.2829785 ]\n",
      "[0.18544676 0.99734545 0.2829785 ]\n",
      "[0.18363328 0.99734545 0.2829785 ]\n",
      "[0.18067113 0.99734545 0.2829785 ]\n",
      "[0.17684297 0.99734545 0.2829785 ]\n",
      "[0.17684297 0.99734545 0.2829785 ]\n",
      "[0.1750301  0.99734545 0.2829785 ]\n",
      "[0.1720723  0.99734545 0.2829785 ]\n",
      "[0.16827168 0.99734545 0.2829785 ]\n",
      "[0.16827168 0.99734545 0.2829785 ]\n",
      "[0.16645942 0.99734545 0.2829785 ]\n",
      "[0.16350596 0.99734545 0.2829785 ]\n",
      "[0.15973278 0.99734545 0.2829785 ]\n",
      "[0.15973278 0.99734545 0.2829785 ]\n",
      "[0.15792112 0.99734545 0.2829785 ]\n",
      "[0.15497198 0.99734545 0.2829785 ]\n",
      "[0.15122613 0.99734545 0.2829785 ]\n",
      "[0.15122613 0.99734545 0.2829785 ]\n",
      "[0.14941508 0.99734545 0.2829785 ]\n",
      "[0.14647024 0.99734545 0.2829785 ]\n",
      "[0.14275162 0.99734545 0.2829785 ]\n",
      "[0.14275162 0.99734545 0.2829785 ]\n",
      "[0.14094118 0.99734545 0.2829785 ]\n",
      "[0.13800062 0.99734545 0.2829785 ]\n",
      "[0.13430914 0.99734545 0.2829785 ]\n",
      "[0.13430914 0.99734545 0.2829785 ]\n",
      "[0.13249929 0.99734545 0.2829785 ]\n",
      "[0.129563   0.99734545 0.2829785 ]\n",
      "[0.12589854 0.99734545 0.2829785 ]\n",
      "[0.12589854 0.99734545 0.2829785 ]\n",
      "[0.1240893  0.99734545 0.2829785 ]\n",
      "[0.12115726 0.99734545 0.2829785 ]\n",
      "[0.11751973 0.99734545 0.2829785 ]\n",
      "[0.11751973 0.99734545 0.2829785 ]\n",
      "[0.11571108 0.99734545 0.2829785 ]\n",
      "[0.11278328 0.99734545 0.2829785 ]\n",
      "[0.10917256 0.99734545 0.2829785 ]\n",
      "[0.10917256 0.99734545 0.2829785 ]\n",
      "[0.10736451 0.99734545 0.2829785 ]\n",
      "[0.10444093 0.99734545 0.2829785 ]\n",
      "[0.10085694 0.99734545 0.2829785 ]\n",
      "[0.10085694 0.99734545 0.2829785 ]\n",
      "[0.09904947 0.99734545 0.2829785 ]\n",
      "[0.0961301  0.99734545 0.2829785 ]\n",
      "[0.09257273 0.99734545 0.2829785 ]\n",
      "[0.09257273 0.99734545 0.2829785 ]\n",
      "[0.09076585 0.99734545 0.2829785 ]\n",
      "[0.08785067 0.99734545 0.2829785 ]\n",
      "[0.08431982 0.99734545 0.2829785 ]\n",
      "[0.08431982 0.99734545 0.2829785 ]\n",
      "[0.08251353 0.99734545 0.2829785 ]\n",
      "[0.07960252 0.99734545 0.2829785 ]\n",
      "[0.07609808 0.99734545 0.2829785 ]\n",
      "[0.07609808 0.99734545 0.2829785 ]\n",
      "[0.07429238 0.99734545 0.2829785 ]\n",
      "[0.07138553 0.99734545 0.2829785 ]\n",
      "[0.06790741 0.99734545 0.2829785 ]\n",
      "[0.06790741 0.99734545 0.2829785 ]\n",
      "[0.06610229 0.99734545 0.2829785 ]\n",
      "[0.06319958 0.99734545 0.2829785 ]\n",
      "[0.05974769 0.99734545 0.2829785 ]\n",
      "[0.05974769 0.99734545 0.2829785 ]\n",
      "[0.05794315 0.99734545 0.2829785 ]\n",
      "[0.05504456 0.99734545 0.2829785 ]\n",
      "[0.05161879 0.99734545 0.2829785 ]\n",
      "[0.05161879 0.99734545 0.2829785 ]\n",
      "[0.04981483 0.99734545 0.2829785 ]\n",
      "[0.04692036 0.99734545 0.2829785 ]\n",
      "[0.04352061 0.99734545 0.2829785 ]\n",
      "[0.04352061 0.99734545 0.2829785 ]\n",
      "[0.04171722 0.99734545 0.2829785 ]\n",
      "[0.03882684 0.99734545 0.2829785 ]\n",
      "[0.03545301 0.99734545 0.2829785 ]\n",
      "[0.03545301 0.99734545 0.2829785 ]\n",
      "[0.0336502  0.99734545 0.2829785 ]\n",
      "[0.0307639  0.99734545 0.2829785 ]\n",
      "[0.0274159  0.99734545 0.2829785 ]\n",
      "[0.0274159  0.99734545 0.2829785 ]\n",
      "[0.02561366 0.99734545 0.2829785 ]\n",
      "[0.02273143 0.99734545 0.2829785 ]\n",
      "[0.01940916 0.99734545 0.2829785 ]\n",
      "[0.01940916 0.99734545 0.2829785 ]\n",
      "[0.01760749 0.99734545 0.2829785 ]\n",
      "[0.0147293  0.99734545 0.2829785 ]\n",
      "[0.01143266 0.99734545 0.2829785 ]\n",
      "[0.01143266 0.99734545 0.2829785 ]\n",
      "[0.00963156 0.99734545 0.2829785 ]\n",
      "[0.0067574  0.99734545 0.2829785 ]\n",
      "[0.0034863  0.99734545 0.2829785 ]\n",
      "[0.0034863  0.99734545 0.2829785 ]\n",
      "[0.00168576 0.99734545 0.2829785 ]\n",
      "[-0.00118438  0.99734545  0.2829785 ]\n",
      "[-0.00443004  0.99734545  0.2829785 ]\n",
      "[-0.00443004  0.99734545  0.2829785 ]\n",
      "[-0.00623002  0.99734545  0.2829785 ]\n",
      "[-0.00909615  0.99734545  0.2829785 ]\n",
      "[-0.01231647  0.99734545  0.2829785 ]\n",
      "[-0.01231647  0.99734545  0.2829785 ]\n",
      "[-0.01411589  0.99734545  0.2829785 ]\n",
      "[-0.01697803  0.99734545  0.2829785 ]\n",
      "[-0.02017311  0.99734545  0.2829785 ]\n",
      "[-0.02017311  0.99734545  0.2829785 ]\n",
      "[-0.02197197  0.99734545  0.2829785 ]\n",
      "[-0.02483014  0.99734545  0.2829785 ]\n",
      "[-0.02800006  0.99734545  0.2829785 ]\n",
      "[-0.02800006  0.99734545  0.2829785 ]\n",
      "[-0.02979836  0.99734545  0.2829785 ]\n",
      "[-0.03265258  0.99734545  0.2829785 ]\n",
      "[-0.03579745  0.99734545  0.2829785 ]\n",
      "[-0.03579745  0.99734545  0.2829785 ]\n",
      "[-0.03759519  0.99734545  0.2829785 ]\n",
      "[-0.04044546  0.99734545  0.2829785 ]\n",
      "[-0.04356537  0.99734545  0.2829785 ]\n",
      "[-0.04356537  0.99734545  0.2829785 ]\n",
      "[-0.04536257  0.99734545  0.2829785 ]\n",
      "[-0.04820891  0.99734545  0.2829785 ]\n",
      "[-0.05130395  0.99734545  0.2829785 ]\n",
      "[-0.05130395  0.99734545  0.2829785 ]\n",
      "[-0.05310059  0.99734545  0.2829785 ]\n",
      "[-0.05594302  0.99734545  0.2829785 ]\n",
      "[-0.05901329  0.99734545  0.2829785 ]\n",
      "[-0.05901329  0.99734545  0.2829785 ]\n",
      "[-0.06080938  0.99734545  0.2829785 ]\n",
      "[-0.06364791  0.99734545  0.2829785 ]\n",
      "[-0.0666935   0.99734545  0.2829785 ]\n",
      "[-0.0666935   0.99734545  0.2829785 ]\n",
      "[-0.06848905  0.99734545  0.2829785 ]\n",
      "[-0.0713237   0.99734545  0.2829785 ]\n",
      "[-0.0743447   0.99734545  0.2829785 ]\n",
      "[-0.0743447   0.99734545  0.2829785 ]\n",
      "[-0.07613971  0.99734545  0.2829785 ]\n",
      "[-0.07897048  0.99734545  0.2829785 ]\n",
      "[-0.08196699  0.99734545  0.2829785 ]\n",
      "[-0.08196699  0.99734545  0.2829785 ]\n",
      "[-0.08376146  0.99734545  0.2829785 ]\n",
      "[-0.08658838  0.99734545  0.2829785 ]\n",
      "[-0.08956049  0.99734545  0.2829785 ]\n",
      "[-0.08956049  0.99734545  0.2829785 ]\n",
      "[-0.09135441  0.99734545  0.2829785 ]\n",
      "[-0.09417749  0.99734545  0.2829785 ]\n",
      "[-0.0971253   0.99734545  0.2829785 ]\n",
      "[-0.0971253   0.99734545  0.2829785 ]\n",
      "[-0.09891868  0.99734545  0.2829785 ]\n",
      "[-0.10173794  0.99734545  0.2829785 ]\n",
      "[-0.10466152  0.99734545  0.2829785 ]\n",
      "[-0.10466152  0.99734545  0.2829785 ]\n",
      "[-0.10645437  0.99734545  0.2829785 ]\n",
      "[-0.10926981  0.99734545  0.2829785 ]\n",
      "[-0.11216928  0.99734545  0.2829785 ]\n",
      "[-0.11216928  0.99734545  0.2829785 ]\n",
      "[-0.11396159  0.99734545  0.2829785 ]\n",
      "[-0.11677324  0.99734545  0.2829785 ]\n",
      "[-0.11964866  0.99734545  0.2829785 ]\n",
      "[-0.11964866  0.99734545  0.2829785 ]\n",
      "[-0.12144045  0.99734545  0.2829785 ]\n",
      "[-0.12424831  0.99734545  0.2829785 ]\n",
      "[-0.1270998   0.99734545  0.2829785 ]\n",
      "[-0.1270998   0.99734545  0.2829785 ]\n",
      "[-0.12889105  0.99734545  0.2829785 ]\n",
      "[-0.13169515  0.99734545  0.2829785 ]\n",
      "[-0.13452278  0.99734545  0.2829785 ]\n",
      "[-0.13452278  0.99734545  0.2829785 ]\n",
      "[-0.1363135   0.99734545  0.2829785 ]\n",
      "[-0.13911385  0.99734545  0.2829785 ]\n",
      "[-0.14191771  0.99734545  0.2829785 ]\n",
      "[-0.14191771  0.99734545  0.2829785 ]\n",
      "[-0.14370791  0.99734545  0.2829785 ]\n",
      "[-0.14650452  0.99734545  0.2829785 ]\n",
      "[-0.14928471  0.99734545  0.2829785 ]\n",
      "[-0.14928471  0.99734545  0.2829785 ]\n",
      "[-0.15107439  0.99734545  0.2829785 ]\n",
      "[-0.15386727  0.99734545  0.2829785 ]\n",
      "[-0.15662388  0.99734545  0.2829785 ]\n",
      "[-0.15662388  0.99734545  0.2829785 ]\n",
      "[-0.15841303  0.99734545  0.2829785 ]\n",
      "[-0.1612022   0.99734545  0.2829785 ]\n",
      "[-0.16393532  0.99734545  0.2829785 ]\n",
      "[-0.16393532  0.99734545  0.2829785 ]\n",
      "[-0.16572395  0.99734545  0.2829785 ]\n",
      "[-0.16850942  0.99734545  0.2829785 ]\n",
      "[-0.17121913  0.99734545  0.2829785 ]\n",
      "[-0.17121913  0.99734545  0.2829785 ]\n",
      "[-0.17300725  0.99734545  0.2829785 ]\n",
      "[-0.17578904  0.99734545  0.2829785 ]\n",
      "[-0.17847543  0.99734545  0.2829785 ]\n",
      "[-0.17847543  0.99734545  0.2829785 ]\n",
      "[-0.18026303  0.99734545  0.2829785 ]\n",
      "[-0.18304115  0.99734545  0.2829785 ]\n",
      "[-0.18570431  0.99734545  0.2829785 ]\n",
      "[-0.18570431  0.99734545  0.2829785 ]\n",
      "[-0.1874914   0.99734545  0.2829785 ]\n",
      "[-0.19026586  0.99734545  0.2829785 ]\n",
      "[-0.19290588  0.99734545  0.2829785 ]\n",
      "[-0.19290588  0.99734545  0.2829785 ]\n",
      "[-0.19469246  0.99734545  0.2829785 ]\n",
      "[-0.19746328  0.99734545  0.2829785 ]\n",
      "[-0.20008025  0.99734545  0.2829785 ]\n",
      "[-0.20008025  0.99734545  0.2829785 ]\n",
      "[-0.20186631  0.99734545  0.2829785 ]\n",
      "[-0.2046335   0.99734545  0.2829785 ]\n",
      "[-0.20722751  0.99734545  0.2829785 ]\n",
      "[-0.20722751  0.99734545  0.2829785 ]\n",
      "[-0.20901306  0.99734545  0.2829785 ]\n",
      "[-0.21177664  0.99734545  0.2829785 ]\n",
      "[-0.21434776  0.99734545  0.2829785 ]\n",
      "[-0.21434776  0.99734545  0.2829785 ]\n",
      "[-0.21613281  0.99734545  0.2829785 ]\n",
      "[-0.21889279  0.99734545  0.2829785 ]\n",
      "[-0.22144112  0.99734545  0.2829785 ]\n",
      "[-0.22144112  0.99734545  0.2829785 ]\n",
      "[-0.22322566  0.99734545  0.2829785 ]\n",
      "[-0.22598205  0.99734545  0.2829785 ]\n",
      "[-0.22850767  0.99734545  0.2829785 ]\n",
      "[-0.22850767  0.99734545  0.2829785 ]\n",
      "[-0.23029171  0.99734545  0.2829785 ]\n",
      "[-0.23304453  0.99734545  0.2829785 ]\n",
      "[-0.23554753  0.99734545  0.2829785 ]\n",
      "[-0.23554753  0.99734545  0.2829785 ]\n",
      "[-0.23733107  0.99734545  0.2829785 ]\n",
      "[-0.24008033  0.99734545  0.2829785 ]\n",
      "[-0.2425608   0.99734545  0.2829785 ]\n",
      "[-0.2425608   0.99734545  0.2829785 ]\n",
      "[-0.24434384  0.99734545  0.2829785 ]\n",
      "[-0.24708955  0.99734545  0.2829785 ]\n",
      "[-0.24954756  0.99734545  0.2829785 ]\n",
      "[-0.24954756  0.99734545  0.2829785 ]\n",
      "[-0.25133011  0.99734545  0.2829785 ]\n",
      "[-0.25407228  0.99734545  0.2829785 ]\n",
      "[-0.25650793  0.99734545  0.2829785 ]\n",
      "[-0.25650793  0.99734545  0.2829785 ]\n",
      "[-0.25828998  0.99734545  0.2829785 ]\n",
      "[-0.26102864  0.99734545  0.2829785 ]\n",
      "[-0.263442    0.99734545  0.2829785 ]\n",
      "[-0.263442    0.99734545  0.2829785 ]\n",
      "[-0.26522356  0.99734545  0.2829785 ]\n",
      "[-0.26795871  0.99734545  0.2829785 ]\n",
      "[-0.27034988  0.99734545  0.2829785 ]\n",
      "[-0.27034988  0.99734545  0.2829785 ]\n",
      "[-0.27213094  0.99734545  0.2829785 ]\n",
      "[-0.2748626   0.99734545  0.2829785 ]\n",
      "[-0.27723166  0.99734545  0.2829785 ]\n",
      "[-0.27723166  0.99734545  0.2829785 ]\n",
      "[-0.27901223  0.99734545  0.2829785 ]\n",
      "[-0.28174041  0.99734545  0.2829785 ]\n",
      "[-0.28408744  0.99734545  0.2829785 ]\n",
      "[-0.28408744  0.99734545  0.2829785 ]\n",
      "[-0.28586752  0.99734545  0.2829785 ]\n",
      "[-0.28859223  0.99734545  0.2829785 ]\n",
      "[-0.29091731  0.99734545  0.2829785 ]\n",
      "[-0.29091731  0.99734545  0.2829785 ]\n",
      "Final loss: 0.6332028608389628\n"
     ]
    },
    {
     "data": {
      "image/png": "[encoded data removed]",
      "text/plain": [
       "<Figure size 432x288 with 1 Axes>"
      ]
     },
     "metadata": {
      "needs_background": "light"
     },
     "output_type": "display_data"
    },
    {
     "data": {
      "image/png": "[encoded data removed]",
      "text/plain": [
       "<Figure size 432x288 with 2 Axes>"
      ]
     },
     "metadata": {
      "needs_background": "light"
     },
     "output_type": "display_data"
    }
   ],
   "source": [
    "train(X_scaled, y_scaled, 0.02, 150);"
   ]
  },
  {
   "cell_type": "markdown",
   "metadata": {},
   "source": [
    "Still not satisfied with the performance of your model? Well that's because we were only updating one of the weights! What happens when we update **all** of our weights and biases using this process? The code below will do that for us!"
   ]
  },
  {
   "cell_type": "code",
   "execution_count": 591,
   "metadata": {},
   "outputs": [],
   "source": [
    "# Update ALL weights and biases\n",
    "def update_weights(X, y_true, weights, biases, learning_rate):\n",
    "    \"\"\" Updates the weight values. Returns the resulting loss. \"\"\"\n",
    "    \n",
    "    # Initialize prediction array with 0's\n",
    "    y_preds = np.zeros_like(y_true)\n",
    "    \n",
    "    for i, (row,y_actual) in enumerate(zip(X, y_true)):\n",
    "        # Forward pass\n",
    "        sum1,out1, sum2,out2 = forward(row, weights, biases)\n",
    "        y_preds[i] = out2\n",
    "\n",
    "        # Backpropagation\n",
    "        dl_dypred = 2 * (out2 - y_actual)\n",
    "        dypred_dh1 = weights[2] * relu_deriv(sum2)\n",
    "\n",
    "        dh1_dw1 = row[0] * relu_deriv(sum1)\n",
    "        dh1_dw2 = row[1] * relu_deriv(sum1)\n",
    "        dh1_db1 = relu_deriv(sum1)      \n",
    "        \n",
    "        dypred_dw3 = out1 * relu_deriv(sum2)\n",
    "        dypred_db2 = relu_deriv(sum2)\n",
    "        \n",
    "        # Gradient descent - Update weights and biases\n",
    "        weights[0] -= learning_rate * dl_dypred * dypred_dh1 * dh1_dw1\n",
    "        weights[1] -= learning_rate * dl_dypred * dypred_dh1 * dh1_dw2\n",
    "        weights[2] -= learning_rate * dl_dypred * dypred_dw3\n",
    "\n",
    "        biases[0] -= learning_rate * dl_dypred * dypred_dh1 * dh1_db1\n",
    "        biases[1] -= learning_rate * dl_dypred * dypred_db2\n",
    "    \n",
    "    # Calculate loss\n",
    "    loss = mse(y_true, y_preds)\n",
    "    return loss"
   ]
  },
  {
   "cell_type": "code",
   "execution_count": 592,
   "metadata": {},
   "outputs": [
    {
     "name": "stdout",
     "output_type": "stream",
     "text": [
      "Final loss: 0.01642072126621692\n"
     ]
    },
    {
     "data": {
      "image/png": "[encoded data removed]",
      "text/plain": [
       "<Figure size 432x288 with 1 Axes>"
      ]
     },
     "metadata": {
      "needs_background": "light"
     },
     "output_type": "display_data"
    },
    {
     "data": {
      "image/png": "[encoded data removed]",
      "text/plain": [
       "<Figure size 432x288 with 2 Axes>"
      ]
     },
     "metadata": {
      "needs_background": "light"
     },
     "output_type": "display_data"
    }
   ],
   "source": [
    "train(X_scaled, y_scaled, 0.004, 400);"
   ]
  },
  {
   "cell_type": "markdown",
   "metadata": {},
   "source": [
    "That's it! You've created a *very* simple neural network using only numpy! Hopefully by now you have a better understanding of the math behind a neural network.\n",
    "\n",
    "*Credit: inspiration for this lab comes from [this blog post](https://victorzhou.com/blog/intro-to-neural-networks/).*"
   ]
  }
 ],
 "metadata": {
  "kernelspec": {
   "display_name": "Python 3",
   "language": "python",
   "name": "python3"
  },
  "language_info": {
   "codemirror_mode": {
    "name": "ipython",
    "version": 3
   },
   "file_extension": ".py",
   "mimetype": "text/x-python",
   "name": "python",
   "nbconvert_exporter": "python",
   "pygments_lexer": "ipython3",
   "version": "3.9.7"
  }
 },
 "nbformat": 4,
 "nbformat_minor": 4
}
