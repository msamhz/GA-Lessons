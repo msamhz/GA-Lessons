{
 "cells": [
  {
   "cell_type": "markdown",
   "metadata": {},
   "source": [
    "## Contents\n",
    "- [Data Importing](#Data-Importing)\n",
    "- [Classification metrics](#Classification-metrics)\n",
    "- [Vectorizer Selection via GridSeachCV](#Vectorizer-Selection-via-GridSeachCV)\n",
    "- [MultinomialNB and Hyperparameter tuning](#MultinomialNB-and-Hyperparameter-tuning)\n",
    "- [Logistic Regression Modelling and Hyperparameter tuning](#Logistic-Regression-Modelling-and-Hyperparameter-tuning)\n",
    "- [Analysis on top few features by logreg and MultinomialNB](#Analysis-on-top-few-features-by-logreg-and-MultinomialNB)\n",
    "- [Random Forest Classifier](#Random-Forest-Classifier)\n",
    "- [Conclusion and Recommendation](#Conclusion-and-Recommendation)"
   ]
  },
  {
   "cell_type": "code",
   "execution_count": 105,
   "metadata": {},
   "outputs": [],
   "source": [
    "import pandas as pd\n",
    "import requests\n",
    "import string\n",
    "string.punctuation\n",
    "import re\n",
    "import nltk\n",
    "from nltk.stem import WordNetLemmatizer\n",
    "import numpy as np\n",
    "import seaborn as sns\n",
    "import matplotlib.pyplot as plt\n",
    "import re\n",
    "from bs4 import BeautifulSoup\n",
    "import contractions\n",
    "\n",
    "from sklearn.neighbors import KNeighborsClassifier\n",
    "from sklearn.metrics import confusion_matrix, plot_confusion_matrix\n",
    "from transformers import pipeline\n",
    "from sklearn.pipeline import Pipeline\n",
    "from sklearn.linear_model import LogisticRegression\n",
    "from sklearn.feature_extraction.text import CountVectorizer, TfidfVectorizer\n",
    "from sklearn.naive_bayes import MultinomialNB\n",
    "from sklearn.feature_extraction.text import CountVectorizer, TfidfVectorizer\n",
    "from nltk import word_tokenize   \n",
    "from nltk.stem.porter import PorterStemmer\n",
    "from nltk.tokenize import sent_tokenize, word_tokenize, RegexpTokenizer\n",
    "import matplotlib.dates as mdate\n",
    "from sklearn.ensemble import RandomForestClassifier, ExtraTreesClassifier\n",
    "\n",
    "import gensim\n",
    "import gensim.downloader as api\n",
    "from gensim.models.word2vec import Word2Vec\n",
    "\n",
    "\n",
    "from sklearn.model_selection import(\n",
    "    cross_val_score,\n",
    "    train_test_split,\n",
    "    GridSearchCV\n",
    ")\n",
    "\n",
    "from sklearn.preprocessing import (\n",
    "    StandardScaler,\n",
    "    PolynomialFeatures\n",
    ")\n",
    "from datetime import timezone\n",
    "import datetime\n",
    "\n",
    "pd.set_option('display.max_colwidth', None)"
   ]
  },
  {
   "cell_type": "markdown",
   "metadata": {},
   "source": [
    "## Data importing"
   ]
  },
  {
   "cell_type": "code",
   "execution_count": 2,
   "metadata": {},
   "outputs": [],
   "source": [
    "df = pd.read_csv('../Data/df.csv')\n",
    "df.drop(columns = 'Unnamed: 0', inplace = True)"
   ]
  },
  {
   "cell_type": "markdown",
   "metadata": {},
   "source": [
    "Check for Null"
   ]
  },
  {
   "cell_type": "code",
   "execution_count": 3,
   "metadata": {},
   "outputs": [
    {
     "data": {
      "text/plain": [
       "author                   0\n",
       "subreddit                0\n",
       "selftext                 0\n",
       "title                    0\n",
       "created_utc              0\n",
       "datetime                 0\n",
       "link_flair_css_class     0\n",
       "alltext                  0\n",
       "length_text              0\n",
       "wrdcount_text            0\n",
       "month                    0\n",
       "day                      0\n",
       "clean_text               1\n",
       "ttl_post                 0\n",
       "user_contribute_where    0\n",
       "stem_clean_text          1\n",
       "lemmi_clean_text         1\n",
       "dtype: int64"
      ]
     },
     "execution_count": 3,
     "metadata": {},
     "output_type": "execute_result"
    }
   ],
   "source": [
    "df.isnull().sum()"
   ]
  },
  {
   "cell_type": "code",
   "execution_count": 4,
   "metadata": {},
   "outputs": [],
   "source": [
    "df.dropna(inplace = True)"
   ]
  },
  {
   "cell_type": "markdown",
   "metadata": {},
   "source": [
    "###  Model Prep: Create `X` and `y` variables"
   ]
  },
  {
   "cell_type": "markdown",
   "metadata": {},
   "source": [
    "Our features will be:\n",
    "- `subreddit`\n",
    "- `stem_clean_text`\n",
    "- `lemmi_clean_text`\n",
    "\n",
    "For our baseline modelling will be using lemmi_clean_text\n",
    "\n",
    "Our target will be `subreddit`"
   ]
  },
  {
   "cell_type": "code",
   "execution_count": 5,
   "metadata": {},
   "outputs": [],
   "source": [
    "X = df['lemmi_clean_text']\n",
    "y = df['subreddit']"
   ]
  },
  {
   "cell_type": "markdown",
   "metadata": {},
   "source": [
    "### Train/Test Split"
   ]
  },
  {
   "cell_type": "code",
   "execution_count": 6,
   "metadata": {},
   "outputs": [],
   "source": [
    "X_train, X_test, y_train, y_test = train_test_split(X, y, random_state=42, stratify=y)"
   ]
  },
  {
   "cell_type": "markdown",
   "metadata": {},
   "source": [
    "## Classification Metrics"
   ]
  },
  {
   "cell_type": "markdown",
   "metadata": {},
   "source": [
    "Possible classification metrics that can be used how well my model perform are *Accuracy, Misclassification Rate, Sensitivity (True Positive Rate), Specificity (True Negative Rate), Precision (Positive Predictive Value), F1 Score and ROC AUC*.\n",
    "\n",
    "For this project I will be mainly using *Accuracy* accompanied with confusion matrix to determine effectiveness of my models\n",
    "\n",
    "For further evaluations, I will be using Specificity to choose the best model that helps gauge on how best to minimize this in order to reduce missing out identifying users potentionally having PTSD.\n",
    "\n",
    "I will also use ROC to gave a gauge the degree of overlap between the words in post from the two subreddits. "
   ]
  },
  {
   "cell_type": "markdown",
   "metadata": {},
   "source": [
    "### Baseline Accuracy Check"
   ]
  },
  {
   "cell_type": "code",
   "execution_count": 7,
   "metadata": {},
   "outputs": [
    {
     "name": "stdout",
     "output_type": "stream",
     "text": [
      "Total post: 20228\n"
     ]
    },
    {
     "data": {
      "text/plain": [
       "1    0.500395\n",
       "0    0.499605\n",
       "Name: subreddit, dtype: float64"
      ]
     },
     "execution_count": 7,
     "metadata": {},
     "output_type": "execute_result"
    }
   ],
   "source": [
    "print(f'Total post: {len(df)}')\n",
    "df['subreddit'].value_counts(normalize= True)\n"
   ]
  },
  {
   "cell_type": "markdown",
   "metadata": {},
   "source": [
    "With 10000 post added into each class, the classes are very well balanced from both sides \n",
    "\n",
    "Also, from the above, we can see the ***baseline accuracy*** is at 50.1%. \n",
    "If nothing ws done for the classification model, and just to assign every post to the PTSD class, i would classify 50.1% of the post correctly. \n",
    "\n",
    "Therefore, any classification model designed for this data must have an accuracy higher than the ***baseline accuracy*** of 50.1%"
   ]
  },
  {
   "cell_type": "markdown",
   "metadata": {},
   "source": [
    "## Vectorizer Selection via GridSeachCV"
   ]
  },
  {
   "cell_type": "markdown",
   "metadata": {},
   "source": [
    "Consider two NLP vectorizers and iterate over parameters below with Logistic regression model first.\n",
    "- *Count Vectorizer*\n",
    "- *TF-IDF Vectorizer*"
   ]
  },
  {
   "cell_type": "code",
   "execution_count": 18,
   "metadata": {},
   "outputs": [],
   "source": [
    "# create stop word list \n",
    "stopwordlist = nltk.corpus.stopwords.words('english')\n",
    "\n",
    "# to input in subreddit headers so that we can exclude it for model\n",
    "headers = ['ptsd', 'anxiety',\"cptsd\", 'trauma','traumatized','traumas',\"posttraumatic\",'stress','disorder',\"traumatic\", 'www', 'https', 'mentalgrenade', 'com']\n",
    "for head in headers:\n",
    "    stopwordlist.append(head)\n",
    "\n"
   ]
  },
  {
   "cell_type": "code",
   "execution_count": 19,
   "metadata": {},
   "outputs": [],
   "source": [
    "# Creating Pipeline with:\n",
    "# Estimator: LogisticRegression (both)\n",
    "# Transformer: CountVectorizer - pipe1, TfidfVectorizer - pipe2\n",
    "\n",
    "pipe1 = Pipeline([('cvec1', CountVectorizer(stop_words= stopwordlist)),\n",
    "                  ('logreg1', LogisticRegression())\n",
    "                 ])\n",
    "\n",
    "pipe2 = Pipeline([('tfvec2', TfidfVectorizer(stop_words= stopwordlist)),\n",
    "                  ('logreg2', LogisticRegression())\n",
    "                 ])"
   ]
  },
  {
   "cell_type": "code",
   "execution_count": 20,
   "metadata": {},
   "outputs": [],
   "source": [
    "# Declaring fixed one-off hyperparameters max_features, min_df, max_df & ngram_range for GridSearchCV first.\n",
    "\n",
    "pipe1_params = {'cvec1__max_features': [1000],\n",
    "                'cvec1__min_df': [0.02],\n",
    "                'cvec1__max_df': [0.7],\n",
    "                'cvec1__ngram_range': [(1,1), (1,2)],\n",
    "                'logreg1__max_iter': [1000]\n",
    "               }\n",
    "\n",
    "pipe2_params = {'tfvec2__max_features': [1000],\n",
    "                'tfvec2__min_df': [0.02],\n",
    "                'tfvec2__max_df': [0.7],\n",
    "                'tfvec2__ngram_range': [(1,1), (1,2)],\n",
    "                'logreg2__max_iter': [1000]\n",
    "               }"
   ]
  },
  {
   "cell_type": "code",
   "execution_count": 21,
   "metadata": {},
   "outputs": [],
   "source": [
    "# Creating two separate GridSearchCV objects for:\n",
    "# CountVectorizer and TfidfVectorizer\n",
    "\n",
    "gs_pipe1 = GridSearchCV(pipe1, param_grid=pipe1_params, cv=5)\n",
    "\n",
    "gs_pipe2 = GridSearchCV(pipe2, param_grid=pipe2_params, cv=5)"
   ]
  },
  {
   "cell_type": "code",
   "execution_count": 22,
   "metadata": {},
   "outputs": [
    {
     "data": {
      "text/plain": [
       "GridSearchCV(cv=5,\n",
       "             estimator=Pipeline(steps=[('cvec1',\n",
       "                                        CountVectorizer(stop_words=['i', 'me',\n",
       "                                                                    'my',\n",
       "                                                                    'myself',\n",
       "                                                                    'we', 'our',\n",
       "                                                                    'ours',\n",
       "                                                                    'ourselves',\n",
       "                                                                    'you',\n",
       "                                                                    \"you're\",\n",
       "                                                                    \"you've\",\n",
       "                                                                    \"you'll\",\n",
       "                                                                    \"you'd\",\n",
       "                                                                    'your',\n",
       "                                                                    'yours',\n",
       "                                                                    'yourself',\n",
       "                                                                    'yourselves',\n",
       "                                                                    'he', 'him',\n",
       "                                                                    'his',\n",
       "                                                                    'himself',\n",
       "                                                                    'she',\n",
       "                                                                    \"she's\",\n",
       "                                                                    'her',\n",
       "                                                                    'hers',\n",
       "                                                                    'herself',\n",
       "                                                                    'it',\n",
       "                                                                    \"it's\",\n",
       "                                                                    'its',\n",
       "                                                                    'itself', ...])),\n",
       "                                       ('logreg1', LogisticRegression())]),\n",
       "             param_grid={'cvec1__max_df': [0.7], 'cvec1__max_features': [1000],\n",
       "                         'cvec1__min_df': [0.02],\n",
       "                         'cvec1__ngram_range': [(1, 1), (1, 2)],\n",
       "                         'logreg1__max_iter': [1000]})"
      ]
     },
     "execution_count": 22,
     "metadata": {},
     "output_type": "execute_result"
    }
   ],
   "source": [
    "# Fitting GridSearchCV with CountVectorizer transformer on X_train and y_train.\n",
    "\n",
    "gs_pipe1.fit(X_train, y_train)"
   ]
  },
  {
   "cell_type": "code",
   "execution_count": 23,
   "metadata": {},
   "outputs": [
    {
     "data": {
      "text/plain": [
       "GridSearchCV(cv=5,\n",
       "             estimator=Pipeline(steps=[('tfvec2',\n",
       "                                        TfidfVectorizer(stop_words=['i', 'me',\n",
       "                                                                    'my',\n",
       "                                                                    'myself',\n",
       "                                                                    'we', 'our',\n",
       "                                                                    'ours',\n",
       "                                                                    'ourselves',\n",
       "                                                                    'you',\n",
       "                                                                    \"you're\",\n",
       "                                                                    \"you've\",\n",
       "                                                                    \"you'll\",\n",
       "                                                                    \"you'd\",\n",
       "                                                                    'your',\n",
       "                                                                    'yours',\n",
       "                                                                    'yourself',\n",
       "                                                                    'yourselves',\n",
       "                                                                    'he', 'him',\n",
       "                                                                    'his',\n",
       "                                                                    'himself',\n",
       "                                                                    'she',\n",
       "                                                                    \"she's\",\n",
       "                                                                    'her',\n",
       "                                                                    'hers',\n",
       "                                                                    'herself',\n",
       "                                                                    'it',\n",
       "                                                                    \"it's\",\n",
       "                                                                    'its',\n",
       "                                                                    'itself', ...])),\n",
       "                                       ('logreg2', LogisticRegression())]),\n",
       "             param_grid={'logreg2__max_iter': [1000], 'tfvec2__max_df': [0.7],\n",
       "                         'tfvec2__max_features': [1000],\n",
       "                         'tfvec2__min_df': [0.02],\n",
       "                         'tfvec2__ngram_range': [(1, 1), (1, 2)]})"
      ]
     },
     "execution_count": 23,
     "metadata": {},
     "output_type": "execute_result"
    }
   ],
   "source": [
    "# Fitting GridSearchCV with TfidfVectorizer transformer on X_train and y_train.\n",
    "\n",
    "gs_pipe2.fit(X_train, y_train)"
   ]
  },
  {
   "cell_type": "code",
   "execution_count": 24,
   "metadata": {},
   "outputs": [
    {
     "data": {
      "text/plain": [
       "{'cvec1__max_df': 0.7,\n",
       " 'cvec1__max_features': 1000,\n",
       " 'cvec1__min_df': 0.02,\n",
       " 'cvec1__ngram_range': (1, 1),\n",
       " 'logreg1__max_iter': 1000}"
      ]
     },
     "execution_count": 24,
     "metadata": {},
     "output_type": "execute_result"
    }
   ],
   "source": [
    "# Best combination of hyperparameters suggested by GridSearchCV for CountVectorizer transformer.\n",
    "\n",
    "gs_pipe1.best_params_"
   ]
  },
  {
   "cell_type": "code",
   "execution_count": 25,
   "metadata": {},
   "outputs": [
    {
     "data": {
      "text/plain": [
       "{'logreg2__max_iter': 1000,\n",
       " 'tfvec2__max_df': 0.7,\n",
       " 'tfvec2__max_features': 1000,\n",
       " 'tfvec2__min_df': 0.02,\n",
       " 'tfvec2__ngram_range': (1, 1)}"
      ]
     },
     "execution_count": 25,
     "metadata": {},
     "output_type": "execute_result"
    }
   ],
   "source": [
    "# Best combination of hyperparameters suggested by GridSearchCV for TfidfVectorizer transformer.\n",
    "\n",
    "gs_pipe2.best_params_"
   ]
  },
  {
   "cell_type": "code",
   "execution_count": 26,
   "metadata": {},
   "outputs": [
    {
     "name": "stdout",
     "output_type": "stream",
     "text": [
      "CountVectorizer with LogisticRegression summary of accuracy scores:\n",
      "GridSearchCV best accuracy = 0.81\n",
      "\n",
      "Using GridSearchCV best params suggested,\n",
      "Training corpus accuracy = 0.837\n",
      "Testing corpus accuracy = 0.81\n"
     ]
    }
   ],
   "source": [
    "# Summary scores of CountVectorizer and LogisticRegression.\n",
    "\n",
    "print(\"CountVectorizer with LogisticRegression summary of accuracy scores:\")\n",
    "print(f\"GridSearchCV best accuracy = {round(gs_pipe1.best_score_, 3)}\")\n",
    "print(\"\\nUsing GridSearchCV best params suggested,\")\n",
    "print(f\"Training corpus accuracy = {round(gs_pipe1.score(X_train, y_train), 3)}\")\n",
    "print(f\"Testing corpus accuracy = {round(gs_pipe1.score(X_test, y_test), 3)}\")"
   ]
  },
  {
   "cell_type": "code",
   "execution_count": 27,
   "metadata": {},
   "outputs": [
    {
     "name": "stdout",
     "output_type": "stream",
     "text": [
      "TfidfVectorizer with LogisticRegression summary of accuracy scores:\n",
      "GridSearchCV best accuracy = 0.816\n",
      "\n",
      "Using GridSearchCV best params suggested,\n",
      "Training corpus accuracy = 0.837\n",
      "Testing corpus accuracy = 0.816\n"
     ]
    }
   ],
   "source": [
    "# Summary scores of TfidfVectorizer and LogisticRegression.\n",
    "\n",
    "print(\"TfidfVectorizer with LogisticRegression summary of accuracy scores:\")\n",
    "print(f\"GridSearchCV best accuracy = {round(gs_pipe2.best_score_, 3)}\")\n",
    "print(\"\\nUsing GridSearchCV best params suggested,\")\n",
    "print(f\"Training corpus accuracy = {round(gs_pipe2.score(X_train, y_train), 3)}\")\n",
    "print(f\"Testing corpus accuracy = {round(gs_pipe2.score(X_test, y_test), 3)}\")"
   ]
  },
  {
   "cell_type": "code",
   "execution_count": 28,
   "metadata": {},
   "outputs": [],
   "source": [
    "# Creacting a summary dataframe.\n",
    "\n",
    "summary_df = pd.DataFrame(columns=['transformer_estimator', \n",
    "                                   'GS_best_params', \n",
    "                                   'GS_best_score', \n",
    "                                   'train_accuracy', \n",
    "                                   'test_accuracy'\n",
    "                                  ])"
   ]
  },
  {
   "cell_type": "code",
   "execution_count": 29,
   "metadata": {},
   "outputs": [],
   "source": [
    "# Adding the accuracy scores from above two GridSearchCV models into summary_df.\n",
    "\n",
    "summary_df.loc[1] = ['CountVec, LogReg',\n",
    "                     str(gs_pipe1.best_params_),\n",
    "                     round(gs_pipe1.best_score_, 3),\n",
    "                     round(gs_pipe1.score(X_train, y_train), 3),\n",
    "                     round(gs_pipe1.score(X_test, y_test), 3)\n",
    "                    ]\n",
    "\n",
    "summary_df.loc[2] = ['TfidfVec, LogReg',\n",
    "                     str(gs_pipe2.best_params_),\n",
    "                     round(gs_pipe2.best_score_, 3),\n",
    "                     round(gs_pipe2.score(X_train, y_train), 3),\n",
    "                     round(gs_pipe2.score(X_test, y_test), 3)\n",
    "                    ]"
   ]
  },
  {
   "cell_type": "code",
   "execution_count": 30,
   "metadata": {},
   "outputs": [
    {
     "data": {
      "text/html": [
       "<div>\n",
       "<style scoped>\n",
       "    .dataframe tbody tr th:only-of-type {\n",
       "        vertical-align: middle;\n",
       "    }\n",
       "\n",
       "    .dataframe tbody tr th {\n",
       "        vertical-align: top;\n",
       "    }\n",
       "\n",
       "    .dataframe thead th {\n",
       "        text-align: right;\n",
       "    }\n",
       "</style>\n",
       "<table border=\"1\" class=\"dataframe\">\n",
       "  <thead>\n",
       "    <tr style=\"text-align: right;\">\n",
       "      <th></th>\n",
       "      <th>transformer_estimator</th>\n",
       "      <th>GS_best_params</th>\n",
       "      <th>GS_best_score</th>\n",
       "      <th>train_accuracy</th>\n",
       "      <th>test_accuracy</th>\n",
       "    </tr>\n",
       "  </thead>\n",
       "  <tbody>\n",
       "    <tr>\n",
       "      <th>1</th>\n",
       "      <td>CountVec, LogReg</td>\n",
       "      <td>{'cvec1__max_df': 0.7, 'cvec1__max_features': 1000, 'cvec1__min_df': 0.02, 'cvec1__ngram_range': (1, 1), 'logreg1__max_iter': 1000}</td>\n",
       "      <td>0.810</td>\n",
       "      <td>0.837</td>\n",
       "      <td>0.810</td>\n",
       "    </tr>\n",
       "    <tr>\n",
       "      <th>2</th>\n",
       "      <td>TfidfVec, LogReg</td>\n",
       "      <td>{'logreg2__max_iter': 1000, 'tfvec2__max_df': 0.7, 'tfvec2__max_features': 1000, 'tfvec2__min_df': 0.02, 'tfvec2__ngram_range': (1, 1)}</td>\n",
       "      <td>0.816</td>\n",
       "      <td>0.837</td>\n",
       "      <td>0.816</td>\n",
       "    </tr>\n",
       "  </tbody>\n",
       "</table>\n",
       "</div>"
      ],
      "text/plain": [
       "  transformer_estimator  \\\n",
       "1      CountVec, LogReg   \n",
       "2      TfidfVec, LogReg   \n",
       "\n",
       "                                                                                                                            GS_best_params  \\\n",
       "1      {'cvec1__max_df': 0.7, 'cvec1__max_features': 1000, 'cvec1__min_df': 0.02, 'cvec1__ngram_range': (1, 1), 'logreg1__max_iter': 1000}   \n",
       "2  {'logreg2__max_iter': 1000, 'tfvec2__max_df': 0.7, 'tfvec2__max_features': 1000, 'tfvec2__min_df': 0.02, 'tfvec2__ngram_range': (1, 1)}   \n",
       "\n",
       "   GS_best_score  train_accuracy  test_accuracy  \n",
       "1          0.810           0.837          0.810  \n",
       "2          0.816           0.837          0.816  "
      ]
     },
     "execution_count": 30,
     "metadata": {},
     "output_type": "execute_result"
    }
   ],
   "source": [
    "summary_df"
   ]
  },
  {
   "cell_type": "markdown",
   "metadata": {},
   "source": [
    "From the summary table, we can infer that the best combination of transformer hyperparameters to be \n",
    "- *max_features* = 500\n",
    "- *min_df* = 0.05 \n",
    "- *max_df* = 0.8 \n",
    "- ngram_range=(1,2)\t- for *tfidfVectorizer*\n",
    "\n",
    "Judging solely on the accuracy scores, using **CountVectorizer** has very good accuracy on the training but did poorly on the testing corpus. This implies that this model is **overfitting on the training corpus**. \n",
    "\n",
    "On the other, using **TfidfVectorizer** transformer has better accuracy fir GSCV best score, and lesser delta between the train and test accuracy scores, suggesting that the **model may not be as overfitted than *CountVectorizer***\n",
    "\n",
    "Therefore, I will use *TfidfVectorizer* for further classification model.\n",
    "\n"
   ]
  },
  {
   "cell_type": "markdown",
   "metadata": {},
   "source": [
    "## Hyper-parameter tuning"
   ]
  },
  {
   "cell_type": "markdown",
   "metadata": {},
   "source": [
    "### MultinomialNB Classifier"
   ]
  },
  {
   "cell_type": "markdown",
   "metadata": {},
   "source": [
    "There are 3 common types of Naive Bayes models: *Bernoulli Naive Bayes*, *Multinomial Naive Bayes*, and *Gaussian Naive Bayes*.\n",
    "\n",
    "- [Bernoulli Naive Bayes](https://scikit-learn.org/stable/modules/generated/sklearn.naive_bayes.BernoulliNB.html#sklearn.naive_bayes.BernoulliNB): when we have 0/1 variables.\n",
    "- [Multinomial Naive Bayes](https://scikit-learn.org/stable/modules/generated/sklearn.naive_bayes.MultinomialNB.html#sklearn.naive_bayes.MultinomialNB): when our variables are positive integers.\n",
    "- [Gaussian Naive Bayes](https://scikit-learn.org/stable/modules/generated/sklearn.naive_bayes.GaussianNB.html#sklearn.naive_bayes.GaussianNB): when our features are Normally distributed.\n",
    "\n",
    "We will be using ***MultinomialNB*** as it consideres a feature vector with all the individual words in a all post where a given term represent the number of times it appears. "
   ]
  },
  {
   "cell_type": "code",
   "execution_count": 31,
   "metadata": {},
   "outputs": [],
   "source": [
    "# create pipe3 for transformer: TfidfVectorizer and estimator using MultinomialNB\n",
    "\n",
    "pipe3 = Pipeline([('tfvec', TfidfVectorizer(stop_words= stopwordlist)),\n",
    "                  ('nb', MultinomialNB())\n",
    "                 ])"
   ]
  },
  {
   "cell_type": "code",
   "execution_count": 32,
   "metadata": {},
   "outputs": [],
   "source": [
    "# creating parameters for GridSearch SV using hyperparameters as shown below \n",
    "pipe3_params = {'tfvec__max_features': [3500,4500,5500],\n",
    "                'tfvec__min_df': [0.001, 0.005, 0.01],\n",
    "                'tfvec__max_df': [0.7,0.75,0.8],\n",
    "                'tfvec__ngram_range': [(1,1)],\n",
    "                'nb__alpha' : [1.0e-10]\n",
    "}"
   ]
  },
  {
   "cell_type": "code",
   "execution_count": 33,
   "metadata": {},
   "outputs": [],
   "source": [
    "# Creatingg GridSeachCV using pipeline: pipe3 and params_grid:  pipe3_params\n",
    "\n",
    "gs_pipe3 = GridSearchCV(pipe3, param_grid=pipe3_params, cv=5)"
   ]
  },
  {
   "cell_type": "code",
   "execution_count": 34,
   "metadata": {},
   "outputs": [
    {
     "data": {
      "text/plain": [
       "GridSearchCV(cv=5,\n",
       "             estimator=Pipeline(steps=[('tfvec',\n",
       "                                        TfidfVectorizer(stop_words=['i', 'me',\n",
       "                                                                    'my',\n",
       "                                                                    'myself',\n",
       "                                                                    'we', 'our',\n",
       "                                                                    'ours',\n",
       "                                                                    'ourselves',\n",
       "                                                                    'you',\n",
       "                                                                    \"you're\",\n",
       "                                                                    \"you've\",\n",
       "                                                                    \"you'll\",\n",
       "                                                                    \"you'd\",\n",
       "                                                                    'your',\n",
       "                                                                    'yours',\n",
       "                                                                    'yourself',\n",
       "                                                                    'yourselves',\n",
       "                                                                    'he', 'him',\n",
       "                                                                    'his',\n",
       "                                                                    'himself',\n",
       "                                                                    'she',\n",
       "                                                                    \"she's\",\n",
       "                                                                    'her',\n",
       "                                                                    'hers',\n",
       "                                                                    'herself',\n",
       "                                                                    'it',\n",
       "                                                                    \"it's\",\n",
       "                                                                    'its',\n",
       "                                                                    'itself', ...])),\n",
       "                                       ('nb', MultinomialNB())]),\n",
       "             param_grid={'nb__alpha': [1e-10],\n",
       "                         'tfvec__max_df': [0.7, 0.75, 0.8],\n",
       "                         'tfvec__max_features': [3500, 4500, 5500],\n",
       "                         'tfvec__min_df': [0.001, 0.005, 0.01],\n",
       "                         'tfvec__ngram_range': [(1, 1)]})"
      ]
     },
     "execution_count": 34,
     "metadata": {},
     "output_type": "execute_result"
    }
   ],
   "source": [
    "# Fitting GridSearchCV with CountVectorizer transformer on X_train and y_train.\n",
    "\n",
    "gs_pipe3.fit(X_train, y_train)"
   ]
  },
  {
   "cell_type": "code",
   "execution_count": 35,
   "metadata": {},
   "outputs": [
    {
     "data": {
      "text/plain": [
       "{'nb__alpha': 1e-10,\n",
       " 'tfvec__max_df': 0.7,\n",
       " 'tfvec__max_features': 3500,\n",
       " 'tfvec__min_df': 0.001,\n",
       " 'tfvec__ngram_range': (1, 1)}"
      ]
     },
     "execution_count": 35,
     "metadata": {},
     "output_type": "execute_result"
    }
   ],
   "source": [
    "# Get best parameters using MultinomialNB and TfidfVectorizer\n",
    "\n",
    "gs_pipe3.best_params_"
   ]
  },
  {
   "cell_type": "code",
   "execution_count": 36,
   "metadata": {},
   "outputs": [
    {
     "name": "stdout",
     "output_type": "stream",
     "text": [
      "TfidfVectorizer with MultinomialNB summary of accuracy scores:\n",
      "GridSearchCV best accuracy = 0.831\n",
      "\n",
      "Using GridSearchCV best params suggested,\n",
      "Training corpus accuracy = 0.856\n",
      "Testing corpus accuracy = 0.832\n"
     ]
    }
   ],
   "source": [
    "# Summary scores of TfidfVectorizer and MultinomialNB.\n",
    "\n",
    "print(\"TfidfVectorizer with MultinomialNB summary of accuracy scores:\")\n",
    "print(f\"GridSearchCV best accuracy = {round(gs_pipe3.best_score_, 3)}\")\n",
    "print(\"\\nUsing GridSearchCV best params suggested,\")\n",
    "print(f\"Training corpus accuracy = {round(gs_pipe3.score(X_train, y_train), 3)}\")\n",
    "print(f\"Testing corpus accuracy = {round(gs_pipe3.score(X_test, y_test), 3)}\")"
   ]
  },
  {
   "cell_type": "code",
   "execution_count": 37,
   "metadata": {},
   "outputs": [],
   "source": [
    "# adding summary \n",
    "\n",
    "summary_df.loc[3] = ['TfidfVec, MultinomialNB',\n",
    "                     str(gs_pipe3.best_params_),\n",
    "                     round(gs_pipe3.best_score_, 3),\n",
    "                     round(gs_pipe3.score(X_train, y_train), 3),\n",
    "                     round(gs_pipe3.score(X_test, y_test), 3)\n",
    "                    ]"
   ]
  },
  {
   "cell_type": "code",
   "execution_count": 38,
   "metadata": {},
   "outputs": [
    {
     "data": {
      "text/html": [
       "<div>\n",
       "<style scoped>\n",
       "    .dataframe tbody tr th:only-of-type {\n",
       "        vertical-align: middle;\n",
       "    }\n",
       "\n",
       "    .dataframe tbody tr th {\n",
       "        vertical-align: top;\n",
       "    }\n",
       "\n",
       "    .dataframe thead th {\n",
       "        text-align: right;\n",
       "    }\n",
       "</style>\n",
       "<table border=\"1\" class=\"dataframe\">\n",
       "  <thead>\n",
       "    <tr style=\"text-align: right;\">\n",
       "      <th></th>\n",
       "      <th>transformer_estimator</th>\n",
       "      <th>GS_best_params</th>\n",
       "      <th>GS_best_score</th>\n",
       "      <th>train_accuracy</th>\n",
       "      <th>test_accuracy</th>\n",
       "    </tr>\n",
       "  </thead>\n",
       "  <tbody>\n",
       "    <tr>\n",
       "      <th>1</th>\n",
       "      <td>CountVec, LogReg</td>\n",
       "      <td>{'cvec1__max_df': 0.7, 'cvec1__max_features': 1000, 'cvec1__min_df': 0.02, 'cvec1__ngram_range': (1, 1), 'logreg1__max_iter': 1000}</td>\n",
       "      <td>0.810</td>\n",
       "      <td>0.837</td>\n",
       "      <td>0.810</td>\n",
       "    </tr>\n",
       "    <tr>\n",
       "      <th>2</th>\n",
       "      <td>TfidfVec, LogReg</td>\n",
       "      <td>{'logreg2__max_iter': 1000, 'tfvec2__max_df': 0.7, 'tfvec2__max_features': 1000, 'tfvec2__min_df': 0.02, 'tfvec2__ngram_range': (1, 1)}</td>\n",
       "      <td>0.816</td>\n",
       "      <td>0.837</td>\n",
       "      <td>0.816</td>\n",
       "    </tr>\n",
       "    <tr>\n",
       "      <th>3</th>\n",
       "      <td>TfidfVec, MultinomialNB</td>\n",
       "      <td>{'nb__alpha': 1e-10, 'tfvec__max_df': 0.7, 'tfvec__max_features': 3500, 'tfvec__min_df': 0.001, 'tfvec__ngram_range': (1, 1)}</td>\n",
       "      <td>0.831</td>\n",
       "      <td>0.856</td>\n",
       "      <td>0.832</td>\n",
       "    </tr>\n",
       "  </tbody>\n",
       "</table>\n",
       "</div>"
      ],
      "text/plain": [
       "     transformer_estimator  \\\n",
       "1         CountVec, LogReg   \n",
       "2         TfidfVec, LogReg   \n",
       "3  TfidfVec, MultinomialNB   \n",
       "\n",
       "                                                                                                                            GS_best_params  \\\n",
       "1      {'cvec1__max_df': 0.7, 'cvec1__max_features': 1000, 'cvec1__min_df': 0.02, 'cvec1__ngram_range': (1, 1), 'logreg1__max_iter': 1000}   \n",
       "2  {'logreg2__max_iter': 1000, 'tfvec2__max_df': 0.7, 'tfvec2__max_features': 1000, 'tfvec2__min_df': 0.02, 'tfvec2__ngram_range': (1, 1)}   \n",
       "3            {'nb__alpha': 1e-10, 'tfvec__max_df': 0.7, 'tfvec__max_features': 3500, 'tfvec__min_df': 0.001, 'tfvec__ngram_range': (1, 1)}   \n",
       "\n",
       "   GS_best_score  train_accuracy  test_accuracy  \n",
       "1          0.810           0.837          0.810  \n",
       "2          0.816           0.837          0.816  \n",
       "3          0.831           0.856          0.832  "
      ]
     },
     "execution_count": 38,
     "metadata": {},
     "output_type": "execute_result"
    }
   ],
   "source": [
    "summary_df"
   ]
  },
  {
   "cell_type": "markdown",
   "metadata": {},
   "source": [
    "From the above table, we can see that Multinomial has overall better scores than the Log Reg. The model is relatively overfitted as well. Lets breakdown to see what are the most impactful words that distinguishes between users in r/PTSD and those who arent. "
   ]
  },
  {
   "cell_type": "markdown",
   "metadata": {},
   "source": [
    "### Logistic Regression Modelling"
   ]
  },
  {
   "cell_type": "code",
   "execution_count": 39,
   "metadata": {},
   "outputs": [],
   "source": [
    "# Creating Pipeline with:\n",
    "# Estimator: LogisticRegression (both)\n",
    "# Transformer: CountVectorizer - pipe1, TfidfVectorizer - pipe2\n",
    "\n",
    "pipe4 = Pipeline([('tfvec4', TfidfVectorizer(stop_words= stopwordlist)),\n",
    "                  ('logreg4', LogisticRegression())\n",
    "                 ])"
   ]
  },
  {
   "cell_type": "code",
   "execution_count": 40,
   "metadata": {},
   "outputs": [],
   "source": [
    "# Declaring fixed one-off hyperparameters max_features, min_df, max_df & ngram_range for GridSearchCV first.\n",
    "\n",
    "pipe4_params = {'tfvec4__max_features': [200,500,1000],\n",
    "                'tfvec4__min_df': [0.02, 0.05],\n",
    "                'tfvec4__max_df': [0.5,0.6,0.7],\n",
    "                'tfvec4__ngram_range': [(1,1), (1,2)],\n",
    "                'logreg4__max_iter': [1000]\n",
    "               }"
   ]
  },
  {
   "cell_type": "code",
   "execution_count": 41,
   "metadata": {},
   "outputs": [],
   "source": [
    "# Creating two separate GridSearchCV objects for:\n",
    "# TfidfVectorizer and Logistic Regression with Hyper-parameter tuning\n",
    "\n",
    "gs_pipe4 = GridSearchCV(pipe4, param_grid=pipe4_params, cv=5)"
   ]
  },
  {
   "cell_type": "code",
   "execution_count": 42,
   "metadata": {},
   "outputs": [
    {
     "data": {
      "text/plain": [
       "GridSearchCV(cv=5,\n",
       "             estimator=Pipeline(steps=[('tfvec4',\n",
       "                                        TfidfVectorizer(stop_words=['i', 'me',\n",
       "                                                                    'my',\n",
       "                                                                    'myself',\n",
       "                                                                    'we', 'our',\n",
       "                                                                    'ours',\n",
       "                                                                    'ourselves',\n",
       "                                                                    'you',\n",
       "                                                                    \"you're\",\n",
       "                                                                    \"you've\",\n",
       "                                                                    \"you'll\",\n",
       "                                                                    \"you'd\",\n",
       "                                                                    'your',\n",
       "                                                                    'yours',\n",
       "                                                                    'yourself',\n",
       "                                                                    'yourselves',\n",
       "                                                                    'he', 'him',\n",
       "                                                                    'his',\n",
       "                                                                    'himself',\n",
       "                                                                    'she',\n",
       "                                                                    \"she's\",\n",
       "                                                                    'her',\n",
       "                                                                    'hers',\n",
       "                                                                    'herself',\n",
       "                                                                    'it',\n",
       "                                                                    \"it's\",\n",
       "                                                                    'its',\n",
       "                                                                    'itself', ...])),\n",
       "                                       ('logreg4', LogisticRegression())]),\n",
       "             param_grid={'logreg4__max_iter': [1000],\n",
       "                         'tfvec4__max_df': [0.5, 0.6, 0.7],\n",
       "                         'tfvec4__max_features': [200, 500, 1000],\n",
       "                         'tfvec4__min_df': [0.02, 0.05],\n",
       "                         'tfvec4__ngram_range': [(1, 1), (1, 2)]})"
      ]
     },
     "execution_count": 42,
     "metadata": {},
     "output_type": "execute_result"
    }
   ],
   "source": [
    "# Fitting GridSearchCV with CountVectorizer transformer on X_train and y_train.\n",
    "\n",
    "gs_pipe4.fit(X_train, y_train)"
   ]
  },
  {
   "cell_type": "code",
   "execution_count": 43,
   "metadata": {},
   "outputs": [
    {
     "data": {
      "text/plain": [
       "{'logreg4__max_iter': 1000,\n",
       " 'tfvec4__max_df': 0.5,\n",
       " 'tfvec4__max_features': 1000,\n",
       " 'tfvec4__min_df': 0.02,\n",
       " 'tfvec4__ngram_range': (1, 2)}"
      ]
     },
     "execution_count": 43,
     "metadata": {},
     "output_type": "execute_result"
    }
   ],
   "source": [
    "# Best combination of hyperparameters suggested by GridSearchCV for TfidfVectorizer transformer.\n",
    "\n",
    "gs_pipe4.best_params_"
   ]
  },
  {
   "cell_type": "code",
   "execution_count": 44,
   "metadata": {},
   "outputs": [
    {
     "name": "stdout",
     "output_type": "stream",
     "text": [
      "TfidfVectorizer with LogisticRegression summary of accuracy scores:\n",
      "GridSearchCV best accuracy = 0.817\n",
      "\n",
      "Using GridSearchCV best params suggested,\n",
      "Training corpus accuracy = 0.838\n",
      "Testing corpus accuracy = 0.814\n"
     ]
    }
   ],
   "source": [
    "# Summary scores of CountVectorizer and LogisticRegression.\n",
    "\n",
    "print(\"TfidfVectorizer with LogisticRegression summary of accuracy scores:\")\n",
    "print(f\"GridSearchCV best accuracy = {round(gs_pipe4.best_score_, 3)}\")\n",
    "print(\"\\nUsing GridSearchCV best params suggested,\")\n",
    "print(f\"Training corpus accuracy = {round(gs_pipe4.score(X_train, y_train), 3)}\")\n",
    "print(f\"Testing corpus accuracy = {round(gs_pipe4.score(X_test, y_test), 3)}\")"
   ]
  },
  {
   "cell_type": "code",
   "execution_count": 45,
   "metadata": {},
   "outputs": [],
   "source": [
    "# Adding the accuracy scores from above two GridSearchCV models into summary_df.\n",
    "\n",
    "summary_df.loc[4] = ['TfidfVec, LogisticRegression',\n",
    "                     str(gs_pipe4.best_params_),\n",
    "                     round(gs_pipe4.best_score_, 3),\n",
    "                     round(gs_pipe4.score(X_train, y_train), 3),\n",
    "                     round(gs_pipe4.score(X_test, y_test), 3)\n",
    "                    ]"
   ]
  },
  {
   "cell_type": "code",
   "execution_count": 46,
   "metadata": {},
   "outputs": [
    {
     "data": {
      "text/html": [
       "<div>\n",
       "<style scoped>\n",
       "    .dataframe tbody tr th:only-of-type {\n",
       "        vertical-align: middle;\n",
       "    }\n",
       "\n",
       "    .dataframe tbody tr th {\n",
       "        vertical-align: top;\n",
       "    }\n",
       "\n",
       "    .dataframe thead th {\n",
       "        text-align: right;\n",
       "    }\n",
       "</style>\n",
       "<table border=\"1\" class=\"dataframe\">\n",
       "  <thead>\n",
       "    <tr style=\"text-align: right;\">\n",
       "      <th></th>\n",
       "      <th>transformer_estimator</th>\n",
       "      <th>GS_best_params</th>\n",
       "      <th>GS_best_score</th>\n",
       "      <th>train_accuracy</th>\n",
       "      <th>test_accuracy</th>\n",
       "    </tr>\n",
       "  </thead>\n",
       "  <tbody>\n",
       "    <tr>\n",
       "      <th>1</th>\n",
       "      <td>CountVec, LogReg</td>\n",
       "      <td>{'cvec1__max_df': 0.7, 'cvec1__max_features': 1000, 'cvec1__min_df': 0.02, 'cvec1__ngram_range': (1, 1), 'logreg1__max_iter': 1000}</td>\n",
       "      <td>0.810</td>\n",
       "      <td>0.837</td>\n",
       "      <td>0.810</td>\n",
       "    </tr>\n",
       "    <tr>\n",
       "      <th>2</th>\n",
       "      <td>TfidfVec, LogReg</td>\n",
       "      <td>{'logreg2__max_iter': 1000, 'tfvec2__max_df': 0.7, 'tfvec2__max_features': 1000, 'tfvec2__min_df': 0.02, 'tfvec2__ngram_range': (1, 1)}</td>\n",
       "      <td>0.816</td>\n",
       "      <td>0.837</td>\n",
       "      <td>0.816</td>\n",
       "    </tr>\n",
       "    <tr>\n",
       "      <th>3</th>\n",
       "      <td>TfidfVec, MultinomialNB</td>\n",
       "      <td>{'nb__alpha': 1e-10, 'tfvec__max_df': 0.7, 'tfvec__max_features': 3500, 'tfvec__min_df': 0.001, 'tfvec__ngram_range': (1, 1)}</td>\n",
       "      <td>0.831</td>\n",
       "      <td>0.856</td>\n",
       "      <td>0.832</td>\n",
       "    </tr>\n",
       "    <tr>\n",
       "      <th>4</th>\n",
       "      <td>TfidfVec, LogisticRegression</td>\n",
       "      <td>{'logreg4__max_iter': 1000, 'tfvec4__max_df': 0.5, 'tfvec4__max_features': 1000, 'tfvec4__min_df': 0.02, 'tfvec4__ngram_range': (1, 2)}</td>\n",
       "      <td>0.817</td>\n",
       "      <td>0.838</td>\n",
       "      <td>0.814</td>\n",
       "    </tr>\n",
       "  </tbody>\n",
       "</table>\n",
       "</div>"
      ],
      "text/plain": [
       "          transformer_estimator  \\\n",
       "1              CountVec, LogReg   \n",
       "2              TfidfVec, LogReg   \n",
       "3       TfidfVec, MultinomialNB   \n",
       "4  TfidfVec, LogisticRegression   \n",
       "\n",
       "                                                                                                                            GS_best_params  \\\n",
       "1      {'cvec1__max_df': 0.7, 'cvec1__max_features': 1000, 'cvec1__min_df': 0.02, 'cvec1__ngram_range': (1, 1), 'logreg1__max_iter': 1000}   \n",
       "2  {'logreg2__max_iter': 1000, 'tfvec2__max_df': 0.7, 'tfvec2__max_features': 1000, 'tfvec2__min_df': 0.02, 'tfvec2__ngram_range': (1, 1)}   \n",
       "3            {'nb__alpha': 1e-10, 'tfvec__max_df': 0.7, 'tfvec__max_features': 3500, 'tfvec__min_df': 0.001, 'tfvec__ngram_range': (1, 1)}   \n",
       "4  {'logreg4__max_iter': 1000, 'tfvec4__max_df': 0.5, 'tfvec4__max_features': 1000, 'tfvec4__min_df': 0.02, 'tfvec4__ngram_range': (1, 2)}   \n",
       "\n",
       "   GS_best_score  train_accuracy  test_accuracy  \n",
       "1          0.810           0.837          0.810  \n",
       "2          0.816           0.837          0.816  \n",
       "3          0.831           0.856          0.832  \n",
       "4          0.817           0.838          0.814  "
      ]
     },
     "execution_count": 46,
     "metadata": {},
     "output_type": "execute_result"
    }
   ],
   "source": [
    "summary_df"
   ]
  },
  {
   "cell_type": "markdown",
   "metadata": {},
   "source": [
    "The MultinomialNB has the highest scores, with slight overfit to test accuracy scores. \n",
    "However, I did notice that the Logistic Regression after hyperparameter tuning, it was able to pick up ngrams with range of 2 as a best parameter. "
   ]
  },
  {
   "cell_type": "markdown",
   "metadata": {},
   "source": [
    "### Random Forest Classifier"
   ]
  },
  {
   "cell_type": "code",
   "execution_count": 244,
   "metadata": {},
   "outputs": [],
   "source": [
    "# Creating Pipeline with:\n",
    "# Estimator: Random Forest Classifier\n",
    "# Transformer: TfidfVectorizer - pipe5\n",
    "\n",
    "pipe5 = Pipeline([('tfvec5', TfidfVectorizer(stop_words= stopwordlist)),\n",
    "                  ('RanForest', RandomForestClassifier())\n",
    "                 ])"
   ]
  },
  {
   "cell_type": "code",
   "execution_count": 245,
   "metadata": {},
   "outputs": [],
   "source": [
    "# Declaring fixed one-off hyperparameters max_features, min_df, max_df & ngram_range for GridSearchCV first.\n",
    "\n",
    "pipe5_params = {'tfvec5__max_features': [200,500],\n",
    "                'tfvec5__min_df': [0.01, 0.02],\n",
    "                'tfvec5__max_df': [0.6,0.7],\n",
    "                'tfvec5__ngram_range': [(1,1), (1,2)],\n",
    "                'RanForest__n_estimators': [100, 150],\n",
    "                'RanForest__max_depth': [3,5],\n",
    "                'RanForest__max_features': ['sqrt','log2', 0.5]\n",
    "               }"
   ]
  },
  {
   "cell_type": "code",
   "execution_count": 246,
   "metadata": {},
   "outputs": [],
   "source": [
    "# Creating two separate GridSearchCV objects for:\n",
    "# TfidfVectorizer and RandomForestClassifier with Hyper-parameter tuning\n",
    "\n",
    "gs_pipe5 = GridSearchCV(pipe5, param_grid=pipe5_params, cv=5)"
   ]
  },
  {
   "cell_type": "code",
   "execution_count": 247,
   "metadata": {},
   "outputs": [
    {
     "data": {
      "text/plain": [
       "GridSearchCV(cv=5,\n",
       "             estimator=Pipeline(steps=[('tfvec5',\n",
       "                                        TfidfVectorizer(stop_words=['i', 'me',\n",
       "                                                                    'my',\n",
       "                                                                    'myself',\n",
       "                                                                    'we', 'our',\n",
       "                                                                    'ours',\n",
       "                                                                    'ourselves',\n",
       "                                                                    'you',\n",
       "                                                                    \"you're\",\n",
       "                                                                    \"you've\",\n",
       "                                                                    \"you'll\",\n",
       "                                                                    \"you'd\",\n",
       "                                                                    'your',\n",
       "                                                                    'yours',\n",
       "                                                                    'yourself',\n",
       "                                                                    'yourselves',\n",
       "                                                                    'he', 'him',\n",
       "                                                                    'his',\n",
       "                                                                    'himself',\n",
       "                                                                    'she',\n",
       "                                                                    \"she's\",\n",
       "                                                                    'her',\n",
       "                                                                    'hers',\n",
       "                                                                    'herself',\n",
       "                                                                    'it',\n",
       "                                                                    \"it's\",\n",
       "                                                                    'its',\n",
       "                                                                    'itself', ...])),\n",
       "                                       ('RanForest',\n",
       "                                        RandomForestClassifier())]),\n",
       "             param_grid={'RanForest__max_depth': [3, 5],\n",
       "                         'RanForest__max_features': ['sqrt', 'log2', 0.5],\n",
       "                         'RanForest__n_estimators': [100, 150],\n",
       "                         'tfvec5__max_df': [0.6, 0.7],\n",
       "                         'tfvec5__max_features': [200, 500],\n",
       "                         'tfvec5__min_df': [0.01, 0.02],\n",
       "                         'tfvec5__ngram_range': [(1, 1), (1, 2)]})"
      ]
     },
     "execution_count": 247,
     "metadata": {},
     "output_type": "execute_result"
    }
   ],
   "source": [
    "# Fitting GridSearchCV with TfidfVectorizer transformer on X_train and y_train.\n",
    "\n",
    "gs_pipe5.fit(X_train, y_train)"
   ]
  },
  {
   "cell_type": "code",
   "execution_count": 248,
   "metadata": {},
   "outputs": [
    {
     "data": {
      "text/plain": [
       "{'RanForest__max_depth': 5,\n",
       " 'RanForest__max_features': 'sqrt',\n",
       " 'RanForest__n_estimators': 150,\n",
       " 'tfvec5__max_df': 0.7,\n",
       " 'tfvec5__max_features': 500,\n",
       " 'tfvec5__min_df': 0.01,\n",
       " 'tfvec5__ngram_range': (1, 2)}"
      ]
     },
     "execution_count": 248,
     "metadata": {},
     "output_type": "execute_result"
    }
   ],
   "source": [
    "# Best combination of hyperparameters suggested by GridSearchCV for TfidfVectorizer transformer.\n",
    "\n",
    "gs_pipe5.best_params_"
   ]
  },
  {
   "cell_type": "code",
   "execution_count": 249,
   "metadata": {},
   "outputs": [
    {
     "name": "stdout",
     "output_type": "stream",
     "text": [
      "TfidfVectorizer with LogisticRegression summary of accuracy scores:\n",
      "GridSearchCV best accuracy = 0.761\n",
      "\n",
      "Using GridSearchCV best params suggested,\n",
      "Training corpus accuracy = 0.767\n",
      "Testing corpus accuracy = 0.746\n"
     ]
    }
   ],
   "source": [
    "# Summary scores of TfidfVectorizer and RandomForestClassifier.\n",
    "\n",
    "print(\"TfidfVectorizer with LogisticRegression summary of accuracy scores:\")\n",
    "print(f\"GridSearchCV best accuracy = {round(gs_pipe5.best_score_, 3)}\")\n",
    "print(\"\\nUsing GridSearchCV best params suggested,\")\n",
    "print(f\"Training corpus accuracy = {round(gs_pipe5.score(X_train, y_train), 3)}\")\n",
    "print(f\"Testing corpus accuracy = {round(gs_pipe5.score(X_test, y_test), 3)}\")"
   ]
  },
  {
   "cell_type": "code",
   "execution_count": 250,
   "metadata": {},
   "outputs": [],
   "source": [
    "# Adding the accuracy scores from above two GridSearchCV models into summary_df.\n",
    "\n",
    "summary_df.loc[5] = ['TfidfVec, RandomForest',\n",
    "                     str(gs_pipe5.best_params_),\n",
    "                     round(gs_pipe5.best_score_, 3),\n",
    "                     round(gs_pipe5.score(X_train, y_train), 3),\n",
    "                     round(gs_pipe5.score(X_test, y_test), 3)\n",
    "                    ]"
   ]
  },
  {
   "cell_type": "code",
   "execution_count": 251,
   "metadata": {},
   "outputs": [
    {
     "data": {
      "text/html": [
       "<div>\n",
       "<style scoped>\n",
       "    .dataframe tbody tr th:only-of-type {\n",
       "        vertical-align: middle;\n",
       "    }\n",
       "\n",
       "    .dataframe tbody tr th {\n",
       "        vertical-align: top;\n",
       "    }\n",
       "\n",
       "    .dataframe thead th {\n",
       "        text-align: right;\n",
       "    }\n",
       "</style>\n",
       "<table border=\"1\" class=\"dataframe\">\n",
       "  <thead>\n",
       "    <tr style=\"text-align: right;\">\n",
       "      <th></th>\n",
       "      <th>transformer_estimator</th>\n",
       "      <th>GS_best_params</th>\n",
       "      <th>GS_best_score</th>\n",
       "      <th>train_accuracy</th>\n",
       "      <th>test_accuracy</th>\n",
       "    </tr>\n",
       "  </thead>\n",
       "  <tbody>\n",
       "    <tr>\n",
       "      <th>1</th>\n",
       "      <td>CountVec, LogReg</td>\n",
       "      <td>{'cvec1__max_df': 0.7, 'cvec1__max_features': 1000, 'cvec1__min_df': 0.02, 'cvec1__ngram_range': (1, 1), 'logreg1__max_iter': 1000}</td>\n",
       "      <td>0.810</td>\n",
       "      <td>0.837</td>\n",
       "      <td>0.810</td>\n",
       "    </tr>\n",
       "    <tr>\n",
       "      <th>2</th>\n",
       "      <td>TfidfVec, LogReg</td>\n",
       "      <td>{'logreg2__max_iter': 1000, 'tfvec2__max_df': 0.7, 'tfvec2__max_features': 1000, 'tfvec2__min_df': 0.02, 'tfvec2__ngram_range': (1, 1)}</td>\n",
       "      <td>0.816</td>\n",
       "      <td>0.837</td>\n",
       "      <td>0.816</td>\n",
       "    </tr>\n",
       "    <tr>\n",
       "      <th>3</th>\n",
       "      <td>TfidfVec, MultinomialNB</td>\n",
       "      <td>{'nb__alpha': 1e-10, 'tfvec__max_df': 0.7, 'tfvec__max_features': 3500, 'tfvec__min_df': 0.001, 'tfvec__ngram_range': (1, 1)}</td>\n",
       "      <td>0.831</td>\n",
       "      <td>0.856</td>\n",
       "      <td>0.832</td>\n",
       "    </tr>\n",
       "    <tr>\n",
       "      <th>4</th>\n",
       "      <td>TfidfVec, LogisticRegression</td>\n",
       "      <td>{'logreg4__max_iter': 1000, 'tfvec4__max_df': 0.5, 'tfvec4__max_features': 1000, 'tfvec4__min_df': 0.02, 'tfvec4__ngram_range': (1, 2)}</td>\n",
       "      <td>0.817</td>\n",
       "      <td>0.838</td>\n",
       "      <td>0.814</td>\n",
       "    </tr>\n",
       "    <tr>\n",
       "      <th>6</th>\n",
       "      <td>TfidfVec, MultinomialNB_withStopwordAdded</td>\n",
       "      <td>{'nb__alpha': 1e-10, 'tfvec__max_df': 0.7, 'tfvec__max_features': 3500, 'tfvec__min_df': 0.001, 'tfvec__ngram_range': (1, 1)}</td>\n",
       "      <td>0.829</td>\n",
       "      <td>0.854</td>\n",
       "      <td>0.832</td>\n",
       "    </tr>\n",
       "    <tr>\n",
       "      <th>5</th>\n",
       "      <td>TfidfVec, RandomForest</td>\n",
       "      <td>{'RanForest__max_depth': 5, 'RanForest__max_features': 'sqrt', 'RanForest__n_estimators': 150, 'tfvec5__max_df': 0.7, 'tfvec5__max_features': 500, 'tfvec5__min_df': 0.01, 'tfvec5__ngram_range': (1, 2)}</td>\n",
       "      <td>0.761</td>\n",
       "      <td>0.767</td>\n",
       "      <td>0.746</td>\n",
       "    </tr>\n",
       "  </tbody>\n",
       "</table>\n",
       "</div>"
      ],
      "text/plain": [
       "                       transformer_estimator  \\\n",
       "1                           CountVec, LogReg   \n",
       "2                           TfidfVec, LogReg   \n",
       "3                    TfidfVec, MultinomialNB   \n",
       "4               TfidfVec, LogisticRegression   \n",
       "6  TfidfVec, MultinomialNB_withStopwordAdded   \n",
       "5                     TfidfVec, RandomForest   \n",
       "\n",
       "                                                                                                                                                                                              GS_best_params  \\\n",
       "1                                                                        {'cvec1__max_df': 0.7, 'cvec1__max_features': 1000, 'cvec1__min_df': 0.02, 'cvec1__ngram_range': (1, 1), 'logreg1__max_iter': 1000}   \n",
       "2                                                                    {'logreg2__max_iter': 1000, 'tfvec2__max_df': 0.7, 'tfvec2__max_features': 1000, 'tfvec2__min_df': 0.02, 'tfvec2__ngram_range': (1, 1)}   \n",
       "3                                                                              {'nb__alpha': 1e-10, 'tfvec__max_df': 0.7, 'tfvec__max_features': 3500, 'tfvec__min_df': 0.001, 'tfvec__ngram_range': (1, 1)}   \n",
       "4                                                                    {'logreg4__max_iter': 1000, 'tfvec4__max_df': 0.5, 'tfvec4__max_features': 1000, 'tfvec4__min_df': 0.02, 'tfvec4__ngram_range': (1, 2)}   \n",
       "6                                                                              {'nb__alpha': 1e-10, 'tfvec__max_df': 0.7, 'tfvec__max_features': 3500, 'tfvec__min_df': 0.001, 'tfvec__ngram_range': (1, 1)}   \n",
       "5  {'RanForest__max_depth': 5, 'RanForest__max_features': 'sqrt', 'RanForest__n_estimators': 150, 'tfvec5__max_df': 0.7, 'tfvec5__max_features': 500, 'tfvec5__min_df': 0.01, 'tfvec5__ngram_range': (1, 2)}   \n",
       "\n",
       "   GS_best_score  train_accuracy  test_accuracy  \n",
       "1          0.810           0.837          0.810  \n",
       "2          0.816           0.837          0.816  \n",
       "3          0.831           0.856          0.832  \n",
       "4          0.817           0.838          0.814  \n",
       "6          0.829           0.854          0.832  \n",
       "5          0.761           0.767          0.746  "
      ]
     },
     "execution_count": 251,
     "metadata": {},
     "output_type": "execute_result"
    }
   ],
   "source": [
    "summary_df"
   ]
  },
  {
   "cell_type": "markdown",
   "metadata": {},
   "source": [
    "## Error Analysis"
   ]
  },
  {
   "cell_type": "markdown",
   "metadata": {},
   "source": [
    "### Analysis on top few features\n",
    "\n",
    "Comparison between Logistic Regression and MultinomialNB\n",
    "\n",
    "Features were selected by retrieving the coefficients from the Logistic regression and the relative difference of log probability from multinomialNB model."
   ]
  },
  {
   "cell_type": "code",
   "execution_count": 252,
   "metadata": {},
   "outputs": [
    {
     "data": {
      "text/html": [
       "<div>\n",
       "<style scoped>\n",
       "    .dataframe tbody tr th:only-of-type {\n",
       "        vertical-align: middle;\n",
       "    }\n",
       "\n",
       "    .dataframe tbody tr th {\n",
       "        vertical-align: top;\n",
       "    }\n",
       "\n",
       "    .dataframe thead th {\n",
       "        text-align: right;\n",
       "    }\n",
       "</style>\n",
       "<table border=\"1\" class=\"dataframe\">\n",
       "  <thead>\n",
       "    <tr style=\"text-align: right;\">\n",
       "      <th></th>\n",
       "      <th>Features</th>\n",
       "      <th>Coefficients</th>\n",
       "    </tr>\n",
       "  </thead>\n",
       "  <tbody>\n",
       "    <tr>\n",
       "      <th>198</th>\n",
       "      <td>flashback</td>\n",
       "      <td>8.892989</td>\n",
       "    </tr>\n",
       "    <tr>\n",
       "      <th>368</th>\n",
       "      <td>nightmare</td>\n",
       "      <td>6.778599</td>\n",
       "    </tr>\n",
       "    <tr>\n",
       "      <th>2</th>\n",
       "      <td>abuse</td>\n",
       "      <td>5.570160</td>\n",
       "    </tr>\n",
       "    <tr>\n",
       "      <th>558</th>\n",
       "      <td>triggered</td>\n",
       "      <td>5.204683</td>\n",
       "    </tr>\n",
       "    <tr>\n",
       "      <th>4</th>\n",
       "      <td>abuser</td>\n",
       "      <td>5.153748</td>\n",
       "    </tr>\n",
       "    <tr>\n",
       "      <th>237</th>\n",
       "      <td>happened</td>\n",
       "      <td>4.852930</td>\n",
       "    </tr>\n",
       "    <tr>\n",
       "      <th>126</th>\n",
       "      <td>diagnosed</td>\n",
       "      <td>4.776442</td>\n",
       "    </tr>\n",
       "    <tr>\n",
       "      <th>557</th>\n",
       "      <td>trigger</td>\n",
       "      <td>4.558818</td>\n",
       "    </tr>\n",
       "    <tr>\n",
       "      <th>3</th>\n",
       "      <td>abused</td>\n",
       "      <td>4.138784</td>\n",
       "    </tr>\n",
       "    <tr>\n",
       "      <th>5</th>\n",
       "      <td>abusive</td>\n",
       "      <td>4.083983</td>\n",
       "    </tr>\n",
       "    <tr>\n",
       "      <th>333</th>\n",
       "      <td>memory</td>\n",
       "      <td>3.963588</td>\n",
       "    </tr>\n",
       "    <tr>\n",
       "      <th>559</th>\n",
       "      <td>triggering</td>\n",
       "      <td>3.884775</td>\n",
       "    </tr>\n",
       "    <tr>\n",
       "      <th>39</th>\n",
       "      <td>assault</td>\n",
       "      <td>3.770568</td>\n",
       "    </tr>\n",
       "    <tr>\n",
       "      <th>127</th>\n",
       "      <td>diagnosis</td>\n",
       "      <td>3.704987</td>\n",
       "    </tr>\n",
       "    <tr>\n",
       "      <th>161</th>\n",
       "      <td>event</td>\n",
       "      <td>3.608441</td>\n",
       "    </tr>\n",
       "  </tbody>\n",
       "</table>\n",
       "</div>"
      ],
      "text/plain": [
       "       Features  Coefficients\n",
       "198   flashback      8.892989\n",
       "368   nightmare      6.778599\n",
       "2         abuse      5.570160\n",
       "558   triggered      5.204683\n",
       "4        abuser      5.153748\n",
       "237    happened      4.852930\n",
       "126   diagnosed      4.776442\n",
       "557     trigger      4.558818\n",
       "3        abused      4.138784\n",
       "5       abusive      4.083983\n",
       "333      memory      3.963588\n",
       "559  triggering      3.884775\n",
       "39      assault      3.770568\n",
       "127   diagnosis      3.704987\n",
       "161       event      3.608441"
      ]
     },
     "execution_count": 252,
     "metadata": {},
     "output_type": "execute_result"
    }
   ],
   "source": [
    "df_logreg = pd.DataFrame([[x,y] for x,y in zip(gs_pipe2.best_estimator_[0].get_feature_names_out(), (gs_pipe2.best_estimator_[1].coef_).tolist()[0])])\n",
    "df_logreg.rename(columns= {0: 'Features', 1: 'Coefficients'}, inplace = True)\n",
    "df_logreg.sort_values(by = 'Coefficients', ascending = False).head(15)"
   ]
  },
  {
   "cell_type": "code",
   "execution_count": 253,
   "metadata": {},
   "outputs": [
    {
     "data": {
      "text/html": [
       "<div>\n",
       "<style scoped>\n",
       "    .dataframe tbody tr th:only-of-type {\n",
       "        vertical-align: middle;\n",
       "    }\n",
       "\n",
       "    .dataframe tbody tr th {\n",
       "        vertical-align: top;\n",
       "    }\n",
       "\n",
       "    .dataframe thead th {\n",
       "        text-align: right;\n",
       "    }\n",
       "</style>\n",
       "<table border=\"1\" class=\"dataframe\">\n",
       "  <thead>\n",
       "    <tr style=\"text-align: right;\">\n",
       "      <th></th>\n",
       "      <th>Features</th>\n",
       "      <th>log_prob_diff</th>\n",
       "    </tr>\n",
       "  </thead>\n",
       "  <tbody>\n",
       "    <tr>\n",
       "      <th>2412</th>\n",
       "      <td>raped</td>\n",
       "      <td>26.453170</td>\n",
       "    </tr>\n",
       "    <tr>\n",
       "      <th>2411</th>\n",
       "      <td>rape</td>\n",
       "      <td>26.384407</td>\n",
       "    </tr>\n",
       "    <tr>\n",
       "      <th>2286</th>\n",
       "      <td>prazosin</td>\n",
       "      <td>26.101458</td>\n",
       "    </tr>\n",
       "    <tr>\n",
       "      <th>1168</th>\n",
       "      <td>firework</td>\n",
       "      <td>25.743222</td>\n",
       "    </tr>\n",
       "    <tr>\n",
       "      <th>718</th>\n",
       "      <td>csa</td>\n",
       "      <td>25.327090</td>\n",
       "    </tr>\n",
       "    <tr>\n",
       "      <th>455</th>\n",
       "      <td>cannabis</td>\n",
       "      <td>24.971071</td>\n",
       "    </tr>\n",
       "    <tr>\n",
       "      <th>3006</th>\n",
       "      <td>survey</td>\n",
       "      <td>24.845533</td>\n",
       "    </tr>\n",
       "    <tr>\n",
       "      <th>2206</th>\n",
       "      <td>perpetrator</td>\n",
       "      <td>24.819069</td>\n",
       "    </tr>\n",
       "    <tr>\n",
       "      <th>1511</th>\n",
       "      <td>hypervigilant</td>\n",
       "      <td>24.598624</td>\n",
       "    </tr>\n",
       "    <tr>\n",
       "      <th>2894</th>\n",
       "      <td>stalked</td>\n",
       "      <td>24.334230</td>\n",
       "    </tr>\n",
       "    <tr>\n",
       "      <th>2414</th>\n",
       "      <td>rapist</td>\n",
       "      <td>5.256263</td>\n",
       "    </tr>\n",
       "    <tr>\n",
       "      <th>14</th>\n",
       "      <td>abuser</td>\n",
       "      <td>5.155670</td>\n",
       "    </tr>\n",
       "    <tr>\n",
       "      <th>190</th>\n",
       "      <td>assault</td>\n",
       "      <td>4.543671</td>\n",
       "    </tr>\n",
       "    <tr>\n",
       "      <th>1179</th>\n",
       "      <td>flashback</td>\n",
       "      <td>4.472412</td>\n",
       "    </tr>\n",
       "    <tr>\n",
       "      <th>2532</th>\n",
       "      <td>repressed</td>\n",
       "      <td>3.993304</td>\n",
       "    </tr>\n",
       "  </tbody>\n",
       "</table>\n",
       "</div>"
      ],
      "text/plain": [
       "           Features  log_prob_diff\n",
       "2412          raped      26.453170\n",
       "2411           rape      26.384407\n",
       "2286       prazosin      26.101458\n",
       "1168       firework      25.743222\n",
       "718             csa      25.327090\n",
       "455        cannabis      24.971071\n",
       "3006         survey      24.845533\n",
       "2206    perpetrator      24.819069\n",
       "1511  hypervigilant      24.598624\n",
       "2894        stalked      24.334230\n",
       "2414         rapist       5.256263\n",
       "14           abuser       5.155670\n",
       "190         assault       4.543671\n",
       "1179      flashback       4.472412\n",
       "2532      repressed       3.993304"
      ]
     },
     "execution_count": 253,
     "metadata": {},
     "output_type": "execute_result"
    }
   ],
   "source": [
    "delta = gs_pipe3.best_estimator_[1].feature_log_prob_[1, :] - gs_pipe3.best_estimator_[1].feature_log_prob_[0, :]\n",
    "\n",
    "df_multinomial = pd.DataFrame([[x,y] for x,y in zip(gs_pipe3.best_estimator_[0].get_feature_names_out(),(delta))])\n",
    "df_multinomial.rename(columns= {0: 'Features', 1: 'log_prob_diff'}, inplace = True)\n",
    "df_multinomial.sort_values(by = 'log_prob_diff', ascending = False).head(15)"
   ]
  },
  {
   "cell_type": "markdown",
   "metadata": {},
   "source": [
    "**Comments on top few features**\n",
    "- For logistic regression model, the top few features like 'flashbacks', 'nightmares', 'triggers' can serve as ***true symptoms of users suffering from PTSD***. Based on ([*source*](https://www.psychologytoday.com/us/conditions/post-traumatic-stress-disorder)), patients suffering from PTSD then to have those stated features. \n",
    "- Although it contains some words like 'abuse' that might describe ***causes of PTSD***, I believe when looking at the top few features from MultinomialNB, I can find more words that describes the ***causes AND triggers of PTSD*** more like 'rape', 'firework', 'assault', 'csa' which stands for childhood sexual abuse, 'repressed', 'stalked'.\n",
    "\n",
    "- Overall by far, aligned with the accuracy score, I would conclude that MultinomialNB is more superior in getting defining words that may classifiy people with PTSD more. "
   ]
  },
  {
   "cell_type": "code",
   "execution_count": 254,
   "metadata": {},
   "outputs": [
    {
     "data": {
      "text/plain": [
       "35                                                                                                                                                                                                                                    anyone else feel sound hit body awful hate freaking firework\n",
       "47      last night bad asking neighbor heard anything could sworn heard gun shot maybe firework nothing ordinary live country maybe people hunting bed started shaking though kept seeing dark people figure triggered feel drained crap sleep getting day like nothing happened want control vent\n",
       "1646                                                                                                                                                                                                     extremely scared firework past abuse tonight firework show distract firework show tonight\n",
       "Name: lemmi_clean_text, dtype: object"
      ]
     },
     "execution_count": 254,
     "metadata": {},
     "output_type": "execute_result"
    }
   ],
   "source": [
    "df.loc[df['lemmi_clean_text'].str.contains('firework'), 'lemmi_clean_text'][0:3]"
   ]
  },
  {
   "cell_type": "code",
   "execution_count": 255,
   "metadata": {},
   "outputs": [
    {
     "data": {
      "text/html": [
       "<div>\n",
       "<style scoped>\n",
       "    .dataframe tbody tr th:only-of-type {\n",
       "        vertical-align: middle;\n",
       "    }\n",
       "\n",
       "    .dataframe tbody tr th {\n",
       "        vertical-align: top;\n",
       "    }\n",
       "\n",
       "    .dataframe thead th {\n",
       "        text-align: right;\n",
       "    }\n",
       "</style>\n",
       "<table border=\"1\" class=\"dataframe\">\n",
       "  <thead>\n",
       "    <tr style=\"text-align: right;\">\n",
       "      <th></th>\n",
       "      <th>author</th>\n",
       "    </tr>\n",
       "    <tr>\n",
       "      <th>month</th>\n",
       "      <th></th>\n",
       "    </tr>\n",
       "  </thead>\n",
       "  <tbody>\n",
       "    <tr>\n",
       "      <th>1</th>\n",
       "      <td>7</td>\n",
       "    </tr>\n",
       "    <tr>\n",
       "      <th>2</th>\n",
       "      <td>3</td>\n",
       "    </tr>\n",
       "    <tr>\n",
       "      <th>5</th>\n",
       "      <td>1</td>\n",
       "    </tr>\n",
       "    <tr>\n",
       "      <th>6</th>\n",
       "      <td>7</td>\n",
       "    </tr>\n",
       "    <tr>\n",
       "      <th>7</th>\n",
       "      <td>33</td>\n",
       "    </tr>\n",
       "    <tr>\n",
       "      <th>8</th>\n",
       "      <td>5</td>\n",
       "    </tr>\n",
       "    <tr>\n",
       "      <th>9</th>\n",
       "      <td>4</td>\n",
       "    </tr>\n",
       "    <tr>\n",
       "      <th>10</th>\n",
       "      <td>3</td>\n",
       "    </tr>\n",
       "    <tr>\n",
       "      <th>11</th>\n",
       "      <td>5</td>\n",
       "    </tr>\n",
       "    <tr>\n",
       "      <th>12</th>\n",
       "      <td>2</td>\n",
       "    </tr>\n",
       "  </tbody>\n",
       "</table>\n",
       "</div>"
      ],
      "text/plain": [
       "       author\n",
       "month        \n",
       "1           7\n",
       "2           3\n",
       "5           1\n",
       "6           7\n",
       "7          33\n",
       "8           5\n",
       "9           4\n",
       "10          3\n",
       "11          5\n",
       "12          2"
      ]
     },
     "execution_count": 255,
     "metadata": {},
     "output_type": "execute_result"
    }
   ],
   "source": [
    "df[df['lemmi_clean_text'].str.contains('firework')].groupby('month').count()[['author']]"
   ]
  },
  {
   "cell_type": "markdown",
   "metadata": {},
   "source": [
    "***Firework Identified***\n",
    "\n",
    "Found Fireworks seem to be interesting, upon investigating main dataset, the word mainly coming from the text and the title as well, explaining they have triggers likely due to firework loud noises. \n",
    "\n",
    "The fact that it was highlighted as a main feature, suggest that it might be severe more with users from r/PTSD. True enough, based on ([*source*](https://www.insider.com/how-fireworks-affect-you-from-increased-anxiety-and-memory-problems-2020-7#:~:text=Repetitive%20fireworks%20launched%20at%20night,can%20weaken%20your%20immune%20system.)), people with past trauma related to sound are impacted significantly worse by loud explosion of fireworks, causing reminiscent of threat and may have activated the brain's threat detector. \n",
    "\n",
    "Linking back to the EDA on post, we did see spikes on July 2021.Based on ([*source*](https://wgntv.com/news/fireworks-retailer-warns-of-july-4-shortage-here-are-the-states-where-its-legal-to-stock-up/)), there is seasonal fireworks on every 4th of July across many states in the US. Although we cant assume most users from the subreddits are from US, but it is room for exploration, to deep dive into the location and firework activities. \n",
    "\n"
   ]
  },
  {
   "cell_type": "markdown",
   "metadata": {},
   "source": [
    "### What is the sensitivity of all pipelines "
   ]
  },
  {
   "cell_type": "code",
   "execution_count": 256,
   "metadata": {},
   "outputs": [],
   "source": [
    "# What is the test sensitivity of our model?\n",
    "# By hand\n",
    "list_of_gs = [gs_pipe1, gs_pipe2, gs_pipe3, gs_pipe4]\n",
    "\n",
    "\n",
    "sensitivity_df = []\n",
    "for gs in list_of_gs:\n",
    "    preds = gs.predict(X_test)\n",
    "    tn, fp, fn, tp = confusion_matrix(y_test, preds).ravel();\n",
    "    sensitivity_df.append(tp / (tp + fn))\n",
    "\n",
    "\n",
    "sensitivity_df= pd.DataFrame(sensitivity_df)"
   ]
  },
  {
   "cell_type": "code",
   "execution_count": 257,
   "metadata": {},
   "outputs": [
    {
     "data": {
      "text/html": [
       "<div>\n",
       "<style scoped>\n",
       "    .dataframe tbody tr th:only-of-type {\n",
       "        vertical-align: middle;\n",
       "    }\n",
       "\n",
       "    .dataframe tbody tr th {\n",
       "        vertical-align: top;\n",
       "    }\n",
       "\n",
       "    .dataframe thead th {\n",
       "        text-align: right;\n",
       "    }\n",
       "</style>\n",
       "<table border=\"1\" class=\"dataframe\">\n",
       "  <thead>\n",
       "    <tr style=\"text-align: right;\">\n",
       "      <th></th>\n",
       "      <th>transformer_estimator</th>\n",
       "      <th>GS_best_params</th>\n",
       "      <th>GS_best_score</th>\n",
       "      <th>train_accuracy</th>\n",
       "      <th>test_accuracy</th>\n",
       "      <th>Sensitivity</th>\n",
       "    </tr>\n",
       "  </thead>\n",
       "  <tbody>\n",
       "    <tr>\n",
       "      <th>2</th>\n",
       "      <td>TfidfVec, MultinomialNB</td>\n",
       "      <td>{'nb__alpha': 1e-10, 'tfvec__max_df': 0.7, 'tfvec__max_features': 3500, 'tfvec__min_df': 0.001, 'tfvec__ngram_range': (1, 1)}</td>\n",
       "      <td>0.831</td>\n",
       "      <td>0.856</td>\n",
       "      <td>0.832</td>\n",
       "      <td>0.846306</td>\n",
       "    </tr>\n",
       "    <tr>\n",
       "      <th>1</th>\n",
       "      <td>TfidfVec, LogReg</td>\n",
       "      <td>{'logreg2__max_iter': 1000, 'tfvec2__max_df': 0.7, 'tfvec2__max_features': 1000, 'tfvec2__min_df': 0.02, 'tfvec2__ngram_range': (1, 1)}</td>\n",
       "      <td>0.816</td>\n",
       "      <td>0.837</td>\n",
       "      <td>0.816</td>\n",
       "      <td>0.789411</td>\n",
       "    </tr>\n",
       "    <tr>\n",
       "      <th>3</th>\n",
       "      <td>TfidfVec, LogisticRegression</td>\n",
       "      <td>{'logreg4__max_iter': 1000, 'tfvec4__max_df': 0.5, 'tfvec4__max_features': 1000, 'tfvec4__min_df': 0.02, 'tfvec4__ngram_range': (1, 2)}</td>\n",
       "      <td>0.817</td>\n",
       "      <td>0.838</td>\n",
       "      <td>0.814</td>\n",
       "      <td>0.786250</td>\n",
       "    </tr>\n",
       "    <tr>\n",
       "      <th>0</th>\n",
       "      <td>CountVec, LogReg</td>\n",
       "      <td>{'cvec1__max_df': 0.7, 'cvec1__max_features': 1000, 'cvec1__min_df': 0.02, 'cvec1__ngram_range': (1, 1), 'logreg1__max_iter': 1000}</td>\n",
       "      <td>0.810</td>\n",
       "      <td>0.837</td>\n",
       "      <td>0.810</td>\n",
       "      <td>0.770842</td>\n",
       "    </tr>\n",
       "  </tbody>\n",
       "</table>\n",
       "</div>"
      ],
      "text/plain": [
       "          transformer_estimator  \\\n",
       "2       TfidfVec, MultinomialNB   \n",
       "1              TfidfVec, LogReg   \n",
       "3  TfidfVec, LogisticRegression   \n",
       "0              CountVec, LogReg   \n",
       "\n",
       "                                                                                                                            GS_best_params  \\\n",
       "2            {'nb__alpha': 1e-10, 'tfvec__max_df': 0.7, 'tfvec__max_features': 3500, 'tfvec__min_df': 0.001, 'tfvec__ngram_range': (1, 1)}   \n",
       "1  {'logreg2__max_iter': 1000, 'tfvec2__max_df': 0.7, 'tfvec2__max_features': 1000, 'tfvec2__min_df': 0.02, 'tfvec2__ngram_range': (1, 1)}   \n",
       "3  {'logreg4__max_iter': 1000, 'tfvec4__max_df': 0.5, 'tfvec4__max_features': 1000, 'tfvec4__min_df': 0.02, 'tfvec4__ngram_range': (1, 2)}   \n",
       "0      {'cvec1__max_df': 0.7, 'cvec1__max_features': 1000, 'cvec1__min_df': 0.02, 'cvec1__ngram_range': (1, 1), 'logreg1__max_iter': 1000}   \n",
       "\n",
       "   GS_best_score  train_accuracy  test_accuracy  Sensitivity  \n",
       "2          0.831           0.856          0.832     0.846306  \n",
       "1          0.816           0.837          0.816     0.789411  \n",
       "3          0.817           0.838          0.814     0.786250  \n",
       "0          0.810           0.837          0.810     0.770842  "
      ]
     },
     "execution_count": 257,
     "metadata": {},
     "output_type": "execute_result"
    }
   ],
   "source": [
    "summary_sensitivity = pd.merge(summary_df.reset_index(), sensitivity_df, left_index=True, right_index=True).drop(columns = 'index').rename(columns = {0:'Sensitivity'})\n",
    "summary_sensitivity.sort_values(by = 'Sensitivity', ascending = False)"
   ]
  },
  {
   "cell_type": "markdown",
   "metadata": {},
   "source": [
    "Clearly, we will choose MultinomialNB as our production model as it has relative higher accuracy scores, with minimal overfit and very high sensivity as compared to the rest of the models "
   ]
  },
  {
   "cell_type": "markdown",
   "metadata": {},
   "source": [
    "### Confusion matrix\n",
    "\n",
    "We will use only MultinomialNB with the best params attained above for further error analysis "
   ]
  },
  {
   "cell_type": "code",
   "execution_count": 258,
   "metadata": {},
   "outputs": [
    {
     "name": "stderr",
     "output_type": "stream",
     "text": [
      "C:\\Users\\Admin\\.conda\\envs\\myenv\\lib\\site-packages\\sklearn\\utils\\deprecation.py:87: FutureWarning: Function plot_confusion_matrix is deprecated; Function `plot_confusion_matrix` is deprecated in 1.0 and will be removed in 1.2. Use one of the class methods: ConfusionMatrixDisplay.from_predictions or ConfusionMatrixDisplay.from_estimator.\n",
      "  warnings.warn(msg, category=FutureWarning)\n"
     ]
    },
    {
     "data": {
      "image/png": "[encoded data removed]",
      "text/plain": [
       "<Figure size 432x288 with 2 Axes>"
      ]
     },
     "metadata": {
      "needs_background": "light"
     },
     "output_type": "display_data"
    }
   ],
   "source": [
    "# Generate predictions.\n",
    "preds = gs_pipe3.predict(X_test)\n",
    "\n",
    "# Generate confusion matrix.\n",
    "# Documentation here: https://scikit-learn.org/stable/modules/generated/sklearn.metrics.confusion_matrix.html\n",
    "\n",
    "confusion_matrix(y_test, # True values.\n",
    "                 preds)  # Predicted values.\n",
    "\n",
    "# Save TN/FP/FN/TP values.\n",
    "\n",
    "tn, fp, fn, tp = confusion_matrix(y_test, preds).ravel();\n",
    "\n",
    "# Plot Confusion matrix\n",
    "plot_confusion_matrix(gs_pipe3, X_test, y_test, cmap='Blues', \n",
    "                      values_format='d', display_labels=['r/Anxiety', 'r/PTSD']);                 "
   ]
  },
  {
   "cell_type": "code",
   "execution_count": 259,
   "metadata": {},
   "outputs": [
    {
     "data": {
      "text/plain": [
       "array([0, 1, 0, ..., 1, 0, 0], dtype=int64)"
      ]
     },
     "execution_count": 259,
     "metadata": {},
     "output_type": "execute_result"
    }
   ],
   "source": [
    "preds"
   ]
  },
  {
   "cell_type": "code",
   "execution_count": 260,
   "metadata": {},
   "outputs": [],
   "source": [
    "# create a dataframe to contain the posts, actual reddit and predicted reddit\n",
    "y_test_pred_df = pd.DataFrame()\n",
    "y_test_pred_df['index'] = y_test.index\n",
    "y_test_pred_df['y'] = y_test.values\n",
    "y_test_pred_df['y_pred'] = preds\n",
    "y_test_pred_df = y_test_pred_df.merge(df.reset_index(), on = 'index')\n",
    "\n",
    "y_test_pred_df = y_test_pred_df[['index','y','y_pred','lemmi_clean_text','month']]"
   ]
  },
  {
   "cell_type": "code",
   "execution_count": 261,
   "metadata": {},
   "outputs": [
    {
     "data": {
      "text/html": [
       "<div>\n",
       "<style scoped>\n",
       "    .dataframe tbody tr th:only-of-type {\n",
       "        vertical-align: middle;\n",
       "    }\n",
       "\n",
       "    .dataframe tbody tr th {\n",
       "        vertical-align: top;\n",
       "    }\n",
       "\n",
       "    .dataframe thead th {\n",
       "        text-align: right;\n",
       "    }\n",
       "</style>\n",
       "<table border=\"1\" class=\"dataframe\">\n",
       "  <thead>\n",
       "    <tr style=\"text-align: right;\">\n",
       "      <th></th>\n",
       "      <th>index</th>\n",
       "      <th>y</th>\n",
       "      <th>y_pred</th>\n",
       "      <th>lemmi_clean_text</th>\n",
       "      <th>month</th>\n",
       "    </tr>\n",
       "  </thead>\n",
       "  <tbody>\n",
       "    <tr>\n",
       "      <th>12</th>\n",
       "      <td>1485</td>\n",
       "      <td>1</td>\n",
       "      <td>0</td>\n",
       "      <td>recently started training new job cashier bos keep getting shakey hand seem nervous time got fired last job bad episode broke panic attack week working know tell cannot help shakey hand seem nervous time anyone advice work job like symptom like job get right like dealing customer get good look shakey hand everything honestly cannot help people like say real stigma come mental illness anymore come stuff like really afraid tell going want hire properly advice help would really appreciated work</td>\n",
       "      <td>10</td>\n",
       "    </tr>\n",
       "    <tr>\n",
       "      <th>18</th>\n",
       "      <td>1176</td>\n",
       "      <td>1</td>\n",
       "      <td>0</td>\n",
       "      <td>hey guy wondering physical symptom experienced result experienced sexual raped couple month ago since weak fatigued moment low blood pressure high heart rate feel dizzy lightheaded shortness breath chest pain etc joint muscle hurting lower back felt like muscle cramp etc appointment today doctor terrified feel like many different thing could starting feel alone idk panic attack changed eating body wearing know hoping could get insight thank physical effect</td>\n",
       "      <td>7</td>\n",
       "    </tr>\n",
       "    <tr>\n",
       "      <th>44</th>\n",
       "      <td>1718</td>\n",
       "      <td>1</td>\n",
       "      <td>0</td>\n",
       "      <td>recently got official diagnosis know enough could use guidance anyone similar experience far aware classed disability protected equality act recently prescribed new medication primarily assist however workplace told able use medication work instead must go home sick take entire day work medication schedule controlled drug therefore putting alcohol drug policy work really know stand surely discrimination uk doctor prescribed medication negatively impact ability work yet allowed work yet follow advise going work feel may problem surely would quickly find getting disciplined fired due attendance assistance would greatly appreciated help work</td>\n",
       "      <td>2</td>\n",
       "    </tr>\n",
       "    <tr>\n",
       "      <th>47</th>\n",
       "      <td>457</td>\n",
       "      <td>1</td>\n",
       "      <td>0</td>\n",
       "      <td>soon sit counselor begin shake uncontrollably end appointment end shake uncontrollably therapy</td>\n",
       "      <td>3</td>\n",
       "    </tr>\n",
       "    <tr>\n",
       "      <th>53</th>\n",
       "      <td>7178</td>\n",
       "      <td>1</td>\n",
       "      <td>0</td>\n",
       "      <td>hopeless right cannot deal anymore much therapy feel like everything getting worse please tell success helped need right anyone success story</td>\n",
       "      <td>9</td>\n",
       "    </tr>\n",
       "    <tr>\n",
       "      <th>...</th>\n",
       "      <td>...</td>\n",
       "      <td>...</td>\n",
       "      <td>...</td>\n",
       "      <td>...</td>\n",
       "      <td>...</td>\n",
       "    </tr>\n",
       "    <tr>\n",
       "      <th>5017</th>\n",
       "      <td>8286</td>\n",
       "      <td>1</td>\n",
       "      <td>0</td>\n",
       "      <td>fix speech trip word broca area</td>\n",
       "      <td>7</td>\n",
       "    </tr>\n",
       "    <tr>\n",
       "      <th>5023</th>\n",
       "      <td>8546</td>\n",
       "      <td>1</td>\n",
       "      <td>0</td>\n",
       "      <td>unforgiving want sleep want alone want fix situation minneapolis sooo messed right nothing know riot doctor office closed burn tried order med cannot find doctor idk family keep dying natural cause otherwise tired need real job college chef qualified know ready go back sea unforgiving</td>\n",
       "      <td>7</td>\n",
       "    </tr>\n",
       "    <tr>\n",
       "      <th>5027</th>\n",
       "      <td>3459</td>\n",
       "      <td>1</td>\n",
       "      <td>0</td>\n",
       "      <td>hello everyone two week ago got new colleague work closely nice dude felt like timid anxious get go tried open nice relax around today asked anything could make comfortable felt like tense lot time wondering anything made uncomfortable opened bank robbery three year ago first time working bank since incident said treatment taking medication hard regardless wondering anything make easier tried ask anything want talk said want anyone change way life really worried saying something could cause insensitive sth never met anyone sth like advice new colleague suffers due experiencing violent bank robbery need advice</td>\n",
       "      <td>1</td>\n",
       "    </tr>\n",
       "    <tr>\n",
       "      <th>5045</th>\n",
       "      <td>1080</td>\n",
       "      <td>1</td>\n",
       "      <td>0</td>\n",
       "      <td>friend group family always difficult one always opting thing trigger one trigger driving highway even dinner friend sometimes want drive lately started getting super irritated invited thing know difficult one people either accommodate stay home venting feeling especially exhausted today almost tear text today trying hang tired difficult one</td>\n",
       "      <td>2</td>\n",
       "    </tr>\n",
       "    <tr>\n",
       "      <th>5055</th>\n",
       "      <td>264</td>\n",
       "      <td>1</td>\n",
       "      <td>0</td>\n",
       "      <td>caffeine drug addicted also addicted violence felt like could stop even though knew mad nothing http mentalgrenade com pot-of-coffee http mentalgrenade com pot-of-coffee coffee psychology pot coffee</td>\n",
       "      <td>2</td>\n",
       "    </tr>\n",
       "  </tbody>\n",
       "</table>\n",
       "<p>389 rows × 5 columns</p>\n",
       "</div>"
      ],
      "text/plain": [
       "      index  y  y_pred  \\\n",
       "12     1485  1       0   \n",
       "18     1176  1       0   \n",
       "44     1718  1       0   \n",
       "47      457  1       0   \n",
       "53     7178  1       0   \n",
       "...     ... ..     ...   \n",
       "5017   8286  1       0   \n",
       "5023   8546  1       0   \n",
       "5027   3459  1       0   \n",
       "5045   1080  1       0   \n",
       "5055    264  1       0   \n",
       "\n",
       "                                                                                                                                                                                                                                                                                                                                                                                                                                                                                                                                                                                                                                                            lemmi_clean_text  \\\n",
       "12                                                                                                                                                          recently started training new job cashier bos keep getting shakey hand seem nervous time got fired last job bad episode broke panic attack week working know tell cannot help shakey hand seem nervous time anyone advice work job like symptom like job get right like dealing customer get good look shakey hand everything honestly cannot help people like say real stigma come mental illness anymore come stuff like really afraid tell going want hire properly advice help would really appreciated work   \n",
       "18                                                                                                                                                                                              hey guy wondering physical symptom experienced result experienced sexual raped couple month ago since weak fatigued moment low blood pressure high heart rate feel dizzy lightheaded shortness breath chest pain etc joint muscle hurting lower back felt like muscle cramp etc appointment today doctor terrified feel like many different thing could starting feel alone idk panic attack changed eating body wearing know hoping could get insight thank physical effect   \n",
       "44    recently got official diagnosis know enough could use guidance anyone similar experience far aware classed disability protected equality act recently prescribed new medication primarily assist however workplace told able use medication work instead must go home sick take entire day work medication schedule controlled drug therefore putting alcohol drug policy work really know stand surely discrimination uk doctor prescribed medication negatively impact ability work yet allowed work yet follow advise going work feel may problem surely would quickly find getting disciplined fired due attendance assistance would greatly appreciated help work   \n",
       "47                                                                                                                                                                                                                                                                                                                                                                                                                                                                                                                                                                            soon sit counselor begin shake uncontrollably end appointment end shake uncontrollably therapy   \n",
       "53                                                                                                                                                                                                                                                                                                                                                                                                                                                                                                                             hopeless right cannot deal anymore much therapy feel like everything getting worse please tell success helped need right anyone success story   \n",
       "...                                                                                                                                                                                                                                                                                                                                                                                                                                                                                                                                                                                                                                                                      ...   \n",
       "5017                                                                                                                                                                                                                                                                                                                                                                                                                                                                                                                                                                                                                                         fix speech trip word broca area   \n",
       "5023                                                                                                                                                                                                                                                                                                                                                                           unforgiving want sleep want alone want fix situation minneapolis sooo messed right nothing know riot doctor office closed burn tried order med cannot find doctor idk family keep dying natural cause otherwise tired need real job college chef qualified know ready go back sea unforgiving   \n",
       "5027                                hello everyone two week ago got new colleague work closely nice dude felt like timid anxious get go tried open nice relax around today asked anything could make comfortable felt like tense lot time wondering anything made uncomfortable opened bank robbery three year ago first time working bank since incident said treatment taking medication hard regardless wondering anything make easier tried ask anything want talk said want anyone change way life really worried saying something could cause insensitive sth never met anyone sth like advice new colleague suffers due experiencing violent bank robbery need advice   \n",
       "5045                                                                                                                                                                                                                                                                                                                  friend group family always difficult one always opting thing trigger one trigger driving highway even dinner friend sometimes want drive lately started getting super irritated invited thing know difficult one people either accommodate stay home venting feeling especially exhausted today almost tear text today trying hang tired difficult one   \n",
       "5055                                                                                                                                                                                                                                                                                                                                                                                                                                                                  caffeine drug addicted also addicted violence felt like could stop even though knew mad nothing http mentalgrenade com pot-of-coffee http mentalgrenade com pot-of-coffee coffee psychology pot coffee   \n",
       "\n",
       "      month  \n",
       "12       10  \n",
       "18        7  \n",
       "44        2  \n",
       "47        3  \n",
       "53        9  \n",
       "...     ...  \n",
       "5017      7  \n",
       "5023      7  \n",
       "5027      1  \n",
       "5045      2  \n",
       "5055      2  \n",
       "\n",
       "[389 rows x 5 columns]"
      ]
     },
     "execution_count": 261,
     "metadata": {},
     "output_type": "execute_result"
    }
   ],
   "source": [
    "y_test_pred_df[(y_test_pred_df['y_pred'] == 0) & (y_test_pred_df['y'] == 1)]"
   ]
  },
  {
   "cell_type": "code",
   "execution_count": null,
   "metadata": {},
   "outputs": [],
   "source": []
  },
  {
   "cell_type": "code",
   "execution_count": 262,
   "metadata": {},
   "outputs": [
    {
     "data": {
      "image/png": "[encoded data removed]",
      "text/plain": [
       "<Figure size 432x288 with 1 Axes>"
      ]
     },
     "metadata": {
      "needs_background": "light"
     },
     "output_type": "display_data"
    }
   ],
   "source": [
    "### Get common words from post above \n",
    "\n",
    "# instantiate column and target\n",
    "X_ptsd = y_test_pred_df['lemmi_clean_text']\n",
    "y_ptsd = y_test_pred_df['y']\n",
    "\n",
    "# Instanstiate CountVectorizer()\n",
    "cvec_1 = CountVectorizer()\n",
    "cvec_1.fit(X_ptsd,y_ptsd)\n",
    "X_ptsd = cvec_1.transform(X_ptsd)\n",
    "\n",
    "# create dataframe for ptsd and anxiety\n",
    "X_ptsd_df = pd.DataFrame(X_ptsd.todense(), \n",
    "                          columns=cvec_1.get_feature_names_out())\n",
    "\n",
    "X_ptsd_df.sum().sort_values(ascending=False).head(20).plot(kind='barh');                          "
   ]
  },
  {
   "cell_type": "code",
   "execution_count": 263,
   "metadata": {},
   "outputs": [
    {
     "data": {
      "image/png": "[encoded data removed]",
      "text/plain": [
       "<Figure size 432x288 with 1 Axes>"
      ]
     },
     "metadata": {
      "needs_background": "light"
     },
     "output_type": "display_data"
    }
   ],
   "source": [
    "# instantiate column and target\n",
    "X_ptsd_trigram = y_test_pred_df['lemmi_clean_text'][0:1000]\n",
    "y_ptsd_trigram = y_test_pred_df['y'][0:1500]\n",
    "# Instanstiate CountVectorizer()\n",
    "tvec = TfidfVectorizer(ngram_range=(3,3))\n",
    "\n",
    "tvec.fit(X_ptsd_trigram,y_ptsd_trigram)\n",
    "X_ptsd_trigram = tvec.transform(X_ptsd_trigram)\n",
    "\n",
    "# create dataframe for ptsd and ptsd\n",
    "X_ptsd_trigram_df = pd.DataFrame(X_ptsd_trigram.todense(), \n",
    "                          columns=tvec.get_feature_names_out())\n",
    "\n",
    "X_ptsd_trigram_df.sum().sort_values(ascending=False).head(15).plot(kind='barh');     "
   ]
  },
  {
   "cell_type": "markdown",
   "metadata": {},
   "source": [
    "Hypothesis: If these are the words that are more commonly used between both, we will want to remove it such that more important words can be highly weighted and results may be more accurate"
   ]
  },
  {
   "cell_type": "code",
   "execution_count": 264,
   "metadata": {},
   "outputs": [],
   "source": [
    "filter_from_error_analysis = X_ptsd_trigram_df.sum().sort_values(ascending=False).head(30).index.tolist()"
   ]
  },
  {
   "cell_type": "code",
   "execution_count": 265,
   "metadata": {},
   "outputs": [
    {
     "data": {
      "text/plain": [
       "{'abuser',\n",
       " 'anyone',\n",
       " 'cannot',\n",
       " 'confronted',\n",
       " 'day',\n",
       " 'else',\n",
       " 'every',\n",
       " 'everything',\n",
       " 'experience',\n",
       " 'experienced',\n",
       " 'feel',\n",
       " 'feeling',\n",
       " 'full',\n",
       " 'get',\n",
       " 'going',\n",
       " 'happen',\n",
       " 'health',\n",
       " 'heart',\n",
       " 'help',\n",
       " 'hope',\n",
       " 'issue',\n",
       " 'life',\n",
       " 'like',\n",
       " 'long',\n",
       " 'made',\n",
       " 'make',\n",
       " 'meh',\n",
       " 'mental',\n",
       " 'need',\n",
       " 'overwhelmed',\n",
       " 'really',\n",
       " 'short',\n",
       " 'single',\n",
       " 'sleep',\n",
       " 'sometimes',\n",
       " 'stop',\n",
       " 'story',\n",
       " 'stressed',\n",
       " 'suicide',\n",
       " 'thinking',\n",
       " 'time',\n",
       " 'tonight',\n",
       " 'ughhhhhh',\n",
       " 'want',\n",
       " 'well',\n",
       " 'wondering',\n",
       " 'worth'}"
      ]
     },
     "execution_count": 265,
     "metadata": {},
     "output_type": "execute_result"
    }
   ],
   "source": [
    "filter_from_error_analysis = set([word for sent in filter_from_error_analysis for word in sent.split(' ')])\n",
    "filter_from_error_analysis"
   ]
  },
  {
   "cell_type": "code",
   "execution_count": 266,
   "metadata": {},
   "outputs": [],
   "source": [
    "# create stop word list \n",
    "stopwordlist = nltk.corpus.stopwords.words('english')\n",
    "\n",
    "# to input in subreddit headers so that we can exclude it for model\n",
    "headers = ['ptsd', 'anxiety',\"cptsd\", 'trauma','traumatized','traumas',\"posttraumatic\",'stress','disorder',\"traumatic\", 'www', 'https', 'mentalgrenade', 'com']\n",
    "for head in headers:\n",
    "    stopwordlist.append(head)\n",
    "\n",
    "# to input in common words that exist between both that may caused lower accuracy\n",
    "for head in filter_from_error_analysis:\n",
    "    stopwordlist.append(head)"
   ]
  },
  {
   "cell_type": "code",
   "execution_count": 267,
   "metadata": {},
   "outputs": [],
   "source": [
    "# create pipe3 for transformer: TfidfVectorizer and estimator using MultinomialNB\n",
    "\n",
    "pipe6 = Pipeline([('tfvec', TfidfVectorizer(stop_words= stopwordlist)),\n",
    "                  ('nb', MultinomialNB())\n",
    "                 ])"
   ]
  },
  {
   "cell_type": "code",
   "execution_count": 268,
   "metadata": {},
   "outputs": [],
   "source": [
    "# creating parameters for GridSearch SV using hyperparameters as shown below \n",
    "pipe6_params = {'tfvec__max_features': [3500,4500,5500],\n",
    "                'tfvec__min_df': [0.001, 0.005, 0.01],\n",
    "                'tfvec__max_df': [0.7,0.75,0.8],\n",
    "                'tfvec__ngram_range': [(1,1)],\n",
    "                'nb__alpha' : [1.0e-10]\n",
    "}"
   ]
  },
  {
   "cell_type": "code",
   "execution_count": 269,
   "metadata": {},
   "outputs": [],
   "source": [
    "# Creatingg GridSeachCV using pipeline: pipe3 and params_grid:  pipe3_params\n",
    "\n",
    "gs_pipe6 = GridSearchCV(pipe6, param_grid=pipe6_params, cv=5)"
   ]
  },
  {
   "cell_type": "code",
   "execution_count": 238,
   "metadata": {},
   "outputs": [
    {
     "data": {
      "text/plain": [
       "GridSearchCV(cv=5,\n",
       "             estimator=Pipeline(steps=[('tfvec',\n",
       "                                        TfidfVectorizer(stop_words=['i', 'me',\n",
       "                                                                    'my',\n",
       "                                                                    'myself',\n",
       "                                                                    'we', 'our',\n",
       "                                                                    'ours',\n",
       "                                                                    'ourselves',\n",
       "                                                                    'you',\n",
       "                                                                    \"you're\",\n",
       "                                                                    \"you've\",\n",
       "                                                                    \"you'll\",\n",
       "                                                                    \"you'd\",\n",
       "                                                                    'your',\n",
       "                                                                    'yours',\n",
       "                                                                    'yourself',\n",
       "                                                                    'yourselves',\n",
       "                                                                    'he', 'him',\n",
       "                                                                    'his',\n",
       "                                                                    'himself',\n",
       "                                                                    'she',\n",
       "                                                                    \"she's\",\n",
       "                                                                    'her',\n",
       "                                                                    'hers',\n",
       "                                                                    'herself',\n",
       "                                                                    'it',\n",
       "                                                                    \"it's\",\n",
       "                                                                    'its',\n",
       "                                                                    'itself', ...])),\n",
       "                                       ('nb', MultinomialNB())]),\n",
       "             param_grid={'nb__alpha': [1e-10],\n",
       "                         'tfvec__max_df': [0.7, 0.75, 0.8],\n",
       "                         'tfvec__max_features': [3500, 4500, 5500],\n",
       "                         'tfvec__min_df': [0.001, 0.005, 0.01],\n",
       "                         'tfvec__ngram_range': [(1, 1)]})"
      ]
     },
     "execution_count": 238,
     "metadata": {},
     "output_type": "execute_result"
    }
   ],
   "source": [
    "# Fitting GridSearchCV with CountVectorizer transformer on X_train and y_train.\n",
    "\n",
    "gs_pipe6.fit(X_train, y_train)"
   ]
  },
  {
   "cell_type": "code",
   "execution_count": 239,
   "metadata": {},
   "outputs": [
    {
     "data": {
      "text/plain": [
       "{'nb__alpha': 1e-10,\n",
       " 'tfvec__max_df': 0.7,\n",
       " 'tfvec__max_features': 3500,\n",
       " 'tfvec__min_df': 0.001,\n",
       " 'tfvec__ngram_range': (1, 1)}"
      ]
     },
     "execution_count": 239,
     "metadata": {},
     "output_type": "execute_result"
    }
   ],
   "source": [
    "# Get best parameters using MultinomialNB and TfidfVectorizer\n",
    "\n",
    "gs_pipe6.best_params_"
   ]
  },
  {
   "cell_type": "markdown",
   "metadata": {},
   "source": [
    "{'nb__alpha': 1e-10,\n",
    " 'tfvec__max_df': 0.7,\n",
    " 'tfvec__max_features': 3500,\n",
    " 'tfvec__min_df': 0.001,\n",
    " 'tfvec__ngram_range': (1, 1)}"
   ]
  },
  {
   "cell_type": "code",
   "execution_count": 240,
   "metadata": {},
   "outputs": [
    {
     "name": "stdout",
     "output_type": "stream",
     "text": [
      "TfidfVectorizer with MultinomialNB summary of accuracy scores:\n",
      "GridSearchCV best accuracy = 0.829\n",
      "\n",
      "Using GridSearchCV best params suggested,\n",
      "Training corpus accuracy = 0.854\n",
      "Testing corpus accuracy = 0.832\n"
     ]
    }
   ],
   "source": [
    "# Summary scores of TfidfVectorizer and MultinomialNB.\n",
    "\n",
    "print(\"TfidfVectorizer with MultinomialNB summary of accuracy scores:\")\n",
    "print(f\"GridSearchCV best accuracy = {round(gs_pipe6.best_score_, 3)}\")\n",
    "print(\"\\nUsing GridSearchCV best params suggested,\")\n",
    "print(f\"Training corpus accuracy = {round(gs_pipe6.score(X_train, y_train), 3)}\")\n",
    "print(f\"Testing corpus accuracy = {round(gs_pipe6.score(X_test, y_test), 3)}\")"
   ]
  },
  {
   "cell_type": "code",
   "execution_count": 241,
   "metadata": {},
   "outputs": [],
   "source": [
    "# adding summary \n",
    "\n",
    "summary_df.loc[6] = ['TfidfVec, MultinomialNB_withStopwordAdded',\n",
    "                     str(gs_pipe6.best_params_),\n",
    "                     round(gs_pipe6.best_score_, 3),\n",
    "                     round(gs_pipe6.score(X_train, y_train), 3),\n",
    "                     round(gs_pipe6.score(X_test, y_test), 3)\n",
    "                    ]"
   ]
  },
  {
   "cell_type": "code",
   "execution_count": 242,
   "metadata": {},
   "outputs": [
    {
     "data": {
      "text/html": [
       "<div>\n",
       "<style scoped>\n",
       "    .dataframe tbody tr th:only-of-type {\n",
       "        vertical-align: middle;\n",
       "    }\n",
       "\n",
       "    .dataframe tbody tr th {\n",
       "        vertical-align: top;\n",
       "    }\n",
       "\n",
       "    .dataframe thead th {\n",
       "        text-align: right;\n",
       "    }\n",
       "</style>\n",
       "<table border=\"1\" class=\"dataframe\">\n",
       "  <thead>\n",
       "    <tr style=\"text-align: right;\">\n",
       "      <th></th>\n",
       "      <th>transformer_estimator</th>\n",
       "      <th>GS_best_params</th>\n",
       "      <th>GS_best_score</th>\n",
       "      <th>train_accuracy</th>\n",
       "      <th>test_accuracy</th>\n",
       "    </tr>\n",
       "  </thead>\n",
       "  <tbody>\n",
       "    <tr>\n",
       "      <th>1</th>\n",
       "      <td>CountVec, LogReg</td>\n",
       "      <td>{'cvec1__max_df': 0.7, 'cvec1__max_features': 1000, 'cvec1__min_df': 0.02, 'cvec1__ngram_range': (1, 1), 'logreg1__max_iter': 1000}</td>\n",
       "      <td>0.810</td>\n",
       "      <td>0.837</td>\n",
       "      <td>0.810</td>\n",
       "    </tr>\n",
       "    <tr>\n",
       "      <th>2</th>\n",
       "      <td>TfidfVec, LogReg</td>\n",
       "      <td>{'logreg2__max_iter': 1000, 'tfvec2__max_df': 0.7, 'tfvec2__max_features': 1000, 'tfvec2__min_df': 0.02, 'tfvec2__ngram_range': (1, 1)}</td>\n",
       "      <td>0.816</td>\n",
       "      <td>0.837</td>\n",
       "      <td>0.816</td>\n",
       "    </tr>\n",
       "    <tr>\n",
       "      <th>3</th>\n",
       "      <td>TfidfVec, MultinomialNB</td>\n",
       "      <td>{'nb__alpha': 1e-10, 'tfvec__max_df': 0.7, 'tfvec__max_features': 3500, 'tfvec__min_df': 0.001, 'tfvec__ngram_range': (1, 1)}</td>\n",
       "      <td>0.831</td>\n",
       "      <td>0.856</td>\n",
       "      <td>0.832</td>\n",
       "    </tr>\n",
       "    <tr>\n",
       "      <th>4</th>\n",
       "      <td>TfidfVec, LogisticRegression</td>\n",
       "      <td>{'logreg4__max_iter': 1000, 'tfvec4__max_df': 0.5, 'tfvec4__max_features': 1000, 'tfvec4__min_df': 0.02, 'tfvec4__ngram_range': (1, 2)}</td>\n",
       "      <td>0.817</td>\n",
       "      <td>0.838</td>\n",
       "      <td>0.814</td>\n",
       "    </tr>\n",
       "    <tr>\n",
       "      <th>6</th>\n",
       "      <td>TfidfVec, MultinomialNB_withStopwordAdded</td>\n",
       "      <td>{'nb__alpha': 1e-10, 'tfvec__max_df': 0.7, 'tfvec__max_features': 3500, 'tfvec__min_df': 0.001, 'tfvec__ngram_range': (1, 1)}</td>\n",
       "      <td>0.829</td>\n",
       "      <td>0.854</td>\n",
       "      <td>0.832</td>\n",
       "    </tr>\n",
       "  </tbody>\n",
       "</table>\n",
       "</div>"
      ],
      "text/plain": [
       "                       transformer_estimator  \\\n",
       "1                           CountVec, LogReg   \n",
       "2                           TfidfVec, LogReg   \n",
       "3                    TfidfVec, MultinomialNB   \n",
       "4               TfidfVec, LogisticRegression   \n",
       "6  TfidfVec, MultinomialNB_withStopwordAdded   \n",
       "\n",
       "                                                                                                                            GS_best_params  \\\n",
       "1      {'cvec1__max_df': 0.7, 'cvec1__max_features': 1000, 'cvec1__min_df': 0.02, 'cvec1__ngram_range': (1, 1), 'logreg1__max_iter': 1000}   \n",
       "2  {'logreg2__max_iter': 1000, 'tfvec2__max_df': 0.7, 'tfvec2__max_features': 1000, 'tfvec2__min_df': 0.02, 'tfvec2__ngram_range': (1, 1)}   \n",
       "3            {'nb__alpha': 1e-10, 'tfvec__max_df': 0.7, 'tfvec__max_features': 3500, 'tfvec__min_df': 0.001, 'tfvec__ngram_range': (1, 1)}   \n",
       "4  {'logreg4__max_iter': 1000, 'tfvec4__max_df': 0.5, 'tfvec4__max_features': 1000, 'tfvec4__min_df': 0.02, 'tfvec4__ngram_range': (1, 2)}   \n",
       "6            {'nb__alpha': 1e-10, 'tfvec__max_df': 0.7, 'tfvec__max_features': 3500, 'tfvec__min_df': 0.001, 'tfvec__ngram_range': (1, 1)}   \n",
       "\n",
       "   GS_best_score  train_accuracy  test_accuracy  \n",
       "1          0.810           0.837          0.810  \n",
       "2          0.816           0.837          0.816  \n",
       "3          0.831           0.856          0.832  \n",
       "4          0.817           0.838          0.814  \n",
       "6          0.829           0.854          0.832  "
      ]
     },
     "execution_count": 242,
     "metadata": {},
     "output_type": "execute_result"
    }
   ],
   "source": [
    "summary_df"
   ]
  },
  {
   "cell_type": "code",
   "execution_count": 243,
   "metadata": {},
   "outputs": [
    {
     "name": "stderr",
     "output_type": "stream",
     "text": [
      "C:\\Users\\Admin\\.conda\\envs\\myenv\\lib\\site-packages\\sklearn\\utils\\deprecation.py:87: FutureWarning: Function plot_confusion_matrix is deprecated; Function `plot_confusion_matrix` is deprecated in 1.0 and will be removed in 1.2. Use one of the class methods: ConfusionMatrixDisplay.from_predictions or ConfusionMatrixDisplay.from_estimator.\n",
      "  warnings.warn(msg, category=FutureWarning)\n"
     ]
    },
    {
     "data": {
      "image/png": "[encoded data removed]",
      "text/plain": [
       "<Figure size 432x288 with 2 Axes>"
      ]
     },
     "metadata": {
      "needs_background": "light"
     },
     "output_type": "display_data"
    }
   ],
   "source": [
    "# Generate predictions.\n",
    "preds = gs_pipe6.predict(X_test)\n",
    "\n",
    "# Generate confusion matrix.\n",
    "# Documentation here: https://scikit-learn.org/stable/modules/generated/sklearn.metrics.confusion_matrix.html\n",
    "\n",
    "confusion_matrix(y_test, # True values.\n",
    "                 preds)  # Predicted values.\n",
    "\n",
    "# Save TN/FP/FN/TP values.\n",
    "\n",
    "tn, fp, fn, tp = confusion_matrix(y_test, preds).ravel();\n",
    "\n",
    "# Plot Confusion matrix\n",
    "plot_confusion_matrix(gs_pipe6, X_test, y_test, cmap='Blues', \n",
    "                      values_format='d', display_labels=['r/Anxiety', 'r/PTSD']);                 "
   ]
  },
  {
   "cell_type": "markdown",
   "metadata": {},
   "source": [
    "## Receiver Operating Characteristic (ROC) Curve"
   ]
  },
  {
   "cell_type": "markdown",
   "metadata": {},
   "source": []
  },
  {
   "cell_type": "markdown",
   "metadata": {},
   "source": []
  }
 ],
 "metadata": {
  "interpreter": {
   "hash": "592c428e42f6e4511884ace7c9b495d167f60b904bd88ca4683897c5c1f20061"
  },
  "kernelspec": {
   "display_name": "Python 3.9.7 ('myenv')",
   "language": "python",
   "name": "python3"
  },
  "language_info": {
   "codemirror_mode": {
    "name": "ipython",
    "version": 3
   },
   "file_extension": ".py",
   "mimetype": "text/x-python",
   "name": "python",
   "nbconvert_exporter": "python",
   "pygments_lexer": "ipython3",
   "version": "3.9.7"
  },
  "orig_nbformat": 4
 },
 "nbformat": 4,
 "nbformat_minor": 2
}
