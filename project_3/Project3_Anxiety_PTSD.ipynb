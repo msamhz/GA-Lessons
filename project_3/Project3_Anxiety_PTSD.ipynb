{
 "cells": [
  {
   "cell_type": "code",
   "execution_count": 18,
   "metadata": {},
   "outputs": [
    {
     "name": "stderr",
     "output_type": "stream",
     "text": [
      "[nltk_data] Downloading package wordnet to\n",
      "[nltk_data]     C:\\Users\\User\\AppData\\Roaming\\nltk_data...\n",
      "[nltk_data]   Package wordnet is already up-to-date!\n"
     ]
    }
   ],
   "source": [
    "import pandas as pd\n",
    "import requests\n",
    "import string\n",
    "string.punctuation\n",
    "import re\n",
    "import nltk\n",
    "from nltk.stem import WordNetLemmatizer\n",
    "nltk.download('wordnet')\n",
    "import numpy as np\n",
    "\n",
    "from sklearn.neighbors import KNeighborsClassifier\n",
    "from sklearn.metrics import ConfusionMatrixDisplay\n",
    "\n",
    "\n",
    "from sklearn.model_selection import(\n",
    "    cross_val_score,\n",
    "    train_test_split,\n",
    "    GridSearchCV\n",
    ")\n",
    "\n",
    "from sklearn.preprocessing import (\n",
    "    StandardScaler,\n",
    "    PolynomialFeatures\n",
    ")\n",
    "\n",
    "\n",
    "pd.set_option('display.max_colwidth', None)"
   ]
  },
  {
   "cell_type": "markdown",
   "metadata": {},
   "source": [
    "## Pre-processing"
   ]
  },
  {
   "cell_type": "code",
   "execution_count": 19,
   "metadata": {},
   "outputs": [],
   "source": [
    "df_anxiety = pd.read_csv('Anxiety.csv')\n",
    "df_ptsd = pd.read_csv('PTSD.csv')"
   ]
  },
  {
   "cell_type": "code",
   "execution_count": 20,
   "metadata": {},
   "outputs": [],
   "source": [
    "df_anxiety = df_anxiety.drop(columns = 'Unnamed: 0')\n",
    "df_ptsd.drop(columns = 'Unnamed: 0', inplace = True)"
   ]
  },
  {
   "cell_type": "code",
   "execution_count": 21,
   "metadata": {},
   "outputs": [],
   "source": [
    "df = pd.concat([df_ptsd,df_anxiety])\n",
    "df.reset_index(inplace = True)\n",
    "df.drop(columns = 'index', inplace = True)"
   ]
  },
  {
   "cell_type": "code",
   "execution_count": 22,
   "metadata": {},
   "outputs": [
    {
     "data": {
      "text/plain": [
       "(20096, 5)"
      ]
     },
     "execution_count": 22,
     "metadata": {},
     "output_type": "execute_result"
    }
   ],
   "source": [
    "df.shape"
   ]
  },
  {
   "cell_type": "code",
   "execution_count": 23,
   "metadata": {},
   "outputs": [],
   "source": [
    "# define function to remove punctuation and remove \\n\n",
    "def remove_punctuation(text):\n",
    "    punctuationfree=\"\".join([i for i in text if i not in string.punctuation])\n",
    "    punctuationfree = ' '.join([sentence for sentence in punctuationfree.split('\\n') if sentence != ''])\n",
    "    return punctuationfree\n",
    "\n",
    "columns = ['selftext', 'title']\n",
    "\n",
    "for col in columns:\n",
    "    new_col = str('clean_' + col)\n",
    "    df[new_col] = df[col].apply(lambda x: remove_punctuation(x))   "
   ]
  },
  {
   "cell_type": "code",
   "execution_count": null,
   "metadata": {},
   "outputs": [],
   "source": [
    "# changing all to lower caps \n",
    "\n",
    "columns = ['clean_selftext', 'clean_title']\n",
    "\n",
    "for col in columns:\n",
    "    new_col = str('lower_' + col.split('_')[1])\n",
    "    df[new_col] = df[col].apply(lambda x: x.lower())   "
   ]
  },
  {
   "cell_type": "code",
   "execution_count": null,
   "metadata": {},
   "outputs": [],
   "source": [
    "# split into single words \n",
    "\n",
    "columns = ['lower_selftext', 'lower_title']\n",
    "\n",
    "for col in columns:\n",
    "    new_col = str('split_' + col.split('_')[1])\n",
    "    df[new_col] = df[col].apply(lambda x: x.split())   "
   ]
  },
  {
   "cell_type": "code",
   "execution_count": null,
   "metadata": {},
   "outputs": [],
   "source": [
    "#Stop words present in the library\n",
    "stopwords = nltk.corpus.stopwords.words('english')\n",
    "stopwords[0:10]\n",
    "\n",
    "#defining the function to remove stopwords from tokenized text\n",
    "def remove_stopwords(text):\n",
    "    output= [i for i in text if i not in stopwords]\n",
    "    return output\n",
    "\n",
    "columns = ['split_selftext', 'split_title']\n",
    "\n",
    "for col in columns:\n",
    "    new_col = str('stopwords_' + col.split('_')[1])\n",
    "    df[new_col] = df[col].apply(lambda x:remove_stopwords(x))   "
   ]
  },
  {
   "cell_type": "code",
   "execution_count": null,
   "metadata": {},
   "outputs": [],
   "source": [
    "#defining the object for Lemmatization\n",
    "wordnet_lemmatizer = WordNetLemmatizer()\n",
    "\n",
    "#defining the function for lemmatization\n",
    "def lemmatizer(text):\n",
    "    lemm_text = [wordnet_lemmatizer.lemmatize(word) for word in text]\n",
    "    return lemm_text\n",
    "\n",
    "columns = ['stopwords_selftext', 'stopwords_title']\n",
    "\n",
    "for col in columns:\n",
    "    new_col = str('lemmatized_' + col.split('_')[1])\n",
    "    df[new_col] = df[col].apply(lambda x:lemmatizer(x))   "
   ]
  },
  {
   "cell_type": "code",
   "execution_count": null,
   "metadata": {},
   "outputs": [
    {
     "data": {
      "text/html": [
       "<div>\n",
       "<style scoped>\n",
       "    .dataframe tbody tr th:only-of-type {\n",
       "        vertical-align: middle;\n",
       "    }\n",
       "\n",
       "    .dataframe tbody tr th {\n",
       "        vertical-align: top;\n",
       "    }\n",
       "\n",
       "    .dataframe thead th {\n",
       "        text-align: right;\n",
       "    }\n",
       "</style>\n",
       "<table border=\"1\" class=\"dataframe\">\n",
       "  <thead>\n",
       "    <tr style=\"text-align: right;\">\n",
       "      <th></th>\n",
       "      <th>subreddit</th>\n",
       "      <th>selftext</th>\n",
       "      <th>title</th>\n",
       "      <th>created_utc</th>\n",
       "      <th>datetime</th>\n",
       "      <th>clean_selftext</th>\n",
       "      <th>clean_title</th>\n",
       "      <th>lower_selftext</th>\n",
       "      <th>lower_title</th>\n",
       "      <th>split_selftext</th>\n",
       "      <th>split_title</th>\n",
       "      <th>stopwords_selftext</th>\n",
       "      <th>stopwords_title</th>\n",
       "      <th>lemmatized_selftext</th>\n",
       "      <th>lemmatized_title</th>\n",
       "    </tr>\n",
       "  </thead>\n",
       "  <tbody>\n",
       "    <tr>\n",
       "      <th>0</th>\n",
       "      <td>Anxiety</td>\n",
       "      <td>after years of making my own vlogs and digital content and keeping it private and over 14 years of writing poems and overthinking about what others will think if i ever shared one, i finally posted my first poem online and for the public to see and criticize if it comes to it. it would mean the world if anyone checked it out and even had some comments or tips to make. \\nhttps://vm.tiktok.com/TTPdPSsW7g/\\n\\ni’m also trying to post everyday bc who tf cares if someone i know hates what im doing or thinks i suck at what im trying to do. i’ll learn along the way and although my anxiety stays by my side i’m proud of myself for posting today and using my own voice and sharing my own poem. criticism can be scary and its scary thinking “this must be so embarrassing” but fck it. just fvk it. the more time that goes on the more i realize how small we are and how we dont know anyone and no one knows us so why do we care so much about what they think!! fck it!! x3 x100!!! just keep saying it and let it push you towards that first step you’re too afraid to take.</td>\n",
       "      <td>fck what others think! trying to shove my anxiety aside</td>\n",
       "      <td>1647751966</td>\n",
       "      <td>2022-03-20 04:52:46</td>\n",
       "      <td>after years of making my own vlogs and digital content and keeping it private and over 14 years of writing poems and overthinking about what others will think if i ever shared one i finally posted my first poem online and for the public to see and criticize if it comes to it it would mean the world if anyone checked it out and even had some comments or tips to make  httpsvmtiktokcomTTPdPSsW7g i’m also trying to post everyday bc who tf cares if someone i know hates what im doing or thinks i suck at what im trying to do i’ll learn along the way and although my anxiety stays by my side i’m proud of myself for posting today and using my own voice and sharing my own poem criticism can be scary and its scary thinking “this must be so embarrassing” but fck it just fvk it the more time that goes on the more i realize how small we are and how we dont know anyone and no one knows us so why do we care so much about what they think fck it x3 x100 just keep saying it and let it push you towards that first step you’re too afraid to take</td>\n",
       "      <td>fck what others think trying to shove my anxiety aside</td>\n",
       "      <td>after years of making my own vlogs and digital content and keeping it private and over 14 years of writing poems and overthinking about what others will think if i ever shared one i finally posted my first poem online and for the public to see and criticize if it comes to it it would mean the world if anyone checked it out and even had some comments or tips to make  httpsvmtiktokcomttpdpssw7g i’m also trying to post everyday bc who tf cares if someone i know hates what im doing or thinks i suck at what im trying to do i’ll learn along the way and although my anxiety stays by my side i’m proud of myself for posting today and using my own voice and sharing my own poem criticism can be scary and its scary thinking “this must be so embarrassing” but fck it just fvk it the more time that goes on the more i realize how small we are and how we dont know anyone and no one knows us so why do we care so much about what they think fck it x3 x100 just keep saying it and let it push you towards that first step you’re too afraid to take</td>\n",
       "      <td>fck what others think trying to shove my anxiety aside</td>\n",
       "      <td>[after, years, of, making, my, own, vlogs, and, digital, content, and, keeping, it, private, and, over, 14, years, of, writing, poems, and, overthinking, about, what, others, will, think, if, i, ever, shared, one, i, finally, posted, my, first, poem, online, and, for, the, public, to, see, and, criticize, if, it, comes, to, it, it, would, mean, the, world, if, anyone, checked, it, out, and, even, had, some, comments, or, tips, to, make, httpsvmtiktokcomttpdpssw7g, i’m, also, trying, to, post, everyday, bc, who, tf, cares, if, someone, i, know, hates, what, im, doing, or, thinks, i, suck, at, what, im, trying, to, ...]</td>\n",
       "      <td>[fck, what, others, think, trying, to, shove, my, anxiety, aside]</td>\n",
       "      <td>[years, making, vlogs, digital, content, keeping, private, 14, years, writing, poems, overthinking, others, think, ever, shared, one, finally, posted, first, poem, online, public, see, criticize, comes, would, mean, world, anyone, checked, even, comments, tips, make, httpsvmtiktokcomttpdpssw7g, i’m, also, trying, post, everyday, bc, tf, cares, someone, know, hates, im, thinks, suck, im, trying, i’ll, learn, along, way, although, anxiety, stays, side, i’m, proud, posting, today, using, voice, sharing, poem, criticism, scary, scary, thinking, “this, must, embarrassing”, fck, fvk, time, goes, realize, small, dont, know, anyone, one, knows, us, care, much, think, fck, x3, x100, keep, saying, let, push, towards, first, step, ...]</td>\n",
       "      <td>[fck, others, think, trying, shove, anxiety, aside]</td>\n",
       "      <td>[year, making, vlogs, digital, content, keeping, private, 14, year, writing, poem, overthinking, others, think, ever, shared, one, finally, posted, first, poem, online, public, see, criticize, come, would, mean, world, anyone, checked, even, comment, tip, make, httpsvmtiktokcomttpdpssw7g, i’m, also, trying, post, everyday, bc, tf, care, someone, know, hate, im, think, suck, im, trying, i’ll, learn, along, way, although, anxiety, stay, side, i’m, proud, posting, today, using, voice, sharing, poem, criticism, scary, scary, thinking, “this, must, embarrassing”, fck, fvk, time, go, realize, small, dont, know, anyone, one, know, u, care, much, think, fck, x3, x100, keep, saying, let, push, towards, first, step, ...]</td>\n",
       "      <td>[fck, others, think, trying, shove, anxiety, aside]</td>\n",
       "    </tr>\n",
       "  </tbody>\n",
       "</table>\n",
       "</div>"
      ],
      "text/plain": [
       "  subreddit  \\\n",
       "0   Anxiety   \n",
       "\n",
       "                                                                                                                                                                                                                                                                                                                                                                                                                                                                                                                                                                                                                                                                                                                                                                                                                                                                                                                                                                                                                                                                                                   selftext  \\\n",
       "0  after years of making my own vlogs and digital content and keeping it private and over 14 years of writing poems and overthinking about what others will think if i ever shared one, i finally posted my first poem online and for the public to see and criticize if it comes to it. it would mean the world if anyone checked it out and even had some comments or tips to make. \\nhttps://vm.tiktok.com/TTPdPSsW7g/\\n\\ni’m also trying to post everyday bc who tf cares if someone i know hates what im doing or thinks i suck at what im trying to do. i’ll learn along the way and although my anxiety stays by my side i’m proud of myself for posting today and using my own voice and sharing my own poem. criticism can be scary and its scary thinking “this must be so embarrassing” but fck it. just fvk it. the more time that goes on the more i realize how small we are and how we dont know anyone and no one knows us so why do we care so much about what they think!! fck it!! x3 x100!!! just keep saying it and let it push you towards that first step you’re too afraid to take.   \n",
       "\n",
       "                                                     title  created_utc  \\\n",
       "0  fck what others think! trying to shove my anxiety aside   1647751966   \n",
       "\n",
       "              datetime  \\\n",
       "0  2022-03-20 04:52:46   \n",
       "\n",
       "                                                                                                                                                                                                                                                                                                                                                                                                                                                                                                                                                                                                                                                                                                                                                                                                                                                                                                                                                                                                                                                                   clean_selftext  \\\n",
       "0  after years of making my own vlogs and digital content and keeping it private and over 14 years of writing poems and overthinking about what others will think if i ever shared one i finally posted my first poem online and for the public to see and criticize if it comes to it it would mean the world if anyone checked it out and even had some comments or tips to make  httpsvmtiktokcomTTPdPSsW7g i’m also trying to post everyday bc who tf cares if someone i know hates what im doing or thinks i suck at what im trying to do i’ll learn along the way and although my anxiety stays by my side i’m proud of myself for posting today and using my own voice and sharing my own poem criticism can be scary and its scary thinking “this must be so embarrassing” but fck it just fvk it the more time that goes on the more i realize how small we are and how we dont know anyone and no one knows us so why do we care so much about what they think fck it x3 x100 just keep saying it and let it push you towards that first step you’re too afraid to take   \n",
       "\n",
       "                                              clean_title  \\\n",
       "0  fck what others think trying to shove my anxiety aside   \n",
       "\n",
       "                                                                                                                                                                                                                                                                                                                                                                                                                                                                                                                                                                                                                                                                                                                                                                                                                                                                                                                                                                                                                                                                   lower_selftext  \\\n",
       "0  after years of making my own vlogs and digital content and keeping it private and over 14 years of writing poems and overthinking about what others will think if i ever shared one i finally posted my first poem online and for the public to see and criticize if it comes to it it would mean the world if anyone checked it out and even had some comments or tips to make  httpsvmtiktokcomttpdpssw7g i’m also trying to post everyday bc who tf cares if someone i know hates what im doing or thinks i suck at what im trying to do i’ll learn along the way and although my anxiety stays by my side i’m proud of myself for posting today and using my own voice and sharing my own poem criticism can be scary and its scary thinking “this must be so embarrassing” but fck it just fvk it the more time that goes on the more i realize how small we are and how we dont know anyone and no one knows us so why do we care so much about what they think fck it x3 x100 just keep saying it and let it push you towards that first step you’re too afraid to take   \n",
       "\n",
       "                                              lower_title  \\\n",
       "0  fck what others think trying to shove my anxiety aside   \n",
       "\n",
       "                                                                                                                                                                                                                                                                                                                                                                                                                                                                                                                                                                                                                                      split_selftext  \\\n",
       "0  [after, years, of, making, my, own, vlogs, and, digital, content, and, keeping, it, private, and, over, 14, years, of, writing, poems, and, overthinking, about, what, others, will, think, if, i, ever, shared, one, i, finally, posted, my, first, poem, online, and, for, the, public, to, see, and, criticize, if, it, comes, to, it, it, would, mean, the, world, if, anyone, checked, it, out, and, even, had, some, comments, or, tips, to, make, httpsvmtiktokcomttpdpssw7g, i’m, also, trying, to, post, everyday, bc, who, tf, cares, if, someone, i, know, hates, what, im, doing, or, thinks, i, suck, at, what, im, trying, to, ...]   \n",
       "\n",
       "                                                         split_title  \\\n",
       "0  [fck, what, others, think, trying, to, shove, my, anxiety, aside]   \n",
       "\n",
       "                                                                                                                                                                                                                                                                                                                                                                                                                                                                                                                                                                                                                                                                                                                                               stopwords_selftext  \\\n",
       "0  [years, making, vlogs, digital, content, keeping, private, 14, years, writing, poems, overthinking, others, think, ever, shared, one, finally, posted, first, poem, online, public, see, criticize, comes, would, mean, world, anyone, checked, even, comments, tips, make, httpsvmtiktokcomttpdpssw7g, i’m, also, trying, post, everyday, bc, tf, cares, someone, know, hates, im, thinks, suck, im, trying, i’ll, learn, along, way, although, anxiety, stays, side, i’m, proud, posting, today, using, voice, sharing, poem, criticism, scary, scary, thinking, “this, must, embarrassing”, fck, fvk, time, goes, realize, small, dont, know, anyone, one, knows, us, care, much, think, fck, x3, x100, keep, saying, let, push, towards, first, step, ...]   \n",
       "\n",
       "                                       stopwords_title  \\\n",
       "0  [fck, others, think, trying, shove, anxiety, aside]   \n",
       "\n",
       "                                                                                                                                                                                                                                                                                                                                                                                                                                                                                                                                                                                                                                                                                                                                lemmatized_selftext  \\\n",
       "0  [year, making, vlogs, digital, content, keeping, private, 14, year, writing, poem, overthinking, others, think, ever, shared, one, finally, posted, first, poem, online, public, see, criticize, come, would, mean, world, anyone, checked, even, comment, tip, make, httpsvmtiktokcomttpdpssw7g, i’m, also, trying, post, everyday, bc, tf, care, someone, know, hate, im, think, suck, im, trying, i’ll, learn, along, way, although, anxiety, stay, side, i’m, proud, posting, today, using, voice, sharing, poem, criticism, scary, scary, thinking, “this, must, embarrassing”, fck, fvk, time, go, realize, small, dont, know, anyone, one, know, u, care, much, think, fck, x3, x100, keep, saying, let, push, towards, first, step, ...]   \n",
       "\n",
       "                                      lemmatized_title  \n",
       "0  [fck, others, think, trying, shove, anxiety, aside]  "
      ]
     },
     "execution_count": 11,
     "metadata": {},
     "output_type": "execute_result"
    }
   ],
   "source": [
    "df.head(1)"
   ]
  },
  {
   "cell_type": "markdown",
   "metadata": {},
   "source": [
    "## Finalising Data"
   ]
  },
  {
   "cell_type": "code",
   "execution_count": null,
   "metadata": {},
   "outputs": [],
   "source": [
    "df = df[['subreddit', 'lemmatized_selftext', 'lemmatized_title', 'datetime']]"
   ]
  },
  {
   "cell_type": "code",
   "execution_count": null,
   "metadata": {},
   "outputs": [
    {
     "data": {
      "text/html": [
       "<div>\n",
       "<style scoped>\n",
       "    .dataframe tbody tr th:only-of-type {\n",
       "        vertical-align: middle;\n",
       "    }\n",
       "\n",
       "    .dataframe tbody tr th {\n",
       "        vertical-align: top;\n",
       "    }\n",
       "\n",
       "    .dataframe thead th {\n",
       "        text-align: right;\n",
       "    }\n",
       "</style>\n",
       "<table border=\"1\" class=\"dataframe\">\n",
       "  <thead>\n",
       "    <tr style=\"text-align: right;\">\n",
       "      <th></th>\n",
       "      <th>subreddit</th>\n",
       "      <th>lemmatized_selftext</th>\n",
       "      <th>lemmatized_title</th>\n",
       "      <th>datetime</th>\n",
       "    </tr>\n",
       "  </thead>\n",
       "  <tbody>\n",
       "    <tr>\n",
       "      <th>0</th>\n",
       "      <td>Anxiety</td>\n",
       "      <td>[year, making, vlogs, digital, content, keeping, private, 14, year, writing, poem, overthinking, others, think, ever, shared, one, finally, posted, first, poem, online, public, see, criticize, come, would, mean, world, anyone, checked, even, comment, tip, make, httpsvmtiktokcomttpdpssw7g, i’m, also, trying, post, everyday, bc, tf, care, someone, know, hate, im, think, suck, im, trying, i’ll, learn, along, way, although, anxiety, stay, side, i’m, proud, posting, today, using, voice, sharing, poem, criticism, scary, scary, thinking, “this, must, embarrassing”, fck, fvk, time, go, realize, small, dont, know, anyone, one, know, u, care, much, think, fck, x3, x100, keep, saying, let, push, towards, first, step, ...]</td>\n",
       "      <td>[fck, others, think, trying, shove, anxiety, aside]</td>\n",
       "      <td>2022-03-20 04:52:46</td>\n",
       "    </tr>\n",
       "    <tr>\n",
       "      <th>1</th>\n",
       "      <td>Anxiety</td>\n",
       "      <td>[crush, work, together, campus, restaurant, register, two, guy, walked, got, food, paid, cash, wasnt, paying, attention, accidentally, forgot, close, register, realized, soon, crush, overheard, happened, restocking, can, walked, asked, happened, told, happened, tried, see, could, unlock, machine, need, id, number, open, didnt, work, one, else, working, needed, manager, open, manager, lunch, needed, clock, back, open, whole, ordeal, took, 20, minute, felt, bad, crush, helpful, apologized, whole, thing, kind, know, big, deal, moment, shaken, felt, bad, two, guy, wait, crush, getting, dragged, mess, manager, get, lunch, early, really, shaken, im, normally, shy, person, much, timid, wasnt, talkative, didnt, really, want, look, ...]</td>\n",
       "      <td>[anxiety, resurfaced, crush, helped]</td>\n",
       "      <td>2022-03-20 04:44:10</td>\n",
       "    </tr>\n",
       "    <tr>\n",
       "      <th>2</th>\n",
       "      <td>Anxiety</td>\n",
       "      <td>[hi, im, wondering, anyone, issue, tip, cope, ive, night, club, twice, past, couple, month, ive, drink, friend, occasion, ive, leave, early, get, anxious, number, people, around, resulting, panic, attack, never, used, like, covid, im, generally, ok, crowd, sober, anyone, got, tip, cope]</td>\n",
       "      <td>[anxiety, drinking, following, covid, lockdown]</td>\n",
       "      <td>2022-03-20 04:43:48</td>\n",
       "    </tr>\n",
       "    <tr>\n",
       "      <th>3</th>\n",
       "      <td>Anxiety</td>\n",
       "      <td>[feeling, shitty, everyone, age, already, got, life, together, still, dont, shit, driving, license, part, community, friend, count, nothing, im, completely, alone, world, ive, wasting, much, time, throughout, whole, life, concerning, much, academic, yet, still, dumb, incapable, anything, stupid, anxiety, get, nowhere, life, cant, even, make, friend, got, feeling, nobody, want, friend, would, cant, even, talk, anyone, without, anxious, cant, tell, anyone, believe, nobody, care, waste, time, there, future, im, shitty, totally, worthless]</td>\n",
       "      <td>[suck]</td>\n",
       "      <td>2022-03-20 04:36:18</td>\n",
       "    </tr>\n",
       "    <tr>\n",
       "      <th>4</th>\n",
       "      <td>Anxiety</td>\n",
       "      <td>[im, 18, ive, plantar, wart, almost, 3, year, im, worried, carelessness, might, spread, dick, shower, know, almost, strain, cause, plantars, one, infect, genitals, type, 66, one, disease, share, doom, acrolling, something, im, freaking, bit, reading, treatment, wart, fuck, dick, reading, risk, dont, take, treatment, getting, depressed, angry, treating, issue, sooner]</td>\n",
       "      <td>[needing, help, health, anxiety, attack]</td>\n",
       "      <td>2022-03-20 04:26:25</td>\n",
       "    </tr>\n",
       "  </tbody>\n",
       "</table>\n",
       "</div>"
      ],
      "text/plain": [
       "  subreddit  \\\n",
       "0   Anxiety   \n",
       "1   Anxiety   \n",
       "2   Anxiety   \n",
       "3   Anxiety   \n",
       "4   Anxiety   \n",
       "\n",
       "                                                                                                                                                                                                                                                                                                                                                                                                                                                                                                                                                                                                                                                                                                                                                 lemmatized_selftext  \\\n",
       "0                   [year, making, vlogs, digital, content, keeping, private, 14, year, writing, poem, overthinking, others, think, ever, shared, one, finally, posted, first, poem, online, public, see, criticize, come, would, mean, world, anyone, checked, even, comment, tip, make, httpsvmtiktokcomttpdpssw7g, i’m, also, trying, post, everyday, bc, tf, care, someone, know, hate, im, think, suck, im, trying, i’ll, learn, along, way, although, anxiety, stay, side, i’m, proud, posting, today, using, voice, sharing, poem, criticism, scary, scary, thinking, “this, must, embarrassing”, fck, fvk, time, go, realize, small, dont, know, anyone, one, know, u, care, much, think, fck, x3, x100, keep, saying, let, push, towards, first, step, ...]   \n",
       "1  [crush, work, together, campus, restaurant, register, two, guy, walked, got, food, paid, cash, wasnt, paying, attention, accidentally, forgot, close, register, realized, soon, crush, overheard, happened, restocking, can, walked, asked, happened, told, happened, tried, see, could, unlock, machine, need, id, number, open, didnt, work, one, else, working, needed, manager, open, manager, lunch, needed, clock, back, open, whole, ordeal, took, 20, minute, felt, bad, crush, helpful, apologized, whole, thing, kind, know, big, deal, moment, shaken, felt, bad, two, guy, wait, crush, getting, dragged, mess, manager, get, lunch, early, really, shaken, im, normally, shy, person, much, timid, wasnt, talkative, didnt, really, want, look, ...]   \n",
       "2                                                                                                                                                                                                                                                                                                                                                                                                                                                                    [hi, im, wondering, anyone, issue, tip, cope, ive, night, club, twice, past, couple, month, ive, drink, friend, occasion, ive, leave, early, get, anxious, number, people, around, resulting, panic, attack, never, used, like, covid, im, generally, ok, crowd, sober, anyone, got, tip, cope]   \n",
       "3                                                                                                                                                                                                      [feeling, shitty, everyone, age, already, got, life, together, still, dont, shit, driving, license, part, community, friend, count, nothing, im, completely, alone, world, ive, wasting, much, time, throughout, whole, life, concerning, much, academic, yet, still, dumb, incapable, anything, stupid, anxiety, get, nowhere, life, cant, even, make, friend, got, feeling, nobody, want, friend, would, cant, even, talk, anyone, without, anxious, cant, tell, anyone, believe, nobody, care, waste, time, there, future, im, shitty, totally, worthless]   \n",
       "4                                                                                                                                                                                                                                                                                                                                                                                  [im, 18, ive, plantar, wart, almost, 3, year, im, worried, carelessness, might, spread, dick, shower, know, almost, strain, cause, plantars, one, infect, genitals, type, 66, one, disease, share, doom, acrolling, something, im, freaking, bit, reading, treatment, wart, fuck, dick, reading, risk, dont, take, treatment, getting, depressed, angry, treating, issue, sooner]   \n",
       "\n",
       "                                      lemmatized_title             datetime  \n",
       "0  [fck, others, think, trying, shove, anxiety, aside]  2022-03-20 04:52:46  \n",
       "1                 [anxiety, resurfaced, crush, helped]  2022-03-20 04:44:10  \n",
       "2      [anxiety, drinking, following, covid, lockdown]  2022-03-20 04:43:48  \n",
       "3                                               [suck]  2022-03-20 04:36:18  \n",
       "4             [needing, help, health, anxiety, attack]  2022-03-20 04:26:25  "
      ]
     },
     "execution_count": 13,
     "metadata": {},
     "output_type": "execute_result"
    }
   ],
   "source": [
    "df.head()"
   ]
  },
  {
   "cell_type": "code",
   "execution_count": null,
   "metadata": {},
   "outputs": [],
   "source": [
    "X = df.drop(columns = 'subreddit')\n",
    "y = df['subreddit']"
   ]
  },
  {
   "cell_type": "code",
   "execution_count": null,
   "metadata": {},
   "outputs": [],
   "source": [
    "X_train, X_test, y_train, y_test = train_test_split(X, y, test_size=0.3, random_state=42)"
   ]
  },
  {
   "cell_type": "code",
   "execution_count": null,
   "metadata": {},
   "outputs": [
    {
     "ename": "ValueError",
     "evalue": "setting an array element with a sequence.",
     "output_type": "error",
     "traceback": [
      "\u001b[1;31m---------------------------------------------------------------------------\u001b[0m",
      "\u001b[1;31mTypeError\u001b[0m                                 Traceback (most recent call last)",
      "\u001b[1;31mTypeError\u001b[0m: float() argument must be a string or a number, not 'list'",
      "\nThe above exception was the direct cause of the following exception:\n",
      "\u001b[1;31mValueError\u001b[0m                                Traceback (most recent call last)",
      "\u001b[1;32m<ipython-input-16-362a5c4ded77>\u001b[0m in \u001b[0;36m<module>\u001b[1;34m\u001b[0m\n\u001b[0;32m      2\u001b[0m \u001b[1;33m\u001b[0m\u001b[0m\n\u001b[0;32m      3\u001b[0m \u001b[0mss\u001b[0m \u001b[1;33m=\u001b[0m \u001b[0mStandardScaler\u001b[0m\u001b[1;33m(\u001b[0m\u001b[1;33m)\u001b[0m\u001b[1;33m\u001b[0m\u001b[1;33m\u001b[0m\u001b[0m\n\u001b[1;32m----> 4\u001b[1;33m \u001b[0mss\u001b[0m\u001b[1;33m.\u001b[0m\u001b[0mfit\u001b[0m\u001b[1;33m(\u001b[0m\u001b[0mX_train\u001b[0m\u001b[1;33m,\u001b[0m\u001b[0my_train\u001b[0m\u001b[1;33m)\u001b[0m\u001b[1;33m\u001b[0m\u001b[1;33m\u001b[0m\u001b[0m\n\u001b[0m",
      "\u001b[1;32m~\\anaconda3\\lib\\site-packages\\sklearn\\preprocessing\\_data.py\u001b[0m in \u001b[0;36mfit\u001b[1;34m(self, X, y, sample_weight)\u001b[0m\n\u001b[0;32m    728\u001b[0m         \u001b[1;31m# Reset internal state before fitting\u001b[0m\u001b[1;33m\u001b[0m\u001b[1;33m\u001b[0m\u001b[1;33m\u001b[0m\u001b[0m\n\u001b[0;32m    729\u001b[0m         \u001b[0mself\u001b[0m\u001b[1;33m.\u001b[0m\u001b[0m_reset\u001b[0m\u001b[1;33m(\u001b[0m\u001b[1;33m)\u001b[0m\u001b[1;33m\u001b[0m\u001b[1;33m\u001b[0m\u001b[0m\n\u001b[1;32m--> 730\u001b[1;33m         \u001b[1;32mreturn\u001b[0m \u001b[0mself\u001b[0m\u001b[1;33m.\u001b[0m\u001b[0mpartial_fit\u001b[0m\u001b[1;33m(\u001b[0m\u001b[0mX\u001b[0m\u001b[1;33m,\u001b[0m \u001b[0my\u001b[0m\u001b[1;33m,\u001b[0m \u001b[0msample_weight\u001b[0m\u001b[1;33m)\u001b[0m\u001b[1;33m\u001b[0m\u001b[1;33m\u001b[0m\u001b[0m\n\u001b[0m\u001b[0;32m    731\u001b[0m \u001b[1;33m\u001b[0m\u001b[0m\n\u001b[0;32m    732\u001b[0m     \u001b[1;32mdef\u001b[0m \u001b[0mpartial_fit\u001b[0m\u001b[1;33m(\u001b[0m\u001b[0mself\u001b[0m\u001b[1;33m,\u001b[0m \u001b[0mX\u001b[0m\u001b[1;33m,\u001b[0m \u001b[0my\u001b[0m\u001b[1;33m=\u001b[0m\u001b[1;32mNone\u001b[0m\u001b[1;33m,\u001b[0m \u001b[0msample_weight\u001b[0m\u001b[1;33m=\u001b[0m\u001b[1;32mNone\u001b[0m\u001b[1;33m)\u001b[0m\u001b[1;33m:\u001b[0m\u001b[1;33m\u001b[0m\u001b[1;33m\u001b[0m\u001b[0m\n",
      "\u001b[1;32m~\\anaconda3\\lib\\site-packages\\sklearn\\preprocessing\\_data.py\u001b[0m in \u001b[0;36mpartial_fit\u001b[1;34m(self, X, y, sample_weight)\u001b[0m\n\u001b[0;32m    764\u001b[0m         \"\"\"\n\u001b[0;32m    765\u001b[0m         \u001b[0mfirst_call\u001b[0m \u001b[1;33m=\u001b[0m \u001b[1;32mnot\u001b[0m \u001b[0mhasattr\u001b[0m\u001b[1;33m(\u001b[0m\u001b[0mself\u001b[0m\u001b[1;33m,\u001b[0m \u001b[1;34m\"n_samples_seen_\"\u001b[0m\u001b[1;33m)\u001b[0m\u001b[1;33m\u001b[0m\u001b[1;33m\u001b[0m\u001b[0m\n\u001b[1;32m--> 766\u001b[1;33m         X = self._validate_data(X, accept_sparse=('csr', 'csc'),\n\u001b[0m\u001b[0;32m    767\u001b[0m                                 \u001b[0mestimator\u001b[0m\u001b[1;33m=\u001b[0m\u001b[0mself\u001b[0m\u001b[1;33m,\u001b[0m \u001b[0mdtype\u001b[0m\u001b[1;33m=\u001b[0m\u001b[0mFLOAT_DTYPES\u001b[0m\u001b[1;33m,\u001b[0m\u001b[1;33m\u001b[0m\u001b[1;33m\u001b[0m\u001b[0m\n\u001b[0;32m    768\u001b[0m                                 force_all_finite='allow-nan', reset=first_call)\n",
      "\u001b[1;32m~\\anaconda3\\lib\\site-packages\\sklearn\\base.py\u001b[0m in \u001b[0;36m_validate_data\u001b[1;34m(self, X, y, reset, validate_separately, **check_params)\u001b[0m\n\u001b[0;32m    419\u001b[0m             \u001b[0mout\u001b[0m \u001b[1;33m=\u001b[0m \u001b[0mX\u001b[0m\u001b[1;33m\u001b[0m\u001b[1;33m\u001b[0m\u001b[0m\n\u001b[0;32m    420\u001b[0m         \u001b[1;32melif\u001b[0m \u001b[0misinstance\u001b[0m\u001b[1;33m(\u001b[0m\u001b[0my\u001b[0m\u001b[1;33m,\u001b[0m \u001b[0mstr\u001b[0m\u001b[1;33m)\u001b[0m \u001b[1;32mand\u001b[0m \u001b[0my\u001b[0m \u001b[1;33m==\u001b[0m \u001b[1;34m'no_validation'\u001b[0m\u001b[1;33m:\u001b[0m\u001b[1;33m\u001b[0m\u001b[1;33m\u001b[0m\u001b[0m\n\u001b[1;32m--> 421\u001b[1;33m             \u001b[0mX\u001b[0m \u001b[1;33m=\u001b[0m \u001b[0mcheck_array\u001b[0m\u001b[1;33m(\u001b[0m\u001b[0mX\u001b[0m\u001b[1;33m,\u001b[0m \u001b[1;33m**\u001b[0m\u001b[0mcheck_params\u001b[0m\u001b[1;33m)\u001b[0m\u001b[1;33m\u001b[0m\u001b[1;33m\u001b[0m\u001b[0m\n\u001b[0m\u001b[0;32m    422\u001b[0m             \u001b[0mout\u001b[0m \u001b[1;33m=\u001b[0m \u001b[0mX\u001b[0m\u001b[1;33m\u001b[0m\u001b[1;33m\u001b[0m\u001b[0m\n\u001b[0;32m    423\u001b[0m         \u001b[1;32melse\u001b[0m\u001b[1;33m:\u001b[0m\u001b[1;33m\u001b[0m\u001b[1;33m\u001b[0m\u001b[0m\n",
      "\u001b[1;32m~\\anaconda3\\lib\\site-packages\\sklearn\\utils\\validation.py\u001b[0m in \u001b[0;36minner_f\u001b[1;34m(*args, **kwargs)\u001b[0m\n\u001b[0;32m     61\u001b[0m             \u001b[0mextra_args\u001b[0m \u001b[1;33m=\u001b[0m \u001b[0mlen\u001b[0m\u001b[1;33m(\u001b[0m\u001b[0margs\u001b[0m\u001b[1;33m)\u001b[0m \u001b[1;33m-\u001b[0m \u001b[0mlen\u001b[0m\u001b[1;33m(\u001b[0m\u001b[0mall_args\u001b[0m\u001b[1;33m)\u001b[0m\u001b[1;33m\u001b[0m\u001b[1;33m\u001b[0m\u001b[0m\n\u001b[0;32m     62\u001b[0m             \u001b[1;32mif\u001b[0m \u001b[0mextra_args\u001b[0m \u001b[1;33m<=\u001b[0m \u001b[1;36m0\u001b[0m\u001b[1;33m:\u001b[0m\u001b[1;33m\u001b[0m\u001b[1;33m\u001b[0m\u001b[0m\n\u001b[1;32m---> 63\u001b[1;33m                 \u001b[1;32mreturn\u001b[0m \u001b[0mf\u001b[0m\u001b[1;33m(\u001b[0m\u001b[1;33m*\u001b[0m\u001b[0margs\u001b[0m\u001b[1;33m,\u001b[0m \u001b[1;33m**\u001b[0m\u001b[0mkwargs\u001b[0m\u001b[1;33m)\u001b[0m\u001b[1;33m\u001b[0m\u001b[1;33m\u001b[0m\u001b[0m\n\u001b[0m\u001b[0;32m     64\u001b[0m \u001b[1;33m\u001b[0m\u001b[0m\n\u001b[0;32m     65\u001b[0m             \u001b[1;31m# extra_args > 0\u001b[0m\u001b[1;33m\u001b[0m\u001b[1;33m\u001b[0m\u001b[1;33m\u001b[0m\u001b[0m\n",
      "\u001b[1;32m~\\anaconda3\\lib\\site-packages\\sklearn\\utils\\validation.py\u001b[0m in \u001b[0;36mcheck_array\u001b[1;34m(array, accept_sparse, accept_large_sparse, dtype, order, copy, force_all_finite, ensure_2d, allow_nd, ensure_min_samples, ensure_min_features, estimator)\u001b[0m\n\u001b[0;32m    614\u001b[0m                     \u001b[0marray\u001b[0m \u001b[1;33m=\u001b[0m \u001b[0marray\u001b[0m\u001b[1;33m.\u001b[0m\u001b[0mastype\u001b[0m\u001b[1;33m(\u001b[0m\u001b[0mdtype\u001b[0m\u001b[1;33m,\u001b[0m \u001b[0mcasting\u001b[0m\u001b[1;33m=\u001b[0m\u001b[1;34m\"unsafe\"\u001b[0m\u001b[1;33m,\u001b[0m \u001b[0mcopy\u001b[0m\u001b[1;33m=\u001b[0m\u001b[1;32mFalse\u001b[0m\u001b[1;33m)\u001b[0m\u001b[1;33m\u001b[0m\u001b[1;33m\u001b[0m\u001b[0m\n\u001b[0;32m    615\u001b[0m                 \u001b[1;32melse\u001b[0m\u001b[1;33m:\u001b[0m\u001b[1;33m\u001b[0m\u001b[1;33m\u001b[0m\u001b[0m\n\u001b[1;32m--> 616\u001b[1;33m                     \u001b[0marray\u001b[0m \u001b[1;33m=\u001b[0m \u001b[0mnp\u001b[0m\u001b[1;33m.\u001b[0m\u001b[0masarray\u001b[0m\u001b[1;33m(\u001b[0m\u001b[0marray\u001b[0m\u001b[1;33m,\u001b[0m \u001b[0morder\u001b[0m\u001b[1;33m=\u001b[0m\u001b[0morder\u001b[0m\u001b[1;33m,\u001b[0m \u001b[0mdtype\u001b[0m\u001b[1;33m=\u001b[0m\u001b[0mdtype\u001b[0m\u001b[1;33m)\u001b[0m\u001b[1;33m\u001b[0m\u001b[1;33m\u001b[0m\u001b[0m\n\u001b[0m\u001b[0;32m    617\u001b[0m             \u001b[1;32mexcept\u001b[0m \u001b[0mComplexWarning\u001b[0m \u001b[1;32mas\u001b[0m \u001b[0mcomplex_warning\u001b[0m\u001b[1;33m:\u001b[0m\u001b[1;33m\u001b[0m\u001b[1;33m\u001b[0m\u001b[0m\n\u001b[0;32m    618\u001b[0m                 raise ValueError(\"Complex data not supported\\n\"\n",
      "\u001b[1;32m~\\anaconda3\\lib\\site-packages\\numpy\\core\\_asarray.py\u001b[0m in \u001b[0;36masarray\u001b[1;34m(a, dtype, order, like)\u001b[0m\n\u001b[0;32m    100\u001b[0m         \u001b[1;32mreturn\u001b[0m \u001b[0m_asarray_with_like\u001b[0m\u001b[1;33m(\u001b[0m\u001b[0ma\u001b[0m\u001b[1;33m,\u001b[0m \u001b[0mdtype\u001b[0m\u001b[1;33m=\u001b[0m\u001b[0mdtype\u001b[0m\u001b[1;33m,\u001b[0m \u001b[0morder\u001b[0m\u001b[1;33m=\u001b[0m\u001b[0morder\u001b[0m\u001b[1;33m,\u001b[0m \u001b[0mlike\u001b[0m\u001b[1;33m=\u001b[0m\u001b[0mlike\u001b[0m\u001b[1;33m)\u001b[0m\u001b[1;33m\u001b[0m\u001b[1;33m\u001b[0m\u001b[0m\n\u001b[0;32m    101\u001b[0m \u001b[1;33m\u001b[0m\u001b[0m\n\u001b[1;32m--> 102\u001b[1;33m     \u001b[1;32mreturn\u001b[0m \u001b[0marray\u001b[0m\u001b[1;33m(\u001b[0m\u001b[0ma\u001b[0m\u001b[1;33m,\u001b[0m \u001b[0mdtype\u001b[0m\u001b[1;33m,\u001b[0m \u001b[0mcopy\u001b[0m\u001b[1;33m=\u001b[0m\u001b[1;32mFalse\u001b[0m\u001b[1;33m,\u001b[0m \u001b[0morder\u001b[0m\u001b[1;33m=\u001b[0m\u001b[0morder\u001b[0m\u001b[1;33m)\u001b[0m\u001b[1;33m\u001b[0m\u001b[1;33m\u001b[0m\u001b[0m\n\u001b[0m\u001b[0;32m    103\u001b[0m \u001b[1;33m\u001b[0m\u001b[0m\n\u001b[0;32m    104\u001b[0m \u001b[1;33m\u001b[0m\u001b[0m\n",
      "\u001b[1;32m~\\anaconda3\\lib\\site-packages\\pandas\\core\\generic.py\u001b[0m in \u001b[0;36m__array__\u001b[1;34m(self, dtype)\u001b[0m\n\u001b[0;32m   1897\u001b[0m \u001b[1;33m\u001b[0m\u001b[0m\n\u001b[0;32m   1898\u001b[0m     \u001b[1;32mdef\u001b[0m \u001b[0m__array__\u001b[0m\u001b[1;33m(\u001b[0m\u001b[0mself\u001b[0m\u001b[1;33m,\u001b[0m \u001b[0mdtype\u001b[0m\u001b[1;33m=\u001b[0m\u001b[1;32mNone\u001b[0m\u001b[1;33m)\u001b[0m \u001b[1;33m->\u001b[0m \u001b[0mnp\u001b[0m\u001b[1;33m.\u001b[0m\u001b[0mndarray\u001b[0m\u001b[1;33m:\u001b[0m\u001b[1;33m\u001b[0m\u001b[1;33m\u001b[0m\u001b[0m\n\u001b[1;32m-> 1899\u001b[1;33m         \u001b[1;32mreturn\u001b[0m \u001b[0mnp\u001b[0m\u001b[1;33m.\u001b[0m\u001b[0masarray\u001b[0m\u001b[1;33m(\u001b[0m\u001b[0mself\u001b[0m\u001b[1;33m.\u001b[0m\u001b[0m_values\u001b[0m\u001b[1;33m,\u001b[0m \u001b[0mdtype\u001b[0m\u001b[1;33m=\u001b[0m\u001b[0mdtype\u001b[0m\u001b[1;33m)\u001b[0m\u001b[1;33m\u001b[0m\u001b[1;33m\u001b[0m\u001b[0m\n\u001b[0m\u001b[0;32m   1900\u001b[0m \u001b[1;33m\u001b[0m\u001b[0m\n\u001b[0;32m   1901\u001b[0m     def __array_wrap__(\n",
      "\u001b[1;32m~\\anaconda3\\lib\\site-packages\\numpy\\core\\_asarray.py\u001b[0m in \u001b[0;36masarray\u001b[1;34m(a, dtype, order, like)\u001b[0m\n\u001b[0;32m    100\u001b[0m         \u001b[1;32mreturn\u001b[0m \u001b[0m_asarray_with_like\u001b[0m\u001b[1;33m(\u001b[0m\u001b[0ma\u001b[0m\u001b[1;33m,\u001b[0m \u001b[0mdtype\u001b[0m\u001b[1;33m=\u001b[0m\u001b[0mdtype\u001b[0m\u001b[1;33m,\u001b[0m \u001b[0morder\u001b[0m\u001b[1;33m=\u001b[0m\u001b[0morder\u001b[0m\u001b[1;33m,\u001b[0m \u001b[0mlike\u001b[0m\u001b[1;33m=\u001b[0m\u001b[0mlike\u001b[0m\u001b[1;33m)\u001b[0m\u001b[1;33m\u001b[0m\u001b[1;33m\u001b[0m\u001b[0m\n\u001b[0;32m    101\u001b[0m \u001b[1;33m\u001b[0m\u001b[0m\n\u001b[1;32m--> 102\u001b[1;33m     \u001b[1;32mreturn\u001b[0m \u001b[0marray\u001b[0m\u001b[1;33m(\u001b[0m\u001b[0ma\u001b[0m\u001b[1;33m,\u001b[0m \u001b[0mdtype\u001b[0m\u001b[1;33m,\u001b[0m \u001b[0mcopy\u001b[0m\u001b[1;33m=\u001b[0m\u001b[1;32mFalse\u001b[0m\u001b[1;33m,\u001b[0m \u001b[0morder\u001b[0m\u001b[1;33m=\u001b[0m\u001b[0morder\u001b[0m\u001b[1;33m)\u001b[0m\u001b[1;33m\u001b[0m\u001b[1;33m\u001b[0m\u001b[0m\n\u001b[0m\u001b[0;32m    103\u001b[0m \u001b[1;33m\u001b[0m\u001b[0m\n\u001b[0;32m    104\u001b[0m \u001b[1;33m\u001b[0m\u001b[0m\n",
      "\u001b[1;31mValueError\u001b[0m: setting an array element with a sequence."
     ]
    }
   ],
   "source": [
    "# Apply standard scaler\n",
    "\n",
    "ss = StandardScaler()\n",
    "ss.fit(X_train,y_train)"
   ]
  },
  {
   "cell_type": "code",
   "execution_count": null,
   "metadata": {},
   "outputs": [],
   "source": [
    "# Declare KNN\n",
    "\n",
    "knn = KNeighborsClassifier()\n",
    "\n",
    "knn.fit()"
   ]
  }
 ],
 "metadata": {
  "interpreter": {
   "hash": "b3ba2566441a7c06988d0923437866b63cedc61552a5af99d1f4fb67d367b25f"
  },
  "kernelspec": {
   "display_name": "Python 3.8.8 ('base')",
   "language": "python",
   "name": "python3"
  },
  "language_info": {
   "codemirror_mode": {
    "name": "ipython",
    "version": 3
   },
   "file_extension": ".py",
   "mimetype": "text/x-python",
   "name": "python",
   "nbconvert_exporter": "python",
   "pygments_lexer": "ipython3",
   "version": "3.8.8"
  },
  "orig_nbformat": 4
 },
 "nbformat": 4,
 "nbformat_minor": 2
}
