{
 "cells": [
  {
   "cell_type": "markdown",
   "metadata": {},
   "source": [
    "## Import"
   ]
  },
  {
   "cell_type": "code",
   "execution_count": 59,
   "metadata": {},
   "outputs": [],
   "source": [
    "import pandas as pd\n",
    "import requests\n",
    "import string\n",
    "string.punctuation\n",
    "import re\n",
    "import nltk\n",
    "from nltk.stem import WordNetLemmatizer\n",
    "import numpy as np\n",
    "import seaborn as sns\n",
    "import matplotlib.pyplot as plt\n",
    "\n",
    "\n",
    "from sklearn.neighbors import KNeighborsClassifier\n",
    "from sklearn.metrics import confusion_matrix, plot_confusion_matrix\n",
    "from sklearn.pipeline import Pipeline\n",
    "from sklearn.linear_model import LogisticRegression\n",
    "from sklearn.feature_extraction.text import CountVectorizer, TfidfVectorizer\n",
    "from sklearn.naive_bayes import MultinomialNB\n",
    "from sklearn.feature_extraction.text import CountVectorizer, TfidfVectorizer\n",
    "from nltk import word_tokenize   \n",
    "from nltk.stem.porter import PorterStemmer\n",
    "from nltk.tokenize import sent_tokenize, word_tokenize, RegexpTokenizer\n",
    "import matplotlib.dates as mdate\n",
    "\n",
    "\n",
    "from sklearn.model_selection import(\n",
    "    cross_val_score,\n",
    "    train_test_split,\n",
    "    GridSearchCV\n",
    ")\n",
    "\n",
    "from sklearn.preprocessing import (\n",
    "    StandardScaler,\n",
    "    PolynomialFeatures\n",
    ")\n",
    "from datetime import timezone\n",
    "import datetime\n",
    "\n",
    "pd.set_option('display.max_colwidth', None)"
   ]
  },
  {
   "cell_type": "markdown",
   "metadata": {},
   "source": [
    "## Data importing and Cleaning"
   ]
  },
  {
   "cell_type": "code",
   "execution_count": 60,
   "metadata": {},
   "outputs": [],
   "source": [
    "df_anxiety = pd.read_csv('Data/Anxiety.csv')\n",
    "df_ptsd = pd.read_csv('Data/PTSD.csv')\n",
    "\n",
    "df_anxiety = df_anxiety.drop(columns = 'Unnamed: 0')\n",
    "df_ptsd.drop(columns = 'Unnamed: 0', inplace = True)\n",
    "\n",
    "df = pd.concat([df_ptsd,df_anxiety])\n",
    "df.reset_index(inplace = True)\n",
    "df.drop(columns = 'index', inplace = True)"
   ]
  },
  {
   "cell_type": "code",
   "execution_count": 61,
   "metadata": {},
   "outputs": [
    {
     "data": {
      "text/plain": [
       "(20294, 6)"
      ]
     },
     "execution_count": 61,
     "metadata": {},
     "output_type": "execute_result"
    }
   ],
   "source": [
    "df.shape"
   ]
  },
  {
   "cell_type": "code",
   "execution_count": 62,
   "metadata": {},
   "outputs": [],
   "source": [
    "# create all text column for self text and title combined \n",
    "\n",
    "df['alltext'] = df['selftext'] + ' ' + df['title']"
   ]
  },
  {
   "cell_type": "code",
   "execution_count": 63,
   "metadata": {},
   "outputs": [],
   "source": [
    "# to create calculate length of text and title \n",
    "\n",
    "df['length_text'] = df['alltext'].map(lambda x: len(x))"
   ]
  },
  {
   "cell_type": "code",
   "execution_count": 64,
   "metadata": {},
   "outputs": [],
   "source": [
    "# to create calculate status word cout of text and title \n",
    "tokenizer = RegexpTokenizer('\\s+', gaps=True)\n",
    "\n",
    "def tokenizer_func(text):\n",
    "    return len(tokenizer.tokenize(text))\n",
    "\n",
    "df['wrdcount_text'] = df['alltext'].apply(lambda x: tokenizer_func(x))"
   ]
  },
  {
   "cell_type": "code",
   "execution_count": 65,
   "metadata": {},
   "outputs": [
    {
     "data": {
      "text/html": [
       "<div>\n",
       "<style scoped>\n",
       "    .dataframe tbody tr th:only-of-type {\n",
       "        vertical-align: middle;\n",
       "    }\n",
       "\n",
       "    .dataframe tbody tr th {\n",
       "        vertical-align: top;\n",
       "    }\n",
       "\n",
       "    .dataframe thead th {\n",
       "        text-align: right;\n",
       "    }\n",
       "</style>\n",
       "<table border=\"1\" class=\"dataframe\">\n",
       "  <thead>\n",
       "    <tr style=\"text-align: right;\">\n",
       "      <th></th>\n",
       "      <th>author</th>\n",
       "      <th>subreddit</th>\n",
       "      <th>selftext</th>\n",
       "      <th>title</th>\n",
       "      <th>created_utc</th>\n",
       "      <th>datetime</th>\n",
       "      <th>alltext</th>\n",
       "      <th>length_text</th>\n",
       "      <th>wrdcount_text</th>\n",
       "    </tr>\n",
       "  </thead>\n",
       "  <tbody>\n",
       "    <tr>\n",
       "      <th>0</th>\n",
       "      <td>cuddlesnakes</td>\n",
       "      <td>ptsd</td>\n",
       "      <td>I'm super mad right now. I've finally managed to call one of the biggest organisations in countries that supports victims of pretty much any crime. \\nI've used their online counseling before cause it's easier to write than to talk, and because I was unsure if they even deal with the kind of violence I've experienced. The counselor said they do, and I should contact the local team for in depth cooperation. \\n\\n\\nTurns out, they don't. I've experienced the wrong kind of crime, the wrong kind of violence and there is no support system for me. Their website says that they don't compare or judge between victims of different crimes and support everyone. They fucking need to add a disclaimer with the exceptions. \\nThanks for nothing.</td>\n",
       "      <td>\"We're helping victims of any crime, but unfortunately you've experienced the wrong kind of crime\"</td>\n",
       "      <td>1648127141</td>\n",
       "      <td>2022-03-24 13:05:41</td>\n",
       "      <td>I'm super mad right now. I've finally managed to call one of the biggest organisations in countries that supports victims of pretty much any crime. \\nI've used their online counseling before cause it's easier to write than to talk, and because I was unsure if they even deal with the kind of violence I've experienced. The counselor said they do, and I should contact the local team for in depth cooperation. \\n\\n\\nTurns out, they don't. I've experienced the wrong kind of crime, the wrong kind of violence and there is no support system for me. Their website says that they don't compare or judge between victims of different crimes and support everyone. They fucking need to add a disclaimer with the exceptions. \\nThanks for nothing. \"We're helping victims of any crime, but unfortunately you've experienced the wrong kind of crime\"</td>\n",
       "      <td>830</td>\n",
       "      <td>140</td>\n",
       "    </tr>\n",
       "  </tbody>\n",
       "</table>\n",
       "</div>"
      ],
      "text/plain": [
       "         author subreddit  \\\n",
       "0  cuddlesnakes      ptsd   \n",
       "\n",
       "                                                                                                                                                                                                                                                                                                                                                                                                                                                                                                                                                                                                                                                                                                                                                           selftext  \\\n",
       "0  I'm super mad right now. I've finally managed to call one of the biggest organisations in countries that supports victims of pretty much any crime. \\nI've used their online counseling before cause it's easier to write than to talk, and because I was unsure if they even deal with the kind of violence I've experienced. The counselor said they do, and I should contact the local team for in depth cooperation. \\n\\n\\nTurns out, they don't. I've experienced the wrong kind of crime, the wrong kind of violence and there is no support system for me. Their website says that they don't compare or judge between victims of different crimes and support everyone. They fucking need to add a disclaimer with the exceptions. \\nThanks for nothing.   \n",
       "\n",
       "                                                                                                title  \\\n",
       "0  \"We're helping victims of any crime, but unfortunately you've experienced the wrong kind of crime\"   \n",
       "\n",
       "   created_utc             datetime  \\\n",
       "0   1648127141  2022-03-24 13:05:41   \n",
       "\n",
       "                                                                                                                                                                                                                                                                                                                                                                                                                                                                                                                                                                                                                                                                                                                                                                                                                                                               alltext  \\\n",
       "0  I'm super mad right now. I've finally managed to call one of the biggest organisations in countries that supports victims of pretty much any crime. \\nI've used their online counseling before cause it's easier to write than to talk, and because I was unsure if they even deal with the kind of violence I've experienced. The counselor said they do, and I should contact the local team for in depth cooperation. \\n\\n\\nTurns out, they don't. I've experienced the wrong kind of crime, the wrong kind of violence and there is no support system for me. Their website says that they don't compare or judge between victims of different crimes and support everyone. They fucking need to add a disclaimer with the exceptions. \\nThanks for nothing. \"We're helping victims of any crime, but unfortunately you've experienced the wrong kind of crime\"   \n",
       "\n",
       "   length_text  wrdcount_text  \n",
       "0          830            140  "
      ]
     },
     "execution_count": 65,
     "metadata": {},
     "output_type": "execute_result"
    }
   ],
   "source": [
    "df.head(1)"
   ]
  },
  {
   "cell_type": "code",
   "execution_count": 66,
   "metadata": {},
   "outputs": [],
   "source": [
    "# define function to remove punctuation and remove \\n\n",
    "def remove_punctuation(text):\n",
    "    punctuationfree=\"\".join([i for i in text if i not in string.punctuation])\n",
    "    punctuationfree = ' '.join([sentence for sentence in punctuationfree.split('\\n') if sentence != ''])\n",
    "    return punctuationfree\n",
    "\n",
    "df['clean_text'] = df['alltext'].apply(lambda x: x.lower())   \n",
    "df['clean_text']= df['clean_text'].apply(lambda x: remove_punctuation(x))   "
   ]
  },
  {
   "cell_type": "code",
   "execution_count": 67,
   "metadata": {},
   "outputs": [],
   "source": [
    "# create stop word list \n",
    "stopwordlist = nltk.corpus.stopwords.words('english')\n",
    "\n",
    "# to input in subreddit headers so that we can exclude it for model\n",
    "headers = ['ptsd', 'anxiety',\"cptsd\", 'trauma','traumatized','traumas',\"posttraumatic\",'stress','disorder',\"traumatic\",\"'d\", \"'ll\", \"'re\", \"'s\", \"'ve\", 'could', 'doe', 'ha', 'might', 'must', \"n't\", 'need', 'sha', 'wa', 'wo', 'would']\n",
    "for head in headers:\n",
    "    stopwordlist.append(head)\n",
    "\n",
    "df['clean_text'] = df['clean_text'].apply(lambda x: ' '.join([i for i in x.split() if i not in stopwordlist]))    "
   ]
  },
  {
   "cell_type": "code",
   "execution_count": 68,
   "metadata": {},
   "outputs": [
    {
     "data": {
      "text/html": [
       "<div>\n",
       "<style scoped>\n",
       "    .dataframe tbody tr th:only-of-type {\n",
       "        vertical-align: middle;\n",
       "    }\n",
       "\n",
       "    .dataframe tbody tr th {\n",
       "        vertical-align: top;\n",
       "    }\n",
       "\n",
       "    .dataframe thead th {\n",
       "        text-align: right;\n",
       "    }\n",
       "</style>\n",
       "<table border=\"1\" class=\"dataframe\">\n",
       "  <thead>\n",
       "    <tr style=\"text-align: right;\">\n",
       "      <th></th>\n",
       "      <th>author</th>\n",
       "      <th>subreddit</th>\n",
       "    </tr>\n",
       "  </thead>\n",
       "  <tbody>\n",
       "    <tr>\n",
       "      <th>0</th>\n",
       "      <td>---Scotty---</td>\n",
       "      <td>1</td>\n",
       "    </tr>\n",
       "    <tr>\n",
       "      <th>1</th>\n",
       "      <td>--A-lost-soul--</td>\n",
       "      <td>1</td>\n",
       "    </tr>\n",
       "    <tr>\n",
       "      <th>2</th>\n",
       "      <td>--Eug--</td>\n",
       "      <td>1</td>\n",
       "    </tr>\n",
       "    <tr>\n",
       "      <th>3</th>\n",
       "      <td>--Nature--</td>\n",
       "      <td>1</td>\n",
       "    </tr>\n",
       "    <tr>\n",
       "      <th>4</th>\n",
       "      <td>-7hr0w4w4y-</td>\n",
       "      <td>1</td>\n",
       "    </tr>\n",
       "    <tr>\n",
       "      <th>...</th>\n",
       "      <td>...</td>\n",
       "      <td>...</td>\n",
       "    </tr>\n",
       "    <tr>\n",
       "      <th>13612</th>\n",
       "      <td>zwitterion76</td>\n",
       "      <td>1</td>\n",
       "    </tr>\n",
       "    <tr>\n",
       "      <th>13613</th>\n",
       "      <td>zylonrave</td>\n",
       "      <td>1</td>\n",
       "    </tr>\n",
       "    <tr>\n",
       "      <th>13614</th>\n",
       "      <td>zynopsis61</td>\n",
       "      <td>1</td>\n",
       "    </tr>\n",
       "    <tr>\n",
       "      <th>13615</th>\n",
       "      <td>zzfailureloser123</td>\n",
       "      <td>1</td>\n",
       "    </tr>\n",
       "    <tr>\n",
       "      <th>13616</th>\n",
       "      <td>zzzzzbubbly</td>\n",
       "      <td>6</td>\n",
       "    </tr>\n",
       "  </tbody>\n",
       "</table>\n",
       "<p>13617 rows × 2 columns</p>\n",
       "</div>"
      ],
      "text/plain": [
       "                  author  subreddit\n",
       "0           ---Scotty---          1\n",
       "1        --A-lost-soul--          1\n",
       "2                --Eug--          1\n",
       "3             --Nature--          1\n",
       "4            -7hr0w4w4y-          1\n",
       "...                  ...        ...\n",
       "13612       zwitterion76          1\n",
       "13613          zylonrave          1\n",
       "13614         zynopsis61          1\n",
       "13615  zzfailureloser123          1\n",
       "13616        zzzzzbubbly          6\n",
       "\n",
       "[13617 rows x 2 columns]"
      ]
     },
     "execution_count": 68,
     "metadata": {},
     "output_type": "execute_result"
    }
   ],
   "source": [
    "unique_counts = pd.DataFrame(df.groupby('author')['subreddit'].count())\n",
    "unique_counts.reset_index(inplace = True)\n",
    "unique_counts"
   ]
  },
  {
   "cell_type": "code",
   "execution_count": 69,
   "metadata": {},
   "outputs": [],
   "source": [
    "df = df.merge(unique_counts, on = 'author')\n",
    "df.rename(columns = {'subreddit_x': 'subreddit', 'subreddit_y': 'ttl_post'}, inplace = True)"
   ]
  },
  {
   "cell_type": "code",
   "execution_count": 70,
   "metadata": {},
   "outputs": [],
   "source": [
    "# change Ptsd to 1 and Anxiety to 0\n",
    "\n",
    "df['subreddit'] = df['subreddit'].map(lambda x: 1 if x == 'ptsd' else 0)"
   ]
  },
  {
   "cell_type": "code",
   "execution_count": 71,
   "metadata": {},
   "outputs": [],
   "source": [
    "# Converting 'created_utc' column from epoch time to datetime object.\n",
    "\n",
    "df['datetime'] = df['created_utc'].map(lambda ts: datetime.datetime.fromtimestamp(ts))"
   ]
  },
  {
   "cell_type": "code",
   "execution_count": 72,
   "metadata": {},
   "outputs": [],
   "source": [
    "# Find difference in terms of days from first post till last post \n",
    "def find_earliest_date(col):\n",
    "    author = col\n",
    "    max = df[df['author'] == author]['created_utc'].max()\n",
    "    min = df[df['author'] == author]['created_utc'].min()    \n",
    "    return (pd.to_datetime(max, unit = 's').to_pydatetime() - pd.to_datetime(min, unit = 's').to_pydatetime()).days\n",
    "\n",
    "# apply function to create column for duration from last post \n",
    "df['duration_last_post'] = df['author'].apply(lambda x: find_earliest_date(x)).fillna(0)"
   ]
  },
  {
   "cell_type": "code",
   "execution_count": 73,
   "metadata": {},
   "outputs": [],
   "source": [
    "# to create reference list for identify columns with ptsd/anxiety or both\n",
    "unique_list_for_ptsd = df[df['subreddit'] == 1]['author'].unique().tolist()\n",
    "unique_list_for_anxiety = df[df['subreddit'] == 0]['author'].unique().tolist()\n",
    "\n",
    "\n",
    "# def function that labels  ptsd_only, anxiety_only , both\n",
    "\n",
    "def identify_users(user):\n",
    "    if (user in unique_list_for_ptsd) & (user not in unique_list_for_anxiety):\n",
    "        return 'ptsd_only'\n",
    "\n",
    "    elif (user not in unique_list_for_ptsd) & (user in unique_list_for_anxiety):\n",
    "        return 'anxiety_only'\n",
    "\n",
    "    else:\n",
    "        return 'both'\n",
    "\n",
    "\n",
    "df['user_contribute_where'] = df['author'].apply(identify_users)"
   ]
  },
  {
   "cell_type": "code",
   "execution_count": 74,
   "metadata": {},
   "outputs": [
    {
     "data": {
      "text/html": [
       "<div>\n",
       "<style scoped>\n",
       "    .dataframe tbody tr th:only-of-type {\n",
       "        vertical-align: middle;\n",
       "    }\n",
       "\n",
       "    .dataframe tbody tr th {\n",
       "        vertical-align: top;\n",
       "    }\n",
       "\n",
       "    .dataframe thead th {\n",
       "        text-align: right;\n",
       "    }\n",
       "</style>\n",
       "<table border=\"1\" class=\"dataframe\">\n",
       "  <thead>\n",
       "    <tr style=\"text-align: right;\">\n",
       "      <th></th>\n",
       "      <th>0</th>\n",
       "    </tr>\n",
       "  </thead>\n",
       "  <tbody>\n",
       "    <tr>\n",
       "      <th>0</th>\n",
       "      <td>cuddlesnakes</td>\n",
       "    </tr>\n",
       "    <tr>\n",
       "      <th>1</th>\n",
       "      <td>vampyydemon</td>\n",
       "    </tr>\n",
       "    <tr>\n",
       "      <th>2</th>\n",
       "      <td>starlinamidnight</td>\n",
       "    </tr>\n",
       "    <tr>\n",
       "      <th>3</th>\n",
       "      <td>josephinabb123</td>\n",
       "    </tr>\n",
       "    <tr>\n",
       "      <th>4</th>\n",
       "      <td>BeautifulMind3000</td>\n",
       "    </tr>\n",
       "    <tr>\n",
       "      <th>...</th>\n",
       "      <td>...</td>\n",
       "    </tr>\n",
       "    <tr>\n",
       "      <th>13612</th>\n",
       "      <td>LuckyJinx98</td>\n",
       "    </tr>\n",
       "    <tr>\n",
       "      <th>13613</th>\n",
       "      <td>NewCat24</td>\n",
       "    </tr>\n",
       "    <tr>\n",
       "      <th>13614</th>\n",
       "      <td>QuokkaNerd</td>\n",
       "    </tr>\n",
       "    <tr>\n",
       "      <th>13615</th>\n",
       "      <td>Ripjaw29</td>\n",
       "    </tr>\n",
       "    <tr>\n",
       "      <th>13616</th>\n",
       "      <td>adag96</td>\n",
       "    </tr>\n",
       "  </tbody>\n",
       "</table>\n",
       "<p>13617 rows × 1 columns</p>\n",
       "</div>"
      ],
      "text/plain": [
       "                       0\n",
       "0           cuddlesnakes\n",
       "1            vampyydemon\n",
       "2       starlinamidnight\n",
       "3         josephinabb123\n",
       "4      BeautifulMind3000\n",
       "...                  ...\n",
       "13612        LuckyJinx98\n",
       "13613           NewCat24\n",
       "13614         QuokkaNerd\n",
       "13615           Ripjaw29\n",
       "13616             adag96\n",
       "\n",
       "[13617 rows x 1 columns]"
      ]
     },
     "execution_count": 74,
     "metadata": {},
     "output_type": "execute_result"
    }
   ],
   "source": [
    "# checking shape of unique df\n",
    "pd.DataFrame(df['author'].unique())"
   ]
  },
  {
   "cell_type": "code",
   "execution_count": 75,
   "metadata": {},
   "outputs": [
    {
     "data": {
      "text/plain": [
       "(13617, 14)"
      ]
     },
     "execution_count": 75,
     "metadata": {},
     "output_type": "execute_result"
    }
   ],
   "source": [
    "# create separate data frame to consist of only unique users \n",
    "unique_users = pd.DataFrame(df['author'].unique())\n",
    "# rename columns to pd concat by Author \n",
    "unique_users.columns = ['author']\n",
    "# pd concat with df and remove those that are not within unique_users df \n",
    "unique_users = pd.concat([unique_users,df], axis = 1).dropna()\n",
    "\n",
    "unique_users.shape"
   ]
  },
  {
   "cell_type": "code",
   "execution_count": 76,
   "metadata": {},
   "outputs": [],
   "source": [
    "ptsd = df[df['subreddit'] == 1]\n",
    "anxiety = df[df['subreddit'] == 0]\n",
    "anxiety.reset_index(inplace = True)\n",
    "anxiety = anxiety.drop(columns = 'index')"
   ]
  },
  {
   "cell_type": "markdown",
   "metadata": {},
   "source": [
    "## Exploratory Data Analysis"
   ]
  },
  {
   "cell_type": "markdown",
   "metadata": {},
   "source": [
    "### Visualising Differences in author's activity levels"
   ]
  },
  {
   "cell_type": "code",
   "execution_count": 78,
   "metadata": {},
   "outputs": [
    {
     "data": {
      "text/plain": [
       "Index(['author', 'author', 'subreddit', 'selftext', 'title', 'created_utc',\n",
       "       'datetime', 'alltext', 'length_text', 'wrdcount_text', 'clean_text',\n",
       "       'ttl_post', 'duration_last_post', 'user_contribute_where'],\n",
       "      dtype='object')"
      ]
     },
     "execution_count": 78,
     "metadata": {},
     "output_type": "execute_result"
    }
   ],
   "source": [
    "df.columns"
   ]
  },
  {
   "cell_type": "code",
   "execution_count": 89,
   "metadata": {},
   "outputs": [
    {
     "data": {
      "text/plain": [
       "(20294, 13)"
      ]
     },
     "execution_count": 89,
     "metadata": {},
     "output_type": "execute_result"
    }
   ],
   "source": [
    "df.shape"
   ]
  },
  {
   "cell_type": "code",
   "execution_count": 109,
   "metadata": {},
   "outputs": [
    {
     "data": {
      "text/plain": [
       "ptsd_only       9927\n",
       "anxiety_only    3334\n",
       "both             356\n",
       "Name: user_contribute_where, dtype: int64"
      ]
     },
     "execution_count": 109,
     "metadata": {},
     "output_type": "execute_result"
    }
   ],
   "source": [
    "unique_users['user_contribute_where'].value_counts()"
   ]
  },
  {
   "cell_type": "code",
   "execution_count": 107,
   "metadata": {},
   "outputs": [
    {
     "name": "stdout",
     "output_type": "stream",
     "text": [
      "Number of users in r/PTSD only is 6186\n",
      "Number of users in r/Anxiety only is 7337\n",
      "Number of users in both subreddits is 94\n",
      "Total number of unique users is 13617\n"
     ]
    }
   ],
   "source": [
    "ptsd_user = len(df[df['user_contribute_where'] == 'ptsd_only']['author'].unique())\n",
    "anxiety_user = len(df[df['user_contribute_where'] == 'anxiety_only']['author'].unique())\n",
    "both_user = len(df[df['user_contribute_where'] == 'both']['author'].unique())\n",
    "\n",
    "print(f'Number of users in r/PTSD only is {ptsd_user}')\n",
    "print(f'Number of users in r/Anxiety only is {anxiety_user}')\n",
    "print(f'Number of users in both subreddits is {both_user}')\n",
    "\n",
    "print(f'Total number of unique users is {ptsd_user + anxiety_user + both_user}')"
   ]
  },
  {
   "cell_type": "code",
   "execution_count": 112,
   "metadata": {},
   "outputs": [
    {
     "data": {
      "text/html": [
       "<div>\n",
       "<style scoped>\n",
       "    .dataframe tbody tr th:only-of-type {\n",
       "        vertical-align: middle;\n",
       "    }\n",
       "\n",
       "    .dataframe tbody tr th {\n",
       "        vertical-align: top;\n",
       "    }\n",
       "\n",
       "    .dataframe thead th {\n",
       "        text-align: right;\n",
       "    }\n",
       "</style>\n",
       "<table border=\"1\" class=\"dataframe\">\n",
       "  <thead>\n",
       "    <tr style=\"text-align: right;\">\n",
       "      <th></th>\n",
       "      <th>ttl_post</th>\n",
       "      <th>duration_last_post</th>\n",
       "    </tr>\n",
       "    <tr>\n",
       "      <th>subreddit</th>\n",
       "      <th></th>\n",
       "      <th></th>\n",
       "    </tr>\n",
       "  </thead>\n",
       "  <tbody>\n",
       "    <tr>\n",
       "      <th>0</th>\n",
       "      <td>6.801740</td>\n",
       "      <td>14.736353</td>\n",
       "    </tr>\n",
       "    <tr>\n",
       "      <th>1</th>\n",
       "      <td>4.865619</td>\n",
       "      <td>54.084416</td>\n",
       "    </tr>\n",
       "  </tbody>\n",
       "</table>\n",
       "</div>"
      ],
      "text/plain": [
       "           ttl_post  duration_last_post\n",
       "subreddit                              \n",
       "0          6.801740           14.736353\n",
       "1          4.865619           54.084416"
      ]
     },
     "execution_count": 112,
     "metadata": {},
     "output_type": "execute_result"
    }
   ],
   "source": [
    "unique_users[unique_users['user_contribute_where'] != 'both'].groupby(by = 'subreddit')[['ttl_post','duration_last_post']].mean()"
   ]
  },
  {
   "cell_type": "code",
   "execution_count": null,
   "metadata": {},
   "outputs": [],
   "source": [
    "There are about 356 post,  \n"
   ]
  },
  {
   "cell_type": "code",
   "execution_count": null,
   "metadata": {},
   "outputs": [
    {
     "data": {
      "text/plain": [
       "subreddit\n",
       "0    3.431425\n",
       "1    4.885982\n",
       "Name: ttl_post, dtype: float64"
      ]
     },
     "execution_count": 58,
     "metadata": {},
     "output_type": "execute_result"
    }
   ],
   "source": [
    "# Visualising difference in total post between the two groups\n",
    "df.groupby(['subreddit'])['ttl_post'].mean()"
   ]
  },
  {
   "cell_type": "code",
   "execution_count": null,
   "metadata": {},
   "outputs": [
    {
     "data": {
      "text/plain": [
       "subreddit\n",
       "Anxiety    10.582218\n",
       "ptsd        8.327811\n",
       "Name: ttl_post, dtype: float64"
      ]
     },
     "execution_count": 42,
     "metadata": {},
     "output_type": "execute_result"
    }
   ],
   "source": [
    "# Visualising difference in total post between the two groups who posted more than 1 time \n",
    "unique_users[unique_users['ttl_post'] != 1].groupby('subreddit')['ttl_post'].mean()"
   ]
  },
  {
   "cell_type": "code",
   "execution_count": null,
   "metadata": {},
   "outputs": [
    {
     "data": {
      "text/plain": [
       "subreddit\n",
       "0     853.353306\n",
       "1    1145.938993\n",
       "Name: length_text, dtype: float64"
      ]
     },
     "execution_count": 377,
     "metadata": {},
     "output_type": "execute_result"
    }
   ],
   "source": [
    "# difference in groups for length of text per paragraph on average\n",
    "df.groupby(['subreddit'])['length_text'].mean()"
   ]
  },
  {
   "cell_type": "code",
   "execution_count": null,
   "metadata": {},
   "outputs": [
    {
     "data": {
      "text/plain": [
       "subreddit\n",
       "0    161.663223\n",
       "1    216.724383\n",
       "Name: wrdcount_text, dtype: float64"
      ]
     },
     "execution_count": 378,
     "metadata": {},
     "output_type": "execute_result"
    }
   ],
   "source": [
    "# difference in groups for number of words per paragraph on average\n",
    "df.groupby(['subreddit'])['wrdcount_text'].mean()"
   ]
  },
  {
   "cell_type": "code",
   "execution_count": null,
   "metadata": {},
   "outputs": [
    {
     "data": {
      "text/plain": [
       "Text(0.5, 1.0, 'Scatterplot showing number of length of text on both subreddits')"
      ]
     },
     "execution_count": 380,
     "metadata": {},
     "output_type": "execute_result"
    },
    {
     "data": {
      "image/png": "[encoded data removed]",
      "text/plain": [
       "<Figure size 1296x504 with 1 Axes>"
      ]
     },
     "metadata": {
      "needs_background": "light"
     },
     "output_type": "display_data"
    }
   ],
   "source": [
    "# Plotting scatterplot to show no. of length of text on both subreddits.\n",
    "\n",
    "fig, ax = plt.subplots(figsize=(18,7))\n",
    "\n",
    "plt.scatter(ptsd.index, ptsd['length_text'], color='royalblue', alpha=0.5, label='r/PTSD')\n",
    "plt.scatter(anxiety.index, anxiety['length_text'], color='orangered', alpha=0.1, label='r/Anxiety')\n",
    "\n",
    "# Plotting horizontal lines to show average no. of words for posts in both subreddits.\n",
    "plt.axhline(ptsd['length_text'].mean(),\n",
    "            label='avg. length of text on r/PTSD',\n",
    "            ls='--',\n",
    "            linewidth=3,\n",
    "            color='royalblue',\n",
    "            dash_capstyle='round',\n",
    "           )\n",
    "plt.figtext(x=0.15,\n",
    "            y=0.20,\n",
    "            s=f\"{int(round(ptsd['length_text'].mean(), 0))} length of text on r/PTSD (on average)\",\n",
    "            fontsize=13,\n",
    "            fontweight='semibold'\n",
    "           )\n",
    "\n",
    "plt.axhline(anxiety['length_text'].mean(),\n",
    "            label='avg. length of text on r/Anxiety',\n",
    "            ls='--',\n",
    "            linewidth=3,\n",
    "            color='orangered',\n",
    "            dash_capstyle='round',\n",
    "           )\n",
    "plt.figtext(x=0.15,\n",
    "            y=0.16,\n",
    "            s=f\"{int(round(anxiety['length_text'].mean(), 0))} length of text on r/Anxiety (on average)\",\n",
    "            fontsize=13,\n",
    "            fontweight='semibold'\n",
    "           )\n",
    "\n",
    "\n",
    "plt.legend(fontsize=12)\n",
    "\n",
    "plt.xlabel(\"Posts\", fontsize=14)\n",
    "plt.ylabel(\"Lenght of text\", fontsize=14)\n",
    "\n",
    "plt.title(\"Scatterplot showing number of length of text on both subreddits\", loc='center', fontsize=18)"
   ]
  },
  {
   "cell_type": "markdown",
   "metadata": {},
   "source": [
    "Generally the length of text, number of words and even total number of post per users is higher in r/PTSD than in r/Anxiety. \n",
    "\n",
    "Specifically, r/PTSD has ave of 4 post compared to r/Anxiety which has ave of 3 post. Considering filtering away one-off users, users in r/PTSD has ave of 8 post compared to r/Anxiety which as ave of 7 post.  \n",
    "\n",
    "To visualise more, we plot a scatterplot for that shows the average length of text on both subrredicts. On average, the length text for r/PTSD is 1146 while the length of text for r/Anxiety is 853. \n",
    "\n",
    "Also we can see majority of the high flyers are coming from users in r/PTSD. This shows that users in r/PTSD are definitely more active in the subreddit, suggesting they might have alot more to share through their experience before getting PTSD. \n",
    "\n",
    "As users who might be suffering from PTSD has more specific relation to trauma genericly, people who can relate more to these post, will likely to share their experiences/advice as to how to perhaps overcome such grave issues as compared to having assumingly generic anxiety. "
   ]
  },
  {
   "cell_type": "code",
   "execution_count": null,
   "metadata": {},
   "outputs": [
    {
     "data": {
      "text/plain": [
       "Timedelta('337 days 11:18:31')"
      ]
     },
     "execution_count": 381,
     "metadata": {},
     "output_type": "execute_result"
    }
   ],
   "source": [
    "# Timespan between creation of latest post scraped and earliest post scraped from r/PTSD.\n",
    "\n",
    "ptsd_time_diff = ptsd['datetime'].max() - ptsd['datetime'].min()\n",
    "ptsd_time_diff"
   ]
  },
  {
   "cell_type": "code",
   "execution_count": null,
   "metadata": {},
   "outputs": [
    {
     "data": {
      "text/plain": [
       "Timedelta('45 days 19:20:17')"
      ]
     },
     "execution_count": 382,
     "metadata": {},
     "output_type": "execute_result"
    }
   ],
   "source": [
    "# Timespan between creation of latest post scraped and earliest post scraped from r/anxiety.\n",
    "\n",
    "anxiety_time_diff = anxiety['datetime'].max() - anxiety['datetime'].min()\n",
    "anxiety_time_diff"
   ]
  },
  {
   "cell_type": "code",
   "execution_count": null,
   "metadata": {},
   "outputs": [
    {
     "name": "stdout",
     "output_type": "stream",
     "text": [
      "r/PTSD has total timespan of 8099 hrs since start of post with 10000 worth of post\n",
      "r/Anxiety has total timespan of 1099 hrs since start of post with 10000 worth of post\n"
     ]
    }
   ],
   "source": [
    "# Separating no. of hours and minutes from timespans calculated above.\n",
    "ptsd_time_diff_h = (ptsd_time_diff.seconds//3600) + (ptsd_time_diff.days * 24)\n",
    "anxiety_time_diff_h = (anxiety_time_diff.seconds//3600) + (anxiety_time_diff.days * 24)\n",
    "\n",
    "print(f'r/PTSD has total timespan of {ptsd_time_diff_h} hrs since start of post with 10000 worth of post')\n",
    "print(f'r/Anxiety has total timespan of {anxiety_time_diff_h} hrs since start of post with 10000 worth of post')"
   ]
  },
  {
   "cell_type": "code",
   "execution_count": null,
   "metadata": {},
   "outputs": [
    {
     "name": "stdout",
     "output_type": "stream",
     "text": [
      "Average no. of posts created per hour:\n",
      "r/PTSD \t= 1.25\n",
      "r/Anxiety = 9.25\n",
      "\n"
     ]
    }
   ],
   "source": [
    "ptsd_ave_post_hr = ptsd.shape[0] / ptsd_time_diff_h\n",
    "anxiety_ave_post_hr = anxiety.shape[0] / anxiety_time_diff_h\n",
    "\n",
    "print(\"Average no. of posts created per hour:\")\n",
    "print(f\"r/PTSD \\t= {round(ptsd_ave_post_hr, 2)}\")\n",
    "print(f\"r/Anxiety = {round(anxiety_ave_post_hr, 2)}\")\n",
    "print()"
   ]
  },
  {
   "cell_type": "code",
   "execution_count": null,
   "metadata": {},
   "outputs": [
    {
     "data": {
      "text/html": [
       "<div>\n",
       "<style scoped>\n",
       "    .dataframe tbody tr th:only-of-type {\n",
       "        vertical-align: middle;\n",
       "    }\n",
       "\n",
       "    .dataframe tbody tr th {\n",
       "        vertical-align: top;\n",
       "    }\n",
       "\n",
       "    .dataframe thead th {\n",
       "        text-align: right;\n",
       "    }\n",
       "</style>\n",
       "<table border=\"1\" class=\"dataframe\">\n",
       "  <thead>\n",
       "    <tr style=\"text-align: right;\">\n",
       "      <th></th>\n",
       "      <th>0</th>\n",
       "    </tr>\n",
       "  </thead>\n",
       "  <tbody>\n",
       "    <tr>\n",
       "      <th>0</th>\n",
       "      <td>cuddlesnakes</td>\n",
       "    </tr>\n",
       "    <tr>\n",
       "      <th>1</th>\n",
       "      <td>vampyydemon</td>\n",
       "    </tr>\n",
       "    <tr>\n",
       "      <th>2</th>\n",
       "      <td>starlinamidnight</td>\n",
       "    </tr>\n",
       "    <tr>\n",
       "      <th>3</th>\n",
       "      <td>josephinabb123</td>\n",
       "    </tr>\n",
       "    <tr>\n",
       "      <th>4</th>\n",
       "      <td>BeautifulMind3000</td>\n",
       "    </tr>\n",
       "    <tr>\n",
       "      <th>...</th>\n",
       "      <td>...</td>\n",
       "    </tr>\n",
       "    <tr>\n",
       "      <th>13612</th>\n",
       "      <td>LuckyJinx98</td>\n",
       "    </tr>\n",
       "    <tr>\n",
       "      <th>13613</th>\n",
       "      <td>NewCat24</td>\n",
       "    </tr>\n",
       "    <tr>\n",
       "      <th>13614</th>\n",
       "      <td>QuokkaNerd</td>\n",
       "    </tr>\n",
       "    <tr>\n",
       "      <th>13615</th>\n",
       "      <td>Ripjaw29</td>\n",
       "    </tr>\n",
       "    <tr>\n",
       "      <th>13616</th>\n",
       "      <td>adag96</td>\n",
       "    </tr>\n",
       "  </tbody>\n",
       "</table>\n",
       "<p>13617 rows × 1 columns</p>\n",
       "</div>"
      ],
      "text/plain": [
       "                       0\n",
       "0           cuddlesnakes\n",
       "1            vampyydemon\n",
       "2       starlinamidnight\n",
       "3         josephinabb123\n",
       "4      BeautifulMind3000\n",
       "...                  ...\n",
       "13612        LuckyJinx98\n",
       "13613           NewCat24\n",
       "13614         QuokkaNerd\n",
       "13615           Ripjaw29\n",
       "13616             adag96\n",
       "\n",
       "[13617 rows x 1 columns]"
      ]
     },
     "execution_count": 457,
     "metadata": {},
     "output_type": "execute_result"
    }
   ],
   "source": [
    "# checking shape of unique df\n",
    "pd.DataFrame(df['author'].unique())"
   ]
  },
  {
   "cell_type": "code",
   "execution_count": null,
   "metadata": {},
   "outputs": [
    {
     "ename": "NameError",
     "evalue": "name 'pd' is not defined",
     "output_type": "error",
     "traceback": [
      "\u001b[1;31m---------------------------------------------------------------------------\u001b[0m",
      "\u001b[1;31mNameError\u001b[0m                                 Traceback (most recent call last)",
      "\u001b[1;32mc:\\Users\\Admin\\Desktop\\Github Desktop Local\\GA-Lessons\\project_3\\MultinomialNB_Model.ipynb Cell 32'\u001b[0m in \u001b[0;36m<cell line: 2>\u001b[1;34m()\u001b[0m\n\u001b[0;32m      <a href='vscode-notebook-cell:/c%3A/Users/Admin/Desktop/Github%20Desktop%20Local/GA-Lessons/project_3/MultinomialNB_Model.ipynb#ch0000122?line=0'>1</a>\u001b[0m \u001b[39m# create separate data frame to consist of only unique users \u001b[39;00m\n\u001b[1;32m----> <a href='vscode-notebook-cell:/c%3A/Users/Admin/Desktop/Github%20Desktop%20Local/GA-Lessons/project_3/MultinomialNB_Model.ipynb#ch0000122?line=1'>2</a>\u001b[0m unique_users \u001b[39m=\u001b[39m pd\u001b[39m.\u001b[39mDataFrame(df[\u001b[39m'\u001b[39m\u001b[39mauthor\u001b[39m\u001b[39m'\u001b[39m]\u001b[39m.\u001b[39munique())\n\u001b[0;32m      <a href='vscode-notebook-cell:/c%3A/Users/Admin/Desktop/Github%20Desktop%20Local/GA-Lessons/project_3/MultinomialNB_Model.ipynb#ch0000122?line=2'>3</a>\u001b[0m \u001b[39m# rename columns to pd concat by Author \u001b[39;00m\n\u001b[0;32m      <a href='vscode-notebook-cell:/c%3A/Users/Admin/Desktop/Github%20Desktop%20Local/GA-Lessons/project_3/MultinomialNB_Model.ipynb#ch0000122?line=3'>4</a>\u001b[0m unique_users\u001b[39m.\u001b[39mcolumns \u001b[39m=\u001b[39m [\u001b[39m'\u001b[39m\u001b[39mauthor\u001b[39m\u001b[39m'\u001b[39m]\n",
      "\u001b[1;31mNameError\u001b[0m: name 'pd' is not defined"
     ]
    }
   ],
   "source": [
    "# create separate data frame to consist of only unique users \n",
    "unique_users = pd.DataFrame(df['author'].unique())\n",
    "# rename columns to pd concat by Author \n",
    "unique_users.columns = ['author']\n",
    "# pd concat with df and remove those that are not within unique_users df \n",
    "unique_users = pd.concat([unique_users,df], axis = 1).dropna()\n",
    "\n",
    "unique_users.shape"
   ]
  },
  {
   "cell_type": "code",
   "execution_count": null,
   "metadata": {},
   "outputs": [
    {
     "ename": "NameError",
     "evalue": "name 'unique_users' is not defined",
     "output_type": "error",
     "traceback": [
      "\u001b[1;31m---------------------------------------------------------------------------\u001b[0m",
      "\u001b[1;31mNameError\u001b[0m                                 Traceback (most recent call last)",
      "\u001b[1;32mc:\\Users\\Admin\\Desktop\\Github Desktop Local\\GA-Lessons\\project_3\\MultinomialNB_Model.ipynb Cell 33'\u001b[0m in \u001b[0;36m<cell line: 1>\u001b[1;34m()\u001b[0m\n\u001b[1;32m----> <a href='vscode-notebook-cell:/c%3A/Users/Admin/Desktop/Github%20Desktop%20Local/GA-Lessons/project_3/MultinomialNB_Model.ipynb#ch0000126?line=0'>1</a>\u001b[0m unique_users[unique_users[\u001b[39m'\u001b[39m\u001b[39msubreddit\u001b[39m\u001b[39m'\u001b[39m] \u001b[39m==\u001b[39m \u001b[39m1\u001b[39m]\n",
      "\u001b[1;31mNameError\u001b[0m: name 'unique_users' is not defined"
     ]
    }
   ],
   "source": [
    "unique_users[unique_users['subreddit'] == 1]"
   ]
  },
  {
   "cell_type": "code",
   "execution_count": null,
   "metadata": {},
   "outputs": [
    {
     "ename": "NameError",
     "evalue": "name 'relad_avg_posts' is not defined",
     "output_type": "error",
     "traceback": [
      "\u001b[1;31m---------------------------------------------------------------------------\u001b[0m",
      "\u001b[1;31mNameError\u001b[0m                                 Traceback (most recent call last)",
      "\u001b[1;32mc:\\Users\\Admin\\Desktop\\Github Desktop Local\\GA-Lessons\\project_3\\MultinomialNB_Model.ipynb Cell 33'\u001b[0m in \u001b[0;36m<cell line: 12>\u001b[1;34m()\u001b[0m\n\u001b[0;32m      <a href='vscode-notebook-cell:/c%3A/Users/Admin/Desktop/Github%20Desktop%20Local/GA-Lessons/project_3/MultinomialNB_Model.ipynb#ch0000080?line=8'>9</a>\u001b[0m plt\u001b[39m.\u001b[39mylim(\u001b[39m0\u001b[39m,\u001b[39m2000\u001b[39m)\n\u001b[0;32m     <a href='vscode-notebook-cell:/c%3A/Users/Admin/Desktop/Github%20Desktop%20Local/GA-Lessons/project_3/MultinomialNB_Model.ipynb#ch0000080?line=10'>11</a>\u001b[0m \u001b[39m# Plotting horizontal lines to show average no. of posts created per hour.\u001b[39;00m\n\u001b[1;32m---> <a href='vscode-notebook-cell:/c%3A/Users/Admin/Desktop/Github%20Desktop%20Local/GA-Lessons/project_3/MultinomialNB_Model.ipynb#ch0000080?line=11'>12</a>\u001b[0m plt\u001b[39m.\u001b[39maxvline(relad_avg_posts, ls\u001b[39m=\u001b[39m\u001b[39m'\u001b[39m\u001b[39m--\u001b[39m\u001b[39m'\u001b[39m, color\u001b[39m=\u001b[39m\u001b[39m'\u001b[39m\u001b[39mroyalblue\u001b[39m\u001b[39m'\u001b[39m)\n\u001b[0;32m     <a href='vscode-notebook-cell:/c%3A/Users/Admin/Desktop/Github%20Desktop%20Local/GA-Lessons/project_3/MultinomialNB_Model.ipynb#ch0000080?line=12'>13</a>\u001b[0m plt\u001b[39m.\u001b[39mfigtext(x\u001b[39m=\u001b[39m\u001b[39m0.15\u001b[39m, y\u001b[39m=\u001b[39m\u001b[39m0.6\u001b[39m, s\u001b[39m=\u001b[39m\u001b[39mf\u001b[39m\u001b[39m\"\u001b[39m\u001b[39m{\u001b[39;00m\u001b[39mround\u001b[39m(relad_avg_posts, \u001b[39m1\u001b[39m)\u001b[39m}\u001b[39;00m\u001b[39m posts created per hour on r/relationship_advice (on average)\u001b[39m\u001b[39m\"\u001b[39m, fontsize\u001b[39m=\u001b[39m\u001b[39m12\u001b[39m)\n",
      "\u001b[1;31mNameError\u001b[0m: name 'relad_avg_posts' is not defined"
     ]
    },
    {
     "data": {
      "image/png": "[encoded data removed]",
      "text/plain": [
       "<Figure size 1008x504 with 1 Axes>"
      ]
     },
     "metadata": {
      "needs_background": "light"
     },
     "output_type": "display_data"
    }
   ],
   "source": [
    "plt.figure(figsize=(14,7))\n",
    "\n",
    "sns.histplot(\n",
    "    x = 'duration_last_post',\n",
    "    hue = 'subreddit',\n",
    "    data = unique_users\n",
    ")\n",
    "\n",
    "plt.ylim(0,2000)\n",
    "\n",
    "ptsd_ave_duration = unique_users[unique_users['author'] == 1].mean()\n",
    "\n",
    "# Plotting horizontal lines to show average no. of posts created per hour.\n",
    "plt.axvline(unique[], ls='--', color='royalblue')\n",
    "plt.figtext(x=0.15, y=0.6, s=f\"{round(relad_avg_posts, 1)} posts created per hour on r/relationship_advice (on average)\", fontsize=12)"
   ]
  },
  {
   "cell_type": "code",
   "execution_count": null,
   "metadata": {},
   "outputs": [
    {
     "data": {
      "text/html": [
       "<div>\n",
       "<style scoped>\n",
       "    .dataframe tbody tr th:only-of-type {\n",
       "        vertical-align: middle;\n",
       "    }\n",
       "\n",
       "    .dataframe tbody tr th {\n",
       "        vertical-align: top;\n",
       "    }\n",
       "\n",
       "    .dataframe thead th {\n",
       "        text-align: right;\n",
       "    }\n",
       "</style>\n",
       "<table border=\"1\" class=\"dataframe\">\n",
       "  <thead>\n",
       "    <tr style=\"text-align: right;\">\n",
       "      <th>subreddit</th>\n",
       "      <th>0</th>\n",
       "      <th>1</th>\n",
       "    </tr>\n",
       "  </thead>\n",
       "  <tbody>\n",
       "    <tr>\n",
       "      <th>count</th>\n",
       "      <td>10164.000000</td>\n",
       "      <td>10130.000000</td>\n",
       "    </tr>\n",
       "    <tr>\n",
       "      <th>mean</th>\n",
       "      <td>8.493900</td>\n",
       "      <td>55.690424</td>\n",
       "    </tr>\n",
       "    <tr>\n",
       "      <th>std</th>\n",
       "      <td>20.700363</td>\n",
       "      <td>85.001540</td>\n",
       "    </tr>\n",
       "    <tr>\n",
       "      <th>min</th>\n",
       "      <td>0.000000</td>\n",
       "      <td>0.000000</td>\n",
       "    </tr>\n",
       "    <tr>\n",
       "      <th>25%</th>\n",
       "      <td>0.000000</td>\n",
       "      <td>0.000000</td>\n",
       "    </tr>\n",
       "    <tr>\n",
       "      <th>50%</th>\n",
       "      <td>0.000000</td>\n",
       "      <td>2.000000</td>\n",
       "    </tr>\n",
       "    <tr>\n",
       "      <th>75%</th>\n",
       "      <td>11.000000</td>\n",
       "      <td>85.000000</td>\n",
       "    </tr>\n",
       "    <tr>\n",
       "      <th>max</th>\n",
       "      <td>322.000000</td>\n",
       "      <td>336.000000</td>\n",
       "    </tr>\n",
       "  </tbody>\n",
       "</table>\n",
       "</div>"
      ],
      "text/plain": [
       "subreddit             0             1\n",
       "count      10164.000000  10130.000000\n",
       "mean           8.493900     55.690424\n",
       "std           20.700363     85.001540\n",
       "min            0.000000      0.000000\n",
       "25%            0.000000      0.000000\n",
       "50%            0.000000      2.000000\n",
       "75%           11.000000     85.000000\n",
       "max          322.000000    336.000000"
      ]
     },
     "execution_count": 299,
     "metadata": {},
     "output_type": "execute_result"
    }
   ],
   "source": [
    "df.groupby(['subreddit'])['duration_last_post'].describe().T"
   ]
  },
  {
   "cell_type": "code",
   "execution_count": null,
   "metadata": {},
   "outputs": [
    {
     "data": {
      "text/plain": [
       "subreddit\n",
       "0    0.0\n",
       "1    2.0\n",
       "Name: duration_last_post, dtype: float64"
      ]
     },
     "execution_count": 300,
     "metadata": {},
     "output_type": "execute_result"
    }
   ],
   "source": [
    "df.groupby(['subreddit'])['duration_last_post'].median()"
   ]
  },
  {
   "cell_type": "markdown",
   "metadata": {},
   "source": [
    "On Average, those who are posting more across all users posting reddit, users under PTSD subreddit post 4.88, 1 post more than those who are in Anxiety subreddit. \n",
    "\n",
    "Also, excluding those who are active (more than 1 post), users in PTSD subreddit post 1 post more than the other. \n",
    "\n",
    "This shows "
   ]
  },
  {
   "cell_type": "code",
   "execution_count": null,
   "metadata": {},
   "outputs": [
    {
     "ename": "SyntaxError",
     "evalue": "invalid syntax (1763773627.py, line 1)",
     "output_type": "error",
     "traceback": [
      "\u001b[1;36m  Input \u001b[1;32mIn [301]\u001b[1;36m\u001b[0m\n\u001b[1;33m    =\u001b[0m\n\u001b[1;37m    ^\u001b[0m\n\u001b[1;31mSyntaxError\u001b[0m\u001b[1;31m:\u001b[0m invalid syntax\n"
     ]
    }
   ],
   "source": [
    "="
   ]
  },
  {
   "cell_type": "code",
   "execution_count": null,
   "metadata": {},
   "outputs": [],
   "source": []
  },
  {
   "cell_type": "code",
   "execution_count": null,
   "metadata": {},
   "outputs": [],
   "source": []
  },
  {
   "cell_type": "code",
   "execution_count": null,
   "metadata": {},
   "outputs": [
    {
     "data": {
      "text/plain": [
       "['i',\n",
       " 'me',\n",
       " 'my',\n",
       " 'myself',\n",
       " 'we',\n",
       " 'our',\n",
       " 'ours',\n",
       " 'ourselves',\n",
       " 'you',\n",
       " \"you're\",\n",
       " \"you've\",\n",
       " \"you'll\",\n",
       " \"you'd\",\n",
       " 'your',\n",
       " 'yours',\n",
       " 'yourself',\n",
       " 'yourselves',\n",
       " 'he',\n",
       " 'him',\n",
       " 'his',\n",
       " 'himself',\n",
       " 'she',\n",
       " \"she's\",\n",
       " 'her',\n",
       " 'hers',\n",
       " 'herself',\n",
       " 'it',\n",
       " \"it's\",\n",
       " 'its',\n",
       " 'itself',\n",
       " 'they',\n",
       " 'them',\n",
       " 'their',\n",
       " 'theirs',\n",
       " 'themselves',\n",
       " 'what',\n",
       " 'which',\n",
       " 'who',\n",
       " 'whom',\n",
       " 'this',\n",
       " 'that',\n",
       " \"that'll\",\n",
       " 'these',\n",
       " 'those',\n",
       " 'am',\n",
       " 'is',\n",
       " 'are',\n",
       " 'was',\n",
       " 'were',\n",
       " 'be',\n",
       " 'been',\n",
       " 'being',\n",
       " 'have',\n",
       " 'has',\n",
       " 'had',\n",
       " 'having',\n",
       " 'do',\n",
       " 'does',\n",
       " 'did',\n",
       " 'doing',\n",
       " 'a',\n",
       " 'an',\n",
       " 'the',\n",
       " 'and',\n",
       " 'but',\n",
       " 'if',\n",
       " 'or',\n",
       " 'because',\n",
       " 'as',\n",
       " 'until',\n",
       " 'while',\n",
       " 'of',\n",
       " 'at',\n",
       " 'by',\n",
       " 'for',\n",
       " 'with',\n",
       " 'about',\n",
       " 'against',\n",
       " 'between',\n",
       " 'into',\n",
       " 'through',\n",
       " 'during',\n",
       " 'before',\n",
       " 'after',\n",
       " 'above',\n",
       " 'below',\n",
       " 'to',\n",
       " 'from',\n",
       " 'up',\n",
       " 'down',\n",
       " 'in',\n",
       " 'out',\n",
       " 'on',\n",
       " 'off',\n",
       " 'over',\n",
       " 'under',\n",
       " 'again',\n",
       " 'further',\n",
       " 'then',\n",
       " 'once',\n",
       " 'here',\n",
       " 'there',\n",
       " 'when',\n",
       " 'where',\n",
       " 'why',\n",
       " 'how',\n",
       " 'all',\n",
       " 'any',\n",
       " 'both',\n",
       " 'each',\n",
       " 'few',\n",
       " 'more',\n",
       " 'most',\n",
       " 'other',\n",
       " 'some',\n",
       " 'such',\n",
       " 'no',\n",
       " 'nor',\n",
       " 'not',\n",
       " 'only',\n",
       " 'own',\n",
       " 'same',\n",
       " 'so',\n",
       " 'than',\n",
       " 'too',\n",
       " 'very',\n",
       " 's',\n",
       " 't',\n",
       " 'can',\n",
       " 'will',\n",
       " 'just',\n",
       " 'don',\n",
       " \"don't\",\n",
       " 'should',\n",
       " \"should've\",\n",
       " 'now',\n",
       " 'd',\n",
       " 'll',\n",
       " 'm',\n",
       " 'o',\n",
       " 're',\n",
       " 've',\n",
       " 'y',\n",
       " 'ain',\n",
       " 'aren',\n",
       " \"aren't\",\n",
       " 'couldn',\n",
       " \"couldn't\",\n",
       " 'didn',\n",
       " \"didn't\",\n",
       " 'doesn',\n",
       " \"doesn't\",\n",
       " 'hadn',\n",
       " \"hadn't\",\n",
       " 'hasn',\n",
       " \"hasn't\",\n",
       " 'haven',\n",
       " \"haven't\",\n",
       " 'isn',\n",
       " \"isn't\",\n",
       " 'ma',\n",
       " 'mightn',\n",
       " \"mightn't\",\n",
       " 'mustn',\n",
       " \"mustn't\",\n",
       " 'needn',\n",
       " \"needn't\",\n",
       " 'shan',\n",
       " \"shan't\",\n",
       " 'shouldn',\n",
       " \"shouldn't\",\n",
       " 'wasn',\n",
       " \"wasn't\",\n",
       " 'weren',\n",
       " \"weren't\",\n",
       " 'won',\n",
       " \"won't\",\n",
       " 'wouldn',\n",
       " \"wouldn't\",\n",
       " 'ptsd',\n",
       " 'anxiety',\n",
       " 'cptsd',\n",
       " 'trauma',\n",
       " 'traumatized',\n",
       " 'traumas',\n",
       " 'posttraumatic',\n",
       " 'stress',\n",
       " 'disorder',\n",
       " 'traumatic',\n",
       " \"'d\",\n",
       " \"'ll\",\n",
       " \"'re\",\n",
       " \"'s\",\n",
       " \"'ve\",\n",
       " 'could',\n",
       " 'doe',\n",
       " 'ha',\n",
       " 'might',\n",
       " 'must',\n",
       " \"n't\",\n",
       " 'need',\n",
       " 'sha',\n",
       " 'wa',\n",
       " 'wo',\n",
       " 'would',\n",
       " 'abov',\n",
       " 'ani',\n",
       " 'anxieti',\n",
       " 'becaus',\n",
       " 'befor',\n",
       " 'disord',\n",
       " 'dure',\n",
       " 'hi',\n",
       " 'onc',\n",
       " 'onli',\n",
       " 'ourselv',\n",
       " 'posttraumat',\n",
       " 'themselv',\n",
       " 'thi',\n",
       " 'traumat',\n",
       " 'veri',\n",
       " 'whi',\n",
       " 'yourselv',\n",
       " 'becau']"
      ]
     },
     "execution_count": 19,
     "metadata": {},
     "output_type": "execute_result"
    }
   ],
   "source": [
    "# create stop word list \n",
    "stopwordlist = nltk.corpus.stopwords.words('english')\n",
    "\n",
    "# to input in subreddit headers so that we can exclude it for model\n",
    "headers = ['ptsd', 'anxiety',\"cptsd\", 'trauma','traumatized','traumas',\"posttraumatic\",'stress','disorder',\"traumatic\",\"'d\", \"'ll\", \"'re\", \"'s\", \"'ve\", 'could', 'doe', 'ha', 'might', 'must', \"n't\", 'need', 'sha', 'wa', 'wo', 'would']\n",
    "for head in headers:\n",
    "    stopwordlist.append(head)\n",
    "\n",
    "\n",
    "# Add additional list from stemmed words \n",
    "\n",
    "stemmed_data = ['abov', 'ani', 'anxieti', 'becaus', 'befor', 'disord', 'dure', 'hi', 'onc', 'onli', 'ourselv', 'posttraumat', 'themselv', 'thi', 'traumat', 'veri', 'whi', 'yourselv', 'becau']\n",
    "for stem in stemmed_data:\n",
    "    stopwordlist.append(stem)\n",
    "\n",
    "stopwordlist\n"
   ]
  },
  {
   "cell_type": "code",
   "execution_count": null,
   "metadata": {},
   "outputs": [
    {
     "data": {
      "text/html": [
       "<div>\n",
       "<style scoped>\n",
       "    .dataframe tbody tr th:only-of-type {\n",
       "        vertical-align: middle;\n",
       "    }\n",
       "\n",
       "    .dataframe tbody tr th {\n",
       "        vertical-align: top;\n",
       "    }\n",
       "\n",
       "    .dataframe thead th {\n",
       "        text-align: right;\n",
       "    }\n",
       "</style>\n",
       "<table border=\"1\" class=\"dataframe\">\n",
       "  <thead>\n",
       "    <tr style=\"text-align: right;\">\n",
       "      <th></th>\n",
       "      <th>author</th>\n",
       "      <th>subreddit</th>\n",
       "      <th>selftext</th>\n",
       "      <th>title</th>\n",
       "      <th>created_utc</th>\n",
       "      <th>datetime</th>\n",
       "      <th>alltext</th>\n",
       "      <th>length_text</th>\n",
       "      <th>wrdcount_text</th>\n",
       "      <th>clean_text</th>\n",
       "      <th>ttl_post</th>\n",
       "    </tr>\n",
       "  </thead>\n",
       "  <tbody>\n",
       "    <tr>\n",
       "      <th>0</th>\n",
       "      <td>cuddlesnakes</td>\n",
       "      <td>1</td>\n",
       "      <td>I'm super mad right now. I've finally managed to call one of the biggest organisations in countries that supports victims of pretty much any crime. \\nI've used their online counseling before cause it's easier to write than to talk, and because I was unsure if they even deal with the kind of violence I've experienced. The counselor said they do, and I should contact the local team for in depth cooperation. \\n\\n\\nTurns out, they don't. I've experienced the wrong kind of crime, the wrong kind of violence and there is no support system for me. Their website says that they don't compare or judge between victims of different crimes and support everyone. They fucking need to add a disclaimer with the exceptions. \\nThanks for nothing.</td>\n",
       "      <td>\"We're helping victims of any crime, but unfortunately you've experienced the wrong kind of crime\"</td>\n",
       "      <td>1648127141</td>\n",
       "      <td>2022-03-24 13:05:41</td>\n",
       "      <td>I'm super mad right now. I've finally managed to call one of the biggest organisations in countries that supports victims of pretty much any crime. \\nI've used their online counseling before cause it's easier to write than to talk, and because I was unsure if they even deal with the kind of violence I've experienced. The counselor said they do, and I should contact the local team for in depth cooperation. \\n\\n\\nTurns out, they don't. I've experienced the wrong kind of crime, the wrong kind of violence and there is no support system for me. Their website says that they don't compare or judge between victims of different crimes and support everyone. They fucking need to add a disclaimer with the exceptions. \\nThanks for nothing. \"We're helping victims of any crime, but unfortunately you've experienced the wrong kind of crime\"</td>\n",
       "      <td>830</td>\n",
       "      <td>140</td>\n",
       "      <td>im super mad right ive finally managed call one biggest organisations countries supports victims pretty much crime ive used online counseling cause easier write talk unsure even deal kind violence ive experienced counselor said contact local team depth cooperation turns dont ive experienced wrong kind crime wrong kind violence support system website says dont compare judge victims different crimes support everyone fucking add disclaimer exceptions thanks nothing helping victims crime unfortunately youve experienced wrong kind crime</td>\n",
       "      <td>1</td>\n",
       "    </tr>\n",
       "    <tr>\n",
       "      <th>1</th>\n",
       "      <td>vampyydemon</td>\n",
       "      <td>1</td>\n",
       "      <td>I honestly feel like I'm losing myself. I don't know what to do. Ever since I found out my boyfriend had cheated on me over a hundred times and tried to convince me that I was in the wrong, I believe I may have developed PTSD as a result.\\n\\nEver since I found out a year ago, I've been having nightmares, flashbacks, intrusive thoughts/memories, feeling on edge all the time, the obvious symptoms. But something that has really got me concerned is this sudden onset of dissociative amnesia.\\n\\nI've forgotten most of the infidelity that happened, and the extreme emotional pain it caused me. I don't wanna remember that shit anyway. But I'm also forgetting things just minutes after they happen, I've forgotten about certain people/places/events, and hell, I don't even remember who I am or what my interests are and what I stand for anymore. I've forgotten so much shit that I don't want to forget. It's impacted my functioning a great deal, and it's really concerning me a lot.\\n\\nNow I have C-PTSD from being abused and neglected by my parents repeatedly as a child, so the memory loss thing isn't new to me. I barely remember anything from my childhood. But the fact that this sudden memory loss has happened so quickly and is this severe has really taken me back quite a lot. I never expected it to be this bad.\\n\\nI also have Borderline Personality Disorder, so I do have times where I'll have issues with my identity and with not really knowing who I am. But I've never just straight up completely forgotten who I am, what my interests are, what my core values are, etc. Usually my identity and interests just cycles between a bunch of different things. But it's nothing like what I've recently been experiencing.\\n\\nThis has seemingly consumed me out of the blue and it's stressing me out a lot. Is this normal? Should I be worried? Has anybody else had similar experiences?\\n\\nPlease tell me I'm not the only one... :(</td>\n",
       "      <td>Dissociative amnesia is tearing me apart.</td>\n",
       "      <td>1648126402</td>\n",
       "      <td>2022-03-24 12:53:22</td>\n",
       "      <td>I honestly feel like I'm losing myself. I don't know what to do. Ever since I found out my boyfriend had cheated on me over a hundred times and tried to convince me that I was in the wrong, I believe I may have developed PTSD as a result.\\n\\nEver since I found out a year ago, I've been having nightmares, flashbacks, intrusive thoughts/memories, feeling on edge all the time, the obvious symptoms. But something that has really got me concerned is this sudden onset of dissociative amnesia.\\n\\nI've forgotten most of the infidelity that happened, and the extreme emotional pain it caused me. I don't wanna remember that shit anyway. But I'm also forgetting things just minutes after they happen, I've forgotten about certain people/places/events, and hell, I don't even remember who I am or what my interests are and what I stand for anymore. I've forgotten so much shit that I don't want to forget. It's impacted my functioning a great deal, and it's really concerning me a lot.\\n\\nNow I have C-PTSD from being abused and neglected by my parents repeatedly as a child, so the memory loss thing isn't new to me. I barely remember anything from my childhood. But the fact that this sudden memory loss has happened so quickly and is this severe has really taken me back quite a lot. I never expected it to be this bad.\\n\\nI also have Borderline Personality Disorder, so I do have times where I'll have issues with my identity and with not really knowing who I am. But I've never just straight up completely forgotten who I am, what my interests are, what my core values are, etc. Usually my identity and interests just cycles between a bunch of different things. But it's nothing like what I've recently been experiencing.\\n\\nThis has seemingly consumed me out of the blue and it's stressing me out a lot. Is this normal? Should I be worried? Has anybody else had similar experiences?\\n\\nPlease tell me I'm not the only one... :( Dissociative amnesia is tearing me apart.</td>\n",
       "      <td>1958</td>\n",
       "      <td>348</td>\n",
       "      <td>honestly feel like im losing dont know ever since found boyfriend cheated hundred times tried convince wrong believe may developed result ever since found year ago ive nightmares flashbacks intrusive thoughtsmemories feeling edge time obvious symptoms something really got concerned sudden onset dissociative amnesia ive forgotten infidelity happened extreme emotional pain caused dont wanna remember shit anyway im also forgetting things minutes happen ive forgotten certain peopleplacesevents hell dont even remember interests stand anymore ive forgotten much shit dont want forget impacted functioning great deal really concerning lot abused neglected parents repeatedly child memory loss thing isnt new barely remember anything childhood fact sudden memory loss happened quickly severe really taken back quite lot never expected bad also borderline personality times ill issues identity really knowing ive never straight completely forgotten interests core values etc usually identity interests cycles bunch different things nothing like ive recently experiencing seemingly consumed blue stressing lot normal worried anybody else similar experiences please tell im one dissociative amnesia tearing apart</td>\n",
       "      <td>1</td>\n",
       "    </tr>\n",
       "    <tr>\n",
       "      <th>2</th>\n",
       "      <td>starlinamidnight</td>\n",
       "      <td>1</td>\n",
       "      <td>people can trigger me sometimes. fast unexpected movements, absolutely.  i live out in the country. its rare to see people. you do see joggers during the day. its usually quiet at night.  i was walking my dog at night.  my dog looked alert. i turn around to see what shes watching. some weird looking guy, he looked caught off gaurd me and dog seen him. he actually tried walking closer to me. shes reactive, sets her off. lunges and barks at him. she comes between us. he pauses.  smiles and runs off. \\nim on 4 hours of sleep. \\ntriggered. ill probably be on guard at work today. not looking forward to it.   such an annoying disorder.</td>\n",
       "      <td>the ups and downs. was good until last night</td>\n",
       "      <td>1648121702</td>\n",
       "      <td>2022-03-24 11:35:02</td>\n",
       "      <td>people can trigger me sometimes. fast unexpected movements, absolutely.  i live out in the country. its rare to see people. you do see joggers during the day. its usually quiet at night.  i was walking my dog at night.  my dog looked alert. i turn around to see what shes watching. some weird looking guy, he looked caught off gaurd me and dog seen him. he actually tried walking closer to me. shes reactive, sets her off. lunges and barks at him. she comes between us. he pauses.  smiles and runs off. \\nim on 4 hours of sleep. \\ntriggered. ill probably be on guard at work today. not looking forward to it.   such an annoying disorder. the ups and downs. was good until last night</td>\n",
       "      <td>681</td>\n",
       "      <td>125</td>\n",
       "      <td>people trigger sometimes fast unexpected movements absolutely live country rare see people see joggers day usually quiet night walking dog night dog looked alert turn around see shes watching weird looking guy looked caught gaurd dog seen actually tried walking closer shes reactive sets lunges barks comes us pauses smiles runs im 4 hours sleep triggered ill probably guard work today looking forward annoying ups downs good last night</td>\n",
       "      <td>8</td>\n",
       "    </tr>\n",
       "    <tr>\n",
       "      <th>3</th>\n",
       "      <td>starlinamidnight</td>\n",
       "      <td>1</td>\n",
       "      <td>i told my husband today i got ptsd. supposed to be a time you feel more together. i just feel like a coward. im avoiding him from feeling ashamed. im the strong one in this marriage. i handle all my stresses with a therapist. medicated. im trying.   its hard to show weakness. the weird part. its nothing to do with why i got ptsd.  last night triggered it.   we came out a store. this guy, completely off his rocker on drugs. harassing women. physically. 1 woman looked scared, he kept grabbing her. shes trying to pull away. my husbsnd ran over, i told him dont, stop, he might have a knife. i yelled out buddy you better run, the store just called the cops. he ran. luckily that worked.  all was fine. police were notified incase other women reported it.  if anything i thought wow im not triggered. old me coming back.  then it hits me. felt shaky at home. alert.  i wake up at 3amish after a very disturbing dream. in the morning i whined about how tired i am. hubby asks why. i just blurted it. i got ptsd. i think that nut job triggered me. i feel weak. this is why i avoid the city too. im out in the country.  theres a shelter by the closest grocery store. most are harmless. panhandle. he was on something, thrill seeking.</td>\n",
       "      <td>so tired</td>\n",
       "      <td>1647619051</td>\n",
       "      <td>2022-03-18 15:57:31</td>\n",
       "      <td>i told my husband today i got ptsd. supposed to be a time you feel more together. i just feel like a coward. im avoiding him from feeling ashamed. im the strong one in this marriage. i handle all my stresses with a therapist. medicated. im trying.   its hard to show weakness. the weird part. its nothing to do with why i got ptsd.  last night triggered it.   we came out a store. this guy, completely off his rocker on drugs. harassing women. physically. 1 woman looked scared, he kept grabbing her. shes trying to pull away. my husbsnd ran over, i told him dont, stop, he might have a knife. i yelled out buddy you better run, the store just called the cops. he ran. luckily that worked.  all was fine. police were notified incase other women reported it.  if anything i thought wow im not triggered. old me coming back.  then it hits me. felt shaky at home. alert.  i wake up at 3amish after a very disturbing dream. in the morning i whined about how tired i am. hubby asks why. i just blurted it. i got ptsd. i think that nut job triggered me. i feel weak. this is why i avoid the city too. im out in the country.  theres a shelter by the closest grocery store. most are harmless. panhandle. he was on something, thrill seeking. so tired</td>\n",
       "      <td>1241</td>\n",
       "      <td>234</td>\n",
       "      <td>told husband today got supposed time feel together feel like coward im avoiding feeling ashamed im strong one marriage handle stresses therapist medicated im trying hard show weakness weird part nothing got last night triggered came store guy completely rocker drugs harassing women physically 1 woman looked scared kept grabbing shes trying pull away husbsnd ran told dont stop knife yelled buddy better run store called cops ran luckily worked fine police notified incase women reported anything thought wow im triggered old coming back hits felt shaky home alert wake 3amish disturbing dream morning whined tired hubby asks blurted got think nut job triggered feel weak avoid city im country theres shelter closest grocery store harmless panhandle something thrill seeking tired</td>\n",
       "      <td>8</td>\n",
       "    </tr>\n",
       "    <tr>\n",
       "      <th>4</th>\n",
       "      <td>starlinamidnight</td>\n",
       "      <td>1</td>\n",
       "      <td>how to do the work by dr. nicole lepera? your opinion?</td>\n",
       "      <td>anyone read this book?</td>\n",
       "      <td>1647177370</td>\n",
       "      <td>2022-03-13 13:16:10</td>\n",
       "      <td>how to do the work by dr. nicole lepera? your opinion? anyone read this book?</td>\n",
       "      <td>77</td>\n",
       "      <td>15</td>\n",
       "      <td>work dr nicole lepera opinion anyone read book</td>\n",
       "      <td>8</td>\n",
       "    </tr>\n",
       "  </tbody>\n",
       "</table>\n",
       "</div>"
      ],
      "text/plain": [
       "             author  subreddit  \\\n",
       "0      cuddlesnakes          1   \n",
       "1       vampyydemon          1   \n",
       "2  starlinamidnight          1   \n",
       "3  starlinamidnight          1   \n",
       "4  starlinamidnight          1   \n",
       "\n",
       "                                                                                                                                                                                                                                                                                                                                                                                                                                                                                                                                                                                                                                                                                                                                                                                                                                                                                                                                                                                                                                                                                                                                                                                                                                                                                                                                                                                                                                                                                                                                                                                                                                                                                                                                                                                                                                                                                                                                                                                                   selftext  \\\n",
       "0                                                                                                                                                                                                                                                                                                                                                                                                                                                                                                                                                                                                                                                                                                                                                                                                                                                                                                                                                                                                                                                                                                                                                                                                                                          I'm super mad right now. I've finally managed to call one of the biggest organisations in countries that supports victims of pretty much any crime. \\nI've used their online counseling before cause it's easier to write than to talk, and because I was unsure if they even deal with the kind of violence I've experienced. The counselor said they do, and I should contact the local team for in depth cooperation. \\n\\n\\nTurns out, they don't. I've experienced the wrong kind of crime, the wrong kind of violence and there is no support system for me. Their website says that they don't compare or judge between victims of different crimes and support everyone. They fucking need to add a disclaimer with the exceptions. \\nThanks for nothing.   \n",
       "1  I honestly feel like I'm losing myself. I don't know what to do. Ever since I found out my boyfriend had cheated on me over a hundred times and tried to convince me that I was in the wrong, I believe I may have developed PTSD as a result.\\n\\nEver since I found out a year ago, I've been having nightmares, flashbacks, intrusive thoughts/memories, feeling on edge all the time, the obvious symptoms. But something that has really got me concerned is this sudden onset of dissociative amnesia.\\n\\nI've forgotten most of the infidelity that happened, and the extreme emotional pain it caused me. I don't wanna remember that shit anyway. But I'm also forgetting things just minutes after they happen, I've forgotten about certain people/places/events, and hell, I don't even remember who I am or what my interests are and what I stand for anymore. I've forgotten so much shit that I don't want to forget. It's impacted my functioning a great deal, and it's really concerning me a lot.\\n\\nNow I have C-PTSD from being abused and neglected by my parents repeatedly as a child, so the memory loss thing isn't new to me. I barely remember anything from my childhood. But the fact that this sudden memory loss has happened so quickly and is this severe has really taken me back quite a lot. I never expected it to be this bad.\\n\\nI also have Borderline Personality Disorder, so I do have times where I'll have issues with my identity and with not really knowing who I am. But I've never just straight up completely forgotten who I am, what my interests are, what my core values are, etc. Usually my identity and interests just cycles between a bunch of different things. But it's nothing like what I've recently been experiencing.\\n\\nThis has seemingly consumed me out of the blue and it's stressing me out a lot. Is this normal? Should I be worried? Has anybody else had similar experiences?\\n\\nPlease tell me I'm not the only one... :(   \n",
       "2                                                                                                                                                                                                                                                                                                                                                                                                                                                                                                                                                                                                                                                                                                                                                                                                                                                                                                                                                                                                                                                                                                                                                                                                                                                                                                                                             people can trigger me sometimes. fast unexpected movements, absolutely.  i live out in the country. its rare to see people. you do see joggers during the day. its usually quiet at night.  i was walking my dog at night.  my dog looked alert. i turn around to see what shes watching. some weird looking guy, he looked caught off gaurd me and dog seen him. he actually tried walking closer to me. shes reactive, sets her off. lunges and barks at him. she comes between us. he pauses.  smiles and runs off. \\nim on 4 hours of sleep. \\ntriggered. ill probably be on guard at work today. not looking forward to it.   such an annoying disorder.   \n",
       "3                                                                                                                                                                                                                                                                                                                                                                                                                                                                                                                                                                                                                                                                                                                          i told my husband today i got ptsd. supposed to be a time you feel more together. i just feel like a coward. im avoiding him from feeling ashamed. im the strong one in this marriage. i handle all my stresses with a therapist. medicated. im trying.   its hard to show weakness. the weird part. its nothing to do with why i got ptsd.  last night triggered it.   we came out a store. this guy, completely off his rocker on drugs. harassing women. physically. 1 woman looked scared, he kept grabbing her. shes trying to pull away. my husbsnd ran over, i told him dont, stop, he might have a knife. i yelled out buddy you better run, the store just called the cops. he ran. luckily that worked.  all was fine. police were notified incase other women reported it.  if anything i thought wow im not triggered. old me coming back.  then it hits me. felt shaky at home. alert.  i wake up at 3amish after a very disturbing dream. in the morning i whined about how tired i am. hubby asks why. i just blurted it. i got ptsd. i think that nut job triggered me. i feel weak. this is why i avoid the city too. im out in the country.  theres a shelter by the closest grocery store. most are harmless. panhandle. he was on something, thrill seeking.   \n",
       "4                                                                                                                                                                                                                                                                                                                                                                                                                                                                                                                                                                                                                                                                                                                                                                                                                                                                                                                                                                                                                                                                                                                                                                                                                                                                                                                                                                                                                                                                                                                                                                                                                                                                                                                                                                                                                                                                                                                                                    how to do the work by dr. nicole lepera? your opinion?   \n",
       "\n",
       "                                                                                                title  \\\n",
       "0  \"We're helping victims of any crime, but unfortunately you've experienced the wrong kind of crime\"   \n",
       "1                                                           Dissociative amnesia is tearing me apart.   \n",
       "2                                                        the ups and downs. was good until last night   \n",
       "3                                                                                            so tired   \n",
       "4                                                                              anyone read this book?   \n",
       "\n",
       "   created_utc             datetime  \\\n",
       "0   1648127141  2022-03-24 13:05:41   \n",
       "1   1648126402  2022-03-24 12:53:22   \n",
       "2   1648121702  2022-03-24 11:35:02   \n",
       "3   1647619051  2022-03-18 15:57:31   \n",
       "4   1647177370  2022-03-13 13:16:10   \n",
       "\n",
       "                                                                                                                                                                                                                                                                                                                                                                                                                                                                                                                                                                                                                                                                                                                                                                                                                                                                                                                                                                                                                                                                                                                                                                                                                                                                                                                                                                                                                                                                                                                                                                                                                                                                                                                                                                                                                                                                                                                                                                                                                                              alltext  \\\n",
       "0                                                                                                                                                                                                                                                                                                                                                                                                                                                                                                                                                                                                                                                                                                                                                                                                                                                                                                                                                                                                                                                                                                                                                                                 I'm super mad right now. I've finally managed to call one of the biggest organisations in countries that supports victims of pretty much any crime. \\nI've used their online counseling before cause it's easier to write than to talk, and because I was unsure if they even deal with the kind of violence I've experienced. The counselor said they do, and I should contact the local team for in depth cooperation. \\n\\n\\nTurns out, they don't. I've experienced the wrong kind of crime, the wrong kind of violence and there is no support system for me. Their website says that they don't compare or judge between victims of different crimes and support everyone. They fucking need to add a disclaimer with the exceptions. \\nThanks for nothing. \"We're helping victims of any crime, but unfortunately you've experienced the wrong kind of crime\"   \n",
       "1  I honestly feel like I'm losing myself. I don't know what to do. Ever since I found out my boyfriend had cheated on me over a hundred times and tried to convince me that I was in the wrong, I believe I may have developed PTSD as a result.\\n\\nEver since I found out a year ago, I've been having nightmares, flashbacks, intrusive thoughts/memories, feeling on edge all the time, the obvious symptoms. But something that has really got me concerned is this sudden onset of dissociative amnesia.\\n\\nI've forgotten most of the infidelity that happened, and the extreme emotional pain it caused me. I don't wanna remember that shit anyway. But I'm also forgetting things just minutes after they happen, I've forgotten about certain people/places/events, and hell, I don't even remember who I am or what my interests are and what I stand for anymore. I've forgotten so much shit that I don't want to forget. It's impacted my functioning a great deal, and it's really concerning me a lot.\\n\\nNow I have C-PTSD from being abused and neglected by my parents repeatedly as a child, so the memory loss thing isn't new to me. I barely remember anything from my childhood. But the fact that this sudden memory loss has happened so quickly and is this severe has really taken me back quite a lot. I never expected it to be this bad.\\n\\nI also have Borderline Personality Disorder, so I do have times where I'll have issues with my identity and with not really knowing who I am. But I've never just straight up completely forgotten who I am, what my interests are, what my core values are, etc. Usually my identity and interests just cycles between a bunch of different things. But it's nothing like what I've recently been experiencing.\\n\\nThis has seemingly consumed me out of the blue and it's stressing me out a lot. Is this normal? Should I be worried? Has anybody else had similar experiences?\\n\\nPlease tell me I'm not the only one... :( Dissociative amnesia is tearing me apart.   \n",
       "2                                                                                                                                                                                                                                                                                                                                                                                                                                                                                                                                                                                                                                                                                                                                                                                                                                                                                                                                                                                                                                                                                                                                                                                                                                                                                                                                          people can trigger me sometimes. fast unexpected movements, absolutely.  i live out in the country. its rare to see people. you do see joggers during the day. its usually quiet at night.  i was walking my dog at night.  my dog looked alert. i turn around to see what shes watching. some weird looking guy, he looked caught off gaurd me and dog seen him. he actually tried walking closer to me. shes reactive, sets her off. lunges and barks at him. she comes between us. he pauses.  smiles and runs off. \\nim on 4 hours of sleep. \\ntriggered. ill probably be on guard at work today. not looking forward to it.   such an annoying disorder. the ups and downs. was good until last night   \n",
       "3                                                                                                                                                                                                                                                                                                                                                                                                                                                                                                                                                                                                                                                                                                                                                           i told my husband today i got ptsd. supposed to be a time you feel more together. i just feel like a coward. im avoiding him from feeling ashamed. im the strong one in this marriage. i handle all my stresses with a therapist. medicated. im trying.   its hard to show weakness. the weird part. its nothing to do with why i got ptsd.  last night triggered it.   we came out a store. this guy, completely off his rocker on drugs. harassing women. physically. 1 woman looked scared, he kept grabbing her. shes trying to pull away. my husbsnd ran over, i told him dont, stop, he might have a knife. i yelled out buddy you better run, the store just called the cops. he ran. luckily that worked.  all was fine. police were notified incase other women reported it.  if anything i thought wow im not triggered. old me coming back.  then it hits me. felt shaky at home. alert.  i wake up at 3amish after a very disturbing dream. in the morning i whined about how tired i am. hubby asks why. i just blurted it. i got ptsd. i think that nut job triggered me. i feel weak. this is why i avoid the city too. im out in the country.  theres a shelter by the closest grocery store. most are harmless. panhandle. he was on something, thrill seeking. so tired   \n",
       "4                                                                                                                                                                                                                                                                                                                                                                                                                                                                                                                                                                                                                                                                                                                                                                                                                                                                                                                                                                                                                                                                                                                                                                                                                                                                                                                                                                                                                                                                                                                                                                                                                                                                                                                                                                                                                                                                                                                                                                       how to do the work by dr. nicole lepera? your opinion? anyone read this book?   \n",
       "\n",
       "   length_text  wrdcount_text  \\\n",
       "0          830            140   \n",
       "1         1958            348   \n",
       "2          681            125   \n",
       "3         1241            234   \n",
       "4           77             15   \n",
       "\n",
       "                                                                                                                                                                                                                                                                                                                                                                                                                                                                                                                                                                                                                                                                                                                                                                                                                                                                                                                                                                                                                                                                                                                                                                                                                                                clean_text  \\\n",
       "0                                                                                                                                                                                                                                                                                                                                                                                                                                                                                                                                                                                                                                                                                                im super mad right ive finally managed call one biggest organisations countries supports victims pretty much crime ive used online counseling cause easier write talk unsure even deal kind violence ive experienced counselor said contact local team depth cooperation turns dont ive experienced wrong kind crime wrong kind violence support system website says dont compare judge victims different crimes support everyone fucking add disclaimer exceptions thanks nothing helping victims crime unfortunately youve experienced wrong kind crime   \n",
       "1  honestly feel like im losing dont know ever since found boyfriend cheated hundred times tried convince wrong believe may developed result ever since found year ago ive nightmares flashbacks intrusive thoughtsmemories feeling edge time obvious symptoms something really got concerned sudden onset dissociative amnesia ive forgotten infidelity happened extreme emotional pain caused dont wanna remember shit anyway im also forgetting things minutes happen ive forgotten certain peopleplacesevents hell dont even remember interests stand anymore ive forgotten much shit dont want forget impacted functioning great deal really concerning lot abused neglected parents repeatedly child memory loss thing isnt new barely remember anything childhood fact sudden memory loss happened quickly severe really taken back quite lot never expected bad also borderline personality times ill issues identity really knowing ive never straight completely forgotten interests core values etc usually identity interests cycles bunch different things nothing like ive recently experiencing seemingly consumed blue stressing lot normal worried anybody else similar experiences please tell im one dissociative amnesia tearing apart   \n",
       "2                                                                                                                                                                                                                                                                                                                                                                                                                                                                                                                                                                                                                                                                                                                                                                                                     people trigger sometimes fast unexpected movements absolutely live country rare see people see joggers day usually quiet night walking dog night dog looked alert turn around see shes watching weird looking guy looked caught gaurd dog seen actually tried walking closer shes reactive sets lunges barks comes us pauses smiles runs im 4 hours sleep triggered ill probably guard work today looking forward annoying ups downs good last night   \n",
       "3                                                                                                                                                                                                                                                                                                                                                                                                                                            told husband today got supposed time feel together feel like coward im avoiding feeling ashamed im strong one marriage handle stresses therapist medicated im trying hard show weakness weird part nothing got last night triggered came store guy completely rocker drugs harassing women physically 1 woman looked scared kept grabbing shes trying pull away husbsnd ran told dont stop knife yelled buddy better run store called cops ran luckily worked fine police notified incase women reported anything thought wow im triggered old coming back hits felt shaky home alert wake 3amish disturbing dream morning whined tired hubby asks blurted got think nut job triggered feel weak avoid city im country theres shelter closest grocery store harmless panhandle something thrill seeking tired   \n",
       "4                                                                                                                                                                                                                                                                                                                                                                                                                                                                                                                                                                                                                                                                                                                                                                                                                                                                                                                                                                                                                                                                                                                                                                                                           work dr nicole lepera opinion anyone read book   \n",
       "\n",
       "   ttl_post  \n",
       "0         1  \n",
       "1         1  \n",
       "2         8  \n",
       "3         8  \n",
       "4         8  "
      ]
     },
     "execution_count": 20,
     "metadata": {},
     "output_type": "execute_result"
    }
   ],
   "source": [
    "df.head()"
   ]
  },
  {
   "cell_type": "code",
   "execution_count": null,
   "metadata": {},
   "outputs": [],
   "source": [
    "X = df['selftext']\n",
    "y = df['subreddit']\n",
    "\n",
    "#  Train test split \n",
    "X_train, X_test, y_train, y_test = train_test_split(X,\n",
    "                                                    y,\n",
    "                                                    test_size=0.33,\n",
    "                                                    stratify=y,\n",
    "                                                    random_state=42)"
   ]
  },
  {
   "cell_type": "code",
   "execution_count": null,
   "metadata": {},
   "outputs": [],
   "source": [
    "vectorizer = TfidfVectorizer(stop_words=stopwordlist)    \n"
   ]
  },
  {
   "cell_type": "code",
   "execution_count": null,
   "metadata": {},
   "outputs": [
    {
     "data": {
      "text/plain": [
       "MultinomialNB()"
      ]
     },
     "execution_count": 24,
     "metadata": {},
     "output_type": "execute_result"
    }
   ],
   "source": [
    "X_train = vectorizer.fit_transform(X_train)\n",
    "X_test = vectorizer.transform(X_test)\n",
    "clf = MultinomialNB(alpha=1.0)\n",
    "clf.fit(X_train, y_train)"
   ]
  },
  {
   "cell_type": "code",
   "execution_count": null,
   "metadata": {},
   "outputs": [
    {
     "data": {
      "text/plain": [
       "0    1.0\n",
       "Name: subreddit, dtype: float64"
      ]
     },
     "execution_count": 25,
     "metadata": {},
     "output_type": "execute_result"
    }
   ],
   "source": [
    "df['subreddit'].value_counts(normalize= True)"
   ]
  },
  {
   "cell_type": "code",
   "execution_count": null,
   "metadata": {},
   "outputs": [
    {
     "data": {
      "text/plain": [
       "array([0, 0, 0, ..., 0, 0, 0], dtype=int64)"
      ]
     },
     "execution_count": 26,
     "metadata": {},
     "output_type": "execute_result"
    }
   ],
   "source": [
    "clf.predict(X_train)\n"
   ]
  },
  {
   "cell_type": "code",
   "execution_count": null,
   "metadata": {},
   "outputs": [
    {
     "name": "stderr",
     "output_type": "stream",
     "text": [
      "C:\\Users\\Admin\\.conda\\envs\\myenv\\lib\\site-packages\\sklearn\\utils\\deprecation.py:87: FutureWarning: Function get_feature_names is deprecated; get_feature_names is deprecated in 1.0 and will be removed in 1.2. Please use get_feature_names_out instead.\n",
      "  warnings.warn(msg, category=FutureWarning)\n"
     ]
    },
    {
     "data": {
      "text/plain": [
       "'00'"
      ]
     },
     "execution_count": 27,
     "metadata": {},
     "output_type": "execute_result"
    }
   ],
   "source": [
    "vectorizer.get_feature_names()[0]"
   ]
  },
  {
   "cell_type": "code",
   "execution_count": null,
   "metadata": {},
   "outputs": [
    {
     "data": {
      "text/plain": [
       "array([[1.]])"
      ]
     },
     "execution_count": 28,
     "metadata": {},
     "output_type": "execute_result"
    }
   ],
   "source": [
    "# Test the prediction\n",
    "# for first row, seeing prob of getting PTSD given using the word for 00 is higher than of given not PTSD\n",
    "clf.predict_proba(X_train[0, :])\n"
   ]
  },
  {
   "cell_type": "code",
   "execution_count": null,
   "metadata": {},
   "outputs": [
    {
     "data": {
      "text/plain": [
       "(20294, 11)"
      ]
     },
     "execution_count": 29,
     "metadata": {},
     "output_type": "execute_result"
    }
   ],
   "source": [
    "df.shape"
   ]
  },
  {
   "cell_type": "code",
   "execution_count": null,
   "metadata": {},
   "outputs": [
    {
     "data": {
      "text/plain": [
       "(13596, 28558)"
      ]
     },
     "execution_count": 30,
     "metadata": {},
     "output_type": "execute_result"
    }
   ],
   "source": [
    "# need to do todense() because after we vectorise, it is in a sparse matrix\n",
    "# hence in order to read, we do todense\n",
    "\n",
    "X_train.todense().shape"
   ]
  },
  {
   "cell_type": "code",
   "execution_count": null,
   "metadata": {},
   "outputs": [
    {
     "data": {
      "text/plain": [
       "(1, 28558)"
      ]
     },
     "execution_count": 31,
     "metadata": {},
     "output_type": "execute_result"
    }
   ],
   "source": [
    "# two rows of probabilities \n",
    "# first is for 0 (NOT PTSD)\n",
    "# second is for 1 (PTSD)\n",
    "\n",
    "clf.feature_log_prob_.shape"
   ]
  },
  {
   "cell_type": "code",
   "execution_count": null,
   "metadata": {},
   "outputs": [
    {
     "ename": "IndexError",
     "evalue": "index 1 is out of bounds for axis 0 with size 1",
     "output_type": "error",
     "traceback": [
      "\u001b[1;31m---------------------------------------------------------------------------\u001b[0m",
      "\u001b[1;31mIndexError\u001b[0m                                Traceback (most recent call last)",
      "\u001b[1;32mc:\\Users\\Admin\\Desktop\\Github Desktop Local\\GA-Lessons\\project_3\\MultinomialNB_Model.ipynb Cell 37'\u001b[0m in \u001b[0;36m<cell line: 1>\u001b[1;34m()\u001b[0m\n\u001b[1;32m----> <a href='vscode-notebook-cell:/c%3A/Users/Admin/Desktop/Github%20Desktop%20Local/GA-Lessons/project_3/MultinomialNB_Model.ipynb#ch0000034?line=0'>1</a>\u001b[0m \u001b[39mprint\u001b[39m(\u001b[39mf\u001b[39m\u001b[39m'\u001b[39m\u001b[39mLog prob given not PTSD: \u001b[39m\u001b[39m{\u001b[39;00mclf\u001b[39m.\u001b[39mfeature_log_prob_[\u001b[39m1\u001b[39m, :]\u001b[39m}\u001b[39;00m\u001b[39m'\u001b[39m) \n\u001b[0;32m      <a href='vscode-notebook-cell:/c%3A/Users/Admin/Desktop/Github%20Desktop%20Local/GA-Lessons/project_3/MultinomialNB_Model.ipynb#ch0000034?line=2'>3</a>\u001b[0m \u001b[39mprint\u001b[39m(\u001b[39mf\u001b[39m\u001b[39m'\u001b[39m\u001b[39mLog prob given PTSD: \u001b[39m\u001b[39m{\u001b[39;00mclf\u001b[39m.\u001b[39mfeature_log_prob_[\u001b[39m0\u001b[39m, :]\u001b[39m}\u001b[39;00m\u001b[39m'\u001b[39m)\n",
      "\u001b[1;31mIndexError\u001b[0m: index 1 is out of bounds for axis 0 with size 1"
     ]
    }
   ],
   "source": [
    "print(f'Log prob given not PTSD: {clf.feature_log_prob_[1, :]}') \n",
    "\n",
    "print(f'Log prob given PTSD: {clf.feature_log_prob_[0, :]}') "
   ]
  },
  {
   "cell_type": "code",
   "execution_count": null,
   "metadata": {},
   "outputs": [
    {
     "data": {
      "text/html": [
       "<div>\n",
       "<style scoped>\n",
       "    .dataframe tbody tr th:only-of-type {\n",
       "        vertical-align: middle;\n",
       "    }\n",
       "\n",
       "    .dataframe tbody tr th {\n",
       "        vertical-align: top;\n",
       "    }\n",
       "\n",
       "    .dataframe thead th {\n",
       "        text-align: right;\n",
       "    }\n",
       "</style>\n",
       "<table border=\"1\" class=\"dataframe\">\n",
       "  <thead>\n",
       "    <tr style=\"text-align: right;\">\n",
       "      <th></th>\n",
       "      <th>Features</th>\n",
       "      <th>log_prob_diff</th>\n",
       "    </tr>\n",
       "  </thead>\n",
       "  <tbody>\n",
       "    <tr>\n",
       "      <th>10340</th>\n",
       "      <td>flashbacks</td>\n",
       "      <td>3.671784</td>\n",
       "    </tr>\n",
       "    <tr>\n",
       "      <th>10338</th>\n",
       "      <td>flashback</td>\n",
       "      <td>3.394755</td>\n",
       "    </tr>\n",
       "    <tr>\n",
       "      <th>20389</th>\n",
       "      <td>raped</td>\n",
       "      <td>3.251154</td>\n",
       "    </tr>\n",
       "    <tr>\n",
       "      <th>20387</th>\n",
       "      <td>rape</td>\n",
       "      <td>3.243639</td>\n",
       "    </tr>\n",
       "    <tr>\n",
       "      <th>1116</th>\n",
       "      <td>abuser</td>\n",
       "      <td>3.173942</td>\n",
       "    </tr>\n",
       "    <tr>\n",
       "      <th>2492</th>\n",
       "      <td>assault</td>\n",
       "      <td>3.074608</td>\n",
       "    </tr>\n",
       "    <tr>\n",
       "      <th>1115</th>\n",
       "      <td>abused</td>\n",
       "      <td>2.947430</td>\n",
       "    </tr>\n",
       "    <tr>\n",
       "      <th>2493</th>\n",
       "      <td>assaulted</td>\n",
       "      <td>2.771845</td>\n",
       "    </tr>\n",
       "    <tr>\n",
       "      <th>1114</th>\n",
       "      <td>abuse</td>\n",
       "      <td>2.669279</td>\n",
       "    </tr>\n",
       "    <tr>\n",
       "      <th>17140</th>\n",
       "      <td>nightmares</td>\n",
       "      <td>2.541429</td>\n",
       "    </tr>\n",
       "    <tr>\n",
       "      <th>22665</th>\n",
       "      <td>sexually</td>\n",
       "      <td>2.531362</td>\n",
       "    </tr>\n",
       "    <tr>\n",
       "      <th>19380</th>\n",
       "      <td>prazosin</td>\n",
       "      <td>2.387549</td>\n",
       "    </tr>\n",
       "    <tr>\n",
       "      <th>8869</th>\n",
       "      <td>emdr</td>\n",
       "      <td>2.350881</td>\n",
       "    </tr>\n",
       "    <tr>\n",
       "      <th>20396</th>\n",
       "      <td>rapist</td>\n",
       "      <td>2.339468</td>\n",
       "    </tr>\n",
       "    <tr>\n",
       "      <th>1117</th>\n",
       "      <td>abusers</td>\n",
       "      <td>2.320630</td>\n",
       "    </tr>\n",
       "    <tr>\n",
       "      <th>21932</th>\n",
       "      <td>sa</td>\n",
       "      <td>2.241737</td>\n",
       "    </tr>\n",
       "    <tr>\n",
       "      <th>10246</th>\n",
       "      <td>fireworks</td>\n",
       "      <td>2.240000</td>\n",
       "    </tr>\n",
       "    <tr>\n",
       "      <th>22656</th>\n",
       "      <td>sexual</td>\n",
       "      <td>2.233356</td>\n",
       "    </tr>\n",
       "    <tr>\n",
       "      <th>25450</th>\n",
       "      <td>terrors</td>\n",
       "      <td>2.226751</td>\n",
       "    </tr>\n",
       "    <tr>\n",
       "      <th>15918</th>\n",
       "      <td>memories</td>\n",
       "      <td>2.038657</td>\n",
       "    </tr>\n",
       "  </tbody>\n",
       "</table>\n",
       "</div>"
      ],
      "text/plain": [
       "         Features  log_prob_diff\n",
       "10340  flashbacks       3.671784\n",
       "10338   flashback       3.394755\n",
       "20389       raped       3.251154\n",
       "20387        rape       3.243639\n",
       "1116       abuser       3.173942\n",
       "2492      assault       3.074608\n",
       "1115       abused       2.947430\n",
       "2493    assaulted       2.771845\n",
       "1114        abuse       2.669279\n",
       "17140  nightmares       2.541429\n",
       "22665    sexually       2.531362\n",
       "19380    prazosin       2.387549\n",
       "8869         emdr       2.350881\n",
       "20396      rapist       2.339468\n",
       "1117      abusers       2.320630\n",
       "21932          sa       2.241737\n",
       "10246   fireworks       2.240000\n",
       "22656      sexual       2.233356\n",
       "25450     terrors       2.226751\n",
       "15918    memories       2.038657"
      ]
     },
     "execution_count": 60,
     "metadata": {},
     "output_type": "execute_result"
    }
   ],
   "source": [
    "delta = clf.feature_log_prob_[1, :] - clf.feature_log_prob_[0, :]\n",
    "\n",
    "\n",
    "df_multinomial = pd.DataFrame([[x,y] for x,y in zip(vectorizer.get_feature_names(),delta)])\n",
    "df_multinomial.rename(columns= {0: 'Features', 1: 'log_prob_diff'}, inplace = True)\n",
    "df_multinomial.sort_values(by = 'log_prob_diff', ascending = False).head(20)"
   ]
  },
  {
   "cell_type": "code",
   "execution_count": null,
   "metadata": {},
   "outputs": [
    {
     "ename": "KeyboardInterrupt",
     "evalue": "",
     "output_type": "error",
     "traceback": [
      "\u001b[1;31m---------------------------------------------------------------------------\u001b[0m",
      "\u001b[1;31mKeyboardInterrupt\u001b[0m                         Traceback (most recent call last)",
      "\u001b[1;32mc:\\Users\\Admin\\Desktop\\Github Desktop Local\\GA-Lessons\\project_3\\MultinomialNB_Model.ipynb Cell 35'\u001b[0m in \u001b[0;36m<cell line: 34>\u001b[1;34m()\u001b[0m\n\u001b[0;32m     <a href='vscode-notebook-cell:/c%3A/Users/Admin/Desktop/Github%20Desktop%20Local/GA-Lessons/project_3/MultinomialNB_Model.ipynb#ch0000022?line=22'>23</a>\u001b[0m pipe_params \u001b[39m=\u001b[39m {\n\u001b[0;32m     <a href='vscode-notebook-cell:/c%3A/Users/Admin/Desktop/Github%20Desktop%20Local/GA-Lessons/project_3/MultinomialNB_Model.ipynb#ch0000022?line=23'>24</a>\u001b[0m     \u001b[39m'\u001b[39m\u001b[39mcvec__max_features\u001b[39m\u001b[39m'\u001b[39m: [\u001b[39m1_000\u001b[39m],\n\u001b[0;32m     <a href='vscode-notebook-cell:/c%3A/Users/Admin/Desktop/Github%20Desktop%20Local/GA-Lessons/project_3/MultinomialNB_Model.ipynb#ch0000022?line=24'>25</a>\u001b[0m     \u001b[39m'\u001b[39m\u001b[39mcvec__min_df\u001b[39m\u001b[39m'\u001b[39m: [\u001b[39m.002\u001b[39m],\n\u001b[0;32m     <a href='vscode-notebook-cell:/c%3A/Users/Admin/Desktop/Github%20Desktop%20Local/GA-Lessons/project_3/MultinomialNB_Model.ipynb#ch0000022?line=25'>26</a>\u001b[0m     \u001b[39m'\u001b[39m\u001b[39mcvec__max_df\u001b[39m\u001b[39m'\u001b[39m: [\u001b[39m.6\u001b[39m],\n\u001b[0;32m     <a href='vscode-notebook-cell:/c%3A/Users/Admin/Desktop/Github%20Desktop%20Local/GA-Lessons/project_3/MultinomialNB_Model.ipynb#ch0000022?line=26'>27</a>\u001b[0m     \u001b[39m'\u001b[39m\u001b[39mcvec__ngram_range\u001b[39m\u001b[39m'\u001b[39m: [(\u001b[39m1\u001b[39m,\u001b[39m1\u001b[39m), (\u001b[39m1\u001b[39m,\u001b[39m2\u001b[39m)],\n\u001b[0;32m     <a href='vscode-notebook-cell:/c%3A/Users/Admin/Desktop/Github%20Desktop%20Local/GA-Lessons/project_3/MultinomialNB_Model.ipynb#ch0000022?line=27'>28</a>\u001b[0m }\n\u001b[0;32m     <a href='vscode-notebook-cell:/c%3A/Users/Admin/Desktop/Github%20Desktop%20Local/GA-Lessons/project_3/MultinomialNB_Model.ipynb#ch0000022?line=29'>30</a>\u001b[0m gs \u001b[39m=\u001b[39m GridSearchCV(pipe, \u001b[39m# what object are we optimizing?\u001b[39;00m\n\u001b[0;32m     <a href='vscode-notebook-cell:/c%3A/Users/Admin/Desktop/Github%20Desktop%20Local/GA-Lessons/project_3/MultinomialNB_Model.ipynb#ch0000022?line=30'>31</a>\u001b[0m                   param_grid\u001b[39m=\u001b[39mpipe_params, \u001b[39m# what parameters values are we searching?\u001b[39;00m\n\u001b[0;32m     <a href='vscode-notebook-cell:/c%3A/Users/Admin/Desktop/Github%20Desktop%20Local/GA-Lessons/project_3/MultinomialNB_Model.ipynb#ch0000022?line=31'>32</a>\u001b[0m                   cv\u001b[39m=\u001b[39m\u001b[39m5\u001b[39m) \u001b[39m# 5-fold cross-validation\u001b[39;00m\n\u001b[1;32m---> <a href='vscode-notebook-cell:/c%3A/Users/Admin/Desktop/Github%20Desktop%20Local/GA-Lessons/project_3/MultinomialNB_Model.ipynb#ch0000022?line=33'>34</a>\u001b[0m gs\u001b[39m.\u001b[39;49mfit(X_train, y_train)\n",
      "File \u001b[1;32m~\\.conda\\envs\\myenv\\lib\\site-packages\\sklearn\\model_selection\\_search.py:891\u001b[0m, in \u001b[0;36mBaseSearchCV.fit\u001b[1;34m(self, X, y, groups, **fit_params)\u001b[0m\n\u001b[0;32m    <a href='file:///c%3A/Users/Admin/.conda/envs/myenv/lib/site-packages/sklearn/model_selection/_search.py?line=884'>885</a>\u001b[0m     results \u001b[39m=\u001b[39m \u001b[39mself\u001b[39m\u001b[39m.\u001b[39m_format_results(\n\u001b[0;32m    <a href='file:///c%3A/Users/Admin/.conda/envs/myenv/lib/site-packages/sklearn/model_selection/_search.py?line=885'>886</a>\u001b[0m         all_candidate_params, n_splits, all_out, all_more_results\n\u001b[0;32m    <a href='file:///c%3A/Users/Admin/.conda/envs/myenv/lib/site-packages/sklearn/model_selection/_search.py?line=886'>887</a>\u001b[0m     )\n\u001b[0;32m    <a href='file:///c%3A/Users/Admin/.conda/envs/myenv/lib/site-packages/sklearn/model_selection/_search.py?line=888'>889</a>\u001b[0m     \u001b[39mreturn\u001b[39;00m results\n\u001b[1;32m--> <a href='file:///c%3A/Users/Admin/.conda/envs/myenv/lib/site-packages/sklearn/model_selection/_search.py?line=890'>891</a>\u001b[0m \u001b[39mself\u001b[39;49m\u001b[39m.\u001b[39;49m_run_search(evaluate_candidates)\n\u001b[0;32m    <a href='file:///c%3A/Users/Admin/.conda/envs/myenv/lib/site-packages/sklearn/model_selection/_search.py?line=892'>893</a>\u001b[0m \u001b[39m# multimetric is determined here because in the case of a callable\u001b[39;00m\n\u001b[0;32m    <a href='file:///c%3A/Users/Admin/.conda/envs/myenv/lib/site-packages/sklearn/model_selection/_search.py?line=893'>894</a>\u001b[0m \u001b[39m# self.scoring the return type is only known after calling\u001b[39;00m\n\u001b[0;32m    <a href='file:///c%3A/Users/Admin/.conda/envs/myenv/lib/site-packages/sklearn/model_selection/_search.py?line=894'>895</a>\u001b[0m first_test_score \u001b[39m=\u001b[39m all_out[\u001b[39m0\u001b[39m][\u001b[39m\"\u001b[39m\u001b[39mtest_scores\u001b[39m\u001b[39m\"\u001b[39m]\n",
      "File \u001b[1;32m~\\.conda\\envs\\myenv\\lib\\site-packages\\sklearn\\model_selection\\_search.py:1392\u001b[0m, in \u001b[0;36mGridSearchCV._run_search\u001b[1;34m(self, evaluate_candidates)\u001b[0m\n\u001b[0;32m   <a href='file:///c%3A/Users/Admin/.conda/envs/myenv/lib/site-packages/sklearn/model_selection/_search.py?line=1389'>1390</a>\u001b[0m \u001b[39mdef\u001b[39;00m \u001b[39m_run_search\u001b[39m(\u001b[39mself\u001b[39m, evaluate_candidates):\n\u001b[0;32m   <a href='file:///c%3A/Users/Admin/.conda/envs/myenv/lib/site-packages/sklearn/model_selection/_search.py?line=1390'>1391</a>\u001b[0m     \u001b[39m\"\"\"Search all candidates in param_grid\"\"\"\u001b[39;00m\n\u001b[1;32m-> <a href='file:///c%3A/Users/Admin/.conda/envs/myenv/lib/site-packages/sklearn/model_selection/_search.py?line=1391'>1392</a>\u001b[0m     evaluate_candidates(ParameterGrid(\u001b[39mself\u001b[39;49m\u001b[39m.\u001b[39;49mparam_grid))\n",
      "File \u001b[1;32m~\\.conda\\envs\\myenv\\lib\\site-packages\\sklearn\\model_selection\\_search.py:838\u001b[0m, in \u001b[0;36mBaseSearchCV.fit.<locals>.evaluate_candidates\u001b[1;34m(candidate_params, cv, more_results)\u001b[0m\n\u001b[0;32m    <a href='file:///c%3A/Users/Admin/.conda/envs/myenv/lib/site-packages/sklearn/model_selection/_search.py?line=829'>830</a>\u001b[0m \u001b[39mif\u001b[39;00m \u001b[39mself\u001b[39m\u001b[39m.\u001b[39mverbose \u001b[39m>\u001b[39m \u001b[39m0\u001b[39m:\n\u001b[0;32m    <a href='file:///c%3A/Users/Admin/.conda/envs/myenv/lib/site-packages/sklearn/model_selection/_search.py?line=830'>831</a>\u001b[0m     \u001b[39mprint\u001b[39m(\n\u001b[0;32m    <a href='file:///c%3A/Users/Admin/.conda/envs/myenv/lib/site-packages/sklearn/model_selection/_search.py?line=831'>832</a>\u001b[0m         \u001b[39m\"\u001b[39m\u001b[39mFitting \u001b[39m\u001b[39m{0}\u001b[39;00m\u001b[39m folds for each of \u001b[39m\u001b[39m{1}\u001b[39;00m\u001b[39m candidates,\u001b[39m\u001b[39m\"\u001b[39m\n\u001b[0;32m    <a href='file:///c%3A/Users/Admin/.conda/envs/myenv/lib/site-packages/sklearn/model_selection/_search.py?line=832'>833</a>\u001b[0m         \u001b[39m\"\u001b[39m\u001b[39m totalling \u001b[39m\u001b[39m{2}\u001b[39;00m\u001b[39m fits\u001b[39m\u001b[39m\"\u001b[39m\u001b[39m.\u001b[39mformat(\n\u001b[0;32m    <a href='file:///c%3A/Users/Admin/.conda/envs/myenv/lib/site-packages/sklearn/model_selection/_search.py?line=833'>834</a>\u001b[0m             n_splits, n_candidates, n_candidates \u001b[39m*\u001b[39m n_splits\n\u001b[0;32m    <a href='file:///c%3A/Users/Admin/.conda/envs/myenv/lib/site-packages/sklearn/model_selection/_search.py?line=834'>835</a>\u001b[0m         )\n\u001b[0;32m    <a href='file:///c%3A/Users/Admin/.conda/envs/myenv/lib/site-packages/sklearn/model_selection/_search.py?line=835'>836</a>\u001b[0m     )\n\u001b[1;32m--> <a href='file:///c%3A/Users/Admin/.conda/envs/myenv/lib/site-packages/sklearn/model_selection/_search.py?line=837'>838</a>\u001b[0m out \u001b[39m=\u001b[39m parallel(\n\u001b[0;32m    <a href='file:///c%3A/Users/Admin/.conda/envs/myenv/lib/site-packages/sklearn/model_selection/_search.py?line=838'>839</a>\u001b[0m     delayed(_fit_and_score)(\n\u001b[0;32m    <a href='file:///c%3A/Users/Admin/.conda/envs/myenv/lib/site-packages/sklearn/model_selection/_search.py?line=839'>840</a>\u001b[0m         clone(base_estimator),\n\u001b[0;32m    <a href='file:///c%3A/Users/Admin/.conda/envs/myenv/lib/site-packages/sklearn/model_selection/_search.py?line=840'>841</a>\u001b[0m         X,\n\u001b[0;32m    <a href='file:///c%3A/Users/Admin/.conda/envs/myenv/lib/site-packages/sklearn/model_selection/_search.py?line=841'>842</a>\u001b[0m         y,\n\u001b[0;32m    <a href='file:///c%3A/Users/Admin/.conda/envs/myenv/lib/site-packages/sklearn/model_selection/_search.py?line=842'>843</a>\u001b[0m         train\u001b[39m=\u001b[39;49mtrain,\n\u001b[0;32m    <a href='file:///c%3A/Users/Admin/.conda/envs/myenv/lib/site-packages/sklearn/model_selection/_search.py?line=843'>844</a>\u001b[0m         test\u001b[39m=\u001b[39;49mtest,\n\u001b[0;32m    <a href='file:///c%3A/Users/Admin/.conda/envs/myenv/lib/site-packages/sklearn/model_selection/_search.py?line=844'>845</a>\u001b[0m         parameters\u001b[39m=\u001b[39;49mparameters,\n\u001b[0;32m    <a href='file:///c%3A/Users/Admin/.conda/envs/myenv/lib/site-packages/sklearn/model_selection/_search.py?line=845'>846</a>\u001b[0m         split_progress\u001b[39m=\u001b[39;49m(split_idx, n_splits),\n\u001b[0;32m    <a href='file:///c%3A/Users/Admin/.conda/envs/myenv/lib/site-packages/sklearn/model_selection/_search.py?line=846'>847</a>\u001b[0m         candidate_progress\u001b[39m=\u001b[39;49m(cand_idx, n_candidates),\n\u001b[0;32m    <a href='file:///c%3A/Users/Admin/.conda/envs/myenv/lib/site-packages/sklearn/model_selection/_search.py?line=847'>848</a>\u001b[0m         \u001b[39m*\u001b[39;49m\u001b[39m*\u001b[39;49mfit_and_score_kwargs,\n\u001b[0;32m    <a href='file:///c%3A/Users/Admin/.conda/envs/myenv/lib/site-packages/sklearn/model_selection/_search.py?line=848'>849</a>\u001b[0m     )\n\u001b[0;32m    <a href='file:///c%3A/Users/Admin/.conda/envs/myenv/lib/site-packages/sklearn/model_selection/_search.py?line=849'>850</a>\u001b[0m     \u001b[39mfor\u001b[39;49;00m (cand_idx, parameters), (split_idx, (train, test)) \u001b[39min\u001b[39;49;00m product(\n\u001b[0;32m    <a href='file:///c%3A/Users/Admin/.conda/envs/myenv/lib/site-packages/sklearn/model_selection/_search.py?line=850'>851</a>\u001b[0m         \u001b[39menumerate\u001b[39;49m(candidate_params), \u001b[39menumerate\u001b[39;49m(cv\u001b[39m.\u001b[39;49msplit(X, y, groups))\n\u001b[0;32m    <a href='file:///c%3A/Users/Admin/.conda/envs/myenv/lib/site-packages/sklearn/model_selection/_search.py?line=851'>852</a>\u001b[0m     )\n\u001b[0;32m    <a href='file:///c%3A/Users/Admin/.conda/envs/myenv/lib/site-packages/sklearn/model_selection/_search.py?line=852'>853</a>\u001b[0m )\n\u001b[0;32m    <a href='file:///c%3A/Users/Admin/.conda/envs/myenv/lib/site-packages/sklearn/model_selection/_search.py?line=854'>855</a>\u001b[0m \u001b[39mif\u001b[39;00m \u001b[39mlen\u001b[39m(out) \u001b[39m<\u001b[39m \u001b[39m1\u001b[39m:\n\u001b[0;32m    <a href='file:///c%3A/Users/Admin/.conda/envs/myenv/lib/site-packages/sklearn/model_selection/_search.py?line=855'>856</a>\u001b[0m     \u001b[39mraise\u001b[39;00m \u001b[39mValueError\u001b[39;00m(\n\u001b[0;32m    <a href='file:///c%3A/Users/Admin/.conda/envs/myenv/lib/site-packages/sklearn/model_selection/_search.py?line=856'>857</a>\u001b[0m         \u001b[39m\"\u001b[39m\u001b[39mNo fits were performed. \u001b[39m\u001b[39m\"\u001b[39m\n\u001b[0;32m    <a href='file:///c%3A/Users/Admin/.conda/envs/myenv/lib/site-packages/sklearn/model_selection/_search.py?line=857'>858</a>\u001b[0m         \u001b[39m\"\u001b[39m\u001b[39mWas the CV iterator empty? \u001b[39m\u001b[39m\"\u001b[39m\n\u001b[0;32m    <a href='file:///c%3A/Users/Admin/.conda/envs/myenv/lib/site-packages/sklearn/model_selection/_search.py?line=858'>859</a>\u001b[0m         \u001b[39m\"\u001b[39m\u001b[39mWere there no candidates?\u001b[39m\u001b[39m\"\u001b[39m\n\u001b[0;32m    <a href='file:///c%3A/Users/Admin/.conda/envs/myenv/lib/site-packages/sklearn/model_selection/_search.py?line=859'>860</a>\u001b[0m     )\n",
      "File \u001b[1;32m~\\.conda\\envs\\myenv\\lib\\site-packages\\joblib\\parallel.py:1046\u001b[0m, in \u001b[0;36mParallel.__call__\u001b[1;34m(self, iterable)\u001b[0m\n\u001b[0;32m   <a href='file:///c%3A/Users/Admin/.conda/envs/myenv/lib/site-packages/joblib/parallel.py?line=1042'>1043</a>\u001b[0m \u001b[39mif\u001b[39;00m \u001b[39mself\u001b[39m\u001b[39m.\u001b[39mdispatch_one_batch(iterator):\n\u001b[0;32m   <a href='file:///c%3A/Users/Admin/.conda/envs/myenv/lib/site-packages/joblib/parallel.py?line=1043'>1044</a>\u001b[0m     \u001b[39mself\u001b[39m\u001b[39m.\u001b[39m_iterating \u001b[39m=\u001b[39m \u001b[39mself\u001b[39m\u001b[39m.\u001b[39m_original_iterator \u001b[39mis\u001b[39;00m \u001b[39mnot\u001b[39;00m \u001b[39mNone\u001b[39;00m\n\u001b[1;32m-> <a href='file:///c%3A/Users/Admin/.conda/envs/myenv/lib/site-packages/joblib/parallel.py?line=1045'>1046</a>\u001b[0m \u001b[39mwhile\u001b[39;00m \u001b[39mself\u001b[39;49m\u001b[39m.\u001b[39;49mdispatch_one_batch(iterator):\n\u001b[0;32m   <a href='file:///c%3A/Users/Admin/.conda/envs/myenv/lib/site-packages/joblib/parallel.py?line=1046'>1047</a>\u001b[0m     \u001b[39mpass\u001b[39;00m\n\u001b[0;32m   <a href='file:///c%3A/Users/Admin/.conda/envs/myenv/lib/site-packages/joblib/parallel.py?line=1048'>1049</a>\u001b[0m \u001b[39mif\u001b[39;00m pre_dispatch \u001b[39m==\u001b[39m \u001b[39m\"\u001b[39m\u001b[39mall\u001b[39m\u001b[39m\"\u001b[39m \u001b[39mor\u001b[39;00m n_jobs \u001b[39m==\u001b[39m \u001b[39m1\u001b[39m:\n\u001b[0;32m   <a href='file:///c%3A/Users/Admin/.conda/envs/myenv/lib/site-packages/joblib/parallel.py?line=1049'>1050</a>\u001b[0m     \u001b[39m# The iterable was consumed all at once by the above for loop.\u001b[39;00m\n\u001b[0;32m   <a href='file:///c%3A/Users/Admin/.conda/envs/myenv/lib/site-packages/joblib/parallel.py?line=1050'>1051</a>\u001b[0m     \u001b[39m# No need to wait for async callbacks to trigger to\u001b[39;00m\n\u001b[0;32m   <a href='file:///c%3A/Users/Admin/.conda/envs/myenv/lib/site-packages/joblib/parallel.py?line=1051'>1052</a>\u001b[0m     \u001b[39m# consumption.\u001b[39;00m\n",
      "File \u001b[1;32m~\\.conda\\envs\\myenv\\lib\\site-packages\\joblib\\parallel.py:861\u001b[0m, in \u001b[0;36mParallel.dispatch_one_batch\u001b[1;34m(self, iterator)\u001b[0m\n\u001b[0;32m    <a href='file:///c%3A/Users/Admin/.conda/envs/myenv/lib/site-packages/joblib/parallel.py?line=858'>859</a>\u001b[0m     \u001b[39mreturn\u001b[39;00m \u001b[39mFalse\u001b[39;00m\n\u001b[0;32m    <a href='file:///c%3A/Users/Admin/.conda/envs/myenv/lib/site-packages/joblib/parallel.py?line=859'>860</a>\u001b[0m \u001b[39melse\u001b[39;00m:\n\u001b[1;32m--> <a href='file:///c%3A/Users/Admin/.conda/envs/myenv/lib/site-packages/joblib/parallel.py?line=860'>861</a>\u001b[0m     \u001b[39mself\u001b[39;49m\u001b[39m.\u001b[39;49m_dispatch(tasks)\n\u001b[0;32m    <a href='file:///c%3A/Users/Admin/.conda/envs/myenv/lib/site-packages/joblib/parallel.py?line=861'>862</a>\u001b[0m     \u001b[39mreturn\u001b[39;00m \u001b[39mTrue\u001b[39;00m\n",
      "File \u001b[1;32m~\\.conda\\envs\\myenv\\lib\\site-packages\\joblib\\parallel.py:779\u001b[0m, in \u001b[0;36mParallel._dispatch\u001b[1;34m(self, batch)\u001b[0m\n\u001b[0;32m    <a href='file:///c%3A/Users/Admin/.conda/envs/myenv/lib/site-packages/joblib/parallel.py?line=776'>777</a>\u001b[0m \u001b[39mwith\u001b[39;00m \u001b[39mself\u001b[39m\u001b[39m.\u001b[39m_lock:\n\u001b[0;32m    <a href='file:///c%3A/Users/Admin/.conda/envs/myenv/lib/site-packages/joblib/parallel.py?line=777'>778</a>\u001b[0m     job_idx \u001b[39m=\u001b[39m \u001b[39mlen\u001b[39m(\u001b[39mself\u001b[39m\u001b[39m.\u001b[39m_jobs)\n\u001b[1;32m--> <a href='file:///c%3A/Users/Admin/.conda/envs/myenv/lib/site-packages/joblib/parallel.py?line=778'>779</a>\u001b[0m     job \u001b[39m=\u001b[39m \u001b[39mself\u001b[39;49m\u001b[39m.\u001b[39;49m_backend\u001b[39m.\u001b[39;49mapply_async(batch, callback\u001b[39m=\u001b[39;49mcb)\n\u001b[0;32m    <a href='file:///c%3A/Users/Admin/.conda/envs/myenv/lib/site-packages/joblib/parallel.py?line=779'>780</a>\u001b[0m     \u001b[39m# A job can complete so quickly than its callback is\u001b[39;00m\n\u001b[0;32m    <a href='file:///c%3A/Users/Admin/.conda/envs/myenv/lib/site-packages/joblib/parallel.py?line=780'>781</a>\u001b[0m     \u001b[39m# called before we get here, causing self._jobs to\u001b[39;00m\n\u001b[0;32m    <a href='file:///c%3A/Users/Admin/.conda/envs/myenv/lib/site-packages/joblib/parallel.py?line=781'>782</a>\u001b[0m     \u001b[39m# grow. To ensure correct results ordering, .insert is\u001b[39;00m\n\u001b[0;32m    <a href='file:///c%3A/Users/Admin/.conda/envs/myenv/lib/site-packages/joblib/parallel.py?line=782'>783</a>\u001b[0m     \u001b[39m# used (rather than .append) in the following line\u001b[39;00m\n\u001b[0;32m    <a href='file:///c%3A/Users/Admin/.conda/envs/myenv/lib/site-packages/joblib/parallel.py?line=783'>784</a>\u001b[0m     \u001b[39mself\u001b[39m\u001b[39m.\u001b[39m_jobs\u001b[39m.\u001b[39minsert(job_idx, job)\n",
      "File \u001b[1;32m~\\.conda\\envs\\myenv\\lib\\site-packages\\joblib\\_parallel_backends.py:208\u001b[0m, in \u001b[0;36mSequentialBackend.apply_async\u001b[1;34m(self, func, callback)\u001b[0m\n\u001b[0;32m    <a href='file:///c%3A/Users/Admin/.conda/envs/myenv/lib/site-packages/joblib/_parallel_backends.py?line=205'>206</a>\u001b[0m \u001b[39mdef\u001b[39;00m \u001b[39mapply_async\u001b[39m(\u001b[39mself\u001b[39m, func, callback\u001b[39m=\u001b[39m\u001b[39mNone\u001b[39;00m):\n\u001b[0;32m    <a href='file:///c%3A/Users/Admin/.conda/envs/myenv/lib/site-packages/joblib/_parallel_backends.py?line=206'>207</a>\u001b[0m     \u001b[39m\"\"\"Schedule a func to be run\"\"\"\u001b[39;00m\n\u001b[1;32m--> <a href='file:///c%3A/Users/Admin/.conda/envs/myenv/lib/site-packages/joblib/_parallel_backends.py?line=207'>208</a>\u001b[0m     result \u001b[39m=\u001b[39m ImmediateResult(func)\n\u001b[0;32m    <a href='file:///c%3A/Users/Admin/.conda/envs/myenv/lib/site-packages/joblib/_parallel_backends.py?line=208'>209</a>\u001b[0m     \u001b[39mif\u001b[39;00m callback:\n\u001b[0;32m    <a href='file:///c%3A/Users/Admin/.conda/envs/myenv/lib/site-packages/joblib/_parallel_backends.py?line=209'>210</a>\u001b[0m         callback(result)\n",
      "File \u001b[1;32m~\\.conda\\envs\\myenv\\lib\\site-packages\\joblib\\_parallel_backends.py:572\u001b[0m, in \u001b[0;36mImmediateResult.__init__\u001b[1;34m(self, batch)\u001b[0m\n\u001b[0;32m    <a href='file:///c%3A/Users/Admin/.conda/envs/myenv/lib/site-packages/joblib/_parallel_backends.py?line=568'>569</a>\u001b[0m \u001b[39mdef\u001b[39;00m \u001b[39m__init__\u001b[39m(\u001b[39mself\u001b[39m, batch):\n\u001b[0;32m    <a href='file:///c%3A/Users/Admin/.conda/envs/myenv/lib/site-packages/joblib/_parallel_backends.py?line=569'>570</a>\u001b[0m     \u001b[39m# Don't delay the application, to avoid keeping the input\u001b[39;00m\n\u001b[0;32m    <a href='file:///c%3A/Users/Admin/.conda/envs/myenv/lib/site-packages/joblib/_parallel_backends.py?line=570'>571</a>\u001b[0m     \u001b[39m# arguments in memory\u001b[39;00m\n\u001b[1;32m--> <a href='file:///c%3A/Users/Admin/.conda/envs/myenv/lib/site-packages/joblib/_parallel_backends.py?line=571'>572</a>\u001b[0m     \u001b[39mself\u001b[39m\u001b[39m.\u001b[39mresults \u001b[39m=\u001b[39m batch()\n",
      "File \u001b[1;32m~\\.conda\\envs\\myenv\\lib\\site-packages\\joblib\\parallel.py:262\u001b[0m, in \u001b[0;36mBatchedCalls.__call__\u001b[1;34m(self)\u001b[0m\n\u001b[0;32m    <a href='file:///c%3A/Users/Admin/.conda/envs/myenv/lib/site-packages/joblib/parallel.py?line=257'>258</a>\u001b[0m \u001b[39mdef\u001b[39;00m \u001b[39m__call__\u001b[39m(\u001b[39mself\u001b[39m):\n\u001b[0;32m    <a href='file:///c%3A/Users/Admin/.conda/envs/myenv/lib/site-packages/joblib/parallel.py?line=258'>259</a>\u001b[0m     \u001b[39m# Set the default nested backend to self._backend but do not set the\u001b[39;00m\n\u001b[0;32m    <a href='file:///c%3A/Users/Admin/.conda/envs/myenv/lib/site-packages/joblib/parallel.py?line=259'>260</a>\u001b[0m     \u001b[39m# change the default number of processes to -1\u001b[39;00m\n\u001b[0;32m    <a href='file:///c%3A/Users/Admin/.conda/envs/myenv/lib/site-packages/joblib/parallel.py?line=260'>261</a>\u001b[0m     \u001b[39mwith\u001b[39;00m parallel_backend(\u001b[39mself\u001b[39m\u001b[39m.\u001b[39m_backend, n_jobs\u001b[39m=\u001b[39m\u001b[39mself\u001b[39m\u001b[39m.\u001b[39m_n_jobs):\n\u001b[1;32m--> <a href='file:///c%3A/Users/Admin/.conda/envs/myenv/lib/site-packages/joblib/parallel.py?line=261'>262</a>\u001b[0m         \u001b[39mreturn\u001b[39;00m [func(\u001b[39m*\u001b[39margs, \u001b[39m*\u001b[39m\u001b[39m*\u001b[39mkwargs)\n\u001b[0;32m    <a href='file:///c%3A/Users/Admin/.conda/envs/myenv/lib/site-packages/joblib/parallel.py?line=262'>263</a>\u001b[0m                 \u001b[39mfor\u001b[39;00m func, args, kwargs \u001b[39min\u001b[39;00m \u001b[39mself\u001b[39m\u001b[39m.\u001b[39mitems]\n",
      "File \u001b[1;32m~\\.conda\\envs\\myenv\\lib\\site-packages\\joblib\\parallel.py:262\u001b[0m, in \u001b[0;36m<listcomp>\u001b[1;34m(.0)\u001b[0m\n\u001b[0;32m    <a href='file:///c%3A/Users/Admin/.conda/envs/myenv/lib/site-packages/joblib/parallel.py?line=257'>258</a>\u001b[0m \u001b[39mdef\u001b[39;00m \u001b[39m__call__\u001b[39m(\u001b[39mself\u001b[39m):\n\u001b[0;32m    <a href='file:///c%3A/Users/Admin/.conda/envs/myenv/lib/site-packages/joblib/parallel.py?line=258'>259</a>\u001b[0m     \u001b[39m# Set the default nested backend to self._backend but do not set the\u001b[39;00m\n\u001b[0;32m    <a href='file:///c%3A/Users/Admin/.conda/envs/myenv/lib/site-packages/joblib/parallel.py?line=259'>260</a>\u001b[0m     \u001b[39m# change the default number of processes to -1\u001b[39;00m\n\u001b[0;32m    <a href='file:///c%3A/Users/Admin/.conda/envs/myenv/lib/site-packages/joblib/parallel.py?line=260'>261</a>\u001b[0m     \u001b[39mwith\u001b[39;00m parallel_backend(\u001b[39mself\u001b[39m\u001b[39m.\u001b[39m_backend, n_jobs\u001b[39m=\u001b[39m\u001b[39mself\u001b[39m\u001b[39m.\u001b[39m_n_jobs):\n\u001b[1;32m--> <a href='file:///c%3A/Users/Admin/.conda/envs/myenv/lib/site-packages/joblib/parallel.py?line=261'>262</a>\u001b[0m         \u001b[39mreturn\u001b[39;00m [func(\u001b[39m*\u001b[39margs, \u001b[39m*\u001b[39m\u001b[39m*\u001b[39mkwargs)\n\u001b[0;32m    <a href='file:///c%3A/Users/Admin/.conda/envs/myenv/lib/site-packages/joblib/parallel.py?line=262'>263</a>\u001b[0m                 \u001b[39mfor\u001b[39;00m func, args, kwargs \u001b[39min\u001b[39;00m \u001b[39mself\u001b[39m\u001b[39m.\u001b[39mitems]\n",
      "File \u001b[1;32m~\\.conda\\envs\\myenv\\lib\\site-packages\\sklearn\\utils\\fixes.py:216\u001b[0m, in \u001b[0;36m_FuncWrapper.__call__\u001b[1;34m(self, *args, **kwargs)\u001b[0m\n\u001b[0;32m    <a href='file:///c%3A/Users/Admin/.conda/envs/myenv/lib/site-packages/sklearn/utils/fixes.py?line=213'>214</a>\u001b[0m \u001b[39mdef\u001b[39;00m \u001b[39m__call__\u001b[39m(\u001b[39mself\u001b[39m, \u001b[39m*\u001b[39margs, \u001b[39m*\u001b[39m\u001b[39m*\u001b[39mkwargs):\n\u001b[0;32m    <a href='file:///c%3A/Users/Admin/.conda/envs/myenv/lib/site-packages/sklearn/utils/fixes.py?line=214'>215</a>\u001b[0m     \u001b[39mwith\u001b[39;00m config_context(\u001b[39m*\u001b[39m\u001b[39m*\u001b[39m\u001b[39mself\u001b[39m\u001b[39m.\u001b[39mconfig):\n\u001b[1;32m--> <a href='file:///c%3A/Users/Admin/.conda/envs/myenv/lib/site-packages/sklearn/utils/fixes.py?line=215'>216</a>\u001b[0m         \u001b[39mreturn\u001b[39;00m \u001b[39mself\u001b[39m\u001b[39m.\u001b[39mfunction(\u001b[39m*\u001b[39margs, \u001b[39m*\u001b[39m\u001b[39m*\u001b[39mkwargs)\n",
      "File \u001b[1;32m~\\.conda\\envs\\myenv\\lib\\site-packages\\sklearn\\model_selection\\_validation.py:680\u001b[0m, in \u001b[0;36m_fit_and_score\u001b[1;34m(estimator, X, y, scorer, train, test, verbose, parameters, fit_params, return_train_score, return_parameters, return_n_test_samples, return_times, return_estimator, split_progress, candidate_progress, error_score)\u001b[0m\n\u001b[0;32m    <a href='file:///c%3A/Users/Admin/.conda/envs/myenv/lib/site-packages/sklearn/model_selection/_validation.py?line=677'>678</a>\u001b[0m         estimator\u001b[39m.\u001b[39mfit(X_train, \u001b[39m*\u001b[39m\u001b[39m*\u001b[39mfit_params)\n\u001b[0;32m    <a href='file:///c%3A/Users/Admin/.conda/envs/myenv/lib/site-packages/sklearn/model_selection/_validation.py?line=678'>679</a>\u001b[0m     \u001b[39melse\u001b[39;00m:\n\u001b[1;32m--> <a href='file:///c%3A/Users/Admin/.conda/envs/myenv/lib/site-packages/sklearn/model_selection/_validation.py?line=679'>680</a>\u001b[0m         estimator\u001b[39m.\u001b[39mfit(X_train, y_train, \u001b[39m*\u001b[39m\u001b[39m*\u001b[39mfit_params)\n\u001b[0;32m    <a href='file:///c%3A/Users/Admin/.conda/envs/myenv/lib/site-packages/sklearn/model_selection/_validation.py?line=681'>682</a>\u001b[0m \u001b[39mexcept\u001b[39;00m \u001b[39mException\u001b[39;00m:\n\u001b[0;32m    <a href='file:///c%3A/Users/Admin/.conda/envs/myenv/lib/site-packages/sklearn/model_selection/_validation.py?line=682'>683</a>\u001b[0m     \u001b[39m# Note fit time as time until error\u001b[39;00m\n\u001b[0;32m    <a href='file:///c%3A/Users/Admin/.conda/envs/myenv/lib/site-packages/sklearn/model_selection/_validation.py?line=683'>684</a>\u001b[0m     fit_time \u001b[39m=\u001b[39m time\u001b[39m.\u001b[39mtime() \u001b[39m-\u001b[39m start_time\n",
      "File \u001b[1;32m~\\.conda\\envs\\myenv\\lib\\site-packages\\sklearn\\pipeline.py:390\u001b[0m, in \u001b[0;36mPipeline.fit\u001b[1;34m(self, X, y, **fit_params)\u001b[0m\n\u001b[0;32m    <a href='file:///c%3A/Users/Admin/.conda/envs/myenv/lib/site-packages/sklearn/pipeline.py?line=363'>364</a>\u001b[0m \u001b[39m\"\"\"Fit the model.\u001b[39;00m\n\u001b[0;32m    <a href='file:///c%3A/Users/Admin/.conda/envs/myenv/lib/site-packages/sklearn/pipeline.py?line=364'>365</a>\u001b[0m \n\u001b[0;32m    <a href='file:///c%3A/Users/Admin/.conda/envs/myenv/lib/site-packages/sklearn/pipeline.py?line=365'>366</a>\u001b[0m \u001b[39mFit all the transformers one after the other and transform the\u001b[39;00m\n\u001b[1;32m   (...)\u001b[0m\n\u001b[0;32m    <a href='file:///c%3A/Users/Admin/.conda/envs/myenv/lib/site-packages/sklearn/pipeline.py?line=386'>387</a>\u001b[0m \u001b[39m    Pipeline with fitted steps.\u001b[39;00m\n\u001b[0;32m    <a href='file:///c%3A/Users/Admin/.conda/envs/myenv/lib/site-packages/sklearn/pipeline.py?line=387'>388</a>\u001b[0m \u001b[39m\"\"\"\u001b[39;00m\n\u001b[0;32m    <a href='file:///c%3A/Users/Admin/.conda/envs/myenv/lib/site-packages/sklearn/pipeline.py?line=388'>389</a>\u001b[0m fit_params_steps \u001b[39m=\u001b[39m \u001b[39mself\u001b[39m\u001b[39m.\u001b[39m_check_fit_params(\u001b[39m*\u001b[39m\u001b[39m*\u001b[39mfit_params)\n\u001b[1;32m--> <a href='file:///c%3A/Users/Admin/.conda/envs/myenv/lib/site-packages/sklearn/pipeline.py?line=389'>390</a>\u001b[0m Xt \u001b[39m=\u001b[39m \u001b[39mself\u001b[39m\u001b[39m.\u001b[39m_fit(X, y, \u001b[39m*\u001b[39m\u001b[39m*\u001b[39mfit_params_steps)\n\u001b[0;32m    <a href='file:///c%3A/Users/Admin/.conda/envs/myenv/lib/site-packages/sklearn/pipeline.py?line=390'>391</a>\u001b[0m \u001b[39mwith\u001b[39;00m _print_elapsed_time(\u001b[39m\"\u001b[39m\u001b[39mPipeline\u001b[39m\u001b[39m\"\u001b[39m, \u001b[39mself\u001b[39m\u001b[39m.\u001b[39m_log_message(\u001b[39mlen\u001b[39m(\u001b[39mself\u001b[39m\u001b[39m.\u001b[39msteps) \u001b[39m-\u001b[39m \u001b[39m1\u001b[39m)):\n\u001b[0;32m    <a href='file:///c%3A/Users/Admin/.conda/envs/myenv/lib/site-packages/sklearn/pipeline.py?line=391'>392</a>\u001b[0m     \u001b[39mif\u001b[39;00m \u001b[39mself\u001b[39m\u001b[39m.\u001b[39m_final_estimator \u001b[39m!=\u001b[39m \u001b[39m\"\u001b[39m\u001b[39mpassthrough\u001b[39m\u001b[39m\"\u001b[39m:\n",
      "File \u001b[1;32m~\\.conda\\envs\\myenv\\lib\\site-packages\\sklearn\\pipeline.py:348\u001b[0m, in \u001b[0;36mPipeline._fit\u001b[1;34m(self, X, y, **fit_params_steps)\u001b[0m\n\u001b[0;32m    <a href='file:///c%3A/Users/Admin/.conda/envs/myenv/lib/site-packages/sklearn/pipeline.py?line=345'>346</a>\u001b[0m     cloned_transformer \u001b[39m=\u001b[39m clone(transformer)\n\u001b[0;32m    <a href='file:///c%3A/Users/Admin/.conda/envs/myenv/lib/site-packages/sklearn/pipeline.py?line=346'>347</a>\u001b[0m \u001b[39m# Fit or load from cache the current transformer\u001b[39;00m\n\u001b[1;32m--> <a href='file:///c%3A/Users/Admin/.conda/envs/myenv/lib/site-packages/sklearn/pipeline.py?line=347'>348</a>\u001b[0m X, fitted_transformer \u001b[39m=\u001b[39m fit_transform_one_cached(\n\u001b[0;32m    <a href='file:///c%3A/Users/Admin/.conda/envs/myenv/lib/site-packages/sklearn/pipeline.py?line=348'>349</a>\u001b[0m     cloned_transformer,\n\u001b[0;32m    <a href='file:///c%3A/Users/Admin/.conda/envs/myenv/lib/site-packages/sklearn/pipeline.py?line=349'>350</a>\u001b[0m     X,\n\u001b[0;32m    <a href='file:///c%3A/Users/Admin/.conda/envs/myenv/lib/site-packages/sklearn/pipeline.py?line=350'>351</a>\u001b[0m     y,\n\u001b[0;32m    <a href='file:///c%3A/Users/Admin/.conda/envs/myenv/lib/site-packages/sklearn/pipeline.py?line=351'>352</a>\u001b[0m     \u001b[39mNone\u001b[39;00m,\n\u001b[0;32m    <a href='file:///c%3A/Users/Admin/.conda/envs/myenv/lib/site-packages/sklearn/pipeline.py?line=352'>353</a>\u001b[0m     message_clsname\u001b[39m=\u001b[39m\u001b[39m\"\u001b[39m\u001b[39mPipeline\u001b[39m\u001b[39m\"\u001b[39m,\n\u001b[0;32m    <a href='file:///c%3A/Users/Admin/.conda/envs/myenv/lib/site-packages/sklearn/pipeline.py?line=353'>354</a>\u001b[0m     message\u001b[39m=\u001b[39m\u001b[39mself\u001b[39m\u001b[39m.\u001b[39m_log_message(step_idx),\n\u001b[0;32m    <a href='file:///c%3A/Users/Admin/.conda/envs/myenv/lib/site-packages/sklearn/pipeline.py?line=354'>355</a>\u001b[0m     \u001b[39m*\u001b[39m\u001b[39m*\u001b[39mfit_params_steps[name],\n\u001b[0;32m    <a href='file:///c%3A/Users/Admin/.conda/envs/myenv/lib/site-packages/sklearn/pipeline.py?line=355'>356</a>\u001b[0m )\n\u001b[0;32m    <a href='file:///c%3A/Users/Admin/.conda/envs/myenv/lib/site-packages/sklearn/pipeline.py?line=356'>357</a>\u001b[0m \u001b[39m# Replace the transformer of the step with the fitted\u001b[39;00m\n\u001b[0;32m    <a href='file:///c%3A/Users/Admin/.conda/envs/myenv/lib/site-packages/sklearn/pipeline.py?line=357'>358</a>\u001b[0m \u001b[39m# transformer. This is necessary when loading the transformer\u001b[39;00m\n\u001b[0;32m    <a href='file:///c%3A/Users/Admin/.conda/envs/myenv/lib/site-packages/sklearn/pipeline.py?line=358'>359</a>\u001b[0m \u001b[39m# from the cache.\u001b[39;00m\n\u001b[0;32m    <a href='file:///c%3A/Users/Admin/.conda/envs/myenv/lib/site-packages/sklearn/pipeline.py?line=359'>360</a>\u001b[0m \u001b[39mself\u001b[39m\u001b[39m.\u001b[39msteps[step_idx] \u001b[39m=\u001b[39m (name, fitted_transformer)\n",
      "File \u001b[1;32m~\\.conda\\envs\\myenv\\lib\\site-packages\\joblib\\memory.py:349\u001b[0m, in \u001b[0;36mNotMemorizedFunc.__call__\u001b[1;34m(self, *args, **kwargs)\u001b[0m\n\u001b[0;32m    <a href='file:///c%3A/Users/Admin/.conda/envs/myenv/lib/site-packages/joblib/memory.py?line=347'>348</a>\u001b[0m \u001b[39mdef\u001b[39;00m \u001b[39m__call__\u001b[39m(\u001b[39mself\u001b[39m, \u001b[39m*\u001b[39margs, \u001b[39m*\u001b[39m\u001b[39m*\u001b[39mkwargs):\n\u001b[1;32m--> <a href='file:///c%3A/Users/Admin/.conda/envs/myenv/lib/site-packages/joblib/memory.py?line=348'>349</a>\u001b[0m     \u001b[39mreturn\u001b[39;00m \u001b[39mself\u001b[39m\u001b[39m.\u001b[39mfunc(\u001b[39m*\u001b[39margs, \u001b[39m*\u001b[39m\u001b[39m*\u001b[39mkwargs)\n",
      "File \u001b[1;32m~\\.conda\\envs\\myenv\\lib\\site-packages\\sklearn\\pipeline.py:893\u001b[0m, in \u001b[0;36m_fit_transform_one\u001b[1;34m(transformer, X, y, weight, message_clsname, message, **fit_params)\u001b[0m\n\u001b[0;32m    <a href='file:///c%3A/Users/Admin/.conda/envs/myenv/lib/site-packages/sklearn/pipeline.py?line=890'>891</a>\u001b[0m \u001b[39mwith\u001b[39;00m _print_elapsed_time(message_clsname, message):\n\u001b[0;32m    <a href='file:///c%3A/Users/Admin/.conda/envs/myenv/lib/site-packages/sklearn/pipeline.py?line=891'>892</a>\u001b[0m     \u001b[39mif\u001b[39;00m \u001b[39mhasattr\u001b[39m(transformer, \u001b[39m\"\u001b[39m\u001b[39mfit_transform\u001b[39m\u001b[39m\"\u001b[39m):\n\u001b[1;32m--> <a href='file:///c%3A/Users/Admin/.conda/envs/myenv/lib/site-packages/sklearn/pipeline.py?line=892'>893</a>\u001b[0m         res \u001b[39m=\u001b[39m transformer\u001b[39m.\u001b[39mfit_transform(X, y, \u001b[39m*\u001b[39m\u001b[39m*\u001b[39mfit_params)\n\u001b[0;32m    <a href='file:///c%3A/Users/Admin/.conda/envs/myenv/lib/site-packages/sklearn/pipeline.py?line=893'>894</a>\u001b[0m     \u001b[39melse\u001b[39;00m:\n\u001b[0;32m    <a href='file:///c%3A/Users/Admin/.conda/envs/myenv/lib/site-packages/sklearn/pipeline.py?line=894'>895</a>\u001b[0m         res \u001b[39m=\u001b[39m transformer\u001b[39m.\u001b[39mfit(X, y, \u001b[39m*\u001b[39m\u001b[39m*\u001b[39mfit_params)\u001b[39m.\u001b[39mtransform(X)\n",
      "File \u001b[1;32m~\\.conda\\envs\\myenv\\lib\\site-packages\\sklearn\\feature_extraction\\text.py:2077\u001b[0m, in \u001b[0;36mTfidfVectorizer.fit_transform\u001b[1;34m(self, raw_documents, y)\u001b[0m\n\u001b[0;32m   <a href='file:///c%3A/Users/Admin/.conda/envs/myenv/lib/site-packages/sklearn/feature_extraction/text.py?line=2057'>2058</a>\u001b[0m \u001b[39m\"\"\"Learn vocabulary and idf, return document-term matrix.\u001b[39;00m\n\u001b[0;32m   <a href='file:///c%3A/Users/Admin/.conda/envs/myenv/lib/site-packages/sklearn/feature_extraction/text.py?line=2058'>2059</a>\u001b[0m \n\u001b[0;32m   <a href='file:///c%3A/Users/Admin/.conda/envs/myenv/lib/site-packages/sklearn/feature_extraction/text.py?line=2059'>2060</a>\u001b[0m \u001b[39mThis is equivalent to fit followed by transform, but more efficiently\u001b[39;00m\n\u001b[1;32m   (...)\u001b[0m\n\u001b[0;32m   <a href='file:///c%3A/Users/Admin/.conda/envs/myenv/lib/site-packages/sklearn/feature_extraction/text.py?line=2073'>2074</a>\u001b[0m \u001b[39m    Tf-idf-weighted document-term matrix.\u001b[39;00m\n\u001b[0;32m   <a href='file:///c%3A/Users/Admin/.conda/envs/myenv/lib/site-packages/sklearn/feature_extraction/text.py?line=2074'>2075</a>\u001b[0m \u001b[39m\"\"\"\u001b[39;00m\n\u001b[0;32m   <a href='file:///c%3A/Users/Admin/.conda/envs/myenv/lib/site-packages/sklearn/feature_extraction/text.py?line=2075'>2076</a>\u001b[0m \u001b[39mself\u001b[39m\u001b[39m.\u001b[39m_check_params()\n\u001b[1;32m-> <a href='file:///c%3A/Users/Admin/.conda/envs/myenv/lib/site-packages/sklearn/feature_extraction/text.py?line=2076'>2077</a>\u001b[0m X \u001b[39m=\u001b[39m \u001b[39msuper\u001b[39;49m()\u001b[39m.\u001b[39;49mfit_transform(raw_documents)\n\u001b[0;32m   <a href='file:///c%3A/Users/Admin/.conda/envs/myenv/lib/site-packages/sklearn/feature_extraction/text.py?line=2077'>2078</a>\u001b[0m \u001b[39mself\u001b[39m\u001b[39m.\u001b[39m_tfidf\u001b[39m.\u001b[39mfit(X)\n\u001b[0;32m   <a href='file:///c%3A/Users/Admin/.conda/envs/myenv/lib/site-packages/sklearn/feature_extraction/text.py?line=2078'>2079</a>\u001b[0m \u001b[39m# X is already a transformed view of raw_documents so\u001b[39;00m\n\u001b[0;32m   <a href='file:///c%3A/Users/Admin/.conda/envs/myenv/lib/site-packages/sklearn/feature_extraction/text.py?line=2079'>2080</a>\u001b[0m \u001b[39m# we set copy to False\u001b[39;00m\n",
      "File \u001b[1;32m~\\.conda\\envs\\myenv\\lib\\site-packages\\sklearn\\feature_extraction\\text.py:1330\u001b[0m, in \u001b[0;36mCountVectorizer.fit_transform\u001b[1;34m(self, raw_documents, y)\u001b[0m\n\u001b[0;32m   <a href='file:///c%3A/Users/Admin/.conda/envs/myenv/lib/site-packages/sklearn/feature_extraction/text.py?line=1321'>1322</a>\u001b[0m             warnings\u001b[39m.\u001b[39mwarn(\n\u001b[0;32m   <a href='file:///c%3A/Users/Admin/.conda/envs/myenv/lib/site-packages/sklearn/feature_extraction/text.py?line=1322'>1323</a>\u001b[0m                 \u001b[39m\"\u001b[39m\u001b[39mUpper case characters found in\u001b[39m\u001b[39m\"\u001b[39m\n\u001b[0;32m   <a href='file:///c%3A/Users/Admin/.conda/envs/myenv/lib/site-packages/sklearn/feature_extraction/text.py?line=1323'>1324</a>\u001b[0m                 \u001b[39m\"\u001b[39m\u001b[39m vocabulary while \u001b[39m\u001b[39m'\u001b[39m\u001b[39mlowercase\u001b[39m\u001b[39m'\u001b[39m\u001b[39m\"\u001b[39m\n\u001b[0;32m   <a href='file:///c%3A/Users/Admin/.conda/envs/myenv/lib/site-packages/sklearn/feature_extraction/text.py?line=1324'>1325</a>\u001b[0m                 \u001b[39m\"\u001b[39m\u001b[39m is True. These entries will not\u001b[39m\u001b[39m\"\u001b[39m\n\u001b[0;32m   <a href='file:///c%3A/Users/Admin/.conda/envs/myenv/lib/site-packages/sklearn/feature_extraction/text.py?line=1325'>1326</a>\u001b[0m                 \u001b[39m\"\u001b[39m\u001b[39m be matched with any documents\u001b[39m\u001b[39m\"\u001b[39m\n\u001b[0;32m   <a href='file:///c%3A/Users/Admin/.conda/envs/myenv/lib/site-packages/sklearn/feature_extraction/text.py?line=1326'>1327</a>\u001b[0m             )\n\u001b[0;32m   <a href='file:///c%3A/Users/Admin/.conda/envs/myenv/lib/site-packages/sklearn/feature_extraction/text.py?line=1327'>1328</a>\u001b[0m             \u001b[39mbreak\u001b[39;00m\n\u001b[1;32m-> <a href='file:///c%3A/Users/Admin/.conda/envs/myenv/lib/site-packages/sklearn/feature_extraction/text.py?line=1329'>1330</a>\u001b[0m vocabulary, X \u001b[39m=\u001b[39m \u001b[39mself\u001b[39;49m\u001b[39m.\u001b[39;49m_count_vocab(raw_documents, \u001b[39mself\u001b[39;49m\u001b[39m.\u001b[39;49mfixed_vocabulary_)\n\u001b[0;32m   <a href='file:///c%3A/Users/Admin/.conda/envs/myenv/lib/site-packages/sklearn/feature_extraction/text.py?line=1331'>1332</a>\u001b[0m \u001b[39mif\u001b[39;00m \u001b[39mself\u001b[39m\u001b[39m.\u001b[39mbinary:\n\u001b[0;32m   <a href='file:///c%3A/Users/Admin/.conda/envs/myenv/lib/site-packages/sklearn/feature_extraction/text.py?line=1332'>1333</a>\u001b[0m     X\u001b[39m.\u001b[39mdata\u001b[39m.\u001b[39mfill(\u001b[39m1\u001b[39m)\n",
      "File \u001b[1;32m~\\.conda\\envs\\myenv\\lib\\site-packages\\sklearn\\feature_extraction\\text.py:1201\u001b[0m, in \u001b[0;36mCountVectorizer._count_vocab\u001b[1;34m(self, raw_documents, fixed_vocab)\u001b[0m\n\u001b[0;32m   <a href='file:///c%3A/Users/Admin/.conda/envs/myenv/lib/site-packages/sklearn/feature_extraction/text.py?line=1198'>1199</a>\u001b[0m \u001b[39mfor\u001b[39;00m doc \u001b[39min\u001b[39;00m raw_documents:\n\u001b[0;32m   <a href='file:///c%3A/Users/Admin/.conda/envs/myenv/lib/site-packages/sklearn/feature_extraction/text.py?line=1199'>1200</a>\u001b[0m     feature_counter \u001b[39m=\u001b[39m {}\n\u001b[1;32m-> <a href='file:///c%3A/Users/Admin/.conda/envs/myenv/lib/site-packages/sklearn/feature_extraction/text.py?line=1200'>1201</a>\u001b[0m     \u001b[39mfor\u001b[39;00m feature \u001b[39min\u001b[39;00m analyze(doc):\n\u001b[0;32m   <a href='file:///c%3A/Users/Admin/.conda/envs/myenv/lib/site-packages/sklearn/feature_extraction/text.py?line=1201'>1202</a>\u001b[0m         \u001b[39mtry\u001b[39;00m:\n\u001b[0;32m   <a href='file:///c%3A/Users/Admin/.conda/envs/myenv/lib/site-packages/sklearn/feature_extraction/text.py?line=1202'>1203</a>\u001b[0m             feature_idx \u001b[39m=\u001b[39m vocabulary[feature]\n",
      "File \u001b[1;32m~\\.conda\\envs\\myenv\\lib\\site-packages\\sklearn\\feature_extraction\\text.py:115\u001b[0m, in \u001b[0;36m_analyze\u001b[1;34m(doc, analyzer, tokenizer, ngrams, preprocessor, decoder, stop_words)\u001b[0m\n\u001b[0;32m    <a href='file:///c%3A/Users/Admin/.conda/envs/myenv/lib/site-packages/sklearn/feature_extraction/text.py?line=112'>113</a>\u001b[0m     doc \u001b[39m=\u001b[39m preprocessor(doc)\n\u001b[0;32m    <a href='file:///c%3A/Users/Admin/.conda/envs/myenv/lib/site-packages/sklearn/feature_extraction/text.py?line=113'>114</a>\u001b[0m \u001b[39mif\u001b[39;00m tokenizer \u001b[39mis\u001b[39;00m \u001b[39mnot\u001b[39;00m \u001b[39mNone\u001b[39;00m:\n\u001b[1;32m--> <a href='file:///c%3A/Users/Admin/.conda/envs/myenv/lib/site-packages/sklearn/feature_extraction/text.py?line=114'>115</a>\u001b[0m     doc \u001b[39m=\u001b[39m tokenizer(doc)\n\u001b[0;32m    <a href='file:///c%3A/Users/Admin/.conda/envs/myenv/lib/site-packages/sklearn/feature_extraction/text.py?line=115'>116</a>\u001b[0m \u001b[39mif\u001b[39;00m ngrams \u001b[39mis\u001b[39;00m \u001b[39mnot\u001b[39;00m \u001b[39mNone\u001b[39;00m:\n\u001b[0;32m    <a href='file:///c%3A/Users/Admin/.conda/envs/myenv/lib/site-packages/sklearn/feature_extraction/text.py?line=116'>117</a>\u001b[0m     \u001b[39mif\u001b[39;00m stop_words \u001b[39mis\u001b[39;00m \u001b[39mnot\u001b[39;00m \u001b[39mNone\u001b[39;00m:\n",
      "\u001b[1;32mc:\\Users\\Admin\\Desktop\\Github Desktop Local\\GA-Lessons\\project_3\\MultinomialNB_Model.ipynb Cell 35'\u001b[0m in \u001b[0;36mLemmaTokenizer.__call__\u001b[1;34m(self, articles)\u001b[0m\n\u001b[0;32m      <a href='vscode-notebook-cell:/c%3A/Users/Admin/Desktop/Github%20Desktop%20Local/GA-Lessons/project_3/MultinomialNB_Model.ipynb#ch0000022?line=6'>7</a>\u001b[0m \u001b[39mdef\u001b[39;00m \u001b[39m__call__\u001b[39m(\u001b[39mself\u001b[39m,articles):\n\u001b[1;32m----> <a href='vscode-notebook-cell:/c%3A/Users/Admin/Desktop/Github%20Desktop%20Local/GA-Lessons/project_3/MultinomialNB_Model.ipynb#ch0000022?line=7'>8</a>\u001b[0m     \u001b[39mreturn\u001b[39;00m [\u001b[39mself\u001b[39m\u001b[39m.\u001b[39mstem\u001b[39m.\u001b[39mstem(t) \u001b[39mfor\u001b[39;00m t \u001b[39min\u001b[39;00m word_tokenize(articles)]\n",
      "\u001b[1;32mc:\\Users\\Admin\\Desktop\\Github Desktop Local\\GA-Lessons\\project_3\\MultinomialNB_Model.ipynb Cell 35'\u001b[0m in \u001b[0;36m<listcomp>\u001b[1;34m(.0)\u001b[0m\n\u001b[0;32m      <a href='vscode-notebook-cell:/c%3A/Users/Admin/Desktop/Github%20Desktop%20Local/GA-Lessons/project_3/MultinomialNB_Model.ipynb#ch0000022?line=6'>7</a>\u001b[0m \u001b[39mdef\u001b[39;00m \u001b[39m__call__\u001b[39m(\u001b[39mself\u001b[39m,articles):\n\u001b[1;32m----> <a href='vscode-notebook-cell:/c%3A/Users/Admin/Desktop/Github%20Desktop%20Local/GA-Lessons/project_3/MultinomialNB_Model.ipynb#ch0000022?line=7'>8</a>\u001b[0m     \u001b[39mreturn\u001b[39;00m [\u001b[39mself\u001b[39;49m\u001b[39m.\u001b[39;49mstem\u001b[39m.\u001b[39mstem(t) \u001b[39mfor\u001b[39;00m t \u001b[39min\u001b[39;00m word_tokenize(articles)]\n",
      "\u001b[1;31mKeyboardInterrupt\u001b[0m: "
     ]
    }
   ],
   "source": [
    "X = df['selftext']\n",
    "y = df['subreddit']\n",
    "\n",
    "class LemmaTokenizer(object):\n",
    "    def __init__(self):\n",
    "        self.stem = PorterStemmer()\n",
    "    def __call__(self,articles):\n",
    "        return [self.stem.stem(t) for t in word_tokenize(articles)]\n",
    "\n",
    "\n",
    "#  Train test split \n",
    "X_train, X_test, y_train, y_test = train_test_split(X,\n",
    "                                                    y,\n",
    "                                                    test_size=0.33,\n",
    "                                                    stratify=y,\n",
    "                                                    random_state=42)\n",
    "\n",
    "pipe = Pipeline([\n",
    "    ('cvec', TfidfVectorizer(stop_words = stopwordlist, tokenizer= LemmaTokenizer())),\n",
    "    ('nb', MultinomialNB())\n",
    "])\n",
    "\n",
    "pipe_params = {\n",
    "    'cvec__max_features': [1_000],\n",
    "    'cvec__min_df': [.002],\n",
    "    'cvec__max_df': [.6],\n",
    "    'cvec__ngram_range': [(1,1), (1,2)],\n",
    "}\n",
    "\n",
    "gs = GridSearchCV(pipe, # what object are we optimizing?\n",
    "                  param_grid=pipe_params, # what parameters values are we searching?\n",
    "                  cv=5) # 5-fold cross-validation\n",
    "\n",
    "gs.fit(X_train, y_train)"
   ]
  },
  {
   "cell_type": "code",
   "execution_count": null,
   "metadata": {},
   "outputs": [
    {
     "data": {
      "text/plain": [
       "Pipeline(steps=[('cvec',\n",
       "                 TfidfVectorizer(max_df=0.6, max_features=1000, min_df=0.002,\n",
       "                                 stop_words=['i', 'me', 'my', 'myself', 'we',\n",
       "                                             'our', 'ours', 'ourselves', 'you',\n",
       "                                             \"you're\", \"you've\", \"you'll\",\n",
       "                                             \"you'd\", 'your', 'yours',\n",
       "                                             'yourself', 'yourselves', 'he',\n",
       "                                             'him', 'his', 'himself', 'she',\n",
       "                                             \"she's\", 'her', 'hers', 'herself',\n",
       "                                             'it', \"it's\", 'its', 'itself', ...],\n",
       "                                 tokenizer=<__main__.LemmaTokenizer object at 0x00000298490EB970>)),\n",
       "                ('nb', MultinomialNB())])"
      ]
     },
     "execution_count": 58,
     "metadata": {},
     "output_type": "execute_result"
    }
   ],
   "source": [
    "gs.best_estimator_\n"
   ]
  },
  {
   "cell_type": "code",
   "execution_count": null,
   "metadata": {},
   "outputs": [
    {
     "name": "stdout",
     "output_type": "stream",
     "text": [
      "Best score: 0.7998381487571122\n",
      "Best training score: 0.8080005882785499\n",
      "Best test score: 0.8087774294670846\n"
     ]
    }
   ],
   "source": [
    "# What's the best score?\n",
    "print('Best score:', gs.best_score_)\n",
    "\n",
    "# Score model on training set.\n",
    "print('Best training score:', gs.score(X_train, y_train))\n",
    "  \n",
    "# Score model on testing set.\n",
    "print('Best test score:', gs.score(X_test, y_test))"
   ]
  },
  {
   "cell_type": "code",
   "execution_count": null,
   "metadata": {},
   "outputs": [
    {
     "data": {
      "image/png": "[encoded data removed]",
      "text/plain": [
       "<Figure size 432x288 with 2 Axes>"
      ]
     },
     "metadata": {
      "needs_background": "light"
     },
     "output_type": "display_data"
    }
   ],
   "source": [
    "# Get predictions\n",
    "preds = gs.predict(X_test)\n",
    "\n",
    "# Save confusion matrix values\n",
    "tn, fp, fn, tp = confusion_matrix(y_test, preds).ravel()\n",
    "\n",
    "# View confusion matrix\n",
    "cmd = plot_confusion_matrix(gs, X_test, y_test, cmap='Blues', values_format='d', display_labels=['General Anxiety','PTSD'])\n",
    "cmd.ax_.set(xlabel='Predicted', ylabel='True');"
   ]
  },
  {
   "cell_type": "code",
   "execution_count": null,
   "metadata": {},
   "outputs": [
    {
     "data": {
      "text/html": [
       "<div>\n",
       "<style scoped>\n",
       "    .dataframe tbody tr th:only-of-type {\n",
       "        vertical-align: middle;\n",
       "    }\n",
       "\n",
       "    .dataframe tbody tr th {\n",
       "        vertical-align: top;\n",
       "    }\n",
       "\n",
       "    .dataframe thead th {\n",
       "        text-align: right;\n",
       "    }\n",
       "</style>\n",
       "<table border=\"1\" class=\"dataframe\">\n",
       "  <thead>\n",
       "    <tr style=\"text-align: right;\">\n",
       "      <th></th>\n",
       "      <th>Features</th>\n",
       "      <th>Probability_PTSD</th>\n",
       "    </tr>\n",
       "  </thead>\n",
       "  <tbody>\n",
       "    <tr>\n",
       "      <th>356</th>\n",
       "      <td>flashback</td>\n",
       "      <td>57.169785</td>\n",
       "    </tr>\n",
       "    <tr>\n",
       "      <th>706</th>\n",
       "      <td>rape</td>\n",
       "      <td>55.580035</td>\n",
       "    </tr>\n",
       "    <tr>\n",
       "      <th>103</th>\n",
       "      <td>assault</td>\n",
       "      <td>29.973813</td>\n",
       "    </tr>\n",
       "    <tr>\n",
       "      <th>42</th>\n",
       "      <td>abus</td>\n",
       "      <td>14.869021</td>\n",
       "    </tr>\n",
       "    <tr>\n",
       "      <th>293</th>\n",
       "      <td>emdr</td>\n",
       "      <td>11.873103</td>\n",
       "    </tr>\n",
       "    <tr>\n",
       "      <th>778</th>\n",
       "      <td>sexual</td>\n",
       "      <td>10.409478</td>\n",
       "    </tr>\n",
       "    <tr>\n",
       "      <th>608</th>\n",
       "      <td>nightmar</td>\n",
       "      <td>8.225898</td>\n",
       "    </tr>\n",
       "    <tr>\n",
       "      <th>937</th>\n",
       "      <td>victim</td>\n",
       "      <td>7.568245</td>\n",
       "    </tr>\n",
       "    <tr>\n",
       "      <th>260</th>\n",
       "      <td>dissoci</td>\n",
       "      <td>6.386084</td>\n",
       "    </tr>\n",
       "    <tr>\n",
       "      <th>562</th>\n",
       "      <td>memori</td>\n",
       "      <td>6.039942</td>\n",
       "    </tr>\n",
       "    <tr>\n",
       "      <th>180</th>\n",
       "      <td>childhood</td>\n",
       "      <td>5.774831</td>\n",
       "    </tr>\n",
       "    <tr>\n",
       "      <th>252</th>\n",
       "      <td>diagnosi</td>\n",
       "      <td>5.462144</td>\n",
       "    </tr>\n",
       "    <tr>\n",
       "      <th>548</th>\n",
       "      <td>manipul</td>\n",
       "      <td>5.352985</td>\n",
       "    </tr>\n",
       "    <tr>\n",
       "      <th>672</th>\n",
       "      <td>polic</td>\n",
       "      <td>5.307594</td>\n",
       "    </tr>\n",
       "    <tr>\n",
       "      <th>427</th>\n",
       "      <td>heal</td>\n",
       "      <td>5.176390</td>\n",
       "    </tr>\n",
       "    <tr>\n",
       "      <th>939</th>\n",
       "      <td>violent</td>\n",
       "      <td>4.942664</td>\n",
       "    </tr>\n",
       "    <tr>\n",
       "      <th>921</th>\n",
       "      <td>tw</td>\n",
       "      <td>4.802959</td>\n",
       "    </tr>\n",
       "    <tr>\n",
       "      <th>759</th>\n",
       "      <td>scream</td>\n",
       "      <td>4.485026</td>\n",
       "    </tr>\n",
       "    <tr>\n",
       "      <th>563</th>\n",
       "      <td>men</td>\n",
       "      <td>4.443334</td>\n",
       "    </tr>\n",
       "    <tr>\n",
       "      <th>913</th>\n",
       "      <td>trigger</td>\n",
       "      <td>4.122405</td>\n",
       "    </tr>\n",
       "    <tr>\n",
       "      <th>315</th>\n",
       "      <td>ex</td>\n",
       "      <td>4.048834</td>\n",
       "    </tr>\n",
       "    <tr>\n",
       "      <th>886</th>\n",
       "      <td>threaten</td>\n",
       "      <td>4.026013</td>\n",
       "    </tr>\n",
       "    <tr>\n",
       "      <th>469</th>\n",
       "      <td>incid</td>\n",
       "      <td>3.993417</td>\n",
       "    </tr>\n",
       "    <tr>\n",
       "      <th>79</th>\n",
       "      <td>anger</td>\n",
       "      <td>3.853595</td>\n",
       "    </tr>\n",
       "    <tr>\n",
       "      <th>179</th>\n",
       "      <td>child</td>\n",
       "      <td>3.705072</td>\n",
       "    </tr>\n",
       "    <tr>\n",
       "      <th>259</th>\n",
       "      <td>disgust</td>\n",
       "      <td>3.698187</td>\n",
       "    </tr>\n",
       "    <tr>\n",
       "      <th>339</th>\n",
       "      <td>father</td>\n",
       "      <td>3.656166</td>\n",
       "    </tr>\n",
       "    <tr>\n",
       "      <th>990</th>\n",
       "      <td>yell</td>\n",
       "      <td>3.546842</td>\n",
       "    </tr>\n",
       "    <tr>\n",
       "      <th>249</th>\n",
       "      <td>detail</td>\n",
       "      <td>3.541063</td>\n",
       "    </tr>\n",
       "    <tr>\n",
       "      <th>307</th>\n",
       "      <td>event</td>\n",
       "      <td>3.344467</td>\n",
       "    </tr>\n",
       "  </tbody>\n",
       "</table>\n",
       "</div>"
      ],
      "text/plain": [
       "      Features  Probability_PTSD\n",
       "356  flashback         57.169785\n",
       "706       rape         55.580035\n",
       "103    assault         29.973813\n",
       "42        abus         14.869021\n",
       "293       emdr         11.873103\n",
       "778     sexual         10.409478\n",
       "608   nightmar          8.225898\n",
       "937     victim          7.568245\n",
       "260    dissoci          6.386084\n",
       "562     memori          6.039942\n",
       "180  childhood          5.774831\n",
       "252   diagnosi          5.462144\n",
       "548    manipul          5.352985\n",
       "672      polic          5.307594\n",
       "427       heal          5.176390\n",
       "939    violent          4.942664\n",
       "921         tw          4.802959\n",
       "759     scream          4.485026\n",
       "563        men          4.443334\n",
       "913    trigger          4.122405\n",
       "315         ex          4.048834\n",
       "886   threaten          4.026013\n",
       "469      incid          3.993417\n",
       "79       anger          3.853595\n",
       "179      child          3.705072\n",
       "259    disgust          3.698187\n",
       "339     father          3.656166\n",
       "990       yell          3.546842\n",
       "249     detail          3.541063\n",
       "307      event          3.344467"
      ]
     },
     "execution_count": 64,
     "metadata": {},
     "output_type": "execute_result"
    }
   ],
   "source": [
    "# to create delta between the log probabilities between two classes\n",
    "delta = gs.best_estimator_[1].feature_log_prob_[1, :] - gs.best_estimator_[1].feature_log_prob_[0, :]\n",
    "\n",
    "# Create Df and filter top few log prob \n",
    "df_multinomial = pd.DataFrame([[x,y] for x,y in zip(gs.best_estimator_[0].get_feature_names(), np.exp(delta))])\n",
    "df_multinomial.rename(columns= {0: 'Features', 1: 'Probability_PTSD'}, inplace = True)\n",
    "df_multinomial.sort_values(by = 'Probability_PTSD', ascending = False).head(30)\n"
   ]
  },
  {
   "cell_type": "code",
   "execution_count": null,
   "metadata": {},
   "outputs": [
    {
     "name": "stdout",
     "output_type": "stream",
     "text": [
      "flashback flashback abuse abused\n"
     ]
    }
   ],
   "source": [
    "def lemmetize_print(words):\n",
    "     from nltk.stem import WordNetLemmatizer\n",
    "     from nltk.tokenize import word_tokenize\n",
    "     lemmatizer = WordNetLemmatizer()\n",
    "     a = []\n",
    "     tokens = word_tokenize(words)\n",
    "     for token in tokens:\n",
    "          if token in ['abused']:\n",
    "              a.append('abuse')\n",
    "          lemmetized_word = lemmatizer.lemmatize(token)\n",
    "          a.append(lemmetized_word)\n",
    "     sentence = \" \".join(a)\n",
    "     print(sentence)\n",
    "\n",
    "\n",
    "\n",
    "text = 'flashbacks flashback abused'\n",
    "\n",
    "lemmetize_print(text)"
   ]
  },
  {
   "cell_type": "code",
   "execution_count": null,
   "metadata": {},
   "outputs": [
    {
     "name": "stdout",
     "output_type": "stream",
     "text": [
      "flashback flashback abus\n"
     ]
    }
   ],
   "source": [
    "stemmer = PorterStemmer()\n",
    "\n",
    "\n",
    "def lemmetize_print(words):\n",
    "     stemmer = PorterStemmer()\n",
    "     a = []\n",
    "     tokens = word_tokenize(words)\n",
    "     for token in tokens:\n",
    "          lemmetized_word = stemmer.stem(token)\n",
    "          a.append(lemmetized_word)\n",
    "     sentence = \" \".join(a)\n",
    "     print(sentence)\n",
    "\n",
    "\n",
    "text = 'flashbacks flashback abuser'\n",
    "\n",
    "lemmetize_print(text)"
   ]
  }
 ],
 "metadata": {
  "interpreter": {
   "hash": "b3ba2566441a7c06988d0923437866b63cedc61552a5af99d1f4fb67d367b25f"
  },
  "kernelspec": {
   "display_name": "Python 3.8.8 ('base')",
   "language": "python",
   "name": "python3"
  },
  "language_info": {
   "codemirror_mode": {
    "name": "ipython",
    "version": 3
   },
   "file_extension": ".py",
   "mimetype": "text/x-python",
   "name": "python",
   "nbconvert_exporter": "python",
   "pygments_lexer": "ipython3",
   "version": "3.9.7"
  },
  "orig_nbformat": 4
 },
 "nbformat": 4,
 "nbformat_minor": 2
}
