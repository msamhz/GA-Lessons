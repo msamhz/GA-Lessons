{
 "cells": [
  {
   "cell_type": "markdown",
   "metadata": {},
   "source": [
    "## Import"
   ]
  },
  {
   "cell_type": "code",
   "execution_count": 1,
   "metadata": {},
   "outputs": [],
   "source": [
    "import pandas as pd\n",
    "import requests\n",
    "import string\n",
    "string.punctuation\n",
    "import re\n",
    "import nltk\n",
    "from nltk.stem import WordNetLemmatizer\n",
    "import numpy as np\n",
    "import seaborn as sns\n",
    "import matplotlib.pyplot as plt\n",
    "\n",
    "\n",
    "from sklearn.neighbors import KNeighborsClassifier\n",
    "from sklearn.metrics import confusion_matrix, plot_confusion_matrix\n",
    "from transformers import pipeline\n",
    "from sklearn.pipeline import Pipeline\n",
    "from sklearn.linear_model import LogisticRegression\n",
    "from sklearn.feature_extraction.text import CountVectorizer, TfidfVectorizer\n",
    "from sklearn.naive_bayes import MultinomialNB\n",
    "from sklearn.feature_extraction.text import CountVectorizer, TfidfVectorizer\n",
    "from nltk import word_tokenize   \n",
    "from nltk.stem.porter import PorterStemmer\n",
    "from nltk.tokenize import sent_tokenize, word_tokenize, RegexpTokenizer\n",
    "import matplotlib.dates as mdate\n",
    "\n",
    "import gensim\n",
    "import gensim.downloader as api\n",
    "from gensim.models.word2vec import Word2Vec\n",
    "\n",
    "\n",
    "from sklearn.model_selection import(\n",
    "    cross_val_score,\n",
    "    train_test_split,\n",
    "    GridSearchCV\n",
    ")\n",
    "\n",
    "from sklearn.preprocessing import (\n",
    "    StandardScaler,\n",
    "    PolynomialFeatures\n",
    ")\n",
    "from datetime import timezone\n",
    "import datetime\n",
    "\n",
    "pd.set_option('display.max_colwidth', None)"
   ]
  },
  {
   "cell_type": "markdown",
   "metadata": {},
   "source": [
    "## Data importing and Cleaning"
   ]
  },
  {
   "cell_type": "code",
   "execution_count": 2,
   "metadata": {},
   "outputs": [],
   "source": [
    "df_ptsd1 = pd.read_csv('Data/PTSD.csv')\n",
    "df_ptsd2 = pd.read_csv('Data/PTSD2.csv')"
   ]
  },
  {
   "cell_type": "code",
   "execution_count": 3,
   "metadata": {},
   "outputs": [
    {
     "data": {
      "text/plain": [
       "(10122, 7)"
      ]
     },
     "execution_count": 3,
     "metadata": {},
     "output_type": "execute_result"
    }
   ],
   "source": [
    "df_ptsd1.shape"
   ]
  },
  {
   "cell_type": "code",
   "execution_count": 4,
   "metadata": {},
   "outputs": [
    {
     "data": {
      "text/plain": [
       "(10122, 6)"
      ]
     },
     "execution_count": 4,
     "metadata": {},
     "output_type": "execute_result"
    }
   ],
   "source": [
    "df_ptsd2.shape"
   ]
  },
  {
   "cell_type": "code",
   "execution_count": 5,
   "metadata": {},
   "outputs": [
    {
     "name": "stdout",
     "output_type": "stream",
     "text": [
      "(10122, 8)\n"
     ]
    }
   ],
   "source": [
    "# to create df_ptsd \n",
    "df_ptsd = pd.concat([df_ptsd1, df_ptsd2[['link_flair_css_class']]], axis = 1)\n",
    "print(df_ptsd.shape)"
   ]
  },
  {
   "cell_type": "code",
   "execution_count": 6,
   "metadata": {},
   "outputs": [],
   "source": [
    "df_anxiety = pd.read_csv('Data/Anxiety.csv')\n",
    "\n",
    "df_anxiety = df_anxiety.drop(columns = 'Unnamed: 0')\n",
    "df_ptsd.drop(columns = 'Unnamed: 0', inplace = True)\n",
    "\n",
    "df = pd.concat([df_ptsd,df_anxiety])\n",
    "df.reset_index(inplace = True)\n",
    "df.drop(columns = 'index', inplace = True)"
   ]
  },
  {
   "cell_type": "code",
   "execution_count": 7,
   "metadata": {},
   "outputs": [
    {
     "data": {
      "text/plain": [
       "array(['advice', 'discussion', 'support', 'success', 'venting', nan,\n",
       "       'meta', 'resource'], dtype=object)"
      ]
     },
     "execution_count": 7,
     "metadata": {},
     "output_type": "execute_result"
    }
   ],
   "source": [
    "df_ptsd2['link_flair_css_class'].unique()"
   ]
  },
  {
   "cell_type": "code",
   "execution_count": 8,
   "metadata": {},
   "outputs": [
    {
     "data": {
      "text/plain": [
       "array(['relationshipflair', 'adviceneeded', 'daeflair', 'venting',\n",
       "       'schoolflair', 'articleflair', 'books', 'medsflair', 'helpflair',\n",
       "       'lovedones', 'healthflair', 'discussion', 'amapost',\n",
       "       'introductions', 'helpfultips', 'victory-recurring', nan,\n",
       "       'drivingflair', 'progressflair', 'trigger', 'artflair',\n",
       "       'relaxingimgs', 'announcements', 'studyflair'], dtype=object)"
      ]
     },
     "execution_count": 8,
     "metadata": {},
     "output_type": "execute_result"
    }
   ],
   "source": [
    "# both subreddits has venting as their filter \n",
    "df_anxiety['link_flair_css_class'].unique()"
   ]
  },
  {
   "cell_type": "code",
   "execution_count": 9,
   "metadata": {},
   "outputs": [
    {
     "data": {
      "text/plain": [
       "(20229, 7)"
      ]
     },
     "execution_count": 9,
     "metadata": {},
     "output_type": "execute_result"
    }
   ],
   "source": [
    "df.shape"
   ]
  },
  {
   "cell_type": "code",
   "execution_count": 10,
   "metadata": {},
   "outputs": [],
   "source": [
    "# create all text column for self text and title combined \n",
    "\n",
    "df['alltext'] = df['selftext'] + ' ' + df['title']"
   ]
  },
  {
   "cell_type": "code",
   "execution_count": 11,
   "metadata": {},
   "outputs": [],
   "source": [
    "# to create calculate length of text and title \n",
    "\n",
    "df['length_text'] = df['alltext'].map(lambda x: len(x))"
   ]
  },
  {
   "cell_type": "code",
   "execution_count": 12,
   "metadata": {},
   "outputs": [],
   "source": [
    "# to create calculate status word cout of text and title \n",
    "tokenizer = RegexpTokenizer('\\s+', gaps=True)\n",
    "\n",
    "def tokenizer_func(text):\n",
    "    return len(tokenizer.tokenize(text))\n",
    "\n",
    "df['wrdcount_text'] = df['alltext'].apply(lambda x: tokenizer_func(x))"
   ]
  },
  {
   "cell_type": "code",
   "execution_count": 66,
   "metadata": {},
   "outputs": [],
   "source": [
    "# define function to remove punctuation and remove \\n\n",
    "def remove_punctuation(text):\n",
    "    punctuationfree=\"\".join([i for i in text if i not in string.punctuation])\n",
    "    punctuationfree = ' '.join([sentence for sentence in punctuationfree.split('\\n') if sentence != ''])\n",
    "    return punctuationfree\n",
    "\n",
    "df['clean_text'] = df['alltext'].apply(lambda x: x.lower())   \n",
    "df['clean_text']= df['clean_text'].apply(lambda x: remove_punctuation(x))   "
   ]
  },
  {
   "cell_type": "code",
   "execution_count": 15,
   "metadata": {},
   "outputs": [
    {
     "data": {
      "text/plain": [
       "author                   0\n",
       "subreddit                0\n",
       "selftext                 0\n",
       "title                    0\n",
       "created_utc              0\n",
       "datetime                 0\n",
       "link_flair_css_class    73\n",
       "alltext                  0\n",
       "length_text              0\n",
       "wrdcount_text            0\n",
       "clean_text               0\n",
       "clean2_text              0\n",
       "dtype: int64"
      ]
     },
     "execution_count": 15,
     "metadata": {},
     "output_type": "execute_result"
    }
   ],
   "source": [
    "# found NAN coming from the link filter\n",
    "df.isnull().sum()"
   ]
  },
  {
   "cell_type": "code",
   "execution_count": 16,
   "metadata": {},
   "outputs": [],
   "source": [
    "# drop rows that has no link to any sub flair\n",
    "df.dropna(inplace = True)"
   ]
  },
  {
   "cell_type": "code",
   "execution_count": 17,
   "metadata": {},
   "outputs": [
    {
     "data": {
      "text/html": [
       "<div>\n",
       "<style scoped>\n",
       "    .dataframe tbody tr th:only-of-type {\n",
       "        vertical-align: middle;\n",
       "    }\n",
       "\n",
       "    .dataframe tbody tr th {\n",
       "        vertical-align: top;\n",
       "    }\n",
       "\n",
       "    .dataframe thead th {\n",
       "        text-align: right;\n",
       "    }\n",
       "</style>\n",
       "<table border=\"1\" class=\"dataframe\">\n",
       "  <thead>\n",
       "    <tr style=\"text-align: right;\">\n",
       "      <th></th>\n",
       "      <th>author</th>\n",
       "      <th>subreddit</th>\n",
       "    </tr>\n",
       "  </thead>\n",
       "  <tbody>\n",
       "    <tr>\n",
       "      <th>0</th>\n",
       "      <td>---Scotty---</td>\n",
       "      <td>1</td>\n",
       "    </tr>\n",
       "    <tr>\n",
       "      <th>1</th>\n",
       "      <td>--A-lost-soul--</td>\n",
       "      <td>1</td>\n",
       "    </tr>\n",
       "    <tr>\n",
       "      <th>2</th>\n",
       "      <td>--Eug--</td>\n",
       "      <td>1</td>\n",
       "    </tr>\n",
       "    <tr>\n",
       "      <th>3</th>\n",
       "      <td>--Nature--</td>\n",
       "      <td>1</td>\n",
       "    </tr>\n",
       "    <tr>\n",
       "      <th>4</th>\n",
       "      <td>-7hr0w4w4y-</td>\n",
       "      <td>1</td>\n",
       "    </tr>\n",
       "    <tr>\n",
       "      <th>...</th>\n",
       "      <td>...</td>\n",
       "      <td>...</td>\n",
       "    </tr>\n",
       "    <tr>\n",
       "      <th>13514</th>\n",
       "      <td>zwitterion76</td>\n",
       "      <td>1</td>\n",
       "    </tr>\n",
       "    <tr>\n",
       "      <th>13515</th>\n",
       "      <td>zylonrave</td>\n",
       "      <td>1</td>\n",
       "    </tr>\n",
       "    <tr>\n",
       "      <th>13516</th>\n",
       "      <td>zynopsis61</td>\n",
       "      <td>1</td>\n",
       "    </tr>\n",
       "    <tr>\n",
       "      <th>13517</th>\n",
       "      <td>zzfailureloser123</td>\n",
       "      <td>1</td>\n",
       "    </tr>\n",
       "    <tr>\n",
       "      <th>13518</th>\n",
       "      <td>zzzzzbubbly</td>\n",
       "      <td>6</td>\n",
       "    </tr>\n",
       "  </tbody>\n",
       "</table>\n",
       "<p>13519 rows × 2 columns</p>\n",
       "</div>"
      ],
      "text/plain": [
       "                  author  subreddit\n",
       "0           ---Scotty---          1\n",
       "1        --A-lost-soul--          1\n",
       "2                --Eug--          1\n",
       "3             --Nature--          1\n",
       "4            -7hr0w4w4y-          1\n",
       "...                  ...        ...\n",
       "13514       zwitterion76          1\n",
       "13515          zylonrave          1\n",
       "13516         zynopsis61          1\n",
       "13517  zzfailureloser123          1\n",
       "13518        zzzzzbubbly          6\n",
       "\n",
       "[13519 rows x 2 columns]"
      ]
     },
     "execution_count": 17,
     "metadata": {},
     "output_type": "execute_result"
    }
   ],
   "source": [
    "unique_counts = pd.DataFrame(df.groupby('author')['subreddit'].count())\n",
    "unique_counts.reset_index(inplace = True)\n",
    "unique_counts"
   ]
  },
  {
   "cell_type": "code",
   "execution_count": 18,
   "metadata": {},
   "outputs": [],
   "source": [
    "# To create one column called ttl_post to append total number of post for each user\n",
    "# TO BE USED ONLY using unique_users dataframe below \n",
    "df = df.merge(unique_counts, on = 'author')\n",
    "df.rename(columns = {'subreddit_x': 'subreddit', 'subreddit_y': 'ttl_post'}, inplace = True)"
   ]
  },
  {
   "cell_type": "code",
   "execution_count": 19,
   "metadata": {},
   "outputs": [],
   "source": [
    "# change Ptsd to 1 and Anxiety to 0\n",
    "\n",
    "df['subreddit'] = df['subreddit'].map(lambda x: 1 if x == 'ptsd' else 0)"
   ]
  },
  {
   "cell_type": "code",
   "execution_count": 20,
   "metadata": {},
   "outputs": [],
   "source": [
    "# Converting 'created_utc' column from epoch time to datetime object.\n",
    "\n",
    "df['datetime'] = df['created_utc'].map(lambda ts: datetime.datetime.fromtimestamp(ts))"
   ]
  },
  {
   "cell_type": "code",
   "execution_count": 21,
   "metadata": {},
   "outputs": [],
   "source": [
    "# Find difference in terms of days from first post till last post per author\n",
    "def find_earliest_date(col):\n",
    "    author = col\n",
    "    max = df[df['author'] == author]['created_utc'].max()\n",
    "    min = df[df['author'] == author]['created_utc'].min()    \n",
    "    return (pd.to_datetime(max, unit = 's').to_pydatetime() - pd.to_datetime(min, unit = 's').to_pydatetime()).days\n",
    "\n",
    "# apply function to create column for duration from last post \n",
    "# to be used only using unique_users dataframe below \n",
    "\n",
    "df['duration_last_post'] = df['author'].apply(lambda x: find_earliest_date(x)).fillna(0)"
   ]
  },
  {
   "cell_type": "code",
   "execution_count": 22,
   "metadata": {},
   "outputs": [],
   "source": [
    "# to create reference list for identify columns with ptsd/anxiety or both\n",
    "unique_list_for_ptsd = df[df['subreddit'] == 1]['author'].unique().tolist()\n",
    "unique_list_for_anxiety = df[df['subreddit'] == 0]['author'].unique().tolist()\n",
    "\n",
    "\n",
    "# def function that labels  ptsd_only, anxiety_only , both\n",
    "\n",
    "def identify_users(user):\n",
    "    if (user in unique_list_for_ptsd) & (user not in unique_list_for_anxiety):\n",
    "        return 'ptsd_only'\n",
    "\n",
    "    elif (user not in unique_list_for_ptsd) & (user in unique_list_for_anxiety):\n",
    "        return 'anxiety_only'\n",
    "\n",
    "    else:\n",
    "        return 'both'\n",
    "\n",
    "\n",
    "df['user_contribute_where'] = df['author'].apply(identify_users)"
   ]
  },
  {
   "cell_type": "code",
   "execution_count": 23,
   "metadata": {},
   "outputs": [
    {
     "data": {
      "text/html": [
       "<div>\n",
       "<style scoped>\n",
       "    .dataframe tbody tr th:only-of-type {\n",
       "        vertical-align: middle;\n",
       "    }\n",
       "\n",
       "    .dataframe tbody tr th {\n",
       "        vertical-align: top;\n",
       "    }\n",
       "\n",
       "    .dataframe thead th {\n",
       "        text-align: right;\n",
       "    }\n",
       "</style>\n",
       "<table border=\"1\" class=\"dataframe\">\n",
       "  <thead>\n",
       "    <tr style=\"text-align: right;\">\n",
       "      <th></th>\n",
       "      <th>0</th>\n",
       "    </tr>\n",
       "  </thead>\n",
       "  <tbody>\n",
       "    <tr>\n",
       "      <th>0</th>\n",
       "      <td>chicken_soup67</td>\n",
       "    </tr>\n",
       "    <tr>\n",
       "      <th>1</th>\n",
       "      <td>Rose_David163</td>\n",
       "    </tr>\n",
       "    <tr>\n",
       "      <th>2</th>\n",
       "      <td>leahjeank</td>\n",
       "    </tr>\n",
       "    <tr>\n",
       "      <th>3</th>\n",
       "      <td>ExchangePowerful3225</td>\n",
       "    </tr>\n",
       "    <tr>\n",
       "      <th>4</th>\n",
       "      <td>misstasia</td>\n",
       "    </tr>\n",
       "    <tr>\n",
       "      <th>...</th>\n",
       "      <td>...</td>\n",
       "    </tr>\n",
       "    <tr>\n",
       "      <th>13514</th>\n",
       "      <td>kotek96</td>\n",
       "    </tr>\n",
       "    <tr>\n",
       "      <th>13515</th>\n",
       "      <td>temp225566</td>\n",
       "    </tr>\n",
       "    <tr>\n",
       "      <th>13516</th>\n",
       "      <td>YungLedge</td>\n",
       "    </tr>\n",
       "    <tr>\n",
       "      <th>13517</th>\n",
       "      <td>soulflooo</td>\n",
       "    </tr>\n",
       "    <tr>\n",
       "      <th>13518</th>\n",
       "      <td>throwaway12991323</td>\n",
       "    </tr>\n",
       "  </tbody>\n",
       "</table>\n",
       "<p>13519 rows × 1 columns</p>\n",
       "</div>"
      ],
      "text/plain": [
       "                          0\n",
       "0            chicken_soup67\n",
       "1             Rose_David163\n",
       "2                 leahjeank\n",
       "3      ExchangePowerful3225\n",
       "4                 misstasia\n",
       "...                     ...\n",
       "13514               kotek96\n",
       "13515            temp225566\n",
       "13516             YungLedge\n",
       "13517             soulflooo\n",
       "13518     throwaway12991323\n",
       "\n",
       "[13519 rows x 1 columns]"
      ]
     },
     "execution_count": 23,
     "metadata": {},
     "output_type": "execute_result"
    }
   ],
   "source": [
    "# checking shape of unique df\n",
    "pd.DataFrame(df['author'].unique())"
   ]
  },
  {
   "cell_type": "code",
   "execution_count": 24,
   "metadata": {},
   "outputs": [],
   "source": [
    "# create separate data frame to consist of only unique users \n",
    "unique_users = pd.DataFrame(df['author'].unique())\n",
    "unique_users = pd.concat([unique_users,df], axis = 1).dropna()\n",
    "unique_users.drop(columns = 0, inplace = True)"
   ]
  },
  {
   "cell_type": "code",
   "execution_count": 25,
   "metadata": {},
   "outputs": [
    {
     "data": {
      "text/plain": [
       "Index(['author', 'subreddit', 'selftext', 'title', 'created_utc', 'datetime',\n",
       "       'link_flair_css_class', 'alltext', 'length_text', 'wrdcount_text',\n",
       "       'clean_text', 'clean2_text', 'ttl_post', 'duration_last_post',\n",
       "       'user_contribute_where'],\n",
       "      dtype='object')"
      ]
     },
     "execution_count": 25,
     "metadata": {},
     "output_type": "execute_result"
    }
   ],
   "source": [
    "unique_users.columns"
   ]
  },
  {
   "cell_type": "code",
   "execution_count": 26,
   "metadata": {},
   "outputs": [],
   "source": [
    "# This dataframe is used to compare total post and duration from first to last post \n",
    "ptsd_unique = unique_users[unique_users['user_contribute_where'] == 'ptsd_only']\n",
    "anxiety_unique = unique_users[unique_users['user_contribute_where'] == 'anxiety_only']"
   ]
  },
  {
   "cell_type": "code",
   "execution_count": 27,
   "metadata": {},
   "outputs": [],
   "source": [
    "# creating dataframe for analysis on length and word counts. \n",
    "ptsd = df[df['subreddit'] == 1]\n",
    "anxiety = df[df['subreddit'] == 0]\n",
    "anxiety.reset_index(inplace = True)\n",
    "anxiety = anxiety.drop(columns = 'index')"
   ]
  },
  {
   "cell_type": "markdown",
   "metadata": {},
   "source": [
    "## Exploratory Data Analysis"
   ]
  },
  {
   "cell_type": "markdown",
   "metadata": {},
   "source": [
    "### Visualising Differences in subreddit activity levels"
   ]
  },
  {
   "cell_type": "code",
   "execution_count": 29,
   "metadata": {},
   "outputs": [
    {
     "name": "stdout",
     "output_type": "stream",
     "text": [
      "Number of users in r/PTSD only is 6189\n",
      "Number of users in r/Anxiety only is 7238\n",
      "Number of users in both subreddits is 92\n",
      "Total number of unique users is 13519\n"
     ]
    }
   ],
   "source": [
    "ptsd_user = len(df[df['user_contribute_where'] == 'ptsd_only']['author'].unique())\n",
    "anxiety_user = len(df[df['user_contribute_where'] == 'anxiety_only']['author'].unique())\n",
    "both_user = len(df[df['user_contribute_where'] == 'both']['author'].unique())\n",
    "\n",
    "print(f'Number of users in r/PTSD only is {ptsd_user}')\n",
    "print(f'Number of users in r/Anxiety only is {anxiety_user}')\n",
    "print(f'Number of users in both subreddits is {both_user}')\n",
    "\n",
    "print(f'Total number of unique users is {ptsd_user + anxiety_user + both_user}')"
   ]
  },
  {
   "cell_type": "markdown",
   "metadata": {},
   "source": [
    "Need to take note that there are 92 users who are using both subreddits, this may bring in ambiguity and inaccuracy as to whether or not these users has PTSD or not.\n",
    "\n",
    "When modeling, we can consider removing accounts from these users, and recalculate accuracy"
   ]
  },
  {
   "cell_type": "code",
   "execution_count": 30,
   "metadata": {},
   "outputs": [
    {
     "data": {
      "text/html": [
       "<div>\n",
       "<style scoped>\n",
       "    .dataframe tbody tr th:only-of-type {\n",
       "        vertical-align: middle;\n",
       "    }\n",
       "\n",
       "    .dataframe tbody tr th {\n",
       "        vertical-align: top;\n",
       "    }\n",
       "\n",
       "    .dataframe thead tr th {\n",
       "        text-align: left;\n",
       "    }\n",
       "\n",
       "    .dataframe thead tr:last-of-type th {\n",
       "        text-align: right;\n",
       "    }\n",
       "</style>\n",
       "<table border=\"1\" class=\"dataframe\">\n",
       "  <thead>\n",
       "    <tr>\n",
       "      <th></th>\n",
       "      <th colspan=\"2\" halign=\"left\">length_text</th>\n",
       "      <th colspan=\"2\" halign=\"left\">wrdcount_text</th>\n",
       "    </tr>\n",
       "    <tr>\n",
       "      <th></th>\n",
       "      <th>count</th>\n",
       "      <th>mean</th>\n",
       "      <th>count</th>\n",
       "      <th>mean</th>\n",
       "    </tr>\n",
       "    <tr>\n",
       "      <th>subreddit</th>\n",
       "      <th></th>\n",
       "      <th></th>\n",
       "      <th></th>\n",
       "      <th></th>\n",
       "    </tr>\n",
       "  </thead>\n",
       "  <tbody>\n",
       "    <tr>\n",
       "      <th>0</th>\n",
       "      <td>9890</td>\n",
       "      <td>854.188473</td>\n",
       "      <td>9890</td>\n",
       "      <td>161.837715</td>\n",
       "    </tr>\n",
       "    <tr>\n",
       "      <th>1</th>\n",
       "      <td>9916</td>\n",
       "      <td>1149.225696</td>\n",
       "      <td>9916</td>\n",
       "      <td>217.402884</td>\n",
       "    </tr>\n",
       "  </tbody>\n",
       "</table>\n",
       "</div>"
      ],
      "text/plain": [
       "          length_text              wrdcount_text            \n",
       "                count         mean         count        mean\n",
       "subreddit                                                   \n",
       "0                9890   854.188473          9890  161.837715\n",
       "1                9916  1149.225696          9916  217.402884"
      ]
     },
     "execution_count": 30,
     "metadata": {},
     "output_type": "execute_result"
    }
   ],
   "source": [
    "# creating focused dataframe to zoom into ALL USERS who are venting and belong to either one of the subreddits \n",
    "# this is to cater for only those who might be actually suffereing from either one of the groups \n",
    "df_all_users = df[(df['user_contribute_where'] != 'both')]\n",
    "\n",
    "# To find out total length and word count per post for each subreddit groups\n",
    "df_all_users.groupby(by = 'subreddit')[['length_text','wrdcount_text']].agg(['count', 'mean'])"
   ]
  },
  {
   "cell_type": "code",
   "execution_count": 31,
   "metadata": {},
   "outputs": [
    {
     "data": {
      "text/plain": [
       "Text(0.5, 1.0, 'Scatterplot showing number of length of text on both subreddits')"
      ]
     },
     "execution_count": 31,
     "metadata": {},
     "output_type": "execute_result"
    },
    {
     "data": {
      "image/png": "[encoded data removed]",
      "text/plain": [
       "<Figure size 1296x504 with 1 Axes>"
      ]
     },
     "metadata": {
      "needs_background": "light"
     },
     "output_type": "display_data"
    }
   ],
   "source": [
    "# Plotting scatterplot to show no. of length of text on both subreddits.\n",
    "\n",
    "fig, ax = plt.subplots(figsize=(18,7))\n",
    "\n",
    "plt.scatter(ptsd.index, ptsd['length_text'], color='royalblue', alpha=0.5, label='r/PTSD')\n",
    "plt.scatter(anxiety.index, anxiety['length_text'], color='orangered', alpha=0.1, label='r/Anxiety')\n",
    "\n",
    "# Plotting horizontal lines to show average no. of words for posts in both subreddits.\n",
    "plt.axhline(ptsd['length_text'].mean(),\n",
    "            label='avg. length of text on r/PTSD',\n",
    "            ls='--',\n",
    "            linewidth=3,\n",
    "            color='royalblue',\n",
    "            dash_capstyle='round',\n",
    "           )\n",
    "plt.figtext(x=0.15,\n",
    "            y=0.20,\n",
    "            s=f\"{int(round(ptsd['length_text'].mean(), 0))} length of text on r/PTSD (on average)\",\n",
    "            fontsize=13,\n",
    "            fontweight='semibold'\n",
    "           )\n",
    "\n",
    "plt.axhline(anxiety['length_text'].mean(),\n",
    "            label='avg. length of text on r/Anxiety',\n",
    "            ls='--',\n",
    "            linewidth=3,\n",
    "            color='orangered',\n",
    "            dash_capstyle='round',\n",
    "           )\n",
    "plt.figtext(x=0.15,\n",
    "            y=0.16,\n",
    "            s=f\"{int(round(anxiety['length_text'].mean(), 0))} length of text on r/Anxiety (on average)\",\n",
    "            fontsize=13,\n",
    "            fontweight='semibold'\n",
    "           )\n",
    "\n",
    "\n",
    "plt.legend(fontsize=12)\n",
    "\n",
    "plt.xlabel(\"Posts\", fontsize=14)\n",
    "plt.ylabel(\"Lenght of text\", fontsize=14)\n",
    "\n",
    "plt.title(\"Scatterplot showing number of length of text on both subreddits\", loc='center', fontsize=18)"
   ]
  },
  {
   "cell_type": "markdown",
   "metadata": {},
   "source": [
    "Generally the length of text, number of words and even total number of post per users is higher in r/PTSD than in r/Anxiety. \n",
    "\n",
    "To visualise more, we plot a scatterplot for that shows the average length of text on both subrredicts. On average, the length text for r/PTSD is 1146 while the length of text for r/Anxiety is 853. \n",
    "\n",
    "Also we can see majority of the high flyers are coming from users in r/PTSD. This shows that users in r/PTSD are definitely more active in the subreddit, suggesting they might have alot more to share through their experience before getting PTSD. \n",
    "\n",
    "As users who might be suffering from PTSD has more specific relation to trauma genericly, people who can relate more to these post, will likely to share their experiences/advice as to how to perhaps overcome such grave issues as compared to having assumingly generic anxiety. "
   ]
  },
  {
   "cell_type": "markdown",
   "metadata": {},
   "source": [
    "Hypothesis is that the timeframe of the data in r/Anxiety is limiting its max duration as it might have more post just within a short time frame "
   ]
  },
  {
   "cell_type": "markdown",
   "metadata": {},
   "source": [
    "### Visualising Unique users activity levels"
   ]
  },
  {
   "cell_type": "code",
   "execution_count": 49,
   "metadata": {},
   "outputs": [],
   "source": [
    "# This dataframe is used to compare total post and duration from first to last post \n",
    "ptsd_unique = unique_users[unique_users['user_contribute_where'] == 'ptsd_only']\n",
    "anxiety_unique = unique_users[unique_users['user_contribute_where'] == 'anxiety_only']"
   ]
  },
  {
   "cell_type": "code",
   "execution_count": 98,
   "metadata": {},
   "outputs": [
    {
     "name": "stdout",
     "output_type": "stream",
     "text": [
      "Average total post for unique users in PTSD: 5.0\n",
      "Average total post for unique users in Anxiety: 7.0\n"
     ]
    }
   ],
   "source": [
    "ttl_post_ptsd_mean = round(ptsd_unique['ttl_post'].mean(),0)\n",
    "ttl_post_anxiety_mean = round(anxiety_unique['ttl_post'].mean(),0)\n",
    "print(f'Average total post for unique users in PTSD: {ttl_post_ptsd_mean}')\n",
    "print(f'Average total post for unique users in Anxiety: {ttl_post_anxiety_mean}')"
   ]
  },
  {
   "cell_type": "code",
   "execution_count": 52,
   "metadata": {},
   "outputs": [
    {
     "name": "stdout",
     "output_type": "stream",
     "text": [
      "Average total duration from first to last post for unique users in PTSD: 53.62837837837838\n",
      "Average total duration from first to last post for unique users in Anxiety: 14.616046726098986\n"
     ]
    }
   ],
   "source": [
    "total_duration_ptsd = ptsd_unique['duration_last_post'].mean()\n",
    "total_duration_anxiety = anxiety_unique['duration_last_post'].mean()\n",
    "print(f'Average total duration from first to last post for unique users in PTSD: {total_duration_ptsd}')\n",
    "print(f'Average total duration from first to last post for unique users in Anxiety: {total_duration_anxiety}')"
   ]
  },
  {
   "cell_type": "markdown",
   "metadata": {},
   "source": [
    "We can see that for each unique users in both subreddits, users in r/Anxiety is highly active as compared to users from r/PTSD. \n",
    "On average, users from r/Anxiety post close to 7 post while r/PTSD users post up to 5 post. "
   ]
  },
  {
   "cell_type": "code",
   "execution_count": 91,
   "metadata": {},
   "outputs": [
    {
     "data": {
      "text/plain": [
       "Timedelta('337 days 04:58:54')"
      ]
     },
     "execution_count": 91,
     "metadata": {},
     "output_type": "execute_result"
    }
   ],
   "source": [
    "# Timespan between creation of latest post scraped and earliest post scraped from r/ptsd_unique.\n",
    "\n",
    "ptsd_unique_time_diff = ptsd_unique['datetime'].max() - ptsd_unique['datetime'].min()\n",
    "ptsd_unique_time_diff"
   ]
  },
  {
   "cell_type": "code",
   "execution_count": 92,
   "metadata": {},
   "outputs": [
    {
     "data": {
      "text/plain": [
       "Timedelta('45 days 08:26:48')"
      ]
     },
     "execution_count": 92,
     "metadata": {},
     "output_type": "execute_result"
    }
   ],
   "source": [
    "# Timespan between creation of latest post scraped and earliest post scraped from r/anxiety_unique.\n",
    "\n",
    "anxiety_unique_time_diff = anxiety_unique['datetime'].max() - anxiety_unique['datetime'].min()\n",
    "anxiety_unique_time_diff"
   ]
  },
  {
   "cell_type": "code",
   "execution_count": 93,
   "metadata": {},
   "outputs": [
    {
     "name": "stdout",
     "output_type": "stream",
     "text": [
      "r/PTSD has total timespan of 8092 hrs since start of post with 10000 worth of post\n",
      "r/Anxiety has total timespan of 1088 hrs since start of post with 10000 worth of post\n"
     ]
    }
   ],
   "source": [
    "# Separating no. of hours and minutes from timespans calculated above.\n",
    "ptsd_unique_time_diff_h = (ptsd_unique_time_diff.seconds//3600) + (ptsd_unique_time_diff.days * 24)\n",
    "anxiety_unique_time_diff_h= (anxiety_unique_time_diff.seconds//3600) + (anxiety_unique_time_diff.days * 24)\n",
    "\n",
    "print(f'r/PTSD has total timespan of {ptsd_unique_time_diff_h} hrs since start of post with 10000 worth of post')\n",
    "print(f'r/Anxiety has total timespan of {anxiety_unique_time_diff_h} hrs since start of post with 10000 worth of post')"
   ]
  },
  {
   "cell_type": "code",
   "execution_count": 96,
   "metadata": {},
   "outputs": [
    {
     "name": "stdout",
     "output_type": "stream",
     "text": [
      "Average no. of posts created per hour:\n",
      "r/PTSD \t= 1.23\n",
      "r/Anxiety = 2.99\n",
      "\n"
     ]
    }
   ],
   "source": [
    "ptsd_ave_post_hr = ptsd_unique.shape[0] / ptsd_unique_time_diff_h\n",
    "anxiety_ave_post_hr = anxiety_unique.shape[0] / anxiety_unique_time_diff_h\n",
    "\n",
    "print(\"Average no. of posts created per hour:\")\n",
    "print(f\"r/PTSD \\t= {round(ptsd_ave_post_hr, 2)}\")\n",
    "print(f\"r/Anxiety = {round(anxiety_ave_post_hr, 2)}\")\n",
    "print()"
   ]
  },
  {
   "cell_type": "markdown",
   "metadata": {},
   "source": [
    "As seen from above, both subreddits are quite active. However, it is significant to also say that r/Anxiety is significantly more active than r/PTSD, with almost 2.5 times more for average no of post created per hour"
   ]
  },
  {
   "cell_type": "markdown",
   "metadata": {},
   "source": [
    "## Classification Modelling"
   ]
  },
  {
   "cell_type": "markdown",
   "metadata": {},
   "source": [
    "### Pre-Processing"
   ]
  },
  {
   "cell_type": "code",
   "execution_count": 78,
   "metadata": {},
   "outputs": [],
   "source": [
    "# create stop word list \n",
    "stopwordlist = nltk.corpus.stopwords.words('english')\n",
    "\n",
    "# to input in subreddit headers so that we can exclude it for model\n",
    "headers = ['ptsd', 'anxiety',\"cptsd\", 'trauma','traumatized','traumas','“ptsd', 'symptoms”', \"posttraumatic\",'stress','disorder',\"traumatic\",\"'d\", \"'ll\", \"'re\", \"'s\", \"'ve\", 'could', 'doe', 'ha', 'might', 'must', \"n't\", 'need', 'sha', 'wa', 'wo', 'would']\n",
    "for head in headers:\n",
    "    stopwordlist.append(head)\n",
    "\n",
    "df['stopword_text'] = df['clean_text'].apply(lambda x: ' '.join([i for i in x.split() if i not in stopwordlist]))    "
   ]
  },
  {
   "cell_type": "code",
   "execution_count": 79,
   "metadata": {},
   "outputs": [],
   "source": [
    "# Defining a function to stem words from stopword_text\n",
    "\n",
    "def stem_words(text):\n",
    "    \n",
    "    # Stemming all words using list comprehension.\n",
    "    text_stemmed = [PorterStemmer().stem(word) for word in text.split(\" \")]\n",
    "    \n",
    "    # Returning a string of all words joined together with spaces in between.\n",
    "    return \" \".join(text_stemmed)"
   ]
  },
  {
   "cell_type": "code",
   "execution_count": 80,
   "metadata": {},
   "outputs": [],
   "source": [
    "# Creating new column for stemmed text\n",
    "df['stemmed_text'] = df['stopword_text'].apply(stem_words)"
   ]
  },
  {
   "cell_type": "code",
   "execution_count": 81,
   "metadata": {},
   "outputs": [],
   "source": [
    "# Creating new column for lemmatised text \n",
    "\n",
    "def lemi_words(text):\n",
    "    \n",
    "    # Instantiate lemmatizer \n",
    "    lemmatizer = WordNetLemmatizer()\n",
    "\n",
    "    # Stemming all words using list comprehension.\n",
    "    text_lemmatized = [lemmatizer.lemmatize(word) for word in text.split(\" \")]\n",
    "    \n",
    "    # Returning a string of all words joined together with spaces in between.\n",
    "    return \" \".join(text_lemmatized)"
   ]
  },
  {
   "cell_type": "code",
   "execution_count": 82,
   "metadata": {},
   "outputs": [],
   "source": [
    "# Creating new column for stemmed text\n",
    "df['lemmatized_text'] = df['stopword_text'].apply(lemi_words)"
   ]
  },
  {
   "cell_type": "markdown",
   "metadata": {},
   "source": [
    "### Variable selection"
   ]
  },
  {
   "cell_type": "code",
   "execution_count": null,
   "metadata": {},
   "outputs": [],
   "source": [
    "# assign target under subreddit, PTSD = 1, Anxiety = 0 \n",
    "\n",
    "X = df['lemmatized_text']\n",
    "y = df['subreddit']"
   ]
  },
  {
   "cell_type": "code",
   "execution_count": null,
   "metadata": {},
   "outputs": [
    {
     "name": "stdout",
     "output_type": "stream",
     "text": [
      "Total post: 20156\n"
     ]
    },
    {
     "data": {
      "text/plain": [
       "1    0.501885\n",
       "0    0.498115\n",
       "Name: subreddit, dtype: float64"
      ]
     },
     "execution_count": 53,
     "metadata": {},
     "output_type": "execute_result"
    }
   ],
   "source": [
    "print(f'Total post: {len(df)}')\n",
    "df['subreddit'].value_counts(normalize= True)\n"
   ]
  },
  {
   "cell_type": "markdown",
   "metadata": {},
   "source": [
    "With 10000 post added into each class, the classes are very well balanced from both sides \n",
    "\n",
    "Also, from the above, we can see the ***baseline accuracy*** is at 50.1%. \n",
    "If nothing ws done for the classification model, and just to assign every post to the PTSD class, i would classify 50.1% of the post correctly. \n",
    "\n",
    "Therefore, any classification model designed for this data must have an accuracy higher than the ***baseline accuracy*** of 50.1%"
   ]
  },
  {
   "cell_type": "code",
   "execution_count": null,
   "metadata": {},
   "outputs": [],
   "source": [
    "# Splitting the features and target variable datasets into training and testing datasets with stratify=y. \n",
    "\n",
    "X_train, X_test, y_train, y_test = train_test_split(X, y, test_size=0.3, stratify=y)"
   ]
  },
  {
   "cell_type": "markdown",
   "metadata": {},
   "source": [
    "### Classification Metrics"
   ]
  },
  {
   "cell_type": "markdown",
   "metadata": {},
   "source": [
    "Possible classification metrics that can be used how well my model perform are *Accuracy, Misclassification Rate, Sensitivity (True Positive Rate), Specificity (True Negative Rate), Precision (Positive Predictive Value), F1 Score and ROC AUC*.\n",
    "\n",
    "For this project I will be mainly using *Accuracy* accompanied with confusion matrix to determine effectiveness of my models\n",
    "\n",
    "For further evaluations, I will be using Specificity to choose the best model that helps gauge on how best to minimize this in order to reduce missing out identifying users potentionally having PTSD.\n",
    "\n",
    "I will also use ROC to gave a gauge the degree of overlap between the words in post from the two subreddits. "
   ]
  },
  {
   "cell_type": "markdown",
   "metadata": {},
   "source": [
    "### Vectorization of words (CountVectorizer and TfidfVectorizer with LogisticRegression)"
   ]
  },
  {
   "cell_type": "markdown",
   "metadata": {},
   "source": [
    "Consider two NLP vectorizers and iterate over parameters below with Logistic regression model first.\n",
    "- *Count Vectorizer*\n",
    "- *TF-IDF Vectorizer*"
   ]
  },
  {
   "cell_type": "code",
   "execution_count": null,
   "metadata": {},
   "outputs": [],
   "source": [
    "# Creating Pipeline with:\n",
    "# Estimator: LogisticRegression (both)\n",
    "# Transformer: CountVectorizer - pipe1, TfidfVectorizer - pipe2\n",
    "\n",
    "pipe1 = Pipeline([('cvec1', CountVectorizer()),\n",
    "                  ('logreg1', LogisticRegression())\n",
    "                 ])\n",
    "\n",
    "pipe2 = Pipeline([('tfvec2', TfidfVectorizer()),\n",
    "                  ('logreg2', LogisticRegression())\n",
    "                 ])"
   ]
  },
  {
   "cell_type": "code",
   "execution_count": null,
   "metadata": {
    "scrolled": true
   },
   "outputs": [
    {
     "data": {
      "text/plain": [
       "{'memory': None,\n",
       " 'steps': [('tfvec2', TfidfVectorizer()), ('logreg2', LogisticRegression())],\n",
       " 'verbose': False,\n",
       " 'tfvec2': TfidfVectorizer(),\n",
       " 'logreg2': LogisticRegression(),\n",
       " 'tfvec2__analyzer': 'word',\n",
       " 'tfvec2__binary': False,\n",
       " 'tfvec2__decode_error': 'strict',\n",
       " 'tfvec2__dtype': numpy.float64,\n",
       " 'tfvec2__encoding': 'utf-8',\n",
       " 'tfvec2__input': 'content',\n",
       " 'tfvec2__lowercase': True,\n",
       " 'tfvec2__max_df': 1.0,\n",
       " 'tfvec2__max_features': None,\n",
       " 'tfvec2__min_df': 1,\n",
       " 'tfvec2__ngram_range': (1, 1),\n",
       " 'tfvec2__norm': 'l2',\n",
       " 'tfvec2__preprocessor': None,\n",
       " 'tfvec2__smooth_idf': True,\n",
       " 'tfvec2__stop_words': None,\n",
       " 'tfvec2__strip_accents': None,\n",
       " 'tfvec2__sublinear_tf': False,\n",
       " 'tfvec2__token_pattern': '(?u)\\\\b\\\\w\\\\w+\\\\b',\n",
       " 'tfvec2__tokenizer': None,\n",
       " 'tfvec2__use_idf': True,\n",
       " 'tfvec2__vocabulary': None,\n",
       " 'logreg2__C': 1.0,\n",
       " 'logreg2__class_weight': None,\n",
       " 'logreg2__dual': False,\n",
       " 'logreg2__fit_intercept': True,\n",
       " 'logreg2__intercept_scaling': 1,\n",
       " 'logreg2__l1_ratio': None,\n",
       " 'logreg2__max_iter': 100,\n",
       " 'logreg2__multi_class': 'auto',\n",
       " 'logreg2__n_jobs': None,\n",
       " 'logreg2__penalty': 'l2',\n",
       " 'logreg2__random_state': None,\n",
       " 'logreg2__solver': 'lbfgs',\n",
       " 'logreg2__tol': 0.0001,\n",
       " 'logreg2__verbose': 0,\n",
       " 'logreg2__warm_start': False}"
      ]
     },
     "execution_count": 56,
     "metadata": {},
     "output_type": "execute_result"
    }
   ],
   "source": [
    "pipe2.get_params()"
   ]
  },
  {
   "cell_type": "code",
   "execution_count": null,
   "metadata": {
    "scrolled": true
   },
   "outputs": [
    {
     "data": {
      "text/plain": [
       "{'memory': None,\n",
       " 'steps': [('cvec1', CountVectorizer()), ('logreg1', LogisticRegression())],\n",
       " 'verbose': False,\n",
       " 'cvec1': CountVectorizer(),\n",
       " 'logreg1': LogisticRegression(),\n",
       " 'cvec1__analyzer': 'word',\n",
       " 'cvec1__binary': False,\n",
       " 'cvec1__decode_error': 'strict',\n",
       " 'cvec1__dtype': numpy.int64,\n",
       " 'cvec1__encoding': 'utf-8',\n",
       " 'cvec1__input': 'content',\n",
       " 'cvec1__lowercase': True,\n",
       " 'cvec1__max_df': 1.0,\n",
       " 'cvec1__max_features': None,\n",
       " 'cvec1__min_df': 1,\n",
       " 'cvec1__ngram_range': (1, 1),\n",
       " 'cvec1__preprocessor': None,\n",
       " 'cvec1__stop_words': None,\n",
       " 'cvec1__strip_accents': None,\n",
       " 'cvec1__token_pattern': '(?u)\\\\b\\\\w\\\\w+\\\\b',\n",
       " 'cvec1__tokenizer': None,\n",
       " 'cvec1__vocabulary': None,\n",
       " 'logreg1__C': 1.0,\n",
       " 'logreg1__class_weight': None,\n",
       " 'logreg1__dual': False,\n",
       " 'logreg1__fit_intercept': True,\n",
       " 'logreg1__intercept_scaling': 1,\n",
       " 'logreg1__l1_ratio': None,\n",
       " 'logreg1__max_iter': 100,\n",
       " 'logreg1__multi_class': 'auto',\n",
       " 'logreg1__n_jobs': None,\n",
       " 'logreg1__penalty': 'l2',\n",
       " 'logreg1__random_state': None,\n",
       " 'logreg1__solver': 'lbfgs',\n",
       " 'logreg1__tol': 0.0001,\n",
       " 'logreg1__verbose': 0,\n",
       " 'logreg1__warm_start': False}"
      ]
     },
     "execution_count": 57,
     "metadata": {},
     "output_type": "execute_result"
    }
   ],
   "source": [
    "pipe1.get_params()"
   ]
  },
  {
   "cell_type": "code",
   "execution_count": null,
   "metadata": {},
   "outputs": [],
   "source": [
    "# Declaring fixed one-off hyperparameters max_features, min_df, max_df & ngram_range for GridSearchCV first.\n",
    "\n",
    "pipe1_params = {'cvec1__max_features': [1000, 2000, 3000],\n",
    "                'cvec1__min_df': [0.02, 0.05],\n",
    "                'cvec1__max_df': [0.7, 0.80],\n",
    "                'cvec1__ngram_range': [(1,1), (1,2)],\n",
    "                'logreg1__max_iter': [1000]\n",
    "               }\n",
    "\n",
    "pipe2_params = {'tfvec2__max_features': [1000,2000,3000],\n",
    "                'tfvec2__min_df': [0.02, 0.05],\n",
    "                'tfvec2__max_df': [0.7, 0.80],\n",
    "                'tfvec2__ngram_range': [(1,1), (1,2)],\n",
    "                'logreg2__max_iter': [1000]\n",
    "               }"
   ]
  },
  {
   "cell_type": "code",
   "execution_count": null,
   "metadata": {},
   "outputs": [],
   "source": [
    "# Creating two separate GridSearchCV objects for:\n",
    "# CountVectorizer and TfidfVectorizer\n",
    "\n",
    "gs_pipe1 = GridSearchCV(pipe1, param_grid=pipe1_params, cv=5)\n",
    "\n",
    "gs_pipe2 = GridSearchCV(pipe2, param_grid=pipe2_params, cv=5)"
   ]
  },
  {
   "cell_type": "code",
   "execution_count": null,
   "metadata": {},
   "outputs": [
    {
     "ename": "KeyboardInterrupt",
     "evalue": "",
     "output_type": "error",
     "traceback": [
      "\u001b[1;31m---------------------------------------------------------------------------\u001b[0m",
      "\u001b[1;31mKeyboardInterrupt\u001b[0m                         Traceback (most recent call last)",
      "\u001b[1;32mc:\\Users\\Admin\\Desktop\\Github Desktop Local\\GA-Lessons\\project_3\\MultinomialNB_Model.ipynb Cell 79'\u001b[0m in \u001b[0;36m<cell line: 3>\u001b[1;34m()\u001b[0m\n\u001b[0;32m      <a href='vscode-notebook-cell:/c%3A/Users/Admin/Desktop/Github%20Desktop%20Local/GA-Lessons/project_3/MultinomialNB_Model.ipynb#ch0000078?line=0'>1</a>\u001b[0m \u001b[39m# Fitting GridSearchCV with CountVectorizer transformer on X_train and y_train.\u001b[39;00m\n\u001b[1;32m----> <a href='vscode-notebook-cell:/c%3A/Users/Admin/Desktop/Github%20Desktop%20Local/GA-Lessons/project_3/MultinomialNB_Model.ipynb#ch0000078?line=2'>3</a>\u001b[0m gs_pipe1\u001b[39m.\u001b[39;49mfit(X_train, y_train)\n",
      "File \u001b[1;32m~\\.conda\\envs\\myenv\\lib\\site-packages\\sklearn\\model_selection\\_search.py:891\u001b[0m, in \u001b[0;36mBaseSearchCV.fit\u001b[1;34m(self, X, y, groups, **fit_params)\u001b[0m\n\u001b[0;32m    <a href='file:///c%3A/Users/Admin/.conda/envs/myenv/lib/site-packages/sklearn/model_selection/_search.py?line=884'>885</a>\u001b[0m     results \u001b[39m=\u001b[39m \u001b[39mself\u001b[39m\u001b[39m.\u001b[39m_format_results(\n\u001b[0;32m    <a href='file:///c%3A/Users/Admin/.conda/envs/myenv/lib/site-packages/sklearn/model_selection/_search.py?line=885'>886</a>\u001b[0m         all_candidate_params, n_splits, all_out, all_more_results\n\u001b[0;32m    <a href='file:///c%3A/Users/Admin/.conda/envs/myenv/lib/site-packages/sklearn/model_selection/_search.py?line=886'>887</a>\u001b[0m     )\n\u001b[0;32m    <a href='file:///c%3A/Users/Admin/.conda/envs/myenv/lib/site-packages/sklearn/model_selection/_search.py?line=888'>889</a>\u001b[0m     \u001b[39mreturn\u001b[39;00m results\n\u001b[1;32m--> <a href='file:///c%3A/Users/Admin/.conda/envs/myenv/lib/site-packages/sklearn/model_selection/_search.py?line=890'>891</a>\u001b[0m \u001b[39mself\u001b[39;49m\u001b[39m.\u001b[39;49m_run_search(evaluate_candidates)\n\u001b[0;32m    <a href='file:///c%3A/Users/Admin/.conda/envs/myenv/lib/site-packages/sklearn/model_selection/_search.py?line=892'>893</a>\u001b[0m \u001b[39m# multimetric is determined here because in the case of a callable\u001b[39;00m\n\u001b[0;32m    <a href='file:///c%3A/Users/Admin/.conda/envs/myenv/lib/site-packages/sklearn/model_selection/_search.py?line=893'>894</a>\u001b[0m \u001b[39m# self.scoring the return type is only known after calling\u001b[39;00m\n\u001b[0;32m    <a href='file:///c%3A/Users/Admin/.conda/envs/myenv/lib/site-packages/sklearn/model_selection/_search.py?line=894'>895</a>\u001b[0m first_test_score \u001b[39m=\u001b[39m all_out[\u001b[39m0\u001b[39m][\u001b[39m\"\u001b[39m\u001b[39mtest_scores\u001b[39m\u001b[39m\"\u001b[39m]\n",
      "File \u001b[1;32m~\\.conda\\envs\\myenv\\lib\\site-packages\\sklearn\\model_selection\\_search.py:1392\u001b[0m, in \u001b[0;36mGridSearchCV._run_search\u001b[1;34m(self, evaluate_candidates)\u001b[0m\n\u001b[0;32m   <a href='file:///c%3A/Users/Admin/.conda/envs/myenv/lib/site-packages/sklearn/model_selection/_search.py?line=1389'>1390</a>\u001b[0m \u001b[39mdef\u001b[39;00m \u001b[39m_run_search\u001b[39m(\u001b[39mself\u001b[39m, evaluate_candidates):\n\u001b[0;32m   <a href='file:///c%3A/Users/Admin/.conda/envs/myenv/lib/site-packages/sklearn/model_selection/_search.py?line=1390'>1391</a>\u001b[0m     \u001b[39m\"\"\"Search all candidates in param_grid\"\"\"\u001b[39;00m\n\u001b[1;32m-> <a href='file:///c%3A/Users/Admin/.conda/envs/myenv/lib/site-packages/sklearn/model_selection/_search.py?line=1391'>1392</a>\u001b[0m     evaluate_candidates(ParameterGrid(\u001b[39mself\u001b[39;49m\u001b[39m.\u001b[39;49mparam_grid))\n",
      "File \u001b[1;32m~\\.conda\\envs\\myenv\\lib\\site-packages\\sklearn\\model_selection\\_search.py:838\u001b[0m, in \u001b[0;36mBaseSearchCV.fit.<locals>.evaluate_candidates\u001b[1;34m(candidate_params, cv, more_results)\u001b[0m\n\u001b[0;32m    <a href='file:///c%3A/Users/Admin/.conda/envs/myenv/lib/site-packages/sklearn/model_selection/_search.py?line=829'>830</a>\u001b[0m \u001b[39mif\u001b[39;00m \u001b[39mself\u001b[39m\u001b[39m.\u001b[39mverbose \u001b[39m>\u001b[39m \u001b[39m0\u001b[39m:\n\u001b[0;32m    <a href='file:///c%3A/Users/Admin/.conda/envs/myenv/lib/site-packages/sklearn/model_selection/_search.py?line=830'>831</a>\u001b[0m     \u001b[39mprint\u001b[39m(\n\u001b[0;32m    <a href='file:///c%3A/Users/Admin/.conda/envs/myenv/lib/site-packages/sklearn/model_selection/_search.py?line=831'>832</a>\u001b[0m         \u001b[39m\"\u001b[39m\u001b[39mFitting \u001b[39m\u001b[39m{0}\u001b[39;00m\u001b[39m folds for each of \u001b[39m\u001b[39m{1}\u001b[39;00m\u001b[39m candidates,\u001b[39m\u001b[39m\"\u001b[39m\n\u001b[0;32m    <a href='file:///c%3A/Users/Admin/.conda/envs/myenv/lib/site-packages/sklearn/model_selection/_search.py?line=832'>833</a>\u001b[0m         \u001b[39m\"\u001b[39m\u001b[39m totalling \u001b[39m\u001b[39m{2}\u001b[39;00m\u001b[39m fits\u001b[39m\u001b[39m\"\u001b[39m\u001b[39m.\u001b[39mformat(\n\u001b[0;32m    <a href='file:///c%3A/Users/Admin/.conda/envs/myenv/lib/site-packages/sklearn/model_selection/_search.py?line=833'>834</a>\u001b[0m             n_splits, n_candidates, n_candidates \u001b[39m*\u001b[39m n_splits\n\u001b[0;32m    <a href='file:///c%3A/Users/Admin/.conda/envs/myenv/lib/site-packages/sklearn/model_selection/_search.py?line=834'>835</a>\u001b[0m         )\n\u001b[0;32m    <a href='file:///c%3A/Users/Admin/.conda/envs/myenv/lib/site-packages/sklearn/model_selection/_search.py?line=835'>836</a>\u001b[0m     )\n\u001b[1;32m--> <a href='file:///c%3A/Users/Admin/.conda/envs/myenv/lib/site-packages/sklearn/model_selection/_search.py?line=837'>838</a>\u001b[0m out \u001b[39m=\u001b[39m parallel(\n\u001b[0;32m    <a href='file:///c%3A/Users/Admin/.conda/envs/myenv/lib/site-packages/sklearn/model_selection/_search.py?line=838'>839</a>\u001b[0m     delayed(_fit_and_score)(\n\u001b[0;32m    <a href='file:///c%3A/Users/Admin/.conda/envs/myenv/lib/site-packages/sklearn/model_selection/_search.py?line=839'>840</a>\u001b[0m         clone(base_estimator),\n\u001b[0;32m    <a href='file:///c%3A/Users/Admin/.conda/envs/myenv/lib/site-packages/sklearn/model_selection/_search.py?line=840'>841</a>\u001b[0m         X,\n\u001b[0;32m    <a href='file:///c%3A/Users/Admin/.conda/envs/myenv/lib/site-packages/sklearn/model_selection/_search.py?line=841'>842</a>\u001b[0m         y,\n\u001b[0;32m    <a href='file:///c%3A/Users/Admin/.conda/envs/myenv/lib/site-packages/sklearn/model_selection/_search.py?line=842'>843</a>\u001b[0m         train\u001b[39m=\u001b[39;49mtrain,\n\u001b[0;32m    <a href='file:///c%3A/Users/Admin/.conda/envs/myenv/lib/site-packages/sklearn/model_selection/_search.py?line=843'>844</a>\u001b[0m         test\u001b[39m=\u001b[39;49mtest,\n\u001b[0;32m    <a href='file:///c%3A/Users/Admin/.conda/envs/myenv/lib/site-packages/sklearn/model_selection/_search.py?line=844'>845</a>\u001b[0m         parameters\u001b[39m=\u001b[39;49mparameters,\n\u001b[0;32m    <a href='file:///c%3A/Users/Admin/.conda/envs/myenv/lib/site-packages/sklearn/model_selection/_search.py?line=845'>846</a>\u001b[0m         split_progress\u001b[39m=\u001b[39;49m(split_idx, n_splits),\n\u001b[0;32m    <a href='file:///c%3A/Users/Admin/.conda/envs/myenv/lib/site-packages/sklearn/model_selection/_search.py?line=846'>847</a>\u001b[0m         candidate_progress\u001b[39m=\u001b[39;49m(cand_idx, n_candidates),\n\u001b[0;32m    <a href='file:///c%3A/Users/Admin/.conda/envs/myenv/lib/site-packages/sklearn/model_selection/_search.py?line=847'>848</a>\u001b[0m         \u001b[39m*\u001b[39;49m\u001b[39m*\u001b[39;49mfit_and_score_kwargs,\n\u001b[0;32m    <a href='file:///c%3A/Users/Admin/.conda/envs/myenv/lib/site-packages/sklearn/model_selection/_search.py?line=848'>849</a>\u001b[0m     )\n\u001b[0;32m    <a href='file:///c%3A/Users/Admin/.conda/envs/myenv/lib/site-packages/sklearn/model_selection/_search.py?line=849'>850</a>\u001b[0m     \u001b[39mfor\u001b[39;49;00m (cand_idx, parameters), (split_idx, (train, test)) \u001b[39min\u001b[39;49;00m product(\n\u001b[0;32m    <a href='file:///c%3A/Users/Admin/.conda/envs/myenv/lib/site-packages/sklearn/model_selection/_search.py?line=850'>851</a>\u001b[0m         \u001b[39menumerate\u001b[39;49m(candidate_params), \u001b[39menumerate\u001b[39;49m(cv\u001b[39m.\u001b[39;49msplit(X, y, groups))\n\u001b[0;32m    <a href='file:///c%3A/Users/Admin/.conda/envs/myenv/lib/site-packages/sklearn/model_selection/_search.py?line=851'>852</a>\u001b[0m     )\n\u001b[0;32m    <a href='file:///c%3A/Users/Admin/.conda/envs/myenv/lib/site-packages/sklearn/model_selection/_search.py?line=852'>853</a>\u001b[0m )\n\u001b[0;32m    <a href='file:///c%3A/Users/Admin/.conda/envs/myenv/lib/site-packages/sklearn/model_selection/_search.py?line=854'>855</a>\u001b[0m \u001b[39mif\u001b[39;00m \u001b[39mlen\u001b[39m(out) \u001b[39m<\u001b[39m \u001b[39m1\u001b[39m:\n\u001b[0;32m    <a href='file:///c%3A/Users/Admin/.conda/envs/myenv/lib/site-packages/sklearn/model_selection/_search.py?line=855'>856</a>\u001b[0m     \u001b[39mraise\u001b[39;00m \u001b[39mValueError\u001b[39;00m(\n\u001b[0;32m    <a href='file:///c%3A/Users/Admin/.conda/envs/myenv/lib/site-packages/sklearn/model_selection/_search.py?line=856'>857</a>\u001b[0m         \u001b[39m\"\u001b[39m\u001b[39mNo fits were performed. \u001b[39m\u001b[39m\"\u001b[39m\n\u001b[0;32m    <a href='file:///c%3A/Users/Admin/.conda/envs/myenv/lib/site-packages/sklearn/model_selection/_search.py?line=857'>858</a>\u001b[0m         \u001b[39m\"\u001b[39m\u001b[39mWas the CV iterator empty? \u001b[39m\u001b[39m\"\u001b[39m\n\u001b[0;32m    <a href='file:///c%3A/Users/Admin/.conda/envs/myenv/lib/site-packages/sklearn/model_selection/_search.py?line=858'>859</a>\u001b[0m         \u001b[39m\"\u001b[39m\u001b[39mWere there no candidates?\u001b[39m\u001b[39m\"\u001b[39m\n\u001b[0;32m    <a href='file:///c%3A/Users/Admin/.conda/envs/myenv/lib/site-packages/sklearn/model_selection/_search.py?line=859'>860</a>\u001b[0m     )\n",
      "File \u001b[1;32m~\\.conda\\envs\\myenv\\lib\\site-packages\\joblib\\parallel.py:1046\u001b[0m, in \u001b[0;36mParallel.__call__\u001b[1;34m(self, iterable)\u001b[0m\n\u001b[0;32m   <a href='file:///c%3A/Users/Admin/.conda/envs/myenv/lib/site-packages/joblib/parallel.py?line=1042'>1043</a>\u001b[0m \u001b[39mif\u001b[39;00m \u001b[39mself\u001b[39m\u001b[39m.\u001b[39mdispatch_one_batch(iterator):\n\u001b[0;32m   <a href='file:///c%3A/Users/Admin/.conda/envs/myenv/lib/site-packages/joblib/parallel.py?line=1043'>1044</a>\u001b[0m     \u001b[39mself\u001b[39m\u001b[39m.\u001b[39m_iterating \u001b[39m=\u001b[39m \u001b[39mself\u001b[39m\u001b[39m.\u001b[39m_original_iterator \u001b[39mis\u001b[39;00m \u001b[39mnot\u001b[39;00m \u001b[39mNone\u001b[39;00m\n\u001b[1;32m-> <a href='file:///c%3A/Users/Admin/.conda/envs/myenv/lib/site-packages/joblib/parallel.py?line=1045'>1046</a>\u001b[0m \u001b[39mwhile\u001b[39;00m \u001b[39mself\u001b[39;49m\u001b[39m.\u001b[39;49mdispatch_one_batch(iterator):\n\u001b[0;32m   <a href='file:///c%3A/Users/Admin/.conda/envs/myenv/lib/site-packages/joblib/parallel.py?line=1046'>1047</a>\u001b[0m     \u001b[39mpass\u001b[39;00m\n\u001b[0;32m   <a href='file:///c%3A/Users/Admin/.conda/envs/myenv/lib/site-packages/joblib/parallel.py?line=1048'>1049</a>\u001b[0m \u001b[39mif\u001b[39;00m pre_dispatch \u001b[39m==\u001b[39m \u001b[39m\"\u001b[39m\u001b[39mall\u001b[39m\u001b[39m\"\u001b[39m \u001b[39mor\u001b[39;00m n_jobs \u001b[39m==\u001b[39m \u001b[39m1\u001b[39m:\n\u001b[0;32m   <a href='file:///c%3A/Users/Admin/.conda/envs/myenv/lib/site-packages/joblib/parallel.py?line=1049'>1050</a>\u001b[0m     \u001b[39m# The iterable was consumed all at once by the above for loop.\u001b[39;00m\n\u001b[0;32m   <a href='file:///c%3A/Users/Admin/.conda/envs/myenv/lib/site-packages/joblib/parallel.py?line=1050'>1051</a>\u001b[0m     \u001b[39m# No need to wait for async callbacks to trigger to\u001b[39;00m\n\u001b[0;32m   <a href='file:///c%3A/Users/Admin/.conda/envs/myenv/lib/site-packages/joblib/parallel.py?line=1051'>1052</a>\u001b[0m     \u001b[39m# consumption.\u001b[39;00m\n",
      "File \u001b[1;32m~\\.conda\\envs\\myenv\\lib\\site-packages\\joblib\\parallel.py:861\u001b[0m, in \u001b[0;36mParallel.dispatch_one_batch\u001b[1;34m(self, iterator)\u001b[0m\n\u001b[0;32m    <a href='file:///c%3A/Users/Admin/.conda/envs/myenv/lib/site-packages/joblib/parallel.py?line=858'>859</a>\u001b[0m     \u001b[39mreturn\u001b[39;00m \u001b[39mFalse\u001b[39;00m\n\u001b[0;32m    <a href='file:///c%3A/Users/Admin/.conda/envs/myenv/lib/site-packages/joblib/parallel.py?line=859'>860</a>\u001b[0m \u001b[39melse\u001b[39;00m:\n\u001b[1;32m--> <a href='file:///c%3A/Users/Admin/.conda/envs/myenv/lib/site-packages/joblib/parallel.py?line=860'>861</a>\u001b[0m     \u001b[39mself\u001b[39;49m\u001b[39m.\u001b[39;49m_dispatch(tasks)\n\u001b[0;32m    <a href='file:///c%3A/Users/Admin/.conda/envs/myenv/lib/site-packages/joblib/parallel.py?line=861'>862</a>\u001b[0m     \u001b[39mreturn\u001b[39;00m \u001b[39mTrue\u001b[39;00m\n",
      "File \u001b[1;32m~\\.conda\\envs\\myenv\\lib\\site-packages\\joblib\\parallel.py:779\u001b[0m, in \u001b[0;36mParallel._dispatch\u001b[1;34m(self, batch)\u001b[0m\n\u001b[0;32m    <a href='file:///c%3A/Users/Admin/.conda/envs/myenv/lib/site-packages/joblib/parallel.py?line=776'>777</a>\u001b[0m \u001b[39mwith\u001b[39;00m \u001b[39mself\u001b[39m\u001b[39m.\u001b[39m_lock:\n\u001b[0;32m    <a href='file:///c%3A/Users/Admin/.conda/envs/myenv/lib/site-packages/joblib/parallel.py?line=777'>778</a>\u001b[0m     job_idx \u001b[39m=\u001b[39m \u001b[39mlen\u001b[39m(\u001b[39mself\u001b[39m\u001b[39m.\u001b[39m_jobs)\n\u001b[1;32m--> <a href='file:///c%3A/Users/Admin/.conda/envs/myenv/lib/site-packages/joblib/parallel.py?line=778'>779</a>\u001b[0m     job \u001b[39m=\u001b[39m \u001b[39mself\u001b[39;49m\u001b[39m.\u001b[39;49m_backend\u001b[39m.\u001b[39;49mapply_async(batch, callback\u001b[39m=\u001b[39;49mcb)\n\u001b[0;32m    <a href='file:///c%3A/Users/Admin/.conda/envs/myenv/lib/site-packages/joblib/parallel.py?line=779'>780</a>\u001b[0m     \u001b[39m# A job can complete so quickly than its callback is\u001b[39;00m\n\u001b[0;32m    <a href='file:///c%3A/Users/Admin/.conda/envs/myenv/lib/site-packages/joblib/parallel.py?line=780'>781</a>\u001b[0m     \u001b[39m# called before we get here, causing self._jobs to\u001b[39;00m\n\u001b[0;32m    <a href='file:///c%3A/Users/Admin/.conda/envs/myenv/lib/site-packages/joblib/parallel.py?line=781'>782</a>\u001b[0m     \u001b[39m# grow. To ensure correct results ordering, .insert is\u001b[39;00m\n\u001b[0;32m    <a href='file:///c%3A/Users/Admin/.conda/envs/myenv/lib/site-packages/joblib/parallel.py?line=782'>783</a>\u001b[0m     \u001b[39m# used (rather than .append) in the following line\u001b[39;00m\n\u001b[0;32m    <a href='file:///c%3A/Users/Admin/.conda/envs/myenv/lib/site-packages/joblib/parallel.py?line=783'>784</a>\u001b[0m     \u001b[39mself\u001b[39m\u001b[39m.\u001b[39m_jobs\u001b[39m.\u001b[39minsert(job_idx, job)\n",
      "File \u001b[1;32m~\\.conda\\envs\\myenv\\lib\\site-packages\\joblib\\_parallel_backends.py:208\u001b[0m, in \u001b[0;36mSequentialBackend.apply_async\u001b[1;34m(self, func, callback)\u001b[0m\n\u001b[0;32m    <a href='file:///c%3A/Users/Admin/.conda/envs/myenv/lib/site-packages/joblib/_parallel_backends.py?line=205'>206</a>\u001b[0m \u001b[39mdef\u001b[39;00m \u001b[39mapply_async\u001b[39m(\u001b[39mself\u001b[39m, func, callback\u001b[39m=\u001b[39m\u001b[39mNone\u001b[39;00m):\n\u001b[0;32m    <a href='file:///c%3A/Users/Admin/.conda/envs/myenv/lib/site-packages/joblib/_parallel_backends.py?line=206'>207</a>\u001b[0m     \u001b[39m\"\"\"Schedule a func to be run\"\"\"\u001b[39;00m\n\u001b[1;32m--> <a href='file:///c%3A/Users/Admin/.conda/envs/myenv/lib/site-packages/joblib/_parallel_backends.py?line=207'>208</a>\u001b[0m     result \u001b[39m=\u001b[39m ImmediateResult(func)\n\u001b[0;32m    <a href='file:///c%3A/Users/Admin/.conda/envs/myenv/lib/site-packages/joblib/_parallel_backends.py?line=208'>209</a>\u001b[0m     \u001b[39mif\u001b[39;00m callback:\n\u001b[0;32m    <a href='file:///c%3A/Users/Admin/.conda/envs/myenv/lib/site-packages/joblib/_parallel_backends.py?line=209'>210</a>\u001b[0m         callback(result)\n",
      "File \u001b[1;32m~\\.conda\\envs\\myenv\\lib\\site-packages\\joblib\\_parallel_backends.py:572\u001b[0m, in \u001b[0;36mImmediateResult.__init__\u001b[1;34m(self, batch)\u001b[0m\n\u001b[0;32m    <a href='file:///c%3A/Users/Admin/.conda/envs/myenv/lib/site-packages/joblib/_parallel_backends.py?line=568'>569</a>\u001b[0m \u001b[39mdef\u001b[39;00m \u001b[39m__init__\u001b[39m(\u001b[39mself\u001b[39m, batch):\n\u001b[0;32m    <a href='file:///c%3A/Users/Admin/.conda/envs/myenv/lib/site-packages/joblib/_parallel_backends.py?line=569'>570</a>\u001b[0m     \u001b[39m# Don't delay the application, to avoid keeping the input\u001b[39;00m\n\u001b[0;32m    <a href='file:///c%3A/Users/Admin/.conda/envs/myenv/lib/site-packages/joblib/_parallel_backends.py?line=570'>571</a>\u001b[0m     \u001b[39m# arguments in memory\u001b[39;00m\n\u001b[1;32m--> <a href='file:///c%3A/Users/Admin/.conda/envs/myenv/lib/site-packages/joblib/_parallel_backends.py?line=571'>572</a>\u001b[0m     \u001b[39mself\u001b[39m\u001b[39m.\u001b[39mresults \u001b[39m=\u001b[39m batch()\n",
      "File \u001b[1;32m~\\.conda\\envs\\myenv\\lib\\site-packages\\joblib\\parallel.py:262\u001b[0m, in \u001b[0;36mBatchedCalls.__call__\u001b[1;34m(self)\u001b[0m\n\u001b[0;32m    <a href='file:///c%3A/Users/Admin/.conda/envs/myenv/lib/site-packages/joblib/parallel.py?line=257'>258</a>\u001b[0m \u001b[39mdef\u001b[39;00m \u001b[39m__call__\u001b[39m(\u001b[39mself\u001b[39m):\n\u001b[0;32m    <a href='file:///c%3A/Users/Admin/.conda/envs/myenv/lib/site-packages/joblib/parallel.py?line=258'>259</a>\u001b[0m     \u001b[39m# Set the default nested backend to self._backend but do not set the\u001b[39;00m\n\u001b[0;32m    <a href='file:///c%3A/Users/Admin/.conda/envs/myenv/lib/site-packages/joblib/parallel.py?line=259'>260</a>\u001b[0m     \u001b[39m# change the default number of processes to -1\u001b[39;00m\n\u001b[0;32m    <a href='file:///c%3A/Users/Admin/.conda/envs/myenv/lib/site-packages/joblib/parallel.py?line=260'>261</a>\u001b[0m     \u001b[39mwith\u001b[39;00m parallel_backend(\u001b[39mself\u001b[39m\u001b[39m.\u001b[39m_backend, n_jobs\u001b[39m=\u001b[39m\u001b[39mself\u001b[39m\u001b[39m.\u001b[39m_n_jobs):\n\u001b[1;32m--> <a href='file:///c%3A/Users/Admin/.conda/envs/myenv/lib/site-packages/joblib/parallel.py?line=261'>262</a>\u001b[0m         \u001b[39mreturn\u001b[39;00m [func(\u001b[39m*\u001b[39margs, \u001b[39m*\u001b[39m\u001b[39m*\u001b[39mkwargs)\n\u001b[0;32m    <a href='file:///c%3A/Users/Admin/.conda/envs/myenv/lib/site-packages/joblib/parallel.py?line=262'>263</a>\u001b[0m                 \u001b[39mfor\u001b[39;00m func, args, kwargs \u001b[39min\u001b[39;00m \u001b[39mself\u001b[39m\u001b[39m.\u001b[39mitems]\n",
      "File \u001b[1;32m~\\.conda\\envs\\myenv\\lib\\site-packages\\joblib\\parallel.py:262\u001b[0m, in \u001b[0;36m<listcomp>\u001b[1;34m(.0)\u001b[0m\n\u001b[0;32m    <a href='file:///c%3A/Users/Admin/.conda/envs/myenv/lib/site-packages/joblib/parallel.py?line=257'>258</a>\u001b[0m \u001b[39mdef\u001b[39;00m \u001b[39m__call__\u001b[39m(\u001b[39mself\u001b[39m):\n\u001b[0;32m    <a href='file:///c%3A/Users/Admin/.conda/envs/myenv/lib/site-packages/joblib/parallel.py?line=258'>259</a>\u001b[0m     \u001b[39m# Set the default nested backend to self._backend but do not set the\u001b[39;00m\n\u001b[0;32m    <a href='file:///c%3A/Users/Admin/.conda/envs/myenv/lib/site-packages/joblib/parallel.py?line=259'>260</a>\u001b[0m     \u001b[39m# change the default number of processes to -1\u001b[39;00m\n\u001b[0;32m    <a href='file:///c%3A/Users/Admin/.conda/envs/myenv/lib/site-packages/joblib/parallel.py?line=260'>261</a>\u001b[0m     \u001b[39mwith\u001b[39;00m parallel_backend(\u001b[39mself\u001b[39m\u001b[39m.\u001b[39m_backend, n_jobs\u001b[39m=\u001b[39m\u001b[39mself\u001b[39m\u001b[39m.\u001b[39m_n_jobs):\n\u001b[1;32m--> <a href='file:///c%3A/Users/Admin/.conda/envs/myenv/lib/site-packages/joblib/parallel.py?line=261'>262</a>\u001b[0m         \u001b[39mreturn\u001b[39;00m [func(\u001b[39m*\u001b[39margs, \u001b[39m*\u001b[39m\u001b[39m*\u001b[39mkwargs)\n\u001b[0;32m    <a href='file:///c%3A/Users/Admin/.conda/envs/myenv/lib/site-packages/joblib/parallel.py?line=262'>263</a>\u001b[0m                 \u001b[39mfor\u001b[39;00m func, args, kwargs \u001b[39min\u001b[39;00m \u001b[39mself\u001b[39m\u001b[39m.\u001b[39mitems]\n",
      "File \u001b[1;32m~\\.conda\\envs\\myenv\\lib\\site-packages\\sklearn\\utils\\fixes.py:216\u001b[0m, in \u001b[0;36m_FuncWrapper.__call__\u001b[1;34m(self, *args, **kwargs)\u001b[0m\n\u001b[0;32m    <a href='file:///c%3A/Users/Admin/.conda/envs/myenv/lib/site-packages/sklearn/utils/fixes.py?line=213'>214</a>\u001b[0m \u001b[39mdef\u001b[39;00m \u001b[39m__call__\u001b[39m(\u001b[39mself\u001b[39m, \u001b[39m*\u001b[39margs, \u001b[39m*\u001b[39m\u001b[39m*\u001b[39mkwargs):\n\u001b[0;32m    <a href='file:///c%3A/Users/Admin/.conda/envs/myenv/lib/site-packages/sklearn/utils/fixes.py?line=214'>215</a>\u001b[0m     \u001b[39mwith\u001b[39;00m config_context(\u001b[39m*\u001b[39m\u001b[39m*\u001b[39m\u001b[39mself\u001b[39m\u001b[39m.\u001b[39mconfig):\n\u001b[1;32m--> <a href='file:///c%3A/Users/Admin/.conda/envs/myenv/lib/site-packages/sklearn/utils/fixes.py?line=215'>216</a>\u001b[0m         \u001b[39mreturn\u001b[39;00m \u001b[39mself\u001b[39m\u001b[39m.\u001b[39mfunction(\u001b[39m*\u001b[39margs, \u001b[39m*\u001b[39m\u001b[39m*\u001b[39mkwargs)\n",
      "File \u001b[1;32m~\\.conda\\envs\\myenv\\lib\\site-packages\\sklearn\\model_selection\\_validation.py:680\u001b[0m, in \u001b[0;36m_fit_and_score\u001b[1;34m(estimator, X, y, scorer, train, test, verbose, parameters, fit_params, return_train_score, return_parameters, return_n_test_samples, return_times, return_estimator, split_progress, candidate_progress, error_score)\u001b[0m\n\u001b[0;32m    <a href='file:///c%3A/Users/Admin/.conda/envs/myenv/lib/site-packages/sklearn/model_selection/_validation.py?line=677'>678</a>\u001b[0m         estimator\u001b[39m.\u001b[39mfit(X_train, \u001b[39m*\u001b[39m\u001b[39m*\u001b[39mfit_params)\n\u001b[0;32m    <a href='file:///c%3A/Users/Admin/.conda/envs/myenv/lib/site-packages/sklearn/model_selection/_validation.py?line=678'>679</a>\u001b[0m     \u001b[39melse\u001b[39;00m:\n\u001b[1;32m--> <a href='file:///c%3A/Users/Admin/.conda/envs/myenv/lib/site-packages/sklearn/model_selection/_validation.py?line=679'>680</a>\u001b[0m         estimator\u001b[39m.\u001b[39mfit(X_train, y_train, \u001b[39m*\u001b[39m\u001b[39m*\u001b[39mfit_params)\n\u001b[0;32m    <a href='file:///c%3A/Users/Admin/.conda/envs/myenv/lib/site-packages/sklearn/model_selection/_validation.py?line=681'>682</a>\u001b[0m \u001b[39mexcept\u001b[39;00m \u001b[39mException\u001b[39;00m:\n\u001b[0;32m    <a href='file:///c%3A/Users/Admin/.conda/envs/myenv/lib/site-packages/sklearn/model_selection/_validation.py?line=682'>683</a>\u001b[0m     \u001b[39m# Note fit time as time until error\u001b[39;00m\n\u001b[0;32m    <a href='file:///c%3A/Users/Admin/.conda/envs/myenv/lib/site-packages/sklearn/model_selection/_validation.py?line=683'>684</a>\u001b[0m     fit_time \u001b[39m=\u001b[39m time\u001b[39m.\u001b[39mtime() \u001b[39m-\u001b[39m start_time\n",
      "File \u001b[1;32m~\\.conda\\envs\\myenv\\lib\\site-packages\\sklearn\\pipeline.py:390\u001b[0m, in \u001b[0;36mPipeline.fit\u001b[1;34m(self, X, y, **fit_params)\u001b[0m\n\u001b[0;32m    <a href='file:///c%3A/Users/Admin/.conda/envs/myenv/lib/site-packages/sklearn/pipeline.py?line=363'>364</a>\u001b[0m \u001b[39m\"\"\"Fit the model.\u001b[39;00m\n\u001b[0;32m    <a href='file:///c%3A/Users/Admin/.conda/envs/myenv/lib/site-packages/sklearn/pipeline.py?line=364'>365</a>\u001b[0m \n\u001b[0;32m    <a href='file:///c%3A/Users/Admin/.conda/envs/myenv/lib/site-packages/sklearn/pipeline.py?line=365'>366</a>\u001b[0m \u001b[39mFit all the transformers one after the other and transform the\u001b[39;00m\n\u001b[1;32m   (...)\u001b[0m\n\u001b[0;32m    <a href='file:///c%3A/Users/Admin/.conda/envs/myenv/lib/site-packages/sklearn/pipeline.py?line=386'>387</a>\u001b[0m \u001b[39m    Pipeline with fitted steps.\u001b[39;00m\n\u001b[0;32m    <a href='file:///c%3A/Users/Admin/.conda/envs/myenv/lib/site-packages/sklearn/pipeline.py?line=387'>388</a>\u001b[0m \u001b[39m\"\"\"\u001b[39;00m\n\u001b[0;32m    <a href='file:///c%3A/Users/Admin/.conda/envs/myenv/lib/site-packages/sklearn/pipeline.py?line=388'>389</a>\u001b[0m fit_params_steps \u001b[39m=\u001b[39m \u001b[39mself\u001b[39m\u001b[39m.\u001b[39m_check_fit_params(\u001b[39m*\u001b[39m\u001b[39m*\u001b[39mfit_params)\n\u001b[1;32m--> <a href='file:///c%3A/Users/Admin/.conda/envs/myenv/lib/site-packages/sklearn/pipeline.py?line=389'>390</a>\u001b[0m Xt \u001b[39m=\u001b[39m \u001b[39mself\u001b[39m\u001b[39m.\u001b[39m_fit(X, y, \u001b[39m*\u001b[39m\u001b[39m*\u001b[39mfit_params_steps)\n\u001b[0;32m    <a href='file:///c%3A/Users/Admin/.conda/envs/myenv/lib/site-packages/sklearn/pipeline.py?line=390'>391</a>\u001b[0m \u001b[39mwith\u001b[39;00m _print_elapsed_time(\u001b[39m\"\u001b[39m\u001b[39mPipeline\u001b[39m\u001b[39m\"\u001b[39m, \u001b[39mself\u001b[39m\u001b[39m.\u001b[39m_log_message(\u001b[39mlen\u001b[39m(\u001b[39mself\u001b[39m\u001b[39m.\u001b[39msteps) \u001b[39m-\u001b[39m \u001b[39m1\u001b[39m)):\n\u001b[0;32m    <a href='file:///c%3A/Users/Admin/.conda/envs/myenv/lib/site-packages/sklearn/pipeline.py?line=391'>392</a>\u001b[0m     \u001b[39mif\u001b[39;00m \u001b[39mself\u001b[39m\u001b[39m.\u001b[39m_final_estimator \u001b[39m!=\u001b[39m \u001b[39m\"\u001b[39m\u001b[39mpassthrough\u001b[39m\u001b[39m\"\u001b[39m:\n",
      "File \u001b[1;32m~\\.conda\\envs\\myenv\\lib\\site-packages\\sklearn\\pipeline.py:348\u001b[0m, in \u001b[0;36mPipeline._fit\u001b[1;34m(self, X, y, **fit_params_steps)\u001b[0m\n\u001b[0;32m    <a href='file:///c%3A/Users/Admin/.conda/envs/myenv/lib/site-packages/sklearn/pipeline.py?line=345'>346</a>\u001b[0m     cloned_transformer \u001b[39m=\u001b[39m clone(transformer)\n\u001b[0;32m    <a href='file:///c%3A/Users/Admin/.conda/envs/myenv/lib/site-packages/sklearn/pipeline.py?line=346'>347</a>\u001b[0m \u001b[39m# Fit or load from cache the current transformer\u001b[39;00m\n\u001b[1;32m--> <a href='file:///c%3A/Users/Admin/.conda/envs/myenv/lib/site-packages/sklearn/pipeline.py?line=347'>348</a>\u001b[0m X, fitted_transformer \u001b[39m=\u001b[39m fit_transform_one_cached(\n\u001b[0;32m    <a href='file:///c%3A/Users/Admin/.conda/envs/myenv/lib/site-packages/sklearn/pipeline.py?line=348'>349</a>\u001b[0m     cloned_transformer,\n\u001b[0;32m    <a href='file:///c%3A/Users/Admin/.conda/envs/myenv/lib/site-packages/sklearn/pipeline.py?line=349'>350</a>\u001b[0m     X,\n\u001b[0;32m    <a href='file:///c%3A/Users/Admin/.conda/envs/myenv/lib/site-packages/sklearn/pipeline.py?line=350'>351</a>\u001b[0m     y,\n\u001b[0;32m    <a href='file:///c%3A/Users/Admin/.conda/envs/myenv/lib/site-packages/sklearn/pipeline.py?line=351'>352</a>\u001b[0m     \u001b[39mNone\u001b[39;00m,\n\u001b[0;32m    <a href='file:///c%3A/Users/Admin/.conda/envs/myenv/lib/site-packages/sklearn/pipeline.py?line=352'>353</a>\u001b[0m     message_clsname\u001b[39m=\u001b[39m\u001b[39m\"\u001b[39m\u001b[39mPipeline\u001b[39m\u001b[39m\"\u001b[39m,\n\u001b[0;32m    <a href='file:///c%3A/Users/Admin/.conda/envs/myenv/lib/site-packages/sklearn/pipeline.py?line=353'>354</a>\u001b[0m     message\u001b[39m=\u001b[39m\u001b[39mself\u001b[39m\u001b[39m.\u001b[39m_log_message(step_idx),\n\u001b[0;32m    <a href='file:///c%3A/Users/Admin/.conda/envs/myenv/lib/site-packages/sklearn/pipeline.py?line=354'>355</a>\u001b[0m     \u001b[39m*\u001b[39m\u001b[39m*\u001b[39mfit_params_steps[name],\n\u001b[0;32m    <a href='file:///c%3A/Users/Admin/.conda/envs/myenv/lib/site-packages/sklearn/pipeline.py?line=355'>356</a>\u001b[0m )\n\u001b[0;32m    <a href='file:///c%3A/Users/Admin/.conda/envs/myenv/lib/site-packages/sklearn/pipeline.py?line=356'>357</a>\u001b[0m \u001b[39m# Replace the transformer of the step with the fitted\u001b[39;00m\n\u001b[0;32m    <a href='file:///c%3A/Users/Admin/.conda/envs/myenv/lib/site-packages/sklearn/pipeline.py?line=357'>358</a>\u001b[0m \u001b[39m# transformer. This is necessary when loading the transformer\u001b[39;00m\n\u001b[0;32m    <a href='file:///c%3A/Users/Admin/.conda/envs/myenv/lib/site-packages/sklearn/pipeline.py?line=358'>359</a>\u001b[0m \u001b[39m# from the cache.\u001b[39;00m\n\u001b[0;32m    <a href='file:///c%3A/Users/Admin/.conda/envs/myenv/lib/site-packages/sklearn/pipeline.py?line=359'>360</a>\u001b[0m \u001b[39mself\u001b[39m\u001b[39m.\u001b[39msteps[step_idx] \u001b[39m=\u001b[39m (name, fitted_transformer)\n",
      "File \u001b[1;32m~\\.conda\\envs\\myenv\\lib\\site-packages\\joblib\\memory.py:349\u001b[0m, in \u001b[0;36mNotMemorizedFunc.__call__\u001b[1;34m(self, *args, **kwargs)\u001b[0m\n\u001b[0;32m    <a href='file:///c%3A/Users/Admin/.conda/envs/myenv/lib/site-packages/joblib/memory.py?line=347'>348</a>\u001b[0m \u001b[39mdef\u001b[39;00m \u001b[39m__call__\u001b[39m(\u001b[39mself\u001b[39m, \u001b[39m*\u001b[39margs, \u001b[39m*\u001b[39m\u001b[39m*\u001b[39mkwargs):\n\u001b[1;32m--> <a href='file:///c%3A/Users/Admin/.conda/envs/myenv/lib/site-packages/joblib/memory.py?line=348'>349</a>\u001b[0m     \u001b[39mreturn\u001b[39;00m \u001b[39mself\u001b[39m\u001b[39m.\u001b[39mfunc(\u001b[39m*\u001b[39margs, \u001b[39m*\u001b[39m\u001b[39m*\u001b[39mkwargs)\n",
      "File \u001b[1;32m~\\.conda\\envs\\myenv\\lib\\site-packages\\sklearn\\pipeline.py:893\u001b[0m, in \u001b[0;36m_fit_transform_one\u001b[1;34m(transformer, X, y, weight, message_clsname, message, **fit_params)\u001b[0m\n\u001b[0;32m    <a href='file:///c%3A/Users/Admin/.conda/envs/myenv/lib/site-packages/sklearn/pipeline.py?line=890'>891</a>\u001b[0m \u001b[39mwith\u001b[39;00m _print_elapsed_time(message_clsname, message):\n\u001b[0;32m    <a href='file:///c%3A/Users/Admin/.conda/envs/myenv/lib/site-packages/sklearn/pipeline.py?line=891'>892</a>\u001b[0m     \u001b[39mif\u001b[39;00m \u001b[39mhasattr\u001b[39m(transformer, \u001b[39m\"\u001b[39m\u001b[39mfit_transform\u001b[39m\u001b[39m\"\u001b[39m):\n\u001b[1;32m--> <a href='file:///c%3A/Users/Admin/.conda/envs/myenv/lib/site-packages/sklearn/pipeline.py?line=892'>893</a>\u001b[0m         res \u001b[39m=\u001b[39m transformer\u001b[39m.\u001b[39mfit_transform(X, y, \u001b[39m*\u001b[39m\u001b[39m*\u001b[39mfit_params)\n\u001b[0;32m    <a href='file:///c%3A/Users/Admin/.conda/envs/myenv/lib/site-packages/sklearn/pipeline.py?line=893'>894</a>\u001b[0m     \u001b[39melse\u001b[39;00m:\n\u001b[0;32m    <a href='file:///c%3A/Users/Admin/.conda/envs/myenv/lib/site-packages/sklearn/pipeline.py?line=894'>895</a>\u001b[0m         res \u001b[39m=\u001b[39m transformer\u001b[39m.\u001b[39mfit(X, y, \u001b[39m*\u001b[39m\u001b[39m*\u001b[39mfit_params)\u001b[39m.\u001b[39mtransform(X)\n",
      "File \u001b[1;32m~\\.conda\\envs\\myenv\\lib\\site-packages\\sklearn\\feature_extraction\\text.py:1330\u001b[0m, in \u001b[0;36mCountVectorizer.fit_transform\u001b[1;34m(self, raw_documents, y)\u001b[0m\n\u001b[0;32m   <a href='file:///c%3A/Users/Admin/.conda/envs/myenv/lib/site-packages/sklearn/feature_extraction/text.py?line=1321'>1322</a>\u001b[0m             warnings\u001b[39m.\u001b[39mwarn(\n\u001b[0;32m   <a href='file:///c%3A/Users/Admin/.conda/envs/myenv/lib/site-packages/sklearn/feature_extraction/text.py?line=1322'>1323</a>\u001b[0m                 \u001b[39m\"\u001b[39m\u001b[39mUpper case characters found in\u001b[39m\u001b[39m\"\u001b[39m\n\u001b[0;32m   <a href='file:///c%3A/Users/Admin/.conda/envs/myenv/lib/site-packages/sklearn/feature_extraction/text.py?line=1323'>1324</a>\u001b[0m                 \u001b[39m\"\u001b[39m\u001b[39m vocabulary while \u001b[39m\u001b[39m'\u001b[39m\u001b[39mlowercase\u001b[39m\u001b[39m'\u001b[39m\u001b[39m\"\u001b[39m\n\u001b[0;32m   <a href='file:///c%3A/Users/Admin/.conda/envs/myenv/lib/site-packages/sklearn/feature_extraction/text.py?line=1324'>1325</a>\u001b[0m                 \u001b[39m\"\u001b[39m\u001b[39m is True. These entries will not\u001b[39m\u001b[39m\"\u001b[39m\n\u001b[0;32m   <a href='file:///c%3A/Users/Admin/.conda/envs/myenv/lib/site-packages/sklearn/feature_extraction/text.py?line=1325'>1326</a>\u001b[0m                 \u001b[39m\"\u001b[39m\u001b[39m be matched with any documents\u001b[39m\u001b[39m\"\u001b[39m\n\u001b[0;32m   <a href='file:///c%3A/Users/Admin/.conda/envs/myenv/lib/site-packages/sklearn/feature_extraction/text.py?line=1326'>1327</a>\u001b[0m             )\n\u001b[0;32m   <a href='file:///c%3A/Users/Admin/.conda/envs/myenv/lib/site-packages/sklearn/feature_extraction/text.py?line=1327'>1328</a>\u001b[0m             \u001b[39mbreak\u001b[39;00m\n\u001b[1;32m-> <a href='file:///c%3A/Users/Admin/.conda/envs/myenv/lib/site-packages/sklearn/feature_extraction/text.py?line=1329'>1330</a>\u001b[0m vocabulary, X \u001b[39m=\u001b[39m \u001b[39mself\u001b[39;49m\u001b[39m.\u001b[39;49m_count_vocab(raw_documents, \u001b[39mself\u001b[39;49m\u001b[39m.\u001b[39;49mfixed_vocabulary_)\n\u001b[0;32m   <a href='file:///c%3A/Users/Admin/.conda/envs/myenv/lib/site-packages/sklearn/feature_extraction/text.py?line=1331'>1332</a>\u001b[0m \u001b[39mif\u001b[39;00m \u001b[39mself\u001b[39m\u001b[39m.\u001b[39mbinary:\n\u001b[0;32m   <a href='file:///c%3A/Users/Admin/.conda/envs/myenv/lib/site-packages/sklearn/feature_extraction/text.py?line=1332'>1333</a>\u001b[0m     X\u001b[39m.\u001b[39mdata\u001b[39m.\u001b[39mfill(\u001b[39m1\u001b[39m)\n",
      "File \u001b[1;32m~\\.conda\\envs\\myenv\\lib\\site-packages\\sklearn\\feature_extraction\\text.py:1205\u001b[0m, in \u001b[0;36mCountVectorizer._count_vocab\u001b[1;34m(self, raw_documents, fixed_vocab)\u001b[0m\n\u001b[0;32m   <a href='file:///c%3A/Users/Admin/.conda/envs/myenv/lib/site-packages/sklearn/feature_extraction/text.py?line=1202'>1203</a>\u001b[0m feature_idx \u001b[39m=\u001b[39m vocabulary[feature]\n\u001b[0;32m   <a href='file:///c%3A/Users/Admin/.conda/envs/myenv/lib/site-packages/sklearn/feature_extraction/text.py?line=1203'>1204</a>\u001b[0m \u001b[39mif\u001b[39;00m feature_idx \u001b[39mnot\u001b[39;00m \u001b[39min\u001b[39;00m feature_counter:\n\u001b[1;32m-> <a href='file:///c%3A/Users/Admin/.conda/envs/myenv/lib/site-packages/sklearn/feature_extraction/text.py?line=1204'>1205</a>\u001b[0m     feature_counter[feature_idx] \u001b[39m=\u001b[39m \u001b[39m1\u001b[39m\n\u001b[0;32m   <a href='file:///c%3A/Users/Admin/.conda/envs/myenv/lib/site-packages/sklearn/feature_extraction/text.py?line=1205'>1206</a>\u001b[0m \u001b[39melse\u001b[39;00m:\n\u001b[0;32m   <a href='file:///c%3A/Users/Admin/.conda/envs/myenv/lib/site-packages/sklearn/feature_extraction/text.py?line=1206'>1207</a>\u001b[0m     feature_counter[feature_idx] \u001b[39m+\u001b[39m\u001b[39m=\u001b[39m \u001b[39m1\u001b[39m\n",
      "\u001b[1;31mKeyboardInterrupt\u001b[0m: "
     ]
    }
   ],
   "source": [
    "# Fitting GridSearchCV with CountVectorizer transformer on X_train and y_train.\n",
    "\n",
    "gs_pipe1.fit(X_train, y_train)"
   ]
  },
  {
   "cell_type": "code",
   "execution_count": null,
   "metadata": {},
   "outputs": [
    {
     "data": {
      "text/plain": [
       "GridSearchCV(cv=5,\n",
       "             estimator=Pipeline(steps=[('tfvec2', TfidfVectorizer()),\n",
       "                                       ('logreg2', LogisticRegression())]),\n",
       "             param_grid={'logreg2__max_iter': [1000],\n",
       "                         'tfvec2__max_df': [0.7, 0.8],\n",
       "                         'tfvec2__max_features': [1000, 2000, 3000],\n",
       "                         'tfvec2__min_df': [0.02, 0.05],\n",
       "                         'tfvec2__ngram_range': [(1, 1), (1, 2)]})"
      ]
     },
     "execution_count": 121,
     "metadata": {},
     "output_type": "execute_result"
    }
   ],
   "source": [
    "# Fitting GridSearchCV with TfidfVectorizer transformer on X_train and y_train.\n",
    "\n",
    "gs_pipe2.fit(X_train, y_train)"
   ]
  },
  {
   "cell_type": "code",
   "execution_count": null,
   "metadata": {},
   "outputs": [
    {
     "data": {
      "text/plain": [
       "{'cvec1__max_df': 0.7,\n",
       " 'cvec1__max_features': 1000,\n",
       " 'cvec1__min_df': 0.02,\n",
       " 'cvec1__ngram_range': (1, 1),\n",
       " 'logreg1__max_iter': 1000}"
      ]
     },
     "execution_count": 122,
     "metadata": {},
     "output_type": "execute_result"
    }
   ],
   "source": [
    "# Best combination of hyperparameters suggested by GridSearchCV for CountVectorizer transformer.\n",
    "\n",
    "gs_pipe1.best_params_"
   ]
  },
  {
   "cell_type": "code",
   "execution_count": null,
   "metadata": {},
   "outputs": [
    {
     "data": {
      "text/plain": [
       "{'logreg2__max_iter': 1000,\n",
       " 'tfvec2__max_df': 0.7,\n",
       " 'tfvec2__max_features': 1000,\n",
       " 'tfvec2__min_df': 0.02,\n",
       " 'tfvec2__ngram_range': (1, 1)}"
      ]
     },
     "execution_count": 123,
     "metadata": {},
     "output_type": "execute_result"
    }
   ],
   "source": [
    "# Best combination of hyperparameters suggested by GridSearchCV for TfidfVectorizer transformer.\n",
    "\n",
    "gs_pipe2.best_params_"
   ]
  },
  {
   "cell_type": "code",
   "execution_count": null,
   "metadata": {},
   "outputs": [
    {
     "name": "stdout",
     "output_type": "stream",
     "text": [
      "CountVectorizer with LogisticRegression summary of accuracy scores:\n",
      "GridSearchCV best accuracy = 0.864\n",
      "\n",
      "Using GridSearchCV best params suggested,\n",
      "Training corpus accuracy = 0.898\n",
      "Testing corpus accuracy = 0.865\n"
     ]
    }
   ],
   "source": [
    "# Summary scores of CountVectorizer and LogisticRegression.\n",
    "\n",
    "print(\"CountVectorizer with LogisticRegression summary of accuracy scores:\")\n",
    "print(f\"GridSearchCV best accuracy = {round(gs_pipe1.best_score_, 3)}\")\n",
    "print(\"\\nUsing GridSearchCV best params suggested,\")\n",
    "print(f\"Training corpus accuracy = {round(gs_pipe1.score(X_train, y_train), 3)}\")\n",
    "print(f\"Testing corpus accuracy = {round(gs_pipe1.score(X_test, y_test), 3)}\")"
   ]
  },
  {
   "cell_type": "code",
   "execution_count": null,
   "metadata": {},
   "outputs": [
    {
     "name": "stdout",
     "output_type": "stream",
     "text": [
      "TfidfVectorizer with LogisticRegression summary of accuracy scores:\n",
      "GridSearchCV best accuracy = 0.868\n",
      "\n",
      "Using GridSearchCV best params suggested,\n",
      "Training corpus accuracy = 0.89\n",
      "Testing corpus accuracy = 0.87\n"
     ]
    }
   ],
   "source": [
    "# Summary scores of TfidfVectorizer and LogisticRegression.\n",
    "\n",
    "print(\"TfidfVectorizer with LogisticRegression summary of accuracy scores:\")\n",
    "print(f\"GridSearchCV best accuracy = {round(gs_pipe2.best_score_, 3)}\")\n",
    "print(\"\\nUsing GridSearchCV best params suggested,\")\n",
    "print(f\"Training corpus accuracy = {round(gs_pipe2.score(X_train, y_train), 3)}\")\n",
    "print(f\"Testing corpus accuracy = {round(gs_pipe2.score(X_test, y_test), 3)}\")"
   ]
  },
  {
   "cell_type": "code",
   "execution_count": null,
   "metadata": {},
   "outputs": [],
   "source": [
    "# Creacting a summary dataframe.\n",
    "\n",
    "summary_df = pd.DataFrame(columns=['transformer_estimator', \n",
    "                                   'GS_best_params', \n",
    "                                   'GS_best_score', \n",
    "                                   'train_accuracy', \n",
    "                                   'test_accuracy'\n",
    "                                  ])"
   ]
  },
  {
   "cell_type": "code",
   "execution_count": null,
   "metadata": {},
   "outputs": [],
   "source": [
    "# Adding the accuracy scores from above two GridSearchCV models into summary_df.\n",
    "\n",
    "summary_df.loc[1] = ['CountVec, LogReg',\n",
    "                     'max_features=500, min_df=0.05, max_df=0.8, ngram_range=(1,2)',\n",
    "                     round(gs_pipe1.best_score_, 3),\n",
    "                     round(gs_pipe1.score(X_train, y_train), 3),\n",
    "                     round(gs_pipe1.score(X_test, y_test), 3)\n",
    "                    ]\n",
    "\n",
    "summary_df.loc[2] = ['TfidfVec, LogReg',\n",
    "                     'max_features=500, min_df=0.05, max_df=0.8, ngram_range=(1,1)',\n",
    "                     round(gs_pipe2.best_score_, 3),\n",
    "                     round(gs_pipe2.score(X_train, y_train), 3),\n",
    "                     round(gs_pipe2.score(X_test, y_test), 3)\n",
    "                    ]"
   ]
  },
  {
   "cell_type": "code",
   "execution_count": null,
   "metadata": {},
   "outputs": [
    {
     "data": {
      "text/html": [
       "<div>\n",
       "<style scoped>\n",
       "    .dataframe tbody tr th:only-of-type {\n",
       "        vertical-align: middle;\n",
       "    }\n",
       "\n",
       "    .dataframe tbody tr th {\n",
       "        vertical-align: top;\n",
       "    }\n",
       "\n",
       "    .dataframe thead th {\n",
       "        text-align: right;\n",
       "    }\n",
       "</style>\n",
       "<table border=\"1\" class=\"dataframe\">\n",
       "  <thead>\n",
       "    <tr style=\"text-align: right;\">\n",
       "      <th></th>\n",
       "      <th>transformer_estimator</th>\n",
       "      <th>GS_best_params</th>\n",
       "      <th>GS_best_score</th>\n",
       "      <th>train_accuracy</th>\n",
       "      <th>test_accuracy</th>\n",
       "    </tr>\n",
       "  </thead>\n",
       "  <tbody>\n",
       "    <tr>\n",
       "      <th>1</th>\n",
       "      <td>CountVec, LogReg</td>\n",
       "      <td>max_features=500, min_df=0.05, max_df=0.8, ngram_range=(1,2)</td>\n",
       "      <td>0.864</td>\n",
       "      <td>0.898</td>\n",
       "      <td>0.865</td>\n",
       "    </tr>\n",
       "    <tr>\n",
       "      <th>2</th>\n",
       "      <td>TfidfVec, LogReg</td>\n",
       "      <td>max_features=500, min_df=0.05, max_df=0.8, ngram_range=(1,1)</td>\n",
       "      <td>0.868</td>\n",
       "      <td>0.890</td>\n",
       "      <td>0.870</td>\n",
       "    </tr>\n",
       "  </tbody>\n",
       "</table>\n",
       "</div>"
      ],
      "text/plain": [
       "  transformer_estimator  \\\n",
       "1      CountVec, LogReg   \n",
       "2      TfidfVec, LogReg   \n",
       "\n",
       "                                                 GS_best_params  \\\n",
       "1  max_features=500, min_df=0.05, max_df=0.8, ngram_range=(1,2)   \n",
       "2  max_features=500, min_df=0.05, max_df=0.8, ngram_range=(1,1)   \n",
       "\n",
       "   GS_best_score  train_accuracy  test_accuracy  \n",
       "1          0.864           0.898          0.865  \n",
       "2          0.868           0.890          0.870  "
      ]
     },
     "execution_count": 136,
     "metadata": {},
     "output_type": "execute_result"
    }
   ],
   "source": [
    "summary_df"
   ]
  },
  {
   "cell_type": "markdown",
   "metadata": {},
   "source": [
    "From the summary table, we can infer that the best combination of transformer hyperparameters to be \n",
    "- *max_features* = 500\n",
    "- *min_df* = 0.05 \n",
    "- *max_df* = 0.8 \n",
    "- ngram_range=(1,2)\t- for *tfidfVectorizer*\n",
    "\n",
    "Judging solely on the accuracy scores, using **CountVectorizer** has very good accuracy on the training but did poorly on the testing corpus. This implies that this model is **overfitting on the training corpus**. \n",
    "\n",
    "On the other, using **TfidfVectorizer** transformer has better accuracy fir GSCV best score, and lesser delta between the train and test accuracy scores, suggesting that the **model may not be as overfitted than *CountVectorizer***\n",
    "\n",
    "Therefore, I will use *TfidfVectorizer* for further classification model.\n",
    "\n"
   ]
  },
  {
   "cell_type": "markdown",
   "metadata": {},
   "source": [
    "### TfidfVectorizer with MultinomialNB"
   ]
  },
  {
   "cell_type": "markdown",
   "metadata": {},
   "source": [
    "There are 3 common types of Naive Bayes models: *Bernoulli Naive Bayes*, *Multinomial Naive Bayes*, and *Gaussian Naive Bayes*.\n",
    "\n",
    "- [Bernoulli Naive Bayes](https://scikit-learn.org/stable/modules/generated/sklearn.naive_bayes.BernoulliNB.html#sklearn.naive_bayes.BernoulliNB): when we have 0/1 variables.\n",
    "- [Multinomial Naive Bayes](https://scikit-learn.org/stable/modules/generated/sklearn.naive_bayes.MultinomialNB.html#sklearn.naive_bayes.MultinomialNB): when our variables are positive integers.\n",
    "- [Gaussian Naive Bayes](https://scikit-learn.org/stable/modules/generated/sklearn.naive_bayes.GaussianNB.html#sklearn.naive_bayes.GaussianNB): when our features are Normally distributed.\n",
    "\n",
    "We will be using ***MultinomialNB*** as it consideres a feature vector with all the individual words in a all post where a given term represent the number of times it appears. "
   ]
  },
  {
   "cell_type": "code",
   "execution_count": null,
   "metadata": {},
   "outputs": [],
   "source": [
    "# create pipe3 for transformer: TfidfVectorizer and estimator using MultinomialNB\n",
    "\n",
    "pipe3 = Pipeline([('tfvec', TfidfVectorizer()),\n",
    "                  ('nb', MultinomialNB())\n",
    "                 ])"
   ]
  },
  {
   "cell_type": "code",
   "execution_count": null,
   "metadata": {},
   "outputs": [],
   "source": [
    "# creating parameters for GridSearch SV using hyperparameters as shown below \n",
    "pipe3_params = {'tfvec__max_features': [3500,4500,5500],\n",
    "                'tfvec__min_df': [0.001, 0.005, 0.01],\n",
    "                'tfvec__max_df': [0.7,0.75,0.8],\n",
    "                'tfvec__ngram_range': [(1,1)],\n",
    "                'nb__alpha' : [1.0e-10]\n",
    "}"
   ]
  },
  {
   "cell_type": "code",
   "execution_count": null,
   "metadata": {},
   "outputs": [],
   "source": [
    "# Creatingg GridSeachCV using pipeline: pipe3 and params_grid:  pipe3_params\n",
    "\n",
    "gs_pipe3 = GridSearchCV(pipe3, param_grid=pipe3_params, cv=5)"
   ]
  },
  {
   "cell_type": "code",
   "execution_count": null,
   "metadata": {},
   "outputs": [
    {
     "data": {
      "text/plain": [
       "GridSearchCV(cv=5,\n",
       "             estimator=Pipeline(steps=[('tfvec', TfidfVectorizer()),\n",
       "                                       ('nb', MultinomialNB())]),\n",
       "             param_grid={'nb__alpha': [1e-10], 'tfvec__max_df': [0.5, 0.6, 0.7],\n",
       "                         'tfvec__max_features': [2000, 4000, 6000],\n",
       "                         'tfvec__min_df': [0.001, 0.005, 0.01],\n",
       "                         'tfvec__ngram_range': [(1, 1)]})"
      ]
     },
     "execution_count": 231,
     "metadata": {},
     "output_type": "execute_result"
    }
   ],
   "source": [
    "# Fitting GridSearchCV with CountVectorizer transformer on X_train and y_train.\n",
    "\n",
    "gs_pipe3.fit(X_train, y_train)"
   ]
  },
  {
   "cell_type": "code",
   "execution_count": null,
   "metadata": {},
   "outputs": [
    {
     "data": {
      "text/plain": [
       "{'nb__alpha': 1e-10,\n",
       " 'tfvec__max_df': 0.7,\n",
       " 'tfvec__max_features': 4000,\n",
       " 'tfvec__min_df': 0.005,\n",
       " 'tfvec__ngram_range': (1, 1)}"
      ]
     },
     "execution_count": 232,
     "metadata": {},
     "output_type": "execute_result"
    }
   ],
   "source": [
    "# Get best parameters using MultinomialNB and TfidfVectorizer\n",
    "\n",
    "gs_pipe3.best_params_"
   ]
  },
  {
   "cell_type": "code",
   "execution_count": null,
   "metadata": {},
   "outputs": [
    {
     "name": "stdout",
     "output_type": "stream",
     "text": [
      "TfidfVectorizer with MultinomialNB summary of accuracy scores:\n",
      "GridSearchCV best accuracy = 0.845\n",
      "\n",
      "Using GridSearchCV best params suggested,\n",
      "Training corpus accuracy = 0.859\n",
      "Testing corpus accuracy = 0.852\n"
     ]
    }
   ],
   "source": [
    "# Summary scores of TfidfVectorizer and MultinomialNB.\n",
    "\n",
    "print(\"TfidfVectorizer with MultinomialNB summary of accuracy scores:\")\n",
    "print(f\"GridSearchCV best accuracy = {round(gs_pipe3.best_score_, 3)}\")\n",
    "print(\"\\nUsing GridSearchCV best params suggested,\")\n",
    "print(f\"Training corpus accuracy = {round(gs_pipe3.score(X_train, y_train), 3)}\")\n",
    "print(f\"Testing corpus accuracy = {round(gs_pipe3.score(X_test, y_test), 3)}\")"
   ]
  },
  {
   "cell_type": "code",
   "execution_count": null,
   "metadata": {},
   "outputs": [],
   "source": [
    "# adding summary \n",
    "\n",
    "summary_df.loc[3] = ['TfidfVec, MultinomialNB',\n",
    "                     'max_features=500, min_df=0.05, max_df=0.8, ngram_range=(1,1)',\n",
    "                     round(gs_pipe3.best_score_, 3),\n",
    "                     round(gs_pipe3.score(X_train, y_train), 3),\n",
    "                     round(gs_pipe3.score(X_test, y_test), 3)\n",
    "                    ]"
   ]
  },
  {
   "cell_type": "code",
   "execution_count": null,
   "metadata": {},
   "outputs": [
    {
     "data": {
      "text/html": [
       "<div>\n",
       "<style scoped>\n",
       "    .dataframe tbody tr th:only-of-type {\n",
       "        vertical-align: middle;\n",
       "    }\n",
       "\n",
       "    .dataframe tbody tr th {\n",
       "        vertical-align: top;\n",
       "    }\n",
       "\n",
       "    .dataframe thead th {\n",
       "        text-align: right;\n",
       "    }\n",
       "</style>\n",
       "<table border=\"1\" class=\"dataframe\">\n",
       "  <thead>\n",
       "    <tr style=\"text-align: right;\">\n",
       "      <th></th>\n",
       "      <th>transformer_estimator</th>\n",
       "      <th>GS_best_params</th>\n",
       "      <th>GS_best_score</th>\n",
       "      <th>train_accuracy</th>\n",
       "      <th>test_accuracy</th>\n",
       "    </tr>\n",
       "  </thead>\n",
       "  <tbody>\n",
       "    <tr>\n",
       "      <th>1</th>\n",
       "      <td>CountVec, LogReg</td>\n",
       "      <td>max_features=500, min_df=0.05, max_df=0.8, ngram_range=(1,2)</td>\n",
       "      <td>0.864</td>\n",
       "      <td>0.898</td>\n",
       "      <td>0.865</td>\n",
       "    </tr>\n",
       "    <tr>\n",
       "      <th>2</th>\n",
       "      <td>TfidfVec, LogReg</td>\n",
       "      <td>max_features=500, min_df=0.05, max_df=0.8, ngram_range=(1,1)</td>\n",
       "      <td>0.868</td>\n",
       "      <td>0.890</td>\n",
       "      <td>0.870</td>\n",
       "    </tr>\n",
       "    <tr>\n",
       "      <th>3</th>\n",
       "      <td>TfidfVec, MultinomialNB</td>\n",
       "      <td>max_features=500, min_df=0.05, max_df=0.8, ngram_range=(1,1)</td>\n",
       "      <td>0.845</td>\n",
       "      <td>0.859</td>\n",
       "      <td>0.852</td>\n",
       "    </tr>\n",
       "  </tbody>\n",
       "</table>\n",
       "</div>"
      ],
      "text/plain": [
       "     transformer_estimator  \\\n",
       "1         CountVec, LogReg   \n",
       "2         TfidfVec, LogReg   \n",
       "3  TfidfVec, MultinomialNB   \n",
       "\n",
       "                                                 GS_best_params  \\\n",
       "1  max_features=500, min_df=0.05, max_df=0.8, ngram_range=(1,2)   \n",
       "2  max_features=500, min_df=0.05, max_df=0.8, ngram_range=(1,1)   \n",
       "3  max_features=500, min_df=0.05, max_df=0.8, ngram_range=(1,1)   \n",
       "\n",
       "   GS_best_score  train_accuracy  test_accuracy  \n",
       "1          0.864           0.898          0.865  \n",
       "2          0.868           0.890          0.870  \n",
       "3          0.845           0.859          0.852  "
      ]
     },
     "execution_count": 235,
     "metadata": {},
     "output_type": "execute_result"
    }
   ],
   "source": [
    "summary_df"
   ]
  },
  {
   "cell_type": "markdown",
   "metadata": {},
   "source": [
    "TfidfVectorizer with MultinomialNB summary of accuracy scores:\n",
    "GridSearchCV best accuracy = 0.844\n",
    "\n",
    "Using GridSearchCV best params suggested,\n",
    "Training corpus accuracy = 0.85\n",
    "Testing corpus accuracy = 0.853"
   ]
  },
  {
   "cell_type": "code",
   "execution_count": null,
   "metadata": {},
   "outputs": [
    {
     "ename": "SyntaxError",
     "evalue": "invalid syntax (1763773627.py, line 1)",
     "output_type": "error",
     "traceback": [
      "\u001b[1;36m  Input \u001b[1;32mIn [236]\u001b[1;36m\u001b[0m\n\u001b[1;33m    =\u001b[0m\n\u001b[1;37m    ^\u001b[0m\n\u001b[1;31mSyntaxError\u001b[0m\u001b[1;31m:\u001b[0m invalid syntax\n"
     ]
    }
   ],
   "source": [
    "="
   ]
  },
  {
   "cell_type": "code",
   "execution_count": null,
   "metadata": {},
   "outputs": [],
   "source": []
  },
  {
   "cell_type": "code",
   "execution_count": null,
   "metadata": {},
   "outputs": [
    {
     "data": {
      "text/plain": [
       "['i',\n",
       " 'me',\n",
       " 'my',\n",
       " 'myself',\n",
       " 'we',\n",
       " 'our',\n",
       " 'ours',\n",
       " 'ourselves',\n",
       " 'you',\n",
       " \"you're\",\n",
       " \"you've\",\n",
       " \"you'll\",\n",
       " \"you'd\",\n",
       " 'your',\n",
       " 'yours',\n",
       " 'yourself',\n",
       " 'yourselves',\n",
       " 'he',\n",
       " 'him',\n",
       " 'his',\n",
       " 'himself',\n",
       " 'she',\n",
       " \"she's\",\n",
       " 'her',\n",
       " 'hers',\n",
       " 'herself',\n",
       " 'it',\n",
       " \"it's\",\n",
       " 'its',\n",
       " 'itself',\n",
       " 'they',\n",
       " 'them',\n",
       " 'their',\n",
       " 'theirs',\n",
       " 'themselves',\n",
       " 'what',\n",
       " 'which',\n",
       " 'who',\n",
       " 'whom',\n",
       " 'this',\n",
       " 'that',\n",
       " \"that'll\",\n",
       " 'these',\n",
       " 'those',\n",
       " 'am',\n",
       " 'is',\n",
       " 'are',\n",
       " 'was',\n",
       " 'were',\n",
       " 'be',\n",
       " 'been',\n",
       " 'being',\n",
       " 'have',\n",
       " 'has',\n",
       " 'had',\n",
       " 'having',\n",
       " 'do',\n",
       " 'does',\n",
       " 'did',\n",
       " 'doing',\n",
       " 'a',\n",
       " 'an',\n",
       " 'the',\n",
       " 'and',\n",
       " 'but',\n",
       " 'if',\n",
       " 'or',\n",
       " 'because',\n",
       " 'as',\n",
       " 'until',\n",
       " 'while',\n",
       " 'of',\n",
       " 'at',\n",
       " 'by',\n",
       " 'for',\n",
       " 'with',\n",
       " 'about',\n",
       " 'against',\n",
       " 'between',\n",
       " 'into',\n",
       " 'through',\n",
       " 'during',\n",
       " 'before',\n",
       " 'after',\n",
       " 'above',\n",
       " 'below',\n",
       " 'to',\n",
       " 'from',\n",
       " 'up',\n",
       " 'down',\n",
       " 'in',\n",
       " 'out',\n",
       " 'on',\n",
       " 'off',\n",
       " 'over',\n",
       " 'under',\n",
       " 'again',\n",
       " 'further',\n",
       " 'then',\n",
       " 'once',\n",
       " 'here',\n",
       " 'there',\n",
       " 'when',\n",
       " 'where',\n",
       " 'why',\n",
       " 'how',\n",
       " 'all',\n",
       " 'any',\n",
       " 'both',\n",
       " 'each',\n",
       " 'few',\n",
       " 'more',\n",
       " 'most',\n",
       " 'other',\n",
       " 'some',\n",
       " 'such',\n",
       " 'no',\n",
       " 'nor',\n",
       " 'not',\n",
       " 'only',\n",
       " 'own',\n",
       " 'same',\n",
       " 'so',\n",
       " 'than',\n",
       " 'too',\n",
       " 'very',\n",
       " 's',\n",
       " 't',\n",
       " 'can',\n",
       " 'will',\n",
       " 'just',\n",
       " 'don',\n",
       " \"don't\",\n",
       " 'should',\n",
       " \"should've\",\n",
       " 'now',\n",
       " 'd',\n",
       " 'll',\n",
       " 'm',\n",
       " 'o',\n",
       " 're',\n",
       " 've',\n",
       " 'y',\n",
       " 'ain',\n",
       " 'aren',\n",
       " \"aren't\",\n",
       " 'couldn',\n",
       " \"couldn't\",\n",
       " 'didn',\n",
       " \"didn't\",\n",
       " 'doesn',\n",
       " \"doesn't\",\n",
       " 'hadn',\n",
       " \"hadn't\",\n",
       " 'hasn',\n",
       " \"hasn't\",\n",
       " 'haven',\n",
       " \"haven't\",\n",
       " 'isn',\n",
       " \"isn't\",\n",
       " 'ma',\n",
       " 'mightn',\n",
       " \"mightn't\",\n",
       " 'mustn',\n",
       " \"mustn't\",\n",
       " 'needn',\n",
       " \"needn't\",\n",
       " 'shan',\n",
       " \"shan't\",\n",
       " 'shouldn',\n",
       " \"shouldn't\",\n",
       " 'wasn',\n",
       " \"wasn't\",\n",
       " 'weren',\n",
       " \"weren't\",\n",
       " 'won',\n",
       " \"won't\",\n",
       " 'wouldn',\n",
       " \"wouldn't\",\n",
       " 'ptsd',\n",
       " 'anxiety',\n",
       " 'cptsd',\n",
       " 'trauma',\n",
       " 'traumatized',\n",
       " 'traumas',\n",
       " 'posttraumatic',\n",
       " 'stress',\n",
       " 'disorder',\n",
       " 'traumatic',\n",
       " \"'d\",\n",
       " \"'ll\",\n",
       " \"'re\",\n",
       " \"'s\",\n",
       " \"'ve\",\n",
       " 'could',\n",
       " 'doe',\n",
       " 'ha',\n",
       " 'might',\n",
       " 'must',\n",
       " \"n't\",\n",
       " 'need',\n",
       " 'sha',\n",
       " 'wa',\n",
       " 'wo',\n",
       " 'would',\n",
       " 'abov',\n",
       " 'ani',\n",
       " 'anxieti',\n",
       " 'becaus',\n",
       " 'befor',\n",
       " 'disord',\n",
       " 'dure',\n",
       " 'hi',\n",
       " 'onc',\n",
       " 'onli',\n",
       " 'ourselv',\n",
       " 'posttraumat',\n",
       " 'themselv',\n",
       " 'thi',\n",
       " 'traumat',\n",
       " 'veri',\n",
       " 'whi',\n",
       " 'yourselv',\n",
       " 'becau',\n",
       " 'abov',\n",
       " 'ani',\n",
       " 'anxieti',\n",
       " 'becaus',\n",
       " 'befor',\n",
       " 'disord',\n",
       " 'dure',\n",
       " 'hi',\n",
       " 'onc',\n",
       " 'onli',\n",
       " 'ourselv',\n",
       " 'posttraumat',\n",
       " 'themselv',\n",
       " 'thi',\n",
       " 'traumat',\n",
       " 'veri',\n",
       " 'whi',\n",
       " 'yourselv']"
      ]
     },
     "execution_count": 215,
     "metadata": {},
     "output_type": "execute_result"
    }
   ],
   "source": [
    "# create stop word list \n",
    "stopwordlist = nltk.corpus.stopwords.words('english')\n",
    "\n",
    "# to input in subreddit headers so that we can exclude it for model\n",
    "headers = ['ptsd', 'anxiety',\"cptsd\", 'trauma','traumatized','traumas',\"posttraumatic\",'stress','disorder',\"traumatic\",\"'d\", \"'ll\", \"'re\", \"'s\", \"'ve\", 'could', 'doe', 'ha', 'might', 'must', \"n't\", 'need', 'sha', 'wa', 'wo', 'would']\n",
    "for head in headers:\n",
    "    stopwordlist.append(head)\n",
    "\n",
    "\n",
    "# Add additional list from stemmed words \n",
    "\n",
    "stemmed_data = ['abov', 'ani', 'anxieti', 'becaus', 'befor', 'disord', 'dure', 'hi', 'onc', 'onli', 'ourselv', 'posttraumat', 'themselv', 'thi', 'traumat', 'veri', 'whi', 'yourselv', 'becau','abov', 'ani', 'anxieti', 'becaus', 'befor', 'disord', 'dure', 'hi', 'onc', 'onli', 'ourselv', 'posttraumat', 'themselv', 'thi', 'traumat', 'veri', 'whi', 'yourselv']\n",
    "for stem in stemmed_data:\n",
    "    stopwordlist.append(stem)\n",
    "\n",
    "stopwordlist\n"
   ]
  },
  {
   "cell_type": "code",
   "execution_count": null,
   "metadata": {},
   "outputs": [],
   "source": [
    "X = df['selftext']\n",
    "y = df['subreddit']\n",
    "\n",
    "#  Train test split \n",
    "X_train, X_test, y_train, y_test = train_test_split(X,\n",
    "                                                    y,\n",
    "                                                    test_size=0.33,\n",
    "                                                    stratify=y,\n",
    "                                                    random_state=42)"
   ]
  },
  {
   "cell_type": "code",
   "execution_count": null,
   "metadata": {},
   "outputs": [],
   "source": [
    "vectorizer = TfidfVectorizer(stop_words=stopwordlist)    \n"
   ]
  },
  {
   "cell_type": "code",
   "execution_count": null,
   "metadata": {},
   "outputs": [
    {
     "data": {
      "text/plain": [
       "MultinomialNB()"
      ]
     },
     "execution_count": 218,
     "metadata": {},
     "output_type": "execute_result"
    }
   ],
   "source": [
    "X_train = vectorizer.fit_transform(X_train)\n",
    "X_test = vectorizer.transform(X_test)\n",
    "clf = MultinomialNB(alpha=1.0)\n",
    "clf.fit(X_train, y_train)"
   ]
  },
  {
   "cell_type": "code",
   "execution_count": null,
   "metadata": {},
   "outputs": [
    {
     "data": {
      "text/plain": [
       "1    0.501885\n",
       "0    0.498115\n",
       "Name: subreddit, dtype: float64"
      ]
     },
     "execution_count": 219,
     "metadata": {},
     "output_type": "execute_result"
    }
   ],
   "source": [
    "df['subreddit'].value_counts(normalize= True)"
   ]
  },
  {
   "cell_type": "code",
   "execution_count": null,
   "metadata": {},
   "outputs": [
    {
     "data": {
      "text/plain": [
       "array([1, 0, 0, ..., 1, 1, 1], dtype=int64)"
      ]
     },
     "execution_count": 220,
     "metadata": {},
     "output_type": "execute_result"
    }
   ],
   "source": [
    "clf.predict(X_train)\n"
   ]
  },
  {
   "cell_type": "code",
   "execution_count": null,
   "metadata": {},
   "outputs": [
    {
     "name": "stderr",
     "output_type": "stream",
     "text": [
      "C:\\Users\\Admin\\.conda\\envs\\myenv\\lib\\site-packages\\sklearn\\utils\\deprecation.py:87: FutureWarning: Function get_feature_names is deprecated; get_feature_names is deprecated in 1.0 and will be removed in 1.2. Please use get_feature_names_out instead.\n",
      "  warnings.warn(msg, category=FutureWarning)\n"
     ]
    },
    {
     "data": {
      "text/plain": [
       "'00'"
      ]
     },
     "execution_count": 221,
     "metadata": {},
     "output_type": "execute_result"
    }
   ],
   "source": [
    "vectorizer.get_feature_names()[0]"
   ]
  },
  {
   "cell_type": "code",
   "execution_count": null,
   "metadata": {},
   "outputs": [
    {
     "data": {
      "text/plain": [
       "array([[0.26981468, 0.73018532]])"
      ]
     },
     "execution_count": 222,
     "metadata": {},
     "output_type": "execute_result"
    }
   ],
   "source": [
    "# Test the prediction\n",
    "# for first row, seeing prob of getting PTSD given using the word for 00 is higher than of given not PTSD\n",
    "clf.predict_proba(X_train[0, :])\n"
   ]
  },
  {
   "cell_type": "code",
   "execution_count": null,
   "metadata": {},
   "outputs": [
    {
     "data": {
      "text/plain": [
       "(20156, 15)"
      ]
     },
     "execution_count": 223,
     "metadata": {},
     "output_type": "execute_result"
    }
   ],
   "source": [
    "df.shape"
   ]
  },
  {
   "cell_type": "code",
   "execution_count": null,
   "metadata": {},
   "outputs": [
    {
     "data": {
      "text/plain": [
       "(13504, 28384)"
      ]
     },
     "execution_count": 224,
     "metadata": {},
     "output_type": "execute_result"
    }
   ],
   "source": [
    "# need to do todense() because after we vectorise, it is in a sparse matrix\n",
    "# hence in order to read, we do todense\n",
    "\n",
    "X_train.todense().shape"
   ]
  },
  {
   "cell_type": "code",
   "execution_count": null,
   "metadata": {},
   "outputs": [
    {
     "data": {
      "text/plain": [
       "(2, 28384)"
      ]
     },
     "execution_count": 225,
     "metadata": {},
     "output_type": "execute_result"
    }
   ],
   "source": [
    "# two rows of probabilities \n",
    "# first is for 0 (NOT PTSD)\n",
    "# second is for 1 (PTSD)\n",
    "\n",
    "clf.feature_log_prob_.shape"
   ]
  },
  {
   "cell_type": "code",
   "execution_count": null,
   "metadata": {},
   "outputs": [
    {
     "name": "stdout",
     "output_type": "stream",
     "text": [
      "Log prob given not PTSD: [-10.58027037 -10.4295882  -11.15760154 ... -11.22547512 -11.22547512\n",
      " -11.22547512]\n",
      "Log prob given PTSD: [ -9.97178575 -10.30515788 -11.14866052 ... -10.8394678  -10.8394678\n",
      " -10.8394678 ]\n"
     ]
    }
   ],
   "source": [
    "print(f'Log prob given not PTSD: {clf.feature_log_prob_[1, :]}') \n",
    "\n",
    "print(f'Log prob given PTSD: {clf.feature_log_prob_[0, :]}') "
   ]
  },
  {
   "cell_type": "code",
   "execution_count": null,
   "metadata": {},
   "outputs": [
    {
     "data": {
      "text/html": [
       "<div>\n",
       "<style scoped>\n",
       "    .dataframe tbody tr th:only-of-type {\n",
       "        vertical-align: middle;\n",
       "    }\n",
       "\n",
       "    .dataframe tbody tr th {\n",
       "        vertical-align: top;\n",
       "    }\n",
       "\n",
       "    .dataframe thead th {\n",
       "        text-align: right;\n",
       "    }\n",
       "</style>\n",
       "<table border=\"1\" class=\"dataframe\">\n",
       "  <thead>\n",
       "    <tr style=\"text-align: right;\">\n",
       "      <th></th>\n",
       "      <th>Features</th>\n",
       "      <th>log_prob_diff</th>\n",
       "    </tr>\n",
       "  </thead>\n",
       "  <tbody>\n",
       "    <tr>\n",
       "      <th>10139</th>\n",
       "      <td>flashbacks</td>\n",
       "      <td>3.739169</td>\n",
       "    </tr>\n",
       "    <tr>\n",
       "      <th>20163</th>\n",
       "      <td>raped</td>\n",
       "      <td>3.289524</td>\n",
       "    </tr>\n",
       "    <tr>\n",
       "      <th>10136</th>\n",
       "      <td>flashback</td>\n",
       "      <td>3.233661</td>\n",
       "    </tr>\n",
       "    <tr>\n",
       "      <th>1050</th>\n",
       "      <td>abuser</td>\n",
       "      <td>3.165711</td>\n",
       "    </tr>\n",
       "    <tr>\n",
       "      <th>20162</th>\n",
       "      <td>rape</td>\n",
       "      <td>3.113196</td>\n",
       "    </tr>\n",
       "    <tr>\n",
       "      <th>2399</th>\n",
       "      <td>assault</td>\n",
       "      <td>3.109661</td>\n",
       "    </tr>\n",
       "    <tr>\n",
       "      <th>8674</th>\n",
       "      <td>emdr</td>\n",
       "      <td>2.860175</td>\n",
       "    </tr>\n",
       "    <tr>\n",
       "      <th>16909</th>\n",
       "      <td>nightmares</td>\n",
       "      <td>2.807720</td>\n",
       "    </tr>\n",
       "    <tr>\n",
       "      <th>1049</th>\n",
       "      <td>abused</td>\n",
       "      <td>2.801167</td>\n",
       "    </tr>\n",
       "    <tr>\n",
       "      <th>1048</th>\n",
       "      <td>abuse</td>\n",
       "      <td>2.774609</td>\n",
       "    </tr>\n",
       "    <tr>\n",
       "      <th>2400</th>\n",
       "      <td>assaulted</td>\n",
       "      <td>2.669470</td>\n",
       "    </tr>\n",
       "    <tr>\n",
       "      <th>19155</th>\n",
       "      <td>prazosin</td>\n",
       "      <td>2.570210</td>\n",
       "    </tr>\n",
       "    <tr>\n",
       "      <th>22357</th>\n",
       "      <td>sexual</td>\n",
       "      <td>2.428100</td>\n",
       "    </tr>\n",
       "    <tr>\n",
       "      <th>22363</th>\n",
       "      <td>sexually</td>\n",
       "      <td>2.310401</td>\n",
       "    </tr>\n",
       "    <tr>\n",
       "      <th>20169</th>\n",
       "      <td>rapist</td>\n",
       "      <td>2.257472</td>\n",
       "    </tr>\n",
       "    <tr>\n",
       "      <th>10042</th>\n",
       "      <td>fireworks</td>\n",
       "      <td>2.243191</td>\n",
       "    </tr>\n",
       "    <tr>\n",
       "      <th>21670</th>\n",
       "      <td>sa</td>\n",
       "      <td>2.232828</td>\n",
       "    </tr>\n",
       "    <tr>\n",
       "      <th>1051</th>\n",
       "      <td>abusers</td>\n",
       "      <td>2.205470</td>\n",
       "    </tr>\n",
       "    <tr>\n",
       "      <th>1055</th>\n",
       "      <td>abusive</td>\n",
       "      <td>2.157278</td>\n",
       "    </tr>\n",
       "    <tr>\n",
       "      <th>15669</th>\n",
       "      <td>memories</td>\n",
       "      <td>2.114507</td>\n",
       "    </tr>\n",
       "  </tbody>\n",
       "</table>\n",
       "</div>"
      ],
      "text/plain": [
       "         Features  log_prob_diff\n",
       "10139  flashbacks       3.739169\n",
       "20163       raped       3.289524\n",
       "10136   flashback       3.233661\n",
       "1050       abuser       3.165711\n",
       "20162        rape       3.113196\n",
       "2399      assault       3.109661\n",
       "8674         emdr       2.860175\n",
       "16909  nightmares       2.807720\n",
       "1049       abused       2.801167\n",
       "1048        abuse       2.774609\n",
       "2400    assaulted       2.669470\n",
       "19155    prazosin       2.570210\n",
       "22357      sexual       2.428100\n",
       "22363    sexually       2.310401\n",
       "20169      rapist       2.257472\n",
       "10042   fireworks       2.243191\n",
       "21670          sa       2.232828\n",
       "1051      abusers       2.205470\n",
       "1055      abusive       2.157278\n",
       "15669    memories       2.114507"
      ]
     },
     "execution_count": 227,
     "metadata": {},
     "output_type": "execute_result"
    }
   ],
   "source": [
    "delta = clf.feature_log_prob_[1, :] - clf.feature_log_prob_[0, :]\n",
    "\n",
    "\n",
    "df_multinomial = pd.DataFrame([[x,y] for x,y in zip(vectorizer.get_feature_names(),delta)])\n",
    "df_multinomial.rename(columns= {0: 'Features', 1: 'log_prob_diff'}, inplace = True)\n",
    "df_multinomial.sort_values(by = 'log_prob_diff', ascending = False).head(20)"
   ]
  },
  {
   "cell_type": "code",
   "execution_count": null,
   "metadata": {},
   "outputs": [
    {
     "ename": "KeyboardInterrupt",
     "evalue": "",
     "output_type": "error",
     "traceback": [
      "\u001b[1;31m---------------------------------------------------------------------------\u001b[0m",
      "\u001b[1;31mKeyboardInterrupt\u001b[0m                         Traceback (most recent call last)",
      "\u001b[1;32mc:\\Users\\Admin\\Desktop\\Github Desktop Local\\GA-Lessons\\project_3\\MultinomialNB_Model.ipynb Cell 114'\u001b[0m in \u001b[0;36m<cell line: 34>\u001b[1;34m()\u001b[0m\n\u001b[0;32m     <a href='vscode-notebook-cell:/c%3A/Users/Admin/Desktop/Github%20Desktop%20Local/GA-Lessons/project_3/MultinomialNB_Model.ipynb#ch0000088?line=22'>23</a>\u001b[0m pipe_params \u001b[39m=\u001b[39m {\n\u001b[0;32m     <a href='vscode-notebook-cell:/c%3A/Users/Admin/Desktop/Github%20Desktop%20Local/GA-Lessons/project_3/MultinomialNB_Model.ipynb#ch0000088?line=23'>24</a>\u001b[0m     \u001b[39m'\u001b[39m\u001b[39mcvec__max_features\u001b[39m\u001b[39m'\u001b[39m: [\u001b[39m1_000\u001b[39m],\n\u001b[0;32m     <a href='vscode-notebook-cell:/c%3A/Users/Admin/Desktop/Github%20Desktop%20Local/GA-Lessons/project_3/MultinomialNB_Model.ipynb#ch0000088?line=24'>25</a>\u001b[0m     \u001b[39m'\u001b[39m\u001b[39mcvec__min_df\u001b[39m\u001b[39m'\u001b[39m: [\u001b[39m.002\u001b[39m],\n\u001b[0;32m     <a href='vscode-notebook-cell:/c%3A/Users/Admin/Desktop/Github%20Desktop%20Local/GA-Lessons/project_3/MultinomialNB_Model.ipynb#ch0000088?line=25'>26</a>\u001b[0m     \u001b[39m'\u001b[39m\u001b[39mcvec__max_df\u001b[39m\u001b[39m'\u001b[39m: [\u001b[39m.6\u001b[39m],\n\u001b[0;32m     <a href='vscode-notebook-cell:/c%3A/Users/Admin/Desktop/Github%20Desktop%20Local/GA-Lessons/project_3/MultinomialNB_Model.ipynb#ch0000088?line=26'>27</a>\u001b[0m     \u001b[39m'\u001b[39m\u001b[39mcvec__ngram_range\u001b[39m\u001b[39m'\u001b[39m: [(\u001b[39m1\u001b[39m,\u001b[39m1\u001b[39m), (\u001b[39m1\u001b[39m,\u001b[39m2\u001b[39m)],\n\u001b[0;32m     <a href='vscode-notebook-cell:/c%3A/Users/Admin/Desktop/Github%20Desktop%20Local/GA-Lessons/project_3/MultinomialNB_Model.ipynb#ch0000088?line=27'>28</a>\u001b[0m }\n\u001b[0;32m     <a href='vscode-notebook-cell:/c%3A/Users/Admin/Desktop/Github%20Desktop%20Local/GA-Lessons/project_3/MultinomialNB_Model.ipynb#ch0000088?line=29'>30</a>\u001b[0m gs \u001b[39m=\u001b[39m GridSearchCV(pipe, \u001b[39m# what object are we optimizing?\u001b[39;00m\n\u001b[0;32m     <a href='vscode-notebook-cell:/c%3A/Users/Admin/Desktop/Github%20Desktop%20Local/GA-Lessons/project_3/MultinomialNB_Model.ipynb#ch0000088?line=30'>31</a>\u001b[0m                   param_grid\u001b[39m=\u001b[39mpipe_params, \u001b[39m# what parameters values are we searching?\u001b[39;00m\n\u001b[0;32m     <a href='vscode-notebook-cell:/c%3A/Users/Admin/Desktop/Github%20Desktop%20Local/GA-Lessons/project_3/MultinomialNB_Model.ipynb#ch0000088?line=31'>32</a>\u001b[0m                   cv\u001b[39m=\u001b[39m\u001b[39m5\u001b[39m) \u001b[39m# 5-fold cross-validation\u001b[39;00m\n\u001b[1;32m---> <a href='vscode-notebook-cell:/c%3A/Users/Admin/Desktop/Github%20Desktop%20Local/GA-Lessons/project_3/MultinomialNB_Model.ipynb#ch0000088?line=33'>34</a>\u001b[0m gs\u001b[39m.\u001b[39;49mfit(X_train, y_train)\n",
      "File \u001b[1;32m~\\.conda\\envs\\myenv\\lib\\site-packages\\sklearn\\model_selection\\_search.py:891\u001b[0m, in \u001b[0;36mBaseSearchCV.fit\u001b[1;34m(self, X, y, groups, **fit_params)\u001b[0m\n\u001b[0;32m    <a href='file:///c%3A/Users/Admin/.conda/envs/myenv/lib/site-packages/sklearn/model_selection/_search.py?line=884'>885</a>\u001b[0m     results \u001b[39m=\u001b[39m \u001b[39mself\u001b[39m\u001b[39m.\u001b[39m_format_results(\n\u001b[0;32m    <a href='file:///c%3A/Users/Admin/.conda/envs/myenv/lib/site-packages/sklearn/model_selection/_search.py?line=885'>886</a>\u001b[0m         all_candidate_params, n_splits, all_out, all_more_results\n\u001b[0;32m    <a href='file:///c%3A/Users/Admin/.conda/envs/myenv/lib/site-packages/sklearn/model_selection/_search.py?line=886'>887</a>\u001b[0m     )\n\u001b[0;32m    <a href='file:///c%3A/Users/Admin/.conda/envs/myenv/lib/site-packages/sklearn/model_selection/_search.py?line=888'>889</a>\u001b[0m     \u001b[39mreturn\u001b[39;00m results\n\u001b[1;32m--> <a href='file:///c%3A/Users/Admin/.conda/envs/myenv/lib/site-packages/sklearn/model_selection/_search.py?line=890'>891</a>\u001b[0m \u001b[39mself\u001b[39;49m\u001b[39m.\u001b[39;49m_run_search(evaluate_candidates)\n\u001b[0;32m    <a href='file:///c%3A/Users/Admin/.conda/envs/myenv/lib/site-packages/sklearn/model_selection/_search.py?line=892'>893</a>\u001b[0m \u001b[39m# multimetric is determined here because in the case of a callable\u001b[39;00m\n\u001b[0;32m    <a href='file:///c%3A/Users/Admin/.conda/envs/myenv/lib/site-packages/sklearn/model_selection/_search.py?line=893'>894</a>\u001b[0m \u001b[39m# self.scoring the return type is only known after calling\u001b[39;00m\n\u001b[0;32m    <a href='file:///c%3A/Users/Admin/.conda/envs/myenv/lib/site-packages/sklearn/model_selection/_search.py?line=894'>895</a>\u001b[0m first_test_score \u001b[39m=\u001b[39m all_out[\u001b[39m0\u001b[39m][\u001b[39m\"\u001b[39m\u001b[39mtest_scores\u001b[39m\u001b[39m\"\u001b[39m]\n",
      "File \u001b[1;32m~\\.conda\\envs\\myenv\\lib\\site-packages\\sklearn\\model_selection\\_search.py:1392\u001b[0m, in \u001b[0;36mGridSearchCV._run_search\u001b[1;34m(self, evaluate_candidates)\u001b[0m\n\u001b[0;32m   <a href='file:///c%3A/Users/Admin/.conda/envs/myenv/lib/site-packages/sklearn/model_selection/_search.py?line=1389'>1390</a>\u001b[0m \u001b[39mdef\u001b[39;00m \u001b[39m_run_search\u001b[39m(\u001b[39mself\u001b[39m, evaluate_candidates):\n\u001b[0;32m   <a href='file:///c%3A/Users/Admin/.conda/envs/myenv/lib/site-packages/sklearn/model_selection/_search.py?line=1390'>1391</a>\u001b[0m     \u001b[39m\"\"\"Search all candidates in param_grid\"\"\"\u001b[39;00m\n\u001b[1;32m-> <a href='file:///c%3A/Users/Admin/.conda/envs/myenv/lib/site-packages/sklearn/model_selection/_search.py?line=1391'>1392</a>\u001b[0m     evaluate_candidates(ParameterGrid(\u001b[39mself\u001b[39;49m\u001b[39m.\u001b[39;49mparam_grid))\n",
      "File \u001b[1;32m~\\.conda\\envs\\myenv\\lib\\site-packages\\sklearn\\model_selection\\_search.py:838\u001b[0m, in \u001b[0;36mBaseSearchCV.fit.<locals>.evaluate_candidates\u001b[1;34m(candidate_params, cv, more_results)\u001b[0m\n\u001b[0;32m    <a href='file:///c%3A/Users/Admin/.conda/envs/myenv/lib/site-packages/sklearn/model_selection/_search.py?line=829'>830</a>\u001b[0m \u001b[39mif\u001b[39;00m \u001b[39mself\u001b[39m\u001b[39m.\u001b[39mverbose \u001b[39m>\u001b[39m \u001b[39m0\u001b[39m:\n\u001b[0;32m    <a href='file:///c%3A/Users/Admin/.conda/envs/myenv/lib/site-packages/sklearn/model_selection/_search.py?line=830'>831</a>\u001b[0m     \u001b[39mprint\u001b[39m(\n\u001b[0;32m    <a href='file:///c%3A/Users/Admin/.conda/envs/myenv/lib/site-packages/sklearn/model_selection/_search.py?line=831'>832</a>\u001b[0m         \u001b[39m\"\u001b[39m\u001b[39mFitting \u001b[39m\u001b[39m{0}\u001b[39;00m\u001b[39m folds for each of \u001b[39m\u001b[39m{1}\u001b[39;00m\u001b[39m candidates,\u001b[39m\u001b[39m\"\u001b[39m\n\u001b[0;32m    <a href='file:///c%3A/Users/Admin/.conda/envs/myenv/lib/site-packages/sklearn/model_selection/_search.py?line=832'>833</a>\u001b[0m         \u001b[39m\"\u001b[39m\u001b[39m totalling \u001b[39m\u001b[39m{2}\u001b[39;00m\u001b[39m fits\u001b[39m\u001b[39m\"\u001b[39m\u001b[39m.\u001b[39mformat(\n\u001b[0;32m    <a href='file:///c%3A/Users/Admin/.conda/envs/myenv/lib/site-packages/sklearn/model_selection/_search.py?line=833'>834</a>\u001b[0m             n_splits, n_candidates, n_candidates \u001b[39m*\u001b[39m n_splits\n\u001b[0;32m    <a href='file:///c%3A/Users/Admin/.conda/envs/myenv/lib/site-packages/sklearn/model_selection/_search.py?line=834'>835</a>\u001b[0m         )\n\u001b[0;32m    <a href='file:///c%3A/Users/Admin/.conda/envs/myenv/lib/site-packages/sklearn/model_selection/_search.py?line=835'>836</a>\u001b[0m     )\n\u001b[1;32m--> <a href='file:///c%3A/Users/Admin/.conda/envs/myenv/lib/site-packages/sklearn/model_selection/_search.py?line=837'>838</a>\u001b[0m out \u001b[39m=\u001b[39m parallel(\n\u001b[0;32m    <a href='file:///c%3A/Users/Admin/.conda/envs/myenv/lib/site-packages/sklearn/model_selection/_search.py?line=838'>839</a>\u001b[0m     delayed(_fit_and_score)(\n\u001b[0;32m    <a href='file:///c%3A/Users/Admin/.conda/envs/myenv/lib/site-packages/sklearn/model_selection/_search.py?line=839'>840</a>\u001b[0m         clone(base_estimator),\n\u001b[0;32m    <a href='file:///c%3A/Users/Admin/.conda/envs/myenv/lib/site-packages/sklearn/model_selection/_search.py?line=840'>841</a>\u001b[0m         X,\n\u001b[0;32m    <a href='file:///c%3A/Users/Admin/.conda/envs/myenv/lib/site-packages/sklearn/model_selection/_search.py?line=841'>842</a>\u001b[0m         y,\n\u001b[0;32m    <a href='file:///c%3A/Users/Admin/.conda/envs/myenv/lib/site-packages/sklearn/model_selection/_search.py?line=842'>843</a>\u001b[0m         train\u001b[39m=\u001b[39;49mtrain,\n\u001b[0;32m    <a href='file:///c%3A/Users/Admin/.conda/envs/myenv/lib/site-packages/sklearn/model_selection/_search.py?line=843'>844</a>\u001b[0m         test\u001b[39m=\u001b[39;49mtest,\n\u001b[0;32m    <a href='file:///c%3A/Users/Admin/.conda/envs/myenv/lib/site-packages/sklearn/model_selection/_search.py?line=844'>845</a>\u001b[0m         parameters\u001b[39m=\u001b[39;49mparameters,\n\u001b[0;32m    <a href='file:///c%3A/Users/Admin/.conda/envs/myenv/lib/site-packages/sklearn/model_selection/_search.py?line=845'>846</a>\u001b[0m         split_progress\u001b[39m=\u001b[39;49m(split_idx, n_splits),\n\u001b[0;32m    <a href='file:///c%3A/Users/Admin/.conda/envs/myenv/lib/site-packages/sklearn/model_selection/_search.py?line=846'>847</a>\u001b[0m         candidate_progress\u001b[39m=\u001b[39;49m(cand_idx, n_candidates),\n\u001b[0;32m    <a href='file:///c%3A/Users/Admin/.conda/envs/myenv/lib/site-packages/sklearn/model_selection/_search.py?line=847'>848</a>\u001b[0m         \u001b[39m*\u001b[39;49m\u001b[39m*\u001b[39;49mfit_and_score_kwargs,\n\u001b[0;32m    <a href='file:///c%3A/Users/Admin/.conda/envs/myenv/lib/site-packages/sklearn/model_selection/_search.py?line=848'>849</a>\u001b[0m     )\n\u001b[0;32m    <a href='file:///c%3A/Users/Admin/.conda/envs/myenv/lib/site-packages/sklearn/model_selection/_search.py?line=849'>850</a>\u001b[0m     \u001b[39mfor\u001b[39;49;00m (cand_idx, parameters), (split_idx, (train, test)) \u001b[39min\u001b[39;49;00m product(\n\u001b[0;32m    <a href='file:///c%3A/Users/Admin/.conda/envs/myenv/lib/site-packages/sklearn/model_selection/_search.py?line=850'>851</a>\u001b[0m         \u001b[39menumerate\u001b[39;49m(candidate_params), \u001b[39menumerate\u001b[39;49m(cv\u001b[39m.\u001b[39;49msplit(X, y, groups))\n\u001b[0;32m    <a href='file:///c%3A/Users/Admin/.conda/envs/myenv/lib/site-packages/sklearn/model_selection/_search.py?line=851'>852</a>\u001b[0m     )\n\u001b[0;32m    <a href='file:///c%3A/Users/Admin/.conda/envs/myenv/lib/site-packages/sklearn/model_selection/_search.py?line=852'>853</a>\u001b[0m )\n\u001b[0;32m    <a href='file:///c%3A/Users/Admin/.conda/envs/myenv/lib/site-packages/sklearn/model_selection/_search.py?line=854'>855</a>\u001b[0m \u001b[39mif\u001b[39;00m \u001b[39mlen\u001b[39m(out) \u001b[39m<\u001b[39m \u001b[39m1\u001b[39m:\n\u001b[0;32m    <a href='file:///c%3A/Users/Admin/.conda/envs/myenv/lib/site-packages/sklearn/model_selection/_search.py?line=855'>856</a>\u001b[0m     \u001b[39mraise\u001b[39;00m \u001b[39mValueError\u001b[39;00m(\n\u001b[0;32m    <a href='file:///c%3A/Users/Admin/.conda/envs/myenv/lib/site-packages/sklearn/model_selection/_search.py?line=856'>857</a>\u001b[0m         \u001b[39m\"\u001b[39m\u001b[39mNo fits were performed. \u001b[39m\u001b[39m\"\u001b[39m\n\u001b[0;32m    <a href='file:///c%3A/Users/Admin/.conda/envs/myenv/lib/site-packages/sklearn/model_selection/_search.py?line=857'>858</a>\u001b[0m         \u001b[39m\"\u001b[39m\u001b[39mWas the CV iterator empty? \u001b[39m\u001b[39m\"\u001b[39m\n\u001b[0;32m    <a href='file:///c%3A/Users/Admin/.conda/envs/myenv/lib/site-packages/sklearn/model_selection/_search.py?line=858'>859</a>\u001b[0m         \u001b[39m\"\u001b[39m\u001b[39mWere there no candidates?\u001b[39m\u001b[39m\"\u001b[39m\n\u001b[0;32m    <a href='file:///c%3A/Users/Admin/.conda/envs/myenv/lib/site-packages/sklearn/model_selection/_search.py?line=859'>860</a>\u001b[0m     )\n",
      "File \u001b[1;32m~\\.conda\\envs\\myenv\\lib\\site-packages\\joblib\\parallel.py:1046\u001b[0m, in \u001b[0;36mParallel.__call__\u001b[1;34m(self, iterable)\u001b[0m\n\u001b[0;32m   <a href='file:///c%3A/Users/Admin/.conda/envs/myenv/lib/site-packages/joblib/parallel.py?line=1042'>1043</a>\u001b[0m \u001b[39mif\u001b[39;00m \u001b[39mself\u001b[39m\u001b[39m.\u001b[39mdispatch_one_batch(iterator):\n\u001b[0;32m   <a href='file:///c%3A/Users/Admin/.conda/envs/myenv/lib/site-packages/joblib/parallel.py?line=1043'>1044</a>\u001b[0m     \u001b[39mself\u001b[39m\u001b[39m.\u001b[39m_iterating \u001b[39m=\u001b[39m \u001b[39mself\u001b[39m\u001b[39m.\u001b[39m_original_iterator \u001b[39mis\u001b[39;00m \u001b[39mnot\u001b[39;00m \u001b[39mNone\u001b[39;00m\n\u001b[1;32m-> <a href='file:///c%3A/Users/Admin/.conda/envs/myenv/lib/site-packages/joblib/parallel.py?line=1045'>1046</a>\u001b[0m \u001b[39mwhile\u001b[39;00m \u001b[39mself\u001b[39;49m\u001b[39m.\u001b[39;49mdispatch_one_batch(iterator):\n\u001b[0;32m   <a href='file:///c%3A/Users/Admin/.conda/envs/myenv/lib/site-packages/joblib/parallel.py?line=1046'>1047</a>\u001b[0m     \u001b[39mpass\u001b[39;00m\n\u001b[0;32m   <a href='file:///c%3A/Users/Admin/.conda/envs/myenv/lib/site-packages/joblib/parallel.py?line=1048'>1049</a>\u001b[0m \u001b[39mif\u001b[39;00m pre_dispatch \u001b[39m==\u001b[39m \u001b[39m\"\u001b[39m\u001b[39mall\u001b[39m\u001b[39m\"\u001b[39m \u001b[39mor\u001b[39;00m n_jobs \u001b[39m==\u001b[39m \u001b[39m1\u001b[39m:\n\u001b[0;32m   <a href='file:///c%3A/Users/Admin/.conda/envs/myenv/lib/site-packages/joblib/parallel.py?line=1049'>1050</a>\u001b[0m     \u001b[39m# The iterable was consumed all at once by the above for loop.\u001b[39;00m\n\u001b[0;32m   <a href='file:///c%3A/Users/Admin/.conda/envs/myenv/lib/site-packages/joblib/parallel.py?line=1050'>1051</a>\u001b[0m     \u001b[39m# No need to wait for async callbacks to trigger to\u001b[39;00m\n\u001b[0;32m   <a href='file:///c%3A/Users/Admin/.conda/envs/myenv/lib/site-packages/joblib/parallel.py?line=1051'>1052</a>\u001b[0m     \u001b[39m# consumption.\u001b[39;00m\n",
      "File \u001b[1;32m~\\.conda\\envs\\myenv\\lib\\site-packages\\joblib\\parallel.py:861\u001b[0m, in \u001b[0;36mParallel.dispatch_one_batch\u001b[1;34m(self, iterator)\u001b[0m\n\u001b[0;32m    <a href='file:///c%3A/Users/Admin/.conda/envs/myenv/lib/site-packages/joblib/parallel.py?line=858'>859</a>\u001b[0m     \u001b[39mreturn\u001b[39;00m \u001b[39mFalse\u001b[39;00m\n\u001b[0;32m    <a href='file:///c%3A/Users/Admin/.conda/envs/myenv/lib/site-packages/joblib/parallel.py?line=859'>860</a>\u001b[0m \u001b[39melse\u001b[39;00m:\n\u001b[1;32m--> <a href='file:///c%3A/Users/Admin/.conda/envs/myenv/lib/site-packages/joblib/parallel.py?line=860'>861</a>\u001b[0m     \u001b[39mself\u001b[39;49m\u001b[39m.\u001b[39;49m_dispatch(tasks)\n\u001b[0;32m    <a href='file:///c%3A/Users/Admin/.conda/envs/myenv/lib/site-packages/joblib/parallel.py?line=861'>862</a>\u001b[0m     \u001b[39mreturn\u001b[39;00m \u001b[39mTrue\u001b[39;00m\n",
      "File \u001b[1;32m~\\.conda\\envs\\myenv\\lib\\site-packages\\joblib\\parallel.py:779\u001b[0m, in \u001b[0;36mParallel._dispatch\u001b[1;34m(self, batch)\u001b[0m\n\u001b[0;32m    <a href='file:///c%3A/Users/Admin/.conda/envs/myenv/lib/site-packages/joblib/parallel.py?line=776'>777</a>\u001b[0m \u001b[39mwith\u001b[39;00m \u001b[39mself\u001b[39m\u001b[39m.\u001b[39m_lock:\n\u001b[0;32m    <a href='file:///c%3A/Users/Admin/.conda/envs/myenv/lib/site-packages/joblib/parallel.py?line=777'>778</a>\u001b[0m     job_idx \u001b[39m=\u001b[39m \u001b[39mlen\u001b[39m(\u001b[39mself\u001b[39m\u001b[39m.\u001b[39m_jobs)\n\u001b[1;32m--> <a href='file:///c%3A/Users/Admin/.conda/envs/myenv/lib/site-packages/joblib/parallel.py?line=778'>779</a>\u001b[0m     job \u001b[39m=\u001b[39m \u001b[39mself\u001b[39;49m\u001b[39m.\u001b[39;49m_backend\u001b[39m.\u001b[39;49mapply_async(batch, callback\u001b[39m=\u001b[39;49mcb)\n\u001b[0;32m    <a href='file:///c%3A/Users/Admin/.conda/envs/myenv/lib/site-packages/joblib/parallel.py?line=779'>780</a>\u001b[0m     \u001b[39m# A job can complete so quickly than its callback is\u001b[39;00m\n\u001b[0;32m    <a href='file:///c%3A/Users/Admin/.conda/envs/myenv/lib/site-packages/joblib/parallel.py?line=780'>781</a>\u001b[0m     \u001b[39m# called before we get here, causing self._jobs to\u001b[39;00m\n\u001b[0;32m    <a href='file:///c%3A/Users/Admin/.conda/envs/myenv/lib/site-packages/joblib/parallel.py?line=781'>782</a>\u001b[0m     \u001b[39m# grow. To ensure correct results ordering, .insert is\u001b[39;00m\n\u001b[0;32m    <a href='file:///c%3A/Users/Admin/.conda/envs/myenv/lib/site-packages/joblib/parallel.py?line=782'>783</a>\u001b[0m     \u001b[39m# used (rather than .append) in the following line\u001b[39;00m\n\u001b[0;32m    <a href='file:///c%3A/Users/Admin/.conda/envs/myenv/lib/site-packages/joblib/parallel.py?line=783'>784</a>\u001b[0m     \u001b[39mself\u001b[39m\u001b[39m.\u001b[39m_jobs\u001b[39m.\u001b[39minsert(job_idx, job)\n",
      "File \u001b[1;32m~\\.conda\\envs\\myenv\\lib\\site-packages\\joblib\\_parallel_backends.py:208\u001b[0m, in \u001b[0;36mSequentialBackend.apply_async\u001b[1;34m(self, func, callback)\u001b[0m\n\u001b[0;32m    <a href='file:///c%3A/Users/Admin/.conda/envs/myenv/lib/site-packages/joblib/_parallel_backends.py?line=205'>206</a>\u001b[0m \u001b[39mdef\u001b[39;00m \u001b[39mapply_async\u001b[39m(\u001b[39mself\u001b[39m, func, callback\u001b[39m=\u001b[39m\u001b[39mNone\u001b[39;00m):\n\u001b[0;32m    <a href='file:///c%3A/Users/Admin/.conda/envs/myenv/lib/site-packages/joblib/_parallel_backends.py?line=206'>207</a>\u001b[0m     \u001b[39m\"\"\"Schedule a func to be run\"\"\"\u001b[39;00m\n\u001b[1;32m--> <a href='file:///c%3A/Users/Admin/.conda/envs/myenv/lib/site-packages/joblib/_parallel_backends.py?line=207'>208</a>\u001b[0m     result \u001b[39m=\u001b[39m ImmediateResult(func)\n\u001b[0;32m    <a href='file:///c%3A/Users/Admin/.conda/envs/myenv/lib/site-packages/joblib/_parallel_backends.py?line=208'>209</a>\u001b[0m     \u001b[39mif\u001b[39;00m callback:\n\u001b[0;32m    <a href='file:///c%3A/Users/Admin/.conda/envs/myenv/lib/site-packages/joblib/_parallel_backends.py?line=209'>210</a>\u001b[0m         callback(result)\n",
      "File \u001b[1;32m~\\.conda\\envs\\myenv\\lib\\site-packages\\joblib\\_parallel_backends.py:572\u001b[0m, in \u001b[0;36mImmediateResult.__init__\u001b[1;34m(self, batch)\u001b[0m\n\u001b[0;32m    <a href='file:///c%3A/Users/Admin/.conda/envs/myenv/lib/site-packages/joblib/_parallel_backends.py?line=568'>569</a>\u001b[0m \u001b[39mdef\u001b[39;00m \u001b[39m__init__\u001b[39m(\u001b[39mself\u001b[39m, batch):\n\u001b[0;32m    <a href='file:///c%3A/Users/Admin/.conda/envs/myenv/lib/site-packages/joblib/_parallel_backends.py?line=569'>570</a>\u001b[0m     \u001b[39m# Don't delay the application, to avoid keeping the input\u001b[39;00m\n\u001b[0;32m    <a href='file:///c%3A/Users/Admin/.conda/envs/myenv/lib/site-packages/joblib/_parallel_backends.py?line=570'>571</a>\u001b[0m     \u001b[39m# arguments in memory\u001b[39;00m\n\u001b[1;32m--> <a href='file:///c%3A/Users/Admin/.conda/envs/myenv/lib/site-packages/joblib/_parallel_backends.py?line=571'>572</a>\u001b[0m     \u001b[39mself\u001b[39m\u001b[39m.\u001b[39mresults \u001b[39m=\u001b[39m batch()\n",
      "File \u001b[1;32m~\\.conda\\envs\\myenv\\lib\\site-packages\\joblib\\parallel.py:262\u001b[0m, in \u001b[0;36mBatchedCalls.__call__\u001b[1;34m(self)\u001b[0m\n\u001b[0;32m    <a href='file:///c%3A/Users/Admin/.conda/envs/myenv/lib/site-packages/joblib/parallel.py?line=257'>258</a>\u001b[0m \u001b[39mdef\u001b[39;00m \u001b[39m__call__\u001b[39m(\u001b[39mself\u001b[39m):\n\u001b[0;32m    <a href='file:///c%3A/Users/Admin/.conda/envs/myenv/lib/site-packages/joblib/parallel.py?line=258'>259</a>\u001b[0m     \u001b[39m# Set the default nested backend to self._backend but do not set the\u001b[39;00m\n\u001b[0;32m    <a href='file:///c%3A/Users/Admin/.conda/envs/myenv/lib/site-packages/joblib/parallel.py?line=259'>260</a>\u001b[0m     \u001b[39m# change the default number of processes to -1\u001b[39;00m\n\u001b[0;32m    <a href='file:///c%3A/Users/Admin/.conda/envs/myenv/lib/site-packages/joblib/parallel.py?line=260'>261</a>\u001b[0m     \u001b[39mwith\u001b[39;00m parallel_backend(\u001b[39mself\u001b[39m\u001b[39m.\u001b[39m_backend, n_jobs\u001b[39m=\u001b[39m\u001b[39mself\u001b[39m\u001b[39m.\u001b[39m_n_jobs):\n\u001b[1;32m--> <a href='file:///c%3A/Users/Admin/.conda/envs/myenv/lib/site-packages/joblib/parallel.py?line=261'>262</a>\u001b[0m         \u001b[39mreturn\u001b[39;00m [func(\u001b[39m*\u001b[39margs, \u001b[39m*\u001b[39m\u001b[39m*\u001b[39mkwargs)\n\u001b[0;32m    <a href='file:///c%3A/Users/Admin/.conda/envs/myenv/lib/site-packages/joblib/parallel.py?line=262'>263</a>\u001b[0m                 \u001b[39mfor\u001b[39;00m func, args, kwargs \u001b[39min\u001b[39;00m \u001b[39mself\u001b[39m\u001b[39m.\u001b[39mitems]\n",
      "File \u001b[1;32m~\\.conda\\envs\\myenv\\lib\\site-packages\\joblib\\parallel.py:262\u001b[0m, in \u001b[0;36m<listcomp>\u001b[1;34m(.0)\u001b[0m\n\u001b[0;32m    <a href='file:///c%3A/Users/Admin/.conda/envs/myenv/lib/site-packages/joblib/parallel.py?line=257'>258</a>\u001b[0m \u001b[39mdef\u001b[39;00m \u001b[39m__call__\u001b[39m(\u001b[39mself\u001b[39m):\n\u001b[0;32m    <a href='file:///c%3A/Users/Admin/.conda/envs/myenv/lib/site-packages/joblib/parallel.py?line=258'>259</a>\u001b[0m     \u001b[39m# Set the default nested backend to self._backend but do not set the\u001b[39;00m\n\u001b[0;32m    <a href='file:///c%3A/Users/Admin/.conda/envs/myenv/lib/site-packages/joblib/parallel.py?line=259'>260</a>\u001b[0m     \u001b[39m# change the default number of processes to -1\u001b[39;00m\n\u001b[0;32m    <a href='file:///c%3A/Users/Admin/.conda/envs/myenv/lib/site-packages/joblib/parallel.py?line=260'>261</a>\u001b[0m     \u001b[39mwith\u001b[39;00m parallel_backend(\u001b[39mself\u001b[39m\u001b[39m.\u001b[39m_backend, n_jobs\u001b[39m=\u001b[39m\u001b[39mself\u001b[39m\u001b[39m.\u001b[39m_n_jobs):\n\u001b[1;32m--> <a href='file:///c%3A/Users/Admin/.conda/envs/myenv/lib/site-packages/joblib/parallel.py?line=261'>262</a>\u001b[0m         \u001b[39mreturn\u001b[39;00m [func(\u001b[39m*\u001b[39margs, \u001b[39m*\u001b[39m\u001b[39m*\u001b[39mkwargs)\n\u001b[0;32m    <a href='file:///c%3A/Users/Admin/.conda/envs/myenv/lib/site-packages/joblib/parallel.py?line=262'>263</a>\u001b[0m                 \u001b[39mfor\u001b[39;00m func, args, kwargs \u001b[39min\u001b[39;00m \u001b[39mself\u001b[39m\u001b[39m.\u001b[39mitems]\n",
      "File \u001b[1;32m~\\.conda\\envs\\myenv\\lib\\site-packages\\sklearn\\utils\\fixes.py:216\u001b[0m, in \u001b[0;36m_FuncWrapper.__call__\u001b[1;34m(self, *args, **kwargs)\u001b[0m\n\u001b[0;32m    <a href='file:///c%3A/Users/Admin/.conda/envs/myenv/lib/site-packages/sklearn/utils/fixes.py?line=213'>214</a>\u001b[0m \u001b[39mdef\u001b[39;00m \u001b[39m__call__\u001b[39m(\u001b[39mself\u001b[39m, \u001b[39m*\u001b[39margs, \u001b[39m*\u001b[39m\u001b[39m*\u001b[39mkwargs):\n\u001b[0;32m    <a href='file:///c%3A/Users/Admin/.conda/envs/myenv/lib/site-packages/sklearn/utils/fixes.py?line=214'>215</a>\u001b[0m     \u001b[39mwith\u001b[39;00m config_context(\u001b[39m*\u001b[39m\u001b[39m*\u001b[39m\u001b[39mself\u001b[39m\u001b[39m.\u001b[39mconfig):\n\u001b[1;32m--> <a href='file:///c%3A/Users/Admin/.conda/envs/myenv/lib/site-packages/sklearn/utils/fixes.py?line=215'>216</a>\u001b[0m         \u001b[39mreturn\u001b[39;00m \u001b[39mself\u001b[39m\u001b[39m.\u001b[39mfunction(\u001b[39m*\u001b[39margs, \u001b[39m*\u001b[39m\u001b[39m*\u001b[39mkwargs)\n",
      "File \u001b[1;32m~\\.conda\\envs\\myenv\\lib\\site-packages\\sklearn\\model_selection\\_validation.py:680\u001b[0m, in \u001b[0;36m_fit_and_score\u001b[1;34m(estimator, X, y, scorer, train, test, verbose, parameters, fit_params, return_train_score, return_parameters, return_n_test_samples, return_times, return_estimator, split_progress, candidate_progress, error_score)\u001b[0m\n\u001b[0;32m    <a href='file:///c%3A/Users/Admin/.conda/envs/myenv/lib/site-packages/sklearn/model_selection/_validation.py?line=677'>678</a>\u001b[0m         estimator\u001b[39m.\u001b[39mfit(X_train, \u001b[39m*\u001b[39m\u001b[39m*\u001b[39mfit_params)\n\u001b[0;32m    <a href='file:///c%3A/Users/Admin/.conda/envs/myenv/lib/site-packages/sklearn/model_selection/_validation.py?line=678'>679</a>\u001b[0m     \u001b[39melse\u001b[39;00m:\n\u001b[1;32m--> <a href='file:///c%3A/Users/Admin/.conda/envs/myenv/lib/site-packages/sklearn/model_selection/_validation.py?line=679'>680</a>\u001b[0m         estimator\u001b[39m.\u001b[39mfit(X_train, y_train, \u001b[39m*\u001b[39m\u001b[39m*\u001b[39mfit_params)\n\u001b[0;32m    <a href='file:///c%3A/Users/Admin/.conda/envs/myenv/lib/site-packages/sklearn/model_selection/_validation.py?line=681'>682</a>\u001b[0m \u001b[39mexcept\u001b[39;00m \u001b[39mException\u001b[39;00m:\n\u001b[0;32m    <a href='file:///c%3A/Users/Admin/.conda/envs/myenv/lib/site-packages/sklearn/model_selection/_validation.py?line=682'>683</a>\u001b[0m     \u001b[39m# Note fit time as time until error\u001b[39;00m\n\u001b[0;32m    <a href='file:///c%3A/Users/Admin/.conda/envs/myenv/lib/site-packages/sklearn/model_selection/_validation.py?line=683'>684</a>\u001b[0m     fit_time \u001b[39m=\u001b[39m time\u001b[39m.\u001b[39mtime() \u001b[39m-\u001b[39m start_time\n",
      "File \u001b[1;32m~\\.conda\\envs\\myenv\\lib\\site-packages\\sklearn\\pipeline.py:390\u001b[0m, in \u001b[0;36mPipeline.fit\u001b[1;34m(self, X, y, **fit_params)\u001b[0m\n\u001b[0;32m    <a href='file:///c%3A/Users/Admin/.conda/envs/myenv/lib/site-packages/sklearn/pipeline.py?line=363'>364</a>\u001b[0m \u001b[39m\"\"\"Fit the model.\u001b[39;00m\n\u001b[0;32m    <a href='file:///c%3A/Users/Admin/.conda/envs/myenv/lib/site-packages/sklearn/pipeline.py?line=364'>365</a>\u001b[0m \n\u001b[0;32m    <a href='file:///c%3A/Users/Admin/.conda/envs/myenv/lib/site-packages/sklearn/pipeline.py?line=365'>366</a>\u001b[0m \u001b[39mFit all the transformers one after the other and transform the\u001b[39;00m\n\u001b[1;32m   (...)\u001b[0m\n\u001b[0;32m    <a href='file:///c%3A/Users/Admin/.conda/envs/myenv/lib/site-packages/sklearn/pipeline.py?line=386'>387</a>\u001b[0m \u001b[39m    Pipeline with fitted steps.\u001b[39;00m\n\u001b[0;32m    <a href='file:///c%3A/Users/Admin/.conda/envs/myenv/lib/site-packages/sklearn/pipeline.py?line=387'>388</a>\u001b[0m \u001b[39m\"\"\"\u001b[39;00m\n\u001b[0;32m    <a href='file:///c%3A/Users/Admin/.conda/envs/myenv/lib/site-packages/sklearn/pipeline.py?line=388'>389</a>\u001b[0m fit_params_steps \u001b[39m=\u001b[39m \u001b[39mself\u001b[39m\u001b[39m.\u001b[39m_check_fit_params(\u001b[39m*\u001b[39m\u001b[39m*\u001b[39mfit_params)\n\u001b[1;32m--> <a href='file:///c%3A/Users/Admin/.conda/envs/myenv/lib/site-packages/sklearn/pipeline.py?line=389'>390</a>\u001b[0m Xt \u001b[39m=\u001b[39m \u001b[39mself\u001b[39m\u001b[39m.\u001b[39m_fit(X, y, \u001b[39m*\u001b[39m\u001b[39m*\u001b[39mfit_params_steps)\n\u001b[0;32m    <a href='file:///c%3A/Users/Admin/.conda/envs/myenv/lib/site-packages/sklearn/pipeline.py?line=390'>391</a>\u001b[0m \u001b[39mwith\u001b[39;00m _print_elapsed_time(\u001b[39m\"\u001b[39m\u001b[39mPipeline\u001b[39m\u001b[39m\"\u001b[39m, \u001b[39mself\u001b[39m\u001b[39m.\u001b[39m_log_message(\u001b[39mlen\u001b[39m(\u001b[39mself\u001b[39m\u001b[39m.\u001b[39msteps) \u001b[39m-\u001b[39m \u001b[39m1\u001b[39m)):\n\u001b[0;32m    <a href='file:///c%3A/Users/Admin/.conda/envs/myenv/lib/site-packages/sklearn/pipeline.py?line=391'>392</a>\u001b[0m     \u001b[39mif\u001b[39;00m \u001b[39mself\u001b[39m\u001b[39m.\u001b[39m_final_estimator \u001b[39m!=\u001b[39m \u001b[39m\"\u001b[39m\u001b[39mpassthrough\u001b[39m\u001b[39m\"\u001b[39m:\n",
      "File \u001b[1;32m~\\.conda\\envs\\myenv\\lib\\site-packages\\sklearn\\pipeline.py:348\u001b[0m, in \u001b[0;36mPipeline._fit\u001b[1;34m(self, X, y, **fit_params_steps)\u001b[0m\n\u001b[0;32m    <a href='file:///c%3A/Users/Admin/.conda/envs/myenv/lib/site-packages/sklearn/pipeline.py?line=345'>346</a>\u001b[0m     cloned_transformer \u001b[39m=\u001b[39m clone(transformer)\n\u001b[0;32m    <a href='file:///c%3A/Users/Admin/.conda/envs/myenv/lib/site-packages/sklearn/pipeline.py?line=346'>347</a>\u001b[0m \u001b[39m# Fit or load from cache the current transformer\u001b[39;00m\n\u001b[1;32m--> <a href='file:///c%3A/Users/Admin/.conda/envs/myenv/lib/site-packages/sklearn/pipeline.py?line=347'>348</a>\u001b[0m X, fitted_transformer \u001b[39m=\u001b[39m fit_transform_one_cached(\n\u001b[0;32m    <a href='file:///c%3A/Users/Admin/.conda/envs/myenv/lib/site-packages/sklearn/pipeline.py?line=348'>349</a>\u001b[0m     cloned_transformer,\n\u001b[0;32m    <a href='file:///c%3A/Users/Admin/.conda/envs/myenv/lib/site-packages/sklearn/pipeline.py?line=349'>350</a>\u001b[0m     X,\n\u001b[0;32m    <a href='file:///c%3A/Users/Admin/.conda/envs/myenv/lib/site-packages/sklearn/pipeline.py?line=350'>351</a>\u001b[0m     y,\n\u001b[0;32m    <a href='file:///c%3A/Users/Admin/.conda/envs/myenv/lib/site-packages/sklearn/pipeline.py?line=351'>352</a>\u001b[0m     \u001b[39mNone\u001b[39;00m,\n\u001b[0;32m    <a href='file:///c%3A/Users/Admin/.conda/envs/myenv/lib/site-packages/sklearn/pipeline.py?line=352'>353</a>\u001b[0m     message_clsname\u001b[39m=\u001b[39m\u001b[39m\"\u001b[39m\u001b[39mPipeline\u001b[39m\u001b[39m\"\u001b[39m,\n\u001b[0;32m    <a href='file:///c%3A/Users/Admin/.conda/envs/myenv/lib/site-packages/sklearn/pipeline.py?line=353'>354</a>\u001b[0m     message\u001b[39m=\u001b[39m\u001b[39mself\u001b[39m\u001b[39m.\u001b[39m_log_message(step_idx),\n\u001b[0;32m    <a href='file:///c%3A/Users/Admin/.conda/envs/myenv/lib/site-packages/sklearn/pipeline.py?line=354'>355</a>\u001b[0m     \u001b[39m*\u001b[39m\u001b[39m*\u001b[39mfit_params_steps[name],\n\u001b[0;32m    <a href='file:///c%3A/Users/Admin/.conda/envs/myenv/lib/site-packages/sklearn/pipeline.py?line=355'>356</a>\u001b[0m )\n\u001b[0;32m    <a href='file:///c%3A/Users/Admin/.conda/envs/myenv/lib/site-packages/sklearn/pipeline.py?line=356'>357</a>\u001b[0m \u001b[39m# Replace the transformer of the step with the fitted\u001b[39;00m\n\u001b[0;32m    <a href='file:///c%3A/Users/Admin/.conda/envs/myenv/lib/site-packages/sklearn/pipeline.py?line=357'>358</a>\u001b[0m \u001b[39m# transformer. This is necessary when loading the transformer\u001b[39;00m\n\u001b[0;32m    <a href='file:///c%3A/Users/Admin/.conda/envs/myenv/lib/site-packages/sklearn/pipeline.py?line=358'>359</a>\u001b[0m \u001b[39m# from the cache.\u001b[39;00m\n\u001b[0;32m    <a href='file:///c%3A/Users/Admin/.conda/envs/myenv/lib/site-packages/sklearn/pipeline.py?line=359'>360</a>\u001b[0m \u001b[39mself\u001b[39m\u001b[39m.\u001b[39msteps[step_idx] \u001b[39m=\u001b[39m (name, fitted_transformer)\n",
      "File \u001b[1;32m~\\.conda\\envs\\myenv\\lib\\site-packages\\joblib\\memory.py:349\u001b[0m, in \u001b[0;36mNotMemorizedFunc.__call__\u001b[1;34m(self, *args, **kwargs)\u001b[0m\n\u001b[0;32m    <a href='file:///c%3A/Users/Admin/.conda/envs/myenv/lib/site-packages/joblib/memory.py?line=347'>348</a>\u001b[0m \u001b[39mdef\u001b[39;00m \u001b[39m__call__\u001b[39m(\u001b[39mself\u001b[39m, \u001b[39m*\u001b[39margs, \u001b[39m*\u001b[39m\u001b[39m*\u001b[39mkwargs):\n\u001b[1;32m--> <a href='file:///c%3A/Users/Admin/.conda/envs/myenv/lib/site-packages/joblib/memory.py?line=348'>349</a>\u001b[0m     \u001b[39mreturn\u001b[39;00m \u001b[39mself\u001b[39m\u001b[39m.\u001b[39mfunc(\u001b[39m*\u001b[39margs, \u001b[39m*\u001b[39m\u001b[39m*\u001b[39mkwargs)\n",
      "File \u001b[1;32m~\\.conda\\envs\\myenv\\lib\\site-packages\\sklearn\\pipeline.py:893\u001b[0m, in \u001b[0;36m_fit_transform_one\u001b[1;34m(transformer, X, y, weight, message_clsname, message, **fit_params)\u001b[0m\n\u001b[0;32m    <a href='file:///c%3A/Users/Admin/.conda/envs/myenv/lib/site-packages/sklearn/pipeline.py?line=890'>891</a>\u001b[0m \u001b[39mwith\u001b[39;00m _print_elapsed_time(message_clsname, message):\n\u001b[0;32m    <a href='file:///c%3A/Users/Admin/.conda/envs/myenv/lib/site-packages/sklearn/pipeline.py?line=891'>892</a>\u001b[0m     \u001b[39mif\u001b[39;00m \u001b[39mhasattr\u001b[39m(transformer, \u001b[39m\"\u001b[39m\u001b[39mfit_transform\u001b[39m\u001b[39m\"\u001b[39m):\n\u001b[1;32m--> <a href='file:///c%3A/Users/Admin/.conda/envs/myenv/lib/site-packages/sklearn/pipeline.py?line=892'>893</a>\u001b[0m         res \u001b[39m=\u001b[39m transformer\u001b[39m.\u001b[39mfit_transform(X, y, \u001b[39m*\u001b[39m\u001b[39m*\u001b[39mfit_params)\n\u001b[0;32m    <a href='file:///c%3A/Users/Admin/.conda/envs/myenv/lib/site-packages/sklearn/pipeline.py?line=893'>894</a>\u001b[0m     \u001b[39melse\u001b[39;00m:\n\u001b[0;32m    <a href='file:///c%3A/Users/Admin/.conda/envs/myenv/lib/site-packages/sklearn/pipeline.py?line=894'>895</a>\u001b[0m         res \u001b[39m=\u001b[39m transformer\u001b[39m.\u001b[39mfit(X, y, \u001b[39m*\u001b[39m\u001b[39m*\u001b[39mfit_params)\u001b[39m.\u001b[39mtransform(X)\n",
      "File \u001b[1;32m~\\.conda\\envs\\myenv\\lib\\site-packages\\sklearn\\feature_extraction\\text.py:2077\u001b[0m, in \u001b[0;36mTfidfVectorizer.fit_transform\u001b[1;34m(self, raw_documents, y)\u001b[0m\n\u001b[0;32m   <a href='file:///c%3A/Users/Admin/.conda/envs/myenv/lib/site-packages/sklearn/feature_extraction/text.py?line=2057'>2058</a>\u001b[0m \u001b[39m\"\"\"Learn vocabulary and idf, return document-term matrix.\u001b[39;00m\n\u001b[0;32m   <a href='file:///c%3A/Users/Admin/.conda/envs/myenv/lib/site-packages/sklearn/feature_extraction/text.py?line=2058'>2059</a>\u001b[0m \n\u001b[0;32m   <a href='file:///c%3A/Users/Admin/.conda/envs/myenv/lib/site-packages/sklearn/feature_extraction/text.py?line=2059'>2060</a>\u001b[0m \u001b[39mThis is equivalent to fit followed by transform, but more efficiently\u001b[39;00m\n\u001b[1;32m   (...)\u001b[0m\n\u001b[0;32m   <a href='file:///c%3A/Users/Admin/.conda/envs/myenv/lib/site-packages/sklearn/feature_extraction/text.py?line=2073'>2074</a>\u001b[0m \u001b[39m    Tf-idf-weighted document-term matrix.\u001b[39;00m\n\u001b[0;32m   <a href='file:///c%3A/Users/Admin/.conda/envs/myenv/lib/site-packages/sklearn/feature_extraction/text.py?line=2074'>2075</a>\u001b[0m \u001b[39m\"\"\"\u001b[39;00m\n\u001b[0;32m   <a href='file:///c%3A/Users/Admin/.conda/envs/myenv/lib/site-packages/sklearn/feature_extraction/text.py?line=2075'>2076</a>\u001b[0m \u001b[39mself\u001b[39m\u001b[39m.\u001b[39m_check_params()\n\u001b[1;32m-> <a href='file:///c%3A/Users/Admin/.conda/envs/myenv/lib/site-packages/sklearn/feature_extraction/text.py?line=2076'>2077</a>\u001b[0m X \u001b[39m=\u001b[39m \u001b[39msuper\u001b[39;49m()\u001b[39m.\u001b[39;49mfit_transform(raw_documents)\n\u001b[0;32m   <a href='file:///c%3A/Users/Admin/.conda/envs/myenv/lib/site-packages/sklearn/feature_extraction/text.py?line=2077'>2078</a>\u001b[0m \u001b[39mself\u001b[39m\u001b[39m.\u001b[39m_tfidf\u001b[39m.\u001b[39mfit(X)\n\u001b[0;32m   <a href='file:///c%3A/Users/Admin/.conda/envs/myenv/lib/site-packages/sklearn/feature_extraction/text.py?line=2078'>2079</a>\u001b[0m \u001b[39m# X is already a transformed view of raw_documents so\u001b[39;00m\n\u001b[0;32m   <a href='file:///c%3A/Users/Admin/.conda/envs/myenv/lib/site-packages/sklearn/feature_extraction/text.py?line=2079'>2080</a>\u001b[0m \u001b[39m# we set copy to False\u001b[39;00m\n",
      "File \u001b[1;32m~\\.conda\\envs\\myenv\\lib\\site-packages\\sklearn\\feature_extraction\\text.py:1330\u001b[0m, in \u001b[0;36mCountVectorizer.fit_transform\u001b[1;34m(self, raw_documents, y)\u001b[0m\n\u001b[0;32m   <a href='file:///c%3A/Users/Admin/.conda/envs/myenv/lib/site-packages/sklearn/feature_extraction/text.py?line=1321'>1322</a>\u001b[0m             warnings\u001b[39m.\u001b[39mwarn(\n\u001b[0;32m   <a href='file:///c%3A/Users/Admin/.conda/envs/myenv/lib/site-packages/sklearn/feature_extraction/text.py?line=1322'>1323</a>\u001b[0m                 \u001b[39m\"\u001b[39m\u001b[39mUpper case characters found in\u001b[39m\u001b[39m\"\u001b[39m\n\u001b[0;32m   <a href='file:///c%3A/Users/Admin/.conda/envs/myenv/lib/site-packages/sklearn/feature_extraction/text.py?line=1323'>1324</a>\u001b[0m                 \u001b[39m\"\u001b[39m\u001b[39m vocabulary while \u001b[39m\u001b[39m'\u001b[39m\u001b[39mlowercase\u001b[39m\u001b[39m'\u001b[39m\u001b[39m\"\u001b[39m\n\u001b[0;32m   <a href='file:///c%3A/Users/Admin/.conda/envs/myenv/lib/site-packages/sklearn/feature_extraction/text.py?line=1324'>1325</a>\u001b[0m                 \u001b[39m\"\u001b[39m\u001b[39m is True. These entries will not\u001b[39m\u001b[39m\"\u001b[39m\n\u001b[0;32m   <a href='file:///c%3A/Users/Admin/.conda/envs/myenv/lib/site-packages/sklearn/feature_extraction/text.py?line=1325'>1326</a>\u001b[0m                 \u001b[39m\"\u001b[39m\u001b[39m be matched with any documents\u001b[39m\u001b[39m\"\u001b[39m\n\u001b[0;32m   <a href='file:///c%3A/Users/Admin/.conda/envs/myenv/lib/site-packages/sklearn/feature_extraction/text.py?line=1326'>1327</a>\u001b[0m             )\n\u001b[0;32m   <a href='file:///c%3A/Users/Admin/.conda/envs/myenv/lib/site-packages/sklearn/feature_extraction/text.py?line=1327'>1328</a>\u001b[0m             \u001b[39mbreak\u001b[39;00m\n\u001b[1;32m-> <a href='file:///c%3A/Users/Admin/.conda/envs/myenv/lib/site-packages/sklearn/feature_extraction/text.py?line=1329'>1330</a>\u001b[0m vocabulary, X \u001b[39m=\u001b[39m \u001b[39mself\u001b[39;49m\u001b[39m.\u001b[39;49m_count_vocab(raw_documents, \u001b[39mself\u001b[39;49m\u001b[39m.\u001b[39;49mfixed_vocabulary_)\n\u001b[0;32m   <a href='file:///c%3A/Users/Admin/.conda/envs/myenv/lib/site-packages/sklearn/feature_extraction/text.py?line=1331'>1332</a>\u001b[0m \u001b[39mif\u001b[39;00m \u001b[39mself\u001b[39m\u001b[39m.\u001b[39mbinary:\n\u001b[0;32m   <a href='file:///c%3A/Users/Admin/.conda/envs/myenv/lib/site-packages/sklearn/feature_extraction/text.py?line=1332'>1333</a>\u001b[0m     X\u001b[39m.\u001b[39mdata\u001b[39m.\u001b[39mfill(\u001b[39m1\u001b[39m)\n",
      "File \u001b[1;32m~\\.conda\\envs\\myenv\\lib\\site-packages\\sklearn\\feature_extraction\\text.py:1201\u001b[0m, in \u001b[0;36mCountVectorizer._count_vocab\u001b[1;34m(self, raw_documents, fixed_vocab)\u001b[0m\n\u001b[0;32m   <a href='file:///c%3A/Users/Admin/.conda/envs/myenv/lib/site-packages/sklearn/feature_extraction/text.py?line=1198'>1199</a>\u001b[0m \u001b[39mfor\u001b[39;00m doc \u001b[39min\u001b[39;00m raw_documents:\n\u001b[0;32m   <a href='file:///c%3A/Users/Admin/.conda/envs/myenv/lib/site-packages/sklearn/feature_extraction/text.py?line=1199'>1200</a>\u001b[0m     feature_counter \u001b[39m=\u001b[39m {}\n\u001b[1;32m-> <a href='file:///c%3A/Users/Admin/.conda/envs/myenv/lib/site-packages/sklearn/feature_extraction/text.py?line=1200'>1201</a>\u001b[0m     \u001b[39mfor\u001b[39;00m feature \u001b[39min\u001b[39;00m analyze(doc):\n\u001b[0;32m   <a href='file:///c%3A/Users/Admin/.conda/envs/myenv/lib/site-packages/sklearn/feature_extraction/text.py?line=1201'>1202</a>\u001b[0m         \u001b[39mtry\u001b[39;00m:\n\u001b[0;32m   <a href='file:///c%3A/Users/Admin/.conda/envs/myenv/lib/site-packages/sklearn/feature_extraction/text.py?line=1202'>1203</a>\u001b[0m             feature_idx \u001b[39m=\u001b[39m vocabulary[feature]\n",
      "File \u001b[1;32m~\\.conda\\envs\\myenv\\lib\\site-packages\\sklearn\\feature_extraction\\text.py:115\u001b[0m, in \u001b[0;36m_analyze\u001b[1;34m(doc, analyzer, tokenizer, ngrams, preprocessor, decoder, stop_words)\u001b[0m\n\u001b[0;32m    <a href='file:///c%3A/Users/Admin/.conda/envs/myenv/lib/site-packages/sklearn/feature_extraction/text.py?line=112'>113</a>\u001b[0m     doc \u001b[39m=\u001b[39m preprocessor(doc)\n\u001b[0;32m    <a href='file:///c%3A/Users/Admin/.conda/envs/myenv/lib/site-packages/sklearn/feature_extraction/text.py?line=113'>114</a>\u001b[0m \u001b[39mif\u001b[39;00m tokenizer \u001b[39mis\u001b[39;00m \u001b[39mnot\u001b[39;00m \u001b[39mNone\u001b[39;00m:\n\u001b[1;32m--> <a href='file:///c%3A/Users/Admin/.conda/envs/myenv/lib/site-packages/sklearn/feature_extraction/text.py?line=114'>115</a>\u001b[0m     doc \u001b[39m=\u001b[39m tokenizer(doc)\n\u001b[0;32m    <a href='file:///c%3A/Users/Admin/.conda/envs/myenv/lib/site-packages/sklearn/feature_extraction/text.py?line=115'>116</a>\u001b[0m \u001b[39mif\u001b[39;00m ngrams \u001b[39mis\u001b[39;00m \u001b[39mnot\u001b[39;00m \u001b[39mNone\u001b[39;00m:\n\u001b[0;32m    <a href='file:///c%3A/Users/Admin/.conda/envs/myenv/lib/site-packages/sklearn/feature_extraction/text.py?line=116'>117</a>\u001b[0m     \u001b[39mif\u001b[39;00m stop_words \u001b[39mis\u001b[39;00m \u001b[39mnot\u001b[39;00m \u001b[39mNone\u001b[39;00m:\n",
      "\u001b[1;32mc:\\Users\\Admin\\Desktop\\Github Desktop Local\\GA-Lessons\\project_3\\MultinomialNB_Model.ipynb Cell 114'\u001b[0m in \u001b[0;36mLemmaTokenizer.__call__\u001b[1;34m(self, articles)\u001b[0m\n\u001b[0;32m      <a href='vscode-notebook-cell:/c%3A/Users/Admin/Desktop/Github%20Desktop%20Local/GA-Lessons/project_3/MultinomialNB_Model.ipynb#ch0000088?line=6'>7</a>\u001b[0m \u001b[39mdef\u001b[39;00m \u001b[39m__call__\u001b[39m(\u001b[39mself\u001b[39m,articles):\n\u001b[1;32m----> <a href='vscode-notebook-cell:/c%3A/Users/Admin/Desktop/Github%20Desktop%20Local/GA-Lessons/project_3/MultinomialNB_Model.ipynb#ch0000088?line=7'>8</a>\u001b[0m     \u001b[39mreturn\u001b[39;00m [\u001b[39mself\u001b[39m\u001b[39m.\u001b[39mstem\u001b[39m.\u001b[39mstem(t) \u001b[39mfor\u001b[39;00m t \u001b[39min\u001b[39;00m word_tokenize(articles)]\n",
      "File \u001b[1;32m~\\.conda\\envs\\myenv\\lib\\site-packages\\nltk\\tokenize\\__init__.py:129\u001b[0m, in \u001b[0;36mword_tokenize\u001b[1;34m(text, language, preserve_line)\u001b[0m\n\u001b[0;32m    <a href='file:///c%3A/Users/Admin/.conda/envs/myenv/lib/site-packages/nltk/tokenize/__init__.py?line=113'>114</a>\u001b[0m \u001b[39mdef\u001b[39;00m \u001b[39mword_tokenize\u001b[39m(text, language\u001b[39m=\u001b[39m\u001b[39m\"\u001b[39m\u001b[39menglish\u001b[39m\u001b[39m\"\u001b[39m, preserve_line\u001b[39m=\u001b[39m\u001b[39mFalse\u001b[39;00m):\n\u001b[0;32m    <a href='file:///c%3A/Users/Admin/.conda/envs/myenv/lib/site-packages/nltk/tokenize/__init__.py?line=114'>115</a>\u001b[0m     \u001b[39m\"\"\"\u001b[39;00m\n\u001b[0;32m    <a href='file:///c%3A/Users/Admin/.conda/envs/myenv/lib/site-packages/nltk/tokenize/__init__.py?line=115'>116</a>\u001b[0m \u001b[39m    Return a tokenized copy of *text*,\u001b[39;00m\n\u001b[0;32m    <a href='file:///c%3A/Users/Admin/.conda/envs/myenv/lib/site-packages/nltk/tokenize/__init__.py?line=116'>117</a>\u001b[0m \u001b[39m    using NLTK's recommended word tokenizer\u001b[39;00m\n\u001b[1;32m   (...)\u001b[0m\n\u001b[0;32m    <a href='file:///c%3A/Users/Admin/.conda/envs/myenv/lib/site-packages/nltk/tokenize/__init__.py?line=126'>127</a>\u001b[0m \u001b[39m    :type preserve_line: bool\u001b[39;00m\n\u001b[0;32m    <a href='file:///c%3A/Users/Admin/.conda/envs/myenv/lib/site-packages/nltk/tokenize/__init__.py?line=127'>128</a>\u001b[0m \u001b[39m    \"\"\"\u001b[39;00m\n\u001b[1;32m--> <a href='file:///c%3A/Users/Admin/.conda/envs/myenv/lib/site-packages/nltk/tokenize/__init__.py?line=128'>129</a>\u001b[0m     sentences \u001b[39m=\u001b[39m [text] \u001b[39mif\u001b[39;00m preserve_line \u001b[39melse\u001b[39;00m sent_tokenize(text, language)\n\u001b[0;32m    <a href='file:///c%3A/Users/Admin/.conda/envs/myenv/lib/site-packages/nltk/tokenize/__init__.py?line=129'>130</a>\u001b[0m     \u001b[39mreturn\u001b[39;00m [\n\u001b[0;32m    <a href='file:///c%3A/Users/Admin/.conda/envs/myenv/lib/site-packages/nltk/tokenize/__init__.py?line=130'>131</a>\u001b[0m         token \u001b[39mfor\u001b[39;00m sent \u001b[39min\u001b[39;00m sentences \u001b[39mfor\u001b[39;00m token \u001b[39min\u001b[39;00m _treebank_word_tokenizer\u001b[39m.\u001b[39mtokenize(sent)\n\u001b[0;32m    <a href='file:///c%3A/Users/Admin/.conda/envs/myenv/lib/site-packages/nltk/tokenize/__init__.py?line=131'>132</a>\u001b[0m     ]\n",
      "File \u001b[1;32m~\\.conda\\envs\\myenv\\lib\\site-packages\\nltk\\tokenize\\__init__.py:107\u001b[0m, in \u001b[0;36msent_tokenize\u001b[1;34m(text, language)\u001b[0m\n\u001b[0;32m     <a href='file:///c%3A/Users/Admin/.conda/envs/myenv/lib/site-packages/nltk/tokenize/__init__.py?line=96'>97</a>\u001b[0m \u001b[39m\"\"\"\u001b[39;00m\n\u001b[0;32m     <a href='file:///c%3A/Users/Admin/.conda/envs/myenv/lib/site-packages/nltk/tokenize/__init__.py?line=97'>98</a>\u001b[0m \u001b[39mReturn a sentence-tokenized copy of *text*,\u001b[39;00m\n\u001b[0;32m     <a href='file:///c%3A/Users/Admin/.conda/envs/myenv/lib/site-packages/nltk/tokenize/__init__.py?line=98'>99</a>\u001b[0m \u001b[39musing NLTK's recommended sentence tokenizer\u001b[39;00m\n\u001b[1;32m   (...)\u001b[0m\n\u001b[0;32m    <a href='file:///c%3A/Users/Admin/.conda/envs/myenv/lib/site-packages/nltk/tokenize/__init__.py?line=103'>104</a>\u001b[0m \u001b[39m:param language: the model name in the Punkt corpus\u001b[39;00m\n\u001b[0;32m    <a href='file:///c%3A/Users/Admin/.conda/envs/myenv/lib/site-packages/nltk/tokenize/__init__.py?line=104'>105</a>\u001b[0m \u001b[39m\"\"\"\u001b[39;00m\n\u001b[0;32m    <a href='file:///c%3A/Users/Admin/.conda/envs/myenv/lib/site-packages/nltk/tokenize/__init__.py?line=105'>106</a>\u001b[0m tokenizer \u001b[39m=\u001b[39m load(\u001b[39mf\u001b[39m\u001b[39m\"\u001b[39m\u001b[39mtokenizers/punkt/\u001b[39m\u001b[39m{\u001b[39;00mlanguage\u001b[39m}\u001b[39;00m\u001b[39m.pickle\u001b[39m\u001b[39m\"\u001b[39m)\n\u001b[1;32m--> <a href='file:///c%3A/Users/Admin/.conda/envs/myenv/lib/site-packages/nltk/tokenize/__init__.py?line=106'>107</a>\u001b[0m \u001b[39mreturn\u001b[39;00m tokenizer\u001b[39m.\u001b[39;49mtokenize(text)\n",
      "File \u001b[1;32m~\\.conda\\envs\\myenv\\lib\\site-packages\\nltk\\tokenize\\punkt.py:1276\u001b[0m, in \u001b[0;36mPunktSentenceTokenizer.tokenize\u001b[1;34m(self, text, realign_boundaries)\u001b[0m\n\u001b[0;32m   <a href='file:///c%3A/Users/Admin/.conda/envs/myenv/lib/site-packages/nltk/tokenize/punkt.py?line=1271'>1272</a>\u001b[0m \u001b[39mdef\u001b[39;00m \u001b[39mtokenize\u001b[39m(\u001b[39mself\u001b[39m, text, realign_boundaries\u001b[39m=\u001b[39m\u001b[39mTrue\u001b[39;00m):\n\u001b[0;32m   <a href='file:///c%3A/Users/Admin/.conda/envs/myenv/lib/site-packages/nltk/tokenize/punkt.py?line=1272'>1273</a>\u001b[0m     \u001b[39m\"\"\"\u001b[39;00m\n\u001b[0;32m   <a href='file:///c%3A/Users/Admin/.conda/envs/myenv/lib/site-packages/nltk/tokenize/punkt.py?line=1273'>1274</a>\u001b[0m \u001b[39m    Given a text, returns a list of the sentences in that text.\u001b[39;00m\n\u001b[0;32m   <a href='file:///c%3A/Users/Admin/.conda/envs/myenv/lib/site-packages/nltk/tokenize/punkt.py?line=1274'>1275</a>\u001b[0m \u001b[39m    \"\"\"\u001b[39;00m\n\u001b[1;32m-> <a href='file:///c%3A/Users/Admin/.conda/envs/myenv/lib/site-packages/nltk/tokenize/punkt.py?line=1275'>1276</a>\u001b[0m     \u001b[39mreturn\u001b[39;00m \u001b[39mlist\u001b[39m(\u001b[39mself\u001b[39;49m\u001b[39m.\u001b[39;49msentences_from_text(text, realign_boundaries))\n",
      "File \u001b[1;32m~\\.conda\\envs\\myenv\\lib\\site-packages\\nltk\\tokenize\\punkt.py:1332\u001b[0m, in \u001b[0;36mPunktSentenceTokenizer.sentences_from_text\u001b[1;34m(self, text, realign_boundaries)\u001b[0m\n\u001b[0;32m   <a href='file:///c%3A/Users/Admin/.conda/envs/myenv/lib/site-packages/nltk/tokenize/punkt.py?line=1324'>1325</a>\u001b[0m \u001b[39mdef\u001b[39;00m \u001b[39msentences_from_text\u001b[39m(\u001b[39mself\u001b[39m, text, realign_boundaries\u001b[39m=\u001b[39m\u001b[39mTrue\u001b[39;00m):\n\u001b[0;32m   <a href='file:///c%3A/Users/Admin/.conda/envs/myenv/lib/site-packages/nltk/tokenize/punkt.py?line=1325'>1326</a>\u001b[0m     \u001b[39m\"\"\"\u001b[39;00m\n\u001b[0;32m   <a href='file:///c%3A/Users/Admin/.conda/envs/myenv/lib/site-packages/nltk/tokenize/punkt.py?line=1326'>1327</a>\u001b[0m \u001b[39m    Given a text, generates the sentences in that text by only\u001b[39;00m\n\u001b[0;32m   <a href='file:///c%3A/Users/Admin/.conda/envs/myenv/lib/site-packages/nltk/tokenize/punkt.py?line=1327'>1328</a>\u001b[0m \u001b[39m    testing candidate sentence breaks. If realign_boundaries is\u001b[39;00m\n\u001b[0;32m   <a href='file:///c%3A/Users/Admin/.conda/envs/myenv/lib/site-packages/nltk/tokenize/punkt.py?line=1328'>1329</a>\u001b[0m \u001b[39m    True, includes in the sentence closing punctuation that\u001b[39;00m\n\u001b[0;32m   <a href='file:///c%3A/Users/Admin/.conda/envs/myenv/lib/site-packages/nltk/tokenize/punkt.py?line=1329'>1330</a>\u001b[0m \u001b[39m    follows the period.\u001b[39;00m\n\u001b[0;32m   <a href='file:///c%3A/Users/Admin/.conda/envs/myenv/lib/site-packages/nltk/tokenize/punkt.py?line=1330'>1331</a>\u001b[0m \u001b[39m    \"\"\"\u001b[39;00m\n\u001b[1;32m-> <a href='file:///c%3A/Users/Admin/.conda/envs/myenv/lib/site-packages/nltk/tokenize/punkt.py?line=1331'>1332</a>\u001b[0m     \u001b[39mreturn\u001b[39;00m [text[s:e] \u001b[39mfor\u001b[39;00m s, e \u001b[39min\u001b[39;00m \u001b[39mself\u001b[39m\u001b[39m.\u001b[39mspan_tokenize(text, realign_boundaries)]\n",
      "File \u001b[1;32m~\\.conda\\envs\\myenv\\lib\\site-packages\\nltk\\tokenize\\punkt.py:1332\u001b[0m, in \u001b[0;36m<listcomp>\u001b[1;34m(.0)\u001b[0m\n\u001b[0;32m   <a href='file:///c%3A/Users/Admin/.conda/envs/myenv/lib/site-packages/nltk/tokenize/punkt.py?line=1324'>1325</a>\u001b[0m \u001b[39mdef\u001b[39;00m \u001b[39msentences_from_text\u001b[39m(\u001b[39mself\u001b[39m, text, realign_boundaries\u001b[39m=\u001b[39m\u001b[39mTrue\u001b[39;00m):\n\u001b[0;32m   <a href='file:///c%3A/Users/Admin/.conda/envs/myenv/lib/site-packages/nltk/tokenize/punkt.py?line=1325'>1326</a>\u001b[0m     \u001b[39m\"\"\"\u001b[39;00m\n\u001b[0;32m   <a href='file:///c%3A/Users/Admin/.conda/envs/myenv/lib/site-packages/nltk/tokenize/punkt.py?line=1326'>1327</a>\u001b[0m \u001b[39m    Given a text, generates the sentences in that text by only\u001b[39;00m\n\u001b[0;32m   <a href='file:///c%3A/Users/Admin/.conda/envs/myenv/lib/site-packages/nltk/tokenize/punkt.py?line=1327'>1328</a>\u001b[0m \u001b[39m    testing candidate sentence breaks. If realign_boundaries is\u001b[39;00m\n\u001b[0;32m   <a href='file:///c%3A/Users/Admin/.conda/envs/myenv/lib/site-packages/nltk/tokenize/punkt.py?line=1328'>1329</a>\u001b[0m \u001b[39m    True, includes in the sentence closing punctuation that\u001b[39;00m\n\u001b[0;32m   <a href='file:///c%3A/Users/Admin/.conda/envs/myenv/lib/site-packages/nltk/tokenize/punkt.py?line=1329'>1330</a>\u001b[0m \u001b[39m    follows the period.\u001b[39;00m\n\u001b[0;32m   <a href='file:///c%3A/Users/Admin/.conda/envs/myenv/lib/site-packages/nltk/tokenize/punkt.py?line=1330'>1331</a>\u001b[0m \u001b[39m    \"\"\"\u001b[39;00m\n\u001b[1;32m-> <a href='file:///c%3A/Users/Admin/.conda/envs/myenv/lib/site-packages/nltk/tokenize/punkt.py?line=1331'>1332</a>\u001b[0m     \u001b[39mreturn\u001b[39;00m [text[s:e] \u001b[39mfor\u001b[39;00m s, e \u001b[39min\u001b[39;00m \u001b[39mself\u001b[39m\u001b[39m.\u001b[39mspan_tokenize(text, realign_boundaries)]\n",
      "File \u001b[1;32m~\\.conda\\envs\\myenv\\lib\\site-packages\\nltk\\tokenize\\punkt.py:1322\u001b[0m, in \u001b[0;36mPunktSentenceTokenizer.span_tokenize\u001b[1;34m(self, text, realign_boundaries)\u001b[0m\n\u001b[0;32m   <a href='file:///c%3A/Users/Admin/.conda/envs/myenv/lib/site-packages/nltk/tokenize/punkt.py?line=1319'>1320</a>\u001b[0m \u001b[39mif\u001b[39;00m realign_boundaries:\n\u001b[0;32m   <a href='file:///c%3A/Users/Admin/.conda/envs/myenv/lib/site-packages/nltk/tokenize/punkt.py?line=1320'>1321</a>\u001b[0m     slices \u001b[39m=\u001b[39m \u001b[39mself\u001b[39m\u001b[39m.\u001b[39m_realign_boundaries(text, slices)\n\u001b[1;32m-> <a href='file:///c%3A/Users/Admin/.conda/envs/myenv/lib/site-packages/nltk/tokenize/punkt.py?line=1321'>1322</a>\u001b[0m \u001b[39mfor\u001b[39;00m sentence \u001b[39min\u001b[39;00m slices:\n\u001b[0;32m   <a href='file:///c%3A/Users/Admin/.conda/envs/myenv/lib/site-packages/nltk/tokenize/punkt.py?line=1322'>1323</a>\u001b[0m     \u001b[39myield\u001b[39;00m (sentence\u001b[39m.\u001b[39mstart, sentence\u001b[39m.\u001b[39mstop)\n",
      "File \u001b[1;32m~\\.conda\\envs\\myenv\\lib\\site-packages\\nltk\\tokenize\\punkt.py:1421\u001b[0m, in \u001b[0;36mPunktSentenceTokenizer._realign_boundaries\u001b[1;34m(self, text, slices)\u001b[0m\n\u001b[0;32m   <a href='file:///c%3A/Users/Admin/.conda/envs/myenv/lib/site-packages/nltk/tokenize/punkt.py?line=1407'>1408</a>\u001b[0m \u001b[39m\"\"\"\u001b[39;00m\n\u001b[0;32m   <a href='file:///c%3A/Users/Admin/.conda/envs/myenv/lib/site-packages/nltk/tokenize/punkt.py?line=1408'>1409</a>\u001b[0m \u001b[39mAttempts to realign punctuation that falls after the period but\u001b[39;00m\n\u001b[0;32m   <a href='file:///c%3A/Users/Admin/.conda/envs/myenv/lib/site-packages/nltk/tokenize/punkt.py?line=1409'>1410</a>\u001b[0m \u001b[39mshould otherwise be included in the same sentence.\u001b[39;00m\n\u001b[1;32m   (...)\u001b[0m\n\u001b[0;32m   <a href='file:///c%3A/Users/Admin/.conda/envs/myenv/lib/site-packages/nltk/tokenize/punkt.py?line=1417'>1418</a>\u001b[0m \u001b[39m    [\"(Sent1.)\", \"Sent2.\"].\u001b[39;00m\n\u001b[0;32m   <a href='file:///c%3A/Users/Admin/.conda/envs/myenv/lib/site-packages/nltk/tokenize/punkt.py?line=1418'>1419</a>\u001b[0m \u001b[39m\"\"\"\u001b[39;00m\n\u001b[0;32m   <a href='file:///c%3A/Users/Admin/.conda/envs/myenv/lib/site-packages/nltk/tokenize/punkt.py?line=1419'>1420</a>\u001b[0m realign \u001b[39m=\u001b[39m \u001b[39m0\u001b[39m\n\u001b[1;32m-> <a href='file:///c%3A/Users/Admin/.conda/envs/myenv/lib/site-packages/nltk/tokenize/punkt.py?line=1420'>1421</a>\u001b[0m \u001b[39mfor\u001b[39;00m sentence1, sentence2 \u001b[39min\u001b[39;00m _pair_iter(slices):\n\u001b[0;32m   <a href='file:///c%3A/Users/Admin/.conda/envs/myenv/lib/site-packages/nltk/tokenize/punkt.py?line=1421'>1422</a>\u001b[0m     sentence1 \u001b[39m=\u001b[39m \u001b[39mslice\u001b[39m(sentence1\u001b[39m.\u001b[39mstart \u001b[39m+\u001b[39m realign, sentence1\u001b[39m.\u001b[39mstop)\n\u001b[0;32m   <a href='file:///c%3A/Users/Admin/.conda/envs/myenv/lib/site-packages/nltk/tokenize/punkt.py?line=1422'>1423</a>\u001b[0m     \u001b[39mif\u001b[39;00m \u001b[39mnot\u001b[39;00m sentence2:\n",
      "File \u001b[1;32m~\\.conda\\envs\\myenv\\lib\\site-packages\\nltk\\tokenize\\punkt.py:318\u001b[0m, in \u001b[0;36m_pair_iter\u001b[1;34m(iterator)\u001b[0m\n\u001b[0;32m    <a href='file:///c%3A/Users/Admin/.conda/envs/myenv/lib/site-packages/nltk/tokenize/punkt.py?line=315'>316</a>\u001b[0m iterator \u001b[39m=\u001b[39m \u001b[39miter\u001b[39m(iterator)\n\u001b[0;32m    <a href='file:///c%3A/Users/Admin/.conda/envs/myenv/lib/site-packages/nltk/tokenize/punkt.py?line=316'>317</a>\u001b[0m \u001b[39mtry\u001b[39;00m:\n\u001b[1;32m--> <a href='file:///c%3A/Users/Admin/.conda/envs/myenv/lib/site-packages/nltk/tokenize/punkt.py?line=317'>318</a>\u001b[0m     prev \u001b[39m=\u001b[39m \u001b[39mnext\u001b[39;49m(iterator)\n\u001b[0;32m    <a href='file:///c%3A/Users/Admin/.conda/envs/myenv/lib/site-packages/nltk/tokenize/punkt.py?line=318'>319</a>\u001b[0m \u001b[39mexcept\u001b[39;00m \u001b[39mStopIteration\u001b[39;00m:\n\u001b[0;32m    <a href='file:///c%3A/Users/Admin/.conda/envs/myenv/lib/site-packages/nltk/tokenize/punkt.py?line=319'>320</a>\u001b[0m     \u001b[39mreturn\u001b[39;00m\n",
      "File \u001b[1;32m~\\.conda\\envs\\myenv\\lib\\site-packages\\nltk\\tokenize\\punkt.py:1395\u001b[0m, in \u001b[0;36mPunktSentenceTokenizer._slices_from_text\u001b[1;34m(self, text)\u001b[0m\n\u001b[0;32m   <a href='file:///c%3A/Users/Admin/.conda/envs/myenv/lib/site-packages/nltk/tokenize/punkt.py?line=1392'>1393</a>\u001b[0m \u001b[39mdef\u001b[39;00m \u001b[39m_slices_from_text\u001b[39m(\u001b[39mself\u001b[39m, text):\n\u001b[0;32m   <a href='file:///c%3A/Users/Admin/.conda/envs/myenv/lib/site-packages/nltk/tokenize/punkt.py?line=1393'>1394</a>\u001b[0m     last_break \u001b[39m=\u001b[39m \u001b[39m0\u001b[39m\n\u001b[1;32m-> <a href='file:///c%3A/Users/Admin/.conda/envs/myenv/lib/site-packages/nltk/tokenize/punkt.py?line=1394'>1395</a>\u001b[0m     \u001b[39mfor\u001b[39;00m match, context \u001b[39min\u001b[39;00m \u001b[39mself\u001b[39;49m\u001b[39m.\u001b[39;49m_match_potential_end_contexts(text):\n\u001b[0;32m   <a href='file:///c%3A/Users/Admin/.conda/envs/myenv/lib/site-packages/nltk/tokenize/punkt.py?line=1395'>1396</a>\u001b[0m         \u001b[39mif\u001b[39;00m \u001b[39mself\u001b[39m\u001b[39m.\u001b[39mtext_contains_sentbreak(context):\n\u001b[0;32m   <a href='file:///c%3A/Users/Admin/.conda/envs/myenv/lib/site-packages/nltk/tokenize/punkt.py?line=1396'>1397</a>\u001b[0m             \u001b[39myield\u001b[39;00m \u001b[39mslice\u001b[39m(last_break, match\u001b[39m.\u001b[39mend())\n",
      "File \u001b[1;32m~\\.conda\\envs\\myenv\\lib\\site-packages\\nltk\\tokenize\\punkt.py:1385\u001b[0m, in \u001b[0;36mPunktSentenceTokenizer._match_potential_end_contexts\u001b[1;34m(self, text)\u001b[0m\n\u001b[0;32m   <a href='file:///c%3A/Users/Admin/.conda/envs/myenv/lib/site-packages/nltk/tokenize/punkt.py?line=1381'>1382</a>\u001b[0m     before_words[match] \u001b[39m=\u001b[39m split[\u001b[39m-\u001b[39m\u001b[39m1\u001b[39m] \u001b[39mif\u001b[39;00m split \u001b[39melse\u001b[39;00m \u001b[39m\"\u001b[39m\u001b[39m\"\u001b[39m\n\u001b[0;32m   <a href='file:///c%3A/Users/Admin/.conda/envs/myenv/lib/site-packages/nltk/tokenize/punkt.py?line=1382'>1383</a>\u001b[0m     matches\u001b[39m.\u001b[39mappend(match)\n\u001b[1;32m-> <a href='file:///c%3A/Users/Admin/.conda/envs/myenv/lib/site-packages/nltk/tokenize/punkt.py?line=1384'>1385</a>\u001b[0m \u001b[39mreturn\u001b[39;00m [\n\u001b[0;32m   <a href='file:///c%3A/Users/Admin/.conda/envs/myenv/lib/site-packages/nltk/tokenize/punkt.py?line=1385'>1386</a>\u001b[0m     (\n\u001b[0;32m   <a href='file:///c%3A/Users/Admin/.conda/envs/myenv/lib/site-packages/nltk/tokenize/punkt.py?line=1386'>1387</a>\u001b[0m         match,\n\u001b[0;32m   <a href='file:///c%3A/Users/Admin/.conda/envs/myenv/lib/site-packages/nltk/tokenize/punkt.py?line=1387'>1388</a>\u001b[0m         before_words[match] \u001b[39m+\u001b[39m match\u001b[39m.\u001b[39mgroup() \u001b[39m+\u001b[39m match\u001b[39m.\u001b[39mgroup(\u001b[39m\"\u001b[39m\u001b[39mafter_tok\u001b[39m\u001b[39m\"\u001b[39m),\n\u001b[0;32m   <a href='file:///c%3A/Users/Admin/.conda/envs/myenv/lib/site-packages/nltk/tokenize/punkt.py?line=1388'>1389</a>\u001b[0m     )\n\u001b[0;32m   <a href='file:///c%3A/Users/Admin/.conda/envs/myenv/lib/site-packages/nltk/tokenize/punkt.py?line=1389'>1390</a>\u001b[0m     \u001b[39mfor\u001b[39;00m match \u001b[39min\u001b[39;00m matches[::\u001b[39m-\u001b[39m\u001b[39m1\u001b[39m]\n\u001b[0;32m   <a href='file:///c%3A/Users/Admin/.conda/envs/myenv/lib/site-packages/nltk/tokenize/punkt.py?line=1390'>1391</a>\u001b[0m ]\n",
      "File \u001b[1;32m~\\.conda\\envs\\myenv\\lib\\site-packages\\nltk\\tokenize\\punkt.py:1385\u001b[0m, in \u001b[0;36m<listcomp>\u001b[1;34m(.0)\u001b[0m\n\u001b[0;32m   <a href='file:///c%3A/Users/Admin/.conda/envs/myenv/lib/site-packages/nltk/tokenize/punkt.py?line=1381'>1382</a>\u001b[0m     before_words[match] \u001b[39m=\u001b[39m split[\u001b[39m-\u001b[39m\u001b[39m1\u001b[39m] \u001b[39mif\u001b[39;00m split \u001b[39melse\u001b[39;00m \u001b[39m\"\u001b[39m\u001b[39m\"\u001b[39m\n\u001b[0;32m   <a href='file:///c%3A/Users/Admin/.conda/envs/myenv/lib/site-packages/nltk/tokenize/punkt.py?line=1382'>1383</a>\u001b[0m     matches\u001b[39m.\u001b[39mappend(match)\n\u001b[1;32m-> <a href='file:///c%3A/Users/Admin/.conda/envs/myenv/lib/site-packages/nltk/tokenize/punkt.py?line=1384'>1385</a>\u001b[0m \u001b[39mreturn\u001b[39;00m [\n\u001b[0;32m   <a href='file:///c%3A/Users/Admin/.conda/envs/myenv/lib/site-packages/nltk/tokenize/punkt.py?line=1385'>1386</a>\u001b[0m     (\n\u001b[0;32m   <a href='file:///c%3A/Users/Admin/.conda/envs/myenv/lib/site-packages/nltk/tokenize/punkt.py?line=1386'>1387</a>\u001b[0m         match,\n\u001b[0;32m   <a href='file:///c%3A/Users/Admin/.conda/envs/myenv/lib/site-packages/nltk/tokenize/punkt.py?line=1387'>1388</a>\u001b[0m         before_words[match] \u001b[39m+\u001b[39m match\u001b[39m.\u001b[39mgroup() \u001b[39m+\u001b[39m match\u001b[39m.\u001b[39mgroup(\u001b[39m\"\u001b[39m\u001b[39mafter_tok\u001b[39m\u001b[39m\"\u001b[39m),\n\u001b[0;32m   <a href='file:///c%3A/Users/Admin/.conda/envs/myenv/lib/site-packages/nltk/tokenize/punkt.py?line=1388'>1389</a>\u001b[0m     )\n\u001b[0;32m   <a href='file:///c%3A/Users/Admin/.conda/envs/myenv/lib/site-packages/nltk/tokenize/punkt.py?line=1389'>1390</a>\u001b[0m     \u001b[39mfor\u001b[39;00m match \u001b[39min\u001b[39;00m matches[::\u001b[39m-\u001b[39m\u001b[39m1\u001b[39m]\n\u001b[0;32m   <a href='file:///c%3A/Users/Admin/.conda/envs/myenv/lib/site-packages/nltk/tokenize/punkt.py?line=1390'>1391</a>\u001b[0m ]\n",
      "\u001b[1;31mKeyboardInterrupt\u001b[0m: "
     ]
    }
   ],
   "source": [
    "X = df['selftext']\n",
    "y = df['subreddit']\n",
    "\n",
    "class LemmaTokenizer(object):\n",
    "    def __init__(self):\n",
    "        self.stem = PorterStemmer()\n",
    "    def __call__(self,articles):\n",
    "        return [self.stem.stem(t) for t in word_tokenize(articles)]\n",
    "\n",
    "\n",
    "#  Train test split \n",
    "X_train, X_test, y_train, y_test = train_test_split(X,\n",
    "                                                    y,\n",
    "                                                    test_size=0.33,\n",
    "                                                    stratify=y,\n",
    "                                                    random_state=42)\n",
    "\n",
    "pipe = Pipeline([\n",
    "    ('cvec', TfidfVectorizer(stop_words = stopwordlist, tokenizer= LemmaTokenizer())),\n",
    "    ('nb', MultinomialNB())\n",
    "])\n",
    "\n",
    "pipe_params = {\n",
    "    'cvec__max_features': [1_000],\n",
    "    'cvec__min_df': [.002],\n",
    "    'cvec__max_df': [.6],\n",
    "    'cvec__ngram_range': [(1,1), (1,2)],\n",
    "}\n",
    "\n",
    "gs = GridSearchCV(pipe, # what object are we optimizing?\n",
    "                  param_grid=pipe_params, # what parameters values are we searching?\n",
    "                  cv=5) # 5-fold cross-validation\n",
    "\n",
    "gs.fit(X_train, y_train)"
   ]
  },
  {
   "cell_type": "code",
   "execution_count": null,
   "metadata": {},
   "outputs": [
    {
     "data": {
      "text/plain": [
       "Pipeline(steps=[('cvec',\n",
       "                 TfidfVectorizer(max_df=0.6, max_features=1000, min_df=0.002,\n",
       "                                 stop_words=['i', 'me', 'my', 'myself', 'we',\n",
       "                                             'our', 'ours', 'ourselves', 'you',\n",
       "                                             \"you're\", \"you've\", \"you'll\",\n",
       "                                             \"you'd\", 'your', 'yours',\n",
       "                                             'yourself', 'yourselves', 'he',\n",
       "                                             'him', 'his', 'himself', 'she',\n",
       "                                             \"she's\", 'her', 'hers', 'herself',\n",
       "                                             'it', \"it's\", 'its', 'itself', ...],\n",
       "                                 tokenizer=<__main__.LemmaTokenizer object at 0x000001A52D6F7A60>)),\n",
       "                ('nb', MultinomialNB())])"
      ]
     },
     "execution_count": 190,
     "metadata": {},
     "output_type": "execute_result"
    }
   ],
   "source": [
    "gs.best_estimator_\n"
   ]
  },
  {
   "cell_type": "code",
   "execution_count": null,
   "metadata": {},
   "outputs": [
    {
     "name": "stdout",
     "output_type": "stream",
     "text": [
      "Best score: 0.800133475941695\n",
      "Best training score: 0.8127221563981043\n",
      "Best test score: 0.8027660853878533\n"
     ]
    }
   ],
   "source": [
    "# What's the best score?\n",
    "print('Best score:', gs.best_score_)\n",
    "\n",
    "# Score model on training set.\n",
    "print('Best training score:', gs.score(X_train, y_train))\n",
    "  \n",
    "# Score model on testing set.\n",
    "print('Best test score:', gs.score(X_test, y_test))"
   ]
  },
  {
   "cell_type": "code",
   "execution_count": null,
   "metadata": {},
   "outputs": [
    {
     "name": "stderr",
     "output_type": "stream",
     "text": [
      "C:\\Users\\Admin\\.conda\\envs\\myenv\\lib\\site-packages\\sklearn\\utils\\deprecation.py:87: FutureWarning: Function plot_confusion_matrix is deprecated; Function `plot_confusion_matrix` is deprecated in 1.0 and will be removed in 1.2. Use one of the class methods: ConfusionMatrixDisplay.from_predictions or ConfusionMatrixDisplay.from_estimator.\n",
      "  warnings.warn(msg, category=FutureWarning)\n"
     ]
    },
    {
     "data": {
      "image/png": "[encoded data removed]",
      "text/plain": [
       "<Figure size 432x288 with 2 Axes>"
      ]
     },
     "metadata": {
      "needs_background": "light"
     },
     "output_type": "display_data"
    }
   ],
   "source": [
    "# Get predictions\n",
    "preds = gs.predict(X_test)\n",
    "\n",
    "# Save confusion matrix values\n",
    "tn, fp, fn, tp = confusion_matrix(y_test, preds).ravel()\n",
    "\n",
    "# View confusion matrix\n",
    "cmd = plot_confusion_matrix(gs, X_test, y_test, cmap='Blues', values_format='d', display_labels=['General Anxiety','PTSD'])\n",
    "cmd.ax_.set(xlabel='Predicted', ylabel='True');"
   ]
  },
  {
   "cell_type": "code",
   "execution_count": null,
   "metadata": {},
   "outputs": [
    {
     "name": "stderr",
     "output_type": "stream",
     "text": [
      "C:\\Users\\Admin\\.conda\\envs\\myenv\\lib\\site-packages\\sklearn\\utils\\deprecation.py:87: FutureWarning: Function get_feature_names is deprecated; get_feature_names is deprecated in 1.0 and will be removed in 1.2. Please use get_feature_names_out instead.\n",
      "  warnings.warn(msg, category=FutureWarning)\n"
     ]
    },
    {
     "data": {
      "text/html": [
       "<div>\n",
       "<style scoped>\n",
       "    .dataframe tbody tr th:only-of-type {\n",
       "        vertical-align: middle;\n",
       "    }\n",
       "\n",
       "    .dataframe tbody tr th {\n",
       "        vertical-align: top;\n",
       "    }\n",
       "\n",
       "    .dataframe thead th {\n",
       "        text-align: right;\n",
       "    }\n",
       "</style>\n",
       "<table border=\"1\" class=\"dataframe\">\n",
       "  <thead>\n",
       "    <tr style=\"text-align: right;\">\n",
       "      <th></th>\n",
       "      <th>Features</th>\n",
       "      <th>Probability_PTSD</th>\n",
       "    </tr>\n",
       "  </thead>\n",
       "  <tbody>\n",
       "    <tr>\n",
       "      <th>706</th>\n",
       "      <td>rape</td>\n",
       "      <td>53.554286</td>\n",
       "    </tr>\n",
       "    <tr>\n",
       "      <th>354</th>\n",
       "      <td>flashback</td>\n",
       "      <td>51.771695</td>\n",
       "    </tr>\n",
       "    <tr>\n",
       "      <th>102</th>\n",
       "      <td>assault</td>\n",
       "      <td>25.065286</td>\n",
       "    </tr>\n",
       "    <tr>\n",
       "      <th>291</th>\n",
       "      <td>emdr</td>\n",
       "      <td>20.328377</td>\n",
       "    </tr>\n",
       "    <tr>\n",
       "      <th>41</th>\n",
       "      <td>abus</td>\n",
       "      <td>17.095164</td>\n",
       "    </tr>\n",
       "    <tr>\n",
       "      <th>780</th>\n",
       "      <td>sexual</td>\n",
       "      <td>10.916288</td>\n",
       "    </tr>\n",
       "    <tr>\n",
       "      <th>609</th>\n",
       "      <td>nightmar</td>\n",
       "      <td>10.523782</td>\n",
       "    </tr>\n",
       "    <tr>\n",
       "      <th>938</th>\n",
       "      <td>victim</td>\n",
       "      <td>7.554709</td>\n",
       "    </tr>\n",
       "    <tr>\n",
       "      <th>181</th>\n",
       "      <td>childhood</td>\n",
       "      <td>6.226020</td>\n",
       "    </tr>\n",
       "    <tr>\n",
       "      <th>565</th>\n",
       "      <td>memori</td>\n",
       "      <td>6.138353</td>\n",
       "    </tr>\n",
       "    <tr>\n",
       "      <th>427</th>\n",
       "      <td>heal</td>\n",
       "      <td>5.966062</td>\n",
       "    </tr>\n",
       "    <tr>\n",
       "      <th>940</th>\n",
       "      <td>violent</td>\n",
       "      <td>5.585100</td>\n",
       "    </tr>\n",
       "    <tr>\n",
       "      <th>260</th>\n",
       "      <td>dissoci</td>\n",
       "      <td>5.095325</td>\n",
       "    </tr>\n",
       "    <tr>\n",
       "      <th>672</th>\n",
       "      <td>polic</td>\n",
       "      <td>5.091013</td>\n",
       "    </tr>\n",
       "    <tr>\n",
       "      <th>550</th>\n",
       "      <td>manipul</td>\n",
       "      <td>4.795781</td>\n",
       "    </tr>\n",
       "    <tr>\n",
       "      <th>566</th>\n",
       "      <td>men</td>\n",
       "      <td>4.459046</td>\n",
       "    </tr>\n",
       "    <tr>\n",
       "      <th>251</th>\n",
       "      <td>diagnosi</td>\n",
       "      <td>4.435552</td>\n",
       "    </tr>\n",
       "    <tr>\n",
       "      <th>922</th>\n",
       "      <td>tw</td>\n",
       "      <td>4.364300</td>\n",
       "    </tr>\n",
       "    <tr>\n",
       "      <th>761</th>\n",
       "      <td>scream</td>\n",
       "      <td>4.331721</td>\n",
       "    </tr>\n",
       "    <tr>\n",
       "      <th>257</th>\n",
       "      <td>disabl</td>\n",
       "      <td>4.295972</td>\n",
       "    </tr>\n",
       "    <tr>\n",
       "      <th>915</th>\n",
       "      <td>trigger</td>\n",
       "      <td>4.003534</td>\n",
       "    </tr>\n",
       "    <tr>\n",
       "      <th>469</th>\n",
       "      <td>incid</td>\n",
       "      <td>3.952504</td>\n",
       "    </tr>\n",
       "    <tr>\n",
       "      <th>337</th>\n",
       "      <td>father</td>\n",
       "      <td>3.850856</td>\n",
       "    </tr>\n",
       "    <tr>\n",
       "      <th>313</th>\n",
       "      <td>ex</td>\n",
       "      <td>3.774125</td>\n",
       "    </tr>\n",
       "    <tr>\n",
       "      <th>180</th>\n",
       "      <td>child</td>\n",
       "      <td>3.692977</td>\n",
       "    </tr>\n",
       "    <tr>\n",
       "      <th>736</th>\n",
       "      <td>report</td>\n",
       "      <td>3.660966</td>\n",
       "    </tr>\n",
       "    <tr>\n",
       "      <th>11</th>\n",
       "      <td>--</td>\n",
       "      <td>3.618921</td>\n",
       "    </tr>\n",
       "    <tr>\n",
       "      <th>689</th>\n",
       "      <td>protect</td>\n",
       "      <td>3.524044</td>\n",
       "    </tr>\n",
       "    <tr>\n",
       "      <th>248</th>\n",
       "      <td>detail</td>\n",
       "      <td>3.362135</td>\n",
       "    </tr>\n",
       "    <tr>\n",
       "      <th>887</th>\n",
       "      <td>threaten</td>\n",
       "      <td>3.238912</td>\n",
       "    </tr>\n",
       "  </tbody>\n",
       "</table>\n",
       "</div>"
      ],
      "text/plain": [
       "      Features  Probability_PTSD\n",
       "706       rape         53.554286\n",
       "354  flashback         51.771695\n",
       "102    assault         25.065286\n",
       "291       emdr         20.328377\n",
       "41        abus         17.095164\n",
       "780     sexual         10.916288\n",
       "609   nightmar         10.523782\n",
       "938     victim          7.554709\n",
       "181  childhood          6.226020\n",
       "565     memori          6.138353\n",
       "427       heal          5.966062\n",
       "940    violent          5.585100\n",
       "260    dissoci          5.095325\n",
       "672      polic          5.091013\n",
       "550    manipul          4.795781\n",
       "566        men          4.459046\n",
       "251   diagnosi          4.435552\n",
       "922         tw          4.364300\n",
       "761     scream          4.331721\n",
       "257     disabl          4.295972\n",
       "915    trigger          4.003534\n",
       "469      incid          3.952504\n",
       "337     father          3.850856\n",
       "313         ex          3.774125\n",
       "180      child          3.692977\n",
       "736     report          3.660966\n",
       "11          --          3.618921\n",
       "689    protect          3.524044\n",
       "248     detail          3.362135\n",
       "887   threaten          3.238912"
      ]
     },
     "execution_count": 193,
     "metadata": {},
     "output_type": "execute_result"
    }
   ],
   "source": [
    "# to create delta between the log probabilities between two classes\n",
    "delta = gs.best_estimator_[1].feature_log_prob_[1, :] - gs.best_estimator_[1].feature_log_prob_[0, :]\n",
    "\n",
    "# Create Df and filter top few log prob \n",
    "df_multinomial = pd.DataFrame([[x,y] for x,y in zip(gs.best_estimator_[0].get_feature_names(), np.exp(delta))])\n",
    "df_multinomial.rename(columns= {0: 'Features', 1: 'Probability_PTSD'}, inplace = True)\n",
    "df_multinomial.sort_values(by = 'Probability_PTSD', ascending = False).head(30)\n"
   ]
  },
  {
   "cell_type": "code",
   "execution_count": null,
   "metadata": {},
   "outputs": [
    {
     "name": "stdout",
     "output_type": "stream",
     "text": [
      "flashback flashback abuse abused\n"
     ]
    }
   ],
   "source": [
    "def lemmetize_print(words):\n",
    "     from nltk.stem import WordNetLemmatizer\n",
    "     from nltk.tokenize import word_tokenize\n",
    "     lemmatizer = WordNetLemmatizer()\n",
    "     a = []\n",
    "     tokens = word_tokenize(words)\n",
    "     for token in tokens:\n",
    "          if token in ['abused']:\n",
    "              a.append('abuse')\n",
    "          lemmetized_word = lemmatizer.lemmatize(token)\n",
    "          a.append(lemmetized_word)\n",
    "     sentence = \" \".join(a)\n",
    "     print(sentence)\n",
    "\n",
    "\n",
    "\n",
    "text = 'flashbacks flashback abused'\n",
    "\n",
    "lemmetize_print(text)"
   ]
  },
  {
   "cell_type": "code",
   "execution_count": null,
   "metadata": {},
   "outputs": [
    {
     "name": "stdout",
     "output_type": "stream",
     "text": [
      "flashback flashback abus\n"
     ]
    }
   ],
   "source": [
    "stemmer = PorterStemmer()\n",
    "\n",
    "\n",
    "def lemmetize_print(words):\n",
    "     stemmer = PorterStemmer()\n",
    "     a = []\n",
    "     tokens = word_tokenize(words)\n",
    "     for token in tokens:\n",
    "          lemmetized_word = stemmer.stem(token)\n",
    "          a.append(lemmetized_word)\n",
    "     sentence = \" \".join(a)\n",
    "     print(sentence)\n",
    "\n",
    "\n",
    "text = 'flashbacks flashback abuser'\n",
    "\n",
    "lemmetize_print(text)"
   ]
  }
 ],
 "metadata": {
  "interpreter": {
   "hash": "b3ba2566441a7c06988d0923437866b63cedc61552a5af99d1f4fb67d367b25f"
  },
  "kernelspec": {
   "display_name": "Python 3.8.8 ('base')",
   "language": "python",
   "name": "python3"
  },
  "language_info": {
   "codemirror_mode": {
    "name": "ipython",
    "version": 3
   },
   "file_extension": ".py",
   "mimetype": "text/x-python",
   "name": "python",
   "nbconvert_exporter": "python",
   "pygments_lexer": "ipython3",
   "version": "3.9.7"
  },
  "orig_nbformat": 4
 },
 "nbformat": 4,
 "nbformat_minor": 2
}
