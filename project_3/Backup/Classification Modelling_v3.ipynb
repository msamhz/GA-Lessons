{
 "cells": [
  {
   "cell_type": "markdown",
   "metadata": {},
   "source": [
    "## Contents\n",
    "- [Data Importing](#Data-Importing)\n",
    "- [Classification metrics](#Classification-metrics)\n",
    "- [Vectorizer Selection via GridSeachCV](#Vectorizer-Selection-via-GridSeachCV)\n",
    "- [MultinomialNB and Hyperparameter tuning](#MultinomialNB-and-Hyperparameter-tuning)\n",
    "- [Logistic Regression Modelling and Hyperparameter tuning](#Logistic-Regression-Modelling-and-Hyperparameter-tuning)\n",
    "- [Analysis on top few features by logreg and MultinomialNB](#Analysis-on-top-few-features-by-logreg-and-MultinomialNB)\n",
    "- [Random Forest Classifier](#Random-Forest-Classifier)\n",
    "- [Conclusion and Recommendation](#Conclusion-and-Recommendation)"
   ]
  },
  {
   "cell_type": "code",
   "execution_count": 1,
   "metadata": {},
   "outputs": [],
   "source": [
    "import pandas as pd\n",
    "import requests\n",
    "import string\n",
    "string.punctuation\n",
    "import re\n",
    "import nltk\n",
    "from nltk.stem import WordNetLemmatizer\n",
    "import numpy as np\n",
    "import seaborn as sns\n",
    "import matplotlib.pyplot as plt\n",
    "import re\n",
    "from bs4 import BeautifulSoup\n",
    "import contractions\n",
    "\n",
    "from sklearn.neighbors import KNeighborsClassifier\n",
    "from sklearn.metrics import confusion_matrix, plot_confusion_matrix, accuracy_score, \\\n",
    "    plot_roc_curve, roc_auc_score, recall_score, precision_score, f1_score\n",
    "from transformers import pipeline\n",
    "from sklearn.pipeline import Pipeline\n",
    "from sklearn.linear_model import LogisticRegression\n",
    "from sklearn.feature_extraction.text import CountVectorizer, TfidfVectorizer\n",
    "from sklearn.naive_bayes import MultinomialNB\n",
    "from sklearn.feature_extraction.text import CountVectorizer, TfidfVectorizer\n",
    "from nltk import word_tokenize   \n",
    "from nltk.stem.porter import PorterStemmer\n",
    "from nltk.tokenize import sent_tokenize, word_tokenize, RegexpTokenizer\n",
    "import matplotlib.dates as mdate\n",
    "from sklearn.ensemble import RandomForestClassifier, ExtraTreesClassifier\n",
    "\n",
    "import gensim\n",
    "import gensim.downloader as api\n",
    "from gensim.models.word2vec import Word2Vec\n",
    "\n",
    "\n",
    "from sklearn.model_selection import(\n",
    "    cross_val_score,\n",
    "    train_test_split,\n",
    "    GridSearchCV\n",
    ")\n",
    "\n",
    "from sklearn.preprocessing import (\n",
    "    StandardScaler,\n",
    "    PolynomialFeatures\n",
    ")\n",
    "from datetime import timezone\n",
    "import datetime\n",
    "\n",
    "pd.set_option('display.max_colwidth', None)"
   ]
  },
  {
   "cell_type": "markdown",
   "metadata": {},
   "source": [
    "## Data importing"
   ]
  },
  {
   "cell_type": "code",
   "execution_count": 2,
   "metadata": {},
   "outputs": [],
   "source": [
    "df = pd.read_csv('../Data/df.csv')\n",
    "df.drop(columns = 'Unnamed: 0', inplace = True)"
   ]
  },
  {
   "cell_type": "markdown",
   "metadata": {},
   "source": [
    "Check for Null"
   ]
  },
  {
   "cell_type": "code",
   "execution_count": 3,
   "metadata": {},
   "outputs": [
    {
     "data": {
      "text/plain": [
       "author                   0\n",
       "subreddit                0\n",
       "selftext                 0\n",
       "title                    0\n",
       "created_utc              0\n",
       "datetime                 0\n",
       "link_flair_css_class     0\n",
       "alltext                  0\n",
       "length_text              0\n",
       "wrdcount_text            0\n",
       "month                    0\n",
       "day                      0\n",
       "clean_text               1\n",
       "ttl_post                 0\n",
       "user_contribute_where    0\n",
       "stem_clean_text          1\n",
       "lemmi_clean_text         1\n",
       "dtype: int64"
      ]
     },
     "execution_count": 3,
     "metadata": {},
     "output_type": "execute_result"
    }
   ],
   "source": [
    "df.isnull().sum()"
   ]
  },
  {
   "cell_type": "code",
   "execution_count": 4,
   "metadata": {},
   "outputs": [],
   "source": [
    "df.dropna(inplace = True)"
   ]
  },
  {
   "cell_type": "markdown",
   "metadata": {},
   "source": [
    "###  Model Prep: Create `X` and `y` variables"
   ]
  },
  {
   "cell_type": "markdown",
   "metadata": {},
   "source": [
    "Our features will be:\n",
    "- `subreddit`\n",
    "- `stem_clean_text`\n",
    "- `lemmi_clean_text`\n",
    "\n",
    "For our baseline modelling will be using lemmi_clean_text\n",
    "\n",
    "Our target will be `subreddit`"
   ]
  },
  {
   "cell_type": "code",
   "execution_count": 5,
   "metadata": {},
   "outputs": [],
   "source": [
    "X = df['lemmi_clean_text']\n",
    "y = df['subreddit']"
   ]
  },
  {
   "cell_type": "markdown",
   "metadata": {},
   "source": [
    "### Train/Test Split"
   ]
  },
  {
   "cell_type": "code",
   "execution_count": 6,
   "metadata": {},
   "outputs": [],
   "source": [
    "X_train, X_test, y_train, y_test = train_test_split(X, y, random_state=42, stratify=y)"
   ]
  },
  {
   "cell_type": "markdown",
   "metadata": {},
   "source": [
    "## Classification Metrics"
   ]
  },
  {
   "cell_type": "markdown",
   "metadata": {},
   "source": [
    "Possible classification metrics that can be used how well my model perform are *Accuracy, Misclassification Rate, Sensitivity (True Positive Rate), Specificity (True Negative Rate), Precision (Positive Predictive Value), F1 Score and ROC AUC*.\n",
    "\n",
    "For this project I will be mainly using *Accuracy* accompanied with confusion matrix to determine effectiveness of my models\n",
    "\n",
    "For further evaluations, I will be using Specificity to choose the best model that helps gauge on how best to minimize this in order to reduce missing out identifying users potentionally having PTSD.\n",
    "\n",
    "I will also use ROC to gave a gauge the degree of overlap between the words in post from the two subreddits. "
   ]
  },
  {
   "cell_type": "markdown",
   "metadata": {},
   "source": [
    "### Baseline Accuracy Check"
   ]
  },
  {
   "cell_type": "code",
   "execution_count": 7,
   "metadata": {},
   "outputs": [
    {
     "name": "stdout",
     "output_type": "stream",
     "text": [
      "Total post: 20228\n"
     ]
    },
    {
     "data": {
      "text/plain": [
       "1    0.500395\n",
       "0    0.499605\n",
       "Name: subreddit, dtype: float64"
      ]
     },
     "execution_count": 7,
     "metadata": {},
     "output_type": "execute_result"
    }
   ],
   "source": [
    "print(f'Total post: {len(df)}')\n",
    "df['subreddit'].value_counts(normalize= True)\n"
   ]
  },
  {
   "cell_type": "markdown",
   "metadata": {},
   "source": [
    "With 10000 post added into each class, the classes are very well balanced from both sides \n",
    "\n",
    "Also, from the above, we can see the ***baseline accuracy*** is at 50.1%. \n",
    "If nothing ws done for the classification model, and just to assign every post to the PTSD class, i would classify 50.1% of the post correctly. \n",
    "\n",
    "Therefore, any classification model designed for this data must have an accuracy higher than the ***baseline accuracy*** of 50.1%"
   ]
  },
  {
   "cell_type": "markdown",
   "metadata": {},
   "source": [
    "## Vectorizer Selection via GridSeachCV"
   ]
  },
  {
   "cell_type": "markdown",
   "metadata": {},
   "source": [
    "Consider two NLP vectorizers and iterate over parameters below with Logistic regression model first.\n",
    "- *Count Vectorizer*\n",
    "- *TF-IDF Vectorizer*"
   ]
  },
  {
   "cell_type": "code",
   "execution_count": 8,
   "metadata": {},
   "outputs": [],
   "source": [
    "# create stop word list \n",
    "stopwordlist = nltk.corpus.stopwords.words('english')\n",
    "\n",
    "# to input in subreddit headers so that we can exclude it for model\n",
    "headers = ['ptsd', 'anxiety',\"cptsd\", 'trauma','traumatized','traumas',\"posttraumatic\",'stress','disorder',\"traumatic\", 'www', 'https', 'mentalgrenade', 'com']\n",
    "for head in headers:\n",
    "    stopwordlist.append(head)\n",
    "\n"
   ]
  },
  {
   "cell_type": "code",
   "execution_count": 9,
   "metadata": {},
   "outputs": [],
   "source": [
    "# Creating Pipeline with:\n",
    "# Estimator: LogisticRegression (both)\n",
    "# Transformer: CountVectorizer - pipe1, TfidfVectorizer - pipe2\n",
    "\n",
    "pipe1 = Pipeline([('cvec1', CountVectorizer(stop_words= stopwordlist)),\n",
    "                  ('logreg1', LogisticRegression())\n",
    "                 ])\n",
    "\n",
    "pipe2 = Pipeline([('tfvec2', TfidfVectorizer(stop_words= stopwordlist)),\n",
    "                  ('logreg2', LogisticRegression())\n",
    "                 ])"
   ]
  },
  {
   "cell_type": "code",
   "execution_count": 10,
   "metadata": {},
   "outputs": [],
   "source": [
    "# Declaring fixed one-off hyperparameters max_features, min_df, max_df & ngram_range for GridSearchCV first.\n",
    "\n",
    "pipe1_params = {'cvec1__max_features': [1000],\n",
    "                'cvec1__min_df': [0.02],\n",
    "                'cvec1__max_df': [0.7],\n",
    "                'cvec1__ngram_range': [(1,1), (1,2)],\n",
    "                'logreg1__max_iter': [1000]\n",
    "               }\n",
    "\n",
    "pipe2_params = {'tfvec2__max_features': [1000],\n",
    "                'tfvec2__min_df': [0.02],\n",
    "                'tfvec2__max_df': [0.7],\n",
    "                'tfvec2__ngram_range': [(1,1), (1,2)],\n",
    "                'logreg2__max_iter': [1000]\n",
    "               }"
   ]
  },
  {
   "cell_type": "code",
   "execution_count": 11,
   "metadata": {},
   "outputs": [],
   "source": [
    "# Creating two separate GridSearchCV objects for:\n",
    "# CountVectorizer and TfidfVectorizer\n",
    "\n",
    "gs_pipe1 = GridSearchCV(pipe1, param_grid=pipe1_params, cv=5)\n",
    "\n",
    "gs_pipe2 = GridSearchCV(pipe2, param_grid=pipe2_params, cv=5)"
   ]
  },
  {
   "cell_type": "code",
   "execution_count": 13,
   "metadata": {},
   "outputs": [
    {
     "data": {
      "text/plain": [
       "GridSearchCV(cv=5,\n",
       "             estimator=Pipeline(steps=[('cvec1',\n",
       "                                        CountVectorizer(stop_words=['i', 'me',\n",
       "                                                                    'my',\n",
       "                                                                    'myself',\n",
       "                                                                    'we', 'our',\n",
       "                                                                    'ours',\n",
       "                                                                    'ourselves',\n",
       "                                                                    'you',\n",
       "                                                                    \"you're\",\n",
       "                                                                    \"you've\",\n",
       "                                                                    \"you'll\",\n",
       "                                                                    \"you'd\",\n",
       "                                                                    'your',\n",
       "                                                                    'yours',\n",
       "                                                                    'yourself',\n",
       "                                                                    'yourselves',\n",
       "                                                                    'he', 'him',\n",
       "                                                                    'his',\n",
       "                                                                    'himself',\n",
       "                                                                    'she',\n",
       "                                                                    \"she's\",\n",
       "                                                                    'her',\n",
       "                                                                    'hers',\n",
       "                                                                    'herself',\n",
       "                                                                    'it',\n",
       "                                                                    \"it's\",\n",
       "                                                                    'its',\n",
       "                                                                    'itself', ...])),\n",
       "                                       ('logreg1', LogisticRegression())]),\n",
       "             param_grid={'cvec1__max_df': [0.7], 'cvec1__max_features': [1000],\n",
       "                         'cvec1__min_df': [0.02],\n",
       "                         'cvec1__ngram_range': [(1, 1), (1, 2)],\n",
       "                         'logreg1__max_iter': [1000]})"
      ]
     },
     "execution_count": 13,
     "metadata": {},
     "output_type": "execute_result"
    }
   ],
   "source": [
    "# Fitting GridSearchCV with CountVectorizer transformer on X_train and y_train.\n",
    "\n",
    "gs_pipe1.fit(X_train, y_train)"
   ]
  },
  {
   "cell_type": "code",
   "execution_count": 14,
   "metadata": {},
   "outputs": [
    {
     "data": {
      "text/plain": [
       "GridSearchCV(cv=5,\n",
       "             estimator=Pipeline(steps=[('tfvec2',\n",
       "                                        TfidfVectorizer(stop_words=['i', 'me',\n",
       "                                                                    'my',\n",
       "                                                                    'myself',\n",
       "                                                                    'we', 'our',\n",
       "                                                                    'ours',\n",
       "                                                                    'ourselves',\n",
       "                                                                    'you',\n",
       "                                                                    \"you're\",\n",
       "                                                                    \"you've\",\n",
       "                                                                    \"you'll\",\n",
       "                                                                    \"you'd\",\n",
       "                                                                    'your',\n",
       "                                                                    'yours',\n",
       "                                                                    'yourself',\n",
       "                                                                    'yourselves',\n",
       "                                                                    'he', 'him',\n",
       "                                                                    'his',\n",
       "                                                                    'himself',\n",
       "                                                                    'she',\n",
       "                                                                    \"she's\",\n",
       "                                                                    'her',\n",
       "                                                                    'hers',\n",
       "                                                                    'herself',\n",
       "                                                                    'it',\n",
       "                                                                    \"it's\",\n",
       "                                                                    'its',\n",
       "                                                                    'itself', ...])),\n",
       "                                       ('logreg2', LogisticRegression())]),\n",
       "             param_grid={'logreg2__max_iter': [1000], 'tfvec2__max_df': [0.7],\n",
       "                         'tfvec2__max_features': [1000],\n",
       "                         'tfvec2__min_df': [0.02],\n",
       "                         'tfvec2__ngram_range': [(1, 1), (1, 2)]})"
      ]
     },
     "execution_count": 14,
     "metadata": {},
     "output_type": "execute_result"
    }
   ],
   "source": [
    "# Fitting GridSearchCV with TfidfVectorizer transformer on X_train and y_train.\n",
    "\n",
    "gs_pipe2.fit(X_train, y_train)"
   ]
  },
  {
   "cell_type": "code",
   "execution_count": 15,
   "metadata": {},
   "outputs": [
    {
     "data": {
      "text/plain": [
       "{'cvec1__max_df': 0.7,\n",
       " 'cvec1__max_features': 1000,\n",
       " 'cvec1__min_df': 0.02,\n",
       " 'cvec1__ngram_range': (1, 1),\n",
       " 'logreg1__max_iter': 1000}"
      ]
     },
     "execution_count": 15,
     "metadata": {},
     "output_type": "execute_result"
    }
   ],
   "source": [
    "# Best combination of hyperparameters suggested by GridSearchCV for CountVectorizer transformer.\n",
    "\n",
    "gs_pipe1.best_params_"
   ]
  },
  {
   "cell_type": "code",
   "execution_count": 16,
   "metadata": {},
   "outputs": [
    {
     "data": {
      "text/plain": [
       "{'logreg2__max_iter': 1000,\n",
       " 'tfvec2__max_df': 0.7,\n",
       " 'tfvec2__max_features': 1000,\n",
       " 'tfvec2__min_df': 0.02,\n",
       " 'tfvec2__ngram_range': (1, 1)}"
      ]
     },
     "execution_count": 16,
     "metadata": {},
     "output_type": "execute_result"
    }
   ],
   "source": [
    "# Best combination of hyperparameters suggested by GridSearchCV for TfidfVectorizer transformer.\n",
    "\n",
    "gs_pipe2.best_params_"
   ]
  },
  {
   "cell_type": "code",
   "execution_count": 17,
   "metadata": {},
   "outputs": [
    {
     "name": "stdout",
     "output_type": "stream",
     "text": [
      "CountVectorizer with LogisticRegression summary of accuracy scores:\n",
      "GridSearchCV best accuracy = 0.81\n",
      "\n",
      "Using GridSearchCV best params suggested,\n",
      "Training corpus accuracy = 0.837\n",
      "Testing corpus accuracy = 0.81\n"
     ]
    }
   ],
   "source": [
    "# Summary scores of CountVectorizer and LogisticRegression.\n",
    "\n",
    "print(\"CountVectorizer with LogisticRegression summary of accuracy scores:\")\n",
    "print(f\"GridSearchCV best accuracy = {round(gs_pipe1.best_score_, 3)}\")\n",
    "print(\"\\nUsing GridSearchCV best params suggested,\")\n",
    "print(f\"Training corpus accuracy = {round(gs_pipe1.score(X_train, y_train), 3)}\")\n",
    "print(f\"Testing corpus accuracy = {round(gs_pipe1.score(X_test, y_test), 3)}\")"
   ]
  },
  {
   "cell_type": "code",
   "execution_count": 18,
   "metadata": {},
   "outputs": [
    {
     "name": "stdout",
     "output_type": "stream",
     "text": [
      "TfidfVectorizer with LogisticRegression summary of accuracy scores:\n",
      "GridSearchCV best accuracy = 0.816\n",
      "\n",
      "Using GridSearchCV best params suggested,\n",
      "Training corpus accuracy = 0.837\n",
      "Testing corpus accuracy = 0.816\n"
     ]
    }
   ],
   "source": [
    "# Summary scores of TfidfVectorizer and LogisticRegression.\n",
    "\n",
    "print(\"TfidfVectorizer with LogisticRegression summary of accuracy scores:\")\n",
    "print(f\"GridSearchCV best accuracy = {round(gs_pipe2.best_score_, 3)}\")\n",
    "print(\"\\nUsing GridSearchCV best params suggested,\")\n",
    "print(f\"Training corpus accuracy = {round(gs_pipe2.score(X_train, y_train), 3)}\")\n",
    "print(f\"Testing corpus accuracy = {round(gs_pipe2.score(X_test, y_test), 3)}\")"
   ]
  },
  {
   "cell_type": "code",
   "execution_count": 19,
   "metadata": {},
   "outputs": [],
   "source": [
    "# Creacting a summary dataframe.\n",
    "\n",
    "summary_df = pd.DataFrame(columns=['transformer_estimator', \n",
    "                                   'GS_best_params', \n",
    "                                   'GS_best_score', \n",
    "                                   'train_accuracy', \n",
    "                                   'test_accuracy'\n",
    "                                  ])"
   ]
  },
  {
   "cell_type": "code",
   "execution_count": 20,
   "metadata": {},
   "outputs": [],
   "source": [
    "# Adding the accuracy scores from above two GridSearchCV models into summary_df.\n",
    "\n",
    "summary_df.loc[1] = ['CountVec, LogReg',\n",
    "                     str(gs_pipe1.best_params_),\n",
    "                     round(gs_pipe1.best_score_, 3),\n",
    "                     round(gs_pipe1.score(X_train, y_train), 3),\n",
    "                     round(gs_pipe1.score(X_test, y_test), 3)\n",
    "                    ]\n",
    "\n",
    "summary_df.loc[2] = ['TfidfVec, LogReg',\n",
    "                     str(gs_pipe2.best_params_),\n",
    "                     round(gs_pipe2.best_score_, 3),\n",
    "                     round(gs_pipe2.score(X_train, y_train), 3),\n",
    "                     round(gs_pipe2.score(X_test, y_test), 3)\n",
    "                    ]"
   ]
  },
  {
   "cell_type": "code",
   "execution_count": 21,
   "metadata": {},
   "outputs": [
    {
     "data": {
      "text/html": [
       "<div>\n",
       "<style scoped>\n",
       "    .dataframe tbody tr th:only-of-type {\n",
       "        vertical-align: middle;\n",
       "    }\n",
       "\n",
       "    .dataframe tbody tr th {\n",
       "        vertical-align: top;\n",
       "    }\n",
       "\n",
       "    .dataframe thead th {\n",
       "        text-align: right;\n",
       "    }\n",
       "</style>\n",
       "<table border=\"1\" class=\"dataframe\">\n",
       "  <thead>\n",
       "    <tr style=\"text-align: right;\">\n",
       "      <th></th>\n",
       "      <th>transformer_estimator</th>\n",
       "      <th>GS_best_params</th>\n",
       "      <th>GS_best_score</th>\n",
       "      <th>train_accuracy</th>\n",
       "      <th>test_accuracy</th>\n",
       "    </tr>\n",
       "  </thead>\n",
       "  <tbody>\n",
       "    <tr>\n",
       "      <th>1</th>\n",
       "      <td>CountVec, LogReg</td>\n",
       "      <td>{'cvec1__max_df': 0.7, 'cvec1__max_features': 1000, 'cvec1__min_df': 0.02, 'cvec1__ngram_range': (1, 1), 'logreg1__max_iter': 1000}</td>\n",
       "      <td>0.810</td>\n",
       "      <td>0.837</td>\n",
       "      <td>0.810</td>\n",
       "    </tr>\n",
       "    <tr>\n",
       "      <th>2</th>\n",
       "      <td>TfidfVec, LogReg</td>\n",
       "      <td>{'logreg2__max_iter': 1000, 'tfvec2__max_df': 0.7, 'tfvec2__max_features': 1000, 'tfvec2__min_df': 0.02, 'tfvec2__ngram_range': (1, 1)}</td>\n",
       "      <td>0.816</td>\n",
       "      <td>0.837</td>\n",
       "      <td>0.816</td>\n",
       "    </tr>\n",
       "  </tbody>\n",
       "</table>\n",
       "</div>"
      ],
      "text/plain": [
       "  transformer_estimator  \\\n",
       "1      CountVec, LogReg   \n",
       "2      TfidfVec, LogReg   \n",
       "\n",
       "                                                                                                                            GS_best_params  \\\n",
       "1      {'cvec1__max_df': 0.7, 'cvec1__max_features': 1000, 'cvec1__min_df': 0.02, 'cvec1__ngram_range': (1, 1), 'logreg1__max_iter': 1000}   \n",
       "2  {'logreg2__max_iter': 1000, 'tfvec2__max_df': 0.7, 'tfvec2__max_features': 1000, 'tfvec2__min_df': 0.02, 'tfvec2__ngram_range': (1, 1)}   \n",
       "\n",
       "   GS_best_score  train_accuracy  test_accuracy  \n",
       "1          0.810           0.837          0.810  \n",
       "2          0.816           0.837          0.816  "
      ]
     },
     "execution_count": 21,
     "metadata": {},
     "output_type": "execute_result"
    }
   ],
   "source": [
    "summary_df"
   ]
  },
  {
   "cell_type": "markdown",
   "metadata": {},
   "source": [
    "From the summary table, we can infer that the best combination of transformer hyperparameters to be \n",
    "- *max_features* = 500\n",
    "- *min_df* = 0.05 \n",
    "- *max_df* = 0.8 \n",
    "- ngram_range=(1,2)\t- for *tfidfVectorizer*\n",
    "\n",
    "Judging solely on the accuracy scores, using **CountVectorizer** has very good accuracy on the training but did poorly on the testing corpus. This implies that this model is **overfitting on the training corpus**. \n",
    "\n",
    "On the other, using **TfidfVectorizer** transformer has better accuracy fir GSCV best score, and lesser delta between the train and test accuracy scores, suggesting that the **model may not be as overfitted than *CountVectorizer***\n",
    "\n",
    "Therefore, I will use *TfidfVectorizer* for further classification model.\n",
    "\n"
   ]
  },
  {
   "cell_type": "markdown",
   "metadata": {},
   "source": [
    "## Hyper-parameter tuning"
   ]
  },
  {
   "cell_type": "markdown",
   "metadata": {},
   "source": [
    "### MultinomialNB Classifier"
   ]
  },
  {
   "cell_type": "markdown",
   "metadata": {},
   "source": [
    "There are 3 common types of Naive Bayes models: *Bernoulli Naive Bayes*, *Multinomial Naive Bayes*, and *Gaussian Naive Bayes*.\n",
    "\n",
    "- [Bernoulli Naive Bayes](https://scikit-learn.org/stable/modules/generated/sklearn.naive_bayes.BernoulliNB.html#sklearn.naive_bayes.BernoulliNB): when we have 0/1 variables.\n",
    "- [Multinomial Naive Bayes](https://scikit-learn.org/stable/modules/generated/sklearn.naive_bayes.MultinomialNB.html#sklearn.naive_bayes.MultinomialNB): when our variables are positive integers.\n",
    "- [Gaussian Naive Bayes](https://scikit-learn.org/stable/modules/generated/sklearn.naive_bayes.GaussianNB.html#sklearn.naive_bayes.GaussianNB): when our features are Normally distributed.\n",
    "\n",
    "We will be using ***MultinomialNB*** as it consideres a feature vector with all the individual words in a all post where a given term represent the number of times it appears. "
   ]
  },
  {
   "cell_type": "code",
   "execution_count": 22,
   "metadata": {},
   "outputs": [],
   "source": [
    "# create pipe3 for transformer: TfidfVectorizer and estimator using MultinomialNB\n",
    "\n",
    "pipe3 = Pipeline([('tfvec', TfidfVectorizer(stop_words= stopwordlist)),\n",
    "                  ('nb', MultinomialNB())\n",
    "                 ])"
   ]
  },
  {
   "cell_type": "code",
   "execution_count": 23,
   "metadata": {},
   "outputs": [],
   "source": [
    "# # creating parameters for GridSearch SV using hyperparameters as shown below \n",
    "# pipe3_params = {'tfvec__max_features': np.linspace(3500,3600,10, dtype = int),\n",
    "#                 'tfvec__min_df': [0.0001,0.0002,0.0003],\n",
    "#                 'tfvec__max_df': [0.3],\n",
    "#                 'tfvec__ngram_range': [(1,1)],\n",
    "#                 'nb__alpha' : [1.0e-10],\n",
    "# }"
   ]
  },
  {
   "cell_type": "code",
   "execution_count": 24,
   "metadata": {},
   "outputs": [],
   "source": [
    "# creating parameters for GridSearch SV using hyperparameters as shown below \n",
    "pipe3_params = {'tfvec__max_features': [3555],\n",
    "                'tfvec__min_df': [0.0002],\n",
    "                'tfvec__max_df': [0.3],\n",
    "                'tfvec__ngram_range': [(1,1)],\n",
    "                'nb__alpha' : [1.0e-10],\n",
    "}"
   ]
  },
  {
   "cell_type": "code",
   "execution_count": 25,
   "metadata": {},
   "outputs": [],
   "source": [
    "# Creatingg GridSeachCV using pipeline: pipe3 and params_grid:  pipe3_params\n",
    "\n",
    "gs_pipe3 = GridSearchCV(pipe3, param_grid=pipe3_params, cv=5,n_jobs=-1)"
   ]
  },
  {
   "cell_type": "code",
   "execution_count": 26,
   "metadata": {},
   "outputs": [
    {
     "data": {
      "text/plain": [
       "GridSearchCV(cv=5,\n",
       "             estimator=Pipeline(steps=[('tfvec',\n",
       "                                        TfidfVectorizer(stop_words=['i', 'me',\n",
       "                                                                    'my',\n",
       "                                                                    'myself',\n",
       "                                                                    'we', 'our',\n",
       "                                                                    'ours',\n",
       "                                                                    'ourselves',\n",
       "                                                                    'you',\n",
       "                                                                    \"you're\",\n",
       "                                                                    \"you've\",\n",
       "                                                                    \"you'll\",\n",
       "                                                                    \"you'd\",\n",
       "                                                                    'your',\n",
       "                                                                    'yours',\n",
       "                                                                    'yourself',\n",
       "                                                                    'yourselves',\n",
       "                                                                    'he', 'him',\n",
       "                                                                    'his',\n",
       "                                                                    'himself',\n",
       "                                                                    'she',\n",
       "                                                                    \"she's\",\n",
       "                                                                    'her',\n",
       "                                                                    'hers',\n",
       "                                                                    'herself',\n",
       "                                                                    'it',\n",
       "                                                                    \"it's\",\n",
       "                                                                    'its',\n",
       "                                                                    'itself', ...])),\n",
       "                                       ('nb', MultinomialNB())]),\n",
       "             n_jobs=-1,\n",
       "             param_grid={'nb__alpha': [1e-10], 'tfvec__max_df': [0.3],\n",
       "                         'tfvec__max_features': [3555],\n",
       "                         'tfvec__min_df': [0.0002],\n",
       "                         'tfvec__ngram_range': [(1, 1)]})"
      ]
     },
     "execution_count": 26,
     "metadata": {},
     "output_type": "execute_result"
    }
   ],
   "source": [
    "# Fitting GridSearchCV with CountVectorizer transformer on X_train and y_train.\n",
    "\n",
    "gs_pipe3.fit(X_train, y_train)"
   ]
  },
  {
   "cell_type": "code",
   "execution_count": 27,
   "metadata": {},
   "outputs": [
    {
     "data": {
      "text/plain": [
       "{'nb__alpha': 1e-10,\n",
       " 'tfvec__max_df': 0.3,\n",
       " 'tfvec__max_features': 3555,\n",
       " 'tfvec__min_df': 0.0002,\n",
       " 'tfvec__ngram_range': (1, 1)}"
      ]
     },
     "execution_count": 27,
     "metadata": {},
     "output_type": "execute_result"
    }
   ],
   "source": [
    "# Get best parameters using MultinomialNB and TfidfVectorizer\n",
    "\n",
    "gs_pipe3.best_params_"
   ]
  },
  {
   "cell_type": "code",
   "execution_count": 28,
   "metadata": {},
   "outputs": [
    {
     "name": "stdout",
     "output_type": "stream",
     "text": [
      "TfidfVectorizer with MultinomialNB summary of accuracy scores:\n",
      "GridSearchCV best accuracy = 0.833\n",
      "\n",
      "Using GridSearchCV best params suggested,\n",
      "Training corpus accuracy = 0.857\n",
      "Testing corpus accuracy = 0.833\n"
     ]
    }
   ],
   "source": [
    "# Summary scores of TfidfVectorizer and MultinomialNB.\n",
    "\n",
    "print(\"TfidfVectorizer with MultinomialNB summary of accuracy scores:\")\n",
    "print(f\"GridSearchCV best accuracy = {round(gs_pipe3.best_score_, 3)}\")\n",
    "print(\"\\nUsing GridSearchCV best params suggested,\")\n",
    "print(f\"Training corpus accuracy = {round(gs_pipe3.score(X_train, y_train), 3)}\")\n",
    "print(f\"Testing corpus accuracy = {round(gs_pipe3.score(X_test, y_test), 3)}\")"
   ]
  },
  {
   "cell_type": "code",
   "execution_count": 29,
   "metadata": {},
   "outputs": [],
   "source": [
    "# adding summary \n",
    "\n",
    "summary_df.loc[3] = ['TfidfVec, MultinomialNB',\n",
    "                     str(gs_pipe3.best_params_),\n",
    "                     round(gs_pipe3.best_score_, 3),\n",
    "                     round(gs_pipe3.score(X_train, y_train), 3),\n",
    "                     round(gs_pipe3.score(X_test, y_test), 3)\n",
    "                    ]"
   ]
  },
  {
   "cell_type": "code",
   "execution_count": 30,
   "metadata": {},
   "outputs": [
    {
     "data": {
      "text/html": [
       "<div>\n",
       "<style scoped>\n",
       "    .dataframe tbody tr th:only-of-type {\n",
       "        vertical-align: middle;\n",
       "    }\n",
       "\n",
       "    .dataframe tbody tr th {\n",
       "        vertical-align: top;\n",
       "    }\n",
       "\n",
       "    .dataframe thead th {\n",
       "        text-align: right;\n",
       "    }\n",
       "</style>\n",
       "<table border=\"1\" class=\"dataframe\">\n",
       "  <thead>\n",
       "    <tr style=\"text-align: right;\">\n",
       "      <th></th>\n",
       "      <th>transformer_estimator</th>\n",
       "      <th>GS_best_params</th>\n",
       "      <th>GS_best_score</th>\n",
       "      <th>train_accuracy</th>\n",
       "      <th>test_accuracy</th>\n",
       "    </tr>\n",
       "  </thead>\n",
       "  <tbody>\n",
       "    <tr>\n",
       "      <th>1</th>\n",
       "      <td>CountVec, LogReg</td>\n",
       "      <td>{'cvec1__max_df': 0.7, 'cvec1__max_features': 1000, 'cvec1__min_df': 0.02, 'cvec1__ngram_range': (1, 1), 'logreg1__max_iter': 1000}</td>\n",
       "      <td>0.810</td>\n",
       "      <td>0.837</td>\n",
       "      <td>0.810</td>\n",
       "    </tr>\n",
       "    <tr>\n",
       "      <th>2</th>\n",
       "      <td>TfidfVec, LogReg</td>\n",
       "      <td>{'logreg2__max_iter': 1000, 'tfvec2__max_df': 0.7, 'tfvec2__max_features': 1000, 'tfvec2__min_df': 0.02, 'tfvec2__ngram_range': (1, 1)}</td>\n",
       "      <td>0.816</td>\n",
       "      <td>0.837</td>\n",
       "      <td>0.816</td>\n",
       "    </tr>\n",
       "    <tr>\n",
       "      <th>3</th>\n",
       "      <td>TfidfVec, MultinomialNB</td>\n",
       "      <td>{'nb__alpha': 1e-10, 'tfvec__max_df': 0.3, 'tfvec__max_features': 3555, 'tfvec__min_df': 0.0002, 'tfvec__ngram_range': (1, 1)}</td>\n",
       "      <td>0.833</td>\n",
       "      <td>0.857</td>\n",
       "      <td>0.833</td>\n",
       "    </tr>\n",
       "  </tbody>\n",
       "</table>\n",
       "</div>"
      ],
      "text/plain": [
       "     transformer_estimator  \\\n",
       "1         CountVec, LogReg   \n",
       "2         TfidfVec, LogReg   \n",
       "3  TfidfVec, MultinomialNB   \n",
       "\n",
       "                                                                                                                            GS_best_params  \\\n",
       "1      {'cvec1__max_df': 0.7, 'cvec1__max_features': 1000, 'cvec1__min_df': 0.02, 'cvec1__ngram_range': (1, 1), 'logreg1__max_iter': 1000}   \n",
       "2  {'logreg2__max_iter': 1000, 'tfvec2__max_df': 0.7, 'tfvec2__max_features': 1000, 'tfvec2__min_df': 0.02, 'tfvec2__ngram_range': (1, 1)}   \n",
       "3           {'nb__alpha': 1e-10, 'tfvec__max_df': 0.3, 'tfvec__max_features': 3555, 'tfvec__min_df': 0.0002, 'tfvec__ngram_range': (1, 1)}   \n",
       "\n",
       "   GS_best_score  train_accuracy  test_accuracy  \n",
       "1          0.810           0.837          0.810  \n",
       "2          0.816           0.837          0.816  \n",
       "3          0.833           0.857          0.833  "
      ]
     },
     "execution_count": 30,
     "metadata": {},
     "output_type": "execute_result"
    }
   ],
   "source": [
    "summary_df"
   ]
  },
  {
   "cell_type": "markdown",
   "metadata": {},
   "source": [
    "From the above table, we can see that Multinomial has overall better scores than the Log Reg. The model is relatively overfitted as well. Lets breakdown to see what are the most impactful words that distinguishes between users in r/PTSD and those who arent. "
   ]
  },
  {
   "cell_type": "markdown",
   "metadata": {},
   "source": [
    "### Logistic Regression Modelling"
   ]
  },
  {
   "cell_type": "code",
   "execution_count": 31,
   "metadata": {},
   "outputs": [],
   "source": [
    "# Creating Pipeline with:\n",
    "# Estimator: LogisticRegression (both)\n",
    "# Transformer: CountVectorizer - pipe1, TfidfVectorizer - pipe2\n",
    "\n",
    "pipe4 = Pipeline([('tfvec4', TfidfVectorizer(stop_words= stopwordlist)),\n",
    "                  ('logreg4', LogisticRegression())\n",
    "                 ])"
   ]
  },
  {
   "cell_type": "code",
   "execution_count": 32,
   "metadata": {},
   "outputs": [],
   "source": [
    "# <!-- # Declaring fixed one-off hyperparameters max_features, min_df, max_df & ngram_range for GridSearchCV first.\n",
    "\n",
    "# pipe4_params = {'tfvec4__max_features': [9000,9500,10000],\n",
    "#                m 'tfvec4__min_df': [0],\n",
    "#                 'tfvec4__max_df':np.linspace(0.22,0.225,10),\n",
    "#                 'tfvec4__ngram_range': [(1,1)],\n",
    "#                 'logreg4__max_iter': [1000]\n",
    "#                } -->"
   ]
  },
  {
   "cell_type": "code",
   "execution_count": 33,
   "metadata": {},
   "outputs": [
    {
     "data": {
      "text/plain": [
       "array([1000, 1125, 1250, 1375, 1500])"
      ]
     },
     "execution_count": 33,
     "metadata": {},
     "output_type": "execute_result"
    }
   ],
   "source": [
    "(np.linspace(1000,1500,5, dtype = int))"
   ]
  },
  {
   "cell_type": "code",
   "execution_count": 34,
   "metadata": {},
   "outputs": [],
   "source": [
    "# Declaring fixed one-off hyperparameters max_features, min_df, max_df & ngram_range for GridSearchCV first.\n",
    "\n",
    "pipe4_params = {'tfvec4__max_features': [9500],\n",
    "                'tfvec4__min_df': [0],\n",
    "                'tfvec4__max_df':[0.225],\n",
    "                'tfvec4__ngram_range': [(1,1)],\n",
    "                'logreg4__max_iter': [1000]\n",
    "               }"
   ]
  },
  {
   "cell_type": "code",
   "execution_count": 35,
   "metadata": {},
   "outputs": [],
   "source": [
    "# Creating two separate GridSearchCV objects for:\n",
    "# TfidfVectorizer and Logistic Regression with Hyper-parameter tuning\n",
    "\n",
    "gs_pipe4 = GridSearchCV(pipe4, param_grid=pipe4_params, cv=5)"
   ]
  },
  {
   "cell_type": "code",
   "execution_count": 36,
   "metadata": {},
   "outputs": [
    {
     "data": {
      "text/plain": [
       "GridSearchCV(cv=5,\n",
       "             estimator=Pipeline(steps=[('tfvec4',\n",
       "                                        TfidfVectorizer(stop_words=['i', 'me',\n",
       "                                                                    'my',\n",
       "                                                                    'myself',\n",
       "                                                                    'we', 'our',\n",
       "                                                                    'ours',\n",
       "                                                                    'ourselves',\n",
       "                                                                    'you',\n",
       "                                                                    \"you're\",\n",
       "                                                                    \"you've\",\n",
       "                                                                    \"you'll\",\n",
       "                                                                    \"you'd\",\n",
       "                                                                    'your',\n",
       "                                                                    'yours',\n",
       "                                                                    'yourself',\n",
       "                                                                    'yourselves',\n",
       "                                                                    'he', 'him',\n",
       "                                                                    'his',\n",
       "                                                                    'himself',\n",
       "                                                                    'she',\n",
       "                                                                    \"she's\",\n",
       "                                                                    'her',\n",
       "                                                                    'hers',\n",
       "                                                                    'herself',\n",
       "                                                                    'it',\n",
       "                                                                    \"it's\",\n",
       "                                                                    'its',\n",
       "                                                                    'itself', ...])),\n",
       "                                       ('logreg4', LogisticRegression())]),\n",
       "             param_grid={'logreg4__max_iter': [1000], 'tfvec4__max_df': [0.225],\n",
       "                         'tfvec4__max_features': [9500], 'tfvec4__min_df': [0],\n",
       "                         'tfvec4__ngram_range': [(1, 1)]})"
      ]
     },
     "execution_count": 36,
     "metadata": {},
     "output_type": "execute_result"
    }
   ],
   "source": [
    "# Fitting GridSearchCV with CountVectorizer transformer on X_train and y_train.\n",
    "\n",
    "gs_pipe4.fit(X_train, y_train)"
   ]
  },
  {
   "cell_type": "code",
   "execution_count": 37,
   "metadata": {},
   "outputs": [
    {
     "data": {
      "text/plain": [
       "{'logreg4__max_iter': 1000,\n",
       " 'tfvec4__max_df': 0.225,\n",
       " 'tfvec4__max_features': 9500,\n",
       " 'tfvec4__min_df': 0,\n",
       " 'tfvec4__ngram_range': (1, 1)}"
      ]
     },
     "execution_count": 37,
     "metadata": {},
     "output_type": "execute_result"
    }
   ],
   "source": [
    "# Best combination of hyperparameters suggested by GridSearchCV for TfidfVectorizer transformer.\n",
    "\n",
    "gs_pipe4.best_params_"
   ]
  },
  {
   "cell_type": "code",
   "execution_count": 38,
   "metadata": {},
   "outputs": [
    {
     "name": "stdout",
     "output_type": "stream",
     "text": [
      "TfidfVectorizer with LogisticRegression summary of accuracy scores:\n",
      "GridSearchCV best accuracy = 0.85\n",
      "\n",
      "Using GridSearchCV best params suggested,\n",
      "Training corpus accuracy = 0.901\n",
      "Testing corpus accuracy = 0.849\n"
     ]
    }
   ],
   "source": [
    "# Summary scores of CountVectorizer and LogisticRegression.\n",
    "\n",
    "print(\"TfidfVectorizer with LogisticRegression summary of accuracy scores:\")\n",
    "print(f\"GridSearchCV best accuracy = {round(gs_pipe4.best_score_, 3)}\")\n",
    "print(\"\\nUsing GridSearchCV best params suggested,\")\n",
    "print(f\"Training corpus accuracy = {round(gs_pipe4.score(X_train, y_train), 3)}\")\n",
    "print(f\"Testing corpus accuracy = {round(gs_pipe4.score(X_test, y_test), 3)}\")"
   ]
  },
  {
   "cell_type": "markdown",
   "metadata": {},
   "source": [
    "TfidfVectorizer with LogisticRegression summary of accuracy scores:\n",
    "GridSearchCV best accuracy = 0.85\n",
    "\n",
    "Using GridSearchCV best params suggested,\n",
    "Training corpus accuracy = 0.901\n",
    "Testing corpus accuracy = 0.849"
   ]
  },
  {
   "cell_type": "code",
   "execution_count": 39,
   "metadata": {},
   "outputs": [],
   "source": [
    "# Adding the accuracy scores from above two GridSearchCV models into summary_df.\n",
    "\n",
    "summary_df.loc[4] = ['TfidfVec, LogisticRegression',\n",
    "                     str(gs_pipe4.best_params_),\n",
    "                     round(gs_pipe4.best_score_, 3),\n",
    "                     round(gs_pipe4.score(X_train, y_train), 3),\n",
    "                     round(gs_pipe4.score(X_test, y_test), 3)\n",
    "                    ]"
   ]
  },
  {
   "cell_type": "code",
   "execution_count": 40,
   "metadata": {},
   "outputs": [
    {
     "data": {
      "text/html": [
       "<div>\n",
       "<style scoped>\n",
       "    .dataframe tbody tr th:only-of-type {\n",
       "        vertical-align: middle;\n",
       "    }\n",
       "\n",
       "    .dataframe tbody tr th {\n",
       "        vertical-align: top;\n",
       "    }\n",
       "\n",
       "    .dataframe thead th {\n",
       "        text-align: right;\n",
       "    }\n",
       "</style>\n",
       "<table border=\"1\" class=\"dataframe\">\n",
       "  <thead>\n",
       "    <tr style=\"text-align: right;\">\n",
       "      <th></th>\n",
       "      <th>transformer_estimator</th>\n",
       "      <th>GS_best_params</th>\n",
       "      <th>GS_best_score</th>\n",
       "      <th>train_accuracy</th>\n",
       "      <th>test_accuracy</th>\n",
       "    </tr>\n",
       "  </thead>\n",
       "  <tbody>\n",
       "    <tr>\n",
       "      <th>1</th>\n",
       "      <td>CountVec, LogReg</td>\n",
       "      <td>{'cvec1__max_df': 0.7, 'cvec1__max_features': 1000, 'cvec1__min_df': 0.02, 'cvec1__ngram_range': (1, 1), 'logreg1__max_iter': 1000}</td>\n",
       "      <td>0.810</td>\n",
       "      <td>0.837</td>\n",
       "      <td>0.810</td>\n",
       "    </tr>\n",
       "    <tr>\n",
       "      <th>2</th>\n",
       "      <td>TfidfVec, LogReg</td>\n",
       "      <td>{'logreg2__max_iter': 1000, 'tfvec2__max_df': 0.7, 'tfvec2__max_features': 1000, 'tfvec2__min_df': 0.02, 'tfvec2__ngram_range': (1, 1)}</td>\n",
       "      <td>0.816</td>\n",
       "      <td>0.837</td>\n",
       "      <td>0.816</td>\n",
       "    </tr>\n",
       "    <tr>\n",
       "      <th>3</th>\n",
       "      <td>TfidfVec, MultinomialNB</td>\n",
       "      <td>{'nb__alpha': 1e-10, 'tfvec__max_df': 0.3, 'tfvec__max_features': 3555, 'tfvec__min_df': 0.0002, 'tfvec__ngram_range': (1, 1)}</td>\n",
       "      <td>0.833</td>\n",
       "      <td>0.857</td>\n",
       "      <td>0.833</td>\n",
       "    </tr>\n",
       "    <tr>\n",
       "      <th>4</th>\n",
       "      <td>TfidfVec, LogisticRegression</td>\n",
       "      <td>{'logreg4__max_iter': 1000, 'tfvec4__max_df': 0.225, 'tfvec4__max_features': 9500, 'tfvec4__min_df': 0, 'tfvec4__ngram_range': (1, 1)}</td>\n",
       "      <td>0.850</td>\n",
       "      <td>0.901</td>\n",
       "      <td>0.849</td>\n",
       "    </tr>\n",
       "  </tbody>\n",
       "</table>\n",
       "</div>"
      ],
      "text/plain": [
       "          transformer_estimator  \\\n",
       "1              CountVec, LogReg   \n",
       "2              TfidfVec, LogReg   \n",
       "3       TfidfVec, MultinomialNB   \n",
       "4  TfidfVec, LogisticRegression   \n",
       "\n",
       "                                                                                                                            GS_best_params  \\\n",
       "1      {'cvec1__max_df': 0.7, 'cvec1__max_features': 1000, 'cvec1__min_df': 0.02, 'cvec1__ngram_range': (1, 1), 'logreg1__max_iter': 1000}   \n",
       "2  {'logreg2__max_iter': 1000, 'tfvec2__max_df': 0.7, 'tfvec2__max_features': 1000, 'tfvec2__min_df': 0.02, 'tfvec2__ngram_range': (1, 1)}   \n",
       "3           {'nb__alpha': 1e-10, 'tfvec__max_df': 0.3, 'tfvec__max_features': 3555, 'tfvec__min_df': 0.0002, 'tfvec__ngram_range': (1, 1)}   \n",
       "4   {'logreg4__max_iter': 1000, 'tfvec4__max_df': 0.225, 'tfvec4__max_features': 9500, 'tfvec4__min_df': 0, 'tfvec4__ngram_range': (1, 1)}   \n",
       "\n",
       "   GS_best_score  train_accuracy  test_accuracy  \n",
       "1          0.810           0.837          0.810  \n",
       "2          0.816           0.837          0.816  \n",
       "3          0.833           0.857          0.833  \n",
       "4          0.850           0.901          0.849  "
      ]
     },
     "execution_count": 40,
     "metadata": {},
     "output_type": "execute_result"
    }
   ],
   "source": [
    "summary_df"
   ]
  },
  {
   "cell_type": "markdown",
   "metadata": {},
   "source": [
    "The MultinomialNB has the highest scores, with slight overfit to test accuracy scores. \n",
    "However, I did notice that the Logistic Regression after hyperparameter tuning, it was able to pick up ngrams with range of 2 as a best parameter. "
   ]
  },
  {
   "cell_type": "markdown",
   "metadata": {},
   "source": [
    "### Random Forest Classifier"
   ]
  },
  {
   "cell_type": "code",
   "execution_count": 41,
   "metadata": {},
   "outputs": [],
   "source": [
    "# Creating Pipeline with:\n",
    "# Estimator: Random Forest Classifier\n",
    "# Transformer: TfidfVectorizer - pipe5\n",
    "\n",
    "pipe5 = Pipeline([('tfvec5', TfidfVectorizer(stop_words= stopwordlist)),\n",
    "                  ('RanForest', RandomForestClassifier())\n",
    "                 ])"
   ]
  },
  {
   "cell_type": "code",
   "execution_count": 42,
   "metadata": {},
   "outputs": [],
   "source": [
    "# # Declaring fixed one-off hyperparameters max_features, min_df, max_df & ngram_range for GridSearchCV first.\n",
    "\n",
    "# pipe5_params = {'tfvec5__max_features': [9000],\n",
    "#                 'tfvec5__min_df': [0],\n",
    "#                 'tfvec5__max_df': [0.7,0.75,0.8],\n",
    "#                 'tfvec5__ngram_range': [(1,1)],\n",
    "#                 'RanForest__n_estimators': [300],\n",
    "#                 'RanForest__max_depth': [None],\n",
    "#                 'RanForest__max_features': ['sqrt']\n",
    "#                }"
   ]
  },
  {
   "cell_type": "code",
   "execution_count": 43,
   "metadata": {},
   "outputs": [],
   "source": [
    "# Declaring fixed one-off hyperparameters max_features, min_df, max_df & ngram_range for GridSearchCV first.\n",
    "\n",
    "pipe5_params = {'tfvec5__max_features': [9000],\n",
    "                'tfvec5__min_df': [0],\n",
    "                'tfvec5__max_df': [0.8],\n",
    "                'tfvec5__ngram_range': [(1,1)],\n",
    "                'RanForest__n_estimators': [300],\n",
    "                'RanForest__max_depth': [None],\n",
    "                'RanForest__max_features': ['sqrt']\n",
    "               }"
   ]
  },
  {
   "cell_type": "code",
   "execution_count": 44,
   "metadata": {},
   "outputs": [],
   "source": [
    "# Creating two separate GridSearchCV objects for:\n",
    "# TfidfVectorizer and RandomForestClassifier with Hyper-parameter tuning\n",
    "\n",
    "gs_pipe5 = GridSearchCV(pipe5, param_grid=pipe5_params, cv=5, n_jobs= -1)"
   ]
  },
  {
   "cell_type": "code",
   "execution_count": 45,
   "metadata": {},
   "outputs": [
    {
     "data": {
      "text/plain": [
       "GridSearchCV(cv=5,\n",
       "             estimator=Pipeline(steps=[('tfvec5',\n",
       "                                        TfidfVectorizer(stop_words=['i', 'me',\n",
       "                                                                    'my',\n",
       "                                                                    'myself',\n",
       "                                                                    'we', 'our',\n",
       "                                                                    'ours',\n",
       "                                                                    'ourselves',\n",
       "                                                                    'you',\n",
       "                                                                    \"you're\",\n",
       "                                                                    \"you've\",\n",
       "                                                                    \"you'll\",\n",
       "                                                                    \"you'd\",\n",
       "                                                                    'your',\n",
       "                                                                    'yours',\n",
       "                                                                    'yourself',\n",
       "                                                                    'yourselves',\n",
       "                                                                    'he', 'him',\n",
       "                                                                    'his',\n",
       "                                                                    'himself',\n",
       "                                                                    'she',\n",
       "                                                                    \"she's\",\n",
       "                                                                    'her',\n",
       "                                                                    'hers',\n",
       "                                                                    'herself',\n",
       "                                                                    'it',\n",
       "                                                                    \"it's\",\n",
       "                                                                    'its',\n",
       "                                                                    'itself', ...])),\n",
       "                                       ('RanForest',\n",
       "                                        RandomForestClassifier())]),\n",
       "             n_jobs=-1,\n",
       "             param_grid={'RanForest__max_depth': [None],\n",
       "                         'RanForest__max_features': ['sqrt'],\n",
       "                         'RanForest__n_estimators': [300],\n",
       "                         'tfvec5__max_df': [0.8],\n",
       "                         'tfvec5__max_features': [9000], 'tfvec5__min_df': [0],\n",
       "                         'tfvec5__ngram_range': [(1, 1)]})"
      ]
     },
     "execution_count": 45,
     "metadata": {},
     "output_type": "execute_result"
    }
   ],
   "source": [
    "# Fitting GridSearchCV with TfidfVectorizer transformer on X_train and y_train.\n",
    "\n",
    "gs_pipe5.fit(X_train, y_train)"
   ]
  },
  {
   "cell_type": "code",
   "execution_count": 46,
   "metadata": {},
   "outputs": [
    {
     "data": {
      "text/plain": [
       "{'RanForest__max_depth': None,\n",
       " 'RanForest__max_features': 'sqrt',\n",
       " 'RanForest__n_estimators': 300,\n",
       " 'tfvec5__max_df': 0.8,\n",
       " 'tfvec5__max_features': 9000,\n",
       " 'tfvec5__min_df': 0,\n",
       " 'tfvec5__ngram_range': (1, 1)}"
      ]
     },
     "execution_count": 46,
     "metadata": {},
     "output_type": "execute_result"
    }
   ],
   "source": [
    "# Best combination of hyperparameters suggested by GridSearchCV for TfidfVectorizer transformer.\n",
    "\n",
    "gs_pipe5.best_params_"
   ]
  },
  {
   "cell_type": "code",
   "execution_count": 47,
   "metadata": {},
   "outputs": [
    {
     "name": "stdout",
     "output_type": "stream",
     "text": [
      "TfidfVectorizer with LogisticRegression summary of accuracy scores:\n",
      "GridSearchCV best accuracy = 0.829\n",
      "\n",
      "Using GridSearchCV best params suggested,\n",
      "Training corpus accuracy = 1.0\n",
      "Testing corpus accuracy = 0.837\n"
     ]
    }
   ],
   "source": [
    "# Summary scores of TfidfVectorizer and RandomForestClassifier.\n",
    "\n",
    "print(\"TfidfVectorizer with LogisticRegression summary of accuracy scores:\")\n",
    "print(f\"GridSearchCV best accuracy = {round(gs_pipe5.best_score_, 3)}\")\n",
    "print(\"\\nUsing GridSearchCV best params suggested,\")\n",
    "print(f\"Training corpus accuracy = {round(gs_pipe5.score(X_train, y_train), 3)}\")\n",
    "print(f\"Testing corpus accuracy = {round(gs_pipe5.score(X_test, y_test), 3)}\")"
   ]
  },
  {
   "cell_type": "code",
   "execution_count": 48,
   "metadata": {},
   "outputs": [],
   "source": [
    "# Adding the accuracy scores from above two GridSearchCV models into summary_df.\n",
    "\n",
    "summary_df.loc[5] = ['TfidfVec, RandomForest',\n",
    "                     str(gs_pipe5.best_params_),\n",
    "                     round(gs_pipe5.best_score_, 3),\n",
    "                     round(gs_pipe5.score(X_train, y_train), 3),\n",
    "                     round(gs_pipe5.score(X_test, y_test), 3)\n",
    "                    ]"
   ]
  },
  {
   "cell_type": "code",
   "execution_count": 49,
   "metadata": {},
   "outputs": [
    {
     "data": {
      "text/html": [
       "<div>\n",
       "<style scoped>\n",
       "    .dataframe tbody tr th:only-of-type {\n",
       "        vertical-align: middle;\n",
       "    }\n",
       "\n",
       "    .dataframe tbody tr th {\n",
       "        vertical-align: top;\n",
       "    }\n",
       "\n",
       "    .dataframe thead th {\n",
       "        text-align: right;\n",
       "    }\n",
       "</style>\n",
       "<table border=\"1\" class=\"dataframe\">\n",
       "  <thead>\n",
       "    <tr style=\"text-align: right;\">\n",
       "      <th></th>\n",
       "      <th>transformer_estimator</th>\n",
       "      <th>GS_best_params</th>\n",
       "      <th>GS_best_score</th>\n",
       "      <th>train_accuracy</th>\n",
       "      <th>test_accuracy</th>\n",
       "    </tr>\n",
       "  </thead>\n",
       "  <tbody>\n",
       "    <tr>\n",
       "      <th>1</th>\n",
       "      <td>CountVec, LogReg</td>\n",
       "      <td>{'cvec1__max_df': 0.7, 'cvec1__max_features': 1000, 'cvec1__min_df': 0.02, 'cvec1__ngram_range': (1, 1), 'logreg1__max_iter': 1000}</td>\n",
       "      <td>0.810</td>\n",
       "      <td>0.837</td>\n",
       "      <td>0.810</td>\n",
       "    </tr>\n",
       "    <tr>\n",
       "      <th>2</th>\n",
       "      <td>TfidfVec, LogReg</td>\n",
       "      <td>{'logreg2__max_iter': 1000, 'tfvec2__max_df': 0.7, 'tfvec2__max_features': 1000, 'tfvec2__min_df': 0.02, 'tfvec2__ngram_range': (1, 1)}</td>\n",
       "      <td>0.816</td>\n",
       "      <td>0.837</td>\n",
       "      <td>0.816</td>\n",
       "    </tr>\n",
       "    <tr>\n",
       "      <th>3</th>\n",
       "      <td>TfidfVec, MultinomialNB</td>\n",
       "      <td>{'nb__alpha': 1e-10, 'tfvec__max_df': 0.3, 'tfvec__max_features': 3555, 'tfvec__min_df': 0.0002, 'tfvec__ngram_range': (1, 1)}</td>\n",
       "      <td>0.833</td>\n",
       "      <td>0.857</td>\n",
       "      <td>0.833</td>\n",
       "    </tr>\n",
       "    <tr>\n",
       "      <th>4</th>\n",
       "      <td>TfidfVec, LogisticRegression</td>\n",
       "      <td>{'logreg4__max_iter': 1000, 'tfvec4__max_df': 0.225, 'tfvec4__max_features': 9500, 'tfvec4__min_df': 0, 'tfvec4__ngram_range': (1, 1)}</td>\n",
       "      <td>0.850</td>\n",
       "      <td>0.901</td>\n",
       "      <td>0.849</td>\n",
       "    </tr>\n",
       "    <tr>\n",
       "      <th>5</th>\n",
       "      <td>TfidfVec, RandomForest</td>\n",
       "      <td>{'RanForest__max_depth': None, 'RanForest__max_features': 'sqrt', 'RanForest__n_estimators': 300, 'tfvec5__max_df': 0.8, 'tfvec5__max_features': 9000, 'tfvec5__min_df': 0, 'tfvec5__ngram_range': (1, 1)}</td>\n",
       "      <td>0.829</td>\n",
       "      <td>1.000</td>\n",
       "      <td>0.837</td>\n",
       "    </tr>\n",
       "  </tbody>\n",
       "</table>\n",
       "</div>"
      ],
      "text/plain": [
       "          transformer_estimator  \\\n",
       "1              CountVec, LogReg   \n",
       "2              TfidfVec, LogReg   \n",
       "3       TfidfVec, MultinomialNB   \n",
       "4  TfidfVec, LogisticRegression   \n",
       "5        TfidfVec, RandomForest   \n",
       "\n",
       "                                                                                                                                                                                               GS_best_params  \\\n",
       "1                                                                         {'cvec1__max_df': 0.7, 'cvec1__max_features': 1000, 'cvec1__min_df': 0.02, 'cvec1__ngram_range': (1, 1), 'logreg1__max_iter': 1000}   \n",
       "2                                                                     {'logreg2__max_iter': 1000, 'tfvec2__max_df': 0.7, 'tfvec2__max_features': 1000, 'tfvec2__min_df': 0.02, 'tfvec2__ngram_range': (1, 1)}   \n",
       "3                                                                              {'nb__alpha': 1e-10, 'tfvec__max_df': 0.3, 'tfvec__max_features': 3555, 'tfvec__min_df': 0.0002, 'tfvec__ngram_range': (1, 1)}   \n",
       "4                                                                      {'logreg4__max_iter': 1000, 'tfvec4__max_df': 0.225, 'tfvec4__max_features': 9500, 'tfvec4__min_df': 0, 'tfvec4__ngram_range': (1, 1)}   \n",
       "5  {'RanForest__max_depth': None, 'RanForest__max_features': 'sqrt', 'RanForest__n_estimators': 300, 'tfvec5__max_df': 0.8, 'tfvec5__max_features': 9000, 'tfvec5__min_df': 0, 'tfvec5__ngram_range': (1, 1)}   \n",
       "\n",
       "   GS_best_score  train_accuracy  test_accuracy  \n",
       "1          0.810           0.837          0.810  \n",
       "2          0.816           0.837          0.816  \n",
       "3          0.833           0.857          0.833  \n",
       "4          0.850           0.901          0.849  \n",
       "5          0.829           1.000          0.837  "
      ]
     },
     "execution_count": 49,
     "metadata": {},
     "output_type": "execute_result"
    }
   ],
   "source": [
    "summary_df"
   ]
  },
  {
   "cell_type": "markdown",
   "metadata": {},
   "source": [
    "We can see clear overfitting from the RandomForest Classifier from the training set which scored at 0.999 vs test data of 0.81. This suggest that the model will be unfit to generalise to unseen data. "
   ]
  },
  {
   "cell_type": "markdown",
   "metadata": {},
   "source": [
    "## Error Analysis"
   ]
  },
  {
   "cell_type": "markdown",
   "metadata": {},
   "source": [
    "### Analysis on top few features\n",
    "\n",
    "Comparison between Logistic Regression, MultinomialNB and RandomForest\n",
    "\n",
    "Features were selected by retrieving feature importance by calculating:\n",
    "- Coefficients from Logistic regression\n",
    "- Relative difference of log probability from MultinomialNB\n",
    "- Mean decrease in impurity from RandomForest"
   ]
  },
  {
   "cell_type": "code",
   "execution_count": 50,
   "metadata": {},
   "outputs": [
    {
     "data": {
      "text/html": [
       "<div>\n",
       "<style scoped>\n",
       "    .dataframe tbody tr th:only-of-type {\n",
       "        vertical-align: middle;\n",
       "    }\n",
       "\n",
       "    .dataframe tbody tr th {\n",
       "        vertical-align: top;\n",
       "    }\n",
       "\n",
       "    .dataframe thead th {\n",
       "        text-align: right;\n",
       "    }\n",
       "</style>\n",
       "<table border=\"1\" class=\"dataframe\">\n",
       "  <thead>\n",
       "    <tr style=\"text-align: right;\">\n",
       "      <th></th>\n",
       "      <th>Features</th>\n",
       "      <th>Coefficients</th>\n",
       "    </tr>\n",
       "  </thead>\n",
       "  <tbody>\n",
       "    <tr>\n",
       "      <th>198</th>\n",
       "      <td>flashback</td>\n",
       "      <td>8.892989</td>\n",
       "    </tr>\n",
       "    <tr>\n",
       "      <th>368</th>\n",
       "      <td>nightmare</td>\n",
       "      <td>6.778599</td>\n",
       "    </tr>\n",
       "    <tr>\n",
       "      <th>2</th>\n",
       "      <td>abuse</td>\n",
       "      <td>5.570160</td>\n",
       "    </tr>\n",
       "    <tr>\n",
       "      <th>558</th>\n",
       "      <td>triggered</td>\n",
       "      <td>5.204683</td>\n",
       "    </tr>\n",
       "    <tr>\n",
       "      <th>4</th>\n",
       "      <td>abuser</td>\n",
       "      <td>5.153748</td>\n",
       "    </tr>\n",
       "    <tr>\n",
       "      <th>237</th>\n",
       "      <td>happened</td>\n",
       "      <td>4.852930</td>\n",
       "    </tr>\n",
       "    <tr>\n",
       "      <th>126</th>\n",
       "      <td>diagnosed</td>\n",
       "      <td>4.776442</td>\n",
       "    </tr>\n",
       "    <tr>\n",
       "      <th>557</th>\n",
       "      <td>trigger</td>\n",
       "      <td>4.558818</td>\n",
       "    </tr>\n",
       "    <tr>\n",
       "      <th>3</th>\n",
       "      <td>abused</td>\n",
       "      <td>4.138784</td>\n",
       "    </tr>\n",
       "    <tr>\n",
       "      <th>5</th>\n",
       "      <td>abusive</td>\n",
       "      <td>4.083983</td>\n",
       "    </tr>\n",
       "    <tr>\n",
       "      <th>333</th>\n",
       "      <td>memory</td>\n",
       "      <td>3.963588</td>\n",
       "    </tr>\n",
       "    <tr>\n",
       "      <th>559</th>\n",
       "      <td>triggering</td>\n",
       "      <td>3.884775</td>\n",
       "    </tr>\n",
       "    <tr>\n",
       "      <th>39</th>\n",
       "      <td>assault</td>\n",
       "      <td>3.770568</td>\n",
       "    </tr>\n",
       "    <tr>\n",
       "      <th>127</th>\n",
       "      <td>diagnosis</td>\n",
       "      <td>3.704987</td>\n",
       "    </tr>\n",
       "    <tr>\n",
       "      <th>161</th>\n",
       "      <td>event</td>\n",
       "      <td>3.608441</td>\n",
       "    </tr>\n",
       "  </tbody>\n",
       "</table>\n",
       "</div>"
      ],
      "text/plain": [
       "       Features  Coefficients\n",
       "198   flashback      8.892989\n",
       "368   nightmare      6.778599\n",
       "2         abuse      5.570160\n",
       "558   triggered      5.204683\n",
       "4        abuser      5.153748\n",
       "237    happened      4.852930\n",
       "126   diagnosed      4.776442\n",
       "557     trigger      4.558818\n",
       "3        abused      4.138784\n",
       "5       abusive      4.083983\n",
       "333      memory      3.963588\n",
       "559  triggering      3.884775\n",
       "39      assault      3.770568\n",
       "127   diagnosis      3.704987\n",
       "161       event      3.608441"
      ]
     },
     "execution_count": 50,
     "metadata": {},
     "output_type": "execute_result"
    }
   ],
   "source": [
    "df_logreg = pd.DataFrame([[x,y] for x,y in zip(gs_pipe2.best_estimator_[0].get_feature_names_out(), (gs_pipe2.best_estimator_[1].coef_).tolist()[0])])\n",
    "df_logreg.rename(columns= {0: 'Features', 1: 'Coefficients'}, inplace = True)\n",
    "df_logreg.sort_values(by = 'Coefficients', ascending = False).head(15)"
   ]
  },
  {
   "cell_type": "code",
   "execution_count": 51,
   "metadata": {},
   "outputs": [
    {
     "data": {
      "text/html": [
       "<div>\n",
       "<style scoped>\n",
       "    .dataframe tbody tr th:only-of-type {\n",
       "        vertical-align: middle;\n",
       "    }\n",
       "\n",
       "    .dataframe tbody tr th {\n",
       "        vertical-align: top;\n",
       "    }\n",
       "\n",
       "    .dataframe thead th {\n",
       "        text-align: right;\n",
       "    }\n",
       "</style>\n",
       "<table border=\"1\" class=\"dataframe\">\n",
       "  <thead>\n",
       "    <tr style=\"text-align: right;\">\n",
       "      <th></th>\n",
       "      <th>Features</th>\n",
       "      <th>log_prob_diff</th>\n",
       "    </tr>\n",
       "  </thead>\n",
       "  <tbody>\n",
       "    <tr>\n",
       "      <th>2454</th>\n",
       "      <td>raped</td>\n",
       "      <td>26.473570</td>\n",
       "    </tr>\n",
       "    <tr>\n",
       "      <th>2453</th>\n",
       "      <td>rape</td>\n",
       "      <td>26.401055</td>\n",
       "    </tr>\n",
       "    <tr>\n",
       "      <th>2326</th>\n",
       "      <td>prazosin</td>\n",
       "      <td>26.107532</td>\n",
       "    </tr>\n",
       "    <tr>\n",
       "      <th>1186</th>\n",
       "      <td>firework</td>\n",
       "      <td>25.749395</td>\n",
       "    </tr>\n",
       "    <tr>\n",
       "      <th>734</th>\n",
       "      <td>csa</td>\n",
       "      <td>25.346092</td>\n",
       "    </tr>\n",
       "    <tr>\n",
       "      <th>461</th>\n",
       "      <td>cannabis</td>\n",
       "      <td>24.978141</td>\n",
       "    </tr>\n",
       "    <tr>\n",
       "      <th>3061</th>\n",
       "      <td>survey</td>\n",
       "      <td>24.845473</td>\n",
       "    </tr>\n",
       "    <tr>\n",
       "      <th>2243</th>\n",
       "      <td>perpetrator</td>\n",
       "      <td>24.827124</td>\n",
       "    </tr>\n",
       "    <tr>\n",
       "      <th>1539</th>\n",
       "      <td>hypervigilant</td>\n",
       "      <td>24.613218</td>\n",
       "    </tr>\n",
       "    <tr>\n",
       "      <th>1383</th>\n",
       "      <td>gunshot</td>\n",
       "      <td>24.434848</td>\n",
       "    </tr>\n",
       "    <tr>\n",
       "      <th>2942</th>\n",
       "      <td>stalked</td>\n",
       "      <td>24.350824</td>\n",
       "    </tr>\n",
       "    <tr>\n",
       "      <th>1414</th>\n",
       "      <td>happyer</td>\n",
       "      <td>23.891712</td>\n",
       "    </tr>\n",
       "    <tr>\n",
       "      <th>753</th>\n",
       "      <td>cynthia</td>\n",
       "      <td>23.808173</td>\n",
       "    </tr>\n",
       "    <tr>\n",
       "      <th>2456</th>\n",
       "      <td>rapist</td>\n",
       "      <td>5.255796</td>\n",
       "    </tr>\n",
       "    <tr>\n",
       "      <th>14</th>\n",
       "      <td>abuser</td>\n",
       "      <td>5.160819</td>\n",
       "    </tr>\n",
       "  </tbody>\n",
       "</table>\n",
       "</div>"
      ],
      "text/plain": [
       "           Features  log_prob_diff\n",
       "2454          raped      26.473570\n",
       "2453           rape      26.401055\n",
       "2326       prazosin      26.107532\n",
       "1186       firework      25.749395\n",
       "734             csa      25.346092\n",
       "461        cannabis      24.978141\n",
       "3061         survey      24.845473\n",
       "2243    perpetrator      24.827124\n",
       "1539  hypervigilant      24.613218\n",
       "1383        gunshot      24.434848\n",
       "2942        stalked      24.350824\n",
       "1414        happyer      23.891712\n",
       "753         cynthia      23.808173\n",
       "2456         rapist       5.255796\n",
       "14           abuser       5.160819"
      ]
     },
     "execution_count": 51,
     "metadata": {},
     "output_type": "execute_result"
    }
   ],
   "source": [
    "delta = gs_pipe3.best_estimator_[1].feature_log_prob_[1, :] - gs_pipe3.best_estimator_[1].feature_log_prob_[0, :]\n",
    "\n",
    "df_multinomial = pd.DataFrame([[x,y] for x,y in zip(gs_pipe3.best_estimator_[0].get_feature_names_out(),(delta))])\n",
    "df_multinomial.rename(columns= {0: 'Features', 1: 'log_prob_diff'}, inplace = True)\n",
    "df_multinomial.sort_values(by = 'log_prob_diff', ascending = False).head(15)"
   ]
  },
  {
   "cell_type": "code",
   "execution_count": 52,
   "metadata": {},
   "outputs": [
    {
     "data": {
      "text/html": [
       "<div>\n",
       "<style scoped>\n",
       "    .dataframe tbody tr th:only-of-type {\n",
       "        vertical-align: middle;\n",
       "    }\n",
       "\n",
       "    .dataframe tbody tr th {\n",
       "        vertical-align: top;\n",
       "    }\n",
       "\n",
       "    .dataframe thead th {\n",
       "        text-align: right;\n",
       "    }\n",
       "</style>\n",
       "<table border=\"1\" class=\"dataframe\">\n",
       "  <thead>\n",
       "    <tr style=\"text-align: right;\">\n",
       "      <th></th>\n",
       "      <th>mean_decrease_impurity</th>\n",
       "    </tr>\n",
       "  </thead>\n",
       "  <tbody>\n",
       "    <tr>\n",
       "      <th>anxious</th>\n",
       "      <td>0.022799</td>\n",
       "    </tr>\n",
       "    <tr>\n",
       "      <th>flashback</th>\n",
       "      <td>0.020399</td>\n",
       "    </tr>\n",
       "    <tr>\n",
       "      <th>nightmare</th>\n",
       "      <td>0.011770</td>\n",
       "    </tr>\n",
       "    <tr>\n",
       "      <th>trigger</th>\n",
       "      <td>0.008396</td>\n",
       "    </tr>\n",
       "    <tr>\n",
       "      <th>abuse</th>\n",
       "      <td>0.008278</td>\n",
       "    </tr>\n",
       "    <tr>\n",
       "      <th>happened</th>\n",
       "      <td>0.007551</td>\n",
       "    </tr>\n",
       "    <tr>\n",
       "      <th>memory</th>\n",
       "      <td>0.007390</td>\n",
       "    </tr>\n",
       "    <tr>\n",
       "      <th>triggered</th>\n",
       "      <td>0.006494</td>\n",
       "    </tr>\n",
       "    <tr>\n",
       "      <th>attack</th>\n",
       "      <td>0.006251</td>\n",
       "    </tr>\n",
       "    <tr>\n",
       "      <th>diagnosed</th>\n",
       "      <td>0.005707</td>\n",
       "    </tr>\n",
       "    <tr>\n",
       "      <th>therapy</th>\n",
       "      <td>0.005507</td>\n",
       "    </tr>\n",
       "    <tr>\n",
       "      <th>sexual</th>\n",
       "      <td>0.005296</td>\n",
       "    </tr>\n",
       "    <tr>\n",
       "      <th>tw</th>\n",
       "      <td>0.005229</td>\n",
       "    </tr>\n",
       "    <tr>\n",
       "      <th>abusive</th>\n",
       "      <td>0.004979</td>\n",
       "    </tr>\n",
       "    <tr>\n",
       "      <th>panic</th>\n",
       "      <td>0.004950</td>\n",
       "    </tr>\n",
       "  </tbody>\n",
       "</table>\n",
       "</div>"
      ],
      "text/plain": [
       "           mean_decrease_impurity\n",
       "anxious                  0.022799\n",
       "flashback                0.020399\n",
       "nightmare                0.011770\n",
       "trigger                  0.008396\n",
       "abuse                    0.008278\n",
       "happened                 0.007551\n",
       "memory                   0.007390\n",
       "triggered                0.006494\n",
       "attack                   0.006251\n",
       "diagnosed                0.005707\n",
       "therapy                  0.005507\n",
       "sexual                   0.005296\n",
       "tw                       0.005229\n",
       "abusive                  0.004979\n",
       "panic                    0.004950"
      ]
     },
     "execution_count": 52,
     "metadata": {},
     "output_type": "execute_result"
    }
   ],
   "source": [
    "forest_feat_importance = pd.DataFrame(gs_pipe5.best_estimator_[1].feature_importances_, index = gs_pipe5.best_estimator_[0].get_feature_names_out()).sort_values(by = 0, ascending = False).head(15)\n",
    "forest_feat_importance.columns = ['mean_decrease_impurity']\n",
    "\n",
    "forest_feat_importance"
   ]
  },
  {
   "cell_type": "markdown",
   "metadata": {},
   "source": [
    "**Comments on top few features**\n",
    "- For logistic regression model, the top few features like 'flashbacks', 'nightmares', 'triggers' can serve as ***true symptoms of users suffering from PTSD***. Based on ([*source*](https://www.psychologytoday.com/us/conditions/post-traumatic-stress-disorder)), patients suffering from PTSD then to have those stated features. \n",
    "\n",
    "- Although it contains some words like 'abuse' that might describe ***causes of PTSD***, I believe when looking at the top few features from MultinomialNB, I can find more words that describes the ***causes AND triggers of PTSD*** more like 'rape', 'firework', 'gunshot', 'csa' which stands for childhood sexual abuse, 'repressed', 'stalked'.\n",
    "\n",
    "- RandomForest has similar features ranked the same way as the Logistic Regression.  \n",
    "\n",
    "- Overall by far, aligned with the accuracy score, I would conclude that MultinomialNB is more superior in getting defining words that may classifiy people with PTSD more. "
   ]
  },
  {
   "cell_type": "code",
   "execution_count": 53,
   "metadata": {},
   "outputs": [
    {
     "data": {
      "text/plain": [
       "35                                                                                                                                                                                                                                    anyone else feel sound hit body awful hate freaking firework\n",
       "47      last night bad asking neighbor heard anything could sworn heard gun shot maybe firework nothing ordinary live country maybe people hunting bed started shaking though kept seeing dark people figure triggered feel drained crap sleep getting day like nothing happened want control vent\n",
       "1646                                                                                                                                                                                                     extremely scared firework past abuse tonight firework show distract firework show tonight\n",
       "Name: lemmi_clean_text, dtype: object"
      ]
     },
     "execution_count": 53,
     "metadata": {},
     "output_type": "execute_result"
    }
   ],
   "source": [
    "df.loc[df['lemmi_clean_text'].str.contains('firework'), 'lemmi_clean_text'][0:3]"
   ]
  },
  {
   "cell_type": "code",
   "execution_count": 54,
   "metadata": {},
   "outputs": [
    {
     "data": {
      "text/html": [
       "<div>\n",
       "<style scoped>\n",
       "    .dataframe tbody tr th:only-of-type {\n",
       "        vertical-align: middle;\n",
       "    }\n",
       "\n",
       "    .dataframe tbody tr th {\n",
       "        vertical-align: top;\n",
       "    }\n",
       "\n",
       "    .dataframe thead th {\n",
       "        text-align: right;\n",
       "    }\n",
       "</style>\n",
       "<table border=\"1\" class=\"dataframe\">\n",
       "  <thead>\n",
       "    <tr style=\"text-align: right;\">\n",
       "      <th></th>\n",
       "      <th>author</th>\n",
       "    </tr>\n",
       "    <tr>\n",
       "      <th>month</th>\n",
       "      <th></th>\n",
       "    </tr>\n",
       "  </thead>\n",
       "  <tbody>\n",
       "    <tr>\n",
       "      <th>1</th>\n",
       "      <td>7</td>\n",
       "    </tr>\n",
       "    <tr>\n",
       "      <th>2</th>\n",
       "      <td>3</td>\n",
       "    </tr>\n",
       "    <tr>\n",
       "      <th>5</th>\n",
       "      <td>1</td>\n",
       "    </tr>\n",
       "    <tr>\n",
       "      <th>6</th>\n",
       "      <td>7</td>\n",
       "    </tr>\n",
       "    <tr>\n",
       "      <th>7</th>\n",
       "      <td>33</td>\n",
       "    </tr>\n",
       "    <tr>\n",
       "      <th>8</th>\n",
       "      <td>5</td>\n",
       "    </tr>\n",
       "    <tr>\n",
       "      <th>9</th>\n",
       "      <td>4</td>\n",
       "    </tr>\n",
       "    <tr>\n",
       "      <th>10</th>\n",
       "      <td>3</td>\n",
       "    </tr>\n",
       "    <tr>\n",
       "      <th>11</th>\n",
       "      <td>5</td>\n",
       "    </tr>\n",
       "    <tr>\n",
       "      <th>12</th>\n",
       "      <td>2</td>\n",
       "    </tr>\n",
       "  </tbody>\n",
       "</table>\n",
       "</div>"
      ],
      "text/plain": [
       "       author\n",
       "month        \n",
       "1           7\n",
       "2           3\n",
       "5           1\n",
       "6           7\n",
       "7          33\n",
       "8           5\n",
       "9           4\n",
       "10          3\n",
       "11          5\n",
       "12          2"
      ]
     },
     "execution_count": 54,
     "metadata": {},
     "output_type": "execute_result"
    }
   ],
   "source": [
    "df[df['lemmi_clean_text'].str.contains('firework')].groupby('month').count()[['author']]"
   ]
  },
  {
   "cell_type": "markdown",
   "metadata": {},
   "source": [
    "***Firework Identified***\n",
    "\n",
    "Found Fireworks seem to be interesting, upon investigating main dataset, the word mainly coming from the text and the title as well, explaining they have triggers likely due to firework loud noises. \n",
    "\n",
    "The fact that it was highlighted as a main feature, suggest that it might be severe more with users from r/PTSD. True enough, based on ([*source*](https://www.insider.com/how-fireworks-affect-you-from-increased-anxiety-and-memory-problems-2020-7#:~:text=Repetitive%20fireworks%20launched%20at%20night,can%20weaken%20your%20immune%20system.)), people with past trauma related to sound are impacted significantly worse by loud explosion of fireworks, causing reminiscent of threat and may have activated the brain's threat detector. \n",
    "\n",
    "Linking back to the EDA on post, we did see spikes on July 2021.Based on ([*source*](https://wgntv.com/news/fireworks-retailer-warns-of-july-4-shortage-here-are-the-states-where-its-legal-to-stock-up/)), there is seasonal fireworks on every 4th of July across many states in the US. Although we cant assume most users from the subreddits are from US, but it is room for exploration, to deep dive into the location and firework activities. \n",
    "\n"
   ]
  },
  {
   "cell_type": "markdown",
   "metadata": {},
   "source": [
    "### What is the sensitivity of all pipelines "
   ]
  },
  {
   "cell_type": "code",
   "execution_count": 475,
   "metadata": {},
   "outputs": [],
   "source": [
    "# What is the test sensitivity of our model?\n",
    "# By hand\n",
    "list_of_gs = [gs_pipe1, gs_pipe2, gs_pipe3, gs_pipe4,gs_pipe5,gs_pipe6,gs_pipe7]\n",
    "\n",
    "\n",
    "sensitivity_df = []\n",
    "for gs in list_of_gs:\n",
    "    preds = gs.predict(X_test)\n",
    "    tn, fp, fn, tp = confusion_matrix(y_test, preds).ravel();\n",
    "    sensitivity_df.append(tp / (tp + fn))\n",
    "\n",
    "\n",
    "sensitivity_df= pd.DataFrame(sensitivity_df)"
   ]
  },
  {
   "cell_type": "code",
   "execution_count": 476,
   "metadata": {},
   "outputs": [
    {
     "data": {
      "text/html": [
       "<div>\n",
       "<style scoped>\n",
       "    .dataframe tbody tr th:only-of-type {\n",
       "        vertical-align: middle;\n",
       "    }\n",
       "\n",
       "    .dataframe tbody tr th {\n",
       "        vertical-align: top;\n",
       "    }\n",
       "\n",
       "    .dataframe thead th {\n",
       "        text-align: right;\n",
       "    }\n",
       "</style>\n",
       "<table border=\"1\" class=\"dataframe\">\n",
       "  <thead>\n",
       "    <tr style=\"text-align: right;\">\n",
       "      <th></th>\n",
       "      <th>transformer_estimator</th>\n",
       "      <th>GS_best_params</th>\n",
       "      <th>GS_best_score</th>\n",
       "      <th>train_accuracy</th>\n",
       "      <th>test_accuracy</th>\n",
       "      <th>Sensitivity</th>\n",
       "    </tr>\n",
       "  </thead>\n",
       "  <tbody>\n",
       "    <tr>\n",
       "      <th>6</th>\n",
       "      <td>TfidfVec, LogisticRegression</td>\n",
       "      <td>{'logreg7__max_iter': 1000, 'tfvec7__max_df': 0.225, 'tfvec7__max_features': 9500, 'tfvec7__min_df': 0, 'tfvec7__ngram_range': (1, 1)}</td>\n",
       "      <td>0.851</td>\n",
       "      <td>0.899</td>\n",
       "      <td>0.897</td>\n",
       "      <td>0.881075</td>\n",
       "    </tr>\n",
       "    <tr>\n",
       "      <th>5</th>\n",
       "      <td>TfidfVec, MultinomialNB_TunedThreshold</td>\n",
       "      <td>{'nb__alpha': 1e-10, 'tfvec__max_df': 0.3, 'tfvec__max_features': 3555, 'tfvec__min_df': 0.0002, 'tfvec__ngram_range': (1, 1)}</td>\n",
       "      <td>0.830</td>\n",
       "      <td>0.852</td>\n",
       "      <td>0.853</td>\n",
       "      <td>0.864480</td>\n",
       "    </tr>\n",
       "    <tr>\n",
       "      <th>2</th>\n",
       "      <td>TfidfVec, MultinomialNB</td>\n",
       "      <td>{'nb__alpha': 1e-10, 'tfvec__max_df': 0.3, 'tfvec__max_features': 3555, 'tfvec__min_df': 0.0002, 'tfvec__ngram_range': (1, 1)}</td>\n",
       "      <td>0.833</td>\n",
       "      <td>0.857</td>\n",
       "      <td>0.833</td>\n",
       "      <td>0.849072</td>\n",
       "    </tr>\n",
       "    <tr>\n",
       "      <th>3</th>\n",
       "      <td>TfidfVec, LogisticRegression</td>\n",
       "      <td>{'logreg4__max_iter': 1000, 'tfvec4__max_df': 0.225, 'tfvec4__max_features': 9500, 'tfvec4__min_df': 0, 'tfvec4__ngram_range': (1, 1)}</td>\n",
       "      <td>0.850</td>\n",
       "      <td>0.901</td>\n",
       "      <td>0.849</td>\n",
       "      <td>0.826946</td>\n",
       "    </tr>\n",
       "    <tr>\n",
       "      <th>4</th>\n",
       "      <td>TfidfVec, RandomForest</td>\n",
       "      <td>{'RanForest__max_depth': None, 'RanForest__max_features': 'sqrt', 'RanForest__n_estimators': 300, 'tfvec5__max_df': 0.8, 'tfvec5__max_features': 9000, 'tfvec5__min_df': 0, 'tfvec5__ngram_range': (1, 1)}</td>\n",
       "      <td>0.829</td>\n",
       "      <td>1.000</td>\n",
       "      <td>0.837</td>\n",
       "      <td>0.814303</td>\n",
       "    </tr>\n",
       "    <tr>\n",
       "      <th>1</th>\n",
       "      <td>TfidfVec, LogReg</td>\n",
       "      <td>{'logreg2__max_iter': 1000, 'tfvec2__max_df': 0.7, 'tfvec2__max_features': 1000, 'tfvec2__min_df': 0.02, 'tfvec2__ngram_range': (1, 1)}</td>\n",
       "      <td>0.816</td>\n",
       "      <td>0.837</td>\n",
       "      <td>0.816</td>\n",
       "      <td>0.789411</td>\n",
       "    </tr>\n",
       "    <tr>\n",
       "      <th>0</th>\n",
       "      <td>CountVec, LogReg</td>\n",
       "      <td>{'cvec1__max_df': 0.7, 'cvec1__max_features': 1000, 'cvec1__min_df': 0.02, 'cvec1__ngram_range': (1, 1), 'logreg1__max_iter': 1000}</td>\n",
       "      <td>0.810</td>\n",
       "      <td>0.837</td>\n",
       "      <td>0.810</td>\n",
       "      <td>0.770842</td>\n",
       "    </tr>\n",
       "  </tbody>\n",
       "</table>\n",
       "</div>"
      ],
      "text/plain": [
       "                    transformer_estimator  \\\n",
       "6            TfidfVec, LogisticRegression   \n",
       "5  TfidfVec, MultinomialNB_TunedThreshold   \n",
       "2                 TfidfVec, MultinomialNB   \n",
       "3            TfidfVec, LogisticRegression   \n",
       "4                  TfidfVec, RandomForest   \n",
       "1                        TfidfVec, LogReg   \n",
       "0                        CountVec, LogReg   \n",
       "\n",
       "                                                                                                                                                                                               GS_best_params  \\\n",
       "6                                                                      {'logreg7__max_iter': 1000, 'tfvec7__max_df': 0.225, 'tfvec7__max_features': 9500, 'tfvec7__min_df': 0, 'tfvec7__ngram_range': (1, 1)}   \n",
       "5                                                                              {'nb__alpha': 1e-10, 'tfvec__max_df': 0.3, 'tfvec__max_features': 3555, 'tfvec__min_df': 0.0002, 'tfvec__ngram_range': (1, 1)}   \n",
       "2                                                                              {'nb__alpha': 1e-10, 'tfvec__max_df': 0.3, 'tfvec__max_features': 3555, 'tfvec__min_df': 0.0002, 'tfvec__ngram_range': (1, 1)}   \n",
       "3                                                                      {'logreg4__max_iter': 1000, 'tfvec4__max_df': 0.225, 'tfvec4__max_features': 9500, 'tfvec4__min_df': 0, 'tfvec4__ngram_range': (1, 1)}   \n",
       "4  {'RanForest__max_depth': None, 'RanForest__max_features': 'sqrt', 'RanForest__n_estimators': 300, 'tfvec5__max_df': 0.8, 'tfvec5__max_features': 9000, 'tfvec5__min_df': 0, 'tfvec5__ngram_range': (1, 1)}   \n",
       "1                                                                     {'logreg2__max_iter': 1000, 'tfvec2__max_df': 0.7, 'tfvec2__max_features': 1000, 'tfvec2__min_df': 0.02, 'tfvec2__ngram_range': (1, 1)}   \n",
       "0                                                                         {'cvec1__max_df': 0.7, 'cvec1__max_features': 1000, 'cvec1__min_df': 0.02, 'cvec1__ngram_range': (1, 1), 'logreg1__max_iter': 1000}   \n",
       "\n",
       "   GS_best_score  train_accuracy  test_accuracy  Sensitivity  \n",
       "6          0.851           0.899          0.897     0.881075  \n",
       "5          0.830           0.852          0.853     0.864480  \n",
       "2          0.833           0.857          0.833     0.849072  \n",
       "3          0.850           0.901          0.849     0.826946  \n",
       "4          0.829           1.000          0.837     0.814303  \n",
       "1          0.816           0.837          0.816     0.789411  \n",
       "0          0.810           0.837          0.810     0.770842  "
      ]
     },
     "execution_count": 476,
     "metadata": {},
     "output_type": "execute_result"
    }
   ],
   "source": [
    "summary_sensitivity = pd.merge(summary_df.reset_index(), sensitivity_df, left_index=True, right_index=True).drop(columns = 'index').rename(columns = {0:'Sensitivity'})\n",
    "summary_sensitivity.sort_values(by = 'Sensitivity', ascending = False)"
   ]
  },
  {
   "cell_type": "code",
   "execution_count": 477,
   "metadata": {},
   "outputs": [],
   "source": [
    "# What is the test specificity of our model?\n",
    "# By hand\n",
    "list_of_gs = [gs_pipe1, gs_pipe2, gs_pipe3, gs_pipe4,gs_pipe5,gs_pipe6,gs_pipe7]\n",
    "\n",
    "\n",
    "specificity_df = []\n",
    "for gs in list_of_gs:\n",
    "    preds = gs.predict(X_test)\n",
    "    tn, fp, fn, tp = confusion_matrix(y_test, preds).ravel();\n",
    "    specificity_df.append(tn / (tn + fp))\n",
    "\n",
    "\n",
    "specificity_df= pd.DataFrame(specificity_df)"
   ]
  },
  {
   "cell_type": "code",
   "execution_count": 478,
   "metadata": {},
   "outputs": [
    {
     "data": {
      "text/html": [
       "<div>\n",
       "<style scoped>\n",
       "    .dataframe tbody tr th:only-of-type {\n",
       "        vertical-align: middle;\n",
       "    }\n",
       "\n",
       "    .dataframe tbody tr th {\n",
       "        vertical-align: top;\n",
       "    }\n",
       "\n",
       "    .dataframe thead th {\n",
       "        text-align: right;\n",
       "    }\n",
       "</style>\n",
       "<table border=\"1\" class=\"dataframe\">\n",
       "  <thead>\n",
       "    <tr style=\"text-align: right;\">\n",
       "      <th></th>\n",
       "      <th>transformer_estimator</th>\n",
       "      <th>GS_best_params</th>\n",
       "      <th>GS_best_score</th>\n",
       "      <th>train_accuracy</th>\n",
       "      <th>test_accuracy</th>\n",
       "      <th>Sensitivity</th>\n",
       "      <th>Specificity</th>\n",
       "    </tr>\n",
       "  </thead>\n",
       "  <tbody>\n",
       "    <tr>\n",
       "      <th>6</th>\n",
       "      <td>TfidfVec, LogisticRegression</td>\n",
       "      <td>{'logreg7__max_iter': 1000, 'tfvec7__max_df': 0.225, 'tfvec7__max_features': 9500, 'tfvec7__min_df': 0, 'tfvec7__ngram_range': (1, 1)}</td>\n",
       "      <td>0.851</td>\n",
       "      <td>0.899</td>\n",
       "      <td>0.897</td>\n",
       "      <td>0.881075</td>\n",
       "      <td>0.913698</td>\n",
       "    </tr>\n",
       "    <tr>\n",
       "      <th>5</th>\n",
       "      <td>TfidfVec, MultinomialNB_TunedThreshold</td>\n",
       "      <td>{'nb__alpha': 1e-10, 'tfvec__max_df': 0.3, 'tfvec__max_features': 3555, 'tfvec__min_df': 0.0002, 'tfvec__ngram_range': (1, 1)}</td>\n",
       "      <td>0.830</td>\n",
       "      <td>0.852</td>\n",
       "      <td>0.853</td>\n",
       "      <td>0.864480</td>\n",
       "      <td>0.841251</td>\n",
       "    </tr>\n",
       "    <tr>\n",
       "      <th>2</th>\n",
       "      <td>TfidfVec, MultinomialNB</td>\n",
       "      <td>{'nb__alpha': 1e-10, 'tfvec__max_df': 0.3, 'tfvec__max_features': 3555, 'tfvec__min_df': 0.0002, 'tfvec__ngram_range': (1, 1)}</td>\n",
       "      <td>0.833</td>\n",
       "      <td>0.857</td>\n",
       "      <td>0.833</td>\n",
       "      <td>0.849072</td>\n",
       "      <td>0.817102</td>\n",
       "    </tr>\n",
       "    <tr>\n",
       "      <th>3</th>\n",
       "      <td>TfidfVec, LogisticRegression</td>\n",
       "      <td>{'logreg4__max_iter': 1000, 'tfvec4__max_df': 0.225, 'tfvec4__max_features': 9500, 'tfvec4__min_df': 0, 'tfvec4__ngram_range': (1, 1)}</td>\n",
       "      <td>0.850</td>\n",
       "      <td>0.901</td>\n",
       "      <td>0.849</td>\n",
       "      <td>0.826946</td>\n",
       "      <td>0.871734</td>\n",
       "    </tr>\n",
       "    <tr>\n",
       "      <th>4</th>\n",
       "      <td>TfidfVec, RandomForest</td>\n",
       "      <td>{'RanForest__max_depth': None, 'RanForest__max_features': 'sqrt', 'RanForest__n_estimators': 300, 'tfvec5__max_df': 0.8, 'tfvec5__max_features': 9000, 'tfvec5__min_df': 0, 'tfvec5__ngram_range': (1, 1)}</td>\n",
       "      <td>0.829</td>\n",
       "      <td>1.000</td>\n",
       "      <td>0.837</td>\n",
       "      <td>0.814303</td>\n",
       "      <td>0.859857</td>\n",
       "    </tr>\n",
       "    <tr>\n",
       "      <th>1</th>\n",
       "      <td>TfidfVec, LogReg</td>\n",
       "      <td>{'logreg2__max_iter': 1000, 'tfvec2__max_df': 0.7, 'tfvec2__max_features': 1000, 'tfvec2__min_df': 0.02, 'tfvec2__ngram_range': (1, 1)}</td>\n",
       "      <td>0.816</td>\n",
       "      <td>0.837</td>\n",
       "      <td>0.816</td>\n",
       "      <td>0.789411</td>\n",
       "      <td>0.842439</td>\n",
       "    </tr>\n",
       "    <tr>\n",
       "      <th>0</th>\n",
       "      <td>CountVec, LogReg</td>\n",
       "      <td>{'cvec1__max_df': 0.7, 'cvec1__max_features': 1000, 'cvec1__min_df': 0.02, 'cvec1__ngram_range': (1, 1), 'logreg1__max_iter': 1000}</td>\n",
       "      <td>0.810</td>\n",
       "      <td>0.837</td>\n",
       "      <td>0.810</td>\n",
       "      <td>0.770842</td>\n",
       "      <td>0.848773</td>\n",
       "    </tr>\n",
       "  </tbody>\n",
       "</table>\n",
       "</div>"
      ],
      "text/plain": [
       "                    transformer_estimator  \\\n",
       "6            TfidfVec, LogisticRegression   \n",
       "5  TfidfVec, MultinomialNB_TunedThreshold   \n",
       "2                 TfidfVec, MultinomialNB   \n",
       "3            TfidfVec, LogisticRegression   \n",
       "4                  TfidfVec, RandomForest   \n",
       "1                        TfidfVec, LogReg   \n",
       "0                        CountVec, LogReg   \n",
       "\n",
       "                                                                                                                                                                                               GS_best_params  \\\n",
       "6                                                                      {'logreg7__max_iter': 1000, 'tfvec7__max_df': 0.225, 'tfvec7__max_features': 9500, 'tfvec7__min_df': 0, 'tfvec7__ngram_range': (1, 1)}   \n",
       "5                                                                              {'nb__alpha': 1e-10, 'tfvec__max_df': 0.3, 'tfvec__max_features': 3555, 'tfvec__min_df': 0.0002, 'tfvec__ngram_range': (1, 1)}   \n",
       "2                                                                              {'nb__alpha': 1e-10, 'tfvec__max_df': 0.3, 'tfvec__max_features': 3555, 'tfvec__min_df': 0.0002, 'tfvec__ngram_range': (1, 1)}   \n",
       "3                                                                      {'logreg4__max_iter': 1000, 'tfvec4__max_df': 0.225, 'tfvec4__max_features': 9500, 'tfvec4__min_df': 0, 'tfvec4__ngram_range': (1, 1)}   \n",
       "4  {'RanForest__max_depth': None, 'RanForest__max_features': 'sqrt', 'RanForest__n_estimators': 300, 'tfvec5__max_df': 0.8, 'tfvec5__max_features': 9000, 'tfvec5__min_df': 0, 'tfvec5__ngram_range': (1, 1)}   \n",
       "1                                                                     {'logreg2__max_iter': 1000, 'tfvec2__max_df': 0.7, 'tfvec2__max_features': 1000, 'tfvec2__min_df': 0.02, 'tfvec2__ngram_range': (1, 1)}   \n",
       "0                                                                         {'cvec1__max_df': 0.7, 'cvec1__max_features': 1000, 'cvec1__min_df': 0.02, 'cvec1__ngram_range': (1, 1), 'logreg1__max_iter': 1000}   \n",
       "\n",
       "   GS_best_score  train_accuracy  test_accuracy  Sensitivity  Specificity  \n",
       "6          0.851           0.899          0.897     0.881075     0.913698  \n",
       "5          0.830           0.852          0.853     0.864480     0.841251  \n",
       "2          0.833           0.857          0.833     0.849072     0.817102  \n",
       "3          0.850           0.901          0.849     0.826946     0.871734  \n",
       "4          0.829           1.000          0.837     0.814303     0.859857  \n",
       "1          0.816           0.837          0.816     0.789411     0.842439  \n",
       "0          0.810           0.837          0.810     0.770842     0.848773  "
      ]
     },
     "execution_count": 478,
     "metadata": {},
     "output_type": "execute_result"
    }
   ],
   "source": [
    "summary_sensitivity = pd.merge(summary_sensitivity.reset_index(), specificity_df, left_index=True, right_index=True).drop(columns = 'index').rename(columns = {0:'Specificity'})\n",
    "summary_sensitivity.sort_values(by = 'Sensitivity', ascending = False)"
   ]
  },
  {
   "cell_type": "code",
   "execution_count": 480,
   "metadata": {},
   "outputs": [
    {
     "data": {
      "text/plain": [
       "7.317073170731714"
      ]
     },
     "execution_count": 480,
     "metadata": {},
     "output_type": "execute_result"
    }
   ],
   "source": [
    "((0.88-0.82)/0.82 )*100"
   ]
  },
  {
   "cell_type": "code",
   "execution_count": 481,
   "metadata": {},
   "outputs": [
    {
     "data": {
      "text/plain": [
       "4.942528735632188"
      ]
     },
     "execution_count": 481,
     "metadata": {},
     "output_type": "execute_result"
    }
   ],
   "source": [
    "((0.913-0.87) / 0.87) *100"
   ]
  },
  {
   "cell_type": "code",
   "execution_count": 482,
   "metadata": {},
   "outputs": [
    {
     "data": {
      "text/plain": [
       "1.814687093674032"
      ]
     },
     "execution_count": 482,
     "metadata": {},
     "output_type": "execute_result"
    }
   ],
   "source": [
    "((0.864480-0.849072)/0.849072)*100"
   ]
  },
  {
   "cell_type": "code",
   "execution_count": 483,
   "metadata": {},
   "outputs": [
    {
     "data": {
      "text/plain": [
       "2.955444975045952"
      ]
     },
     "execution_count": 483,
     "metadata": {},
     "output_type": "execute_result"
    }
   ],
   "source": [
    "((0.841251-0.817102)/0.817102)*100"
   ]
  },
  {
   "cell_type": "code",
   "execution_count": null,
   "metadata": {},
   "outputs": [],
   "source": []
  },
  {
   "cell_type": "markdown",
   "metadata": {},
   "source": [
    "Clearly, we will choose MultinomialNB as our production model as it has relative higher accuracy scores, with minimal overfit and very high sensivity as compared to the rest of the models "
   ]
  },
  {
   "cell_type": "markdown",
   "metadata": {},
   "source": [
    "### Confusion matrix\n",
    "\n",
    "Keeping in mind of minimising False negatives to boost sensitivity, we will use only MultinomialNB with the best params attained above for further error analysis \n",
    "\n",
    "We will look at the following \n",
    "1) False Negatives \n",
    "2) "
   ]
  },
  {
   "cell_type": "code",
   "execution_count": 57,
   "metadata": {},
   "outputs": [
    {
     "name": "stderr",
     "output_type": "stream",
     "text": [
      "C:\\Users\\Admin\\.conda\\envs\\myenv\\lib\\site-packages\\sklearn\\utils\\deprecation.py:87: FutureWarning: Function plot_confusion_matrix is deprecated; Function `plot_confusion_matrix` is deprecated in 1.0 and will be removed in 1.2. Use one of the class methods: ConfusionMatrixDisplay.from_predictions or ConfusionMatrixDisplay.from_estimator.\n",
      "  warnings.warn(msg, category=FutureWarning)\n"
     ]
    },
    {
     "data": {
      "image/png": "[encoded data removed]",
      "text/plain": [
       "<Figure size 432x288 with 2 Axes>"
      ]
     },
     "metadata": {
      "needs_background": "light"
     },
     "output_type": "display_data"
    }
   ],
   "source": [
    "# Generate predictions.\n",
    "preds = gs_pipe3.predict(X_test)\n",
    "\n",
    "# Generate confusion matrix.\n",
    "# Documentation here: https://scikit-learn.org/stable/modules/generated/sklearn.metrics.confusion_matrix.html\n",
    "\n",
    "confusion_matrix(y_test, # True values.\n",
    "                 preds)  # Predicted values.\n",
    "\n",
    "# Save TN/FP/FN/TP values.\n",
    "\n",
    "tn, fp, fn, tp = confusion_matrix(y_test, preds).ravel();\n",
    "\n",
    "# Plot Confusion matrix\n",
    "plot_confusion_matrix(gs_pipe3, X_test, y_test, cmap='Blues', \n",
    "                      values_format='d', display_labels=['r/Anxiety', 'r/PTSD']);                 "
   ]
  },
  {
   "cell_type": "code",
   "execution_count": 192,
   "metadata": {},
   "outputs": [],
   "source": [
    "# create a dataframe to contain the posts, actual reddit and predicted reddit\n",
    "y_test_pred_df = pd.DataFrame()\n",
    "y_test_pred_df['index'] = y_test.index\n",
    "y_test_pred_df['y'] = y_test.values\n",
    "y_test_pred_df['y_pred'] = preds\n",
    "y_test_pred_df = y_test_pred_df.merge(df.reset_index(), on = 'index')\n",
    "\n",
    "y_test_pred_df = y_test_pred_df[['author','index','y','y_pred','title','lemmi_clean_text','month','user_contribute_where']]"
   ]
  },
  {
   "cell_type": "code",
   "execution_count": 200,
   "metadata": {},
   "outputs": [],
   "source": [
    "error_df = y_test_pred_df[((y_test_pred_df['y'] == 1) & (y_test_pred_df['y_pred'] == 0)) | ((y_test_pred_df['y'] == 0) & (y_test_pred_df['y_pred'] == 1))]"
   ]
  },
  {
   "cell_type": "markdown",
   "metadata": {},
   "source": [
    "### False Negative error analysis \n",
    "\n",
    "Using dataframe we will be looking at:\n",
    "1) How many users are in 'both' subreddits\n",
    "2) Common words used - >> To put to stopwords \n",
    "3) Recalculate score using gs.pipe6"
   ]
  },
  {
   "cell_type": "code",
   "execution_count": 223,
   "metadata": {},
   "outputs": [],
   "source": [
    "## False Negative dataframe\n",
    "\n",
    "false_neg = error_df[error_df['y_pred'] == 0]"
   ]
  },
  {
   "cell_type": "code",
   "execution_count": 302,
   "metadata": {},
   "outputs": [
    {
     "data": {
      "text/html": [
       "<div>\n",
       "<style scoped>\n",
       "    .dataframe tbody tr th:only-of-type {\n",
       "        vertical-align: middle;\n",
       "    }\n",
       "\n",
       "    .dataframe tbody tr th {\n",
       "        vertical-align: top;\n",
       "    }\n",
       "\n",
       "    .dataframe thead th {\n",
       "        text-align: right;\n",
       "    }\n",
       "</style>\n",
       "<table border=\"1\" class=\"dataframe\">\n",
       "  <thead>\n",
       "    <tr style=\"text-align: right;\">\n",
       "      <th></th>\n",
       "      <th>Counts</th>\n",
       "    </tr>\n",
       "    <tr>\n",
       "      <th>Features</th>\n",
       "      <th></th>\n",
       "    </tr>\n",
       "  </thead>\n",
       "  <tbody>\n",
       "    <tr>\n",
       "      <th>like</th>\n",
       "      <td>429</td>\n",
       "    </tr>\n",
       "    <tr>\n",
       "      <th>feel</th>\n",
       "      <td>380</td>\n",
       "    </tr>\n",
       "    <tr>\n",
       "      <th>time</th>\n",
       "      <td>260</td>\n",
       "    </tr>\n",
       "    <tr>\n",
       "      <th>get</th>\n",
       "      <td>259</td>\n",
       "    </tr>\n",
       "    <tr>\n",
       "      <th>really</th>\n",
       "      <td>201</td>\n",
       "    </tr>\n",
       "    <tr>\n",
       "      <th>...</th>\n",
       "      <td>...</td>\n",
       "    </tr>\n",
       "    <tr>\n",
       "      <th>polar</th>\n",
       "      <td>1</td>\n",
       "    </tr>\n",
       "    <tr>\n",
       "      <th>poking</th>\n",
       "      <td>1</td>\n",
       "    </tr>\n",
       "    <tr>\n",
       "      <th>poker</th>\n",
       "      <td>1</td>\n",
       "    </tr>\n",
       "    <tr>\n",
       "      <th>pointless</th>\n",
       "      <td>1</td>\n",
       "    </tr>\n",
       "    <tr>\n",
       "      <th>peculiar</th>\n",
       "      <td>1</td>\n",
       "    </tr>\n",
       "  </tbody>\n",
       "</table>\n",
       "<p>4434 rows × 1 columns</p>\n",
       "</div>"
      ],
      "text/plain": [
       "           Counts\n",
       "Features         \n",
       "like          429\n",
       "feel          380\n",
       "time          260\n",
       "get           259\n",
       "really        201\n",
       "...           ...\n",
       "polar           1\n",
       "poking          1\n",
       "poker           1\n",
       "pointless       1\n",
       "peculiar        1\n",
       "\n",
       "[4434 rows x 1 columns]"
      ]
     },
     "execution_count": 302,
     "metadata": {},
     "output_type": "execute_result"
    }
   ],
   "source": [
    "test = pd.DataFrame(false_neg['lemmi_clean_text'].apply(word_tokenize).sum()).reset_index()\n",
    "test['index'] = 1\n",
    "test.columns = ['Counts', 'Features']\n",
    "test = test.groupby('Features').sum().sort_values(by = 'Counts',ascending=False)\n",
    "\n",
    "test"
   ]
  },
  {
   "cell_type": "code",
   "execution_count": 311,
   "metadata": {},
   "outputs": [
    {
     "data": {
      "text/html": [
       "<div>\n",
       "<style scoped>\n",
       "    .dataframe tbody tr th:only-of-type {\n",
       "        vertical-align: middle;\n",
       "    }\n",
       "\n",
       "    .dataframe tbody tr th {\n",
       "        vertical-align: top;\n",
       "    }\n",
       "\n",
       "    .dataframe thead th {\n",
       "        text-align: right;\n",
       "    }\n",
       "</style>\n",
       "<table border=\"1\" class=\"dataframe\">\n",
       "  <thead>\n",
       "    <tr style=\"text-align: right;\">\n",
       "      <th></th>\n",
       "      <th>Features</th>\n",
       "      <th>Counts</th>\n",
       "      <th>log_prob_diff</th>\n",
       "    </tr>\n",
       "  </thead>\n",
       "  <tbody>\n",
       "    <tr>\n",
       "      <th>0</th>\n",
       "      <td>day</td>\n",
       "      <td>197</td>\n",
       "      <td>-0.321588</td>\n",
       "    </tr>\n",
       "    <tr>\n",
       "      <th>1</th>\n",
       "      <td>work</td>\n",
       "      <td>152</td>\n",
       "      <td>-0.440684</td>\n",
       "    </tr>\n",
       "    <tr>\n",
       "      <th>2</th>\n",
       "      <td>going</td>\n",
       "      <td>138</td>\n",
       "      <td>-0.374993</td>\n",
       "    </tr>\n",
       "    <tr>\n",
       "      <th>3</th>\n",
       "      <td>go</td>\n",
       "      <td>137</td>\n",
       "      <td>-0.213769</td>\n",
       "    </tr>\n",
       "    <tr>\n",
       "      <th>4</th>\n",
       "      <td>feeling</td>\n",
       "      <td>129</td>\n",
       "      <td>-0.488146</td>\n",
       "    </tr>\n",
       "    <tr>\n",
       "      <th>...</th>\n",
       "      <td>...</td>\n",
       "      <td>...</td>\n",
       "      <td>...</td>\n",
       "    </tr>\n",
       "    <tr>\n",
       "      <th>2612</th>\n",
       "      <td>bridge</td>\n",
       "      <td>1</td>\n",
       "      <td>0.161351</td>\n",
       "    </tr>\n",
       "    <tr>\n",
       "      <th>2613</th>\n",
       "      <td>ct</td>\n",
       "      <td>1</td>\n",
       "      <td>-2.076874</td>\n",
       "    </tr>\n",
       "    <tr>\n",
       "      <th>2614</th>\n",
       "      <td>popular</td>\n",
       "      <td>1</td>\n",
       "      <td>-0.397040</td>\n",
       "    </tr>\n",
       "    <tr>\n",
       "      <th>2615</th>\n",
       "      <td>pool</td>\n",
       "      <td>1</td>\n",
       "      <td>-0.026132</td>\n",
       "    </tr>\n",
       "    <tr>\n",
       "      <th>2616</th>\n",
       "      <td>pointless</td>\n",
       "      <td>1</td>\n",
       "      <td>0.609956</td>\n",
       "    </tr>\n",
       "  </tbody>\n",
       "</table>\n",
       "<p>2617 rows × 3 columns</p>\n",
       "</div>"
      ],
      "text/plain": [
       "       Features  Counts  log_prob_diff\n",
       "0           day     197      -0.321588\n",
       "1          work     152      -0.440684\n",
       "2         going     138      -0.374993\n",
       "3            go     137      -0.213769\n",
       "4       feeling     129      -0.488146\n",
       "...         ...     ...            ...\n",
       "2612     bridge       1       0.161351\n",
       "2613         ct       1      -2.076874\n",
       "2614    popular       1      -0.397040\n",
       "2615       pool       1      -0.026132\n",
       "2616  pointless       1       0.609956\n",
       "\n",
       "[2617 rows x 3 columns]"
      ]
     },
     "execution_count": 311,
     "metadata": {},
     "output_type": "execute_result"
    }
   ],
   "source": [
    "# we create dataframe that contains log prob diff\n",
    "filter_false_neg = test.merge(df_multinomial , on = 'Features', how ='inner')\n",
    "filter_false_neg"
   ]
  },
  {
   "cell_type": "markdown",
   "metadata": {},
   "source": [
    "For class to be misclassified as `FALSE NEGATIVE`, its coefficients need to be `-ve` "
   ]
  },
  {
   "cell_type": "code",
   "execution_count": 319,
   "metadata": {},
   "outputs": [
    {
     "data": {
      "text/html": [
       "<div>\n",
       "<style scoped>\n",
       "    .dataframe tbody tr th:only-of-type {\n",
       "        vertical-align: middle;\n",
       "    }\n",
       "\n",
       "    .dataframe tbody tr th {\n",
       "        vertical-align: top;\n",
       "    }\n",
       "\n",
       "    .dataframe thead th {\n",
       "        text-align: right;\n",
       "    }\n",
       "</style>\n",
       "<table border=\"1\" class=\"dataframe\">\n",
       "  <thead>\n",
       "    <tr style=\"text-align: right;\">\n",
       "      <th></th>\n",
       "      <th>Features</th>\n",
       "      <th>Counts</th>\n",
       "      <th>log_prob_diff</th>\n",
       "    </tr>\n",
       "  </thead>\n",
       "  <tbody>\n",
       "    <tr>\n",
       "      <th>0</th>\n",
       "      <td>day</td>\n",
       "      <td>197</td>\n",
       "      <td>-0.321588</td>\n",
       "    </tr>\n",
       "    <tr>\n",
       "      <th>1</th>\n",
       "      <td>work</td>\n",
       "      <td>152</td>\n",
       "      <td>-0.440684</td>\n",
       "    </tr>\n",
       "    <tr>\n",
       "      <th>2</th>\n",
       "      <td>going</td>\n",
       "      <td>138</td>\n",
       "      <td>-0.374993</td>\n",
       "    </tr>\n",
       "    <tr>\n",
       "      <th>3</th>\n",
       "      <td>go</td>\n",
       "      <td>137</td>\n",
       "      <td>-0.213769</td>\n",
       "    </tr>\n",
       "    <tr>\n",
       "      <th>4</th>\n",
       "      <td>feeling</td>\n",
       "      <td>129</td>\n",
       "      <td>-0.488146</td>\n",
       "    </tr>\n",
       "    <tr>\n",
       "      <th>...</th>\n",
       "      <td>...</td>\n",
       "      <td>...</td>\n",
       "      <td>...</td>\n",
       "    </tr>\n",
       "    <tr>\n",
       "      <th>2605</th>\n",
       "      <td>bug</td>\n",
       "      <td>1</td>\n",
       "      <td>-0.549992</td>\n",
       "    </tr>\n",
       "    <tr>\n",
       "      <th>2611</th>\n",
       "      <td>gut</td>\n",
       "      <td>1</td>\n",
       "      <td>-0.410374</td>\n",
       "    </tr>\n",
       "    <tr>\n",
       "      <th>2613</th>\n",
       "      <td>ct</td>\n",
       "      <td>1</td>\n",
       "      <td>-2.076874</td>\n",
       "    </tr>\n",
       "    <tr>\n",
       "      <th>2614</th>\n",
       "      <td>popular</td>\n",
       "      <td>1</td>\n",
       "      <td>-0.397040</td>\n",
       "    </tr>\n",
       "    <tr>\n",
       "      <th>2615</th>\n",
       "      <td>pool</td>\n",
       "      <td>1</td>\n",
       "      <td>-0.026132</td>\n",
       "    </tr>\n",
       "  </tbody>\n",
       "</table>\n",
       "<p>1324 rows × 3 columns</p>\n",
       "</div>"
      ],
      "text/plain": [
       "     Features  Counts  log_prob_diff\n",
       "0         day     197      -0.321588\n",
       "1        work     152      -0.440684\n",
       "2       going     138      -0.374993\n",
       "3          go     137      -0.213769\n",
       "4     feeling     129      -0.488146\n",
       "...       ...     ...            ...\n",
       "2605      bug       1      -0.549992\n",
       "2611      gut       1      -0.410374\n",
       "2613       ct       1      -2.076874\n",
       "2614  popular       1      -0.397040\n",
       "2615     pool       1      -0.026132\n",
       "\n",
       "[1324 rows x 3 columns]"
      ]
     },
     "execution_count": 319,
     "metadata": {},
     "output_type": "execute_result"
    }
   ],
   "source": [
    "filter_off_neglogprob = filter_false_neg[filter_false_neg['log_prob_diff'] < 0]\n",
    "filter_off_neglogprob"
   ]
  },
  {
   "cell_type": "code",
   "execution_count": 349,
   "metadata": {},
   "outputs": [
    {
     "data": {
      "text/html": [
       "<div>\n",
       "<style scoped>\n",
       "    .dataframe tbody tr th:only-of-type {\n",
       "        vertical-align: middle;\n",
       "    }\n",
       "\n",
       "    .dataframe tbody tr th {\n",
       "        vertical-align: top;\n",
       "    }\n",
       "\n",
       "    .dataframe thead th {\n",
       "        text-align: right;\n",
       "    }\n",
       "</style>\n",
       "<table border=\"1\" class=\"dataframe\">\n",
       "  <thead>\n",
       "    <tr style=\"text-align: right;\">\n",
       "      <th></th>\n",
       "      <th>Counts</th>\n",
       "      <th>log_prob_diff</th>\n",
       "    </tr>\n",
       "  </thead>\n",
       "  <tbody>\n",
       "    <tr>\n",
       "      <th>count</th>\n",
       "      <td>1324.000000</td>\n",
       "      <td>1324.000000</td>\n",
       "    </tr>\n",
       "    <tr>\n",
       "      <th>mean</th>\n",
       "      <td>9.361027</td>\n",
       "      <td>-0.533446</td>\n",
       "    </tr>\n",
       "    <tr>\n",
       "      <th>std</th>\n",
       "      <td>17.834789</td>\n",
       "      <td>0.541488</td>\n",
       "    </tr>\n",
       "    <tr>\n",
       "      <th>min</th>\n",
       "      <td>1.000000</td>\n",
       "      <td>-3.668653</td>\n",
       "    </tr>\n",
       "    <tr>\n",
       "      <th>25%</th>\n",
       "      <td>2.000000</td>\n",
       "      <td>-0.712572</td>\n",
       "    </tr>\n",
       "    <tr>\n",
       "      <th>50%</th>\n",
       "      <td>3.000000</td>\n",
       "      <td>-0.366196</td>\n",
       "    </tr>\n",
       "    <tr>\n",
       "      <th>75%</th>\n",
       "      <td>8.000000</td>\n",
       "      <td>-0.160775</td>\n",
       "    </tr>\n",
       "    <tr>\n",
       "      <th>max</th>\n",
       "      <td>197.000000</td>\n",
       "      <td>-0.000353</td>\n",
       "    </tr>\n",
       "  </tbody>\n",
       "</table>\n",
       "</div>"
      ],
      "text/plain": [
       "            Counts  log_prob_diff\n",
       "count  1324.000000    1324.000000\n",
       "mean      9.361027      -0.533446\n",
       "std      17.834789       0.541488\n",
       "min       1.000000      -3.668653\n",
       "25%       2.000000      -0.712572\n",
       "50%       3.000000      -0.366196\n",
       "75%       8.000000      -0.160775\n",
       "max     197.000000      -0.000353"
      ]
     },
     "execution_count": 349,
     "metadata": {},
     "output_type": "execute_result"
    }
   ],
   "source": [
    "filter_off_neglogprob.describe()"
   ]
  },
  {
   "cell_type": "code",
   "execution_count": 350,
   "metadata": {},
   "outputs": [
    {
     "data": {
      "image/png": "[encoded data removed]",
      "text/plain": [
       "<Figure size 360x360 with 1 Axes>"
      ]
     },
     "metadata": {
      "needs_background": "light"
     },
     "output_type": "display_data"
    }
   ],
   "source": [
    "sns.displot(\n",
    "    x = 'log_prob_diff',\n",
    "    data = filter_off_neglogprob\n",
    ");"
   ]
  },
  {
   "cell_type": "code",
   "execution_count": 423,
   "metadata": {},
   "outputs": [
    {
     "data": {
      "text/plain": [
       "['go',\n",
       " 'think',\n",
       " 'make',\n",
       " 'help',\n",
       " 'much',\n",
       " 'also',\n",
       " 'started',\n",
       " 'anything',\n",
       " 'symptom',\n",
       " 'month',\n",
       " 'else',\n",
       " 'something']"
      ]
     },
     "execution_count": 423,
     "metadata": {},
     "output_type": "execute_result"
    }
   ],
   "source": [
    "stopword_add = filter_off_neglogprob[(filter_off_neglogprob['Counts'] > 80) & (filter_off_neglogprob['log_prob_diff'] > -0.266196)]['Features'].unique().tolist()\n",
    "stopword_add"
   ]
  },
  {
   "cell_type": "code",
   "execution_count": 233,
   "metadata": {},
   "outputs": [],
   "source": [
    "# Get words in false Negative\n",
    "\n",
    "unique_in_false_neg = set(false_neg['lemmi_clean_text'].apply(word_tokenize).sum())"
   ]
  },
  {
   "cell_type": "code",
   "execution_count": 234,
   "metadata": {},
   "outputs": [],
   "source": [
    "## False Negative dataframe\n",
    "\n",
    "false_pos = error_df[error_df['y_pred'] == 1]"
   ]
  },
  {
   "cell_type": "code",
   "execution_count": 235,
   "metadata": {},
   "outputs": [],
   "source": [
    "# Get words in false Positive\n",
    "\n",
    "unique_in_false_pos = set(false_pos['lemmi_clean_text'].apply(word_tokenize).sum())"
   ]
  },
  {
   "cell_type": "code",
   "execution_count": 236,
   "metadata": {},
   "outputs": [
    {
     "data": {
      "text/plain": [
       "['pneumonitis',\n",
       " 'sprint',\n",
       " 'exclude',\n",
       " 'cone',\n",
       " 'constipation',\n",
       " 'ish',\n",
       " 'ironic',\n",
       " 'injured',\n",
       " 'melayu',\n",
       " 'knifepoint',\n",
       " 'quack',\n",
       " 'cramp',\n",
       " 'manually',\n",
       " 'brutally',\n",
       " 'stimulation',\n",
       " 'bloating',\n",
       " 'amitriptylin',\n",
       " 'cryptocurrency',\n",
       " 'tad',\n",
       " 'vaguely',\n",
       " 'peep',\n",
       " 'coaster',\n",
       " 'kola',\n",
       " 'declared',\n",
       " 'tackle',\n",
       " 'tiktok',\n",
       " 'dabbled',\n",
       " 'considerable',\n",
       " 'therapeutic',\n",
       " 'confiscate',\n",
       " 'wound',\n",
       " 'nuke-',\n",
       " 'blurry',\n",
       " 'ibs-c',\n",
       " 'mole',\n",
       " 'sensitivity',\n",
       " 'electrolyte',\n",
       " 'audio',\n",
       " 'summit',\n",
       " 'weeps',\n",
       " 'disinterested',\n",
       " '-halos',\n",
       " 'throat',\n",
       " 'proactive',\n",
       " 'trou',\n",
       " 'agomelatine',\n",
       " 'pulse',\n",
       " 'principal',\n",
       " 'to-do',\n",
       " 'mid-twenties',\n",
       " 'tendon',\n",
       " 'po',\n",
       " 'region',\n",
       " 'over-analyzing',\n",
       " 'specialist',\n",
       " 'sooo',\n",
       " 'cm',\n",
       " 'waitress',\n",
       " 'pre',\n",
       " 'rag',\n",
       " 'prosecuting',\n",
       " 'sun',\n",
       " 'sever',\n",
       " 'homework',\n",
       " 'fingertip',\n",
       " 'diaphragm',\n",
       " 'reflective',\n",
       " 'preexisting',\n",
       " 'deficient',\n",
       " 'wiggle',\n",
       " 'brace',\n",
       " 'dairy',\n",
       " 'reasoning',\n",
       " 'unbalancing',\n",
       " 'pass',\n",
       " 'communicates',\n",
       " 'flexing',\n",
       " 'pw',\n",
       " 'hypervigilance',\n",
       " 'poker',\n",
       " 'kitchenhand',\n",
       " 'relaxes',\n",
       " 'dysregulated',\n",
       " 'activation',\n",
       " 'phycologist',\n",
       " 'toss',\n",
       " 'coughing',\n",
       " 'floyd',\n",
       " 'cooperate',\n",
       " 'feeding',\n",
       " 'arkansas',\n",
       " 'comfy',\n",
       " 'hr',\n",
       " 'encompassing',\n",
       " 'uni',\n",
       " 'donate',\n",
       " 'approaching',\n",
       " 'congruent',\n",
       " 'lowest',\n",
       " 'medicinal',\n",
       " 'nexplanon',\n",
       " 'growling',\n",
       " 'tx',\n",
       " 'lsd',\n",
       " 'moderately',\n",
       " 'fireball',\n",
       " 'kratom',\n",
       " 'tidy',\n",
       " 'discomfort',\n",
       " 'indicate',\n",
       " 'scenery',\n",
       " 'delivered',\n",
       " 'depersonalised',\n",
       " 'sore',\n",
       " 'turkey',\n",
       " 'grammer',\n",
       " 'hours-',\n",
       " 'heroin',\n",
       " 'relieved',\n",
       " 'floaty',\n",
       " 'wrapper',\n",
       " 'recognizes',\n",
       " 'unsustainable',\n",
       " 'debit',\n",
       " 'quote',\n",
       " 'de-escalation',\n",
       " 'navigated',\n",
       " 'disconnection',\n",
       " 'tactile',\n",
       " 'baseline',\n",
       " 'strangely',\n",
       " 'inhaler',\n",
       " 'dental',\n",
       " 'it-',\n",
       " 'burner',\n",
       " 'on-',\n",
       " 'peeing',\n",
       " 'flare-up',\n",
       " 'adorable',\n",
       " 'fever',\n",
       " 'classic',\n",
       " 'hunger',\n",
       " 'oulling',\n",
       " 'trauma-related',\n",
       " 'high-stress',\n",
       " 'meltdown',\n",
       " 'noticeable',\n",
       " 'undiagnosed',\n",
       " 'caffeine',\n",
       " 'dizziness',\n",
       " 'phantom',\n",
       " 'tricky',\n",
       " 'declare',\n",
       " 'wou',\n",
       " 'avoidance',\n",
       " 'herding',\n",
       " 'non-trauma',\n",
       " 'band',\n",
       " 'ativan',\n",
       " 'textbook',\n",
       " 'sleepy',\n",
       " 'hourly',\n",
       " 'console',\n",
       " 'podcast',\n",
       " 'meditate',\n",
       " 'acquired',\n",
       " 'disappoint',\n",
       " 'ng',\n",
       " 'dealer',\n",
       " 'passionflower',\n",
       " 'floating',\n",
       " 'medicate',\n",
       " 'fortnight',\n",
       " 'existentialism',\n",
       " 'sea',\n",
       " 'slope',\n",
       " 'tent',\n",
       " 'bonded',\n",
       " 'dreaded',\n",
       " 'peculiar',\n",
       " 'valdoxan',\n",
       " 'deathcramps',\n",
       " 'saed',\n",
       " 'teething',\n",
       " 'spasm',\n",
       " 'tight',\n",
       " 'documentation',\n",
       " 'refreshed',\n",
       " 'cramping',\n",
       " 'behaving',\n",
       " 'evening',\n",
       " 'vastly',\n",
       " 'runway',\n",
       " 'valium',\n",
       " 'ashwagandha',\n",
       " 'macgyvering',\n",
       " 'seal',\n",
       " 'print',\n",
       " 'remote',\n",
       " 'scored',\n",
       " 'buried',\n",
       " 'collection',\n",
       " 'calorie',\n",
       " 'diminish',\n",
       " 'gum',\n",
       " 'ripping',\n",
       " 'bumping',\n",
       " 'cast',\n",
       " 'derogatory',\n",
       " 'stiff',\n",
       " 'sedated',\n",
       " 'colonoscopy',\n",
       " 'persistence',\n",
       " 'termination',\n",
       " 'oil',\n",
       " 'stressy',\n",
       " 'joint',\n",
       " 'thru',\n",
       " 'meditating',\n",
       " 'saccharine',\n",
       " 'suicidally',\n",
       " 'correction',\n",
       " 'tenfolds',\n",
       " 'repelled',\n",
       " 'dumbest',\n",
       " 'zyprexa',\n",
       " 'tightened',\n",
       " 'pup',\n",
       " 'activty',\n",
       " 'ambien',\n",
       " 'article',\n",
       " 'array',\n",
       " 'denying',\n",
       " 'scarred',\n",
       " 'registration',\n",
       " 'beforehand',\n",
       " 'disagree',\n",
       " 'prozosin',\n",
       " 'inflicted',\n",
       " 'uphill',\n",
       " 'suspended',\n",
       " 'grass',\n",
       " 'auacotpcx',\n",
       " 'disfunction',\n",
       " 'peoblem',\n",
       " 'psycologist',\n",
       " 'reared',\n",
       " 'snot',\n",
       " 'tore',\n",
       " 'updated',\n",
       " 'unheard',\n",
       " 'invested',\n",
       " 'curled',\n",
       " 'shrink',\n",
       " 'gotu',\n",
       " 'phsyically',\n",
       " 'registering',\n",
       " 'danger-',\n",
       " 'protein',\n",
       " 'commiseration',\n",
       " 'transferred',\n",
       " 'recalling',\n",
       " 'strugglimh',\n",
       " 'amazes',\n",
       " 'associate',\n",
       " '-year',\n",
       " 'bewilderment',\n",
       " 'particularly',\n",
       " 'waitlist',\n",
       " 'terminology',\n",
       " 'painkiller',\n",
       " 'health-',\n",
       " 'beemaking',\n",
       " 'fasting',\n",
       " 'scold',\n",
       " 'demotivated',\n",
       " 'addressing',\n",
       " 'cube',\n",
       " 'official',\n",
       " 'steal',\n",
       " 'expedite',\n",
       " 'capability',\n",
       " 'thc',\n",
       " 'dictionary',\n",
       " 'tall',\n",
       " 'dysfunction',\n",
       " 'hea',\n",
       " '-something',\n",
       " 'vid',\n",
       " 'melonomers',\n",
       " 'apprently',\n",
       " 'doth',\n",
       " 'progressing',\n",
       " 'cramped',\n",
       " 'frying',\n",
       " 'alexa',\n",
       " 're-pack',\n",
       " 'regulated',\n",
       " 'inflamed',\n",
       " 'muddled',\n",
       " 'begun',\n",
       " 'mild-to-moderate',\n",
       " 'waited',\n",
       " 'pptx',\n",
       " 'gundam',\n",
       " 'afew',\n",
       " 'gi',\n",
       " 'existential',\n",
       " 'robbery',\n",
       " 'explosion',\n",
       " 'fascia',\n",
       " 'android',\n",
       " 'numb-',\n",
       " 'homeschooling',\n",
       " 'parcel',\n",
       " 'graying',\n",
       " 'reoccur',\n",
       " 'off-topic',\n",
       " 'bro',\n",
       " 'aloud',\n",
       " 'reschedule',\n",
       " 'bcp',\n",
       " 'drugged',\n",
       " 'pre-ptsd',\n",
       " 'relapsed',\n",
       " 'algae',\n",
       " 'intact',\n",
       " 'overdue',\n",
       " 'metaphorically',\n",
       " 'cet',\n",
       " 'tornado',\n",
       " 'fatigued',\n",
       " 'thud',\n",
       " 'wretched',\n",
       " 'cabin',\n",
       " 'resembles',\n",
       " 'numbing',\n",
       " 'moring',\n",
       " 'dallas',\n",
       " 'ving',\n",
       " 'stumble',\n",
       " '-depersonalization',\n",
       " 'institution',\n",
       " 'washed',\n",
       " 'tdcs',\n",
       " 'appendage',\n",
       " 'backstabbed',\n",
       " 'mri',\n",
       " 'retrain',\n",
       " 'interfering',\n",
       " 'euthout',\n",
       " 'mirt',\n",
       " 'alienated',\n",
       " 'comply',\n",
       " 'ok-',\n",
       " 'magnet',\n",
       " 'reward',\n",
       " 'vegetable-handler',\n",
       " 'incapable',\n",
       " 'corresponding',\n",
       " 'listens',\n",
       " 'nap',\n",
       " 'norm',\n",
       " 'sane',\n",
       " 'deprivation',\n",
       " 'yay',\n",
       " 'mentalgrenade',\n",
       " 'recuperate',\n",
       " 'stutter',\n",
       " 'leech',\n",
       " 'sang',\n",
       " 'co-worker',\n",
       " 'hangout',\n",
       " 'navigator',\n",
       " 'provider',\n",
       " 'flashing',\n",
       " 'maltodextrin',\n",
       " 'unaffected',\n",
       " 'scouring',\n",
       " 'drinkinh',\n",
       " 'testify',\n",
       " 'q',\n",
       " 'abstain',\n",
       " 'dead-end',\n",
       " 'dedicated',\n",
       " 'dissociate',\n",
       " 'flat',\n",
       " 'pharmacy-',\n",
       " 'breed',\n",
       " 'valued',\n",
       " 'fmla',\n",
       " 'mat',\n",
       " 'heaving',\n",
       " 'gradually',\n",
       " 'formed',\n",
       " 'withdrawal',\n",
       " 'benzos',\n",
       " 'multiple-day',\n",
       " 'shrooms',\n",
       " 'hormone',\n",
       " 'decides',\n",
       " 'bush',\n",
       " 'ensure',\n",
       " 'duper',\n",
       " 'electrical',\n",
       " 'sedation',\n",
       " 'abdominal',\n",
       " 'mint',\n",
       " 'propranolol',\n",
       " 'acc',\n",
       " 'wuthiut',\n",
       " 'introspective',\n",
       " 'partition',\n",
       " 'icing',\n",
       " 'retraumatized',\n",
       " 'armpit',\n",
       " 'sleepless',\n",
       " 'precise',\n",
       " 'erectile',\n",
       " 'bloodwork',\n",
       " 'life-drainingly',\n",
       " 'scammed',\n",
       " 'dragging',\n",
       " 'cereal',\n",
       " 'bupropion',\n",
       " 'housesitting',\n",
       " 'slowing',\n",
       " 'drug-induced',\n",
       " 'pdd',\n",
       " 'disorientation',\n",
       " 'hefty',\n",
       " 'cqr',\n",
       " 'worsens',\n",
       " 'reliving',\n",
       " 'relents',\n",
       " 'powerpoint',\n",
       " 'lobster',\n",
       " 'rocket',\n",
       " 'wintertime',\n",
       " 'shortness',\n",
       " 'lightheaded',\n",
       " 'seventeen',\n",
       " 'coerce',\n",
       " 'grayer',\n",
       " 'melt',\n",
       " 'tattooed',\n",
       " 'jitsu',\n",
       " 'lavender',\n",
       " 'appearing',\n",
       " 'rinse',\n",
       " 'aired',\n",
       " 'overdo',\n",
       " 'livingroom',\n",
       " 'remedy',\n",
       " 'steady',\n",
       " 'reversed',\n",
       " 'completing',\n",
       " 'meaningful',\n",
       " 'trazodone',\n",
       " 'overtierd',\n",
       " 'bodybuilding',\n",
       " 'recomend',\n",
       " 'uselessness',\n",
       " 'knackering',\n",
       " 'plain',\n",
       " 'lit',\n",
       " '-do',\n",
       " 'gassed',\n",
       " 'brush',\n",
       " 'involuntary',\n",
       " 'ideally',\n",
       " 'longing',\n",
       " 'slump',\n",
       " 'meter',\n",
       " 'span',\n",
       " 'weather',\n",
       " 'denies',\n",
       " 'iphones',\n",
       " 'zma',\n",
       " 'eternity',\n",
       " 'bending',\n",
       " 'secondary',\n",
       " 'knight',\n",
       " 'diff',\n",
       " 'knotted',\n",
       " 'distract',\n",
       " 'kindly',\n",
       " 'them-',\n",
       " 'blockage',\n",
       " 'hyperactive',\n",
       " 'quaterise',\n",
       " '-what',\n",
       " 'the',\n",
       " 'tasty',\n",
       " '-after',\n",
       " 'serve',\n",
       " 'pelvic',\n",
       " '-an-instant-of-sound',\n",
       " 'diligence',\n",
       " 'sfnco',\n",
       " 'raining',\n",
       " 'overwhelmingly',\n",
       " 'benzo',\n",
       " 'clearance',\n",
       " 'user',\n",
       " 'compound',\n",
       " 'extensive',\n",
       " 'scr',\n",
       " 'mid-sleep',\n",
       " 'windy',\n",
       " 'trading',\n",
       " 'cheer',\n",
       " 'feelin',\n",
       " 'presentation',\n",
       " 'lcitruline',\n",
       " 'over-night',\n",
       " 'correspondence',\n",
       " 'persona',\n",
       " 'bitten',\n",
       " 'cranky',\n",
       " 'psyiciatric',\n",
       " 'prevented',\n",
       " 'investigation',\n",
       " 'decaf',\n",
       " 'apnea',\n",
       " 'breathlessness',\n",
       " 'uptick',\n",
       " 'medicinally',\n",
       " 'guarantee',\n",
       " 'unwind',\n",
       " 'profound',\n",
       " 'anemic',\n",
       " 'soften',\n",
       " 'busiest',\n",
       " 'bronchitis',\n",
       " 'kitty',\n",
       " 'spine',\n",
       " 'base',\n",
       " 'coherent',\n",
       " 'bahasa',\n",
       " 'blitzed',\n",
       " 'villager',\n",
       " 'methadone',\n",
       " 'bothersome',\n",
       " 'weary',\n",
       " 'arrhythmia',\n",
       " 'deferred',\n",
       " 'reverted',\n",
       " 'diarrhea',\n",
       " 'crawly',\n",
       " 'surge',\n",
       " 'allergy',\n",
       " '-is',\n",
       " 'nonexistent',\n",
       " 'ada',\n",
       " 'barf',\n",
       " 'quietly',\n",
       " 'uninterested',\n",
       " 'warm-up',\n",
       " 'retention',\n",
       " 'family-oriented',\n",
       " 'concentrate-',\n",
       " 'bowel',\n",
       " 'endep',\n",
       " 'assistant',\n",
       " 'nonstop',\n",
       " 'negativity',\n",
       " 'blackness',\n",
       " 'abstinence',\n",
       " 'fibromyalgia',\n",
       " 'inhibit',\n",
       " 'dock',\n",
       " 'association',\n",
       " 'cobweb',\n",
       " 'two-ish',\n",
       " 'undertrained',\n",
       " 'wording',\n",
       " 'florian',\n",
       " 'eh',\n",
       " 'wort',\n",
       " 'encampment',\n",
       " 'vibration',\n",
       " 'docter',\n",
       " 'tic',\n",
       " 'consecutive',\n",
       " 'psychosomatic',\n",
       " 'confusingly',\n",
       " 'sanitizer',\n",
       " 'drank',\n",
       " 'convey',\n",
       " 'thunder',\n",
       " 'dl',\n",
       " 'salivary',\n",
       " 'polynodial',\n",
       " 'stuffy',\n",
       " 'dose',\n",
       " 'roller',\n",
       " 'hypothyroid',\n",
       " 'joked',\n",
       " 'guttural',\n",
       " 'tongue',\n",
       " 'diver',\n",
       " 'eatery',\n",
       " 'kidney',\n",
       " 'caped',\n",
       " 'pmr',\n",
       " 'zoplicone',\n",
       " 'ptsd-attack',\n",
       " 'doom',\n",
       " 'treasure',\n",
       " 'dump',\n",
       " 'covert',\n",
       " 'thistle',\n",
       " 'withdraw',\n",
       " 'drift',\n",
       " 'mg',\n",
       " 'vaping',\n",
       " 'bleeding',\n",
       " 'healed',\n",
       " 'intermittent',\n",
       " 'post-traumatic-something',\n",
       " 'resume',\n",
       " 'boom',\n",
       " 'regretful',\n",
       " 'licensed',\n",
       " 'unsettling',\n",
       " 'observation',\n",
       " 'dndndmaks',\n",
       " 'identifying',\n",
       " 'mcas',\n",
       " 'length',\n",
       " 'tysm',\n",
       " 'depakote',\n",
       " 'ptsd-associated',\n",
       " 'bliss',\n",
       " 'rung',\n",
       " 'downturn',\n",
       " 'detailing',\n",
       " 'relating',\n",
       " 'eager',\n",
       " 'fuled',\n",
       " 'supplement',\n",
       " 'browser',\n",
       " 'howl',\n",
       " 'penpal',\n",
       " 'stock',\n",
       " 'asthma',\n",
       " 'getbetter',\n",
       " 'chaos',\n",
       " 'jewel',\n",
       " 'duvet',\n",
       " 'cough',\n",
       " 'recognizing',\n",
       " 'pathology',\n",
       " 'prosasen',\n",
       " 'subway',\n",
       " 'expierenced',\n",
       " 'fresh',\n",
       " 'bargaining',\n",
       " 'puncher',\n",
       " 'carsick',\n",
       " 'mexico',\n",
       " 'smash',\n",
       " 'answered',\n",
       " 'sert',\n",
       " 'dysmorphia',\n",
       " 'steroid',\n",
       " 'hurl',\n",
       " 'assailant',\n",
       " 'school-library-home',\n",
       " 'buzzing',\n",
       " 'slower',\n",
       " 'flexed',\n",
       " 'syrup',\n",
       " 'suffocation',\n",
       " 'shithole',\n",
       " 'stretching',\n",
       " 'turnt',\n",
       " 'enraged',\n",
       " 'msged',\n",
       " 'varying',\n",
       " 'kicking',\n",
       " 'clatter',\n",
       " 'advocate',\n",
       " 'explosive',\n",
       " 'struggeling',\n",
       " 'positivity',\n",
       " 'dishpit',\n",
       " 'subsides',\n",
       " 'preparing',\n",
       " 'drowsiness',\n",
       " 'happenstance',\n",
       " 'applying',\n",
       " 'prodding',\n",
       " 'wink',\n",
       " 'tiniest',\n",
       " 'repost',\n",
       " 'laura',\n",
       " 'benadryl',\n",
       " 'assigned',\n",
       " 'notification',\n",
       " 'heightened',\n",
       " 'dominant',\n",
       " 'morgue',\n",
       " 'unemployed',\n",
       " 'provided',\n",
       " 'stupider',\n",
       " 'specified',\n",
       " 'snore',\n",
       " 'substantial',\n",
       " 'onset',\n",
       " 'amazng',\n",
       " 'all-',\n",
       " 'underneath',\n",
       " 'frequency',\n",
       " 'poking',\n",
       " 'halo',\n",
       " 'differentiate',\n",
       " 'seeded',\n",
       " 'feeler',\n",
       " 'overdosed',\n",
       " 'christ',\n",
       " 'pumping',\n",
       " 'cuteness',\n",
       " 'fragile',\n",
       " 'iud',\n",
       " 'inital',\n",
       " 'foreboding',\n",
       " 'world-ripping',\n",
       " 'refer',\n",
       " 'radius',\n",
       " 'percentage',\n",
       " 'moreover',\n",
       " 'obliterated',\n",
       " 'overanxious',\n",
       " 'urologist',\n",
       " 'retaliation',\n",
       " 'butter',\n",
       " 'duh',\n",
       " 'stardew',\n",
       " 'agony',\n",
       " 'aggression',\n",
       " 'supposedly',\n",
       " 'donating',\n",
       " 'bout',\n",
       " 'burdensome',\n",
       " 'algorithm',\n",
       " 'ptsd',\n",
       " 'qualified',\n",
       " 'filter',\n",
       " 'tackling',\n",
       " 'retardation',\n",
       " 'belly',\n",
       " 'hellstorm',\n",
       " 'co-create',\n",
       " 'getbetter-ui',\n",
       " 'escaping',\n",
       " 'flower',\n",
       " 'cab',\n",
       " 'dent',\n",
       " 'lent',\n",
       " 'chocked',\n",
       " 'compartmentalization',\n",
       " 'pneumonia',\n",
       " 'fatique',\n",
       " 'six-figure',\n",
       " 'chef',\n",
       " 'improvement',\n",
       " 'yogurt',\n",
       " 'happened-',\n",
       " 'soft',\n",
       " 'syndrome',\n",
       " 'intensely',\n",
       " 'texture',\n",
       " 'worthy',\n",
       " 'bin',\n",
       " 'ct',\n",
       " 'coiled',\n",
       " 'motion',\n",
       " 'north',\n",
       " 'enhance',\n",
       " 'drip',\n",
       " 'ur',\n",
       " 'employed',\n",
       " 'akathisia',\n",
       " 'cashier',\n",
       " 'classed',\n",
       " 'aria',\n",
       " 'nasty',\n",
       " 'ukraine',\n",
       " 'havr',\n",
       " 'safest',\n",
       " 'worn',\n",
       " 'sedentary',\n",
       " 'suit',\n",
       " 'plummeted',\n",
       " 'hypochondriac',\n",
       " 'happy-everything-is',\n",
       " 'mainland',\n",
       " 'lemon',\n",
       " 'balling',\n",
       " 'aching',\n",
       " 'hyper-aware',\n",
       " 'til',\n",
       " 'depersonalization-derealization',\n",
       " 'carefree',\n",
       " 'envious',\n",
       " 'aspartame',\n",
       " 'dumpster',\n",
       " 'discharged',\n",
       " 'disclose',\n",
       " 'autonomic',\n",
       " 'quells',\n",
       " 'heartbeat',\n",
       " 'dec',\n",
       " 'willpower',\n",
       " 'ibd',\n",
       " 'pregnancy',\n",
       " 'succeeding',\n",
       " 'timid',\n",
       " 'catharsis',\n",
       " 'disciplined',\n",
       " 'proximity',\n",
       " 'ventilator',\n",
       " 'feeleng',\n",
       " '-static',\n",
       " 'australia',\n",
       " 'haze',\n",
       " 'suppose',\n",
       " 'compounded',\n",
       " 'dyslexia',\n",
       " 're-confronting',\n",
       " 'lapse',\n",
       " 'toothache',\n",
       " 'charming',\n",
       " 'begining',\n",
       " 'insensitive',\n",
       " 'wolfing',\n",
       " 'lightness',\n",
       " 'lasting',\n",
       " 'trampoline',\n",
       " 'pit',\n",
       " 'magnesium',\n",
       " 'prep',\n",
       " 'naturopath',\n",
       " 'gulp',\n",
       " 'defensiveness',\n",
       " 'dysregulation',\n",
       " 'upwards',\n",
       " 'myopathy',\n",
       " 'biology',\n",
       " 'apple',\n",
       " 'tensing',\n",
       " 'norway',\n",
       " 'ambulance',\n",
       " 'endometriosis',\n",
       " 'playlist',\n",
       " 'incoming',\n",
       " 'shutdown',\n",
       " 'standardized',\n",
       " 'anesthesia',\n",
       " 'excessive',\n",
       " 'packed',\n",
       " 'everlasting',\n",
       " 'seated',\n",
       " 'tremor',\n",
       " 'vicinity',\n",
       " 'surest',\n",
       " 'medic',\n",
       " 'behavioral',\n",
       " 'flaunting',\n",
       " 'googling',\n",
       " 'parkinson',\n",
       " 'bitcoin',\n",
       " 'pod',\n",
       " 'cheapest',\n",
       " 'outlet',\n",
       " 'daze',\n",
       " 'remains',\n",
       " 'herbal',\n",
       " 'weighs',\n",
       " 'momstarted',\n",
       " 'prescribe',\n",
       " 'nausea',\n",
       " 'issued',\n",
       " 'valuable',\n",
       " 'terror',\n",
       " 'enjoyable',\n",
       " 'quicker',\n",
       " 'scalp',\n",
       " 'settle',\n",
       " 'ref',\n",
       " 'vitals',\n",
       " 'outskirt',\n",
       " 'intellectual',\n",
       " '-htp',\n",
       " 'stretch',\n",
       " 'dosage',\n",
       " 'expirences',\n",
       " 'tmj',\n",
       " 'cardiology',\n",
       " 'invalidated',\n",
       " 'vis-a-vis',\n",
       " 'surreal',\n",
       " 'malaysia',\n",
       " 'maine',\n",
       " 'landed',\n",
       " 'deli',\n",
       " 'ultra',\n",
       " 'foggy',\n",
       " 'myth',\n",
       " 'mdma',\n",
       " 'screenuse',\n",
       " 'that-',\n",
       " 'strain',\n",
       " 'perspiration',\n",
       " 'welp',\n",
       " 'musician',\n",
       " 'lump',\n",
       " 'helpless',\n",
       " 'resulted',\n",
       " 'workload',\n",
       " 'sunshine',\n",
       " 'whose',\n",
       " 't',\n",
       " 'shape',\n",
       " 'mindfulness',\n",
       " 'easing',\n",
       " 'mr',\n",
       " 'mattered',\n",
       " 'paralyzed',\n",
       " 'sweetheart',\n",
       " 'conference',\n",
       " 'russia',\n",
       " 'unmanageable',\n",
       " 'ipad',\n",
       " 'beacuse',\n",
       " 'doc',\n",
       " 'wayyy',\n",
       " 'frustrates',\n",
       " 'shitshow',\n",
       " 'wee',\n",
       " 'vns',\n",
       " 'overwhelms',\n",
       " 'filed',\n",
       " 'nan',\n",
       " 'greener',\n",
       " 'stupidest',\n",
       " 'horrid',\n",
       " 'lobg',\n",
       " 'biolife',\n",
       " 'pointed',\n",
       " 'flinched',\n",
       " 'siiiiiick',\n",
       " 'kool',\n",
       " 'paracetamol',\n",
       " 'president',\n",
       " 'dropping',\n",
       " 'published',\n",
       " 'attach',\n",
       " 'newborn',\n",
       " 'plasma',\n",
       " 'hesitate',\n",
       " 'loft',\n",
       " 'chewed',\n",
       " 'comin',\n",
       " 'ack',\n",
       " 'iron',\n",
       " 'ahold',\n",
       " 'rang',\n",
       " 'host',\n",
       " 'pad',\n",
       " '-wavy',\n",
       " 'telehelath',\n",
       " 'iop',\n",
       " 'minneapolis',\n",
       " 'saturated',\n",
       " 'curt',\n",
       " 'completelty',\n",
       " 'totaly',\n",
       " 'numbs',\n",
       " 'tingly',\n",
       " 'normalcy',\n",
       " 'flooding',\n",
       " 'inminent',\n",
       " 'lighthearted',\n",
       " 'malay',\n",
       " 'herded',\n",
       " 'clonazepam',\n",
       " 'blur',\n",
       " 'adrenoreceptors',\n",
       " 'reject',\n",
       " 'visualization',\n",
       " 'irritate',\n",
       " 'truthful',\n",
       " 'resend',\n",
       " 'schoolwork',\n",
       " 'roofied',\n",
       " 'cryed',\n",
       " 'arch',\n",
       " ...]"
      ]
     },
     "execution_count": 236,
     "metadata": {},
     "output_type": "execute_result"
    }
   ],
   "source": [
    "[word for word in unique_in_false_neg if word not in unique_in_false_pos]"
   ]
  },
  {
   "cell_type": "code",
   "execution_count": 224,
   "metadata": {},
   "outputs": [
    {
     "data": {
      "text/plain": [
       "(12, 8)"
      ]
     },
     "execution_count": 224,
     "metadata": {},
     "output_type": "execute_result"
    }
   ],
   "source": [
    "false_neg[false_neg['user_contribute_where'] == 'both'].shape"
   ]
  },
  {
   "cell_type": "code",
   "execution_count": 225,
   "metadata": {},
   "outputs": [
    {
     "data": {
      "text/plain": [
       "(395, 8)"
      ]
     },
     "execution_count": 225,
     "metadata": {},
     "output_type": "execute_result"
    }
   ],
   "source": [
    "false_neg.shape"
   ]
  },
  {
   "cell_type": "code",
   "execution_count": 226,
   "metadata": {},
   "outputs": [
    {
     "data": {
      "text/plain": [
       "array(['_spaceguy-_-', 'asscrackhairs', 'schoolgrrl', 'Lilyflamingo1109',\n",
       "       'Laurel2000SGX', 'sanpedro12', 'TakeYourVitamin', 'kyluvxo',\n",
       "       'Suspicious_Tune7611'], dtype=object)"
      ]
     },
     "execution_count": 226,
     "metadata": {},
     "output_type": "execute_result"
    }
   ],
   "source": [
    "false_neg[false_neg['user_contribute_where'] == 'both']['author'].unique()"
   ]
  },
  {
   "cell_type": "code",
   "execution_count": 189,
   "metadata": {},
   "outputs": [
    {
     "data": {
      "image/png": "[encoded data removed]",
      "text/plain": [
       "<Figure size 432x288 with 1 Axes>"
      ]
     },
     "metadata": {
      "needs_background": "light"
     },
     "output_type": "display_data"
    }
   ],
   "source": [
    "### Get common words from post above \n",
    "\n",
    "# instantiate column and target\n",
    "X_ptsd = y_test_pred_df['lemmi_clean_text']\n",
    "y_ptsd = y_test_pred_df['y']\n",
    "\n",
    "# Instanstiate CountVectorizer()\n",
    "cvec_1 = CountVectorizer()\n",
    "cvec_1.fit(X_ptsd,y_ptsd)\n",
    "X_ptsd = cvec_1.transform(X_ptsd)\n",
    "\n",
    "# create dataframe for ptsd and anxiety\n",
    "X_ptsd_df = pd.DataFrame(X_ptsd.todense(), \n",
    "                          columns=cvec_1.get_feature_names_out())\n",
    "\n",
    "X_ptsd_df.sum().sort_values(ascending=False).head(20).plot(kind='barh');   \n"
   ]
  },
  {
   "cell_type": "code",
   "execution_count": 149,
   "metadata": {},
   "outputs": [
    {
     "data": {
      "image/png": "[encoded data removed]",
      "text/plain": [
       "<Figure size 432x288 with 1 Axes>"
      ]
     },
     "metadata": {
      "needs_background": "light"
     },
     "output_type": "display_data"
    }
   ],
   "source": [
    "# instantiate column and target\n",
    "X_ptsd_trigram = y_test_pred_df['lemmi_clean_text']\n",
    "y_ptsd_trigram = y_test_pred_df['y']\n",
    "# Instanstiate CountVectorizer()\n",
    "tvec = TfidfVectorizer(ngram_range=(2,2))\n",
    "\n",
    "tvec.fit(X_ptsd_trigram,y_ptsd_trigram)\n",
    "X_ptsd_trigram = tvec.transform(X_ptsd_trigram)\n",
    "\n",
    "# create dataframe for ptsd and ptsd\n",
    "X_ptsd_trigram_df = pd.DataFrame(X_ptsd_trigram.todense(), \n",
    "                          columns=tvec.get_feature_names_out())\n",
    "\n",
    "X_ptsd_trigram_df.sum().sort_values(ascending=False).head(15).plot(kind='barh');     "
   ]
  },
  {
   "cell_type": "code",
   "execution_count": 150,
   "metadata": {},
   "outputs": [
    {
     "data": {
      "image/png": "[encoded data removed]",
      "text/plain": [
       "<Figure size 432x288 with 1 Axes>"
      ]
     },
     "metadata": {
      "needs_background": "light"
     },
     "output_type": "display_data"
    }
   ],
   "source": [
    "# instantiate column and target\n",
    "X_ptsd_trigram = y_test_pred_df['lemmi_clean_text']\n",
    "y_ptsd_trigram = y_test_pred_df['y']\n",
    "# Instanstiate CountVectorizer()\n",
    "tvec = TfidfVectorizer(ngram_range=(3,3))\n",
    "\n",
    "tvec.fit(X_ptsd_trigram,y_ptsd_trigram)\n",
    "X_ptsd_trigram = tvec.transform(X_ptsd_trigram)\n",
    "\n",
    "# create dataframe for ptsd and ptsd\n",
    "X_ptsd_trigram_df = pd.DataFrame(X_ptsd_trigram.todense(), \n",
    "                          columns=tvec.get_feature_names_out())\n",
    "\n",
    "X_ptsd_trigram_df.sum().sort_values(ascending=False).head(15).plot(kind='barh');     "
   ]
  },
  {
   "cell_type": "code",
   "execution_count": 151,
   "metadata": {},
   "outputs": [
    {
     "ename": "KeyboardInterrupt",
     "evalue": "",
     "output_type": "error",
     "traceback": [
      "\u001b[1;31m---------------------------------------------------------------------------\u001b[0m",
      "\u001b[1;31mKeyboardInterrupt\u001b[0m                         Traceback (most recent call last)",
      "\u001b[1;32mc:\\Users\\Admin\\Desktop\\Github Desktop Local\\GA-Lessons\\project_3\\Codes\\Classification Modelling.ipynb Cell 91'\u001b[0m in \u001b[0;36m<cell line: 9>\u001b[1;34m()\u001b[0m\n\u001b[0;32m      <a href='vscode-notebook-cell:/c%3A/Users/Admin/Desktop/Github%20Desktop%20Local/GA-Lessons/project_3/Codes/Classification%20Modelling.ipynb#ch0000090?line=7'>8</a>\u001b[0m Sensitivity \u001b[39m=\u001b[39m []\n\u001b[0;32m      <a href='vscode-notebook-cell:/c%3A/Users/Admin/Desktop/Github%20Desktop%20Local/GA-Lessons/project_3/Codes/Classification%20Modelling.ipynb#ch0000090?line=8'>9</a>\u001b[0m \u001b[39mfor\u001b[39;00m threshold \u001b[39min\u001b[39;00m threshold_list:\n\u001b[1;32m---> <a href='vscode-notebook-cell:/c%3A/Users/Admin/Desktop/Github%20Desktop%20Local/GA-Lessons/project_3/Codes/Classification%20Modelling.ipynb#ch0000090?line=9'>10</a>\u001b[0m     preds \u001b[39m=\u001b[39m get_predictions(gs_pipe3\u001b[39m.\u001b[39;49mpredict_proba(X_test)[:,\u001b[39m1\u001b[39m], threshold)\n\u001b[0;32m     <a href='vscode-notebook-cell:/c%3A/Users/Admin/Desktop/Github%20Desktop%20Local/GA-Lessons/project_3/Codes/Classification%20Modelling.ipynb#ch0000090?line=10'>11</a>\u001b[0m     acc \u001b[39m=\u001b[39m accuracy_score(y_test, preds)\n\u001b[0;32m     <a href='vscode-notebook-cell:/c%3A/Users/Admin/Desktop/Github%20Desktop%20Local/GA-Lessons/project_3/Codes/Classification%20Modelling.ipynb#ch0000090?line=11'>12</a>\u001b[0m     tn, fp, fn, tp \u001b[39m=\u001b[39m confusion_matrix(y_test, preds)\u001b[39m.\u001b[39mravel();\n",
      "File \u001b[1;32m~\\.conda\\envs\\myenv\\lib\\site-packages\\sklearn\\utils\\metaestimators.py:113\u001b[0m, in \u001b[0;36m_AvailableIfDescriptor.__get__.<locals>.<lambda>\u001b[1;34m(*args, **kwargs)\u001b[0m\n\u001b[0;32m    <a href='file:///c%3A/Users/Admin/.conda/envs/myenv/lib/site-packages/sklearn/utils/metaestimators.py?line=109'>110</a>\u001b[0m         \u001b[39mraise\u001b[39;00m attr_err\n\u001b[0;32m    <a href='file:///c%3A/Users/Admin/.conda/envs/myenv/lib/site-packages/sklearn/utils/metaestimators.py?line=111'>112</a>\u001b[0m     \u001b[39m# lambda, but not partial, allows help() to work with update_wrapper\u001b[39;00m\n\u001b[1;32m--> <a href='file:///c%3A/Users/Admin/.conda/envs/myenv/lib/site-packages/sklearn/utils/metaestimators.py?line=112'>113</a>\u001b[0m     out \u001b[39m=\u001b[39m \u001b[39mlambda\u001b[39;00m \u001b[39m*\u001b[39margs, \u001b[39m*\u001b[39m\u001b[39m*\u001b[39mkwargs: \u001b[39mself\u001b[39m\u001b[39m.\u001b[39mfn(obj, \u001b[39m*\u001b[39margs, \u001b[39m*\u001b[39m\u001b[39m*\u001b[39mkwargs)  \u001b[39m# noqa\u001b[39;00m\n\u001b[0;32m    <a href='file:///c%3A/Users/Admin/.conda/envs/myenv/lib/site-packages/sklearn/utils/metaestimators.py?line=113'>114</a>\u001b[0m \u001b[39melse\u001b[39;00m:\n\u001b[0;32m    <a href='file:///c%3A/Users/Admin/.conda/envs/myenv/lib/site-packages/sklearn/utils/metaestimators.py?line=115'>116</a>\u001b[0m     \u001b[39mdef\u001b[39;00m \u001b[39mfn\u001b[39m(\u001b[39m*\u001b[39margs, \u001b[39m*\u001b[39m\u001b[39m*\u001b[39mkwargs):\n",
      "File \u001b[1;32m~\\.conda\\envs\\myenv\\lib\\site-packages\\sklearn\\model_selection\\_search.py:544\u001b[0m, in \u001b[0;36mBaseSearchCV.predict_proba\u001b[1;34m(self, X)\u001b[0m\n\u001b[0;32m    <a href='file:///c%3A/Users/Admin/.conda/envs/myenv/lib/site-packages/sklearn/model_selection/_search.py?line=524'>525</a>\u001b[0m \u001b[39m\"\"\"Call predict_proba on the estimator with the best found parameters.\u001b[39;00m\n\u001b[0;32m    <a href='file:///c%3A/Users/Admin/.conda/envs/myenv/lib/site-packages/sklearn/model_selection/_search.py?line=525'>526</a>\u001b[0m \n\u001b[0;32m    <a href='file:///c%3A/Users/Admin/.conda/envs/myenv/lib/site-packages/sklearn/model_selection/_search.py?line=526'>527</a>\u001b[0m \u001b[39mOnly available if ``refit=True`` and the underlying estimator supports\u001b[39;00m\n\u001b[1;32m   (...)\u001b[0m\n\u001b[0;32m    <a href='file:///c%3A/Users/Admin/.conda/envs/myenv/lib/site-packages/sklearn/model_selection/_search.py?line=540'>541</a>\u001b[0m \u001b[39m    to that in the fitted attribute :term:`classes_`.\u001b[39;00m\n\u001b[0;32m    <a href='file:///c%3A/Users/Admin/.conda/envs/myenv/lib/site-packages/sklearn/model_selection/_search.py?line=541'>542</a>\u001b[0m \u001b[39m\"\"\"\u001b[39;00m\n\u001b[0;32m    <a href='file:///c%3A/Users/Admin/.conda/envs/myenv/lib/site-packages/sklearn/model_selection/_search.py?line=542'>543</a>\u001b[0m check_is_fitted(\u001b[39mself\u001b[39m)\n\u001b[1;32m--> <a href='file:///c%3A/Users/Admin/.conda/envs/myenv/lib/site-packages/sklearn/model_selection/_search.py?line=543'>544</a>\u001b[0m \u001b[39mreturn\u001b[39;00m \u001b[39mself\u001b[39;49m\u001b[39m.\u001b[39;49mbest_estimator_\u001b[39m.\u001b[39;49mpredict_proba(X)\n",
      "File \u001b[1;32m~\\.conda\\envs\\myenv\\lib\\site-packages\\sklearn\\utils\\metaestimators.py:113\u001b[0m, in \u001b[0;36m_AvailableIfDescriptor.__get__.<locals>.<lambda>\u001b[1;34m(*args, **kwargs)\u001b[0m\n\u001b[0;32m    <a href='file:///c%3A/Users/Admin/.conda/envs/myenv/lib/site-packages/sklearn/utils/metaestimators.py?line=109'>110</a>\u001b[0m         \u001b[39mraise\u001b[39;00m attr_err\n\u001b[0;32m    <a href='file:///c%3A/Users/Admin/.conda/envs/myenv/lib/site-packages/sklearn/utils/metaestimators.py?line=111'>112</a>\u001b[0m     \u001b[39m# lambda, but not partial, allows help() to work with update_wrapper\u001b[39;00m\n\u001b[1;32m--> <a href='file:///c%3A/Users/Admin/.conda/envs/myenv/lib/site-packages/sklearn/utils/metaestimators.py?line=112'>113</a>\u001b[0m     out \u001b[39m=\u001b[39m \u001b[39mlambda\u001b[39;00m \u001b[39m*\u001b[39margs, \u001b[39m*\u001b[39m\u001b[39m*\u001b[39mkwargs: \u001b[39mself\u001b[39m\u001b[39m.\u001b[39mfn(obj, \u001b[39m*\u001b[39margs, \u001b[39m*\u001b[39m\u001b[39m*\u001b[39mkwargs)  \u001b[39m# noqa\u001b[39;00m\n\u001b[0;32m    <a href='file:///c%3A/Users/Admin/.conda/envs/myenv/lib/site-packages/sklearn/utils/metaestimators.py?line=113'>114</a>\u001b[0m \u001b[39melse\u001b[39;00m:\n\u001b[0;32m    <a href='file:///c%3A/Users/Admin/.conda/envs/myenv/lib/site-packages/sklearn/utils/metaestimators.py?line=115'>116</a>\u001b[0m     \u001b[39mdef\u001b[39;00m \u001b[39mfn\u001b[39m(\u001b[39m*\u001b[39margs, \u001b[39m*\u001b[39m\u001b[39m*\u001b[39mkwargs):\n",
      "File \u001b[1;32m~\\.conda\\envs\\myenv\\lib\\site-packages\\sklearn\\pipeline.py:535\u001b[0m, in \u001b[0;36mPipeline.predict_proba\u001b[1;34m(self, X, **predict_proba_params)\u001b[0m\n\u001b[0;32m    <a href='file:///c%3A/Users/Admin/.conda/envs/myenv/lib/site-packages/sklearn/pipeline.py?line=532'>533</a>\u001b[0m Xt \u001b[39m=\u001b[39m X\n\u001b[0;32m    <a href='file:///c%3A/Users/Admin/.conda/envs/myenv/lib/site-packages/sklearn/pipeline.py?line=533'>534</a>\u001b[0m \u001b[39mfor\u001b[39;00m _, name, transform \u001b[39min\u001b[39;00m \u001b[39mself\u001b[39m\u001b[39m.\u001b[39m_iter(with_final\u001b[39m=\u001b[39m\u001b[39mFalse\u001b[39;00m):\n\u001b[1;32m--> <a href='file:///c%3A/Users/Admin/.conda/envs/myenv/lib/site-packages/sklearn/pipeline.py?line=534'>535</a>\u001b[0m     Xt \u001b[39m=\u001b[39m transform\u001b[39m.\u001b[39;49mtransform(Xt)\n\u001b[0;32m    <a href='file:///c%3A/Users/Admin/.conda/envs/myenv/lib/site-packages/sklearn/pipeline.py?line=535'>536</a>\u001b[0m \u001b[39mreturn\u001b[39;00m \u001b[39mself\u001b[39m\u001b[39m.\u001b[39msteps[\u001b[39m-\u001b[39m\u001b[39m1\u001b[39m][\u001b[39m1\u001b[39m]\u001b[39m.\u001b[39mpredict_proba(Xt, \u001b[39m*\u001b[39m\u001b[39m*\u001b[39mpredict_proba_params)\n",
      "File \u001b[1;32m~\\.conda\\envs\\myenv\\lib\\site-packages\\sklearn\\feature_extraction\\text.py:2101\u001b[0m, in \u001b[0;36mTfidfVectorizer.transform\u001b[1;34m(self, raw_documents)\u001b[0m\n\u001b[0;32m   <a href='file:///c%3A/Users/Admin/.conda/envs/myenv/lib/site-packages/sklearn/feature_extraction/text.py?line=2083'>2084</a>\u001b[0m \u001b[39m\"\"\"Transform documents to document-term matrix.\u001b[39;00m\n\u001b[0;32m   <a href='file:///c%3A/Users/Admin/.conda/envs/myenv/lib/site-packages/sklearn/feature_extraction/text.py?line=2084'>2085</a>\u001b[0m \n\u001b[0;32m   <a href='file:///c%3A/Users/Admin/.conda/envs/myenv/lib/site-packages/sklearn/feature_extraction/text.py?line=2085'>2086</a>\u001b[0m \u001b[39mUses the vocabulary and document frequencies (df) learned by fit (or\u001b[39;00m\n\u001b[1;32m   (...)\u001b[0m\n\u001b[0;32m   <a href='file:///c%3A/Users/Admin/.conda/envs/myenv/lib/site-packages/sklearn/feature_extraction/text.py?line=2096'>2097</a>\u001b[0m \u001b[39m    Tf-idf-weighted document-term matrix.\u001b[39;00m\n\u001b[0;32m   <a href='file:///c%3A/Users/Admin/.conda/envs/myenv/lib/site-packages/sklearn/feature_extraction/text.py?line=2097'>2098</a>\u001b[0m \u001b[39m\"\"\"\u001b[39;00m\n\u001b[0;32m   <a href='file:///c%3A/Users/Admin/.conda/envs/myenv/lib/site-packages/sklearn/feature_extraction/text.py?line=2098'>2099</a>\u001b[0m check_is_fitted(\u001b[39mself\u001b[39m, msg\u001b[39m=\u001b[39m\u001b[39m\"\u001b[39m\u001b[39mThe TF-IDF vectorizer is not fitted\u001b[39m\u001b[39m\"\u001b[39m)\n\u001b[1;32m-> <a href='file:///c%3A/Users/Admin/.conda/envs/myenv/lib/site-packages/sklearn/feature_extraction/text.py?line=2100'>2101</a>\u001b[0m X \u001b[39m=\u001b[39m \u001b[39msuper\u001b[39;49m()\u001b[39m.\u001b[39;49mtransform(raw_documents)\n\u001b[0;32m   <a href='file:///c%3A/Users/Admin/.conda/envs/myenv/lib/site-packages/sklearn/feature_extraction/text.py?line=2101'>2102</a>\u001b[0m \u001b[39mreturn\u001b[39;00m \u001b[39mself\u001b[39m\u001b[39m.\u001b[39m_tfidf\u001b[39m.\u001b[39mtransform(X, copy\u001b[39m=\u001b[39m\u001b[39mFalse\u001b[39;00m)\n",
      "File \u001b[1;32m~\\.conda\\envs\\myenv\\lib\\site-packages\\sklearn\\feature_extraction\\text.py:1379\u001b[0m, in \u001b[0;36mCountVectorizer.transform\u001b[1;34m(self, raw_documents)\u001b[0m\n\u001b[0;32m   <a href='file:///c%3A/Users/Admin/.conda/envs/myenv/lib/site-packages/sklearn/feature_extraction/text.py?line=1375'>1376</a>\u001b[0m \u001b[39mself\u001b[39m\u001b[39m.\u001b[39m_check_vocabulary()\n\u001b[0;32m   <a href='file:///c%3A/Users/Admin/.conda/envs/myenv/lib/site-packages/sklearn/feature_extraction/text.py?line=1377'>1378</a>\u001b[0m \u001b[39m# use the same matrix-building strategy as fit_transform\u001b[39;00m\n\u001b[1;32m-> <a href='file:///c%3A/Users/Admin/.conda/envs/myenv/lib/site-packages/sklearn/feature_extraction/text.py?line=1378'>1379</a>\u001b[0m _, X \u001b[39m=\u001b[39m \u001b[39mself\u001b[39;49m\u001b[39m.\u001b[39;49m_count_vocab(raw_documents, fixed_vocab\u001b[39m=\u001b[39;49m\u001b[39mTrue\u001b[39;49;00m)\n\u001b[0;32m   <a href='file:///c%3A/Users/Admin/.conda/envs/myenv/lib/site-packages/sklearn/feature_extraction/text.py?line=1379'>1380</a>\u001b[0m \u001b[39mif\u001b[39;00m \u001b[39mself\u001b[39m\u001b[39m.\u001b[39mbinary:\n\u001b[0;32m   <a href='file:///c%3A/Users/Admin/.conda/envs/myenv/lib/site-packages/sklearn/feature_extraction/text.py?line=1380'>1381</a>\u001b[0m     X\u001b[39m.\u001b[39mdata\u001b[39m.\u001b[39mfill(\u001b[39m1\u001b[39m)\n",
      "File \u001b[1;32m~\\.conda\\envs\\myenv\\lib\\site-packages\\sklearn\\feature_extraction\\text.py:1201\u001b[0m, in \u001b[0;36mCountVectorizer._count_vocab\u001b[1;34m(self, raw_documents, fixed_vocab)\u001b[0m\n\u001b[0;32m   <a href='file:///c%3A/Users/Admin/.conda/envs/myenv/lib/site-packages/sklearn/feature_extraction/text.py?line=1198'>1199</a>\u001b[0m \u001b[39mfor\u001b[39;00m doc \u001b[39min\u001b[39;00m raw_documents:\n\u001b[0;32m   <a href='file:///c%3A/Users/Admin/.conda/envs/myenv/lib/site-packages/sklearn/feature_extraction/text.py?line=1199'>1200</a>\u001b[0m     feature_counter \u001b[39m=\u001b[39m {}\n\u001b[1;32m-> <a href='file:///c%3A/Users/Admin/.conda/envs/myenv/lib/site-packages/sklearn/feature_extraction/text.py?line=1200'>1201</a>\u001b[0m     \u001b[39mfor\u001b[39;00m feature \u001b[39min\u001b[39;00m analyze(doc):\n\u001b[0;32m   <a href='file:///c%3A/Users/Admin/.conda/envs/myenv/lib/site-packages/sklearn/feature_extraction/text.py?line=1201'>1202</a>\u001b[0m         \u001b[39mtry\u001b[39;00m:\n\u001b[0;32m   <a href='file:///c%3A/Users/Admin/.conda/envs/myenv/lib/site-packages/sklearn/feature_extraction/text.py?line=1202'>1203</a>\u001b[0m             feature_idx \u001b[39m=\u001b[39m vocabulary[feature]\n",
      "File \u001b[1;32m~\\.conda\\envs\\myenv\\lib\\site-packages\\sklearn\\feature_extraction\\text.py:118\u001b[0m, in \u001b[0;36m_analyze\u001b[1;34m(doc, analyzer, tokenizer, ngrams, preprocessor, decoder, stop_words)\u001b[0m\n\u001b[0;32m    <a href='file:///c%3A/Users/Admin/.conda/envs/myenv/lib/site-packages/sklearn/feature_extraction/text.py?line=115'>116</a>\u001b[0m \u001b[39mif\u001b[39;00m ngrams \u001b[39mis\u001b[39;00m \u001b[39mnot\u001b[39;00m \u001b[39mNone\u001b[39;00m:\n\u001b[0;32m    <a href='file:///c%3A/Users/Admin/.conda/envs/myenv/lib/site-packages/sklearn/feature_extraction/text.py?line=116'>117</a>\u001b[0m     \u001b[39mif\u001b[39;00m stop_words \u001b[39mis\u001b[39;00m \u001b[39mnot\u001b[39;00m \u001b[39mNone\u001b[39;00m:\n\u001b[1;32m--> <a href='file:///c%3A/Users/Admin/.conda/envs/myenv/lib/site-packages/sklearn/feature_extraction/text.py?line=117'>118</a>\u001b[0m         doc \u001b[39m=\u001b[39m ngrams(doc, stop_words)\n\u001b[0;32m    <a href='file:///c%3A/Users/Admin/.conda/envs/myenv/lib/site-packages/sklearn/feature_extraction/text.py?line=118'>119</a>\u001b[0m     \u001b[39melse\u001b[39;00m:\n\u001b[0;32m    <a href='file:///c%3A/Users/Admin/.conda/envs/myenv/lib/site-packages/sklearn/feature_extraction/text.py?line=119'>120</a>\u001b[0m         doc \u001b[39m=\u001b[39m ngrams(doc)\n",
      "File \u001b[1;32m~\\.conda\\envs\\myenv\\lib\\site-packages\\sklearn\\feature_extraction\\text.py:232\u001b[0m, in \u001b[0;36m_VectorizerMixin._word_ngrams\u001b[1;34m(self, tokens, stop_words)\u001b[0m\n\u001b[0;32m    <a href='file:///c%3A/Users/Admin/.conda/envs/myenv/lib/site-packages/sklearn/feature_extraction/text.py?line=225'>226</a>\u001b[0m         \u001b[39mraise\u001b[39;00m \u001b[39mValueError\u001b[39;00m(\n\u001b[0;32m    <a href='file:///c%3A/Users/Admin/.conda/envs/myenv/lib/site-packages/sklearn/feature_extraction/text.py?line=226'>227</a>\u001b[0m             \u001b[39m\"\u001b[39m\u001b[39mnp.nan is an invalid document, expected byte or unicode string.\u001b[39m\u001b[39m\"\u001b[39m\n\u001b[0;32m    <a href='file:///c%3A/Users/Admin/.conda/envs/myenv/lib/site-packages/sklearn/feature_extraction/text.py?line=227'>228</a>\u001b[0m         )\n\u001b[0;32m    <a href='file:///c%3A/Users/Admin/.conda/envs/myenv/lib/site-packages/sklearn/feature_extraction/text.py?line=229'>230</a>\u001b[0m     \u001b[39mreturn\u001b[39;00m doc\n\u001b[1;32m--> <a href='file:///c%3A/Users/Admin/.conda/envs/myenv/lib/site-packages/sklearn/feature_extraction/text.py?line=231'>232</a>\u001b[0m \u001b[39mdef\u001b[39;00m \u001b[39m_word_ngrams\u001b[39m(\u001b[39mself\u001b[39m, tokens, stop_words\u001b[39m=\u001b[39m\u001b[39mNone\u001b[39;00m):\n\u001b[0;32m    <a href='file:///c%3A/Users/Admin/.conda/envs/myenv/lib/site-packages/sklearn/feature_extraction/text.py?line=232'>233</a>\u001b[0m     \u001b[39m\"\"\"Turn tokens into a sequence of n-grams after stop words filtering\"\"\"\u001b[39;00m\n\u001b[0;32m    <a href='file:///c%3A/Users/Admin/.conda/envs/myenv/lib/site-packages/sklearn/feature_extraction/text.py?line=233'>234</a>\u001b[0m     \u001b[39m# handle stop words\u001b[39;00m\n",
      "\u001b[1;31mKeyboardInterrupt\u001b[0m: "
     ]
    }
   ],
   "source": [
    "def get_predictions(probabilities, threshold):\n",
    "    return [0 if prob < threshold else 1 for prob in probabilities]\n",
    "\n",
    "threshold_list = np.linspace(0.49,0.51,100)\n",
    "\n",
    "class_prior_threshold = []\n",
    "Accuracy = []\n",
    "Sensitivity = []\n",
    "for threshold in threshold_list:\n",
    "    preds = get_predictions(gs_pipe3.predict_proba(X_test)[:,1], threshold)\n",
    "    acc = accuracy_score(y_test, preds)\n",
    "    tn, fp, fn, tp = confusion_matrix(y_test, preds).ravel();\n",
    "    sensi = tp / (tp + fn)\n",
    "    class_prior_threshold.append(threshold)\n",
    "    Accuracy.append(acc)\n",
    "    Sensitivity.append(sensi)"
   ]
  },
  {
   "cell_type": "markdown",
   "metadata": {},
   "source": [
    "We need to find possible thresholds that optimises both sensitivity and accuracy score. \n",
    "\n",
    "- Baseline score to beat is from gs_pipe3 (multinomialNB) = 0.8309\n",
    "- Baseline sensitivity score: 0.846"
   ]
  },
  {
   "cell_type": "code",
   "execution_count": null,
   "metadata": {},
   "outputs": [
    {
     "data": {
      "text/html": [
       "<div>\n",
       "<style scoped>\n",
       "    .dataframe tbody tr th:only-of-type {\n",
       "        vertical-align: middle;\n",
       "    }\n",
       "\n",
       "    .dataframe tbody tr th {\n",
       "        vertical-align: top;\n",
       "    }\n",
       "\n",
       "    .dataframe thead th {\n",
       "        text-align: right;\n",
       "    }\n",
       "</style>\n",
       "<table border=\"1\" class=\"dataframe\">\n",
       "  <thead>\n",
       "    <tr style=\"text-align: right;\">\n",
       "      <th></th>\n",
       "      <th>Threshold</th>\n",
       "      <th>Accuracy</th>\n",
       "      <th>Sensitivity</th>\n",
       "    </tr>\n",
       "  </thead>\n",
       "  <tbody>\n",
       "    <tr>\n",
       "      <th>17</th>\n",
       "      <td>0.493434</td>\n",
       "      <td>0.832509</td>\n",
       "      <td>0.855788</td>\n",
       "    </tr>\n",
       "    <tr>\n",
       "      <th>21</th>\n",
       "      <td>0.494242</td>\n",
       "      <td>0.832905</td>\n",
       "      <td>0.855393</td>\n",
       "    </tr>\n",
       "    <tr>\n",
       "      <th>20</th>\n",
       "      <td>0.494040</td>\n",
       "      <td>0.832707</td>\n",
       "      <td>0.855393</td>\n",
       "    </tr>\n",
       "    <tr>\n",
       "      <th>22</th>\n",
       "      <td>0.494444</td>\n",
       "      <td>0.832905</td>\n",
       "      <td>0.854998</td>\n",
       "    </tr>\n",
       "    <tr>\n",
       "      <th>23</th>\n",
       "      <td>0.494646</td>\n",
       "      <td>0.833300</td>\n",
       "      <td>0.854603</td>\n",
       "    </tr>\n",
       "  </tbody>\n",
       "</table>\n",
       "</div>"
      ],
      "text/plain": [
       "    Threshold  Accuracy  Sensitivity\n",
       "17   0.493434  0.832509     0.855788\n",
       "21   0.494242  0.832905     0.855393\n",
       "20   0.494040  0.832707     0.855393\n",
       "22   0.494444  0.832905     0.854998\n",
       "23   0.494646  0.833300     0.854603"
      ]
     },
     "execution_count": 64,
     "metadata": {},
     "output_type": "execute_result"
    }
   ],
   "source": [
    "class_prior_setter = pd.DataFrame([class_prior_threshold,Accuracy, Sensitivity]).T\n",
    "class_prior_setter.columns = ['Threshold', 'Accuracy', 'Sensitivity']\n",
    "\n",
    "preds = gs_pipe3.predict(X_test)\n",
    "tn, fp, fn, tp = confusion_matrix(y_test, preds).ravel();\n",
    "sensitivity = tp / (tp + fn)\n",
    "\n",
    "class_prior_setter[(class_prior_setter['Accuracy'] > gs_pipe3.best_score_) &\\\n",
    "     (class_prior_setter['Sensitivity'] > sensitivity)].sort_values(by = ['Sensitivity','Accuracy'],\\\n",
    "          ascending = [False,False]).head(5)\n"
   ]
  },
  {
   "cell_type": "markdown",
   "metadata": {},
   "source": [
    "### Remove duplicated users to remove ambiguity\n",
    "\n",
    "We filter off users that are active in both subreddits"
   ]
  },
  {
   "cell_type": "code",
   "execution_count": null,
   "metadata": {},
   "outputs": [
    {
     "name": "stdout",
     "output_type": "stream",
     "text": [
      "Number of rows removed: 352\n"
     ]
    }
   ],
   "source": [
    "# how many rows deleted \n",
    "before = df.shape[0]\n",
    "after = df[df['user_contribute_where']  != 'both'].shape[0]\n",
    "print(f'Number of rows removed: {before - after}')"
   ]
  },
  {
   "cell_type": "code",
   "execution_count": 438,
   "metadata": {},
   "outputs": [],
   "source": [
    "X_train_filtered = df[df['user_contribute_where']  != 'both']['lemmi_clean_text']\n",
    "y_train_filtered = df[df['user_contribute_where']  != 'both']['subreddit']"
   ]
  },
  {
   "cell_type": "code",
   "execution_count": 439,
   "metadata": {},
   "outputs": [],
   "source": [
    "# create stop word list \n",
    "stopwordlist = nltk.corpus.stopwords.words('english')\n",
    "\n",
    "# to input in subreddit headers so that we can exclude it for model\n",
    "headers = ['ptsd', 'anxiety',\"cptsd\", 'trauma','traumatized','traumas',\"posttraumatic\",'stress','disorder',\"traumatic\", 'www', 'https', 'mentalgrenade', 'com']\n",
    "for head in headers:\n",
    "    stopwordlist.append(head)\n",
    "\n",
    "# headers = stopword_add\n",
    "# for head in headers:\n",
    "#     stopwordlist.append(head)"
   ]
  },
  {
   "cell_type": "code",
   "execution_count": 454,
   "metadata": {},
   "outputs": [],
   "source": [
    "# create pipe3 for transformer: TfidfVectorizer and estimator using MultinomialNB\n",
    "\n",
    "pipe6 = Pipeline([('tfvec', TfidfVectorizer(stop_words= stopwordlist)),\n",
    "                  ('nb', MultinomialNB())\n",
    "                 ])"
   ]
  },
  {
   "cell_type": "code",
   "execution_count": 455,
   "metadata": {},
   "outputs": [],
   "source": [
    "# creating parameters for GridSearch SV using hyperparameters as shown below \n",
    "\n",
    "# pipe6_params = {'tfvec__max_features': [3500,4500,5500],\n",
    "#                 'tfvec__min_df': [0.001, 0.005, 0.01],\n",
    "#                 'tfvec__max_df': [0.7,0.75,0.8],\n",
    "#                 'tfvec__ngram_range': [(1,1)],\n",
    "#                 'nb__alpha' : [1.0e-10],\n",
    "#                 'nb__class_prior': [None, [0.496263,(1-0.496263)]]"
   ]
  },
  {
   "cell_type": "code",
   "execution_count": 456,
   "metadata": {},
   "outputs": [],
   "source": [
    "# creating parameters for GridSearch SV using hyperparameters as shown below \n",
    "pipe6_params = {'tfvec__max_features': [3555],\n",
    "                'tfvec__min_df': [0.0002],\n",
    "                'tfvec__max_df': [0.3],\n",
    "                'tfvec__ngram_range': [(1,1)],\n",
    "                'nb__alpha' : [1.0e-10],\n",
    "}"
   ]
  },
  {
   "cell_type": "code",
   "execution_count": 457,
   "metadata": {},
   "outputs": [],
   "source": [
    "# Creatingg GridSeachCV using pipeline: pipe3 and params_grid:  pipe3_params\n",
    "\n",
    "gs_pipe6 = GridSearchCV(pipe6, param_grid=pipe6_params, cv=5, n_jobs= -1)"
   ]
  },
  {
   "cell_type": "code",
   "execution_count": 458,
   "metadata": {},
   "outputs": [],
   "source": [
    "# Fitting GridSearchCV with CountVectorizer transformer on X_train and y_train.\n",
    "\n",
    "gs_pipe6.fit(X_train_filtered, y_train_filtered);"
   ]
  },
  {
   "cell_type": "code",
   "execution_count": 459,
   "metadata": {},
   "outputs": [
    {
     "data": {
      "text/plain": [
       "{'nb__alpha': 1e-10,\n",
       " 'tfvec__max_df': 0.3,\n",
       " 'tfvec__max_features': 3555,\n",
       " 'tfvec__min_df': 0.0002,\n",
       " 'tfvec__ngram_range': (1, 1)}"
      ]
     },
     "execution_count": 459,
     "metadata": {},
     "output_type": "execute_result"
    }
   ],
   "source": [
    "# Get best parameters using MultinomialNB and TfidfVectorizer\n",
    "\n",
    "gs_pipe6.best_params_"
   ]
  },
  {
   "cell_type": "markdown",
   "metadata": {},
   "source": [
    "{'nb__alpha': 1e-10,\n",
    " 'tfvec__max_df': 0.7,\n",
    " 'tfvec__max_features': 3500,\n",
    " 'tfvec__min_df': 0.001,\n",
    " 'tfvec__ngram_range': (1, 1)}"
   ]
  },
  {
   "cell_type": "code",
   "execution_count": 460,
   "metadata": {},
   "outputs": [
    {
     "name": "stdout",
     "output_type": "stream",
     "text": [
      "TfidfVectorizer with MultinomialNB summary of accuracy scores:\n",
      "GridSearchCV best accuracy = 0.83\n",
      "\n",
      "Using GridSearchCV best params suggested,\n",
      "Training corpus accuracy = 0.852\n",
      "Testing corpus accuracy = 0.853\n"
     ]
    }
   ],
   "source": [
    "# Summary scores of TfidfVectorizer and MultinomialNB.\n",
    "\n",
    "print(\"TfidfVectorizer with MultinomialNB summary of accuracy scores:\")\n",
    "print(f\"GridSearchCV best accuracy = {round(gs_pipe6.best_score_, 3)}\")\n",
    "print(\"\\nUsing GridSearchCV best params suggested,\")\n",
    "print(f\"Training corpus accuracy = {round(gs_pipe6.score(X_train, y_train), 3)}\")\n",
    "print(f\"Testing corpus accuracy = {round(gs_pipe6.score(X_test, y_test), 3)}\")"
   ]
  },
  {
   "cell_type": "code",
   "execution_count": 461,
   "metadata": {},
   "outputs": [],
   "source": [
    "# adding summary \n",
    "\n",
    "summary_df.loc[6] = ['TfidfVec, MultinomialNB_TunedThreshold',\n",
    "                     str(gs_pipe6.best_params_),\n",
    "                     round(gs_pipe6.best_score_, 3),\n",
    "                     round(gs_pipe6.score(X_train, y_train), 3),\n",
    "                     round(gs_pipe6.score(X_test, y_test), 3)\n",
    "                    ]"
   ]
  },
  {
   "cell_type": "code",
   "execution_count": 462,
   "metadata": {},
   "outputs": [
    {
     "data": {
      "text/html": [
       "<div>\n",
       "<style scoped>\n",
       "    .dataframe tbody tr th:only-of-type {\n",
       "        vertical-align: middle;\n",
       "    }\n",
       "\n",
       "    .dataframe tbody tr th {\n",
       "        vertical-align: top;\n",
       "    }\n",
       "\n",
       "    .dataframe thead th {\n",
       "        text-align: right;\n",
       "    }\n",
       "</style>\n",
       "<table border=\"1\" class=\"dataframe\">\n",
       "  <thead>\n",
       "    <tr style=\"text-align: right;\">\n",
       "      <th></th>\n",
       "      <th>transformer_estimator</th>\n",
       "      <th>GS_best_params</th>\n",
       "      <th>GS_best_score</th>\n",
       "      <th>train_accuracy</th>\n",
       "      <th>test_accuracy</th>\n",
       "    </tr>\n",
       "  </thead>\n",
       "  <tbody>\n",
       "    <tr>\n",
       "      <th>1</th>\n",
       "      <td>CountVec, LogReg</td>\n",
       "      <td>{'cvec1__max_df': 0.7, 'cvec1__max_features': 1000, 'cvec1__min_df': 0.02, 'cvec1__ngram_range': (1, 1), 'logreg1__max_iter': 1000}</td>\n",
       "      <td>0.810</td>\n",
       "      <td>0.837</td>\n",
       "      <td>0.810</td>\n",
       "    </tr>\n",
       "    <tr>\n",
       "      <th>2</th>\n",
       "      <td>TfidfVec, LogReg</td>\n",
       "      <td>{'logreg2__max_iter': 1000, 'tfvec2__max_df': 0.7, 'tfvec2__max_features': 1000, 'tfvec2__min_df': 0.02, 'tfvec2__ngram_range': (1, 1)}</td>\n",
       "      <td>0.816</td>\n",
       "      <td>0.837</td>\n",
       "      <td>0.816</td>\n",
       "    </tr>\n",
       "    <tr>\n",
       "      <th>3</th>\n",
       "      <td>TfidfVec, MultinomialNB</td>\n",
       "      <td>{'nb__alpha': 1e-10, 'tfvec__max_df': 0.3, 'tfvec__max_features': 3555, 'tfvec__min_df': 0.0002, 'tfvec__ngram_range': (1, 1)}</td>\n",
       "      <td>0.833</td>\n",
       "      <td>0.857</td>\n",
       "      <td>0.833</td>\n",
       "    </tr>\n",
       "    <tr>\n",
       "      <th>4</th>\n",
       "      <td>TfidfVec, LogisticRegression</td>\n",
       "      <td>{'logreg4__max_iter': 1000, 'tfvec4__max_df': 0.225, 'tfvec4__max_features': 9500, 'tfvec4__min_df': 0, 'tfvec4__ngram_range': (1, 1)}</td>\n",
       "      <td>0.850</td>\n",
       "      <td>0.901</td>\n",
       "      <td>0.849</td>\n",
       "    </tr>\n",
       "    <tr>\n",
       "      <th>5</th>\n",
       "      <td>TfidfVec, RandomForest</td>\n",
       "      <td>{'RanForest__max_depth': None, 'RanForest__max_features': 'sqrt', 'RanForest__n_estimators': 300, 'tfvec5__max_df': 0.8, 'tfvec5__max_features': 9000, 'tfvec5__min_df': 0, 'tfvec5__ngram_range': (1, 1)}</td>\n",
       "      <td>0.829</td>\n",
       "      <td>1.000</td>\n",
       "      <td>0.837</td>\n",
       "    </tr>\n",
       "    <tr>\n",
       "      <th>6</th>\n",
       "      <td>TfidfVec, MultinomialNB_TunedThreshold</td>\n",
       "      <td>{'nb__alpha': 1e-10, 'tfvec__max_df': 0.3, 'tfvec__max_features': 3555, 'tfvec__min_df': 0.0002, 'tfvec__ngram_range': (1, 1)}</td>\n",
       "      <td>0.830</td>\n",
       "      <td>0.852</td>\n",
       "      <td>0.853</td>\n",
       "    </tr>\n",
       "  </tbody>\n",
       "</table>\n",
       "</div>"
      ],
      "text/plain": [
       "                    transformer_estimator  \\\n",
       "1                        CountVec, LogReg   \n",
       "2                        TfidfVec, LogReg   \n",
       "3                 TfidfVec, MultinomialNB   \n",
       "4            TfidfVec, LogisticRegression   \n",
       "5                  TfidfVec, RandomForest   \n",
       "6  TfidfVec, MultinomialNB_TunedThreshold   \n",
       "\n",
       "                                                                                                                                                                                               GS_best_params  \\\n",
       "1                                                                         {'cvec1__max_df': 0.7, 'cvec1__max_features': 1000, 'cvec1__min_df': 0.02, 'cvec1__ngram_range': (1, 1), 'logreg1__max_iter': 1000}   \n",
       "2                                                                     {'logreg2__max_iter': 1000, 'tfvec2__max_df': 0.7, 'tfvec2__max_features': 1000, 'tfvec2__min_df': 0.02, 'tfvec2__ngram_range': (1, 1)}   \n",
       "3                                                                              {'nb__alpha': 1e-10, 'tfvec__max_df': 0.3, 'tfvec__max_features': 3555, 'tfvec__min_df': 0.0002, 'tfvec__ngram_range': (1, 1)}   \n",
       "4                                                                      {'logreg4__max_iter': 1000, 'tfvec4__max_df': 0.225, 'tfvec4__max_features': 9500, 'tfvec4__min_df': 0, 'tfvec4__ngram_range': (1, 1)}   \n",
       "5  {'RanForest__max_depth': None, 'RanForest__max_features': 'sqrt', 'RanForest__n_estimators': 300, 'tfvec5__max_df': 0.8, 'tfvec5__max_features': 9000, 'tfvec5__min_df': 0, 'tfvec5__ngram_range': (1, 1)}   \n",
       "6                                                                              {'nb__alpha': 1e-10, 'tfvec__max_df': 0.3, 'tfvec__max_features': 3555, 'tfvec__min_df': 0.0002, 'tfvec__ngram_range': (1, 1)}   \n",
       "\n",
       "   GS_best_score  train_accuracy  test_accuracy  \n",
       "1          0.810           0.837          0.810  \n",
       "2          0.816           0.837          0.816  \n",
       "3          0.833           0.857          0.833  \n",
       "4          0.850           0.901          0.849  \n",
       "5          0.829           1.000          0.837  \n",
       "6          0.830           0.852          0.853  "
      ]
     },
     "execution_count": 462,
     "metadata": {},
     "output_type": "execute_result"
    }
   ],
   "source": [
    "summary_df"
   ]
  },
  {
   "cell_type": "code",
   "execution_count": 463,
   "metadata": {},
   "outputs": [],
   "source": [
    "# Creating Pipeline with:\n",
    "# Estimator: LogisticRegression (both)\n",
    "# Transformer: CountVectorizer - pipe1, TfidfVectorizer - pipe2\n",
    "\n",
    "pipe7 = Pipeline([('tfvec7', TfidfVectorizer(stop_words= stopwordlist)),\n",
    "                  ('logreg7', LogisticRegression())\n",
    "                 ])"
   ]
  },
  {
   "cell_type": "code",
   "execution_count": 464,
   "metadata": {},
   "outputs": [],
   "source": [
    "# <!-- # Declaring fixed one-off hyperparameters max_features, min_df, max_df & ngram_range for GridSearchCV first.\n",
    "\n",
    "# pipe4_params = {'tfvec4__max_features': [9000,9500,10000],\n",
    "#                m 'tfvec4__min_df': [0],\n",
    "#                 'tfvec4__max_df':np.linspace(0.22,0.225,10),\n",
    "#                 'tfvec4__ngram_range': [(1,1)],\n",
    "#                 'logreg4__max_iter': [1000]\n",
    "#                } -->"
   ]
  },
  {
   "cell_type": "code",
   "execution_count": 465,
   "metadata": {},
   "outputs": [
    {
     "data": {
      "text/plain": [
       "array([1000, 1125, 1250, 1375, 1500])"
      ]
     },
     "execution_count": 465,
     "metadata": {},
     "output_type": "execute_result"
    }
   ],
   "source": [
    "(np.linspace(1000,1500,5, dtype = int))"
   ]
  },
  {
   "cell_type": "code",
   "execution_count": 466,
   "metadata": {},
   "outputs": [],
   "source": [
    "# Declaring fixed one-off hyperparameters max_features, min_df, max_df & ngram_range for GridSearchCV first.\n",
    "\n",
    "pipe7_params = {'tfvec7__max_features': [9500],\n",
    "                'tfvec7__min_df': [0],\n",
    "                'tfvec7__max_df':[0.225],\n",
    "                'tfvec7__ngram_range': [(1,1)],\n",
    "                'logreg7__max_iter': [1000]\n",
    "               }"
   ]
  },
  {
   "cell_type": "code",
   "execution_count": 467,
   "metadata": {},
   "outputs": [],
   "source": [
    "# Creating two separate GridSearchCV objects for:\n",
    "# TfidfVectorizer and Logistic Regression with Hyper-parameter tuning\n",
    "\n",
    "gs_pipe7 = GridSearchCV(pipe7, param_grid=pipe7_params, cv=5)"
   ]
  },
  {
   "cell_type": "code",
   "execution_count": 468,
   "metadata": {},
   "outputs": [
    {
     "data": {
      "text/plain": [
       "GridSearchCV(cv=5,\n",
       "             estimator=Pipeline(steps=[('tfvec7',\n",
       "                                        TfidfVectorizer(stop_words=['i', 'me',\n",
       "                                                                    'my',\n",
       "                                                                    'myself',\n",
       "                                                                    'we', 'our',\n",
       "                                                                    'ours',\n",
       "                                                                    'ourselves',\n",
       "                                                                    'you',\n",
       "                                                                    \"you're\",\n",
       "                                                                    \"you've\",\n",
       "                                                                    \"you'll\",\n",
       "                                                                    \"you'd\",\n",
       "                                                                    'your',\n",
       "                                                                    'yours',\n",
       "                                                                    'yourself',\n",
       "                                                                    'yourselves',\n",
       "                                                                    'he', 'him',\n",
       "                                                                    'his',\n",
       "                                                                    'himself',\n",
       "                                                                    'she',\n",
       "                                                                    \"she's\",\n",
       "                                                                    'her',\n",
       "                                                                    'hers',\n",
       "                                                                    'herself',\n",
       "                                                                    'it',\n",
       "                                                                    \"it's\",\n",
       "                                                                    'its',\n",
       "                                                                    'itself', ...])),\n",
       "                                       ('logreg7', LogisticRegression())]),\n",
       "             param_grid={'logreg7__max_iter': [1000], 'tfvec7__max_df': [0.225],\n",
       "                         'tfvec7__max_features': [9500], 'tfvec7__min_df': [0],\n",
       "                         'tfvec7__ngram_range': [(1, 1)]})"
      ]
     },
     "execution_count": 468,
     "metadata": {},
     "output_type": "execute_result"
    }
   ],
   "source": [
    "# Fitting GridSearchCV with CountVectorizer transformer on X_train and y_train.\n",
    "\n",
    "gs_pipe7.fit(X_train_filtered, y_train_filtered)"
   ]
  },
  {
   "cell_type": "code",
   "execution_count": 469,
   "metadata": {},
   "outputs": [
    {
     "data": {
      "text/plain": [
       "{'logreg7__max_iter': 1000,\n",
       " 'tfvec7__max_df': 0.225,\n",
       " 'tfvec7__max_features': 9500,\n",
       " 'tfvec7__min_df': 0,\n",
       " 'tfvec7__ngram_range': (1, 1)}"
      ]
     },
     "execution_count": 469,
     "metadata": {},
     "output_type": "execute_result"
    }
   ],
   "source": [
    "# Best combination of hyperparameters suggested by GridSearchCV for TfidfVectorizer transformer.\n",
    "\n",
    "gs_pipe7.best_params_"
   ]
  },
  {
   "cell_type": "code",
   "execution_count": 470,
   "metadata": {},
   "outputs": [
    {
     "name": "stdout",
     "output_type": "stream",
     "text": [
      "TfidfVectorizer with LogisticRegression summary of accuracy scores:\n",
      "GridSearchCV best accuracy = 0.851\n",
      "\n",
      "Using GridSearchCV best params suggested,\n",
      "Training corpus accuracy = 0.899\n",
      "Testing corpus accuracy = 0.897\n"
     ]
    }
   ],
   "source": [
    "# Summary scores of CountVectorizer and LogisticRegression.\n",
    "\n",
    "print(\"TfidfVectorizer with LogisticRegression summary of accuracy scores:\")\n",
    "print(f\"GridSearchCV best accuracy = {round(gs_pipe7.best_score_, 3)}\")\n",
    "print(\"\\nUsing GridSearchCV best params suggested,\")\n",
    "print(f\"Training corpus accuracy = {round(gs_pipe7.score(X_train, y_train), 3)}\")\n",
    "print(f\"Testing corpus accuracy = {round(gs_pipe7.score(X_test, y_test), 3)}\")"
   ]
  },
  {
   "cell_type": "markdown",
   "metadata": {},
   "source": [
    "TfidfVectorizer with LogisticRegression summary of accuracy scores:\n",
    "GridSearchCV best accuracy = 0.85\n",
    "\n",
    "Using GridSearchCV best params suggested,\n",
    "Training corpus accuracy = 0.901\n",
    "Testing corpus accuracy = 0.849"
   ]
  },
  {
   "cell_type": "code",
   "execution_count": 471,
   "metadata": {},
   "outputs": [],
   "source": [
    "# Adding the accuracy scores from above two GridSearchCV models into summary_df.\n",
    "\n",
    "summary_df.loc[7] = ['TfidfVec, LogisticRegression',\n",
    "                     str(gs_pipe7.best_params_),\n",
    "                     round(gs_pipe7.best_score_, 3),\n",
    "                     round(gs_pipe7.score(X_train, y_train), 3),\n",
    "                     round(gs_pipe7.score(X_test, y_test), 3)\n",
    "                    ]"
   ]
  },
  {
   "cell_type": "code",
   "execution_count": 472,
   "metadata": {},
   "outputs": [
    {
     "data": {
      "text/html": [
       "<div>\n",
       "<style scoped>\n",
       "    .dataframe tbody tr th:only-of-type {\n",
       "        vertical-align: middle;\n",
       "    }\n",
       "\n",
       "    .dataframe tbody tr th {\n",
       "        vertical-align: top;\n",
       "    }\n",
       "\n",
       "    .dataframe thead th {\n",
       "        text-align: right;\n",
       "    }\n",
       "</style>\n",
       "<table border=\"1\" class=\"dataframe\">\n",
       "  <thead>\n",
       "    <tr style=\"text-align: right;\">\n",
       "      <th></th>\n",
       "      <th>transformer_estimator</th>\n",
       "      <th>GS_best_params</th>\n",
       "      <th>GS_best_score</th>\n",
       "      <th>train_accuracy</th>\n",
       "      <th>test_accuracy</th>\n",
       "    </tr>\n",
       "  </thead>\n",
       "  <tbody>\n",
       "    <tr>\n",
       "      <th>1</th>\n",
       "      <td>CountVec, LogReg</td>\n",
       "      <td>{'cvec1__max_df': 0.7, 'cvec1__max_features': 1000, 'cvec1__min_df': 0.02, 'cvec1__ngram_range': (1, 1), 'logreg1__max_iter': 1000}</td>\n",
       "      <td>0.810</td>\n",
       "      <td>0.837</td>\n",
       "      <td>0.810</td>\n",
       "    </tr>\n",
       "    <tr>\n",
       "      <th>2</th>\n",
       "      <td>TfidfVec, LogReg</td>\n",
       "      <td>{'logreg2__max_iter': 1000, 'tfvec2__max_df': 0.7, 'tfvec2__max_features': 1000, 'tfvec2__min_df': 0.02, 'tfvec2__ngram_range': (1, 1)}</td>\n",
       "      <td>0.816</td>\n",
       "      <td>0.837</td>\n",
       "      <td>0.816</td>\n",
       "    </tr>\n",
       "    <tr>\n",
       "      <th>3</th>\n",
       "      <td>TfidfVec, MultinomialNB</td>\n",
       "      <td>{'nb__alpha': 1e-10, 'tfvec__max_df': 0.3, 'tfvec__max_features': 3555, 'tfvec__min_df': 0.0002, 'tfvec__ngram_range': (1, 1)}</td>\n",
       "      <td>0.833</td>\n",
       "      <td>0.857</td>\n",
       "      <td>0.833</td>\n",
       "    </tr>\n",
       "    <tr>\n",
       "      <th>4</th>\n",
       "      <td>TfidfVec, LogisticRegression</td>\n",
       "      <td>{'logreg4__max_iter': 1000, 'tfvec4__max_df': 0.225, 'tfvec4__max_features': 9500, 'tfvec4__min_df': 0, 'tfvec4__ngram_range': (1, 1)}</td>\n",
       "      <td>0.850</td>\n",
       "      <td>0.901</td>\n",
       "      <td>0.849</td>\n",
       "    </tr>\n",
       "    <tr>\n",
       "      <th>5</th>\n",
       "      <td>TfidfVec, RandomForest</td>\n",
       "      <td>{'RanForest__max_depth': None, 'RanForest__max_features': 'sqrt', 'RanForest__n_estimators': 300, 'tfvec5__max_df': 0.8, 'tfvec5__max_features': 9000, 'tfvec5__min_df': 0, 'tfvec5__ngram_range': (1, 1)}</td>\n",
       "      <td>0.829</td>\n",
       "      <td>1.000</td>\n",
       "      <td>0.837</td>\n",
       "    </tr>\n",
       "    <tr>\n",
       "      <th>6</th>\n",
       "      <td>TfidfVec, MultinomialNB_TunedThreshold</td>\n",
       "      <td>{'nb__alpha': 1e-10, 'tfvec__max_df': 0.3, 'tfvec__max_features': 3555, 'tfvec__min_df': 0.0002, 'tfvec__ngram_range': (1, 1)}</td>\n",
       "      <td>0.830</td>\n",
       "      <td>0.852</td>\n",
       "      <td>0.853</td>\n",
       "    </tr>\n",
       "    <tr>\n",
       "      <th>7</th>\n",
       "      <td>TfidfVec, LogisticRegression</td>\n",
       "      <td>{'logreg7__max_iter': 1000, 'tfvec7__max_df': 0.225, 'tfvec7__max_features': 9500, 'tfvec7__min_df': 0, 'tfvec7__ngram_range': (1, 1)}</td>\n",
       "      <td>0.851</td>\n",
       "      <td>0.899</td>\n",
       "      <td>0.897</td>\n",
       "    </tr>\n",
       "  </tbody>\n",
       "</table>\n",
       "</div>"
      ],
      "text/plain": [
       "                    transformer_estimator  \\\n",
       "1                        CountVec, LogReg   \n",
       "2                        TfidfVec, LogReg   \n",
       "3                 TfidfVec, MultinomialNB   \n",
       "4            TfidfVec, LogisticRegression   \n",
       "5                  TfidfVec, RandomForest   \n",
       "6  TfidfVec, MultinomialNB_TunedThreshold   \n",
       "7            TfidfVec, LogisticRegression   \n",
       "\n",
       "                                                                                                                                                                                               GS_best_params  \\\n",
       "1                                                                         {'cvec1__max_df': 0.7, 'cvec1__max_features': 1000, 'cvec1__min_df': 0.02, 'cvec1__ngram_range': (1, 1), 'logreg1__max_iter': 1000}   \n",
       "2                                                                     {'logreg2__max_iter': 1000, 'tfvec2__max_df': 0.7, 'tfvec2__max_features': 1000, 'tfvec2__min_df': 0.02, 'tfvec2__ngram_range': (1, 1)}   \n",
       "3                                                                              {'nb__alpha': 1e-10, 'tfvec__max_df': 0.3, 'tfvec__max_features': 3555, 'tfvec__min_df': 0.0002, 'tfvec__ngram_range': (1, 1)}   \n",
       "4                                                                      {'logreg4__max_iter': 1000, 'tfvec4__max_df': 0.225, 'tfvec4__max_features': 9500, 'tfvec4__min_df': 0, 'tfvec4__ngram_range': (1, 1)}   \n",
       "5  {'RanForest__max_depth': None, 'RanForest__max_features': 'sqrt', 'RanForest__n_estimators': 300, 'tfvec5__max_df': 0.8, 'tfvec5__max_features': 9000, 'tfvec5__min_df': 0, 'tfvec5__ngram_range': (1, 1)}   \n",
       "6                                                                              {'nb__alpha': 1e-10, 'tfvec__max_df': 0.3, 'tfvec__max_features': 3555, 'tfvec__min_df': 0.0002, 'tfvec__ngram_range': (1, 1)}   \n",
       "7                                                                      {'logreg7__max_iter': 1000, 'tfvec7__max_df': 0.225, 'tfvec7__max_features': 9500, 'tfvec7__min_df': 0, 'tfvec7__ngram_range': (1, 1)}   \n",
       "\n",
       "   GS_best_score  train_accuracy  test_accuracy  \n",
       "1          0.810           0.837          0.810  \n",
       "2          0.816           0.837          0.816  \n",
       "3          0.833           0.857          0.833  \n",
       "4          0.850           0.901          0.849  \n",
       "5          0.829           1.000          0.837  \n",
       "6          0.830           0.852          0.853  \n",
       "7          0.851           0.899          0.897  "
      ]
     },
     "execution_count": 472,
     "metadata": {},
     "output_type": "execute_result"
    }
   ],
   "source": [
    "summary_df"
   ]
  },
  {
   "cell_type": "code",
   "execution_count": 473,
   "metadata": {},
   "outputs": [
    {
     "ename": "SyntaxError",
     "evalue": "invalid syntax (1763773627.py, line 1)",
     "output_type": "error",
     "traceback": [
      "\u001b[1;36m  Input \u001b[1;32mIn [473]\u001b[1;36m\u001b[0m\n\u001b[1;33m    =\u001b[0m\n\u001b[1;37m    ^\u001b[0m\n\u001b[1;31mSyntaxError\u001b[0m\u001b[1;31m:\u001b[0m invalid syntax\n"
     ]
    }
   ],
   "source": [
    "="
   ]
  },
  {
   "cell_type": "code",
   "execution_count": 485,
   "metadata": {},
   "outputs": [
    {
     "name": "stderr",
     "output_type": "stream",
     "text": [
      "C:\\Users\\Admin\\.conda\\envs\\myenv\\lib\\site-packages\\sklearn\\utils\\deprecation.py:87: FutureWarning: Function plot_confusion_matrix is deprecated; Function `plot_confusion_matrix` is deprecated in 1.0 and will be removed in 1.2. Use one of the class methods: ConfusionMatrixDisplay.from_predictions or ConfusionMatrixDisplay.from_estimator.\n",
      "  warnings.warn(msg, category=FutureWarning)\n"
     ]
    },
    {
     "data": {
      "image/png": "[encoded data removed]",
      "text/plain": [
       "<Figure size 432x288 with 2 Axes>"
      ]
     },
     "metadata": {
      "needs_background": "light"
     },
     "output_type": "display_data"
    }
   ],
   "source": [
    "# Generate predictions.\n",
    "preds = gs_pipe7.predict(X_test)\n",
    "\n",
    "# Generate confusion matrix.\n",
    "# Documentation here: https://scikit-learn.org/stable/modules/generated/sklearn.metrics.confusion_matrix.html\n",
    "\n",
    "confusion_matrix(y_test, # True values.\n",
    "                 preds)  # Predicted values.\n",
    "\n",
    "# Save TN/FP/FN/TP values.\n",
    "\n",
    "tn, fp, fn, tp = confusion_matrix(y_test, preds).ravel();\n",
    "\n",
    "# Plot Confusion matrix\n",
    "plot_confusion_matrix(gs_pipe7, X_test, y_test, cmap='Blues', \n",
    "                      values_format='d', display_labels=['r/Anxiety', 'r/PTSD']);                 "
   ]
  },
  {
   "cell_type": "markdown",
   "metadata": {},
   "source": [
    "## Receiver Operating Characteristic (ROC) Curve"
   ]
  },
  {
   "cell_type": "code",
   "execution_count": 487,
   "metadata": {},
   "outputs": [
    {
     "name": "stderr",
     "output_type": "stream",
     "text": [
      "C:\\Users\\Admin\\.conda\\envs\\myenv\\lib\\site-packages\\sklearn\\utils\\deprecation.py:87: FutureWarning: Function plot_roc_curve is deprecated; Function :func:`plot_roc_curve` is deprecated in 1.0 and will be removed in 1.2. Use one of the class methods: :meth:`sklearn.metric.RocCurveDisplay.from_predictions` or :meth:`sklearn.metric.RocCurveDisplay.from_estimator`.\n",
      "  warnings.warn(msg, category=FutureWarning)\n"
     ]
    },
    {
     "data": {
      "image/png": "[encoded data removed]",
      "text/plain": [
       "<Figure size 432x288 with 1 Axes>"
      ]
     },
     "metadata": {
      "needs_background": "light"
     },
     "output_type": "display_data"
    }
   ],
   "source": [
    "plot_roc_curve(gs_pipe7, X_test, y_test)\n",
    "plt.plot([0, 1], [0, 1],\n",
    "         label='baseline', linestyle='--')\n",
    "plt.legend();"
   ]
  },
  {
   "cell_type": "code",
   "execution_count": 486,
   "metadata": {},
   "outputs": [
    {
     "data": {
      "text/plain": [
       "0.9628814888572517"
      ]
     },
     "execution_count": 486,
     "metadata": {},
     "output_type": "execute_result"
    }
   ],
   "source": [
    "roc_auc_score(y_test, gs_pipe7.predict_proba(X_test)[:,1])"
   ]
  }
 ],
 "metadata": {
  "interpreter": {
   "hash": "592c428e42f6e4511884ace7c9b495d167f60b904bd88ca4683897c5c1f20061"
  },
  "kernelspec": {
   "display_name": "Python 3.9.7 ('myenv')",
   "language": "python",
   "name": "python3"
  },
  "language_info": {
   "codemirror_mode": {
    "name": "ipython",
    "version": 3
   },
   "file_extension": ".py",
   "mimetype": "text/x-python",
   "name": "python",
   "nbconvert_exporter": "python",
   "pygments_lexer": "ipython3",
   "version": "3.9.7"
  },
  "orig_nbformat": 4
 },
 "nbformat": 4,
 "nbformat_minor": 2
}
