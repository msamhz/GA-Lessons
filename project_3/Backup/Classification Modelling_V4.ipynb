{
 "cells": [
  {
   "cell_type": "markdown",
   "metadata": {},
   "source": [
    "## Contents\n",
    "- [Data Importing](#Data-Importing)\n",
    "- [Classification metrics](#Classification-metrics)\n",
    "- [Vectorizer Selection via GridSeachCV](#Vectorizer-Selection-via-GridSeachCV)\n",
    "- [MultinomialNB and Hyperparameter tuning](#MultinomialNB-and-Hyperparameter-tuning)\n",
    "- [Logistic Regression Modelling and Hyperparameter tuning](#Logistic-Regression-Modelling-and-Hyperparameter-tuning)\n",
    "- [Analysis on top few features by logreg and MultinomialNB](#Analysis-on-top-few-features-by-logreg-and-MultinomialNB)\n",
    "- [Random Forest Classifier](#Random-Forest-Classifier)\n",
    "- [Conclusion and Recommendation](#Conclusion-and-Recommendation)"
   ]
  },
  {
   "cell_type": "code",
   "execution_count": 2,
   "metadata": {},
   "outputs": [],
   "source": [
    "import pandas as pd\n",
    "import requests\n",
    "import string\n",
    "string.punctuation\n",
    "import re\n",
    "import nltk\n",
    "from nltk.stem import WordNetLemmatizer\n",
    "import numpy as np\n",
    "import seaborn as sns\n",
    "import matplotlib.pyplot as plt\n",
    "import re\n",
    "from bs4 import BeautifulSoup\n",
    "import contractions\n",
    "\n",
    "from sklearn.neighbors import KNeighborsClassifier\n",
    "from sklearn.metrics import confusion_matrix, plot_confusion_matrix, accuracy_score, \\\n",
    "    plot_roc_curve, roc_auc_score, recall_score, precision_score, f1_score\n",
    "from transformers import pipeline\n",
    "from sklearn.pipeline import Pipeline\n",
    "from sklearn.linear_model import LogisticRegression\n",
    "from sklearn.feature_extraction.text import CountVectorizer, TfidfVectorizer\n",
    "from sklearn.naive_bayes import MultinomialNB\n",
    "from sklearn.feature_extraction.text import CountVectorizer, TfidfVectorizer\n",
    "from nltk import word_tokenize   \n",
    "from nltk.stem.porter import PorterStemmer\n",
    "from nltk.tokenize import sent_tokenize, word_tokenize, RegexpTokenizer\n",
    "import matplotlib.dates as mdate\n",
    "from sklearn.ensemble import RandomForestClassifier, ExtraTreesClassifier\n",
    "\n",
    "import gensim\n",
    "import gensim.downloader as api\n",
    "from gensim.models.word2vec import Word2Vec\n",
    "\n",
    "\n",
    "from sklearn.model_selection import(\n",
    "    cross_val_score,\n",
    "    train_test_split,\n",
    "    GridSearchCV\n",
    ")\n",
    "\n",
    "from sklearn.preprocessing import (\n",
    "    StandardScaler,\n",
    "    PolynomialFeatures\n",
    ")\n",
    "from datetime import timezone\n",
    "import datetime\n",
    "\n",
    "pd.set_option('display.max_colwidth', None)"
   ]
  },
  {
   "cell_type": "markdown",
   "metadata": {},
   "source": [
    "## Data importing"
   ]
  },
  {
   "cell_type": "code",
   "execution_count": 3,
   "metadata": {},
   "outputs": [],
   "source": [
    "df = pd.read_csv('../Data/df.csv')\n",
    "df.drop(columns = 'Unnamed: 0', inplace = True)"
   ]
  },
  {
   "cell_type": "markdown",
   "metadata": {},
   "source": [
    "Check for Null"
   ]
  },
  {
   "cell_type": "code",
   "execution_count": 4,
   "metadata": {},
   "outputs": [
    {
     "data": {
      "text/plain": [
       "author                   0\n",
       "subreddit                0\n",
       "selftext                 0\n",
       "title                    0\n",
       "created_utc              0\n",
       "datetime                 0\n",
       "link_flair_css_class     0\n",
       "alltext                  0\n",
       "length_text              0\n",
       "wrdcount_text            0\n",
       "month                    0\n",
       "day                      0\n",
       "clean_text               1\n",
       "ttl_post                 0\n",
       "user_contribute_where    0\n",
       "stem_clean_text          1\n",
       "lemmi_clean_text         1\n",
       "dtype: int64"
      ]
     },
     "execution_count": 4,
     "metadata": {},
     "output_type": "execute_result"
    }
   ],
   "source": [
    "df.isnull().sum()"
   ]
  },
  {
   "cell_type": "code",
   "execution_count": 5,
   "metadata": {},
   "outputs": [],
   "source": [
    "df.dropna(inplace = True)"
   ]
  },
  {
   "cell_type": "markdown",
   "metadata": {},
   "source": [
    "###  Model Prep: Create `X` and `y` variables"
   ]
  },
  {
   "cell_type": "markdown",
   "metadata": {},
   "source": [
    "Our features will be:\n",
    "- `subreddit`\n",
    "- `stem_clean_text`\n",
    "- `lemmi_clean_text`\n",
    "\n",
    "For our baseline modelling will be using lemmi_clean_text\n",
    "\n",
    "Our target will be `subreddit`"
   ]
  },
  {
   "cell_type": "code",
   "execution_count": 6,
   "metadata": {},
   "outputs": [],
   "source": [
    "X = df['lemmi_clean_text']\n",
    "y = df['subreddit']"
   ]
  },
  {
   "cell_type": "markdown",
   "metadata": {},
   "source": [
    "### Train/Test Split"
   ]
  },
  {
   "cell_type": "code",
   "execution_count": 7,
   "metadata": {},
   "outputs": [],
   "source": [
    "X_train, X_test, y_train, y_test = train_test_split(X, y, random_state=42, stratify=y)"
   ]
  },
  {
   "cell_type": "markdown",
   "metadata": {},
   "source": [
    "## Classification Metrics"
   ]
  },
  {
   "cell_type": "markdown",
   "metadata": {},
   "source": [
    "Possible classification metrics that can be used how well my model perform are *Accuracy, Misclassification Rate, Sensitivity (True Positive Rate), Specificity (True Negative Rate), Precision (Positive Predictive Value), F1 Score and ROC AUC*.\n",
    "\n",
    "For this project I will be mainly using *Accuracy* accompanied with confusion matrix to determine effectiveness of my models\n",
    "\n",
    "For further evaluations, I will be using Specificity to choose the best model that helps gauge on how best to minimize this in order to reduce missing out identifying users potentionally having PTSD.\n",
    "\n",
    "I will also use ROC to gave a gauge the degree of overlap between the words in post from the two subreddits. "
   ]
  },
  {
   "cell_type": "markdown",
   "metadata": {},
   "source": [
    "### Baseline Accuracy Check"
   ]
  },
  {
   "cell_type": "code",
   "execution_count": 8,
   "metadata": {},
   "outputs": [
    {
     "name": "stdout",
     "output_type": "stream",
     "text": [
      "Total post: 20228\n"
     ]
    },
    {
     "data": {
      "text/plain": [
       "1    0.500395\n",
       "0    0.499605\n",
       "Name: subreddit, dtype: float64"
      ]
     },
     "execution_count": 8,
     "metadata": {},
     "output_type": "execute_result"
    }
   ],
   "source": [
    "print(f'Total post: {len(df)}')\n",
    "df['subreddit'].value_counts(normalize= True)\n"
   ]
  },
  {
   "cell_type": "markdown",
   "metadata": {},
   "source": [
    "With 10000 post added into each class, the classes are very well balanced from both sides \n",
    "\n",
    "Also, from the above, we can see the ***baseline accuracy*** is at 50.1%. \n",
    "If nothing ws done for the classification model, and just to assign every post to the PTSD class, i would classify 50.1% of the post correctly. \n",
    "\n",
    "Therefore, any classification model designed for this data must have an accuracy higher than the ***baseline accuracy*** of 50.1%"
   ]
  },
  {
   "cell_type": "markdown",
   "metadata": {},
   "source": [
    "## Vectorizer Selection via GridSeachCV"
   ]
  },
  {
   "cell_type": "markdown",
   "metadata": {},
   "source": [
    "Consider two NLP vectorizers and iterate over parameters below with Logistic regression model first.\n",
    "- *Count Vectorizer*\n",
    "- *TF-IDF Vectorizer*"
   ]
  },
  {
   "cell_type": "code",
   "execution_count": 9,
   "metadata": {},
   "outputs": [],
   "source": [
    "# create stop word list \n",
    "stopwordlist = nltk.corpus.stopwords.words('english')\n",
    "\n",
    "# to input in subreddit headers so that we can exclude it for model\n",
    "headers = ['ptsd', 'anxiety','anxious', \"cptsd\", 'trauma','traumatized','traumas',\"posttraumatic\",'stress','disorder',\"traumatic\", 'www', 'https', 'mentalgrenade', 'com']\n",
    "for head in headers:\n",
    "    stopwordlist.append(head)\n",
    "\n"
   ]
  },
  {
   "cell_type": "code",
   "execution_count": 10,
   "metadata": {},
   "outputs": [],
   "source": [
    "# Creating Pipeline with:\n",
    "# Estimator: LogisticRegression (both)\n",
    "# Transformer: CountVectorizer - pipe1, TfidfVectorizer - pipe2\n",
    "\n",
    "pipe1 = Pipeline([('cvec1', CountVectorizer(stop_words= stopwordlist)),\n",
    "                  ('logreg1', LogisticRegression())\n",
    "                 ])\n",
    "\n",
    "pipe2 = Pipeline([('tfvec2', TfidfVectorizer(stop_words= stopwordlist)),\n",
    "                  ('logreg2', LogisticRegression())\n",
    "                 ])"
   ]
  },
  {
   "cell_type": "code",
   "execution_count": 11,
   "metadata": {},
   "outputs": [],
   "source": [
    "# Declaring fixed one-off hyperparameters max_features, min_df, max_df & ngram_range for GridSearchCV first.\n",
    "\n",
    "pipe1_params = {'cvec1__max_features': [1000],\n",
    "                'cvec1__min_df': [0.02],\n",
    "                'cvec1__max_df': [0.7],\n",
    "                'cvec1__ngram_range': [(1,1), (1,2)],\n",
    "                'logreg1__max_iter': [1000]\n",
    "               }\n",
    "\n",
    "pipe2_params = {'tfvec2__max_features': [1000],\n",
    "                'tfvec2__min_df': [0.02],\n",
    "                'tfvec2__max_df': [0.7],\n",
    "                'tfvec2__ngram_range': [(1,1), (1,2)],\n",
    "                'logreg2__max_iter': [1000]\n",
    "               }"
   ]
  },
  {
   "cell_type": "code",
   "execution_count": 12,
   "metadata": {},
   "outputs": [],
   "source": [
    "# Creating two separate GridSearchCV objects for:\n",
    "# CountVectorizer and TfidfVectorizer\n",
    "\n",
    "gs_pipe1 = GridSearchCV(pipe1, param_grid=pipe1_params, cv=5)\n",
    "\n",
    "gs_pipe2 = GridSearchCV(pipe2, param_grid=pipe2_params, cv=5)"
   ]
  },
  {
   "cell_type": "code",
   "execution_count": 13,
   "metadata": {},
   "outputs": [
    {
     "data": {
      "text/plain": [
       "GridSearchCV(cv=5,\n",
       "             estimator=Pipeline(steps=[('cvec1',\n",
       "                                        CountVectorizer(stop_words=['i', 'me',\n",
       "                                                                    'my',\n",
       "                                                                    'myself',\n",
       "                                                                    'we', 'our',\n",
       "                                                                    'ours',\n",
       "                                                                    'ourselves',\n",
       "                                                                    'you',\n",
       "                                                                    \"you're\",\n",
       "                                                                    \"you've\",\n",
       "                                                                    \"you'll\",\n",
       "                                                                    \"you'd\",\n",
       "                                                                    'your',\n",
       "                                                                    'yours',\n",
       "                                                                    'yourself',\n",
       "                                                                    'yourselves',\n",
       "                                                                    'he', 'him',\n",
       "                                                                    'his',\n",
       "                                                                    'himself',\n",
       "                                                                    'she',\n",
       "                                                                    \"she's\",\n",
       "                                                                    'her',\n",
       "                                                                    'hers',\n",
       "                                                                    'herself',\n",
       "                                                                    'it',\n",
       "                                                                    \"it's\",\n",
       "                                                                    'its',\n",
       "                                                                    'itself', ...])),\n",
       "                                       ('logreg1', LogisticRegression())]),\n",
       "             param_grid={'cvec1__max_df': [0.7], 'cvec1__max_features': [1000],\n",
       "                         'cvec1__min_df': [0.02],\n",
       "                         'cvec1__ngram_range': [(1, 1), (1, 2)],\n",
       "                         'logreg1__max_iter': [1000]})"
      ]
     },
     "execution_count": 13,
     "metadata": {},
     "output_type": "execute_result"
    }
   ],
   "source": [
    "# Fitting GridSearchCV with CountVectorizer transformer on X_train and y_train.\n",
    "\n",
    "gs_pipe1.fit(X_train, y_train)"
   ]
  },
  {
   "cell_type": "code",
   "execution_count": 14,
   "metadata": {},
   "outputs": [
    {
     "data": {
      "text/plain": [
       "GridSearchCV(cv=5,\n",
       "             estimator=Pipeline(steps=[('tfvec2',\n",
       "                                        TfidfVectorizer(stop_words=['i', 'me',\n",
       "                                                                    'my',\n",
       "                                                                    'myself',\n",
       "                                                                    'we', 'our',\n",
       "                                                                    'ours',\n",
       "                                                                    'ourselves',\n",
       "                                                                    'you',\n",
       "                                                                    \"you're\",\n",
       "                                                                    \"you've\",\n",
       "                                                                    \"you'll\",\n",
       "                                                                    \"you'd\",\n",
       "                                                                    'your',\n",
       "                                                                    'yours',\n",
       "                                                                    'yourself',\n",
       "                                                                    'yourselves',\n",
       "                                                                    'he', 'him',\n",
       "                                                                    'his',\n",
       "                                                                    'himself',\n",
       "                                                                    'she',\n",
       "                                                                    \"she's\",\n",
       "                                                                    'her',\n",
       "                                                                    'hers',\n",
       "                                                                    'herself',\n",
       "                                                                    'it',\n",
       "                                                                    \"it's\",\n",
       "                                                                    'its',\n",
       "                                                                    'itself', ...])),\n",
       "                                       ('logreg2', LogisticRegression())]),\n",
       "             param_grid={'logreg2__max_iter': [1000], 'tfvec2__max_df': [0.7],\n",
       "                         'tfvec2__max_features': [1000],\n",
       "                         'tfvec2__min_df': [0.02],\n",
       "                         'tfvec2__ngram_range': [(1, 1), (1, 2)]})"
      ]
     },
     "execution_count": 14,
     "metadata": {},
     "output_type": "execute_result"
    }
   ],
   "source": [
    "# Fitting GridSearchCV with TfidfVectorizer transformer on X_train and y_train.\n",
    "\n",
    "gs_pipe2.fit(X_train, y_train)"
   ]
  },
  {
   "cell_type": "code",
   "execution_count": 15,
   "metadata": {},
   "outputs": [
    {
     "data": {
      "text/plain": [
       "{'cvec1__max_df': 0.7,\n",
       " 'cvec1__max_features': 1000,\n",
       " 'cvec1__min_df': 0.02,\n",
       " 'cvec1__ngram_range': (1, 1),\n",
       " 'logreg1__max_iter': 1000}"
      ]
     },
     "execution_count": 15,
     "metadata": {},
     "output_type": "execute_result"
    }
   ],
   "source": [
    "# Best combination of hyperparameters suggested by GridSearchCV for CountVectorizer transformer.\n",
    "\n",
    "gs_pipe1.best_params_"
   ]
  },
  {
   "cell_type": "code",
   "execution_count": 16,
   "metadata": {},
   "outputs": [
    {
     "data": {
      "text/plain": [
       "{'logreg2__max_iter': 1000,\n",
       " 'tfvec2__max_df': 0.7,\n",
       " 'tfvec2__max_features': 1000,\n",
       " 'tfvec2__min_df': 0.02,\n",
       " 'tfvec2__ngram_range': (1, 1)}"
      ]
     },
     "execution_count": 16,
     "metadata": {},
     "output_type": "execute_result"
    }
   ],
   "source": [
    "# Best combination of hyperparameters suggested by GridSearchCV for TfidfVectorizer transformer.\n",
    "\n",
    "gs_pipe2.best_params_"
   ]
  },
  {
   "cell_type": "code",
   "execution_count": 17,
   "metadata": {},
   "outputs": [
    {
     "name": "stdout",
     "output_type": "stream",
     "text": [
      "CountVectorizer with LogisticRegression summary of accuracy scores:\n",
      "GridSearchCV best accuracy = 0.801\n",
      "\n",
      "Using GridSearchCV best params suggested,\n",
      "Training corpus accuracy = 0.826\n",
      "Testing corpus accuracy = 0.803\n"
     ]
    }
   ],
   "source": [
    "# Summary scores of CountVectorizer and LogisticRegression.\n",
    "\n",
    "print(\"CountVectorizer with LogisticRegression summary of accuracy scores:\")\n",
    "print(f\"GridSearchCV best accuracy = {round(gs_pipe1.best_score_, 3)}\")\n",
    "print(\"\\nUsing GridSearchCV best params suggested,\")\n",
    "print(f\"Training corpus accuracy = {round(gs_pipe1.score(X_train, y_train), 3)}\")\n",
    "print(f\"Testing corpus accuracy = {round(gs_pipe1.score(X_test, y_test), 3)}\")"
   ]
  },
  {
   "cell_type": "code",
   "execution_count": 18,
   "metadata": {},
   "outputs": [
    {
     "name": "stdout",
     "output_type": "stream",
     "text": [
      "TfidfVectorizer with LogisticRegression summary of accuracy scores:\n",
      "GridSearchCV best accuracy = 0.809\n",
      "\n",
      "Using GridSearchCV best params suggested,\n",
      "Training corpus accuracy = 0.83\n",
      "Testing corpus accuracy = 0.81\n"
     ]
    }
   ],
   "source": [
    "# Summary scores of TfidfVectorizer and LogisticRegression.\n",
    "\n",
    "print(\"TfidfVectorizer with LogisticRegression summary of accuracy scores:\")\n",
    "print(f\"GridSearchCV best accuracy = {round(gs_pipe2.best_score_, 3)}\")\n",
    "print(\"\\nUsing GridSearchCV best params suggested,\")\n",
    "print(f\"Training corpus accuracy = {round(gs_pipe2.score(X_train, y_train), 3)}\")\n",
    "print(f\"Testing corpus accuracy = {round(gs_pipe2.score(X_test, y_test), 3)}\")"
   ]
  },
  {
   "cell_type": "code",
   "execution_count": 19,
   "metadata": {},
   "outputs": [],
   "source": [
    "# Creacting a summary dataframe.\n",
    "\n",
    "summary_df = pd.DataFrame(columns=[\n",
    "    'iteration',\n",
    "    'transformer_estimator', \n",
    "    'GS_best_params', \n",
    "    'GS_best_score', \n",
    "    'train_accuracy', \n",
    "    'test_accuracy'\n",
    "])"
   ]
  },
  {
   "cell_type": "code",
   "execution_count": 20,
   "metadata": {},
   "outputs": [],
   "source": [
    "# Adding the accuracy scores from above two GridSearchCV models into summary_df.\n",
    "\n",
    "summary_df.loc[1] = [\n",
    "    'Baseline',\n",
    "    'CountVec | LogisticRegression',\n",
    "    str(gs_pipe1.best_params_),\n",
    "    round(gs_pipe1.best_score_, 3),\n",
    "    round(gs_pipe1.score(X_train, y_train), 3),\n",
    "    round(gs_pipe1.score(X_test, y_test), 3)\n",
    "]\n",
    "\n",
    "summary_df.loc[2] = [\n",
    "    'Baseline',\n",
    "    'TfidfVec | LogisticRegression',\n",
    "    str(gs_pipe2.best_params_),\n",
    "    round(gs_pipe2.best_score_, 3),\n",
    "    round(gs_pipe2.score(X_train, y_train), 3),\n",
    "    round(gs_pipe2.score(X_test, y_test), 3)\n",
    "]"
   ]
  },
  {
   "cell_type": "code",
   "execution_count": 21,
   "metadata": {},
   "outputs": [
    {
     "data": {
      "text/html": [
       "<div>\n",
       "<style scoped>\n",
       "    .dataframe tbody tr th:only-of-type {\n",
       "        vertical-align: middle;\n",
       "    }\n",
       "\n",
       "    .dataframe tbody tr th {\n",
       "        vertical-align: top;\n",
       "    }\n",
       "\n",
       "    .dataframe thead th {\n",
       "        text-align: right;\n",
       "    }\n",
       "</style>\n",
       "<table border=\"1\" class=\"dataframe\">\n",
       "  <thead>\n",
       "    <tr style=\"text-align: right;\">\n",
       "      <th></th>\n",
       "      <th>iteration</th>\n",
       "      <th>transformer_estimator</th>\n",
       "      <th>GS_best_params</th>\n",
       "      <th>GS_best_score</th>\n",
       "      <th>train_accuracy</th>\n",
       "      <th>test_accuracy</th>\n",
       "    </tr>\n",
       "  </thead>\n",
       "  <tbody>\n",
       "    <tr>\n",
       "      <th>1</th>\n",
       "      <td>Baseline</td>\n",
       "      <td>CountVec | LogisticRegression</td>\n",
       "      <td>{'cvec1__max_df': 0.7, 'cvec1__max_features': 1000, 'cvec1__min_df': 0.02, 'cvec1__ngram_range': (1, 1), 'logreg1__max_iter': 1000}</td>\n",
       "      <td>0.801</td>\n",
       "      <td>0.826</td>\n",
       "      <td>0.803</td>\n",
       "    </tr>\n",
       "    <tr>\n",
       "      <th>2</th>\n",
       "      <td>Baseline</td>\n",
       "      <td>TfidfVec | LogisticRegression</td>\n",
       "      <td>{'logreg2__max_iter': 1000, 'tfvec2__max_df': 0.7, 'tfvec2__max_features': 1000, 'tfvec2__min_df': 0.02, 'tfvec2__ngram_range': (1, 1)}</td>\n",
       "      <td>0.809</td>\n",
       "      <td>0.830</td>\n",
       "      <td>0.810</td>\n",
       "    </tr>\n",
       "  </tbody>\n",
       "</table>\n",
       "</div>"
      ],
      "text/plain": [
       "  iteration          transformer_estimator  \\\n",
       "1  Baseline  CountVec | LogisticRegression   \n",
       "2  Baseline  TfidfVec | LogisticRegression   \n",
       "\n",
       "                                                                                                                            GS_best_params  \\\n",
       "1      {'cvec1__max_df': 0.7, 'cvec1__max_features': 1000, 'cvec1__min_df': 0.02, 'cvec1__ngram_range': (1, 1), 'logreg1__max_iter': 1000}   \n",
       "2  {'logreg2__max_iter': 1000, 'tfvec2__max_df': 0.7, 'tfvec2__max_features': 1000, 'tfvec2__min_df': 0.02, 'tfvec2__ngram_range': (1, 1)}   \n",
       "\n",
       "   GS_best_score  train_accuracy  test_accuracy  \n",
       "1          0.801           0.826          0.803  \n",
       "2          0.809           0.830          0.810  "
      ]
     },
     "execution_count": 21,
     "metadata": {},
     "output_type": "execute_result"
    }
   ],
   "source": [
    "summary_df"
   ]
  },
  {
   "cell_type": "markdown",
   "metadata": {},
   "source": [
    "From the summary table, we can infer that the best combination of transformer hyperparameters to be \n",
    "- *max_features* = 500\n",
    "- *min_df* = 0.05 \n",
    "- *max_df* = 0.8 \n",
    "- ngram_range=(1,2)\t- for *tfidfVectorizer*\n",
    "\n",
    "Judging solely on the accuracy scores, using **CountVectorizer** has very good accuracy on the training but did poorly on the testing corpus. This implies that this model is **overfitting on the training corpus**. \n",
    "\n",
    "On the other, using **TfidfVectorizer** transformer has better accuracy fir GSCV best score, and lesser delta between the train and test accuracy scores, suggesting that the **model may not be as overfitted than *CountVectorizer***\n",
    "\n",
    "Therefore, I will use *TfidfVectorizer* for further classification model.\n",
    "\n"
   ]
  },
  {
   "cell_type": "markdown",
   "metadata": {},
   "source": [
    "## Hyper-parameter tuning"
   ]
  },
  {
   "cell_type": "markdown",
   "metadata": {},
   "source": [
    "### MultinomialNB Classifier"
   ]
  },
  {
   "cell_type": "markdown",
   "metadata": {},
   "source": [
    "There are 3 common types of Naive Bayes models: *Bernoulli Naive Bayes*, *Multinomial Naive Bayes*, and *Gaussian Naive Bayes*.\n",
    "\n",
    "- [Bernoulli Naive Bayes](https://scikit-learn.org/stable/modules/generated/sklearn.naive_bayes.BernoulliNB.html#sklearn.naive_bayes.BernoulliNB): when we have 0/1 variables.\n",
    "- [Multinomial Naive Bayes](https://scikit-learn.org/stable/modules/generated/sklearn.naive_bayes.MultinomialNB.html#sklearn.naive_bayes.MultinomialNB): when our variables are positive integers.\n",
    "- [Gaussian Naive Bayes](https://scikit-learn.org/stable/modules/generated/sklearn.naive_bayes.GaussianNB.html#sklearn.naive_bayes.GaussianNB): when our features are Normally distributed.\n",
    "\n",
    "We will be using ***MultinomialNB*** as it consideres a feature vector with all the individual words in a all post where a given term represent the number of times it appears. "
   ]
  },
  {
   "cell_type": "code",
   "execution_count": 22,
   "metadata": {},
   "outputs": [],
   "source": [
    "# create pipe3 for transformer: TfidfVectorizer and estimator using MultinomialNB\n",
    "\n",
    "pipe3 = Pipeline([('tfvec', TfidfVectorizer(stop_words= stopwordlist)),\n",
    "                  ('nb', MultinomialNB())\n",
    "                 ])"
   ]
  },
  {
   "cell_type": "code",
   "execution_count": 23,
   "metadata": {},
   "outputs": [],
   "source": [
    "# # creating parameters for GridSearch SV using hyperparameters as shown below \n",
    "# pipe3_params = {'tfvec__max_features': np.linspace(3500,3600,10, dtype = int),\n",
    "#                 'tfvec__min_df': [0.0001,0.0002,0.0003],\n",
    "#                 'tfvec__max_df': [0.3],\n",
    "#                 'tfvec__ngram_range': [(1,1)],\n",
    "#                 'nb__alpha' : [1.0e-10],\n",
    "# }"
   ]
  },
  {
   "cell_type": "code",
   "execution_count": 24,
   "metadata": {},
   "outputs": [],
   "source": [
    "# creating parameters for GridSearch SV using hyperparameters as shown below \n",
    "pipe3_params = {'tfvec__max_features': [3555],\n",
    "                'tfvec__min_df': [0.0002],\n",
    "                'tfvec__max_df': [0.3],\n",
    "                'tfvec__ngram_range': [(1,1)],\n",
    "                'nb__alpha' : [1.0e-10],\n",
    "}"
   ]
  },
  {
   "cell_type": "code",
   "execution_count": 25,
   "metadata": {},
   "outputs": [],
   "source": [
    "# Creatingg GridSeachCV using pipeline: pipe3 and params_grid:  pipe3_params\n",
    "\n",
    "gs_pipe3 = GridSearchCV(pipe3, param_grid=pipe3_params, cv=5,n_jobs=-1)"
   ]
  },
  {
   "cell_type": "code",
   "execution_count": 26,
   "metadata": {},
   "outputs": [
    {
     "data": {
      "text/plain": [
       "GridSearchCV(cv=5,\n",
       "             estimator=Pipeline(steps=[('tfvec',\n",
       "                                        TfidfVectorizer(stop_words=['i', 'me',\n",
       "                                                                    'my',\n",
       "                                                                    'myself',\n",
       "                                                                    'we', 'our',\n",
       "                                                                    'ours',\n",
       "                                                                    'ourselves',\n",
       "                                                                    'you',\n",
       "                                                                    \"you're\",\n",
       "                                                                    \"you've\",\n",
       "                                                                    \"you'll\",\n",
       "                                                                    \"you'd\",\n",
       "                                                                    'your',\n",
       "                                                                    'yours',\n",
       "                                                                    'yourself',\n",
       "                                                                    'yourselves',\n",
       "                                                                    'he', 'him',\n",
       "                                                                    'his',\n",
       "                                                                    'himself',\n",
       "                                                                    'she',\n",
       "                                                                    \"she's\",\n",
       "                                                                    'her',\n",
       "                                                                    'hers',\n",
       "                                                                    'herself',\n",
       "                                                                    'it',\n",
       "                                                                    \"it's\",\n",
       "                                                                    'its',\n",
       "                                                                    'itself', ...])),\n",
       "                                       ('nb', MultinomialNB())]),\n",
       "             n_jobs=-1,\n",
       "             param_grid={'nb__alpha': [1e-10], 'tfvec__max_df': [0.3],\n",
       "                         'tfvec__max_features': [3555],\n",
       "                         'tfvec__min_df': [0.0002],\n",
       "                         'tfvec__ngram_range': [(1, 1)]})"
      ]
     },
     "execution_count": 26,
     "metadata": {},
     "output_type": "execute_result"
    }
   ],
   "source": [
    "# Fitting GridSearchCV with CountVectorizer transformer on X_train and y_train.\n",
    "\n",
    "gs_pipe3.fit(X_train, y_train)"
   ]
  },
  {
   "cell_type": "code",
   "execution_count": 27,
   "metadata": {},
   "outputs": [
    {
     "data": {
      "text/plain": [
       "{'nb__alpha': 1e-10,\n",
       " 'tfvec__max_df': 0.3,\n",
       " 'tfvec__max_features': 3555,\n",
       " 'tfvec__min_df': 0.0002,\n",
       " 'tfvec__ngram_range': (1, 1)}"
      ]
     },
     "execution_count": 27,
     "metadata": {},
     "output_type": "execute_result"
    }
   ],
   "source": [
    "# Get best parameters using MultinomialNB and TfidfVectorizer\n",
    "\n",
    "gs_pipe3.best_params_"
   ]
  },
  {
   "cell_type": "code",
   "execution_count": 28,
   "metadata": {},
   "outputs": [
    {
     "name": "stdout",
     "output_type": "stream",
     "text": [
      "TfidfVectorizer with MultinomialNB summary of accuracy scores:\n",
      "GridSearchCV best accuracy = 0.828\n",
      "\n",
      "Using GridSearchCV best params suggested,\n",
      "Training corpus accuracy = 0.854\n",
      "Testing corpus accuracy = 0.827\n"
     ]
    }
   ],
   "source": [
    "# Summary scores of TfidfVectorizer and MultinomialNB.\n",
    "\n",
    "print(\"TfidfVectorizer with MultinomialNB summary of accuracy scores:\")\n",
    "print(f\"GridSearchCV best accuracy = {round(gs_pipe3.best_score_, 3)}\")\n",
    "print(\"\\nUsing GridSearchCV best params suggested,\")\n",
    "print(f\"Training corpus accuracy = {round(gs_pipe3.score(X_train, y_train), 3)}\")\n",
    "print(f\"Testing corpus accuracy = {round(gs_pipe3.score(X_test, y_test), 3)}\")"
   ]
  },
  {
   "cell_type": "code",
   "execution_count": 29,
   "metadata": {},
   "outputs": [],
   "source": [
    "# adding summary \n",
    "\n",
    "summary_df.loc[3] = [\n",
    "    'Hyperparameter Tuned',\n",
    "    'TfidfVec | MultinomialNB',\n",
    "    str(gs_pipe3.best_params_),\n",
    "    round(gs_pipe3.best_score_, 3),\n",
    "    round(gs_pipe3.score(X_train, y_train), 3),\n",
    "    round(gs_pipe3.score(X_test, y_test), 3)\n",
    "]"
   ]
  },
  {
   "cell_type": "code",
   "execution_count": 30,
   "metadata": {},
   "outputs": [
    {
     "data": {
      "text/html": [
       "<div>\n",
       "<style scoped>\n",
       "    .dataframe tbody tr th:only-of-type {\n",
       "        vertical-align: middle;\n",
       "    }\n",
       "\n",
       "    .dataframe tbody tr th {\n",
       "        vertical-align: top;\n",
       "    }\n",
       "\n",
       "    .dataframe thead th {\n",
       "        text-align: right;\n",
       "    }\n",
       "</style>\n",
       "<table border=\"1\" class=\"dataframe\">\n",
       "  <thead>\n",
       "    <tr style=\"text-align: right;\">\n",
       "      <th></th>\n",
       "      <th>iteration</th>\n",
       "      <th>transformer_estimator</th>\n",
       "      <th>GS_best_params</th>\n",
       "      <th>GS_best_score</th>\n",
       "      <th>train_accuracy</th>\n",
       "      <th>test_accuracy</th>\n",
       "    </tr>\n",
       "  </thead>\n",
       "  <tbody>\n",
       "    <tr>\n",
       "      <th>1</th>\n",
       "      <td>Baseline</td>\n",
       "      <td>CountVec | LogisticRegression</td>\n",
       "      <td>{'cvec1__max_df': 0.7, 'cvec1__max_features': 1000, 'cvec1__min_df': 0.02, 'cvec1__ngram_range': (1, 1), 'logreg1__max_iter': 1000}</td>\n",
       "      <td>0.801</td>\n",
       "      <td>0.826</td>\n",
       "      <td>0.803</td>\n",
       "    </tr>\n",
       "    <tr>\n",
       "      <th>2</th>\n",
       "      <td>Baseline</td>\n",
       "      <td>TfidfVec | LogisticRegression</td>\n",
       "      <td>{'logreg2__max_iter': 1000, 'tfvec2__max_df': 0.7, 'tfvec2__max_features': 1000, 'tfvec2__min_df': 0.02, 'tfvec2__ngram_range': (1, 1)}</td>\n",
       "      <td>0.809</td>\n",
       "      <td>0.830</td>\n",
       "      <td>0.810</td>\n",
       "    </tr>\n",
       "    <tr>\n",
       "      <th>3</th>\n",
       "      <td>Hyperparameter Tuned</td>\n",
       "      <td>TfidfVec | MultinomialNB</td>\n",
       "      <td>{'nb__alpha': 1e-10, 'tfvec__max_df': 0.3, 'tfvec__max_features': 3555, 'tfvec__min_df': 0.0002, 'tfvec__ngram_range': (1, 1)}</td>\n",
       "      <td>0.828</td>\n",
       "      <td>0.854</td>\n",
       "      <td>0.827</td>\n",
       "    </tr>\n",
       "  </tbody>\n",
       "</table>\n",
       "</div>"
      ],
      "text/plain": [
       "              iteration          transformer_estimator  \\\n",
       "1              Baseline  CountVec | LogisticRegression   \n",
       "2              Baseline  TfidfVec | LogisticRegression   \n",
       "3  Hyperparameter Tuned       TfidfVec | MultinomialNB   \n",
       "\n",
       "                                                                                                                            GS_best_params  \\\n",
       "1      {'cvec1__max_df': 0.7, 'cvec1__max_features': 1000, 'cvec1__min_df': 0.02, 'cvec1__ngram_range': (1, 1), 'logreg1__max_iter': 1000}   \n",
       "2  {'logreg2__max_iter': 1000, 'tfvec2__max_df': 0.7, 'tfvec2__max_features': 1000, 'tfvec2__min_df': 0.02, 'tfvec2__ngram_range': (1, 1)}   \n",
       "3           {'nb__alpha': 1e-10, 'tfvec__max_df': 0.3, 'tfvec__max_features': 3555, 'tfvec__min_df': 0.0002, 'tfvec__ngram_range': (1, 1)}   \n",
       "\n",
       "   GS_best_score  train_accuracy  test_accuracy  \n",
       "1          0.801           0.826          0.803  \n",
       "2          0.809           0.830          0.810  \n",
       "3          0.828           0.854          0.827  "
      ]
     },
     "execution_count": 30,
     "metadata": {},
     "output_type": "execute_result"
    }
   ],
   "source": [
    "summary_df"
   ]
  },
  {
   "cell_type": "markdown",
   "metadata": {},
   "source": [
    "From the above table, we can see that Multinomial has overall better scores than the Log Reg. The model is relatively overfitted as well. Lets breakdown to see what are the most impactful words that distinguishes between users in r/PTSD and those who arent. "
   ]
  },
  {
   "cell_type": "markdown",
   "metadata": {},
   "source": [
    "### Logistic Regression Modelling"
   ]
  },
  {
   "cell_type": "code",
   "execution_count": 31,
   "metadata": {},
   "outputs": [],
   "source": [
    "# Creating Pipeline with:\n",
    "# Estimator: LogisticRegression (both)\n",
    "# Transformer: CountVectorizer - pipe1, TfidfVectorizer - pipe2\n",
    "\n",
    "pipe4 = Pipeline([('tfvec4', TfidfVectorizer(stop_words= stopwordlist)),\n",
    "                  ('logreg4', LogisticRegression())\n",
    "                 ])"
   ]
  },
  {
   "cell_type": "code",
   "execution_count": 32,
   "metadata": {},
   "outputs": [],
   "source": [
    "# <!-- # Declaring fixed one-off hyperparameters max_features, min_df, max_df & ngram_range for GridSearchCV first.\n",
    "\n",
    "# pipe4_params = {'tfvec4__max_features': [9000,9500,10000],\n",
    "#                m 'tfvec4__min_df': [0],\n",
    "#                 'tfvec4__max_df':np.linspace(0.22,0.225,10),\n",
    "#                 'tfvec4__ngram_range': [(1,1)],\n",
    "#                 'logreg4__max_iter': [1000]\n",
    "#                } -->"
   ]
  },
  {
   "cell_type": "code",
   "execution_count": 33,
   "metadata": {},
   "outputs": [],
   "source": [
    "# Declaring fixed one-off hyperparameters max_features, min_df, max_df & ngram_range for GridSearchCV first.\n",
    "\n",
    "pipe4_params = {'tfvec4__max_features': [9500],\n",
    "                'tfvec4__min_df': [0],\n",
    "                'tfvec4__max_df':[0.225],\n",
    "                'tfvec4__ngram_range': [(1,1)],\n",
    "                'logreg4__max_iter': [1000]\n",
    "               }"
   ]
  },
  {
   "cell_type": "code",
   "execution_count": 34,
   "metadata": {},
   "outputs": [],
   "source": [
    "# Creating two separate GridSearchCV objects for:\n",
    "# TfidfVectorizer and Logistic Regression with Hyper-parameter tuning\n",
    "\n",
    "gs_pipe4 = GridSearchCV(pipe4, param_grid=pipe4_params, cv=5)"
   ]
  },
  {
   "cell_type": "code",
   "execution_count": 35,
   "metadata": {},
   "outputs": [
    {
     "data": {
      "text/plain": [
       "GridSearchCV(cv=5,\n",
       "             estimator=Pipeline(steps=[('tfvec4',\n",
       "                                        TfidfVectorizer(stop_words=['i', 'me',\n",
       "                                                                    'my',\n",
       "                                                                    'myself',\n",
       "                                                                    'we', 'our',\n",
       "                                                                    'ours',\n",
       "                                                                    'ourselves',\n",
       "                                                                    'you',\n",
       "                                                                    \"you're\",\n",
       "                                                                    \"you've\",\n",
       "                                                                    \"you'll\",\n",
       "                                                                    \"you'd\",\n",
       "                                                                    'your',\n",
       "                                                                    'yours',\n",
       "                                                                    'yourself',\n",
       "                                                                    'yourselves',\n",
       "                                                                    'he', 'him',\n",
       "                                                                    'his',\n",
       "                                                                    'himself',\n",
       "                                                                    'she',\n",
       "                                                                    \"she's\",\n",
       "                                                                    'her',\n",
       "                                                                    'hers',\n",
       "                                                                    'herself',\n",
       "                                                                    'it',\n",
       "                                                                    \"it's\",\n",
       "                                                                    'its',\n",
       "                                                                    'itself', ...])),\n",
       "                                       ('logreg4', LogisticRegression())]),\n",
       "             param_grid={'logreg4__max_iter': [1000], 'tfvec4__max_df': [0.225],\n",
       "                         'tfvec4__max_features': [9500], 'tfvec4__min_df': [0],\n",
       "                         'tfvec4__ngram_range': [(1, 1)]})"
      ]
     },
     "execution_count": 35,
     "metadata": {},
     "output_type": "execute_result"
    }
   ],
   "source": [
    "# Fitting GridSearchCV with CountVectorizer transformer on X_train and y_train.\n",
    "\n",
    "gs_pipe4.fit(X_train, y_train)"
   ]
  },
  {
   "cell_type": "code",
   "execution_count": 36,
   "metadata": {},
   "outputs": [
    {
     "data": {
      "text/plain": [
       "{'logreg4__max_iter': 1000,\n",
       " 'tfvec4__max_df': 0.225,\n",
       " 'tfvec4__max_features': 9500,\n",
       " 'tfvec4__min_df': 0,\n",
       " 'tfvec4__ngram_range': (1, 1)}"
      ]
     },
     "execution_count": 36,
     "metadata": {},
     "output_type": "execute_result"
    }
   ],
   "source": [
    "# Best combination of hyperparameters suggested by GridSearchCV for TfidfVectorizer transformer.\n",
    "\n",
    "gs_pipe4.best_params_"
   ]
  },
  {
   "cell_type": "code",
   "execution_count": 37,
   "metadata": {},
   "outputs": [
    {
     "name": "stdout",
     "output_type": "stream",
     "text": [
      "TfidfVectorizer with LogisticRegression summary of accuracy scores:\n",
      "GridSearchCV best accuracy = 0.845\n",
      "\n",
      "Using GridSearchCV best params suggested,\n",
      "Training corpus accuracy = 0.897\n",
      "Testing corpus accuracy = 0.844\n"
     ]
    }
   ],
   "source": [
    "# Summary scores of CountVectorizer and LogisticRegression.\n",
    "\n",
    "print(\"TfidfVectorizer with LogisticRegression summary of accuracy scores:\")\n",
    "print(f\"GridSearchCV best accuracy = {round(gs_pipe4.best_score_, 3)}\")\n",
    "print(\"\\nUsing GridSearchCV best params suggested,\")\n",
    "print(f\"Training corpus accuracy = {round(gs_pipe4.score(X_train, y_train), 3)}\")\n",
    "print(f\"Testing corpus accuracy = {round(gs_pipe4.score(X_test, y_test), 3)}\")"
   ]
  },
  {
   "cell_type": "markdown",
   "metadata": {},
   "source": [
    "TfidfVectorizer with LogisticRegression summary of accuracy scores:\n",
    "GridSearchCV best accuracy = 0.85\n",
    "\n",
    "Using GridSearchCV best params suggested,\n",
    "Training corpus accuracy = 0.901\n",
    "Testing corpus accuracy = 0.849"
   ]
  },
  {
   "cell_type": "code",
   "execution_count": 38,
   "metadata": {},
   "outputs": [],
   "source": [
    "# Adding the accuracy scores from above two GridSearchCV models into summary_df.\n",
    "\n",
    "summary_df.loc[4] = [\n",
    "    'Hyperparameter Tuned',\n",
    "    'TfidfVec | LogisticRegression',\n",
    "    str(gs_pipe4.best_params_),\n",
    "    round(gs_pipe4.best_score_, 3),\n",
    "    round(gs_pipe4.score(X_train, y_train), 3),\n",
    "    round(gs_pipe4.score(X_test, y_test), 3)\n",
    "]"
   ]
  },
  {
   "cell_type": "code",
   "execution_count": 39,
   "metadata": {},
   "outputs": [
    {
     "data": {
      "text/html": [
       "<div>\n",
       "<style scoped>\n",
       "    .dataframe tbody tr th:only-of-type {\n",
       "        vertical-align: middle;\n",
       "    }\n",
       "\n",
       "    .dataframe tbody tr th {\n",
       "        vertical-align: top;\n",
       "    }\n",
       "\n",
       "    .dataframe thead th {\n",
       "        text-align: right;\n",
       "    }\n",
       "</style>\n",
       "<table border=\"1\" class=\"dataframe\">\n",
       "  <thead>\n",
       "    <tr style=\"text-align: right;\">\n",
       "      <th></th>\n",
       "      <th>iteration</th>\n",
       "      <th>transformer_estimator</th>\n",
       "      <th>GS_best_params</th>\n",
       "      <th>GS_best_score</th>\n",
       "      <th>train_accuracy</th>\n",
       "      <th>test_accuracy</th>\n",
       "    </tr>\n",
       "  </thead>\n",
       "  <tbody>\n",
       "    <tr>\n",
       "      <th>1</th>\n",
       "      <td>Baseline</td>\n",
       "      <td>CountVec | LogisticRegression</td>\n",
       "      <td>{'cvec1__max_df': 0.7, 'cvec1__max_features': 1000, 'cvec1__min_df': 0.02, 'cvec1__ngram_range': (1, 1), 'logreg1__max_iter': 1000}</td>\n",
       "      <td>0.801</td>\n",
       "      <td>0.826</td>\n",
       "      <td>0.803</td>\n",
       "    </tr>\n",
       "    <tr>\n",
       "      <th>2</th>\n",
       "      <td>Baseline</td>\n",
       "      <td>TfidfVec | LogisticRegression</td>\n",
       "      <td>{'logreg2__max_iter': 1000, 'tfvec2__max_df': 0.7, 'tfvec2__max_features': 1000, 'tfvec2__min_df': 0.02, 'tfvec2__ngram_range': (1, 1)}</td>\n",
       "      <td>0.809</td>\n",
       "      <td>0.830</td>\n",
       "      <td>0.810</td>\n",
       "    </tr>\n",
       "    <tr>\n",
       "      <th>3</th>\n",
       "      <td>Hyperparameter Tuned</td>\n",
       "      <td>TfidfVec | MultinomialNB</td>\n",
       "      <td>{'nb__alpha': 1e-10, 'tfvec__max_df': 0.3, 'tfvec__max_features': 3555, 'tfvec__min_df': 0.0002, 'tfvec__ngram_range': (1, 1)}</td>\n",
       "      <td>0.828</td>\n",
       "      <td>0.854</td>\n",
       "      <td>0.827</td>\n",
       "    </tr>\n",
       "    <tr>\n",
       "      <th>4</th>\n",
       "      <td>Hyperparameter Tuned</td>\n",
       "      <td>TfidfVec | LogisticRegression</td>\n",
       "      <td>{'logreg4__max_iter': 1000, 'tfvec4__max_df': 0.225, 'tfvec4__max_features': 9500, 'tfvec4__min_df': 0, 'tfvec4__ngram_range': (1, 1)}</td>\n",
       "      <td>0.845</td>\n",
       "      <td>0.897</td>\n",
       "      <td>0.844</td>\n",
       "    </tr>\n",
       "  </tbody>\n",
       "</table>\n",
       "</div>"
      ],
      "text/plain": [
       "              iteration          transformer_estimator  \\\n",
       "1              Baseline  CountVec | LogisticRegression   \n",
       "2              Baseline  TfidfVec | LogisticRegression   \n",
       "3  Hyperparameter Tuned       TfidfVec | MultinomialNB   \n",
       "4  Hyperparameter Tuned  TfidfVec | LogisticRegression   \n",
       "\n",
       "                                                                                                                            GS_best_params  \\\n",
       "1      {'cvec1__max_df': 0.7, 'cvec1__max_features': 1000, 'cvec1__min_df': 0.02, 'cvec1__ngram_range': (1, 1), 'logreg1__max_iter': 1000}   \n",
       "2  {'logreg2__max_iter': 1000, 'tfvec2__max_df': 0.7, 'tfvec2__max_features': 1000, 'tfvec2__min_df': 0.02, 'tfvec2__ngram_range': (1, 1)}   \n",
       "3           {'nb__alpha': 1e-10, 'tfvec__max_df': 0.3, 'tfvec__max_features': 3555, 'tfvec__min_df': 0.0002, 'tfvec__ngram_range': (1, 1)}   \n",
       "4   {'logreg4__max_iter': 1000, 'tfvec4__max_df': 0.225, 'tfvec4__max_features': 9500, 'tfvec4__min_df': 0, 'tfvec4__ngram_range': (1, 1)}   \n",
       "\n",
       "   GS_best_score  train_accuracy  test_accuracy  \n",
       "1          0.801           0.826          0.803  \n",
       "2          0.809           0.830          0.810  \n",
       "3          0.828           0.854          0.827  \n",
       "4          0.845           0.897          0.844  "
      ]
     },
     "execution_count": 39,
     "metadata": {},
     "output_type": "execute_result"
    }
   ],
   "source": [
    "summary_df"
   ]
  },
  {
   "cell_type": "markdown",
   "metadata": {},
   "source": [
    "The MultinomialNB has the highest scores, with slight overfit to test accuracy scores. \n",
    "However, I did notice that the Logistic Regression after hyperparameter tuning, it was able to pick up ngrams with range of 2 as a best parameter. "
   ]
  },
  {
   "cell_type": "markdown",
   "metadata": {},
   "source": [
    "### Random Forest Classifier"
   ]
  },
  {
   "cell_type": "code",
   "execution_count": 40,
   "metadata": {},
   "outputs": [],
   "source": [
    "# Creating Pipeline with:\n",
    "# Estimator: Random Forest Classifier\n",
    "# Transformer: TfidfVectorizer - pipe5\n",
    "\n",
    "pipe5 = Pipeline([('tfvec5', TfidfVectorizer(stop_words= stopwordlist)),\n",
    "                  ('RanForest', RandomForestClassifier())\n",
    "                 ])"
   ]
  },
  {
   "cell_type": "code",
   "execution_count": 41,
   "metadata": {},
   "outputs": [],
   "source": [
    "# # Declaring fixed one-off hyperparameters max_features, min_df, max_df & ngram_range for GridSearchCV first.\n",
    "\n",
    "# pipe5_params = {'tfvec5__max_features': [9000],\n",
    "#                 'tfvec5__min_df': [0],\n",
    "#                 'tfvec5__max_df': [0.7,0.75,0.8],\n",
    "#                 'tfvec5__ngram_range': [(1,1)],\n",
    "#                 'RanForest__n_estimators': [300],\n",
    "#                 'RanForest__max_depth': [None],\n",
    "#                 'RanForest__max_features': ['sqrt']\n",
    "#                }"
   ]
  },
  {
   "cell_type": "code",
   "execution_count": 42,
   "metadata": {},
   "outputs": [],
   "source": [
    "# Declaring fixed one-off hyperparameters max_features, min_df, max_df & ngram_range for GridSearchCV first.\n",
    "\n",
    "pipe5_params = {'tfvec5__max_features': [9000],\n",
    "                'tfvec5__min_df': [0],\n",
    "                'tfvec5__max_df': [0.8],\n",
    "                'tfvec5__ngram_range': [(1,1)],\n",
    "                'RanForest__n_estimators': [300],\n",
    "                'RanForest__max_depth': [None],\n",
    "                'RanForest__max_features': ['sqrt']\n",
    "               }"
   ]
  },
  {
   "cell_type": "code",
   "execution_count": 43,
   "metadata": {},
   "outputs": [],
   "source": [
    "# Creating two separate GridSearchCV objects for:\n",
    "# TfidfVectorizer and RandomForestClassifier with Hyper-parameter tuning\n",
    "\n",
    "gs_pipe5 = GridSearchCV(pipe5, param_grid=pipe5_params, cv=5, n_jobs= -1)"
   ]
  },
  {
   "cell_type": "code",
   "execution_count": 44,
   "metadata": {},
   "outputs": [
    {
     "data": {
      "text/plain": [
       "GridSearchCV(cv=5,\n",
       "             estimator=Pipeline(steps=[('tfvec5',\n",
       "                                        TfidfVectorizer(stop_words=['i', 'me',\n",
       "                                                                    'my',\n",
       "                                                                    'myself',\n",
       "                                                                    'we', 'our',\n",
       "                                                                    'ours',\n",
       "                                                                    'ourselves',\n",
       "                                                                    'you',\n",
       "                                                                    \"you're\",\n",
       "                                                                    \"you've\",\n",
       "                                                                    \"you'll\",\n",
       "                                                                    \"you'd\",\n",
       "                                                                    'your',\n",
       "                                                                    'yours',\n",
       "                                                                    'yourself',\n",
       "                                                                    'yourselves',\n",
       "                                                                    'he', 'him',\n",
       "                                                                    'his',\n",
       "                                                                    'himself',\n",
       "                                                                    'she',\n",
       "                                                                    \"she's\",\n",
       "                                                                    'her',\n",
       "                                                                    'hers',\n",
       "                                                                    'herself',\n",
       "                                                                    'it',\n",
       "                                                                    \"it's\",\n",
       "                                                                    'its',\n",
       "                                                                    'itself', ...])),\n",
       "                                       ('RanForest',\n",
       "                                        RandomForestClassifier())]),\n",
       "             n_jobs=-1,\n",
       "             param_grid={'RanForest__max_depth': [None],\n",
       "                         'RanForest__max_features': ['sqrt'],\n",
       "                         'RanForest__n_estimators': [300],\n",
       "                         'tfvec5__max_df': [0.8],\n",
       "                         'tfvec5__max_features': [9000], 'tfvec5__min_df': [0],\n",
       "                         'tfvec5__ngram_range': [(1, 1)]})"
      ]
     },
     "execution_count": 44,
     "metadata": {},
     "output_type": "execute_result"
    }
   ],
   "source": [
    "# Fitting GridSearchCV with TfidfVectorizer transformer on X_train and y_train.\n",
    "\n",
    "gs_pipe5.fit(X_train, y_train)"
   ]
  },
  {
   "cell_type": "code",
   "execution_count": 45,
   "metadata": {},
   "outputs": [
    {
     "data": {
      "text/plain": [
       "{'RanForest__max_depth': None,\n",
       " 'RanForest__max_features': 'sqrt',\n",
       " 'RanForest__n_estimators': 300,\n",
       " 'tfvec5__max_df': 0.8,\n",
       " 'tfvec5__max_features': 9000,\n",
       " 'tfvec5__min_df': 0,\n",
       " 'tfvec5__ngram_range': (1, 1)}"
      ]
     },
     "execution_count": 45,
     "metadata": {},
     "output_type": "execute_result"
    }
   ],
   "source": [
    "# Best combination of hyperparameters suggested by GridSearchCV for TfidfVectorizer transformer.\n",
    "\n",
    "gs_pipe5.best_params_"
   ]
  },
  {
   "cell_type": "code",
   "execution_count": 46,
   "metadata": {},
   "outputs": [
    {
     "name": "stdout",
     "output_type": "stream",
     "text": [
      "TfidfVectorizer with LogisticRegression summary of accuracy scores:\n",
      "GridSearchCV best accuracy = 0.823\n",
      "\n",
      "Using GridSearchCV best params suggested,\n",
      "Training corpus accuracy = 1.0\n",
      "Testing corpus accuracy = 0.827\n"
     ]
    }
   ],
   "source": [
    "# Summary scores of TfidfVectorizer and RandomForestClassifier.\n",
    "\n",
    "print(\"TfidfVectorizer with LogisticRegression summary of accuracy scores:\")\n",
    "print(f\"GridSearchCV best accuracy = {round(gs_pipe5.best_score_, 3)}\")\n",
    "print(\"\\nUsing GridSearchCV best params suggested,\")\n",
    "print(f\"Training corpus accuracy = {round(gs_pipe5.score(X_train, y_train), 3)}\")\n",
    "print(f\"Testing corpus accuracy = {round(gs_pipe5.score(X_test, y_test), 3)}\")"
   ]
  },
  {
   "cell_type": "code",
   "execution_count": 47,
   "metadata": {},
   "outputs": [],
   "source": [
    "# Adding the accuracy scores from above two GridSearchCV models into summary_df.\n",
    "\n",
    "summary_df.loc[5] = [\n",
    "    'Hyperparameter Tuned',\n",
    "    'TfidfVec | RandomForest',\n",
    "    str(gs_pipe5.best_params_),\n",
    "    round(gs_pipe5.best_score_, 3),\n",
    "    round(gs_pipe5.score(X_train, y_train), 3),\n",
    "    round(gs_pipe5.score(X_test, y_test), 3)\n",
    "]"
   ]
  },
  {
   "cell_type": "code",
   "execution_count": 48,
   "metadata": {},
   "outputs": [
    {
     "data": {
      "text/html": [
       "<div>\n",
       "<style scoped>\n",
       "    .dataframe tbody tr th:only-of-type {\n",
       "        vertical-align: middle;\n",
       "    }\n",
       "\n",
       "    .dataframe tbody tr th {\n",
       "        vertical-align: top;\n",
       "    }\n",
       "\n",
       "    .dataframe thead th {\n",
       "        text-align: right;\n",
       "    }\n",
       "</style>\n",
       "<table border=\"1\" class=\"dataframe\">\n",
       "  <thead>\n",
       "    <tr style=\"text-align: right;\">\n",
       "      <th></th>\n",
       "      <th>iteration</th>\n",
       "      <th>transformer_estimator</th>\n",
       "      <th>GS_best_params</th>\n",
       "      <th>GS_best_score</th>\n",
       "      <th>train_accuracy</th>\n",
       "      <th>test_accuracy</th>\n",
       "    </tr>\n",
       "  </thead>\n",
       "  <tbody>\n",
       "    <tr>\n",
       "      <th>1</th>\n",
       "      <td>Baseline</td>\n",
       "      <td>CountVec | LogisticRegression</td>\n",
       "      <td>{'cvec1__max_df': 0.7, 'cvec1__max_features': 1000, 'cvec1__min_df': 0.02, 'cvec1__ngram_range': (1, 1), 'logreg1__max_iter': 1000}</td>\n",
       "      <td>0.801</td>\n",
       "      <td>0.826</td>\n",
       "      <td>0.803</td>\n",
       "    </tr>\n",
       "    <tr>\n",
       "      <th>2</th>\n",
       "      <td>Baseline</td>\n",
       "      <td>TfidfVec | LogisticRegression</td>\n",
       "      <td>{'logreg2__max_iter': 1000, 'tfvec2__max_df': 0.7, 'tfvec2__max_features': 1000, 'tfvec2__min_df': 0.02, 'tfvec2__ngram_range': (1, 1)}</td>\n",
       "      <td>0.809</td>\n",
       "      <td>0.830</td>\n",
       "      <td>0.810</td>\n",
       "    </tr>\n",
       "    <tr>\n",
       "      <th>3</th>\n",
       "      <td>Hyperparameter Tuned</td>\n",
       "      <td>TfidfVec | MultinomialNB</td>\n",
       "      <td>{'nb__alpha': 1e-10, 'tfvec__max_df': 0.3, 'tfvec__max_features': 3555, 'tfvec__min_df': 0.0002, 'tfvec__ngram_range': (1, 1)}</td>\n",
       "      <td>0.828</td>\n",
       "      <td>0.854</td>\n",
       "      <td>0.827</td>\n",
       "    </tr>\n",
       "    <tr>\n",
       "      <th>4</th>\n",
       "      <td>Hyperparameter Tuned</td>\n",
       "      <td>TfidfVec | LogisticRegression</td>\n",
       "      <td>{'logreg4__max_iter': 1000, 'tfvec4__max_df': 0.225, 'tfvec4__max_features': 9500, 'tfvec4__min_df': 0, 'tfvec4__ngram_range': (1, 1)}</td>\n",
       "      <td>0.845</td>\n",
       "      <td>0.897</td>\n",
       "      <td>0.844</td>\n",
       "    </tr>\n",
       "    <tr>\n",
       "      <th>5</th>\n",
       "      <td>Hyperparameter Tuned</td>\n",
       "      <td>TfidfVec | RandomForest</td>\n",
       "      <td>{'RanForest__max_depth': None, 'RanForest__max_features': 'sqrt', 'RanForest__n_estimators': 300, 'tfvec5__max_df': 0.8, 'tfvec5__max_features': 9000, 'tfvec5__min_df': 0, 'tfvec5__ngram_range': (1, 1)}</td>\n",
       "      <td>0.823</td>\n",
       "      <td>1.000</td>\n",
       "      <td>0.827</td>\n",
       "    </tr>\n",
       "  </tbody>\n",
       "</table>\n",
       "</div>"
      ],
      "text/plain": [
       "              iteration          transformer_estimator  \\\n",
       "1              Baseline  CountVec | LogisticRegression   \n",
       "2              Baseline  TfidfVec | LogisticRegression   \n",
       "3  Hyperparameter Tuned       TfidfVec | MultinomialNB   \n",
       "4  Hyperparameter Tuned  TfidfVec | LogisticRegression   \n",
       "5  Hyperparameter Tuned        TfidfVec | RandomForest   \n",
       "\n",
       "                                                                                                                                                                                               GS_best_params  \\\n",
       "1                                                                         {'cvec1__max_df': 0.7, 'cvec1__max_features': 1000, 'cvec1__min_df': 0.02, 'cvec1__ngram_range': (1, 1), 'logreg1__max_iter': 1000}   \n",
       "2                                                                     {'logreg2__max_iter': 1000, 'tfvec2__max_df': 0.7, 'tfvec2__max_features': 1000, 'tfvec2__min_df': 0.02, 'tfvec2__ngram_range': (1, 1)}   \n",
       "3                                                                              {'nb__alpha': 1e-10, 'tfvec__max_df': 0.3, 'tfvec__max_features': 3555, 'tfvec__min_df': 0.0002, 'tfvec__ngram_range': (1, 1)}   \n",
       "4                                                                      {'logreg4__max_iter': 1000, 'tfvec4__max_df': 0.225, 'tfvec4__max_features': 9500, 'tfvec4__min_df': 0, 'tfvec4__ngram_range': (1, 1)}   \n",
       "5  {'RanForest__max_depth': None, 'RanForest__max_features': 'sqrt', 'RanForest__n_estimators': 300, 'tfvec5__max_df': 0.8, 'tfvec5__max_features': 9000, 'tfvec5__min_df': 0, 'tfvec5__ngram_range': (1, 1)}   \n",
       "\n",
       "   GS_best_score  train_accuracy  test_accuracy  \n",
       "1          0.801           0.826          0.803  \n",
       "2          0.809           0.830          0.810  \n",
       "3          0.828           0.854          0.827  \n",
       "4          0.845           0.897          0.844  \n",
       "5          0.823           1.000          0.827  "
      ]
     },
     "execution_count": 48,
     "metadata": {},
     "output_type": "execute_result"
    }
   ],
   "source": [
    "summary_df"
   ]
  },
  {
   "cell_type": "markdown",
   "metadata": {},
   "source": [
    "We can see clear overfitting from the RandomForest Classifier from the training set which scored at 0.999 vs test data of 0.81. This suggest that the model will be unfit to generalise to unseen data. "
   ]
  },
  {
   "cell_type": "markdown",
   "metadata": {},
   "source": [
    "## Error Analysis"
   ]
  },
  {
   "cell_type": "markdown",
   "metadata": {},
   "source": [
    "### Analysis on top few features\n",
    "\n",
    "Comparison between Logistic Regression, MultinomialNB and RandomForest\n",
    "\n",
    "Features were selected by retrieving feature importance by calculating:\n",
    "- Coefficients from Logistic regression\n",
    "- Relative difference of log probability from MultinomialNB\n",
    "- Mean decrease in impurity from RandomForest"
   ]
  },
  {
   "cell_type": "code",
   "execution_count": 49,
   "metadata": {},
   "outputs": [
    {
     "data": {
      "image/png": "[encoded data removed]",
      "text/plain": [
       "<Figure size 432x288 with 1 Axes>"
      ]
     },
     "metadata": {
      "needs_background": "light"
     },
     "output_type": "display_data"
    }
   ],
   "source": [
    "df_logreg = pd.DataFrame([[x,y] for x,y in zip(gs_pipe2.best_estimator_[0].get_feature_names_out(), (gs_pipe2.best_estimator_[1].coef_).tolist()[0])])\n",
    "df_logreg.rename(columns= {0: 'Features', 1: 'Coefficients'}, inplace = True)\n",
    "df_logreg.sort_values(by = 'Coefficients', ascending = False).head(15)\n",
    "\n",
    "\n",
    "df_plot_logreg_top = pd.DataFrame(\n",
    "        {\n",
    "        'Coefficients': df_logreg.sort_values(by = 'Coefficients', ascending = False).head(15)['Coefficients'].tolist(),\n",
    "        'Top Features': df_logreg.sort_values(by = 'Coefficients', ascending = False).head(15)['Features'].tolist()\n",
    "})\n",
    "\n",
    "\n",
    "df_plot_logreg_top.sort_values(by = 'Coefficients', ascending = True).plot.barh(x = 'Top Features', y='Coefficients');\n",
    "\n"
   ]
  },
  {
   "cell_type": "code",
   "execution_count": 50,
   "metadata": {},
   "outputs": [
    {
     "data": {
      "text/plain": [
       "array(['ab', 'abandoned', 'abandonment', ..., 'zone', 'zoning', 'zoom'],\n",
       "      dtype=object)"
      ]
     },
     "execution_count": 50,
     "metadata": {},
     "output_type": "execute_result"
    }
   ],
   "source": [
    "gs_pipe3.best_estimator_[0].get_feature_names_out()"
   ]
  },
  {
   "cell_type": "code",
   "execution_count": 51,
   "metadata": {},
   "outputs": [
    {
     "data": {
      "text/plain": [
       "-10.572373668497137"
      ]
     },
     "execution_count": 51,
     "metadata": {},
     "output_type": "execute_result"
    }
   ],
   "source": [
    "gs_pipe3.best_estimator_[1].feature_log_prob_[0,0]"
   ]
  },
  {
   "cell_type": "code",
   "execution_count": 52,
   "metadata": {},
   "outputs": [
    {
     "data": {
      "text/plain": [
       "-9.417041177300522"
      ]
     },
     "execution_count": 52,
     "metadata": {},
     "output_type": "execute_result"
    }
   ],
   "source": [
    "gs_pipe3.best_estimator_[1].feature_log_prob_[1,0]"
   ]
  },
  {
   "cell_type": "code",
   "execution_count": 53,
   "metadata": {},
   "outputs": [
    {
     "data": {
      "text/plain": [
       "array([ 1.15533249,  1.50594691,  1.43264377, ..., -0.62336898,\n",
       "        0.53052085, -1.03481485])"
      ]
     },
     "execution_count": 53,
     "metadata": {},
     "output_type": "execute_result"
    }
   ],
   "source": [
    "gs_pipe3.best_estimator_[1].feature_log_prob_[1, :] - gs_pipe3.best_estimator_[1].feature_log_prob_[0, :]"
   ]
  },
  {
   "cell_type": "code",
   "execution_count": 54,
   "metadata": {},
   "outputs": [
    {
     "data": {
      "image/png": "[encoded data removed]",
      "text/plain": [
       "<Figure size 432x288 with 1 Axes>"
      ]
     },
     "metadata": {
      "needs_background": "light"
     },
     "output_type": "display_data"
    }
   ],
   "source": [
    "delta = gs_pipe3.best_estimator_[1].feature_log_prob_[1, :] - gs_pipe3.best_estimator_[1].feature_log_prob_[0, :]\n",
    "\n",
    "df_multinomial = pd.DataFrame([[x,y] for x,y in zip(gs_pipe3.best_estimator_[0].get_feature_names_out(),(delta))])\n",
    "df_multinomial.rename(columns= {0: 'Features', 1: 'log_prob_diff'}, inplace = True)\n",
    "df_multinomial.sort_values(by = 'log_prob_diff', ascending = False).head(15)\n",
    "\n",
    "df_plot_multi_top = pd.DataFrame(\n",
    "        {\n",
    "        'Log Probability Difference': df_multinomial.sort_values(by = 'log_prob_diff', ascending = False).head(15)['log_prob_diff'].tolist(),\n",
    "        'Top Features': df_multinomial.sort_values(by = 'log_prob_diff', ascending = False).head(15)['Features'].tolist()\n",
    "})\n",
    "\n",
    "\n",
    "df_plot_multi_top.sort_values(by = 'Log Probability Difference', ascending = True).plot.barh(x = 'Top Features', y='Log Probability Difference');"
   ]
  },
  {
   "cell_type": "code",
   "execution_count": 55,
   "metadata": {},
   "outputs": [
    {
     "data": {
      "image/png": "[encoded data removed]",
      "text/plain": [
       "<Figure size 432x288 with 1 Axes>"
      ]
     },
     "metadata": {
      "needs_background": "light"
     },
     "output_type": "display_data"
    }
   ],
   "source": [
    "forest_feat_importance = pd.DataFrame(gs_pipe5.best_estimator_[1].feature_importances_, index = gs_pipe5.best_estimator_[0].get_feature_names_out()).sort_values(by = 0, ascending = False).head(15)\n",
    "forest_feat_importance.columns = ['mean_decrease_impurity']\n",
    "\n",
    "forest_feat_importance = forest_feat_importance.reset_index()\n",
    "forest_feat_importance.columns = ['Features', 'mean_decrease_impurity']\n",
    "\n",
    "\n",
    "df_plot_forest_top = pd.DataFrame(\n",
    "        {\n",
    "        'Mean Decrease Impurity': forest_feat_importance['mean_decrease_impurity'].tolist(),\n",
    "        'Top Features': forest_feat_importance['Features'].tolist()\n",
    "})\n",
    "\n",
    "\n",
    "df_plot_forest_top.sort_values(by = 'Mean Decrease Impurity', ascending = True).plot.barh(x = 'Top Features', y='Mean Decrease Impurity');"
   ]
  },
  {
   "cell_type": "markdown",
   "metadata": {},
   "source": [
    "**Comments on top few features**\n",
    "- For logistic regression model, the top few features like 'flashbacks', 'nightmares', 'triggers' can serve as ***true symptoms of users suffering from PTSD***. Based on ([*source*](https://www.psychologytoday.com/us/conditions/post-traumatic-stress-disorder)), patients suffering from PTSD then to have those stated features. \n",
    "\n",
    "- Although it contains some words like 'abuse' that might describe ***causes of PTSD***, I believe when looking at the top few features from MultinomialNB, I can find more words that describes the ***causes AND triggers of PTSD*** more like 'rape', 'firework', 'gunshot', 'csa' which stands for childhood sexual abuse, 'repressed', 'stalked'.\n",
    "\n",
    "- RandomForest has similar features ranked the same way as the Logistic Regression.  \n",
    "\n",
    "- Overall by far, aligned with the accuracy score, I would conclude that MultinomialNB is more superior in getting defining words that may classifiy people with PTSD more. "
   ]
  },
  {
   "cell_type": "code",
   "execution_count": 56,
   "metadata": {},
   "outputs": [
    {
     "data": {
      "text/plain": [
       "35                                                                                                                                                                                                                                    anyone else feel sound hit body awful hate freaking firework\n",
       "47      last night bad asking neighbor heard anything could sworn heard gun shot maybe firework nothing ordinary live country maybe people hunting bed started shaking though kept seeing dark people figure triggered feel drained crap sleep getting day like nothing happened want control vent\n",
       "1646                                                                                                                                                                                                     extremely scared firework past abuse tonight firework show distract firework show tonight\n",
       "Name: lemmi_clean_text, dtype: object"
      ]
     },
     "execution_count": 56,
     "metadata": {},
     "output_type": "execute_result"
    }
   ],
   "source": [
    "df.loc[df['lemmi_clean_text'].str.contains('firework'), 'lemmi_clean_text'][0:3]"
   ]
  },
  {
   "cell_type": "code",
   "execution_count": 57,
   "metadata": {},
   "outputs": [
    {
     "data": {
      "text/html": [
       "<div>\n",
       "<style scoped>\n",
       "    .dataframe tbody tr th:only-of-type {\n",
       "        vertical-align: middle;\n",
       "    }\n",
       "\n",
       "    .dataframe tbody tr th {\n",
       "        vertical-align: top;\n",
       "    }\n",
       "\n",
       "    .dataframe thead th {\n",
       "        text-align: right;\n",
       "    }\n",
       "</style>\n",
       "<table border=\"1\" class=\"dataframe\">\n",
       "  <thead>\n",
       "    <tr style=\"text-align: right;\">\n",
       "      <th></th>\n",
       "      <th>author</th>\n",
       "    </tr>\n",
       "    <tr>\n",
       "      <th>month</th>\n",
       "      <th></th>\n",
       "    </tr>\n",
       "  </thead>\n",
       "  <tbody>\n",
       "    <tr>\n",
       "      <th>1</th>\n",
       "      <td>7</td>\n",
       "    </tr>\n",
       "    <tr>\n",
       "      <th>2</th>\n",
       "      <td>3</td>\n",
       "    </tr>\n",
       "    <tr>\n",
       "      <th>5</th>\n",
       "      <td>1</td>\n",
       "    </tr>\n",
       "    <tr>\n",
       "      <th>6</th>\n",
       "      <td>7</td>\n",
       "    </tr>\n",
       "    <tr>\n",
       "      <th>7</th>\n",
       "      <td>33</td>\n",
       "    </tr>\n",
       "    <tr>\n",
       "      <th>8</th>\n",
       "      <td>5</td>\n",
       "    </tr>\n",
       "    <tr>\n",
       "      <th>9</th>\n",
       "      <td>4</td>\n",
       "    </tr>\n",
       "    <tr>\n",
       "      <th>10</th>\n",
       "      <td>3</td>\n",
       "    </tr>\n",
       "    <tr>\n",
       "      <th>11</th>\n",
       "      <td>5</td>\n",
       "    </tr>\n",
       "    <tr>\n",
       "      <th>12</th>\n",
       "      <td>2</td>\n",
       "    </tr>\n",
       "  </tbody>\n",
       "</table>\n",
       "</div>"
      ],
      "text/plain": [
       "       author\n",
       "month        \n",
       "1           7\n",
       "2           3\n",
       "5           1\n",
       "6           7\n",
       "7          33\n",
       "8           5\n",
       "9           4\n",
       "10          3\n",
       "11          5\n",
       "12          2"
      ]
     },
     "execution_count": 57,
     "metadata": {},
     "output_type": "execute_result"
    }
   ],
   "source": [
    "df[df['lemmi_clean_text'].str.contains('firework')].groupby('month').count()[['author']]"
   ]
  },
  {
   "cell_type": "markdown",
   "metadata": {},
   "source": [
    "***Firework Identified***\n",
    "\n",
    "Found Fireworks seem to be interesting, upon investigating main dataset, the word mainly coming from the text and the title as well, explaining they have triggers likely due to firework loud noises. \n",
    "\n",
    "The fact that it was highlighted as a main feature, suggest that it might be severe more with users from r/PTSD. True enough, based on ([*source*](https://www.insider.com/how-fireworks-affect-you-from-increased-anxiety-and-memory-problems-2020-7#:~:text=Repetitive%20fireworks%20launched%20at%20night,can%20weaken%20your%20immune%20system.)), people with past trauma related to sound are impacted significantly worse by loud explosion of fireworks, causing reminiscent of threat and may have activated the brain's threat detector. \n",
    "\n",
    "Linking back to the EDA on post, we did see spikes on July 2021.Based on ([*source*](https://wgntv.com/news/fireworks-retailer-warns-of-july-4-shortage-here-are-the-states-where-its-legal-to-stock-up/)), there is seasonal fireworks on every 4th of July across many states in the US. Although we cant assume most users from the subreddits are from US, but it is room for exploration, to deep dive into the location and firework activities. \n",
    "\n"
   ]
  },
  {
   "cell_type": "markdown",
   "metadata": {},
   "source": [
    "### Analysis on bottom few features\n",
    "\n",
    "Comparison between Logistic Regression, MultinomialNB and RandomForest\n",
    "\n",
    "Features were selected by retrieving feature importance by calculating:\n",
    "- Coefficients from Logistic regression\n",
    "- Relative difference of log probability from MultinomialNB\n",
    "- Mean decrease in impurity from RandomForest"
   ]
  },
  {
   "cell_type": "code",
   "execution_count": 58,
   "metadata": {},
   "outputs": [
    {
     "data": {
      "text/plain": [
       "['health',\n",
       " 'driving',\n",
       " 'breath',\n",
       " 'fear',\n",
       " 'stressed',\n",
       " 'mg',\n",
       " 'medication',\n",
       " 'attack',\n",
       " 'worried',\n",
       " 'prescribed',\n",
       " 'heart',\n",
       " 'worry',\n",
       " 'chest',\n",
       " 'stomach',\n",
       " 'social']"
      ]
     },
     "execution_count": 58,
     "metadata": {},
     "output_type": "execute_result"
    }
   ],
   "source": [
    "df_logreg.sort_values(by = 'Coefficients', ascending = False).tail(15)['Features'].tolist()"
   ]
  },
  {
   "cell_type": "code",
   "execution_count": 59,
   "metadata": {},
   "outputs": [
    {
     "data": {
      "image/png": "[encoded data removed]",
      "text/plain": [
       "<Figure size 432x288 with 1 Axes>"
      ]
     },
     "metadata": {
      "needs_background": "light"
     },
     "output_type": "display_data"
    }
   ],
   "source": [
    "df_logreg = pd.DataFrame([[x,y] for x,y in zip(gs_pipe2.best_estimator_[0].get_feature_names_out(), (gs_pipe2.best_estimator_[1].coef_).tolist()[0])])\n",
    "df_logreg.rename(columns= {0: 'Features', 1: 'Coefficients'}, inplace = True)\n",
    "df_logreg.sort_values(by = 'Coefficients', ascending = False).tail(15)\n",
    "\n",
    "index = df_logreg.sort_values(by = 'Coefficients', ascending = False).tail(15)['Features'].tolist()\n",
    "coef = df_logreg.sort_values(by = 'Coefficients', ascending = False).tail(15)['Coefficients'].tolist()\n",
    "\n",
    "df_plot_logreg = pd.DataFrame({'Coefficients': coef,'Top Features': index})\n",
    "                        \n",
    "df_plot_logreg.plot.barh(x = 'Top Features', y='Coefficients');\n"
   ]
  },
  {
   "cell_type": "markdown",
   "metadata": {},
   "source": [
    "Words like `Anxious`, `worry`, `fear`, are most commonly used to identify as users from r/Anxiety. "
   ]
  },
  {
   "cell_type": "code",
   "execution_count": 60,
   "metadata": {},
   "outputs": [
    {
     "data": {
      "image/png": "[encoded data removed]",
      "text/plain": [
       "<Figure size 432x288 with 1 Axes>"
      ]
     },
     "metadata": {
      "needs_background": "light"
     },
     "output_type": "display_data"
    }
   ],
   "source": [
    "delta = gs_pipe3.best_estimator_[1].feature_log_prob_[1, :] - gs_pipe3.best_estimator_[1].feature_log_prob_[0, :]\n",
    "\n",
    "df_multinomial = pd.DataFrame([[x,y] for x,y in zip(gs_pipe3.best_estimator_[0].get_feature_names_out(),(delta))])\n",
    "df_multinomial.rename(columns= {0: 'Features', 1: 'log_prob_diff'}, inplace = True)\n",
    "df_multinomial.sort_values(by = 'log_prob_diff', ascending = False).tail(15)\n",
    "\n",
    "df_plot_multi = pd.DataFrame({\n",
    "    'Log Probability Difference': df_multinomial.sort_values(by = 'log_prob_diff', ascending = False).tail(15)['log_prob_diff'].tolist(),\n",
    "    'Top Features': df_multinomial.sort_values(by = 'log_prob_diff', ascending = False).tail(15)['Features'].tolist()}\n",
    ")\n",
    "                        \n",
    "df_plot_multi.plot.barh(x = 'Top Features', y='Log Probability Difference');"
   ]
  },
  {
   "cell_type": "markdown",
   "metadata": {},
   "source": [
    "Words such as `CBC - Complete Blood Count`, `wbc - White blood cells` and `ekg` have the most predictive power to skew predictions towards r/Anxiety.\n",
    "\n",
    "This indicates that most people having Anxiety will go for treatments and medications and often check for vital signs such as `cbc` and `wbc`. Based on ([*source*](https://pubmed.ncbi.nlm.nih.gov/28697416/)), people with anxiety tend to have increase `WBC` after measuring and evaluated their `CBC`. "
   ]
  },
  {
   "cell_type": "markdown",
   "metadata": {},
   "source": [
    "### Confusion matrix\n",
    "\n",
    "Keeping in mind of minimising False negatives to boost sensitivity, we will use only MultinomialNB with the best params attained above for further error analysis \n",
    "\n",
    "We will look at the following \n",
    "1) False Negatives \n",
    "2) False Positive"
   ]
  },
  {
   "cell_type": "code",
   "execution_count": 61,
   "metadata": {},
   "outputs": [
    {
     "name": "stderr",
     "output_type": "stream",
     "text": [
      "C:\\Users\\Admin\\.conda\\envs\\myenv\\lib\\site-packages\\sklearn\\utils\\deprecation.py:87: FutureWarning: Function plot_confusion_matrix is deprecated; Function `plot_confusion_matrix` is deprecated in 1.0 and will be removed in 1.2. Use one of the class methods: ConfusionMatrixDisplay.from_predictions or ConfusionMatrixDisplay.from_estimator.\n",
      "  warnings.warn(msg, category=FutureWarning)\n"
     ]
    },
    {
     "data": {
      "image/png": "[encoded data removed]",
      "text/plain": [
       "<Figure size 432x288 with 2 Axes>"
      ]
     },
     "metadata": {
      "needs_background": "light"
     },
     "output_type": "display_data"
    }
   ],
   "source": [
    "# Generate predictions.\n",
    "preds = gs_pipe3.predict(X_test)\n",
    "\n",
    "# Generate confusion matrix.\n",
    "# Documentation here: https://scikit-learn.org/stable/modules/generated/sklearn.metrics.confusion_matrix.html\n",
    "\n",
    "confusion_matrix(y_test, # True values.\n",
    "                 preds)  # Predicted values.\n",
    "\n",
    "# Save TN/FP/FN/TP values.\n",
    "\n",
    "tn, fp, fn, tp = confusion_matrix(y_test, preds).ravel();\n",
    "\n",
    "# Plot Confusion matrix\n",
    "plot_confusion_matrix(gs_pipe3, X_test, y_test, cmap='Blues', \n",
    "                      values_format='d', display_labels=['r/Anxiety', 'r/PTSD']);                 "
   ]
  },
  {
   "cell_type": "markdown",
   "metadata": {},
   "source": [
    "### Analysis of Misclassified Posts\n",
    "\n",
    "We will be having two approaches \n",
    "1) Parallel comparison \n",
    "2) Analyse False Positive/negative classes for counts/weights of each word"
   ]
  },
  {
   "cell_type": "code",
   "execution_count": 62,
   "metadata": {},
   "outputs": [],
   "source": [
    "# create a dataframe to contain the posts, actual reddit and predicted reddit\n",
    "\n",
    "y_test_pred_df = pd.DataFrame()\n",
    "y_test_pred_df['index'] = y_test.index\n",
    "y_test_pred_df['y'] = y_test.values\n",
    "y_test_pred_df['y_pred'] = preds\n",
    "y_test_pred_df = y_test_pred_df.merge(df.reset_index(), on = 'index')\n",
    "\n",
    "y_test_pred_df = y_test_pred_df[['author','index','y','y_pred','title','selftext','lemmi_clean_text','month','user_contribute_where']]"
   ]
  },
  {
   "cell_type": "code",
   "execution_count": 63,
   "metadata": {},
   "outputs": [],
   "source": [
    "error_df = y_test_pred_df[((y_test_pred_df['y'] == 1) & (y_test_pred_df['y_pred'] == 0)) | ((y_test_pred_df['y'] == 0) & (y_test_pred_df['y_pred'] == 1))]"
   ]
  },
  {
   "cell_type": "markdown",
   "metadata": {},
   "source": [
    "#### Parallel comparison"
   ]
  },
  {
   "cell_type": "code",
   "execution_count": 64,
   "metadata": {},
   "outputs": [
    {
     "data": {
      "text/html": [
       "<div>\n",
       "<style scoped>\n",
       "    .dataframe tbody tr th:only-of-type {\n",
       "        vertical-align: middle;\n",
       "    }\n",
       "\n",
       "    .dataframe tbody tr th {\n",
       "        vertical-align: top;\n",
       "    }\n",
       "\n",
       "    .dataframe thead th {\n",
       "        text-align: right;\n",
       "    }\n",
       "</style>\n",
       "<table border=\"1\" class=\"dataframe\">\n",
       "  <thead>\n",
       "    <tr style=\"text-align: right;\">\n",
       "      <th></th>\n",
       "      <th>title</th>\n",
       "      <th>lemmi_clean_text</th>\n",
       "      <th>y</th>\n",
       "      <th>y_pred</th>\n",
       "    </tr>\n",
       "  </thead>\n",
       "  <tbody>\n",
       "    <tr>\n",
       "      <th>391</th>\n",
       "      <td>Can’t seem to relax</td>\n",
       "      <td>past - year state constant mental distress cannot seem relax everything bother frustrates keep intrusive thought get angry sad get overwhelming get better started address year ago le gotten slightly better maybe point would like also dealing w think dp dr year exhausted brain torturing cannot seem relax</td>\n",
       "      <td>1</td>\n",
       "      <td>0</td>\n",
       "    </tr>\n",
       "    <tr>\n",
       "      <th>431</th>\n",
       "      <td>talking to someone in my head?</td>\n",
       "      <td>hi quite feel really weird someone really trust everything always alone always talking head like whole story feeling often kind worried normal talking someone head</td>\n",
       "      <td>1</td>\n",
       "      <td>0</td>\n",
       "    </tr>\n",
       "    <tr>\n",
       "      <th>970</th>\n",
       "      <td>I Stole Money to Eat</td>\n",
       "      <td>know even fall since medication behaving weirdly went depression week ago unemployment ran read big red print front page submitting proof self-employed filed appeal submitted paperwork depression tore life apart kind since money tight bf rock pay everything well mean like end borrow parent sometimes really trying together going fine money got cut three week pay stuff towards end fighting lobster breaking body try bring much money possible u save get place right got spot almost able save happened frustrated good reason handle pressure well neither kind explosive trying live co-create x b anyways maine away everyone everything know fight found gift card room broken three dollar name decided use night like midnight ended talking getting back together next morning yesterday woke unemployment account paid back lent week feel guilty taking money card feel like cannot even tell hate rest eternity never steal honest kind furious heartbroken hungry starving really trying fast want ask money well like feel guilty also feel worried super happy paying back getting unemployment past girlfriend stolen ton said would pay back never etc stolen whole life reason come clean like got back together even hour yet know stole money eat</td>\n",
       "      <td>1</td>\n",
       "      <td>0</td>\n",
       "    </tr>\n",
       "    <tr>\n",
       "      <th>1238</th>\n",
       "      <td>losing weight because of ptsd</td>\n",
       "      <td>anyone else experience weight loss right cm kg eating food make throw stressed appetite completely gone anyone advice losing weight</td>\n",
       "      <td>1</td>\n",
       "      <td>0</td>\n",
       "    </tr>\n",
       "    <tr>\n",
       "      <th>1277</th>\n",
       "      <td>Work problems</td>\n",
       "      <td>let go job third month wednesday panic attack suicidal primary concern phone time coworker comanager calling texted let coworker know medical emergency would able go work day told coworker would reach bos hr done talking doctor text message eventually contacted hr hour later technically yes show let know happened thursday friday today hospital medical documentation every day except wednesday spoke hr today let go call show wednesday cut loss try fight hr nice understanding good relationship following order general manager depression pretty well last week lot going trigger working work problem</td>\n",
       "      <td>1</td>\n",
       "      <td>0</td>\n",
       "    </tr>\n",
       "  </tbody>\n",
       "</table>\n",
       "</div>"
      ],
      "text/plain": [
       "                               title  \\\n",
       "391              Can’t seem to relax   \n",
       "431   talking to someone in my head?   \n",
       "970             I Stole Money to Eat   \n",
       "1238   losing weight because of ptsd   \n",
       "1277                   Work problems   \n",
       "\n",
       "                                                                                                                                                                                                                                                                                                                                                                                                                                                                                                                                                                                                                                                                                                                                                                                                                                                                                                                                                                                                                                                                                                                                                                                                                                                                      lemmi_clean_text  \\\n",
       "391                                                                                                                                                                                                                                                                                                                                                                                                                                                                                                                                                                                                                                                                                                                                                                                                                                                                                                                                                                   past - year state constant mental distress cannot seem relax everything bother frustrates keep intrusive thought get angry sad get overwhelming get better started address year ago le gotten slightly better maybe point would like also dealing w think dp dr year exhausted brain torturing cannot seem relax   \n",
       "431                                                                                                                                                                                                                                                                                                                                                                                                                                                                                                                                                                                                                                                                                                                                                                                                                                                                                                                                                                                                                                                                                                                hi quite feel really weird someone really trust everything always alone always talking head like whole story feeling often kind worried normal talking someone head   \n",
       "970   know even fall since medication behaving weirdly went depression week ago unemployment ran read big red print front page submitting proof self-employed filed appeal submitted paperwork depression tore life apart kind since money tight bf rock pay everything well mean like end borrow parent sometimes really trying together going fine money got cut three week pay stuff towards end fighting lobster breaking body try bring much money possible u save get place right got spot almost able save happened frustrated good reason handle pressure well neither kind explosive trying live co-create x b anyways maine away everyone everything know fight found gift card room broken three dollar name decided use night like midnight ended talking getting back together next morning yesterday woke unemployment account paid back lent week feel guilty taking money card feel like cannot even tell hate rest eternity never steal honest kind furious heartbroken hungry starving really trying fast want ask money well like feel guilty also feel worried super happy paying back getting unemployment past girlfriend stolen ton said would pay back never etc stolen whole life reason come clean like got back together even hour yet know stole money eat   \n",
       "1238                                                                                                                                                                                                                                                                                                                                                                                                                                                                                                                                                                                                                                                                                                                                                                                                                                                                                                                                                                                                                                                                                                                                               anyone else experience weight loss right cm kg eating food make throw stressed appetite completely gone anyone advice losing weight   \n",
       "1277                                                                                                                                                                                                                                                                                                                                                                                                                                                                                                                                                                                                                                                           let go job third month wednesday panic attack suicidal primary concern phone time coworker comanager calling texted let coworker know medical emergency would able go work day told coworker would reach bos hr done talking doctor text message eventually contacted hr hour later technically yes show let know happened thursday friday today hospital medical documentation every day except wednesday spoke hr today let go call show wednesday cut loss try fight hr nice understanding good relationship following order general manager depression pretty well last week lot going trigger working work problem   \n",
       "\n",
       "      y  y_pred  \n",
       "391   1       0  \n",
       "431   1       0  \n",
       "970   1       0  \n",
       "1238  1       0  \n",
       "1277  1       0  "
      ]
     },
     "execution_count": 64,
     "metadata": {},
     "output_type": "execute_result"
    }
   ],
   "source": [
    "## False Negative dataframe\n",
    "\n",
    "false_neg = error_df[(error_df['y_pred'] == 0) & (error_df['user_contribute_where'] == 'both')]\n",
    "false_neg[['title','lemmi_clean_text','y','y_pred']].head(5)"
   ]
  },
  {
   "cell_type": "code",
   "execution_count": 65,
   "metadata": {},
   "outputs": [],
   "source": [
    "potential_anomaly = false_neg[false_neg['user_contribute_where'] == 'both']"
   ]
  },
  {
   "cell_type": "code",
   "execution_count": 66,
   "metadata": {},
   "outputs": [
    {
     "data": {
      "text/html": [
       "<div>\n",
       "<style scoped>\n",
       "    .dataframe tbody tr th:only-of-type {\n",
       "        vertical-align: middle;\n",
       "    }\n",
       "\n",
       "    .dataframe tbody tr th {\n",
       "        vertical-align: top;\n",
       "    }\n",
       "\n",
       "    .dataframe thead th {\n",
       "        text-align: right;\n",
       "    }\n",
       "</style>\n",
       "<table border=\"1\" class=\"dataframe\">\n",
       "  <thead>\n",
       "    <tr style=\"text-align: right;\">\n",
       "      <th></th>\n",
       "      <th>Counts</th>\n",
       "    </tr>\n",
       "    <tr>\n",
       "      <th>Features</th>\n",
       "      <th></th>\n",
       "    </tr>\n",
       "  </thead>\n",
       "  <tbody>\n",
       "    <tr>\n",
       "      <th>like</th>\n",
       "      <td>16</td>\n",
       "    </tr>\n",
       "    <tr>\n",
       "      <th>feel</th>\n",
       "      <td>15</td>\n",
       "    </tr>\n",
       "    <tr>\n",
       "      <th>day</th>\n",
       "      <td>8</td>\n",
       "    </tr>\n",
       "    <tr>\n",
       "      <th>going</th>\n",
       "      <td>7</td>\n",
       "    </tr>\n",
       "    <tr>\n",
       "      <th>know</th>\n",
       "      <td>7</td>\n",
       "    </tr>\n",
       "    <tr>\n",
       "      <th>...</th>\n",
       "      <td>...</td>\n",
       "    </tr>\n",
       "    <tr>\n",
       "      <th>gift</th>\n",
       "      <td>1</td>\n",
       "    </tr>\n",
       "    <tr>\n",
       "      <th>gi</th>\n",
       "      <td>1</td>\n",
       "    </tr>\n",
       "    <tr>\n",
       "      <th>general</th>\n",
       "      <td>1</td>\n",
       "    </tr>\n",
       "    <tr>\n",
       "      <th>furious</th>\n",
       "      <td>1</td>\n",
       "    </tr>\n",
       "    <tr>\n",
       "      <th>yogurt</th>\n",
       "      <td>1</td>\n",
       "    </tr>\n",
       "  </tbody>\n",
       "</table>\n",
       "<p>424 rows × 1 columns</p>\n",
       "</div>"
      ],
      "text/plain": [
       "          Counts\n",
       "Features        \n",
       "like          16\n",
       "feel          15\n",
       "day            8\n",
       "going          7\n",
       "know           7\n",
       "...          ...\n",
       "gift           1\n",
       "gi             1\n",
       "general        1\n",
       "furious        1\n",
       "yogurt         1\n",
       "\n",
       "[424 rows x 1 columns]"
      ]
     },
     "execution_count": 66,
     "metadata": {},
     "output_type": "execute_result"
    }
   ],
   "source": [
    "List_of_words = pd.DataFrame(potential_anomaly['lemmi_clean_text'].apply(word_tokenize).sum()).reset_index()\n",
    "List_of_words['index'] = 1\n",
    "List_of_words.columns = ['Counts', 'Features']\n",
    "\n",
    "List_of_words.groupby('Features').sum().sort_values(by = 'Counts',ascending=False)"
   ]
  },
  {
   "cell_type": "code",
   "execution_count": 67,
   "metadata": {},
   "outputs": [
    {
     "name": "stdout",
     "output_type": "stream",
     "text": [
      "Weightage of anomoly: -0.09145174568449808\n"
     ]
    },
    {
     "data": {
      "text/html": [
       "<div>\n",
       "<style scoped>\n",
       "    .dataframe tbody tr th:only-of-type {\n",
       "        vertical-align: middle;\n",
       "    }\n",
       "\n",
       "    .dataframe tbody tr th {\n",
       "        vertical-align: top;\n",
       "    }\n",
       "\n",
       "    .dataframe thead th {\n",
       "        text-align: right;\n",
       "    }\n",
       "</style>\n",
       "<table border=\"1\" class=\"dataframe\">\n",
       "  <thead>\n",
       "    <tr style=\"text-align: right;\">\n",
       "      <th></th>\n",
       "      <th>Counts</th>\n",
       "      <th>Features</th>\n",
       "      <th>log_prob_diff</th>\n",
       "      <th>weight</th>\n",
       "    </tr>\n",
       "  </thead>\n",
       "  <tbody>\n",
       "    <tr>\n",
       "      <th>449</th>\n",
       "      <td>1</td>\n",
       "      <td>peak</td>\n",
       "      <td>-2.109752</td>\n",
       "      <td>-0.003815</td>\n",
       "    </tr>\n",
       "    <tr>\n",
       "      <th>396</th>\n",
       "      <td>1</td>\n",
       "      <td>overthinking</td>\n",
       "      <td>-2.000643</td>\n",
       "      <td>-0.003618</td>\n",
       "    </tr>\n",
       "    <tr>\n",
       "      <th>472</th>\n",
       "      <td>1</td>\n",
       "      <td>stutter</td>\n",
       "      <td>-1.998686</td>\n",
       "      <td>-0.003614</td>\n",
       "    </tr>\n",
       "    <tr>\n",
       "      <th>124</th>\n",
       "      <td>1</td>\n",
       "      <td>tight</td>\n",
       "      <td>-1.994901</td>\n",
       "      <td>-0.003607</td>\n",
       "    </tr>\n",
       "    <tr>\n",
       "      <th>506</th>\n",
       "      <td>1</td>\n",
       "      <td>ssri</td>\n",
       "      <td>-1.979013</td>\n",
       "      <td>-0.003579</td>\n",
       "    </tr>\n",
       "    <tr>\n",
       "      <th>404</th>\n",
       "      <td>1</td>\n",
       "      <td>ate</td>\n",
       "      <td>-1.524965</td>\n",
       "      <td>-0.002758</td>\n",
       "    </tr>\n",
       "    <tr>\n",
       "      <th>204</th>\n",
       "      <td>1</td>\n",
       "      <td>pressure</td>\n",
       "      <td>-1.382554</td>\n",
       "      <td>-0.002500</td>\n",
       "    </tr>\n",
       "    <tr>\n",
       "      <th>552</th>\n",
       "      <td>1</td>\n",
       "      <td>sensation</td>\n",
       "      <td>-1.317476</td>\n",
       "      <td>-0.002382</td>\n",
       "    </tr>\n",
       "    <tr>\n",
       "      <th>536</th>\n",
       "      <td>1</td>\n",
       "      <td>test</td>\n",
       "      <td>-1.317261</td>\n",
       "      <td>-0.002382</td>\n",
       "    </tr>\n",
       "    <tr>\n",
       "      <th>257</th>\n",
       "      <td>1</td>\n",
       "      <td>hungry</td>\n",
       "      <td>-1.282566</td>\n",
       "      <td>-0.002319</td>\n",
       "    </tr>\n",
       "    <tr>\n",
       "      <th>292</th>\n",
       "      <td>1</td>\n",
       "      <td>stressed</td>\n",
       "      <td>-1.241437</td>\n",
       "      <td>-0.002245</td>\n",
       "    </tr>\n",
       "    <tr>\n",
       "      <th>451</th>\n",
       "      <td>1</td>\n",
       "      <td>social</td>\n",
       "      <td>-1.196617</td>\n",
       "      <td>-0.002164</td>\n",
       "    </tr>\n",
       "    <tr>\n",
       "      <th>452</th>\n",
       "      <td>1</td>\n",
       "      <td>social</td>\n",
       "      <td>-1.196617</td>\n",
       "      <td>-0.002164</td>\n",
       "    </tr>\n",
       "    <tr>\n",
       "      <th>453</th>\n",
       "      <td>1</td>\n",
       "      <td>social</td>\n",
       "      <td>-1.196617</td>\n",
       "      <td>-0.002164</td>\n",
       "    </tr>\n",
       "    <tr>\n",
       "      <th>312</th>\n",
       "      <td>1</td>\n",
       "      <td>wednesday</td>\n",
       "      <td>-1.170896</td>\n",
       "      <td>-0.002117</td>\n",
       "    </tr>\n",
       "    <tr>\n",
       "      <th>311</th>\n",
       "      <td>1</td>\n",
       "      <td>wednesday</td>\n",
       "      <td>-1.170896</td>\n",
       "      <td>-0.002117</td>\n",
       "    </tr>\n",
       "    <tr>\n",
       "      <th>313</th>\n",
       "      <td>1</td>\n",
       "      <td>wednesday</td>\n",
       "      <td>-1.170896</td>\n",
       "      <td>-0.002117</td>\n",
       "    </tr>\n",
       "    <tr>\n",
       "      <th>507</th>\n",
       "      <td>1</td>\n",
       "      <td>benzos</td>\n",
       "      <td>-1.162094</td>\n",
       "      <td>-0.002101</td>\n",
       "    </tr>\n",
       "    <tr>\n",
       "      <th>460</th>\n",
       "      <td>1</td>\n",
       "      <td>nervous</td>\n",
       "      <td>-1.141147</td>\n",
       "      <td>-0.002064</td>\n",
       "    </tr>\n",
       "    <tr>\n",
       "      <th>459</th>\n",
       "      <td>1</td>\n",
       "      <td>nervous</td>\n",
       "      <td>-1.141147</td>\n",
       "      <td>-0.002064</td>\n",
       "    </tr>\n",
       "  </tbody>\n",
       "</table>\n",
       "</div>"
      ],
      "text/plain": [
       "     Counts      Features  log_prob_diff    weight\n",
       "449       1          peak      -2.109752 -0.003815\n",
       "396       1  overthinking      -2.000643 -0.003618\n",
       "472       1       stutter      -1.998686 -0.003614\n",
       "124       1         tight      -1.994901 -0.003607\n",
       "506       1          ssri      -1.979013 -0.003579\n",
       "404       1           ate      -1.524965 -0.002758\n",
       "204       1      pressure      -1.382554 -0.002500\n",
       "552       1     sensation      -1.317476 -0.002382\n",
       "536       1          test      -1.317261 -0.002382\n",
       "257       1        hungry      -1.282566 -0.002319\n",
       "292       1      stressed      -1.241437 -0.002245\n",
       "451       1        social      -1.196617 -0.002164\n",
       "452       1        social      -1.196617 -0.002164\n",
       "453       1        social      -1.196617 -0.002164\n",
       "312       1     wednesday      -1.170896 -0.002117\n",
       "311       1     wednesday      -1.170896 -0.002117\n",
       "313       1     wednesday      -1.170896 -0.002117\n",
       "507       1        benzos      -1.162094 -0.002101\n",
       "460       1       nervous      -1.141147 -0.002064\n",
       "459       1       nervous      -1.141147 -0.002064"
      ]
     },
     "execution_count": 67,
     "metadata": {},
     "output_type": "execute_result"
    }
   ],
   "source": [
    "# we create dataframe that contains log prob diff\n",
    "filter_false_neg = List_of_words.merge(df_multinomial , on = 'Features', how ='inner')\n",
    "total_count = filter_false_neg['Counts'].sum()\n",
    "filter_false_neg['weight'] = filter_false_neg['Counts'].apply(lambda x: x/total_count)\n",
    "\n",
    "\n",
    "def multiply(col):\n",
    "    weight = col[0]\n",
    "    log = col[1]\n",
    "    return weight * log\n",
    "\n",
    "\n",
    "filter_false_neg['weight'] = filter_false_neg[['weight','log_prob_diff']].apply(lambda x: multiply(x), axis =1)\n",
    "filter_false_neg['weight']\n",
    "\n",
    "weight = filter_false_neg['weight'].sum()\n",
    "print(f'Weightage of anomoly: {weight}')\n",
    "\n",
    "filter_false_neg.sort_values(by = 'weight', ascending=True).head(20)"
   ]
  },
  {
   "cell_type": "markdown",
   "metadata": {},
   "source": [
    "For class to be misclassified as `FALSE NEGATIVE`, its coefficients need to be `-ve`. Hence, the calculatd net weight of the users from both subreddits, contributed a -ve log prob towards r/Anxiety. \n",
    "\n",
    "I would want to remove those words that have `LOW NEGATIVE COEFFICIENTS` so as to only leave out clearly defining words to separate both subreddits\n",
    "\n",
    "Common words such as "
   ]
  },
  {
   "cell_type": "code",
   "execution_count": 68,
   "metadata": {},
   "outputs": [],
   "source": [
    "remove_set = set(filter_false_neg[(filter_false_neg['weight'] <= 0) & (filter_false_neg['weight'] > -0.0005)]['Features'])"
   ]
  },
  {
   "cell_type": "code",
   "execution_count": 69,
   "metadata": {},
   "outputs": [],
   "source": [
    "# Get words in false Negative\n",
    "\n",
    "unique_in_false_neg = set(false_neg['lemmi_clean_text'].apply(word_tokenize).sum())"
   ]
  },
  {
   "cell_type": "code",
   "execution_count": 70,
   "metadata": {},
   "outputs": [],
   "source": [
    "## False Negative dataframe\n",
    "\n",
    "false_pos = error_df[error_df['y_pred'] == 1]"
   ]
  },
  {
   "cell_type": "code",
   "execution_count": 71,
   "metadata": {},
   "outputs": [],
   "source": [
    "potential_anomaly = false_pos[false_pos['user_contribute_where'] == 'both']"
   ]
  },
  {
   "cell_type": "code",
   "execution_count": 72,
   "metadata": {},
   "outputs": [
    {
     "data": {
      "text/html": [
       "<div>\n",
       "<style scoped>\n",
       "    .dataframe tbody tr th:only-of-type {\n",
       "        vertical-align: middle;\n",
       "    }\n",
       "\n",
       "    .dataframe tbody tr th {\n",
       "        vertical-align: top;\n",
       "    }\n",
       "\n",
       "    .dataframe thead th {\n",
       "        text-align: right;\n",
       "    }\n",
       "</style>\n",
       "<table border=\"1\" class=\"dataframe\">\n",
       "  <thead>\n",
       "    <tr style=\"text-align: right;\">\n",
       "      <th></th>\n",
       "      <th>Counts</th>\n",
       "    </tr>\n",
       "    <tr>\n",
       "      <th>Features</th>\n",
       "      <th></th>\n",
       "    </tr>\n",
       "  </thead>\n",
       "  <tbody>\n",
       "    <tr>\n",
       "      <th>would</th>\n",
       "      <td>10</td>\n",
       "    </tr>\n",
       "    <tr>\n",
       "      <th>year</th>\n",
       "      <td>7</td>\n",
       "    </tr>\n",
       "    <tr>\n",
       "      <th>can</th>\n",
       "      <td>7</td>\n",
       "    </tr>\n",
       "    <tr>\n",
       "      <th>time</th>\n",
       "      <td>7</td>\n",
       "    </tr>\n",
       "    <tr>\n",
       "      <th>not</th>\n",
       "      <td>7</td>\n",
       "    </tr>\n",
       "    <tr>\n",
       "      <th>...</th>\n",
       "      <td>...</td>\n",
       "    </tr>\n",
       "    <tr>\n",
       "      <th>gesture</th>\n",
       "      <td>1</td>\n",
       "    </tr>\n",
       "    <tr>\n",
       "      <th>gave</th>\n",
       "      <td>1</td>\n",
       "    </tr>\n",
       "    <tr>\n",
       "      <th>gaslit</th>\n",
       "      <td>1</td>\n",
       "    </tr>\n",
       "    <tr>\n",
       "      <th>game</th>\n",
       "      <td>1</td>\n",
       "    </tr>\n",
       "    <tr>\n",
       "      <th>zoned</th>\n",
       "      <td>1</td>\n",
       "    </tr>\n",
       "  </tbody>\n",
       "</table>\n",
       "<p>374 rows × 1 columns</p>\n",
       "</div>"
      ],
      "text/plain": [
       "          Counts\n",
       "Features        \n",
       "would         10\n",
       "year           7\n",
       "can            7\n",
       "time           7\n",
       "not            7\n",
       "...          ...\n",
       "gesture        1\n",
       "gave           1\n",
       "gaslit         1\n",
       "game           1\n",
       "zoned          1\n",
       "\n",
       "[374 rows x 1 columns]"
      ]
     },
     "execution_count": 72,
     "metadata": {},
     "output_type": "execute_result"
    }
   ],
   "source": [
    "test = pd.DataFrame(potential_anomaly['lemmi_clean_text'].apply(word_tokenize).sum()).reset_index()\n",
    "test['index'] = 1\n",
    "test.columns = ['Counts', 'Features']\n",
    "test = test.groupby('Features').sum().sort_values(by = 'Counts',ascending=False)\n",
    "\n",
    "test"
   ]
  },
  {
   "cell_type": "code",
   "execution_count": 73,
   "metadata": {},
   "outputs": [
    {
     "name": "stdout",
     "output_type": "stream",
     "text": [
      "Weightage of anomoly: 0.11459151880716066\n"
     ]
    },
    {
     "data": {
      "text/html": [
       "<div>\n",
       "<style scoped>\n",
       "    .dataframe tbody tr th:only-of-type {\n",
       "        vertical-align: middle;\n",
       "    }\n",
       "\n",
       "    .dataframe tbody tr th {\n",
       "        vertical-align: top;\n",
       "    }\n",
       "\n",
       "    .dataframe thead th {\n",
       "        text-align: right;\n",
       "    }\n",
       "</style>\n",
       "<table border=\"1\" class=\"dataframe\">\n",
       "  <thead>\n",
       "    <tr style=\"text-align: right;\">\n",
       "      <th></th>\n",
       "      <th>Features</th>\n",
       "      <th>Counts</th>\n",
       "      <th>log_prob_diff</th>\n",
       "      <th>weight</th>\n",
       "    </tr>\n",
       "  </thead>\n",
       "  <tbody>\n",
       "    <tr>\n",
       "      <th>15</th>\n",
       "      <td>abused</td>\n",
       "      <td>3</td>\n",
       "      <td>3.526218</td>\n",
       "      <td>0.025552</td>\n",
       "    </tr>\n",
       "    <tr>\n",
       "      <th>8</th>\n",
       "      <td>abusive</td>\n",
       "      <td>4</td>\n",
       "      <td>2.363389</td>\n",
       "      <td>0.022835</td>\n",
       "    </tr>\n",
       "    <tr>\n",
       "      <th>228</th>\n",
       "      <td>assault</td>\n",
       "      <td>1</td>\n",
       "      <td>4.545069</td>\n",
       "      <td>0.010978</td>\n",
       "    </tr>\n",
       "    <tr>\n",
       "      <th>28</th>\n",
       "      <td>happened</td>\n",
       "      <td>3</td>\n",
       "      <td>1.158015</td>\n",
       "      <td>0.008391</td>\n",
       "    </tr>\n",
       "    <tr>\n",
       "      <th>64</th>\n",
       "      <td>vivid</td>\n",
       "      <td>2</td>\n",
       "      <td>1.514937</td>\n",
       "      <td>0.007319</td>\n",
       "    </tr>\n",
       "    <tr>\n",
       "      <th>215</th>\n",
       "      <td>abuse</td>\n",
       "      <td>1</td>\n",
       "      <td>2.971452</td>\n",
       "      <td>0.007177</td>\n",
       "    </tr>\n",
       "    <tr>\n",
       "      <th>4</th>\n",
       "      <td>suicidal</td>\n",
       "      <td>4</td>\n",
       "      <td>0.726792</td>\n",
       "      <td>0.007022</td>\n",
       "    </tr>\n",
       "    <tr>\n",
       "      <th>38</th>\n",
       "      <td>psychotic</td>\n",
       "      <td>2</td>\n",
       "      <td>1.307782</td>\n",
       "      <td>0.006318</td>\n",
       "    </tr>\n",
       "    <tr>\n",
       "      <th>214</th>\n",
       "      <td>abusing</td>\n",
       "      <td>1</td>\n",
       "      <td>2.339172</td>\n",
       "      <td>0.005650</td>\n",
       "    </tr>\n",
       "    <tr>\n",
       "      <th>43</th>\n",
       "      <td>dream</td>\n",
       "      <td>2</td>\n",
       "      <td>1.086424</td>\n",
       "      <td>0.005248</td>\n",
       "    </tr>\n",
       "  </tbody>\n",
       "</table>\n",
       "</div>"
      ],
      "text/plain": [
       "      Features  Counts  log_prob_diff    weight\n",
       "15      abused       3       3.526218  0.025552\n",
       "8      abusive       4       2.363389  0.022835\n",
       "228    assault       1       4.545069  0.010978\n",
       "28    happened       3       1.158015  0.008391\n",
       "64       vivid       2       1.514937  0.007319\n",
       "215      abuse       1       2.971452  0.007177\n",
       "4     suicidal       4       0.726792  0.007022\n",
       "38   psychotic       2       1.307782  0.006318\n",
       "214    abusing       1       2.339172  0.005650\n",
       "43       dream       2       1.086424  0.005248"
      ]
     },
     "execution_count": 73,
     "metadata": {},
     "output_type": "execute_result"
    }
   ],
   "source": [
    "# we create dataframe that contains log prob diff\n",
    "filter_false_pos = test.merge(df_multinomial , on = 'Features', how ='inner')\n",
    "total_count = filter_false_pos['Counts'].sum()\n",
    "filter_false_pos['weight'] = filter_false_pos['Counts'].apply(lambda x: x/total_count)\n",
    "\n",
    "\n",
    "def multiply(col):\n",
    "    weight = col[0]\n",
    "    log = col[1]\n",
    "    return weight * log\n",
    "\n",
    "\n",
    "filter_false_pos['weight'] = filter_false_pos[['weight','log_prob_diff']].apply(lambda x: multiply(x), axis =1)\n",
    "filter_false_pos['weight']\n",
    "\n",
    "weight = filter_false_pos['weight'].sum()\n",
    "print(f'Weightage of anomoly: {weight}')\n",
    "\n",
    "filter_false_pos.sort_values(by = 'weight', ascending=False).head(10)"
   ]
  },
  {
   "cell_type": "code",
   "execution_count": 74,
   "metadata": {},
   "outputs": [],
   "source": [
    "remove_set2 = set(filter_false_pos[(filter_false_pos['weight'] >= 0) & (filter_false_pos['weight'] < 0.0005)]['Features'])"
   ]
  },
  {
   "cell_type": "code",
   "execution_count": 75,
   "metadata": {},
   "outputs": [],
   "source": [
    "# Get words in false Positive\n",
    "\n",
    "unique_in_false_pos = set(false_pos['lemmi_clean_text'].apply(word_tokenize).sum())"
   ]
  },
  {
   "cell_type": "code",
   "execution_count": 76,
   "metadata": {},
   "outputs": [
    {
     "data": {
      "text/plain": [
       "(12, 9)"
      ]
     },
     "execution_count": 76,
     "metadata": {},
     "output_type": "execute_result"
    }
   ],
   "source": [
    "false_neg[false_neg['user_contribute_where'] == 'both'].shape"
   ]
  },
  {
   "cell_type": "code",
   "execution_count": 77,
   "metadata": {},
   "outputs": [
    {
     "data": {
      "text/plain": [
       "(12, 9)"
      ]
     },
     "execution_count": 77,
     "metadata": {},
     "output_type": "execute_result"
    }
   ],
   "source": [
    "false_neg.shape"
   ]
  },
  {
   "cell_type": "code",
   "execution_count": 78,
   "metadata": {},
   "outputs": [
    {
     "data": {
      "text/plain": [
       "array(['_spaceguy-_-', 'asscrackhairs', 'schoolgrrl', 'Lilyflamingo1109',\n",
       "       'Laurel2000SGX', 'sanpedro12', 'TakeYourVitamin', 'kyluvxo',\n",
       "       'Suspicious_Tune7611'], dtype=object)"
      ]
     },
     "execution_count": 78,
     "metadata": {},
     "output_type": "execute_result"
    }
   ],
   "source": [
    "false_neg[false_neg['user_contribute_where'] == 'both']['author'].unique()"
   ]
  },
  {
   "cell_type": "markdown",
   "metadata": {},
   "source": [
    "### Re-run models\n",
    "\n",
    "Remove duplicated users to remove potential misclassifications\n",
    "\n",
    "We filter off users that are active in both subreddits and run two models with same settings in the hyper-parameter tuning\n",
    "- MultinomialNB\n",
    "- Logistic Regression"
   ]
  },
  {
   "cell_type": "code",
   "execution_count": 79,
   "metadata": {},
   "outputs": [
    {
     "name": "stdout",
     "output_type": "stream",
     "text": [
      "Number of rows removed: 352\n",
      "Percentage data removed: -1.74%\n"
     ]
    }
   ],
   "source": [
    "# how many rows deleted \n",
    "before = df.shape[0]\n",
    "after = df[df['user_contribute_where']  != 'both'].shape[0]\n",
    "print(f'Number of rows removed: {before - after}')\n",
    "print(f'Percentage data removed: {round(((after - before) / before) * 100,2)}%')"
   ]
  },
  {
   "cell_type": "code",
   "execution_count": 80,
   "metadata": {},
   "outputs": [],
   "source": [
    "X_train_filtered = df[df['user_contribute_where']  != 'both']['lemmi_clean_text']\n",
    "y_train_filtered = df[df['user_contribute_where']  != 'both']['subreddit']"
   ]
  },
  {
   "cell_type": "code",
   "execution_count": 81,
   "metadata": {},
   "outputs": [],
   "source": [
    "X_train_filtered, X_test_filtered, y_train_filtered, y_test_filtered = train_test_split(X_train_filtered, y_train_filtered, random_state=42, stratify=y_train_filtered)"
   ]
  },
  {
   "cell_type": "markdown",
   "metadata": {},
   "source": [
    "#### Multinomial regression with refined dataset"
   ]
  },
  {
   "cell_type": "code",
   "execution_count": 82,
   "metadata": {},
   "outputs": [
    {
     "name": "stdout",
     "output_type": "stream",
     "text": [
      "TfidfVectorizer with MultinomialNB summary of accuracy scores:\n",
      "GridSearchCV best accuracy = 0.834\n",
      "\n",
      "Using GridSearchCV best params suggested,\n",
      "Training corpus accuracy = 0.858\n",
      "Testing corpus accuracy = 0.834\n"
     ]
    }
   ],
   "source": [
    "# create pipe3 for transformer: TfidfVectorizer and estimator using MultinomialNB\n",
    "\n",
    "pipe6 = Pipeline([('tfvec', TfidfVectorizer(stop_words= stopwordlist)),\n",
    "                  ('nb', MultinomialNB())\n",
    "                 ])\n",
    "                 \n",
    "# creating parameters for GridSearch SV using hyperparameters as shown below \n",
    "pipe6_params = {'tfvec__max_features': np.linspace(3700,3800,3, dtype = int),\n",
    "                'tfvec__min_df': np.linspace(0,0.0001,5),\n",
    "                'tfvec__max_df': np.linspace(0.20,0.3,5),\n",
    "                'tfvec__ngram_range': [(1,1)],\n",
    "                'nb__alpha' : [1.0e-10],\n",
    "}\n",
    "\n",
    "# Creatingg GridSeachCV using pipeline: pipe3 and params_grid:  pipe3_params\n",
    "\n",
    "gs_pipe6 = GridSearchCV(pipe6, param_grid=pipe6_params, cv=5, n_jobs= -1)\n",
    "\n",
    "# Fitting GridSearchCV with CountVectorizer transformer on X_train and y_train.\n",
    "\n",
    "gs_pipe6.fit(X_train_filtered, y_train_filtered);\n",
    "\n",
    "# Summary scores of TfidfVectorizer and MultinomialNB.\n",
    "\n",
    "print(\"TfidfVectorizer with MultinomialNB summary of accuracy scores:\")\n",
    "print(f\"GridSearchCV best accuracy = {round(gs_pipe6.best_score_, 3)}\")\n",
    "print(\"\\nUsing GridSearchCV best params suggested,\")\n",
    "print(f\"Training corpus accuracy = {round(gs_pipe6.score(X_train_filtered, y_train_filtered), 3)}\")\n",
    "print(f\"Testing corpus accuracy = {round(gs_pipe6.score(X_test_filtered, y_test_filtered), 3)}\")\n",
    "\n",
    "# adding summary \n",
    "\n",
    "summary_df.loc[6] = [\n",
    "    'Refined Dataset',\n",
    "    'TfidfVec | MultinomialNB',\n",
    "    str(gs_pipe6.best_params_),\n",
    "    round(gs_pipe6.best_score_, 3),\n",
    "    round(gs_pipe6.score(X_train_filtered, y_train_filtered), 3),\n",
    "    round(gs_pipe6.score(X_test_filtered, y_test_filtered), 3)\n",
    "]"
   ]
  },
  {
   "cell_type": "markdown",
   "metadata": {},
   "source": [
    "#### Logistic regression with refined dataset"
   ]
  },
  {
   "cell_type": "code",
   "execution_count": 83,
   "metadata": {},
   "outputs": [],
   "source": [
    "# <!-- # Declaring fixed one-off hyperparameters max_features, min_df, max_df & ngram_range for GridSearchCV first.\n",
    "\n",
    "# pipe4_params = {'tfvec4__max_features': [9000,9500,10000],\n",
    "#                m 'tfvec4__min_df': [0],\n",
    "#                 'tfvec4__max_df':np.linspace(0.22,0.225,10),\n",
    "#                 'tfvec4__ngram_range': [(1,1)],\n",
    "#                 'logreg4__max_iter': [1000]\n",
    "#                } -->"
   ]
  },
  {
   "cell_type": "code",
   "execution_count": 84,
   "metadata": {},
   "outputs": [
    {
     "name": "stdout",
     "output_type": "stream",
     "text": [
      "TfidfVectorizer with LogisticRegression summary of accuracy scores:\n",
      "GridSearchCV best accuracy = 0.847\n",
      "\n",
      "Using GridSearchCV best params suggested,\n",
      "Training corpus accuracy = 0.899\n",
      "Testing corpus accuracy = 0.847\n"
     ]
    }
   ],
   "source": [
    "# Creating Pipeline with:\n",
    "# Estimator: LogisticRegression (both)\n",
    "# Transformer: CountVectorizer - pipe1, TfidfVectorizer - pipe2\n",
    "\n",
    "pipe7 = Pipeline([\n",
    "    ('tfvec7', TfidfVectorizer(stop_words= stopwordlist)),\n",
    "    ('logreg7', LogisticRegression())\n",
    "])\n",
    "\n",
    "# Declaring fixed one-off hyperparameters max_features, min_df, max_df & ngram_range for GridSearchCV first.\n",
    "\n",
    "pipe7_params = {'tfvec7__max_features': np.linspace(8500,9000,10, dtype = int),\n",
    "                'tfvec7__min_df': np.linspace(0.0,0.00000001,5),\n",
    "                'tfvec7__max_df':np.linspace(0.23,0.25,5),\n",
    "                'tfvec7__ngram_range': [(1,1)],\n",
    "                'logreg7__max_iter': [1000]\n",
    "}\n",
    "\n",
    "# Creating two separate GridSearchCV objects for:\n",
    "# TfidfVectorizer and Logistic Regression with Hyper-parameter tuning\n",
    "\n",
    "gs_pipe7 = GridSearchCV(pipe7, param_grid=pipe7_params, cv=5, n_jobs=-1)\n",
    "\n",
    "# Fitting GridSearchCV with CountVectorizer transformer on X_train and y_train.\n",
    "\n",
    "gs_pipe7.fit(X_train_filtered, y_train_filtered)\n",
    "\n",
    "# Summary scores of CountVectorizer and LogisticRegression.\n",
    "\n",
    "print(\"TfidfVectorizer with LogisticRegression summary of accuracy scores:\")\n",
    "print(f\"GridSearchCV best accuracy = {round(gs_pipe7.best_score_, 3)}\")\n",
    "print(\"\\nUsing GridSearchCV best params suggested,\")\n",
    "print(f\"Training corpus accuracy = {round(gs_pipe7.score(X_train_filtered, y_train_filtered), 3)}\")\n",
    "print(f\"Testing corpus accuracy = {round(gs_pipe7.score(X_test_filtered, y_test_filtered), 3)}\")\n",
    "\n",
    "\n",
    "# Adding the accuracy scores from above two GridSearchCV models into summary_df.\n",
    "\n",
    "summary_df.loc[7] = [\n",
    "    'Refined DataSet',\n",
    "    'TfidfVec | LogisticRegression',\n",
    "    str(gs_pipe7.best_params_),\n",
    "    round(gs_pipe7.best_score_, 3),\n",
    "    round(gs_pipe7.score(X_train_filtered, y_train_filtered), 3),\n",
    "    round(gs_pipe7.score(X_test_filtered, y_test_filtered), 3)\n",
    "]"
   ]
  },
  {
   "cell_type": "markdown",
   "metadata": {},
   "source": [
    "TfidfVectorizer with LogisticRegression summary of accuracy scores:\n",
    "GridSearchCV best accuracy = 0.854\n",
    "\n",
    "Using GridSearchCV best params suggested,\n",
    "Training corpus accuracy = 0.905\n",
    "Testing corpus accuracy = 0.848"
   ]
  },
  {
   "cell_type": "markdown",
   "metadata": {},
   "source": [
    "#### Summary table Analysis"
   ]
  },
  {
   "cell_type": "code",
   "execution_count": 85,
   "metadata": {},
   "outputs": [
    {
     "data": {
      "text/html": [
       "<div>\n",
       "<style scoped>\n",
       "    .dataframe tbody tr th:only-of-type {\n",
       "        vertical-align: middle;\n",
       "    }\n",
       "\n",
       "    .dataframe tbody tr th {\n",
       "        vertical-align: top;\n",
       "    }\n",
       "\n",
       "    .dataframe thead th {\n",
       "        text-align: right;\n",
       "    }\n",
       "</style>\n",
       "<table border=\"1\" class=\"dataframe\">\n",
       "  <thead>\n",
       "    <tr style=\"text-align: right;\">\n",
       "      <th></th>\n",
       "      <th>iteration</th>\n",
       "      <th>transformer_estimator</th>\n",
       "      <th>GS_best_params</th>\n",
       "      <th>GS_best_score</th>\n",
       "      <th>train_accuracy</th>\n",
       "      <th>test_accuracy</th>\n",
       "    </tr>\n",
       "  </thead>\n",
       "  <tbody>\n",
       "    <tr>\n",
       "      <th>1</th>\n",
       "      <td>Baseline</td>\n",
       "      <td>CountVec | LogisticRegression</td>\n",
       "      <td>{'cvec1__max_df': 0.7, 'cvec1__max_features': 1000, 'cvec1__min_df': 0.02, 'cvec1__ngram_range': (1, 1), 'logreg1__max_iter': 1000}</td>\n",
       "      <td>0.801</td>\n",
       "      <td>0.826</td>\n",
       "      <td>0.803</td>\n",
       "    </tr>\n",
       "    <tr>\n",
       "      <th>2</th>\n",
       "      <td>Baseline</td>\n",
       "      <td>TfidfVec | LogisticRegression</td>\n",
       "      <td>{'logreg2__max_iter': 1000, 'tfvec2__max_df': 0.7, 'tfvec2__max_features': 1000, 'tfvec2__min_df': 0.02, 'tfvec2__ngram_range': (1, 1)}</td>\n",
       "      <td>0.809</td>\n",
       "      <td>0.830</td>\n",
       "      <td>0.810</td>\n",
       "    </tr>\n",
       "    <tr>\n",
       "      <th>3</th>\n",
       "      <td>Hyperparameter Tuned</td>\n",
       "      <td>TfidfVec | MultinomialNB</td>\n",
       "      <td>{'nb__alpha': 1e-10, 'tfvec__max_df': 0.3, 'tfvec__max_features': 3555, 'tfvec__min_df': 0.0002, 'tfvec__ngram_range': (1, 1)}</td>\n",
       "      <td>0.828</td>\n",
       "      <td>0.854</td>\n",
       "      <td>0.827</td>\n",
       "    </tr>\n",
       "    <tr>\n",
       "      <th>4</th>\n",
       "      <td>Hyperparameter Tuned</td>\n",
       "      <td>TfidfVec | LogisticRegression</td>\n",
       "      <td>{'logreg4__max_iter': 1000, 'tfvec4__max_df': 0.225, 'tfvec4__max_features': 9500, 'tfvec4__min_df': 0, 'tfvec4__ngram_range': (1, 1)}</td>\n",
       "      <td>0.845</td>\n",
       "      <td>0.897</td>\n",
       "      <td>0.844</td>\n",
       "    </tr>\n",
       "    <tr>\n",
       "      <th>5</th>\n",
       "      <td>Hyperparameter Tuned</td>\n",
       "      <td>TfidfVec | RandomForest</td>\n",
       "      <td>{'RanForest__max_depth': None, 'RanForest__max_features': 'sqrt', 'RanForest__n_estimators': 300, 'tfvec5__max_df': 0.8, 'tfvec5__max_features': 9000, 'tfvec5__min_df': 0, 'tfvec5__ngram_range': (1, 1)}</td>\n",
       "      <td>0.823</td>\n",
       "      <td>1.000</td>\n",
       "      <td>0.827</td>\n",
       "    </tr>\n",
       "    <tr>\n",
       "      <th>6</th>\n",
       "      <td>Refined Dataset</td>\n",
       "      <td>TfidfVec | MultinomialNB</td>\n",
       "      <td>{'nb__alpha': 1e-10, 'tfvec__max_df': 0.3, 'tfvec__max_features': 3700, 'tfvec__min_df': 0.0, 'tfvec__ngram_range': (1, 1)}</td>\n",
       "      <td>0.834</td>\n",
       "      <td>0.858</td>\n",
       "      <td>0.834</td>\n",
       "    </tr>\n",
       "    <tr>\n",
       "      <th>7</th>\n",
       "      <td>Refined DataSet</td>\n",
       "      <td>TfidfVec | LogisticRegression</td>\n",
       "      <td>{'logreg7__max_iter': 1000, 'tfvec7__max_df': 0.25, 'tfvec7__max_features': 8555, 'tfvec7__min_df': 0.0, 'tfvec7__ngram_range': (1, 1)}</td>\n",
       "      <td>0.847</td>\n",
       "      <td>0.899</td>\n",
       "      <td>0.847</td>\n",
       "    </tr>\n",
       "  </tbody>\n",
       "</table>\n",
       "</div>"
      ],
      "text/plain": [
       "              iteration          transformer_estimator  \\\n",
       "1              Baseline  CountVec | LogisticRegression   \n",
       "2              Baseline  TfidfVec | LogisticRegression   \n",
       "3  Hyperparameter Tuned       TfidfVec | MultinomialNB   \n",
       "4  Hyperparameter Tuned  TfidfVec | LogisticRegression   \n",
       "5  Hyperparameter Tuned        TfidfVec | RandomForest   \n",
       "6       Refined Dataset       TfidfVec | MultinomialNB   \n",
       "7       Refined DataSet  TfidfVec | LogisticRegression   \n",
       "\n",
       "                                                                                                                                                                                               GS_best_params  \\\n",
       "1                                                                         {'cvec1__max_df': 0.7, 'cvec1__max_features': 1000, 'cvec1__min_df': 0.02, 'cvec1__ngram_range': (1, 1), 'logreg1__max_iter': 1000}   \n",
       "2                                                                     {'logreg2__max_iter': 1000, 'tfvec2__max_df': 0.7, 'tfvec2__max_features': 1000, 'tfvec2__min_df': 0.02, 'tfvec2__ngram_range': (1, 1)}   \n",
       "3                                                                              {'nb__alpha': 1e-10, 'tfvec__max_df': 0.3, 'tfvec__max_features': 3555, 'tfvec__min_df': 0.0002, 'tfvec__ngram_range': (1, 1)}   \n",
       "4                                                                      {'logreg4__max_iter': 1000, 'tfvec4__max_df': 0.225, 'tfvec4__max_features': 9500, 'tfvec4__min_df': 0, 'tfvec4__ngram_range': (1, 1)}   \n",
       "5  {'RanForest__max_depth': None, 'RanForest__max_features': 'sqrt', 'RanForest__n_estimators': 300, 'tfvec5__max_df': 0.8, 'tfvec5__max_features': 9000, 'tfvec5__min_df': 0, 'tfvec5__ngram_range': (1, 1)}   \n",
       "6                                                                                 {'nb__alpha': 1e-10, 'tfvec__max_df': 0.3, 'tfvec__max_features': 3700, 'tfvec__min_df': 0.0, 'tfvec__ngram_range': (1, 1)}   \n",
       "7                                                                     {'logreg7__max_iter': 1000, 'tfvec7__max_df': 0.25, 'tfvec7__max_features': 8555, 'tfvec7__min_df': 0.0, 'tfvec7__ngram_range': (1, 1)}   \n",
       "\n",
       "   GS_best_score  train_accuracy  test_accuracy  \n",
       "1          0.801           0.826          0.803  \n",
       "2          0.809           0.830          0.810  \n",
       "3          0.828           0.854          0.827  \n",
       "4          0.845           0.897          0.844  \n",
       "5          0.823           1.000          0.827  \n",
       "6          0.834           0.858          0.834  \n",
       "7          0.847           0.899          0.847  "
      ]
     },
     "execution_count": 85,
     "metadata": {},
     "output_type": "execute_result"
    }
   ],
   "source": [
    "summary_df"
   ]
  },
  {
   "cell_type": "markdown",
   "metadata": {},
   "source": [
    "## Production Model Selection"
   ]
  },
  {
   "cell_type": "code",
   "execution_count": 86,
   "metadata": {},
   "outputs": [
    {
     "name": "stderr",
     "output_type": "stream",
     "text": [
      "C:\\Users\\Admin\\.conda\\envs\\myenv\\lib\\site-packages\\sklearn\\utils\\deprecation.py:87: FutureWarning: Function plot_confusion_matrix is deprecated; Function `plot_confusion_matrix` is deprecated in 1.0 and will be removed in 1.2. Use one of the class methods: ConfusionMatrixDisplay.from_predictions or ConfusionMatrixDisplay.from_estimator.\n",
      "  warnings.warn(msg, category=FutureWarning)\n"
     ]
    },
    {
     "data": {
      "image/png": "[encoded data removed]",
      "text/plain": [
       "<Figure size 432x288 with 2 Axes>"
      ]
     },
     "metadata": {
      "needs_background": "light"
     },
     "output_type": "display_data"
    }
   ],
   "source": [
    "# Generate predictions.\n",
    "preds = gs_pipe7.predict(X_test)\n",
    "\n",
    "# Generate confusion matrix.\n",
    "# Documentation here: https://scikit-learn.org/stable/modules/generated/sklearn.metrics.confusion_matrix.html\n",
    "\n",
    "confusion_matrix(y_test, # True values.\n",
    "                 preds)  # Predicted values.\n",
    "\n",
    "# Save TN/FP/FN/TP values.\n",
    "\n",
    "tn, fp, fn, tp = confusion_matrix(y_test, preds).ravel();\n",
    "\n",
    "# Plot Confusion matrix\n",
    "plot_confusion_matrix(gs_pipe7, X_test, y_test, cmap='Blues', \n",
    "                      values_format='d', display_labels=['r/Anxiety', 'r/PTSD']);                 "
   ]
  },
  {
   "cell_type": "markdown",
   "metadata": {},
   "source": [
    "### Sensitivity of pipelines"
   ]
  },
  {
   "cell_type": "code",
   "execution_count": 87,
   "metadata": {},
   "outputs": [
    {
     "name": "stdout",
     "output_type": "stream",
     "text": [
      "LogisticRegression(max_iter=1000) 0.7538522323192414\n",
      "LogisticRegression(max_iter=1000) 0.772026866851047\n",
      "MultinomialNB(alpha=1e-10) 0.8463058079810352\n",
      "LogisticRegression(max_iter=1000) 0.8127222441722639\n",
      "RandomForestClassifier(max_features='sqrt', n_estimators=300) 0.7992888186487555\n",
      "MultinomialNB(alpha=1e-10) 0.8640853417621494\n",
      "LogisticRegression(max_iter=1000) 0.863690241011458\n"
     ]
    }
   ],
   "source": [
    "# What is the test sensitivity of our model?\n",
    "# By hand\n",
    "list_of_gs = [gs_pipe1, gs_pipe2, gs_pipe3, gs_pipe4, gs_pipe5, gs_pipe6, gs_pipe7]\n",
    "\n",
    "\n",
    "sensitivity_df = []\n",
    "for gs in list_of_gs:\n",
    "    preds = gs.predict(X_test)\n",
    "    tn, fp, fn, tp = confusion_matrix(y_test, preds).ravel();\n",
    "    sensitivity_df.append(tp / (tp + fn))\n",
    "    print(gs.best_estimator_[1],tp / (tp + fn))\n",
    "\n",
    "sensitivity_df= pd.DataFrame(sensitivity_df)"
   ]
  },
  {
   "cell_type": "code",
   "execution_count": 88,
   "metadata": {},
   "outputs": [
    {
     "data": {
      "text/html": [
       "<div>\n",
       "<style scoped>\n",
       "    .dataframe tbody tr th:only-of-type {\n",
       "        vertical-align: middle;\n",
       "    }\n",
       "\n",
       "    .dataframe tbody tr th {\n",
       "        vertical-align: top;\n",
       "    }\n",
       "\n",
       "    .dataframe thead th {\n",
       "        text-align: right;\n",
       "    }\n",
       "</style>\n",
       "<table border=\"1\" class=\"dataframe\">\n",
       "  <thead>\n",
       "    <tr style=\"text-align: right;\">\n",
       "      <th></th>\n",
       "      <th>iteration</th>\n",
       "      <th>transformer_estimator</th>\n",
       "      <th>GS_best_params</th>\n",
       "      <th>GS_best_score</th>\n",
       "      <th>train_accuracy</th>\n",
       "      <th>test_accuracy</th>\n",
       "    </tr>\n",
       "  </thead>\n",
       "  <tbody>\n",
       "    <tr>\n",
       "      <th>1</th>\n",
       "      <td>Baseline</td>\n",
       "      <td>CountVec | LogisticRegression</td>\n",
       "      <td>{'cvec1__max_df': 0.7, 'cvec1__max_features': 1000, 'cvec1__min_df': 0.02, 'cvec1__ngram_range': (1, 1), 'logreg1__max_iter': 1000}</td>\n",
       "      <td>0.801</td>\n",
       "      <td>0.826</td>\n",
       "      <td>0.803</td>\n",
       "    </tr>\n",
       "    <tr>\n",
       "      <th>2</th>\n",
       "      <td>Baseline</td>\n",
       "      <td>TfidfVec | LogisticRegression</td>\n",
       "      <td>{'logreg2__max_iter': 1000, 'tfvec2__max_df': 0.7, 'tfvec2__max_features': 1000, 'tfvec2__min_df': 0.02, 'tfvec2__ngram_range': (1, 1)}</td>\n",
       "      <td>0.809</td>\n",
       "      <td>0.830</td>\n",
       "      <td>0.810</td>\n",
       "    </tr>\n",
       "    <tr>\n",
       "      <th>3</th>\n",
       "      <td>Hyperparameter Tuned</td>\n",
       "      <td>TfidfVec | MultinomialNB</td>\n",
       "      <td>{'nb__alpha': 1e-10, 'tfvec__max_df': 0.3, 'tfvec__max_features': 3555, 'tfvec__min_df': 0.0002, 'tfvec__ngram_range': (1, 1)}</td>\n",
       "      <td>0.828</td>\n",
       "      <td>0.854</td>\n",
       "      <td>0.827</td>\n",
       "    </tr>\n",
       "    <tr>\n",
       "      <th>4</th>\n",
       "      <td>Hyperparameter Tuned</td>\n",
       "      <td>TfidfVec | LogisticRegression</td>\n",
       "      <td>{'logreg4__max_iter': 1000, 'tfvec4__max_df': 0.225, 'tfvec4__max_features': 9500, 'tfvec4__min_df': 0, 'tfvec4__ngram_range': (1, 1)}</td>\n",
       "      <td>0.845</td>\n",
       "      <td>0.897</td>\n",
       "      <td>0.844</td>\n",
       "    </tr>\n",
       "    <tr>\n",
       "      <th>5</th>\n",
       "      <td>Hyperparameter Tuned</td>\n",
       "      <td>TfidfVec | RandomForest</td>\n",
       "      <td>{'RanForest__max_depth': None, 'RanForest__max_features': 'sqrt', 'RanForest__n_estimators': 300, 'tfvec5__max_df': 0.8, 'tfvec5__max_features': 9000, 'tfvec5__min_df': 0, 'tfvec5__ngram_range': (1, 1)}</td>\n",
       "      <td>0.823</td>\n",
       "      <td>1.000</td>\n",
       "      <td>0.827</td>\n",
       "    </tr>\n",
       "    <tr>\n",
       "      <th>6</th>\n",
       "      <td>Refined Dataset</td>\n",
       "      <td>TfidfVec | MultinomialNB</td>\n",
       "      <td>{'nb__alpha': 1e-10, 'tfvec__max_df': 0.3, 'tfvec__max_features': 3700, 'tfvec__min_df': 0.0, 'tfvec__ngram_range': (1, 1)}</td>\n",
       "      <td>0.834</td>\n",
       "      <td>0.858</td>\n",
       "      <td>0.834</td>\n",
       "    </tr>\n",
       "    <tr>\n",
       "      <th>7</th>\n",
       "      <td>Refined DataSet</td>\n",
       "      <td>TfidfVec | LogisticRegression</td>\n",
       "      <td>{'logreg7__max_iter': 1000, 'tfvec7__max_df': 0.25, 'tfvec7__max_features': 8555, 'tfvec7__min_df': 0.0, 'tfvec7__ngram_range': (1, 1)}</td>\n",
       "      <td>0.847</td>\n",
       "      <td>0.899</td>\n",
       "      <td>0.847</td>\n",
       "    </tr>\n",
       "  </tbody>\n",
       "</table>\n",
       "</div>"
      ],
      "text/plain": [
       "              iteration          transformer_estimator  \\\n",
       "1              Baseline  CountVec | LogisticRegression   \n",
       "2              Baseline  TfidfVec | LogisticRegression   \n",
       "3  Hyperparameter Tuned       TfidfVec | MultinomialNB   \n",
       "4  Hyperparameter Tuned  TfidfVec | LogisticRegression   \n",
       "5  Hyperparameter Tuned        TfidfVec | RandomForest   \n",
       "6       Refined Dataset       TfidfVec | MultinomialNB   \n",
       "7       Refined DataSet  TfidfVec | LogisticRegression   \n",
       "\n",
       "                                                                                                                                                                                               GS_best_params  \\\n",
       "1                                                                         {'cvec1__max_df': 0.7, 'cvec1__max_features': 1000, 'cvec1__min_df': 0.02, 'cvec1__ngram_range': (1, 1), 'logreg1__max_iter': 1000}   \n",
       "2                                                                     {'logreg2__max_iter': 1000, 'tfvec2__max_df': 0.7, 'tfvec2__max_features': 1000, 'tfvec2__min_df': 0.02, 'tfvec2__ngram_range': (1, 1)}   \n",
       "3                                                                              {'nb__alpha': 1e-10, 'tfvec__max_df': 0.3, 'tfvec__max_features': 3555, 'tfvec__min_df': 0.0002, 'tfvec__ngram_range': (1, 1)}   \n",
       "4                                                                      {'logreg4__max_iter': 1000, 'tfvec4__max_df': 0.225, 'tfvec4__max_features': 9500, 'tfvec4__min_df': 0, 'tfvec4__ngram_range': (1, 1)}   \n",
       "5  {'RanForest__max_depth': None, 'RanForest__max_features': 'sqrt', 'RanForest__n_estimators': 300, 'tfvec5__max_df': 0.8, 'tfvec5__max_features': 9000, 'tfvec5__min_df': 0, 'tfvec5__ngram_range': (1, 1)}   \n",
       "6                                                                                 {'nb__alpha': 1e-10, 'tfvec__max_df': 0.3, 'tfvec__max_features': 3700, 'tfvec__min_df': 0.0, 'tfvec__ngram_range': (1, 1)}   \n",
       "7                                                                     {'logreg7__max_iter': 1000, 'tfvec7__max_df': 0.25, 'tfvec7__max_features': 8555, 'tfvec7__min_df': 0.0, 'tfvec7__ngram_range': (1, 1)}   \n",
       "\n",
       "   GS_best_score  train_accuracy  test_accuracy  \n",
       "1          0.801           0.826          0.803  \n",
       "2          0.809           0.830          0.810  \n",
       "3          0.828           0.854          0.827  \n",
       "4          0.845           0.897          0.844  \n",
       "5          0.823           1.000          0.827  \n",
       "6          0.834           0.858          0.834  \n",
       "7          0.847           0.899          0.847  "
      ]
     },
     "execution_count": 88,
     "metadata": {},
     "output_type": "execute_result"
    }
   ],
   "source": [
    "summary_df"
   ]
  },
  {
   "cell_type": "code",
   "execution_count": 89,
   "metadata": {},
   "outputs": [
    {
     "data": {
      "text/html": [
       "<div>\n",
       "<style scoped>\n",
       "    .dataframe tbody tr th:only-of-type {\n",
       "        vertical-align: middle;\n",
       "    }\n",
       "\n",
       "    .dataframe tbody tr th {\n",
       "        vertical-align: top;\n",
       "    }\n",
       "\n",
       "    .dataframe thead th {\n",
       "        text-align: right;\n",
       "    }\n",
       "</style>\n",
       "<table border=\"1\" class=\"dataframe\">\n",
       "  <thead>\n",
       "    <tr style=\"text-align: right;\">\n",
       "      <th></th>\n",
       "      <th>iteration</th>\n",
       "      <th>transformer_estimator</th>\n",
       "      <th>GS_best_params</th>\n",
       "      <th>GS_best_score</th>\n",
       "      <th>train_accuracy</th>\n",
       "      <th>test_accuracy</th>\n",
       "      <th>Sensitivity</th>\n",
       "    </tr>\n",
       "  </thead>\n",
       "  <tbody>\n",
       "    <tr>\n",
       "      <th>5</th>\n",
       "      <td>Refined Dataset</td>\n",
       "      <td>TfidfVec | MultinomialNB</td>\n",
       "      <td>{'nb__alpha': 1e-10, 'tfvec__max_df': 0.3, 'tfvec__max_features': 3700, 'tfvec__min_df': 0.0, 'tfvec__ngram_range': (1, 1)}</td>\n",
       "      <td>0.834</td>\n",
       "      <td>0.858</td>\n",
       "      <td>0.834</td>\n",
       "      <td>0.864085</td>\n",
       "    </tr>\n",
       "    <tr>\n",
       "      <th>6</th>\n",
       "      <td>Refined DataSet</td>\n",
       "      <td>TfidfVec | LogisticRegression</td>\n",
       "      <td>{'logreg7__max_iter': 1000, 'tfvec7__max_df': 0.25, 'tfvec7__max_features': 8555, 'tfvec7__min_df': 0.0, 'tfvec7__ngram_range': (1, 1)}</td>\n",
       "      <td>0.847</td>\n",
       "      <td>0.899</td>\n",
       "      <td>0.847</td>\n",
       "      <td>0.863690</td>\n",
       "    </tr>\n",
       "    <tr>\n",
       "      <th>2</th>\n",
       "      <td>Hyperparameter Tuned</td>\n",
       "      <td>TfidfVec | MultinomialNB</td>\n",
       "      <td>{'nb__alpha': 1e-10, 'tfvec__max_df': 0.3, 'tfvec__max_features': 3555, 'tfvec__min_df': 0.0002, 'tfvec__ngram_range': (1, 1)}</td>\n",
       "      <td>0.828</td>\n",
       "      <td>0.854</td>\n",
       "      <td>0.827</td>\n",
       "      <td>0.846306</td>\n",
       "    </tr>\n",
       "    <tr>\n",
       "      <th>3</th>\n",
       "      <td>Hyperparameter Tuned</td>\n",
       "      <td>TfidfVec | LogisticRegression</td>\n",
       "      <td>{'logreg4__max_iter': 1000, 'tfvec4__max_df': 0.225, 'tfvec4__max_features': 9500, 'tfvec4__min_df': 0, 'tfvec4__ngram_range': (1, 1)}</td>\n",
       "      <td>0.845</td>\n",
       "      <td>0.897</td>\n",
       "      <td>0.844</td>\n",
       "      <td>0.812722</td>\n",
       "    </tr>\n",
       "    <tr>\n",
       "      <th>4</th>\n",
       "      <td>Hyperparameter Tuned</td>\n",
       "      <td>TfidfVec | RandomForest</td>\n",
       "      <td>{'RanForest__max_depth': None, 'RanForest__max_features': 'sqrt', 'RanForest__n_estimators': 300, 'tfvec5__max_df': 0.8, 'tfvec5__max_features': 9000, 'tfvec5__min_df': 0, 'tfvec5__ngram_range': (1, 1)}</td>\n",
       "      <td>0.823</td>\n",
       "      <td>1.000</td>\n",
       "      <td>0.827</td>\n",
       "      <td>0.799289</td>\n",
       "    </tr>\n",
       "    <tr>\n",
       "      <th>1</th>\n",
       "      <td>Baseline</td>\n",
       "      <td>TfidfVec | LogisticRegression</td>\n",
       "      <td>{'logreg2__max_iter': 1000, 'tfvec2__max_df': 0.7, 'tfvec2__max_features': 1000, 'tfvec2__min_df': 0.02, 'tfvec2__ngram_range': (1, 1)}</td>\n",
       "      <td>0.809</td>\n",
       "      <td>0.830</td>\n",
       "      <td>0.810</td>\n",
       "      <td>0.772027</td>\n",
       "    </tr>\n",
       "    <tr>\n",
       "      <th>0</th>\n",
       "      <td>Baseline</td>\n",
       "      <td>CountVec | LogisticRegression</td>\n",
       "      <td>{'cvec1__max_df': 0.7, 'cvec1__max_features': 1000, 'cvec1__min_df': 0.02, 'cvec1__ngram_range': (1, 1), 'logreg1__max_iter': 1000}</td>\n",
       "      <td>0.801</td>\n",
       "      <td>0.826</td>\n",
       "      <td>0.803</td>\n",
       "      <td>0.753852</td>\n",
       "    </tr>\n",
       "  </tbody>\n",
       "</table>\n",
       "</div>"
      ],
      "text/plain": [
       "              iteration          transformer_estimator  \\\n",
       "5       Refined Dataset       TfidfVec | MultinomialNB   \n",
       "6       Refined DataSet  TfidfVec | LogisticRegression   \n",
       "2  Hyperparameter Tuned       TfidfVec | MultinomialNB   \n",
       "3  Hyperparameter Tuned  TfidfVec | LogisticRegression   \n",
       "4  Hyperparameter Tuned        TfidfVec | RandomForest   \n",
       "1              Baseline  TfidfVec | LogisticRegression   \n",
       "0              Baseline  CountVec | LogisticRegression   \n",
       "\n",
       "                                                                                                                                                                                               GS_best_params  \\\n",
       "5                                                                                 {'nb__alpha': 1e-10, 'tfvec__max_df': 0.3, 'tfvec__max_features': 3700, 'tfvec__min_df': 0.0, 'tfvec__ngram_range': (1, 1)}   \n",
       "6                                                                     {'logreg7__max_iter': 1000, 'tfvec7__max_df': 0.25, 'tfvec7__max_features': 8555, 'tfvec7__min_df': 0.0, 'tfvec7__ngram_range': (1, 1)}   \n",
       "2                                                                              {'nb__alpha': 1e-10, 'tfvec__max_df': 0.3, 'tfvec__max_features': 3555, 'tfvec__min_df': 0.0002, 'tfvec__ngram_range': (1, 1)}   \n",
       "3                                                                      {'logreg4__max_iter': 1000, 'tfvec4__max_df': 0.225, 'tfvec4__max_features': 9500, 'tfvec4__min_df': 0, 'tfvec4__ngram_range': (1, 1)}   \n",
       "4  {'RanForest__max_depth': None, 'RanForest__max_features': 'sqrt', 'RanForest__n_estimators': 300, 'tfvec5__max_df': 0.8, 'tfvec5__max_features': 9000, 'tfvec5__min_df': 0, 'tfvec5__ngram_range': (1, 1)}   \n",
       "1                                                                     {'logreg2__max_iter': 1000, 'tfvec2__max_df': 0.7, 'tfvec2__max_features': 1000, 'tfvec2__min_df': 0.02, 'tfvec2__ngram_range': (1, 1)}   \n",
       "0                                                                         {'cvec1__max_df': 0.7, 'cvec1__max_features': 1000, 'cvec1__min_df': 0.02, 'cvec1__ngram_range': (1, 1), 'logreg1__max_iter': 1000}   \n",
       "\n",
       "   GS_best_score  train_accuracy  test_accuracy  Sensitivity  \n",
       "5          0.834           0.858          0.834     0.864085  \n",
       "6          0.847           0.899          0.847     0.863690  \n",
       "2          0.828           0.854          0.827     0.846306  \n",
       "3          0.845           0.897          0.844     0.812722  \n",
       "4          0.823           1.000          0.827     0.799289  \n",
       "1          0.809           0.830          0.810     0.772027  \n",
       "0          0.801           0.826          0.803     0.753852  "
      ]
     },
     "execution_count": 89,
     "metadata": {},
     "output_type": "execute_result"
    }
   ],
   "source": [
    "summary_sensitivity = pd.merge(summary_df.reset_index(), sensitivity_df, left_index=True, right_index=True).drop(columns = 'index').rename(columns = {0:'Sensitivity'})\n",
    "summary_sensitivity.sort_values(by = 'Sensitivity', ascending = False)"
   ]
  },
  {
   "cell_type": "markdown",
   "metadata": {},
   "source": [
    "### Specificity of Pipelines"
   ]
  },
  {
   "cell_type": "code",
   "execution_count": 90,
   "metadata": {},
   "outputs": [],
   "source": [
    "# What is the test specificity of our model?\n",
    "# By hand\n",
    "list_of_gs = [gs_pipe1, gs_pipe2, gs_pipe3, gs_pipe4,gs_pipe5,gs_pipe6,gs_pipe7]\n",
    "\n",
    "\n",
    "specificity_df = []\n",
    "for gs in list_of_gs:\n",
    "    preds = gs.predict(X_test)\n",
    "    tn, fp, fn, tp = confusion_matrix(y_test, preds).ravel();\n",
    "    specificity_df.append(tn / (tn + fp))\n",
    "\n",
    "\n",
    "specificity_df= pd.DataFrame(specificity_df)"
   ]
  },
  {
   "cell_type": "code",
   "execution_count": 91,
   "metadata": {},
   "outputs": [
    {
     "data": {
      "text/html": [
       "<div>\n",
       "<style scoped>\n",
       "    .dataframe tbody tr th:only-of-type {\n",
       "        vertical-align: middle;\n",
       "    }\n",
       "\n",
       "    .dataframe tbody tr th {\n",
       "        vertical-align: top;\n",
       "    }\n",
       "\n",
       "    .dataframe thead th {\n",
       "        text-align: right;\n",
       "    }\n",
       "</style>\n",
       "<table border=\"1\" class=\"dataframe\">\n",
       "  <thead>\n",
       "    <tr style=\"text-align: right;\">\n",
       "      <th></th>\n",
       "      <th>iteration</th>\n",
       "      <th>transformer_estimator</th>\n",
       "      <th>GS_best_params</th>\n",
       "      <th>GS_best_score</th>\n",
       "      <th>train_accuracy</th>\n",
       "      <th>test_accuracy</th>\n",
       "      <th>Sensitivity</th>\n",
       "      <th>Specificity</th>\n",
       "    </tr>\n",
       "  </thead>\n",
       "  <tbody>\n",
       "    <tr>\n",
       "      <th>5</th>\n",
       "      <td>Refined Dataset</td>\n",
       "      <td>TfidfVec | MultinomialNB</td>\n",
       "      <td>{'nb__alpha': 1e-10, 'tfvec__max_df': 0.3, 'tfvec__max_features': 3700, 'tfvec__min_df': 0.0, 'tfvec__ngram_range': (1, 1)}</td>\n",
       "      <td>0.834</td>\n",
       "      <td>0.858</td>\n",
       "      <td>0.834</td>\n",
       "      <td>0.864085</td>\n",
       "      <td>0.832937</td>\n",
       "    </tr>\n",
       "    <tr>\n",
       "      <th>6</th>\n",
       "      <td>Refined DataSet</td>\n",
       "      <td>TfidfVec | LogisticRegression</td>\n",
       "      <td>{'logreg7__max_iter': 1000, 'tfvec7__max_df': 0.25, 'tfvec7__max_features': 8555, 'tfvec7__min_df': 0.0, 'tfvec7__ngram_range': (1, 1)}</td>\n",
       "      <td>0.847</td>\n",
       "      <td>0.899</td>\n",
       "      <td>0.847</td>\n",
       "      <td>0.863690</td>\n",
       "      <td>0.908551</td>\n",
       "    </tr>\n",
       "    <tr>\n",
       "      <th>2</th>\n",
       "      <td>Hyperparameter Tuned</td>\n",
       "      <td>TfidfVec | MultinomialNB</td>\n",
       "      <td>{'nb__alpha': 1e-10, 'tfvec__max_df': 0.3, 'tfvec__max_features': 3555, 'tfvec__min_df': 0.0002, 'tfvec__ngram_range': (1, 1)}</td>\n",
       "      <td>0.828</td>\n",
       "      <td>0.854</td>\n",
       "      <td>0.827</td>\n",
       "      <td>0.846306</td>\n",
       "      <td>0.808393</td>\n",
       "    </tr>\n",
       "    <tr>\n",
       "      <th>3</th>\n",
       "      <td>Hyperparameter Tuned</td>\n",
       "      <td>TfidfVec | LogisticRegression</td>\n",
       "      <td>{'logreg4__max_iter': 1000, 'tfvec4__max_df': 0.225, 'tfvec4__max_features': 9500, 'tfvec4__min_df': 0, 'tfvec4__ngram_range': (1, 1)}</td>\n",
       "      <td>0.845</td>\n",
       "      <td>0.897</td>\n",
       "      <td>0.844</td>\n",
       "      <td>0.812722</td>\n",
       "      <td>0.874901</td>\n",
       "    </tr>\n",
       "    <tr>\n",
       "      <th>4</th>\n",
       "      <td>Hyperparameter Tuned</td>\n",
       "      <td>TfidfVec | RandomForest</td>\n",
       "      <td>{'RanForest__max_depth': None, 'RanForest__max_features': 'sqrt', 'RanForest__n_estimators': 300, 'tfvec5__max_df': 0.8, 'tfvec5__max_features': 9000, 'tfvec5__min_df': 0, 'tfvec5__ngram_range': (1, 1)}</td>\n",
       "      <td>0.823</td>\n",
       "      <td>1.000</td>\n",
       "      <td>0.827</td>\n",
       "      <td>0.799289</td>\n",
       "      <td>0.854711</td>\n",
       "    </tr>\n",
       "    <tr>\n",
       "      <th>1</th>\n",
       "      <td>Baseline</td>\n",
       "      <td>TfidfVec | LogisticRegression</td>\n",
       "      <td>{'logreg2__max_iter': 1000, 'tfvec2__max_df': 0.7, 'tfvec2__max_features': 1000, 'tfvec2__min_df': 0.02, 'tfvec2__ngram_range': (1, 1)}</td>\n",
       "      <td>0.809</td>\n",
       "      <td>0.830</td>\n",
       "      <td>0.810</td>\n",
       "      <td>0.772027</td>\n",
       "      <td>0.847981</td>\n",
       "    </tr>\n",
       "    <tr>\n",
       "      <th>0</th>\n",
       "      <td>Baseline</td>\n",
       "      <td>CountVec | LogisticRegression</td>\n",
       "      <td>{'cvec1__max_df': 0.7, 'cvec1__max_features': 1000, 'cvec1__min_df': 0.02, 'cvec1__ngram_range': (1, 1), 'logreg1__max_iter': 1000}</td>\n",
       "      <td>0.801</td>\n",
       "      <td>0.826</td>\n",
       "      <td>0.803</td>\n",
       "      <td>0.753852</td>\n",
       "      <td>0.853127</td>\n",
       "    </tr>\n",
       "  </tbody>\n",
       "</table>\n",
       "</div>"
      ],
      "text/plain": [
       "              iteration          transformer_estimator  \\\n",
       "5       Refined Dataset       TfidfVec | MultinomialNB   \n",
       "6       Refined DataSet  TfidfVec | LogisticRegression   \n",
       "2  Hyperparameter Tuned       TfidfVec | MultinomialNB   \n",
       "3  Hyperparameter Tuned  TfidfVec | LogisticRegression   \n",
       "4  Hyperparameter Tuned        TfidfVec | RandomForest   \n",
       "1              Baseline  TfidfVec | LogisticRegression   \n",
       "0              Baseline  CountVec | LogisticRegression   \n",
       "\n",
       "                                                                                                                                                                                               GS_best_params  \\\n",
       "5                                                                                 {'nb__alpha': 1e-10, 'tfvec__max_df': 0.3, 'tfvec__max_features': 3700, 'tfvec__min_df': 0.0, 'tfvec__ngram_range': (1, 1)}   \n",
       "6                                                                     {'logreg7__max_iter': 1000, 'tfvec7__max_df': 0.25, 'tfvec7__max_features': 8555, 'tfvec7__min_df': 0.0, 'tfvec7__ngram_range': (1, 1)}   \n",
       "2                                                                              {'nb__alpha': 1e-10, 'tfvec__max_df': 0.3, 'tfvec__max_features': 3555, 'tfvec__min_df': 0.0002, 'tfvec__ngram_range': (1, 1)}   \n",
       "3                                                                      {'logreg4__max_iter': 1000, 'tfvec4__max_df': 0.225, 'tfvec4__max_features': 9500, 'tfvec4__min_df': 0, 'tfvec4__ngram_range': (1, 1)}   \n",
       "4  {'RanForest__max_depth': None, 'RanForest__max_features': 'sqrt', 'RanForest__n_estimators': 300, 'tfvec5__max_df': 0.8, 'tfvec5__max_features': 9000, 'tfvec5__min_df': 0, 'tfvec5__ngram_range': (1, 1)}   \n",
       "1                                                                     {'logreg2__max_iter': 1000, 'tfvec2__max_df': 0.7, 'tfvec2__max_features': 1000, 'tfvec2__min_df': 0.02, 'tfvec2__ngram_range': (1, 1)}   \n",
       "0                                                                         {'cvec1__max_df': 0.7, 'cvec1__max_features': 1000, 'cvec1__min_df': 0.02, 'cvec1__ngram_range': (1, 1), 'logreg1__max_iter': 1000}   \n",
       "\n",
       "   GS_best_score  train_accuracy  test_accuracy  Sensitivity  Specificity  \n",
       "5          0.834           0.858          0.834     0.864085     0.832937  \n",
       "6          0.847           0.899          0.847     0.863690     0.908551  \n",
       "2          0.828           0.854          0.827     0.846306     0.808393  \n",
       "3          0.845           0.897          0.844     0.812722     0.874901  \n",
       "4          0.823           1.000          0.827     0.799289     0.854711  \n",
       "1          0.809           0.830          0.810     0.772027     0.847981  \n",
       "0          0.801           0.826          0.803     0.753852     0.853127  "
      ]
     },
     "execution_count": 91,
     "metadata": {},
     "output_type": "execute_result"
    }
   ],
   "source": [
    "summary_sensitivity = pd.merge(summary_sensitivity.reset_index(), specificity_df, left_index=True, right_index=True).drop(columns = 'index').rename(columns = {0:'Specificity'})\n",
    "summary_sensitivity.sort_values(by = 'Sensitivity', ascending = False)"
   ]
  },
  {
   "cell_type": "markdown",
   "metadata": {},
   "source": [
    "Clearly, we will choose MultinomialNB as our production model as it has relative higher accuracy scores, with minimal overfit and very high sensivity as compared to the rest of the models "
   ]
  },
  {
   "cell_type": "markdown",
   "metadata": {},
   "source": [
    "## Receiver Operating Characteristic (ROC) Curve"
   ]
  },
  {
   "cell_type": "code",
   "execution_count": 96,
   "metadata": {},
   "outputs": [
    {
     "name": "stderr",
     "output_type": "stream",
     "text": [
      "C:\\Users\\Admin\\.conda\\envs\\myenv\\lib\\site-packages\\sklearn\\utils\\deprecation.py:87: FutureWarning: Function plot_roc_curve is deprecated; Function :func:`plot_roc_curve` is deprecated in 1.0 and will be removed in 1.2. Use one of the class methods: :meth:`sklearn.metric.RocCurveDisplay.from_predictions` or :meth:`sklearn.metric.RocCurveDisplay.from_estimator`.\n",
      "  warnings.warn(msg, category=FutureWarning)\n"
     ]
    },
    {
     "data": {
      "image/png": "[encoded data removed]",
      "text/plain": [
       "<Figure size 432x288 with 1 Axes>"
      ]
     },
     "metadata": {
      "needs_background": "light"
     },
     "output_type": "display_data"
    }
   ],
   "source": [
    "plot_roc_curve(gs_pipe7, X_test, y_test)\n",
    "plt.plot([0, 1], [0, 1],\n",
    "         label='baseline', linestyle='--')\n",
    "plt.legend();"
   ]
  },
  {
   "cell_type": "code",
   "execution_count": 95,
   "metadata": {},
   "outputs": [
    {
     "data": {
      "text/plain": [
       "0.9241165681730235"
      ]
     },
     "execution_count": 95,
     "metadata": {},
     "output_type": "execute_result"
    }
   ],
   "source": [
    "roc_auc_score(y_test, gs_pipe6.predict_proba(X_test)[:,1])"
   ]
  }
 ],
 "metadata": {
  "interpreter": {
   "hash": "592c428e42f6e4511884ace7c9b495d167f60b904bd88ca4683897c5c1f20061"
  },
  "kernelspec": {
   "display_name": "Python 3.9.7 ('myenv')",
   "language": "python",
   "name": "python3"
  },
  "language_info": {
   "codemirror_mode": {
    "name": "ipython",
    "version": 3
   },
   "file_extension": ".py",
   "mimetype": "text/x-python",
   "name": "python",
   "nbconvert_exporter": "python",
   "pygments_lexer": "ipython3",
   "version": "3.9.7"
  },
  "orig_nbformat": 4
 },
 "nbformat": 4,
 "nbformat_minor": 2
}
