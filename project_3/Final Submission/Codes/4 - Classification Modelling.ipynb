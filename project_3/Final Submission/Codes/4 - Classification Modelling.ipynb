{
 "cells": [
  {
   "cell_type": "markdown",
   "metadata": {},
   "source": [
    "## Contents\n",
    "- [Data Importing](#Data-Importing)\n",
    "- [Classification metrics](#Classification-metrics)\n",
    "- [Vectorizer Selection via GridSeachCV](#Vectorizer-Selection-via-GridSeachCV)\n",
    "- [Hyper-parameter tuning](#Hyper-parameter-tuning)\n",
    "- [Error Analysis](#Error-Analysis)\n",
    "- [Redefine Data set and run models](#Redefine-Data-set-and-run-models)\n",
    "- [Production Model Selection](#Production-Model-Selection)\n",
    "- [Conclusion and Recommendation](#Conclusion-and-Recommendation)"
   ]
  },
  {
   "cell_type": "code",
   "execution_count": 1,
   "metadata": {},
   "outputs": [],
   "source": [
    "import pandas as pd\n",
    "import requests\n",
    "import string\n",
    "string.punctuation\n",
    "import re\n",
    "import nltk\n",
    "from nltk.stem import WordNetLemmatizer\n",
    "import numpy as np\n",
    "import seaborn as sns\n",
    "import matplotlib.pyplot as plt\n",
    "import re\n",
    "from bs4 import BeautifulSoup\n",
    "import contractions\n",
    "\n",
    "from sklearn.neighbors import KNeighborsClassifier\n",
    "from sklearn.metrics import confusion_matrix, plot_confusion_matrix, accuracy_score, \\\n",
    "    plot_roc_curve, roc_auc_score, recall_score, precision_score, f1_score\n",
    "from transformers import pipeline\n",
    "from sklearn.pipeline import Pipeline\n",
    "from sklearn.linear_model import LogisticRegression\n",
    "from sklearn.feature_extraction.text import CountVectorizer, TfidfVectorizer\n",
    "from sklearn.naive_bayes import MultinomialNB\n",
    "from sklearn.feature_extraction.text import CountVectorizer, TfidfVectorizer\n",
    "from nltk import word_tokenize   \n",
    "from nltk.stem.porter import PorterStemmer\n",
    "from nltk.tokenize import sent_tokenize, word_tokenize, RegexpTokenizer\n",
    "import matplotlib.dates as mdate\n",
    "from sklearn.ensemble import RandomForestClassifier, ExtraTreesClassifier\n",
    "\n",
    "import gensim\n",
    "import gensim.downloader as api\n",
    "from gensim.models.word2vec import Word2Vec\n",
    "\n",
    "\n",
    "from sklearn.model_selection import(\n",
    "    cross_val_score,\n",
    "    train_test_split,\n",
    "    GridSearchCV\n",
    ")\n",
    "\n",
    "from sklearn.preprocessing import (\n",
    "    StandardScaler,\n",
    "    PolynomialFeatures\n",
    ")\n",
    "from datetime import timezone\n",
    "import datetime\n",
    "\n",
    "pd.set_option('display.max_colwidth', None)"
   ]
  },
  {
   "cell_type": "markdown",
   "metadata": {},
   "source": [
    "## Data importing"
   ]
  },
  {
   "cell_type": "code",
   "execution_count": 2,
   "metadata": {},
   "outputs": [],
   "source": [
    "df = pd.read_csv('../Data/df.csv')\n",
    "df.drop(columns = 'Unnamed: 0', inplace = True)"
   ]
  },
  {
   "cell_type": "markdown",
   "metadata": {},
   "source": [
    "Check for Null"
   ]
  },
  {
   "cell_type": "code",
   "execution_count": 3,
   "metadata": {},
   "outputs": [
    {
     "data": {
      "text/plain": [
       "author                   0\n",
       "subreddit                0\n",
       "selftext                 0\n",
       "title                    0\n",
       "created_utc              0\n",
       "datetime                 0\n",
       "link_flair_css_class     0\n",
       "alltext                  0\n",
       "length_text              0\n",
       "wrdcount_text            0\n",
       "month                    0\n",
       "day                      0\n",
       "clean_text               1\n",
       "ttl_post                 0\n",
       "user_contribute_where    0\n",
       "stem_clean_text          1\n",
       "lemmi_clean_text         1\n",
       "dtype: int64"
      ]
     },
     "execution_count": 3,
     "metadata": {},
     "output_type": "execute_result"
    }
   ],
   "source": [
    "df.isnull().sum()"
   ]
  },
  {
   "cell_type": "code",
   "execution_count": 4,
   "metadata": {},
   "outputs": [],
   "source": [
    "df.dropna(inplace = True)"
   ]
  },
  {
   "cell_type": "markdown",
   "metadata": {},
   "source": [
    "###  Model Prep: Create `X` and `y` variables"
   ]
  },
  {
   "cell_type": "markdown",
   "metadata": {},
   "source": [
    "Our features will be:\n",
    "- `subreddit`\n",
    "- `stem_clean_text`\n",
    "- `lemmi_clean_text`\n",
    "\n",
    "For our baseline modelling will be using lemmi_clean_text\n",
    "\n",
    "Our target will be `subreddit`"
   ]
  },
  {
   "cell_type": "code",
   "execution_count": 5,
   "metadata": {},
   "outputs": [],
   "source": [
    "X = df['lemmi_clean_text']\n",
    "y = df['subreddit']"
   ]
  },
  {
   "cell_type": "markdown",
   "metadata": {},
   "source": [
    "### Train/Test Split"
   ]
  },
  {
   "cell_type": "code",
   "execution_count": 6,
   "metadata": {},
   "outputs": [],
   "source": [
    "X_train, X_test, y_train, y_test = train_test_split(X, y, random_state=42, stratify=y)"
   ]
  },
  {
   "cell_type": "markdown",
   "metadata": {},
   "source": [
    "## Classification Metrics"
   ]
  },
  {
   "cell_type": "markdown",
   "metadata": {},
   "source": [
    "Possible classification metrics that can be used how well my model perform are *Accuracy, Misclassification Rate, Sensitivity (True Positive Rate), Specificity (True Negative Rate), Precision (Positive Predictive Value), F1 Score and ROC AUC*.\n",
    "\n",
    "For this project I will be mainly using *Accuracy* accompanied with confusion matrix to determine effectiveness of my models\n",
    "\n",
    "For further evaluations, I will be using Specificity to choose the best model that helps gauge on how best to minimize this in order to reduce missing out identifying users potentionally having PTSD.\n",
    "\n",
    "I will also use ROC to gave a gauge the degree of overlap between the words in post from the two subreddits. "
   ]
  },
  {
   "cell_type": "markdown",
   "metadata": {},
   "source": [
    "### Baseline Accuracy Check"
   ]
  },
  {
   "cell_type": "code",
   "execution_count": 7,
   "metadata": {},
   "outputs": [
    {
     "name": "stdout",
     "output_type": "stream",
     "text": [
      "Total post: 20228\n"
     ]
    },
    {
     "data": {
      "text/plain": [
       "1    0.500395\n",
       "0    0.499605\n",
       "Name: subreddit, dtype: float64"
      ]
     },
     "execution_count": 7,
     "metadata": {},
     "output_type": "execute_result"
    }
   ],
   "source": [
    "print(f'Total post: {len(df)}')\n",
    "df['subreddit'].value_counts(normalize= True)\n"
   ]
  },
  {
   "cell_type": "markdown",
   "metadata": {},
   "source": [
    "With 10000 post added into each class, the classes are very well balanced from both sides \n",
    "\n",
    "Also, from the above, we can see the ***baseline accuracy*** is at 50.1%. \n",
    "If nothing ws done for the classification model, and just to assign every post to the PTSD class, i would classify 50.1% of the post correctly. \n",
    "\n",
    "Therefore, any classification model designed for this data must have an accuracy higher than the ***baseline accuracy*** of 50.1%"
   ]
  },
  {
   "cell_type": "markdown",
   "metadata": {},
   "source": [
    "## Vectorizer Selection via GridSeachCV"
   ]
  },
  {
   "cell_type": "markdown",
   "metadata": {},
   "source": [
    "Consider two NLP vectorizers and iterate over parameters below with Logistic regression model first.\n",
    "- *Count Vectorizer*\n",
    "- *TF-IDF Vectorizer*"
   ]
  },
  {
   "cell_type": "markdown",
   "metadata": {},
   "source": [
    "Embed Stopword list into vectorizers "
   ]
  },
  {
   "cell_type": "code",
   "execution_count": 8,
   "metadata": {},
   "outputs": [],
   "source": [
    "# create stop word list \n",
    "stopwordlist = nltk.corpus.stopwords.words('english')\n",
    "\n",
    "# to input in subreddit headers so that we can exclude it for model\n",
    "headers = ['ptsd', 'anxiety','anxious', \"cptsd\", 'trauma','traumatized','traumas',\"posttraumatic\",'stress','disorder',\"traumatic\", 'www', 'https', 'mentalgrenade', 'com']\n",
    "for head in headers:\n",
    "    stopwordlist.append(head)\n",
    "\n"
   ]
  },
  {
   "cell_type": "code",
   "execution_count": 9,
   "metadata": {},
   "outputs": [],
   "source": [
    "# Creating Pipeline with:\n",
    "# Estimator: LogisticRegression (both)\n",
    "# Transformer: CountVectorizer - pipe1, TfidfVectorizer - pipe2\n",
    "\n",
    "pipe1 = Pipeline([('cvec1', CountVectorizer(stop_words= stopwordlist)),\n",
    "                  ('logreg1', LogisticRegression())\n",
    "                 ])\n",
    "\n",
    "pipe2 = Pipeline([('tfvec2', TfidfVectorizer(stop_words= stopwordlist)),\n",
    "                  ('logreg2', LogisticRegression())\n",
    "                 ])"
   ]
  },
  {
   "cell_type": "code",
   "execution_count": 10,
   "metadata": {},
   "outputs": [],
   "source": [
    "# Declaring fixed one-off hyperparameters max_features, min_df, max_df & ngram_range for GridSearchCV first.\n",
    "\n",
    "pipe1_params = {'cvec1__max_features': [1000],\n",
    "                'cvec1__min_df': [0.02],\n",
    "                'cvec1__max_df': [0.7],\n",
    "                'cvec1__ngram_range': [(1,1), (1,2)],\n",
    "                'logreg1__max_iter': [1000]\n",
    "               }\n",
    "\n",
    "pipe2_params = {'tfvec2__max_features': [1000],\n",
    "                'tfvec2__min_df': [0.02],\n",
    "                'tfvec2__max_df': [0.7],\n",
    "                'tfvec2__ngram_range': [(1,1), (1,2)],\n",
    "                'logreg2__max_iter': [1000]\n",
    "               }"
   ]
  },
  {
   "cell_type": "code",
   "execution_count": 11,
   "metadata": {},
   "outputs": [],
   "source": [
    "# Creating two separate GridSearchCV objects for:\n",
    "# CountVectorizer and TfidfVectorizer\n",
    "\n",
    "gs_pipe1 = GridSearchCV(pipe1, param_grid=pipe1_params, cv=5)\n",
    "\n",
    "gs_pipe2 = GridSearchCV(pipe2, param_grid=pipe2_params, cv=5)"
   ]
  },
  {
   "cell_type": "code",
   "execution_count": 12,
   "metadata": {},
   "outputs": [],
   "source": [
    "# Fitting GridSearchCV with CountVectorizer transformer on X_train and y_train.\n",
    "\n",
    "gs_pipe1.fit(X_train, y_train);"
   ]
  },
  {
   "cell_type": "code",
   "execution_count": 13,
   "metadata": {},
   "outputs": [],
   "source": [
    "# Fitting GridSearchCV with TfidfVectorizer transformer on X_train and y_train.\n",
    "\n",
    "gs_pipe2.fit(X_train, y_train);"
   ]
  },
  {
   "cell_type": "code",
   "execution_count": 14,
   "metadata": {},
   "outputs": [
    {
     "data": {
      "text/plain": [
       "{'cvec1__max_df': 0.7,\n",
       " 'cvec1__max_features': 1000,\n",
       " 'cvec1__min_df': 0.02,\n",
       " 'cvec1__ngram_range': (1, 1),\n",
       " 'logreg1__max_iter': 1000}"
      ]
     },
     "execution_count": 14,
     "metadata": {},
     "output_type": "execute_result"
    }
   ],
   "source": [
    "# Best combination of hyperparameters suggested by GridSearchCV for CountVectorizer transformer.\n",
    "\n",
    "gs_pipe1.best_params_"
   ]
  },
  {
   "cell_type": "code",
   "execution_count": 15,
   "metadata": {},
   "outputs": [
    {
     "data": {
      "text/plain": [
       "{'logreg2__max_iter': 1000,\n",
       " 'tfvec2__max_df': 0.7,\n",
       " 'tfvec2__max_features': 1000,\n",
       " 'tfvec2__min_df': 0.02,\n",
       " 'tfvec2__ngram_range': (1, 1)}"
      ]
     },
     "execution_count": 15,
     "metadata": {},
     "output_type": "execute_result"
    }
   ],
   "source": [
    "# Best combination of hyperparameters suggested by GridSearchCV for TfidfVectorizer transformer.\n",
    "\n",
    "gs_pipe2.best_params_"
   ]
  },
  {
   "cell_type": "code",
   "execution_count": 16,
   "metadata": {},
   "outputs": [
    {
     "name": "stdout",
     "output_type": "stream",
     "text": [
      "CountVectorizer with LogisticRegression summary of accuracy scores:\n",
      "GridSearchCV best accuracy = 0.801\n",
      "\n",
      "Using GridSearchCV best params suggested,\n",
      "Training corpus accuracy = 0.826\n",
      "Testing corpus accuracy = 0.803\n"
     ]
    }
   ],
   "source": [
    "# Summary scores of CountVectorizer and LogisticRegression.\n",
    "\n",
    "print(\"CountVectorizer with LogisticRegression summary of accuracy scores:\")\n",
    "print(f\"GridSearchCV best accuracy = {round(gs_pipe1.best_score_, 3)}\")\n",
    "print(\"\\nUsing GridSearchCV best params suggested,\")\n",
    "print(f\"Training corpus accuracy = {round(gs_pipe1.score(X_train, y_train), 3)}\")\n",
    "print(f\"Testing corpus accuracy = {round(gs_pipe1.score(X_test, y_test), 3)}\")"
   ]
  },
  {
   "cell_type": "code",
   "execution_count": 18,
   "metadata": {},
   "outputs": [
    {
     "name": "stdout",
     "output_type": "stream",
     "text": [
      "TfidfVectorizer with LogisticRegression summary of accuracy scores:\n",
      "GridSearchCV best accuracy = 0.809\n",
      "\n",
      "Using GridSearchCV best params suggested,\n",
      "Training corpus accuracy = 0.83\n",
      "Testing corpus accuracy = 0.81\n"
     ]
    }
   ],
   "source": [
    "# Summary scores of TfidfVectorizer and LogisticRegression.\n",
    "\n",
    "print(\"TfidfVectorizer with LogisticRegression summary of accuracy scores:\")\n",
    "print(f\"GridSearchCV best accuracy = {round(gs_pipe2.best_score_, 3)}\")\n",
    "print(\"\\nUsing GridSearchCV best params suggested,\")\n",
    "print(f\"Training corpus accuracy = {round(gs_pipe2.score(X_train, y_train), 3)}\")\n",
    "print(f\"Testing corpus accuracy = {round(gs_pipe2.score(X_test, y_test), 3)}\")"
   ]
  },
  {
   "cell_type": "markdown",
   "metadata": {},
   "source": [
    "Classification metrics compiled in Summary"
   ]
  },
  {
   "cell_type": "code",
   "execution_count": 19,
   "metadata": {},
   "outputs": [],
   "source": [
    "# Creacting a summary dataframe.\n",
    "\n",
    "summary_df = pd.DataFrame(columns=[\n",
    "    'iteration',\n",
    "    'transformer_estimator', \n",
    "    'GS_best_params', \n",
    "    'GS_best_score', \n",
    "    'train_accuracy', \n",
    "    'test_accuracy'\n",
    "])"
   ]
  },
  {
   "cell_type": "code",
   "execution_count": 20,
   "metadata": {},
   "outputs": [],
   "source": [
    "# Adding the accuracy scores from above two GridSearchCV models into summary_df.\n",
    "\n",
    "summary_df.loc[1] = [\n",
    "    'Baseline',\n",
    "    'CountVec | LogisticRegression',\n",
    "    str(gs_pipe1.best_params_),\n",
    "    round(gs_pipe1.best_score_, 3),\n",
    "    round(gs_pipe1.score(X_train, y_train), 3),\n",
    "    round(gs_pipe1.score(X_test, y_test), 3)\n",
    "]\n",
    "\n",
    "summary_df.loc[2] = [\n",
    "    'Baseline',\n",
    "    'TfidfVec | LogisticRegression',\n",
    "    str(gs_pipe2.best_params_),\n",
    "    round(gs_pipe2.best_score_, 3),\n",
    "    round(gs_pipe2.score(X_train, y_train), 3),\n",
    "    round(gs_pipe2.score(X_test, y_test), 3)\n",
    "]"
   ]
  },
  {
   "cell_type": "code",
   "execution_count": 21,
   "metadata": {},
   "outputs": [
    {
     "data": {
      "text/html": [
       "<div>\n",
       "<style scoped>\n",
       "    .dataframe tbody tr th:only-of-type {\n",
       "        vertical-align: middle;\n",
       "    }\n",
       "\n",
       "    .dataframe tbody tr th {\n",
       "        vertical-align: top;\n",
       "    }\n",
       "\n",
       "    .dataframe thead th {\n",
       "        text-align: right;\n",
       "    }\n",
       "</style>\n",
       "<table border=\"1\" class=\"dataframe\">\n",
       "  <thead>\n",
       "    <tr style=\"text-align: right;\">\n",
       "      <th></th>\n",
       "      <th>iteration</th>\n",
       "      <th>transformer_estimator</th>\n",
       "      <th>GS_best_params</th>\n",
       "      <th>GS_best_score</th>\n",
       "      <th>train_accuracy</th>\n",
       "      <th>test_accuracy</th>\n",
       "    </tr>\n",
       "  </thead>\n",
       "  <tbody>\n",
       "    <tr>\n",
       "      <th>1</th>\n",
       "      <td>Baseline</td>\n",
       "      <td>CountVec | LogisticRegression</td>\n",
       "      <td>{'cvec1__max_df': 0.7, 'cvec1__max_features': 1000, 'cvec1__min_df': 0.02, 'cvec1__ngram_range': (1, 1), 'logreg1__max_iter': 1000}</td>\n",
       "      <td>0.801</td>\n",
       "      <td>0.826</td>\n",
       "      <td>0.803</td>\n",
       "    </tr>\n",
       "    <tr>\n",
       "      <th>2</th>\n",
       "      <td>Baseline</td>\n",
       "      <td>TfidfVec | LogisticRegression</td>\n",
       "      <td>{'logreg2__max_iter': 1000, 'tfvec2__max_df': 0.7, 'tfvec2__max_features': 1000, 'tfvec2__min_df': 0.02, 'tfvec2__ngram_range': (1, 1)}</td>\n",
       "      <td>0.809</td>\n",
       "      <td>0.830</td>\n",
       "      <td>0.810</td>\n",
       "    </tr>\n",
       "  </tbody>\n",
       "</table>\n",
       "</div>"
      ],
      "text/plain": [
       "  iteration          transformer_estimator  \\\n",
       "1  Baseline  CountVec | LogisticRegression   \n",
       "2  Baseline  TfidfVec | LogisticRegression   \n",
       "\n",
       "                                                                                                                            GS_best_params  \\\n",
       "1      {'cvec1__max_df': 0.7, 'cvec1__max_features': 1000, 'cvec1__min_df': 0.02, 'cvec1__ngram_range': (1, 1), 'logreg1__max_iter': 1000}   \n",
       "2  {'logreg2__max_iter': 1000, 'tfvec2__max_df': 0.7, 'tfvec2__max_features': 1000, 'tfvec2__min_df': 0.02, 'tfvec2__ngram_range': (1, 1)}   \n",
       "\n",
       "   GS_best_score  train_accuracy  test_accuracy  \n",
       "1          0.801           0.826          0.803  \n",
       "2          0.809           0.830          0.810  "
      ]
     },
     "execution_count": 21,
     "metadata": {},
     "output_type": "execute_result"
    }
   ],
   "source": [
    "summary_df"
   ]
  },
  {
   "cell_type": "markdown",
   "metadata": {},
   "source": [
    "From the summary table, we can infer that the best combination of transformer hyperparameters to be \n",
    "- *max_features* = 500\n",
    "- *min_df* = 0.05 \n",
    "- *max_df* = 0.8 \n",
    "- ngram_range=(1,1)\n",
    "\n",
    "Judging solely on the accuracy scores, using **CountVectorizer** has very good accuracy on the training but did poorly on the testing corpus. This implies that this model is **overfitting on the training corpus**. \n",
    "\n",
    "On the other, using **TfidfVectorizer** transformer has better accuracy fir GSCV best score, and lesser delta between the train and test accuracy scores, suggesting that the **model may not be as overfitted than *CountVectorizer***\n",
    "\n",
    "Therefore, I will use *TfidfVectorizer* for further classification model.\n",
    "\n"
   ]
  },
  {
   "cell_type": "markdown",
   "metadata": {},
   "source": [
    "## Hyper-parameter tuning"
   ]
  },
  {
   "cell_type": "markdown",
   "metadata": {},
   "source": [
    "### MultinomialNB Classifier"
   ]
  },
  {
   "cell_type": "markdown",
   "metadata": {},
   "source": [
    "There are 3 common types of Naive Bayes models: *Bernoulli Naive Bayes*, *Multinomial Naive Bayes*, and *Gaussian Naive Bayes*.\n",
    "\n",
    "- [Bernoulli Naive Bayes](https://scikit-learn.org/stable/modules/generated/sklearn.naive_bayes.BernoulliNB.html#sklearn.naive_bayes.BernoulliNB): when we have 0/1 variables.\n",
    "- [Multinomial Naive Bayes](https://scikit-learn.org/stable/modules/generated/sklearn.naive_bayes.MultinomialNB.html#sklearn.naive_bayes.MultinomialNB): when our variables are positive integers.\n",
    "- [Gaussian Naive Bayes](https://scikit-learn.org/stable/modules/generated/sklearn.naive_bayes.GaussianNB.html#sklearn.naive_bayes.GaussianNB): when our features are Normally distributed.\n",
    "\n",
    "We will be using ***MultinomialNB*** as it consideres a feature vector with all the individual words in a all post where a given term represent the number of times it appears. "
   ]
  },
  {
   "cell_type": "code",
   "execution_count": 22,
   "metadata": {},
   "outputs": [],
   "source": [
    "# create pipe3 for transformer: TfidfVectorizer and estimator using MultinomialNB\n",
    "\n",
    "pipe3 = Pipeline([('tfvec', TfidfVectorizer(stop_words= stopwordlist)),\n",
    "                  ('nb', MultinomialNB())\n",
    "                 ])"
   ]
  },
  {
   "cell_type": "code",
   "execution_count": 23,
   "metadata": {},
   "outputs": [],
   "source": [
    "# creating parameters for GridSearch SV using hyperparameters as shown below \n",
    "pipe3_params = {'tfvec__max_features': np.linspace(3500,3600,10, dtype = int),\n",
    "                'tfvec__min_df': [0.0001,0.0002,0.0003],\n",
    "                'tfvec__max_df': [0.3],\n",
    "                'tfvec__ngram_range': [(1,1),(1,2)],\n",
    "                'nb__alpha' : [1.0e-10],\n",
    "}"
   ]
  },
  {
   "cell_type": "code",
   "execution_count": 24,
   "metadata": {},
   "outputs": [],
   "source": [
    "# Creatingg GridSeachCV using pipeline: pipe3 and params_grid:  pipe3_params\n",
    "\n",
    "gs_pipe3 = GridSearchCV(pipe3, param_grid=pipe3_params, cv=5,n_jobs=-1)"
   ]
  },
  {
   "cell_type": "code",
   "execution_count": 25,
   "metadata": {},
   "outputs": [],
   "source": [
    "# Fitting GridSearchCV with CountVectorizer transformer on X_train and y_train.\n",
    "\n",
    "gs_pipe3.fit(X_train, y_train);"
   ]
  },
  {
   "cell_type": "code",
   "execution_count": 26,
   "metadata": {},
   "outputs": [
    {
     "data": {
      "text/plain": [
       "{'nb__alpha': 1e-10,\n",
       " 'tfvec__max_df': 0.3,\n",
       " 'tfvec__max_features': 3600,\n",
       " 'tfvec__min_df': 0.0002,\n",
       " 'tfvec__ngram_range': (1, 1)}"
      ]
     },
     "execution_count": 26,
     "metadata": {},
     "output_type": "execute_result"
    }
   ],
   "source": [
    "# Get best parameters using MultinomialNB and TfidfVectorizer\n",
    "\n",
    "gs_pipe3.best_params_"
   ]
  },
  {
   "cell_type": "code",
   "execution_count": 27,
   "metadata": {},
   "outputs": [
    {
     "name": "stdout",
     "output_type": "stream",
     "text": [
      "TfidfVectorizer with MultinomialNB summary of accuracy scores:\n",
      "GridSearchCV best accuracy = 0.828\n",
      "\n",
      "Using GridSearchCV best params suggested,\n",
      "Training corpus accuracy = 0.854\n",
      "Testing corpus accuracy = 0.827\n"
     ]
    }
   ],
   "source": [
    "# Summary scores of TfidfVectorizer and MultinomialNB.\n",
    "\n",
    "print(\"TfidfVectorizer with MultinomialNB summary of accuracy scores:\")\n",
    "print(f\"GridSearchCV best accuracy = {round(gs_pipe3.best_score_, 3)}\")\n",
    "print(\"\\nUsing GridSearchCV best params suggested,\")\n",
    "print(f\"Training corpus accuracy = {round(gs_pipe3.score(X_train, y_train), 3)}\")\n",
    "print(f\"Testing corpus accuracy = {round(gs_pipe3.score(X_test, y_test), 3)}\")"
   ]
  },
  {
   "cell_type": "code",
   "execution_count": 28,
   "metadata": {},
   "outputs": [],
   "source": [
    "# adding summary \n",
    "\n",
    "summary_df.loc[3] = [\n",
    "    'Hyperparameter Tuned',\n",
    "    'TfidfVec | MultinomialNB',\n",
    "    str(gs_pipe3.best_params_),\n",
    "    round(gs_pipe3.best_score_, 3),\n",
    "    round(gs_pipe3.score(X_train, y_train), 3),\n",
    "    round(gs_pipe3.score(X_test, y_test), 3)\n",
    "]"
   ]
  },
  {
   "cell_type": "code",
   "execution_count": 29,
   "metadata": {},
   "outputs": [
    {
     "data": {
      "text/html": [
       "<div>\n",
       "<style scoped>\n",
       "    .dataframe tbody tr th:only-of-type {\n",
       "        vertical-align: middle;\n",
       "    }\n",
       "\n",
       "    .dataframe tbody tr th {\n",
       "        vertical-align: top;\n",
       "    }\n",
       "\n",
       "    .dataframe thead th {\n",
       "        text-align: right;\n",
       "    }\n",
       "</style>\n",
       "<table border=\"1\" class=\"dataframe\">\n",
       "  <thead>\n",
       "    <tr style=\"text-align: right;\">\n",
       "      <th></th>\n",
       "      <th>iteration</th>\n",
       "      <th>transformer_estimator</th>\n",
       "      <th>GS_best_params</th>\n",
       "      <th>GS_best_score</th>\n",
       "      <th>train_accuracy</th>\n",
       "      <th>test_accuracy</th>\n",
       "    </tr>\n",
       "  </thead>\n",
       "  <tbody>\n",
       "    <tr>\n",
       "      <th>1</th>\n",
       "      <td>Baseline</td>\n",
       "      <td>CountVec | LogisticRegression</td>\n",
       "      <td>{'cvec1__max_df': 0.7, 'cvec1__max_features': 1000, 'cvec1__min_df': 0.02, 'cvec1__ngram_range': (1, 1), 'logreg1__max_iter': 1000}</td>\n",
       "      <td>0.801</td>\n",
       "      <td>0.826</td>\n",
       "      <td>0.803</td>\n",
       "    </tr>\n",
       "    <tr>\n",
       "      <th>2</th>\n",
       "      <td>Baseline</td>\n",
       "      <td>TfidfVec | LogisticRegression</td>\n",
       "      <td>{'logreg2__max_iter': 1000, 'tfvec2__max_df': 0.7, 'tfvec2__max_features': 1000, 'tfvec2__min_df': 0.02, 'tfvec2__ngram_range': (1, 1)}</td>\n",
       "      <td>0.809</td>\n",
       "      <td>0.830</td>\n",
       "      <td>0.810</td>\n",
       "    </tr>\n",
       "    <tr>\n",
       "      <th>3</th>\n",
       "      <td>Hyperparameter Tuned</td>\n",
       "      <td>TfidfVec | MultinomialNB</td>\n",
       "      <td>{'nb__alpha': 1e-10, 'tfvec__max_df': 0.3, 'tfvec__max_features': 3600, 'tfvec__min_df': 0.0002, 'tfvec__ngram_range': (1, 1)}</td>\n",
       "      <td>0.828</td>\n",
       "      <td>0.854</td>\n",
       "      <td>0.827</td>\n",
       "    </tr>\n",
       "  </tbody>\n",
       "</table>\n",
       "</div>"
      ],
      "text/plain": [
       "              iteration          transformer_estimator  \\\n",
       "1              Baseline  CountVec | LogisticRegression   \n",
       "2              Baseline  TfidfVec | LogisticRegression   \n",
       "3  Hyperparameter Tuned       TfidfVec | MultinomialNB   \n",
       "\n",
       "                                                                                                                            GS_best_params  \\\n",
       "1      {'cvec1__max_df': 0.7, 'cvec1__max_features': 1000, 'cvec1__min_df': 0.02, 'cvec1__ngram_range': (1, 1), 'logreg1__max_iter': 1000}   \n",
       "2  {'logreg2__max_iter': 1000, 'tfvec2__max_df': 0.7, 'tfvec2__max_features': 1000, 'tfvec2__min_df': 0.02, 'tfvec2__ngram_range': (1, 1)}   \n",
       "3           {'nb__alpha': 1e-10, 'tfvec__max_df': 0.3, 'tfvec__max_features': 3600, 'tfvec__min_df': 0.0002, 'tfvec__ngram_range': (1, 1)}   \n",
       "\n",
       "   GS_best_score  train_accuracy  test_accuracy  \n",
       "1          0.801           0.826          0.803  \n",
       "2          0.809           0.830          0.810  \n",
       "3          0.828           0.854          0.827  "
      ]
     },
     "execution_count": 29,
     "metadata": {},
     "output_type": "execute_result"
    }
   ],
   "source": [
    "summary_df"
   ]
  },
  {
   "cell_type": "markdown",
   "metadata": {},
   "source": [
    "From the above table, we can see that Multinomial has overall better scores than the Log Reg. The model is relatively overfitted as well."
   ]
  },
  {
   "cell_type": "markdown",
   "metadata": {},
   "source": [
    "### Logistic Regression Modelling"
   ]
  },
  {
   "cell_type": "code",
   "execution_count": 30,
   "metadata": {},
   "outputs": [],
   "source": [
    "# Creating Pipeline with:\n",
    "# Estimator: LogisticRegression \n",
    "# Transformer:TfidfVectorizer\n",
    "\n",
    "pipe4 = Pipeline([('tfvec4', TfidfVectorizer(stop_words= stopwordlist)),\n",
    "                  ('logreg4', LogisticRegression())\n",
    "                 ])"
   ]
  },
  {
   "cell_type": "code",
   "execution_count": 31,
   "metadata": {},
   "outputs": [],
   "source": [
    "# Declaring fixed one-off hyperparameters max_features, min_df, max_df & ngram_range for GridSearchCV first.\n",
    "\n",
    "pipe4_params = {'tfvec4__max_features': [9000,9500,10000],\n",
    "                'tfvec4__min_df': [0],\n",
    "                'tfvec4__max_df':np.linspace(0.22,0.225,10),\n",
    "                'tfvec4__ngram_range': [(1,1),(1,2)],\n",
    "                'logreg4__max_iter': [1000]\n",
    "               }"
   ]
  },
  {
   "cell_type": "code",
   "execution_count": 32,
   "metadata": {},
   "outputs": [],
   "source": [
    "# Creating two separate GridSearchCV objects for:\n",
    "# TfidfVectorizer and Logistic Regression with Hyper-parameter tuning\n",
    "\n",
    "gs_pipe4 = GridSearchCV(pipe4, param_grid=pipe4_params, cv=5)"
   ]
  },
  {
   "cell_type": "code",
   "execution_count": 33,
   "metadata": {},
   "outputs": [
    {
     "data": {
      "text/plain": [
       "GridSearchCV(cv=5,\n",
       "             estimator=Pipeline(steps=[('tfvec4',\n",
       "                                        TfidfVectorizer(stop_words=['i', 'me',\n",
       "                                                                    'my',\n",
       "                                                                    'myself',\n",
       "                                                                    'we', 'our',\n",
       "                                                                    'ours',\n",
       "                                                                    'ourselves',\n",
       "                                                                    'you',\n",
       "                                                                    \"you're\",\n",
       "                                                                    \"you've\",\n",
       "                                                                    \"you'll\",\n",
       "                                                                    \"you'd\",\n",
       "                                                                    'your',\n",
       "                                                                    'yours',\n",
       "                                                                    'yourself',\n",
       "                                                                    'yourselves',\n",
       "                                                                    'he', 'him',\n",
       "                                                                    'his',\n",
       "                                                                    'himself',\n",
       "                                                                    'she',\n",
       "                                                                    \"she's\",\n",
       "                                                                    'her',\n",
       "                                                                    'hers',\n",
       "                                                                    'herself',\n",
       "                                                                    'it',\n",
       "                                                                    \"it's\",\n",
       "                                                                    'its',\n",
       "                                                                    'itself', ...])),\n",
       "                                       ('logreg4', LogisticRegression())]),\n",
       "             param_grid={'logreg4__max_iter': [1000],\n",
       "                         'tfvec4__max_df': array([0.22      , 0.22055556, 0.22111111, 0.22166667, 0.22222222,\n",
       "       0.22277778, 0.22333333, 0.22388889, 0.22444444, 0.225     ]),\n",
       "                         'tfvec4__max_features': [9000, 9500, 10000],\n",
       "                         'tfvec4__min_df': [0],\n",
       "                         'tfvec4__ngram_range': [(1, 1), (1, 2)]})"
      ]
     },
     "execution_count": 33,
     "metadata": {},
     "output_type": "execute_result"
    }
   ],
   "source": [
    "# Fitting GridSearchCV with CountVectorizer transformer on X_train and y_train.\n",
    "\n",
    "gs_pipe4.fit(X_train, y_train)"
   ]
  },
  {
   "cell_type": "code",
   "execution_count": 34,
   "metadata": {},
   "outputs": [
    {
     "data": {
      "text/plain": [
       "{'logreg4__max_iter': 1000,\n",
       " 'tfvec4__max_df': 0.22,\n",
       " 'tfvec4__max_features': 10000,\n",
       " 'tfvec4__min_df': 0,\n",
       " 'tfvec4__ngram_range': (1, 1)}"
      ]
     },
     "execution_count": 34,
     "metadata": {},
     "output_type": "execute_result"
    }
   ],
   "source": [
    "# Best combination of hyperparameters suggested by GridSearchCV for TfidfVectorizer transformer.\n",
    "\n",
    "gs_pipe4.best_params_"
   ]
  },
  {
   "cell_type": "code",
   "execution_count": 35,
   "metadata": {},
   "outputs": [
    {
     "name": "stdout",
     "output_type": "stream",
     "text": [
      "TfidfVectorizer with LogisticRegression summary of accuracy scores:\n",
      "GridSearchCV best accuracy = 0.845\n",
      "\n",
      "Using GridSearchCV best params suggested,\n",
      "Training corpus accuracy = 0.896\n",
      "Testing corpus accuracy = 0.844\n"
     ]
    }
   ],
   "source": [
    "# Summary scores of TfidfVectorizer and LogisticRegression.\n",
    "\n",
    "print(\"TfidfVectorizer with LogisticRegression summary of accuracy scores:\")\n",
    "print(f\"GridSearchCV best accuracy = {round(gs_pipe4.best_score_, 3)}\")\n",
    "print(\"\\nUsing GridSearchCV best params suggested,\")\n",
    "print(f\"Training corpus accuracy = {round(gs_pipe4.score(X_train, y_train), 3)}\")\n",
    "print(f\"Testing corpus accuracy = {round(gs_pipe4.score(X_test, y_test), 3)}\")"
   ]
  },
  {
   "cell_type": "markdown",
   "metadata": {},
   "source": [
    "TfidfVectorizer with LogisticRegression summary of accuracy scores:\n",
    "GridSearchCV best accuracy = 0.85\n",
    "\n",
    "Using GridSearchCV best params suggested,\n",
    "Training corpus accuracy = 0.901\n",
    "Testing corpus accuracy = 0.849"
   ]
  },
  {
   "cell_type": "code",
   "execution_count": 36,
   "metadata": {},
   "outputs": [],
   "source": [
    "# Adding the accuracy scores from above two GridSearchCV models into summary_df.\n",
    "\n",
    "summary_df.loc[4] = [\n",
    "    'Hyperparameter Tuned',\n",
    "    'TfidfVec | LogisticRegression',\n",
    "    str(gs_pipe4.best_params_),\n",
    "    round(gs_pipe4.best_score_, 3),\n",
    "    round(gs_pipe4.score(X_train, y_train), 3),\n",
    "    round(gs_pipe4.score(X_test, y_test), 3)\n",
    "]"
   ]
  },
  {
   "cell_type": "code",
   "execution_count": 37,
   "metadata": {},
   "outputs": [
    {
     "data": {
      "text/html": [
       "<div>\n",
       "<style scoped>\n",
       "    .dataframe tbody tr th:only-of-type {\n",
       "        vertical-align: middle;\n",
       "    }\n",
       "\n",
       "    .dataframe tbody tr th {\n",
       "        vertical-align: top;\n",
       "    }\n",
       "\n",
       "    .dataframe thead th {\n",
       "        text-align: right;\n",
       "    }\n",
       "</style>\n",
       "<table border=\"1\" class=\"dataframe\">\n",
       "  <thead>\n",
       "    <tr style=\"text-align: right;\">\n",
       "      <th></th>\n",
       "      <th>iteration</th>\n",
       "      <th>transformer_estimator</th>\n",
       "      <th>GS_best_params</th>\n",
       "      <th>GS_best_score</th>\n",
       "      <th>train_accuracy</th>\n",
       "      <th>test_accuracy</th>\n",
       "    </tr>\n",
       "  </thead>\n",
       "  <tbody>\n",
       "    <tr>\n",
       "      <th>1</th>\n",
       "      <td>Baseline</td>\n",
       "      <td>CountVec | LogisticRegression</td>\n",
       "      <td>{'cvec1__max_df': 0.7, 'cvec1__max_features': 1000, 'cvec1__min_df': 0.02, 'cvec1__ngram_range': (1, 1), 'logreg1__max_iter': 1000}</td>\n",
       "      <td>0.801</td>\n",
       "      <td>0.826</td>\n",
       "      <td>0.803</td>\n",
       "    </tr>\n",
       "    <tr>\n",
       "      <th>2</th>\n",
       "      <td>Baseline</td>\n",
       "      <td>TfidfVec | LogisticRegression</td>\n",
       "      <td>{'logreg2__max_iter': 1000, 'tfvec2__max_df': 0.7, 'tfvec2__max_features': 1000, 'tfvec2__min_df': 0.02, 'tfvec2__ngram_range': (1, 1)}</td>\n",
       "      <td>0.809</td>\n",
       "      <td>0.830</td>\n",
       "      <td>0.810</td>\n",
       "    </tr>\n",
       "    <tr>\n",
       "      <th>3</th>\n",
       "      <td>Hyperparameter Tuned</td>\n",
       "      <td>TfidfVec | MultinomialNB</td>\n",
       "      <td>{'nb__alpha': 1e-10, 'tfvec__max_df': 0.3, 'tfvec__max_features': 3600, 'tfvec__min_df': 0.0002, 'tfvec__ngram_range': (1, 1)}</td>\n",
       "      <td>0.828</td>\n",
       "      <td>0.854</td>\n",
       "      <td>0.827</td>\n",
       "    </tr>\n",
       "    <tr>\n",
       "      <th>4</th>\n",
       "      <td>Hyperparameter Tuned</td>\n",
       "      <td>TfidfVec | LogisticRegression</td>\n",
       "      <td>{'logreg4__max_iter': 1000, 'tfvec4__max_df': 0.22, 'tfvec4__max_features': 10000, 'tfvec4__min_df': 0, 'tfvec4__ngram_range': (1, 1)}</td>\n",
       "      <td>0.845</td>\n",
       "      <td>0.896</td>\n",
       "      <td>0.844</td>\n",
       "    </tr>\n",
       "  </tbody>\n",
       "</table>\n",
       "</div>"
      ],
      "text/plain": [
       "              iteration          transformer_estimator  \\\n",
       "1              Baseline  CountVec | LogisticRegression   \n",
       "2              Baseline  TfidfVec | LogisticRegression   \n",
       "3  Hyperparameter Tuned       TfidfVec | MultinomialNB   \n",
       "4  Hyperparameter Tuned  TfidfVec | LogisticRegression   \n",
       "\n",
       "                                                                                                                            GS_best_params  \\\n",
       "1      {'cvec1__max_df': 0.7, 'cvec1__max_features': 1000, 'cvec1__min_df': 0.02, 'cvec1__ngram_range': (1, 1), 'logreg1__max_iter': 1000}   \n",
       "2  {'logreg2__max_iter': 1000, 'tfvec2__max_df': 0.7, 'tfvec2__max_features': 1000, 'tfvec2__min_df': 0.02, 'tfvec2__ngram_range': (1, 1)}   \n",
       "3           {'nb__alpha': 1e-10, 'tfvec__max_df': 0.3, 'tfvec__max_features': 3600, 'tfvec__min_df': 0.0002, 'tfvec__ngram_range': (1, 1)}   \n",
       "4   {'logreg4__max_iter': 1000, 'tfvec4__max_df': 0.22, 'tfvec4__max_features': 10000, 'tfvec4__min_df': 0, 'tfvec4__ngram_range': (1, 1)}   \n",
       "\n",
       "   GS_best_score  train_accuracy  test_accuracy  \n",
       "1          0.801           0.826          0.803  \n",
       "2          0.809           0.830          0.810  \n",
       "3          0.828           0.854          0.827  \n",
       "4          0.845           0.896          0.844  "
      ]
     },
     "execution_count": 37,
     "metadata": {},
     "output_type": "execute_result"
    }
   ],
   "source": [
    "summary_df"
   ]
  },
  {
   "cell_type": "markdown",
   "metadata": {},
   "source": [
    "The MultinomialNB has the highest scores, with slight overfit to test accuracy scores. \n",
    "However, I did notice that the Logistic Regression after hyperparameter tuning, it was able to pick up ngrams with range of 2 as a best parameter. "
   ]
  },
  {
   "cell_type": "markdown",
   "metadata": {},
   "source": [
    "### Random Forest Classifier"
   ]
  },
  {
   "cell_type": "code",
   "execution_count": 38,
   "metadata": {},
   "outputs": [],
   "source": [
    "# Creating Pipeline - pipe5 with:\n",
    "# Estimator: Random Forest Classifier\n",
    "# Transformer: TfidfVectorizer \n",
    "\n",
    "pipe5 = Pipeline([('tfvec5', TfidfVectorizer(stop_words= stopwordlist)),\n",
    "                  ('RanForest', RandomForestClassifier())\n",
    "                 ])"
   ]
  },
  {
   "cell_type": "code",
   "execution_count": 39,
   "metadata": {},
   "outputs": [],
   "source": [
    "# Declaring fixed one-off hyperparameters max_features, min_df, max_df & ngram_range for GridSearchCV first.\n",
    "\n",
    "pipe5_params = {'tfvec5__max_features': [9000],\n",
    "                'tfvec5__min_df': [0],\n",
    "                'tfvec5__max_df': [0.7,0.75,0.8],\n",
    "                'tfvec5__ngram_range': [(1,1)],\n",
    "                'RanForest__n_estimators': [300],\n",
    "                'RanForest__max_depth': [None],\n",
    "                'RanForest__max_features': ['sqrt']\n",
    "               }"
   ]
  },
  {
   "cell_type": "code",
   "execution_count": 40,
   "metadata": {},
   "outputs": [],
   "source": [
    "# Declaring fixed one-off hyperparameters max_features, min_df, max_df & ngram_range for GridSearchCV first.\n",
    "\n",
    "pipe5_params = {'tfvec5__max_features': [7000,8000,9000],\n",
    "                'tfvec5__min_df': [0],\n",
    "                'tfvec5__max_df': [0.7,0.75,0.8],\n",
    "                'tfvec5__ngram_range': [(1,1)],\n",
    "                'RanForest__n_estimators': [300],\n",
    "                'RanForest__max_depth': [None,1,2,3],\n",
    "                'RanForest__max_features': ['sqrt']\n",
    "               }"
   ]
  },
  {
   "cell_type": "code",
   "execution_count": 41,
   "metadata": {},
   "outputs": [],
   "source": [
    "# Creating two separate GridSearchCV objects for:\n",
    "# TfidfVectorizer and RandomForestClassifier with Hyper-parameter tuning\n",
    "\n",
    "gs_pipe5 = GridSearchCV(pipe5, param_grid=pipe5_params, cv=5, n_jobs= -1);"
   ]
  },
  {
   "cell_type": "code",
   "execution_count": 42,
   "metadata": {},
   "outputs": [
    {
     "data": {
      "text/plain": [
       "GridSearchCV(cv=5,\n",
       "             estimator=Pipeline(steps=[('tfvec5',\n",
       "                                        TfidfVectorizer(stop_words=['i', 'me',\n",
       "                                                                    'my',\n",
       "                                                                    'myself',\n",
       "                                                                    'we', 'our',\n",
       "                                                                    'ours',\n",
       "                                                                    'ourselves',\n",
       "                                                                    'you',\n",
       "                                                                    \"you're\",\n",
       "                                                                    \"you've\",\n",
       "                                                                    \"you'll\",\n",
       "                                                                    \"you'd\",\n",
       "                                                                    'your',\n",
       "                                                                    'yours',\n",
       "                                                                    'yourself',\n",
       "                                                                    'yourselves',\n",
       "                                                                    'he', 'him',\n",
       "                                                                    'his',\n",
       "                                                                    'himself',\n",
       "                                                                    'she',\n",
       "                                                                    \"she's\",\n",
       "                                                                    'her',\n",
       "                                                                    'hers',\n",
       "                                                                    'herself',\n",
       "                                                                    'it',\n",
       "                                                                    \"it's\",\n",
       "                                                                    'its',\n",
       "                                                                    'itself', ...])),\n",
       "                                       ('RanForest',\n",
       "                                        RandomForestClassifier())]),\n",
       "             n_jobs=-1,\n",
       "             param_grid={'RanForest__max_depth': [None, 1, 2, 3],\n",
       "                         'RanForest__max_features': ['sqrt'],\n",
       "                         'RanForest__n_estimators': [300],\n",
       "                         'tfvec5__max_df': [0.7, 0.75, 0.8],\n",
       "                         'tfvec5__max_features': [7000, 8000, 9000],\n",
       "                         'tfvec5__min_df': [0],\n",
       "                         'tfvec5__ngram_range': [(1, 1)]})"
      ]
     },
     "execution_count": 42,
     "metadata": {},
     "output_type": "execute_result"
    }
   ],
   "source": [
    "# Fitting GridSearchCV with TfidfVectorizer transformer on X_train and y_train.\n",
    "\n",
    "gs_pipe5.fit(X_train, y_train)"
   ]
  },
  {
   "cell_type": "code",
   "execution_count": 43,
   "metadata": {},
   "outputs": [
    {
     "data": {
      "text/plain": [
       "{'RanForest__max_depth': None,\n",
       " 'RanForest__max_features': 'sqrt',\n",
       " 'RanForest__n_estimators': 300,\n",
       " 'tfvec5__max_df': 0.7,\n",
       " 'tfvec5__max_features': 7000,\n",
       " 'tfvec5__min_df': 0,\n",
       " 'tfvec5__ngram_range': (1, 1)}"
      ]
     },
     "execution_count": 43,
     "metadata": {},
     "output_type": "execute_result"
    }
   ],
   "source": [
    "# Best combination of hyperparameters suggested by GridSearchCV for TfidfVectorizer transformer.\n",
    "\n",
    "gs_pipe5.best_params_"
   ]
  },
  {
   "cell_type": "code",
   "execution_count": 44,
   "metadata": {},
   "outputs": [
    {
     "name": "stdout",
     "output_type": "stream",
     "text": [
      "TfidfVectorizer with LogisticRegression summary of accuracy scores:\n",
      "GridSearchCV best accuracy = 0.824\n",
      "\n",
      "Using GridSearchCV best params suggested,\n",
      "Training corpus accuracy = 1.0\n",
      "Testing corpus accuracy = 0.827\n"
     ]
    }
   ],
   "source": [
    "# Summary scores of TfidfVectorizer and RandomForestClassifier.\n",
    "\n",
    "print(\"TfidfVectorizer with LogisticRegression summary of accuracy scores:\")\n",
    "print(f\"GridSearchCV best accuracy = {round(gs_pipe5.best_score_, 3)}\")\n",
    "print(\"\\nUsing GridSearchCV best params suggested,\")\n",
    "print(f\"Training corpus accuracy = {round(gs_pipe5.score(X_train, y_train), 3)}\")\n",
    "print(f\"Testing corpus accuracy = {round(gs_pipe5.score(X_test, y_test), 3)}\")"
   ]
  },
  {
   "cell_type": "code",
   "execution_count": 45,
   "metadata": {},
   "outputs": [],
   "source": [
    "# Adding accuracy scores from GridSearchCV models into summary_df.\n",
    "\n",
    "summary_df.loc[5] = [\n",
    "    'Hyperparameter Tuned',\n",
    "    'TfidfVec | RandomForest',\n",
    "    str(gs_pipe5.best_params_),\n",
    "    round(gs_pipe5.best_score_, 3),\n",
    "    round(gs_pipe5.score(X_train, y_train), 3),\n",
    "    round(gs_pipe5.score(X_test, y_test), 3)\n",
    "]"
   ]
  },
  {
   "cell_type": "code",
   "execution_count": 46,
   "metadata": {},
   "outputs": [
    {
     "data": {
      "text/html": [
       "<div>\n",
       "<style scoped>\n",
       "    .dataframe tbody tr th:only-of-type {\n",
       "        vertical-align: middle;\n",
       "    }\n",
       "\n",
       "    .dataframe tbody tr th {\n",
       "        vertical-align: top;\n",
       "    }\n",
       "\n",
       "    .dataframe thead th {\n",
       "        text-align: right;\n",
       "    }\n",
       "</style>\n",
       "<table border=\"1\" class=\"dataframe\">\n",
       "  <thead>\n",
       "    <tr style=\"text-align: right;\">\n",
       "      <th></th>\n",
       "      <th>iteration</th>\n",
       "      <th>transformer_estimator</th>\n",
       "      <th>GS_best_params</th>\n",
       "      <th>GS_best_score</th>\n",
       "      <th>train_accuracy</th>\n",
       "      <th>test_accuracy</th>\n",
       "    </tr>\n",
       "  </thead>\n",
       "  <tbody>\n",
       "    <tr>\n",
       "      <th>1</th>\n",
       "      <td>Baseline</td>\n",
       "      <td>CountVec | LogisticRegression</td>\n",
       "      <td>{'cvec1__max_df': 0.7, 'cvec1__max_features': 1000, 'cvec1__min_df': 0.02, 'cvec1__ngram_range': (1, 1), 'logreg1__max_iter': 1000}</td>\n",
       "      <td>0.801</td>\n",
       "      <td>0.826</td>\n",
       "      <td>0.803</td>\n",
       "    </tr>\n",
       "    <tr>\n",
       "      <th>2</th>\n",
       "      <td>Baseline</td>\n",
       "      <td>TfidfVec | LogisticRegression</td>\n",
       "      <td>{'logreg2__max_iter': 1000, 'tfvec2__max_df': 0.7, 'tfvec2__max_features': 1000, 'tfvec2__min_df': 0.02, 'tfvec2__ngram_range': (1, 1)}</td>\n",
       "      <td>0.809</td>\n",
       "      <td>0.830</td>\n",
       "      <td>0.810</td>\n",
       "    </tr>\n",
       "    <tr>\n",
       "      <th>3</th>\n",
       "      <td>Hyperparameter Tuned</td>\n",
       "      <td>TfidfVec | MultinomialNB</td>\n",
       "      <td>{'nb__alpha': 1e-10, 'tfvec__max_df': 0.3, 'tfvec__max_features': 3600, 'tfvec__min_df': 0.0002, 'tfvec__ngram_range': (1, 1)}</td>\n",
       "      <td>0.828</td>\n",
       "      <td>0.854</td>\n",
       "      <td>0.827</td>\n",
       "    </tr>\n",
       "    <tr>\n",
       "      <th>4</th>\n",
       "      <td>Hyperparameter Tuned</td>\n",
       "      <td>TfidfVec | LogisticRegression</td>\n",
       "      <td>{'logreg4__max_iter': 1000, 'tfvec4__max_df': 0.22, 'tfvec4__max_features': 10000, 'tfvec4__min_df': 0, 'tfvec4__ngram_range': (1, 1)}</td>\n",
       "      <td>0.845</td>\n",
       "      <td>0.896</td>\n",
       "      <td>0.844</td>\n",
       "    </tr>\n",
       "    <tr>\n",
       "      <th>5</th>\n",
       "      <td>Hyperparameter Tuned</td>\n",
       "      <td>TfidfVec | RandomForest</td>\n",
       "      <td>{'RanForest__max_depth': None, 'RanForest__max_features': 'sqrt', 'RanForest__n_estimators': 300, 'tfvec5__max_df': 0.7, 'tfvec5__max_features': 7000, 'tfvec5__min_df': 0, 'tfvec5__ngram_range': (1, 1)}</td>\n",
       "      <td>0.824</td>\n",
       "      <td>1.000</td>\n",
       "      <td>0.827</td>\n",
       "    </tr>\n",
       "  </tbody>\n",
       "</table>\n",
       "</div>"
      ],
      "text/plain": [
       "              iteration          transformer_estimator  \\\n",
       "1              Baseline  CountVec | LogisticRegression   \n",
       "2              Baseline  TfidfVec | LogisticRegression   \n",
       "3  Hyperparameter Tuned       TfidfVec | MultinomialNB   \n",
       "4  Hyperparameter Tuned  TfidfVec | LogisticRegression   \n",
       "5  Hyperparameter Tuned        TfidfVec | RandomForest   \n",
       "\n",
       "                                                                                                                                                                                               GS_best_params  \\\n",
       "1                                                                         {'cvec1__max_df': 0.7, 'cvec1__max_features': 1000, 'cvec1__min_df': 0.02, 'cvec1__ngram_range': (1, 1), 'logreg1__max_iter': 1000}   \n",
       "2                                                                     {'logreg2__max_iter': 1000, 'tfvec2__max_df': 0.7, 'tfvec2__max_features': 1000, 'tfvec2__min_df': 0.02, 'tfvec2__ngram_range': (1, 1)}   \n",
       "3                                                                              {'nb__alpha': 1e-10, 'tfvec__max_df': 0.3, 'tfvec__max_features': 3600, 'tfvec__min_df': 0.0002, 'tfvec__ngram_range': (1, 1)}   \n",
       "4                                                                      {'logreg4__max_iter': 1000, 'tfvec4__max_df': 0.22, 'tfvec4__max_features': 10000, 'tfvec4__min_df': 0, 'tfvec4__ngram_range': (1, 1)}   \n",
       "5  {'RanForest__max_depth': None, 'RanForest__max_features': 'sqrt', 'RanForest__n_estimators': 300, 'tfvec5__max_df': 0.7, 'tfvec5__max_features': 7000, 'tfvec5__min_df': 0, 'tfvec5__ngram_range': (1, 1)}   \n",
       "\n",
       "   GS_best_score  train_accuracy  test_accuracy  \n",
       "1          0.801           0.826          0.803  \n",
       "2          0.809           0.830          0.810  \n",
       "3          0.828           0.854          0.827  \n",
       "4          0.845           0.896          0.844  \n",
       "5          0.824           1.000          0.827  "
      ]
     },
     "execution_count": 46,
     "metadata": {},
     "output_type": "execute_result"
    }
   ],
   "source": [
    "summary_df"
   ]
  },
  {
   "cell_type": "markdown",
   "metadata": {},
   "source": [
    "We can see clear overfitting from the RandomForest Classifier from the training set which scored at 0.999 vs test data of 0.81. This suggest that the model will be unfit to generalise to unseen data. "
   ]
  },
  {
   "cell_type": "markdown",
   "metadata": {},
   "source": [
    "## Error Analysis"
   ]
  },
  {
   "cell_type": "markdown",
   "metadata": {},
   "source": [
    "### Analysis on `Top` and `Bottom` features\n",
    "\n",
    "Comparison between Logistic Regression, MultinomialNB and RandomForest\n",
    "\n",
    "Features were selected by retrieving feature importance by calculating:\n",
    "- Coefficients from Logistic regression\n",
    "- Relative difference of log probability from MultinomialNB\n",
    "- Mean decrease in impurity from RandomForest"
   ]
  },
  {
   "cell_type": "markdown",
   "metadata": {},
   "source": [
    "#### MultinomialNB"
   ]
  },
  {
   "cell_type": "code",
   "execution_count": 47,
   "metadata": {},
   "outputs": [],
   "source": [
    "# Creating feature importance table for Multinomial features \n",
    "\n",
    "delta = gs_pipe3.best_estimator_[1].feature_log_prob_[1, :] - gs_pipe3.best_estimator_[1].feature_log_prob_[0, :]\n",
    "\n",
    "df_multinomial = pd.DataFrame([[x,y] for x,y in zip(gs_pipe3.best_estimator_[0].get_feature_names_out(),(delta))])\n",
    "df_multinomial.rename(columns= {0: 'Features', 1: 'log_prob_diff'}, inplace = True)\n",
    "\n",
    "# creating top few features df\n",
    "df_plot_multi_top = pd.DataFrame(\n",
    "        {\n",
    "        'Log Probability Difference': df_multinomial.sort_values(by = 'log_prob_diff', ascending = False).head(15)['log_prob_diff'].tolist(),\n",
    "        'Top Features': df_multinomial.sort_values(by = 'log_prob_diff', ascending = False).head(15)['Features'].tolist()\n",
    "})\n",
    "\n",
    "# creating bottom few features df\n",
    "df_plot_multi = pd.DataFrame({\n",
    "    'Log Probability Difference': df_multinomial.sort_values(by = 'log_prob_diff', ascending = False).tail(15)['log_prob_diff'].tolist(),\n",
    "    'Top Features': df_multinomial.sort_values(by = 'log_prob_diff', ascending = False).tail(15)['Features'].tolist()}\n",
    ").sort_values(by = 'Log Probability Difference', ascending = True)\n"
   ]
  },
  {
   "cell_type": "code",
   "execution_count": 48,
   "metadata": {},
   "outputs": [
    {
     "data": {
      "image/png": "[encoded data removed]",
      "text/plain": [
       "<Figure size 1296x864 with 2 Axes>"
      ]
     },
     "metadata": {
      "needs_background": "light"
     },
     "output_type": "display_data"
    }
   ],
   "source": [
    "# Plotting barplots to visualise the most important features (tokens) along with their probabilities (\"importance\").\n",
    "\n",
    "fig, ax = plt.subplots(figsize=(18,12), ncols=2)\n",
    "\n",
    "# Reducing space between the two subplots.\n",
    "plt.subplots_adjust(wspace=0.08)\n",
    "\n",
    "ax = ax.ravel()\n",
    "\n",
    "pal1 = sns.color_palette(\"Reds\", len(df_plot_multi_top['Top Features']))\n",
    "pal2 = sns.color_palette(\"GnBu\", len(df_plot_multi_top['Top Features']))\n",
    "\n",
    "# Plotting horizontal barplots.\n",
    "sns.barplot(orient='h', y='Top Features', x='Log Probability Difference', ax=ax[0], palette=np.array(pal1[::-1]), data = df_plot_multi_top)\n",
    "sns.barplot(orient='h', y='Top Features', x='Log Probability Difference', ax=ax[1], palette=np.array(pal2[::-1]), data = df_plot_multi)\n",
    "\n",
    "# Setting the x-axis limits to be the same on both subplots.\n",
    "ax[0].set(xlim=(0, round(df_plot_multi_top['Log Probability Difference'][0]*1.1, 3)))\n",
    "ax[1].set(xlim=(0, round(df_plot_multi['Log Probability Difference'][0]*8, 3)))\n",
    "\n",
    "# Inverting the x-axis and moving the y-axis labels to the right for subplot on the right.\n",
    "ax[1].invert_xaxis()\n",
    "ax[1].yaxis.tick_right()\n",
    "\n",
    "# Setting the size of axis ticks.\n",
    "ax[0].tick_params(axis='x', labelsize=12)\n",
    "ax[1].tick_params(axis='x', labelsize=12)\n",
    "ax[0].tick_params(axis='y', labelsize=14.5)\n",
    "ax[1].tick_params(axis='y', labelsize=14.5)\n",
    "\n",
    "\n",
    "ax[0].set_xlabel(\"Empirical log probability (similar to \\\"importance\\\" of feature)\", fontsize=16)\n",
    "ax[1].set_xlabel(\"Empirical log probability (similar to \\\"importance\\\" of feature)\", fontsize=16)\n",
    "\n",
    "ax[0].set_title('r/PTSD', fontsize=18)\n",
    "ax[1].set_title('r/Anxiety', fontsize=18)\n",
    "\n",
    "fig.suptitle(x=0.5, y=0.95, t=\"Barplots showing 30 most important words from posts from both subreddits using Multinomial NB\", fontsize=20);\n",
    "\n",
    "# Exporting plot image in PNG format.\n",
    "plt.savefig('../Photos/MultinomialNB_Features.png', bbox_inches='tight');"
   ]
  },
  {
   "cell_type": "code",
   "execution_count": 49,
   "metadata": {},
   "outputs": [
    {
     "data": {
      "text/plain": [
       "47                                                                                                                                                                                                                                                                                                                                                                                                                                                                                                                                                                                                                                                                                                                                                                                                                                                                                                                                                                                                                                                                                                                                                last night was bad. im asking my neighbors if they've heard anything. i could of sworn i heard gun shots. maybe fireworks. nothing too out of the ordinary for where i live/out in the country. maybe people hunting.  my bed started shaking though. kept seeing dark people figures. i was triggered.   i feel drained from crap sleep. getting on with my day like nothing happened !!! don't want this to control me.\n",
       "1646                                                                                                                                                                                                                                                                                                                                                                                                                                                                                                                                                                                                                                                                                                                                                                                                                                                                                                                                                                                                                                                                                                                                                                                                                                                                                                                                                                                                                                           I'm extremely scared of fireworks from my past abuse and tonight they are having a fireworks show how can i distract myself.\n",
       "1893    I've been struggling for the past few months especially since I graduated college and had to get a crappy summer job as a waitress and I have had too much time alone. I moved out of my college apartment which means i'm living in my hometown again which is where most of my abuse occurred for about 10 years of my life. being here is never good for me. my panic attacks and nightmares increased exponentially since my semester ended because I have no distractions anymore -- even at work i'm biting my cheek behind my mask because i'm on the verge of tears all the time.  \\n\\n\\nI'm scared about July 4th and my birthday which are in the same week because these two events are notoriously bad for me. last year, I relapsed and self harmed on july 4th and I spent my birthday alone, this year i'm trying to not get overwhelmed and i'm trying to mentally prepare myself for how hard it is going to be. July 4th is hard because i'm very freaked out by loud noises - even fireworks, and I know the neighbors are going to be doing them all night. I can try my best to get through that day and night, but then several days later it'll be my 23rd birthday and I'm already dreading it. my suicidal/anxious/panicky feelings have already been setting in this week, so I predict that next week it will be worse.  \\n\\n\\nHow do I cope effectively and prepare myself for all the triggers that are going around at all times?? Even when I know some days will hurt, that knowledge doesn't always help. I don't know what to do.\n",
       "1915                                                                                                                                                                                                                                                                                                                                                                    I’m new to this community, so I hope I’m doing this right. I’ve had PTSD for the past 7 years now, and am now medicated &amp; coping well 95% of the time. What gets me though are noises, especially when loud and sudden (this trigger is unrelated to the cause of my PTSD). Sometimes, I collapse into the fetal position and can’t get up. \\n\\nThe other day, I was out in the streets, and there were fireworks going off all around us, which was hard enough, but I was getting through it with some deep breathing &amp; holding onto my partner. We were at a light at a crowded intersection, and a car stopped in front of us (on the zebra crossing), and suddenly honked their horn really loud for a long time. As soon as it happened, I screamed like a banshee for like 10 long seconds and crashed into my partners arms, crying. Everyone was staring at me and asking what happened, which was only making it worse, I was so embarrassed. How do you deal with things like this happening in public?  My family are used to it and understand, but I feel like I’m scaring kids, and people think I’m crazy. \\n\\nThanks for reading, and I’m sending you love &amp; strength.\n",
       "1993                                                                                                                                                                                                                                                                                                                                                                                                                                                                                                                                                                                                                                                                                                                                                                                                                                                                                                                                       Anyone else feels like they're floating the next day or so after an episode?\\n\\nA house 4 doors down from me let off a barrage of fireworks at 10:30pm yesterday.\\n\\nFirst time I had a freeze response but for the first 15 seconds I genuinely thought it was incoming IDF (rockets, mortars).\\n\\nThe next 45 mins consisted mainly of crying on the floor and dissociating. Luckily I did manage to sleep last night but still feel exhausted, dazed and like I'm floating but that's a new one on me.\\n\\nBy the way I am OK, I've got a brilliant support network in place and a good care plan to get myself back on track.\n",
       "Name: selftext, dtype: object"
      ]
     },
     "execution_count": 49,
     "metadata": {},
     "output_type": "execute_result"
    }
   ],
   "source": [
    "df.loc[df['selftext'].str.contains('firework'), 'selftext'][0:5]"
   ]
  },
  {
   "cell_type": "markdown",
   "metadata": {},
   "source": [
    "Users are talking about actual fireworks, expressing agony and how they are reacting to the load noises."
   ]
  },
  {
   "cell_type": "code",
   "execution_count": 50,
   "metadata": {},
   "outputs": [
    {
     "data": {
      "text/html": [
       "<div>\n",
       "<style scoped>\n",
       "    .dataframe tbody tr th:only-of-type {\n",
       "        vertical-align: middle;\n",
       "    }\n",
       "\n",
       "    .dataframe tbody tr th {\n",
       "        vertical-align: top;\n",
       "    }\n",
       "\n",
       "    .dataframe thead th {\n",
       "        text-align: right;\n",
       "    }\n",
       "</style>\n",
       "<table border=\"1\" class=\"dataframe\">\n",
       "  <thead>\n",
       "    <tr style=\"text-align: right;\">\n",
       "      <th></th>\n",
       "      <th></th>\n",
       "      <th>author</th>\n",
       "    </tr>\n",
       "    <tr>\n",
       "      <th>month</th>\n",
       "      <th>user_contribute_where</th>\n",
       "      <th></th>\n",
       "    </tr>\n",
       "  </thead>\n",
       "  <tbody>\n",
       "    <tr>\n",
       "      <th>1</th>\n",
       "      <th>ptsd_only</th>\n",
       "      <td>7</td>\n",
       "    </tr>\n",
       "    <tr>\n",
       "      <th>2</th>\n",
       "      <th>ptsd_only</th>\n",
       "      <td>3</td>\n",
       "    </tr>\n",
       "    <tr>\n",
       "      <th>5</th>\n",
       "      <th>ptsd_only</th>\n",
       "      <td>1</td>\n",
       "    </tr>\n",
       "    <tr>\n",
       "      <th>6</th>\n",
       "      <th>ptsd_only</th>\n",
       "      <td>7</td>\n",
       "    </tr>\n",
       "    <tr>\n",
       "      <th>7</th>\n",
       "      <th>ptsd_only</th>\n",
       "      <td>33</td>\n",
       "    </tr>\n",
       "    <tr>\n",
       "      <th>8</th>\n",
       "      <th>ptsd_only</th>\n",
       "      <td>5</td>\n",
       "    </tr>\n",
       "    <tr>\n",
       "      <th>9</th>\n",
       "      <th>ptsd_only</th>\n",
       "      <td>4</td>\n",
       "    </tr>\n",
       "    <tr>\n",
       "      <th>10</th>\n",
       "      <th>ptsd_only</th>\n",
       "      <td>3</td>\n",
       "    </tr>\n",
       "    <tr>\n",
       "      <th>11</th>\n",
       "      <th>ptsd_only</th>\n",
       "      <td>5</td>\n",
       "    </tr>\n",
       "    <tr>\n",
       "      <th>12</th>\n",
       "      <th>ptsd_only</th>\n",
       "      <td>2</td>\n",
       "    </tr>\n",
       "  </tbody>\n",
       "</table>\n",
       "</div>"
      ],
      "text/plain": [
       "                             author\n",
       "month user_contribute_where        \n",
       "1     ptsd_only                   7\n",
       "2     ptsd_only                   3\n",
       "5     ptsd_only                   1\n",
       "6     ptsd_only                   7\n",
       "7     ptsd_only                  33\n",
       "8     ptsd_only                   5\n",
       "9     ptsd_only                   4\n",
       "10    ptsd_only                   3\n",
       "11    ptsd_only                   5\n",
       "12    ptsd_only                   2"
      ]
     },
     "execution_count": 50,
     "metadata": {},
     "output_type": "execute_result"
    }
   ],
   "source": [
    "df[df['lemmi_clean_text'].str.contains('firework')].groupby(['month','user_contribute_where']).count()[['author']]"
   ]
  },
  {
   "cell_type": "markdown",
   "metadata": {},
   "source": [
    "Highest number of post coming from July"
   ]
  },
  {
   "cell_type": "markdown",
   "metadata": {},
   "source": [
    "***Firework Identified***\n",
    "\n",
    "Found Fireworks seem to be interesting, upon investigating main dataset, the word mainly coming from the text and the title as well, explaining they have triggers likely due to firework loud noises. `In fact, all posts in the main dataset are coming from users in r/PTSD`.\n",
    "\n",
    "The fact that it was highlighted as a main feature, suggest that it might be severe more with users from r/PTSD. True enough, based on ([*source*](https://www.insider.com/how-fireworks-affect-you-from-increased-anxiety-and-memory-problems-2020-7#:~:text=Repetitive%20fireworks%20launched%20at%20night,can%20weaken%20your%20immune%20system.)), people with `past trauma related to sound are impacted significantly worse by loud explosion` of fireworks, causing `reminiscent of threat` and may have activated the brain's threat detector. \n",
    "\n",
    "Linking back to the EDA on post, we did see spikes on `July 2021`.Based on ([*source*](https://wgntv.com/news/fireworks-retailer-warns-of-july-4-shortage-here-are-the-states-where-its-legal-to-stock-up/)), there is seasonal fireworks on `every 4th of July` across many states in the US. Although we cant assume most users from the subreddits are from US, but it is room for exploration, to deep dive into the location and firework activities. \n",
    "\n"
   ]
  },
  {
   "cell_type": "markdown",
   "metadata": {},
   "source": [
    "**For Bottom Features of Multinomial NB**\n",
    "\n",
    "Words such as `CBC - Complete Blood Count`, `wbc - White blood cells` and `ekg` have the most predictive power to skew predictions towards r/Anxiety.\n",
    "\n",
    "This indicates that most people having Anxiety will go for treatments and medications and often check for vital signs such as `cbc` and `wbc`. Based on ([*source*](https://pubmed.ncbi.nlm.nih.gov/28697416/)), people with anxiety tend to have increase `WBC` after measuring and evaluated their `CBC`. "
   ]
  },
  {
   "cell_type": "markdown",
   "metadata": {},
   "source": [
    "#### Logistic Regression"
   ]
  },
  {
   "cell_type": "code",
   "execution_count": 51,
   "metadata": {},
   "outputs": [],
   "source": [
    "# Set up dataframe to get coefficients and feature names\n",
    "df_logreg = pd.DataFrame([[x,y] for x,y in zip(gs_pipe2.best_estimator_[0].get_feature_names_out(), (gs_pipe2.best_estimator_[1].coef_).tolist()[0])])\n",
    "df_logreg.rename(columns= {0: 'Features', 1: 'Coefficients'}, inplace = True)\n",
    "df_logreg.sort_values(by = 'Coefficients', ascending = False).head(15)\n",
    "\n",
    "# Creating top few features \n",
    "df_plot_logreg_top = pd.DataFrame(\n",
    "        {\n",
    "        'Coefficients': df_logreg.sort_values(by = 'Coefficients', ascending = False).head(15)['Coefficients'].tolist(),\n",
    "        'Top Features': df_logreg.sort_values(by = 'Coefficients', ascending = False).head(15)['Features'].tolist()\n",
    "})\n",
    "\n",
    "# Creating bottom few features\n",
    "index = df_logreg.sort_values(by = 'Coefficients', ascending = False).tail(15)['Features'].tolist()\n",
    "coef = df_logreg.sort_values(by = 'Coefficients', ascending = False).tail(15)['Coefficients'].tolist()\n",
    "\n",
    "df_plot_logreg = pd.DataFrame({'Coefficients': coef,'Top Features': index}).sort_values(by = 'Coefficients', ascending = True)\n"
   ]
  },
  {
   "cell_type": "code",
   "execution_count": 52,
   "metadata": {},
   "outputs": [
    {
     "data": {
      "image/png": "[encoded data removed]",
      "text/plain": [
       "<Figure size 1296x864 with 2 Axes>"
      ]
     },
     "metadata": {
      "needs_background": "light"
     },
     "output_type": "display_data"
    }
   ],
   "source": [
    "# Plotting barplots to visualise the most important features (tokens) along with their probabilities (\"importance\").\n",
    "\n",
    "fig, ax = plt.subplots(figsize=(18,12), ncols=2);\n",
    "\n",
    "# Reducing space between the two subplots.\n",
    "plt.subplots_adjust(wspace=0.08);\n",
    "\n",
    "ax = ax.ravel();\n",
    "\n",
    "pal1 = sns.color_palette(\"Reds\", len(df_plot_multi_top['Top Features']));\n",
    "pal2 = sns.color_palette(\"GnBu\", len(df_plot_multi_top['Top Features']));\n",
    "\n",
    "# Plotting horizontal barplots.\n",
    "sns.barplot(orient='h', y='Top Features', x='Coefficients', ax=ax[0], palette=np.array(pal1[::-1]), data = df_plot_logreg_top);\n",
    "sns.barplot(orient='h', y='Top Features', x='Coefficients', ax=ax[1], palette=np.array(pal2[::-1]), data = df_plot_logreg);\n",
    "\n",
    "# Setting the x-axis limits to be the same on both subplots.\n",
    "ax[0].set(xlim=(0, round(df_plot_logreg_top['Coefficients'][0]*1.1, 3)));\n",
    "ax[1].set(xlim=(0, round(df_plot_logreg['Coefficients'][0]*2, 3)));\n",
    "\n",
    "# Inverting the x-axis and moving the y-axis labels to the right for subplot on the right.\n",
    "ax[1].invert_xaxis();\n",
    "ax[1].yaxis.tick_right();\n",
    "\n",
    "# Setting the size of axis ticks.\n",
    "ax[0].tick_params(axis='x', labelsize=12);\n",
    "ax[1].tick_params(axis='x', labelsize=12);\n",
    "ax[0].tick_params(axis='y', labelsize=14.5);\n",
    "ax[1].tick_params(axis='y', labelsize=14.5);\n",
    "\n",
    "\n",
    "ax[0].set_xlabel(\"Coefficients (similar to \\\"importance\\\" of feature)\", fontsize=16);\n",
    "ax[1].set_xlabel(\"Coefficients (similar to \\\"importance\\\" of feature)\", fontsize=16);\n",
    "\n",
    "ax[0].set_title('r/PTSD', fontsize=18);\n",
    "ax[1].set_title('r/Anxiety', fontsize=18);\n",
    "\n",
    "fig.suptitle(x=0.5, y=0.95, t=\"Barplots showing 30 most important words from posts from both subreddits using Logistic Regression\", fontsize=20);\n",
    "\n",
    "# Exporting plot image in PNG format.\n",
    "plt.savefig('../Photos/Log_reg_features.png', bbox_inches='tight');"
   ]
  },
  {
   "cell_type": "markdown",
   "metadata": {},
   "source": [
    "Words like `social`, `worry`, `fear`, are most commonly used to identify as users from r/Anxiety. I feel that `social` came about strongest in predicting users into r/Anxiety is because it is normally tagged with `social anxiety`"
   ]
  },
  {
   "cell_type": "code",
   "execution_count": 53,
   "metadata": {},
   "outputs": [
    {
     "data": {
      "image/png": "[encoded data removed]",
      "text/plain": [
       "<Figure size 1080x720 with 1 Axes>"
      ]
     },
     "metadata": {
      "needs_background": "light"
     },
     "output_type": "display_data"
    },
    {
     "data": {
      "text/plain": [
       "<Figure size 432x288 with 0 Axes>"
      ]
     },
     "metadata": {},
     "output_type": "display_data"
    }
   ],
   "source": [
    "forest_feat_importance = pd.DataFrame(gs_pipe5.best_estimator_[1].feature_importances_, index = gs_pipe5.best_estimator_[0].get_feature_names_out()).sort_values(by = 0, ascending = False).head(15)\n",
    "forest_feat_importance.columns = ['mean_decrease_impurity']\n",
    "\n",
    "forest_feat_importance = forest_feat_importance.reset_index()\n",
    "forest_feat_importance.columns = ['Features', 'mean_decrease_impurity']\n",
    "\n",
    "\n",
    "df_plot_forest_top = pd.DataFrame(\n",
    "        {\n",
    "        'Mean Decrease Impurity': forest_feat_importance['mean_decrease_impurity'].tolist(),\n",
    "        'Top Features': forest_feat_importance['Features'].tolist()\n",
    "})\n",
    "\n",
    "# Set figure size \n",
    "plt.subplots(figsize=(15, 10))\n",
    "\n",
    "# Setting up color pallete\n",
    "pal = sns.color_palette(\"Greens\", len(df_plot_forest_top['Top Features']))\n",
    "\n",
    "# Plot seaborn barplot\n",
    "sns.barplot(x='Mean Decrease Impurity', y='Top Features', palette=np.array(pal[::-1]), data = df_plot_forest_top)\n",
    "\n",
    "plt.xlabel('Random Forest Feature Importance', fontdict={'fontsize': 14})\n",
    "plt.ylabel('Top Features', fontdict={'fontsize': 14})\n",
    "\n",
    "# Show plot\n",
    "plt.show()\n",
    "\n",
    "# Exporting plot image in PNG format.\n",
    "plt.savefig('../Photos/Random_Forest_Features1.png', bbox_inches='tight');"
   ]
  },
  {
   "cell_type": "markdown",
   "metadata": {},
   "source": [
    "**Comments on top few features**\n",
    "- For logistic regression model, the top few features like 'flashbacks', 'nightmares', 'triggers' can serve as ***true symptoms of users suffering from PTSD***. Based on ([*source*](https://www.psychologytoday.com/us/conditions/post-traumatic-stress-disorder)), patients suffering from PTSD then to have those stated features. \n",
    "\n",
    "- Although it contains some words like 'abuse' that might describe ***causes of PTSD***, I believe when looking at the top few features from MultinomialNB, I can find more words that describes the ***causes AND triggers of PTSD*** more like 'rape', 'firework', 'gunshot', 'csa' which stands for childhood sexual abuse, 'repressed', 'stalked'.\n",
    "\n",
    "- RandomForest has similar features ranked the same way as the Logistic Regression.  \n",
    "\n",
    "- Overall by far, aligned with the accuracy score, I would conclude that MultinomialNB is more superior in getting defining words that may classifiy people with PTSD more. "
   ]
  },
  {
   "cell_type": "markdown",
   "metadata": {},
   "source": [
    "### Confusion matrix\n",
    "\n",
    "Keeping in mind of minimising False negatives to boost sensitivity, we will use only MultinomialNB with the best params attained above for further error analysis \n",
    "\n",
    "We will look at the following \n",
    "1) ``False Negatives``\n",
    "2) `False Positive`"
   ]
  },
  {
   "cell_type": "code",
   "execution_count": 54,
   "metadata": {},
   "outputs": [
    {
     "name": "stderr",
     "output_type": "stream",
     "text": [
      "C:\\Users\\Admin\\.conda\\envs\\myenv\\lib\\site-packages\\sklearn\\utils\\deprecation.py:87: FutureWarning: Function plot_confusion_matrix is deprecated; Function `plot_confusion_matrix` is deprecated in 1.0 and will be removed in 1.2. Use one of the class methods: ConfusionMatrixDisplay.from_predictions or ConfusionMatrixDisplay.from_estimator.\n",
      "  warnings.warn(msg, category=FutureWarning)\n"
     ]
    },
    {
     "data": {
      "image/png": "[encoded data removed]",
      "text/plain": [
       "<Figure size 432x288 with 2 Axes>"
      ]
     },
     "metadata": {
      "needs_background": "light"
     },
     "output_type": "display_data"
    }
   ],
   "source": [
    "# Generate predictions.\n",
    "preds = gs_pipe3.predict(X_test)\n",
    "\n",
    "# Generate confusion matrix.\n",
    "# Documentation here: https://scikit-learn.org/stable/modules/generated/sklearn.metrics.confusion_matrix.html\n",
    "\n",
    "confusion_matrix(y_test, # True values.\n",
    "                 preds)  # Predicted values.\n",
    "\n",
    "# Save TN/FP/FN/TP values.\n",
    "\n",
    "tn, fp, fn, tp = confusion_matrix(y_test, preds).ravel();\n",
    "\n",
    "# Plot Confusion matrix\n",
    "plot_confusion_matrix(gs_pipe3, X_test, y_test, cmap='Blues', \n",
    "                      values_format='d', display_labels=['r/Anxiety', 'r/PTSD']);                 "
   ]
  },
  {
   "cell_type": "markdown",
   "metadata": {},
   "source": [
    "There are total of 389 post misclassified to be false negative while 485 post are misclassified to be false positive"
   ]
  },
  {
   "cell_type": "markdown",
   "metadata": {},
   "source": [
    "There are more post misclassified for predicting falsely for positive class (r/PTSD) when its actually negative (r/Anxiety). Hence more False positives than False negatives. "
   ]
  },
  {
   "cell_type": "markdown",
   "metadata": {},
   "source": [
    "### Analysis of Misclassified Posts\n",
    "\n",
    "We will be looking deep into post created by users who post both in r/PTSD and r/Anxiety\n",
    "\n",
    "Hence we first need to classify the error_df which contains all misclassifications, and then zoom into (user_contribute_where = `both`) and do some analysis"
   ]
  },
  {
   "cell_type": "code",
   "execution_count": 55,
   "metadata": {},
   "outputs": [],
   "source": [
    "# create a dataframe to contain the posts, actual reddit and predicted reddit\n",
    "\n",
    "y_test_pred_df = pd.DataFrame()\n",
    "y_test_pred_df['index'] = y_test.index\n",
    "y_test_pred_df['y'] = y_test.values\n",
    "y_test_pred_df['y_pred'] = preds\n",
    "y_test_pred_df = y_test_pred_df.merge(df.reset_index(), on = 'index')\n",
    "\n",
    "y_test_pred_df = y_test_pred_df[['author','index','y','y_pred','title','selftext','lemmi_clean_text','month','user_contribute_where']]"
   ]
  },
  {
   "cell_type": "code",
   "execution_count": 56,
   "metadata": {},
   "outputs": [],
   "source": [
    "error_df = y_test_pred_df[((y_test_pred_df['y'] == 1) & (y_test_pred_df['y_pred'] == 0)) | ((y_test_pred_df['y'] == 0) & (y_test_pred_df['y_pred'] == 1))]"
   ]
  },
  {
   "cell_type": "markdown",
   "metadata": {},
   "source": [
    "#### Analysing False negatives (`y_pred == 0`, `y == 1`)"
   ]
  },
  {
   "cell_type": "code",
   "execution_count": 57,
   "metadata": {},
   "outputs": [
    {
     "data": {
      "text/html": [
       "<div>\n",
       "<style scoped>\n",
       "    .dataframe tbody tr th:only-of-type {\n",
       "        vertical-align: middle;\n",
       "    }\n",
       "\n",
       "    .dataframe tbody tr th {\n",
       "        vertical-align: top;\n",
       "    }\n",
       "\n",
       "    .dataframe thead th {\n",
       "        text-align: right;\n",
       "    }\n",
       "</style>\n",
       "<table border=\"1\" class=\"dataframe\">\n",
       "  <thead>\n",
       "    <tr style=\"text-align: right;\">\n",
       "      <th></th>\n",
       "      <th>index</th>\n",
       "      <th>y</th>\n",
       "      <th>y_pred</th>\n",
       "      <th>selftext</th>\n",
       "      <th>lemmi_clean_text</th>\n",
       "      <th>user_contribute_where</th>\n",
       "    </tr>\n",
       "  </thead>\n",
       "  <tbody>\n",
       "    <tr>\n",
       "      <th>305</th>\n",
       "      <td>8720</td>\n",
       "      <td>1</td>\n",
       "      <td>0</td>\n",
       "      <td>Does anyone else here struggle with nausea,headaches,stomach pain and so on?\\nRight now im having a horrible day and im so nauseated and off that I cant do anything</td>\n",
       "      <td>anyone else struggle nausea headache stomach pain right horrible day nauseated cannot anything physical symptom</td>\n",
       "      <td>ptsd_only</td>\n",
       "    </tr>\n",
       "  </tbody>\n",
       "</table>\n",
       "</div>"
      ],
      "text/plain": [
       "     index  y  y_pred  \\\n",
       "305   8720  1       0   \n",
       "\n",
       "                                                                                                                                                                 selftext  \\\n",
       "305  Does anyone else here struggle with nausea,headaches,stomach pain and so on?\\nRight now im having a horrible day and im so nauseated and off that I cant do anything   \n",
       "\n",
       "                                                                                                    lemmi_clean_text  \\\n",
       "305  anyone else struggle nausea headache stomach pain right horrible day nauseated cannot anything physical symptom   \n",
       "\n",
       "    user_contribute_where  \n",
       "305             ptsd_only  "
      ]
     },
     "execution_count": 57,
     "metadata": {},
     "output_type": "execute_result"
    }
   ],
   "source": [
    "error_df.loc[error_df['index'] == 8720, ['index','y','y_pred','selftext','lemmi_clean_text','user_contribute_where']]"
   ]
  },
  {
   "cell_type": "code",
   "execution_count": 58,
   "metadata": {},
   "outputs": [
    {
     "name": "stdout",
     "output_type": "stream",
     "text": [
      "Overall sentiment is negative: -5.526048319285931\n"
     ]
    },
    {
     "data": {
      "text/html": [
       "<div>\n",
       "<style scoped>\n",
       "    .dataframe tbody tr th:only-of-type {\n",
       "        vertical-align: middle;\n",
       "    }\n",
       "\n",
       "    .dataframe tbody tr th {\n",
       "        vertical-align: top;\n",
       "    }\n",
       "\n",
       "    .dataframe thead th {\n",
       "        text-align: right;\n",
       "    }\n",
       "</style>\n",
       "<table border=\"1\" class=\"dataframe\">\n",
       "  <thead>\n",
       "    <tr style=\"text-align: right;\">\n",
       "      <th></th>\n",
       "      <th>Feature</th>\n",
       "      <th>log_prob_diff</th>\n",
       "    </tr>\n",
       "  </thead>\n",
       "  <tbody>\n",
       "    <tr>\n",
       "      <th>5</th>\n",
       "      <td>stomach</td>\n",
       "      <td>-1.721603</td>\n",
       "    </tr>\n",
       "    <tr>\n",
       "      <th>3</th>\n",
       "      <td>nausea</td>\n",
       "      <td>-1.636253</td>\n",
       "    </tr>\n",
       "    <tr>\n",
       "      <th>4</th>\n",
       "      <td>headache</td>\n",
       "      <td>-1.330447</td>\n",
       "    </tr>\n",
       "    <tr>\n",
       "      <th>6</th>\n",
       "      <td>pain</td>\n",
       "      <td>-0.401737</td>\n",
       "    </tr>\n",
       "    <tr>\n",
       "      <th>7</th>\n",
       "      <td>right</td>\n",
       "      <td>-0.297280</td>\n",
       "    </tr>\n",
       "    <tr>\n",
       "      <th>15</th>\n",
       "      <td>symptom</td>\n",
       "      <td>-0.241308</td>\n",
       "    </tr>\n",
       "    <tr>\n",
       "      <th>14</th>\n",
       "      <td>physical</td>\n",
       "      <td>-0.220513</td>\n",
       "    </tr>\n",
       "    <tr>\n",
       "      <th>1</th>\n",
       "      <td>else</td>\n",
       "      <td>-0.209200</td>\n",
       "    </tr>\n",
       "    <tr>\n",
       "      <th>13</th>\n",
       "      <td>anything</td>\n",
       "      <td>-0.054331</td>\n",
       "    </tr>\n",
       "    <tr>\n",
       "      <th>0</th>\n",
       "      <td>anyone</td>\n",
       "      <td>0.000000</td>\n",
       "    </tr>\n",
       "    <tr>\n",
       "      <th>10</th>\n",
       "      <td>nauseated</td>\n",
       "      <td>0.000000</td>\n",
       "    </tr>\n",
       "    <tr>\n",
       "      <th>11</th>\n",
       "      <td>can</td>\n",
       "      <td>0.000000</td>\n",
       "    </tr>\n",
       "    <tr>\n",
       "      <th>12</th>\n",
       "      <td>not</td>\n",
       "      <td>0.000000</td>\n",
       "    </tr>\n",
       "    <tr>\n",
       "      <th>8</th>\n",
       "      <td>horrible</td>\n",
       "      <td>0.080942</td>\n",
       "    </tr>\n",
       "    <tr>\n",
       "      <th>9</th>\n",
       "      <td>day</td>\n",
       "      <td>0.194070</td>\n",
       "    </tr>\n",
       "    <tr>\n",
       "      <th>2</th>\n",
       "      <td>struggle</td>\n",
       "      <td>0.311611</td>\n",
       "    </tr>\n",
       "  </tbody>\n",
       "</table>\n",
       "</div>"
      ],
      "text/plain": [
       "      Feature  log_prob_diff\n",
       "5     stomach      -1.721603\n",
       "3      nausea      -1.636253\n",
       "4    headache      -1.330447\n",
       "6        pain      -0.401737\n",
       "7       right      -0.297280\n",
       "15    symptom      -0.241308\n",
       "14   physical      -0.220513\n",
       "1        else      -0.209200\n",
       "13   anything      -0.054331\n",
       "0      anyone       0.000000\n",
       "10  nauseated       0.000000\n",
       "11        can       0.000000\n",
       "12        not       0.000000\n",
       "8    horrible       0.080942\n",
       "9         day       0.194070\n",
       "2    struggle       0.311611"
      ]
     },
     "execution_count": 58,
     "metadata": {},
     "output_type": "execute_result"
    }
   ],
   "source": [
    "# tokenize and place into df\n",
    "test = pd.DataFrame(error_df.loc[error_df['index'] == 8720, 'lemmi_clean_text'].apply(word_tokenize).sum())\n",
    "test.columns = ['Feature']\n",
    "\n",
    "test['log_prob_diff'] = test['Feature'].apply(lambda x: df_multinomial[df_multinomial['Features'].str.contains(x)]['log_prob_diff'].values[0] if x in df_multinomial['Features'].tolist() else 0)\n",
    "print(f'Overall sentiment is negative: {test.log_prob_diff.sum()}')\n",
    "test.sort_values(by = 'log_prob_diff', ascending = True)"
   ]
  },
  {
   "cell_type": "markdown",
   "metadata": {},
   "source": [
    "Although belonging to r/PTSD, this example did only mention about the side effects like `stomach` which happens to be the bottom feature of Logistic Regression, leaning towards predicting r/Anxiety.\n",
    "For this particular case, the post did not exhibit strong predictive words that can help skew results "
   ]
  },
  {
   "cell_type": "markdown",
   "metadata": {},
   "source": [
    "#### Analysing False Positives (`y_pred == 1`, `y == 0`)"
   ]
  },
  {
   "cell_type": "code",
   "execution_count": 59,
   "metadata": {},
   "outputs": [
    {
     "data": {
      "text/html": [
       "<div>\n",
       "<style scoped>\n",
       "    .dataframe tbody tr th:only-of-type {\n",
       "        vertical-align: middle;\n",
       "    }\n",
       "\n",
       "    .dataframe tbody tr th {\n",
       "        vertical-align: top;\n",
       "    }\n",
       "\n",
       "    .dataframe thead th {\n",
       "        text-align: right;\n",
       "    }\n",
       "</style>\n",
       "<table border=\"1\" class=\"dataframe\">\n",
       "  <thead>\n",
       "    <tr style=\"text-align: right;\">\n",
       "      <th></th>\n",
       "      <th>author</th>\n",
       "      <th>index</th>\n",
       "      <th>y</th>\n",
       "      <th>y_pred</th>\n",
       "      <th>title</th>\n",
       "      <th>selftext</th>\n",
       "      <th>lemmi_clean_text</th>\n",
       "      <th>month</th>\n",
       "      <th>user_contribute_where</th>\n",
       "    </tr>\n",
       "  </thead>\n",
       "  <tbody>\n",
       "    <tr>\n",
       "      <th>2558</th>\n",
       "      <td>Dramatic-Housing-471</td>\n",
       "      <td>10311</td>\n",
       "      <td>0</td>\n",
       "      <td>1</td>\n",
       "      <td>My dad says me having anxiety makes me a “p*ssy” and “not a real man”</td>\n",
       "      <td>He also has anxiety and it destroyed his life, but he’s projecting onto me after I (M20) developed a panic disorder last year. When he found out how bad it actually was, I thought he would be nice. But he yelled at me and said some horrible things that honestly might put me into a depression for a while. \\n\\nHe said anxiety is a choice and that since my brain is like plastic, I can choose not to be anxious. And he said I’m gonna be a failure in life if I keep having panic attacks. And he even said he will shove as many triggers in my face whenever possible so I can “get the fuck over it”. \\n\\nHe also told he “I wish someone beat the shit out of you right now. Maybe that would teach you a lesson on manliness.” He also said I’m a disgrace to anyone who went through any actual PTSD trauma like marines or veterans.\\n\\nI told him he’s verbally abusing me and he said “I’m telling you this because I love you and want to see you succeed in life! The real world is rougher than I am and I’m trying to prepare you for it! And if this is abusive then I guess every military Sargent out there is an abuser! Haha! See! You can’t refute that! You loose!”\\n\\nCan I please have some support?</td>\n",
       "      <td>also destroyed life projecting onto developed panic last year found bad actually thought would nice yelled said horrible thing honestly might put depression said choice since brain like plastic choose said going failure life keep panic attack even said shove many trigger face whenever possible get fuck also told wish someone beat shit right maybe would teach lesson manliness also said disgrace anyone went actual like marine veteran told verbally abusing said telling love want see succeed life real world rougher trying prepare abusive guess every military sargent abuser haha see cannot refute loose please support dad say make p ssy real man</td>\n",
       "      <td>2</td>\n",
       "      <td>anxiety_only</td>\n",
       "    </tr>\n",
       "  </tbody>\n",
       "</table>\n",
       "</div>"
      ],
      "text/plain": [
       "                    author  index  y  y_pred  \\\n",
       "2558  Dramatic-Housing-471  10311  0       1   \n",
       "\n",
       "                                                                      title  \\\n",
       "2558  My dad says me having anxiety makes me a “p*ssy” and “not a real man”   \n",
       "\n",
       "                                                                                                                                                                                                                                                                                                                                                                                                                                                                                                                                                                                                                                                                                                                                                                                                                                                                                                                                                                                                                                                                                                                                                                                                                                   selftext  \\\n",
       "2558  He also has anxiety and it destroyed his life, but he’s projecting onto me after I (M20) developed a panic disorder last year. When he found out how bad it actually was, I thought he would be nice. But he yelled at me and said some horrible things that honestly might put me into a depression for a while. \\n\\nHe said anxiety is a choice and that since my brain is like plastic, I can choose not to be anxious. And he said I’m gonna be a failure in life if I keep having panic attacks. And he even said he will shove as many triggers in my face whenever possible so I can “get the fuck over it”. \\n\\nHe also told he “I wish someone beat the shit out of you right now. Maybe that would teach you a lesson on manliness.” He also said I’m a disgrace to anyone who went through any actual PTSD trauma like marines or veterans.\\n\\nI told him he’s verbally abusing me and he said “I’m telling you this because I love you and want to see you succeed in life! The real world is rougher than I am and I’m trying to prepare you for it! And if this is abusive then I guess every military Sargent out there is an abuser! Haha! See! You can’t refute that! You loose!”\\n\\nCan I please have some support?   \n",
       "\n",
       "                                                                                                                                                                                                                                                                                                                                                                                                                                                                                                                                                                                                                                                             lemmi_clean_text  \\\n",
       "2558  also destroyed life projecting onto developed panic last year found bad actually thought would nice yelled said horrible thing honestly might put depression said choice since brain like plastic choose said going failure life keep panic attack even said shove many trigger face whenever possible get fuck also told wish someone beat shit right maybe would teach lesson manliness also said disgrace anyone went actual like marine veteran told verbally abusing said telling love want see succeed life real world rougher trying prepare abusive guess every military sargent abuser haha see cannot refute loose please support dad say make p ssy real man   \n",
       "\n",
       "      month user_contribute_where  \n",
       "2558      2          anxiety_only  "
      ]
     },
     "execution_count": 59,
     "metadata": {},
     "output_type": "execute_result"
    }
   ],
   "source": [
    "error_df[(error_df['y_pred'] ==1) & error_df['lemmi_clean_text'].str.contains('abuser')]"
   ]
  },
  {
   "cell_type": "code",
   "execution_count": 60,
   "metadata": {},
   "outputs": [
    {
     "name": "stdout",
     "output_type": "stream",
     "text": [
      "Overall log_prob_diff is positive towards r/PTSD: 16.693634250561193\n"
     ]
    },
    {
     "data": {
      "text/html": [
       "<div>\n",
       "<style scoped>\n",
       "    .dataframe tbody tr th:only-of-type {\n",
       "        vertical-align: middle;\n",
       "    }\n",
       "\n",
       "    .dataframe tbody tr th {\n",
       "        vertical-align: top;\n",
       "    }\n",
       "\n",
       "    .dataframe thead th {\n",
       "        text-align: right;\n",
       "    }\n",
       "</style>\n",
       "<table border=\"1\" class=\"dataframe\">\n",
       "  <thead>\n",
       "    <tr style=\"text-align: right;\">\n",
       "      <th></th>\n",
       "      <th>Feature</th>\n",
       "      <th>log_prob_diff</th>\n",
       "    </tr>\n",
       "  </thead>\n",
       "  <tbody>\n",
       "    <tr>\n",
       "      <th>88</th>\n",
       "      <td>abuser</td>\n",
       "      <td>5.154953</td>\n",
       "    </tr>\n",
       "    <tr>\n",
       "      <th>67</th>\n",
       "      <td>veteran</td>\n",
       "      <td>3.510666</td>\n",
       "    </tr>\n",
       "    <tr>\n",
       "      <th>83</th>\n",
       "      <td>abusive</td>\n",
       "      <td>2.362661</td>\n",
       "    </tr>\n",
       "    <tr>\n",
       "      <th>70</th>\n",
       "      <td>abusing</td>\n",
       "      <td>2.341268</td>\n",
       "    </tr>\n",
       "    <tr>\n",
       "      <th>86</th>\n",
       "      <td>military</td>\n",
       "      <td>2.284267</td>\n",
       "    </tr>\n",
       "    <tr>\n",
       "      <th>...</th>\n",
       "      <td>...</td>\n",
       "      <td>...</td>\n",
       "    </tr>\n",
       "    <tr>\n",
       "      <th>6</th>\n",
       "      <td>panic</td>\n",
       "      <td>-0.881756</td>\n",
       "    </tr>\n",
       "    <tr>\n",
       "      <th>32</th>\n",
       "      <td>failure</td>\n",
       "      <td>-0.892993</td>\n",
       "    </tr>\n",
       "    <tr>\n",
       "      <th>102</th>\n",
       "      <td>real</td>\n",
       "      <td>-0.949028</td>\n",
       "    </tr>\n",
       "    <tr>\n",
       "      <th>78</th>\n",
       "      <td>real</td>\n",
       "      <td>-0.949028</td>\n",
       "    </tr>\n",
       "    <tr>\n",
       "      <th>36</th>\n",
       "      <td>attack</td>\n",
       "      <td>-0.975936</td>\n",
       "    </tr>\n",
       "  </tbody>\n",
       "</table>\n",
       "<p>104 rows × 2 columns</p>\n",
       "</div>"
      ],
      "text/plain": [
       "      Feature  log_prob_diff\n",
       "88     abuser       5.154953\n",
       "67    veteran       3.510666\n",
       "83    abusive       2.362661\n",
       "70    abusing       2.341268\n",
       "86   military       2.284267\n",
       "..        ...            ...\n",
       "6       panic      -0.881756\n",
       "32    failure      -0.892993\n",
       "102      real      -0.949028\n",
       "78       real      -0.949028\n",
       "36     attack      -0.975936\n",
       "\n",
       "[104 rows x 2 columns]"
      ]
     },
     "execution_count": 60,
     "metadata": {},
     "output_type": "execute_result"
    }
   ],
   "source": [
    "# tokenize and place into df\n",
    "test = pd.DataFrame(error_df.loc[error_df['index'] == 10311, 'lemmi_clean_text'].apply(word_tokenize).sum())\n",
    "test.columns = ['Feature']\n",
    "\n",
    "test['log_prob_diff'] = test['Feature'].apply(lambda x: df_multinomial[df_multinomial['Features'].str.contains(x)]['log_prob_diff'].values[0] if x in df_multinomial['Features'].tolist() else 0)\n",
    "print(f'Overall log_prob_diff is positive towards r/PTSD: {test.log_prob_diff.sum()}')\n",
    "test.sort_values(by = 'log_prob_diff', ascending = False)"
   ]
  },
  {
   "cell_type": "markdown",
   "metadata": {},
   "source": [
    "This post was misclassified as it contains alot of strong predictive words that was highlight from the Logistic Regression and MultinomialNB like `abuser`, `trigger` and `veteran`. The user was suffering from a dad who had PTSD. So, although user was from r/Anxiety, recalls of these moments speaking of about someone who has PTSD may actually lead to wrong prediction.  "
   ]
  },
  {
   "cell_type": "markdown",
   "metadata": {},
   "source": [
    "#### Analyse misclassification from `Users using BOTH subreddits`"
   ]
  },
  {
   "cell_type": "code",
   "execution_count": 61,
   "metadata": {},
   "outputs": [
    {
     "data": {
      "text/html": [
       "<div>\n",
       "<style scoped>\n",
       "    .dataframe tbody tr th:only-of-type {\n",
       "        vertical-align: middle;\n",
       "    }\n",
       "\n",
       "    .dataframe tbody tr th {\n",
       "        vertical-align: top;\n",
       "    }\n",
       "\n",
       "    .dataframe thead th {\n",
       "        text-align: right;\n",
       "    }\n",
       "</style>\n",
       "<table border=\"1\" class=\"dataframe\">\n",
       "  <thead>\n",
       "    <tr style=\"text-align: right;\">\n",
       "      <th></th>\n",
       "      <th>author</th>\n",
       "      <th>index</th>\n",
       "      <th>y</th>\n",
       "      <th>y_pred</th>\n",
       "      <th>title</th>\n",
       "      <th>selftext</th>\n",
       "      <th>lemmi_clean_text</th>\n",
       "      <th>month</th>\n",
       "      <th>user_contribute_where</th>\n",
       "    </tr>\n",
       "  </thead>\n",
       "  <tbody>\n",
       "    <tr>\n",
       "      <th>1292</th>\n",
       "      <td>yuugyho</td>\n",
       "      <td>4897</td>\n",
       "      <td>0</td>\n",
       "      <td>1</td>\n",
       "      <td>Am I a weak person? Honesty would be appreciated</td>\n",
       "      <td>\\nLong story short, I was abused a good chunk of my time in high school and it’s still bugging me to this day (I’m 24m). I was regularly abused by the same group of people but the main guy in the group was the one who would physically assault me whenever he got the chance and they were humiliating beat-up’s. This means that he was doing wrestling moves on me bc I was so small (he was absolutely massive for a 15 y/o kid), he’d literally hold me in the air with my feet facing the sky and slam me on my stomach while calling me the n word consistently throughout high school. He bullied me on social media as well. He’d always apologize after abusing me and I’d believe him then he’d beat me again and the cycle continued.\\n\\nHe reached out a while after high school to say he’s sorry but I already knew it was a selfish apology to make himself feel better. I accepted it but told him I’m not interested in started any type of friendship and told him to do him while I do me. He was very pleased by my response and wishing me well and all. I’ve entered insanity and can’t grasp the fact I have been abused, no one was listening to me when I tried to get help, and he’s all good now like nothing happened after all the suffering. Ive ditched my religion (which was my main source of being forgiving) and I have a heavy heart I’m feeling impulsive. Am I weak for always accepting his apologizes? Was I naive ? How can I be smarter ? I feel extremely insecure about these beatings, so much that I’ve moved to a different state and deleted all my social media so no one can contact me or see where I’m living.</td>\n",
       "      <td>long story short abused good chunk time high school still bugging day regularly abused group people main guy group one would physically assault whenever got chance humiliating beat-up mean wrestling move bc small absolutely massive kid would literally hold air foot facing sky slam stomach calling n word consistently throughout high school bullied social medium well would always apologize abusing would believe would beat cycle continued reached high school say sorry already knew selfish apology make feel better accepted told interested started type friendship told pleased response wishing well entered insanity cannot grasp fact abused one listening tried get help good like nothing happened suffering ditched religion main source forgiving heavy heart feeling impulsive weak always accepting apologizes naive smarter feel extremely insecure beating much moved different state deleted social medium one contact see living weak person honesty would appreciated</td>\n",
       "      <td>2</td>\n",
       "      <td>both</td>\n",
       "    </tr>\n",
       "    <tr>\n",
       "      <th>3646</th>\n",
       "      <td>sanpedro12</td>\n",
       "      <td>103</td>\n",
       "      <td>1</td>\n",
       "      <td>0</td>\n",
       "      <td>To Those Who Freeze Up In Social Settings: Have You Found A Way To Overcome It?</td>\n",
       "      <td>\\n\\nHi there,\\n\\nMy social anxiety has been very bad lately. Everytime I have a social encounter, my whole body freezes up. I am so fucking nervous that I cant even speak a word. Especially my face muscles are very tense, which means that I cant laugh, smile, or express myself. When I try to talk, I stutter or stumble over my words which is so embarassing. I avoid eye contact because I feel my vis-a-vis recognizes that I am nervous and stares into my soul. Has anyone found a way to overcome this freezing response, be it medication or any other strategies?</td>\n",
       "      <td>hi social bad lately everytime social encounter whole body freeze fucking nervous cannot even speak word especially face muscle tense mean cannot laugh smile express try talk stutter stumble word embarassing avoid eye contact feel vis-a-vis recognizes nervous stare soul anyone found way overcome freezing response medication strategy freeze social setting found way overcome</td>\n",
       "      <td>1</td>\n",
       "      <td>both</td>\n",
       "    </tr>\n",
       "  </tbody>\n",
       "</table>\n",
       "</div>"
      ],
      "text/plain": [
       "          author  index  y  y_pred  \\\n",
       "1292     yuugyho   4897  0       1   \n",
       "3646  sanpedro12    103  1       0   \n",
       "\n",
       "                                                                                title  \\\n",
       "1292                                 Am I a weak person? Honesty would be appreciated   \n",
       "3646  To Those Who Freeze Up In Social Settings: Have You Found A Way To Overcome It?   \n",
       "\n",
       "                                                                                                                                                                                                                                                                                                                                                                                                                                                                                                                                                                                                                                                                                                                                                                                                                                                                                                                                                                                                                                                                                                                                                                                                                                                                                                                                                                                                                                                                                                                                                                                                                                                                     selftext  \\\n",
       "1292  \\nLong story short, I was abused a good chunk of my time in high school and it’s still bugging me to this day (I’m 24m). I was regularly abused by the same group of people but the main guy in the group was the one who would physically assault me whenever he got the chance and they were humiliating beat-up’s. This means that he was doing wrestling moves on me bc I was so small (he was absolutely massive for a 15 y/o kid), he’d literally hold me in the air with my feet facing the sky and slam me on my stomach while calling me the n word consistently throughout high school. He bullied me on social media as well. He’d always apologize after abusing me and I’d believe him then he’d beat me again and the cycle continued.\\n\\nHe reached out a while after high school to say he’s sorry but I already knew it was a selfish apology to make himself feel better. I accepted it but told him I’m not interested in started any type of friendship and told him to do him while I do me. He was very pleased by my response and wishing me well and all. I’ve entered insanity and can’t grasp the fact I have been abused, no one was listening to me when I tried to get help, and he’s all good now like nothing happened after all the suffering. Ive ditched my religion (which was my main source of being forgiving) and I have a heavy heart I’m feeling impulsive. Am I weak for always accepting his apologizes? Was I naive ? How can I be smarter ? I feel extremely insecure about these beatings, so much that I’ve moved to a different state and deleted all my social media so no one can contact me or see where I’m living.   \n",
       "3646                                                                                                                                                                                                                                                                                                                                                                                                                                                                                                                                                                                                                                                                                                                                                                                                                                                                                                                                                                                                                                                                                        \\n\\nHi there,\\n\\nMy social anxiety has been very bad lately. Everytime I have a social encounter, my whole body freezes up. I am so fucking nervous that I cant even speak a word. Especially my face muscles are very tense, which means that I cant laugh, smile, or express myself. When I try to talk, I stutter or stumble over my words which is so embarassing. I avoid eye contact because I feel my vis-a-vis recognizes that I am nervous and stares into my soul. Has anyone found a way to overcome this freezing response, be it medication or any other strategies?   \n",
       "\n",
       "                                                                                                                                                                                                                                                                                                                                                                                                                                                                                                                                                                                                                                                                                                                                                                                                                                                                                                                                                                                           lemmi_clean_text  \\\n",
       "1292  long story short abused good chunk time high school still bugging day regularly abused group people main guy group one would physically assault whenever got chance humiliating beat-up mean wrestling move bc small absolutely massive kid would literally hold air foot facing sky slam stomach calling n word consistently throughout high school bullied social medium well would always apologize abusing would believe would beat cycle continued reached high school say sorry already knew selfish apology make feel better accepted told interested started type friendship told pleased response wishing well entered insanity cannot grasp fact abused one listening tried get help good like nothing happened suffering ditched religion main source forgiving heavy heart feeling impulsive weak always accepting apologizes naive smarter feel extremely insecure beating much moved different state deleted social medium one contact see living weak person honesty would appreciated   \n",
       "3646                                                                                                                                                                                                                                                                                                                                                                                                                                                                                                                                                                                                                hi social bad lately everytime social encounter whole body freeze fucking nervous cannot even speak word especially face muscle tense mean cannot laugh smile express try talk stutter stumble word embarassing avoid eye contact feel vis-a-vis recognizes nervous stare soul anyone found way overcome freezing response medication strategy freeze social setting found way overcome   \n",
       "\n",
       "      month user_contribute_where  \n",
       "1292      2                  both  \n",
       "3646      1                  both  "
      ]
     },
     "execution_count": 61,
     "metadata": {},
     "output_type": "execute_result"
    }
   ],
   "source": [
    "error_df[(error_df['user_contribute_where'] == 'both') & (error_df['selftext'].str.contains('social'))]"
   ]
  },
  {
   "cell_type": "code",
   "execution_count": 62,
   "metadata": {},
   "outputs": [
    {
     "name": "stdout",
     "output_type": "stream",
     "text": [
      "Overall log_prob_diff is positive towards r/PTSD: 20.643189622869553\n"
     ]
    },
    {
     "data": {
      "text/html": [
       "<div>\n",
       "<style scoped>\n",
       "    .dataframe tbody tr th:only-of-type {\n",
       "        vertical-align: middle;\n",
       "    }\n",
       "\n",
       "    .dataframe tbody tr th {\n",
       "        vertical-align: top;\n",
       "    }\n",
       "\n",
       "    .dataframe thead th {\n",
       "        text-align: right;\n",
       "    }\n",
       "</style>\n",
       "<table border=\"1\" class=\"dataframe\">\n",
       "  <thead>\n",
       "    <tr style=\"text-align: right;\">\n",
       "      <th></th>\n",
       "      <th>Feature</th>\n",
       "      <th>log_prob_diff</th>\n",
       "    </tr>\n",
       "  </thead>\n",
       "  <tbody>\n",
       "    <tr>\n",
       "      <th>22</th>\n",
       "      <td>assault</td>\n",
       "      <td>4.544007</td>\n",
       "    </tr>\n",
       "    <tr>\n",
       "      <th>3</th>\n",
       "      <td>abused</td>\n",
       "      <td>3.524986</td>\n",
       "    </tr>\n",
       "    <tr>\n",
       "      <th>95</th>\n",
       "      <td>abused</td>\n",
       "      <td>3.524986</td>\n",
       "    </tr>\n",
       "    <tr>\n",
       "      <th>13</th>\n",
       "      <td>abused</td>\n",
       "      <td>3.524986</td>\n",
       "    </tr>\n",
       "    <tr>\n",
       "      <th>59</th>\n",
       "      <td>abusing</td>\n",
       "      <td>2.341268</td>\n",
       "    </tr>\n",
       "  </tbody>\n",
       "</table>\n",
       "</div>"
      ],
      "text/plain": [
       "    Feature  log_prob_diff\n",
       "22  assault       4.544007\n",
       "3    abused       3.524986\n",
       "95   abused       3.524986\n",
       "13   abused       3.524986\n",
       "59  abusing       2.341268"
      ]
     },
     "execution_count": 62,
     "metadata": {},
     "output_type": "execute_result"
    }
   ],
   "source": [
    "# tokenize and place into df\n",
    "test = pd.DataFrame(error_df.loc[error_df['index'] == 4897, 'lemmi_clean_text'].apply(word_tokenize).sum())\n",
    "test.columns = ['Feature']\n",
    "\n",
    "test['log_prob_diff'] = test['Feature'].apply(lambda x: df_multinomial[df_multinomial['Features'].str.contains(x)]['log_prob_diff'].values[0] if x in df_multinomial['Features'].tolist() else 0)\n",
    "print(f'Overall log_prob_diff is positive towards r/PTSD: {test.log_prob_diff.sum()}')\n",
    "test.sort_values(by = 'log_prob_diff', ascending = False).head(5)"
   ]
  },
  {
   "cell_type": "code",
   "execution_count": 63,
   "metadata": {},
   "outputs": [
    {
     "name": "stdout",
     "output_type": "stream",
     "text": [
      "Overall log_prob_diff is positive towards r/PTSD: 20.735853577790706\n"
     ]
    },
    {
     "data": {
      "text/html": [
       "<div>\n",
       "<style scoped>\n",
       "    .dataframe tbody tr th:only-of-type {\n",
       "        vertical-align: middle;\n",
       "    }\n",
       "\n",
       "    .dataframe tbody tr th {\n",
       "        vertical-align: top;\n",
       "    }\n",
       "\n",
       "    .dataframe thead th {\n",
       "        text-align: right;\n",
       "    }\n",
       "</style>\n",
       "<table border=\"1\" class=\"dataframe\">\n",
       "  <thead>\n",
       "    <tr style=\"text-align: right;\">\n",
       "      <th></th>\n",
       "      <th>Feature</th>\n",
       "      <th>log_prob_diff</th>\n",
       "    </tr>\n",
       "  </thead>\n",
       "  <tbody>\n",
       "    <tr>\n",
       "      <th>29</th>\n",
       "      <td>stutter</td>\n",
       "      <td>-1.998762</td>\n",
       "    </tr>\n",
       "    <tr>\n",
       "      <th>1</th>\n",
       "      <td>social</td>\n",
       "      <td>-1.197056</td>\n",
       "    </tr>\n",
       "    <tr>\n",
       "      <th>5</th>\n",
       "      <td>social</td>\n",
       "      <td>-1.197056</td>\n",
       "    </tr>\n",
       "    <tr>\n",
       "      <th>51</th>\n",
       "      <td>social</td>\n",
       "      <td>-1.197056</td>\n",
       "    </tr>\n",
       "    <tr>\n",
       "      <th>39</th>\n",
       "      <td>nervous</td>\n",
       "      <td>-1.142605</td>\n",
       "    </tr>\n",
       "  </tbody>\n",
       "</table>\n",
       "</div>"
      ],
      "text/plain": [
       "    Feature  log_prob_diff\n",
       "29  stutter      -1.998762\n",
       "1    social      -1.197056\n",
       "5    social      -1.197056\n",
       "51   social      -1.197056\n",
       "39  nervous      -1.142605"
      ]
     },
     "execution_count": 63,
     "metadata": {},
     "output_type": "execute_result"
    }
   ],
   "source": [
    "# tokenize and place into df\n",
    "test = pd.DataFrame(error_df.loc[error_df['index'] == 103, 'lemmi_clean_text'].apply(word_tokenize).sum())\n",
    "test.columns = ['Feature']\n",
    "\n",
    "test['log_prob_diff'] = test['Feature'].apply(lambda x: df_multinomial[df_multinomial['Features'].str.contains(x)]['log_prob_diff'].values[0] if x in df_multinomial['Features'].tolist() else 0)\n",
    "print(f'Overall log_prob_diff is positive towards r/PTSD: {test.log_prob_diff.sum()}')\n",
    "test.sort_values(by = 'log_prob_diff', ascending = True).head(5)"
   ]
  },
  {
   "cell_type": "markdown",
   "metadata": {},
   "source": [
    "Both sentiments, we read it, it would have predicted correctly into r/PTSD for the first row and into r/Anxiety for the second row. \n",
    "- The **First** row used words like `abused` and `assault` which strongly suggest user is coming from r/PTSD. But user posted on r/Anxiety. \n",
    "- The **Second** row used words like `social` which strongly correlates to `social anxiety` if it was calculated as a bigram. This user actually claims in `selftext`  that he has `social anxiety` and it strongly suggests user coming from r/Anxiety. But user posted on r/PTSD.\n",
    "\n",
    "These are definitely misclassifications borne in users in the 'Both' category. These users are `ambiguous`, and we cannot account for the lack of indication whether or not these users belong to one truly. `Hence we need to remove them and retrain the model`\n"
   ]
  },
  {
   "cell_type": "markdown",
   "metadata": {},
   "source": [
    "## Redefine Data set and run models\n",
    "\n",
    "Remove users posting in both subreddits to remove potential misclassifications\n",
    "\n",
    "We filter off users that are active in both subreddits and run two models with same settings in the hyper-parameter tuning\n",
    "- `MultinomialNB`\n",
    "- `Logistic Regression`"
   ]
  },
  {
   "cell_type": "code",
   "execution_count": 64,
   "metadata": {},
   "outputs": [
    {
     "name": "stdout",
     "output_type": "stream",
     "text": [
      "Number of rows removed: 352\n",
      "Percentage data removed: -1.74%\n"
     ]
    }
   ],
   "source": [
    "# how many rows deleted \n",
    "before = df.shape[0]\n",
    "after = df[df['user_contribute_where']  != 'both'].shape[0]\n",
    "print(f'Number of rows removed: {before - after}')\n",
    "print(f'Percentage data removed: {round(((after - before) / before) * 100,2)}%')"
   ]
  },
  {
   "cell_type": "markdown",
   "metadata": {},
   "source": [
    "Only 1.74% of the data removed in order to exclude users who post on both subreddits."
   ]
  },
  {
   "cell_type": "markdown",
   "metadata": {},
   "source": [
    "### Reassign target variable\n",
    "Filter off users with `both` under `user_contribute_where`"
   ]
  },
  {
   "cell_type": "code",
   "execution_count": 65,
   "metadata": {},
   "outputs": [],
   "source": [
    "X_train_filtered = df[df['user_contribute_where']  != 'both']['lemmi_clean_text']\n",
    "y_train_filtered = df[df['user_contribute_where']  != 'both']['subreddit']"
   ]
  },
  {
   "cell_type": "markdown",
   "metadata": {},
   "source": [
    "### Train test and split new data"
   ]
  },
  {
   "cell_type": "code",
   "execution_count": 66,
   "metadata": {},
   "outputs": [],
   "source": [
    "X_train_filtered, X_test_filtered, y_train_filtered, y_test_filtered = train_test_split(X_train_filtered, y_train_filtered, random_state=42, stratify=y_train_filtered)"
   ]
  },
  {
   "cell_type": "markdown",
   "metadata": {},
   "source": [
    "### Re-train and Hyperparameter Tune models \n",
    "\n",
    "We are going to retrain existing models with newly `refined dataset`.\n",
    "- `MultinomialNB`\n",
    "- `Logistic Regression`"
   ]
  },
  {
   "cell_type": "markdown",
   "metadata": {},
   "source": [
    "#### Multinomial regression with refined dataset"
   ]
  },
  {
   "cell_type": "code",
   "execution_count": 67,
   "metadata": {},
   "outputs": [
    {
     "name": "stdout",
     "output_type": "stream",
     "text": [
      "TfidfVectorizer with MultinomialNB summary of accuracy scores:\n",
      "GridSearchCV best accuracy = 0.834\n",
      "\n",
      "Using GridSearchCV best params suggested,\n",
      "Training corpus accuracy = 0.858\n",
      "Testing corpus accuracy = 0.834\n"
     ]
    }
   ],
   "source": [
    "# create pipe3 for transformer: TfidfVectorizer and estimator using MultinomialNB\n",
    "\n",
    "pipe6 = Pipeline([('tfvec', TfidfVectorizer(stop_words= stopwordlist)),\n",
    "                  ('nb', MultinomialNB())\n",
    "                 ])\n",
    "                 \n",
    "# creating parameters for GridSearch SV using hyperparameters as shown below \n",
    "pipe6_params = {'tfvec__max_features': np.linspace(3700,3800,3, dtype = int),\n",
    "                'tfvec__min_df': np.linspace(0,0.0001,5),\n",
    "                'tfvec__max_df': np.linspace(0.20,0.3,5),\n",
    "                'tfvec__ngram_range': [(1,1),(1,2)],\n",
    "                'nb__alpha' : [1.0e-10],\n",
    "}\n",
    "\n",
    "# Creatingg GridSeachCV using pipeline: pipe3 and params_grid:  pipe3_params\n",
    "\n",
    "gs_pipe6 = GridSearchCV(pipe6, param_grid=pipe6_params, cv=5, n_jobs= -1)\n",
    "\n",
    "# Fitting GridSearchCV with CountVectorizer transformer on X_train and y_train.\n",
    "\n",
    "gs_pipe6.fit(X_train_filtered, y_train_filtered);\n",
    "\n",
    "# Summary scores of TfidfVectorizer and MultinomialNB.\n",
    "\n",
    "print(\"TfidfVectorizer with MultinomialNB summary of accuracy scores:\")\n",
    "print(f\"GridSearchCV best accuracy = {round(gs_pipe6.best_score_, 3)}\")\n",
    "print(\"\\nUsing GridSearchCV best params suggested,\")\n",
    "print(f\"Training corpus accuracy = {round(gs_pipe6.score(X_train_filtered, y_train_filtered), 3)}\")\n",
    "print(f\"Testing corpus accuracy = {round(gs_pipe6.score(X_test_filtered, y_test_filtered), 3)}\")\n",
    "\n",
    "# adding summary \n",
    "\n",
    "summary_df.loc[6] = [\n",
    "    'Refined Dataset',\n",
    "    'TfidfVec | MultinomialNB',\n",
    "    str(gs_pipe6.best_params_),\n",
    "    round(gs_pipe6.best_score_, 3),\n",
    "    round(gs_pipe6.score(X_train_filtered, y_train_filtered), 3),\n",
    "    round(gs_pipe6.score(X_test_filtered, y_test_filtered), 3)\n",
    "]"
   ]
  },
  {
   "cell_type": "markdown",
   "metadata": {},
   "source": [
    "#### Logistic regression with refined dataset"
   ]
  },
  {
   "cell_type": "code",
   "execution_count": 68,
   "metadata": {},
   "outputs": [
    {
     "name": "stdout",
     "output_type": "stream",
     "text": [
      "TfidfVectorizer with LogisticRegression summary of accuracy scores:\n",
      "GridSearchCV best accuracy = 0.848\n",
      "\n",
      "Using GridSearchCV best params suggested,\n",
      "Training corpus accuracy = 0.904\n",
      "Testing corpus accuracy = 0.843\n"
     ]
    }
   ],
   "source": [
    "# Creating Pipeline with:\n",
    "# Estimator: LogisticRegression (both)\n",
    "# Transformer: TfidfVectorizer \n",
    "\n",
    "pipe7 = Pipeline([\n",
    "    ('tfvec7', TfidfVectorizer(stop_words= stopwordlist)),\n",
    "    ('logreg7', LogisticRegression())\n",
    "])\n",
    "\n",
    "# Declaring fixed one-off hyperparameters max_features, min_df, max_df & ngram_range for GridSearchCV first.\n",
    "\n",
    "pipe7_params = {'tfvec7__max_features': np.linspace(8300,8400,5, dtype = int),\n",
    "                'tfvec7__min_df': [0],\n",
    "                'tfvec7__max_df':np.linspace(0.3,0.35,5),\n",
    "                'tfvec7__ngram_range': [(1,1),(1,2)],\n",
    "                'logreg7__max_iter': [1000]\n",
    "}\n",
    "\n",
    "# Creating two separate GridSearchCV objects for:\n",
    "# TfidfVectorizer and Logistic Regression with Hyper-parameter tuning\n",
    "\n",
    "gs_pipe7 = GridSearchCV(pipe7, param_grid=pipe7_params, cv=5, n_jobs=-1)\n",
    "\n",
    "# Fitting GridSearchCV with CountVectorizer transformer on X_train and y_train.\n",
    "\n",
    "gs_pipe7.fit(X_train_filtered, y_train_filtered)\n",
    "\n",
    "# Summary scores of CountVectorizer and LogisticRegression.\n",
    "\n",
    "print(\"TfidfVectorizer with LogisticRegression summary of accuracy scores:\")\n",
    "print(f\"GridSearchCV best accuracy = {round(gs_pipe7.best_score_, 3)}\")\n",
    "print(\"\\nUsing GridSearchCV best params suggested,\")\n",
    "print(f\"Training corpus accuracy = {round(gs_pipe7.score(X_train_filtered, y_train_filtered), 3)}\")\n",
    "print(f\"Testing corpus accuracy = {round(gs_pipe7.score(X_test_filtered, y_test_filtered), 3)}\")\n",
    "\n",
    "\n",
    "# Adding the accuracy scores from above two GridSearchCV models into summary_df.\n",
    "\n",
    "summary_df.loc[7] = [\n",
    "    'Refined DataSet',\n",
    "    'TfidfVec | LogisticRegression',\n",
    "    str(gs_pipe7.best_params_),\n",
    "    round(gs_pipe7.best_score_, 3),\n",
    "    round(gs_pipe7.score(X_train_filtered, y_train_filtered), 3),\n",
    "    round(gs_pipe7.score(X_test_filtered, y_test_filtered), 3)\n",
    "]"
   ]
  },
  {
   "cell_type": "markdown",
   "metadata": {},
   "source": [
    "### Summary table Analysis"
   ]
  },
  {
   "cell_type": "markdown",
   "metadata": {},
   "source": [
    "0.848\t0.905\t0.841"
   ]
  },
  {
   "cell_type": "code",
   "execution_count": 69,
   "metadata": {},
   "outputs": [
    {
     "data": {
      "text/html": [
       "<div>\n",
       "<style scoped>\n",
       "    .dataframe tbody tr th:only-of-type {\n",
       "        vertical-align: middle;\n",
       "    }\n",
       "\n",
       "    .dataframe tbody tr th {\n",
       "        vertical-align: top;\n",
       "    }\n",
       "\n",
       "    .dataframe thead th {\n",
       "        text-align: right;\n",
       "    }\n",
       "</style>\n",
       "<table border=\"1\" class=\"dataframe\">\n",
       "  <thead>\n",
       "    <tr style=\"text-align: right;\">\n",
       "      <th></th>\n",
       "      <th>iteration</th>\n",
       "      <th>transformer_estimator</th>\n",
       "      <th>GS_best_params</th>\n",
       "      <th>GS_best_score</th>\n",
       "      <th>train_accuracy</th>\n",
       "      <th>test_accuracy</th>\n",
       "    </tr>\n",
       "  </thead>\n",
       "  <tbody>\n",
       "    <tr>\n",
       "      <th>1</th>\n",
       "      <td>Baseline</td>\n",
       "      <td>CountVec | LogisticRegression</td>\n",
       "      <td>{'cvec1__max_df': 0.7, 'cvec1__max_features': 1000, 'cvec1__min_df': 0.02, 'cvec1__ngram_range': (1, 1), 'logreg1__max_iter': 1000}</td>\n",
       "      <td>0.801</td>\n",
       "      <td>0.826</td>\n",
       "      <td>0.803</td>\n",
       "    </tr>\n",
       "    <tr>\n",
       "      <th>2</th>\n",
       "      <td>Baseline</td>\n",
       "      <td>TfidfVec | LogisticRegression</td>\n",
       "      <td>{'logreg2__max_iter': 1000, 'tfvec2__max_df': 0.7, 'tfvec2__max_features': 1000, 'tfvec2__min_df': 0.02, 'tfvec2__ngram_range': (1, 1)}</td>\n",
       "      <td>0.809</td>\n",
       "      <td>0.830</td>\n",
       "      <td>0.810</td>\n",
       "    </tr>\n",
       "    <tr>\n",
       "      <th>3</th>\n",
       "      <td>Hyperparameter Tuned</td>\n",
       "      <td>TfidfVec | MultinomialNB</td>\n",
       "      <td>{'nb__alpha': 1e-10, 'tfvec__max_df': 0.3, 'tfvec__max_features': 3600, 'tfvec__min_df': 0.0002, 'tfvec__ngram_range': (1, 1)}</td>\n",
       "      <td>0.828</td>\n",
       "      <td>0.854</td>\n",
       "      <td>0.827</td>\n",
       "    </tr>\n",
       "    <tr>\n",
       "      <th>4</th>\n",
       "      <td>Hyperparameter Tuned</td>\n",
       "      <td>TfidfVec | LogisticRegression</td>\n",
       "      <td>{'logreg4__max_iter': 1000, 'tfvec4__max_df': 0.22, 'tfvec4__max_features': 10000, 'tfvec4__min_df': 0, 'tfvec4__ngram_range': (1, 1)}</td>\n",
       "      <td>0.845</td>\n",
       "      <td>0.896</td>\n",
       "      <td>0.844</td>\n",
       "    </tr>\n",
       "    <tr>\n",
       "      <th>5</th>\n",
       "      <td>Hyperparameter Tuned</td>\n",
       "      <td>TfidfVec | RandomForest</td>\n",
       "      <td>{'RanForest__max_depth': None, 'RanForest__max_features': 'sqrt', 'RanForest__n_estimators': 300, 'tfvec5__max_df': 0.7, 'tfvec5__max_features': 7000, 'tfvec5__min_df': 0, 'tfvec5__ngram_range': (1, 1)}</td>\n",
       "      <td>0.824</td>\n",
       "      <td>1.000</td>\n",
       "      <td>0.827</td>\n",
       "    </tr>\n",
       "    <tr>\n",
       "      <th>6</th>\n",
       "      <td>Refined Dataset</td>\n",
       "      <td>TfidfVec | MultinomialNB</td>\n",
       "      <td>{'nb__alpha': 1e-10, 'tfvec__max_df': 0.3, 'tfvec__max_features': 3700, 'tfvec__min_df': 0.0, 'tfvec__ngram_range': (1, 1)}</td>\n",
       "      <td>0.834</td>\n",
       "      <td>0.858</td>\n",
       "      <td>0.834</td>\n",
       "    </tr>\n",
       "    <tr>\n",
       "      <th>7</th>\n",
       "      <td>Refined DataSet</td>\n",
       "      <td>TfidfVec | LogisticRegression</td>\n",
       "      <td>{'logreg7__max_iter': 1000, 'tfvec7__max_df': 0.3, 'tfvec7__max_features': 8375, 'tfvec7__min_df': 0, 'tfvec7__ngram_range': (1, 2)}</td>\n",
       "      <td>0.848</td>\n",
       "      <td>0.904</td>\n",
       "      <td>0.843</td>\n",
       "    </tr>\n",
       "  </tbody>\n",
       "</table>\n",
       "</div>"
      ],
      "text/plain": [
       "              iteration          transformer_estimator  \\\n",
       "1              Baseline  CountVec | LogisticRegression   \n",
       "2              Baseline  TfidfVec | LogisticRegression   \n",
       "3  Hyperparameter Tuned       TfidfVec | MultinomialNB   \n",
       "4  Hyperparameter Tuned  TfidfVec | LogisticRegression   \n",
       "5  Hyperparameter Tuned        TfidfVec | RandomForest   \n",
       "6       Refined Dataset       TfidfVec | MultinomialNB   \n",
       "7       Refined DataSet  TfidfVec | LogisticRegression   \n",
       "\n",
       "                                                                                                                                                                                               GS_best_params  \\\n",
       "1                                                                         {'cvec1__max_df': 0.7, 'cvec1__max_features': 1000, 'cvec1__min_df': 0.02, 'cvec1__ngram_range': (1, 1), 'logreg1__max_iter': 1000}   \n",
       "2                                                                     {'logreg2__max_iter': 1000, 'tfvec2__max_df': 0.7, 'tfvec2__max_features': 1000, 'tfvec2__min_df': 0.02, 'tfvec2__ngram_range': (1, 1)}   \n",
       "3                                                                              {'nb__alpha': 1e-10, 'tfvec__max_df': 0.3, 'tfvec__max_features': 3600, 'tfvec__min_df': 0.0002, 'tfvec__ngram_range': (1, 1)}   \n",
       "4                                                                      {'logreg4__max_iter': 1000, 'tfvec4__max_df': 0.22, 'tfvec4__max_features': 10000, 'tfvec4__min_df': 0, 'tfvec4__ngram_range': (1, 1)}   \n",
       "5  {'RanForest__max_depth': None, 'RanForest__max_features': 'sqrt', 'RanForest__n_estimators': 300, 'tfvec5__max_df': 0.7, 'tfvec5__max_features': 7000, 'tfvec5__min_df': 0, 'tfvec5__ngram_range': (1, 1)}   \n",
       "6                                                                                 {'nb__alpha': 1e-10, 'tfvec__max_df': 0.3, 'tfvec__max_features': 3700, 'tfvec__min_df': 0.0, 'tfvec__ngram_range': (1, 1)}   \n",
       "7                                                                        {'logreg7__max_iter': 1000, 'tfvec7__max_df': 0.3, 'tfvec7__max_features': 8375, 'tfvec7__min_df': 0, 'tfvec7__ngram_range': (1, 2)}   \n",
       "\n",
       "   GS_best_score  train_accuracy  test_accuracy  \n",
       "1          0.801           0.826          0.803  \n",
       "2          0.809           0.830          0.810  \n",
       "3          0.828           0.854          0.827  \n",
       "4          0.845           0.896          0.844  \n",
       "5          0.824           1.000          0.827  \n",
       "6          0.834           0.858          0.834  \n",
       "7          0.848           0.904          0.843  "
      ]
     },
     "execution_count": 69,
     "metadata": {},
     "output_type": "execute_result"
    }
   ],
   "source": [
    "summary_df"
   ]
  },
  {
   "cell_type": "markdown",
   "metadata": {},
   "source": [
    "## Production Model Selection"
   ]
  },
  {
   "cell_type": "markdown",
   "metadata": {},
   "source": [
    "### Sensitivity of pipelines"
   ]
  },
  {
   "cell_type": "code",
   "execution_count": 70,
   "metadata": {},
   "outputs": [
    {
     "name": "stdout",
     "output_type": "stream",
     "text": [
      "LogisticRegression(max_iter=1000)  =  0.7538522323192414\n",
      "LogisticRegression(max_iter=1000)  =  0.772026866851047\n",
      "MultinomialNB(alpha=1e-10)  =  0.8463058079810352\n",
      "LogisticRegression(max_iter=1000)  =  0.8150928486764125\n",
      "RandomForestClassifier(max_features='sqrt', n_estimators=300)  =  0.7941525088897669\n",
      "MultinomialNB(alpha=1e-10)  =  0.8640853417621494\n",
      "LogisticRegression(max_iter=1000)  =  0.860924535756618\n"
     ]
    }
   ],
   "source": [
    "# What is the test sensitivity of our model?\n",
    "# By hand\n",
    "list_of_gs = [gs_pipe1, gs_pipe2, gs_pipe3, gs_pipe4, gs_pipe5, gs_pipe6, gs_pipe7]\n",
    "\n",
    "\n",
    "sensitivity_df = []\n",
    "for gs in list_of_gs:\n",
    "    preds = gs.predict(X_test)\n",
    "    tn, fp, fn, tp = confusion_matrix(y_test, preds).ravel();\n",
    "    sensitivity_df.append(tp / (tp + fn))\n",
    "    print(gs.best_estimator_[1],' = ',tp / (tp + fn))\n",
    "\n",
    "sensitivity_df= pd.DataFrame(sensitivity_df)"
   ]
  },
  {
   "cell_type": "code",
   "execution_count": 71,
   "metadata": {},
   "outputs": [
    {
     "data": {
      "text/html": [
       "<div>\n",
       "<style scoped>\n",
       "    .dataframe tbody tr th:only-of-type {\n",
       "        vertical-align: middle;\n",
       "    }\n",
       "\n",
       "    .dataframe tbody tr th {\n",
       "        vertical-align: top;\n",
       "    }\n",
       "\n",
       "    .dataframe thead th {\n",
       "        text-align: right;\n",
       "    }\n",
       "</style>\n",
       "<table border=\"1\" class=\"dataframe\">\n",
       "  <thead>\n",
       "    <tr style=\"text-align: right;\">\n",
       "      <th></th>\n",
       "      <th>iteration</th>\n",
       "      <th>transformer_estimator</th>\n",
       "      <th>GS_best_params</th>\n",
       "      <th>GS_best_score</th>\n",
       "      <th>train_accuracy</th>\n",
       "      <th>test_accuracy</th>\n",
       "    </tr>\n",
       "  </thead>\n",
       "  <tbody>\n",
       "    <tr>\n",
       "      <th>1</th>\n",
       "      <td>Baseline</td>\n",
       "      <td>CountVec | LogisticRegression</td>\n",
       "      <td>{'cvec1__max_df': 0.7, 'cvec1__max_features': 1000, 'cvec1__min_df': 0.02, 'cvec1__ngram_range': (1, 1), 'logreg1__max_iter': 1000}</td>\n",
       "      <td>0.801</td>\n",
       "      <td>0.826</td>\n",
       "      <td>0.803</td>\n",
       "    </tr>\n",
       "    <tr>\n",
       "      <th>2</th>\n",
       "      <td>Baseline</td>\n",
       "      <td>TfidfVec | LogisticRegression</td>\n",
       "      <td>{'logreg2__max_iter': 1000, 'tfvec2__max_df': 0.7, 'tfvec2__max_features': 1000, 'tfvec2__min_df': 0.02, 'tfvec2__ngram_range': (1, 1)}</td>\n",
       "      <td>0.809</td>\n",
       "      <td>0.830</td>\n",
       "      <td>0.810</td>\n",
       "    </tr>\n",
       "    <tr>\n",
       "      <th>3</th>\n",
       "      <td>Hyperparameter Tuned</td>\n",
       "      <td>TfidfVec | MultinomialNB</td>\n",
       "      <td>{'nb__alpha': 1e-10, 'tfvec__max_df': 0.3, 'tfvec__max_features': 3600, 'tfvec__min_df': 0.0002, 'tfvec__ngram_range': (1, 1)}</td>\n",
       "      <td>0.828</td>\n",
       "      <td>0.854</td>\n",
       "      <td>0.827</td>\n",
       "    </tr>\n",
       "    <tr>\n",
       "      <th>4</th>\n",
       "      <td>Hyperparameter Tuned</td>\n",
       "      <td>TfidfVec | LogisticRegression</td>\n",
       "      <td>{'logreg4__max_iter': 1000, 'tfvec4__max_df': 0.22, 'tfvec4__max_features': 10000, 'tfvec4__min_df': 0, 'tfvec4__ngram_range': (1, 1)}</td>\n",
       "      <td>0.845</td>\n",
       "      <td>0.896</td>\n",
       "      <td>0.844</td>\n",
       "    </tr>\n",
       "    <tr>\n",
       "      <th>5</th>\n",
       "      <td>Hyperparameter Tuned</td>\n",
       "      <td>TfidfVec | RandomForest</td>\n",
       "      <td>{'RanForest__max_depth': None, 'RanForest__max_features': 'sqrt', 'RanForest__n_estimators': 300, 'tfvec5__max_df': 0.7, 'tfvec5__max_features': 7000, 'tfvec5__min_df': 0, 'tfvec5__ngram_range': (1, 1)}</td>\n",
       "      <td>0.824</td>\n",
       "      <td>1.000</td>\n",
       "      <td>0.827</td>\n",
       "    </tr>\n",
       "    <tr>\n",
       "      <th>6</th>\n",
       "      <td>Refined Dataset</td>\n",
       "      <td>TfidfVec | MultinomialNB</td>\n",
       "      <td>{'nb__alpha': 1e-10, 'tfvec__max_df': 0.3, 'tfvec__max_features': 3700, 'tfvec__min_df': 0.0, 'tfvec__ngram_range': (1, 1)}</td>\n",
       "      <td>0.834</td>\n",
       "      <td>0.858</td>\n",
       "      <td>0.834</td>\n",
       "    </tr>\n",
       "    <tr>\n",
       "      <th>7</th>\n",
       "      <td>Refined DataSet</td>\n",
       "      <td>TfidfVec | LogisticRegression</td>\n",
       "      <td>{'logreg7__max_iter': 1000, 'tfvec7__max_df': 0.3, 'tfvec7__max_features': 8375, 'tfvec7__min_df': 0, 'tfvec7__ngram_range': (1, 2)}</td>\n",
       "      <td>0.848</td>\n",
       "      <td>0.904</td>\n",
       "      <td>0.843</td>\n",
       "    </tr>\n",
       "  </tbody>\n",
       "</table>\n",
       "</div>"
      ],
      "text/plain": [
       "              iteration          transformer_estimator  \\\n",
       "1              Baseline  CountVec | LogisticRegression   \n",
       "2              Baseline  TfidfVec | LogisticRegression   \n",
       "3  Hyperparameter Tuned       TfidfVec | MultinomialNB   \n",
       "4  Hyperparameter Tuned  TfidfVec | LogisticRegression   \n",
       "5  Hyperparameter Tuned        TfidfVec | RandomForest   \n",
       "6       Refined Dataset       TfidfVec | MultinomialNB   \n",
       "7       Refined DataSet  TfidfVec | LogisticRegression   \n",
       "\n",
       "                                                                                                                                                                                               GS_best_params  \\\n",
       "1                                                                         {'cvec1__max_df': 0.7, 'cvec1__max_features': 1000, 'cvec1__min_df': 0.02, 'cvec1__ngram_range': (1, 1), 'logreg1__max_iter': 1000}   \n",
       "2                                                                     {'logreg2__max_iter': 1000, 'tfvec2__max_df': 0.7, 'tfvec2__max_features': 1000, 'tfvec2__min_df': 0.02, 'tfvec2__ngram_range': (1, 1)}   \n",
       "3                                                                              {'nb__alpha': 1e-10, 'tfvec__max_df': 0.3, 'tfvec__max_features': 3600, 'tfvec__min_df': 0.0002, 'tfvec__ngram_range': (1, 1)}   \n",
       "4                                                                      {'logreg4__max_iter': 1000, 'tfvec4__max_df': 0.22, 'tfvec4__max_features': 10000, 'tfvec4__min_df': 0, 'tfvec4__ngram_range': (1, 1)}   \n",
       "5  {'RanForest__max_depth': None, 'RanForest__max_features': 'sqrt', 'RanForest__n_estimators': 300, 'tfvec5__max_df': 0.7, 'tfvec5__max_features': 7000, 'tfvec5__min_df': 0, 'tfvec5__ngram_range': (1, 1)}   \n",
       "6                                                                                 {'nb__alpha': 1e-10, 'tfvec__max_df': 0.3, 'tfvec__max_features': 3700, 'tfvec__min_df': 0.0, 'tfvec__ngram_range': (1, 1)}   \n",
       "7                                                                        {'logreg7__max_iter': 1000, 'tfvec7__max_df': 0.3, 'tfvec7__max_features': 8375, 'tfvec7__min_df': 0, 'tfvec7__ngram_range': (1, 2)}   \n",
       "\n",
       "   GS_best_score  train_accuracy  test_accuracy  \n",
       "1          0.801           0.826          0.803  \n",
       "2          0.809           0.830          0.810  \n",
       "3          0.828           0.854          0.827  \n",
       "4          0.845           0.896          0.844  \n",
       "5          0.824           1.000          0.827  \n",
       "6          0.834           0.858          0.834  \n",
       "7          0.848           0.904          0.843  "
      ]
     },
     "execution_count": 71,
     "metadata": {},
     "output_type": "execute_result"
    }
   ],
   "source": [
    "summary_df"
   ]
  },
  {
   "cell_type": "code",
   "execution_count": 72,
   "metadata": {},
   "outputs": [
    {
     "data": {
      "text/html": [
       "<div>\n",
       "<style scoped>\n",
       "    .dataframe tbody tr th:only-of-type {\n",
       "        vertical-align: middle;\n",
       "    }\n",
       "\n",
       "    .dataframe tbody tr th {\n",
       "        vertical-align: top;\n",
       "    }\n",
       "\n",
       "    .dataframe thead th {\n",
       "        text-align: right;\n",
       "    }\n",
       "</style>\n",
       "<table border=\"1\" class=\"dataframe\">\n",
       "  <thead>\n",
       "    <tr style=\"text-align: right;\">\n",
       "      <th></th>\n",
       "      <th>iteration</th>\n",
       "      <th>transformer_estimator</th>\n",
       "      <th>GS_best_params</th>\n",
       "      <th>GS_best_score</th>\n",
       "      <th>train_accuracy</th>\n",
       "      <th>test_accuracy</th>\n",
       "      <th>Sensitivity</th>\n",
       "    </tr>\n",
       "  </thead>\n",
       "  <tbody>\n",
       "    <tr>\n",
       "      <th>5</th>\n",
       "      <td>Refined Dataset</td>\n",
       "      <td>TfidfVec | MultinomialNB</td>\n",
       "      <td>{'nb__alpha': 1e-10, 'tfvec__max_df': 0.3, 'tfvec__max_features': 3700, 'tfvec__min_df': 0.0, 'tfvec__ngram_range': (1, 1)}</td>\n",
       "      <td>0.834</td>\n",
       "      <td>0.858</td>\n",
       "      <td>0.834</td>\n",
       "      <td>0.864085</td>\n",
       "    </tr>\n",
       "    <tr>\n",
       "      <th>6</th>\n",
       "      <td>Refined DataSet</td>\n",
       "      <td>TfidfVec | LogisticRegression</td>\n",
       "      <td>{'logreg7__max_iter': 1000, 'tfvec7__max_df': 0.3, 'tfvec7__max_features': 8375, 'tfvec7__min_df': 0, 'tfvec7__ngram_range': (1, 2)}</td>\n",
       "      <td>0.848</td>\n",
       "      <td>0.904</td>\n",
       "      <td>0.843</td>\n",
       "      <td>0.860925</td>\n",
       "    </tr>\n",
       "    <tr>\n",
       "      <th>2</th>\n",
       "      <td>Hyperparameter Tuned</td>\n",
       "      <td>TfidfVec | MultinomialNB</td>\n",
       "      <td>{'nb__alpha': 1e-10, 'tfvec__max_df': 0.3, 'tfvec__max_features': 3600, 'tfvec__min_df': 0.0002, 'tfvec__ngram_range': (1, 1)}</td>\n",
       "      <td>0.828</td>\n",
       "      <td>0.854</td>\n",
       "      <td>0.827</td>\n",
       "      <td>0.846306</td>\n",
       "    </tr>\n",
       "    <tr>\n",
       "      <th>3</th>\n",
       "      <td>Hyperparameter Tuned</td>\n",
       "      <td>TfidfVec | LogisticRegression</td>\n",
       "      <td>{'logreg4__max_iter': 1000, 'tfvec4__max_df': 0.22, 'tfvec4__max_features': 10000, 'tfvec4__min_df': 0, 'tfvec4__ngram_range': (1, 1)}</td>\n",
       "      <td>0.845</td>\n",
       "      <td>0.896</td>\n",
       "      <td>0.844</td>\n",
       "      <td>0.815093</td>\n",
       "    </tr>\n",
       "    <tr>\n",
       "      <th>4</th>\n",
       "      <td>Hyperparameter Tuned</td>\n",
       "      <td>TfidfVec | RandomForest</td>\n",
       "      <td>{'RanForest__max_depth': None, 'RanForest__max_features': 'sqrt', 'RanForest__n_estimators': 300, 'tfvec5__max_df': 0.7, 'tfvec5__max_features': 7000, 'tfvec5__min_df': 0, 'tfvec5__ngram_range': (1, 1)}</td>\n",
       "      <td>0.824</td>\n",
       "      <td>1.000</td>\n",
       "      <td>0.827</td>\n",
       "      <td>0.794153</td>\n",
       "    </tr>\n",
       "    <tr>\n",
       "      <th>1</th>\n",
       "      <td>Baseline</td>\n",
       "      <td>TfidfVec | LogisticRegression</td>\n",
       "      <td>{'logreg2__max_iter': 1000, 'tfvec2__max_df': 0.7, 'tfvec2__max_features': 1000, 'tfvec2__min_df': 0.02, 'tfvec2__ngram_range': (1, 1)}</td>\n",
       "      <td>0.809</td>\n",
       "      <td>0.830</td>\n",
       "      <td>0.810</td>\n",
       "      <td>0.772027</td>\n",
       "    </tr>\n",
       "    <tr>\n",
       "      <th>0</th>\n",
       "      <td>Baseline</td>\n",
       "      <td>CountVec | LogisticRegression</td>\n",
       "      <td>{'cvec1__max_df': 0.7, 'cvec1__max_features': 1000, 'cvec1__min_df': 0.02, 'cvec1__ngram_range': (1, 1), 'logreg1__max_iter': 1000}</td>\n",
       "      <td>0.801</td>\n",
       "      <td>0.826</td>\n",
       "      <td>0.803</td>\n",
       "      <td>0.753852</td>\n",
       "    </tr>\n",
       "  </tbody>\n",
       "</table>\n",
       "</div>"
      ],
      "text/plain": [
       "              iteration          transformer_estimator  \\\n",
       "5       Refined Dataset       TfidfVec | MultinomialNB   \n",
       "6       Refined DataSet  TfidfVec | LogisticRegression   \n",
       "2  Hyperparameter Tuned       TfidfVec | MultinomialNB   \n",
       "3  Hyperparameter Tuned  TfidfVec | LogisticRegression   \n",
       "4  Hyperparameter Tuned        TfidfVec | RandomForest   \n",
       "1              Baseline  TfidfVec | LogisticRegression   \n",
       "0              Baseline  CountVec | LogisticRegression   \n",
       "\n",
       "                                                                                                                                                                                               GS_best_params  \\\n",
       "5                                                                                 {'nb__alpha': 1e-10, 'tfvec__max_df': 0.3, 'tfvec__max_features': 3700, 'tfvec__min_df': 0.0, 'tfvec__ngram_range': (1, 1)}   \n",
       "6                                                                        {'logreg7__max_iter': 1000, 'tfvec7__max_df': 0.3, 'tfvec7__max_features': 8375, 'tfvec7__min_df': 0, 'tfvec7__ngram_range': (1, 2)}   \n",
       "2                                                                              {'nb__alpha': 1e-10, 'tfvec__max_df': 0.3, 'tfvec__max_features': 3600, 'tfvec__min_df': 0.0002, 'tfvec__ngram_range': (1, 1)}   \n",
       "3                                                                      {'logreg4__max_iter': 1000, 'tfvec4__max_df': 0.22, 'tfvec4__max_features': 10000, 'tfvec4__min_df': 0, 'tfvec4__ngram_range': (1, 1)}   \n",
       "4  {'RanForest__max_depth': None, 'RanForest__max_features': 'sqrt', 'RanForest__n_estimators': 300, 'tfvec5__max_df': 0.7, 'tfvec5__max_features': 7000, 'tfvec5__min_df': 0, 'tfvec5__ngram_range': (1, 1)}   \n",
       "1                                                                     {'logreg2__max_iter': 1000, 'tfvec2__max_df': 0.7, 'tfvec2__max_features': 1000, 'tfvec2__min_df': 0.02, 'tfvec2__ngram_range': (1, 1)}   \n",
       "0                                                                         {'cvec1__max_df': 0.7, 'cvec1__max_features': 1000, 'cvec1__min_df': 0.02, 'cvec1__ngram_range': (1, 1), 'logreg1__max_iter': 1000}   \n",
       "\n",
       "   GS_best_score  train_accuracy  test_accuracy  Sensitivity  \n",
       "5          0.834           0.858          0.834     0.864085  \n",
       "6          0.848           0.904          0.843     0.860925  \n",
       "2          0.828           0.854          0.827     0.846306  \n",
       "3          0.845           0.896          0.844     0.815093  \n",
       "4          0.824           1.000          0.827     0.794153  \n",
       "1          0.809           0.830          0.810     0.772027  \n",
       "0          0.801           0.826          0.803     0.753852  "
      ]
     },
     "execution_count": 72,
     "metadata": {},
     "output_type": "execute_result"
    }
   ],
   "source": [
    "summary_sensitivity = pd.merge(summary_df.reset_index(), sensitivity_df, left_index=True, right_index=True).drop(columns = 'index').rename(columns = {0:'Sensitivity'})\n",
    "summary_sensitivity.sort_values(by = 'Sensitivity', ascending = False)"
   ]
  },
  {
   "cell_type": "markdown",
   "metadata": {},
   "source": [
    "### Specificity of Pipelines"
   ]
  },
  {
   "cell_type": "code",
   "execution_count": 73,
   "metadata": {},
   "outputs": [
    {
     "name": "stdout",
     "output_type": "stream",
     "text": [
      "LogisticRegression(max_iter=1000)  =  0.8531274742676168\n",
      "LogisticRegression(max_iter=1000)  =  0.8479809976247031\n",
      "MultinomialNB(alpha=1e-10)  =  0.8079968329374505\n",
      "LogisticRegression(max_iter=1000)  =  0.8725257323832145\n",
      "RandomForestClassifier(max_features='sqrt', n_estimators=300)  =  0.8598574821852731\n",
      "MultinomialNB(alpha=1e-10)  =  0.8329374505146476\n",
      "LogisticRegression(max_iter=1000)  =  0.9077593032462391\n"
     ]
    }
   ],
   "source": [
    "# What is the test specificity of our model?\n",
    "# By hand\n",
    "list_of_gs = [gs_pipe1, gs_pipe2, gs_pipe3, gs_pipe4,gs_pipe5,gs_pipe6,gs_pipe7]\n",
    "\n",
    "\n",
    "specificity_df = []\n",
    "for gs in list_of_gs:\n",
    "    preds = gs.predict(X_test)\n",
    "    tn, fp, fn, tp = confusion_matrix(y_test, preds).ravel();\n",
    "    specificity_df.append(tn / (tn + fp))\n",
    "    print(gs.best_estimator_[1],' = ',tn / (tn + fp))\n",
    "\n",
    "specificity_df= pd.DataFrame(specificity_df)"
   ]
  },
  {
   "cell_type": "code",
   "execution_count": 74,
   "metadata": {},
   "outputs": [
    {
     "data": {
      "text/html": [
       "<div>\n",
       "<style scoped>\n",
       "    .dataframe tbody tr th:only-of-type {\n",
       "        vertical-align: middle;\n",
       "    }\n",
       "\n",
       "    .dataframe tbody tr th {\n",
       "        vertical-align: top;\n",
       "    }\n",
       "\n",
       "    .dataframe thead th {\n",
       "        text-align: right;\n",
       "    }\n",
       "</style>\n",
       "<table border=\"1\" class=\"dataframe\">\n",
       "  <thead>\n",
       "    <tr style=\"text-align: right;\">\n",
       "      <th></th>\n",
       "      <th>iteration</th>\n",
       "      <th>transformer_estimator</th>\n",
       "      <th>GS_best_params</th>\n",
       "      <th>GS_best_score</th>\n",
       "      <th>train_accuracy</th>\n",
       "      <th>test_accuracy</th>\n",
       "      <th>Sensitivity</th>\n",
       "      <th>Specificity</th>\n",
       "    </tr>\n",
       "  </thead>\n",
       "  <tbody>\n",
       "    <tr>\n",
       "      <th>6</th>\n",
       "      <td>Refined Dataset</td>\n",
       "      <td>TfidfVec | MultinomialNB</td>\n",
       "      <td>{'nb__alpha': 1e-10, 'tfvec__max_df': 0.3, 'tfvec__max_features': 3700, 'tfvec__min_df': 0.0, 'tfvec__ngram_range': (1, 1)}</td>\n",
       "      <td>0.834</td>\n",
       "      <td>0.858</td>\n",
       "      <td>0.834</td>\n",
       "      <td>0.864085</td>\n",
       "      <td>0.832937</td>\n",
       "    </tr>\n",
       "    <tr>\n",
       "      <th>7</th>\n",
       "      <td>Refined DataSet</td>\n",
       "      <td>TfidfVec | LogisticRegression</td>\n",
       "      <td>{'logreg7__max_iter': 1000, 'tfvec7__max_df': 0.3, 'tfvec7__max_features': 8375, 'tfvec7__min_df': 0, 'tfvec7__ngram_range': (1, 2)}</td>\n",
       "      <td>0.848</td>\n",
       "      <td>0.904</td>\n",
       "      <td>0.843</td>\n",
       "      <td>0.860925</td>\n",
       "      <td>0.907759</td>\n",
       "    </tr>\n",
       "    <tr>\n",
       "      <th>3</th>\n",
       "      <td>Hyperparameter Tuned</td>\n",
       "      <td>TfidfVec | MultinomialNB</td>\n",
       "      <td>{'nb__alpha': 1e-10, 'tfvec__max_df': 0.3, 'tfvec__max_features': 3600, 'tfvec__min_df': 0.0002, 'tfvec__ngram_range': (1, 1)}</td>\n",
       "      <td>0.828</td>\n",
       "      <td>0.854</td>\n",
       "      <td>0.827</td>\n",
       "      <td>0.846306</td>\n",
       "      <td>0.807997</td>\n",
       "    </tr>\n",
       "    <tr>\n",
       "      <th>4</th>\n",
       "      <td>Hyperparameter Tuned</td>\n",
       "      <td>TfidfVec | LogisticRegression</td>\n",
       "      <td>{'logreg4__max_iter': 1000, 'tfvec4__max_df': 0.22, 'tfvec4__max_features': 10000, 'tfvec4__min_df': 0, 'tfvec4__ngram_range': (1, 1)}</td>\n",
       "      <td>0.845</td>\n",
       "      <td>0.896</td>\n",
       "      <td>0.844</td>\n",
       "      <td>0.815093</td>\n",
       "      <td>0.872526</td>\n",
       "    </tr>\n",
       "    <tr>\n",
       "      <th>5</th>\n",
       "      <td>Hyperparameter Tuned</td>\n",
       "      <td>TfidfVec | RandomForest</td>\n",
       "      <td>{'RanForest__max_depth': None, 'RanForest__max_features': 'sqrt', 'RanForest__n_estimators': 300, 'tfvec5__max_df': 0.7, 'tfvec5__max_features': 7000, 'tfvec5__min_df': 0, 'tfvec5__ngram_range': (1, 1)}</td>\n",
       "      <td>0.824</td>\n",
       "      <td>1.000</td>\n",
       "      <td>0.827</td>\n",
       "      <td>0.794153</td>\n",
       "      <td>0.859857</td>\n",
       "    </tr>\n",
       "    <tr>\n",
       "      <th>2</th>\n",
       "      <td>Baseline</td>\n",
       "      <td>TfidfVec | LogisticRegression</td>\n",
       "      <td>{'logreg2__max_iter': 1000, 'tfvec2__max_df': 0.7, 'tfvec2__max_features': 1000, 'tfvec2__min_df': 0.02, 'tfvec2__ngram_range': (1, 1)}</td>\n",
       "      <td>0.809</td>\n",
       "      <td>0.830</td>\n",
       "      <td>0.810</td>\n",
       "      <td>0.772027</td>\n",
       "      <td>0.847981</td>\n",
       "    </tr>\n",
       "    <tr>\n",
       "      <th>1</th>\n",
       "      <td>Baseline</td>\n",
       "      <td>CountVec | LogisticRegression</td>\n",
       "      <td>{'cvec1__max_df': 0.7, 'cvec1__max_features': 1000, 'cvec1__min_df': 0.02, 'cvec1__ngram_range': (1, 1), 'logreg1__max_iter': 1000}</td>\n",
       "      <td>0.801</td>\n",
       "      <td>0.826</td>\n",
       "      <td>0.803</td>\n",
       "      <td>0.753852</td>\n",
       "      <td>0.853127</td>\n",
       "    </tr>\n",
       "  </tbody>\n",
       "</table>\n",
       "</div>"
      ],
      "text/plain": [
       "              iteration          transformer_estimator  \\\n",
       "6       Refined Dataset       TfidfVec | MultinomialNB   \n",
       "7       Refined DataSet  TfidfVec | LogisticRegression   \n",
       "3  Hyperparameter Tuned       TfidfVec | MultinomialNB   \n",
       "4  Hyperparameter Tuned  TfidfVec | LogisticRegression   \n",
       "5  Hyperparameter Tuned        TfidfVec | RandomForest   \n",
       "2              Baseline  TfidfVec | LogisticRegression   \n",
       "1              Baseline  CountVec | LogisticRegression   \n",
       "\n",
       "                                                                                                                                                                                               GS_best_params  \\\n",
       "6                                                                                 {'nb__alpha': 1e-10, 'tfvec__max_df': 0.3, 'tfvec__max_features': 3700, 'tfvec__min_df': 0.0, 'tfvec__ngram_range': (1, 1)}   \n",
       "7                                                                        {'logreg7__max_iter': 1000, 'tfvec7__max_df': 0.3, 'tfvec7__max_features': 8375, 'tfvec7__min_df': 0, 'tfvec7__ngram_range': (1, 2)}   \n",
       "3                                                                              {'nb__alpha': 1e-10, 'tfvec__max_df': 0.3, 'tfvec__max_features': 3600, 'tfvec__min_df': 0.0002, 'tfvec__ngram_range': (1, 1)}   \n",
       "4                                                                      {'logreg4__max_iter': 1000, 'tfvec4__max_df': 0.22, 'tfvec4__max_features': 10000, 'tfvec4__min_df': 0, 'tfvec4__ngram_range': (1, 1)}   \n",
       "5  {'RanForest__max_depth': None, 'RanForest__max_features': 'sqrt', 'RanForest__n_estimators': 300, 'tfvec5__max_df': 0.7, 'tfvec5__max_features': 7000, 'tfvec5__min_df': 0, 'tfvec5__ngram_range': (1, 1)}   \n",
       "2                                                                     {'logreg2__max_iter': 1000, 'tfvec2__max_df': 0.7, 'tfvec2__max_features': 1000, 'tfvec2__min_df': 0.02, 'tfvec2__ngram_range': (1, 1)}   \n",
       "1                                                                         {'cvec1__max_df': 0.7, 'cvec1__max_features': 1000, 'cvec1__min_df': 0.02, 'cvec1__ngram_range': (1, 1), 'logreg1__max_iter': 1000}   \n",
       "\n",
       "   GS_best_score  train_accuracy  test_accuracy  Sensitivity  Specificity  \n",
       "6          0.834           0.858          0.834     0.864085     0.832937  \n",
       "7          0.848           0.904          0.843     0.860925     0.907759  \n",
       "3          0.828           0.854          0.827     0.846306     0.807997  \n",
       "4          0.845           0.896          0.844     0.815093     0.872526  \n",
       "5          0.824           1.000          0.827     0.794153     0.859857  \n",
       "2          0.809           0.830          0.810     0.772027     0.847981  \n",
       "1          0.801           0.826          0.803     0.753852     0.853127  "
      ]
     },
     "execution_count": 74,
     "metadata": {},
     "output_type": "execute_result"
    }
   ],
   "source": [
    "summary_sensitivity = pd.merge(summary_sensitivity.reset_index(), specificity_df, left_index=True, right_index=True).drop(columns = 'index').rename(columns = {0:'Specificity'})\n",
    "summary_sensitivity.index = [1,2,3,4,5,6,7]\n",
    "summary_sensitivity.sort_values(by = 'Sensitivity', ascending = False)"
   ]
  },
  {
   "cell_type": "markdown",
   "metadata": {},
   "source": [
    "Clearly, we will choose MultinomialNB as our production model as it has relative higher accuracy scores, with minimal overfit and very highest sensivity as compared to the rest of the models "
   ]
  },
  {
   "cell_type": "code",
   "execution_count": 75,
   "metadata": {},
   "outputs": [
    {
     "name": "stdout",
     "output_type": "stream",
     "text": [
      "LogisticRegression(max_iter=1000)  =  0.8833563574150838\n",
      "LogisticRegression(max_iter=1000)  =  0.8924973245453918\n",
      "MultinomialNB(alpha=1e-10)  =  0.9084892855120653\n",
      "LogisticRegression(max_iter=1000)  =  0.9246663619729761\n",
      "RandomForestClassifier(max_features='sqrt', n_estimators=300)  =  0.9051910701599454\n",
      "MultinomialNB(alpha=1e-10)  =  0.9241165681730235\n",
      "LogisticRegression(max_iter=1000)  =  0.9563249436207183\n"
     ]
    }
   ],
   "source": [
    "# What is the test specificity of our model?\n",
    "# By hand\n",
    "list_of_gs = [gs_pipe1, gs_pipe2, gs_pipe3, gs_pipe4,gs_pipe5,gs_pipe6,gs_pipe7]\n",
    "\n",
    "\n",
    "roc_auc = []\n",
    "for gs in list_of_gs:\n",
    "    preds = gs.predict(X_test)\n",
    "    tn, fp, fn, tp = confusion_matrix(y_test, preds).ravel();\n",
    "    roc_auc.append(roc_auc_score(y_test, gs.predict_proba(X_test)[:,1]))\n",
    "    print(gs.best_estimator_[1],' = ',roc_auc_score(y_test, gs.predict_proba(X_test)[:,1]))\n",
    "\n",
    "roc_auc= pd.DataFrame(roc_auc)"
   ]
  },
  {
   "cell_type": "code",
   "execution_count": 76,
   "metadata": {},
   "outputs": [
    {
     "data": {
      "text/html": [
       "<div>\n",
       "<style scoped>\n",
       "    .dataframe tbody tr th:only-of-type {\n",
       "        vertical-align: middle;\n",
       "    }\n",
       "\n",
       "    .dataframe tbody tr th {\n",
       "        vertical-align: top;\n",
       "    }\n",
       "\n",
       "    .dataframe thead th {\n",
       "        text-align: right;\n",
       "    }\n",
       "</style>\n",
       "<table border=\"1\" class=\"dataframe\">\n",
       "  <thead>\n",
       "    <tr style=\"text-align: right;\">\n",
       "      <th></th>\n",
       "      <th>iteration</th>\n",
       "      <th>transformer_estimator</th>\n",
       "      <th>GS_best_params</th>\n",
       "      <th>GS_best_score</th>\n",
       "      <th>train_accuracy</th>\n",
       "      <th>test_accuracy</th>\n",
       "      <th>Sensitivity</th>\n",
       "      <th>Specificity</th>\n",
       "      <th>ROC_AUC</th>\n",
       "    </tr>\n",
       "  </thead>\n",
       "  <tbody>\n",
       "    <tr>\n",
       "      <th>7</th>\n",
       "      <td>Refined DataSet</td>\n",
       "      <td>TfidfVec | LogisticRegression</td>\n",
       "      <td>{'logreg7__max_iter': 1000, 'tfvec7__max_df': 0.3, 'tfvec7__max_features': 8375, 'tfvec7__min_df': 0, 'tfvec7__ngram_range': (1, 2)}</td>\n",
       "      <td>0.848</td>\n",
       "      <td>0.904</td>\n",
       "      <td>0.843</td>\n",
       "      <td>0.860925</td>\n",
       "      <td>0.907759</td>\n",
       "      <td>0.956325</td>\n",
       "    </tr>\n",
       "    <tr>\n",
       "      <th>4</th>\n",
       "      <td>Hyperparameter Tuned</td>\n",
       "      <td>TfidfVec | LogisticRegression</td>\n",
       "      <td>{'logreg4__max_iter': 1000, 'tfvec4__max_df': 0.22, 'tfvec4__max_features': 10000, 'tfvec4__min_df': 0, 'tfvec4__ngram_range': (1, 1)}</td>\n",
       "      <td>0.845</td>\n",
       "      <td>0.896</td>\n",
       "      <td>0.844</td>\n",
       "      <td>0.815093</td>\n",
       "      <td>0.872526</td>\n",
       "      <td>0.924666</td>\n",
       "    </tr>\n",
       "    <tr>\n",
       "      <th>6</th>\n",
       "      <td>Refined Dataset</td>\n",
       "      <td>TfidfVec | MultinomialNB</td>\n",
       "      <td>{'nb__alpha': 1e-10, 'tfvec__max_df': 0.3, 'tfvec__max_features': 3700, 'tfvec__min_df': 0.0, 'tfvec__ngram_range': (1, 1)}</td>\n",
       "      <td>0.834</td>\n",
       "      <td>0.858</td>\n",
       "      <td>0.834</td>\n",
       "      <td>0.864085</td>\n",
       "      <td>0.832937</td>\n",
       "      <td>0.924117</td>\n",
       "    </tr>\n",
       "    <tr>\n",
       "      <th>3</th>\n",
       "      <td>Hyperparameter Tuned</td>\n",
       "      <td>TfidfVec | MultinomialNB</td>\n",
       "      <td>{'nb__alpha': 1e-10, 'tfvec__max_df': 0.3, 'tfvec__max_features': 3600, 'tfvec__min_df': 0.0002, 'tfvec__ngram_range': (1, 1)}</td>\n",
       "      <td>0.828</td>\n",
       "      <td>0.854</td>\n",
       "      <td>0.827</td>\n",
       "      <td>0.846306</td>\n",
       "      <td>0.807997</td>\n",
       "      <td>0.908489</td>\n",
       "    </tr>\n",
       "    <tr>\n",
       "      <th>5</th>\n",
       "      <td>Hyperparameter Tuned</td>\n",
       "      <td>TfidfVec | RandomForest</td>\n",
       "      <td>{'RanForest__max_depth': None, 'RanForest__max_features': 'sqrt', 'RanForest__n_estimators': 300, 'tfvec5__max_df': 0.7, 'tfvec5__max_features': 7000, 'tfvec5__min_df': 0, 'tfvec5__ngram_range': (1, 1)}</td>\n",
       "      <td>0.824</td>\n",
       "      <td>1.000</td>\n",
       "      <td>0.827</td>\n",
       "      <td>0.794153</td>\n",
       "      <td>0.859857</td>\n",
       "      <td>0.905191</td>\n",
       "    </tr>\n",
       "    <tr>\n",
       "      <th>2</th>\n",
       "      <td>Baseline</td>\n",
       "      <td>TfidfVec | LogisticRegression</td>\n",
       "      <td>{'logreg2__max_iter': 1000, 'tfvec2__max_df': 0.7, 'tfvec2__max_features': 1000, 'tfvec2__min_df': 0.02, 'tfvec2__ngram_range': (1, 1)}</td>\n",
       "      <td>0.809</td>\n",
       "      <td>0.830</td>\n",
       "      <td>0.810</td>\n",
       "      <td>0.772027</td>\n",
       "      <td>0.847981</td>\n",
       "      <td>0.892497</td>\n",
       "    </tr>\n",
       "    <tr>\n",
       "      <th>1</th>\n",
       "      <td>Baseline</td>\n",
       "      <td>CountVec | LogisticRegression</td>\n",
       "      <td>{'cvec1__max_df': 0.7, 'cvec1__max_features': 1000, 'cvec1__min_df': 0.02, 'cvec1__ngram_range': (1, 1), 'logreg1__max_iter': 1000}</td>\n",
       "      <td>0.801</td>\n",
       "      <td>0.826</td>\n",
       "      <td>0.803</td>\n",
       "      <td>0.753852</td>\n",
       "      <td>0.853127</td>\n",
       "      <td>0.883356</td>\n",
       "    </tr>\n",
       "  </tbody>\n",
       "</table>\n",
       "</div>"
      ],
      "text/plain": [
       "              iteration          transformer_estimator  \\\n",
       "7       Refined DataSet  TfidfVec | LogisticRegression   \n",
       "4  Hyperparameter Tuned  TfidfVec | LogisticRegression   \n",
       "6       Refined Dataset       TfidfVec | MultinomialNB   \n",
       "3  Hyperparameter Tuned       TfidfVec | MultinomialNB   \n",
       "5  Hyperparameter Tuned        TfidfVec | RandomForest   \n",
       "2              Baseline  TfidfVec | LogisticRegression   \n",
       "1              Baseline  CountVec | LogisticRegression   \n",
       "\n",
       "                                                                                                                                                                                               GS_best_params  \\\n",
       "7                                                                        {'logreg7__max_iter': 1000, 'tfvec7__max_df': 0.3, 'tfvec7__max_features': 8375, 'tfvec7__min_df': 0, 'tfvec7__ngram_range': (1, 2)}   \n",
       "4                                                                      {'logreg4__max_iter': 1000, 'tfvec4__max_df': 0.22, 'tfvec4__max_features': 10000, 'tfvec4__min_df': 0, 'tfvec4__ngram_range': (1, 1)}   \n",
       "6                                                                                 {'nb__alpha': 1e-10, 'tfvec__max_df': 0.3, 'tfvec__max_features': 3700, 'tfvec__min_df': 0.0, 'tfvec__ngram_range': (1, 1)}   \n",
       "3                                                                              {'nb__alpha': 1e-10, 'tfvec__max_df': 0.3, 'tfvec__max_features': 3600, 'tfvec__min_df': 0.0002, 'tfvec__ngram_range': (1, 1)}   \n",
       "5  {'RanForest__max_depth': None, 'RanForest__max_features': 'sqrt', 'RanForest__n_estimators': 300, 'tfvec5__max_df': 0.7, 'tfvec5__max_features': 7000, 'tfvec5__min_df': 0, 'tfvec5__ngram_range': (1, 1)}   \n",
       "2                                                                     {'logreg2__max_iter': 1000, 'tfvec2__max_df': 0.7, 'tfvec2__max_features': 1000, 'tfvec2__min_df': 0.02, 'tfvec2__ngram_range': (1, 1)}   \n",
       "1                                                                         {'cvec1__max_df': 0.7, 'cvec1__max_features': 1000, 'cvec1__min_df': 0.02, 'cvec1__ngram_range': (1, 1), 'logreg1__max_iter': 1000}   \n",
       "\n",
       "   GS_best_score  train_accuracy  test_accuracy  Sensitivity  Specificity  \\\n",
       "7          0.848           0.904          0.843     0.860925     0.907759   \n",
       "4          0.845           0.896          0.844     0.815093     0.872526   \n",
       "6          0.834           0.858          0.834     0.864085     0.832937   \n",
       "3          0.828           0.854          0.827     0.846306     0.807997   \n",
       "5          0.824           1.000          0.827     0.794153     0.859857   \n",
       "2          0.809           0.830          0.810     0.772027     0.847981   \n",
       "1          0.801           0.826          0.803     0.753852     0.853127   \n",
       "\n",
       "    ROC_AUC  \n",
       "7  0.956325  \n",
       "4  0.924666  \n",
       "6  0.924117  \n",
       "3  0.908489  \n",
       "5  0.905191  \n",
       "2  0.892497  \n",
       "1  0.883356  "
      ]
     },
     "execution_count": 76,
     "metadata": {},
     "output_type": "execute_result"
    }
   ],
   "source": [
    "final_summary = pd.merge(summary_sensitivity.reset_index(), roc_auc, left_index=True, right_index=True).drop(columns = 'index').rename(columns = {0:'ROC_AUC'})\n",
    "final_summary.index = [1,2,3,4,5,6,7]\n",
    "final_summary.sort_values(by = 'ROC_AUC', ascending = False)"
   ]
  },
  {
   "cell_type": "markdown",
   "metadata": {},
   "source": [
    "From baseline to refined data set remodelling, the average increase in accuracy is 5.8% from 0.801 to 0.848. The ROC_AUC however, increase larger by 9% from 0.88 to 0.95. \n",
    "Throught hyperparameter tuning and dataset refining, the current model in pipe7, using tfidVec and Logistic Regression renders the best model performance overall."
   ]
  },
  {
   "cell_type": "markdown",
   "metadata": {},
   "source": [
    "### Receiver Operating Characteristic (ROC) Curve"
   ]
  },
  {
   "cell_type": "code",
   "execution_count": 77,
   "metadata": {},
   "outputs": [
    {
     "name": "stderr",
     "output_type": "stream",
     "text": [
      "C:\\Users\\Admin\\.conda\\envs\\myenv\\lib\\site-packages\\sklearn\\utils\\deprecation.py:87: FutureWarning: Function plot_roc_curve is deprecated; Function :func:`plot_roc_curve` is deprecated in 1.0 and will be removed in 1.2. Use one of the class methods: :meth:`sklearn.metric.RocCurveDisplay.from_predictions` or :meth:`sklearn.metric.RocCurveDisplay.from_estimator`.\n",
      "  warnings.warn(msg, category=FutureWarning)\n"
     ]
    },
    {
     "data": {
      "image/png": "[encoded data removed]",
      "text/plain": [
       "<Figure size 432x288 with 1 Axes>"
      ]
     },
     "metadata": {
      "needs_background": "light"
     },
     "output_type": "display_data"
    }
   ],
   "source": [
    "plot_roc_curve(gs_pipe7, X_test, y_test)\n",
    "plt.plot([0, 1], [0, 1],\n",
    "         label='baseline', linestyle='--')\n",
    "plt.legend();"
   ]
  },
  {
   "cell_type": "markdown",
   "metadata": {},
   "source": [
    "### Choice of Production Model"
   ]
  },
  {
   "cell_type": "markdown",
   "metadata": {},
   "source": [
    "With specifity, sensitivity and ROC_AUC all tabularised with Accuracy score\n",
    "- Logistic regression display excellent performance based on highest ROC_AUC score, giving good measure of separability with very minimal overlap. This better the model at distinguishing between patients with PTSD and without. \n",
    "- Althought the Logistic regression lose out by a margin in Sensitivity against Multinomial NB, its overall accuracy score and ROC_AUC is far more superior. \n",
    "- Random Forest should not be implemented as it needs huge amount of computational power and time. \n",
    "\n",
    "`Hence, Logistic regression is the chosen production model` "
   ]
  },
  {
   "cell_type": "markdown",
   "metadata": {},
   "source": [
    "Import Unseen Data from r/CPTSD"
   ]
  },
  {
   "cell_type": "code",
   "execution_count": 78,
   "metadata": {},
   "outputs": [],
   "source": [
    "unseen_data = pd.read_csv('../Data/TEST_UNSEEN.csv')"
   ]
  },
  {
   "cell_type": "code",
   "execution_count": 79,
   "metadata": {},
   "outputs": [],
   "source": [
    "unseen_data.drop(columns = 'Unnamed: 0', inplace = True)"
   ]
  },
  {
   "cell_type": "markdown",
   "metadata": {},
   "source": [
    "Remove users who were in both 'r/PTSD' & 'r/Anxiety'"
   ]
  },
  {
   "cell_type": "code",
   "execution_count": 80,
   "metadata": {},
   "outputs": [],
   "source": [
    "filter_out_users = df[df['user_contribute_where']  != 'both']['author'].unique().tolist()"
   ]
  },
  {
   "cell_type": "code",
   "execution_count": 81,
   "metadata": {},
   "outputs": [],
   "source": [
    "unseen_data['filter'] = unseen_data['author'].apply(lambda x: 1 if x in filter_out_users else 0)"
   ]
  },
  {
   "cell_type": "code",
   "execution_count": 82,
   "metadata": {},
   "outputs": [
    {
     "data": {
      "text/plain": [
       "0    9586\n",
       "1     434\n",
       "Name: filter, dtype: int64"
      ]
     },
     "execution_count": 82,
     "metadata": {},
     "output_type": "execute_result"
    }
   ],
   "source": [
    "# split between users \n",
    "unseen_data['filter'].value_counts()"
   ]
  },
  {
   "cell_type": "code",
   "execution_count": 83,
   "metadata": {},
   "outputs": [],
   "source": [
    "# using only those without the users inside \n",
    "test_data = unseen_data[unseen_data['filter'] == 0]"
   ]
  },
  {
   "cell_type": "markdown",
   "metadata": {},
   "source": [
    "Generate predictions"
   ]
  },
  {
   "cell_type": "code",
   "execution_count": 84,
   "metadata": {},
   "outputs": [],
   "source": [
    "PTSD_Anxiety = pd.DataFrame(gs_pipe7.predict(test_data['lemmi_clean_text']))"
   ]
  },
  {
   "cell_type": "code",
   "execution_count": 85,
   "metadata": {},
   "outputs": [],
   "source": [
    "PTSD_Anxiety['have_ptsd'] = PTSD_Anxiety[0].apply(lambda x : 'PTSD' if x == 1 else 'Anxiety')"
   ]
  },
  {
   "cell_type": "markdown",
   "metadata": {},
   "source": [
    "### Plot results for classifying \n",
    "\n",
    "Results should show more PTSD than Anxiety since we are taking post about C-PTSD (Complex - PTSD)"
   ]
  },
  {
   "cell_type": "code",
   "execution_count": 86,
   "metadata": {},
   "outputs": [
    {
     "data": {
      "image/png": "[encoded data removed]",
      "text/plain": [
       "<Figure size 720x720 with 1 Axes>"
      ]
     },
     "metadata": {
      "needs_background": "light"
     },
     "output_type": "display_data"
    }
   ],
   "source": [
    "#plotting bar graph of AMD vs. Intel in r/BuildaPC\n",
    "PTSD_Anxiety['have_ptsd'].value_counts().plot(kind='bar', color=['xkcd:red', 'xkcd:sky blue'], figsize = [10,10], fontsize = 15);\n",
    "\n",
    "plt.title('Predicted Classification of Posts for r/BuildaPC', size=20);"
   ]
  },
  {
   "cell_type": "markdown",
   "metadata": {},
   "source": [
    "Predictions are going the right way for a classifying a huge group of people who are in C-PTSD. \n",
    "We can start deploying in some social centers and allow time for them to collect more raw data and actual classifications based on medical advice. In the long run, the model should be improving over time given the proper combination of jargons used. "
   ]
  },
  {
   "cell_type": "markdown",
   "metadata": {},
   "source": [
    "## Conclusion and Recommendations\n"
   ]
  },
  {
   "cell_type": "markdown",
   "metadata": {},
   "source": [
    "Beginning with the problem statement of accurately distinguishing potential people with PTSD apart from General Anxiety (subset), this project started with scraping 10000 subreddits post from each, r/PTSD and r/Anxiety, via the Reddit API. The posts were then undergone pre-processing and EDA followed by classificating modelling. \n",
    "\n",
    "Through EDA, I have highlighted on the signficant difference in subrreddict activity levels, where there were orginally 93 users who post in both subreddits suggesting that we may consider removing their post as they might bring ambiguity and inaccruacy as to whether users actually has PTSD or not. Users in r/PTSD generally do post longer text, with longer word count, and are not as active as compared to users fromr/Anxiety. In addition, we do observe there is cyclical trend, which suggest that there might be effects from SAD, that only affects people when there is lesser sunlight. Furthermore, through EDA on the common words, I did not find any distinguishing words that is able to differentiate subreddits if searched in the whole data set. But when split by subreddit groups, r/PTSD has `Therapy` singled out, unique for PTSD. It could imply users might need to go for therapy as often as compared to people with Anxiety. From r/Anxiety, common words like `panic` and `attack` are common symtoms from people having Anxiety. It is peculiar that users in r/PTSD do not experience this as a common effect. For bigrams and trigrams, `panic attack` were found in both subreddits and `sexual assault` were identified in r/PTSD as probably one of the common causes of users with PTSD. I did observe that `years ago` as top common words in bigram illustrating a long term time effect, suggesting it might take longer to overcome it as compared to r/Anxiety. \n",
    "\n",
    "After EDA, different classification models were built with Accuracy in mind. Random Forest took the longest computational time, hence would not recommend using this model for production. Furthermore the model tend to overfit with good score for training data but not for holdout. Will need a much more quicker model to generate fast output. During error analysis, found that there were the some of the 93 users who were in the wrong group and were classfied wrongly due to its content, but should have been true given its context and predictive power from the words used. To reduce this misclassfication, we will remove a total of 352 post out of 20000, rendering bearable to reduce 1.78% of the data to potentially reduce errors. After refining the dataset, the accuracy score improved by 1.2% for both models."
   ]
  },
  {
   "cell_type": "code",
   "execution_count": 87,
   "metadata": {},
   "outputs": [
    {
     "data": {
      "text/html": [
       "<div>\n",
       "<style scoped>\n",
       "    .dataframe tbody tr th:only-of-type {\n",
       "        vertical-align: middle;\n",
       "    }\n",
       "\n",
       "    .dataframe tbody tr th {\n",
       "        vertical-align: top;\n",
       "    }\n",
       "\n",
       "    .dataframe thead th {\n",
       "        text-align: right;\n",
       "    }\n",
       "</style>\n",
       "<table border=\"1\" class=\"dataframe\">\n",
       "  <thead>\n",
       "    <tr style=\"text-align: right;\">\n",
       "      <th></th>\n",
       "      <th>iteration</th>\n",
       "      <th>transformer_estimator</th>\n",
       "      <th>GS_best_params</th>\n",
       "      <th>GS_best_score</th>\n",
       "      <th>train_accuracy</th>\n",
       "      <th>test_accuracy</th>\n",
       "      <th>Sensitivity</th>\n",
       "      <th>Specificity</th>\n",
       "      <th>ROC_AUC</th>\n",
       "    </tr>\n",
       "  </thead>\n",
       "  <tbody>\n",
       "    <tr>\n",
       "      <th>7</th>\n",
       "      <td>Refined DataSet</td>\n",
       "      <td>TfidfVec | LogisticRegression</td>\n",
       "      <td>{'logreg7__max_iter': 1000, 'tfvec7__max_df': 0.3, 'tfvec7__max_features': 8375, 'tfvec7__min_df': 0, 'tfvec7__ngram_range': (1, 2)}</td>\n",
       "      <td>0.848</td>\n",
       "      <td>0.904</td>\n",
       "      <td>0.843</td>\n",
       "      <td>0.860925</td>\n",
       "      <td>0.907759</td>\n",
       "      <td>0.956325</td>\n",
       "    </tr>\n",
       "    <tr>\n",
       "      <th>4</th>\n",
       "      <td>Hyperparameter Tuned</td>\n",
       "      <td>TfidfVec | LogisticRegression</td>\n",
       "      <td>{'logreg4__max_iter': 1000, 'tfvec4__max_df': 0.22, 'tfvec4__max_features': 10000, 'tfvec4__min_df': 0, 'tfvec4__ngram_range': (1, 1)}</td>\n",
       "      <td>0.845</td>\n",
       "      <td>0.896</td>\n",
       "      <td>0.844</td>\n",
       "      <td>0.815093</td>\n",
       "      <td>0.872526</td>\n",
       "      <td>0.924666</td>\n",
       "    </tr>\n",
       "    <tr>\n",
       "      <th>6</th>\n",
       "      <td>Refined Dataset</td>\n",
       "      <td>TfidfVec | MultinomialNB</td>\n",
       "      <td>{'nb__alpha': 1e-10, 'tfvec__max_df': 0.3, 'tfvec__max_features': 3700, 'tfvec__min_df': 0.0, 'tfvec__ngram_range': (1, 1)}</td>\n",
       "      <td>0.834</td>\n",
       "      <td>0.858</td>\n",
       "      <td>0.834</td>\n",
       "      <td>0.864085</td>\n",
       "      <td>0.832937</td>\n",
       "      <td>0.924117</td>\n",
       "    </tr>\n",
       "    <tr>\n",
       "      <th>3</th>\n",
       "      <td>Hyperparameter Tuned</td>\n",
       "      <td>TfidfVec | MultinomialNB</td>\n",
       "      <td>{'nb__alpha': 1e-10, 'tfvec__max_df': 0.3, 'tfvec__max_features': 3600, 'tfvec__min_df': 0.0002, 'tfvec__ngram_range': (1, 1)}</td>\n",
       "      <td>0.828</td>\n",
       "      <td>0.854</td>\n",
       "      <td>0.827</td>\n",
       "      <td>0.846306</td>\n",
       "      <td>0.807997</td>\n",
       "      <td>0.908489</td>\n",
       "    </tr>\n",
       "    <tr>\n",
       "      <th>5</th>\n",
       "      <td>Hyperparameter Tuned</td>\n",
       "      <td>TfidfVec | RandomForest</td>\n",
       "      <td>{'RanForest__max_depth': None, 'RanForest__max_features': 'sqrt', 'RanForest__n_estimators': 300, 'tfvec5__max_df': 0.7, 'tfvec5__max_features': 7000, 'tfvec5__min_df': 0, 'tfvec5__ngram_range': (1, 1)}</td>\n",
       "      <td>0.824</td>\n",
       "      <td>1.000</td>\n",
       "      <td>0.827</td>\n",
       "      <td>0.794153</td>\n",
       "      <td>0.859857</td>\n",
       "      <td>0.905191</td>\n",
       "    </tr>\n",
       "    <tr>\n",
       "      <th>2</th>\n",
       "      <td>Baseline</td>\n",
       "      <td>TfidfVec | LogisticRegression</td>\n",
       "      <td>{'logreg2__max_iter': 1000, 'tfvec2__max_df': 0.7, 'tfvec2__max_features': 1000, 'tfvec2__min_df': 0.02, 'tfvec2__ngram_range': (1, 1)}</td>\n",
       "      <td>0.809</td>\n",
       "      <td>0.830</td>\n",
       "      <td>0.810</td>\n",
       "      <td>0.772027</td>\n",
       "      <td>0.847981</td>\n",
       "      <td>0.892497</td>\n",
       "    </tr>\n",
       "    <tr>\n",
       "      <th>1</th>\n",
       "      <td>Baseline</td>\n",
       "      <td>CountVec | LogisticRegression</td>\n",
       "      <td>{'cvec1__max_df': 0.7, 'cvec1__max_features': 1000, 'cvec1__min_df': 0.02, 'cvec1__ngram_range': (1, 1), 'logreg1__max_iter': 1000}</td>\n",
       "      <td>0.801</td>\n",
       "      <td>0.826</td>\n",
       "      <td>0.803</td>\n",
       "      <td>0.753852</td>\n",
       "      <td>0.853127</td>\n",
       "      <td>0.883356</td>\n",
       "    </tr>\n",
       "  </tbody>\n",
       "</table>\n",
       "</div>"
      ],
      "text/plain": [
       "              iteration          transformer_estimator  \\\n",
       "7       Refined DataSet  TfidfVec | LogisticRegression   \n",
       "4  Hyperparameter Tuned  TfidfVec | LogisticRegression   \n",
       "6       Refined Dataset       TfidfVec | MultinomialNB   \n",
       "3  Hyperparameter Tuned       TfidfVec | MultinomialNB   \n",
       "5  Hyperparameter Tuned        TfidfVec | RandomForest   \n",
       "2              Baseline  TfidfVec | LogisticRegression   \n",
       "1              Baseline  CountVec | LogisticRegression   \n",
       "\n",
       "                                                                                                                                                                                               GS_best_params  \\\n",
       "7                                                                        {'logreg7__max_iter': 1000, 'tfvec7__max_df': 0.3, 'tfvec7__max_features': 8375, 'tfvec7__min_df': 0, 'tfvec7__ngram_range': (1, 2)}   \n",
       "4                                                                      {'logreg4__max_iter': 1000, 'tfvec4__max_df': 0.22, 'tfvec4__max_features': 10000, 'tfvec4__min_df': 0, 'tfvec4__ngram_range': (1, 1)}   \n",
       "6                                                                                 {'nb__alpha': 1e-10, 'tfvec__max_df': 0.3, 'tfvec__max_features': 3700, 'tfvec__min_df': 0.0, 'tfvec__ngram_range': (1, 1)}   \n",
       "3                                                                              {'nb__alpha': 1e-10, 'tfvec__max_df': 0.3, 'tfvec__max_features': 3600, 'tfvec__min_df': 0.0002, 'tfvec__ngram_range': (1, 1)}   \n",
       "5  {'RanForest__max_depth': None, 'RanForest__max_features': 'sqrt', 'RanForest__n_estimators': 300, 'tfvec5__max_df': 0.7, 'tfvec5__max_features': 7000, 'tfvec5__min_df': 0, 'tfvec5__ngram_range': (1, 1)}   \n",
       "2                                                                     {'logreg2__max_iter': 1000, 'tfvec2__max_df': 0.7, 'tfvec2__max_features': 1000, 'tfvec2__min_df': 0.02, 'tfvec2__ngram_range': (1, 1)}   \n",
       "1                                                                         {'cvec1__max_df': 0.7, 'cvec1__max_features': 1000, 'cvec1__min_df': 0.02, 'cvec1__ngram_range': (1, 1), 'logreg1__max_iter': 1000}   \n",
       "\n",
       "   GS_best_score  train_accuracy  test_accuracy  Sensitivity  Specificity  \\\n",
       "7          0.848           0.904          0.843     0.860925     0.907759   \n",
       "4          0.845           0.896          0.844     0.815093     0.872526   \n",
       "6          0.834           0.858          0.834     0.864085     0.832937   \n",
       "3          0.828           0.854          0.827     0.846306     0.807997   \n",
       "5          0.824           1.000          0.827     0.794153     0.859857   \n",
       "2          0.809           0.830          0.810     0.772027     0.847981   \n",
       "1          0.801           0.826          0.803     0.753852     0.853127   \n",
       "\n",
       "    ROC_AUC  \n",
       "7  0.956325  \n",
       "4  0.924666  \n",
       "6  0.924117  \n",
       "3  0.908489  \n",
       "5  0.905191  \n",
       "2  0.892497  \n",
       "1  0.883356  "
      ]
     },
     "execution_count": 87,
     "metadata": {},
     "output_type": "execute_result"
    }
   ],
   "source": [
    "final_summary.sort_values(by = 'ROC_AUC', ascending= False)"
   ]
  },
  {
   "cell_type": "markdown",
   "metadata": {},
   "source": [
    "A final model - `Logistic Regression with tfidVectorizer` was picked for its incredible performance in ROC_AUC and overall Accuracy score. It's sensitivity score is relatively high too compared to MultinomialNB. Its accuracy is currently at 0.848 compared to its baseline score of 0.801, an overall increase of 5.8%.  The ROC_AUC however, increase larger by 9% from 0.88 to 0.95. Also, the value of accuracy can be seen when we trained the model on k-folds of crocss validation (estimated test set accuracy) was similar to the model test holdout data, by +- 5%. This implies that this classification model would `decently generalize well on new unseen data`\n",
    "\n",
    "The ROC AUC value is at 0.96, an improvement from 0.88, implying that the `bag of tokens` from the positve class (r/PTSD) and the negative class (r/Anxiety) are separated almostly perfectly. \n",
    "\n",
    "Looking at the initial phase of modelling, referencing to MultinomialNB with the numbers of false postives and false negatives, it was seen to have alot of post from r/Anxiety got misclassified as positve. So it can be said that the classification model has a skewness towards the positive class (r/PTSD). One of the reason for this could be the fact that on average, much longer post in r/PTSD (as seen in the EDA process) - 1146 length of text as compared to 856 for r/Anxiety. This means in general, the documents from r/PTSD contributed more tokens to the model as compared to documents from r/Anxiety, thus slightly skewing towards r/PTSD. Another reason could be that r/PTSD shares similar symtoms to those suffering from Anxiety, hence if there is no strong predictive features existing in the document, it might be classified wrongly too. \n",
    "\n",
    "Answering the problem statement, indeed with the Logistic Regression model, the optimised ROC_AUC and sensitivity is able to reduce misclassification from, ie. for every 5057 people examined, a reduction of 994 people to 585 were misclassified. Specifically we focus on maximising sensitivity by reducing false negatives, from 623 to 352 people for every 5057 people are falsely classified negative (r/Anxiety) instead of being truely postive (r/PTSD). This feature, if implemented in the business process of social centers like entry forums for new patients having difficulty with Anxiety related disorder, will provide a **more automated guide to identify new patients who might sufferfrom PTSD so that we can quickly refer him/her to the neccessary treatment facility**. In this case, because there are **still a considerable number of overlaps**, it would be good to be used as a **trial first**, slowly beefing up **data feed into the model for better predicting accuracy and sensitivity**. This would however, **be a good platform as a quick guide for social workers to look out for pertinent signs that has been highlighted in the feature importance**. I believe if the model has been used more in the real world context, it should one day be more and more accurate. "
   ]
  }
 ],
 "metadata": {
  "interpreter": {
   "hash": "592c428e42f6e4511884ace7c9b495d167f60b904bd88ca4683897c5c1f20061"
  },
  "kernelspec": {
   "display_name": "Python 3.9.7 ('myenv')",
   "language": "python",
   "name": "python3"
  },
  "language_info": {
   "codemirror_mode": {
    "name": "ipython",
    "version": 3
   },
   "file_extension": ".py",
   "mimetype": "text/x-python",
   "name": "python",
   "nbconvert_exporter": "python",
   "pygments_lexer": "ipython3",
   "version": "3.9.7"
  },
  "orig_nbformat": 4
 },
 "nbformat": 4,
 "nbformat_minor": 2
}
