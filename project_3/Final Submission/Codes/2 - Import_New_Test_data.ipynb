{
 "cells": [
  {
   "cell_type": "markdown",
   "id": "a0758aac",
   "metadata": {},
   "source": [
    "## Import libraries"
   ]
  },
  {
   "cell_type": "markdown",
   "id": "a0758aac",
   "metadata": {},
   "source": [
    "## Import libraries"
   ]
  },
  {
   "cell_type": "code",
   "execution_count": 43,
   "id": "86e229a8",
   "metadata": {},
   "outputs": [
    {
     "name": "stderr",
     "output_type": "stream",
     "text": [
      "[nltk_data] Downloading package wordnet to\n",
      "[nltk_data]     C:\\Users\\Admin\\AppData\\Roaming\\nltk_data...\n",
      "[nltk_data]   Package wordnet is already up-to-date!\n"
     ]
    }
   ],
   "source": [
    "import pandas as pd\n",
    "import requests\n",
    "import string\n",
    "string.punctuation\n",
    "import re\n",
    "import nltk\n",
    "from nltk.stem import WordNetLemmatizer\n",
    "nltk.download('wordnet')\n",
    "import numpy as np\n",
    "from datetime import timezone\n",
    "import datetime\n",
    "import time\n",
    "import pandas as pd\n",
    "import requests\n",
    "import string\n",
    "string.punctuation\n",
    "import re\n",
    "import nltk\n",
    "from nltk.stem import WordNetLemmatizer\n",
    "import numpy as np\n",
    "import seaborn as sns\n",
    "import matplotlib.pyplot as plt\n",
    "import re\n",
    "from bs4 import BeautifulSoup\n",
    "import contractions\n",
    "\n",
    "from sklearn.linear_model import LogisticRegression\n",
    "from sklearn.feature_extraction.text import CountVectorizer, TfidfVectorizer\n",
    "from sklearn.naive_bayes import MultinomialNB\n",
    "\n",
    "from nltk import word_tokenize   \n",
    "from nltk.stem.porter import PorterStemmer\n",
    "from nltk.tokenize import sent_tokenize, word_tokenize, RegexpTokenizer\n",
    "import matplotlib.dates as mdate\n",
    "\n",
    "\n",
    "\n",
    "from sklearn.preprocessing import (\n",
    "    StandardScaler,\n",
    "    PolynomialFeatures\n",
    ")\n",
    "from datetime import timezone\n",
    "import datetime\n",
    "\n",
    "pd.set_option('display.max_colwidth', None)\n",
    "pd.set_option('display.max_colwidth', None)"
   ]
  },
  {
   "cell_type": "markdown",
   "id": "19e077b6",
   "metadata": {},
   "source": [
    "## Create Function to retrieve dataset from reddit"
   ]
  },
  {
   "cell_type": "markdown",
   "id": "5799751a",
   "metadata": {},
   "source": [
    "Start from 1st April 2021 and later. Take from PTSD subreddit --> time_from = 1617235200"
   ]
  },
  {
   "cell_type": "code",
   "execution_count": 46,
   "id": "fb685143",
   "metadata": {},
   "outputs": [],
   "source": [
    "# Create function that takes in search name and limit for search and time\n",
    "\n",
    "def get_data(title_name, data_min, column, time_from = 1617235200):\n",
    "    # initiate date to search\n",
    "    date = time_from\n",
    "\n",
    "    #instatiate main df for PTSD\n",
    "    df = pd.DataFrame(columns = column)\n",
    "\n",
    "\n",
    "    while df.shape[0]<data_min:\n",
    "        url = 'https://api.pushshift.io/reddit/search/submission'\n",
    "        params ={\n",
    "            'subreddit': title_name,\n",
    "            'before': date,\n",
    "            'size': 50\n",
    "        }\n",
    "        # create temporary df \n",
    "        data_temp = pd.DataFrame(requests.get(url,params).json()['data'])[column]\n",
    "\n",
    "        # create list for index with [removed], '', [deleted] and NAN values\n",
    "        index_df = list(\n",
    "            data_temp[\n",
    "                (data_temp['selftext'] == '[removed]')\n",
    "                | (data_temp['selftext'] == '')\n",
    "                | (data_temp['selftext'] == '[deleted]')\n",
    "                | (data_temp['selftext'].isnull())\n",
    "                \n",
    "            ].index)\n",
    "\n",
    "        # drop down all in index list \n",
    "        data_temp = data_temp.drop(index = index_df)\n",
    "        data_temp.drop_duplicates(subset=['selftext', 'title'], keep='last', inplace=True)\n",
    "        # concat with main df\n",
    "        df = pd.concat([df,data_temp])\n",
    "\n",
    "        # print to check on shape \n",
    "        print(df.shape)\n",
    "\n",
    "        # set up new date for searching after \n",
    "        date = df.iloc[-1,-1]\n",
    "        \n",
    "    return df"
   ]
  },
  {
   "cell_type": "markdown",
   "id": "5bc7861a",
   "metadata": {},
   "source": [
    "To draw out CPTSD subreddit"
   ]
  },
  {
   "cell_type": "code",
   "execution_count": 47,
   "id": "e7a21d51",
   "metadata": {},
   "outputs": [
    {
     "name": "stdout",
     "output_type": "stream",
     "text": [
      "(40, 5)\n",
      "(82, 5)\n",
      "(123, 5)\n",
      "(165, 5)\n",
      "(206, 5)\n",
      "(252, 5)\n",
      "(299, 5)\n",
      "(341, 5)\n",
      "(384, 5)\n",
      "(429, 5)\n",
      "(472, 5)\n",
      "(521, 5)\n",
      "(569, 5)\n",
      "(615, 5)\n",
      "(664, 5)\n",
      "(709, 5)\n",
      "(752, 5)\n",
      "(799, 5)\n",
      "(845, 5)\n",
      "(893, 5)\n",
      "(940, 5)\n",
      "(990, 5)\n",
      "(1037, 5)\n",
      "(1084, 5)\n",
      "(1134, 5)\n",
      "(1183, 5)\n",
      "(1231, 5)\n",
      "(1275, 5)\n",
      "(1323, 5)\n",
      "(1373, 5)\n",
      "(1422, 5)\n",
      "(1471, 5)\n",
      "(1519, 5)\n",
      "(1569, 5)\n",
      "(1617, 5)\n",
      "(1665, 5)\n",
      "(1712, 5)\n",
      "(1752, 5)\n",
      "(1787, 5)\n",
      "(1831, 5)\n",
      "(1869, 5)\n",
      "(1913, 5)\n",
      "(1949, 5)\n",
      "(1991, 5)\n",
      "(2040, 5)\n",
      "(2080, 5)\n",
      "(2117, 5)\n",
      "(2159, 5)\n",
      "(2203, 5)\n",
      "(2244, 5)\n",
      "(2283, 5)\n",
      "(2320, 5)\n",
      "(2363, 5)\n",
      "(2406, 5)\n",
      "(2448, 5)\n",
      "(2492, 5)\n",
      "(2528, 5)\n",
      "(2565, 5)\n",
      "(2605, 5)\n",
      "(2650, 5)\n",
      "(2699, 5)\n",
      "(2747, 5)\n",
      "(2797, 5)\n",
      "(2847, 5)\n",
      "(2895, 5)\n",
      "(2942, 5)\n",
      "(2991, 5)\n",
      "(3039, 5)\n",
      "(3087, 5)\n",
      "(3135, 5)\n",
      "(3182, 5)\n",
      "(3230, 5)\n",
      "(3277, 5)\n",
      "(3326, 5)\n",
      "(3375, 5)\n",
      "(3422, 5)\n",
      "(3466, 5)\n",
      "(3513, 5)\n",
      "(3559, 5)\n",
      "(3605, 5)\n",
      "(3652, 5)\n",
      "(3700, 5)\n",
      "(3749, 5)\n",
      "(3796, 5)\n",
      "(3843, 5)\n",
      "(3892, 5)\n",
      "(3940, 5)\n",
      "(3985, 5)\n",
      "(4034, 5)\n",
      "(4082, 5)\n",
      "(4130, 5)\n",
      "(4174, 5)\n",
      "(4222, 5)\n",
      "(4269, 5)\n",
      "(4315, 5)\n",
      "(4362, 5)\n",
      "(4408, 5)\n",
      "(4456, 5)\n",
      "(4494, 5)\n",
      "(4537, 5)\n",
      "(4580, 5)\n",
      "(4619, 5)\n",
      "(4658, 5)\n",
      "(4697, 5)\n",
      "(4733, 5)\n",
      "(4775, 5)\n",
      "(4818, 5)\n",
      "(4852, 5)\n",
      "(4890, 5)\n",
      "(4931, 5)\n",
      "(4970, 5)\n",
      "(5012, 5)\n",
      "(5055, 5)\n",
      "(5103, 5)\n",
      "(5151, 5)\n",
      "(5200, 5)\n",
      "(5247, 5)\n",
      "(5292, 5)\n",
      "(5339, 5)\n",
      "(5387, 5)\n",
      "(5436, 5)\n",
      "(5483, 5)\n",
      "(5529, 5)\n",
      "(5576, 5)\n",
      "(5625, 5)\n",
      "(5672, 5)\n",
      "(5722, 5)\n",
      "(5768, 5)\n",
      "(5816, 5)\n",
      "(5861, 5)\n",
      "(5908, 5)\n",
      "(5955, 5)\n",
      "(6004, 5)\n",
      "(6051, 5)\n",
      "(6099, 5)\n",
      "(6148, 5)\n",
      "(6195, 5)\n",
      "(6244, 5)\n",
      "(6293, 5)\n",
      "(6338, 5)\n",
      "(6386, 5)\n",
      "(6431, 5)\n",
      "(6481, 5)\n",
      "(6531, 5)\n",
      "(6579, 5)\n",
      "(6628, 5)\n",
      "(6672, 5)\n",
      "(6721, 5)\n",
      "(6770, 5)\n",
      "(6817, 5)\n",
      "(6866, 5)\n",
      "(6916, 5)\n",
      "(6966, 5)\n",
      "(7014, 5)\n",
      "(7062, 5)\n",
      "(7106, 5)\n",
      "(7153, 5)\n",
      "(7202, 5)\n",
      "(7251, 5)\n",
      "(7300, 5)\n",
      "(7348, 5)\n",
      "(7396, 5)\n",
      "(7444, 5)\n",
      "(7492, 5)\n",
      "(7540, 5)\n",
      "(7588, 5)\n",
      "(7638, 5)\n",
      "(7687, 5)\n",
      "(7732, 5)\n",
      "(7778, 5)\n",
      "(7826, 5)\n",
      "(7874, 5)\n",
      "(7922, 5)\n",
      "(7971, 5)\n",
      "(8019, 5)\n",
      "(8068, 5)\n",
      "(8116, 5)\n",
      "(8165, 5)\n",
      "(8210, 5)\n",
      "(8256, 5)\n",
      "(8302, 5)\n",
      "(8348, 5)\n",
      "(8395, 5)\n",
      "(8443, 5)\n",
      "(8492, 5)\n",
      "(8540, 5)\n",
      "(8588, 5)\n",
      "(8636, 5)\n",
      "(8686, 5)\n",
      "(8732, 5)\n",
      "(8781, 5)\n",
      "(8827, 5)\n",
      "(8874, 5)\n",
      "(8921, 5)\n",
      "(8968, 5)\n",
      "(9017, 5)\n",
      "(9062, 5)\n",
      "(9107, 5)\n"
     ]
    }
   ],
   "source": [
    "col = ['author', 'subreddit', 'selftext', 'title', 'created_utc']\n",
    "\n",
    "# creating df for PTSD\n",
    "df_ptsd = get_data('CPTSD', 10000, col)\n",
    "\n",
    "# Create another column for datetime \n",
    "df_ptsd['datetime'] = df_ptsd['created_utc'].apply(lambda x: pd.to_datetime(x, unit='s'))"
   ]
  },
  {
   "cell_type": "markdown",
   "id": "8ed807f4",
   "metadata": {},
   "source": [
    "## Pre-Processing"
   ]
  },
  {
   "cell_type": "markdown",
   "id": "627dba33",
   "metadata": {},
   "source": [
    "Combining selftext and title into alltext"
   ]
  },
  {
   "cell_type": "code",
   "execution_count": null,
   "id": "7700f0ca",
   "metadata": {},
   "outputs": [],
   "source": [
    "# create all text column for self text and title combined \n",
    "\n",
    "df_ptsd['alltext'] = df_ptsd['selftext'] + ' ' + df_ptsd['title']"
   ]
  },
  {
   "cell_type": "markdown",
   "id": "37350505",
   "metadata": {},
   "source": [
    "Calculate length of text and title"
   ]
  },
  {
   "cell_type": "code",
   "execution_count": null,
   "id": "48135dc2",
   "metadata": {},
   "outputs": [],
   "source": [
    "# to create calculate length of text and title \n",
    "\n",
    "df_ptsd['length_text'] = df_ptsd['alltext'].map(lambda x: len(x))"
   ]
  },
  {
   "cell_type": "markdown",
   "id": "ac78a02b",
   "metadata": {},
   "source": [
    "Word count per post"
   ]
  },
  {
   "cell_type": "code",
   "execution_count": null,
   "id": "eac90625",
   "metadata": {},
   "outputs": [],
   "source": [
    "# to create calculate status word cout of text and title \n",
    "tokenizer = RegexpTokenizer('\\s+', gaps=True)\n",
    "\n",
    "def tokenizer_func(text):\n",
    "    return len(tokenizer.tokenize(text))\n",
    "\n",
    "df_ptsd['wrdcount_text'] = df_ptsd['alltext'].apply(lambda x: tokenizer_func(x))"
   ]
  },
  {
   "cell_type": "markdown",
   "id": "6092ff07",
   "metadata": {},
   "source": [
    "Check for null values"
   ]
  },
  {
   "cell_type": "code",
   "execution_count": null,
   "id": "e4ac4dfd",
   "metadata": {},
   "outputs": [
    {
     "data": {
      "text/plain": [
       "author           0\n",
       "subreddit        0\n",
       "selftext         0\n",
       "title            0\n",
       "created_utc      0\n",
       "datetime         0\n",
       "alltext          0\n",
       "length_text      0\n",
       "wrdcount_text    0\n",
       "dtype: int64"
      ]
     },
     "execution_count": 33,
     "metadata": {},
     "output_type": "execute_result"
    }
   ],
   "source": [
    "# found NAN coming from the link filter\n",
    "df_ptsd.isnull().sum()"
   ]
  },
  {
   "cell_type": "markdown",
   "id": "fbca4d0a",
   "metadata": {},
   "source": [
    "I will now **create the target variable** to be used in classification modelling. From this point forward in all classification models, the **positive class (1) will be *r/PTSD*** and the **negative class (0) will be *r/Anxiety***."
   ]
  },
  {
   "cell_type": "code",
   "execution_count": null,
   "id": "e4fbdbea",
   "metadata": {},
   "outputs": [],
   "source": [
    "# change Ptsd to 1 and Anxiety to 0\n",
    "\n",
    "df_ptsd['subreddit'] = df_ptsd['subreddit'].map(lambda x: 1 if x == 'ptsd' else 0)"
   ]
  },
  {
   "cell_type": "markdown",
   "id": "23faac2b",
   "metadata": {},
   "source": [
    "Create datetime object into another column"
   ]
  },
  {
   "cell_type": "code",
   "execution_count": null,
   "id": "02d7779e",
   "metadata": {},
   "outputs": [],
   "source": [
    "# Converting 'created_utc' column from epoch time to datetime object.\n",
    "\n",
    "df_ptsd['datetime'] = df_ptsd['created_utc'].map(lambda ts: datetime.datetime.fromtimestamp(ts))"
   ]
  },
  {
   "cell_type": "code",
   "execution_count": null,
   "id": "1cbf792c",
   "metadata": {},
   "outputs": [],
   "source": [
    "def change_month(month):\n",
    "    convert = month.to_pydatetime().month\n",
    "    month_dict = {\n",
    "        1: 'Jan',\n",
    "        2: 'Feb',\n",
    "        3: 'Mar',\n",
    "        4: 'April',\n",
    "        5: 'May',\n",
    "        6: 'June',\n",
    "        7: 'July',\n",
    "        8: \"Aug\",\n",
    "        9: 'Sept',\n",
    "        10: 'Oct',\n",
    "        11: 'Nov',\n",
    "        12: 'Dec'\n",
    "    }\n",
    "\n",
    "    return month_dict[convert]\n",
    "\n",
    "df_ptsd['month'] = df_ptsd['datetime'].apply(lambda x: x.to_pydatetime().month)"
   ]
  },
  {
   "cell_type": "code",
   "execution_count": null,
   "id": "c2bbb729",
   "metadata": {},
   "outputs": [],
   "source": [
    "df_ptsd['day'] = df_ptsd['datetime'].apply(lambda x: x.strftime('%A'))"
   ]
  },
  {
   "cell_type": "markdown",
   "id": "2403cedd",
   "metadata": {},
   "source": [
    "### Cleaning text - Without Lemmatizing/stemming\n",
    "\n",
    "I will be defining a function that helps to do the following: \n",
    "\n",
    "- **Remove HTML artefacts** using *BeautifulSoup* library.\n",
    "- **Expand all contractions** using *contractions* library.\n",
    "- **Remove all numbers, punctuations and special characters, except '-'** to keep hyphenated words, using *re* library.\n",
    "- **Convert all text to lowercase**.\n",
    "- **Tokenize all words (hyphenated words stay hyphenated)** using *RegexpTokenizer* from *nltk.tokenize*.\n",
    "- **Remove all stopwords** using the english stopwords list from *nltk.corpus*.\n",
    "- **Remove subreddit names** *('PTSD', 'Anxiety')* and other related words to avoid **target leakage**.\n",
    "- **Join all tokenized words** into a string separated by spaces.\n",
    "\n",
    "Stemming/Lemmatizing of words will be done during error analysis. "
   ]
  },
  {
   "cell_type": "code",
   "execution_count": null,
   "id": "9155e12d",
   "metadata": {},
   "outputs": [],
   "source": [
    "# Defining a function to clean all_text column following the steps mentioned above.\n",
    "def clean_text(text_raw):\n",
    "    \n",
    "    # Removing any and all HTML artefacts from the text (just in case reddit API still left behind some).\n",
    "    text_html_removed = BeautifulSoup(text_raw).get_text()\n",
    "    \n",
    "    # Expanding all contractions using the contractions library (for example isn't is converted to is not).\n",
    "    text_contrac_fixed = contractions.fix(text_html_removed)\n",
    "    \n",
    "    # Using regex to remove all numbers, punctuations and special characters (except '-' to keep hyphenated words).\n",
    "    text_punc_removed = re.sub(r'[^A-Za-z\\-\\s]', ' ', text_contrac_fixed)\n",
    "    \n",
    "    # Tokenizing the text after converting it to lowercase.\n",
    "    # Regex here tokenizes by every character except one or more ('+') consecutive word characters ('\\w') or hyphens ('-').\n",
    "    text_tokens_list = RegexpTokenizer(r'[\\w\\-]+').tokenize(text_punc_removed.lower())\n",
    "    \n",
    "    # Removing stopwords using the english stopwords list from nltk.corpus.\n",
    "    text_stopwords_removed = [word for word in text_tokens_list if word not in set(nltk.corpus.stopwords.words('english'))]\n",
    "    \n",
    "    # Removing subreddit name from text (target leakage).\n",
    "    text_cleaned = [word for word in text_stopwords_removed if word not in set(['ptsd', 'anxious', 'anxiety',\"cptsd\", 'trauma','traumatized','traumas',\"posttraumatic\",'stress','disorder',\"traumatic\"])]\n",
    "    \n",
    "    # Returning a string of all tokenized words joined together with spaces in between.\n",
    "    return \" \".join(text_cleaned)"
   ]
  },
  {
   "cell_type": "code",
   "execution_count": null,
   "id": "34743510",
   "metadata": {},
   "outputs": [],
   "source": [
    "# apply function to clean text\n",
    "df_ptsd['clean_text']= df_ptsd['alltext'].apply(lambda x: clean_text(x)) "
   ]
  },
  {
   "cell_type": "code",
   "execution_count": null,
   "id": "ac779789",
   "metadata": {},
   "outputs": [],
   "source": [
    "# Instantiate lemmatizer.\n",
    "lemmatizer = WordNetLemmatizer()\n",
    "\n",
    "# define function that takes in words from paragraph, and lemmitize and join back as paragraph\n",
    "def lemmi_words(text):\n",
    "    return ' '.join([lemmatizer.lemmatize(i) for i in text.split(' ')])\n",
    "\n",
    "df_ptsd['lemmi_clean_text'] = df_ptsd['clean_text'].map(lambda x: lemmi_words(x))"
   ]
  },
  {
   "cell_type": "code",
   "execution_count": null,
   "id": "c06533f7",
   "metadata": {},
   "outputs": [],
   "source": [
    "df_export = df_ptsd[['author','subreddit','lemmi_clean_text']]"
   ]
  },
  {
   "cell_type": "code",
   "execution_count": null,
   "id": "161f18e4",
   "metadata": {},
   "outputs": [],
   "source": [
    "# record csv\n",
    "df_export.to_csv('../Data/TEST_UNSEEN.csv')"
   ]
  }
 ],
 "metadata": {
  "kernelspec": {
   "display_name": "Python 3",
   "language": "python",
   "name": "python3"
  },
  "language_info": {
   "codemirror_mode": {
    "name": "ipython",
    "version": 3
   },
   "file_extension": ".py",
   "mimetype": "text/x-python",
   "name": "python",
   "nbconvert_exporter": "python",
   "pygments_lexer": "ipython3",
   "version": "3.9.7"
  }
 },
 "nbformat": 4,
 "nbformat_minor": 5
}
