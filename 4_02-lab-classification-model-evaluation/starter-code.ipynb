{
 "cells": [
  {
   "cell_type": "markdown",
   "metadata": {},
   "source": [
    "## Week 4, Lab 2: Predicting Chronic Kidney Disease in Patients\n",
    "> Author: Matt Brems\n",
    "\n",
    "We can sketch out the data science process as follows:\n",
    "1. Define the problem.\n",
    "2. Obtain the data.\n",
    "3. Explore the data.\n",
    "4. Model the data.\n",
    "5. Evaluate the model.\n",
    "6. Answer the problem.\n",
    "\n",
    "In this lab, we're going to focus on steps exploring data, building models and evaluating the models we build.\n",
    "\n",
    "There are three links you may find important:\n",
    "- [A set of chronic kidney disease (CKD) data and other biological factors](./chronic_kidney_disease_full.csv).\n",
    "- [The CKD data dictionary](./chronic_kidney_disease_header.txt).\n",
    "- [An article comparing the use of k-nearest neighbors and support vector machines on predicting CKD](./chronic_kidney_disease.pdf)."
   ]
  },
  {
   "cell_type": "markdown",
   "metadata": {},
   "source": [
    "## Step 1: Define the problem.\n",
    "\n",
    "Suppose you're working for Mayo Clinic, widely recognized to be the top hospital in the United States. In your work, you've overheard nurses and doctors discuss test results, then arrive at a conclusion as to whether or not someone has developed a particular disease or condition. For example, you might overhear something like:\n",
    "\n",
    "> **Nurse**: Male 57 year-old patient presents with severe chest pain. FDP _(short for fibrin degradation product)_ was elevated at 13. We did an echo _(echocardiogram)_ and it was inconclusive.\n",
    "\n",
    "> **Doctor**: What was his interarm BP? _(blood pressure)_\n",
    "\n",
    "> **Nurse**: Systolic was 140 on the right; 110 on the left.\n",
    "\n",
    "> **Doctor**: Dammit, it's an aortic dissection! Get to the OR _(operating room)_ now!\n",
    "\n",
    "> _(intense music playing)_\n",
    "\n",
    "In this fictitious but [Shonda Rhimes-esque](https://en.wikipedia.org/wiki/Shonda_Rhimes#Grey's_Anatomy,_Private_Practice,_Scandal_and_other_projects_with_ABC) scenario, you might imagine the doctor going through a series of steps like a [flowchart](https://en.wikipedia.org/wiki/Flowchart), or a series of if-this-then-that steps to diagnose a patient. The first steps made the doctor ask what the interarm blood pressure was. Because interarm blood pressure took on the values it took on, the doctor diagnosed the patient with an aortic dissection.\n",
    "\n",
    "Your goal, as a research biostatistical data scientist at the nation's top hospital, is to develop a medical test that can improve upon our current diagnosis system for [chronic kidney disease (CKD)](https://www.mayoclinic.org/diseases-conditions/chronic-kidney-disease/symptoms-causes/syc-20354521).\n",
    "\n",
    "**Real-world problem**: Develop a medical diagnosis test that is better than our current diagnosis system for CKD.\n",
    "\n",
    "**Data science problem**: Develop a medical diagnosis test that reduces both the number of false positives and the number of false negatives."
   ]
  },
  {
   "cell_type": "markdown",
   "metadata": {},
   "source": [
    "What is important --> interarm blood\n",
    "\n",
    "**Data science problem**: Develop a medical diagnosis test that reduces both the number of false positives and the number of false negatives."
   ]
  },
  {
   "cell_type": "code",
   "execution_count": 77,
   "metadata": {},
   "outputs": [],
   "source": [
    "# imports\n",
    "import numpy as np\n",
    "import pandas as pd\n",
    "import matplotlib.pyplot as plt\n",
    "import seaborn as sns\n",
    "\n",
    "# Import train_test_split.\n",
    "from sklearn.model_selection import train_test_split\n",
    "\n",
    "# Import Logistic Regression model.\n",
    "from sklearn.linear_model import LogisticRegression\n",
    "\n",
    "# Import metrics.\n",
    "from sklearn.metrics import confusion_matrix, plot_confusion_matrix, accuracy_score, plot_roc_curve, roc_auc_score, recall_score, precision_score, f1_score"
   ]
  },
  {
   "cell_type": "markdown",
   "metadata": {},
   "source": [
    "---\n",
    "\n",
    "## Step 2: Obtain the data.\n",
    "\n",
    "### 1. Read in the data."
   ]
  },
  {
   "cell_type": "code",
   "execution_count": 78,
   "metadata": {
    "collapsed": true
   },
   "outputs": [],
   "source": [
    "df = pd.read_csv('chronic_kidney_disease_full.csv')"
   ]
  },
  {
   "cell_type": "markdown",
   "metadata": {},
   "source": [
    "### 2. Check out the data dictionary. What are a few features or relationships you might be interested in checking out?"
   ]
  },
  {
   "cell_type": "markdown",
   "metadata": {},
   "source": [
    "Answer:\n",
    "\n",
    "1) BP\n",
    "2) Age\n",
    "3) "
   ]
  },
  {
   "cell_type": "code",
   "execution_count": 79,
   "metadata": {},
   "outputs": [
    {
     "data": {
      "text/plain": [
       "Index(['age', 'bp', 'sg', 'al', 'su', 'rbc', 'pc', 'pcc', 'ba', 'bgr', 'bu',\n",
       "       'sc', 'sod', 'pot', 'hemo', 'pcv', 'wbcc', 'rbcc', 'htn', 'dm', 'cad',\n",
       "       'appet', 'pe', 'ane', 'class'],\n",
       "      dtype='object')"
      ]
     },
     "execution_count": 79,
     "metadata": {},
     "output_type": "execute_result"
    }
   ],
   "source": [
    "df.columns"
   ]
  },
  {
   "cell_type": "markdown",
   "metadata": {},
   "source": [
    "---\n",
    "\n",
    "## Step 3: Explore the data.\n",
    "\n",
    "### 3. How much of the data is missing from each column?"
   ]
  },
  {
   "cell_type": "code",
   "execution_count": 80,
   "metadata": {
    "collapsed": true
   },
   "outputs": [
    {
     "data": {
      "text/plain": [
       "age        9\n",
       "bp        12\n",
       "sg        47\n",
       "al        46\n",
       "su        49\n",
       "rbc      152\n",
       "pc        65\n",
       "pcc        4\n",
       "ba         4\n",
       "bgr       44\n",
       "bu        19\n",
       "sc        17\n",
       "sod       87\n",
       "pot       88\n",
       "hemo      52\n",
       "pcv       71\n",
       "wbcc     106\n",
       "rbcc     131\n",
       "htn        2\n",
       "dm         2\n",
       "cad        2\n",
       "appet      1\n",
       "pe         1\n",
       "ane        1\n",
       "class      0\n",
       "dtype: int64"
      ]
     },
     "execution_count": 80,
     "metadata": {},
     "output_type": "execute_result"
    }
   ],
   "source": [
    "df.isnull().sum()"
   ]
  },
  {
   "cell_type": "markdown",
   "metadata": {},
   "source": [
    "### 4. Suppose that I dropped every row that contained at least one missing value. (In the context of analysis with missing data, we call this a \"complete case analysis,\" because we keep only the complete cases!) How many rows would remain in our dataframe? What are at least two downsides to doing this?\n",
    "\n",
    "> There's a good visual on slide 15 of [this deck](https://liberalarts.utexas.edu/prc/_files/cs/Missing-Data.pdf) that shows what a complete case analysis looks like if you're interested."
   ]
  },
  {
   "cell_type": "code",
   "execution_count": 81,
   "metadata": {},
   "outputs": [
    {
     "data": {
      "text/plain": [
       "(400, 25)"
      ]
     },
     "execution_count": 81,
     "metadata": {},
     "output_type": "execute_result"
    }
   ],
   "source": [
    "df.shape"
   ]
  },
  {
   "cell_type": "code",
   "execution_count": 82,
   "metadata": {},
   "outputs": [
    {
     "data": {
      "text/plain": [
       "ckd       0.625\n",
       "notckd    0.375\n",
       "Name: class, dtype: float64"
      ]
     },
     "execution_count": 82,
     "metadata": {},
     "output_type": "execute_result"
    }
   ],
   "source": [
    "df['class'].value_counts(normalize = True)"
   ]
  },
  {
   "cell_type": "code",
   "execution_count": 83,
   "metadata": {},
   "outputs": [],
   "source": [
    "    test = df.dropna()"
   ]
  },
  {
   "cell_type": "code",
   "execution_count": 84,
   "metadata": {},
   "outputs": [
    {
     "data": {
      "text/plain": [
       "Index(['age', 'bp', 'sg', 'al', 'su', 'rbc', 'pc', 'pcc', 'ba', 'bgr', 'bu',\n",
       "       'sc', 'sod', 'pot', 'hemo', 'pcv', 'wbcc', 'rbcc', 'htn', 'dm', 'cad',\n",
       "       'appet', 'pe', 'ane', 'class'],\n",
       "      dtype='object')"
      ]
     },
     "execution_count": 84,
     "metadata": {},
     "output_type": "execute_result"
    }
   ],
   "source": [
    "test.columns"
   ]
  },
  {
   "cell_type": "code",
   "execution_count": 85,
   "metadata": {},
   "outputs": [
    {
     "data": {
      "text/plain": [
       "notckd    0.727848\n",
       "ckd       0.272152\n",
       "Name: class, dtype: float64"
      ]
     },
     "execution_count": 85,
     "metadata": {},
     "output_type": "execute_result"
    }
   ],
   "source": [
    "test['class'].value_counts(normalize = True)"
   ]
  },
  {
   "cell_type": "markdown",
   "metadata": {},
   "source": [
    "Answer:\n",
    "\n",
    "1) Rows are left with 158 from 400 -->> there is a huge reduction, and we might not get good data of either results \n",
    "- df has good percentage of 60 over 30% while test has only 72 against 27%. Abit skewed but we can tank\n",
    "\n",
    "\n",
    "2) Not best quality "
   ]
  },
  {
   "cell_type": "markdown",
   "metadata": {},
   "source": [
    "### 5. Thinking critically about how our data were gathered, it's likely that these records were gathered by doctors and nurses. Brainstorm three potential areas (in addition to the missing data we've already discussed) where this data might be inaccurate or imprecise."
   ]
  },
  {
   "cell_type": "markdown",
   "metadata": {},
   "source": [
    "Answer:\n",
    "\n",
    "1) Different doctors and nurses might have different practise in the way they want to collect the results thus, might have some bias in terms of taking down notes. \n",
    "\n",
    "2) Patients might not want to disclose some of their information as they might be worried. \n",
    "\n",
    "3) They might not be trained, hence having inaccurate data "
   ]
  },
  {
   "cell_type": "markdown",
   "metadata": {},
   "source": [
    "---\n",
    "\n",
    "## Step 4: Model the data.\n",
    "\n",
    "### 6. Suppose that I want to construct a model where no person who has CKD will ever be told that they do not have CKD. What (very simple, no machine learning needed) model can I create that will never tell a person with CKD that they do not have CKD?\n",
    "\n",
    "> Hint: Don't think about `statsmodels` or `scikit-learn` here."
   ]
  },
  {
   "cell_type": "markdown",
   "metadata": {},
   "source": [
    "Answer:\n",
    "\n",
    "Stratified sampling \n",
    "\n"
   ]
  },
  {
   "cell_type": "markdown",
   "metadata": {},
   "source": [
    "### 7. In problem 6, what common classification metric did we optimize for? Did we minimize false positives or negatives?"
   ]
  },
  {
   "cell_type": "markdown",
   "metadata": {},
   "source": [
    "Answer:\n",
    "\n",
    "Accuracy \n",
    "\n",
    "\n",
    "we did not minimize false positives and negatives "
   ]
  },
  {
   "cell_type": "markdown",
   "metadata": {},
   "source": [
    "### 8. Thinking ethically, what is at least one disadvantage to the model you described in problem 6?"
   ]
  },
  {
   "cell_type": "markdown",
   "metadata": {},
   "source": [
    "Answer:\n",
    "\n",
    "People who wont know will not like it when doctors dont tell them. It will make them all feel as if they have something wrong"
   ]
  },
  {
   "cell_type": "markdown",
   "metadata": {},
   "source": [
    "### 9. Suppose that I want to construct a model where a person who does not have CKD will ever be told that they do have CKD. What (very simple, no machine learning needed) model can I create that will accomplish this?"
   ]
  },
  {
   "cell_type": "markdown",
   "metadata": {},
   "source": [
    "Answer:\n",
    "\n",
    "Random sampling "
   ]
  },
  {
   "cell_type": "markdown",
   "metadata": {},
   "source": [
    "### 10. In problem 9, what common classification metric did we optimize for? Did we minimize false positives or negatives?"
   ]
  },
  {
   "cell_type": "markdown",
   "metadata": {},
   "source": [
    "Answer:\n",
    "\n"
   ]
  },
  {
   "cell_type": "markdown",
   "metadata": {},
   "source": [
    "### 11. Thinking ethically, what is at least one disadvantage to the model you described in problem 9?"
   ]
  },
  {
   "cell_type": "markdown",
   "metadata": {},
   "source": [
    "Answer:"
   ]
  },
  {
   "cell_type": "markdown",
   "metadata": {},
   "source": [
    "### 12. Construct a logistic regression model in `sklearn` predicting class from the other variables. You may scale, select/drop, and engineer features as you wish - build a good model! Make sure, however, that you include at least one categorical/dummy feature and at least one quantitative feature.\n",
    "\n",
    "> Hint: Remember to do a train/test split!"
   ]
  },
  {
   "cell_type": "code",
   "execution_count": 86,
   "metadata": {},
   "outputs": [],
   "source": [
    "# drop off all NA\n",
    "\n",
    "df = df.dropna()"
   ]
  },
  {
   "cell_type": "code",
   "execution_count": 87,
   "metadata": {},
   "outputs": [
    {
     "data": {
      "text/plain": [
       "['rbc', 'pc', 'pcc', 'ba', 'htn', 'dm', 'cad', 'appet', 'pe', 'ane']"
      ]
     },
     "execution_count": 87,
     "metadata": {},
     "output_type": "execute_result"
    }
   ],
   "source": [
    "# declare columns to get_dummies \n",
    "dummy_columns = [col for col in df.columns if (df[col].dtypes == 'O') & (col != 'class')]\n",
    "dummy_columns"
   ]
  },
  {
   "cell_type": "code",
   "execution_count": 88,
   "metadata": {},
   "outputs": [],
   "source": [
    "# df_cat for dummies only \n",
    "\n",
    "df_cat = df[dummy_columns]"
   ]
  },
  {
   "cell_type": "code",
   "execution_count": 89,
   "metadata": {},
   "outputs": [],
   "source": [
    "# df drop all objects \n",
    "\n",
    "df.drop(columns = dummy_columns, inplace = True)"
   ]
  },
  {
   "cell_type": "code",
   "execution_count": 90,
   "metadata": {},
   "outputs": [],
   "source": [
    "# df cat convert to get_dummies \n",
    "\n",
    "df_cat = pd.get_dummies(df_cat, drop_first= True)"
   ]
  },
  {
   "cell_type": "code",
   "execution_count": 91,
   "metadata": {},
   "outputs": [],
   "source": [
    "# concat both\n",
    "\n",
    "df= pd.concat([df,df_cat], axis = 1)"
   ]
  },
  {
   "cell_type": "code",
   "execution_count": 92,
   "metadata": {},
   "outputs": [
    {
     "name": "stdout",
     "output_type": "stream",
     "text": [
      "<class 'pandas.core.frame.DataFrame'>\n",
      "Int64Index: 158 entries, 3 to 399\n",
      "Data columns (total 25 columns):\n",
      " #   Column       Non-Null Count  Dtype  \n",
      "---  ------       --------------  -----  \n",
      " 0   age          158 non-null    float64\n",
      " 1   bp           158 non-null    float64\n",
      " 2   sg           158 non-null    float64\n",
      " 3   al           158 non-null    float64\n",
      " 4   su           158 non-null    float64\n",
      " 5   bgr          158 non-null    float64\n",
      " 6   bu           158 non-null    float64\n",
      " 7   sc           158 non-null    float64\n",
      " 8   sod          158 non-null    float64\n",
      " 9   pot          158 non-null    float64\n",
      " 10  hemo         158 non-null    float64\n",
      " 11  pcv          158 non-null    float64\n",
      " 12  wbcc         158 non-null    float64\n",
      " 13  rbcc         158 non-null    float64\n",
      " 14  class        158 non-null    object \n",
      " 15  rbc_normal   158 non-null    uint8  \n",
      " 16  pc_normal    158 non-null    uint8  \n",
      " 17  pcc_present  158 non-null    uint8  \n",
      " 18  ba_present   158 non-null    uint8  \n",
      " 19  htn_yes      158 non-null    uint8  \n",
      " 20  dm_yes       158 non-null    uint8  \n",
      " 21  cad_yes      158 non-null    uint8  \n",
      " 22  appet_poor   158 non-null    uint8  \n",
      " 23  pe_yes       158 non-null    uint8  \n",
      " 24  ane_yes      158 non-null    uint8  \n",
      "dtypes: float64(14), object(1), uint8(10)\n",
      "memory usage: 21.3+ KB\n"
     ]
    }
   ],
   "source": [
    "# checked all ok \n",
    "\n",
    "df.info()"
   ]
  },
  {
   "cell_type": "code",
   "execution_count": 93,
   "metadata": {},
   "outputs": [
    {
     "data": {
      "text/plain": [
       "Index(['age', 'bp', 'sg', 'al', 'su', 'bgr', 'bu', 'sc', 'sod', 'pot', 'hemo',\n",
       "       'pcv', 'wbcc', 'rbcc', 'class', 'rbc_normal', 'pc_normal',\n",
       "       'pcc_present', 'ba_present', 'htn_yes', 'dm_yes', 'cad_yes',\n",
       "       'appet_poor', 'pe_yes', 'ane_yes'],\n",
       "      dtype='object')"
      ]
     },
     "execution_count": 93,
     "metadata": {},
     "output_type": "execute_result"
    }
   ],
   "source": [
    "df.columns"
   ]
  },
  {
   "cell_type": "code",
   "execution_count": 94,
   "metadata": {},
   "outputs": [
    {
     "data": {
      "text/plain": [
       "array(['ckd', 'notckd'], dtype=object)"
      ]
     },
     "execution_count": 94,
     "metadata": {},
     "output_type": "execute_result"
    }
   ],
   "source": [
    "df['class'].unique()"
   ]
  },
  {
   "cell_type": "code",
   "execution_count": 95,
   "metadata": {},
   "outputs": [],
   "source": [
    "df['class'] = df['class'].apply(lambda x:  1 if x == 'ckd' else 0)"
   ]
  },
  {
   "cell_type": "code",
   "execution_count": 96,
   "metadata": {
    "collapsed": true
   },
   "outputs": [],
   "source": [
    "\n",
    "X = df.drop(columns = 'class')\n",
    "y = df['class']"
   ]
  },
  {
   "cell_type": "code",
   "execution_count": 97,
   "metadata": {},
   "outputs": [
    {
     "data": {
      "text/plain": [
       "array([1, 0], dtype=int64)"
      ]
     },
     "execution_count": 97,
     "metadata": {},
     "output_type": "execute_result"
    }
   ],
   "source": [
    "df['class'].unique()"
   ]
  },
  {
   "cell_type": "code",
   "execution_count": 98,
   "metadata": {},
   "outputs": [
    {
     "name": "stdout",
     "output_type": "stream",
     "text": [
      "<class 'pandas.core.frame.DataFrame'>\n",
      "Int64Index: 158 entries, 3 to 399\n",
      "Data columns (total 25 columns):\n",
      " #   Column       Non-Null Count  Dtype  \n",
      "---  ------       --------------  -----  \n",
      " 0   age          158 non-null    float64\n",
      " 1   bp           158 non-null    float64\n",
      " 2   sg           158 non-null    float64\n",
      " 3   al           158 non-null    float64\n",
      " 4   su           158 non-null    float64\n",
      " 5   bgr          158 non-null    float64\n",
      " 6   bu           158 non-null    float64\n",
      " 7   sc           158 non-null    float64\n",
      " 8   sod          158 non-null    float64\n",
      " 9   pot          158 non-null    float64\n",
      " 10  hemo         158 non-null    float64\n",
      " 11  pcv          158 non-null    float64\n",
      " 12  wbcc         158 non-null    float64\n",
      " 13  rbcc         158 non-null    float64\n",
      " 14  class        158 non-null    int64  \n",
      " 15  rbc_normal   158 non-null    uint8  \n",
      " 16  pc_normal    158 non-null    uint8  \n",
      " 17  pcc_present  158 non-null    uint8  \n",
      " 18  ba_present   158 non-null    uint8  \n",
      " 19  htn_yes      158 non-null    uint8  \n",
      " 20  dm_yes       158 non-null    uint8  \n",
      " 21  cad_yes      158 non-null    uint8  \n",
      " 22  appet_poor   158 non-null    uint8  \n",
      " 23  pe_yes       158 non-null    uint8  \n",
      " 24  ane_yes      158 non-null    uint8  \n",
      "dtypes: float64(14), int64(1), uint8(10)\n",
      "memory usage: 21.3 KB\n"
     ]
    }
   ],
   "source": [
    "df.info()"
   ]
  },
  {
   "cell_type": "code",
   "execution_count": 99,
   "metadata": {},
   "outputs": [],
   "source": [
    "X_train, X_test, y_train, y_test = train_test_split(X, y, test_size=0.33, random_state=42, stratify= y)"
   ]
  },
  {
   "cell_type": "markdown",
   "metadata": {},
   "source": [
    "---\n",
    "\n",
    "## Step 5: Evaluate the model.\n",
    "\n",
    "### 13. Based on your logistic regression model constructed in problem 12, interpret the coefficient of one of your quantitative features."
   ]
  },
  {
   "cell_type": "code",
   "execution_count": 100,
   "metadata": {
    "collapsed": true
   },
   "outputs": [
    {
     "data": {
      "text/plain": [
       "LogisticRegression(max_iter=1000)"
      ]
     },
     "execution_count": 100,
     "metadata": {},
     "output_type": "execute_result"
    }
   ],
   "source": [
    "logreg = LogisticRegression(max_iter=1000)\n",
    "\n",
    "logreg.fit(X_train,y_train)\n",
    "\n"
   ]
  },
  {
   "cell_type": "code",
   "execution_count": 101,
   "metadata": {},
   "outputs": [
    {
     "data": {
      "text/plain": [
       "array([0, 0, 0, 0, 1, 0, 0, 0, 0, 0, 1, 1, 0, 1, 0, 0, 0, 0, 1, 0, 1, 0,\n",
       "       1, 1, 0, 0, 0, 0, 0, 1, 0, 1, 0, 0, 1, 0, 0, 0, 0, 0, 0, 0, 0, 0,\n",
       "       0, 0, 0, 1, 0, 0, 1, 0, 1], dtype=int64)"
      ]
     },
     "execution_count": 101,
     "metadata": {},
     "output_type": "execute_result"
    }
   ],
   "source": [
    "logreg.predict(X_test)"
   ]
  },
  {
   "cell_type": "code",
   "execution_count": 102,
   "metadata": {},
   "outputs": [
    {
     "name": "stdout",
     "output_type": "stream",
     "text": [
      "Logistic Regression Intercept: [0.02472258]\n",
      "Logistic Regression Coefficient: [[1.20196938 0.94587887 1.01188072 1.77359403 1.00098619 1.17593273\n",
      "  1.1835543  1.16619202 0.89416574 1.12145289 0.68370252 0.58320018\n",
      "  1.00080039 0.79266409 0.98483712 0.84849477 1.00067202 1.01050786\n",
      "  1.18018454 1.1794909  1.00009559 1.01106726 1.00065341 1.00064357]]\n"
     ]
    }
   ],
   "source": [
    "print(f'Logistic Regression Intercept: {logreg.intercept_}')\n",
    "print(f'Logistic Regression Coefficient: {np.exp(logreg.coef_)}')"
   ]
  },
  {
   "cell_type": "code",
   "execution_count": 103,
   "metadata": {},
   "outputs": [
    {
     "data": {
      "text/plain": [
       "age            1.201969\n",
       "bp             0.945879\n",
       "sg             1.011881\n",
       "al             1.773594\n",
       "su             1.000986\n",
       "bgr            1.175933\n",
       "bu             1.183554\n",
       "sc             1.166192\n",
       "sod            0.894166\n",
       "pot            1.121453\n",
       "hemo           0.683703\n",
       "pcv            0.583200\n",
       "wbcc           1.000800\n",
       "rbcc           0.792664\n",
       "rbc_normal     0.984837\n",
       "pc_normal      0.848495\n",
       "pcc_present    1.000672\n",
       "ba_present     1.010508\n",
       "htn_yes        1.180185\n",
       "dm_yes         1.179491\n",
       "cad_yes        1.000096\n",
       "appet_poor     1.011067\n",
       "pe_yes         1.000653\n",
       "ane_yes        1.000644\n",
       "dtype: float64"
      ]
     },
     "execution_count": 103,
     "metadata": {},
     "output_type": "execute_result"
    }
   ],
   "source": [
    "pd.Series(np.exp(logreg.coef_[0]), index = X.columns)"
   ]
  },
  {
   "cell_type": "markdown",
   "metadata": {},
   "source": [
    "Answer: They represent the change in log-odds caused by the input variables.\n",
    "\n",
    "\n",
    "For the Age: For 1 unit of age increase, suggests that it is 1.2 times as likely to get CKD, holding all else constant\n",
    "\n",
    "\n"
   ]
  },
  {
   "cell_type": "code",
   "execution_count": 104,
   "metadata": {},
   "outputs": [
    {
     "data": {
      "text/plain": [
       "1.0"
      ]
     },
     "execution_count": 104,
     "metadata": {},
     "output_type": "execute_result"
    }
   ],
   "source": [
    "logreg.score(X_train, y_train)"
   ]
  },
  {
   "cell_type": "code",
   "execution_count": 105,
   "metadata": {},
   "outputs": [
    {
     "data": {
      "text/plain": [
       "1.0"
      ]
     },
     "execution_count": 105,
     "metadata": {},
     "output_type": "execute_result"
    }
   ],
   "source": [
    "logreg.score(X_test, y_test)"
   ]
  },
  {
   "cell_type": "markdown",
   "metadata": {},
   "source": [
    "### 14. Based on your logistic regression model constructed in problem 12, interpret the coefficient of one of your categorical/dummy features."
   ]
  },
  {
   "cell_type": "markdown",
   "metadata": {
    "collapsed": true
   },
   "source": [
    "The goal of logistic regression is to find the best-fitting model to describe the relationship between a binary outcome and a set of independent variables.\n",
    "\n",
    "Logistic regression generates the coefficients of a formula to predict a logit transformation of the probability that the characteristic of interest is present.\n",
    "\n",
    "The log of the odds make things symmetrical easier to interpret \n",
    "- as previously odds of not getting CKD is 0 - 1 while getting CKD can be 1 to infinity. \n",
    "\n",
    "dm - diabetes mellitus \n",
    "--> seems to have for every person who has diabetes, he has 1.17 likely to to get CKD, holding all else constant. \n",
    "\n",
    "Hypertension as well \n",
    "\n",
    "\n"
   ]
  },
  {
   "cell_type": "markdown",
   "metadata": {},
   "source": [
    "### 15. Despite being a relatively simple model, logistic regression is very widely used in the real world. Why do you think that's the case? Name at least two advantages to using logistic regression as a modeling technique."
   ]
  },
  {
   "cell_type": "markdown",
   "metadata": {},
   "source": [
    "Answer:\n",
    "\n",
    "The coefficients can be ranked and be interpreted very easily by putting whatever X variable we want. \n",
    "\n",
    "Regression model can cater for any X variable due to its logit function that can help convert any value and predict probability of zero to 1"
   ]
  },
  {
   "cell_type": "markdown",
   "metadata": {},
   "source": [
    "### 16. Does it make sense to generate a confusion matrix on our training data or our test data? Why? Generate it on the proper data.\n",
    "\n",
    "> Hint: Once you've generated your predicted $y$ values and you have your observed $y$ values, then it will be easy to [generate a confusion matrix using sklearn](http://scikit-learn.org/stable/modules/generated/sklearn.metrics.confusion_matrix.html)."
   ]
  },
  {
   "cell_type": "code",
   "execution_count": 107,
   "metadata": {},
   "outputs": [],
   "source": [
    "preds = logreg.predict(X_test)"
   ]
  },
  {
   "cell_type": "code",
   "execution_count": 108,
   "metadata": {},
   "outputs": [],
   "source": [
    "tn, fp, fn, tp = confusion_matrix(y_test, preds).ravel()"
   ]
  },
  {
   "cell_type": "code",
   "execution_count": 127,
   "metadata": {},
   "outputs": [
    {
     "data": {
      "text/plain": [
       "14"
      ]
     },
     "execution_count": 127,
     "metadata": {},
     "output_type": "execute_result"
    }
   ],
   "source": [
    "tp\n",
    "\n",
    "# to check if CKD is 14 or 39 "
   ]
  },
  {
   "cell_type": "code",
   "execution_count": 124,
   "metadata": {},
   "outputs": [
    {
     "data": {
      "text/plain": [
       "39"
      ]
     },
     "execution_count": 124,
     "metadata": {},
     "output_type": "execute_result"
    }
   ],
   "source": [
    "len([num for num in logreg.predict(X_test) if num != 1])\n",
    "\n",
    "# can do this too if need to check which label  "
   ]
  },
  {
   "cell_type": "code",
   "execution_count": 109,
   "metadata": {
    "collapsed": true
   },
   "outputs": [
    {
     "data": {
      "text/plain": [
       "array([[39,  0],\n",
       "       [ 0, 14]], dtype=int64)"
      ]
     },
     "execution_count": 109,
     "metadata": {},
     "output_type": "execute_result"
    }
   ],
   "source": [
    "confusion_matrix(y_test, preds)"
   ]
  },
  {
   "cell_type": "code",
   "execution_count": 125,
   "metadata": {},
   "outputs": [
    {
     "data": {
      "image/png": "[encoded data removed]",
      "text/plain": [
       "<Figure size 432x288 with 2 Axes>"
      ]
     },
     "metadata": {
      "needs_background": "light"
     },
     "output_type": "display_data"
    }
   ],
   "source": [
    "plot_confusion_matrix(logreg, X_test, y_test, cmap='Blues', \n",
    "                      values_format='d', display_labels=['NO CKD', 'CKD']);"
   ]
  },
  {
   "cell_type": "markdown",
   "metadata": {},
   "source": [
    "### 17. In this hospital case, we want to predict CKD. Do we want to optimize for sensitivity, specificity, or something else? Why? (If you don't think there's one clear answer, that's okay! There rarely is. Be sure to defend your conclusion!)"
   ]
  },
  {
   "cell_type": "markdown",
   "metadata": {},
   "source": [
    "Answer:\n",
    "\n",
    "We will want to minimise our type 2 errors, hence improve on specifity. because will not want people to be diagnosed to not have CKD when they actually have,which may lead to many issues . "
   ]
  },
  {
   "cell_type": "markdown",
   "metadata": {},
   "source": [
    "### 18 (BONUS). Write a function that will create an ROC curve for you, then plot the ROC curve.\n",
    "\n",
    "Here's a strategy you might consider:\n",
    "1. In order to even begin, you'll need some fit model. Use your logistic regression model from problem 12.\n",
    "2. We want to look at all values of your \"threshold\" - that is, anything where .predict() gives you above your threshold falls in the \"positive class,\" and anything that is below your threshold falls in the \"negative class.\" Start the threshold at 0.\n",
    "3. At this value of your threshold, calculate the sensitivity and specificity. Store these values.\n",
    "4. Increment your threshold by some \"step.\" Maybe set your step to be 0.01, or even smaller.\n",
    "5. At this value of your threshold, calculate the sensitivity and specificity. Store these values.\n",
    "6. Repeat steps 3 and 4 until you get to the threshold of 1.\n",
    "7. Plot the values of sensitivity and 1 - specificity."
   ]
  },
  {
   "cell_type": "code",
   "execution_count": 128,
   "metadata": {
    "collapsed": true
   },
   "outputs": [
    {
     "data": {
      "image/png": "[encoded data removed]",
      "text/plain": [
       "<Figure size 432x288 with 1 Axes>"
      ]
     },
     "metadata": {
      "needs_background": "light"
     },
     "output_type": "display_data"
    }
   ],
   "source": [
    "plot_roc_curve(logreg, X_test, y_test)\n",
    "plt.plot([0, 1], [0, 1],\n",
    "         label='baseline', linestyle='--')\n",
    "plt.legend();"
   ]
  },
  {
   "cell_type": "code",
   "execution_count": 129,
   "metadata": {},
   "outputs": [
    {
     "data": {
      "text/plain": [
       "1.0"
      ]
     },
     "execution_count": 129,
     "metadata": {},
     "output_type": "execute_result"
    }
   ],
   "source": [
    "roc_auc_score(y_test, logreg.predict_proba(X_test)[:,1])"
   ]
  },
  {
   "cell_type": "markdown",
   "metadata": {},
   "source": [
    "### 19. Suppose you're speaking with the biostatistics lead at Mayo Clinic, who asks you \"Why are unbalanced classes generally a problem? Are they a problem in this particular CKD analysis?\" How would you respond?"
   ]
  },
  {
   "cell_type": "markdown",
   "metadata": {},
   "source": [
    "Answer:\n",
    "\n",
    "yes because if we do not have balanced class, what might potentially be a true CKD patient might end up being classified as not having CKD if we have a unbalanced class of having majority NONE CKD patients. \n",
    "\n",
    "hence we need to have sample of actual CKD patients to give this kind of assessment "
   ]
  },
  {
   "cell_type": "markdown",
   "metadata": {},
   "source": [
    "### 20. Suppose you're speaking with a doctor at Mayo Clinic who, despite being very smart, doesn't know much about data science or statistics. How would you explain why unbalanced classes are generally a problem to this doctor?"
   ]
  },
  {
   "cell_type": "markdown",
   "metadata": {},
   "source": [
    "Answer:\n",
    "\n",
    "We do not want to  classify wrongly of patients having CKD, hence we need more accurate data especially for those with CKD or potential CKD. \n",
    "\n",
    "\n",
    "with more samples of patients with CKD, we will have much more accuracy and can predict better in order to help you to step in and decide what courses of action to do next for potential CKD patients "
   ]
  },
  {
   "cell_type": "markdown",
   "metadata": {},
   "source": [
    "### 21. Let's create very unbalanced classes just for the sake of this example! Generate very unbalanced classes by [bootstrapping](http://stattrek.com/statistics/dictionary.aspx?definition=sampling_with_replacement) (a.k.a. random sampling with replacement) the majority class.\n",
    "\n",
    "1. The majority class are those individuals with CKD.\n",
    "2. Generate a random sample of size 200,000 of individuals who have CKD **with replacement**. (Consider setting a random seed for this part!)\n",
    "3. Create a new dataframe with the original data plus this random sample of data.\n",
    "4. Now we should have a dataset with around 200,000 observations, of which only about 0.00075% are non-CKD individuals."
   ]
  },
  {
   "cell_type": "code",
   "execution_count": 141,
   "metadata": {
    "collapsed": true
   },
   "outputs": [],
   "source": [
    "import random \n",
    "\n",
    "np.random.seed(123)\n",
    "unb_ckd = np.random.randint(2,size =200000, dtype = int)\n"
   ]
  },
  {
   "cell_type": "code",
   "execution_count": 142,
   "metadata": {},
   "outputs": [
    {
     "data": {
      "text/plain": [
       "array([0, 1, 0, ..., 0, 1, 0])"
      ]
     },
     "execution_count": 142,
     "metadata": {},
     "output_type": "execute_result"
    }
   ],
   "source": [
    "unb_ckd"
   ]
  },
  {
   "cell_type": "code",
   "execution_count": 144,
   "metadata": {},
   "outputs": [
    {
     "data": {
      "text/plain": [
       "0    115\n",
       "1     43\n",
       "Name: class, dtype: int64"
      ]
     },
     "execution_count": 144,
     "metadata": {},
     "output_type": "execute_result"
    }
   ],
   "source": [
    "df['class'].value_counts()"
   ]
  },
  {
   "cell_type": "code",
   "execution_count": 156,
   "metadata": {},
   "outputs": [],
   "source": [
    "my_samples = []\n",
    "for _ in range(5000):\n",
    "    x = np.random.choice(2, size=10, replace=True)\n",
    "    my_samples.append(x.mean())"
   ]
  },
  {
   "cell_type": "code",
   "execution_count": 157,
   "metadata": {},
   "outputs": [
    {
     "data": {
      "text/plain": [
       "150.0"
      ]
     },
     "execution_count": 157,
     "metadata": {},
     "output_type": "execute_result"
    }
   ],
   "source": [
    "200000*0.00075"
   ]
  },
  {
   "cell_type": "code",
   "execution_count": 153,
   "metadata": {},
   "outputs": [
    {
     "data": {
      "text/plain": [
       "[0.5,\n",
       " 0.6,\n",
       " 0.3,\n",
       " 0.3,\n",
       " 0.2,\n",
       " 0.6,\n",
       " 0.4,\n",
       " 0.4,\n",
       " 0.4,\n",
       " 0.5,\n",
       " 0.7,\n",
       " 0.6,\n",
       " 0.5,\n",
       " 0.8,\n",
       " 0.4,\n",
       " 0.3,\n",
       " 0.7,\n",
       " 0.7,\n",
       " 0.4,\n",
       " 0.2,\n",
       " 0.6,\n",
       " 0.4,\n",
       " 0.5,\n",
       " 0.8,\n",
       " 0.8,\n",
       " 0.6,\n",
       " 0.5,\n",
       " 0.6,\n",
       " 0.4,\n",
       " 0.6,\n",
       " 0.4,\n",
       " 0.6,\n",
       " 0.7,\n",
       " 0.3,\n",
       " 0.5,\n",
       " 0.8,\n",
       " 0.6,\n",
       " 0.2,\n",
       " 0.5,\n",
       " 0.7,\n",
       " 0.4,\n",
       " 0.6,\n",
       " 0.7,\n",
       " 0.6,\n",
       " 0.5,\n",
       " 0.6,\n",
       " 0.4,\n",
       " 0.4,\n",
       " 0.5,\n",
       " 0.5,\n",
       " 0.5,\n",
       " 0.5,\n",
       " 0.8,\n",
       " 0.2,\n",
       " 0.4,\n",
       " 0.3,\n",
       " 0.3,\n",
       " 0.7,\n",
       " 0.5,\n",
       " 0.6,\n",
       " 0.6,\n",
       " 0.6,\n",
       " 0.5,\n",
       " 0.8,\n",
       " 0.3,\n",
       " 0.5,\n",
       " 0.5,\n",
       " 0.5,\n",
       " 0.7,\n",
       " 0.5,\n",
       " 0.3,\n",
       " 0.5,\n",
       " 0.3,\n",
       " 0.4,\n",
       " 0.7,\n",
       " 0.6,\n",
       " 0.6,\n",
       " 0.6,\n",
       " 0.6,\n",
       " 0.6,\n",
       " 0.6,\n",
       " 0.6,\n",
       " 0.3,\n",
       " 0.6,\n",
       " 0.4,\n",
       " 0.3,\n",
       " 0.5,\n",
       " 0.8,\n",
       " 0.7,\n",
       " 0.7,\n",
       " 0.6,\n",
       " 0.3,\n",
       " 0.1,\n",
       " 0.6,\n",
       " 0.4,\n",
       " 0.4,\n",
       " 0.2,\n",
       " 0.4,\n",
       " 0.5,\n",
       " 0.2,\n",
       " 0.5,\n",
       " 0.5,\n",
       " 0.4,\n",
       " 0.3,\n",
       " 0.4,\n",
       " 0.5,\n",
       " 0.2,\n",
       " 0.6,\n",
       " 0.3,\n",
       " 0.4,\n",
       " 0.3,\n",
       " 0.6,\n",
       " 0.9,\n",
       " 0.7,\n",
       " 0.5,\n",
       " 0.4,\n",
       " 0.5,\n",
       " 0.4,\n",
       " 0.7,\n",
       " 0.6,\n",
       " 0.6,\n",
       " 0.4,\n",
       " 0.5,\n",
       " 0.5,\n",
       " 0.7,\n",
       " 0.4,\n",
       " 0.2,\n",
       " 0.5,\n",
       " 0.6,\n",
       " 0.5,\n",
       " 0.3,\n",
       " 0.5,\n",
       " 0.5,\n",
       " 0.8,\n",
       " 0.5,\n",
       " 0.6,\n",
       " 0.5,\n",
       " 0.4,\n",
       " 0.6,\n",
       " 0.4,\n",
       " 0.9,\n",
       " 0.6,\n",
       " 0.6,\n",
       " 0.4,\n",
       " 0.4,\n",
       " 0.5,\n",
       " 0.6,\n",
       " 0.6,\n",
       " 0.7,\n",
       " 0.5,\n",
       " 0.6,\n",
       " 0.8,\n",
       " 0.5,\n",
       " 0.5,\n",
       " 0.4,\n",
       " 0.6,\n",
       " 0.9,\n",
       " 0.7,\n",
       " 0.3,\n",
       " 0.3,\n",
       " 0.4,\n",
       " 0.6,\n",
       " 0.4,\n",
       " 0.3,\n",
       " 0.5,\n",
       " 0.5,\n",
       " 0.6,\n",
       " 0.6,\n",
       " 0.3,\n",
       " 0.4,\n",
       " 0.5,\n",
       " 0.6,\n",
       " 0.6,\n",
       " 0.5,\n",
       " 0.5,\n",
       " 0.4,\n",
       " 0.5,\n",
       " 0.8,\n",
       " 0.3,\n",
       " 0.6,\n",
       " 0.5,\n",
       " 0.4,\n",
       " 0.7,\n",
       " 0.6,\n",
       " 0.5,\n",
       " 0.5,\n",
       " 0.2,\n",
       " 0.3,\n",
       " 0.1,\n",
       " 0.5,\n",
       " 0.5,\n",
       " 0.7,\n",
       " 0.1,\n",
       " 0.5,\n",
       " 0.3,\n",
       " 0.4,\n",
       " 0.6,\n",
       " 0.4,\n",
       " 0.6,\n",
       " 0.6,\n",
       " 0.6,\n",
       " 0.7,\n",
       " 0.5,\n",
       " 0.3,\n",
       " 0.4,\n",
       " 0.2,\n",
       " 0.5,\n",
       " 0.4,\n",
       " 0.6,\n",
       " 0.4,\n",
       " 0.5,\n",
       " 0.7,\n",
       " 0.6,\n",
       " 0.5,\n",
       " 0.5,\n",
       " 0.5,\n",
       " 0.5,\n",
       " 0.5,\n",
       " 0.4,\n",
       " 0.3,\n",
       " 0.5,\n",
       " 0.4,\n",
       " 0.6,\n",
       " 0.6,\n",
       " 0.6,\n",
       " 0.8,\n",
       " 0.9,\n",
       " 0.4,\n",
       " 0.5,\n",
       " 0.5,\n",
       " 0.4,\n",
       " 0.5,\n",
       " 0.3,\n",
       " 0.7,\n",
       " 0.7,\n",
       " 0.6,\n",
       " 0.7,\n",
       " 0.7,\n",
       " 0.7,\n",
       " 0.2,\n",
       " 0.5,\n",
       " 0.6,\n",
       " 0.2,\n",
       " 0.6,\n",
       " 0.8,\n",
       " 0.5,\n",
       " 0.6,\n",
       " 0.7,\n",
       " 0.7,\n",
       " 0.7,\n",
       " 0.5,\n",
       " 0.8,\n",
       " 0.8,\n",
       " 0.7,\n",
       " 0.5,\n",
       " 0.6,\n",
       " 0.4,\n",
       " 0.3,\n",
       " 0.5,\n",
       " 0.6,\n",
       " 0.7,\n",
       " 0.4,\n",
       " 0.5,\n",
       " 0.2,\n",
       " 0.3,\n",
       " 0.5,\n",
       " 0.6,\n",
       " 0.4,\n",
       " 0.2,\n",
       " 0.5,\n",
       " 0.4,\n",
       " 0.4,\n",
       " 0.5,\n",
       " 0.3,\n",
       " 0.5,\n",
       " 0.7,\n",
       " 0.5,\n",
       " 0.5,\n",
       " 0.3,\n",
       " 0.3,\n",
       " 0.5,\n",
       " 0.6,\n",
       " 0.7,\n",
       " 0.3,\n",
       " 0.6,\n",
       " 0.7,\n",
       " 0.3,\n",
       " 0.6,\n",
       " 0.3,\n",
       " 0.1,\n",
       " 0.7,\n",
       " 0.4,\n",
       " 0.5,\n",
       " 0.2,\n",
       " 0.5,\n",
       " 0.6,\n",
       " 0.5,\n",
       " 0.5,\n",
       " 0.4,\n",
       " 0.4,\n",
       " 0.4,\n",
       " 0.4,\n",
       " 0.4,\n",
       " 0.5,\n",
       " 0.5,\n",
       " 0.4,\n",
       " 0.2,\n",
       " 0.5,\n",
       " 0.5,\n",
       " 0.4,\n",
       " 0.5,\n",
       " 0.6,\n",
       " 0.5,\n",
       " 0.5,\n",
       " 0.4,\n",
       " 0.4,\n",
       " 0.6,\n",
       " 0.4,\n",
       " 0.5,\n",
       " 0.5,\n",
       " 0.3,\n",
       " 0.4,\n",
       " 0.3,\n",
       " 0.3,\n",
       " 0.8,\n",
       " 0.8,\n",
       " 0.6,\n",
       " 0.6,\n",
       " 0.6,\n",
       " 0.3,\n",
       " 0.4,\n",
       " 0.7,\n",
       " 0.5,\n",
       " 0.5,\n",
       " 0.3,\n",
       " 0.6,\n",
       " 0.3,\n",
       " 0.2,\n",
       " 0.3,\n",
       " 0.3,\n",
       " 0.5,\n",
       " 0.8,\n",
       " 0.2,\n",
       " 0.4,\n",
       " 0.8,\n",
       " 0.6,\n",
       " 0.5,\n",
       " 0.4,\n",
       " 0.6,\n",
       " 0.5,\n",
       " 0.7,\n",
       " 0.4,\n",
       " 0.5,\n",
       " 0.7,\n",
       " 0.2,\n",
       " 0.4,\n",
       " 0.4,\n",
       " 0.3,\n",
       " 0.6,\n",
       " 0.5,\n",
       " 0.4,\n",
       " 0.5,\n",
       " 0.5,\n",
       " 0.5,\n",
       " 0.5,\n",
       " 0.4,\n",
       " 0.3,\n",
       " 0.5,\n",
       " 0.3,\n",
       " 0.7,\n",
       " 0.4,\n",
       " 0.7,\n",
       " 0.6,\n",
       " 0.6,\n",
       " 0.3,\n",
       " 0.6,\n",
       " 0.4,\n",
       " 0.6,\n",
       " 0.2,\n",
       " 0.4,\n",
       " 0.6,\n",
       " 0.5,\n",
       " 0.6,\n",
       " 0.5,\n",
       " 0.5,\n",
       " 0.6,\n",
       " 0.7,\n",
       " 0.5,\n",
       " 0.7,\n",
       " 0.5,\n",
       " 0.5,\n",
       " 0.5,\n",
       " 0.6,\n",
       " 0.1,\n",
       " 0.8,\n",
       " 0.3,\n",
       " 0.4,\n",
       " 0.6,\n",
       " 0.7,\n",
       " 0.4,\n",
       " 0.5,\n",
       " 0.3,\n",
       " 0.6,\n",
       " 0.5,\n",
       " 0.5,\n",
       " 0.2,\n",
       " 0.4,\n",
       " 0.5,\n",
       " 0.7,\n",
       " 0.5,\n",
       " 0.4,\n",
       " 0.8,\n",
       " 0.6,\n",
       " 0.5,\n",
       " 0.7,\n",
       " 0.4,\n",
       " 0.6,\n",
       " 0.6,\n",
       " 0.7,\n",
       " 0.5,\n",
       " 0.4,\n",
       " 0.3,\n",
       " 0.5,\n",
       " 0.6,\n",
       " 0.4,\n",
       " 0.4,\n",
       " 0.5,\n",
       " 0.5,\n",
       " 0.5,\n",
       " 0.4,\n",
       " 0.3,\n",
       " 0.5,\n",
       " 0.5,\n",
       " 0.4,\n",
       " 0.3,\n",
       " 0.4,\n",
       " 0.3,\n",
       " 0.5,\n",
       " 0.5,\n",
       " 0.4,\n",
       " 0.5,\n",
       " 0.6,\n",
       " 0.5,\n",
       " 0.5,\n",
       " 0.2,\n",
       " 0.5,\n",
       " 0.6,\n",
       " 0.5,\n",
       " 0.6,\n",
       " 0.8,\n",
       " 0.4,\n",
       " 0.5,\n",
       " 0.2,\n",
       " 0.5,\n",
       " 0.7,\n",
       " 0.4,\n",
       " 0.7,\n",
       " 0.8,\n",
       " 0.6,\n",
       " 0.6,\n",
       " 0.6,\n",
       " 0.7,\n",
       " 0.4,\n",
       " 0.3,\n",
       " 0.4,\n",
       " 0.4,\n",
       " 0.5,\n",
       " 1.0,\n",
       " 0.5,\n",
       " 0.4,\n",
       " 0.5,\n",
       " 0.5,\n",
       " 0.4,\n",
       " 0.6,\n",
       " 0.2,\n",
       " 0.5,\n",
       " 0.8,\n",
       " 0.4,\n",
       " 0.7,\n",
       " 0.8,\n",
       " 0.8,\n",
       " 0.3,\n",
       " 0.3,\n",
       " 0.9,\n",
       " 0.6,\n",
       " 0.5,\n",
       " 0.6,\n",
       " 0.4,\n",
       " 0.4,\n",
       " 0.3,\n",
       " 0.5,\n",
       " 0.4,\n",
       " 0.5,\n",
       " 0.5,\n",
       " 0.5,\n",
       " 0.6,\n",
       " 0.3,\n",
       " 0.3,\n",
       " 0.6,\n",
       " 0.6,\n",
       " 0.7,\n",
       " 0.8,\n",
       " 0.7,\n",
       " 0.6,\n",
       " 0.7,\n",
       " 0.5,\n",
       " 0.7,\n",
       " 0.5,\n",
       " 0.7,\n",
       " 0.3,\n",
       " 0.6,\n",
       " 0.7,\n",
       " 0.4,\n",
       " 0.2,\n",
       " 0.4,\n",
       " 0.5,\n",
       " 0.5,\n",
       " 0.6,\n",
       " 0.5,\n",
       " 0.5,\n",
       " 0.7,\n",
       " 0.6,\n",
       " 0.5,\n",
       " 0.6,\n",
       " 0.6,\n",
       " 0.5,\n",
       " 0.7,\n",
       " 0.6,\n",
       " 0.5,\n",
       " 0.3,\n",
       " 0.4,\n",
       " 0.6,\n",
       " 0.4,\n",
       " 0.1,\n",
       " 0.6,\n",
       " 0.9,\n",
       " 0.5,\n",
       " 0.4,\n",
       " 0.5,\n",
       " 0.4,\n",
       " 0.5,\n",
       " 0.5,\n",
       " 0.3,\n",
       " 0.6,\n",
       " 0.5,\n",
       " 0.4,\n",
       " 0.4,\n",
       " 0.2,\n",
       " 0.4,\n",
       " 0.6,\n",
       " 0.4,\n",
       " 0.4,\n",
       " 0.3,\n",
       " 0.7,\n",
       " 0.4,\n",
       " 0.5,\n",
       " 0.6,\n",
       " 0.7,\n",
       " 0.5,\n",
       " 0.6,\n",
       " 0.7,\n",
       " 0.6,\n",
       " 0.5,\n",
       " 0.6,\n",
       " 0.6,\n",
       " 0.6,\n",
       " 0.4,\n",
       " 0.7,\n",
       " 0.5,\n",
       " 0.4,\n",
       " 0.4,\n",
       " 0.5,\n",
       " 0.4,\n",
       " 0.6,\n",
       " 0.3,\n",
       " 0.5,\n",
       " 0.3,\n",
       " 0.7,\n",
       " 0.5,\n",
       " 0.4,\n",
       " 0.3,\n",
       " 0.6,\n",
       " 0.3,\n",
       " 0.6,\n",
       " 0.6,\n",
       " 0.4,\n",
       " 0.7,\n",
       " 0.4,\n",
       " 0.4,\n",
       " 0.6,\n",
       " 0.4,\n",
       " 0.2,\n",
       " 0.4,\n",
       " 0.5,\n",
       " 0.7,\n",
       " 0.6,\n",
       " 0.4,\n",
       " 0.6,\n",
       " 0.5,\n",
       " 0.3,\n",
       " 0.6,\n",
       " 0.5,\n",
       " 0.5,\n",
       " 0.6,\n",
       " 0.5,\n",
       " 0.5,\n",
       " 0.3,\n",
       " 0.7,\n",
       " 0.6,\n",
       " 0.5,\n",
       " 0.3,\n",
       " 0.4,\n",
       " 0.4,\n",
       " 0.5,\n",
       " 0.7,\n",
       " 0.3,\n",
       " 0.7,\n",
       " 0.4,\n",
       " 0.5,\n",
       " 0.5,\n",
       " 0.5,\n",
       " 0.5,\n",
       " 0.6,\n",
       " 0.6,\n",
       " 0.6,\n",
       " 0.5,\n",
       " 0.4,\n",
       " 0.6,\n",
       " 0.6,\n",
       " 0.2,\n",
       " 0.8,\n",
       " 0.3,\n",
       " 0.7,\n",
       " 0.6,\n",
       " 0.3,\n",
       " 0.4,\n",
       " 0.5,\n",
       " 0.7,\n",
       " 0.7,\n",
       " 0.4,\n",
       " 0.5,\n",
       " 0.7,\n",
       " 0.7,\n",
       " 0.6,\n",
       " 0.6,\n",
       " 0.3,\n",
       " 0.5,\n",
       " 0.6,\n",
       " 0.7,\n",
       " 0.9,\n",
       " 0.4,\n",
       " 0.5,\n",
       " 0.6,\n",
       " 0.7,\n",
       " 0.3,\n",
       " 0.2,\n",
       " 0.6,\n",
       " 0.4,\n",
       " 0.5,\n",
       " 0.7,\n",
       " 0.4,\n",
       " 0.4,\n",
       " 0.4,\n",
       " 0.5,\n",
       " 0.4,\n",
       " 0.5,\n",
       " 0.3,\n",
       " 0.5,\n",
       " 0.6,\n",
       " 0.5,\n",
       " 0.3,\n",
       " 0.6,\n",
       " 0.4,\n",
       " 0.8,\n",
       " 0.4,\n",
       " 0.4,\n",
       " 0.5,\n",
       " 0.8,\n",
       " 0.5,\n",
       " 0.5,\n",
       " 0.6,\n",
       " 0.5,\n",
       " 0.4,\n",
       " 0.3,\n",
       " 0.7,\n",
       " 0.4,\n",
       " 0.3,\n",
       " 0.4,\n",
       " 0.4,\n",
       " 0.5,\n",
       " 0.3,\n",
       " 0.4,\n",
       " 0.5,\n",
       " 0.3,\n",
       " 0.4,\n",
       " 0.4,\n",
       " 0.3,\n",
       " 0.2,\n",
       " 0.3,\n",
       " 0.5,\n",
       " 0.4,\n",
       " 0.8,\n",
       " 0.6,\n",
       " 0.7,\n",
       " 0.5,\n",
       " 0.5,\n",
       " 0.6,\n",
       " 0.3,\n",
       " 0.5,\n",
       " 0.5,\n",
       " 0.4,\n",
       " 0.8,\n",
       " 0.4,\n",
       " 0.4,\n",
       " 0.5,\n",
       " 0.7,\n",
       " 0.5,\n",
       " 0.4,\n",
       " 0.3,\n",
       " 0.6,\n",
       " 0.4,\n",
       " 0.4,\n",
       " 0.3,\n",
       " 0.4,\n",
       " 0.5,\n",
       " 0.4,\n",
       " 0.8,\n",
       " 0.4,\n",
       " 0.4,\n",
       " 0.6,\n",
       " 0.5,\n",
       " 0.4,\n",
       " 0.4,\n",
       " 0.5,\n",
       " 0.5,\n",
       " 0.7,\n",
       " 0.5,\n",
       " 0.5,\n",
       " 0.3,\n",
       " 0.3,\n",
       " 0.3,\n",
       " 0.3,\n",
       " 0.6,\n",
       " 0.6,\n",
       " 0.5,\n",
       " 0.5,\n",
       " 0.6,\n",
       " 0.3,\n",
       " 0.7,\n",
       " 0.6,\n",
       " 0.7,\n",
       " 0.5,\n",
       " 0.4,\n",
       " 0.6,\n",
       " 0.3,\n",
       " 0.5,\n",
       " 0.4,\n",
       " 0.5,\n",
       " 0.6,\n",
       " 0.6,\n",
       " 0.5,\n",
       " 0.5,\n",
       " 0.6,\n",
       " 0.5,\n",
       " 0.3,\n",
       " 0.6,\n",
       " 0.4,\n",
       " 0.5,\n",
       " 0.9,\n",
       " 0.3,\n",
       " 0.4,\n",
       " 0.7,\n",
       " 0.5,\n",
       " 0.8,\n",
       " 0.6,\n",
       " 0.3,\n",
       " 0.5,\n",
       " 0.3,\n",
       " 0.4,\n",
       " 0.6,\n",
       " 0.3,\n",
       " 0.3,\n",
       " 0.5,\n",
       " 0.2,\n",
       " 0.4,\n",
       " 0.8,\n",
       " 0.5,\n",
       " 0.5,\n",
       " 0.3,\n",
       " 0.4,\n",
       " 0.5,\n",
       " 0.5,\n",
       " 0.7,\n",
       " 0.5,\n",
       " 0.6,\n",
       " 0.3,\n",
       " 0.3,\n",
       " 0.5,\n",
       " 0.3,\n",
       " 0.4,\n",
       " 0.6,\n",
       " 0.5,\n",
       " 0.6,\n",
       " 0.5,\n",
       " 0.7,\n",
       " 0.7,\n",
       " 0.6,\n",
       " 0.3,\n",
       " 0.6,\n",
       " 0.5,\n",
       " 0.6,\n",
       " 0.5,\n",
       " 0.3,\n",
       " 0.4,\n",
       " 0.4,\n",
       " 0.8,\n",
       " 0.8,\n",
       " 0.9,\n",
       " 0.5,\n",
       " 0.5,\n",
       " 0.5,\n",
       " 0.5,\n",
       " 0.3,\n",
       " 0.4,\n",
       " 0.5,\n",
       " 0.6,\n",
       " 0.9,\n",
       " 0.5,\n",
       " 0.4,\n",
       " 0.4,\n",
       " 0.4,\n",
       " 0.4,\n",
       " 0.7,\n",
       " 0.5,\n",
       " 0.4,\n",
       " 0.6,\n",
       " 0.5,\n",
       " 0.4,\n",
       " 0.5,\n",
       " 0.3,\n",
       " 0.5,\n",
       " 0.6,\n",
       " 0.6,\n",
       " 0.3,\n",
       " 0.7,\n",
       " 0.3,\n",
       " 0.5,\n",
       " 0.6,\n",
       " 0.6,\n",
       " 0.7,\n",
       " 0.7,\n",
       " 0.3,\n",
       " 0.6,\n",
       " 0.3,\n",
       " 0.5,\n",
       " 0.4,\n",
       " 0.6,\n",
       " 0.4,\n",
       " 0.6,\n",
       " 0.3,\n",
       " 0.5,\n",
       " 0.5,\n",
       " 0.7,\n",
       " 0.5,\n",
       " 0.4,\n",
       " 0.6,\n",
       " 0.5,\n",
       " 0.4,\n",
       " 0.3,\n",
       " 0.7,\n",
       " 0.3,\n",
       " 0.6,\n",
       " 0.3,\n",
       " 0.6,\n",
       " 0.3,\n",
       " 0.7,\n",
       " 0.2,\n",
       " 0.6,\n",
       " 0.6,\n",
       " 0.6,\n",
       " 0.4,\n",
       " 0.5,\n",
       " 0.9,\n",
       " 0.4,\n",
       " 0.8,\n",
       " 0.4,\n",
       " 0.5,\n",
       " 0.3,\n",
       " 0.5,\n",
       " 0.4,\n",
       " 0.4,\n",
       " 0.6,\n",
       " 0.4,\n",
       " 0.8,\n",
       " 0.3,\n",
       " 0.5,\n",
       " 0.3,\n",
       " 0.4,\n",
       " 0.5,\n",
       " 0.4,\n",
       " 0.3,\n",
       " 0.6,\n",
       " 0.7,\n",
       " 0.2,\n",
       " 0.4,\n",
       " 0.7,\n",
       " 0.6,\n",
       " 0.5,\n",
       " 0.2,\n",
       " 0.7,\n",
       " 0.5,\n",
       " 0.6,\n",
       " 0.3,\n",
       " 0.5,\n",
       " 0.2,\n",
       " 0.4,\n",
       " 0.7,\n",
       " 0.7,\n",
       " 0.5,\n",
       " 0.7,\n",
       " 0.6,\n",
       " 0.5,\n",
       " 0.7,\n",
       " 0.3,\n",
       " 0.4,\n",
       " 0.4,\n",
       " 0.7,\n",
       " 0.5,\n",
       " 0.2,\n",
       " 0.5,\n",
       " 0.6,\n",
       " 0.4,\n",
       " 0.5,\n",
       " 0.6,\n",
       " 0.2,\n",
       " 0.6,\n",
       " 0.5,\n",
       " 0.3,\n",
       " 0.5,\n",
       " 0.4,\n",
       " 0.2,\n",
       " 0.2,\n",
       " 0.4,\n",
       " 0.5,\n",
       " 0.2,\n",
       " 0.4,\n",
       " 0.4,\n",
       " 0.1,\n",
       " 0.6,\n",
       " 0.5,\n",
       " 0.6,\n",
       " 0.5,\n",
       " 0.6,\n",
       " 0.2,\n",
       " 0.8,\n",
       " 0.3,\n",
       " 0.5,\n",
       " 0.4,\n",
       " 0.4,\n",
       " 0.3,\n",
       " 0.6,\n",
       " 0.8,\n",
       " 0.6,\n",
       " 0.4,\n",
       " 0.3,\n",
       " 0.6,\n",
       " 0.4,\n",
       " 0.8,\n",
       " 0.8,\n",
       " 0.7,\n",
       " 0.4,\n",
       " 0.5,\n",
       " 0.4,\n",
       " 0.5,\n",
       " 0.4,\n",
       " 0.3,\n",
       " 0.6,\n",
       " 0.5,\n",
       " 0.7,\n",
       " 0.5,\n",
       " 0.4,\n",
       " 0.6,\n",
       " 0.5,\n",
       " 0.6,\n",
       " 0.5,\n",
       " 0.6,\n",
       " 0.3,\n",
       " 0.4,\n",
       " 0.5,\n",
       " 0.7,\n",
       " 0.5,\n",
       " 0.6,\n",
       " 0.5,\n",
       " 0.4,\n",
       " 0.7,\n",
       " 0.5,\n",
       " 0.5,\n",
       " 0.6,\n",
       " 0.5,\n",
       " 0.4,\n",
       " ...]"
      ]
     },
     "execution_count": 153,
     "metadata": {},
     "output_type": "execute_result"
    }
   ],
   "source": [
    "my_samples"
   ]
  },
  {
   "cell_type": "code",
   "execution_count": null,
   "metadata": {},
   "outputs": [],
   "source": []
  },
  {
   "cell_type": "markdown",
   "metadata": {},
   "source": [
    "### 22. Build a logistic regression model on the unbalanced class data and evaluate its performance using whatever method(s) you see fit. How would you describe the impact of unbalanced classes on logistic regression as a classifier?\n",
    "> Be sure to look at how well it performs on non-CKD data."
   ]
  },
  {
   "cell_type": "code",
   "execution_count": null,
   "metadata": {
    "collapsed": true
   },
   "outputs": [],
   "source": []
  },
  {
   "cell_type": "markdown",
   "metadata": {},
   "source": [
    "---\n",
    "\n",
    "## Step 6: Answer the problem.\n",
    "\n",
    "At this step, you would generally answer the problem! In this situation, you would likely present your model to doctors or administrators at the hospital and show how your model results in reduced false positives/false negatives. Next steps would be to find a way to roll this model and its conclusions out across the hospital so that the outcomes of patients with CKD (and without CKD!) can be improved!"
   ]
  }
 ],
 "metadata": {
  "kernelspec": {
   "display_name": "Python 3",
   "language": "python",
   "name": "python3"
  },
  "language_info": {
   "codemirror_mode": {
    "name": "ipython",
    "version": 3
   },
   "file_extension": ".py",
   "mimetype": "text/x-python",
   "name": "python",
   "nbconvert_exporter": "python",
   "pygments_lexer": "ipython3",
   "version": "3.8.8"
  }
 },
 "nbformat": 4,
 "nbformat_minor": 2
}
