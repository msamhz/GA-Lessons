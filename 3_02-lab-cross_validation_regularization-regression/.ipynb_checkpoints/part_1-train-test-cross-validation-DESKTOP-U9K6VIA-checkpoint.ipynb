{
 "cells": [
  {
   "cell_type": "markdown",
   "metadata": {},
   "source": [
    "<img src=\"http://imgur.com/1ZcRyrc.png\" style=\"float: left; margin: 20px; height: 55px\">\n",
    "\n",
    "# Train-Test Split and Cross-Validation Lab\n",
    "\n",
    "_Authors: Joseph Nelson (DC), Kiefer Katovich (SF)_\n",
    "\n",
    "---\n",
    "\n",
    "## Review of Train/Test Validation Methods\n",
    "\n",
    "We've discussed overfitting, underfitting, and how to validate the \"generalizeability\" of your models by testing them on unseen data. \n",
    "\n",
    "In this lab you'll practice two related validation methods: \n",
    "1. **train/test split**\n",
    "2. **k-fold cross-validation**\n",
    "\n",
    "Train/test split and k-fold cross-validation both serve two useful purposes:\n",
    "- We prevent overfitting by not using all the data, and\n",
    "- We retain some remaining data to evaluate our model.\n",
    "\n",
    "In the case of cross-validation, the model fitting and evaluation is performed multiple times on different train/test splits of the data.\n",
    "\n",
    "Ultimately we can use the training/test validation framework to compare multiple models on the same dataset. This could be comparisons of two linear models, or of completely different models on the same data.\n"
   ]
  },
  {
   "cell_type": "markdown",
   "metadata": {},
   "source": [
    "## Instructions\n",
    "\n",
    "For your independent practice, fit **three different models** on the Boston Housing Data. For example, you could pick three different subsets of variables, one or more polynomial models, or any other model that you like. \n",
    "\n",
    "**Start with train/test split validation:**\n",
    "* Fix a testing/training split of the data.\n",
    "* Train each of your models on the training data.\n",
    "* Evaluate each of the models on the testing data.\n",
    "* Rank the models by how well they score on the testing data set.\n",
    "\n",
    "**Then try k-fold cross-validation:**\n",
    "* Perform a k-fold cross-validation and use the cross-validation scores to compare your models. Did this change your rankings?\n",
    "* Try a few different k-splits of the data for the same models.\n",
    "\n",
    "If you're interested, try a variety of response variables. We start with **MEDV** (the `.target` attribute from the data set load method)."
   ]
  },
  {
   "cell_type": "code",
   "execution_count": 1,
   "metadata": {},
   "outputs": [
    {
     "name": "stderr",
     "output_type": "stream",
     "text": [
      "C:\\Users\\Admin\\AppData\\Local\\Programs\\Python\\Python39\\lib\\site-packages\\sklearn\\utils\\deprecation.py:87: FutureWarning: Function load_boston is deprecated; `load_boston` is deprecated in 1.0 and will be removed in 1.2.\n",
      "\n",
      "    The Boston housing prices dataset has an ethical problem. You can refer to\n",
      "    the documentation of this function for further details.\n",
      "\n",
      "    The scikit-learn maintainers therefore strongly discourage the use of this\n",
      "    dataset unless the purpose of the code is to study and educate about\n",
      "    ethical issues in data science and machine learning.\n",
      "\n",
      "    In this special case, you can fetch the dataset from the original\n",
      "    source::\n",
      "\n",
      "        import pandas as pd\n",
      "        import numpy as np\n",
      "\n",
      "\n",
      "        data_url = \"http://lib.stat.cmu.edu/datasets/boston\"\n",
      "        raw_df = pd.read_csv(data_url, sep=\"\\s+\", skiprows=22, header=None)\n",
      "        data = np.hstack([raw_df.values[::2, :], raw_df.values[1::2, :2]])\n",
      "        target = raw_df.values[1::2, 2]\n",
      "\n",
      "    Alternative datasets include the California housing dataset (i.e.\n",
      "    :func:`~sklearn.datasets.fetch_california_housing`) and the Ames housing\n",
      "    dataset. You can load the datasets as follows::\n",
      "\n",
      "        from sklearn.datasets import fetch_california_housing\n",
      "        housing = fetch_california_housing()\n",
      "\n",
      "    for the California housing dataset and::\n",
      "\n",
      "        from sklearn.datasets import fetch_openml\n",
      "        housing = fetch_openml(name=\"house_prices\", as_frame=True)\n",
      "\n",
      "    for the Ames housing dataset.\n",
      "    \n",
      "  warnings.warn(msg, category=FutureWarning)\n"
     ]
    }
   ],
   "source": [
    "from matplotlib import pyplot as plt\n",
    "\n",
    "import numpy as np\n",
    "import pandas as pd\n",
    "from scipy import stats\n",
    "import seaborn as sns\n",
    "\n",
    "from sklearn.linear_model import LinearRegression\n",
    "from sklearn.model_selection import train_test_split, cross_val_score\n",
    "from sklearn.metrics import mean_squared_error\n",
    "from sklearn.linear_model import LinearRegression\n",
    "from sklearn import metrics\n",
    "from sklearn.linear_model import Lasso, LassoCV\n",
    "\n",
    "from sklearn.preprocessing import (\n",
    "    StandardScaler,\n",
    "    PolynomialFeatures\n",
    ")\n",
    "%config InlineBackend.figure_format = 'retina'\n",
    "%matplotlib inline\n",
    "\n",
    "plt.style.use('fivethirtyeight')\n",
    "\n",
    "from sklearn.datasets import load_boston\n",
    "boston = load_boston()\n",
    "\n",
    "X = pd.DataFrame(boston.data, columns=boston.feature_names)\n",
    "y = boston.target\n"
   ]
  },
  {
   "cell_type": "markdown",
   "metadata": {},
   "source": [
    "### 1) Clean up any data problems.\n",
    "\n",
    "Fix any problems with the data, if applicable."
   ]
  },
  {
   "cell_type": "code",
   "execution_count": 2,
   "metadata": {
    "scrolled": true
   },
   "outputs": [
    {
     "name": "stdout",
     "output_type": "stream",
     "text": [
      "<class 'pandas.core.frame.DataFrame'>\n",
      "RangeIndex: 506 entries, 0 to 505\n",
      "Data columns (total 13 columns):\n",
      " #   Column   Non-Null Count  Dtype  \n",
      "---  ------   --------------  -----  \n",
      " 0   CRIM     506 non-null    float64\n",
      " 1   ZN       506 non-null    float64\n",
      " 2   INDUS    506 non-null    float64\n",
      " 3   CHAS     506 non-null    float64\n",
      " 4   NOX      506 non-null    float64\n",
      " 5   RM       506 non-null    float64\n",
      " 6   AGE      506 non-null    float64\n",
      " 7   DIS      506 non-null    float64\n",
      " 8   RAD      506 non-null    float64\n",
      " 9   TAX      506 non-null    float64\n",
      " 10  PTRATIO  506 non-null    float64\n",
      " 11  B        506 non-null    float64\n",
      " 12  LSTAT    506 non-null    float64\n",
      "dtypes: float64(13)\n",
      "memory usage: 51.5 KB\n"
     ]
    }
   ],
   "source": [
    "# A:\n",
    "\n",
    "X.info()"
   ]
  },
  {
   "cell_type": "code",
   "execution_count": 3,
   "metadata": {},
   "outputs": [
    {
     "data": {
      "text/plain": [
       "CRIM       0\n",
       "ZN         0\n",
       "INDUS      0\n",
       "CHAS       0\n",
       "NOX        0\n",
       "RM         0\n",
       "AGE        0\n",
       "DIS        0\n",
       "RAD        0\n",
       "TAX        0\n",
       "PTRATIO    0\n",
       "B          0\n",
       "LSTAT      0\n",
       "dtype: int64"
      ]
     },
     "execution_count": 3,
     "metadata": {},
     "output_type": "execute_result"
    }
   ],
   "source": [
    "X.isnull().sum()"
   ]
  },
  {
   "cell_type": "code",
   "execution_count": 4,
   "metadata": {},
   "outputs": [
    {
     "data": {
      "text/plain": [
       "\".. _boston_dataset:\\n\\nBoston house prices dataset\\n---------------------------\\n\\n**Data Set Characteristics:**  \\n\\n    :Number of Instances: 506 \\n\\n    :Number of Attributes: 13 numeric/categorical predictive. Median Value (attribute 14) is usually the target.\\n\\n    :Attribute Information (in order):\\n        - CRIM     per capita crime rate by town\\n        - ZN       proportion of residential land zoned for lots over 25,000 sq.ft.\\n        - INDUS    proportion of non-retail business acres per town\\n        - CHAS     Charles River dummy variable (= 1 if tract bounds river; 0 otherwise)\\n        - NOX      nitric oxides concentration (parts per 10 million)\\n        - RM       average number of rooms per dwelling\\n        - AGE      proportion of owner-occupied units built prior to 1940\\n        - DIS      weighted distances to five Boston employment centres\\n        - RAD      index of accessibility to radial highways\\n        - TAX      full-value property-tax rate per $10,000\\n        - PTRATIO  pupil-teacher ratio by town\\n        - B        1000(Bk - 0.63)^2 where Bk is the proportion of black people by town\\n        - LSTAT    % lower status of the population\\n        - MEDV     Median value of owner-occupied homes in $1000's\\n\\n    :Missing Attribute Values: None\\n\\n    :Creator: Harrison, D. and Rubinfeld, D.L.\\n\\nThis is a copy of UCI ML housing dataset.\\nhttps://archive.ics.uci.edu/ml/machine-learning-databases/housing/\\n\\n\\nThis dataset was taken from the StatLib library which is maintained at Carnegie Mellon University.\\n\\nThe Boston house-price data of Harrison, D. and Rubinfeld, D.L. 'Hedonic\\nprices and the demand for clean air', J. Environ. Economics & Management,\\nvol.5, 81-102, 1978.   Used in Belsley, Kuh & Welsch, 'Regression diagnostics\\n...', Wiley, 1980.   N.B. Various transformations are used in the table on\\npages 244-261 of the latter.\\n\\nThe Boston house-price data has been used in many machine learning papers that address regression\\nproblems.   \\n     \\n.. topic:: References\\n\\n   - Belsley, Kuh & Welsch, 'Regression diagnostics: Identifying Influential Data and Sources of Collinearity', Wiley, 1980. 244-261.\\n   - Quinlan,R. (1993). Combining Instance-Based and Model-Based Learning. In Proceedings on the Tenth International Conference of Machine Learning, 236-243, University of Massachusetts, Amherst. Morgan Kaufmann.\\n\""
      ]
     },
     "execution_count": 4,
     "metadata": {},
     "output_type": "execute_result"
    }
   ],
   "source": [
    "boston.DESCR\n"
   ]
  },
  {
   "cell_type": "code",
   "execution_count": 5,
   "metadata": {},
   "outputs": [
    {
     "data": {
      "text/plain": [
       "(506,)"
      ]
     },
     "execution_count": 5,
     "metadata": {},
     "output_type": "execute_result"
    }
   ],
   "source": [
    "y.shape"
   ]
  },
  {
   "cell_type": "code",
   "execution_count": 6,
   "metadata": {},
   "outputs": [
    {
     "data": {
      "text/plain": [
       "(506, 13)"
      ]
     },
     "execution_count": 6,
     "metadata": {},
     "output_type": "execute_result"
    }
   ],
   "source": [
    "X.shape"
   ]
  },
  {
   "cell_type": "markdown",
   "metadata": {},
   "source": [
    "### 2) Select 3–4 variables with your data set on which to perform a 50-50 train/test split.\n",
    "\n",
    "- Use scikit-learn.\n",
    "- Score and plot your predictions."
   ]
  },
  {
   "cell_type": "code",
   "execution_count": 7,
   "metadata": {},
   "outputs": [
    {
     "data": {
      "text/plain": [
       "LinearRegression()"
      ]
     },
     "execution_count": 7,
     "metadata": {},
     "output_type": "execute_result"
    }
   ],
   "source": [
    "X_train, X_test, y_train, y_test = train_test_split(X, y, test_size=0.5, random_state= np.random.seed(123))\n",
    "\n",
    "# instantiate lr\n",
    "\n",
    "lr = LinearRegression()\n",
    "\n",
    "# fit \n",
    "\n",
    "lr.fit(X,y)"
   ]
  },
  {
   "cell_type": "code",
   "execution_count": 8,
   "metadata": {},
   "outputs": [
    {
     "name": "stdout",
     "output_type": "stream",
     "text": [
      "Train score: 22.739011721654812\n",
      "Test score: 21.0506506418036\n",
      "Cross val score: 25.40687313632597\n"
     ]
    }
   ],
   "source": [
    "# test score \n",
    "print(f'Train score: {mean_squared_error(y_train,lr.predict(X_train))}')\n",
    "print(f'Test score: {mean_squared_error(y_test,lr.predict(X_test))}')\n",
    "\n",
    "# cross val score \n",
    "cross_score = -cross_val_score(lr, X_train, y_train, cv=5, scoring ='neg_mean_squared_error').mean()\n",
    "print(f'Cross val score: {cross_score}')"
   ]
  },
  {
   "cell_type": "code",
   "execution_count": 9,
   "metadata": {},
   "outputs": [
    {
     "data": {
      "text/plain": [
       "<AxesSubplot:>"
      ]
     },
     "execution_count": 9,
     "metadata": {},
     "output_type": "execute_result"
    },
    {
     "data": {
      "image/png": "[encoded data removed]",
      "text/plain": [
       "<Figure size 432x288 with 1 Axes>"
      ]
     },
     "metadata": {
      "image/png": {
       "height": 265,
       "width": 411
      }
     },
     "output_type": "display_data"
    }
   ],
   "source": [
    "sns.regplot(\n",
    "    x = lr.predict(X_train),\n",
    "    y = y_train,\n",
    "    ci = 10\n",
    ")"
   ]
  },
  {
   "cell_type": "code",
   "execution_count": 10,
   "metadata": {},
   "outputs": [
    {
     "data": {
      "text/plain": [
       "<AxesSubplot:>"
      ]
     },
     "execution_count": 10,
     "metadata": {},
     "output_type": "execute_result"
    },
    {
     "data": {
      "image/png": "[encoded data removed]",
      "text/plain": [
       "<Figure size 432x288 with 1 Axes>"
      ]
     },
     "metadata": {
      "image/png": {
       "height": 265,
       "width": 411
      }
     },
     "output_type": "display_data"
    }
   ],
   "source": [
    "sns.regplot(\n",
    "    x = lr.predict(X_test),\n",
    "    y = y_test,\n",
    "    ci = 10\n",
    ")"
   ]
  },
  {
   "cell_type": "markdown",
   "metadata": {},
   "source": [
    "### 3) Try 70-30 and 90-10.\n",
    "\n",
    "- Score and plot.  \n",
    "- How do your metrics change?"
   ]
  },
  {
   "cell_type": "code",
   "execution_count": 11,
   "metadata": {},
   "outputs": [
    {
     "data": {
      "text/plain": [
       "LinearRegression()"
      ]
     },
     "execution_count": 11,
     "metadata": {},
     "output_type": "execute_result"
    }
   ],
   "source": [
    "# A:\n",
    "X_train, X_test, y_train, y_test = train_test_split(X, y, test_size=0.3, random_state= np.random.seed(123))\n",
    "\n",
    "# instantiate lr\n",
    "\n",
    "lr = LinearRegression()\n",
    "\n",
    "# fit \n",
    "\n",
    "lr.fit(X,y)"
   ]
  },
  {
   "cell_type": "code",
   "execution_count": 12,
   "metadata": {},
   "outputs": [
    {
     "name": "stdout",
     "output_type": "stream",
     "text": [
      "Train score: 20.905944587772037\n"
     ]
    }
   ],
   "source": [
    "# train score \n",
    "print(f'Train score: {mean_squared_error(y_train,lr.predict(X_train))}')"
   ]
  },
  {
   "cell_type": "code",
   "execution_count": 13,
   "metadata": {},
   "outputs": [
    {
     "name": "stdout",
     "output_type": "stream",
     "text": [
      "Train score: 20.905944587772037\n",
      "Test score: 24.197896012392608\n",
      "Cross val score: 22.56337675317761\n"
     ]
    }
   ],
   "source": [
    "# test score \n",
    "print(f'Train score: {mean_squared_error(y_train,lr.predict(X_train))}')\n",
    "print(f'Test score: {mean_squared_error(y_test,lr.predict(X_test))}')\n",
    "\n",
    "# cross val score \n",
    "cross_score1 = -cross_val_score(lr, X_train, y_train, cv=5, scoring ='neg_mean_squared_error').mean()\n",
    "print(f'Cross val score: {cross_score1}')"
   ]
  },
  {
   "cell_type": "code",
   "execution_count": 14,
   "metadata": {},
   "outputs": [
    {
     "data": {
      "text/plain": [
       "-2.8434963831483593"
      ]
     },
     "execution_count": 14,
     "metadata": {},
     "output_type": "execute_result"
    }
   ],
   "source": [
    "# diff\n",
    "# train improved, test worsen, cross val improved \n",
    "\n",
    "cross_score1 - cross_score"
   ]
  },
  {
   "cell_type": "code",
   "execution_count": 15,
   "metadata": {},
   "outputs": [
    {
     "data": {
      "text/plain": [
       "LinearRegression()"
      ]
     },
     "execution_count": 15,
     "metadata": {},
     "output_type": "execute_result"
    }
   ],
   "source": [
    "# A:\n",
    "X_train, X_test, y_train, y_test = train_test_split(X, y, test_size=0.1, random_state= np.random.seed(123))\n",
    "\n",
    "# instantiate lr\n",
    "\n",
    "lr = LinearRegression()\n",
    "\n",
    "# fit \n",
    "\n",
    "lr.fit(X,y)"
   ]
  },
  {
   "cell_type": "code",
   "execution_count": 16,
   "metadata": {},
   "outputs": [
    {
     "name": "stdout",
     "output_type": "stream",
     "text": [
      "Train score: 20.143399089575126\n",
      "Test score: 37.520352788201876\n",
      "Cross val score: 21.69023408395226\n"
     ]
    }
   ],
   "source": [
    "# test score \n",
    "print(f'Train score: {mean_squared_error(y_train,lr.predict(X_train))}')\n",
    "print(f'Test score: {mean_squared_error(y_test,lr.predict(X_test))}')\n",
    "\n",
    "# cross val score \n",
    "cross_score2 = -cross_val_score(lr, X_train, y_train, cv=5, scoring ='neg_mean_squared_error').mean()\n",
    "print(f'Cross val score: {cross_score2}')\n"
   ]
  },
  {
   "cell_type": "code",
   "execution_count": 17,
   "metadata": {},
   "outputs": [
    {
     "data": {
      "text/plain": [
       "-0.8731426692253521"
      ]
     },
     "execution_count": 17,
     "metadata": {},
     "output_type": "execute_result"
    }
   ],
   "source": [
    "# diff \n",
    "\n",
    "cross_score2 - cross_score1"
   ]
  },
  {
   "cell_type": "markdown",
   "metadata": {},
   "source": [
    "### 4) Try k-folds cross-validation with k between 5–10 for your regression. \n",
    "\n",
    "- What seems optimal? \n",
    "\n",
    "-->> lr dont need to fit\n",
    "- How do your scores change?  \n",
    "\n",
    "-->> bigger the cv, the bigger the mean_squared_error of each iteration --> might have bigger overall mean squared error \n",
    "  \n",
    "- What is the variance of scores like?\n",
    "\n",
    "-> the bigger, the more varying away from the mean()\n",
    "\n",
    "- Try out different folds to get a sense of how this impacts your score."
   ]
  },
  {
   "cell_type": "code",
   "execution_count": 18,
   "metadata": {},
   "outputs": [
    {
     "name": "stdout",
     "output_type": "stream",
     "text": [
      "Train score: 20.953178270124173\n",
      "Test score: 25.624515262988364\n",
      "Cross val score: 22.587726194225564\n"
     ]
    }
   ],
   "source": [
    "# A:\n",
    "\n",
    "X_train, X_test, y_train, y_test = train_test_split(X, y, test_size=0.2, random_state= np.random.seed(123))\n",
    "\n",
    "# instantiate lr\n",
    "\n",
    "lr = LinearRegression()\n",
    "\n",
    "# fit \n",
    "\n",
    "lr.fit(X,y)\n",
    "\n",
    "# test score \n",
    "print(f'Train score: {mean_squared_error(y_train,lr.predict(X_train))}')\n",
    "print(f'Test score: {mean_squared_error(y_test,lr.predict(X_test))}')\n",
    "\n",
    "# cross val score \n",
    "cross_score2 = -cross_val_score(lr, X_train, y_train, cv=5, scoring ='neg_mean_squared_error').mean()\n",
    "print(f'Cross val score: {cross_score2}')"
   ]
  },
  {
   "cell_type": "code",
   "execution_count": 19,
   "metadata": {},
   "outputs": [
    {
     "name": "stdout",
     "output_type": "stream",
     "text": [
      "Cross val score mean: 22.587726194225564\n",
      "Cross val score stdev: -5.186779901250083\n"
     ]
    },
    {
     "data": {
      "text/plain": [
       "array([25.53572946, 14.05221859, 26.30848797, 19.19782421, 27.84437073])"
      ]
     },
     "execution_count": 19,
     "metadata": {},
     "output_type": "execute_result"
    }
   ],
   "source": [
    "# cross val score \n",
    "cross_score3 = -cross_val_score(lr, X_train, y_train, cv=5, scoring ='neg_mean_squared_error').mean()\n",
    "print(f'Cross val score mean: {cross_score3}')\n",
    "cross_score4 = -cross_val_score(lr, X_train, y_train, cv=5, scoring ='neg_mean_squared_error').std()\n",
    "print(f'Cross val score stdev: {cross_score4}')\n",
    "\n",
    "-cross_val_score(lr, X_train, y_train, cv=5, scoring ='neg_mean_squared_error')"
   ]
  },
  {
   "cell_type": "markdown",
   "metadata": {},
   "source": [
    "### 5) [Bonus] Optimize the $R^2$ score.\n",
    "\n",
    "Can you optimize your R^2 by selecting the best features and validating the model using either train/test split or k-folds?\n",
    "\n",
    "Your code will need to iterate through the different combinations of predictors, cross-validate the current model parameterization, and determine which set of features performed best.\n",
    "\n",
    "The number of k-folds is up to you.\n",
    "\n",
    "> *Hint:* The `itertools` package is useful for combinations and permutations."
   ]
  },
  {
   "cell_type": "code",
   "execution_count": 20,
   "metadata": {},
   "outputs": [],
   "source": [
    "import itertools"
   ]
  },
  {
   "cell_type": "code",
   "execution_count": 21,
   "metadata": {},
   "outputs": [],
   "source": [
    "X = pd.DataFrame(boston.data, columns=boston.feature_names)\n",
    "y = boston.target"
   ]
  },
  {
   "cell_type": "code",
   "execution_count": 23,
   "metadata": {},
   "outputs": [],
   "source": [
    "def cat_onehot_multicolumns(multicolumns):\n",
    "    # instantiate final df \n",
    "    df_final = df\n",
    "    \n",
    "    #increment by one for every field, used to differentiate between first iteration vs the rest\n",
    "    i = 0\n",
    "    \n",
    "    for field in multicolumns:\n",
    "        \n",
    "        print(field)\n",
    "        # assign df1 as temp df -->> and dummify it, drop first column too \n",
    "        df1 = pd.get_dummies(df[field], drop_first = True, prefix = field)\n",
    "        # drop original column \n",
    "        df.drop([field], axis = 1, inplace = True)\n",
    "        \n",
    "        # if first iter, assign df final to copied of df1\n",
    "        if i == 0:\n",
    "            df_final = df1.copy()\n",
    "        # not first iter, concat with df_final to stack with dummified df1\n",
    "        else:\n",
    "             df_final = pd.concat([df_final, df1], axis = 1)   \n",
    "        \n",
    "        i += 1\n",
    "        \n",
    "    df_final = pd.concat([df, df_final], axis = 1)\n",
    "    \n",
    "    return df_final"
   ]
  },
  {
   "cell_type": "code",
   "execution_count": 24,
   "metadata": {
    "scrolled": true
   },
   "outputs": [],
   "source": [
    "df = X.copy()"
   ]
  },
  {
   "cell_type": "code",
   "execution_count": 25,
   "metadata": {
    "scrolled": true
   },
   "outputs": [
    {
     "name": "stdout",
     "output_type": "stream",
     "text": [
      "CHAS\n",
      "RAD\n"
     ]
    }
   ],
   "source": [
    "# categorise the two columns \n",
    "columns = ['CHAS', 'RAD']\n",
    "final_df = cat_onehot_multicolumns(columns)"
   ]
  },
  {
   "cell_type": "code",
   "execution_count": 26,
   "metadata": {
    "scrolled": true
   },
   "outputs": [
    {
     "data": {
      "text/plain": [
       "Index(['CRIM', 'ZN', 'INDUS', 'NOX', 'RM', 'AGE', 'DIS', 'TAX', 'PTRATIO', 'B',\n",
       "       'LSTAT', 'CHAS_1.0', 'RAD_2.0', 'RAD_3.0', 'RAD_4.0', 'RAD_5.0',\n",
       "       'RAD_6.0', 'RAD_7.0', 'RAD_8.0', 'RAD_24.0'],\n",
       "      dtype='object')"
      ]
     },
     "execution_count": 26,
     "metadata": {},
     "output_type": "execute_result"
    }
   ],
   "source": [
    "final_df.columns"
   ]
  },
  {
   "cell_type": "code",
   "execution_count": 27,
   "metadata": {},
   "outputs": [],
   "source": [
    "# creating pairplot \n",
    "\n",
    "df_target = pd.DataFrame(y)\n",
    "df_target.rename(columns = {0: \"Target_price\"}, inplace = True)\n",
    "# concat \n",
    "\n",
    "final_df = pd.concat([X,df_target], axis = 1)"
   ]
  },
  {
   "cell_type": "code",
   "execution_count": 28,
   "metadata": {
    "scrolled": true
   },
   "outputs": [
    {
     "data": {
      "text/plain": [
       "Index(['CRIM', 'ZN', 'INDUS', 'CHAS', 'NOX', 'RM', 'AGE', 'DIS', 'RAD', 'TAX',\n",
       "       'PTRATIO', 'B', 'LSTAT', 'Target_price'],\n",
       "      dtype='object')"
      ]
     },
     "execution_count": 28,
     "metadata": {},
     "output_type": "execute_result"
    }
   ],
   "source": [
    "final_df.columns"
   ]
  },
  {
   "cell_type": "markdown",
   "metadata": {},
   "source": [
    "### Applying regression"
   ]
  },
  {
   "cell_type": "code",
   "execution_count": 112,
   "metadata": {},
   "outputs": [],
   "source": [
    "from itertools import combinations\n",
    "from itertools import permutations"
   ]
  },
  {
   "cell_type": "code",
   "execution_count": 113,
   "metadata": {},
   "outputs": [],
   "source": [
    "X = final_df.drop(columns = 'Target_price')\n",
    "y = boston.target"
   ]
  },
  {
   "cell_type": "code",
   "execution_count": 114,
   "metadata": {},
   "outputs": [],
   "source": [
    "# train and split \n",
    "\n",
    "X_train, X_test, y_train, y_test = train_test_split(X, y, test_size=0.3, random_state = np.random.seed(123))"
   ]
  },
  {
   "cell_type": "code",
   "execution_count": 115,
   "metadata": {},
   "outputs": [],
   "source": [
    "col_list = [val for val in X.columns]"
   ]
  },
  {
   "cell_type": "code",
   "execution_count": 116,
   "metadata": {
    "scrolled": true
   },
   "outputs": [
    {
     "data": {
      "text/plain": [
       "['CRIM',\n",
       " 'ZN',\n",
       " 'INDUS',\n",
       " 'CHAS',\n",
       " 'NOX',\n",
       " 'RM',\n",
       " 'AGE',\n",
       " 'DIS',\n",
       " 'RAD',\n",
       " 'TAX',\n",
       " 'PTRATIO',\n",
       " 'B',\n",
       " 'LSTAT']"
      ]
     },
     "execution_count": 116,
     "metadata": {},
     "output_type": "execute_result"
    }
   ],
   "source": [
    "col_list"
   ]
  },
  {
   "cell_type": "code",
   "execution_count": 88,
   "metadata": {
    "scrolled": true
   },
   "outputs": [
    {
     "data": {
      "text/plain": [
       "13"
      ]
     },
     "execution_count": 88,
     "metadata": {},
     "output_type": "execute_result"
    }
   ],
   "source": [
    "len(X.columns)"
   ]
  },
  {
   "cell_type": "code",
   "execution_count": 89,
   "metadata": {},
   "outputs": [],
   "source": [
    "def input_columns_iter(df,col):\n",
    "    X = final_df[col]\n",
    "    y = final_df['Target_price']\n",
    "    X_train, X_test, y_train, y_test = train_test_split(X, y, test_size=0.2, random_state= np.random.seed(123))\n",
    "    # instantiate lr\n",
    "    lr = LinearRegression()\n",
    "    cross_score = -cross_val_score(lr, X_train, y_train, cv=5, scoring ='neg_mean_squared_error').mean()\n",
    "\n",
    "    return cross_score"
   ]
  },
  {
   "cell_type": "code",
   "execution_count": 90,
   "metadata": {},
   "outputs": [
    {
     "data": {
      "text/plain": [
       "67.88061845903628"
      ]
     },
     "execution_count": 90,
     "metadata": {},
     "output_type": "execute_result"
    }
   ],
   "source": [
    "input_columns_iter(final_df,['CRIM', 'ZN'])"
   ]
  },
  {
   "cell_type": "code",
   "execution_count": 91,
   "metadata": {
    "scrolled": true
   },
   "outputs": [
    {
     "name": "stdout",
     "output_type": "stream",
     "text": [
      "['CRIM', 'ZN']\n",
      "['CRIM', 'INDUS']\n",
      "['CRIM', 'CHAS']\n",
      "['CRIM', 'NOX']\n",
      "['CRIM', 'RM']\n",
      "['CRIM', 'AGE']\n",
      "['CRIM', 'DIS']\n",
      "['CRIM', 'RAD']\n",
      "['CRIM', 'TAX']\n",
      "['CRIM', 'PTRATIO']\n",
      "['CRIM', 'B']\n",
      "['CRIM', 'LSTAT']\n",
      "['ZN', 'INDUS']\n",
      "['ZN', 'CHAS']\n",
      "['ZN', 'NOX']\n",
      "['ZN', 'RM']\n",
      "['ZN', 'AGE']\n",
      "['ZN', 'DIS']\n",
      "['ZN', 'RAD']\n",
      "['ZN', 'TAX']\n",
      "['ZN', 'PTRATIO']\n",
      "['ZN', 'B']\n",
      "['ZN', 'LSTAT']\n",
      "['INDUS', 'CHAS']\n",
      "['INDUS', 'NOX']\n",
      "['INDUS', 'RM']\n",
      "['INDUS', 'AGE']\n",
      "['INDUS', 'DIS']\n",
      "['INDUS', 'RAD']\n",
      "['INDUS', 'TAX']\n",
      "['INDUS', 'PTRATIO']\n",
      "['INDUS', 'B']\n",
      "['INDUS', 'LSTAT']\n",
      "['CHAS', 'NOX']\n",
      "['CHAS', 'RM']\n",
      "['CHAS', 'AGE']\n",
      "['CHAS', 'DIS']\n",
      "['CHAS', 'RAD']\n",
      "['CHAS', 'TAX']\n",
      "['CHAS', 'PTRATIO']\n",
      "['CHAS', 'B']\n",
      "['CHAS', 'LSTAT']\n",
      "['NOX', 'RM']\n",
      "['NOX', 'AGE']\n",
      "['NOX', 'DIS']\n",
      "['NOX', 'RAD']\n",
      "['NOX', 'TAX']\n",
      "['NOX', 'PTRATIO']\n",
      "['NOX', 'B']\n",
      "['NOX', 'LSTAT']\n",
      "['RM', 'AGE']\n",
      "['RM', 'DIS']\n",
      "['RM', 'RAD']\n",
      "['RM', 'TAX']\n",
      "['RM', 'PTRATIO']\n",
      "['RM', 'B']\n",
      "['RM', 'LSTAT']\n",
      "['AGE', 'DIS']\n",
      "['AGE', 'RAD']\n",
      "['AGE', 'TAX']\n",
      "['AGE', 'PTRATIO']\n",
      "['AGE', 'B']\n",
      "['AGE', 'LSTAT']\n",
      "['DIS', 'RAD']\n",
      "['DIS', 'TAX']\n",
      "['DIS', 'PTRATIO']\n",
      "['DIS', 'B']\n",
      "['DIS', 'LSTAT']\n",
      "['RAD', 'TAX']\n",
      "['RAD', 'PTRATIO']\n",
      "['RAD', 'B']\n",
      "['RAD', 'LSTAT']\n",
      "['TAX', 'PTRATIO']\n",
      "['TAX', 'B']\n",
      "['TAX', 'LSTAT']\n",
      "['PTRATIO', 'B']\n",
      "['PTRATIO', 'LSTAT']\n",
      "['B', 'LSTAT']\n"
     ]
    }
   ],
   "source": [
    "for val in list(combinations(col_list, 2)):\n",
    "    print(list(val))"
   ]
  },
  {
   "cell_type": "code",
   "execution_count": 100,
   "metadata": {},
   "outputs": [
    {
     "data": {
      "text/plain": [
       "[[1, 2, 34], [12, 4, 5]]"
      ]
     },
     "execution_count": 100,
     "metadata": {},
     "output_type": "execute_result"
    }
   ],
   "source": [
    "a = [[1,2,34],[12,4,5]]\n",
    "\n",
    "a"
   ]
  },
  {
   "cell_type": "code",
   "execution_count": 101,
   "metadata": {},
   "outputs": [
    {
     "data": {
      "text/html": [
       "<div>\n",
       "<style scoped>\n",
       "    .dataframe tbody tr th:only-of-type {\n",
       "        vertical-align: middle;\n",
       "    }\n",
       "\n",
       "    .dataframe tbody tr th {\n",
       "        vertical-align: top;\n",
       "    }\n",
       "\n",
       "    .dataframe thead th {\n",
       "        text-align: right;\n",
       "    }\n",
       "</style>\n",
       "<table border=\"1\" class=\"dataframe\">\n",
       "  <thead>\n",
       "    <tr style=\"text-align: right;\">\n",
       "      <th></th>\n",
       "      <th>0</th>\n",
       "      <th>1</th>\n",
       "      <th>2</th>\n",
       "    </tr>\n",
       "  </thead>\n",
       "  <tbody>\n",
       "    <tr>\n",
       "      <th>0</th>\n",
       "      <td>1</td>\n",
       "      <td>2</td>\n",
       "      <td>34</td>\n",
       "    </tr>\n",
       "    <tr>\n",
       "      <th>1</th>\n",
       "      <td>12</td>\n",
       "      <td>4</td>\n",
       "      <td>5</td>\n",
       "    </tr>\n",
       "  </tbody>\n",
       "</table>\n",
       "</div>"
      ],
      "text/plain": [
       "    0  1   2\n",
       "0   1  2  34\n",
       "1  12  4   5"
      ]
     },
     "execution_count": 101,
     "metadata": {},
     "output_type": "execute_result"
    }
   ],
   "source": [
    "pd.DataFrame(a)"
   ]
  },
  {
   "cell_type": "code",
   "execution_count": null,
   "metadata": {},
   "outputs": [],
   "source": []
  },
  {
   "cell_type": "code",
   "execution_count": 131,
   "metadata": {},
   "outputs": [
    {
     "data": {
      "text/html": [
       "<div>\n",
       "<style scoped>\n",
       "    .dataframe tbody tr th:only-of-type {\n",
       "        vertical-align: middle;\n",
       "    }\n",
       "\n",
       "    .dataframe tbody tr th {\n",
       "        vertical-align: top;\n",
       "    }\n",
       "\n",
       "    .dataframe thead th {\n",
       "        text-align: right;\n",
       "    }\n",
       "</style>\n",
       "<table border=\"1\" class=\"dataframe\">\n",
       "  <thead>\n",
       "    <tr style=\"text-align: right;\">\n",
       "      <th></th>\n",
       "      <th>Combinations</th>\n",
       "      <th>Score</th>\n",
       "    </tr>\n",
       "  </thead>\n",
       "  <tbody>\n",
       "    <tr>\n",
       "      <th>0</th>\n",
       "      <td>[CRIM, ZN]</td>\n",
       "      <td>67.880618</td>\n",
       "    </tr>\n",
       "    <tr>\n",
       "      <th>1</th>\n",
       "      <td>[CRIM, INDUS]</td>\n",
       "      <td>61.831558</td>\n",
       "    </tr>\n",
       "    <tr>\n",
       "      <th>2</th>\n",
       "      <td>[CRIM, CHAS]</td>\n",
       "      <td>74.763985</td>\n",
       "    </tr>\n",
       "    <tr>\n",
       "      <th>3</th>\n",
       "      <td>[CRIM, NOX]</td>\n",
       "      <td>66.157998</td>\n",
       "    </tr>\n",
       "    <tr>\n",
       "      <th>4</th>\n",
       "      <td>[CRIM, RM]</td>\n",
       "      <td>36.993874</td>\n",
       "    </tr>\n",
       "    <tr>\n",
       "      <th>...</th>\n",
       "      <td>...</td>\n",
       "      <td>...</td>\n",
       "    </tr>\n",
       "    <tr>\n",
       "      <th>359</th>\n",
       "      <td>[RAD, B, LSTAT]</td>\n",
       "      <td>38.091074</td>\n",
       "    </tr>\n",
       "    <tr>\n",
       "      <th>360</th>\n",
       "      <td>[TAX, PTRATIO, B]</td>\n",
       "      <td>54.910074</td>\n",
       "    </tr>\n",
       "    <tr>\n",
       "      <th>361</th>\n",
       "      <td>[TAX, PTRATIO, LSTAT]</td>\n",
       "      <td>33.189086</td>\n",
       "    </tr>\n",
       "    <tr>\n",
       "      <th>362</th>\n",
       "      <td>[TAX, B, LSTAT]</td>\n",
       "      <td>37.596419</td>\n",
       "    </tr>\n",
       "    <tr>\n",
       "      <th>363</th>\n",
       "      <td>[PTRATIO, B, LSTAT]</td>\n",
       "      <td>32.993227</td>\n",
       "    </tr>\n",
       "  </tbody>\n",
       "</table>\n",
       "<p>364 rows × 2 columns</p>\n",
       "</div>"
      ],
      "text/plain": [
       "              Combinations      Score\n",
       "0               [CRIM, ZN]  67.880618\n",
       "1            [CRIM, INDUS]  61.831558\n",
       "2             [CRIM, CHAS]  74.763985\n",
       "3              [CRIM, NOX]  66.157998\n",
       "4               [CRIM, RM]  36.993874\n",
       "..                     ...        ...\n",
       "359        [RAD, B, LSTAT]  38.091074\n",
       "360      [TAX, PTRATIO, B]  54.910074\n",
       "361  [TAX, PTRATIO, LSTAT]  33.189086\n",
       "362        [TAX, B, LSTAT]  37.596419\n",
       "363    [PTRATIO, B, LSTAT]  32.993227\n",
       "\n",
       "[364 rows x 2 columns]"
      ]
     },
     "execution_count": 131,
     "metadata": {},
     "output_type": "execute_result"
    }
   ],
   "source": [
    "empty_list = []\n",
    "df_combi_mse = []\n",
    "for num in range(2,4):\n",
    "    for val in list(combinations(col_list, num)):\n",
    "        # instantiate empty list \n",
    "        empty_list = []\n",
    "        \n",
    "        # append in combination\n",
    "        empty_list.append(list(val))\n",
    "        \n",
    "        X = final_df[list(val)]\n",
    "        y = final_df['Target_price']\n",
    "        X_train, X_test, y_train, y_test = train_test_split(X, y, test_size=0.2, random_state= np.random.seed(123))\n",
    "        \n",
    "        # instantiate lr\n",
    "        lr = LinearRegression()\n",
    "        \n",
    "        #append in cross score\n",
    "        empty_list.append(-cross_val_score(lr, X_train, y_train, cv=5, scoring ='neg_mean_squared_error').mean())   \n",
    "        \n",
    "        \n",
    "        df_combi_mse.append(empty_list)\n",
    "        \n",
    "df_combi_mse = pd.DataFrame(df_combi_mse)\n",
    "df_combi_mse = df_combi_mse.rename(columns = {0: 'Combinations', 1: 'Score'})\n",
    "df_combi_mse\n"
   ]
  },
  {
   "cell_type": "code",
   "execution_count": 129,
   "metadata": {},
   "outputs": [
    {
     "data": {
      "text/html": [
       "<div>\n",
       "<style scoped>\n",
       "    .dataframe tbody tr th:only-of-type {\n",
       "        vertical-align: middle;\n",
       "    }\n",
       "\n",
       "    .dataframe tbody tr th {\n",
       "        vertical-align: top;\n",
       "    }\n",
       "\n",
       "    .dataframe thead th {\n",
       "        text-align: right;\n",
       "    }\n",
       "</style>\n",
       "<table border=\"1\" class=\"dataframe\">\n",
       "  <thead>\n",
       "    <tr style=\"text-align: right;\">\n",
       "      <th></th>\n",
       "      <th>0</th>\n",
       "      <th>1</th>\n",
       "    </tr>\n",
       "  </thead>\n",
       "  <tbody>\n",
       "    <tr>\n",
       "      <th>0</th>\n",
       "      <td>[CRIM, ZN]</td>\n",
       "      <td>67.880618</td>\n",
       "    </tr>\n",
       "    <tr>\n",
       "      <th>1</th>\n",
       "      <td>[CRIM, INDUS]</td>\n",
       "      <td>61.831558</td>\n",
       "    </tr>\n",
       "    <tr>\n",
       "      <th>2</th>\n",
       "      <td>[CRIM, CHAS]</td>\n",
       "      <td>74.763985</td>\n",
       "    </tr>\n",
       "    <tr>\n",
       "      <th>3</th>\n",
       "      <td>[CRIM, NOX]</td>\n",
       "      <td>66.157998</td>\n",
       "    </tr>\n",
       "    <tr>\n",
       "      <th>4</th>\n",
       "      <td>[CRIM, RM]</td>\n",
       "      <td>36.993874</td>\n",
       "    </tr>\n",
       "    <tr>\n",
       "      <th>...</th>\n",
       "      <td>...</td>\n",
       "      <td>...</td>\n",
       "    </tr>\n",
       "    <tr>\n",
       "      <th>359</th>\n",
       "      <td>[RAD, B, LSTAT]</td>\n",
       "      <td>38.091074</td>\n",
       "    </tr>\n",
       "    <tr>\n",
       "      <th>360</th>\n",
       "      <td>[TAX, PTRATIO, B]</td>\n",
       "      <td>54.910074</td>\n",
       "    </tr>\n",
       "    <tr>\n",
       "      <th>361</th>\n",
       "      <td>[TAX, PTRATIO, LSTAT]</td>\n",
       "      <td>33.189086</td>\n",
       "    </tr>\n",
       "    <tr>\n",
       "      <th>362</th>\n",
       "      <td>[TAX, B, LSTAT]</td>\n",
       "      <td>37.596419</td>\n",
       "    </tr>\n",
       "    <tr>\n",
       "      <th>363</th>\n",
       "      <td>[PTRATIO, B, LSTAT]</td>\n",
       "      <td>32.993227</td>\n",
       "    </tr>\n",
       "  </tbody>\n",
       "</table>\n",
       "<p>364 rows × 2 columns</p>\n",
       "</div>"
      ],
      "text/plain": [
       "                         0          1\n",
       "0               [CRIM, ZN]  67.880618\n",
       "1            [CRIM, INDUS]  61.831558\n",
       "2             [CRIM, CHAS]  74.763985\n",
       "3              [CRIM, NOX]  66.157998\n",
       "4               [CRIM, RM]  36.993874\n",
       "..                     ...        ...\n",
       "359        [RAD, B, LSTAT]  38.091074\n",
       "360      [TAX, PTRATIO, B]  54.910074\n",
       "361  [TAX, PTRATIO, LSTAT]  33.189086\n",
       "362        [TAX, B, LSTAT]  37.596419\n",
       "363    [PTRATIO, B, LSTAT]  32.993227\n",
       "\n",
       "[364 rows x 2 columns]"
      ]
     },
     "execution_count": 129,
     "metadata": {},
     "output_type": "execute_result"
    }
   ],
   "source": [
    "df_combi_mse"
   ]
  },
  {
   "cell_type": "code",
   "execution_count": 98,
   "metadata": {},
   "outputs": [
    {
     "data": {
      "text/plain": [
       "[['CRIM', 'ZN'],\n",
       " 67.88061845903628,\n",
       " ['CRIM', 'INDUS'],\n",
       " 61.831558156392774,\n",
       " ['CRIM', 'CHAS'],\n",
       " 74.76398515671296,\n",
       " ['CRIM', 'NOX'],\n",
       " 66.15799766711243,\n",
       " ['CRIM', 'RM'],\n",
       " 36.99387414457734,\n",
       " ['CRIM', 'AGE'],\n",
       " 68.51945700914224,\n",
       " ['CRIM', 'DIS'],\n",
       " 74.09118699780387,\n",
       " ['CRIM', 'RAD'],\n",
       " 70.55960844623132,\n",
       " ['CRIM', 'TAX'],\n",
       " 63.75041767067857,\n",
       " ['CRIM', 'PTRATIO'],\n",
       " 59.366790957152624,\n",
       " ['CRIM', 'B'],\n",
       " 71.01474434322567,\n",
       " ['CRIM', 'LSTAT'],\n",
       " 38.056747463478146,\n",
       " ['ZN', 'INDUS'],\n",
       " 63.55948743534553,\n",
       " ['ZN', 'CHAS'],\n",
       " 73.62009119818319,\n",
       " ['ZN', 'NOX'],\n",
       " 67.46024440139674,\n",
       " ['ZN', 'RM'],\n",
       " 39.902401087780085,\n",
       " ['ZN', 'AGE'],\n",
       " 70.80671523718108,\n",
       " ['ZN', 'DIS'],\n",
       " 75.40654314470257,\n",
       " ['ZN', 'RAD'],\n",
       " 67.59152146049739,\n",
       " ['ZN', 'TAX'],\n",
       " 61.58127100371384,\n",
       " ['ZN', 'PTRATIO'],\n",
       " 60.85738233468675,\n",
       " ['ZN', 'B'],\n",
       " 68.41291947118796,\n",
       " ['ZN', 'LSTAT'],\n",
       " 38.382235083128336,\n",
       " ['INDUS', 'CHAS'],\n",
       " 62.782427220280525,\n",
       " ['INDUS', 'NOX'],\n",
       " 63.9013415310808,\n",
       " ['INDUS', 'RM'],\n",
       " 37.4725487633047,\n",
       " ['INDUS', 'AGE'],\n",
       " 63.735411587277554,\n",
       " ['INDUS', 'DIS'],\n",
       " 63.12521912877516,\n",
       " ['INDUS', 'RAD'],\n",
       " 63.66663955807807,\n",
       " ['INDUS', 'TAX'],\n",
       " 61.60118679349811,\n",
       " ['INDUS', 'PTRATIO'],\n",
       " 54.44357795636214,\n",
       " ['INDUS', 'B'],\n",
       " 61.91214611125512,\n",
       " ['INDUS', 'LSTAT'],\n",
       " 38.352304867420706,\n",
       " ['CHAS', 'NOX'],\n",
       " 66.83666709725311,\n",
       " ['CHAS', 'RM'],\n",
       " 41.504445824113546,\n",
       " ['CHAS', 'AGE'],\n",
       " 71.18296908970026,\n",
       " ['CHAS', 'DIS'],\n",
       " 78.21697485611719,\n",
       " ['CHAS', 'RAD'],\n",
       " 71.39554627794243,\n",
       " ['CHAS', 'TAX'],\n",
       " 63.838511301129856,\n",
       " ['CHAS', 'PTRATIO'],\n",
       " 63.62233674934,\n",
       " ['CHAS', 'B'],\n",
       " 75.1563037075601,\n",
       " ['CHAS', 'LSTAT'],\n",
       " 37.58456113280185,\n",
       " ['NOX', 'RM'],\n",
       " 37.862797997309585,\n",
       " ['NOX', 'AGE'],\n",
       " 68.47047810979893,\n",
       " ['NOX', 'DIS'],\n",
       " 67.88234472297113,\n",
       " ['NOX', 'RAD'],\n",
       " 67.24192789778837,\n",
       " ['NOX', 'TAX'],\n",
       " 63.13726815225044,\n",
       " ['NOX', 'PTRATIO'],\n",
       " 53.01407539494327,\n",
       " ['NOX', 'B'],\n",
       " 66.27607337200328,\n",
       " ['NOX', 'LSTAT'],\n",
       " 38.440331311392654,\n",
       " ['RM', 'AGE'],\n",
       " 37.81335322271523,\n",
       " ['RM', 'DIS'],\n",
       " 40.774748962307434,\n",
       " ['RM', 'RAD'],\n",
       " 36.9305936816891,\n",
       " ['RM', 'TAX'],\n",
       " 35.04401531651456,\n",
       " ['RM', 'PTRATIO'],\n",
       " 35.340415352683024,\n",
       " ['RM', 'B'],\n",
       " 37.278183622506695,\n",
       " ['RM', 'LSTAT'],\n",
       " 28.357070548598898,\n",
       " ['AGE', 'DIS'],\n",
       " 73.00582299831059,\n",
       " ['AGE', 'RAD'],\n",
       " 68.23045379093244,\n",
       " ['AGE', 'TAX'],\n",
       " 63.016924219335316,\n",
       " ['AGE', 'PTRATIO'],\n",
       " 57.66035312615678,\n",
       " ['AGE', 'B'],\n",
       " 68.18953220615307,\n",
       " ['AGE', 'LSTAT'],\n",
       " 37.50940273667524,\n",
       " ['DIS', 'RAD'],\n",
       " 72.12230321310264,\n",
       " ['DIS', 'TAX'],\n",
       " 64.78407382190058,\n",
       " ['DIS', 'PTRATIO'],\n",
       " 61.77022423208539,\n",
       " ['DIS', 'B'],\n",
       " 73.40094450406487,\n",
       " ['DIS', 'LSTAT'],\n",
       " 36.251061249594585,\n",
       " ['RAD', 'TAX'],\n",
       " 63.9921253430201,\n",
       " ['RAD', 'PTRATIO'],\n",
       " 61.08356445362544,\n",
       " ['RAD', 'B'],\n",
       " 70.00217619047751,\n",
       " ['RAD', 'LSTAT'],\n",
       " 38.14397807687806,\n",
       " ['TAX', 'PTRATIO'],\n",
       " 56.50610960740946,\n",
       " ['TAX', 'B'],\n",
       " 63.384962734219,\n",
       " ['TAX', 'LSTAT'],\n",
       " 37.593508154246685,\n",
       " ['PTRATIO', 'B'],\n",
       " 58.4228091419712,\n",
       " ['PTRATIO', 'LSTAT'],\n",
       " 33.0528027414656,\n",
       " ['B', 'LSTAT'],\n",
       " 38.03914759991986,\n",
       " ['CRIM', 'ZN', 'INDUS'],\n",
       " 61.22068423743021,\n",
       " ['CRIM', 'ZN', 'CHAS'],\n",
       " 67.01289296749569,\n",
       " ['CRIM', 'ZN', 'NOX'],\n",
       " 64.67151748640927,\n",
       " ['CRIM', 'ZN', 'RM'],\n",
       " 35.911607922018405,\n",
       " ['CRIM', 'ZN', 'AGE'],\n",
       " 66.42656864234009,\n",
       " ['CRIM', 'ZN', 'DIS'],\n",
       " 69.08796143317832,\n",
       " ['CRIM', 'ZN', 'RAD'],\n",
       " 65.74157349503744,\n",
       " ['CRIM', 'ZN', 'TAX'],\n",
       " 60.70327261122213,\n",
       " ['CRIM', 'ZN', 'PTRATIO'],\n",
       " 57.09180274155019,\n",
       " ['CRIM', 'ZN', 'B'],\n",
       " 64.7894568470816,\n",
       " ['CRIM', 'ZN', 'LSTAT'],\n",
       " 38.31218091015064,\n",
       " ['CRIM', 'INDUS', 'CHAS'],\n",
       " 60.725406005125706,\n",
       " ['CRIM', 'INDUS', 'NOX'],\n",
       " 61.96066302780004,\n",
       " ['CRIM', 'INDUS', 'RM'],\n",
       " 34.88119154218041,\n",
       " ['CRIM', 'INDUS', 'AGE'],\n",
       " 61.60792192775231,\n",
       " ['CRIM', 'INDUS', 'DIS'],\n",
       " 60.418527327724725,\n",
       " ['CRIM', 'INDUS', 'RAD'],\n",
       " 62.07747526594731,\n",
       " ['CRIM', 'INDUS', 'TAX'],\n",
       " 60.53780343812051,\n",
       " ['CRIM', 'INDUS', 'PTRATIO'],\n",
       " 53.12488762372254,\n",
       " ['CRIM', 'INDUS', 'B'],\n",
       " 60.64018826327157,\n",
       " ['CRIM', 'INDUS', 'LSTAT'],\n",
       " 38.31501154417627,\n",
       " ['CRIM', 'CHAS', 'NOX'],\n",
       " 64.56144873400751,\n",
       " ['CRIM', 'CHAS', 'RM'],\n",
       " 36.86597270033745,\n",
       " ['CRIM', 'CHAS', 'AGE'],\n",
       " 67.20764641333626,\n",
       " ['CRIM', 'CHAS', 'DIS'],\n",
       " 73.06149001102243,\n",
       " ['CRIM', 'CHAS', 'RAD'],\n",
       " 69.66010127846576,\n",
       " ['CRIM', 'CHAS', 'TAX'],\n",
       " 63.064907336870874,\n",
       " ['CRIM', 'CHAS', 'PTRATIO'],\n",
       " 59.29142372707402,\n",
       " ['CRIM', 'CHAS', 'B'],\n",
       " 70.5206926436288,\n",
       " ['CRIM', 'CHAS', 'LSTAT'],\n",
       " 37.567698294697436,\n",
       " ['CRIM', 'NOX', 'RM'],\n",
       " 35.306442675534164,\n",
       " ['CRIM', 'NOX', 'AGE'],\n",
       " 65.95326717919352,\n",
       " ['CRIM', 'NOX', 'DIS'],\n",
       " 64.91285749849115,\n",
       " ['CRIM', 'NOX', 'RAD'],\n",
       " 65.66641045274629,\n",
       " ['CRIM', 'NOX', 'TAX'],\n",
       " 62.39601401511512,\n",
       " ['CRIM', 'NOX', 'PTRATIO'],\n",
       " 52.24683380586773,\n",
       " ['CRIM', 'NOX', 'B'],\n",
       " 64.60669422158956,\n",
       " ['CRIM', 'NOX', 'LSTAT'],\n",
       " 38.28536076238743,\n",
       " ['CRIM', 'RM', 'AGE'],\n",
       " 35.029273361201724,\n",
       " ['CRIM', 'RM', 'DIS'],\n",
       " 36.95024384903617,\n",
       " ['CRIM', 'RM', 'RAD'],\n",
       " 35.760410365584406,\n",
       " ['CRIM', 'RM', 'TAX'],\n",
       " 34.17729840311118,\n",
       " ['CRIM', 'RM', 'PTRATIO'],\n",
       " 32.54142656782635,\n",
       " ['CRIM', 'RM', 'B'],\n",
       " 34.64604152250243,\n",
       " ['CRIM', 'RM', 'LSTAT'],\n",
       " 28.108417654592976,\n",
       " ['CRIM', 'AGE', 'DIS'],\n",
       " 68.81256162378706,\n",
       " ['CRIM', 'AGE', 'RAD'],\n",
       " 66.68712103675793,\n",
       " ['CRIM', 'AGE', 'TAX'],\n",
       " 62.26937996495017,\n",
       " ['CRIM', 'AGE', 'PTRATIO'],\n",
       " 55.64908823686385,\n",
       " ['CRIM', 'AGE', 'B'],\n",
       " 65.82469059143696,\n",
       " ['CRIM', 'AGE', 'LSTAT'],\n",
       " 37.45018184676468,\n",
       " ['CRIM', 'DIS', 'RAD'],\n",
       " 70.51142294377371,\n",
       " ['CRIM', 'DIS', 'TAX'],\n",
       " 63.984251295256385,\n",
       " ['CRIM', 'DIS', 'PTRATIO'],\n",
       " 59.08993282862484,\n",
       " ['CRIM', 'DIS', 'B'],\n",
       " 70.46342516201803,\n",
       " ['CRIM', 'DIS', 'LSTAT'],\n",
       " 35.925613174798755,\n",
       " ['CRIM', 'RAD', 'TAX'],\n",
       " 62.278829745649816,\n",
       " ['CRIM', 'RAD', 'PTRATIO'],\n",
       " 59.316831685584,\n",
       " ['CRIM', 'RAD', 'B'],\n",
       " 68.66278870811395,\n",
       " ['CRIM', 'RAD', 'LSTAT'],\n",
       " 38.3032900095124,\n",
       " ['CRIM', 'TAX', 'PTRATIO'],\n",
       " 55.86822733190367,\n",
       " ['CRIM', 'TAX', 'B'],\n",
       " 62.906077258561595,\n",
       " ['CRIM', 'TAX', 'LSTAT'],\n",
       " 37.91361860520027,\n",
       " ['CRIM', 'PTRATIO', 'B'],\n",
       " 56.44910672217768,\n",
       " ['CRIM', 'PTRATIO', 'LSTAT'],\n",
       " 33.283650600326425,\n",
       " ['CRIM', 'B', 'LSTAT'],\n",
       " 38.04376251528977,\n",
       " ['ZN', 'INDUS', 'CHAS'],\n",
       " 62.19871914331537,\n",
       " ['ZN', 'INDUS', 'NOX'],\n",
       " 63.594928584304135,\n",
       " ['ZN', 'INDUS', 'RM'],\n",
       " 37.32979370893049,\n",
       " ['ZN', 'INDUS', 'AGE'],\n",
       " 63.45662246038091,\n",
       " ['ZN', 'INDUS', 'DIS'],\n",
       " 60.18916514594305,\n",
       " ['ZN', 'INDUS', 'RAD'],\n",
       " 63.0336458615492,\n",
       " ['ZN', 'INDUS', 'TAX'],\n",
       " 60.70169693756186,\n",
       " ['ZN', 'INDUS', 'PTRATIO'],\n",
       " 54.60544222726675,\n",
       " ['ZN', 'INDUS', 'B'],\n",
       " 61.30307966981601,\n",
       " ['ZN', 'INDUS', 'LSTAT'],\n",
       " 38.607748298995,\n",
       " ['ZN', 'CHAS', 'NOX'],\n",
       " 65.54673108183901,\n",
       " ['ZN', 'CHAS', 'RM'],\n",
       " 39.647309547831,\n",
       " ['ZN', 'CHAS', 'AGE'],\n",
       " 69.24473229207567,\n",
       " ['ZN', 'CHAS', 'DIS'],\n",
       " 74.24151844854532,\n",
       " ['ZN', 'CHAS', 'RAD'],\n",
       " 66.4202226603569,\n",
       " ['ZN', 'CHAS', 'TAX'],\n",
       " 60.67230085389788,\n",
       " ['ZN', 'CHAS', 'PTRATIO'],\n",
       " 60.6431250173266,\n",
       " ['ZN', 'CHAS', 'B'],\n",
       " 67.65514030001913,\n",
       " ['ZN', 'CHAS', 'LSTAT'],\n",
       " 37.812448536684165,\n",
       " ['ZN', 'NOX', 'RM'],\n",
       " 37.67682278935081,\n",
       " ['ZN', 'NOX', 'AGE'],\n",
       " 67.49773893721523,\n",
       " ['ZN', 'NOX', 'DIS'],\n",
       " 63.336958195524474,\n",
       " ['ZN', 'NOX', 'RAD'],\n",
       " 65.68359051187815,\n",
       " ['ZN', 'NOX', 'TAX'],\n",
       " 61.623197179822874,\n",
       " ['ZN', 'NOX', 'PTRATIO'],\n",
       " 53.21594352462505,\n",
       " ['ZN', 'NOX', 'B'],\n",
       " 64.71936860250901,\n",
       " ['ZN', 'NOX', 'LSTAT'],\n",
       " 38.781726774639196,\n",
       " ['ZN', 'RM', 'AGE'],\n",
       " 37.77545436417101,\n",
       " ['ZN', 'RM', 'DIS'],\n",
       " 40.05329728980509,\n",
       " ['ZN', 'RM', 'RAD'],\n",
       " 36.360387401752845,\n",
       " ['ZN', 'RM', 'TAX'],\n",
       " 34.6455553072136,\n",
       " ['ZN', 'RM', 'PTRATIO'],\n",
       " 34.89194296734183,\n",
       " ['ZN', 'RM', 'B'],\n",
       " 36.192026831872326,\n",
       " ['ZN', 'RM', 'LSTAT'],\n",
       " 28.45299816208352,\n",
       " ['ZN', 'AGE', 'DIS'],\n",
       " 69.69244122948939,\n",
       " ['ZN', 'AGE', 'RAD'],\n",
       " 66.52197049020552,\n",
       " ['ZN', 'AGE', 'TAX'],\n",
       " 61.391973000654524,\n",
       " ['ZN', 'AGE', 'PTRATIO'],\n",
       " 57.684196029474016,\n",
       " ['ZN', 'AGE', 'B'],\n",
       " 66.30379270489337,\n",
       " ['ZN', 'AGE', 'LSTAT'],\n",
       " 37.42027273290681,\n",
       " ['ZN', 'DIS', 'RAD'],\n",
       " 67.36927801269319,\n",
       " ['ZN', 'DIS', 'TAX'],\n",
       " 59.71706066509844,\n",
       " ['ZN', 'DIS', 'PTRATIO'],\n",
       " 61.21690181454244,\n",
       " ['ZN', 'DIS', 'B'],\n",
       " 68.90635755984547,\n",
       " ['ZN', 'DIS', 'LSTAT'],\n",
       " 34.470080945311665,\n",
       " ['ZN', 'RAD', 'TAX'],\n",
       " 61.11877490995431,\n",
       " ['ZN', 'RAD', 'PTRATIO'],\n",
       " 59.143234268096954,\n",
       " ['ZN', 'RAD', 'B'],\n",
       " 65.43588913562391,\n",
       " ['ZN', 'RAD', 'LSTAT'],\n",
       " 38.44091575947859,\n",
       " ['ZN', 'TAX', 'PTRATIO'],\n",
       " 55.305864924057666,\n",
       " ['ZN', 'TAX', 'B'],\n",
       " 60.46100955157806,\n",
       " ['ZN', 'TAX', 'LSTAT'],\n",
       " 37.94247430061223,\n",
       " ['ZN', 'PTRATIO', 'B'],\n",
       " 56.447415593714844,\n",
       " ['ZN', 'PTRATIO', 'LSTAT'],\n",
       " 33.34295837928276,\n",
       " ['ZN', 'B', 'LSTAT'],\n",
       " 38.315018637046926,\n",
       " ['INDUS', 'CHAS', 'NOX'],\n",
       " 62.265781210675115,\n",
       " ['INDUS', 'CHAS', 'RM'],\n",
       " 37.08192262736698,\n",
       " ['INDUS', 'CHAS', 'AGE'],\n",
       " 62.27889897472586,\n",
       " ['INDUS', 'CHAS', 'DIS'],\n",
       " 61.994754672175,\n",
       " ['INDUS', 'CHAS', 'RAD'],\n",
       " 62.332364031481426,\n",
       " ['INDUS', 'CHAS', 'TAX'],\n",
       " 60.45880763752298,\n",
       " ['INDUS', 'CHAS', 'PTRATIO'],\n",
       " 53.95078483924531,\n",
       " ['INDUS', 'CHAS', 'B'],\n",
       " 60.83345311823598,\n",
       " ['INDUS', 'CHAS', 'LSTAT'],\n",
       " 37.78172602599602,\n",
       " ['INDUS', 'NOX', 'RM'],\n",
       " 37.23817337604554,\n",
       " ['INDUS', 'NOX', 'AGE'],\n",
       " 63.98005995411411,\n",
       " ['INDUS', 'NOX', 'DIS'],\n",
       " 60.65820265107756,\n",
       " ['INDUS', 'NOX', 'RAD'],\n",
       " 63.684183416135944,\n",
       " ['INDUS', 'NOX', 'TAX'],\n",
       " 61.88394148148568,\n",
       " ['INDUS', 'NOX', 'PTRATIO'],\n",
       " 52.768816250805955,\n",
       " ['INDUS', 'NOX', 'B'],\n",
       " 62.03617964564336,\n",
       " ['INDUS', 'NOX', 'LSTAT'],\n",
       " 38.473701557611406,\n",
       " ['INDUS', 'RM', 'AGE'],\n",
       " 36.808276974552115,\n",
       " ['INDUS', 'RM', 'DIS'],\n",
       " 37.28268865928659,\n",
       " ['INDUS', 'RM', 'RAD'],\n",
       " 36.13116639537936,\n",
       " ['INDUS', 'RM', 'TAX'],\n",
       " 35.14145542287339,\n",
       " ['INDUS', 'RM', 'PTRATIO'],\n",
       " 33.38319346413981,\n",
       " ['INDUS', 'RM', 'B'],\n",
       " 35.28539620521254,\n",
       " ['INDUS', 'RM', 'LSTAT'],\n",
       " 28.491949230672947,\n",
       " ['INDUS', 'AGE', 'DIS'],\n",
       " 60.796941319583524,\n",
       " ['INDUS', 'AGE', 'RAD'],\n",
       " 63.46037968422568,\n",
       " ['INDUS', 'AGE', 'TAX'],\n",
       " 61.47227140053243,\n",
       " ['INDUS', 'AGE', 'PTRATIO'],\n",
       " 53.955444996241134,\n",
       " ['INDUS', 'AGE', 'B'],\n",
       " 61.68221122401603,\n",
       " ['INDUS', 'AGE', 'LSTAT'],\n",
       " 37.21554225610658,\n",
       " ['INDUS', 'DIS', 'RAD'],\n",
       " 62.21179615837569,\n",
       " ['INDUS', 'DIS', 'TAX'],\n",
       " 60.35689591709716,\n",
       " ['INDUS', 'DIS', 'PTRATIO'],\n",
       " 53.925498335213774,\n",
       " ['INDUS', 'DIS', 'B'],\n",
       " 60.73085176443499,\n",
       " ['INDUS', 'DIS', 'LSTAT'],\n",
       " 34.92050543333054,\n",
       " ['INDUS', 'RAD', 'TAX'],\n",
       " 61.93626917776411,\n",
       " ['INDUS', 'RAD', 'PTRATIO'],\n",
       " 54.90947776083972,\n",
       " ['INDUS', 'RAD', 'B'],\n",
       " 62.25290013411637,\n",
       " ['INDUS', 'RAD', 'LSTAT'],\n",
       " 38.56902637182302,\n",
       " ['INDUS', 'TAX', 'PTRATIO'],\n",
       " 53.91840712239309,\n",
       " ['INDUS', 'TAX', 'B'],\n",
       " 60.51857159285957,\n",
       " ['INDUS', 'TAX', 'LSTAT'],\n",
       " 38.01229453593341,\n",
       " ['INDUS', 'PTRATIO', 'B'],\n",
       " 52.49765275500944,\n",
       " ['INDUS', 'PTRATIO', 'LSTAT'],\n",
       " 33.28594725009218,\n",
       " ['INDUS', 'B', 'LSTAT'],\n",
       " 38.30922643053168,\n",
       " ['CHAS', 'NOX', 'RM'],\n",
       " 37.29093848743814,\n",
       " ['CHAS', 'NOX', 'AGE'],\n",
       " 66.43095679541246,\n",
       " ['CHAS', 'NOX', 'DIS'],\n",
       " 65.79096295737972,\n",
       " ['CHAS', 'NOX', 'RAD'],\n",
       " 65.4964191770456,\n",
       " ['CHAS', 'NOX', 'TAX'],\n",
       " 61.90988393075288,\n",
       " ['CHAS', 'NOX', 'PTRATIO'],\n",
       " 52.21370713156781,\n",
       " ['CHAS', 'NOX', 'B'],\n",
       " 64.70425885283413,\n",
       " ['CHAS', 'NOX', 'LSTAT'],\n",
       " 37.99215102044481,\n",
       " ['CHAS', 'RM', 'AGE'],\n",
       " 37.324190591967,\n",
       " ['CHAS', 'RM', 'DIS'],\n",
       " 40.466148056477856,\n",
       " ['CHAS', 'RM', 'RAD'],\n",
       " 36.60713044645426,\n",
       " ['CHAS', 'RM', 'TAX'],\n",
       " 34.8011847774147,\n",
       " ['CHAS', 'RM', 'PTRATIO'],\n",
       " 35.30875080887058,\n",
       " ['CHAS', 'RM', 'B'],\n",
       " 37.19838739728756,\n",
       " ['CHAS', 'RM', 'LSTAT'],\n",
       " 28.108702437265187,\n",
       " ['CHAS', 'AGE', 'DIS'],\n",
       " 71.40857471532551,\n",
       " ['CHAS', 'AGE', 'RAD'],\n",
       " 66.73822632958033,\n",
       " ['CHAS', 'AGE', 'TAX'],\n",
       " 61.92355787278198,\n",
       " ['CHAS', 'AGE', 'PTRATIO'],\n",
       " 57.16461928219051,\n",
       " ['CHAS', 'AGE', 'B'],\n",
       " 67.01169695537162,\n",
       " ['CHAS', 'AGE', 'LSTAT'],\n",
       " 37.12407377509558,\n",
       " ['CHAS', 'DIS', 'RAD'],\n",
       " 70.95399511709589,\n",
       " ['CHAS', 'DIS', 'TAX'],\n",
       " 64.02003937290559,\n",
       " ['CHAS', 'DIS', 'PTRATIO'],\n",
       " 61.4945626102935,\n",
       " ['CHAS', 'DIS', 'B'],\n",
       " 72.5443330265977,\n",
       " ['CHAS', 'DIS', 'LSTAT'],\n",
       " 35.945826953891256,\n",
       " ['CHAS', 'RAD', 'TAX'],\n",
       " 63.36944091512036,\n",
       " ['CHAS', 'RAD', 'PTRATIO'],\n",
       " 60.83669695130216,\n",
       " ['CHAS', 'RAD', 'B'],\n",
       " 69.2320986681316,\n",
       " ['CHAS', 'RAD', 'LSTAT'],\n",
       " 37.583964040864416,\n",
       " ['CHAS', 'TAX', 'PTRATIO'],\n",
       " 56.27962836551607,\n",
       " ['CHAS', 'TAX', 'B'],\n",
       " 62.73119074640344,\n",
       " ['CHAS', 'TAX', 'LSTAT'],\n",
       " 37.065999459943875,\n",
       " ['CHAS', 'PTRATIO', 'B'],\n",
       " 58.4198018519153,\n",
       " ['CHAS', 'PTRATIO', 'LSTAT'],\n",
       " 32.908911308433595,\n",
       " ['CHAS', 'B', 'LSTAT'],\n",
       " 37.527950938150184,\n",
       " ['NOX', 'RM', 'AGE'],\n",
       " 37.25694296482662,\n",
       " ['NOX', 'RM', 'DIS'],\n",
       " 37.37317700403884,\n",
       " ['NOX', 'RM', 'RAD'],\n",
       " 36.36925483634606,\n",
       " ['NOX', 'RM', 'TAX'],\n",
       " 35.001360166173384,\n",
       " ['NOX', 'RM', 'PTRATIO'],\n",
       " 32.169970956649834,\n",
       " ['NOX', 'RM', 'B'],\n",
       " 35.59952650567129,\n",
       " ['NOX', 'RM', 'LSTAT'],\n",
       " 28.470003136333172,\n",
       " ['NOX', 'AGE', 'DIS'],\n",
       " 66.30379255830867,\n",
       " ['NOX', 'AGE', 'RAD'],\n",
       " 66.98588837947831,\n",
       " ['NOX', 'AGE', 'TAX'],\n",
       " 63.112897728292026,\n",
       " ['NOX', 'AGE', 'PTRATIO'],\n",
       " 53.30512148031429,\n",
       " ['NOX', 'AGE', 'B'],\n",
       " 65.90092424042226,\n",
       " ['NOX', 'AGE', 'LSTAT'],\n",
       " 37.65765171082504,\n",
       " ['NOX', 'DIS', 'RAD'],\n",
       " 66.1611523572669,\n",
       " ['NOX', 'DIS', 'TAX'],\n",
       " 61.81040772862025,\n",
       " ['NOX', 'DIS', 'PTRATIO'],\n",
       " 50.70967588862991,\n",
       " ['NOX', 'DIS', 'B'],\n",
       " 65.30851702142762,\n",
       " ['NOX', 'DIS', 'LSTAT'],\n",
       " 35.49464733555858,\n",
       " ['NOX', 'RAD', 'TAX'],\n",
       " 62.51475175913886,\n",
       " ['NOX', 'RAD', 'PTRATIO'],\n",
       " 53.08757690359134,\n",
       " ['NOX', 'RAD', 'B'],\n",
       " 65.70694897856947,\n",
       " ['NOX', 'RAD', 'LSTAT'],\n",
       " 38.507607616591635,\n",
       " ['NOX', 'TAX', 'PTRATIO'],\n",
       " 52.86677556236798,\n",
       " ['NOX', 'TAX', 'B'],\n",
       " 62.21227429282815,\n",
       " ['NOX', 'TAX', 'LSTAT'],\n",
       " 37.50419713713486,\n",
       " ['NOX', 'PTRATIO', 'B'],\n",
       " 51.602278045983155,\n",
       " ['NOX', 'PTRATIO', 'LSTAT'],\n",
       " 33.39998164100699,\n",
       " ['NOX', 'B', 'LSTAT'],\n",
       " 38.36486823772456,\n",
       " ['RM', 'AGE', 'DIS'],\n",
       " 37.335513985593366,\n",
       " ['RM', 'AGE', 'RAD'],\n",
       " 35.75437888683207,\n",
       " ['RM', 'AGE', 'TAX'],\n",
       " 34.46025526545547,\n",
       " ['RM', 'AGE', 'PTRATIO'],\n",
       " 32.97616514755099,\n",
       " ['RM', 'AGE', 'B'],\n",
       " 35.017460743143985,\n",
       " ['RM', 'AGE', 'LSTAT'],\n",
       " 28.38285831139421,\n",
       " ['RM', 'DIS', 'RAD'],\n",
       " 37.02505435715156,\n",
       " ['RM', 'DIS', 'TAX'],\n",
       " 34.969733884265246,\n",
       " ['RM', 'DIS', 'PTRATIO'],\n",
       " 34.99346185326586,\n",
       " ['RM', 'DIS', 'B'],\n",
       " 37.08591688004661,\n",
       " ['RM', 'DIS', 'LSTAT'],\n",
       " 27.391337241758208,\n",
       " ['RM', 'RAD', 'TAX'],\n",
       " 35.282477252854974,\n",
       " ['RM', 'RAD', 'PTRATIO'],\n",
       " 33.78650720466711,\n",
       " ['RM', 'RAD', 'B'],\n",
       " 35.34045445002717,\n",
       " ['RM', 'RAD', 'LSTAT'],\n",
       " 28.209139765852807,\n",
       " ['RM', 'TAX', 'PTRATIO'],\n",
       " 32.41764851392503,\n",
       " ['RM', 'TAX', 'B'],\n",
       " 33.86047021671596,\n",
       " ['RM', 'TAX', 'LSTAT'],\n",
       " 27.76714026700438,\n",
       " ['RM', 'PTRATIO', 'B'],\n",
       " 32.09296795647989,\n",
       " ['RM', 'PTRATIO', 'LSTAT'],\n",
       " 25.302020824348034,\n",
       " ['RM', 'B', 'LSTAT'],\n",
       " 27.877002673153243,\n",
       " ['AGE', 'DIS', 'RAD'],\n",
       " 67.91032448978478,\n",
       " ['AGE', 'DIS', 'TAX'],\n",
       " 62.09122349330128,\n",
       " ['AGE', 'DIS', 'PTRATIO'],\n",
       " 57.58612411674859,\n",
       " ['AGE', 'DIS', 'B'],\n",
       " 68.16327591861882,\n",
       " ['AGE', 'DIS', 'LSTAT'],\n",
       " 36.346990538024826,\n",
       " ['AGE', 'RAD', 'TAX'],\n",
       " 62.6433703764845,\n",
       " ['AGE', 'RAD', 'PTRATIO'],\n",
       " 57.3510789688101,\n",
       " ['AGE', 'RAD', 'B'],\n",
       " 66.26558226672917,\n",
       " ['AGE', 'RAD', 'LSTAT'],\n",
       " 37.406186005731634,\n",
       " ['AGE', 'TAX', 'PTRATIO'],\n",
       " 54.759884325828395,\n",
       " ['AGE', 'TAX', 'B'],\n",
       " 61.91692414429541,\n",
       " ['AGE', 'TAX', 'LSTAT'],\n",
       " 36.43308210141199,\n",
       " ['AGE', 'PTRATIO', 'B'],\n",
       " 54.55023996509003,\n",
       " ['AGE', 'PTRATIO', 'LSTAT'],\n",
       " 32.34530433359381,\n",
       " ['AGE', 'B', 'LSTAT'],\n",
       " 37.402223343331556,\n",
       " ['DIS', 'RAD', 'TAX'],\n",
       " 64.17438309486768,\n",
       " ['DIS', 'RAD', 'PTRATIO'],\n",
       " 60.65608092698337,\n",
       " ['DIS', 'RAD', 'B'],\n",
       " 69.82891485150967,\n",
       " ['DIS', 'RAD', 'LSTAT'],\n",
       " 35.899500884070484,\n",
       " ['DIS', 'TAX', 'PTRATIO'],\n",
       " 56.65603319393874,\n",
       " ['DIS', 'TAX', 'B'],\n",
       " 63.53272395760638,\n",
       " ['DIS', 'TAX', 'LSTAT'],\n",
       " 34.540726506959196,\n",
       " ['DIS', 'PTRATIO', 'B'],\n",
       " 57.74514353479337,\n",
       " ['DIS', 'PTRATIO', 'LSTAT'],\n",
       " 31.0849258308171,\n",
       " ['DIS', 'B', 'LSTAT'],\n",
       " 36.07199680017597,\n",
       " ['RAD', 'TAX', 'PTRATIO'],\n",
       " 55.0366400913259,\n",
       " ['RAD', 'TAX', 'B'],\n",
       " 62.32182973409103,\n",
       " ['RAD', 'TAX', 'LSTAT'],\n",
       " 37.28187074302795,\n",
       " ['RAD', 'PTRATIO', 'B'],\n",
       " 58.02933853480797,\n",
       " ['RAD', 'PTRATIO', 'LSTAT'],\n",
       " 32.78029105411677,\n",
       " ['RAD', 'B', 'LSTAT'],\n",
       " 38.09107443380354,\n",
       " ['TAX', 'PTRATIO', 'B'],\n",
       " 54.91007380133889,\n",
       " ['TAX', 'PTRATIO', 'LSTAT'],\n",
       " 33.1890860973311,\n",
       " ['TAX', 'B', 'LSTAT'],\n",
       " 37.59641930625605,\n",
       " ['PTRATIO', 'B', 'LSTAT'],\n",
       " 32.99322703259286]"
      ]
     },
     "execution_count": 98,
     "metadata": {},
     "output_type": "execute_result"
    }
   ],
   "source": [
    "empty_list"
   ]
  },
  {
   "cell_type": "code",
   "execution_count": 93,
   "metadata": {},
   "outputs": [
    {
     "name": "stdout",
     "output_type": "stream",
     "text": [
      "('CRIM', 'ZN')\n",
      "67.88061845903628\n",
      "('CRIM', 'INDUS')\n",
      "61.831558156392774\n",
      "('CRIM', 'RM')\n",
      "36.99387414457734\n",
      "('RM', 'RAD')\n",
      "36.9305936816891\n",
      "('RM', 'TAX')\n",
      "35.04401531651456\n",
      "('RM', 'LSTAT')\n",
      "28.357070548598898\n",
      "('CRIM', 'RM', 'LSTAT')\n",
      "28.108417654592976\n",
      "('RM', 'DIS', 'LSTAT')\n",
      "27.391337241758208\n",
      "('RM', 'PTRATIO', 'LSTAT')\n",
      "25.302020824348034\n",
      "('CHAS', 'RM', 'PTRATIO', 'LSTAT')\n",
      "25.232667657743097\n",
      "('RM', 'DIS', 'PTRATIO', 'LSTAT')\n",
      "24.247076532331352\n",
      "('CRIM', 'RM', 'DIS', 'PTRATIO', 'LSTAT')\n",
      "24.178988239370312\n",
      "('NOX', 'RM', 'DIS', 'PTRATIO', 'LSTAT')\n",
      "23.248636586441314\n",
      "('ZN', 'NOX', 'RM', 'DIS', 'PTRATIO', 'LSTAT')\n",
      "23.17719375843511\n",
      "('NOX', 'RM', 'DIS', 'PTRATIO', 'B', 'LSTAT')\n",
      "22.983618242021592\n",
      "('ZN', 'NOX', 'RM', 'DIS', 'PTRATIO', 'B', 'LSTAT')\n",
      "22.880363059512838\n",
      "('CRIM', 'ZN', 'NOX', 'RM', 'DIS', 'PTRATIO', 'B', 'LSTAT')\n",
      "22.781590155734182\n",
      "('CRIM', 'ZN', 'NOX', 'RM', 'DIS', 'RAD', 'TAX', 'PTRATIO', 'LSTAT')\n",
      "22.691911168347627\n",
      "('CRIM', 'NOX', 'RM', 'DIS', 'RAD', 'TAX', 'PTRATIO', 'B', 'LSTAT')\n",
      "22.62519243466444\n",
      "('CRIM', 'ZN', 'NOX', 'RM', 'DIS', 'RAD', 'TAX', 'PTRATIO', 'B', 'LSTAT')\n",
      "22.34871647227927\n"
     ]
    }
   ],
   "source": [
    "best_score = 1000\n",
    "for num in range(2, len(final_df.drop(columns = 'Target_price').columns)+1,1):\n",
    "    for val in list(combinations(col_list, num)):\n",
    "        score = input_columns_iter(final_df,list(val))\n",
    "        if score < best_score:\n",
    "            best_score = score\n",
    "            print(val)\n",
    "            print(best_score)\n",
    "#         print(input_columns_iter(final_df,list(val))) "
   ]
  },
  {
   "cell_type": "markdown",
   "metadata": {},
   "source": [
    "### 5.1) Explain what could be wrong with this approach."
   ]
  },
  {
   "cell_type": "code",
   "execution_count": 9,
   "metadata": {
    "collapsed": true
   },
   "outputs": [],
   "source": [
    "# A: This iterates super long "
   ]
  },
  {
   "cell_type": "markdown",
   "metadata": {},
   "source": [
    "### 6) [Bonus] Explore another target variable and practice Patsy formulas.\n",
    "\n",
    "Can you find another response variable, given a combination of predictors, that can be predicted accurately through the exploration of different predictors in this data set?\n",
    "\n",
    "**Try using Patsy to construct your target and predictor matrices from formula strings.**\n",
    "\n",
    "> *Tip: Check out pairplots, coefficients, and Pearson scores.*"
   ]
  },
  {
   "cell_type": "code",
   "execution_count": 10,
   "metadata": {
    "collapsed": true
   },
   "outputs": [],
   "source": [
    "import patsy\n",
    "\n",
    "# A:"
   ]
  }
 ],
 "metadata": {
  "anaconda-cloud": {},
  "kernelspec": {
   "display_name": "Python 3 (ipykernel)",
   "language": "python",
   "name": "python3"
  },
  "language_info": {
   "codemirror_mode": {
    "name": "ipython",
    "version": 3
   },
   "file_extension": ".py",
   "mimetype": "text/x-python",
   "name": "python",
   "nbconvert_exporter": "python",
   "pygments_lexer": "ipython3",
   "version": "3.9.6"
  }
 },
 "nbformat": 4,
 "nbformat_minor": 1
}
