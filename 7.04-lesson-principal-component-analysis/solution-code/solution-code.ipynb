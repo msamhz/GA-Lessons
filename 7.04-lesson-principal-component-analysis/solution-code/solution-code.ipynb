{
 "cells": [
  {
   "cell_type": "markdown",
   "metadata": {},
   "source": [
    "<img src=\"http://imgur.com/1ZcRyrc.png\" style=\"float: left; margin: 20px; height: 55px\">\n",
    "\n",
    "# Principal Component Analysis\n",
    "\n",
    "_Authors: Justin Pounders, Matt Brems, Noelle Brown_"
   ]
  },
  {
   "cell_type": "markdown",
   "metadata": {},
   "source": [
    "### LEARNING OBJECTIVES\n",
    "By the end of the lesson, students should be able to:\n",
    "1. Differentiate between feature selection and feature extraction.\n",
    "2. Describe the PCA algorithm.\n",
    "3. Implement PCA in `scikit-learn`.\n",
    "4. Calculate and interpret proportion of explained variance.\n",
    "5. Identify use cases for PCA."
   ]
  },
  {
   "cell_type": "code",
   "execution_count": 27,
   "metadata": {},
   "outputs": [],
   "source": [
    "# Import our libraries.\n",
    "import pandas as pd\n",
    "import numpy as np\n",
    "import matplotlib.pyplot as plt\n",
    "import seaborn as sns\n",
    "\n",
    "# Import from sklearn.\n",
    "from sklearn.model_selection import train_test_split\n",
    "from sklearn.linear_model import LinearRegression\n",
    "from sklearn.preprocessing import PolynomialFeatures, StandardScaler\n",
    "from sklearn.metrics import mean_squared_error\n",
    "\n",
    "# Set a random seed.\n",
    "np.random.seed(42)"
   ]
  },
  {
   "cell_type": "markdown",
   "metadata": {},
   "source": [
    "### Introduction of Problem\n",
    "\n",
    "Today, we're going to be using the [wine quality](http://www3.dsi.uminho.pt/pcortez/wine/) dataset by Cortez, Cerdeira, Almeida, Matos and Reis.\n",
    "\n",
    "Specifically, we are going to use physicochemical properties of the wine in order to predict the quality of the wine."
   ]
  },
  {
   "cell_type": "code",
   "execution_count": 28,
   "metadata": {},
   "outputs": [
    {
     "data": {
      "text/html": [
       "<div>\n",
       "<style scoped>\n",
       "    .dataframe tbody tr th:only-of-type {\n",
       "        vertical-align: middle;\n",
       "    }\n",
       "\n",
       "    .dataframe tbody tr th {\n",
       "        vertical-align: top;\n",
       "    }\n",
       "\n",
       "    .dataframe thead th {\n",
       "        text-align: right;\n",
       "    }\n",
       "</style>\n",
       "<table border=\"1\" class=\"dataframe\">\n",
       "  <thead>\n",
       "    <tr style=\"text-align: right;\">\n",
       "      <th></th>\n",
       "      <th>fixed acidity</th>\n",
       "      <th>volatile acidity</th>\n",
       "      <th>citric acid</th>\n",
       "      <th>residual sugar</th>\n",
       "      <th>chlorides</th>\n",
       "      <th>free sulfur dioxide</th>\n",
       "      <th>total sulfur dioxide</th>\n",
       "      <th>density</th>\n",
       "      <th>pH</th>\n",
       "      <th>sulphates</th>\n",
       "      <th>alcohol</th>\n",
       "      <th>quality</th>\n",
       "    </tr>\n",
       "  </thead>\n",
       "  <tbody>\n",
       "    <tr>\n",
       "      <th>0</th>\n",
       "      <td>7.4</td>\n",
       "      <td>0.70</td>\n",
       "      <td>0.00</td>\n",
       "      <td>1.9</td>\n",
       "      <td>0.076</td>\n",
       "      <td>11.0</td>\n",
       "      <td>34.0</td>\n",
       "      <td>0.9978</td>\n",
       "      <td>3.51</td>\n",
       "      <td>0.56</td>\n",
       "      <td>9.4</td>\n",
       "      <td>5</td>\n",
       "    </tr>\n",
       "    <tr>\n",
       "      <th>1</th>\n",
       "      <td>7.8</td>\n",
       "      <td>0.88</td>\n",
       "      <td>0.00</td>\n",
       "      <td>2.6</td>\n",
       "      <td>0.098</td>\n",
       "      <td>25.0</td>\n",
       "      <td>67.0</td>\n",
       "      <td>0.9968</td>\n",
       "      <td>3.20</td>\n",
       "      <td>0.68</td>\n",
       "      <td>9.8</td>\n",
       "      <td>5</td>\n",
       "    </tr>\n",
       "    <tr>\n",
       "      <th>2</th>\n",
       "      <td>7.8</td>\n",
       "      <td>0.76</td>\n",
       "      <td>0.04</td>\n",
       "      <td>2.3</td>\n",
       "      <td>0.092</td>\n",
       "      <td>15.0</td>\n",
       "      <td>54.0</td>\n",
       "      <td>0.9970</td>\n",
       "      <td>3.26</td>\n",
       "      <td>0.65</td>\n",
       "      <td>9.8</td>\n",
       "      <td>5</td>\n",
       "    </tr>\n",
       "    <tr>\n",
       "      <th>3</th>\n",
       "      <td>11.2</td>\n",
       "      <td>0.28</td>\n",
       "      <td>0.56</td>\n",
       "      <td>1.9</td>\n",
       "      <td>0.075</td>\n",
       "      <td>17.0</td>\n",
       "      <td>60.0</td>\n",
       "      <td>0.9980</td>\n",
       "      <td>3.16</td>\n",
       "      <td>0.58</td>\n",
       "      <td>9.8</td>\n",
       "      <td>6</td>\n",
       "    </tr>\n",
       "    <tr>\n",
       "      <th>4</th>\n",
       "      <td>7.4</td>\n",
       "      <td>0.70</td>\n",
       "      <td>0.00</td>\n",
       "      <td>1.9</td>\n",
       "      <td>0.076</td>\n",
       "      <td>11.0</td>\n",
       "      <td>34.0</td>\n",
       "      <td>0.9978</td>\n",
       "      <td>3.51</td>\n",
       "      <td>0.56</td>\n",
       "      <td>9.4</td>\n",
       "      <td>5</td>\n",
       "    </tr>\n",
       "  </tbody>\n",
       "</table>\n",
       "</div>"
      ],
      "text/plain": [
       "   fixed acidity  volatile acidity  citric acid  residual sugar  chlorides  \\\n",
       "0            7.4              0.70         0.00             1.9      0.076   \n",
       "1            7.8              0.88         0.00             2.6      0.098   \n",
       "2            7.8              0.76         0.04             2.3      0.092   \n",
       "3           11.2              0.28         0.56             1.9      0.075   \n",
       "4            7.4              0.70         0.00             1.9      0.076   \n",
       "\n",
       "   free sulfur dioxide  total sulfur dioxide  density    pH  sulphates  \\\n",
       "0                 11.0                  34.0   0.9978  3.51       0.56   \n",
       "1                 25.0                  67.0   0.9968  3.20       0.68   \n",
       "2                 15.0                  54.0   0.9970  3.26       0.65   \n",
       "3                 17.0                  60.0   0.9980  3.16       0.58   \n",
       "4                 11.0                  34.0   0.9978  3.51       0.56   \n",
       "\n",
       "   alcohol  quality  \n",
       "0      9.4        5  \n",
       "1      9.8        5  \n",
       "2      9.8        5  \n",
       "3      9.8        6  \n",
       "4      9.4        5  "
      ]
     },
     "execution_count": 28,
     "metadata": {},
     "output_type": "execute_result"
    }
   ],
   "source": [
    "# Read in the wine quality datasets.\n",
    "df_red = pd.read_csv('../datasets/winequality-red.csv', sep=';')\n",
    "df_white = pd.read_csv('../datasets/winequality-white.csv', sep=';')\n",
    "\n",
    "# Stack datasets together. (They have the same column names!)\n",
    "df = pd.concat([df_red, df_white])\n",
    "\n",
    "# Check out head of our dataframe.\n",
    "df.head()"
   ]
  },
  {
   "cell_type": "markdown",
   "metadata": {},
   "source": [
    "### Fit a multiple linear regression model in `sklearn`."
   ]
  },
  {
   "cell_type": "code",
   "execution_count": 29,
   "metadata": {},
   "outputs": [
    {
     "data": {
      "text/plain": [
       "fixed acidity           0\n",
       "volatile acidity        0\n",
       "citric acid             0\n",
       "residual sugar          0\n",
       "chlorides               0\n",
       "free sulfur dioxide     0\n",
       "total sulfur dioxide    0\n",
       "density                 0\n",
       "pH                      0\n",
       "sulphates               0\n",
       "alcohol                 0\n",
       "dtype: int64"
      ]
     },
     "execution_count": 29,
     "metadata": {},
     "output_type": "execute_result"
    }
   ],
   "source": [
    "# Set y to be the quality column.\n",
    "y = df['quality']\n",
    "\n",
    "# Set X as all other columns.\n",
    "X = df.drop(columns=['quality'])\n",
    "\n",
    "# How much missing data do we have?\n",
    "X.isnull().sum()"
   ]
  },
  {
   "cell_type": "code",
   "execution_count": 30,
   "metadata": {},
   "outputs": [
    {
     "name": "stdout",
     "output_type": "stream",
     "text": [
      "(6497, 364)\n",
      "(6497, 11)\n"
     ]
    }
   ],
   "source": [
    "# To show off the strength of PCA, we're going to make many, many more features.\n",
    "pf = PolynomialFeatures(degree = 3)\n",
    "\n",
    "# Fit and transform our X data using Polynomial Features.\n",
    "X_new = pf.fit_transform(X)\n",
    "\n",
    "# How many features do we have now?\n",
    "print(X_new.shape)\n",
    "\n",
    "# How many features did we start out with?\n",
    "print(X.shape)"
   ]
  },
  {
   "cell_type": "code",
   "execution_count": 31,
   "metadata": {},
   "outputs": [],
   "source": [
    "# Train/test split our data.\n",
    "X_train, X_test, y_train, y_test = train_test_split(X_new,\n",
    "                                                    y,\n",
    "                                                    test_size = 0.33,\n",
    "                                                    random_state = 42)"
   ]
  },
  {
   "cell_type": "code",
   "execution_count": 32,
   "metadata": {},
   "outputs": [
    {
     "data": {
      "text/plain": [
       "LinearRegression()"
      ]
     },
     "execution_count": 32,
     "metadata": {},
     "output_type": "execute_result"
    }
   ],
   "source": [
    "# Instantiate and fit a linear regression model.\n",
    "lm = LinearRegression()\n",
    "lm.fit(X_train, y_train)\n",
    "\n",
    "# # Score on training set. (We'll use R^2 for the score today.)\n",
    "# print(f'Training Score: {round(lm.score(X_train, y_train),4)}.')\n",
    "\n",
    "# # Score on testing set.\n",
    "# print(f'Testing Score: {round(lm.score(X_test, y_test),4)}.')"
   ]
  },
  {
   "cell_type": "code",
   "execution_count": 33,
   "metadata": {},
   "outputs": [
    {
     "name": "stdout",
     "output_type": "stream",
     "text": [
      "0.42073666535061266\n",
      "1.3958207465391939\n"
     ]
    }
   ],
   "source": [
    "print(mean_squared_error(lm.predict(X_train), y_train))\n",
    "print(mean_squared_error(lm.predict(X_test), y_test))\n"
   ]
  },
  {
   "cell_type": "markdown",
   "metadata": {},
   "source": [
    "<details><summary>Check: What is the problem with this?</summary>\n",
    "    \n",
    "- We've clearly overfit our model to the data (so much so that our model's performance is really bad)!\n",
    "- We have a lot of columns relative to our number of rows! (If you have $n$ rows and you're fitting a linear model, it's often advised to keep your number of columns below $\\sqrt{n}$.)\n",
    "</details>"
   ]
  },
  {
   "cell_type": "markdown",
   "metadata": {},
   "source": [
    "<details><summary>Check: How can we overcome this problem?</summary>\n",
    "\n",
    "- We can drop features from our model. (However, this loses any benefit we'd get from dropping those features! It can also be time-consuming and/or require subject-matter expertise.)\n",
    "- Maybe we can combine features together so that we can get the benefits of most/all of our features. (This is what PCA will do.)\n",
    "</details>"
   ]
  },
  {
   "cell_type": "markdown",
   "metadata": {},
   "source": [
    "### Dimensionality Reduction\n",
    "\n",
    "[Dimensionality reduction](https://www.analyticsvidhya.com/blog/2015/07/dimension-reduction-methods/) refers to (approximately) reducing the number of features we use in our model."
   ]
  },
  {
   "cell_type": "markdown",
   "metadata": {},
   "source": [
    "<details><summary>Dimensionality reduction has a number of advantages:</summary>\n",
    "\n",
    "- Increases computational efficiency when fitting models.\n",
    "- Can help with addressing a multicollinearity problem.\n",
    "- Makes visualization simpler (or feasible).\n",
    "</details>"
   ]
  },
  {
   "cell_type": "markdown",
   "metadata": {},
   "source": [
    "<details><summary>Dimensionality reduction can suffer from some drawbacks, though:</summary>\n",
    "\n",
    "- We've invested our time and money into collecting information... why do we want to get rid of it?\n",
    "</details>"
   ]
  },
  {
   "cell_type": "markdown",
   "metadata": {},
   "source": [
    "### Is there a way to get the advantages of dimensionality reduction while minimizing the drawbacks?\n",
    "\n",
    "Dimensionality reduction can generally be broken down into one of two categories:\n",
    "\n",
    "<img src=\"../images/dim_red.png\" alt=\"drawing\" width=\"550\"/>\n",
    "\n",
    "- **Feature Selection**\n",
    "    - We drop variables from our model.\n",
    "- **Feature Extraction**\n",
    "    - In feature extraction, we take our existing features and combine them together in a particular way. We can then drop some of these \"new\" variables, but the variables we keep are still a combination of the old variables!\n",
    "    - This allows us to still reduce the number of features in our model **but** we can keep all of the most important pieces of the original features!\n",
    "\n",
    "<img src=\"../images/feast.png\" alt=\"drawing\" width=\"550\"/>\n",
    "\n",
    "### $$\n",
    "\\begin{eqnarray*}\n",
    "X_1, \\ldots, X_p &\\Rightarrow& Z_1, \\ldots, Z_p \\\\\n",
    "\\\\\n",
    "\\text{most important: }Z_1 &=& w_{1,1}X_1 + w_{1,2}X_2 + \\cdots + w_{1,p}X_p \\\\\n",
    "\\text{slightly less important: }Z_2 &=& w_{2,1}X_1 + w_{2,2}X_2 + \\cdots + w_{2,p}X_p \\\\\n",
    "&\\vdots&\\\\\n",
    "\\text{least important: }Z_p &=& w_{p,1}X_1 + w_{p,2}X_2 + \\cdots + w_{p,p}X_p \\\\\n",
    "\\end{eqnarray*}\n",
    "$$\n",
    "\n",
    "- We don't usually care about the values of weights here. They aren't very meaningful and we don't try to interpret them.\n",
    "- You can think of $Z_1$ as a \"high performance\" predictor, where $Z_1$ has all of the best pieces of our original predictors $X_1$ through $X_p$.\n",
    "- As we move down the list toward $Z_p$, the variables will consist of the more \"redundant\" parts of our $X$ variables. \n",
    "- You can think of $Z_p$ as a \"low performance\" predictor."
   ]
  },
  {
   "cell_type": "markdown",
   "metadata": {},
   "source": [
    "`NOTES`\n",
    "\n",
    "Z is a linear combination X1,x2 ...\n",
    "\n"
   ]
  },
  {
   "cell_type": "markdown",
   "metadata": {},
   "source": [
    "<details><summary>If I'm going to keep three of my new predictors, which three would I keep?</summary>\n",
    "    \n",
    "- The first three: $Z_1$, $Z_2$, and $Z_3$.\n",
    "- This is how we do feature extraction.\n",
    "    - We take our old features $X_1$, $X_2$, $X_3$, and $X_4$.\n",
    "    - We turn them into new features $Z_1$, $Z_2$, $Z_3$, and $Z_4$.\n",
    "    - The new features are combinations of our old features.\n",
    "    - If we drop new features, we're doing dimensionality reduction, but we also keep parts of every old feature!\n",
    "</details>"
   ]
  },
  {
   "cell_type": "markdown",
   "metadata": {},
   "source": [
    "Dimensionality reduction can be used as an exploratory/unsupervised learning method or as a pre-processing step for supervised learning later.\n",
    "\n",
    "**Principal component analysis** is one algorithm for doing feature extraction."
   ]
  },
  {
   "cell_type": "markdown",
   "metadata": {},
   "source": [
    "<details><summary>How would you describe the difference between feature selection and feature extraction?</summary>\n",
    "\n",
    "- Feature selection is a process of dropping original features from our model.\n",
    "- Feature extraction is a process of transforming our original features into \"new\" features, then dropping some of the \"new\" features from our model.\n",
    "</details>"
   ]
  },
  {
   "cell_type": "markdown",
   "metadata": {},
   "source": [
    "## Principal Component Analysis\n",
    "\n",
    "### Big picture, what is PCA doing?\n",
    "1. We are going to look at how all of the $X$ variables relate to one another and summarize these relationships.\n",
    "2. Then, we will take this summary and look at which combinations of our $X$ variables are most important.\n",
    "3. We can also quantify how important each combination is and rank these combinations.\n",
    "\n",
    "Once we've taken our original $X$ data and transformed it into $Z$, we can then drop the columns of $Z$ that are \"least important.\""
   ]
  },
  {
   "cell_type": "markdown",
   "metadata": {},
   "source": [
    "Imagine you are this [Whale shark](https://en.wikipedia.org/wiki/Whale_shark):\n",
    "\n",
    "<img src=\"../images/whaleshark.png\" alt=\"drawing\" width=\"500\"/>\n",
    "\n",
    "And you want a snack. Which way would you tilt your head to eat the most krill at once?\n",
    "\n",
    "<img src=\"../images/krill.png\" alt=\"drawing\" width=\"500\"/>\n",
    "\n",
    "Above artwork by [@allison_horst](https://twitter.com/allison_horst)"
   ]
  },
  {
   "cell_type": "markdown",
   "metadata": {},
   "source": [
    "<img src=\"../images/pca.gif\" alt=\"drawing\" width=\"600\"/>\n",
    "\n",
    "[Source](https://rpubs.com/jormerod/594859)."
   ]
  },
  {
   "cell_type": "markdown",
   "metadata": {},
   "source": [
    "`NOTES`\n",
    "\n",
    "364 variables \n",
    "\n",
    "principal componets --> 364 varaibles \n",
    "cut-off z = 30 if we only want thirty. \n",
    "\n",
    "by definition of importance, its coming for the most variations across the direction (hence we try diagonally first left to right)\n"
   ]
  },
  {
   "cell_type": "markdown",
   "metadata": {},
   "source": [
    "**Visually...**\n",
    "\n",
    "> Think of our data floating out in $p$-dimensional space. Each observation is a dot and you can imagine this massive cloud of dots that exists somewhere. PCA is a way to rotate this cloud of dots (formally, a [coordinate transformation](http://farside.ph.utexas.edu/teaching/336k/Newtonhtml/node153.html)). The old axes are the original $X_1$, $X_2$, $\\ldots$ features. **The new axes are the principal components from PCA**.\n",
    "\n",
    "The principal components are the most concise, informative descriptors of our data as a whole.\n",
    "- What does this mean?\n",
    "- If we wanted to take our full data set and condense it into one dimension (think like our $X$ axis), we'd only use $Z_1$.\n",
    "- If we wanted to take our full data set and condense it into two dimensions (think like our $X$ and $Y$ axes), we'd use $Z_1$ and $Z_2$.\n",
    "\n",
    "Let's head to [this site](http://setosa.io/ev/principal-component-analysis/). Play around with the 2D data. Take 2-3 minutes.\n",
    "1. As you interact with the data, how would you describe the red line?\n",
    "2. As you interact with the data, how would you describe the green line?\n",
    "\n",
    "---\n",
    "\n",
    "### Principal Components\n",
    "\n",
    "- We are looking for new *directions*. ([Insert Glee joke here](https://glee.fandom.com/wiki/New_Directions).)\n",
    "- Each consecutive direction tries to explain the maximum *remaining variance* in our $X$ data.\n",
    "- Each direction is *orthogonal* to all the others.\n",
    "\n",
    "**These new *directions* are the \"principal components.\"**\n",
    "\n",
    "> Applying PCA to your data *transforms* your original data columns (variables) onto the new principal component axes.\n"
   ]
  },
  {
   "cell_type": "markdown",
   "metadata": {},
   "source": [
    "### Two notes:\n",
    "\n",
    "1. Train/test split **before** applying PCA!\n",
    "2. Standardize our data **before** applying PCA!"
   ]
  },
  {
   "cell_type": "code",
   "execution_count": 34,
   "metadata": {},
   "outputs": [],
   "source": [
    "# Instantiate our StandardScaler.\n",
    "ss = StandardScaler()\n",
    "\n",
    "# Standardize X_train.\n",
    "X_train = ss.fit_transform(X_train)\n",
    "\n",
    "# Standardize X_test.\n",
    "X_test = ss.transform(X_test)"
   ]
  },
  {
   "cell_type": "code",
   "execution_count": 35,
   "metadata": {},
   "outputs": [],
   "source": [
    "# Import PCA.\n",
    "from sklearn.decomposition import PCA"
   ]
  },
  {
   "cell_type": "markdown",
   "metadata": {},
   "source": [
    "#### (BONUS) Why decomposition?\n",
    "The way PCA works \"under the hood\" is it takes one matrix and **decomposes** that matrix into multiple matrices.\n",
    "\n",
    "Written out, we might take some matrix $\\mathbf{A}$ and break it down into multiple matrices like this:\n",
    "\n",
    "$$\n",
    "\\begin{eqnarray*}\n",
    "\\mathbf{A} &=& \\mathbf{P}\\mathbf{D}\\mathbf{P}^{-1}\n",
    "\\end{eqnarray*}\n",
    "$$\n",
    "\n",
    "Check out [the Wikipedia article](https://en.wikipedia.org/wiki/Matrix_decomposition) for a list of ways to decompose matrices.\n",
    "- A specific method of decomposition commonly used for PCA is known as the [eigendecomposition](https://en.wikipedia.org/wiki/Eigendecomposition_of_a_matrix) or spectral decomposition of a matrix. However, eigendecompositon requires [diagonalizable](https://en.wikipedia.org/wiki/Diagonalizable_matrix) matrices. To generalize this to non-square/non-diagonalizable matrices, we more commonly use the [Singular Value Decomposition](https://en.wikipedia.org/wiki/Singular_value_decomposition) (SVD) for PCA. [PCA in Sklearn](https://scikit-learn.org/stable/modules/generated/sklearn.decomposition.PCA.html) uses SVD."
   ]
  },
  {
   "cell_type": "code",
   "execution_count": 36,
   "metadata": {},
   "outputs": [],
   "source": [
    "# Instantiate PCA.\n",
    "pca = PCA(random_state = 42)"
   ]
  },
  {
   "cell_type": "code",
   "execution_count": 37,
   "metadata": {},
   "outputs": [
    {
     "data": {
      "text/plain": [
       "PCA(random_state=42)"
      ]
     },
     "execution_count": 37,
     "metadata": {},
     "output_type": "execute_result"
    }
   ],
   "source": [
    "# Fit PCA on the training data.\n",
    "pca.fit(X_train)"
   ]
  },
  {
   "cell_type": "code",
   "execution_count": 38,
   "metadata": {},
   "outputs": [],
   "source": [
    "# Transform PCA on the training data.\n",
    "Z_train = pca.transform(X_train)"
   ]
  },
  {
   "cell_type": "code",
   "execution_count": 40,
   "metadata": {},
   "outputs": [
    {
     "data": {
      "text/plain": [
       "(364, 364)"
      ]
     },
     "execution_count": 40,
     "metadata": {},
     "output_type": "execute_result"
    }
   ],
   "source": [
    "pca.components_.shape"
   ]
  },
  {
   "cell_type": "code",
   "execution_count": 48,
   "metadata": {},
   "outputs": [
    {
     "data": {
      "text/plain": [
       "array([ 1.29486271e+01, -3.25895475e+00, -8.32580966e-01, -2.80456858e+00,\n",
       "        4.01336834e+00,  2.54377970e+00, -7.01903673e+00,  2.10613315e-01,\n",
       "       -1.04438451e+00,  4.58873831e+00, -2.07052104e+00,  4.24565309e-01,\n",
       "        1.06008193e+00, -1.91804544e-01,  1.47241165e+00, -2.41531465e-01,\n",
       "       -1.01212170e+00,  1.54416024e+00,  7.21470759e-01,  3.13569858e-01,\n",
       "        1.86337399e-01,  4.22220234e-01, -7.50021086e-01,  2.83964014e-01,\n",
       "       -1.77545053e-01,  6.93702052e-01, -2.61261054e-01,  8.15859175e-01,\n",
       "        3.82590631e-01, -4.67512569e-01, -2.58551502e-01,  3.36781988e-01,\n",
       "        3.14353778e-02, -2.24128648e-01, -3.12637755e-01,  5.27304420e-01,\n",
       "        2.76877797e-01, -4.96262014e-01,  1.65108967e-01, -1.00699306e-01,\n",
       "        2.65667290e-01, -7.81173318e-01, -4.66836442e-01, -4.87638279e-01,\n",
       "        9.19708267e-02,  1.89112795e-01, -2.71435502e-01, -2.26735847e-01,\n",
       "       -1.09063463e-01, -9.28152387e-02, -2.66946073e-01, -1.60910259e-01,\n",
       "       -2.49441823e-01,  5.42766072e-03,  2.68305039e-02, -2.47384225e-02,\n",
       "       -1.42764967e-01, -3.47483937e-02,  1.67740803e-01,  3.66251570e-02,\n",
       "       -1.63768920e-01,  2.97829538e-01, -9.42781344e-03,  1.13848655e-01,\n",
       "       -1.98946017e-01, -6.22468586e-02, -5.83541798e-03, -9.58458763e-02,\n",
       "        5.81981513e-02, -2.55561333e-01, -7.85182578e-03,  6.71878561e-03,\n",
       "        1.22216325e-02,  2.49917962e-02,  1.14168857e-01,  4.66366509e-02,\n",
       "       -1.19403636e-01, -7.71463687e-02,  9.00842452e-02, -5.26420740e-02,\n",
       "       -1.31986193e-02, -1.06289786e-01, -8.86667119e-02,  7.88994200e-03,\n",
       "        7.02019884e-02, -7.20928955e-02,  6.73241790e-02, -1.92635382e-02,\n",
       "       -2.92665279e-02,  4.62873481e-02,  8.23687401e-02, -9.37832113e-02,\n",
       "       -5.78486450e-02,  4.02156044e-02, -1.28426570e-01, -5.94931197e-02,\n",
       "       -5.11672872e-02, -9.49828587e-02, -4.47360735e-04,  8.86731734e-03,\n",
       "        9.99024668e-02, -1.36304240e-02, -9.45863781e-04, -7.51862547e-02,\n",
       "        1.87918503e-02, -4.74968533e-03,  5.53984859e-02, -1.28585818e-02,\n",
       "        3.08452563e-02, -6.04278190e-02, -4.11458984e-02,  7.18508714e-02,\n",
       "        7.84274330e-02,  6.54896508e-03, -9.61857294e-02,  1.62751246e-02,\n",
       "        4.45348408e-02, -1.63450779e-02,  1.84075522e-02,  2.13212599e-02,\n",
       "       -1.33938315e-02,  3.39767534e-03, -5.65330448e-02, -1.96594538e-02,\n",
       "        3.37095357e-02,  1.22432620e-02,  5.28231622e-02,  8.33882321e-03,\n",
       "        4.81044990e-02, -8.91240161e-03,  9.43505647e-03, -6.94330742e-03,\n",
       "        1.59799254e-02, -2.22349955e-02,  3.90083209e-03, -4.41609820e-02,\n",
       "       -5.00760014e-02, -1.66531628e-02,  4.99088047e-03, -3.89718957e-03,\n",
       "        3.40417201e-03, -7.47498117e-02,  2.74452621e-03, -1.71544343e-02,\n",
       "       -4.71454817e-03, -6.91402057e-03,  1.09142968e-02, -1.57278350e-02,\n",
       "       -2.27001971e-03,  9.94656998e-03, -6.35162816e-03,  3.11835988e-02,\n",
       "        3.01326342e-02, -1.40558315e-03,  1.68297403e-02,  2.39666971e-02,\n",
       "       -2.10592382e-02, -1.23227686e-02,  9.99038097e-05, -2.94023229e-02,\n",
       "       -1.72351272e-02,  2.12900022e-02,  6.39085711e-03, -2.29247797e-02,\n",
       "       -7.77566733e-03,  1.16361934e-02,  2.72256553e-02, -1.73800376e-02,\n",
       "       -1.28199897e-02,  5.02085636e-03, -4.93563507e-03,  3.55407981e-03,\n",
       "       -3.23513236e-03,  4.76436593e-02,  2.57276303e-02, -1.12273936e-02,\n",
       "       -5.39273644e-03, -9.21425989e-03,  1.81682652e-04, -1.20103435e-02,\n",
       "       -1.19509873e-02, -9.12326494e-04,  2.16155644e-02,  2.52457717e-03,\n",
       "        1.17986973e-03,  8.53187670e-03,  3.92725604e-03,  2.00636574e-02,\n",
       "        1.51724018e-04, -5.62855699e-03, -1.90526086e-02,  1.64034117e-02,\n",
       "        1.13088197e-03, -2.22459086e-03, -1.02940759e-02, -9.96093373e-03,\n",
       "       -1.95688962e-02, -3.03299684e-03,  5.16656891e-03,  1.43142428e-02,\n",
       "       -1.30094656e-02,  3.73506741e-03, -1.36446071e-02, -6.33451756e-04,\n",
       "       -2.23682573e-02,  5.60236670e-03,  3.10225654e-03,  1.06639256e-02,\n",
       "        1.20581638e-02, -4.10684347e-04, -9.33071767e-04, -1.14430224e-02,\n",
       "       -9.34493987e-03,  2.88388586e-03, -1.89242514e-03, -8.85431437e-03,\n",
       "       -5.05703768e-03,  6.80206895e-03, -1.26159275e-02,  3.55011083e-03,\n",
       "        4.13204629e-03, -1.13548783e-03,  8.70203937e-03, -1.74508288e-02,\n",
       "        8.12567490e-03,  1.02269477e-02, -3.23285779e-03, -1.03055160e-03,\n",
       "       -4.13391003e-04,  1.71555038e-03,  3.64079923e-04, -9.33387107e-04,\n",
       "        4.80524975e-03,  3.76899704e-03, -3.80918227e-03, -2.91430759e-03,\n",
       "        1.11108014e-02,  3.04885758e-03,  2.81685091e-03, -6.15615647e-04,\n",
       "        3.50042343e-03, -3.77143409e-03,  3.28330232e-03,  3.78022988e-03,\n",
       "        4.98594410e-03,  3.79157632e-04, -7.26333968e-04, -4.03940178e-03,\n",
       "        2.27977476e-04, -4.61073923e-03, -1.47128804e-03,  4.31035048e-03,\n",
       "       -4.65465916e-04, -2.64460119e-03,  7.20435031e-03,  1.13060129e-03,\n",
       "        2.86142090e-03,  3.59050475e-03,  3.13566321e-05,  4.06203375e-03,\n",
       "       -5.46671294e-03,  8.36882906e-04,  2.73906230e-04, -2.04080153e-03,\n",
       "       -3.33976479e-04, -2.96727921e-03,  2.57551059e-03,  2.77501101e-04,\n",
       "        5.63104088e-03, -2.02273820e-03, -1.19477851e-03,  5.40634384e-04,\n",
       "       -5.98973440e-05, -7.05166909e-04, -1.63508379e-04, -6.65401432e-04,\n",
       "        1.97216073e-03, -4.96595833e-04,  1.21720838e-03, -6.02990868e-04,\n",
       "       -1.07200150e-03,  7.00169314e-04,  4.51951063e-04,  4.95959094e-04,\n",
       "       -6.66141962e-04,  3.96849723e-04, -1.53407248e-03,  2.02670666e-03,\n",
       "        1.47843648e-03,  1.31366184e-05,  1.91730710e-03,  9.38136567e-05,\n",
       "       -1.26290077e-04,  2.35975074e-04,  4.42214155e-04,  6.56051980e-05,\n",
       "       -1.01835420e-03,  1.66034882e-05, -5.53415842e-04,  3.14895141e-04,\n",
       "        5.06082535e-05, -3.49887029e-04,  5.59827143e-04,  1.28601426e-04,\n",
       "        1.25538961e-04, -3.67890295e-04, -4.20848161e-04, -5.04104114e-05,\n",
       "        9.44577399e-06, -1.18531927e-05,  1.90473942e-05,  2.74048594e-04,\n",
       "        7.35686282e-05, -1.72587049e-04, -5.05544820e-05,  4.83618140e-05,\n",
       "        2.48606241e-05, -7.93522368e-06, -1.01135231e-04,  7.86210155e-05,\n",
       "       -8.12802931e-05, -4.52487723e-05,  5.06289633e-05,  1.19838954e-05,\n",
       "       -2.38957820e-05, -1.14078307e-04, -7.38795771e-05, -6.66549358e-05,\n",
       "        1.10282399e-05,  2.48524025e-05, -4.18278027e-05, -3.24833512e-05,\n",
       "       -3.84687543e-05, -1.68920470e-06, -2.39770830e-06, -1.31780619e-05,\n",
       "        1.82083243e-05,  7.31108496e-05, -1.43297270e-05, -1.00347408e-04,\n",
       "       -6.86114575e-05, -2.19053055e-07, -1.73344404e-05, -1.66825067e-05,\n",
       "       -6.19956773e-07,  6.83952422e-06, -1.12432091e-05, -1.60581741e-05,\n",
       "        9.84518821e-06, -4.88120509e-05, -1.05894007e-05, -7.82303064e-06,\n",
       "        9.01330433e-07, -9.34369215e-07, -1.75303032e-07,  2.24486168e-07,\n",
       "       -3.35550321e-07,  1.69542369e-07, -2.72317085e-08, -4.47985967e-07,\n",
       "        5.30520403e-07,  2.46547307e-07, -5.42141129e-08, -7.46838036e-15])"
      ]
     },
     "execution_count": 48,
     "metadata": {},
     "output_type": "execute_result"
    }
   ],
   "source": [
    "Z_train[0]"
   ]
  },
  {
   "cell_type": "code",
   "execution_count": 41,
   "metadata": {},
   "outputs": [
    {
     "data": {
      "text/plain": [
       "array([ 1.47093549e-18, -2.19395851e-02, -3.67478216e-02,  2.97734729e-02,\n",
       "        7.08598047e-02, -2.11825805e-02,  7.76656781e-02,  8.20598951e-02,\n",
       "        2.70067811e-02, -2.76058983e-02, -2.29588650e-02, -3.25057811e-02,\n",
       "       -2.33112077e-02, -3.90920642e-02,  1.30162948e-02,  6.88715194e-02,\n",
       "       -2.60664325e-02,  7.69691735e-02,  8.02233029e-02, -2.13617124e-02,\n",
       "       -3.02280220e-02, -2.78785167e-02, -3.65492035e-02, -3.59770684e-02,\n",
       "        7.28197765e-03,  5.34260136e-02, -3.37494474e-02,  5.48559499e-02,\n",
       "        5.58894433e-02, -3.65309735e-02, -3.85497942e-02, -3.97581742e-02,\n",
       "       -4.24358123e-02,  2.35308130e-02,  7.01420743e-02,  2.57637320e-04,\n",
       "        7.48237926e-02,  7.54454729e-02,  2.99550878e-02,  2.81983227e-02,\n",
       "        1.13728020e-02,  1.92895571e-02,  5.80074771e-02,  5.71690122e-02,\n",
       "        8.16928765e-02,  8.17863626e-02,  7.08369159e-02,  7.05079974e-02,\n",
       "        6.76115969e-02,  6.83477706e-02, -1.26424380e-02,  5.12799709e-02,\n",
       "        5.46743917e-02, -2.10547460e-02, -2.40442542e-02, -2.29202342e-02,\n",
       "       -2.85320698e-02,  7.05606445e-02,  8.29219727e-02,  7.78480745e-02,\n",
       "        7.60567563e-02,  6.83362505e-02,  7.05962509e-02,  8.05448357e-02,\n",
       "        8.22505561e-02,  8.04373562e-02,  7.15870645e-02,  7.57148998e-02,\n",
       "        2.70534301e-02, -2.59153919e-02, -2.26333965e-02, -3.24356078e-02,\n",
       "       -2.76438385e-02, -2.68568537e-02, -3.89370834e-02, -2.21158915e-02,\n",
       "       -3.29743827e-02, -3.13139193e-02, -2.35826217e-02, -3.73298798e-02,\n",
       "       -1.11288016e-03,  6.32167130e-02, -2.82787334e-02,  6.97187346e-02,\n",
       "        7.15545917e-02, -2.30657565e-02, -2.69903208e-02, -2.78675350e-02,\n",
       "       -3.07100294e-02, -3.71724781e-02, -3.83295281e-03,  4.91306729e-02,\n",
       "       -3.51658228e-02,  5.03737876e-02,  5.15695164e-02, -3.88771499e-02,\n",
       "       -4.10270608e-02, -4.04534542e-02, -4.40843713e-02,  1.21444940e-02,\n",
       "        6.59006540e-02, -7.09273424e-03,  7.15130835e-02,  7.15893728e-02,\n",
       "        1.31192543e-02,  1.18172319e-02, -1.06156823e-03,  5.15525288e-03,\n",
       "        5.63068567e-02,  5.07426450e-02,  8.12923282e-02,  8.10317780e-02,\n",
       "        6.88239602e-02,  6.86911319e-02,  6.35845238e-02,  6.60622770e-02,\n",
       "       -1.44727151e-02,  4.67863133e-02,  5.04532697e-02, -2.59463320e-02,\n",
       "       -2.84781915e-02, -2.54512160e-02, -3.18944991e-02,  7.13244539e-02,\n",
       "        8.33040144e-02,  7.71038736e-02,  7.58458347e-02,  6.48037464e-02,\n",
       "        7.03310970e-02,  7.96805856e-02,  8.03689951e-02,  7.94703944e-02,\n",
       "        6.79930527e-02,  7.44313804e-02, -2.07873028e-02, -2.95424489e-02,\n",
       "       -2.76191399e-02, -3.61602418e-02, -3.63171951e-02, -3.10834447e-02,\n",
       "       -4.34643577e-02, -2.54738181e-02, -3.52973227e-02, -3.89458486e-02,\n",
       "       -3.07179178e-02, -7.02198640e-03,  2.51310976e-02, -3.36862488e-02,\n",
       "        1.71169927e-02,  2.07038259e-02, -3.58700918e-02, -3.65619520e-02,\n",
       "       -3.86239582e-02, -3.79619117e-02,  1.30660151e-02,  5.29998554e-02,\n",
       "       -9.44137195e-03,  6.52617087e-02,  6.31590251e-02,  7.43379778e-03,\n",
       "        5.59457347e-03, -4.67681273e-03,  4.76146063e-04,  3.36000866e-02,\n",
       "        3.26137536e-02,  7.69586025e-02,  7.03340967e-02,  5.30745993e-02,\n",
       "        5.16052833e-02,  4.54450237e-02,  4.80173334e-02, -1.73877793e-02,\n",
       "        2.54242145e-02,  2.72678196e-02, -3.36516973e-02, -3.53552190e-02,\n",
       "       -3.03159827e-02, -3.77872180e-02,  6.34724565e-02,  7.34960900e-02,\n",
       "        5.49774277e-02,  5.19249405e-02,  4.27882430e-02,  4.81856200e-02,\n",
       "        6.85467097e-02,  5.60509766e-02,  5.37393915e-02,  4.48028438e-02,\n",
       "        5.01229739e-02, -3.63105538e-02, -3.83425089e-02, -3.95731639e-02,\n",
       "       -4.22534990e-02, -3.97866424e-02, -4.11452810e-02, -4.36682573e-02,\n",
       "       -3.44673669e-02, -4.38419272e-02, -4.46768136e-02,  1.96001840e-02,\n",
       "        5.62685141e-02,  1.56952629e-03,  5.87590654e-02,  5.78910685e-02,\n",
       "        2.36244637e-02,  2.28277420e-02,  1.21655870e-02,  1.77570941e-02,\n",
       "        5.05637597e-02,  5.76594063e-02,  7.86609337e-02,  7.83516796e-02,\n",
       "        7.00410758e-02,  7.00452776e-02,  6.51582504e-02,  6.75144171e-02,\n",
       "       -6.29163320e-03,  4.92461206e-02,  5.23094404e-02,  3.14582404e-04,\n",
       "       -6.50826354e-04, -7.67030721e-03, -3.84269426e-03,  7.27477628e-02,\n",
       "        8.06260226e-02,  7.49348474e-02,  7.44747895e-02,  6.75542615e-02,\n",
       "        7.05869626e-02,  7.77021949e-02,  7.55823649e-02,  7.50152423e-02,\n",
       "        6.84005252e-02,  7.10020581e-02,  3.01356309e-02,  2.83847748e-02,\n",
       "        1.14968614e-02,  1.95007939e-02,  2.62114234e-02,  9.89102645e-03,\n",
       "        1.76019731e-02, -2.44893271e-03,  3.68557397e-03,  8.77349925e-03,\n",
       "        2.92736540e-02,  4.95553111e-02,  7.31117276e-02,  6.32316813e-02,\n",
       "        5.73753319e-02,  5.68104890e-02,  5.28895532e-02,  5.40460315e-02,\n",
       "        1.93144551e-02,  7.41168948e-02,  7.36517728e-02,  5.71186480e-02,\n",
       "        5.65903502e-02,  4.60976887e-02,  5.55194505e-02,  7.54418850e-02,\n",
       "        8.26165383e-02,  8.16760882e-02,  8.15093601e-02,  7.96496319e-02,\n",
       "        8.14916565e-02,  8.14065907e-02,  8.17335130e-02,  8.17762258e-02,\n",
       "        7.94592720e-02,  8.15959406e-02,  7.08077759e-02,  7.04744157e-02,\n",
       "        6.75341992e-02,  6.83326794e-02,  6.97786590e-02,  6.68192976e-02,\n",
       "        6.78182120e-02,  5.59723418e-02,  6.46153937e-02,  6.32963782e-02,\n",
       "       -7.29463228e-03,  1.41348330e-02,  1.38483950e-02, -1.26246066e-02,\n",
       "       -1.36186909e-02, -1.14519488e-02, -1.45428565e-02,  5.88832054e-02,\n",
       "        6.92947936e-02,  5.13579120e-02,  5.02359767e-02,  3.66236249e-02,\n",
       "        4.91941466e-02,  6.67914801e-02,  5.47746238e-02,  5.40989291e-02,\n",
       "        3.91158761e-02,  5.33282335e-02, -2.09261407e-02, -2.39102795e-02,\n",
       "       -2.28434870e-02, -2.83903209e-02, -2.67339495e-02, -2.49168502e-02,\n",
       "       -3.13405882e-02, -1.89790351e-02, -2.74855705e-02, -3.51615937e-02,\n",
       "        5.57082458e-02,  6.88688553e-02,  7.06675785e-02,  6.97895710e-02,\n",
       "        6.82961822e-02,  6.72965057e-02,  7.78789772e-02,  8.30169644e-02,\n",
       "        8.21285240e-02,  7.96161723e-02,  8.02099069e-02,  7.80277304e-02,\n",
       "        7.62418230e-02,  6.84872058e-02,  7.08687034e-02,  7.37277510e-02,\n",
       "        6.60304537e-02,  6.87527110e-02,  4.59761945e-02,  6.10810424e-02,\n",
       "        5.96029395e-02,  7.46745797e-02,  8.06422963e-02,  7.96192871e-02,\n",
       "        7.55608099e-02,  7.81245069e-02,  8.24381771e-02,  8.06361314e-02,\n",
       "        7.17534494e-02,  7.60290806e-02,  7.78423139e-02,  6.95049648e-02,\n",
       "        7.37414481e-02,  4.68518443e-02,  6.51633205e-02,  6.37407616e-02,\n",
       "        2.71002561e-02, -2.41377051e-02, -2.23052683e-02, -3.23427448e-02,\n",
       "       -2.68366368e-02, -2.65440391e-02, -3.89030665e-02, -2.19904188e-02,\n",
       "       -3.27516988e-02, -3.13053398e-02, -2.76260854e-02, -2.95967523e-02,\n",
       "       -3.98165317e-02, -2.42729793e-02, -3.56860301e-02, -3.52417501e-02,\n",
       "       -1.83914823e-02, -2.70911536e-02, -3.65626900e-02, -3.00729907e-02])"
      ]
     },
     "execution_count": 41,
     "metadata": {},
     "output_type": "execute_result"
    }
   ],
   "source": [
    "pca.components_[0] # weights of the first principal component"
   ]
  },
  {
   "cell_type": "code",
   "execution_count": 47,
   "metadata": {},
   "outputs": [
    {
     "data": {
      "text/plain": [
       "array([ 0.00000000e+00, -7.51682345e-02, -1.33696832e+00,  8.58590678e-04,\n",
       "        8.62292481e-01, -4.50232752e-02,  1.92023423e+00,  8.33668553e-01,\n",
       "        5.05081859e-01,  1.14171148e+00, -8.17593880e-01, -9.07381844e-01,\n",
       "       -1.40064250e-01, -1.15197531e+00, -6.79178255e-02,  8.68777507e-01,\n",
       "       -9.81795113e-02,  2.01917825e+00,  8.75177613e-01, -6.73842677e-02,\n",
       "        2.61646450e-01, -6.16478878e-01, -5.58891034e-01, -8.01064184e-01,\n",
       "       -9.90577573e-01, -3.14537401e-01, -6.66815847e-01, -2.70832792e-01,\n",
       "       -7.65278859e-01, -1.33293938e+00, -1.23620973e+00, -1.16065160e+00,\n",
       "       -1.39587001e+00, -1.95586675e-01,  5.95043623e-01, -3.47591168e-02,\n",
       "        1.32685692e+00,  5.08284208e-01,  3.92928694e-03,  1.45951105e-01,\n",
       "       -3.89724118e-01, -2.23357590e-01,  3.79221962e-01,  8.41383711e-01,\n",
       "        1.71948584e+00,  9.15753309e-01,  8.58799216e-01,  1.01278212e+00,\n",
       "        4.74045186e-01,  7.58765819e-01, -1.16172125e-01,  1.50729336e+00,\n",
       "        7.11451101e-01, -4.35204775e-02,  4.39143215e-02, -2.82179146e-01,\n",
       "       -1.98243451e-01,  2.05703580e+00,  1.62749291e+00,  1.92408523e+00,\n",
       "        2.16158884e+00,  1.13034841e+00,  1.62261059e+00,  7.38130513e-01,\n",
       "        8.36649489e-01,  1.02183190e+00,  2.46694668e-01,  5.98892499e-01,\n",
       "        5.03380796e-01,  1.17042935e+00, -8.11168269e-01, -9.10515993e-01,\n",
       "        1.13724486e+00, -6.35998522e-01, -4.12164126e-01, -6.89987135e-01,\n",
       "       -1.01164866e+00, -8.87016081e-01, -1.84366928e-01, -8.99347117e-01,\n",
       "       -1.35890010e-01,  8.08625728e-01, -1.56253879e-01,  1.91869341e+00,\n",
       "        8.04047136e-01, -1.36961930e-01,  3.78008721e-03, -4.62167113e-01,\n",
       "       -3.64814670e-01, -7.53647209e-01, -7.84429523e-01, -3.10603421e-01,\n",
       "       -6.19163188e-01, -2.61103404e-01, -7.35463279e-01, -1.14767714e+00,\n",
       "       -1.09307104e+00, -9.98947460e-01, -1.21566462e+00, -2.20710263e-01,\n",
       "        5.58792031e-01, -9.07455278e-02,  1.31826005e+00,  4.97635926e-01,\n",
       "       -6.58693849e-02,  4.56438290e-02, -3.57185099e-01, -2.36303620e-01,\n",
       "        3.70512172e-01,  7.69703274e-01,  1.74613389e+00,  9.26119849e-01,\n",
       "        8.64535163e-01,  1.02535116e+00,  4.55204026e-01,  7.63246010e-01,\n",
       "       -1.30335738e-01,  1.48193131e+00,  6.99988494e-01, -9.71395318e-02,\n",
       "       -2.42151321e-02, -2.85323111e-01, -2.20307665e-01,  2.15783224e+00,\n",
       "        1.69684432e+00,  2.02151455e+00,  2.29047079e+00,  1.14425096e+00,\n",
       "        1.72847549e+00,  7.66979255e-01,  8.77324946e-01,  1.08219819e+00,\n",
       "        2.60472044e-01,  6.47019245e-01, -5.97747429e-02,  2.66700834e-01,\n",
       "       -6.11678430e-01, -5.50996698e-01,  5.82247319e-01, -5.10486702e-01,\n",
       "       -3.10955251e-01, -5.99392119e-01, -7.81338646e-01, -7.68288735e-01,\n",
       "       -4.70717478e-01, -8.23986807e-01, -4.25677184e-01, -5.33015399e-01,\n",
       "       -7.21047977e-01, -8.27805557e-01, -8.00000789e-01, -7.69843025e-01,\n",
       "       -7.60962660e-01, -8.13108036e-01, -6.38921118e-01, -2.18262954e-01,\n",
       "       -4.65078833e-01, -1.80615891e-01, -5.53217915e-01, -9.86526411e-01,\n",
       "       -9.59815243e-01, -8.73948973e-01, -1.04503745e+00, -7.31155372e-02,\n",
       "       -2.46348516e-01,  2.12612710e-01, -1.27950083e-01, -3.10254105e-01,\n",
       "       -2.69557300e-01, -4.03469980e-01, -3.57269358e-01, -2.55755845e-01,\n",
       "       -1.96369813e-01, -4.69058432e-01, -6.65575124e-01, -6.48372096e-01,\n",
       "       -5.27311290e-01, -7.20876759e-01,  3.18873791e-01,  1.40898919e-02,\n",
       "       -2.68852649e-01, -1.94254708e-01, -5.11775258e-01, -4.02555744e-01,\n",
       "       -3.79163351e-01, -7.62603086e-01, -7.10763149e-01, -8.56017712e-01,\n",
       "       -8.80978530e-01, -1.32885802e+00, -1.23258231e+00, -1.15750102e+00,\n",
       "       -1.39300722e+00, -1.13240168e+00, -1.10156795e+00, -1.29306593e+00,\n",
       "       -8.38362973e-01, -1.19120007e+00, -1.36158966e+00, -2.72618988e-01,\n",
       "        2.11275699e-01, -1.40142902e-01,  5.81504995e-01,  1.13020609e-01,\n",
       "       -1.94215319e-01, -1.31532965e-01, -3.71629696e-01, -2.95251860e-01,\n",
       "        2.14536743e-01,  5.80447509e-01,  1.27264993e+00,  6.38371647e-01,\n",
       "        5.91445906e-01,  7.10076968e-01,  2.82470783e-01,  5.11579723e-01,\n",
       "       -8.28009343e-02,  9.92264088e-01,  4.41385281e-01, -3.40530717e-02,\n",
       "        2.56434057e-02, -1.77740114e-01, -1.20084214e-01,  1.68858042e+00,\n",
       "        1.22273769e+00,  1.32853830e+00,  1.52132531e+00,  7.58166407e-01,\n",
       "        1.14803401e+00,  5.07715235e-01,  5.10019034e-01,  6.47883372e-01,\n",
       "        1.12429793e-01,  3.53237661e-01,  6.97033913e-03,  1.49029236e-01,\n",
       "       -3.87272776e-01, -2.20065638e-01,  2.95454516e-01, -3.10220067e-01,\n",
       "       -9.93959989e-02, -4.80509386e-01, -5.17505363e-01, -4.09853397e-01,\n",
       "        3.82345906e-02,  3.57778065e-01,  1.02619675e+00,  4.01750311e-01,\n",
       "        3.71215772e-01,  4.35795604e-01,  1.91283190e-01,  3.20894386e-01,\n",
       "        2.26390910e-01,  1.73102157e+00,  9.34153270e-01,  8.36141512e-01,\n",
       "        9.79959976e-01,  3.91386641e-01,  7.77907704e-01,  2.01643396e+00,\n",
       "        1.51001553e+00,  1.71573050e+00,  1.91460927e+00,  1.21944005e+00,\n",
       "        1.66198864e+00,  7.89823626e-01,  9.12166052e-01,  1.05317953e+00,\n",
       "        5.62610701e-01,  8.57561174e-01,  8.55176488e-01,  1.00836795e+00,\n",
       "        4.71215577e-01,  7.55722223e-01,  1.16606686e+00,  5.84880085e-01,\n",
       "        9.01261828e-01,  8.37230145e-02,  3.78848068e-01,  6.10351425e-01,\n",
       "       -8.09318705e-02,  3.40782231e-01,  1.05021732e-01, -1.16002112e-01,\n",
       "       -1.04199096e-01, -1.22046460e-01, -1.42659980e-01,  1.84719001e+00,\n",
       "        1.50004702e+00,  1.50830345e+00,  1.70487345e+00,  7.75132547e-01,\n",
       "        1.40723389e+00,  7.19609493e-01,  7.12484532e-01,  8.66235704e-01,\n",
       "        2.01617796e-01,  6.07579094e-01, -4.20365875e-02,  4.52894272e-02,\n",
       "       -2.81238345e-01, -1.96137920e-01,  1.33839095e-01, -2.52035976e-01,\n",
       "       -1.13930175e-01, -2.75956929e-01, -3.64066717e-01, -3.60449276e-01,\n",
       "        1.66796614e+00,  1.63842082e+00,  2.05962395e+00,  2.25201470e+00,\n",
       "        1.48330685e+00,  1.86451318e+00,  1.24106752e+00,  1.62897840e+00,\n",
       "        1.81258058e+00,  1.07647727e+00,  1.47091866e+00,  1.92783694e+00,\n",
       "        2.16572807e+00,  1.13292781e+00,  1.62911430e+00,  2.39050343e+00,\n",
       "        1.29301494e+00,  1.83781565e+00,  3.33140090e-01,  8.90227468e-01,\n",
       "        1.22769939e+00,  5.51951366e-01,  7.39352384e-01,  8.68933812e-01,\n",
       "        3.42060552e-01,  6.14671492e-01,  8.39563056e-01,  1.02491987e+00,\n",
       "        2.49138308e-01,  6.03537461e-01,  1.20246991e+00,  3.75385808e-01,\n",
       "        7.71227644e-01, -1.93471529e-01,  5.83564898e-02,  3.09170363e-01,\n",
       "        5.01647954e-01,  1.19444329e+00, -8.04707728e-01, -9.13395002e-01,\n",
       "        1.15281456e+00, -6.30360794e-01, -4.04902396e-01, -6.87774503e-01,\n",
       "       -1.00777300e+00, -8.88673771e-01,  1.12908605e+00, -4.56223478e-01,\n",
       "       -1.51504211e-02, -6.45607078e-01, -8.46495726e-01, -6.70047871e-01,\n",
       "       -4.93656074e-01, -7.69701699e-01, -1.04562652e+00, -8.61615116e-01])"
      ]
     },
     "execution_count": 47,
     "metadata": {},
     "output_type": "execute_result"
    }
   ],
   "source": [
    "X_train[0]"
   ]
  },
  {
   "cell_type": "code",
   "execution_count": null,
   "metadata": {},
   "outputs": [
    {
     "data": {
      "text/html": [
       "<div>\n",
       "<style scoped>\n",
       "    .dataframe tbody tr th:only-of-type {\n",
       "        vertical-align: middle;\n",
       "    }\n",
       "\n",
       "    .dataframe tbody tr th {\n",
       "        vertical-align: top;\n",
       "    }\n",
       "\n",
       "    .dataframe thead th {\n",
       "        text-align: right;\n",
       "    }\n",
       "</style>\n",
       "<table border=\"1\" class=\"dataframe\">\n",
       "  <thead>\n",
       "    <tr style=\"text-align: right;\">\n",
       "      <th></th>\n",
       "      <th>0</th>\n",
       "      <th>1</th>\n",
       "      <th>2</th>\n",
       "      <th>3</th>\n",
       "      <th>4</th>\n",
       "      <th>5</th>\n",
       "      <th>6</th>\n",
       "      <th>7</th>\n",
       "      <th>8</th>\n",
       "      <th>9</th>\n",
       "      <th>...</th>\n",
       "      <th>354</th>\n",
       "      <th>355</th>\n",
       "      <th>356</th>\n",
       "      <th>357</th>\n",
       "      <th>358</th>\n",
       "      <th>359</th>\n",
       "      <th>360</th>\n",
       "      <th>361</th>\n",
       "      <th>362</th>\n",
       "      <th>363</th>\n",
       "    </tr>\n",
       "  </thead>\n",
       "  <tbody>\n",
       "    <tr>\n",
       "      <th>count</th>\n",
       "      <td>4.352000e+03</td>\n",
       "      <td>4.352000e+03</td>\n",
       "      <td>4.352000e+03</td>\n",
       "      <td>4.352000e+03</td>\n",
       "      <td>4.352000e+03</td>\n",
       "      <td>4.352000e+03</td>\n",
       "      <td>4.352000e+03</td>\n",
       "      <td>4.352000e+03</td>\n",
       "      <td>4.352000e+03</td>\n",
       "      <td>4.352000e+03</td>\n",
       "      <td>...</td>\n",
       "      <td>4.352000e+03</td>\n",
       "      <td>4.352000e+03</td>\n",
       "      <td>4.352000e+03</td>\n",
       "      <td>4.352000e+03</td>\n",
       "      <td>4.352000e+03</td>\n",
       "      <td>4.352000e+03</td>\n",
       "      <td>4.352000e+03</td>\n",
       "      <td>4.352000e+03</td>\n",
       "      <td>4.352000e+03</td>\n",
       "      <td>4.352000e+03</td>\n",
       "    </tr>\n",
       "    <tr>\n",
       "      <th>mean</th>\n",
       "      <td>3.265362e-16</td>\n",
       "      <td>-2.269937e-16</td>\n",
       "      <td>-1.208184e-16</td>\n",
       "      <td>3.928638e-17</td>\n",
       "      <td>-5.043453e-17</td>\n",
       "      <td>-2.020443e-17</td>\n",
       "      <td>4.413341e-17</td>\n",
       "      <td>-3.295975e-17</td>\n",
       "      <td>1.378595e-16</td>\n",
       "      <td>1.300022e-16</td>\n",
       "      <td>...</td>\n",
       "      <td>-1.597755e-17</td>\n",
       "      <td>-3.604135e-17</td>\n",
       "      <td>8.999074e-18</td>\n",
       "      <td>-7.775116e-17</td>\n",
       "      <td>-2.171008e-17</td>\n",
       "      <td>5.616240e-18</td>\n",
       "      <td>-4.940058e-18</td>\n",
       "      <td>-2.171527e-17</td>\n",
       "      <td>4.771408e-17</td>\n",
       "      <td>5.633305e-26</td>\n",
       "    </tr>\n",
       "    <tr>\n",
       "      <th>std</th>\n",
       "      <td>1.059077e+01</td>\n",
       "      <td>8.173139e+00</td>\n",
       "      <td>6.290206e+00</td>\n",
       "      <td>5.899809e+00</td>\n",
       "      <td>4.755777e+00</td>\n",
       "      <td>4.187379e+00</td>\n",
       "      <td>3.663482e+00</td>\n",
       "      <td>3.519570e+00</td>\n",
       "      <td>2.952624e+00</td>\n",
       "      <td>2.382871e+00</td>\n",
       "      <td>...</td>\n",
       "      <td>3.324420e-07</td>\n",
       "      <td>2.824236e-07</td>\n",
       "      <td>2.473689e-07</td>\n",
       "      <td>1.937117e-07</td>\n",
       "      <td>1.745561e-07</td>\n",
       "      <td>1.617731e-07</td>\n",
       "      <td>1.377643e-07</td>\n",
       "      <td>9.470085e-08</td>\n",
       "      <td>2.940241e-08</td>\n",
       "      <td>3.084790e-16</td>\n",
       "    </tr>\n",
       "    <tr>\n",
       "      <th>min</th>\n",
       "      <td>-2.652547e+01</td>\n",
       "      <td>-1.274783e+01</td>\n",
       "      <td>-2.469224e+01</td>\n",
       "      <td>-4.787008e+01</td>\n",
       "      <td>-2.255302e+01</td>\n",
       "      <td>-2.058849e+01</td>\n",
       "      <td>-2.871649e+01</td>\n",
       "      <td>-1.818558e+01</td>\n",
       "      <td>-1.423366e+01</td>\n",
       "      <td>-2.376801e+01</td>\n",
       "      <td>...</td>\n",
       "      <td>-3.023989e-06</td>\n",
       "      <td>-2.779914e-06</td>\n",
       "      <td>-1.989357e-06</td>\n",
       "      <td>-1.760353e-06</td>\n",
       "      <td>-1.692596e-06</td>\n",
       "      <td>-1.716397e-06</td>\n",
       "      <td>-1.619285e-06</td>\n",
       "      <td>-8.943172e-07</td>\n",
       "      <td>-2.324601e-07</td>\n",
       "      <td>-7.468380e-15</td>\n",
       "    </tr>\n",
       "    <tr>\n",
       "      <th>25%</th>\n",
       "      <td>-7.399924e+00</td>\n",
       "      <td>-5.048388e+00</td>\n",
       "      <td>-4.000986e+00</td>\n",
       "      <td>-3.001194e+00</td>\n",
       "      <td>-2.383840e+00</td>\n",
       "      <td>-2.356163e+00</td>\n",
       "      <td>-2.189302e+00</td>\n",
       "      <td>-2.283286e+00</td>\n",
       "      <td>-1.858204e+00</td>\n",
       "      <td>-1.434927e+00</td>\n",
       "      <td>...</td>\n",
       "      <td>-1.378026e-07</td>\n",
       "      <td>-9.565181e-08</td>\n",
       "      <td>-1.013028e-07</td>\n",
       "      <td>-7.476632e-08</td>\n",
       "      <td>-6.683678e-08</td>\n",
       "      <td>-6.463550e-08</td>\n",
       "      <td>-4.998106e-08</td>\n",
       "      <td>-3.541248e-08</td>\n",
       "      <td>-1.156609e-08</td>\n",
       "      <td>-7.859317e-17</td>\n",
       "    </tr>\n",
       "    <tr>\n",
       "      <th>50%</th>\n",
       "      <td>-1.779810e+00</td>\n",
       "      <td>-1.784668e+00</td>\n",
       "      <td>-6.808596e-01</td>\n",
       "      <td>-6.803642e-02</td>\n",
       "      <td>-4.819930e-02</td>\n",
       "      <td>-7.350413e-02</td>\n",
       "      <td>-1.303354e-01</td>\n",
       "      <td>-1.860893e-01</td>\n",
       "      <td>1.402668e-01</td>\n",
       "      <td>-7.198744e-02</td>\n",
       "      <td>...</td>\n",
       "      <td>1.628219e-08</td>\n",
       "      <td>1.037889e-08</td>\n",
       "      <td>-9.718861e-09</td>\n",
       "      <td>3.965882e-09</td>\n",
       "      <td>3.880143e-10</td>\n",
       "      <td>-1.324977e-09</td>\n",
       "      <td>6.129281e-10</td>\n",
       "      <td>2.191273e-09</td>\n",
       "      <td>4.248713e-10</td>\n",
       "      <td>1.950243e-17</td>\n",
       "    </tr>\n",
       "    <tr>\n",
       "      <th>75%</th>\n",
       "      <td>6.595688e+00</td>\n",
       "      <td>2.770390e+00</td>\n",
       "      <td>3.760017e+00</td>\n",
       "      <td>3.103933e+00</td>\n",
       "      <td>2.411031e+00</td>\n",
       "      <td>2.287913e+00</td>\n",
       "      <td>1.959506e+00</td>\n",
       "      <td>2.180386e+00</td>\n",
       "      <td>1.909862e+00</td>\n",
       "      <td>1.358250e+00</td>\n",
       "      <td>...</td>\n",
       "      <td>1.393233e-07</td>\n",
       "      <td>1.054804e-07</td>\n",
       "      <td>1.014314e-07</td>\n",
       "      <td>7.356252e-08</td>\n",
       "      <td>6.753657e-08</td>\n",
       "      <td>5.911348e-08</td>\n",
       "      <td>4.857960e-08</td>\n",
       "      <td>3.957595e-08</td>\n",
       "      <td>1.240288e-08</td>\n",
       "      <td>1.172730e-16</td>\n",
       "    </tr>\n",
       "    <tr>\n",
       "      <th>max</th>\n",
       "      <td>9.524253e+01</td>\n",
       "      <td>1.149057e+02</td>\n",
       "      <td>8.074751e+01</td>\n",
       "      <td>1.338557e+02</td>\n",
       "      <td>7.609410e+01</td>\n",
       "      <td>3.965114e+01</td>\n",
       "      <td>3.559624e+01</td>\n",
       "      <td>5.628123e+01</td>\n",
       "      <td>1.936733e+01</td>\n",
       "      <td>2.458697e+01</td>\n",
       "      <td>...</td>\n",
       "      <td>4.492273e-06</td>\n",
       "      <td>4.635209e-06</td>\n",
       "      <td>3.338466e-06</td>\n",
       "      <td>2.044531e-06</td>\n",
       "      <td>2.028879e-06</td>\n",
       "      <td>1.779281e-06</td>\n",
       "      <td>1.906753e-06</td>\n",
       "      <td>1.092489e-06</td>\n",
       "      <td>4.183708e-07</td>\n",
       "      <td>1.523538e-15</td>\n",
       "    </tr>\n",
       "  </tbody>\n",
       "</table>\n",
       "<p>8 rows × 364 columns</p>\n",
       "</div>"
      ],
      "text/plain": [
       "                0             1             2             3             4    \\\n",
       "count  4.352000e+03  4.352000e+03  4.352000e+03  4.352000e+03  4.352000e+03   \n",
       "mean   3.265362e-16 -2.269937e-16 -1.208184e-16  3.928638e-17 -5.043453e-17   \n",
       "std    1.059077e+01  8.173139e+00  6.290206e+00  5.899809e+00  4.755777e+00   \n",
       "min   -2.652547e+01 -1.274783e+01 -2.469224e+01 -4.787008e+01 -2.255302e+01   \n",
       "25%   -7.399924e+00 -5.048388e+00 -4.000986e+00 -3.001194e+00 -2.383840e+00   \n",
       "50%   -1.779810e+00 -1.784668e+00 -6.808596e-01 -6.803642e-02 -4.819930e-02   \n",
       "75%    6.595688e+00  2.770390e+00  3.760017e+00  3.103933e+00  2.411031e+00   \n",
       "max    9.524253e+01  1.149057e+02  8.074751e+01  1.338557e+02  7.609410e+01   \n",
       "\n",
       "                5             6             7             8             9    \\\n",
       "count  4.352000e+03  4.352000e+03  4.352000e+03  4.352000e+03  4.352000e+03   \n",
       "mean  -2.020443e-17  4.413341e-17 -3.295975e-17  1.378595e-16  1.300022e-16   \n",
       "std    4.187379e+00  3.663482e+00  3.519570e+00  2.952624e+00  2.382871e+00   \n",
       "min   -2.058849e+01 -2.871649e+01 -1.818558e+01 -1.423366e+01 -2.376801e+01   \n",
       "25%   -2.356163e+00 -2.189302e+00 -2.283286e+00 -1.858204e+00 -1.434927e+00   \n",
       "50%   -7.350413e-02 -1.303354e-01 -1.860893e-01  1.402668e-01 -7.198744e-02   \n",
       "75%    2.287913e+00  1.959506e+00  2.180386e+00  1.909862e+00  1.358250e+00   \n",
       "max    3.965114e+01  3.559624e+01  5.628123e+01  1.936733e+01  2.458697e+01   \n",
       "\n",
       "       ...           354           355           356           357  \\\n",
       "count  ...  4.352000e+03  4.352000e+03  4.352000e+03  4.352000e+03   \n",
       "mean   ... -1.597755e-17 -3.604135e-17  8.999074e-18 -7.775116e-17   \n",
       "std    ...  3.324420e-07  2.824236e-07  2.473689e-07  1.937117e-07   \n",
       "min    ... -3.023989e-06 -2.779914e-06 -1.989357e-06 -1.760353e-06   \n",
       "25%    ... -1.378026e-07 -9.565181e-08 -1.013028e-07 -7.476632e-08   \n",
       "50%    ...  1.628219e-08  1.037889e-08 -9.718861e-09  3.965882e-09   \n",
       "75%    ...  1.393233e-07  1.054804e-07  1.014314e-07  7.356252e-08   \n",
       "max    ...  4.492273e-06  4.635209e-06  3.338466e-06  2.044531e-06   \n",
       "\n",
       "                358           359           360           361           362  \\\n",
       "count  4.352000e+03  4.352000e+03  4.352000e+03  4.352000e+03  4.352000e+03   \n",
       "mean  -2.171008e-17  5.616240e-18 -4.940058e-18 -2.171527e-17  4.771408e-17   \n",
       "std    1.745561e-07  1.617731e-07  1.377643e-07  9.470085e-08  2.940241e-08   \n",
       "min   -1.692596e-06 -1.716397e-06 -1.619285e-06 -8.943172e-07 -2.324601e-07   \n",
       "25%   -6.683678e-08 -6.463550e-08 -4.998106e-08 -3.541248e-08 -1.156609e-08   \n",
       "50%    3.880143e-10 -1.324977e-09  6.129281e-10  2.191273e-09  4.248713e-10   \n",
       "75%    6.753657e-08  5.911348e-08  4.857960e-08  3.957595e-08  1.240288e-08   \n",
       "max    2.028879e-06  1.779281e-06  1.906753e-06  1.092489e-06  4.183708e-07   \n",
       "\n",
       "                363  \n",
       "count  4.352000e+03  \n",
       "mean   5.633305e-26  \n",
       "std    3.084790e-16  \n",
       "min   -7.468380e-15  \n",
       "25%   -7.859317e-17  \n",
       "50%    1.950243e-17  \n",
       "75%    1.172730e-16  \n",
       "max    1.523538e-15  \n",
       "\n",
       "[8 rows x 364 columns]"
      ]
     },
     "execution_count": 12,
     "metadata": {},
     "output_type": "execute_result"
    }
   ],
   "source": [
    "# Let's check out the resulting data.\n",
    "pd.DataFrame(Z_train).describe()"
   ]
  },
  {
   "cell_type": "code",
   "execution_count": null,
   "metadata": {},
   "outputs": [],
   "source": [
    "# Don't forget to transform the test data!\n",
    "Z_test = pca.transform(X_test)"
   ]
  },
  {
   "cell_type": "markdown",
   "metadata": {},
   "source": [
    "### So, like, big picture, what is PCA doing?\n",
    "Well, we're transforming our data. Specifically, we are:\n",
    "1. We are going to look at how all of the $X$ variables relate to one another, then summarize these relationships. (This is done with the **covariance matrix**.)\n",
    "2. Then, we will take this summary and look at which combinations of our $X$ variables are most important. (We will decompose our covariance matrix into its **eigenvectors**, which is a linear algebra term that allows us to understand the most important \"directions\" in our data, which are our principal components!)\n",
    "3. We can also see exactly how important each combination is, then rank these combinations. (With each eigenvector, we get an **eigenvalue**. This eigenvalue is a number that tells us how important each \"direction\" or principal component is.)\n",
    "    - Want a better understanding of eigenvectors and eigenvalues? [Check this 3Blue1Brown video out!](https://www.youtube.com/watch?v=PFDu9oVAE-g)\n",
    "\n",
    "Remember that one of our goals with PCA is to do dimensionality reduction (a.k.a. get rid of features).\n",
    "\n",
    "We can: \n",
    "- measure how important each principal component is using the eigenvalue, \n",
    "- rank the columns of `Z_train` by their eigenvalues,\n",
    "- then drop the columns with small eigenvalues (little importance) but keep the columns with big eigenvalues (very important).\n",
    "    - In `sklearn`, when transformed by PCA, the columns will already be sorted by their eigenvalues from biggest to smallest! The first column will be the most important, the second column will be the next most important, and so on.\n",
    "\n",
    "#### But how many features do we discard?\n",
    "\n",
    "A useful measure is the **proportion of explained variance**, which is calculated from the **eigenvalues**. \n",
    "\n",
    "The explained variance tells us how much information (variance) is captured by each principal component.\n",
    "\n",
    "### $$ \\text{explained variance of }PC_k = \\bigg(\\frac{\\text{eigenvalue of } PC_k}{\\sum_{i=1}^p\\text{eigenvalue of } PC_i}\\bigg)$$\n",
    "\n",
    "Rather than write out \"$\\text{eigenvalue of } PC_k$\", we usually just write $\\lambda_k$.\n",
    "\n",
    "If I want to calculate the proportion of explained variance by retaining $PC_1$ and $PC_2$, I would calculate this as:\n",
    "\n",
    "### $$ \\text{explained variance of } PC_1 \\text{ and } PC_2 = \\bigg(\\frac{\\lambda_1 + \\lambda_2}{\\sum_{i=1}^p \\lambda_i} \\bigg)$$"
   ]
  },
  {
   "cell_type": "code",
   "execution_count": null,
   "metadata": {},
   "outputs": [
    {
     "name": "stdout",
     "output_type": "stream",
     "text": [
      "Explained variance (first 20 components): [0.309 0.184 0.109 0.096 0.062 0.048 0.037 0.034 0.024 0.016 0.013 0.011\n",
      " 0.009 0.006 0.004 0.003 0.003 0.003 0.003 0.002]\n",
      "\n",
      "Cumulative explained variance (first 20 components): [0.309 0.493 0.602 0.698 0.76  0.808 0.845 0.879 0.903 0.919 0.932 0.943\n",
      " 0.952 0.958 0.962 0.966 0.969 0.972 0.975 0.977]\n"
     ]
    }
   ],
   "source": [
    "# Pull the explained variance attribute.\n",
    "var_exp = pca.explained_variance_ratio_\n",
    "print(f'Explained variance (first 20 components): {np.round(var_exp[:20],3)}')\n",
    "\n",
    "print('')\n",
    "\n",
    "# Generate the cumulative explained variance.\n",
    "cum_var_exp = np.cumsum(var_exp)\n",
    "print(f'Cumulative explained variance (first 20 components): {np.round(cum_var_exp[:20],3)}')"
   ]
  },
  {
   "cell_type": "markdown",
   "metadata": {},
   "source": [
    "<details><summary>Check: If I wanted to explain at least 80% of the variability in my data with principal components, what is the smallest number of principal components that I would need to keep? </summary>\n",
    "\n",
    "- Only six! \n",
    "- I could keep $Z_1, Z_2, \\ldots, Z_6$ in my model, and this would explain 80.8% of the variability in my $X$ data.\n",
    "</details>"
   ]
  },
  {
   "cell_type": "markdown",
   "metadata": {},
   "source": [
    "## Let's compare our PCA'ed performance to our original performance!\n",
    "\n",
    "#### Original performance:\n",
    "\n",
    "<img src=\"../images/lr_performance.png\" alt=\"drawing\" width=\"800\"/>"
   ]
  },
  {
   "cell_type": "markdown",
   "metadata": {},
   "source": [
    "#### Principal Component Regression performance:"
   ]
  },
  {
   "cell_type": "code",
   "execution_count": null,
   "metadata": {},
   "outputs": [
    {
     "data": {
      "text/plain": [
       "PCA(n_components=10, random_state=42)"
      ]
     },
     "execution_count": 15,
     "metadata": {},
     "output_type": "execute_result"
    }
   ],
   "source": [
    "# Instantiate PCA with 10 components.\n",
    "pca = PCA(n_components = 10, random_state = 42)\n",
    "\n",
    "# Fit PCA to training data.\n",
    "pca.fit(X_train)"
   ]
  },
  {
   "cell_type": "code",
   "execution_count": null,
   "metadata": {},
   "outputs": [
    {
     "name": "stdout",
     "output_type": "stream",
     "text": [
      "Training Score: 0.2902\n",
      "Testing Score: 0.2639\n"
     ]
    }
   ],
   "source": [
    "# Instantiate linear regression model.\n",
    "lm = LinearRegression()\n",
    "\n",
    "# Transform Z_train and Z_test.\n",
    "Z_train = pca.transform(X_train)\n",
    "Z_test = pca.transform(X_test)\n",
    "\n",
    "# Fit on Z_train.\n",
    "lm.fit(Z_train, y_train)\n",
    "\n",
    "# Score on training and testing sets.\n",
    "print(f'Training Score: {round(lm.score(Z_train, y_train),4)}')\n",
    "print(f'Testing Score: {round(lm.score(Z_test, y_test),4)}')"
   ]
  },
  {
   "cell_type": "markdown",
   "metadata": {},
   "source": [
    "Our final model here is:\n",
    "\n",
    "$$\n",
    "\\begin{eqnarray*}\n",
    "[\\text{quality}] &=& \\beta_0 + \\beta_1Z_1 + \\beta_2Z_2 + \\cdots + \\beta_{10}Z_{10} \\\\\n",
    "\\\\\n",
    "\\text{where } Z_1 &=& \\gamma_1X_1 + \\gamma_2X_2 + \\gamma_3X_3 + \\cdots \\gamma_pX_p \\\\\n",
    "\\text{and } Z_2 &=& \\delta_1X_1 + \\delta_2X_2 + \\delta_3X_3 + \\cdots \\delta_pX_p \\\\\n",
    "&\\vdots& \\\\\n",
    "\\text{and } Z_{10} &=& \\eta_1X_1 + \\eta_2X_2 + \\eta_3X_3 + \\cdots \\eta_pX_p \\\\\n",
    "\\end{eqnarray*}\n",
    "$$"
   ]
  },
  {
   "cell_type": "markdown",
   "metadata": {},
   "source": [
    "**Two assumptions that PCA makes:**\n",
    "1. **Linearity:** PCA detects and controls for linear relationships, so we assume that the data does not hold nonlinear relationships (or that we don't care about these nonlinear relationships).\n",
    "    - We are using our covariance matrix to determine important \"directions,\" which is a measure of the linear relationship between observations!\n",
    "    - There are other types of feature extraction like [t-SNE](https://lvdmaaten.github.io/tsne/) and [PPA](https://towardsdatascience.com/interesting-projections-where-pca-fails-fe64ddca73e6), though we won't formally cover those in a global lesson.\n",
    "    \n",
    "    \n",
    "2. **Large variances define importance:** If data is spread in a direction, that direction is important! If there is little spread in a direction, that direction is not very important.\n",
    "    - That aligns with what we saw [here](http://setosa.io/ev/principal-component-analysis/)."
   ]
  },
  {
   "cell_type": "markdown",
   "metadata": {},
   "source": [
    "### Potential Use Cases for PCA\n",
    "- Situations where $p \\not\\ll n$. (Situations where $p$ is not substantially smaller than $n$.)\n",
    "- Situations in which there are variables with high multicollinearity. (Can be traditional models or models with highly correlated inputs by design, like images.)\n",
    "- Situations in which there are many variables, even without explicit multicollinearity."
   ]
  },
  {
   "cell_type": "markdown",
   "metadata": {},
   "source": [
    "### Interview Questions"
   ]
  },
  {
   "cell_type": "markdown",
   "metadata": {},
   "source": [
    "<details><summary>Explain PCA to me.</summary>\n",
    "\n",
    "- Principal component analysis is a method of dimensionality reduction that **identifies important relationships** in our data, **transforms the existing data** based on these relationships, and then **quantifies the importance** of these relationships so we can keep the most important relationships and drop the others!\n",
    "\n",
    "<details><summary>How can I remember the above?</summary>\n",
    "\n",
    "Matt's \"Three Signposts:\"\n",
    "- Covariance Matrix\n",
    "- Eigenvectors\n",
    "- Eigenvalues\n",
    "</details>\n",
    "</details>"
   ]
  },
  {
   "cell_type": "markdown",
   "metadata": {},
   "source": [
    "<details><summary>In what cases would I not use PCA?</summary>\n",
    "\n",
    "- Since PCA distorts the interpretability of our features, we should not use PCA if our goal is to interpret the output of our model.\n",
    "- If we have relatively few features as inputs, PCA is unlikely to have a large positive impact on our model.\n",
    "</details>"
   ]
  },
  {
   "cell_type": "markdown",
   "metadata": {},
   "source": [
    "### LEARNING OBJECTIVES\n",
    "By the end of the lesson, students should be able to:\n",
    "1. Differentiate between feature selection and feature extraction.\n",
    "2. Describe the PCA algorithm.\n",
    "3. Implement PCA in `scikit-learn`.\n",
    "4. Calculate and interpret proportion of explained variance.\n",
    "5. Identify use cases for PCA."
   ]
  }
 ],
 "metadata": {
  "kernelspec": {
   "display_name": "Python 3",
   "language": "python",
   "name": "python3"
  },
  "language_info": {
   "codemirror_mode": {
    "name": "ipython",
    "version": 3
   },
   "file_extension": ".py",
   "mimetype": "text/x-python",
   "name": "python",
   "nbconvert_exporter": "python",
   "pygments_lexer": "ipython3",
   "version": "3.8.12"
  }
 },
 "nbformat": 4,
 "nbformat_minor": 2
}
