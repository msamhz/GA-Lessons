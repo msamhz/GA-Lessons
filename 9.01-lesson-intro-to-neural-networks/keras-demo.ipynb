{
 "cells": [
  {
   "cell_type": "markdown",
   "metadata": {},
   "source": [
    "<img src=\"http://imgur.com/1ZcRyrc.png\" style=\"float: left; margin: 20px; height: 55px\">\n",
    "\n",
    "## Intro to Neural Networks\n",
    "\n",
    "\n",
    "_Author:_ Tim Book"
   ]
  },
  {
   "cell_type": "code",
   "execution_count": 1,
   "metadata": {},
   "outputs": [
    {
     "name": "stderr",
     "output_type": "stream",
     "text": [
      "c:\\Users\\Admin\\AppData\\Local\\Programs\\Python\\Python39\\lib\\site-packages\\requests\\__init__.py:102: RequestsDependencyWarning: urllib3 (1.26.6) or chardet (5.0.0)/charset_normalizer (2.0.3) doesn't match a supported version!\n",
      "  warnings.warn(\"urllib3 ({}) or chardet ({})/charset_normalizer ({}) doesn't match a supported \"\n"
     ]
    }
   ],
   "source": [
    "import matplotlib.pyplot as plt\n",
    "%matplotlib inline\n",
    "\n",
    "import numpy as np\n",
    "from sklearn.datasets import make_classification\n",
    "from sklearn.preprocessing import OneHotEncoder\n",
    "\n",
    "from tensorflow.keras.optimizers import Adam, SGD\n",
    "from tensorflow.keras.models import Sequential\n",
    "from tensorflow.keras.layers import Dense"
   ]
  },
  {
   "cell_type": "code",
   "execution_count": 2,
   "metadata": {},
   "outputs": [],
   "source": [
    "# Making some fake data for illustration purposes.\n",
    "# On your own time, try making this BIGGER!\n",
    "X, y = make_classification(\n",
    "    n_samples=100_000,\n",
    "    n_features=200,\n",
    "    n_informative=200,\n",
    "    n_redundant=0,\n",
    "    n_classes=10,\n",
    "    random_state=42\n",
    ")"
   ]
  },
  {
   "cell_type": "code",
   "execution_count": 3,
   "metadata": {},
   "outputs": [
    {
     "data": {
      "text/plain": [
       "array([0, 8, 6, ..., 3, 9, 0])"
      ]
     },
     "execution_count": 3,
     "metadata": {},
     "output_type": "execute_result"
    }
   ],
   "source": [
    "y"
   ]
  },
  {
   "cell_type": "code",
   "execution_count": 4,
   "metadata": {},
   "outputs": [],
   "source": [
    "# Since we're doing multiclass classification, we actually need to one-hot\n",
    "# encode y to be an n-by-10 matrix. Keras doesn't know we're doing classification!\n",
    "oh = OneHotEncoder(\n",
    "    sparse=False,\n",
    "    dtype=int,\n",
    "    categories=\"auto\"\n",
    ")\n",
    "\n",
    "y = oh.fit_transform(y.reshape(-1, 1))"
   ]
  },
  {
   "cell_type": "code",
   "execution_count": 5,
   "metadata": {},
   "outputs": [
    {
     "data": {
      "text/plain": [
       "array([[1, 0, 0, 0, 0, 0, 0, 0, 0, 0],\n",
       "       [0, 0, 0, 0, 0, 0, 0, 0, 1, 0],\n",
       "       [0, 0, 0, 0, 0, 0, 1, 0, 0, 0],\n",
       "       [0, 0, 0, 1, 0, 0, 0, 0, 0, 0],\n",
       "       [1, 0, 0, 0, 0, 0, 0, 0, 0, 0],\n",
       "       [0, 0, 0, 0, 0, 0, 0, 0, 1, 0],\n",
       "       [0, 0, 0, 1, 0, 0, 0, 0, 0, 0],\n",
       "       [0, 0, 0, 0, 0, 0, 1, 0, 0, 0],\n",
       "       [0, 0, 0, 1, 0, 0, 0, 0, 0, 0],\n",
       "       [0, 0, 0, 0, 0, 1, 0, 0, 0, 0]])"
      ]
     },
     "execution_count": 5,
     "metadata": {},
     "output_type": "execute_result"
    }
   ],
   "source": [
    "y[:10]\n",
    "\n",
    "# zero \n",
    "# 8 \n",
    "# 6"
   ]
  },
  {
   "cell_type": "code",
   "execution_count": 6,
   "metadata": {},
   "outputs": [
    {
     "data": {
      "text/plain": [
       "(100000, 10)"
      ]
     },
     "execution_count": 6,
     "metadata": {},
     "output_type": "execute_result"
    }
   ],
   "source": [
    "y.shape"
   ]
  },
  {
   "cell_type": "code",
   "execution_count": 7,
   "metadata": {},
   "outputs": [
    {
     "data": {
      "text/plain": [
       "(100000, 200)"
      ]
     },
     "execution_count": 7,
     "metadata": {},
     "output_type": "execute_result"
    }
   ],
   "source": [
    "X.shape"
   ]
  },
  {
   "cell_type": "code",
   "execution_count": 8,
   "metadata": {},
   "outputs": [
    {
     "data": {
      "text/plain": [
       "(100000, 10)"
      ]
     },
     "execution_count": 8,
     "metadata": {},
     "output_type": "execute_result"
    }
   ],
   "source": [
    "y.shape"
   ]
  },
  {
   "cell_type": "code",
   "execution_count": 9,
   "metadata": {},
   "outputs": [
    {
     "data": {
      "text/plain": [
       "array([[1, 0, 0, 0, 0, 0, 0, 0, 0, 0],\n",
       "       [0, 0, 0, 0, 0, 0, 0, 0, 1, 0],\n",
       "       [0, 0, 0, 0, 0, 0, 1, 0, 0, 0],\n",
       "       [0, 0, 0, 1, 0, 0, 0, 0, 0, 0],\n",
       "       [1, 0, 0, 0, 0, 0, 0, 0, 0, 0],\n",
       "       [0, 0, 0, 0, 0, 0, 0, 0, 1, 0],\n",
       "       [0, 0, 0, 1, 0, 0, 0, 0, 0, 0],\n",
       "       [0, 0, 0, 0, 0, 0, 1, 0, 0, 0],\n",
       "       [0, 0, 0, 1, 0, 0, 0, 0, 0, 0],\n",
       "       [0, 0, 0, 0, 0, 1, 0, 0, 0, 0]])"
      ]
     },
     "execution_count": 9,
     "metadata": {},
     "output_type": "execute_result"
    }
   ],
   "source": [
    "y[:10, :]"
   ]
  },
  {
   "cell_type": "code",
   "execution_count": 10,
   "metadata": {},
   "outputs": [],
   "source": [
    "# Instantiate model - from keras\n",
    "model = Sequential()"
   ]
  },
  {
   "cell_type": "code",
   "execution_count": 11,
   "metadata": {},
   "outputs": [],
   "source": [
    "# One by one, add Dense layers to our model.\n",
    "# The hidden layers will use the ReLU activation\n",
    "# Output layer will have softmax\n",
    "\n",
    "\n",
    "# relu, tang, sigmoid \n",
    "\n",
    "\n",
    "model.add(Dense(128, activation=\"relu\", input_shape=(200,)))  # First layer \n",
    "model.add(Dense(64, activation=\"relu\"))\n",
    "model.add(Dense(10, activation=\"softmax\")) # multiclass classification - u need 10 nodes \n",
    "\n",
    "# apply softmax before doing the prediction \n",
    "\n"
   ]
  },
  {
   "cell_type": "code",
   "execution_count": 12,
   "metadata": {},
   "outputs": [],
   "source": [
    "# We need to compile our model in Keras.\n",
    "# Need to tell it three things:\n",
    "# Optimizer (for us, usually Adam)\n",
    "# Loss (which?)\n",
    "# Metrics (Definitely need accuracy, but could do more)\n",
    "\n",
    "#opt = SGD(learning_rate=0.01)\n",
    "#opt = Adam(learning_rate=0.001)\n",
    "\n",
    "# Keras used to be separate project\n",
    "# Google acquired Keras\n",
    "\n",
    "\n",
    "# regresion - mse\n",
    "# two class - binary entropy \n",
    "# many class - categorical crossemtropy \n",
    "\n",
    "\n",
    "model.compile(\n",
    "    optimizer='adam',\n",
    "    loss=\"categorical_crossentropy\",\n",
    "    metrics=[\"acc\"]\n",
    ")"
   ]
  },
  {
   "cell_type": "code",
   "execution_count": 13,
   "metadata": {},
   "outputs": [
    {
     "name": "stdout",
     "output_type": "stream",
     "text": [
      "Epoch 1/10\n",
      "2500/2500 [==============================] - 4s 1ms/step - loss: 1.7609 - acc: 0.4144 - val_loss: 1.0773 - val_acc: 0.6375\n",
      "Epoch 2/10\n",
      "2500/2500 [==============================] - 3s 1ms/step - loss: 0.7483 - acc: 0.7518 - val_loss: 0.6692 - val_acc: 0.7848\n",
      "Epoch 3/10\n",
      "2500/2500 [==============================] - 3s 1ms/step - loss: 0.4749 - acc: 0.8497 - val_loss: 0.5718 - val_acc: 0.8190\n",
      "Epoch 4/10\n",
      "2500/2500 [==============================] - 3s 1ms/step - loss: 0.3672 - acc: 0.8852 - val_loss: 0.5299 - val_acc: 0.8403\n",
      "Epoch 5/10\n",
      "2500/2500 [==============================] - 3s 1ms/step - loss: 0.3085 - acc: 0.9061 - val_loss: 0.5084 - val_acc: 0.8494\n",
      "Epoch 6/10\n",
      "2500/2500 [==============================] - 3s 1ms/step - loss: 0.2758 - acc: 0.9167 - val_loss: 0.5047 - val_acc: 0.8586\n",
      "Epoch 7/10\n",
      "2500/2500 [==============================] - 3s 1ms/step - loss: 0.2469 - acc: 0.9249 - val_loss: 0.4955 - val_acc: 0.8627\n",
      "Epoch 8/10\n",
      "2500/2500 [==============================] - 4s 1ms/step - loss: 0.2229 - acc: 0.9327 - val_loss: 0.4995 - val_acc: 0.8643\n",
      "Epoch 9/10\n",
      "2500/2500 [==============================] - 3s 1ms/step - loss: 0.2038 - acc: 0.9384 - val_loss: 0.4960 - val_acc: 0.8684\n",
      "Epoch 10/10\n",
      "2500/2500 [==============================] - 3s 1ms/step - loss: 0.1913 - acc: 0.9423 - val_loss: 0.5129 - val_acc: 0.8684\n"
     ]
    }
   ],
   "source": [
    "# Fit!\n",
    "# Need to specify batch_size and epochs\n",
    "# Can validate with validation_split\n",
    "hist = model.fit(\n",
    "    X, y,\n",
    "    batch_size=32,\n",
    "    epochs=10,\n",
    "    validation_split=0.2\n",
    ")"
   ]
  },
  {
   "cell_type": "code",
   "execution_count": 14,
   "metadata": {},
   "outputs": [
    {
     "data": {
      "image/png": "[encoded data removed]",
      "text/plain": [
       "<Figure size 432x288 with 1 Axes>"
      ]
     },
     "metadata": {
      "needs_background": "light"
     },
     "output_type": "display_data"
    }
   ],
   "source": [
    "plt.plot(hist.epoch, hist.history['loss'], c='g');      # green - training loss\n",
    "plt.plot(hist.epoch, hist.history['val_loss'], c='b');  # blue - test loss"
   ]
  },
  {
   "cell_type": "markdown",
   "metadata": {},
   "source": [
    "this gives us hint prevent overfitting \n"
   ]
  },
  {
   "cell_type": "code",
   "execution_count": 15,
   "metadata": {},
   "outputs": [
    {
     "name": "stdout",
     "output_type": "stream",
     "text": [
      "[name: \"/device:CPU:0\"\n",
      "device_type: \"CPU\"\n",
      "memory_limit: 268435456\n",
      "locality {\n",
      "}\n",
      "incarnation: 15025503625966523770\n",
      "xla_global_id: -1\n",
      "]\n"
     ]
    }
   ],
   "source": [
    "from tensorflow.python.client import device_lib\n",
    "print(device_lib.list_local_devices())"
   ]
  },
  {
   "cell_type": "code",
   "execution_count": 16,
   "metadata": {},
   "outputs": [
    {
     "data": {
      "text/plain": [
       "9.207330865882252"
      ]
     },
     "execution_count": 16,
     "metadata": {},
     "output_type": "execute_result"
    }
   ],
   "source": [
    "import math\n",
    "\n",
    "math.exp(2.22)"
   ]
  },
  {
   "cell_type": "code",
   "execution_count": 17,
   "metadata": {},
   "outputs": [
    {
     "data": {
      "text/plain": [
       "3557218374935.8955"
      ]
     },
     "execution_count": 17,
     "metadata": {},
     "output_type": "execute_result"
    }
   ],
   "source": [
    "import numpy as np\n",
    "list= np.array([2.22,4.12,0.1,28.9])\n",
    "answer = []\n",
    "\n",
    "for num in list:\n",
    "    answer.append(math.exp(num))\n",
    "answer = np.array(answer)\n",
    "\n",
    "answer.sum()"
   ]
  }
 ],
 "metadata": {
  "kernelspec": {
   "display_name": "Python 3.9.6 64-bit",
   "language": "python",
   "name": "python3"
  },
  "language_info": {
   "codemirror_mode": {
    "name": "ipython",
    "version": 3
   },
   "file_extension": ".py",
   "mimetype": "text/x-python",
   "name": "python",
   "nbconvert_exporter": "python",
   "pygments_lexer": "ipython3",
   "version": "3.9.6"
  },
  "vscode": {
   "interpreter": {
    "hash": "0d591c6e422414675974e227c13f5382000c440fedd3c5006ef2be5d887f0ba7"
   }
  }
 },
 "nbformat": 4,
 "nbformat_minor": 4
}
