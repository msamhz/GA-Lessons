{
 "cells": [
  {
   "cell_type": "code",
   "execution_count": 1,
   "metadata": {
    "collapsed": true,
    "slideshow": {
     "slide_type": "skip"
    }
   },
   "outputs": [],
   "source": [
    "import pandas as pd\n",
    "import numpy as np\n",
    "import seaborn as sns\n",
    "from sklearn.metrics.pairwise import cosine_similarity\n",
    "\n",
    "%matplotlib inline"
   ]
  },
  {
   "cell_type": "markdown",
   "metadata": {
    "slideshow": {
     "slide_type": "slide"
    }
   },
   "source": [
    "<img src=\"http://imgur.com/1ZcRyrc.png\" style=\"float: left; margin: 20px; height: 55px\">\n",
    "\n",
    "\n",
    "# Recommendation Engines\n",
    "\n",
    "_Author: Alex Combs (NYC) _\n",
    "\n",
    "---\n",
    "\n",
    "<a id=\"learning-objectives\"></a>\n",
    "### Learning Objectives\n",
    "*After this lesson, you will be able to:*\n",
    "- Explain what a recommendation engines is\n",
    "\n",
    "`system designed to match suers to things they like`\n",
    "\n",
    "\n",
    "- Explain the math behind recommendation engines\n",
    "\n",
    "``\n",
    "- Explain the types of recommendation engines and their pros and cons"
   ]
  },
  {
   "cell_type": "markdown",
   "metadata": {
    "slideshow": {
     "slide_type": "slide"
    }
   },
   "source": [
    "<a id=\"what-is-a-recommendation-engine\"></a>\n",
    "## What is a recommendation engine?\n",
    "---\n",
    "\n",
    "At its most basic: A system designed to match users to things that they will like.\n",
    "\n",
    "- The \"things\" can be products, brands, media, or even other people. \n",
    "- Ideally, they should be things the user doesn't know about. \n",
    "- **The goal is to rank all the possible things that are available to the user and to only present the top items**"
   ]
  },
  {
   "cell_type": "markdown",
   "metadata": {
    "slideshow": {
     "slide_type": "slide"
    }
   },
   "source": [
    "<a id=\"why-bother\"></a>\n",
    "### Why bother?\n",
    "\n",
    "- 1/4 to a 1/3 of consumer choices at Amazon are driven by personalized recommendations\n",
    "- Netflix says there recommendation engine reduces churn saving the company in excess of $1 billion a year\n",
    "- Hulu [has shown](http://tech.hulu.com/blog/2011/09/19/recommendation-system.html) that showing recommended TV shows results in over 3x more clicks than only showing the most popular TV shows."
   ]
  },
  {
   "cell_type": "markdown",
   "metadata": {
    "slideshow": {
     "slide_type": "fragment"
    }
   },
   "source": [
    "<a id=\"who-uses-recommendation-systems\"></a>\n",
    "### Who uses recommendation systems?\n",
    "\n",
    "- Netflix\n",
    "- Pandora\n",
    "- Hulu\n",
    "- Tinder\n",
    "- Facebook\n",
    "- Barnes & Noble (receipts recommend other books)\n",
    "- Target (sent directed ads based on motherhood predictions)"
   ]
  },
  {
   "cell_type": "markdown",
   "metadata": {
    "slideshow": {
     "slide_type": "fragment"
    }
   },
   "source": [
    "<a id=\"explicit-data-vs-implicit-data\"></a>\n",
    "### Explicit data vs Implicit data\n",
    "\n",
    "#### Explicit\n",
    "- Explicity given/pro-actively acquired\n",
    "- Clear signals\n",
    "- Cost associated with acquisition (time/cognitive)\n",
    "- Limited and sparse data because of this\n",
    "\n",
    "\n",
    "#### Implicit\n",
    "- Provided/collected passively (digital exhaust)\n",
    "- Signals can be difficult to interpret\n",
    "- Enormous quantities"
   ]
  },
  {
   "cell_type": "markdown",
   "metadata": {
    "slideshow": {
     "slide_type": "slide"
    }
   },
   "source": [
    "<a id=\"two-classical-recommendation-methods\"></a>\n",
    "### Two classical recommendation methods\n",
    "\n",
    "- **Collaborative Filtering**: _(similar people)_\n",
    "    - If you like the same 5 movies as someone else, you'll likely enjoy other movies they like.\n",
    "    - There are two main types: (a) Find users who are similar and recommend what they like (**user-based**), or (b) recommend items that are similar to already-liked items (**item-based**).\n",
    "   \n",
    "\n",
    "- **Content-Based Filtering** _(similar items)_\n",
    "    - If you enjoy certain characteristics of movies (e.g. certain actors, genre, etc.), you'll enjoy other movies with those characteristics.\n",
    "    - Note this can easily be done using machine learning methods! Each movie can be decomposed into features. Then, for each user we compute a model -- the target can be a binary classifier (e.g. \"LIKE\"/\"DISLIKE\") or regression (e.g. star rating)."
   ]
  },
  {
   "cell_type": "markdown",
   "metadata": {
    "slideshow": {
     "slide_type": "slide"
    }
   },
   "source": [
    "<a id=\"user-based-collaborative-filtering\"></a>\n",
    "## User-based Collaborative Filtering\n",
    "---\n",
    "\n",
    "We'll first look at user-based filtering. The idea behind this method is finding your taste **doppelgänger**. This is the person who is most similar to you based upon the ratings both of you have given to a mix of products."
   ]
  },
  {
   "cell_type": "markdown",
   "metadata": {
    "slideshow": {
     "slide_type": "slide"
    }
   },
   "source": [
    "<a id=\"so-lets-see-how-we-construct-it\"></a>\n",
    "## So, let's see how we construct it\n",
    "\n",
    "We begin with what's called a utility matrix. This is a **user** (rows) x **product** (columns) matrix."
   ]
  },
  {
   "cell_type": "code",
   "execution_count": 2,
   "metadata": {},
   "outputs": [
    {
     "data": {
      "text/html": [
       "<div>\n",
       "<style scoped>\n",
       "    .dataframe tbody tr th:only-of-type {\n",
       "        vertical-align: middle;\n",
       "    }\n",
       "\n",
       "    .dataframe tbody tr th {\n",
       "        vertical-align: top;\n",
       "    }\n",
       "\n",
       "    .dataframe thead th {\n",
       "        text-align: right;\n",
       "    }\n",
       "</style>\n",
       "<table border=\"1\" class=\"dataframe\">\n",
       "  <thead>\n",
       "    <tr style=\"text-align: right;\">\n",
       "      <th></th>\n",
       "      <th>Friday the 13th</th>\n",
       "      <th>Nightmare on Elm St</th>\n",
       "      <th>Dawn of the Dead</th>\n",
       "      <th>Hiro Dreams of Sushi</th>\n",
       "      <th>180 South</th>\n",
       "      <th>Exit Through the Giftshop</th>\n",
       "    </tr>\n",
       "    <tr>\n",
       "      <th>user</th>\n",
       "      <th></th>\n",
       "      <th></th>\n",
       "      <th></th>\n",
       "      <th></th>\n",
       "      <th></th>\n",
       "      <th></th>\n",
       "    </tr>\n",
       "  </thead>\n",
       "  <tbody>\n",
       "    <tr>\n",
       "      <th>Chuck</th>\n",
       "      <td>5</td>\n",
       "      <td>4.0</td>\n",
       "      <td>NaN</td>\n",
       "      <td>NaN</td>\n",
       "      <td>NaN</td>\n",
       "      <td>1.0</td>\n",
       "    </tr>\n",
       "    <tr>\n",
       "      <th>Nancy</th>\n",
       "      <td>5</td>\n",
       "      <td>NaN</td>\n",
       "      <td>4.0</td>\n",
       "      <td>NaN</td>\n",
       "      <td>2.0</td>\n",
       "      <td>NaN</td>\n",
       "    </tr>\n",
       "    <tr>\n",
       "      <th>Anya</th>\n",
       "      <td>4</td>\n",
       "      <td>5.0</td>\n",
       "      <td>5.0</td>\n",
       "      <td>NaN</td>\n",
       "      <td>1.0</td>\n",
       "      <td>NaN</td>\n",
       "    </tr>\n",
       "    <tr>\n",
       "      <th>Divya</th>\n",
       "      <td>1</td>\n",
       "      <td>NaN</td>\n",
       "      <td>2.0</td>\n",
       "      <td>5.0</td>\n",
       "      <td>4.0</td>\n",
       "      <td>5.0</td>\n",
       "    </tr>\n",
       "    <tr>\n",
       "      <th>Pat</th>\n",
       "      <td>1</td>\n",
       "      <td>1.0</td>\n",
       "      <td>1.0</td>\n",
       "      <td>NaN</td>\n",
       "      <td>3.0</td>\n",
       "      <td>4.0</td>\n",
       "    </tr>\n",
       "  </tbody>\n",
       "</table>\n",
       "</div>"
      ],
      "text/plain": [
       "       Friday the 13th  Nightmare on Elm St  Dawn of the Dead  \\\n",
       "user                                                            \n",
       "Chuck                5                  4.0               NaN   \n",
       "Nancy                5                  NaN               4.0   \n",
       "Anya                 4                  5.0               5.0   \n",
       "Divya                1                  NaN               2.0   \n",
       "Pat                  1                  1.0               1.0   \n",
       "\n",
       "       Hiro Dreams of Sushi  180 South  Exit Through the Giftshop  \n",
       "user                                                               \n",
       "Chuck                   NaN        NaN                        1.0  \n",
       "Nancy                   NaN        2.0                        NaN  \n",
       "Anya                    NaN        1.0                        NaN  \n",
       "Divya                   5.0        4.0                        5.0  \n",
       "Pat                     NaN        3.0                        4.0  "
      ]
     },
     "execution_count": 2,
     "metadata": {},
     "output_type": "execute_result"
    }
   ],
   "source": [
    "movies = [\"user\", \"Friday the 13th\", \"Nightmare on Elm St\", \"Dawn of the Dead\", \"Hiro Dreams of Sushi\", \"180 South\", \"Exit Through the Giftshop\"]\n",
    "users = [\n",
    "    (\"Chuck\", 5, 4, None, None, None, 1),\n",
    "    (\"Nancy\", 5, None, 4, None, 2, None),\n",
    "    (\"Anya\", 4, 5, 5, None, 1, None),\n",
    "    (\"Divya\", 1, None, 2, 5, 4, 5),\n",
    "    (\"Pat\", 1, 1, 1, None, 3, 4),\n",
    "]\n",
    "\n",
    "users = pd.DataFrame(users, columns=movies)\n",
    "users = users.set_index(\"user\")\n",
    "users"
   ]
  },
  {
   "cell_type": "markdown",
   "metadata": {
    "slideshow": {
     "slide_type": "slide"
    }
   },
   "source": [
    "***Check:*** If we want to find the most similar users, what do we need?"
   ]
  },
  {
   "cell_type": "markdown",
   "metadata": {
    "slideshow": {
     "slide_type": "fragment"
    }
   },
   "source": [
    "<a id=\"formula\"></a>\n",
    "If we want to find the users most similar to user A, we need a **similarity metric**.\n",
    "\n",
    "One metric we can use is **cosine similarity**. Cosine similarity uses the cosine between two vectors to compute a scalar value that represents how closely related these vectors are. \n",
    "\n",
    "## $$\n",
    "cos(\\theta) = \\frac{\\vec{Chuck} \\cdot \\vec{Nancy}}{\\left\\| \\vec{Chuck}\\right\\| \\left\\| \\vec{Nancy}\\right\\| } \\\n",
    "= \\frac{\\sum{Chuck_i Nancy_i}}{\\sqrt{\\sum{Chuck_i^2}}\\sqrt{\\sum{Nancy_i^2}}}\n",
    "$$\n",
    "\n",
    "- Angle of $0^{\\circ}$ (same direction): $\\cos(0^{\\circ}) = 1$. Perfectly similar.\n",
    "- Angle of $90^{\\circ}$ (orthogonal): $\\cos(90^{\\circ}) = 0$. Totally dissimilar.\n",
    "- Angle of $180^{\\circ}$ (opposite direction): $\\cos(90^{\\circ}) = -1$. Opposite.\n",
    "\n",
    "\n",
    "Doesn't this sound a lot like the correlation coefficient? It turns out that cosine similarity is identical to the **uncentered correlation coefficient**! As a bonus, if the points are mean-centered, then this formula also depicts the **Pearson correlation coefficient**."
   ]
  },
  {
   "cell_type": "markdown",
   "metadata": {},
   "source": [
    "<a id=\"cosine-similarity-using-sci-kit-learn\"></a>\n",
    "## Cosine similarity using sci-kit learn\n",
    "\n",
    "With that, let's calculate the cosine similarity of A against all other users. We'll start with B. We have a sparse matrix with lot's of missing values... what should we do?"
   ]
  },
  {
   "cell_type": "code",
   "execution_count": 3,
   "metadata": {},
   "outputs": [
    {
     "data": {
      "text/html": [
       "<div>\n",
       "<style scoped>\n",
       "    .dataframe tbody tr th:only-of-type {\n",
       "        vertical-align: middle;\n",
       "    }\n",
       "\n",
       "    .dataframe tbody tr th {\n",
       "        vertical-align: top;\n",
       "    }\n",
       "\n",
       "    .dataframe thead th {\n",
       "        text-align: right;\n",
       "    }\n",
       "</style>\n",
       "<table border=\"1\" class=\"dataframe\">\n",
       "  <thead>\n",
       "    <tr style=\"text-align: right;\">\n",
       "      <th></th>\n",
       "      <th>Friday the 13th</th>\n",
       "      <th>Nightmare on Elm St</th>\n",
       "      <th>Dawn of the Dead</th>\n",
       "      <th>Hiro Dreams of Sushi</th>\n",
       "      <th>180 South</th>\n",
       "      <th>Exit Through the Giftshop</th>\n",
       "    </tr>\n",
       "    <tr>\n",
       "      <th>user</th>\n",
       "      <th></th>\n",
       "      <th></th>\n",
       "      <th></th>\n",
       "      <th></th>\n",
       "      <th></th>\n",
       "      <th></th>\n",
       "    </tr>\n",
       "  </thead>\n",
       "  <tbody>\n",
       "    <tr>\n",
       "      <th>Chuck</th>\n",
       "      <td>5</td>\n",
       "      <td>4.0</td>\n",
       "      <td>NaN</td>\n",
       "      <td>NaN</td>\n",
       "      <td>NaN</td>\n",
       "      <td>1.0</td>\n",
       "    </tr>\n",
       "    <tr>\n",
       "      <th>Nancy</th>\n",
       "      <td>5</td>\n",
       "      <td>NaN</td>\n",
       "      <td>4.0</td>\n",
       "      <td>NaN</td>\n",
       "      <td>2.0</td>\n",
       "      <td>NaN</td>\n",
       "    </tr>\n",
       "    <tr>\n",
       "      <th>Anya</th>\n",
       "      <td>4</td>\n",
       "      <td>5.0</td>\n",
       "      <td>5.0</td>\n",
       "      <td>NaN</td>\n",
       "      <td>1.0</td>\n",
       "      <td>NaN</td>\n",
       "    </tr>\n",
       "    <tr>\n",
       "      <th>Divya</th>\n",
       "      <td>1</td>\n",
       "      <td>NaN</td>\n",
       "      <td>2.0</td>\n",
       "      <td>5.0</td>\n",
       "      <td>4.0</td>\n",
       "      <td>5.0</td>\n",
       "    </tr>\n",
       "    <tr>\n",
       "      <th>Pat</th>\n",
       "      <td>1</td>\n",
       "      <td>1.0</td>\n",
       "      <td>1.0</td>\n",
       "      <td>NaN</td>\n",
       "      <td>3.0</td>\n",
       "      <td>4.0</td>\n",
       "    </tr>\n",
       "  </tbody>\n",
       "</table>\n",
       "</div>"
      ],
      "text/plain": [
       "       Friday the 13th  Nightmare on Elm St  Dawn of the Dead  \\\n",
       "user                                                            \n",
       "Chuck                5                  4.0               NaN   \n",
       "Nancy                5                  NaN               4.0   \n",
       "Anya                 4                  5.0               5.0   \n",
       "Divya                1                  NaN               2.0   \n",
       "Pat                  1                  1.0               1.0   \n",
       "\n",
       "       Hiro Dreams of Sushi  180 South  Exit Through the Giftshop  \n",
       "user                                                               \n",
       "Chuck                   NaN        NaN                        1.0  \n",
       "Nancy                   NaN        2.0                        NaN  \n",
       "Anya                    NaN        1.0                        NaN  \n",
       "Divya                   5.0        4.0                        5.0  \n",
       "Pat                     NaN        3.0                        4.0  "
      ]
     },
     "execution_count": 3,
     "metadata": {},
     "output_type": "execute_result"
    }
   ],
   "source": [
    "users"
   ]
  },
  {
   "cell_type": "code",
   "execution_count": 4,
   "metadata": {},
   "outputs": [
    {
     "data": {
      "text/html": [
       "<div>\n",
       "<style scoped>\n",
       "    .dataframe tbody tr th:only-of-type {\n",
       "        vertical-align: middle;\n",
       "    }\n",
       "\n",
       "    .dataframe tbody tr th {\n",
       "        vertical-align: top;\n",
       "    }\n",
       "\n",
       "    .dataframe thead th {\n",
       "        text-align: right;\n",
       "    }\n",
       "</style>\n",
       "<table border=\"1\" class=\"dataframe\">\n",
       "  <thead>\n",
       "    <tr style=\"text-align: right;\">\n",
       "      <th></th>\n",
       "      <th>Friday the 13th</th>\n",
       "      <th>Nightmare on Elm St</th>\n",
       "      <th>Dawn of the Dead</th>\n",
       "      <th>Hiro Dreams of Sushi</th>\n",
       "      <th>180 South</th>\n",
       "      <th>Exit Through the Giftshop</th>\n",
       "    </tr>\n",
       "    <tr>\n",
       "      <th>user</th>\n",
       "      <th></th>\n",
       "      <th></th>\n",
       "      <th></th>\n",
       "      <th></th>\n",
       "      <th></th>\n",
       "      <th></th>\n",
       "    </tr>\n",
       "  </thead>\n",
       "  <tbody>\n",
       "    <tr>\n",
       "      <th>Chuck</th>\n",
       "      <td>1.666667</td>\n",
       "      <td>0.666667</td>\n",
       "      <td>NaN</td>\n",
       "      <td>NaN</td>\n",
       "      <td>NaN</td>\n",
       "      <td>-2.333333</td>\n",
       "    </tr>\n",
       "    <tr>\n",
       "      <th>Nancy</th>\n",
       "      <td>1.333333</td>\n",
       "      <td>NaN</td>\n",
       "      <td>0.333333</td>\n",
       "      <td>NaN</td>\n",
       "      <td>-1.666667</td>\n",
       "      <td>NaN</td>\n",
       "    </tr>\n",
       "    <tr>\n",
       "      <th>Anya</th>\n",
       "      <td>0.250000</td>\n",
       "      <td>1.250000</td>\n",
       "      <td>1.250000</td>\n",
       "      <td>NaN</td>\n",
       "      <td>-2.750000</td>\n",
       "      <td>NaN</td>\n",
       "    </tr>\n",
       "    <tr>\n",
       "      <th>Divya</th>\n",
       "      <td>-2.400000</td>\n",
       "      <td>NaN</td>\n",
       "      <td>-1.400000</td>\n",
       "      <td>1.6</td>\n",
       "      <td>0.600000</td>\n",
       "      <td>1.600000</td>\n",
       "    </tr>\n",
       "    <tr>\n",
       "      <th>Pat</th>\n",
       "      <td>-1.000000</td>\n",
       "      <td>-1.000000</td>\n",
       "      <td>-1.000000</td>\n",
       "      <td>NaN</td>\n",
       "      <td>1.000000</td>\n",
       "      <td>2.000000</td>\n",
       "    </tr>\n",
       "  </tbody>\n",
       "</table>\n",
       "</div>"
      ],
      "text/plain": [
       "       Friday the 13th  Nightmare on Elm St  Dawn of the Dead  \\\n",
       "user                                                            \n",
       "Chuck         1.666667             0.666667               NaN   \n",
       "Nancy         1.333333                  NaN          0.333333   \n",
       "Anya          0.250000             1.250000          1.250000   \n",
       "Divya        -2.400000                  NaN         -1.400000   \n",
       "Pat          -1.000000            -1.000000         -1.000000   \n",
       "\n",
       "       Hiro Dreams of Sushi  180 South  Exit Through the Giftshop  \n",
       "user                                                               \n",
       "Chuck                   NaN        NaN                  -2.333333  \n",
       "Nancy                   NaN  -1.666667                        NaN  \n",
       "Anya                    NaN  -2.750000                        NaN  \n",
       "Divya                   1.6   0.600000                   1.600000  \n",
       "Pat                     NaN   1.000000                   2.000000  "
      ]
     },
     "execution_count": 4,
     "metadata": {},
     "output_type": "execute_result"
    }
   ],
   "source": [
    "def mean_center_rows(df):\n",
    "    return (df.T - df.mean(axis=1)).T\n",
    "\n",
    "users_mc = mean_center_rows(users)\n",
    "users_mc"
   ]
  },
  {
   "cell_type": "code",
   "execution_count": 5,
   "metadata": {
    "collapsed": true
   },
   "outputs": [],
   "source": [
    "users_mc = users_mc.fillna(0)"
   ]
  },
  {
   "cell_type": "markdown",
   "metadata": {},
   "source": [
    "Now let's calculate the (cosine) similarity for...\n",
    "\n",
    "1. Chuck vs. Nancy\n",
    "2. Chuck vs. Divya\n",
    "\n",
    "Do these results make sense??"
   ]
  },
  {
   "cell_type": "code",
   "execution_count": 33,
   "metadata": {},
   "outputs": [
    {
     "data": {
      "text/plain": [
       "(1, 6)"
      ]
     },
     "execution_count": 33,
     "metadata": {},
     "output_type": "execute_result"
    }
   ],
   "source": [
    "users_mc.loc['Chuck',:].values.reshape(1,-1).shape"
   ]
  },
  {
   "cell_type": "code",
   "execution_count": 6,
   "metadata": {},
   "outputs": [
    {
     "name": "stdout",
     "output_type": "stream",
     "text": [
      "Chuck vs. Nancy =  [[0.34942828]]\n",
      "Chuck vs. Divya =  [[-0.72302567]]\n"
     ]
    }
   ],
   "source": [
    "Chuck_mc = users_mc.loc['Chuck',:].values.reshape(1,-1)\n",
    "Nancy_mc = users_mc.loc['Nancy',:].values.reshape(1,-1)\n",
    "Divya_mc = users_mc.loc['Divya',:].values.reshape(1,-1)\n",
    "\n",
    "print('Chuck vs. Nancy = ', cosine_similarity(Chuck_mc, Nancy_mc))\n",
    "print('Chuck vs. Divya = ', cosine_similarity(Chuck_mc, Divya_mc))"
   ]
  },
  {
   "cell_type": "code",
   "execution_count": 7,
   "metadata": {},
   "outputs": [
    {
     "data": {
      "text/html": [
       "<div>\n",
       "<style scoped>\n",
       "    .dataframe tbody tr th:only-of-type {\n",
       "        vertical-align: middle;\n",
       "    }\n",
       "\n",
       "    .dataframe tbody tr th {\n",
       "        vertical-align: top;\n",
       "    }\n",
       "\n",
       "    .dataframe thead th {\n",
       "        text-align: right;\n",
       "    }\n",
       "</style>\n",
       "<table border=\"1\" class=\"dataframe\">\n",
       "  <thead>\n",
       "    <tr style=\"text-align: right;\">\n",
       "      <th>user</th>\n",
       "      <th>Chuck</th>\n",
       "      <th>Nancy</th>\n",
       "      <th>Anya</th>\n",
       "      <th>Divya</th>\n",
       "      <th>Pat</th>\n",
       "    </tr>\n",
       "    <tr>\n",
       "      <th>user</th>\n",
       "      <th></th>\n",
       "      <th></th>\n",
       "      <th></th>\n",
       "      <th></th>\n",
       "      <th></th>\n",
       "    </tr>\n",
       "  </thead>\n",
       "  <tbody>\n",
       "    <tr>\n",
       "      <th>Chuck</th>\n",
       "      <td>1.000000</td>\n",
       "      <td>0.349428</td>\n",
       "      <td>0.129503</td>\n",
       "      <td>-0.723026</td>\n",
       "      <td>-0.840673</td>\n",
       "    </tr>\n",
       "    <tr>\n",
       "      <th>Nancy</th>\n",
       "      <td>0.349428</td>\n",
       "      <td>1.000000</td>\n",
       "      <td>0.752993</td>\n",
       "      <td>-0.594588</td>\n",
       "      <td>-0.545545</td>\n",
       "    </tr>\n",
       "    <tr>\n",
       "      <th>Anya</th>\n",
       "      <td>0.129503</td>\n",
       "      <td>0.752993</td>\n",
       "      <td>1.000000</td>\n",
       "      <td>-0.335791</td>\n",
       "      <td>-0.593080</td>\n",
       "    </tr>\n",
       "    <tr>\n",
       "      <th>Divya</th>\n",
       "      <td>-0.723026</td>\n",
       "      <td>-0.594588</td>\n",
       "      <td>-0.335791</td>\n",
       "      <td>1.000000</td>\n",
       "      <td>0.739574</td>\n",
       "    </tr>\n",
       "    <tr>\n",
       "      <th>Pat</th>\n",
       "      <td>-0.840673</td>\n",
       "      <td>-0.545545</td>\n",
       "      <td>-0.593080</td>\n",
       "      <td>0.739574</td>\n",
       "      <td>1.000000</td>\n",
       "    </tr>\n",
       "  </tbody>\n",
       "</table>\n",
       "</div>"
      ],
      "text/plain": [
       "user      Chuck     Nancy      Anya     Divya       Pat\n",
       "user                                                   \n",
       "Chuck  1.000000  0.349428  0.129503 -0.723026 -0.840673\n",
       "Nancy  0.349428  1.000000  0.752993 -0.594588 -0.545545\n",
       "Anya   0.129503  0.752993  1.000000 -0.335791 -0.593080\n",
       "Divya -0.723026 -0.594588 -0.335791  1.000000  0.739574\n",
       "Pat   -0.840673 -0.545545 -0.593080  0.739574  1.000000"
      ]
     },
     "execution_count": 7,
     "metadata": {},
     "output_type": "execute_result"
    }
   ],
   "source": [
    "sim_matrix = cosine_similarity(users_mc)\n",
    "users_sim = pd.DataFrame(sim_matrix, columns=users_mc.index, index=users_mc.index)\n",
    "users_sim"
   ]
  },
  {
   "cell_type": "code",
   "execution_count": 8,
   "metadata": {},
   "outputs": [
    {
     "data": {
      "text/plain": [
       "<AxesSubplot:xlabel='user', ylabel='user'>"
      ]
     },
     "execution_count": 8,
     "metadata": {},
     "output_type": "execute_result"
    },
    {
     "data": {
      "image/png": "[encoded data removed]",
      "text/plain": [
       "<Figure size 432x288 with 2 Axes>"
      ]
     },
     "metadata": {
      "needs_background": "light"
     },
     "output_type": "display_data"
    }
   ],
   "source": [
    "sns.heatmap(users_sim, annot=True, cmap='coolwarm')"
   ]
  },
  {
   "cell_type": "markdown",
   "metadata": {
    "slideshow": {
     "slide_type": "slide"
    }
   },
   "source": [
    "<a id=\"but-how-do-we-predict-the-rating-of-an-item-for-a-user\"></a>\n",
    "## But how do we predict the rating of an item for a user?"
   ]
  },
  {
   "cell_type": "code",
   "execution_count": 9,
   "metadata": {},
   "outputs": [
    {
     "data": {
      "text/html": [
       "<div>\n",
       "<style scoped>\n",
       "    .dataframe tbody tr th:only-of-type {\n",
       "        vertical-align: middle;\n",
       "    }\n",
       "\n",
       "    .dataframe tbody tr th {\n",
       "        vertical-align: top;\n",
       "    }\n",
       "\n",
       "    .dataframe thead th {\n",
       "        text-align: right;\n",
       "    }\n",
       "</style>\n",
       "<table border=\"1\" class=\"dataframe\">\n",
       "  <thead>\n",
       "    <tr style=\"text-align: right;\">\n",
       "      <th></th>\n",
       "      <th>Friday the 13th</th>\n",
       "      <th>Nightmare on Elm St</th>\n",
       "      <th>Dawn of the Dead</th>\n",
       "      <th>Hiro Dreams of Sushi</th>\n",
       "      <th>180 South</th>\n",
       "      <th>Exit Through the Giftshop</th>\n",
       "    </tr>\n",
       "    <tr>\n",
       "      <th>user</th>\n",
       "      <th></th>\n",
       "      <th></th>\n",
       "      <th></th>\n",
       "      <th></th>\n",
       "      <th></th>\n",
       "      <th></th>\n",
       "    </tr>\n",
       "  </thead>\n",
       "  <tbody>\n",
       "    <tr>\n",
       "      <th>Chuck</th>\n",
       "      <td>5</td>\n",
       "      <td>4.0</td>\n",
       "      <td>NaN</td>\n",
       "      <td>NaN</td>\n",
       "      <td>NaN</td>\n",
       "      <td>1.0</td>\n",
       "    </tr>\n",
       "    <tr>\n",
       "      <th>Nancy</th>\n",
       "      <td>5</td>\n",
       "      <td>NaN</td>\n",
       "      <td>4.0</td>\n",
       "      <td>NaN</td>\n",
       "      <td>2.0</td>\n",
       "      <td>NaN</td>\n",
       "    </tr>\n",
       "    <tr>\n",
       "      <th>Anya</th>\n",
       "      <td>4</td>\n",
       "      <td>5.0</td>\n",
       "      <td>5.0</td>\n",
       "      <td>NaN</td>\n",
       "      <td>1.0</td>\n",
       "      <td>NaN</td>\n",
       "    </tr>\n",
       "    <tr>\n",
       "      <th>Divya</th>\n",
       "      <td>1</td>\n",
       "      <td>NaN</td>\n",
       "      <td>2.0</td>\n",
       "      <td>5.0</td>\n",
       "      <td>4.0</td>\n",
       "      <td>5.0</td>\n",
       "    </tr>\n",
       "    <tr>\n",
       "      <th>Pat</th>\n",
       "      <td>1</td>\n",
       "      <td>1.0</td>\n",
       "      <td>1.0</td>\n",
       "      <td>NaN</td>\n",
       "      <td>3.0</td>\n",
       "      <td>4.0</td>\n",
       "    </tr>\n",
       "  </tbody>\n",
       "</table>\n",
       "</div>"
      ],
      "text/plain": [
       "       Friday the 13th  Nightmare on Elm St  Dawn of the Dead  \\\n",
       "user                                                            \n",
       "Chuck                5                  4.0               NaN   \n",
       "Nancy                5                  NaN               4.0   \n",
       "Anya                 4                  5.0               5.0   \n",
       "Divya                1                  NaN               2.0   \n",
       "Pat                  1                  1.0               1.0   \n",
       "\n",
       "       Hiro Dreams of Sushi  180 South  Exit Through the Giftshop  \n",
       "user                                                               \n",
       "Chuck                   NaN        NaN                        1.0  \n",
       "Nancy                   NaN        2.0                        NaN  \n",
       "Anya                    NaN        1.0                        NaN  \n",
       "Divya                   5.0        4.0                        5.0  \n",
       "Pat                     NaN        3.0                        4.0  "
      ]
     },
     "execution_count": 9,
     "metadata": {},
     "output_type": "execute_result"
    }
   ],
   "source": [
    "users"
   ]
  },
  {
   "cell_type": "markdown",
   "metadata": {
    "slideshow": {
     "slide_type": "slide"
    }
   },
   "source": [
    "**Will Nancy like Nightmare on Elm St?**\n",
    "\n",
    "To answer this we will predict Nancy's rating using the _weighted results of the other users_.\n",
    "\n",
    "This is where a little art comes in... let's make the decision to only include users that have a positive similarity score relative to Nancy."
   ]
  },
  {
   "cell_type": "code",
   "execution_count": 10,
   "metadata": {},
   "outputs": [
    {
     "data": {
      "text/html": [
       "<div>\n",
       "<style scoped>\n",
       "    .dataframe tbody tr th:only-of-type {\n",
       "        vertical-align: middle;\n",
       "    }\n",
       "\n",
       "    .dataframe tbody tr th {\n",
       "        vertical-align: top;\n",
       "    }\n",
       "\n",
       "    .dataframe thead th {\n",
       "        text-align: right;\n",
       "    }\n",
       "</style>\n",
       "<table border=\"1\" class=\"dataframe\">\n",
       "  <thead>\n",
       "    <tr style=\"text-align: right;\">\n",
       "      <th>user</th>\n",
       "      <th>Chuck</th>\n",
       "      <th>Nancy</th>\n",
       "      <th>Anya</th>\n",
       "      <th>Divya</th>\n",
       "      <th>Pat</th>\n",
       "    </tr>\n",
       "    <tr>\n",
       "      <th>user</th>\n",
       "      <th></th>\n",
       "      <th></th>\n",
       "      <th></th>\n",
       "      <th></th>\n",
       "      <th></th>\n",
       "    </tr>\n",
       "  </thead>\n",
       "  <tbody>\n",
       "    <tr>\n",
       "      <th>Chuck</th>\n",
       "      <td>1.000000</td>\n",
       "      <td>0.349428</td>\n",
       "      <td>0.129503</td>\n",
       "      <td>-0.723026</td>\n",
       "      <td>-0.840673</td>\n",
       "    </tr>\n",
       "    <tr>\n",
       "      <th>Nancy</th>\n",
       "      <td>0.349428</td>\n",
       "      <td>1.000000</td>\n",
       "      <td>0.752993</td>\n",
       "      <td>-0.594588</td>\n",
       "      <td>-0.545545</td>\n",
       "    </tr>\n",
       "    <tr>\n",
       "      <th>Anya</th>\n",
       "      <td>0.129503</td>\n",
       "      <td>0.752993</td>\n",
       "      <td>1.000000</td>\n",
       "      <td>-0.335791</td>\n",
       "      <td>-0.593080</td>\n",
       "    </tr>\n",
       "    <tr>\n",
       "      <th>Divya</th>\n",
       "      <td>-0.723026</td>\n",
       "      <td>-0.594588</td>\n",
       "      <td>-0.335791</td>\n",
       "      <td>1.000000</td>\n",
       "      <td>0.739574</td>\n",
       "    </tr>\n",
       "    <tr>\n",
       "      <th>Pat</th>\n",
       "      <td>-0.840673</td>\n",
       "      <td>-0.545545</td>\n",
       "      <td>-0.593080</td>\n",
       "      <td>0.739574</td>\n",
       "      <td>1.000000</td>\n",
       "    </tr>\n",
       "  </tbody>\n",
       "</table>\n",
       "</div>"
      ],
      "text/plain": [
       "user      Chuck     Nancy      Anya     Divya       Pat\n",
       "user                                                   \n",
       "Chuck  1.000000  0.349428  0.129503 -0.723026 -0.840673\n",
       "Nancy  0.349428  1.000000  0.752993 -0.594588 -0.545545\n",
       "Anya   0.129503  0.752993  1.000000 -0.335791 -0.593080\n",
       "Divya -0.723026 -0.594588 -0.335791  1.000000  0.739574\n",
       "Pat   -0.840673 -0.545545 -0.593080  0.739574  1.000000"
      ]
     },
     "execution_count": 10,
     "metadata": {},
     "output_type": "execute_result"
    }
   ],
   "source": [
    "users_sim"
   ]
  },
  {
   "cell_type": "markdown",
   "metadata": {},
   "source": [
    "The gist of what we want to do is given by the following formulaL\n",
    "\n",
    "$$\\frac{(\\text{Chuck-Nancy sim})(\\text{Chuck rating}) + (\\text{Nancy-Anya sim})(\\text{Anya ratings})}{\\text{sum of similarities}}$$\n",
    "\n",
    "$$= \\frac{0.349428 \\cdot (4) + 0.129503 \\cdot (5)}{0.349428 + 0.129503} = 4.68$$\n",
    "\n",
    "Here's the procedure for recommending movie X to Nancy:\n",
    "\n",
    "1. Get Nancy's similarity scores to all other **users**.\n",
    "2. Only keep positive similarities.  (This step can be tweaked!)\n",
    "3. Convert Nancy's similarities to _weights_ by dividing each similarity by the _total_ similarity.\n",
    "4. Get all the other users' ratings for movie X.\n",
    "5. Weight each user's rating by Nancy's similarity to that user."
   ]
  },
  {
   "cell_type": "code",
   "execution_count": 11,
   "metadata": {},
   "outputs": [
    {
     "data": {
      "text/plain": [
       "user\n",
       "Chuck    0.349428\n",
       "Anya     0.752993\n",
       "Name: Nancy, dtype: float64"
      ]
     },
     "execution_count": 11,
     "metadata": {},
     "output_type": "execute_result"
    }
   ],
   "source": [
    "# get Nancy's similarity scores\n",
    "nancy_sim = users_sim['Nancy'].drop('Nancy')\n",
    "nancy_sim = nancy_sim[nancy_sim > 0]\n",
    "nancy_sim"
   ]
  },
  {
   "cell_type": "code",
   "execution_count": 12,
   "metadata": {},
   "outputs": [
    {
     "data": {
      "text/plain": [
       "array([0.3169643, 0.6830357])"
      ]
     },
     "execution_count": 12,
     "metadata": {},
     "output_type": "execute_result"
    }
   ],
   "source": [
    "# Turn Nancy's similarity scores to weights\n",
    "nancy_weights = nancy_sim.values/np.sum(nancy_sim.values)\n",
    "nancy_weights"
   ]
  },
  {
   "cell_type": "code",
   "execution_count": 13,
   "metadata": {},
   "outputs": [
    {
     "data": {
      "text/plain": [
       "user\n",
       "Chuck    4.0\n",
       "Anya     5.0\n",
       "Name: Nightmare on Elm St, dtype: float64"
      ]
     },
     "execution_count": 13,
     "metadata": {},
     "output_type": "execute_result"
    }
   ],
   "source": [
    "# Get elm_st_ratings\n",
    "elm_st_ratings = users['Nightmare on Elm St'].drop('Nancy').loc[nancy_sim.index]\n",
    "elm_st_ratings"
   ]
  },
  {
   "cell_type": "code",
   "execution_count": 14,
   "metadata": {},
   "outputs": [
    {
     "data": {
      "text/plain": [
       "4.683035701380843"
      ]
     },
     "execution_count": 14,
     "metadata": {},
     "output_type": "execute_result"
    }
   ],
   "source": [
    "np.dot(elm_st_ratings.values, nancy_weights)"
   ]
  },
  {
   "cell_type": "markdown",
   "metadata": {},
   "source": [
    "How would we get expected ratings for all of the movies that Nancy has not seen?"
   ]
  },
  {
   "cell_type": "code",
   "execution_count": 15,
   "metadata": {},
   "outputs": [
    {
     "data": {
      "text/plain": [
       "array([4.6830357, 0.       , 0.3169643])"
      ]
     },
     "execution_count": 15,
     "metadata": {},
     "output_type": "execute_result"
    }
   ],
   "source": [
    "ratings = users.T\n",
    "ratings = ratings[ratings['Nancy'].isnull()]\n",
    "ratings = ratings.drop('Nancy', axis=1)\n",
    "ratings = ratings[nancy_sim.index]\n",
    "\n",
    "nancy_ratings = np.dot(ratings.fillna(0).values, nancy_weights)\n",
    "nancy_ratings"
   ]
  },
  {
   "cell_type": "code",
   "execution_count": 16,
   "metadata": {},
   "outputs": [
    {
     "data": {
      "text/html": [
       "<div>\n",
       "<style scoped>\n",
       "    .dataframe tbody tr th:only-of-type {\n",
       "        vertical-align: middle;\n",
       "    }\n",
       "\n",
       "    .dataframe tbody tr th {\n",
       "        vertical-align: top;\n",
       "    }\n",
       "\n",
       "    .dataframe thead th {\n",
       "        text-align: right;\n",
       "    }\n",
       "</style>\n",
       "<table border=\"1\" class=\"dataframe\">\n",
       "  <thead>\n",
       "    <tr style=\"text-align: right;\">\n",
       "      <th></th>\n",
       "      <th>0</th>\n",
       "    </tr>\n",
       "  </thead>\n",
       "  <tbody>\n",
       "    <tr>\n",
       "      <th>Nightmare on Elm St</th>\n",
       "      <td>4.683036</td>\n",
       "    </tr>\n",
       "    <tr>\n",
       "      <th>Hiro Dreams of Sushi</th>\n",
       "      <td>0.000000</td>\n",
       "    </tr>\n",
       "    <tr>\n",
       "      <th>Exit Through the Giftshop</th>\n",
       "      <td>0.316964</td>\n",
       "    </tr>\n",
       "  </tbody>\n",
       "</table>\n",
       "</div>"
      ],
      "text/plain": [
       "                                  0\n",
       "Nightmare on Elm St        4.683036\n",
       "Hiro Dreams of Sushi       0.000000\n",
       "Exit Through the Giftshop  0.316964"
      ]
     },
     "execution_count": 16,
     "metadata": {},
     "output_type": "execute_result"
    }
   ],
   "source": [
    "pd.DataFrame(nancy_ratings, index=ratings.index)"
   ]
  },
  {
   "cell_type": "markdown",
   "metadata": {
    "slideshow": {
     "slide_type": "slide"
    }
   },
   "source": [
    "#### Check: What might be some problems with user-based filtering?"
   ]
  },
  {
   "cell_type": "markdown",
   "metadata": {
    "slideshow": {
     "slide_type": "fragment"
    }
   },
   "source": [
    "- Frequently-liked items will necessarily have users who like all kinds of other items. So, recommendations based on frequently-liked items may be inaccurate.\n",
    "\n",
    "- User-based filtering also suffers from the **cold-start problem**. If a new user joins and has very few likes, then it is difficult to pair them with a similar user.\n",
    "\n",
    "- Lastly, suppose that a user with few likes adds a new like. This may significantly change the recommendations. Hence, as users add likes, the recommendations must be continually and quickly updated."
   ]
  },
  {
   "cell_type": "markdown",
   "metadata": {
    "slideshow": {
     "slide_type": "slide"
    }
   },
   "source": [
    "In practice, there is a type of collaborative filtering that can perform much better than user-based filtering: **item-based filtering**."
   ]
  },
  {
   "cell_type": "markdown",
   "metadata": {
    "slideshow": {
     "slide_type": "slide"
    }
   },
   "source": [
    "<a id=\"item-based-collaborative-filtering\"></a>\n",
    "## Item-based Collaborative Filtering"
   ]
  },
  {
   "cell_type": "markdown",
   "metadata": {
    "slideshow": {
     "slide_type": "slide"
    }
   },
   "source": [
    "In item-based filtering, we are trying to find similarities across items rather than users.\n",
    "\n",
    "> Rather than looking for _similar users_, we are going to look for _similar movies/items_.  Similar items are determined by user rating patterns.\n",
    "\n",
    "Basically, everything here is the same as in user-based collaborative filtering, except we will deal with the _transpose_ or our data matrix.\n",
    "\n",
    "Just as in user-based filtering, we need to center our values by row."
   ]
  },
  {
   "cell_type": "code",
   "execution_count": 17,
   "metadata": {},
   "outputs": [
    {
     "data": {
      "text/html": [
       "<div>\n",
       "<style scoped>\n",
       "    .dataframe tbody tr th:only-of-type {\n",
       "        vertical-align: middle;\n",
       "    }\n",
       "\n",
       "    .dataframe tbody tr th {\n",
       "        vertical-align: top;\n",
       "    }\n",
       "\n",
       "    .dataframe thead th {\n",
       "        text-align: right;\n",
       "    }\n",
       "</style>\n",
       "<table border=\"1\" class=\"dataframe\">\n",
       "  <thead>\n",
       "    <tr style=\"text-align: right;\">\n",
       "      <th></th>\n",
       "      <th>Friday the 13th</th>\n",
       "      <th>Nightmare on Elm St</th>\n",
       "      <th>Dawn of the Dead</th>\n",
       "      <th>Hiro Dreams of Sushi</th>\n",
       "      <th>180 South</th>\n",
       "      <th>Exit Through the Giftshop</th>\n",
       "    </tr>\n",
       "  </thead>\n",
       "  <tbody>\n",
       "    <tr>\n",
       "      <th>Friday the 13th</th>\n",
       "      <td>1.000000</td>\n",
       "      <td>0.635369</td>\n",
       "      <td>0.771517</td>\n",
       "      <td>0.0</td>\n",
       "      <td>-0.709208</td>\n",
       "      <td>-0.773492</td>\n",
       "    </tr>\n",
       "    <tr>\n",
       "      <th>Nightmare on Elm St</th>\n",
       "      <td>0.635369</td>\n",
       "      <td>1.000000</td>\n",
       "      <td>0.859338</td>\n",
       "      <td>0.0</td>\n",
       "      <td>-0.557007</td>\n",
       "      <td>-0.358974</td>\n",
       "    </tr>\n",
       "    <tr>\n",
       "      <th>Dawn of the Dead</th>\n",
       "      <td>0.771517</td>\n",
       "      <td>0.859338</td>\n",
       "      <td>1.000000</td>\n",
       "      <td>0.0</td>\n",
       "      <td>-0.848528</td>\n",
       "      <td>-0.322252</td>\n",
       "    </tr>\n",
       "    <tr>\n",
       "      <th>Hiro Dreams of Sushi</th>\n",
       "      <td>0.000000</td>\n",
       "      <td>0.000000</td>\n",
       "      <td>0.000000</td>\n",
       "      <td>0.0</td>\n",
       "      <td>0.000000</td>\n",
       "      <td>0.000000</td>\n",
       "    </tr>\n",
       "    <tr>\n",
       "      <th>180 South</th>\n",
       "      <td>-0.709208</td>\n",
       "      <td>-0.557007</td>\n",
       "      <td>-0.848528</td>\n",
       "      <td>0.0</td>\n",
       "      <td>1.000000</td>\n",
       "      <td>0.430414</td>\n",
       "    </tr>\n",
       "    <tr>\n",
       "      <th>Exit Through the Giftshop</th>\n",
       "      <td>-0.773492</td>\n",
       "      <td>-0.358974</td>\n",
       "      <td>-0.322252</td>\n",
       "      <td>0.0</td>\n",
       "      <td>0.430414</td>\n",
       "      <td>1.000000</td>\n",
       "    </tr>\n",
       "  </tbody>\n",
       "</table>\n",
       "</div>"
      ],
      "text/plain": [
       "                           Friday the 13th  Nightmare on Elm St  \\\n",
       "Friday the 13th                   1.000000             0.635369   \n",
       "Nightmare on Elm St               0.635369             1.000000   \n",
       "Dawn of the Dead                  0.771517             0.859338   \n",
       "Hiro Dreams of Sushi              0.000000             0.000000   \n",
       "180 South                        -0.709208            -0.557007   \n",
       "Exit Through the Giftshop        -0.773492            -0.358974   \n",
       "\n",
       "                           Dawn of the Dead  Hiro Dreams of Sushi  180 South  \\\n",
       "Friday the 13th                    0.771517                   0.0  -0.709208   \n",
       "Nightmare on Elm St                0.859338                   0.0  -0.557007   \n",
       "Dawn of the Dead                   1.000000                   0.0  -0.848528   \n",
       "Hiro Dreams of Sushi               0.000000                   0.0   0.000000   \n",
       "180 South                         -0.848528                   0.0   1.000000   \n",
       "Exit Through the Giftshop         -0.322252                   0.0   0.430414   \n",
       "\n",
       "                           Exit Through the Giftshop  \n",
       "Friday the 13th                            -0.773492  \n",
       "Nightmare on Elm St                        -0.358974  \n",
       "Dawn of the Dead                           -0.322252  \n",
       "Hiro Dreams of Sushi                        0.000000  \n",
       "180 South                                   0.430414  \n",
       "Exit Through the Giftshop                   1.000000  "
      ]
     },
     "execution_count": 17,
     "metadata": {},
     "output_type": "execute_result"
    }
   ],
   "source": [
    "sim_matrix = cosine_similarity(mean_center_rows(users.T).fillna(0))\n",
    "movies_sim = pd.DataFrame(sim_matrix, columns=users.T.index, index=users.T.index)\n",
    "movies_sim"
   ]
  },
  {
   "cell_type": "markdown",
   "metadata": {
    "slideshow": {
     "slide_type": "slide"
    }
   },
   "source": [
    "The nearest movies to _Nightmare on Elm St_ are _Firday the 13th_ and _Dawn of the Dead_. To calculate Nancy's rating for our _Nightmare on Elm St_, we have the following equation:\n",
    "\n",
    "** (1st closest cosine sim movie x Nancy's rating + 2nd closest cosine sim movie x Nancy's product rating) / (sum of 1st and 2nd's cosine sims) **\n",
    "\n",
    "$$\\frac{(\\text{Dawn of Dead sim})(\\text{Nancy's rating}) + (\\text{Friday 13 sim})(\\text{Nancy's rating})}{\\text{sum of similarities}} = \\frac{0.859338 \\cdot (4) + 0.635369 \\cdot (5)}{0.859338 + 0.635369} = 4.43$$\n",
    "\n",
    "Here's the procedure for recommending movie X to Nancy:\n",
    "\n",
    "1. Get movie X's similarity scores to all other **movies**.\n",
    "2. Only keep positive similarities.  (This step can be tweaked!)\n",
    "3. Convert movie X's similarities to _weights_ by dividing each similarity by the _total_ similarity.\n",
    "4. Get Nancy's ratings for all other movies.\n",
    "5. Weight Nancy's ratings for all other movies by movie X's similarity to those movies."
   ]
  },
  {
   "cell_type": "code",
   "execution_count": 18,
   "metadata": {},
   "outputs": [
    {
     "data": {
      "text/plain": [
       "Friday the 13th     0.635369\n",
       "Dawn of the Dead    0.859338\n",
       "Name: Nightmare on Elm St, dtype: float64"
      ]
     },
     "execution_count": 18,
     "metadata": {},
     "output_type": "execute_result"
    }
   ],
   "source": [
    "# get Elm St similarity scores\n",
    "elm_st_sim = movies_sim['Nightmare on Elm St'].drop('Nightmare on Elm St')\n",
    "elm_st_sim = elm_st_sim[elm_st_sim > 0]\n",
    "elm_st_sim"
   ]
  },
  {
   "cell_type": "code",
   "execution_count": 19,
   "metadata": {},
   "outputs": [
    {
     "data": {
      "text/plain": [
       "array([0.42507927, 0.57492073])"
      ]
     },
     "execution_count": 19,
     "metadata": {},
     "output_type": "execute_result"
    }
   ],
   "source": [
    "# Turn Elm St similarity scores to weights\n",
    "elm_st_weights = elm_st_sim.values/np.sum(elm_st_sim.values)\n",
    "elm_st_weights"
   ]
  },
  {
   "cell_type": "code",
   "execution_count": 20,
   "metadata": {},
   "outputs": [
    {
     "data": {
      "text/plain": [
       "Friday the 13th     5.0\n",
       "Dawn of the Dead    4.0\n",
       "Name: Nancy, dtype: float64"
      ]
     },
     "execution_count": 20,
     "metadata": {},
     "output_type": "execute_result"
    }
   ],
   "source": [
    "# Get Nancy's_ratings\n",
    "nancy_ratings = users.T['Nancy'].loc[elm_st_sim.index]\n",
    "nancy_ratings"
   ]
  },
  {
   "cell_type": "code",
   "execution_count": 21,
   "metadata": {},
   "outputs": [
    {
     "data": {
      "text/plain": [
       "4.425079267585091"
      ]
     },
     "execution_count": 21,
     "metadata": {},
     "output_type": "execute_result"
    }
   ],
   "source": [
    "np.dot(nancy_ratings.values, elm_st_weights)"
   ]
  },
  {
   "cell_type": "markdown",
   "metadata": {
    "slideshow": {
     "slide_type": "slide"
    }
   },
   "source": [
    "<a id=\"content-based-filtering\"></a>\n",
    "## Content-based Filtering"
   ]
  },
  {
   "cell_type": "markdown",
   "metadata": {
    "slideshow": {
     "slide_type": "-"
    }
   },
   "source": [
    "Finally, there is another method called content-based filtering. In content-based filtering, the items are broken down into \"feature baskets\". These are the characteristics that represent the item. The idea is that if you like the features of song X, then finding a song that has similar characteristics will tell us that you're likely to like it as well.\n",
    "\n",
    "\n",
    "The quintessential example of this is Pandora with it's musical genome. Each song is rated on ~450 characteristics by a trained musicologist."
   ]
  },
  {
   "cell_type": "markdown",
   "metadata": {
    "slideshow": {
     "slide_type": "slide"
    }
   },
   "source": [
    "<a id=\"example\"></a>\n",
    "## Example \n",
    "Content-based filtering begins by mapping each item into\n",
    "a feature space. Both users and items are represented by\n",
    "vectors in this space.\n",
    "Item vectors measure the degree to which the item is\n",
    "described by each feature, and user vectors measure a\n",
    "user’s preferences for each feature.\n",
    "Ratings are generated by taking dot products of user &\n",
    "item vectors. "
   ]
  },
  {
   "cell_type": "markdown",
   "metadata": {
    "slideshow": {
     "slide_type": "slide"
    }
   },
   "source": [
    "<img src=\"http://i.imgur.com/NzHksKK.png\">"
   ]
  },
  {
   "cell_type": "markdown",
   "metadata": {
    "slideshow": {
     "slide_type": "slide"
    }
   },
   "source": [
    "---\n",
    "\n",
    "Let's look at a music database as an example"
   ]
  },
  {
   "cell_type": "code",
   "execution_count": 22,
   "metadata": {
    "collapsed": true,
    "hideCode": true,
    "hidePrompt": true,
    "slideshow": {
     "slide_type": "-"
    }
   },
   "outputs": [],
   "source": [
    "from sklearn.preprocessing import StandardScaler\n",
    "import pandas as pd, numpy as np\n",
    "import sqlite3\n",
    "conn = sqlite3.connect(\"../db.sqlite3\")\n",
    "conn.text_factory = lambda x: str(x, 'latin1')\n",
    "\n",
    "sql = \"\"\"\n",
    "SELECT r.userID, r.artistID, r.tagID, \n",
    "a.name AS artist,\n",
    "t.tagValue as genre\n",
    "FROM rec_user_artist_tags r\n",
    "LEFT JOIN rec_artists a on r.artistID = a.id\n",
    "LEFT JOIN rec_tags t on r.tagID = t.tagID\n",
    "WHERE a.name NOT NULL\n",
    "LIMIT 15000\n",
    "\"\"\"\n",
    "\n",
    "artists = pd.read_sql(sql, con=conn)\n",
    "artist_genre = artists.groupby([\"artist\", \"genre\"]).size().sort_values(ascending=False).unstack().fillna(0)"
   ]
  },
  {
   "cell_type": "code",
   "execution_count": 23,
   "metadata": {
    "hideCode": true,
    "hidePrompt": true,
    "slideshow": {
     "slide_type": "-"
    }
   },
   "outputs": [
    {
     "name": "stdout",
     "output_type": "stream",
     "text": [
      "<class 'pandas.core.frame.DataFrame'>\n",
      "RangeIndex: 15000 entries, 0 to 14999\n",
      "Data columns (total 5 columns):\n",
      " #   Column    Non-Null Count  Dtype \n",
      "---  ------    --------------  ----- \n",
      " 0   userID    15000 non-null  int64 \n",
      " 1   artistID  15000 non-null  int64 \n",
      " 2   tagID     15000 non-null  int64 \n",
      " 3   artist    15000 non-null  object\n",
      " 4   genre     15000 non-null  object\n",
      "dtypes: int64(3), object(2)\n",
      "memory usage: 586.1+ KB\n"
     ]
    }
   ],
   "source": [
    "artists.info()"
   ]
  },
  {
   "cell_type": "code",
   "execution_count": 24,
   "metadata": {},
   "outputs": [
    {
     "data": {
      "text/html": [
       "<div>\n",
       "<style scoped>\n",
       "    .dataframe tbody tr th:only-of-type {\n",
       "        vertical-align: middle;\n",
       "    }\n",
       "\n",
       "    .dataframe tbody tr th {\n",
       "        vertical-align: top;\n",
       "    }\n",
       "\n",
       "    .dataframe thead th {\n",
       "        text-align: right;\n",
       "    }\n",
       "</style>\n",
       "<table border=\"1\" class=\"dataframe\">\n",
       "  <thead>\n",
       "    <tr style=\"text-align: right;\">\n",
       "      <th>genre</th>\n",
       "      <th>'80s</th>\n",
       "      <th>00's</th>\n",
       "      <th>00s</th>\n",
       "      <th>1008</th>\n",
       "      <th>10s</th>\n",
       "      <th>1969</th>\n",
       "      <th>1970</th>\n",
       "      <th>1970's</th>\n",
       "      <th>1970s</th>\n",
       "      <th>1973</th>\n",
       "      <th>...</th>\n",
       "      <th>xenomania</th>\n",
       "      <th>xmas</th>\n",
       "      <th>xtina</th>\n",
       "      <th>xxxmas</th>\n",
       "      <th>ya</th>\n",
       "      <th>yay</th>\n",
       "      <th>yearns to be covered</th>\n",
       "      <th>yorkshire</th>\n",
       "      <th>you</th>\n",
       "      <th>zadrotstvo</th>\n",
       "    </tr>\n",
       "    <tr>\n",
       "      <th>artist</th>\n",
       "      <th></th>\n",
       "      <th></th>\n",
       "      <th></th>\n",
       "      <th></th>\n",
       "      <th></th>\n",
       "      <th></th>\n",
       "      <th></th>\n",
       "      <th></th>\n",
       "      <th></th>\n",
       "      <th></th>\n",
       "      <th></th>\n",
       "      <th></th>\n",
       "      <th></th>\n",
       "      <th></th>\n",
       "      <th></th>\n",
       "      <th></th>\n",
       "      <th></th>\n",
       "      <th></th>\n",
       "      <th></th>\n",
       "      <th></th>\n",
       "      <th></th>\n",
       "    </tr>\n",
       "  </thead>\n",
       "  <tbody>\n",
       "    <tr>\n",
       "      <th>:wumpscut:</th>\n",
       "      <td>0.0</td>\n",
       "      <td>0.0</td>\n",
       "      <td>0.0</td>\n",
       "      <td>0.0</td>\n",
       "      <td>0.0</td>\n",
       "      <td>0.0</td>\n",
       "      <td>0.0</td>\n",
       "      <td>0.0</td>\n",
       "      <td>0.0</td>\n",
       "      <td>0.0</td>\n",
       "      <td>...</td>\n",
       "      <td>0.0</td>\n",
       "      <td>0.0</td>\n",
       "      <td>0.0</td>\n",
       "      <td>0.0</td>\n",
       "      <td>0.0</td>\n",
       "      <td>0.0</td>\n",
       "      <td>0.0</td>\n",
       "      <td>0.0</td>\n",
       "      <td>0.0</td>\n",
       "      <td>0.0</td>\n",
       "    </tr>\n",
       "    <tr>\n",
       "      <th>ABC</th>\n",
       "      <td>0.0</td>\n",
       "      <td>0.0</td>\n",
       "      <td>0.0</td>\n",
       "      <td>0.0</td>\n",
       "      <td>0.0</td>\n",
       "      <td>0.0</td>\n",
       "      <td>0.0</td>\n",
       "      <td>0.0</td>\n",
       "      <td>0.0</td>\n",
       "      <td>0.0</td>\n",
       "      <td>...</td>\n",
       "      <td>0.0</td>\n",
       "      <td>0.0</td>\n",
       "      <td>0.0</td>\n",
       "      <td>0.0</td>\n",
       "      <td>0.0</td>\n",
       "      <td>0.0</td>\n",
       "      <td>0.0</td>\n",
       "      <td>1.0</td>\n",
       "      <td>0.0</td>\n",
       "      <td>0.0</td>\n",
       "    </tr>\n",
       "    <tr>\n",
       "      <th>Agonoize</th>\n",
       "      <td>0.0</td>\n",
       "      <td>0.0</td>\n",
       "      <td>0.0</td>\n",
       "      <td>0.0</td>\n",
       "      <td>0.0</td>\n",
       "      <td>0.0</td>\n",
       "      <td>0.0</td>\n",
       "      <td>0.0</td>\n",
       "      <td>0.0</td>\n",
       "      <td>0.0</td>\n",
       "      <td>...</td>\n",
       "      <td>0.0</td>\n",
       "      <td>0.0</td>\n",
       "      <td>0.0</td>\n",
       "      <td>0.0</td>\n",
       "      <td>0.0</td>\n",
       "      <td>0.0</td>\n",
       "      <td>0.0</td>\n",
       "      <td>0.0</td>\n",
       "      <td>0.0</td>\n",
       "      <td>0.0</td>\n",
       "    </tr>\n",
       "    <tr>\n",
       "      <th>Aidan Baker</th>\n",
       "      <td>0.0</td>\n",
       "      <td>0.0</td>\n",
       "      <td>0.0</td>\n",
       "      <td>0.0</td>\n",
       "      <td>0.0</td>\n",
       "      <td>0.0</td>\n",
       "      <td>0.0</td>\n",
       "      <td>0.0</td>\n",
       "      <td>0.0</td>\n",
       "      <td>0.0</td>\n",
       "      <td>...</td>\n",
       "      <td>0.0</td>\n",
       "      <td>0.0</td>\n",
       "      <td>0.0</td>\n",
       "      <td>0.0</td>\n",
       "      <td>0.0</td>\n",
       "      <td>0.0</td>\n",
       "      <td>0.0</td>\n",
       "      <td>0.0</td>\n",
       "      <td>0.0</td>\n",
       "      <td>0.0</td>\n",
       "    </tr>\n",
       "    <tr>\n",
       "      <th>Air</th>\n",
       "      <td>0.0</td>\n",
       "      <td>0.0</td>\n",
       "      <td>0.0</td>\n",
       "      <td>0.0</td>\n",
       "      <td>0.0</td>\n",
       "      <td>0.0</td>\n",
       "      <td>0.0</td>\n",
       "      <td>0.0</td>\n",
       "      <td>0.0</td>\n",
       "      <td>0.0</td>\n",
       "      <td>...</td>\n",
       "      <td>0.0</td>\n",
       "      <td>0.0</td>\n",
       "      <td>0.0</td>\n",
       "      <td>0.0</td>\n",
       "      <td>0.0</td>\n",
       "      <td>0.0</td>\n",
       "      <td>0.0</td>\n",
       "      <td>0.0</td>\n",
       "      <td>0.0</td>\n",
       "      <td>0.0</td>\n",
       "    </tr>\n",
       "  </tbody>\n",
       "</table>\n",
       "<p>5 rows × 1870 columns</p>\n",
       "</div>"
      ],
      "text/plain": [
       "genre        '80s  00's  00s  1008  10s  1969  1970  1970's  1970s  1973  ...  \\\n",
       "artist                                                                    ...   \n",
       ":wumpscut:    0.0   0.0  0.0   0.0  0.0   0.0   0.0     0.0    0.0   0.0  ...   \n",
       "ABC           0.0   0.0  0.0   0.0  0.0   0.0   0.0     0.0    0.0   0.0  ...   \n",
       "Agonoize      0.0   0.0  0.0   0.0  0.0   0.0   0.0     0.0    0.0   0.0  ...   \n",
       "Aidan Baker   0.0   0.0  0.0   0.0  0.0   0.0   0.0     0.0    0.0   0.0  ...   \n",
       "Air           0.0   0.0  0.0   0.0  0.0   0.0   0.0     0.0    0.0   0.0  ...   \n",
       "\n",
       "genre        xenomania  xmas  xtina  xxxmas   ya  yay  yearns to be covered  \\\n",
       "artist                                                                        \n",
       ":wumpscut:         0.0   0.0    0.0     0.0  0.0  0.0                   0.0   \n",
       "ABC                0.0   0.0    0.0     0.0  0.0  0.0                   0.0   \n",
       "Agonoize           0.0   0.0    0.0     0.0  0.0  0.0                   0.0   \n",
       "Aidan Baker        0.0   0.0    0.0     0.0  0.0  0.0                   0.0   \n",
       "Air                0.0   0.0    0.0     0.0  0.0  0.0                   0.0   \n",
       "\n",
       "genre        yorkshire  you  zadrotstvo  \n",
       "artist                                   \n",
       ":wumpscut:         0.0  0.0         0.0  \n",
       "ABC                1.0  0.0         0.0  \n",
       "Agonoize           0.0  0.0         0.0  \n",
       "Aidan Baker        0.0  0.0         0.0  \n",
       "Air                0.0  0.0         0.0  \n",
       "\n",
       "[5 rows x 1870 columns]"
      ]
     },
     "execution_count": 24,
     "metadata": {},
     "output_type": "execute_result"
    }
   ],
   "source": [
    "artist_genre.head()"
   ]
  },
  {
   "cell_type": "markdown",
   "metadata": {},
   "source": [
    "### Basic Similarity Metric: \"Give me something like Linkin Park!\""
   ]
  },
  {
   "cell_type": "code",
   "execution_count": 25,
   "metadata": {
    "collapsed": true
   },
   "outputs": [],
   "source": [
    "artist_sim = pd.DataFrame(\n",
    "    cosine_similarity(artist_genre),\n",
    "    columns=artist_genre.index,\n",
    "    index=artist_genre.index\n",
    ")"
   ]
  },
  {
   "cell_type": "code",
   "execution_count": 26,
   "metadata": {},
   "outputs": [
    {
     "data": {
      "text/plain": [
       "artist\n",
       "Marc Almond        1.000000\n",
       "Spandau Ballet     0.600204\n",
       "Duran Duran        0.582538\n",
       "Japan              0.563061\n",
       "Nik Kershaw        0.549218\n",
       "ABC                0.538413\n",
       "New Order          0.521533\n",
       "Depeche Mode       0.505351\n",
       "Tears for Fears    0.505076\n",
       "The Cure           0.500979\n",
       "Name: Marc Almond, dtype: float64"
      ]
     },
     "execution_count": 26,
     "metadata": {},
     "output_type": "execute_result"
    }
   ],
   "source": [
    "artist_sim['Marc Almond'].sort_values(ascending=False).head(10)\n",
    "# artist_sim['Noisuf-X'].sort_values(ascending=False).head(10)\n",
    "# artist_sim['Gorillaz'].sort_values(ascending=False).head(10)\n",
    "# artist_sim['Japan'].sort_values(ascending=False).head(10)\n",
    "# artist_sim['Kylie Minogue'].sort_values(ascending=False).head(10)"
   ]
  },
  {
   "cell_type": "markdown",
   "metadata": {},
   "source": [
    "### Profile-Based Recommendations"
   ]
  },
  {
   "cell_type": "code",
   "execution_count": 27,
   "metadata": {},
   "outputs": [
    {
     "data": {
      "text/plain": [
       "artist\n",
       "Muse                   265.0\n",
       "Radiohead              226.0\n",
       "Coldplay               180.0\n",
       "Pink Floyd             136.0\n",
       "Placebo                135.0\n",
       "Depeche Mode           115.0\n",
       "System of a Down        96.0\n",
       "Blur                    88.0\n",
       "My Chemical Romance     84.0\n",
       "Arctic Monkeys          84.0\n",
       "Gorillaz                83.0\n",
       "Garbage                 82.0\n",
       "Keane                   80.0\n",
       "Beck                    75.0\n",
       "The Cure                73.0\n",
       "Marilyn Manson          72.0\n",
       "Lady Gaga               71.0\n",
       "OneRepublic             68.0\n",
       "Tom Waits               65.0\n",
       "Madonna                 61.0\n",
       "dtype: float64"
      ]
     },
     "execution_count": 27,
     "metadata": {},
     "output_type": "execute_result"
    }
   ],
   "source": [
    "genres = artist_genre.columns.tolist()\n",
    "my_profile = pd.Series(np.zeros(len(genres)), index=artist_genre.columns)\n",
    "\n",
    "my_profile['rock'] = 4\n",
    "my_profile['world'] = 3\n",
    "my_profile['folk'] = 3\n",
    "my_profile['electronic'] = 1\n",
    "\n",
    "recommendations = np.dot(artist_genre.values, my_profile.values)\n",
    "recommendations = pd.Series(recommendations, index=artist_genre.index)\n",
    "recommendations.sort_values(ascending=False).head(20)"
   ]
  },
  {
   "cell_type": "markdown",
   "metadata": {
    "slideshow": {
     "slide_type": "slide"
    }
   },
   "source": [
    "<a id=\"conclusion\"></a>\n",
    "## Conclusion\n",
    "---\n",
    "\n",
    "We have looked at the major types of recommender systems in this lesson. Let's quickly wrap up by looking at the pros and cons of each.\n",
    "\n",
    "#### Collaborative Filtering \n",
    "\n",
    "Pros:\n",
    "- No need to hand craft features\n",
    "\n",
    "Cons:\n",
    "- Needs a large existing set of ratings (cold-start problem)\n",
    "- Sparsity occurs when the number of items far exceeds what a person could purchase\n",
    "\n",
    "#### Content-based Filtering\n",
    "\n",
    "Pros:\n",
    "- No need for a large number of users\n",
    "\n",
    "Cons:\n",
    "- Lacks serendipity\n",
    "- May be difficult to generate the right features\n",
    "- Hard to create cross-content recommendations (different feature spaces)\n",
    "\n",
    "In fact, the best solution -- and the one most likely in use in any large-scale, production system is a combination of both of these. This is known as a **hybrid system**. By combining the two systems, you can get the best of both worlds."
   ]
  },
  {
   "cell_type": "markdown",
   "metadata": {
    "slideshow": {
     "slide_type": "slide"
    }
   },
   "source": [
    "<a id=\"extra-practice\"></a>\n",
    "## Extra Practice\n",
    "---\n",
    "\n",
    "Using the [MovieLens dataset](https://grouplens.org/datasets/movielens/100k/), experiment with building a recommender system. Check the \"Additional Resources\" for more information and some considerations on how to evaluate these systems."
   ]
  },
  {
   "cell_type": "markdown",
   "metadata": {
    "slideshow": {
     "slide_type": "slide"
    }
   },
   "source": [
    "<a id=\"additional-resources\"></a>\n",
    "## Additional Resources\n",
    "---\n",
    "\n",
    "- [Wharton Study of Recommender Systems](http://knowledge.wharton.upenn.edu/article/recommended-for-you-how-well-does-personalized-marketing-work/)\n",
    "- [Netflix Recommendations](https://www.rtinsights.com/netflix-recommendations-machine-learning-algorithms/)\n",
    "- [Netflix Paper](http://dl.acm.org/citation.cfm?id=2843948)\n",
    "- [NY Times Rec System](https://open.blogs.nytimes.com/2015/08/11/building-the-next-new-york-times-recommendation-engine)\n",
    "- [Evaluating Rec Systems](https://www.quora.com/How-do-you-measure-and-evaluate-the-quality-of-recommendation-engines)"
   ]
  }
 ],
 "metadata": {
  "anaconda-cloud": {},
  "interpreter": {
   "hash": "28cbdfba20cf98beee3bca377205d83816279904897bace16e8c94489c68ffae"
  },
  "kernelspec": {
   "display_name": "Python 3.9.7 ('myenv')",
   "language": "python",
   "name": "python3"
  },
  "language_info": {
   "codemirror_mode": {
    "name": "ipython",
    "version": 3
   },
   "file_extension": ".py",
   "mimetype": "text/x-python",
   "name": "python",
   "nbconvert_exporter": "python",
   "pygments_lexer": "ipython3",
   "version": "3.9.7"
  }
 },
 "nbformat": 4,
 "nbformat_minor": 2
}
