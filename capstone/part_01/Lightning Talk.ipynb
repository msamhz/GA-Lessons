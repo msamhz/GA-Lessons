{
 "cells": [
  {
   "cell_type": "markdown",
   "metadata": {},
   "source": [
    "Potential ideas \n",
    "1) Vegetable identifier\n",
    "2) "
   ]
  },
  {
   "cell_type": "markdown",
   "metadata": {},
   "source": []
  },
  {
   "cell_type": "markdown",
   "metadata": {},
   "source": [
    "# Background"
   ]
  },
  {
   "cell_type": "markdown",
   "metadata": {},
   "source": [
    "Many people still do not know how to differentiate between vegetables despite having resources online especially if they are unlabelled. People often can map vegetables they need only if they know the name, however its common not to know the name just by looking at images, especially those that looks identical to one another. \n",
    "\n",
    "For instance, a poll was made to make quick identification between `kailan` and `chye sim`, the surprising finding was `50% of participants made a wrong guess` on vegetable name just by looking at the picture. \n",
    "\n",
    "Hence the motivation behind this project is to use tensorflow for image classification, providing them users better gauge in selecting the right vegetables. This image classifier can be used in apps that incorporates video to help identify which vegetable they intend to buy"
   ]
  },
  {
   "cell_type": "markdown",
   "metadata": {},
   "source": [
    "# Problem statement"
   ]
  },
  {
   "cell_type": "markdown",
   "metadata": {},
   "source": [
    "I will build a image classifier to accurately distinguish the type of vegetables that can be identified via video. Model performance will be guided by a accuracy. "
   ]
  }
 ],
 "metadata": {
  "language_info": {
   "name": "python"
  },
  "orig_nbformat": 4
 },
 "nbformat": 4,
 "nbformat_minor": 2
}
