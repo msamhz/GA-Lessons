{
 "cells": [
  {
   "cell_type": "markdown",
   "metadata": {},
   "source": [
    "# \"Fun with Loot Boxes\" Lab\n",
    "\n",
    "> Author: Caroline Schmitt, Matt Brems\n",
    "\n",
    "### Scenario:\n",
    "\n",
    "You're an analyst for [Zynga](https://en.wikipedia.org/wiki/Zynga), a gaming studio working on an event for an MMO (massively multiplayer online) game. This event is going to include **loot boxes**.\n",
    "\n",
    "<img src=\"https://vignette.wikia.nocookie.net/2007scape/images/0/06/Culinaromancer%27s_chest.png/revision/latest?cb=20180403231423\" alt=\"drawing\" width=\"150\"/> \n",
    "\n",
    "A loot box is basically a treasure chest in a game. This loot box can be opened to reveal a variety of items: some items are very rare and valuable, other items are common and less valuable. (You may consult [the esteemed Wikipedia](https://en.wikipedia.org/wiki/Loot_box) for a more extensive definition.)\n",
    "\n",
    "In our specific game, suppose that loot boxes can be obtained in one of two ways: \n",
    "- After every three hours of playing the game, a user will earn one loot box.\n",
    "- If the user wishes to purchase a loot box, they may pay $1 (in real money!) for a loot box.\n",
    "\n",
    "These loot boxes are very good for our business!\n",
    "- If a player earns a loot box, it means they are spending lots of time on the game. This often leads to advertisement revenue, they may tell their friends to join the game, etc.\n",
    "- If the player purchases a loot box, it means we've earned $1 from our customer.\n",
    "\n",
    "Suppose each loot box is opened to reveal either:\n",
    "- magical elixir (super rare, very valuable), or\n",
    "- nothing.\n",
    "\n",
    "Whether each loot box contains the elixir or nothing is **random**. Our boss wants some guidance on what sort of randomness to use on these loot boxes! \n",
    "- If the magical elixir is too rare, then users may not be motivated to try to get them, because they believe they'll never find the magical elixir.\n",
    "- If the magical elixir is too common, then users may not be motivated to try to get them, because the game has so much of the magical elixir that it isn't worthwhile to try to get it.\n",
    "\n",
    "However, our boss isn't a math-y type person! When explaining things to our boss, we need to explain the impact of our choices on the game as concretely as possible.\n",
    "\n",
    "### Version 1\n",
    "In our first version of the game, we'll say that loot boxes contain magical elixir 15% of the time and nothing 85% of the time.\n",
    "\n",
    "#### 1. Our boss asks, \"If a user buys 100 loot boxes, how many elixirs will they get?\" How would you respond?"
   ]
  },
  {
   "cell_type": "markdown",
   "metadata": {},
   "source": [
    "expected number of exilirs will be n boxes X P(getting magical exilirs) = 0.15 * 100 = 15 "
   ]
  },
  {
   "cell_type": "code",
   "execution_count": 8,
   "metadata": {},
   "outputs": [],
   "source": [
    "import numpy as np\n",
    "import matplotlib.pyplot as plt\n",
    "import scipy.stats as stats"
   ]
  },
  {
   "cell_type": "markdown",
   "metadata": {},
   "source": [
    "#### 2. Our boss asks, \"How many loot boxes does someone have to purchase in order to definitely get elixir?\" How would you respond?"
   ]
  },
  {
   "cell_type": "markdown",
   "metadata": {},
   "source": [
    "1 / 0.15 = 7 minimum boxes on average "
   ]
  },
  {
   "cell_type": "markdown",
   "metadata": {},
   "source": [
    "#### 3. Our boss asks, \"If a user earns 100 loot boxes, what is the chance that a user gets more than 20 elixirs?\" This is a bit more complicated, so let's break it down before answering."
   ]
  },
  {
   "cell_type": "markdown",
   "metadata": {},
   "source": [
    "#### 3a. Let's suppose my random variable $X$ counts up how many elixirs I observe out of my 100 loot boxes. Why is $X$ a discrete random variable?"
   ]
  },
  {
   "cell_type": "markdown",
   "metadata": {},
   "source": [
    "X is a discrete random variable as it counts for discrete number of exilirs in a form of integers. "
   ]
  },
  {
   "cell_type": "markdown",
   "metadata": {},
   "source": [
    "#### 3b. Recall our discrete distributions: discrete uniform, Bernoulli, binomial, Poisson. Let's suppose my random variable $X$ counts up how many elixirs I observe out of my 100 loot boxes. What distribution is best suited for $X$? Why?\n",
    "- Hint: It may help to consider getting the magical elixir a \"success\" and getting nothing a \"failure.\" "
   ]
  },
  {
   "cell_type": "markdown",
   "metadata": {},
   "source": [
    "Binomial distribution. We need to compute the sum of the success in getting a lot from every draw"
   ]
  },
  {
   "cell_type": "markdown",
   "metadata": {},
   "source": [
    "#### 3c. Our boss asks, \"If a user earns 100 loot boxes, what is the chance that a user gets more than 20 elixirs?\" Use the probability mass function to answer the boss' question."
   ]
  },
  {
   "cell_type": "code",
   "execution_count": 9,
   "metadata": {},
   "outputs": [
    {
     "data": {
      "text/plain": [
       "<scipy.stats._distn_infrastructure.rv_frozen at 0x264faa64370>"
      ]
     },
     "execution_count": 9,
     "metadata": {},
     "output_type": "execute_result"
    }
   ],
   "source": [
    "loot_distn = stats.binom(n_boxes, p_elixer)\n",
    "\n",
    "loot_distn"
   ]
  },
  {
   "cell_type": "code",
   "execution_count": 10,
   "metadata": {},
   "outputs": [
    {
     "ename": "NameError",
     "evalue": "name 'possible_elixers' is not defined",
     "output_type": "error",
     "traceback": [
      "\u001b[1;31m---------------------------------------------------------------------------\u001b[0m",
      "\u001b[1;31mNameError\u001b[0m                                 Traceback (most recent call last)",
      "\u001b[1;32m<ipython-input-10-f59da0d1132a>\u001b[0m in \u001b[0;36m<module>\u001b[1;34m\u001b[0m\n\u001b[1;32m----> 1\u001b[1;33m \u001b[0mlen\u001b[0m\u001b[1;33m(\u001b[0m\u001b[0mloot_distn\u001b[0m\u001b[1;33m.\u001b[0m\u001b[0mpmf\u001b[0m\u001b[1;33m(\u001b[0m\u001b[0mpossible_elixers\u001b[0m\u001b[1;33m)\u001b[0m\u001b[1;33m)\u001b[0m\u001b[1;33m\u001b[0m\u001b[1;33m\u001b[0m\u001b[0m\n\u001b[0m",
      "\u001b[1;31mNameError\u001b[0m: name 'possible_elixers' is not defined"
     ]
    }
   ],
   "source": [
    "len(loot_distn.pmf(possible_elixers))"
   ]
  },
  {
   "cell_type": "code",
   "execution_count": 11,
   "metadata": {
    "scrolled": true
   },
   "outputs": [
    {
     "name": "stdout",
     "output_type": "stream",
     "text": [
      "Chance of user getting more than 20 elixers: 0.06631976463117652\n"
     ]
    },
    {
     "data": {
      "image/png": "[encoded data removed]",
      "text/plain": [
       "<Figure size 432x288 with 1 Axes>"
      ]
     },
     "metadata": {
      "needs_background": "light"
     },
     "output_type": "display_data"
    }
   ],
   "source": [
    "# Show your work; leave your answer in a comment.\n",
    "\n",
    "p_elixer = .15\n",
    "n_boxes = 100\n",
    "\n",
    "loot_distn = stats.binom(n_boxes, p_elixer)\n",
    "\n",
    "possible_elixers = list(range(0, 40))\n",
    "\n",
    "plt.bar(possible_elixers,\n",
    "        loot_distn.pmf(possible_elixers))\n",
    "\n",
    "print(f'Chance of user getting more than 20 elixers: {sum(loot_distn.pmf(possible_elixers)[21:101])}')"
   ]
  },
  {
   "cell_type": "markdown",
   "metadata": {},
   "source": [
    "#### 3d. Our boss asks, \"If a user earns 100 loot boxes, what is the chance that a user gets more than 20 elixirs?\" Use the cumulative distribution function to answer the boss' question."
   ]
  },
  {
   "cell_type": "code",
   "execution_count": 12,
   "metadata": {},
   "outputs": [
    {
     "name": "stdout",
     "output_type": "stream",
     "text": [
      "Chance of user getting more than 20 elixers: 0.06631976581888166\n"
     ]
    },
    {
     "data": {
      "image/png": "[encoded data removed]",
      "text/plain": [
       "<Figure size 432x288 with 1 Axes>"
      ]
     },
     "metadata": {
      "needs_background": "light"
     },
     "output_type": "display_data"
    }
   ],
   "source": [
    "# Show your work; leave your answer in a comment.\n",
    "\n",
    "p_elixer = .15\n",
    "n_boxes = 100\n",
    "\n",
    "loot_distn = stats.binom(n_boxes, p_elixer)\n",
    "\n",
    "possible_elixers = list(range(0, 40))\n",
    "\n",
    "plt.step(possible_elixers,\n",
    "        loot_distn.cdf(possible_elixers))\n",
    "\n",
    "print(f'Chance of user getting more than 20 elixers: {1-loot_distn.cdf(possible_elixers)[20]}')"
   ]
  },
  {
   "cell_type": "code",
   "execution_count": 13,
   "metadata": {},
   "outputs": [
    {
     "data": {
      "text/plain": [
       "0.0608477529302372"
      ]
     },
     "execution_count": 13,
     "metadata": {},
     "output_type": "execute_result"
    }
   ],
   "source": [
    "sum(loot_distn.cdf(possible_elixers)[:21])/100"
   ]
  },
  {
   "cell_type": "markdown",
   "metadata": {},
   "source": [
    "#### 3e. Our boss asks, \"If a user earns 100 loot boxes, what is the chance that a user gets more than 20 elixirs?\" Answer your boss' question. *Remember that your boss is not a math-y person!*"
   ]
  },
  {
   "cell_type": "markdown",
   "metadata": {},
   "source": [
    "the probability is very small "
   ]
  },
  {
   "cell_type": "markdown",
   "metadata": {},
   "source": [
    "#### 4. Your boss wants to know how many people purchased how many loot boxes last month. \n",
    "> For example, last month, 70% of users did not purchase any loot boxes. 10% of people purchased one loot box. 5% of people purchased two loot boxes... and so on.\n",
    "\n",
    "#### 4a. Recall our discrete distributions: discrete uniform, Bernoulli, binomial, Poisson. Let's suppose my random variable $Y$ counts up how many loot boxes each person purchased through the game last month. What distribution is best suited for $Y$? Why?"
   ]
  },
  {
   "cell_type": "markdown",
   "metadata": {},
   "source": [
    "Poisson distribution. A time span was given, which was over a month. "
   ]
  },
  {
   "cell_type": "markdown",
   "metadata": {},
   "source": [
    "#### 4b. Suppose that, on average, your customers purchased 2.7 loot boxes last month. In order for your revenue to be at least $500,000, at least how many users would you need on your platform? (Round your answer up to the nearest thousand.) "
   ]
  },
  {
   "cell_type": "code",
   "execution_count": 76,
   "metadata": {},
   "outputs": [
    {
     "data": {
      "text/plain": [
       "185185"
      ]
     },
     "execution_count": 76,
     "metadata": {},
     "output_type": "execute_result"
    }
   ],
   "source": [
    "# Show your work; leave your answer in a comment.\n",
    "notroundedtotal = 500000/(2.7*1)\n",
    "Totalpeople = round(500000/2.7*1)\n",
    "\n",
    "Totalpeople"
   ]
  },
  {
   "cell_type": "markdown",
   "metadata": {},
   "source": [
    "#### 4c. Assume that your platform has the numer of users you mentioned in your last answer. Suppose that your platform calls anyone who purchases 5 or more loot boxes in a month a \"high value user.\" How much money do you expect to have earned from \"high value users?\" How about \"low value users?\""
   ]
  },
  {
   "cell_type": "code",
   "execution_count": 65,
   "metadata": {},
   "outputs": [
    {
     "data": {
      "text/plain": [
       "array([6.72055127e-02, 1.81454884e-01, 2.44964094e-01, 2.20467685e-01,\n",
       "       1.48815687e-01, 8.03604710e-02, 3.61622120e-02, 1.39482818e-02,\n",
       "       4.70754509e-03, 1.41226353e-03, 3.81311152e-04, 9.35945556e-05,\n",
       "       2.10587750e-05, 4.37374558e-06, 8.43508076e-07, 1.51831454e-07,\n",
       "       2.56215578e-08, 4.06930624e-09, 6.10395936e-10, 8.67404751e-11])"
      ]
     },
     "execution_count": 65,
     "metadata": {},
     "output_type": "execute_result"
    }
   ],
   "source": [
    "#loot boxes poisson distribution\n",
    "purchase_stats = stats.poisson(2.7)\n",
    "n_box = list(range(0,20))\n",
    "purchase_prob = np.array([purchase_stats.pmf(box) for box in n_box])\n",
    "purchase_prob"
   ]
  },
  {
   "cell_type": "code",
   "execution_count": 66,
   "metadata": {},
   "outputs": [
    {
     "data": {
      "image/png": "[encoded data removed]",
      "text/plain": [
       "<Figure size 432x288 with 1 Axes>"
      ]
     },
     "metadata": {
      "needs_background": "light"
     },
     "output_type": "display_data"
    }
   ],
   "source": [
    "plt.bar(n_box, purchase_stats.pmf(n_box))\n",
    "plt.xticks(n_box);"
   ]
  },
  {
   "cell_type": "code",
   "execution_count": 77,
   "metadata": {},
   "outputs": [
    {
     "data": {
      "image/png": "[encoded data removed]",
      "text/plain": [
       "<Figure size 432x288 with 1 Axes>"
      ]
     },
     "metadata": {
      "needs_background": "light"
     },
     "output_type": "display_data"
    }
   ],
   "source": [
    "n_user_round = 185185\n",
    "\n",
    "n_buyer = purchase_prob * notroundedtotal\n",
    "plt.bar(n_box, n_buyer)\n",
    "plt.xticks(n_box);"
   ]
  },
  {
   "cell_type": "code",
   "execution_count": 78,
   "metadata": {},
   "outputs": [
    {
     "data": {
      "text/plain": [
       "array([1.24454653e+04, 3.36027564e+04, 4.53637211e+04, 4.08273490e+04,\n",
       "       2.75584606e+04, 1.48815687e+04, 6.69670592e+03, 2.58301514e+03,\n",
       "       8.71767610e+02, 2.61530283e+02, 7.06131764e+01, 1.73323251e+01,\n",
       "       3.89977315e+00, 8.09952885e-01, 1.56205199e-01, 2.81169359e-02,\n",
       "       4.74473293e-03, 7.53575230e-04, 1.13036284e-04, 1.60630509e-05])"
      ]
     },
     "execution_count": 78,
     "metadata": {},
     "output_type": "execute_result"
    }
   ],
   "source": [
    "np.array(n_buyer)"
   ]
  },
  {
   "cell_type": "code",
   "execution_count": 84,
   "metadata": {},
   "outputs": [
    {
     "name": "stderr",
     "output_type": "stream",
     "text": [
      "C:\\ProgramData\\Anaconda3\\lib\\site-packages\\seaborn\\distributions.py:2557: FutureWarning: `distplot` is a deprecated function and will be removed in a future version. Please adapt your code to use either `displot` (a figure-level function with similar flexibility) or `histplot` (an axes-level function for histograms).\n",
      "  warnings.warn(msg, FutureWarning)\n"
     ]
    },
    {
     "data": {
      "text/plain": [
       "<AxesSubplot:ylabel='Density'>"
      ]
     },
     "execution_count": 84,
     "metadata": {},
     "output_type": "execute_result"
    },
    {
     "data": {
      "image/png": "[encoded data removed]",
      "text/plain": [
       "<Figure size 432x288 with 1 Axes>"
      ]
     },
     "metadata": {
      "needs_background": "light"
     },
     "output_type": "display_data"
    }
   ],
   "source": [
    "# Calculating the revenue from users who bought 0 to 20 boxes during the game last month\n",
    "rev_stats = np.array(n_box * 1) * np.array(n_buyer)\n",
    "sns.distplot(rev_stats,bins=5)"
   ]
  },
  {
   "cell_type": "code",
   "execution_count": 80,
   "metadata": {},
   "outputs": [
    {
     "name": "stdout",
     "output_type": "stream",
     "text": [
      "The revenue from High Value User is 142954\n"
     ]
    }
   ],
   "source": [
    "# Calculate the revenue from high value user (user with minimum purchase of 5 box) last month\n",
    "hvu_min_purchase = 5\n",
    "hvu_rev = sum(rev_stats[hvu_min_purchase:])\n",
    "print(f'The revenue from High Value User is {round(hvu_rev)}')"
   ]
  },
  {
   "cell_type": "code",
   "execution_count": 81,
   "metadata": {},
   "outputs": [
    {
     "name": "stdout",
     "output_type": "stream",
     "text": [
      "The revenue from Low Value User is 357046\n"
     ]
    }
   ],
   "source": [
    "# Calculate the revenue from low value user (user with purchase of less than 5 box) last month\n",
    "lvu_rev = sum(rev_stats[:hvu_min_purchase])\n",
    "print(f'The revenue from Low Value User is {round(lvu_rev)}')"
   ]
  },
  {
   "cell_type": "code",
   "execution_count": 72,
   "metadata": {
    "scrolled": false
   },
   "outputs": [
    {
     "name": "stdout",
     "output_type": "stream",
     "text": [
      "High value users would earn $25387.407449128867\n"
     ]
    },
    {
     "data": {
      "image/png": "[encoded data removed]",
      "text/plain": [
       "<Figure size 432x288 with 1 Axes>"
      ]
     },
     "metadata": {
      "needs_background": "light"
     },
     "output_type": "display_data"
    }
   ],
   "source": [
    "# high value users  \n",
    "p_elixer = 2.7\n",
    "\n",
    "exilir_distn = stats.poisson(p_elixer)\n",
    "\n",
    "possible_loot = list(range(40))\n",
    "\n",
    "\n",
    "plt.step(possible_loot,\n",
    "        exilir_distn.cdf(possible_loot))\n",
    "# 5 or more \n",
    "\n",
    "# probability x total numbers \n",
    "\n",
    "num_highvalueusers = (1-exilir_distn.cdf(possible_loot)[4])*185185\n",
    "\n",
    "print(f'High value users would earn ${num_highvalueusers}')"
   ]
  },
  {
   "cell_type": "code",
   "execution_count": 73,
   "metadata": {},
   "outputs": [
    {
     "name": "stdout",
     "output_type": "stream",
     "text": [
      "Low value users would earn $159798\n"
     ]
    }
   ],
   "source": [
    "# low value users \n",
    "num_highvalueusers = (1-exilir_distn.cdf(possible_loot)[4])*185185\n",
    "total = 185185\n",
    "\n",
    "low_users = total - num_highvalueusers\n",
    "\n",
    "print(f'Low value users would earn ${round(low_users)}')"
   ]
  },
  {
   "cell_type": "markdown",
   "metadata": {},
   "source": [
    "#### 4d. Suppose that you want to summarize how many people purchased how many loot boxes last month for your boss. Since your boss isn't math-y, what are 2-4 summary numbers you might use to summarize this for your boss? (Your answers will vary here - use your judgment!)"
   ]
  },
  {
   "cell_type": "markdown",
   "metadata": {},
   "source": [
    "on average people will likely to get 2 boxes over the month. \n",
    "\n"
   ]
  },
  {
   "cell_type": "markdown",
   "metadata": {},
   "source": [
    "#### 5. Your boss asks \"How many loot boxes does it take before someone gets their first elixir?\" Using `np.random.choice`, simulate how many loot boxes it takes somone to get their first elixir. \n",
    "- Start an empty list.\n",
    "- Use control flow to have someone open loot boxes repeatedly.\n",
    "- Once they open a loot box containing an elixir, record the number of loot boxes it took in the empty list.\n",
    "- Repeat this process 100,000 times. \n",
    "\n",
    "This simulates how long it takes for someone to open a loot box containing elixir. Share the 5th, 25th, 50th, 75th, and 95th percentiles.\n",
    "\n",
    "> You may find [this documentation](https://docs.scipy.org/doc/numpy/reference/generated/numpy.random.choice.html)  and [this documentation](https://docs.scipy.org/doc/numpy/reference/generated/numpy.percentile.html) helpful."
   ]
  },
  {
   "cell_type": "code",
   "execution_count": 22,
   "metadata": {},
   "outputs": [
    {
     "data": {
      "text/plain": [
       "False"
      ]
     },
     "execution_count": 22,
     "metadata": {},
     "output_type": "execute_result"
    }
   ],
   "source": [
    "np.random.choice(loot,p=[0.15,0.85]) == 1"
   ]
  },
  {
   "cell_type": "code",
   "execution_count": 24,
   "metadata": {},
   "outputs": [
    {
     "name": "stdout",
     "output_type": "stream",
     "text": [
      "5th percentile of arr :  1.0\n",
      "25th percentile of arr :  2.0\n",
      "50th percentile of arr :  5.0\n",
      "75th percentile of arr :  9.25\n",
      "95th percentile of arr :  19.14999999999999\n"
     ]
    }
   ],
   "source": [
    "from collections import defaultdict\n",
    "import numpy as np\n",
    "\n",
    "\n",
    "loot = [0,1]\n",
    "\n",
    "def getloot(n):\n",
    "    \n",
    "    #start with empty list\n",
    "    emptylist = []\n",
    "    \n",
    "    # how many times need to do experiments\n",
    "    for i in range(n):\n",
    "        \n",
    "        #initiate count \n",
    "        count = 1 \n",
    "    \n",
    "        #start with havent found exilir\n",
    "        foundexilir = False\n",
    "        \n",
    "        while foundexilir == False:\n",
    "            #if found then >> ==1 \n",
    "            if np.random.choice(loot,p=[0.85,0.15]) == 1:\n",
    "                #put in count into list\n",
    "                emptylist.append(count)\n",
    "                foundexilir = True\n",
    "            else:\n",
    "                #increase count \n",
    "                count += 1\n",
    "            \n",
    "    return emptylist    \n",
    "\n",
    "\n",
    "arr = np.array(getloot(100))\n",
    "\n",
    "\n",
    "print(\"5th percentile of arr : \", np.percentile(arr, 5))\n",
    "\n",
    "print(\"25th percentile of arr : \", np.percentile(arr, 25))\n",
    "\n",
    "print(\"50th percentile of arr : \", np.percentile(arr, 50))\n",
    "\n",
    "print(\"75th percentile of arr : \", np.percentile(arr, 75))\n",
    "\n",
    "print(\"95th percentile of arr : \", np.percentile(arr, 95))"
   ]
  },
  {
   "cell_type": "markdown",
   "metadata": {},
   "source": [
    "**NOTE**: When your Jupyter notebook is open, double-click on this Markdown cell! You can delete this text and put your answer to the previous problem in here."
   ]
  },
  {
   "cell_type": "markdown",
   "metadata": {},
   "source": [
    "### Version 2\n",
    "\n",
    "After a substantial update to the game, suppose every loot box can be opened to reveal *one of four different* items:\n",
    "- magical elixir (occurs 1% of the time, most valuable)\n",
    "- golden pendant (occurs 9% of the time, valuable)\n",
    "- steel armor (occurs 30% of the time, semi-valuable)\n",
    "- bronze coin (occurs 60% of the time, least valuable)"
   ]
  },
  {
   "cell_type": "markdown",
   "metadata": {},
   "source": [
    "#### 6. Suppose you want repeat problem 5 above, but do that for the version 2 loot boxes so you can track how many loot boxes are needed to get each item? (e.g. You'd like to be able to say that on average it takes 10 trials to get a golden pendant, 3 trials to get steel armor, and so on.) What Python datatype is the best way to store this data? Why?"
   ]
  },
  {
   "cell_type": "markdown",
   "metadata": {},
   "source": [
    "Dictionary"
   ]
  },
  {
   "cell_type": "code",
   "execution_count": 19,
   "metadata": {
    "scrolled": true
   },
   "outputs": [
    {
     "data": {
      "text/plain": [
       "<AxesSubplot:>"
      ]
     },
     "execution_count": 19,
     "metadata": {},
     "output_type": "execute_result"
    },
    {
     "data": {
      "image/png": "[encoded data removed]",
      "text/plain": [
       "<Figure size 432x288 with 1 Axes>"
      ]
     },
     "metadata": {
      "needs_background": "light"
     },
     "output_type": "display_data"
    }
   ],
   "source": [
    "import pandas as pd\n",
    "import seaborn as sns\n",
    "boxes_dist = pd.DataFrame(getloot(10000))\n",
    "val, cnt = np.unique(boxes_dist, return_counts=True)\n",
    "\n",
    "sns.barplot(x = val,y = cnt,)"
   ]
  },
  {
   "cell_type": "code",
   "execution_count": 20,
   "metadata": {},
   "outputs": [
    {
     "data": {
      "text/plain": [
       "0    6.6471\n",
       "dtype: float64"
      ]
     },
     "execution_count": 20,
     "metadata": {},
     "output_type": "execute_result"
    }
   ],
   "source": [
    "boxes_dist.mean()"
   ]
  },
  {
   "cell_type": "code",
   "execution_count": 21,
   "metadata": {
    "scrolled": true
   },
   "outputs": [
    {
     "name": "stderr",
     "output_type": "stream",
     "text": [
      "C:\\ProgramData\\Anaconda3\\lib\\site-packages\\seaborn\\axisgrid.py:1969: UserWarning: The `size` parameter has been renamed to `height`; please update your code.\n",
      "  warnings.warn(msg, UserWarning)\n"
     ]
    },
    {
     "name": "stdout",
     "output_type": "stream",
     "text": [
      "0    6.6471\n",
      "dtype: float64\n"
     ]
    },
    {
     "data": {
      "text/plain": [
       "<matplotlib.collections.LineCollection at 0x264854aab80>"
      ]
     },
     "execution_count": 21,
     "metadata": {},
     "output_type": "execute_result"
    },
    {
     "data": {
      "image/png": "[encoded data removed]",
      "text/plain": [
       "<Figure size 504x504 with 2 Axes>"
      ]
     },
     "metadata": {
      "needs_background": "light"
     },
     "output_type": "display_data"
    }
   ],
   "source": [
    "sns.pairplot(boxes_dist,size = 7)\n",
    "mean = boxes_dist.mean()\n",
    "print(mean)\n",
    "plt.vlines(mean,0,1000,color='crimson', ls=':')"
   ]
  },
  {
   "cell_type": "markdown",
   "metadata": {},
   "source": [
    "#### 7. Suppose you and your boss want to measure whether \"Version 2\" is better than \"Version 1.\" What metrics do you think are important to measure? (Your answers will vary here - use your judgment!)"
   ]
  },
  {
   "cell_type": "markdown",
   "metadata": {},
   "source": [
    "individual sum of the earnings from each \n",
    "\n"
   ]
  },
  {
   "cell_type": "code",
   "execution_count": null,
   "metadata": {},
   "outputs": [],
   "source": []
  },
  {
   "cell_type": "code",
   "execution_count": null,
   "metadata": {},
   "outputs": [],
   "source": []
  },
  {
   "cell_type": "code",
   "execution_count": null,
   "metadata": {},
   "outputs": [],
   "source": []
  },
  {
   "cell_type": "code",
   "execution_count": null,
   "metadata": {},
   "outputs": [],
   "source": []
  },
  {
   "cell_type": "code",
   "execution_count": null,
   "metadata": {},
   "outputs": [],
   "source": []
  }
 ],
 "metadata": {
  "kernelspec": {
   "display_name": "Python 3",
   "language": "python",
   "name": "python3"
  },
  "language_info": {
   "codemirror_mode": {
    "name": "ipython",
    "version": 3
   },
   "file_extension": ".py",
   "mimetype": "text/x-python",
   "name": "python",
   "nbconvert_exporter": "python",
   "pygments_lexer": "ipython3",
   "version": "3.8.8"
  }
 },
 "nbformat": 4,
 "nbformat_minor": 2
}
