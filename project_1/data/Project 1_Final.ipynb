{
 "cells": [
  {
   "cell_type": "markdown",
   "metadata": {},
   "source": [
    "<img src=\"http://imgur.com/1ZcRyrc.png\" style=\"float: left; margin: 20px; height: 55px\">\n",
    "\n",
    "# Project 1: Standardized Test Analysis"
   ]
  },
  {
   "cell_type": "markdown",
   "metadata": {},
   "source": [
    "--- \n",
    "# Part 1\n",
    "\n",
    "Part 1 requires knowledge of basic Python.\n",
    "\n",
    "---"
   ]
  },
  {
   "cell_type": "markdown",
   "metadata": {},
   "source": [
    "## Problem Statement"
   ]
  },
  {
   "cell_type": "markdown",
   "metadata": {},
   "source": [
    "Decide on your problem statement that will guide your analysis for this project. For guidelines, sample prompts, or inspiration, check out the README.\n",
    "\n",
    "**To-Do:** *Replace this cell with your problem statement.*"
   ]
  },
  {
   "cell_type": "markdown",
   "metadata": {},
   "source": [
    "#### To provide business analysis on whether to remove SAT requirements for colleges in California "
   ]
  },
  {
   "cell_type": "markdown",
   "metadata": {},
   "source": [
    "### Contents:\n",
    "- [Background](#Background)\n",
    "- [Data Import & Cleaning](#Data-Import-and-Cleaning)\n",
    "- [Exploratory Data Analysis](#Exploratory-Data-Analysis)\n",
    "- [Data Visualization](#Visualize-the-Data)\n",
    "- [Conclusions and Recommendations](#Conclusions-and-Recommendations)"
   ]
  },
  {
   "cell_type": "markdown",
   "metadata": {},
   "source": [
    "## Background"
   ]
  },
  {
   "cell_type": "markdown",
   "metadata": {},
   "source": [
    "The SAT and ACT are standardized tests that many colleges and universities in the United States require for their admissions process. This score is used along with other materials such as grade point average (GPA) and essay responses to determine whether or not a potential student will be accepted to the university.\n",
    "\n",
    "The SAT has two sections of the test: Evidence-Based Reading and Writing and Math ([*source*](https://www.princetonreview.com/college/sat-sections)). The ACT has 4 sections: English, Mathematics, Reading, and Science, with an additional optional writing section ([*source*](https://www.act.org/content/act/en/products-and-services/the-act/scores/understanding-your-scores.html)). They have different score ranges, which you can read more about on their websites or additional outside sources (a quick Google search will help you understand the scores for each test):\n",
    "* [SAT](https://collegereadiness.collegeboard.org/sat)\n",
    "* [ACT](https://www.act.org/content/act/en.html)\n",
    "\n",
    "Standardized tests have long been a controversial topic for students, administrators, and legislators. Since the 1940's, an increasing number of colleges have been using scores from sudents' performances on tests like the SAT and the ACT as a measure for college readiness and aptitude ([*source*](https://www.minotdailynews.com/news/local-news/2017/04/a-brief-history-of-the-sat-and-act/)). Supporters of these tests argue that these scores can be used as an objective measure to determine college admittance. Opponents of these tests claim that these tests are not accurate measures of students potential or ability and serve as an inequitable barrier to entry. Lately, more and more schools are opting to drop the SAT/ACT requirement for their Fall 2021 applications ([*read more about this here*](https://www.cnn.com/2020/04/14/us/coronavirus-colleges-sat-act-test-trnd/index.html))."
   ]
  },
  {
   "cell_type": "markdown",
   "metadata": {},
   "source": [
    "**To-Do:** *Fill out this cell (or edit the above cell) with any other background or information that is necessary for your problem statement.*"
   ]
  },
  {
   "cell_type": "markdown",
   "metadata": {},
   "source": []
  },
  {
   "cell_type": "code",
   "execution_count": null,
   "metadata": {},
   "outputs": [],
   "source": []
  },
  {
   "cell_type": "code",
   "execution_count": null,
   "metadata": {},
   "outputs": [],
   "source": []
  },
  {
   "cell_type": "code",
   "execution_count": null,
   "metadata": {},
   "outputs": [],
   "source": []
  },
  {
   "cell_type": "code",
   "execution_count": null,
   "metadata": {},
   "outputs": [],
   "source": []
  },
  {
   "cell_type": "code",
   "execution_count": null,
   "metadata": {},
   "outputs": [],
   "source": []
  },
  {
   "cell_type": "code",
   "execution_count": null,
   "metadata": {},
   "outputs": [],
   "source": []
  },
  {
   "cell_type": "markdown",
   "metadata": {},
   "source": [
    "### Choose your Data\n",
    "\n",
    "There are 10 datasets included in the [`data`](./data/) folder for this project. You are required to pick **at least two** of these to complete your analysis. Feel free to use more than two if you would like, or add other relevant datasets you find online.\n",
    "\n",
    "* [`act_2017.csv`](./data/act_2017.csv): 2017 ACT Scores by State\n",
    "* [`act_2018.csv`](./data/act_2018.csv): 2018 ACT Scores by State\n",
    "* [`act_2019.csv`](./data/act_2019.csv): 2019 ACT Scores by State\n",
    "* [`act_2019_ca.csv`](./data/act_2019_ca.csv): 2019 ACT Scores in California by School\n",
    "* [`sat_2017.csv`](./data/sat_2017.csv): 2017 SAT Scores by State\n",
    "* [`sat_2018.csv`](./data/sat_2018.csv): 2018 SAT Scores by State\n",
    "* [`sat_2019.csv`](./data/sat_2019.csv): 2019 SAT Scores by State\n",
    "* [`sat_2019_by_intended_college_major.csv`](./data/sat_2019_by_intended_college_major.csv): 2019 SAT Scores by Intended College Major\n",
    "* [`sat_2019_ca.csv`](./data/sat_2019_ca.csv): 2019 SAT Scores in California by School\n",
    "* [`sat_act_by_college.csv`](./data/sat_act_by_college.csv): Ranges of Accepted ACT & SAT Student Scores by Colleges"
   ]
  },
  {
   "cell_type": "markdown",
   "metadata": {},
   "source": [
    "**To-Do:** *Fill out this cell with the datasets you will use for your analysis. Write a brief description of the contents for each dataset that you choose.*"
   ]
  },
  {
   "cell_type": "markdown",
   "metadata": {},
   "source": [
    "* [`sat_act_by_college.csv`](./data/sat_act_by_college.csv): Ranges of Accepted ACT & SAT Student Scores by Colleges"
   ]
  },
  {
   "cell_type": "markdown",
   "metadata": {},
   "source": [
    "* [`SATOptOut`](data\\SATOptOut.csv) : Colleges in California Opt out from SAT test"
   ]
  },
  {
   "cell_type": "markdown",
   "metadata": {},
   "source": [
    "* [`satgpa`](\\data\\satgpa.csv) : SAT and GPA, sampled 1000 students from unamed colleges"
   ]
  },
  {
   "cell_type": "markdown",
   "metadata": {},
   "source": [
    "* [`sat_2019_ca.csv`](./data/sat_2019_ca.csv): 2019 SAT Scores in California by School"
   ]
  },
  {
   "cell_type": "markdown",
   "metadata": {},
   "source": [
    "* [`SAT_2021_California_EntryCollege`](./data/SAT_2021_California_EntryCollege.csv): 2021 SAT taker from California"
   ]
  },
  {
   "cell_type": "markdown",
   "metadata": {},
   "source": [
    "* [`SAT_2020_California_EntryCollege`](./data/SAT_2020_California_EntryCollege.csv): 2020 SAT taker from California"
   ]
  },
  {
   "cell_type": "markdown",
   "metadata": {},
   "source": [
    "* [`SAT_2019_California_EntryCollege`](./data/SAT_2019_California_EntryCollege.csv): 2019 SAT taker from California"
   ]
  },
  {
   "cell_type": "markdown",
   "metadata": {},
   "source": [
    "* [`SAT_2018_California_EntryCollege`](./data/SAT_2018_California_EntryCollege.csv): 2018 SAT taker from California"
   ]
  },
  {
   "cell_type": "markdown",
   "metadata": {},
   "source": [
    "* [`SAT_2017_California_EntryCollege`](./data/SAT_2017_California_EntryCollege.csv): 2017 SAT taker from California"
   ]
  },
  {
   "cell_type": "markdown",
   "metadata": {},
   "source": [
    "### Outside Research"
   ]
  },
  {
   "cell_type": "markdown",
   "metadata": {},
   "source": [
    "Based on your problem statement and your chosen datasets, spend some time doing outside research on state policies or additional information that might be relevant. Summarize your findings below. If you bring in any outside tables or charts, make sure you are explicit about having borrowed them. If you quote any text, make sure that it renders as being quoted. **Make sure that you cite your sources.**"
   ]
  },
  {
   "cell_type": "markdown",
   "metadata": {},
   "source": [
    "**To-Do:** *Fill out this cell with outside research or any additional background information that will support your analysis.*"
   ]
  },
  {
   "cell_type": "markdown",
   "metadata": {},
   "source": [
    "At the end of the day, the College Board is a business, and businesses need to generate profit. Recently, the College Board has been generating significantly less revenue given that fewer students are taking the SAT compared to years past because of the shift to test-optional college admissions. \n",
    "\n",
    "https://www.forbes.com/sites/kristenmoon/2022/01/28/three-reasons-why-you-should-pay-attention-to-the-sat-redesign/?sh=2c9a28e67971"
   ]
  },
  {
   "cell_type": "markdown",
   "metadata": {},
   "source": [
    "wealthy kids might do sat more than the lower income kids \n",
    "\n",
    "participation rates might decrease \n",
    "\n",
    "https://www.bloomberg.com/news/articles/2022-01-24/wealthy-teens-tout-test-results-colleges-no-longer-require"
   ]
  },
  {
   "cell_type": "markdown",
   "metadata": {},
   "source": [
    "Participation rate, defined as the percentage of a state's high school seniors taking the SAT represented by the z-score mean of a truncated normal distribution, was the most important single predictor of state mean SAT score, accounting for 77% of the total variance in mean scores.\n",
    "\n",
    "The inclusion of significant educational and demographic variables raised the proportion of variance explained to 94%. The fallacy of comparing the mean standardized test scores of different locations or time periods without taking participation rate into account is discussed.\n",
    "\n",
    "\n",
    "Howard Wainer, Samuel Palmer, Eric T. Bradlow. (1998) A Selection of Selection Anomalies. CHANCE 11:2, pages 3-7."
   ]
  },
  {
   "cell_type": "markdown",
   "metadata": {},
   "source": [
    "Participation Rates Skew State Averages on SAT & ACT\n",
    "\n",
    "https://medium.com/@james.dargan/participation-skews-state-averages-f68969371a01"
   ]
  },
  {
   "cell_type": "markdown",
   "metadata": {},
   "source": [
    "https://yhpf.medium.com/participation-rate-act-and-sat-short-version-4c09f4e20bdd\n",
    "\n",
    "showing negative correlation with results vs participation rate"
   ]
  },
  {
   "cell_type": "markdown",
   "metadata": {},
   "source": [
    "https://www.benjamindornel.com/sat-act.html\n",
    "    \n",
    "    \n",
    "which state should the College Board target to further raise SAT participation rates? \n",
    "also has function to change column \n"
   ]
  },
  {
   "cell_type": "markdown",
   "metadata": {},
   "source": [
    "https://shorelight.com/student-stories/the-us-higher-education-system-explained/\n",
    "    \n",
    "standard education system in US"
   ]
  },
  {
   "cell_type": "markdown",
   "metadata": {},
   "source": [
    "https://www.openintro.org/data/index.php?data=satgpa\n",
    "    \n",
    "    \n",
    "Data on sat vs gpa\n",
    "Format\n",
    "A data frame with 1000 observations on the following 6 variables.\n",
    "\n",
    "sex\n",
    "Gender of the student.\n",
    "\n",
    "sat_v\n",
    "Verbal SAT percentile.\n",
    "\n",
    "sat_m\n",
    "Math SAT percentile.\n",
    "\n",
    "sat_sum\n",
    "Total of verbal and math SAT percentiles.\n",
    "\n",
    "hs_gpa\n",
    "High school grade point average.\n",
    "\n",
    "fy_gpa\n",
    "First year (college) grade point average.\n"
   ]
  },
  {
   "cell_type": "markdown",
   "metadata": {},
   "source": [
    "https://reports.collegeboard.org/sat-suite-program-results\n",
    "    \n",
    "SAT SCores for California "
   ]
  },
  {
   "cell_type": "markdown",
   "metadata": {},
   "source": [
    "https://magoosh.com/hs/sat/states-that-require-the-act-or-sat/\n"
   ]
  },
  {
   "cell_type": "markdown",
   "metadata": {},
   "source": [
    "In the larger picture, academicians and sociologists have argued for years that the tests themselves are both culturally biased and form a barrier to entry for many students, particularly low-income and first-generation students who can’t afford the test-prep courses that have come to form a lucrative subindustry within the college admissions game."
   ]
  },
  {
   "cell_type": "markdown",
   "metadata": {},
   "source": [
    "###### College and Career Readiness Benchmarks\n",
    "\n",
    "\n",
    "· The SAT Math benchmark is the section score associated\n",
    "with a 75% chance of earning at least a C in first-semester,\n",
    "credit-bearing, college-level courses in algebra, statistics,\n",
    "precalculus, or calculus.\n",
    "\n",
    "· The SAT Evidence-Based Reading and Writing (ERW)\n",
    "benchmark is associated with a 75% chance of earning at\n",
    "least a C in first-semester, credit-bearing, college-level\n",
    "courses in history, literature, social science, or writing.\n",
    "\n",
    "While SAT benchmarks\n",
    "indicate likelihood of success in college, grade-level\n",
    "benchmarks indicate whether a student is on track for college\n",
    "and career readiness for their grade. The benchmarks are set\n",
    "to reflect typical annual growth from year to year from 8th\n",
    "through 12th grades.\n",
    "\n",
    "\n",
    "Met Benchmark - metric benchmark\n",
    "\n"
   ]
  },
  {
   "cell_type": "markdown",
   "metadata": {},
   "source": [
    "https://blog.prepscholar.com/test-optional-colleges-list\n",
    "    \n",
    "##### test optional definition"
   ]
  },
  {
   "cell_type": "code",
   "execution_count": null,
   "metadata": {},
   "outputs": [],
   "source": []
  },
  {
   "cell_type": "markdown",
   "metadata": {},
   "source": [
    "### Coding Challenges\n",
    "\n",
    "1. Manually calculate mean:\n",
    "\n",
    "    Write a function that takes in values and returns the mean of the values. Create a list of numbers that you test on your function to check to make sure your function works!\n",
    "    \n",
    "    *Note*: Do not use any mean methods built-in to any Python libraries to do this! This should be done without importing any additional libraries."
   ]
  },
  {
   "cell_type": "code",
   "execution_count": 1,
   "metadata": {},
   "outputs": [
    {
     "name": "stdout",
     "output_type": "stream",
     "text": [
      "[0, 1, 2, 3, 4, 5, 6, 7, 8, 9, 10]\n"
     ]
    },
    {
     "data": {
      "text/plain": [
       "5.0"
      ]
     },
     "execution_count": 1,
     "metadata": {},
     "output_type": "execute_result"
    }
   ],
   "source": [
    "# Code:\n",
    "\n",
    "# creating list \n",
    "\n",
    "sample = [_ for _ in range(11)]\n",
    "print(sample)    \n",
    "# definining mean function \n",
    "\n",
    "def getmean(sample):\n",
    "    sum = 0 \n",
    "    for number in sample:\n",
    "        sum = sum + number\n",
    "        \n",
    "    return sum/len(sample)\n",
    "\n",
    "getmean(sample)"
   ]
  },
  {
   "cell_type": "markdown",
   "metadata": {},
   "source": [
    "2. Manually calculate standard deviation:\n",
    "\n",
    "    The formula for standard deviation is below:\n",
    "\n",
    "    $$\\sigma = \\sqrt{\\frac{1}{n}\\sum_{i=1}^n(x_i - \\mu)^2}$$\n",
    "\n",
    "    Where $x_i$ represents each value in the dataset, $\\mu$ represents the mean of all values in the dataset and $n$ represents the number of values in the dataset.\n",
    "\n",
    "    Write a function that takes in values and returns the standard deviation of the values using the formula above. Hint: use the function you wrote above to calculate the mean! Use the list of numbers you created above to test on your function.\n",
    "    \n",
    "    *Note*: Do not use any standard deviation methods built-in to any Python libraries to do this! This should be done without importing any additional libraries."
   ]
  },
  {
   "cell_type": "code",
   "execution_count": 2,
   "metadata": {},
   "outputs": [
    {
     "data": {
      "text/plain": [
       "3.1622776601683795"
      ]
     },
     "execution_count": 2,
     "metadata": {},
     "output_type": "execute_result"
    }
   ],
   "source": [
    "# Code:\n",
    "  \n",
    "# definining stdev function \n",
    "\n",
    "def getstdev(sample):\n",
    "    sum = 0\n",
    "    for num in sample:\n",
    "        sum = sum + ((num-getmean(sample))**2)\n",
    "    return ((sum)/len(sample))**0.5\n",
    "\n",
    "\n",
    "getstdev(sample)"
   ]
  },
  {
   "cell_type": "markdown",
   "metadata": {},
   "source": [
    "3. Data cleaning function:\n",
    "    \n",
    "    Write a function that takes in a string that is a number and a percent symbol (ex. '50%', '30.5%', etc.) and converts this to a float that is the decimal approximation of the percent. For example, inputting '50%' in your function should return 0.5, '30.5%' should return 0.305, etc. Make sure to test your function to make sure it works!\n",
    "\n",
    "You will use these functions later on in the project!"
   ]
  },
  {
   "cell_type": "code",
   "execution_count": 3,
   "metadata": {
    "scrolled": true
   },
   "outputs": [],
   "source": [
    "def convert_percent_commas(df):\n",
    "    for col in df.columns:\n",
    "        if '% of score senders' in col.lower():\n",
    "            df[col] = df[col].replace('%','', regex=True).astype('int')\n",
    "        elif 'number of students' in col.lower():\n",
    "            df[col] = df[col].replace(',','', regex=True).astype('int')"
   ]
  },
  {
   "cell_type": "markdown",
   "metadata": {},
   "source": [
    "participation - how many of the state do the SAT during high school "
   ]
  },
  {
   "cell_type": "markdown",
   "metadata": {},
   "source": [
    "--- \n",
    "# Part 2\n",
    "\n",
    "Part 2 requires knowledge of Pandas, EDA, data cleaning, and data visualization.\n",
    "\n",
    "---"
   ]
  },
  {
   "cell_type": "markdown",
   "metadata": {},
   "source": [
    "*All libraries used should be added here*"
   ]
  },
  {
   "cell_type": "code",
   "execution_count": 1,
   "metadata": {},
   "outputs": [],
   "source": [
    "import numpy as np\n",
    "import pandas as pd\n",
    "import seaborn as sns\n",
    "import matplotlib.pyplot as plt\n",
    "%matplotlib inline"
   ]
  },
  {
   "cell_type": "markdown",
   "metadata": {},
   "source": [
    "## Data Import and Cleaning"
   ]
  },
  {
   "cell_type": "markdown",
   "metadata": {},
   "source": [
    "### Data Import & Cleaning\n",
    "\n",
    "Import the datasets that you selected for this project and go through the following steps at a minimum. You are welcome to do further cleaning as you feel necessary:\n",
    "1. Display the data: print the first 5 rows of each dataframe to your Jupyter notebook.\n",
    "2. Check for missing values.\n",
    "3. Check for any obvious issues with the observations (keep in mind the minimum & maximum possible values for each test/subtest).\n",
    "4. Fix any errors you identified in steps 2-3.\n",
    "5. Display the data types of each feature.\n",
    "6. Fix any incorrect data types found in step 5.\n",
    "    - Fix any individual values preventing other columns from being the appropriate type.\n",
    "    - If your dataset has a column of percents (ex. '50%', '30.5%', etc.), use the function you wrote in Part 1 (coding challenges, number 3) to convert this to floats! *Hint*: use `.map()` or `.apply()`.\n",
    "7. Rename Columns.\n",
    "    - Column names should be all lowercase.\n",
    "    - Column names should not contain spaces (underscores will suffice--this allows for using the `df.column_name` method to access columns in addition to `df['column_name']`).\n",
    "    - Column names should be unique and informative.\n",
    "8. Drop unnecessary rows (if needed).\n",
    "9. Merge dataframes that can be merged.\n",
    "10. Perform any additional cleaning that you feel is necessary.\n",
    "11. Save your cleaned and merged dataframes as csv files."
   ]
  },
  {
   "cell_type": "markdown",
   "metadata": {},
   "source": [
    "# 2017/18/19/20/21 SATS Data import and cleaning"
   ]
  },
  {
   "cell_type": "code",
   "execution_count": 8,
   "metadata": {},
   "outputs": [
    {
     "ename": "FileNotFoundError",
     "evalue": "[Errno 2] No such file or directory: 'Data/act_2017.csv'",
     "output_type": "error",
     "traceback": [
      "\u001b[1;31m---------------------------------------------------------------------------\u001b[0m",
      "\u001b[1;31mFileNotFoundError\u001b[0m                         Traceback (most recent call last)",
      "\u001b[1;32m<ipython-input-8-7a1297a1e9a1>\u001b[0m in \u001b[0;36m<module>\u001b[1;34m\u001b[0m\n\u001b[1;32m----> 1\u001b[1;33m \u001b[0mact_2017\u001b[0m \u001b[1;33m=\u001b[0m \u001b[0mpd\u001b[0m\u001b[1;33m.\u001b[0m\u001b[0mread_csv\u001b[0m\u001b[1;33m(\u001b[0m\u001b[1;34m'Data/act_2017.csv'\u001b[0m\u001b[1;33m)\u001b[0m\u001b[1;33m\u001b[0m\u001b[1;33m\u001b[0m\u001b[0m\n\u001b[0m\u001b[0;32m      2\u001b[0m \u001b[0mact_2018\u001b[0m \u001b[1;33m=\u001b[0m \u001b[0mpd\u001b[0m\u001b[1;33m.\u001b[0m\u001b[0mread_csv\u001b[0m\u001b[1;33m(\u001b[0m\u001b[1;34m'Data/act_2018.csv'\u001b[0m\u001b[1;33m)\u001b[0m\u001b[1;33m\u001b[0m\u001b[1;33m\u001b[0m\u001b[0m\n\u001b[0;32m      3\u001b[0m \u001b[0msat_2017\u001b[0m \u001b[1;33m=\u001b[0m \u001b[0mpd\u001b[0m\u001b[1;33m.\u001b[0m\u001b[0mread_csv\u001b[0m\u001b[1;33m(\u001b[0m\u001b[1;34m'Data/sat_2017.csv'\u001b[0m\u001b[1;33m)\u001b[0m\u001b[1;33m\u001b[0m\u001b[1;33m\u001b[0m\u001b[0m\n\u001b[0;32m      4\u001b[0m \u001b[0msat_2018\u001b[0m \u001b[1;33m=\u001b[0m \u001b[0mpd\u001b[0m\u001b[1;33m.\u001b[0m\u001b[0mread_csv\u001b[0m\u001b[1;33m(\u001b[0m\u001b[1;34m'Data/sat_2018.csv'\u001b[0m\u001b[1;33m)\u001b[0m\u001b[1;33m\u001b[0m\u001b[1;33m\u001b[0m\u001b[0m\n",
      "\u001b[1;32mC:\\ProgramData\\Anaconda3\\lib\\site-packages\\pandas\\io\\parsers.py\u001b[0m in \u001b[0;36mread_csv\u001b[1;34m(filepath_or_buffer, sep, delimiter, header, names, index_col, usecols, squeeze, prefix, mangle_dupe_cols, dtype, engine, converters, true_values, false_values, skipinitialspace, skiprows, skipfooter, nrows, na_values, keep_default_na, na_filter, verbose, skip_blank_lines, parse_dates, infer_datetime_format, keep_date_col, date_parser, dayfirst, cache_dates, iterator, chunksize, compression, thousands, decimal, lineterminator, quotechar, quoting, doublequote, escapechar, comment, encoding, dialect, error_bad_lines, warn_bad_lines, delim_whitespace, low_memory, memory_map, float_precision, storage_options)\u001b[0m\n\u001b[0;32m    608\u001b[0m     \u001b[0mkwds\u001b[0m\u001b[1;33m.\u001b[0m\u001b[0mupdate\u001b[0m\u001b[1;33m(\u001b[0m\u001b[0mkwds_defaults\u001b[0m\u001b[1;33m)\u001b[0m\u001b[1;33m\u001b[0m\u001b[1;33m\u001b[0m\u001b[0m\n\u001b[0;32m    609\u001b[0m \u001b[1;33m\u001b[0m\u001b[0m\n\u001b[1;32m--> 610\u001b[1;33m     \u001b[1;32mreturn\u001b[0m \u001b[0m_read\u001b[0m\u001b[1;33m(\u001b[0m\u001b[0mfilepath_or_buffer\u001b[0m\u001b[1;33m,\u001b[0m \u001b[0mkwds\u001b[0m\u001b[1;33m)\u001b[0m\u001b[1;33m\u001b[0m\u001b[1;33m\u001b[0m\u001b[0m\n\u001b[0m\u001b[0;32m    611\u001b[0m \u001b[1;33m\u001b[0m\u001b[0m\n\u001b[0;32m    612\u001b[0m \u001b[1;33m\u001b[0m\u001b[0m\n",
      "\u001b[1;32mC:\\ProgramData\\Anaconda3\\lib\\site-packages\\pandas\\io\\parsers.py\u001b[0m in \u001b[0;36m_read\u001b[1;34m(filepath_or_buffer, kwds)\u001b[0m\n\u001b[0;32m    460\u001b[0m \u001b[1;33m\u001b[0m\u001b[0m\n\u001b[0;32m    461\u001b[0m     \u001b[1;31m# Create the parser.\u001b[0m\u001b[1;33m\u001b[0m\u001b[1;33m\u001b[0m\u001b[1;33m\u001b[0m\u001b[0m\n\u001b[1;32m--> 462\u001b[1;33m     \u001b[0mparser\u001b[0m \u001b[1;33m=\u001b[0m \u001b[0mTextFileReader\u001b[0m\u001b[1;33m(\u001b[0m\u001b[0mfilepath_or_buffer\u001b[0m\u001b[1;33m,\u001b[0m \u001b[1;33m**\u001b[0m\u001b[0mkwds\u001b[0m\u001b[1;33m)\u001b[0m\u001b[1;33m\u001b[0m\u001b[1;33m\u001b[0m\u001b[0m\n\u001b[0m\u001b[0;32m    463\u001b[0m \u001b[1;33m\u001b[0m\u001b[0m\n\u001b[0;32m    464\u001b[0m     \u001b[1;32mif\u001b[0m \u001b[0mchunksize\u001b[0m \u001b[1;32mor\u001b[0m \u001b[0miterator\u001b[0m\u001b[1;33m:\u001b[0m\u001b[1;33m\u001b[0m\u001b[1;33m\u001b[0m\u001b[0m\n",
      "\u001b[1;32mC:\\ProgramData\\Anaconda3\\lib\\site-packages\\pandas\\io\\parsers.py\u001b[0m in \u001b[0;36m__init__\u001b[1;34m(self, f, engine, **kwds)\u001b[0m\n\u001b[0;32m    817\u001b[0m             \u001b[0mself\u001b[0m\u001b[1;33m.\u001b[0m\u001b[0moptions\u001b[0m\u001b[1;33m[\u001b[0m\u001b[1;34m\"has_index_names\"\u001b[0m\u001b[1;33m]\u001b[0m \u001b[1;33m=\u001b[0m \u001b[0mkwds\u001b[0m\u001b[1;33m[\u001b[0m\u001b[1;34m\"has_index_names\"\u001b[0m\u001b[1;33m]\u001b[0m\u001b[1;33m\u001b[0m\u001b[1;33m\u001b[0m\u001b[0m\n\u001b[0;32m    818\u001b[0m \u001b[1;33m\u001b[0m\u001b[0m\n\u001b[1;32m--> 819\u001b[1;33m         \u001b[0mself\u001b[0m\u001b[1;33m.\u001b[0m\u001b[0m_engine\u001b[0m \u001b[1;33m=\u001b[0m \u001b[0mself\u001b[0m\u001b[1;33m.\u001b[0m\u001b[0m_make_engine\u001b[0m\u001b[1;33m(\u001b[0m\u001b[0mself\u001b[0m\u001b[1;33m.\u001b[0m\u001b[0mengine\u001b[0m\u001b[1;33m)\u001b[0m\u001b[1;33m\u001b[0m\u001b[1;33m\u001b[0m\u001b[0m\n\u001b[0m\u001b[0;32m    820\u001b[0m \u001b[1;33m\u001b[0m\u001b[0m\n\u001b[0;32m    821\u001b[0m     \u001b[1;32mdef\u001b[0m \u001b[0mclose\u001b[0m\u001b[1;33m(\u001b[0m\u001b[0mself\u001b[0m\u001b[1;33m)\u001b[0m\u001b[1;33m:\u001b[0m\u001b[1;33m\u001b[0m\u001b[1;33m\u001b[0m\u001b[0m\n",
      "\u001b[1;32mC:\\ProgramData\\Anaconda3\\lib\\site-packages\\pandas\\io\\parsers.py\u001b[0m in \u001b[0;36m_make_engine\u001b[1;34m(self, engine)\u001b[0m\n\u001b[0;32m   1048\u001b[0m             )\n\u001b[0;32m   1049\u001b[0m         \u001b[1;31m# error: Too many arguments for \"ParserBase\"\u001b[0m\u001b[1;33m\u001b[0m\u001b[1;33m\u001b[0m\u001b[1;33m\u001b[0m\u001b[0m\n\u001b[1;32m-> 1050\u001b[1;33m         \u001b[1;32mreturn\u001b[0m \u001b[0mmapping\u001b[0m\u001b[1;33m[\u001b[0m\u001b[0mengine\u001b[0m\u001b[1;33m]\u001b[0m\u001b[1;33m(\u001b[0m\u001b[0mself\u001b[0m\u001b[1;33m.\u001b[0m\u001b[0mf\u001b[0m\u001b[1;33m,\u001b[0m \u001b[1;33m**\u001b[0m\u001b[0mself\u001b[0m\u001b[1;33m.\u001b[0m\u001b[0moptions\u001b[0m\u001b[1;33m)\u001b[0m  \u001b[1;31m# type: ignore[call-arg]\u001b[0m\u001b[1;33m\u001b[0m\u001b[1;33m\u001b[0m\u001b[0m\n\u001b[0m\u001b[0;32m   1051\u001b[0m \u001b[1;33m\u001b[0m\u001b[0m\n\u001b[0;32m   1052\u001b[0m     \u001b[1;32mdef\u001b[0m \u001b[0m_failover_to_python\u001b[0m\u001b[1;33m(\u001b[0m\u001b[0mself\u001b[0m\u001b[1;33m)\u001b[0m\u001b[1;33m:\u001b[0m\u001b[1;33m\u001b[0m\u001b[1;33m\u001b[0m\u001b[0m\n",
      "\u001b[1;32mC:\\ProgramData\\Anaconda3\\lib\\site-packages\\pandas\\io\\parsers.py\u001b[0m in \u001b[0;36m__init__\u001b[1;34m(self, src, **kwds)\u001b[0m\n\u001b[0;32m   1865\u001b[0m \u001b[1;33m\u001b[0m\u001b[0m\n\u001b[0;32m   1866\u001b[0m         \u001b[1;31m# open handles\u001b[0m\u001b[1;33m\u001b[0m\u001b[1;33m\u001b[0m\u001b[1;33m\u001b[0m\u001b[0m\n\u001b[1;32m-> 1867\u001b[1;33m         \u001b[0mself\u001b[0m\u001b[1;33m.\u001b[0m\u001b[0m_open_handles\u001b[0m\u001b[1;33m(\u001b[0m\u001b[0msrc\u001b[0m\u001b[1;33m,\u001b[0m \u001b[0mkwds\u001b[0m\u001b[1;33m)\u001b[0m\u001b[1;33m\u001b[0m\u001b[1;33m\u001b[0m\u001b[0m\n\u001b[0m\u001b[0;32m   1868\u001b[0m         \u001b[1;32massert\u001b[0m \u001b[0mself\u001b[0m\u001b[1;33m.\u001b[0m\u001b[0mhandles\u001b[0m \u001b[1;32mis\u001b[0m \u001b[1;32mnot\u001b[0m \u001b[1;32mNone\u001b[0m\u001b[1;33m\u001b[0m\u001b[1;33m\u001b[0m\u001b[0m\n\u001b[0;32m   1869\u001b[0m         \u001b[1;32mfor\u001b[0m \u001b[0mkey\u001b[0m \u001b[1;32min\u001b[0m \u001b[1;33m(\u001b[0m\u001b[1;34m\"storage_options\"\u001b[0m\u001b[1;33m,\u001b[0m \u001b[1;34m\"encoding\"\u001b[0m\u001b[1;33m,\u001b[0m \u001b[1;34m\"memory_map\"\u001b[0m\u001b[1;33m,\u001b[0m \u001b[1;34m\"compression\"\u001b[0m\u001b[1;33m)\u001b[0m\u001b[1;33m:\u001b[0m\u001b[1;33m\u001b[0m\u001b[1;33m\u001b[0m\u001b[0m\n",
      "\u001b[1;32mC:\\ProgramData\\Anaconda3\\lib\\site-packages\\pandas\\io\\parsers.py\u001b[0m in \u001b[0;36m_open_handles\u001b[1;34m(self, src, kwds)\u001b[0m\n\u001b[0;32m   1360\u001b[0m         \u001b[0mLet\u001b[0m \u001b[0mthe\u001b[0m \u001b[0mreaders\u001b[0m \u001b[0mopen\u001b[0m \u001b[0mIOHanldes\u001b[0m \u001b[0mafter\u001b[0m \u001b[0mthey\u001b[0m \u001b[0mare\u001b[0m \u001b[0mdone\u001b[0m \u001b[1;32mwith\u001b[0m \u001b[0mtheir\u001b[0m \u001b[0mpotential\u001b[0m \u001b[0mraises\u001b[0m\u001b[1;33m.\u001b[0m\u001b[1;33m\u001b[0m\u001b[1;33m\u001b[0m\u001b[0m\n\u001b[0;32m   1361\u001b[0m         \"\"\"\n\u001b[1;32m-> 1362\u001b[1;33m         self.handles = get_handle(\n\u001b[0m\u001b[0;32m   1363\u001b[0m             \u001b[0msrc\u001b[0m\u001b[1;33m,\u001b[0m\u001b[1;33m\u001b[0m\u001b[1;33m\u001b[0m\u001b[0m\n\u001b[0;32m   1364\u001b[0m             \u001b[1;34m\"r\"\u001b[0m\u001b[1;33m,\u001b[0m\u001b[1;33m\u001b[0m\u001b[1;33m\u001b[0m\u001b[0m\n",
      "\u001b[1;32mC:\\ProgramData\\Anaconda3\\lib\\site-packages\\pandas\\io\\common.py\u001b[0m in \u001b[0;36mget_handle\u001b[1;34m(path_or_buf, mode, encoding, compression, memory_map, is_text, errors, storage_options)\u001b[0m\n\u001b[0;32m    640\u001b[0m                 \u001b[0merrors\u001b[0m \u001b[1;33m=\u001b[0m \u001b[1;34m\"replace\"\u001b[0m\u001b[1;33m\u001b[0m\u001b[1;33m\u001b[0m\u001b[0m\n\u001b[0;32m    641\u001b[0m             \u001b[1;31m# Encoding\u001b[0m\u001b[1;33m\u001b[0m\u001b[1;33m\u001b[0m\u001b[1;33m\u001b[0m\u001b[0m\n\u001b[1;32m--> 642\u001b[1;33m             handle = open(\n\u001b[0m\u001b[0;32m    643\u001b[0m                 \u001b[0mhandle\u001b[0m\u001b[1;33m,\u001b[0m\u001b[1;33m\u001b[0m\u001b[1;33m\u001b[0m\u001b[0m\n\u001b[0;32m    644\u001b[0m                 \u001b[0mioargs\u001b[0m\u001b[1;33m.\u001b[0m\u001b[0mmode\u001b[0m\u001b[1;33m,\u001b[0m\u001b[1;33m\u001b[0m\u001b[1;33m\u001b[0m\u001b[0m\n",
      "\u001b[1;31mFileNotFoundError\u001b[0m: [Errno 2] No such file or directory: 'Data/act_2017.csv'"
     ]
    }
   ],
   "source": [
    "act_2017 = pd.read_csv('Data/act_2017.csv')\n",
    "act_2018 = pd.read_csv('Data/act_2018.csv')\n",
    "sat_2017 = pd.read_csv('Data/sat_2017.csv')\n",
    "sat_2018 = pd.read_csv('Data/sat_2018.csv')\n"
   ]
  },
  {
   "cell_type": "code",
   "execution_count": 6,
   "metadata": {
    "scrolled": true
   },
   "outputs": [
    {
     "data": {
      "text/html": [
       "<div>\n",
       "<style scoped>\n",
       "    .dataframe tbody tr th:only-of-type {\n",
       "        vertical-align: middle;\n",
       "    }\n",
       "\n",
       "    .dataframe tbody tr th {\n",
       "        vertical-align: top;\n",
       "    }\n",
       "\n",
       "    .dataframe thead th {\n",
       "        text-align: right;\n",
       "    }\n",
       "</style>\n",
       "<table border=\"1\" class=\"dataframe\">\n",
       "  <thead>\n",
       "    <tr style=\"text-align: right;\">\n",
       "      <th></th>\n",
       "      <th>CDS</th>\n",
       "      <th>CCode</th>\n",
       "      <th>CDCode</th>\n",
       "      <th>SCode</th>\n",
       "      <th>RType</th>\n",
       "      <th>SName</th>\n",
       "      <th>DName</th>\n",
       "      <th>CName</th>\n",
       "      <th>Enroll12</th>\n",
       "      <th>NumTSTTakr12</th>\n",
       "      <th>...</th>\n",
       "      <th>NumERWBenchmark11</th>\n",
       "      <th>PctERWBenchmark11</th>\n",
       "      <th>NumMathBenchmark11</th>\n",
       "      <th>PctMathBenchmark11</th>\n",
       "      <th>TotNumBothBenchmark12</th>\n",
       "      <th>PctBothBenchmark12</th>\n",
       "      <th>TotNumBothBenchmark11</th>\n",
       "      <th>PctBothBenchmark11</th>\n",
       "      <th>Year</th>\n",
       "      <th>Unnamed: 25</th>\n",
       "    </tr>\n",
       "  </thead>\n",
       "  <tbody>\n",
       "    <tr>\n",
       "      <th>0</th>\n",
       "      <td>6.615981e+12</td>\n",
       "      <td>6.0</td>\n",
       "      <td>661598.0</td>\n",
       "      <td>630046.0</td>\n",
       "      <td>S</td>\n",
       "      <td>Colusa Alternative Home</td>\n",
       "      <td>Colusa Unified</td>\n",
       "      <td>Colusa</td>\n",
       "      <td>18.0</td>\n",
       "      <td>0.0</td>\n",
       "      <td>...</td>\n",
       "      <td>NaN</td>\n",
       "      <td>NaN</td>\n",
       "      <td>NaN</td>\n",
       "      <td>NaN</td>\n",
       "      <td>NaN</td>\n",
       "      <td>NaN</td>\n",
       "      <td>NaN</td>\n",
       "      <td>NaN</td>\n",
       "      <td>2018-19</td>\n",
       "      <td>NaN</td>\n",
       "    </tr>\n",
       "    <tr>\n",
       "      <th>1</th>\n",
       "      <td>6.616061e+12</td>\n",
       "      <td>6.0</td>\n",
       "      <td>661606.0</td>\n",
       "      <td>634758.0</td>\n",
       "      <td>S</td>\n",
       "      <td>Maxwell Sr High</td>\n",
       "      <td>Maxwell Unified</td>\n",
       "      <td>Colusa</td>\n",
       "      <td>29.0</td>\n",
       "      <td>10.0</td>\n",
       "      <td>...</td>\n",
       "      <td>*</td>\n",
       "      <td>*</td>\n",
       "      <td>*</td>\n",
       "      <td>*</td>\n",
       "      <td>*</td>\n",
       "      <td>*</td>\n",
       "      <td>*</td>\n",
       "      <td>*</td>\n",
       "      <td>2018-19</td>\n",
       "      <td>NaN</td>\n",
       "    </tr>\n",
       "    <tr>\n",
       "      <th>2</th>\n",
       "      <td>1.964733e+13</td>\n",
       "      <td>19.0</td>\n",
       "      <td>1964733.0</td>\n",
       "      <td>1930924.0</td>\n",
       "      <td>S</td>\n",
       "      <td>Belmont Senior High</td>\n",
       "      <td>Los Angeles Unified</td>\n",
       "      <td>Los Angeles</td>\n",
       "      <td>206.0</td>\n",
       "      <td>102.0</td>\n",
       "      <td>...</td>\n",
       "      <td>42</td>\n",
       "      <td>24.14</td>\n",
       "      <td>12</td>\n",
       "      <td>6.90</td>\n",
       "      <td>14</td>\n",
       "      <td>13.73</td>\n",
       "      <td>11</td>\n",
       "      <td>6.32</td>\n",
       "      <td>2018-19</td>\n",
       "      <td>NaN</td>\n",
       "    </tr>\n",
       "    <tr>\n",
       "      <th>3</th>\n",
       "      <td>1.964733e+13</td>\n",
       "      <td>19.0</td>\n",
       "      <td>1964733.0</td>\n",
       "      <td>1931476.0</td>\n",
       "      <td>S</td>\n",
       "      <td>Canoga Park Senior High</td>\n",
       "      <td>Los Angeles Unified</td>\n",
       "      <td>Los Angeles</td>\n",
       "      <td>227.0</td>\n",
       "      <td>113.0</td>\n",
       "      <td>...</td>\n",
       "      <td>97</td>\n",
       "      <td>35.27</td>\n",
       "      <td>37</td>\n",
       "      <td>13.45</td>\n",
       "      <td>18</td>\n",
       "      <td>15.93</td>\n",
       "      <td>35</td>\n",
       "      <td>12.73</td>\n",
       "      <td>2018-19</td>\n",
       "      <td>NaN</td>\n",
       "    </tr>\n",
       "    <tr>\n",
       "      <th>4</th>\n",
       "      <td>1.964733e+13</td>\n",
       "      <td>19.0</td>\n",
       "      <td>1964733.0</td>\n",
       "      <td>1931856.0</td>\n",
       "      <td>S</td>\n",
       "      <td>Whitman Continuation</td>\n",
       "      <td>Los Angeles Unified</td>\n",
       "      <td>Los Angeles</td>\n",
       "      <td>18.0</td>\n",
       "      <td>14.0</td>\n",
       "      <td>...</td>\n",
       "      <td>*</td>\n",
       "      <td>*</td>\n",
       "      <td>*</td>\n",
       "      <td>*</td>\n",
       "      <td>*</td>\n",
       "      <td>*</td>\n",
       "      <td>*</td>\n",
       "      <td>*</td>\n",
       "      <td>2018-19</td>\n",
       "      <td>NaN</td>\n",
       "    </tr>\n",
       "  </tbody>\n",
       "</table>\n",
       "<p>5 rows × 26 columns</p>\n",
       "</div>"
      ],
      "text/plain": [
       "            CDS  CCode     CDCode      SCode RType                    SName  \\\n",
       "0  6.615981e+12    6.0   661598.0   630046.0     S  Colusa Alternative Home   \n",
       "1  6.616061e+12    6.0   661606.0   634758.0     S          Maxwell Sr High   \n",
       "2  1.964733e+13   19.0  1964733.0  1930924.0     S      Belmont Senior High   \n",
       "3  1.964733e+13   19.0  1964733.0  1931476.0     S  Canoga Park Senior High   \n",
       "4  1.964733e+13   19.0  1964733.0  1931856.0     S     Whitman Continuation   \n",
       "\n",
       "                 DName        CName  Enroll12  NumTSTTakr12  ...  \\\n",
       "0       Colusa Unified       Colusa      18.0           0.0  ...   \n",
       "1      Maxwell Unified       Colusa      29.0          10.0  ...   \n",
       "2  Los Angeles Unified  Los Angeles     206.0         102.0  ...   \n",
       "3  Los Angeles Unified  Los Angeles     227.0         113.0  ...   \n",
       "4  Los Angeles Unified  Los Angeles      18.0          14.0  ...   \n",
       "\n",
       "  NumERWBenchmark11 PctERWBenchmark11 NumMathBenchmark11 PctMathBenchmark11  \\\n",
       "0               NaN               NaN                NaN                NaN   \n",
       "1                 *                 *                  *                  *   \n",
       "2                42             24.14                 12               6.90   \n",
       "3                97             35.27                 37              13.45   \n",
       "4                 *                 *                  *                  *   \n",
       "\n",
       "   TotNumBothBenchmark12  PctBothBenchmark12 TotNumBothBenchmark11  \\\n",
       "0                    NaN                 NaN                   NaN   \n",
       "1                      *                   *                     *   \n",
       "2                     14               13.73                    11   \n",
       "3                     18               15.93                    35   \n",
       "4                      *                   *                     *   \n",
       "\n",
       "  PctBothBenchmark11     Year Unnamed: 25  \n",
       "0                NaN  2018-19         NaN  \n",
       "1                  *  2018-19         NaN  \n",
       "2               6.32  2018-19         NaN  \n",
       "3              12.73  2018-19         NaN  \n",
       "4                  *  2018-19         NaN  \n",
       "\n",
       "[5 rows x 26 columns]"
      ]
     },
     "execution_count": 6,
     "metadata": {},
     "output_type": "execute_result"
    }
   ],
   "source": [
    "Sat_Scores_2019.head()"
   ]
  },
  {
   "cell_type": "code",
   "execution_count": 7,
   "metadata": {
    "scrolled": false
   },
   "outputs": [
    {
     "data": {
      "text/html": [
       "<div>\n",
       "<style scoped>\n",
       "    .dataframe tbody tr th:only-of-type {\n",
       "        vertical-align: middle;\n",
       "    }\n",
       "\n",
       "    .dataframe tbody tr th {\n",
       "        vertical-align: top;\n",
       "    }\n",
       "\n",
       "    .dataframe thead th {\n",
       "        text-align: right;\n",
       "    }\n",
       "</style>\n",
       "<table border=\"1\" class=\"dataframe\">\n",
       "  <thead>\n",
       "    <tr style=\"text-align: right;\">\n",
       "      <th></th>\n",
       "      <th>Institution</th>\n",
       "      <th>State</th>\n",
       "      <th>Type</th>\n",
       "      <th>Number of Students</th>\n",
       "      <th>% of Score Senders</th>\n",
       "    </tr>\n",
       "  </thead>\n",
       "  <tbody>\n",
       "    <tr>\n",
       "      <th>0</th>\n",
       "      <td>California State University Mentor</td>\n",
       "      <td>CA</td>\n",
       "      <td>Public College</td>\n",
       "      <td>56986</td>\n",
       "      <td>34%</td>\n",
       "    </tr>\n",
       "    <tr>\n",
       "      <th>1</th>\n",
       "      <td>University of California: Irvine</td>\n",
       "      <td>CA</td>\n",
       "      <td>Public College</td>\n",
       "      <td>28343</td>\n",
       "      <td>17%</td>\n",
       "    </tr>\n",
       "    <tr>\n",
       "      <th>2</th>\n",
       "      <td>University of California: Los Angeles</td>\n",
       "      <td>CA</td>\n",
       "      <td>Public College</td>\n",
       "      <td>27641</td>\n",
       "      <td>16%</td>\n",
       "    </tr>\n",
       "    <tr>\n",
       "      <th>3</th>\n",
       "      <td>California State University: Long Beach</td>\n",
       "      <td>CA</td>\n",
       "      <td>Public College</td>\n",
       "      <td>24161</td>\n",
       "      <td>14%</td>\n",
       "    </tr>\n",
       "    <tr>\n",
       "      <th>4</th>\n",
       "      <td>San Diego State University</td>\n",
       "      <td>CA</td>\n",
       "      <td>Public College</td>\n",
       "      <td>23033</td>\n",
       "      <td>14%</td>\n",
       "    </tr>\n",
       "  </tbody>\n",
       "</table>\n",
       "</div>"
      ],
      "text/plain": [
       "                               Institution State            Type  \\\n",
       "0       California State University Mentor    CA  Public College   \n",
       "1         University of California: Irvine    CA  Public College   \n",
       "2    University of California: Los Angeles    CA  Public College   \n",
       "3  California State University: Long Beach    CA  Public College   \n",
       "4               San Diego State University    CA  Public College   \n",
       "\n",
       "   Number of Students % of Score Senders  \n",
       "0               56986                34%  \n",
       "1               28343                17%  \n",
       "2               27641                16%  \n",
       "3               24161                14%  \n",
       "4               23033                14%  "
      ]
     },
     "execution_count": 7,
     "metadata": {},
     "output_type": "execute_result"
    }
   ],
   "source": [
    "Sat_2017.head()"
   ]
  },
  {
   "cell_type": "code",
   "execution_count": 8,
   "metadata": {},
   "outputs": [
    {
     "name": "stdout",
     "output_type": "stream",
     "text": [
      "<class 'pandas.core.frame.DataFrame'>\n",
      "RangeIndex: 45 entries, 0 to 44\n",
      "Data columns (total 5 columns):\n",
      " #   Column              Non-Null Count  Dtype \n",
      "---  ------              --------------  ----- \n",
      " 0   Institution         45 non-null     object\n",
      " 1   State               45 non-null     object\n",
      " 2   Type                45 non-null     object\n",
      " 3   Number of Students  45 non-null     int64 \n",
      " 4   % of Score Senders  45 non-null     object\n",
      "dtypes: int64(1), object(4)\n",
      "memory usage: 1.9+ KB\n"
     ]
    }
   ],
   "source": [
    "#need to convert object into integers \n",
    "\n",
    "Sat_2017.info()"
   ]
  },
  {
   "cell_type": "code",
   "execution_count": 9,
   "metadata": {},
   "outputs": [
    {
     "name": "stdout",
     "output_type": "stream",
     "text": [
      "<class 'pandas.core.frame.DataFrame'>\n",
      "RangeIndex: 45 entries, 0 to 44\n",
      "Data columns (total 5 columns):\n",
      " #   Column              Non-Null Count  Dtype \n",
      "---  ------              --------------  ----- \n",
      " 0   Institution         45 non-null     object\n",
      " 1   State               45 non-null     object\n",
      " 2   Type                45 non-null     object\n",
      " 3   Number of Students  45 non-null     int32 \n",
      " 4   % of Score Senders  45 non-null     int32 \n",
      "dtypes: int32(2), object(3)\n",
      "memory usage: 1.5+ KB\n"
     ]
    }
   ],
   "source": [
    "# fixing 2017 data to integers \n",
    "convert_percent_commas(Sat_2017)\n",
    "\n",
    "\n",
    "#check data types \n",
    "Sat_2017.info()"
   ]
  },
  {
   "cell_type": "code",
   "execution_count": 10,
   "metadata": {},
   "outputs": [],
   "source": [
    "# convert all Sat takers data\n",
    "\n",
    "convert_percent_commas(Sat_2018)\n",
    "convert_percent_commas(Sat_2019)\n",
    "convert_percent_commas(Sat_2020)\n",
    "convert_percent_commas(Sat_2021)"
   ]
  },
  {
   "cell_type": "code",
   "execution_count": 11,
   "metadata": {},
   "outputs": [
    {
     "data": {
      "text/html": [
       "<div>\n",
       "<style scoped>\n",
       "    .dataframe tbody tr th:only-of-type {\n",
       "        vertical-align: middle;\n",
       "    }\n",
       "\n",
       "    .dataframe tbody tr th {\n",
       "        vertical-align: top;\n",
       "    }\n",
       "\n",
       "    .dataframe thead th {\n",
       "        text-align: right;\n",
       "    }\n",
       "</style>\n",
       "<table border=\"1\" class=\"dataframe\">\n",
       "  <thead>\n",
       "    <tr style=\"text-align: right;\">\n",
       "      <th></th>\n",
       "      <th>Institution</th>\n",
       "      <th>State</th>\n",
       "      <th>Type</th>\n",
       "      <th>Number of Students</th>\n",
       "      <th>% of Score Senders</th>\n",
       "    </tr>\n",
       "  </thead>\n",
       "  <tbody>\n",
       "    <tr>\n",
       "      <th>0</th>\n",
       "      <td>California State University Apply</td>\n",
       "      <td>CA</td>\n",
       "      <td>Public College</td>\n",
       "      <td>50760</td>\n",
       "      <td>24</td>\n",
       "    </tr>\n",
       "    <tr>\n",
       "      <th>1</th>\n",
       "      <td>University of California: Los Angeles</td>\n",
       "      <td>CA</td>\n",
       "      <td>Public College</td>\n",
       "      <td>43683</td>\n",
       "      <td>21</td>\n",
       "    </tr>\n",
       "    <tr>\n",
       "      <th>2</th>\n",
       "      <td>University of California: Irvine</td>\n",
       "      <td>CA</td>\n",
       "      <td>Public College</td>\n",
       "      <td>41126</td>\n",
       "      <td>19</td>\n",
       "    </tr>\n",
       "    <tr>\n",
       "      <th>3</th>\n",
       "      <td>California State University: Long Beach</td>\n",
       "      <td>CA</td>\n",
       "      <td>Public College</td>\n",
       "      <td>38243</td>\n",
       "      <td>18</td>\n",
       "    </tr>\n",
       "    <tr>\n",
       "      <th>4</th>\n",
       "      <td>San Diego State University</td>\n",
       "      <td>CA</td>\n",
       "      <td>Public College</td>\n",
       "      <td>30613</td>\n",
       "      <td>14</td>\n",
       "    </tr>\n",
       "  </tbody>\n",
       "</table>\n",
       "</div>"
      ],
      "text/plain": [
       "                               Institution State            Type  \\\n",
       "0        California State University Apply    CA  Public College   \n",
       "1    University of California: Los Angeles    CA  Public College   \n",
       "2         University of California: Irvine    CA  Public College   \n",
       "3  California State University: Long Beach    CA  Public College   \n",
       "4               San Diego State University    CA  Public College   \n",
       "\n",
       "   Number of Students  % of Score Senders  \n",
       "0               50760                  24  \n",
       "1               43683                  21  \n",
       "2               41126                  19  \n",
       "3               38243                  18  \n",
       "4               30613                  14  "
      ]
     },
     "execution_count": 11,
     "metadata": {},
     "output_type": "execute_result"
    }
   ],
   "source": [
    "Sat_2020.head()"
   ]
  },
  {
   "cell_type": "code",
   "execution_count": 12,
   "metadata": {},
   "outputs": [],
   "source": [
    "def update_cols(df,prefix1,prefix2):\n",
    "    df.columns = [x.replace('_x',' ') + prefix1 if '_x' in x else x.replace('_y',' ') + prefix2 if '_y' in x else x for x in df.columns]\n",
    "    return df"
   ]
  },
  {
   "cell_type": "code",
   "execution_count": null,
   "metadata": {
    "scrolled": false
   },
   "outputs": [],
   "source": [
    "\n"
   ]
  },
  {
   "cell_type": "code",
   "execution_count": 13,
   "metadata": {},
   "outputs": [],
   "source": [
    "def change_title(df,before,after):\n",
    "    putlist = [x for x in df.columns]\n",
    "    output = []\n",
    "    for string in putlist:\n",
    "        output.append(string.replace(before,after))  \n",
    "    df.columns = output\n",
    "    return df"
   ]
  },
  {
   "cell_type": "code",
   "execution_count": 14,
   "metadata": {
    "scrolled": true
   },
   "outputs": [
    {
     "data": {
      "text/html": [
       "<div>\n",
       "<style scoped>\n",
       "    .dataframe tbody tr th:only-of-type {\n",
       "        vertical-align: middle;\n",
       "    }\n",
       "\n",
       "    .dataframe tbody tr th {\n",
       "        vertical-align: top;\n",
       "    }\n",
       "\n",
       "    .dataframe thead th {\n",
       "        text-align: right;\n",
       "    }\n",
       "</style>\n",
       "<table border=\"1\" class=\"dataframe\">\n",
       "  <thead>\n",
       "    <tr style=\"text-align: right;\">\n",
       "      <th></th>\n",
       "      <th>Institution</th>\n",
       "      <th>State</th>\n",
       "      <th>Type</th>\n",
       "      <th>n_Stu 2021</th>\n",
       "      <th>Pct_Apl 2021</th>\n",
       "      <th>n_Stu 2020</th>\n",
       "      <th>Pct_Apl 2020</th>\n",
       "      <th>n_Stu 2019</th>\n",
       "      <th>Pct_Apl 2019</th>\n",
       "      <th>n_Stu 2018</th>\n",
       "      <th>Pct_Apl 2018</th>\n",
       "      <th>n_Stu 2017</th>\n",
       "      <th>Pct_Apl 2017</th>\n",
       "    </tr>\n",
       "  </thead>\n",
       "  <tbody>\n",
       "    <tr>\n",
       "      <th>0</th>\n",
       "      <td>University of California: Los Angeles</td>\n",
       "      <td>CA</td>\n",
       "      <td>Public College</td>\n",
       "      <td>11602</td>\n",
       "      <td>19</td>\n",
       "      <td>43683</td>\n",
       "      <td>21</td>\n",
       "      <td>44305</td>\n",
       "      <td>21</td>\n",
       "      <td>36347</td>\n",
       "      <td>18</td>\n",
       "      <td>27641</td>\n",
       "      <td>16</td>\n",
       "    </tr>\n",
       "    <tr>\n",
       "      <th>1</th>\n",
       "      <td>University of Southern California</td>\n",
       "      <td>CA</td>\n",
       "      <td>Private College</td>\n",
       "      <td>8866</td>\n",
       "      <td>14</td>\n",
       "      <td>25221</td>\n",
       "      <td>12</td>\n",
       "      <td>27429</td>\n",
       "      <td>13</td>\n",
       "      <td>24685</td>\n",
       "      <td>12</td>\n",
       "      <td>16224</td>\n",
       "      <td>10</td>\n",
       "    </tr>\n",
       "    <tr>\n",
       "      <th>2</th>\n",
       "      <td>University of California: Irvine</td>\n",
       "      <td>CA</td>\n",
       "      <td>Public College</td>\n",
       "      <td>6661</td>\n",
       "      <td>11</td>\n",
       "      <td>41126</td>\n",
       "      <td>19</td>\n",
       "      <td>42824</td>\n",
       "      <td>20</td>\n",
       "      <td>35845</td>\n",
       "      <td>18</td>\n",
       "      <td>28343</td>\n",
       "      <td>17</td>\n",
       "    </tr>\n",
       "    <tr>\n",
       "      <th>3</th>\n",
       "      <td>University of California: Berkeley</td>\n",
       "      <td>CA</td>\n",
       "      <td>Public College</td>\n",
       "      <td>5816</td>\n",
       "      <td>10</td>\n",
       "      <td>27554</td>\n",
       "      <td>13</td>\n",
       "      <td>29072</td>\n",
       "      <td>14</td>\n",
       "      <td>25835</td>\n",
       "      <td>13</td>\n",
       "      <td>20379</td>\n",
       "      <td>12</td>\n",
       "    </tr>\n",
       "    <tr>\n",
       "      <th>4</th>\n",
       "      <td>University of California: San Diego</td>\n",
       "      <td>CA</td>\n",
       "      <td>Public College</td>\n",
       "      <td>5696</td>\n",
       "      <td>9</td>\n",
       "      <td>29172</td>\n",
       "      <td>14</td>\n",
       "      <td>31655</td>\n",
       "      <td>15</td>\n",
       "      <td>25514</td>\n",
       "      <td>13</td>\n",
       "      <td>19306</td>\n",
       "      <td>12</td>\n",
       "    </tr>\n",
       "    <tr>\n",
       "      <th>5</th>\n",
       "      <td>University of California: Davis</td>\n",
       "      <td>CA</td>\n",
       "      <td>Public College</td>\n",
       "      <td>5053</td>\n",
       "      <td>8</td>\n",
       "      <td>27872</td>\n",
       "      <td>13</td>\n",
       "      <td>30220</td>\n",
       "      <td>14</td>\n",
       "      <td>26040</td>\n",
       "      <td>13</td>\n",
       "      <td>21147</td>\n",
       "      <td>13</td>\n",
       "    </tr>\n",
       "    <tr>\n",
       "      <th>6</th>\n",
       "      <td>University of California: Riverside</td>\n",
       "      <td>CA</td>\n",
       "      <td>Public College</td>\n",
       "      <td>4899</td>\n",
       "      <td>8</td>\n",
       "      <td>25552</td>\n",
       "      <td>12</td>\n",
       "      <td>25042</td>\n",
       "      <td>12</td>\n",
       "      <td>19316</td>\n",
       "      <td>10</td>\n",
       "      <td>16024</td>\n",
       "      <td>10</td>\n",
       "    </tr>\n",
       "    <tr>\n",
       "      <th>7</th>\n",
       "      <td>University of California: Santa Barbara</td>\n",
       "      <td>CA</td>\n",
       "      <td>Public College</td>\n",
       "      <td>4605</td>\n",
       "      <td>8</td>\n",
       "      <td>28130</td>\n",
       "      <td>13</td>\n",
       "      <td>31512</td>\n",
       "      <td>15</td>\n",
       "      <td>25534</td>\n",
       "      <td>13</td>\n",
       "      <td>20344</td>\n",
       "      <td>12</td>\n",
       "    </tr>\n",
       "    <tr>\n",
       "      <th>8</th>\n",
       "      <td>California State University: Long Beach</td>\n",
       "      <td>CA</td>\n",
       "      <td>Public College</td>\n",
       "      <td>4496</td>\n",
       "      <td>7</td>\n",
       "      <td>38243</td>\n",
       "      <td>18</td>\n",
       "      <td>39609</td>\n",
       "      <td>19</td>\n",
       "      <td>30040</td>\n",
       "      <td>15</td>\n",
       "      <td>24161</td>\n",
       "      <td>14</td>\n",
       "    </tr>\n",
       "    <tr>\n",
       "      <th>9</th>\n",
       "      <td>California State University: Northridge</td>\n",
       "      <td>CA</td>\n",
       "      <td>Public College</td>\n",
       "      <td>3880</td>\n",
       "      <td>6</td>\n",
       "      <td>17856</td>\n",
       "      <td>8</td>\n",
       "      <td>16754</td>\n",
       "      <td>8</td>\n",
       "      <td>14715</td>\n",
       "      <td>7</td>\n",
       "      <td>12831</td>\n",
       "      <td>8</td>\n",
       "    </tr>\n",
       "    <tr>\n",
       "      <th>10</th>\n",
       "      <td>California State University: Los Angeles</td>\n",
       "      <td>CA</td>\n",
       "      <td>Public College</td>\n",
       "      <td>3798</td>\n",
       "      <td>6</td>\n",
       "      <td>20187</td>\n",
       "      <td>10</td>\n",
       "      <td>19455</td>\n",
       "      <td>9</td>\n",
       "      <td>15360</td>\n",
       "      <td>8</td>\n",
       "      <td>13947</td>\n",
       "      <td>8</td>\n",
       "    </tr>\n",
       "    <tr>\n",
       "      <th>11</th>\n",
       "      <td>Stanford University</td>\n",
       "      <td>CA</td>\n",
       "      <td>Private College</td>\n",
       "      <td>3795</td>\n",
       "      <td>6</td>\n",
       "      <td>11201</td>\n",
       "      <td>5</td>\n",
       "      <td>12809</td>\n",
       "      <td>6</td>\n",
       "      <td>13894</td>\n",
       "      <td>7</td>\n",
       "      <td>11090</td>\n",
       "      <td>7</td>\n",
       "    </tr>\n",
       "    <tr>\n",
       "      <th>12</th>\n",
       "      <td>California Polytechnic State Univ San Luis Obispo</td>\n",
       "      <td>CA</td>\n",
       "      <td>Public College</td>\n",
       "      <td>3564</td>\n",
       "      <td>6</td>\n",
       "      <td>23444</td>\n",
       "      <td>11</td>\n",
       "      <td>25358</td>\n",
       "      <td>12</td>\n",
       "      <td>23434</td>\n",
       "      <td>12</td>\n",
       "      <td>15781</td>\n",
       "      <td>9</td>\n",
       "    </tr>\n",
       "    <tr>\n",
       "      <th>13</th>\n",
       "      <td>San Diego State University</td>\n",
       "      <td>CA</td>\n",
       "      <td>Public College</td>\n",
       "      <td>3424</td>\n",
       "      <td>6</td>\n",
       "      <td>30613</td>\n",
       "      <td>14</td>\n",
       "      <td>33890</td>\n",
       "      <td>16</td>\n",
       "      <td>29618</td>\n",
       "      <td>15</td>\n",
       "      <td>23033</td>\n",
       "      <td>14</td>\n",
       "    </tr>\n",
       "    <tr>\n",
       "      <th>14</th>\n",
       "      <td>New York University</td>\n",
       "      <td>NY</td>\n",
       "      <td>Private College</td>\n",
       "      <td>3214</td>\n",
       "      <td>5</td>\n",
       "      <td>8986</td>\n",
       "      <td>4</td>\n",
       "      <td>9564</td>\n",
       "      <td>5</td>\n",
       "      <td>7829</td>\n",
       "      <td>4</td>\n",
       "      <td>5104</td>\n",
       "      <td>3</td>\n",
       "    </tr>\n",
       "    <tr>\n",
       "      <th>15</th>\n",
       "      <td>University of California: Santa Cruz</td>\n",
       "      <td>CA</td>\n",
       "      <td>Public College</td>\n",
       "      <td>2790</td>\n",
       "      <td>5</td>\n",
       "      <td>19907</td>\n",
       "      <td>9</td>\n",
       "      <td>21646</td>\n",
       "      <td>10</td>\n",
       "      <td>17523</td>\n",
       "      <td>9</td>\n",
       "      <td>15439</td>\n",
       "      <td>9</td>\n",
       "    </tr>\n",
       "    <tr>\n",
       "      <th>16</th>\n",
       "      <td>Arizona State University</td>\n",
       "      <td>AZ</td>\n",
       "      <td>Public College</td>\n",
       "      <td>2581</td>\n",
       "      <td>4</td>\n",
       "      <td>10004</td>\n",
       "      <td>5</td>\n",
       "      <td>9251</td>\n",
       "      <td>4</td>\n",
       "      <td>5783</td>\n",
       "      <td>3</td>\n",
       "      <td>4501</td>\n",
       "      <td>3</td>\n",
       "    </tr>\n",
       "    <tr>\n",
       "      <th>17</th>\n",
       "      <td>University of Washington</td>\n",
       "      <td>WA</td>\n",
       "      <td>Public College</td>\n",
       "      <td>2501</td>\n",
       "      <td>4</td>\n",
       "      <td>8961</td>\n",
       "      <td>4</td>\n",
       "      <td>9210</td>\n",
       "      <td>4</td>\n",
       "      <td>8479</td>\n",
       "      <td>4</td>\n",
       "      <td>6443</td>\n",
       "      <td>4</td>\n",
       "    </tr>\n",
       "    <tr>\n",
       "      <th>18</th>\n",
       "      <td>California State University: Fullerton</td>\n",
       "      <td>CA</td>\n",
       "      <td>Public College</td>\n",
       "      <td>2431</td>\n",
       "      <td>4</td>\n",
       "      <td>25760</td>\n",
       "      <td>12</td>\n",
       "      <td>27447</td>\n",
       "      <td>13</td>\n",
       "      <td>23250</td>\n",
       "      <td>12</td>\n",
       "      <td>19301</td>\n",
       "      <td>12</td>\n",
       "    </tr>\n",
       "    <tr>\n",
       "      <th>19</th>\n",
       "      <td>California State University: San Bernardino</td>\n",
       "      <td>CA</td>\n",
       "      <td>Public College</td>\n",
       "      <td>2245</td>\n",
       "      <td>4</td>\n",
       "      <td>9739</td>\n",
       "      <td>5</td>\n",
       "      <td>9570</td>\n",
       "      <td>5</td>\n",
       "      <td>8032</td>\n",
       "      <td>4</td>\n",
       "      <td>7659</td>\n",
       "      <td>5</td>\n",
       "    </tr>\n",
       "    <tr>\n",
       "      <th>20</th>\n",
       "      <td>California State Polytechnic University: Pomona</td>\n",
       "      <td>CA</td>\n",
       "      <td>Public College</td>\n",
       "      <td>2231</td>\n",
       "      <td>4</td>\n",
       "      <td>18645</td>\n",
       "      <td>9</td>\n",
       "      <td>19580</td>\n",
       "      <td>9</td>\n",
       "      <td>14667</td>\n",
       "      <td>7</td>\n",
       "      <td>13570</td>\n",
       "      <td>8</td>\n",
       "    </tr>\n",
       "    <tr>\n",
       "      <th>21</th>\n",
       "      <td>University of Oregon</td>\n",
       "      <td>OR</td>\n",
       "      <td>Public College</td>\n",
       "      <td>2166</td>\n",
       "      <td>4</td>\n",
       "      <td>9548</td>\n",
       "      <td>5</td>\n",
       "      <td>9252</td>\n",
       "      <td>4</td>\n",
       "      <td>7948</td>\n",
       "      <td>4</td>\n",
       "      <td>5705</td>\n",
       "      <td>3</td>\n",
       "    </tr>\n",
       "    <tr>\n",
       "      <th>22</th>\n",
       "      <td>Santa Clara University</td>\n",
       "      <td>CA</td>\n",
       "      <td>Private College</td>\n",
       "      <td>1806</td>\n",
       "      <td>3</td>\n",
       "      <td>6056</td>\n",
       "      <td>3</td>\n",
       "      <td>6763</td>\n",
       "      <td>3</td>\n",
       "      <td>7361</td>\n",
       "      <td>4</td>\n",
       "      <td>4909</td>\n",
       "      <td>3</td>\n",
       "    </tr>\n",
       "    <tr>\n",
       "      <th>23</th>\n",
       "      <td>California State University: Sacramento</td>\n",
       "      <td>CA</td>\n",
       "      <td>Public College</td>\n",
       "      <td>1801</td>\n",
       "      <td>3</td>\n",
       "      <td>15825</td>\n",
       "      <td>7</td>\n",
       "      <td>16509</td>\n",
       "      <td>8</td>\n",
       "      <td>14035</td>\n",
       "      <td>7</td>\n",
       "      <td>11863</td>\n",
       "      <td>7</td>\n",
       "    </tr>\n",
       "    <tr>\n",
       "      <th>24</th>\n",
       "      <td>University of California: Merced</td>\n",
       "      <td>CA</td>\n",
       "      <td>Public College</td>\n",
       "      <td>1765</td>\n",
       "      <td>3</td>\n",
       "      <td>16009</td>\n",
       "      <td>8</td>\n",
       "      <td>16051</td>\n",
       "      <td>8</td>\n",
       "      <td>11952</td>\n",
       "      <td>6</td>\n",
       "      <td>8828</td>\n",
       "      <td>5</td>\n",
       "    </tr>\n",
       "    <tr>\n",
       "      <th>25</th>\n",
       "      <td>NCAA Eligibility Center</td>\n",
       "      <td>IN</td>\n",
       "      <td>Public College</td>\n",
       "      <td>1567</td>\n",
       "      <td>3</td>\n",
       "      <td>7797</td>\n",
       "      <td>4</td>\n",
       "      <td>7980</td>\n",
       "      <td>4</td>\n",
       "      <td>7319</td>\n",
       "      <td>4</td>\n",
       "      <td>6118</td>\n",
       "      <td>4</td>\n",
       "    </tr>\n",
       "    <tr>\n",
       "      <th>26</th>\n",
       "      <td>San Jose State University</td>\n",
       "      <td>CA</td>\n",
       "      <td>Public College</td>\n",
       "      <td>1544</td>\n",
       "      <td>3</td>\n",
       "      <td>17441</td>\n",
       "      <td>8</td>\n",
       "      <td>18752</td>\n",
       "      <td>9</td>\n",
       "      <td>17779</td>\n",
       "      <td>9</td>\n",
       "      <td>13104</td>\n",
       "      <td>8</td>\n",
       "    </tr>\n",
       "    <tr>\n",
       "      <th>27</th>\n",
       "      <td>University of San Diego</td>\n",
       "      <td>CA</td>\n",
       "      <td>Private College</td>\n",
       "      <td>1526</td>\n",
       "      <td>3</td>\n",
       "      <td>11900</td>\n",
       "      <td>6</td>\n",
       "      <td>12334</td>\n",
       "      <td>6</td>\n",
       "      <td>9867</td>\n",
       "      <td>5</td>\n",
       "      <td>8111</td>\n",
       "      <td>5</td>\n",
       "    </tr>\n",
       "    <tr>\n",
       "      <th>28</th>\n",
       "      <td>San Francisco State University</td>\n",
       "      <td>CA</td>\n",
       "      <td>Public College</td>\n",
       "      <td>1453</td>\n",
       "      <td>2</td>\n",
       "      <td>14911</td>\n",
       "      <td>7</td>\n",
       "      <td>16239</td>\n",
       "      <td>8</td>\n",
       "      <td>16370</td>\n",
       "      <td>8</td>\n",
       "      <td>14634</td>\n",
       "      <td>9</td>\n",
       "    </tr>\n",
       "    <tr>\n",
       "      <th>29</th>\n",
       "      <td>University of San Francisco</td>\n",
       "      <td>CA</td>\n",
       "      <td>Private College</td>\n",
       "      <td>1340</td>\n",
       "      <td>2</td>\n",
       "      <td>7104</td>\n",
       "      <td>3</td>\n",
       "      <td>9538</td>\n",
       "      <td>5</td>\n",
       "      <td>8118</td>\n",
       "      <td>4</td>\n",
       "      <td>5487</td>\n",
       "      <td>3</td>\n",
       "    </tr>\n",
       "    <tr>\n",
       "      <th>30</th>\n",
       "      <td>California State University: Fresno</td>\n",
       "      <td>CA</td>\n",
       "      <td>Public College</td>\n",
       "      <td>1312</td>\n",
       "      <td>2</td>\n",
       "      <td>12266</td>\n",
       "      <td>6</td>\n",
       "      <td>12186</td>\n",
       "      <td>6</td>\n",
       "      <td>10429</td>\n",
       "      <td>5</td>\n",
       "      <td>9531</td>\n",
       "      <td>6</td>\n",
       "    </tr>\n",
       "  </tbody>\n",
       "</table>\n",
       "</div>"
      ],
      "text/plain": [
       "                                          Institution State             Type  \\\n",
       "0               University of California: Los Angeles    CA   Public College   \n",
       "1                   University of Southern California    CA  Private College   \n",
       "2                    University of California: Irvine    CA   Public College   \n",
       "3                  University of California: Berkeley    CA   Public College   \n",
       "4                 University of California: San Diego    CA   Public College   \n",
       "5                     University of California: Davis    CA   Public College   \n",
       "6                 University of California: Riverside    CA   Public College   \n",
       "7             University of California: Santa Barbara    CA   Public College   \n",
       "8             California State University: Long Beach    CA   Public College   \n",
       "9             California State University: Northridge    CA   Public College   \n",
       "10           California State University: Los Angeles    CA   Public College   \n",
       "11                                Stanford University    CA  Private College   \n",
       "12  California Polytechnic State Univ San Luis Obispo    CA   Public College   \n",
       "13                         San Diego State University    CA   Public College   \n",
       "14                                New York University    NY  Private College   \n",
       "15               University of California: Santa Cruz    CA   Public College   \n",
       "16                           Arizona State University    AZ   Public College   \n",
       "17                           University of Washington    WA   Public College   \n",
       "18             California State University: Fullerton    CA   Public College   \n",
       "19        California State University: San Bernardino    CA   Public College   \n",
       "20    California State Polytechnic University: Pomona    CA   Public College   \n",
       "21                               University of Oregon    OR   Public College   \n",
       "22                             Santa Clara University    CA  Private College   \n",
       "23            California State University: Sacramento    CA   Public College   \n",
       "24                   University of California: Merced    CA   Public College   \n",
       "25                            NCAA Eligibility Center    IN   Public College   \n",
       "26                          San Jose State University    CA   Public College   \n",
       "27                            University of San Diego    CA  Private College   \n",
       "28                     San Francisco State University    CA   Public College   \n",
       "29                        University of San Francisco    CA  Private College   \n",
       "30                California State University: Fresno    CA   Public College   \n",
       "\n",
       "    n_Stu 2021  Pct_Apl 2021  n_Stu 2020  Pct_Apl 2020  n_Stu 2019  \\\n",
       "0        11602            19       43683            21       44305   \n",
       "1         8866            14       25221            12       27429   \n",
       "2         6661            11       41126            19       42824   \n",
       "3         5816            10       27554            13       29072   \n",
       "4         5696             9       29172            14       31655   \n",
       "5         5053             8       27872            13       30220   \n",
       "6         4899             8       25552            12       25042   \n",
       "7         4605             8       28130            13       31512   \n",
       "8         4496             7       38243            18       39609   \n",
       "9         3880             6       17856             8       16754   \n",
       "10        3798             6       20187            10       19455   \n",
       "11        3795             6       11201             5       12809   \n",
       "12        3564             6       23444            11       25358   \n",
       "13        3424             6       30613            14       33890   \n",
       "14        3214             5        8986             4        9564   \n",
       "15        2790             5       19907             9       21646   \n",
       "16        2581             4       10004             5        9251   \n",
       "17        2501             4        8961             4        9210   \n",
       "18        2431             4       25760            12       27447   \n",
       "19        2245             4        9739             5        9570   \n",
       "20        2231             4       18645             9       19580   \n",
       "21        2166             4        9548             5        9252   \n",
       "22        1806             3        6056             3        6763   \n",
       "23        1801             3       15825             7       16509   \n",
       "24        1765             3       16009             8       16051   \n",
       "25        1567             3        7797             4        7980   \n",
       "26        1544             3       17441             8       18752   \n",
       "27        1526             3       11900             6       12334   \n",
       "28        1453             2       14911             7       16239   \n",
       "29        1340             2        7104             3        9538   \n",
       "30        1312             2       12266             6       12186   \n",
       "\n",
       "    Pct_Apl 2019  n_Stu 2018  Pct_Apl 2018  n_Stu 2017  Pct_Apl 2017  \n",
       "0             21       36347            18       27641            16  \n",
       "1             13       24685            12       16224            10  \n",
       "2             20       35845            18       28343            17  \n",
       "3             14       25835            13       20379            12  \n",
       "4             15       25514            13       19306            12  \n",
       "5             14       26040            13       21147            13  \n",
       "6             12       19316            10       16024            10  \n",
       "7             15       25534            13       20344            12  \n",
       "8             19       30040            15       24161            14  \n",
       "9              8       14715             7       12831             8  \n",
       "10             9       15360             8       13947             8  \n",
       "11             6       13894             7       11090             7  \n",
       "12            12       23434            12       15781             9  \n",
       "13            16       29618            15       23033            14  \n",
       "14             5        7829             4        5104             3  \n",
       "15            10       17523             9       15439             9  \n",
       "16             4        5783             3        4501             3  \n",
       "17             4        8479             4        6443             4  \n",
       "18            13       23250            12       19301            12  \n",
       "19             5        8032             4        7659             5  \n",
       "20             9       14667             7       13570             8  \n",
       "21             4        7948             4        5705             3  \n",
       "22             3        7361             4        4909             3  \n",
       "23             8       14035             7       11863             7  \n",
       "24             8       11952             6        8828             5  \n",
       "25             4        7319             4        6118             4  \n",
       "26             9       17779             9       13104             8  \n",
       "27             6        9867             5        8111             5  \n",
       "28             8       16370             8       14634             9  \n",
       "29             5        8118             4        5487             3  \n",
       "30             6       10429             5        9531             6  "
      ]
     },
     "execution_count": 14,
     "metadata": {},
     "output_type": "execute_result"
    }
   ],
   "source": [
    "# merging and renaming titles \n",
    "\n",
    "SATs_Combined = pd.merge(Sat_2021,Sat_2020[['Institution','Number of Students','% of Score Senders']], on = ['Institution'])\n",
    "\n",
    "update_cols(SATs_Combined,'2021','2020')\n",
    "\n",
    "SATs_Combined1 = pd.merge(SATs_Combined,Sat_2019[['Institution','Number of Students','% of Score Senders']], on = ['Institution'])\n",
    "\n",
    "SATs_Combined2 = pd.merge(SATs_Combined1,Sat_2018[['Institution','Number of Students','% of Score Senders']], on = ['Institution'])\n",
    "\n",
    "update_cols(SATs_Combined2,'2019','2018')\n",
    "\n",
    "SATs_Combined3 = pd.merge(SATs_Combined2,Sat_2017[['Institution','Number of Students','% of Score Senders']], on = ['Institution'])\n",
    "\n",
    "SATs_Combined3.columns = ['Number of Students 2017' if x=='Number of Students' else x for x in SATs_Combined3.columns]\n",
    "SATs_Combined3.columns = ['% of Score Senders 2017' if x=='% of Score Senders' else x for x in SATs_Combined3.columns]\n",
    "\n",
    "# change titles \n",
    "change_title(SATs_Combined3,'Number of Students','n_Stu')\n",
    "change_title(SATs_Combined3,'% of Score Senders','Pct_Apl')\n"
   ]
  },
  {
   "cell_type": "code",
   "execution_count": 15,
   "metadata": {},
   "outputs": [
    {
     "data": {
      "text/html": [
       "<div>\n",
       "<style scoped>\n",
       "    .dataframe tbody tr th:only-of-type {\n",
       "        vertical-align: middle;\n",
       "    }\n",
       "\n",
       "    .dataframe tbody tr th {\n",
       "        vertical-align: top;\n",
       "    }\n",
       "\n",
       "    .dataframe thead th {\n",
       "        text-align: right;\n",
       "    }\n",
       "</style>\n",
       "<table border=\"1\" class=\"dataframe\">\n",
       "  <thead>\n",
       "    <tr style=\"text-align: right;\">\n",
       "      <th></th>\n",
       "      <th>Institution</th>\n",
       "      <th>State</th>\n",
       "      <th>Type</th>\n",
       "      <th>Number of Students 2021</th>\n",
       "      <th>% of Score Senders 2021</th>\n",
       "      <th>Number of Students 2020</th>\n",
       "      <th>% of Score Senders 2020</th>\n",
       "    </tr>\n",
       "  </thead>\n",
       "  <tbody>\n",
       "    <tr>\n",
       "      <th>0</th>\n",
       "      <td>California State University Apply</td>\n",
       "      <td>CA</td>\n",
       "      <td>Public College</td>\n",
       "      <td>11909</td>\n",
       "      <td>19</td>\n",
       "      <td>50760</td>\n",
       "      <td>24</td>\n",
       "    </tr>\n",
       "  </tbody>\n",
       "</table>\n",
       "</div>"
      ],
      "text/plain": [
       "                         Institution State            Type  \\\n",
       "0  California State University Apply    CA  Public College   \n",
       "\n",
       "   Number of Students 2021  % of Score Senders 2021  Number of Students 2020  \\\n",
       "0                    11909                       19                    50760   \n",
       "\n",
       "   % of Score Senders 2020  \n",
       "0                       24  "
      ]
     },
     "execution_count": 15,
     "metadata": {},
     "output_type": "execute_result"
    }
   ],
   "source": [
    "# sample test for update_cols\n",
    "sample = SATs_Combined\n",
    "\n",
    "prefix1 = '2020'\n",
    "prefix2 = '2021'\n",
    "\n",
    "\n",
    "sample.columns = [x.replace('_x',' ') + prefix1 if '_x' in x else x.replace('_y',' ') + prefix2 if '_y' in x else x for x in sample]\n",
    "sample.head(1)"
   ]
  },
  {
   "cell_type": "code",
   "execution_count": 16,
   "metadata": {},
   "outputs": [
    {
     "data": {
      "text/html": [
       "<div>\n",
       "<style scoped>\n",
       "    .dataframe tbody tr th:only-of-type {\n",
       "        vertical-align: middle;\n",
       "    }\n",
       "\n",
       "    .dataframe tbody tr th {\n",
       "        vertical-align: top;\n",
       "    }\n",
       "\n",
       "    .dataframe thead th {\n",
       "        text-align: right;\n",
       "    }\n",
       "</style>\n",
       "<table border=\"1\" class=\"dataframe\">\n",
       "  <thead>\n",
       "    <tr style=\"text-align: right;\">\n",
       "      <th></th>\n",
       "      <th>Institution</th>\n",
       "    </tr>\n",
       "  </thead>\n",
       "  <tbody>\n",
       "    <tr>\n",
       "      <th>0</th>\n",
       "      <td>University of California: Los Angeles</td>\n",
       "    </tr>\n",
       "    <tr>\n",
       "      <th>1</th>\n",
       "      <td>University of Southern California</td>\n",
       "    </tr>\n",
       "    <tr>\n",
       "      <th>2</th>\n",
       "      <td>University of California: Irvine</td>\n",
       "    </tr>\n",
       "    <tr>\n",
       "      <th>3</th>\n",
       "      <td>University of California: Berkeley</td>\n",
       "    </tr>\n",
       "    <tr>\n",
       "      <th>4</th>\n",
       "      <td>University of California: San Diego</td>\n",
       "    </tr>\n",
       "  </tbody>\n",
       "</table>\n",
       "</div>"
      ],
      "text/plain": [
       "                             Institution\n",
       "0  University of California: Los Angeles\n",
       "1      University of Southern California\n",
       "2       University of California: Irvine\n",
       "3     University of California: Berkeley\n",
       "4    University of California: San Diego"
      ]
     },
     "execution_count": 16,
     "metadata": {},
     "output_type": "execute_result"
    }
   ],
   "source": [
    "SATs_Combined3[['Institution']].head()"
   ]
  },
  {
   "cell_type": "code",
   "execution_count": 17,
   "metadata": {},
   "outputs": [
    {
     "ename": "NameError",
     "evalue": "name 'Master_list' is not defined",
     "output_type": "error",
     "traceback": [
      "\u001b[1;31m---------------------------------------------------------------------------\u001b[0m",
      "\u001b[1;31mNameError\u001b[0m                                 Traceback (most recent call last)",
      "\u001b[1;32m<ipython-input-17-d8f7325fac17>\u001b[0m in \u001b[0;36m<module>\u001b[1;34m\u001b[0m\n\u001b[0;32m      1\u001b[0m \u001b[1;31m# SATs_Combined3['Institution'].values\u001b[0m\u001b[1;33m\u001b[0m\u001b[1;33m\u001b[0m\u001b[1;33m\u001b[0m\u001b[0m\n\u001b[0;32m      2\u001b[0m \u001b[1;33m\u001b[0m\u001b[0m\n\u001b[1;32m----> 3\u001b[1;33m \u001b[0mMaster_list\u001b[0m\u001b[1;33m[\u001b[0m\u001b[0mMaster_list\u001b[0m\u001b[1;33m[\u001b[0m\u001b[1;34m'Institution'\u001b[0m\u001b[1;33m]\u001b[0m\u001b[1;33m]\u001b[0m \u001b[1;33m==\u001b[0m \u001b[1;34m'California State University Mentor'\u001b[0m\u001b[1;33m\u001b[0m\u001b[1;33m\u001b[0m\u001b[0m\n\u001b[0m",
      "\u001b[1;31mNameError\u001b[0m: name 'Master_list' is not defined"
     ]
    }
   ],
   "source": []
  },
  {
   "cell_type": "code",
   "execution_count": 18,
   "metadata": {},
   "outputs": [],
   "source": [
    "#initiate year on each data set \n",
    "Sat_2017['Year'] = 2017\n",
    "Sat_2018['Year'] = 2018\n",
    "Sat_2019['Year'] = 2019\n",
    "Sat_2020['Year'] = 2020\n",
    "Sat_2021['Year'] = 2021"
   ]
  },
  {
   "cell_type": "code",
   "execution_count": 19,
   "metadata": {},
   "outputs": [
    {
     "ename": "NameError",
     "evalue": "name 'Master_list' is not defined",
     "output_type": "error",
     "traceback": [
      "\u001b[1;31m---------------------------------------------------------------------------\u001b[0m",
      "\u001b[1;31mNameError\u001b[0m                                 Traceback (most recent call last)",
      "\u001b[1;32m<ipython-input-19-d8f7325fac17>\u001b[0m in \u001b[0;36m<module>\u001b[1;34m\u001b[0m\n\u001b[0;32m      1\u001b[0m \u001b[1;31m# SATs_Combined3['Institution'].values\u001b[0m\u001b[1;33m\u001b[0m\u001b[1;33m\u001b[0m\u001b[1;33m\u001b[0m\u001b[0m\n\u001b[0;32m      2\u001b[0m \u001b[1;33m\u001b[0m\u001b[0m\n\u001b[1;32m----> 3\u001b[1;33m \u001b[0mMaster_list\u001b[0m\u001b[1;33m[\u001b[0m\u001b[0mMaster_list\u001b[0m\u001b[1;33m[\u001b[0m\u001b[1;34m'Institution'\u001b[0m\u001b[1;33m]\u001b[0m\u001b[1;33m]\u001b[0m \u001b[1;33m==\u001b[0m \u001b[1;34m'California State University Mentor'\u001b[0m\u001b[1;33m\u001b[0m\u001b[1;33m\u001b[0m\u001b[0m\n\u001b[0m",
      "\u001b[1;31mNameError\u001b[0m: name 'Master_list' is not defined"
     ]
    }
   ],
   "source": [
    "# SATs_Combined3['Institution'].values\n",
    "\n",
    "Master_list[Master_list['Institution']] == 'California State University Mentor'"
   ]
  },
  {
   "cell_type": "code",
   "execution_count": 58,
   "metadata": {
    "scrolled": true
   },
   "outputs": [
    {
     "data": {
      "text/html": [
       "<div>\n",
       "<style scoped>\n",
       "    .dataframe tbody tr th:only-of-type {\n",
       "        vertical-align: middle;\n",
       "    }\n",
       "\n",
       "    .dataframe tbody tr th {\n",
       "        vertical-align: top;\n",
       "    }\n",
       "\n",
       "    .dataframe thead th {\n",
       "        text-align: right;\n",
       "    }\n",
       "</style>\n",
       "<table border=\"1\" class=\"dataframe\">\n",
       "  <thead>\n",
       "    <tr style=\"text-align: right;\">\n",
       "      <th></th>\n",
       "      <th>Number of Students</th>\n",
       "      <th>% of Score Senders</th>\n",
       "    </tr>\n",
       "    <tr>\n",
       "      <th>Year</th>\n",
       "      <th></th>\n",
       "      <th></th>\n",
       "    </tr>\n",
       "  </thead>\n",
       "  <tbody>\n",
       "    <tr>\n",
       "      <th>2017</th>\n",
       "      <td>565540</td>\n",
       "      <td>342</td>\n",
       "    </tr>\n",
       "    <tr>\n",
       "      <th>2018</th>\n",
       "      <td>686850</td>\n",
       "      <td>347</td>\n",
       "    </tr>\n",
       "    <tr>\n",
       "      <th>2019</th>\n",
       "      <td>793339</td>\n",
       "      <td>377</td>\n",
       "    </tr>\n",
       "    <tr>\n",
       "      <th>2020</th>\n",
       "      <td>755542</td>\n",
       "      <td>356</td>\n",
       "    </tr>\n",
       "    <tr>\n",
       "      <th>2021</th>\n",
       "      <td>143251</td>\n",
       "      <td>235</td>\n",
       "    </tr>\n",
       "  </tbody>\n",
       "</table>\n",
       "</div>"
      ],
      "text/plain": [
       "      Number of Students  % of Score Senders\n",
       "Year                                        \n",
       "2017              565540                 342\n",
       "2018              686850                 347\n",
       "2019              793339                 377\n",
       "2020              755542                 356\n",
       "2021              143251                 235"
      ]
     },
     "execution_count": 58,
     "metadata": {},
     "output_type": "execute_result"
    }
   ],
   "source": [
    "Master_list = pd.concat([Sat_2017,Sat_2018,Sat_2019,Sat_2020,Sat_2021])\n",
    "Master_list.groupby('Year').sum()"
   ]
  },
  {
   "cell_type": "code",
   "execution_count": null,
   "metadata": {},
   "outputs": [],
   "source": [
    "sns.scatterplot()"
   ]
  },
  {
   "cell_type": "code",
   "execution_count": 21,
   "metadata": {},
   "outputs": [
    {
     "data": {
      "text/plain": [
       "<AxesSubplot:xlabel='Year', ylabel='Number of Students'>"
      ]
     },
     "execution_count": 21,
     "metadata": {},
     "output_type": "execute_result"
    },
    {
     "data": {
      "image/png": "[encoded data removed]",
      "text/plain": [
       "<Figure size 432x288 with 1 Axes>"
      ]
     },
     "metadata": {
      "needs_background": "light"
     },
     "output_type": "display_data"
    }
   ],
   "source": [
    "# Describes students from California applying for colleges \n",
    "\n",
    "sns.boxplot(x = 'Year', y = 'Number of Students' , data = Master_list)"
   ]
  },
  {
   "cell_type": "code",
   "execution_count": 57,
   "metadata": {},
   "outputs": [
    {
     "data": {
      "text/plain": [
       "-81.04"
      ]
     },
     "execution_count": 57,
     "metadata": {},
     "output_type": "execute_result"
    }
   ],
   "source": [
    "# SAT% drop in enrollment \n",
    "\n",
    "mean_2020, pct_score, year = Master_list[Master_list['Year'] == 2020].mean()\n",
    "mean_2021, pct_score, year = Master_list[Master_list['Year'] == 2021].mean()\n",
    "\n",
    "\n",
    "percent_drop = round(((mean_2021-mean_2020)/mean_2020)*100,ndigits = 4)\n",
    "\n",
    "percent_drop"
   ]
  },
  {
   "cell_type": "code",
   "execution_count": 22,
   "metadata": {
    "scrolled": true
   },
   "outputs": [
    {
     "data": {
      "text/plain": [
       "<seaborn.axisgrid.PairGrid at 0x14317c8e430>"
      ]
     },
     "execution_count": 22,
     "metadata": {},
     "output_type": "execute_result"
    },
    {
     "data": {
      "image/png": "[encoded data removed]",
      "text/plain": [
       "<Figure size 1800x1800 with 110 Axes>"
      ]
     },
     "metadata": {
      "needs_background": "light"
     },
     "output_type": "display_data"
    }
   ],
   "source": [
    "sns.pairplot(SATs_Combined3)"
   ]
  },
  {
   "cell_type": "code",
   "execution_count": null,
   "metadata": {},
   "outputs": [],
   "source": [
    "Master_list"
   ]
  },
  {
   "cell_type": "code",
   "execution_count": null,
   "metadata": {},
   "outputs": [],
   "source": [
    "Sat_By_College"
   ]
  },
  {
   "cell_type": "code",
   "execution_count": null,
   "metadata": {},
   "outputs": [],
   "source": []
  },
  {
   "cell_type": "code",
   "execution_count": null,
   "metadata": {},
   "outputs": [],
   "source": []
  },
  {
   "cell_type": "markdown",
   "metadata": {},
   "source": [
    "### Data Dictionary\n",
    "\n",
    "Now that we've fixed our data, and given it appropriate names, let's create a [data dictionary](http://library.ucmerced.edu/node/10249). \n",
    "\n",
    "A data dictionary provides a quick overview of features/variables/columns, alongside data types and descriptions. The more descriptive you can be, the more useful this document is.\n",
    "\n",
    "Example of a Fictional Data Dictionary Entry: \n",
    "\n",
    "|Feature|Type|Dataset|Description|\n",
    "|---|---|---|---|\n",
    "|**county_pop**|*integer*|2010 census|The population of the county (units in thousands, where 2.5 represents 2500 people).| \n",
    "|**per_poverty**|*float*|2010 census|The percent of the county over the age of 18 living below the 200% of official US poverty rate (units percent to two decimal places 98.10 means 98.1%)|\n",
    "\n",
    "[Here's a quick link to a short guide for formatting markdown in Jupyter notebooks](https://jupyter-notebook.readthedocs.io/en/stable/examples/Notebook/Working%20With%20Markdown%20Cells.html).\n",
    "\n",
    "Provided is the skeleton for formatting a markdown table, with columns headers that will help you create a data dictionary to quickly summarize your data, as well as some examples. **This would be a great thing to copy and paste into your custom README for this project.**\n",
    "\n",
    "*Note*: if you are unsure of what a feature is, check the source of the data! This can be found in the README."
   ]
  },
  {
   "cell_type": "markdown",
   "metadata": {},
   "source": [
    "**To-Do:** *Edit the table below to create your own data dictionary for the datasets you chose.*\n",
    "\n",
    "|Feature|Type|Dataset|Description|\n",
    "|---|---|---|---|\n",
    "|column name|int/float/object|ACT/SAT|This is an example| \n"
   ]
  },
  {
   "cell_type": "markdown",
   "metadata": {},
   "source": [
    "## Exploratory Data Analysis\n",
    "\n",
    "Complete the following steps to explore your data. You are welcome to do more EDA than the steps outlined here as you feel necessary:\n",
    "1. Summary Statistics.\n",
    "2. Use a **dictionary comprehension** to apply the standard deviation function you create in part 1 to each numeric column in the dataframe.  **No loops**.\n",
    "    - Assign the output to variable `sd` as a dictionary where: \n",
    "        - Each column name is now a key \n",
    "        - That standard deviation of the column is the value \n",
    "        - *Example Output :* `{'ACT_Math': 120, 'ACT_Reading': 120, ...}`\n",
    "3. Investigate trends in the data.\n",
    "    - Using sorting and/or masking (along with the `.head()` method to avoid printing our entire dataframe), consider questions relevant to your problem statement. Some examples are provided below (but feel free to change these questions for your specific problem):\n",
    "        - Which states have the highest and lowest participation rates for the 2017, 2019, or 2019 SAT and ACT?\n",
    "        - Which states have the highest and lowest mean total/composite scores for the 2017, 2019, or 2019 SAT and ACT?\n",
    "        - Do any states with 100% participation on a given test have a rate change year-to-year?\n",
    "        - Do any states show have >50% participation on *both* tests each year?\n",
    "        - Which colleges have the highest median SAT and ACT scores for admittance?\n",
    "        - Which California school districts have the highest and lowest mean test scores?\n",
    "    - **You should comment on your findings at each step in a markdown cell below your code block**. Make sure you include at least one example of sorting your dataframe by a column, and one example of using boolean filtering (i.e., masking) to select a subset of the dataframe."
   ]
  },
  {
   "cell_type": "code",
   "execution_count": null,
   "metadata": {},
   "outputs": [],
   "source": [
    "#Code:"
   ]
  },
  {
   "cell_type": "markdown",
   "metadata": {},
   "source": [
    "**To-Do:** *Edit this cell with your findings on trends in the data (step 3 above).*"
   ]
  },
  {
   "cell_type": "markdown",
   "metadata": {},
   "source": [
    "## Visualize the Data\n",
    "\n",
    "There's not a magic bullet recommendation for the right number of plots to understand a given dataset, but visualizing your data is *always* a good idea. Not only does it allow you to quickly convey your findings (even if you have a non-technical audience), it will often reveal trends in your data that escaped you when you were looking only at numbers. It is important to not only create visualizations, but to **interpret your visualizations** as well.\n",
    "\n",
    "**Every plot should**:\n",
    "- Have a title\n",
    "- Have axis labels\n",
    "- Have appropriate tick labels\n",
    "- Text is legible in a plot\n",
    "- Plots demonstrate meaningful and valid relationships\n",
    "- Have an interpretation to aid understanding\n",
    "\n",
    "Here is an example of what your plots should look like following the above guidelines. Note that while the content of this example is unrelated, the principles of visualization hold:\n",
    "\n",
    "![](https://snag.gy/hCBR1U.jpg)\n",
    "*Interpretation: The above image shows that as we increase our spending on advertising, our sales numbers also tend to increase. There is a positive correlation between advertising spending and sales.*\n",
    "\n",
    "---\n",
    "\n",
    "Here are some prompts to get you started with visualizations. Feel free to add additional visualizations as you see fit:\n",
    "1. Use Seaborn's heatmap with pandas `.corr()` to visualize correlations between all numeric features.\n",
    "    - Heatmaps are generally not appropriate for presentations, and should often be excluded from reports as they can be visually overwhelming. **However**, they can be extremely useful in identify relationships of potential interest (as well as identifying potential collinearity before modeling).\n",
    "    - Please take time to format your output, adding a title. Look through some of the additional arguments and options. (Axis labels aren't really necessary, as long as the title is informative).\n",
    "2. Visualize distributions using histograms. If you have a lot, consider writing a custom function and use subplots.\n",
    "    - *OPTIONAL*: Summarize the underlying distributions of your features (in words & statistics)\n",
    "         - Be thorough in your verbal description of these distributions.\n",
    "         - Be sure to back up these summaries with statistics.\n",
    "         - We generally assume that data we sample from a population will be normally distributed. Do we observe this trend? Explain your answers for each distribution and how you think this will affect estimates made from these data.\n",
    "3. Plot and interpret boxplots. \n",
    "    - Boxplots demonstrate central tendency and spread in variables. In a certain sense, these are somewhat redundant with histograms, but you may be better able to identify clear outliers or differences in IQR, etc.\n",
    "    - Multiple values can be plotted to a single boxplot as long as they are of the same relative scale (meaning they have similar min/max values).\n",
    "    - Each boxplot should:\n",
    "        - Only include variables of a similar scale\n",
    "        - Have clear labels for each variable\n",
    "        - Have appropriate titles and labels\n",
    "4. Plot and interpret scatter plots to view relationships between features. Feel free to write a custom function, and subplot if you'd like. Functions save both time and space.\n",
    "    - Your plots should have:\n",
    "        - Two clearly labeled axes\n",
    "        - A proper title\n",
    "        - Colors and symbols that are clear and unmistakable\n",
    "5. Additional plots of your choosing.\n",
    "    - Are there any additional trends or relationships you haven't explored? Was there something interesting you saw that you'd like to dive further into? It's likely that there are a few more plots you might want to generate to support your narrative and recommendations that you are building toward. **As always, make sure you're interpreting your plots as you go**."
   ]
  },
  {
   "cell_type": "code",
   "execution_count": null,
   "metadata": {},
   "outputs": [],
   "source": [
    "# Code"
   ]
  },
  {
   "cell_type": "markdown",
   "metadata": {},
   "source": [
    "## Conclusions and Recommendations"
   ]
  },
  {
   "cell_type": "markdown",
   "metadata": {},
   "source": [
    "Based on your exploration of the data, what are you key takeaways and recommendations? Make sure to answer your question of interest or address your problem statement here."
   ]
  },
  {
   "cell_type": "markdown",
   "metadata": {},
   "source": [
    "**To-Do:** *Edit this cell with your conclusions and recommendations.*"
   ]
  },
  {
   "cell_type": "markdown",
   "metadata": {},
   "source": [
    "Don't forget to create your README!\n",
    "\n",
    "**To-Do:** *If you combine your problem statement, data dictionary, brief summary of your analysis, and conclusions/recommendations, you have an amazing README.md file that quickly aligns your audience to the contents of your project.* Don't forget to cite your data sources!"
   ]
  }
 ],
 "metadata": {
  "anaconda-cloud": {},
  "kernelspec": {
   "display_name": "Python 3",
   "language": "python",
   "name": "python3"
  },
  "language_info": {
   "codemirror_mode": {
    "name": "ipython",
    "version": 3
   },
   "file_extension": ".py",
   "mimetype": "text/x-python",
   "name": "python",
   "nbconvert_exporter": "python",
   "pygments_lexer": "ipython3",
   "version": "3.8.8"
  }
 },
 "nbformat": 4,
 "nbformat_minor": 4
}
