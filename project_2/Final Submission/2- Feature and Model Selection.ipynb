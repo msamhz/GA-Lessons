{
 "cells": [
  {
   "cell_type": "code",
   "execution_count": 1,
   "id": "ac6992f1",
   "metadata": {},
   "outputs": [],
   "source": [
    "import pandas as pd\n",
    "import numpy as np\n",
    "pd.options.mode.chained_assignment = None\n",
    "import matplotlib.pyplot as plt\n",
    "import seaborn as sns\n",
    "%matplotlib inline\n",
    "\n",
    "from sklearn import metrics\n",
    "from sklearn.metrics import mean_squared_error\n",
    "\n",
    "from sklearn.linear_model import (\n",
    "    Ridge,RidgeCV,\n",
    "    Lasso,LassoCV,\n",
    "    ElasticNet, ElasticNetCV,\n",
    "    LinearRegression\n",
    ")\n",
    "from sklearn.model_selection import(\n",
    "    cross_val_score,\n",
    "    train_test_split\n",
    ")\n",
    "from sklearn.preprocessing import (\n",
    "    StandardScaler,\n",
    "    PolynomialFeatures\n",
    ")\n",
    "from sklearn.feature_selection import SelectFromModel\n",
    "# pd.set_option('display.max_rows', 1000)  # or 1000\n",
    "# pd.set_option('display.max_columns', 1000)  # or 1000\n",
    "\n",
    "from itertools import combinations\n",
    "from itertools import permutations\n",
    "\n",
    "from sklearn.preprocessing import OneHotEncoder"
   ]
  },
  {
   "cell_type": "markdown",
   "id": "46295538",
   "metadata": {},
   "source": [
    "# Contents:\n",
    "- [Data Import](#Data-Import)\n",
    "- [Pre-processing](#Pre-processing)\n",
    "- [Model-Selection](#Model-Selection)\n",
    "- [Model Choice](#Model-Choice)"
   ]
  },
  {
   "cell_type": "markdown",
   "id": "149139ec",
   "metadata": {},
   "source": [
    "## Data Import"
   ]
  },
  {
   "cell_type": "code",
   "execution_count": 2,
   "id": "1c3cc930",
   "metadata": {},
   "outputs": [],
   "source": [
    "# read data \n",
    "\n",
    "df = pd.read_csv('datasets/temp.csv')\n",
    "df.drop(columns = ['Unnamed: 0'], inplace = True)"
   ]
  },
  {
   "cell_type": "code",
   "execution_count": 3,
   "id": "bfb55893",
   "metadata": {},
   "outputs": [
    {
     "data": {
      "text/html": [
       "<div>\n",
       "<style scoped>\n",
       "    .dataframe tbody tr th:only-of-type {\n",
       "        vertical-align: middle;\n",
       "    }\n",
       "\n",
       "    .dataframe tbody tr th {\n",
       "        vertical-align: top;\n",
       "    }\n",
       "\n",
       "    .dataframe thead th {\n",
       "        text-align: right;\n",
       "    }\n",
       "</style>\n",
       "<table border=\"1\" class=\"dataframe\">\n",
       "  <thead>\n",
       "    <tr style=\"text-align: right;\">\n",
       "      <th></th>\n",
       "      <th>index</th>\n",
       "      <th>id</th>\n",
       "      <th>pid</th>\n",
       "      <th>ms_subclass</th>\n",
       "      <th>ms_zoning</th>\n",
       "      <th>lot_front</th>\n",
       "      <th>lot_area</th>\n",
       "      <th>street</th>\n",
       "      <th>alley</th>\n",
       "      <th>lot_shape</th>\n",
       "      <th>...</th>\n",
       "      <th>enclosed_porch</th>\n",
       "      <th>3ssn_porch</th>\n",
       "      <th>screen_porch</th>\n",
       "      <th>pool_area</th>\n",
       "      <th>misc_val</th>\n",
       "      <th>mo_sold</th>\n",
       "      <th>sale_type</th>\n",
       "      <th>sale_price</th>\n",
       "      <th>gr_liv_area_class</th>\n",
       "      <th>sale_price_classified</th>\n",
       "    </tr>\n",
       "  </thead>\n",
       "  <tbody>\n",
       "    <tr>\n",
       "      <th>0</th>\n",
       "      <td>0</td>\n",
       "      <td>109</td>\n",
       "      <td>533352170</td>\n",
       "      <td>60</td>\n",
       "      <td>RL</td>\n",
       "      <td>69.0552</td>\n",
       "      <td>13517</td>\n",
       "      <td>Pave</td>\n",
       "      <td>NoAlley</td>\n",
       "      <td>IR1</td>\n",
       "      <td>...</td>\n",
       "      <td>0</td>\n",
       "      <td>0</td>\n",
       "      <td>0</td>\n",
       "      <td>0</td>\n",
       "      <td>0</td>\n",
       "      <td>3</td>\n",
       "      <td>WD</td>\n",
       "      <td>130500.0</td>\n",
       "      <td>0</td>\n",
       "      <td>0</td>\n",
       "    </tr>\n",
       "    <tr>\n",
       "      <th>1</th>\n",
       "      <td>1</td>\n",
       "      <td>544</td>\n",
       "      <td>531379050</td>\n",
       "      <td>60</td>\n",
       "      <td>RL</td>\n",
       "      <td>43.0000</td>\n",
       "      <td>11492</td>\n",
       "      <td>Pave</td>\n",
       "      <td>NoAlley</td>\n",
       "      <td>IR1</td>\n",
       "      <td>...</td>\n",
       "      <td>0</td>\n",
       "      <td>0</td>\n",
       "      <td>0</td>\n",
       "      <td>0</td>\n",
       "      <td>0</td>\n",
       "      <td>4</td>\n",
       "      <td>WD</td>\n",
       "      <td>220000.0</td>\n",
       "      <td>0</td>\n",
       "      <td>0</td>\n",
       "    </tr>\n",
       "    <tr>\n",
       "      <th>2</th>\n",
       "      <td>2</td>\n",
       "      <td>153</td>\n",
       "      <td>535304180</td>\n",
       "      <td>20</td>\n",
       "      <td>RL</td>\n",
       "      <td>68.0000</td>\n",
       "      <td>7922</td>\n",
       "      <td>Pave</td>\n",
       "      <td>NoAlley</td>\n",
       "      <td>Reg</td>\n",
       "      <td>...</td>\n",
       "      <td>0</td>\n",
       "      <td>0</td>\n",
       "      <td>0</td>\n",
       "      <td>0</td>\n",
       "      <td>0</td>\n",
       "      <td>1</td>\n",
       "      <td>WD</td>\n",
       "      <td>109000.0</td>\n",
       "      <td>0</td>\n",
       "      <td>0</td>\n",
       "    </tr>\n",
       "    <tr>\n",
       "      <th>3</th>\n",
       "      <td>3</td>\n",
       "      <td>318</td>\n",
       "      <td>916386060</td>\n",
       "      <td>60</td>\n",
       "      <td>RL</td>\n",
       "      <td>73.0000</td>\n",
       "      <td>9802</td>\n",
       "      <td>Pave</td>\n",
       "      <td>NoAlley</td>\n",
       "      <td>Reg</td>\n",
       "      <td>...</td>\n",
       "      <td>0</td>\n",
       "      <td>0</td>\n",
       "      <td>0</td>\n",
       "      <td>0</td>\n",
       "      <td>0</td>\n",
       "      <td>4</td>\n",
       "      <td>WD</td>\n",
       "      <td>174000.0</td>\n",
       "      <td>0</td>\n",
       "      <td>0</td>\n",
       "    </tr>\n",
       "    <tr>\n",
       "      <th>4</th>\n",
       "      <td>4</td>\n",
       "      <td>255</td>\n",
       "      <td>906425045</td>\n",
       "      <td>50</td>\n",
       "      <td>RL</td>\n",
       "      <td>82.0000</td>\n",
       "      <td>14235</td>\n",
       "      <td>Pave</td>\n",
       "      <td>NoAlley</td>\n",
       "      <td>IR1</td>\n",
       "      <td>...</td>\n",
       "      <td>0</td>\n",
       "      <td>0</td>\n",
       "      <td>0</td>\n",
       "      <td>0</td>\n",
       "      <td>0</td>\n",
       "      <td>3</td>\n",
       "      <td>WD</td>\n",
       "      <td>138500.0</td>\n",
       "      <td>0</td>\n",
       "      <td>0</td>\n",
       "    </tr>\n",
       "    <tr>\n",
       "      <th>...</th>\n",
       "      <td>...</td>\n",
       "      <td>...</td>\n",
       "      <td>...</td>\n",
       "      <td>...</td>\n",
       "      <td>...</td>\n",
       "      <td>...</td>\n",
       "      <td>...</td>\n",
       "      <td>...</td>\n",
       "      <td>...</td>\n",
       "      <td>...</td>\n",
       "      <td>...</td>\n",
       "      <td>...</td>\n",
       "      <td>...</td>\n",
       "      <td>...</td>\n",
       "      <td>...</td>\n",
       "      <td>...</td>\n",
       "      <td>...</td>\n",
       "      <td>...</td>\n",
       "      <td>...</td>\n",
       "      <td>...</td>\n",
       "      <td>...</td>\n",
       "    </tr>\n",
       "    <tr>\n",
       "      <th>2924</th>\n",
       "      <td>873</td>\n",
       "      <td>1662</td>\n",
       "      <td>527377110</td>\n",
       "      <td>60</td>\n",
       "      <td>RL</td>\n",
       "      <td>80.0000</td>\n",
       "      <td>8000</td>\n",
       "      <td>Pave</td>\n",
       "      <td>NoAlley</td>\n",
       "      <td>Reg</td>\n",
       "      <td>...</td>\n",
       "      <td>0</td>\n",
       "      <td>0</td>\n",
       "      <td>0</td>\n",
       "      <td>0</td>\n",
       "      <td>0</td>\n",
       "      <td>11</td>\n",
       "      <td>WD</td>\n",
       "      <td>NaN</td>\n",
       "      <td>0</td>\n",
       "      <td>0</td>\n",
       "    </tr>\n",
       "    <tr>\n",
       "      <th>2925</th>\n",
       "      <td>874</td>\n",
       "      <td>1234</td>\n",
       "      <td>535126140</td>\n",
       "      <td>60</td>\n",
       "      <td>RL</td>\n",
       "      <td>90.0000</td>\n",
       "      <td>14670</td>\n",
       "      <td>Pave</td>\n",
       "      <td>NoAlley</td>\n",
       "      <td>Reg</td>\n",
       "      <td>...</td>\n",
       "      <td>0</td>\n",
       "      <td>0</td>\n",
       "      <td>0</td>\n",
       "      <td>0</td>\n",
       "      <td>0</td>\n",
       "      <td>8</td>\n",
       "      <td>WD</td>\n",
       "      <td>NaN</td>\n",
       "      <td>0</td>\n",
       "      <td>0</td>\n",
       "    </tr>\n",
       "    <tr>\n",
       "      <th>2926</th>\n",
       "      <td>875</td>\n",
       "      <td>1373</td>\n",
       "      <td>904100040</td>\n",
       "      <td>20</td>\n",
       "      <td>RL</td>\n",
       "      <td>55.0000</td>\n",
       "      <td>8250</td>\n",
       "      <td>Pave</td>\n",
       "      <td>NoAlley</td>\n",
       "      <td>Reg</td>\n",
       "      <td>...</td>\n",
       "      <td>0</td>\n",
       "      <td>0</td>\n",
       "      <td>0</td>\n",
       "      <td>0</td>\n",
       "      <td>0</td>\n",
       "      <td>8</td>\n",
       "      <td>WD</td>\n",
       "      <td>NaN</td>\n",
       "      <td>0</td>\n",
       "      <td>0</td>\n",
       "    </tr>\n",
       "    <tr>\n",
       "      <th>2927</th>\n",
       "      <td>876</td>\n",
       "      <td>1672</td>\n",
       "      <td>527425140</td>\n",
       "      <td>20</td>\n",
       "      <td>RL</td>\n",
       "      <td>60.0000</td>\n",
       "      <td>9000</td>\n",
       "      <td>Pave</td>\n",
       "      <td>NoAlley</td>\n",
       "      <td>Reg</td>\n",
       "      <td>...</td>\n",
       "      <td>0</td>\n",
       "      <td>0</td>\n",
       "      <td>0</td>\n",
       "      <td>0</td>\n",
       "      <td>0</td>\n",
       "      <td>5</td>\n",
       "      <td>WD</td>\n",
       "      <td>NaN</td>\n",
       "      <td>0</td>\n",
       "      <td>0</td>\n",
       "    </tr>\n",
       "    <tr>\n",
       "      <th>2928</th>\n",
       "      <td>877</td>\n",
       "      <td>1939</td>\n",
       "      <td>535327160</td>\n",
       "      <td>20</td>\n",
       "      <td>RL</td>\n",
       "      <td>70.0000</td>\n",
       "      <td>8400</td>\n",
       "      <td>Pave</td>\n",
       "      <td>NoAlley</td>\n",
       "      <td>Reg</td>\n",
       "      <td>...</td>\n",
       "      <td>0</td>\n",
       "      <td>0</td>\n",
       "      <td>0</td>\n",
       "      <td>0</td>\n",
       "      <td>0</td>\n",
       "      <td>3</td>\n",
       "      <td>WD</td>\n",
       "      <td>NaN</td>\n",
       "      <td>0</td>\n",
       "      <td>0</td>\n",
       "    </tr>\n",
       "  </tbody>\n",
       "</table>\n",
       "<p>2929 rows × 79 columns</p>\n",
       "</div>"
      ],
      "text/plain": [
       "      index    id        pid  ms_subclass ms_zoning  lot_front  lot_area  \\\n",
       "0         0   109  533352170           60        RL    69.0552     13517   \n",
       "1         1   544  531379050           60        RL    43.0000     11492   \n",
       "2         2   153  535304180           20        RL    68.0000      7922   \n",
       "3         3   318  916386060           60        RL    73.0000      9802   \n",
       "4         4   255  906425045           50        RL    82.0000     14235   \n",
       "...     ...   ...        ...          ...       ...        ...       ...   \n",
       "2924    873  1662  527377110           60        RL    80.0000      8000   \n",
       "2925    874  1234  535126140           60        RL    90.0000     14670   \n",
       "2926    875  1373  904100040           20        RL    55.0000      8250   \n",
       "2927    876  1672  527425140           20        RL    60.0000      9000   \n",
       "2928    877  1939  535327160           20        RL    70.0000      8400   \n",
       "\n",
       "     street    alley lot_shape  ... enclosed_porch 3ssn_porch screen_porch  \\\n",
       "0      Pave  NoAlley       IR1  ...              0          0            0   \n",
       "1      Pave  NoAlley       IR1  ...              0          0            0   \n",
       "2      Pave  NoAlley       Reg  ...              0          0            0   \n",
       "3      Pave  NoAlley       Reg  ...              0          0            0   \n",
       "4      Pave  NoAlley       IR1  ...              0          0            0   \n",
       "...     ...      ...       ...  ...            ...        ...          ...   \n",
       "2924   Pave  NoAlley       Reg  ...              0          0            0   \n",
       "2925   Pave  NoAlley       Reg  ...              0          0            0   \n",
       "2926   Pave  NoAlley       Reg  ...              0          0            0   \n",
       "2927   Pave  NoAlley       Reg  ...              0          0            0   \n",
       "2928   Pave  NoAlley       Reg  ...              0          0            0   \n",
       "\n",
       "     pool_area misc_val mo_sold sale_type sale_price gr_liv_area_class  \\\n",
       "0            0        0       3       WD    130500.0                 0   \n",
       "1            0        0       4       WD    220000.0                 0   \n",
       "2            0        0       1       WD    109000.0                 0   \n",
       "3            0        0       4       WD    174000.0                 0   \n",
       "4            0        0       3       WD    138500.0                 0   \n",
       "...        ...      ...     ...       ...        ...               ...   \n",
       "2924         0        0      11       WD         NaN                 0   \n",
       "2925         0        0       8       WD         NaN                 0   \n",
       "2926         0        0       8       WD         NaN                 0   \n",
       "2927         0        0       5       WD         NaN                 0   \n",
       "2928         0        0       3       WD         NaN                 0   \n",
       "\n",
       "      sale_price_classified  \n",
       "0                         0  \n",
       "1                         0  \n",
       "2                         0  \n",
       "3                         0  \n",
       "4                         0  \n",
       "...                     ...  \n",
       "2924                      0  \n",
       "2925                      0  \n",
       "2926                      0  \n",
       "2927                      0  \n",
       "2928                      0  \n",
       "\n",
       "[2929 rows x 79 columns]"
      ]
     },
     "execution_count": 3,
     "metadata": {},
     "output_type": "execute_result"
    }
   ],
   "source": [
    "df"
   ]
  },
  {
   "cell_type": "markdown",
   "id": "aa136f0d",
   "metadata": {},
   "source": [
    "## Pre-processing "
   ]
  },
  {
   "cell_type": "markdown",
   "id": "17657dee",
   "metadata": {},
   "source": [
    "#### Add weight on ordinal categories "
   ]
  },
  {
   "cell_type": "code",
   "execution_count": 4,
   "id": "9501bb3f",
   "metadata": {},
   "outputs": [],
   "source": [
    "# declare ordinal category\n",
    "\n",
    "ordinal_cat = ['lot_shape','util','land_slope','exter_qual','exter_cond','bsmt_qual','bsmt_cond','bsmt_exposure',\n",
    "               'bsmtfin_type1','bsmt_type2','electrical','kitchen_qual','functional','fireplace_qu','garage_finish',\n",
    "               'garage_qual','garage_cond','paved_drive','overall_cond','heating_qc'\n",
    "]"
   ]
  },
  {
   "cell_type": "code",
   "execution_count": 5,
   "id": "569056d8",
   "metadata": {},
   "outputs": [
    {
     "name": "stdout",
     "output_type": "stream",
     "text": [
      "lot_shape ['IR1' 'Reg' 'IR2' 'IR3']\n",
      "util ['AllPub' 'NoSeWa' 'NoSewr']\n",
      "land_slope ['Gtl' 'Sev' 'Mod']\n",
      "exter_qual ['Gd' 'TA' 'Ex' 'Fa']\n",
      "exter_cond ['TA' 'Gd' 'Fa' 'Ex' 'Po']\n",
      "bsmt_qual ['TA' 'Gd' 'Fa' 'NoBsmt' 'Ex' 'Po']\n",
      "bsmt_cond ['TA' 'Gd' 'NoBsmt' 'Fa' 'Po' 'Ex']\n",
      "bsmt_exposure ['No' 'Gd' 'Av' 'NoBsmt' 'Mn']\n",
      "bsmtfin_type1 ['GLQ' 'Unf' 'ALQ' 'Rec' 'NoBsmt' 'BLQ' 'LwQ']\n",
      "bsmt_type2 ['Unf' 'Rec' 'NoBsmt' 'BLQ' 'GLQ' 'LwQ' 'ALQ']\n",
      "electrical ['SBrkr' 'FuseF' 'FuseA' 'FuseP' 'Mix']\n",
      "kitchen_qual ['Gd' 'TA' 'Fa' 'Ex' 'Po']\n",
      "functional ['Typ' 'Mod' 'Min2' 'Maj1' 'Min1' 'Sev' 'Sal' 'Maj2']\n",
      "fireplace_qu ['NoFireplace' 'TA' 'Gd' 'Po' 'Ex' 'Fa']\n",
      "garage_finish ['RFn' 'Unf' 'Fin' 'NoGarage']\n",
      "garage_qual ['TA' 'Fa' 'NoGarage' 'Gd' 'Ex' 'Po']\n",
      "garage_cond ['TA' 'Fa' 'NoGarage' 'Po' 'Gd' 'Ex']\n",
      "paved_drive ['Y' 'N' 'P']\n",
      "overall_cond [8 5 7 6 3 9 2 4 1]\n",
      "heating_qc ['Ex' 'TA' 'Gd' 'Fa' 'Po']\n"
     ]
    }
   ],
   "source": [
    "# printing out all unique var in ordinal categories \n",
    "for cat in ordinal_cat:\n",
    "    print(cat,df[cat].unique())"
   ]
  },
  {
   "cell_type": "code",
   "execution_count": 6,
   "id": "0d0d2102",
   "metadata": {},
   "outputs": [],
   "source": [
    "# defining a function to return rate\n",
    "def rate_Po_Excellent(col): \n",
    "    rate_dict = {'NoBsmt': 0,'NoFireplace': 0, 'Po': 1, 'Fa': 2, 'TA': 3, 'Gd': 4, 'Ex': 5,\n",
    "                 'Gtl':3, 'Sev':1, 'Mod':2,\n",
    "                'IR1':3, 'Reg':4, 'IR2':2, 'IR3':1,\n",
    "                'AllPub':3, 'NoSeWa':1, 'NoSewr':2,\n",
    "                'No':1, 'Gd':4, 'Av':3, 'Mn':2,\n",
    "                'NoGarage':0, 'Unf': 1, 'RFn': 2, 'Fin': 3,\n",
    "                'SBrkr':5, 'FuseF':3,'FuseA':4, 'FuseP':2, 'Mix':1,\n",
    "                'Typ':8, 'Mod':5, 'Min2':6, 'Maj1':4, 'Min1':7, 'Sev':2, 'Sal':1, 'Maj2':3,\n",
    "                'Y':3, 'N':1, 'P':2,\n",
    "                 'Unf':1 , 'Rec':3 , 'NoBsmt':0 , 'BLQ':4 , 'GLQ':6 , 'LwQ':2 , 'ALQ':5 ,\n",
    "                }\n",
    "\n",
    "    return rate_dict[col]"
   ]
  },
  {
   "cell_type": "markdown",
   "id": "6e4ec09c",
   "metadata": {},
   "source": [
    "#### Assign scores to ordinal categories and assign get_dummies for categorical categories"
   ]
  },
  {
   "cell_type": "code",
   "execution_count": 7,
   "id": "4de6d9b0",
   "metadata": {},
   "outputs": [
    {
     "name": "stdout",
     "output_type": "stream",
     "text": [
      "lot_shape [3 4 2 1]\n",
      "util [3 1 2]\n",
      "land_slope [3 2 5]\n",
      "exter_qual [4 3 5 2]\n",
      "exter_cond [3 4 2 5 1]\n",
      "bsmt_qual [3 4 2 0 5 1]\n",
      "bsmt_cond [3 4 0 2 1 5]\n",
      "bsmt_exposure [1 4 3 0 2]\n",
      "bsmtfin_type1 [6 1 5 3 0 4 2]\n",
      "bsmt_type2 [1 3 0 4 6 2 5]\n",
      "electrical [5 3 4 2 1]\n",
      "kitchen_qual [4 3 2 5 1]\n",
      "functional [8 5 6 4 7 2 1 3]\n",
      "fireplace_qu [0 3 4 1 5 2]\n",
      "garage_finish [2 1 3 0]\n",
      "garage_qual [3 2 0 4 5 1]\n",
      "garage_cond [3 2 0 1 4 5]\n",
      "paved_drive [3 1 2]\n",
      "overall_cond [8 5 7 6 3 9 2 4 1]\n",
      "heating_qc [5 3 4 2 1]\n"
     ]
    }
   ],
   "source": [
    "# check if all ranked and sequential \n",
    "for cat in ordinal_cat:\n",
    "    if cat != 'overall_cond':\n",
    "        df[cat] = df[cat].map(rate_Po_Excellent)\n",
    "        print(cat,df[cat].unique())\n",
    "    else:\n",
    "        print(cat,df[cat].unique())"
   ]
  },
  {
   "cell_type": "code",
   "execution_count": 8,
   "id": "5c53caaa",
   "metadata": {},
   "outputs": [],
   "source": [
    "# Declare main variables consisting from chosen highly correlated variables  \n",
    "\n",
    "main_variables = ['lot_front', 'lot_area', 'overall_qual', 'age', 'remod_age',\n",
    " 'exter_qual', 'bsmt_qual', 'heating_qc', 'total_bsmt_sf', '1st_flr_sf', 'gr_liv_area',\n",
    " 'kitchen_qual', 'garage_finish', 'fireplace_qu',\n",
    "    'sale_price','garage_area','bsmtfin_sf1','tot_rms_abv_grd' ]\n",
    "\n",
    "# Declare other columns as categorial features that needs to be dummified.\n",
    "other_columns = [col for col in df.columns if (col not in main_variables) & (col not in ['index','id','pid']) & (col not in ordinal_cat)]\n"
   ]
  },
  {
   "cell_type": "code",
   "execution_count": 9,
   "id": "4ca6b295",
   "metadata": {},
   "outputs": [
    {
     "data": {
      "text/plain": [
       "['ms_zoning',\n",
       " 'street',\n",
       " 'alley',\n",
       " 'land_contour',\n",
       " 'lot_config',\n",
       " 'neighborhood',\n",
       " 'cond_1',\n",
       " 'cond_2',\n",
       " 'bldg_type',\n",
       " 'house_style',\n",
       " 'roof_style',\n",
       " 'roof_matl',\n",
       " 'ext_1st',\n",
       " 'ext_2nd',\n",
       " 'mas_vnr_type',\n",
       " 'foundation',\n",
       " 'heating',\n",
       " 'central_air',\n",
       " 'garage_type',\n",
       " 'sale_type']"
      ]
     },
     "execution_count": 9,
     "metadata": {},
     "output_type": "execute_result"
    }
   ],
   "source": [
    "# to separate categorical and numerical features \n",
    "other_cat_features = [col for col in df[other_columns].columns if df[col].dtype == 'O']\n",
    "\n",
    "other_cat_features"
   ]
  },
  {
   "cell_type": "markdown",
   "id": "861c59fd",
   "metadata": {},
   "source": [
    "**Nominal feature selection**"
   ]
  },
  {
   "cell_type": "markdown",
   "id": "e0d4e5c8",
   "metadata": {},
   "source": [
    "|Feature|Feature name|Reason for inclusion|\n",
    "|---|---|---|\n",
    "|**Neighbourhood**|*neighborhood*|Different neighbourhoods may cost more hence need to consider| \n",
    "|**Roof Material**|*roof_matl*|Account for materials of roof| \n",
    "|**Condition 1**|*cond_1*|Proximity to main road or railroad needs to be added to account for values that may have impact to price eg. houses near main roads with Bus stops or near train stations will worth more in general| \n",
    "|**Condition 2**|*cond_2*|Proximity to main road or railroad needs to be added to account for values that may have impact to price eg. houses near main roads with Bus stops or near train stations will worth more in general| \n",
    "|**Building Type**|*bldg_type*|Type of dwelling need to consider as certain houses may cost more/less than the other types| \n",
    "|**Sale Type**|*sale_type*|Type of sale is important to consider, for example new home just constructed and sold would probably be eyed by buyers for its general condition assumed to be in top condition| "
   ]
  },
  {
   "cell_type": "code",
   "execution_count": 10,
   "id": "3fc4a754",
   "metadata": {},
   "outputs": [],
   "source": [
    "# create column for nominal cat selection\n",
    "col = ['neighborhood', 'roof_matl', 'cond_1', 'cond_2', 'bldg_type', 'sale_type']\n",
    "\n",
    "norminal_cat = pd.get_dummies(data = df[col], drop_first = True)"
   ]
  },
  {
   "cell_type": "code",
   "execution_count": 11,
   "id": "2d881277",
   "metadata": {},
   "outputs": [],
   "source": [
    "# merging two list together, main_variables and ordinal categorical features\n",
    "col = main_variables.copy()\n",
    "for iter in ordinal_cat:\n",
    "    if iter not in col:\n",
    "        col.append(iter) \n",
    "\n",
    "# create df that \n",
    "main_data = pd.concat([df[col],norminal_cat], axis = 1)"
   ]
  },
  {
   "cell_type": "code",
   "execution_count": 12,
   "id": "eda0abca",
   "metadata": {},
   "outputs": [],
   "source": [
    "# writing main_data and combi with other_df\n",
    "\n",
    "id_adder = df['id']\n",
    "main_data = pd.concat([id_adder,main_data], axis = 1)"
   ]
  },
  {
   "cell_type": "markdown",
   "id": "0d766b22",
   "metadata": {},
   "source": [
    "#### Split Test and Train data "
   ]
  },
  {
   "cell_type": "code",
   "execution_count": 13,
   "id": "a6b55c31",
   "metadata": {
    "scrolled": false
   },
   "outputs": [
    {
     "data": {
      "text/plain": [
       "0     NaN\n",
       "1     NaN\n",
       "2     NaN\n",
       "3     NaN\n",
       "4     NaN\n",
       "       ..\n",
       "873   NaN\n",
       "874   NaN\n",
       "875   NaN\n",
       "876   NaN\n",
       "877   NaN\n",
       "Name: sale_price, Length: 878, dtype: float64"
      ]
     },
     "execution_count": 13,
     "metadata": {},
     "output_type": "execute_result"
    }
   ],
   "source": [
    "# split test data (Kaggle)\n",
    "# cross check -->> OK\n",
    "\n",
    "kaggle_test_final = main_data[2051:]\n",
    "kaggle_test_final = kaggle_test_final.reset_index(drop = 'index')\n",
    "kaggle_test_final['sale_price']"
   ]
  },
  {
   "cell_type": "code",
   "execution_count": 14,
   "id": "d86e595b",
   "metadata": {},
   "outputs": [
    {
     "data": {
      "text/plain": [
       "2041    412500.0\n",
       "2042     83000.0\n",
       "2043    128000.0\n",
       "2044    182000.0\n",
       "2045    394617.0\n",
       "2046    298751.0\n",
       "2047     82500.0\n",
       "2048    177000.0\n",
       "2049    144000.0\n",
       "2050    189000.0\n",
       "Name: sale_price, dtype: float64"
      ]
     },
     "execution_count": 14,
     "metadata": {},
     "output_type": "execute_result"
    }
   ],
   "source": [
    "# split train data (Kaggle)\n",
    "\n",
    "kaggle_train_final = main_data[:2051]\n",
    "kaggle_train_final['sale_price'].tail(10)"
   ]
  },
  {
   "cell_type": "markdown",
   "id": "f9357dad",
   "metadata": {},
   "source": [
    "#### Apply Standard Scaler to train data"
   ]
  },
  {
   "cell_type": "code",
   "execution_count": 15,
   "id": "1a2d61f5",
   "metadata": {},
   "outputs": [],
   "source": [
    "# assign X and y\n",
    "\n",
    "X = kaggle_train_final.drop(columns = ['sale_price','id'])\n",
    "y = kaggle_train_final['sale_price']\n",
    "indices = X.index.values\n",
    "\n",
    "# Create train/test splits.\n",
    "X_train, X_test, y_train, y_test,indices_train, indices_test = train_test_split(\n",
    "    X,\n",
    "    y,\n",
    "    indices,\n",
    "    test_size=0.3,\n",
    "    random_state = 123\n",
    ")\n",
    "\n",
    "# Scale our data.\n",
    "# Relabeling scaled data as \"Z\" is common.\n",
    "sc = StandardScaler()\n",
    "# Z_train = sc.fit_transform(X_train)\n",
    "sc.fit(X_train) # fit should only see train data, \n",
    "                #else if put in test, will have leak from the train data \n",
    "X_train = sc.transform(X_train)\n",
    "X_test = sc.transform(X_test)"
   ]
  },
  {
   "cell_type": "markdown",
   "id": "cd422562",
   "metadata": {},
   "source": [
    "#### Instantiate model"
   ]
  },
  {
   "cell_type": "code",
   "execution_count": 16,
   "id": "e0083669",
   "metadata": {},
   "outputs": [],
   "source": [
    "lr = LinearRegression()"
   ]
  },
  {
   "cell_type": "code",
   "execution_count": 17,
   "id": "df2021b4",
   "metadata": {},
   "outputs": [],
   "source": [
    "lasso = LassoCV(n_alphas=300)"
   ]
  },
  {
   "cell_type": "code",
   "execution_count": 18,
   "id": "5b1e84ad",
   "metadata": {},
   "outputs": [],
   "source": [
    "ridge = RidgeCV(alphas=np.logspace(0, 5, 100))"
   ]
  },
  {
   "cell_type": "markdown",
   "id": "c0c9f756",
   "metadata": {},
   "source": [
    "## Model Selection"
   ]
  },
  {
   "cell_type": "markdown",
   "id": "b097f194",
   "metadata": {},
   "source": [
    "**Linear regression model**"
   ]
  },
  {
   "cell_type": "code",
   "execution_count": 19,
   "id": "b8b9bb3d",
   "metadata": {},
   "outputs": [
    {
     "name": "stdout",
     "output_type": "stream",
     "text": [
      "MSE for train: 3.1683560524532907e+31\n",
      "MSE for test: 1.4793934100556615e+30\n",
      "Underfited by: 3.0204167114477246e+31\n",
      "RMSE: 1216303173577896.0\n"
     ]
    }
   ],
   "source": [
    "#fit\n",
    "lr.fit(X_train,y_train)\n",
    "\n",
    "# cross val mse\n",
    "cross_score = - cross_val_score(\n",
    "    lr,\n",
    "    X_train,\n",
    "    y_train,\n",
    "    cv = 3,\n",
    "    scoring = 'neg_mean_squared_error'\n",
    ").mean()\n",
    "\n",
    "# test mse\n",
    "mse_test = mean_squared_error(\n",
    "    y_test,\n",
    "    lr.predict(X_test)\n",
    ")\n",
    "# cross - test \n",
    "mse_train_minus_test = cross_score - mse_test\n",
    "\n",
    "if mse_train_minus_test > 0:\n",
    "    print(f'MSE for train: {cross_score}')\n",
    "    print(f'MSE for test: {mse_test}')\n",
    "    print(f'Underfited by: {mse_train_minus_test}')\n",
    "else:\n",
    "    print(f'MSE for train: {cross_score}')\n",
    "    print(f'MSE for test: {mse_test}')\n",
    "    print(f'Overfitted by: {mse_train_minus_test}')\n",
    "print(f'RMSE: {mse_test**0.5}')"
   ]
  },
  {
   "cell_type": "markdown",
   "id": "7bb8f538",
   "metadata": {},
   "source": [
    "**Lasso Regression**"
   ]
  },
  {
   "cell_type": "code",
   "execution_count": 20,
   "id": "7b5647ac",
   "metadata": {},
   "outputs": [
    {
     "data": {
      "text/plain": [
       "319.7476670294984"
      ]
     },
     "execution_count": 20,
     "metadata": {},
     "output_type": "execute_result"
    }
   ],
   "source": [
    "# initiate \n",
    "lasso = LassoCV(\n",
    "    cv=5,\n",
    "    max_iter=50000,\n",
    "    n_alphas=200,\n",
    ")\n",
    "\n",
    "# Fit model using best ridge alpha!\n",
    "lasso.fit(X_train, y_train);\n",
    "\n",
    "\n",
    "lasso.alpha_"
   ]
  },
  {
   "cell_type": "code",
   "execution_count": 21,
   "id": "1cb9e1e6",
   "metadata": {},
   "outputs": [],
   "source": [
    "lasso_best = Lasso(alpha = lasso.alpha_)"
   ]
  },
  {
   "cell_type": "code",
   "execution_count": 22,
   "id": "99396ac0",
   "metadata": {},
   "outputs": [
    {
     "data": {
      "text/plain": [
       "Lasso(alpha=319.7476670294984)"
      ]
     },
     "execution_count": 22,
     "metadata": {},
     "output_type": "execute_result"
    }
   ],
   "source": [
    "# fit lasso best \n",
    "\n",
    "lasso_best.fit(X_train,y_train)"
   ]
  },
  {
   "cell_type": "code",
   "execution_count": 23,
   "id": "ea81454f",
   "metadata": {},
   "outputs": [
    {
     "name": "stdout",
     "output_type": "stream",
     "text": [
      "MSE for train: 853152974.3578879\n",
      "MSE for test: 1000237797.0542115\n",
      "Overfitted by: -147084822.69632363\n",
      "RMSE: 31626.53627974792\n",
      "Alpha used: 319.7476670294984\n"
     ]
    }
   ],
   "source": [
    "# cross val mse\n",
    "cross_score = - cross_val_score(\n",
    "    lasso_best,\n",
    "    X_train,\n",
    "    y_train,\n",
    "    cv = 3,\n",
    "    scoring = 'neg_mean_squared_error'\n",
    ").mean()\n",
    "\n",
    "# test mse\n",
    "mse_test = mean_squared_error(\n",
    "    y_test,\n",
    "    lasso_best.predict(X_test)\n",
    ")\n",
    "# cross - test \n",
    "mse_train_minus_test = cross_score - mse_test\n",
    "\n",
    "if mse_train_minus_test > 0:\n",
    "    print(f'MSE for train: {cross_score}')\n",
    "    print(f'MSE for test: {mse_test}')\n",
    "    print(f'Underfited by: {mse_train_minus_test}')\n",
    "else:\n",
    "    print(f'MSE for train: {cross_score}')\n",
    "    print(f'MSE for test: {mse_test}')\n",
    "    print(f'Overfitted by: {mse_train_minus_test}')\n",
    "print(f'RMSE: {mse_test**0.5}')\n",
    "print(f'Alpha used: {lasso_best.alpha}')"
   ]
  },
  {
   "cell_type": "markdown",
   "id": "9cd9d55f",
   "metadata": {},
   "source": [
    "**Ridge Regression**"
   ]
  },
  {
   "cell_type": "code",
   "execution_count": 24,
   "id": "e07a5d30",
   "metadata": {},
   "outputs": [
    {
     "name": "stdout",
     "output_type": "stream",
     "text": [
      "MSE for train: 848683351.5379391\n",
      "MSE for test: 1006199846.5574503\n",
      "Overfitted by: -157516495.01951122\n",
      "RMSE: 31720.653312273538\n",
      "Alpha used: 73.90722033525779\n"
     ]
    }
   ],
   "source": [
    "r_alphas = np.logspace(0, 5, 100)\n",
    "ridge_cv = RidgeCV(alphas=r_alphas, scoring='neg_mean_squared_error', cv=5)\n",
    "ridge_cv.fit(X_train, y_train);\n",
    "\n",
    "ridge_best = Ridge(alpha = ridge_cv.alpha_)\n",
    "\n",
    "ridge_best.fit(X_train,y_train)\n",
    "\n",
    "# cross val mse\n",
    "cross_score = - cross_val_score(\n",
    "    ridge_best,\n",
    "    X_train,\n",
    "    y_train,\n",
    "    cv = 3,\n",
    "    scoring = 'neg_mean_squared_error'\n",
    ").mean()\n",
    "\n",
    "# test mse\n",
    "mse_test = mean_squared_error(\n",
    "    y_test,\n",
    "    ridge_best.predict(X_test)\n",
    ")\n",
    "# cross - test \n",
    "mse_train_minus_test = cross_score - mse_test\n",
    "\n",
    "if mse_train_minus_test > 0:\n",
    "    print(f'MSE for train: {cross_score}')\n",
    "    print(f'MSE for test: {mse_test}')\n",
    "    print(f'Underfited by: {mse_train_minus_test}')\n",
    "else:\n",
    "    print(f'MSE for train: {cross_score}')\n",
    "    print(f'MSE for test: {mse_test}')\n",
    "    print(f'Overfitted by: {mse_train_minus_test}')\n",
    "print(f'RMSE: {mse_test**0.5}')\n",
    "print(f'Alpha used: {ridge_cv.alpha_}')"
   ]
  },
  {
   "cell_type": "markdown",
   "id": "c6726262",
   "metadata": {},
   "source": [
    "## Model Choice"
   ]
  },
  {
   "cell_type": "markdown",
   "id": "eaff057f",
   "metadata": {},
   "source": [
    "Linear regression model did not have a good score due to its high bias and variance due to its complexity after adding many features. Hence Linear regression model will not be used. \n",
    "\n",
    "For Lasso and Ridge, the RMSE is fairly competitive, with a RMSE of 31626 and 31743 respectively\n",
    "\n",
    "Furthermore, both Lasso and Ridge are showing overfitting whereby the RMSE for train set is lower than the test set, hence not being able to generalise to unseen data. \n",
    "\n",
    "For this project, I will proceed feature engineering using **Lasso Regression** as I will need to use the model to remove negligible features with zero coefficients. "
   ]
  },
  {
   "cell_type": "markdown",
   "id": "7fc50ab4",
   "metadata": {},
   "source": [
    "**Found outlier and remove**"
   ]
  },
  {
   "cell_type": "code",
   "execution_count": 25,
   "id": "130c8e27",
   "metadata": {
    "scrolled": true
   },
   "outputs": [
    {
     "data": {
      "image/png": "[encoded data removed]",
      "text/plain": [
       "<Figure size 432x432 with 3 Axes>"
      ]
     },
     "metadata": {
      "needs_background": "light"
     },
     "output_type": "display_data"
    }
   ],
   "source": [
    "# noticed at higher ends of the sale_price,\n",
    "# model is calculating below real sales_price\n",
    "\n",
    "ax = sns.jointplot(\n",
    "    x = lasso_best.predict(X_test),\n",
    "    y = y_test,\n",
    "    kind = 'reg'\n",
    ")\n",
    "ax.ax_joint.set_xlabel('Predicted Sale Price')\n",
    "ax.ax_joint.set_ylabel('Actual Sale Price');"
   ]
  },
  {
   "cell_type": "markdown",
   "id": "ee077a5b",
   "metadata": {},
   "source": [
    "*Comments*\n",
    "\n",
    "- observed skewing away from prediction model \n",
    "- starts from higher end sales price\n",
    "- model is under predicting housing price \n",
    "- Need interaction terms to cater for the combined effect to effectively predict higher end sales price \n"
   ]
  },
  {
   "cell_type": "code",
   "execution_count": 26,
   "id": "4969eff8",
   "metadata": {},
   "outputs": [
    {
     "data": {
      "text/plain": [
       "339"
      ]
     },
     "execution_count": 26,
     "metadata": {},
     "output_type": "execute_result"
    }
   ],
   "source": [
    "# find out index 339 having anomaly \n",
    "anomaly = [num for num,val in enumerate (lasso_best.predict(X_test)>500000) if val == True]\n",
    "anomaly[0]"
   ]
  },
  {
   "cell_type": "code",
   "execution_count": 27,
   "id": "8d5a9e03",
   "metadata": {},
   "outputs": [
    {
     "data": {
      "text/plain": [
       "960"
      ]
     },
     "execution_count": 27,
     "metadata": {},
     "output_type": "execute_result"
    }
   ],
   "source": [
    "#index with anomoly\n",
    "indices_test[anomaly[0]]"
   ]
  },
  {
   "cell_type": "code",
   "execution_count": 28,
   "id": "4468fe15",
   "metadata": {},
   "outputs": [],
   "source": [
    "# putting sale price value of the index given\n",
    "\n",
    "outlier_val = int(main_data.loc[main_data['sale_price'].index == indices_test[anomaly[0]], 'sale_price'].values)"
   ]
  },
  {
   "cell_type": "code",
   "execution_count": 29,
   "id": "7b2c660f",
   "metadata": {},
   "outputs": [
    {
     "data": {
      "image/png": "[encoded data removed]",
      "text/plain": [
       "<Figure size 432x288 with 1 Axes>"
      ]
     },
     "metadata": {
      "needs_background": "light"
     },
     "output_type": "display_data"
    }
   ],
   "source": [
    "# copy to filter off outlier in scatterplot\n",
    "\n",
    "filter_outlier = main_data.copy()\n",
    "\n",
    "filter_outlier['outlier'] = filter_outlier['sale_price'].map(lambda x: 'outlier' if (x == outlier_val) else 'normal')\n",
    "\n",
    "# found two outliers with one already found \n",
    "\n",
    "ax = sns.scatterplot(\n",
    "    x = 'gr_liv_area',\n",
    "    y = 'sale_price',\n",
    "    data = filter_outlier,\n",
    "    hue = 'outlier'\n",
    ");\n",
    "\n",
    "ax.set_title('Boxplot - Ground living Area vs Sale Price', fontdict={'fontsize': 14}, pad = 12)\n",
    "ax.set_xlabel('Ground living Area', fontdict={'fontsize': 14})\n",
    "ax.set_ylabel('Sale Price', fontdict={'fontsize': 14});\n"
   ]
  },
  {
   "cell_type": "markdown",
   "id": "5f3265fe",
   "metadata": {},
   "source": [
    "We can observe two outliers including the one highlighted. Will proceed to remove it"
   ]
  },
  {
   "cell_type": "code",
   "execution_count": 30,
   "id": "0a7ba4d6",
   "metadata": {},
   "outputs": [
    {
     "data": {
      "text/html": [
       "<div>\n",
       "<style scoped>\n",
       "    .dataframe tbody tr th:only-of-type {\n",
       "        vertical-align: middle;\n",
       "    }\n",
       "\n",
       "    .dataframe tbody tr th {\n",
       "        vertical-align: top;\n",
       "    }\n",
       "\n",
       "    .dataframe thead th {\n",
       "        text-align: right;\n",
       "    }\n",
       "</style>\n",
       "<table border=\"1\" class=\"dataframe\">\n",
       "  <thead>\n",
       "    <tr style=\"text-align: right;\">\n",
       "      <th></th>\n",
       "      <th>id</th>\n",
       "      <th>lot_front</th>\n",
       "      <th>lot_area</th>\n",
       "      <th>overall_qual</th>\n",
       "      <th>age</th>\n",
       "      <th>remod_age</th>\n",
       "      <th>exter_qual</th>\n",
       "      <th>bsmt_qual</th>\n",
       "      <th>heating_qc</th>\n",
       "      <th>total_bsmt_sf</th>\n",
       "      <th>...</th>\n",
       "      <th>bldg_type_TwnhsE</th>\n",
       "      <th>sale_type_CWD</th>\n",
       "      <th>sale_type_Con</th>\n",
       "      <th>sale_type_ConLD</th>\n",
       "      <th>sale_type_ConLI</th>\n",
       "      <th>sale_type_ConLw</th>\n",
       "      <th>sale_type_New</th>\n",
       "      <th>sale_type_Oth</th>\n",
       "      <th>sale_type_VWD</th>\n",
       "      <th>sale_type_WD</th>\n",
       "    </tr>\n",
       "  </thead>\n",
       "  <tbody>\n",
       "    <tr>\n",
       "      <th>960</th>\n",
       "      <td>1499</td>\n",
       "      <td>313.0</td>\n",
       "      <td>63887</td>\n",
       "      <td>10</td>\n",
       "      <td>0</td>\n",
       "      <td>0</td>\n",
       "      <td>5</td>\n",
       "      <td>5</td>\n",
       "      <td>5</td>\n",
       "      <td>6110.0</td>\n",
       "      <td>...</td>\n",
       "      <td>0</td>\n",
       "      <td>0</td>\n",
       "      <td>0</td>\n",
       "      <td>0</td>\n",
       "      <td>0</td>\n",
       "      <td>0</td>\n",
       "      <td>1</td>\n",
       "      <td>0</td>\n",
       "      <td>0</td>\n",
       "      <td>0</td>\n",
       "    </tr>\n",
       "    <tr>\n",
       "      <th>1885</th>\n",
       "      <td>2181</td>\n",
       "      <td>128.0</td>\n",
       "      <td>39290</td>\n",
       "      <td>10</td>\n",
       "      <td>-1</td>\n",
       "      <td>-2</td>\n",
       "      <td>5</td>\n",
       "      <td>5</td>\n",
       "      <td>5</td>\n",
       "      <td>5095.0</td>\n",
       "      <td>...</td>\n",
       "      <td>0</td>\n",
       "      <td>0</td>\n",
       "      <td>0</td>\n",
       "      <td>0</td>\n",
       "      <td>0</td>\n",
       "      <td>0</td>\n",
       "      <td>1</td>\n",
       "      <td>0</td>\n",
       "      <td>0</td>\n",
       "      <td>0</td>\n",
       "    </tr>\n",
       "  </tbody>\n",
       "</table>\n",
       "<p>2 rows × 95 columns</p>\n",
       "</div>"
      ],
      "text/plain": [
       "        id  lot_front  lot_area  overall_qual  age  remod_age  exter_qual  \\\n",
       "960   1499      313.0     63887            10    0          0           5   \n",
       "1885  2181      128.0     39290            10   -1         -2           5   \n",
       "\n",
       "      bsmt_qual  heating_qc  total_bsmt_sf  ...  bldg_type_TwnhsE  \\\n",
       "960           5           5         6110.0  ...                 0   \n",
       "1885          5           5         5095.0  ...                 0   \n",
       "\n",
       "      sale_type_CWD  sale_type_Con  sale_type_ConLD  sale_type_ConLI  \\\n",
       "960               0              0                0                0   \n",
       "1885              0              0                0                0   \n",
       "\n",
       "      sale_type_ConLw  sale_type_New  sale_type_Oth  sale_type_VWD  \\\n",
       "960                 0              1              0              0   \n",
       "1885                0              1              0              0   \n",
       "\n",
       "      sale_type_WD   \n",
       "960               0  \n",
       "1885              0  \n",
       "\n",
       "[2 rows x 95 columns]"
      ]
     },
     "execution_count": 30,
     "metadata": {},
     "output_type": "execute_result"
    }
   ],
   "source": [
    "# found two outliers \n",
    "main_data[filter_outlier['gr_liv_area'] > 5000]"
   ]
  },
  {
   "cell_type": "code",
   "execution_count": 31,
   "id": "4c3913e1",
   "metadata": {},
   "outputs": [],
   "source": [
    "# drop two outliers from train data set \n",
    "main_data.drop(index = [960,1885], inplace = True)"
   ]
  },
  {
   "cell_type": "markdown",
   "id": "9c5cb8ac",
   "metadata": {},
   "source": [
    "**Redo train test split and fit into Lasso Best**"
   ]
  },
  {
   "cell_type": "code",
   "execution_count": 32,
   "id": "efcc6eb2",
   "metadata": {},
   "outputs": [
    {
     "name": "stdout",
     "output_type": "stream",
     "text": [
      "MSE for train: 663227950.1837512\n",
      "MSE for test: 521823596.87337995\n",
      "Underfited by: 141404353.31037128\n",
      "RMSE: 22843.458513836733\n",
      "Alpha used: 272.9598979802975\n"
     ]
    },
    {
     "data": {
      "image/png": "[encoded data removed]",
      "text/plain": [
       "<Figure size 432x432 with 3 Axes>"
      ]
     },
     "metadata": {
      "needs_background": "light"
     },
     "output_type": "display_data"
    }
   ],
   "source": [
    "# split test data (Kaggle)\n",
    "# cross check -->> OK\n",
    "\n",
    "kaggle_test_final = main_data[2049:]\n",
    "kaggle_test_final = kaggle_test_final.reset_index(drop = 'index')\n",
    "kaggle_test_final['sale_price']\n",
    "\n",
    "# split train data (Kaggle)\n",
    "\n",
    "kaggle_train_final = main_data[:2049]\n",
    "kaggle_train_final['sale_price'].tail(10)\n",
    "\n",
    "\n",
    "# assign X and y\n",
    "\n",
    "X = kaggle_train_final.drop(columns = ['sale_price','id'])\n",
    "y = kaggle_train_final['sale_price']\n",
    "indices = X.index.values\n",
    "\n",
    "# Create train/test splits.\n",
    "X_train, X_test, y_train, y_test,indices_train, indices_test = train_test_split(\n",
    "    X,\n",
    "    y,\n",
    "    indices,\n",
    "    test_size=0.3,\n",
    "    random_state = 123\n",
    ")\n",
    "\n",
    "# Scale our data.\n",
    "# Relabeling scaled data as \"Z\" is common.\n",
    "sc = StandardScaler()\n",
    "# Z_train = sc.fit_transform(X_train)\n",
    "sc.fit(X_train) # fit should only see train data, \n",
    "                #else if put in test, will have leak from the train data \n",
    "X_train = sc.transform(X_train)\n",
    "X_test = sc.transform(X_test)\n",
    "\n",
    "\n",
    "# initiate \n",
    "lasso = LassoCV(\n",
    "    cv=5,\n",
    "    max_iter=50000,\n",
    "    n_alphas=200,\n",
    ")\n",
    "\n",
    "# Fit model using best ridge alpha!\n",
    "lasso.fit(X_train, y_train);\n",
    "\n",
    "\n",
    "lasso_best = Lasso(alpha = lasso.alpha_)\n",
    "\n",
    "# fit lasso best \n",
    "\n",
    "lasso_best.fit(X_train,y_train)\n",
    "\n",
    "# Redo jointplot to check on first pass Lasso model\n",
    "ax = sns.jointplot(\n",
    "    x = lasso_best.predict(X_test),\n",
    "    y = y_test,\n",
    "    kind = 'reg'\n",
    ")\n",
    "ax.ax_joint.set_xlabel('Predicted Sale Price')\n",
    "ax.ax_joint.set_ylabel('Actual Sale Price');\n",
    "\n",
    "# cross val mse\n",
    "cross_score = - cross_val_score(\n",
    "    lasso_best,\n",
    "    X_train,\n",
    "    y_train,\n",
    "    cv = 3,\n",
    "    scoring = 'neg_mean_squared_error'\n",
    ").mean()\n",
    "\n",
    "# test mse\n",
    "mse_test = mean_squared_error(\n",
    "    y_test,\n",
    "    lasso_best.predict(X_test)\n",
    ")\n",
    "# cross - test \n",
    "mse_train_minus_test = cross_score - mse_test\n",
    "\n",
    "if mse_train_minus_test > 0:\n",
    "    print(f'MSE for train: {cross_score}')\n",
    "    print(f'MSE for test: {mse_test}')\n",
    "    print(f'Underfited by: {mse_train_minus_test}')\n",
    "else:\n",
    "    print(f'MSE for train: {cross_score}')\n",
    "    print(f'MSE for test: {mse_test}')\n",
    "    print(f'Overfitted by: {mse_train_minus_test}')\n",
    "print(f'RMSE: {mse_test**0.5}')\n",
    "print(f'Alpha used: {lasso_best.alpha}')"
   ]
  },
  {
   "cell_type": "code",
   "execution_count": 33,
   "id": "b229d7be",
   "metadata": {},
   "outputs": [
    {
     "data": {
      "image/png": "[encoded data removed]",
      "text/plain": [
       "<Figure size 432x288 with 1 Axes>"
      ]
     },
     "metadata": {
      "needs_background": "light"
     },
     "output_type": "display_data"
    }
   ],
   "source": [
    "residuals = y_test - lasso_best.predict(X_test)\n",
    "plt.scatter(lasso_best.predict(X_test), residuals)\n",
    "plt.xlabel('Predicted Sale Price', fontdict={'fontsize': 14})\n",
    "plt.ylabel('Residuals', fontdict={'fontsize': 14})\n",
    "plt.title('Predictions vs Residuals from Lasso regression',  fontdict={'fontsize': 16}, pad = 25)\n",
    "plt.axvline(x=350000, color = 'red');"
   ]
  },
  {
   "cell_type": "code",
   "execution_count": 34,
   "id": "64f8f136",
   "metadata": {},
   "outputs": [
    {
     "name": "stdout",
     "output_type": "stream",
     "text": [
      "Current RMSE: 22843\n",
      "Difference in RMSE: -8877\n",
      "Percentage diff: -27.99%\n"
     ]
    }
   ],
   "source": [
    "# Change in RMSE \n",
    "\n",
    "RMSE_before_outlier_removed = 31720\n",
    "RMSE_after_outlier_removed= 22843\n",
    "\n",
    "Difference = RMSE_after_outlier_removed - RMSE_before_outlier_removed\n",
    "percent_dif = round(Difference/RMSE_before_outlier_removed * 100, 2)\n",
    "print(f'Current RMSE: {RMSE_after_outlier_removed}')\n",
    "print(f'Difference in RMSE: {Difference}')\n",
    "print(f'Percentage diff: {percent_dif}%')"
   ]
  },
  {
   "cell_type": "markdown",
   "id": "443bccea",
   "metadata": {},
   "source": [
    "After removing outlier, RMSE improved with Lasso regression by -27.9%\n",
    "\n",
    "\n",
    "However, we faced problem where the Lasso regression tends to skew upwards away from the linear predicted line.\n",
    "\n",
    "From the Predictions vs Residuals, we can see after $350K, residuals became larger with delta as close as above $150K\n",
    "\n",
    "This indicates clear under-evaluation of housing price by the prediction model\n",
    "\n",
    "**Hypothesis:** ***There is some missing X-factor that dampens the effect of the true value of such grand houses.***"
   ]
  },
  {
   "cell_type": "code",
   "execution_count": 35,
   "id": "e49bfc20",
   "metadata": {},
   "outputs": [],
   "source": [
    "# create data set for feature engineering journal\n",
    "main_data.to_csv(\"datasets/For_feature_engineering.csv\", index=False)"
   ]
  }
 ],
 "metadata": {
  "kernelspec": {
   "display_name": "Python 3 (ipykernel)",
   "language": "python",
   "name": "python3"
  },
  "language_info": {
   "codemirror_mode": {
    "name": "ipython",
    "version": 3
   },
   "file_extension": ".py",
   "mimetype": "text/x-python",
   "name": "python",
   "nbconvert_exporter": "python",
   "pygments_lexer": "ipython3",
   "version": "3.9.7"
  }
 },
 "nbformat": 4,
 "nbformat_minor": 5
}
