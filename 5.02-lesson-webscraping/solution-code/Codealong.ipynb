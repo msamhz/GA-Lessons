{
 "cells": [
  {
   "cell_type": "code",
   "execution_count": 242,
   "metadata": {},
   "outputs": [],
   "source": [
    "import pandas as pd\n",
    "import requests\n",
    "from bs4 import BeautifulSoup"
   ]
  },
  {
   "cell_type": "markdown",
   "metadata": {},
   "source": [
    "# Using the requests library"
   ]
  },
  {
   "cell_type": "code",
   "execution_count": 243,
   "metadata": {},
   "outputs": [],
   "source": [
    "url = 'https://rldaggie.github.io/sample-html/'\n",
    "res = requests.get(url)"
   ]
  },
  {
   "cell_type": "markdown",
   "metadata": {},
   "source": [
    "### Status Codes"
   ]
  },
  {
   "cell_type": "code",
   "execution_count": 244,
   "metadata": {},
   "outputs": [
    {
     "data": {
      "text/plain": [
       "200"
      ]
     },
     "execution_count": 244,
     "metadata": {},
     "output_type": "execute_result"
    }
   ],
   "source": [
    "res.status_code"
   ]
  },
  {
   "cell_type": "markdown",
   "metadata": {},
   "source": [
    "### Creating a `BeautifulSoup` object"
   ]
  },
  {
   "cell_type": "code",
   "execution_count": 245,
   "metadata": {},
   "outputs": [],
   "source": [
    "soup = BeautifulSoup(res.content, 'lxml')"
   ]
  },
  {
   "cell_type": "code",
   "execution_count": 246,
   "metadata": {},
   "outputs": [
    {
     "data": {
      "text/plain": [
       "<!DOCTYPE html>\n",
       "<html>\n",
       "<head>\n",
       "<meta charset=\"utf-8\"/>\n",
       "<title>The title</title>\n",
       "<style media=\"screen\">\n",
       "      tbody tr {\n",
       "        color: red;\n",
       "      }\n",
       "    </style>\n",
       "</head>\n",
       "<body>\n",
       "<h1 class=\"foobar\" id=\"title\">This is an h1</h1>\n",
       "<div>\n",
       "<h1 class=\"foobar\">This is yet another heading.</h1>\n",
       "\n",
       "      Something inside the div\n",
       "    </div>\n",
       "<h3>Todo List</h3>\n",
       "<ol class=\"todo\">\n",
       "<li class=\"foobar\">Take out trash</li>\n",
       "<li>Pay billz</li>\n",
       "<li class=\"foobar\">Feed dog</li>\n",
       "</ol>\n",
       "<h3>Completed</h3>\n",
       "<ol class=\"done\">\n",
       "<li>Mow lawn</li>\n",
       "<li class=\"foobar\"><span>Take out compost</span></li>\n",
       "<li><span>Create scraping lecture</span></li>\n",
       "</ol>\n",
       "<p class=\"foobar\">Lorem ipsum dolor sit amet, consectetur adipisicing elit, sed do eiusmod tempor incididunt ut labore et dolore magna aliqua. Ut enim ad minim veniam, quis nostrud exercitation ullamco laboris nisi ut aliquip ex ea commodo consequat. <span>Duis aute irure dolor</span> in reprehenderit in voluptate velit esse cillum dolore eu fugiat nulla pariatur. <em>Excepteur sint occaecat cupidatat non proident, sunt in culpa qui officia deserunt mollit anim id est laborum</em>.</p>\n",
       "<p>Lorem ipsum dolor sit amet, consectetur adipisicing elit, sed do eiusmod tempor incididunt ut labore et dolore magna aliqua. Ut enim ad minim veniam, quis nostrud exercitation ullamco laboris nisi ut aliquip ex ea commodo consequat. <strong><em>Duis aute irure dolor in reprehenderit in voluptate velit esse cillum dolore eu fugiat nulla pariatur</em></strong>. Excepteur sint occaecat cupidatat non proident, sunt in culpa qui officia deserunt mollit anim id est laborum.</p>\n",
       "<table id=\"directory\">\n",
       "<thead>\n",
       "<tr>\n",
       "<th>Name</th>\n",
       "<th>Role</th>\n",
       "</tr>\n",
       "</thead>\n",
       "<tbody>\n",
       "<tr class=\"student\">\n",
       "<th><a href=\"mailto:praveen@ga.co\">Praveen\n",
       "\n",
       "\n",
       "\n",
       "          </a></th>\n",
       "<td>Student</td>\n",
       "</tr>\n",
       "<tr class=\"student\">\n",
       "<th><a href=\"mailto:fred@ga.co\">Fred\n",
       "\n",
       "\n",
       "\n",
       "          </a></th>\n",
       "<td>Student</td>\n",
       "</tr>\n",
       "<tr class=\"student\">\n",
       "<th><a href=\"mailto:homer@ga.co\">Homer\n",
       "\n",
       "\n",
       "\n",
       "          </a></th>\n",
       "<td><span class=\"foobar\">Student</span></td>\n",
       "</tr>\n",
       "<tr class=\"student\">\n",
       "<th><a href=\"mailto:kyle@ga.co\">Kyle\n",
       "\n",
       "\n",
       "\n",
       "          </a></th>\n",
       "<td>Student</td>\n",
       "</tr>\n",
       "<tr class=\"student\">\n",
       "<th><a href=\"mailto:sam@ga.co\">Sam\n",
       "\n",
       "\n",
       "\n",
       "          </a></th>\n",
       "<td>Student</td>\n",
       "</tr>\n",
       "<tr class=\"student\">\n",
       "<th><a href=\"mailto:javier@ga.co\">Javier\n",
       "\n",
       "\n",
       "\n",
       "          </a></th>\n",
       "<td>Student</td>\n",
       "</tr>\n",
       "<tr class=\"student\">\n",
       "<th><a href=\"mailto:nengkuan@ga.co\">Nengkuan\n",
       "\n",
       "\n",
       "\n",
       "          </a></th>\n",
       "<td>Student</td>\n",
       "</tr>\n",
       "<tr class=\"student\">\n",
       "<th><a href=\"mailto:kieth@ga.co\">Kieth\n",
       "\n",
       "\n",
       "\n",
       "          </a></th>\n",
       "<td>Student</td>\n",
       "</tr>\n",
       "<tr class=\"student\">\n",
       "<th><a href=\"mailto:bola@ga.co\">Bola\n",
       "\n",
       "\n",
       "\n",
       "          </a></th>\n",
       "<td>Student</td>\n",
       "</tr>\n",
       "<tr class=\"student\">\n",
       "<th><a href=\"mailto:steve@ga.co\">Steve\n",
       "\n",
       "\n",
       "\n",
       "          </a></th>\n",
       "<td>Student</td>\n",
       "</tr>\n",
       "<tr class=\"student\">\n",
       "<th><a href=\"mailto:nichole@ga.co\">Nichole\n",
       "\n",
       "\n",
       "\n",
       "          </a></th>\n",
       "<td>Instructor</td>\n",
       "</tr>\n",
       "<tr class=\"student\">\n",
       "<th><a href=\"mailto:riley@ga.co\">Riley\n",
       "\n",
       "\n",
       "\n",
       "          </a></th>\n",
       "<td>Instructor</td>\n",
       "</tr>\n",
       "</tbody>\n",
       "</table>\n",
       "<footer>\n",
       "<p>Copyright 2017. All rights reserved</p>\n",
       "<ul>\n",
       "<li><a href=\"#\">Home</a></li>\n",
       "<li><a href=\"#\">About</a></li>\n",
       "<li><a href=\"#\">Contact</a></li>\n",
       "</ul>\n",
       "</footer>\n",
       "</body>\n",
       "</html>"
      ]
     },
     "execution_count": 246,
     "metadata": {},
     "output_type": "execute_result"
    }
   ],
   "source": [
    "soup"
   ]
  },
  {
   "cell_type": "markdown",
   "metadata": {},
   "source": [
    "# `soup.find()`\n",
    "\n",
    "Returns either:\n",
    "\n",
    "1. A soup object of the first match\n",
    "2. `None`"
   ]
  },
  {
   "cell_type": "code",
   "execution_count": 247,
   "metadata": {},
   "outputs": [
    {
     "data": {
      "text/plain": [
       "<h1 class=\"foobar\" id=\"title\">This is an h1</h1>"
      ]
     },
     "execution_count": 247,
     "metadata": {},
     "output_type": "execute_result"
    }
   ],
   "source": [
    "soup.find('h1')"
   ]
  },
  {
   "cell_type": "code",
   "execution_count": 248,
   "metadata": {},
   "outputs": [],
   "source": [
    "h1 = soup.find('h1')"
   ]
  },
  {
   "cell_type": "code",
   "execution_count": 249,
   "metadata": {},
   "outputs": [
    {
     "data": {
      "text/plain": [
       "bs4.element.Tag"
      ]
     },
     "execution_count": 249,
     "metadata": {},
     "output_type": "execute_result"
    }
   ],
   "source": [
    "type(h1)"
   ]
  },
  {
   "cell_type": "code",
   "execution_count": 250,
   "metadata": {},
   "outputs": [
    {
     "data": {
      "text/plain": [
       "'This is an h1'"
      ]
     },
     "execution_count": 250,
     "metadata": {},
     "output_type": "execute_result"
    }
   ],
   "source": [
    "h1.text"
   ]
  },
  {
   "cell_type": "code",
   "execution_count": 251,
   "metadata": {},
   "outputs": [
    {
     "data": {
      "text/plain": [
       "{'class': ['foobar'], 'id': 'title'}"
      ]
     },
     "execution_count": 251,
     "metadata": {},
     "output_type": "execute_result"
    }
   ],
   "source": [
    "h1.attrs"
   ]
  },
  {
   "cell_type": "code",
   "execution_count": 252,
   "metadata": {},
   "outputs": [
    {
     "name": "stdout",
     "output_type": "stream",
     "text": [
      "This is an h1\n"
     ]
    }
   ],
   "source": [
    "if h1:\n",
    "    print(h1.text)"
   ]
  },
  {
   "cell_type": "markdown",
   "metadata": {},
   "source": [
    "# `soup.find_all()`\n",
    "\n",
    "Returns a **_LIST_** of soup objects that match your query"
   ]
  },
  {
   "cell_type": "code",
   "execution_count": 253,
   "metadata": {},
   "outputs": [
    {
     "data": {
      "text/plain": [
       "[<h1 class=\"foobar\" id=\"title\">This is an h1</h1>,\n",
       " <h1 class=\"foobar\">This is yet another heading.</h1>]"
      ]
     },
     "execution_count": 253,
     "metadata": {},
     "output_type": "execute_result"
    }
   ],
   "source": [
    "soup.find_all('h1')"
   ]
  },
  {
   "cell_type": "code",
   "execution_count": 254,
   "metadata": {},
   "outputs": [],
   "source": [
    "h1_tags = soup.find_all('h1')"
   ]
  },
  {
   "cell_type": "code",
   "execution_count": 255,
   "metadata": {},
   "outputs": [
    {
     "data": {
      "text/plain": [
       "['This is an h1', 'This is yet another heading.']"
      ]
     },
     "execution_count": 255,
     "metadata": {},
     "output_type": "execute_result"
    }
   ],
   "source": [
    "[tag.text for tag in h1_tags]"
   ]
  },
  {
   "cell_type": "code",
   "execution_count": 256,
   "metadata": {},
   "outputs": [
    {
     "data": {
      "text/plain": [
       "[{'class': ['foobar'], 'id': 'title'}, {'class': ['foobar']}]"
      ]
     },
     "execution_count": 256,
     "metadata": {},
     "output_type": "execute_result"
    }
   ],
   "source": [
    "[tag.attrs for tag in h1_tags]"
   ]
  },
  {
   "cell_type": "markdown",
   "metadata": {},
   "source": [
    "# Creating a `pandas` DataFrame from a scrape"
   ]
  },
  {
   "cell_type": "code",
   "execution_count": 257,
   "metadata": {},
   "outputs": [
    {
     "data": {
      "text/html": [
       "<div>\n",
       "<style scoped>\n",
       "    .dataframe tbody tr th:only-of-type {\n",
       "        vertical-align: middle;\n",
       "    }\n",
       "\n",
       "    .dataframe tbody tr th {\n",
       "        vertical-align: top;\n",
       "    }\n",
       "\n",
       "    .dataframe thead th {\n",
       "        text-align: right;\n",
       "    }\n",
       "</style>\n",
       "<table border=\"1\" class=\"dataframe\">\n",
       "  <thead>\n",
       "    <tr style=\"text-align: right;\">\n",
       "      <th></th>\n",
       "      <th>name</th>\n",
       "      <th>market</th>\n",
       "    </tr>\n",
       "  </thead>\n",
       "  <tbody>\n",
       "    <tr>\n",
       "      <th>0</th>\n",
       "      <td>Bethany</td>\n",
       "      <td>BOS</td>\n",
       "    </tr>\n",
       "    <tr>\n",
       "      <th>1</th>\n",
       "      <td>Tucker</td>\n",
       "      <td>NYC</td>\n",
       "    </tr>\n",
       "  </tbody>\n",
       "</table>\n",
       "</div>"
      ],
      "text/plain": [
       "      name market\n",
       "0  Bethany    BOS\n",
       "1   Tucker    NYC"
      ]
     },
     "execution_count": 257,
     "metadata": {},
     "output_type": "execute_result"
    }
   ],
   "source": [
    "people = [\n",
    "    {'name': 'Bethany', 'market': 'BOS'},\n",
    "    {'name': 'Tucker', 'market': 'NYC'}\n",
    "]\n",
    "\n",
    "# list of dictionaries into dataframe \n",
    "pd.DataFrame(people)"
   ]
  },
  {
   "cell_type": "markdown",
   "metadata": {},
   "source": [
    "### Todo List"
   ]
  },
  {
   "cell_type": "code",
   "execution_count": 258,
   "metadata": {},
   "outputs": [],
   "source": [
    "ol = soup.find('ol', {'class': 'done'})\n",
    "\n",
    "# ol is also a soup object \n",
    "# because a subset of html is also a html \n",
    "\n"
   ]
  },
  {
   "cell_type": "code",
   "execution_count": 259,
   "metadata": {},
   "outputs": [
    {
     "data": {
      "text/plain": [
       "[<li>Mow lawn</li>,\n",
       " <li class=\"foobar\"><span>Take out compost</span></li>,\n",
       " <li><span>Create scraping lecture</span></li>]"
      ]
     },
     "execution_count": 259,
     "metadata": {},
     "output_type": "execute_result"
    }
   ],
   "source": [
    "ol.find_all('li')"
   ]
  },
  {
   "cell_type": "code",
   "execution_count": 260,
   "metadata": {},
   "outputs": [
    {
     "data": {
      "text/html": [
       "<div>\n",
       "<style scoped>\n",
       "    .dataframe tbody tr th:only-of-type {\n",
       "        vertical-align: middle;\n",
       "    }\n",
       "\n",
       "    .dataframe tbody tr th {\n",
       "        vertical-align: top;\n",
       "    }\n",
       "\n",
       "    .dataframe thead th {\n",
       "        text-align: right;\n",
       "    }\n",
       "</style>\n",
       "<table border=\"1\" class=\"dataframe\">\n",
       "  <thead>\n",
       "    <tr style=\"text-align: right;\">\n",
       "      <th></th>\n",
       "      <th>task</th>\n",
       "      <th>status</th>\n",
       "    </tr>\n",
       "  </thead>\n",
       "  <tbody>\n",
       "    <tr>\n",
       "      <th>0</th>\n",
       "      <td>Mow lawn</td>\n",
       "      <td>done</td>\n",
       "    </tr>\n",
       "    <tr>\n",
       "      <th>1</th>\n",
       "      <td>Take out compost</td>\n",
       "      <td>done</td>\n",
       "    </tr>\n",
       "    <tr>\n",
       "      <th>2</th>\n",
       "      <td>Create scraping lecture</td>\n",
       "      <td>done</td>\n",
       "    </tr>\n",
       "  </tbody>\n",
       "</table>\n",
       "</div>"
      ],
      "text/plain": [
       "                      task status\n",
       "0                 Mow lawn   done\n",
       "1         Take out compost   done\n",
       "2  Create scraping lecture   done"
      ]
     },
     "execution_count": 260,
     "metadata": {},
     "output_type": "execute_result"
    }
   ],
   "source": [
    "todos = []\n",
    "for li in ol.find_all('li'):\n",
    "    todo = {}\n",
    "    todo['task'] = li.text\n",
    "    todo['status'] = 'done'\n",
    "    todos.append(todo)\n",
    "pd.DataFrame(todos)"
   ]
  },
  {
   "cell_type": "code",
   "execution_count": 261,
   "metadata": {},
   "outputs": [
    {
     "data": {
      "text/plain": [
       "<ol class=\"todo\">\n",
       "<li class=\"foobar\">Take out trash</li>\n",
       "<li>Pay billz</li>\n",
       "<li class=\"foobar\">Feed dog</li>\n",
       "</ol>"
      ]
     },
     "execution_count": 261,
     "metadata": {},
     "output_type": "execute_result"
    }
   ],
   "source": [
    "notdone = soup.find('ol', {'class': 'todo'})\n",
    "notdone"
   ]
  },
  {
   "cell_type": "code",
   "execution_count": 262,
   "metadata": {},
   "outputs": [
    {
     "data": {
      "text/plain": [
       "[<li class=\"foobar\">Take out trash</li>,\n",
       " <li>Pay billz</li>,\n",
       " <li class=\"foobar\">Feed dog</li>]"
      ]
     },
     "execution_count": 262,
     "metadata": {},
     "output_type": "execute_result"
    }
   ],
   "source": [
    "notdone.find_all('li')"
   ]
  },
  {
   "cell_type": "code",
   "execution_count": 263,
   "metadata": {},
   "outputs": [
    {
     "data": {
      "text/plain": [
       "['Take out trash', 'Pay billz', 'Feed dog']"
      ]
     },
     "execution_count": 263,
     "metadata": {},
     "output_type": "execute_result"
    }
   ],
   "source": [
    "[col.text for col in notdone.find_all('li')]"
   ]
  },
  {
   "cell_type": "code",
   "execution_count": 264,
   "metadata": {},
   "outputs": [
    {
     "data": {
      "text/html": [
       "<div>\n",
       "<style scoped>\n",
       "    .dataframe tbody tr th:only-of-type {\n",
       "        vertical-align: middle;\n",
       "    }\n",
       "\n",
       "    .dataframe tbody tr th {\n",
       "        vertical-align: top;\n",
       "    }\n",
       "\n",
       "    .dataframe thead th {\n",
       "        text-align: right;\n",
       "    }\n",
       "</style>\n",
       "<table border=\"1\" class=\"dataframe\">\n",
       "  <thead>\n",
       "    <tr style=\"text-align: right;\">\n",
       "      <th></th>\n",
       "      <th>task</th>\n",
       "      <th>status</th>\n",
       "    </tr>\n",
       "  </thead>\n",
       "  <tbody>\n",
       "    <tr>\n",
       "      <th>0</th>\n",
       "      <td>Mow lawn</td>\n",
       "      <td>done</td>\n",
       "    </tr>\n",
       "    <tr>\n",
       "      <th>1</th>\n",
       "      <td>Take out compost</td>\n",
       "      <td>done</td>\n",
       "    </tr>\n",
       "    <tr>\n",
       "      <th>2</th>\n",
       "      <td>Create scraping lecture</td>\n",
       "      <td>done</td>\n",
       "    </tr>\n",
       "    <tr>\n",
       "      <th>3</th>\n",
       "      <td>Take out trash</td>\n",
       "      <td>notdone</td>\n",
       "    </tr>\n",
       "    <tr>\n",
       "      <th>4</th>\n",
       "      <td>Pay billz</td>\n",
       "      <td>notdone</td>\n",
       "    </tr>\n",
       "    <tr>\n",
       "      <th>5</th>\n",
       "      <td>Feed dog</td>\n",
       "      <td>notdone</td>\n",
       "    </tr>\n",
       "  </tbody>\n",
       "</table>\n",
       "</div>"
      ],
      "text/plain": [
       "                      task   status\n",
       "0                 Mow lawn     done\n",
       "1         Take out compost     done\n",
       "2  Create scraping lecture     done\n",
       "3           Take out trash  notdone\n",
       "4                Pay billz  notdone\n",
       "5                 Feed dog  notdone"
      ]
     },
     "execution_count": 264,
     "metadata": {},
     "output_type": "execute_result"
    }
   ],
   "source": [
    "for li in notdone.find_all('li'):\n",
    "    todo = {}\n",
    "    todo['task'] = li.text\n",
    "    todo['status'] = 'notdone'\n",
    "    todos.append(todo)\n",
    "pd.DataFrame(todos)"
   ]
  },
  {
   "cell_type": "markdown",
   "metadata": {},
   "source": [
    "### GA Directory"
   ]
  },
  {
   "cell_type": "code",
   "execution_count": 271,
   "metadata": {},
   "outputs": [],
   "source": [
    "tbl = soup.find('tbody')"
   ]
  },
  {
   "cell_type": "code",
   "execution_count": 275,
   "metadata": {},
   "outputs": [
    {
     "data": {
      "text/plain": [
       "'Praveen'"
      ]
     },
     "execution_count": 275,
     "metadata": {},
     "output_type": "execute_result"
    }
   ],
   "source": [
    "# name --> tbl.find('tr').find('a').text.strip()"
   ]
  },
  {
   "cell_type": "code",
   "execution_count": 285,
   "metadata": {},
   "outputs": [
    {
     "data": {
      "text/plain": [
       "'praveen@ga.co'"
      ]
     },
     "execution_count": 285,
     "metadata": {},
     "output_type": "execute_result"
    }
   ],
   "source": [
    "# email --> tbl.find('tr').find('a').attrs['href'][7:]"
   ]
  },
  {
   "cell_type": "code",
   "execution_count": 288,
   "metadata": {},
   "outputs": [
    {
     "data": {
      "text/plain": [
       "'Student'"
      ]
     },
     "execution_count": 288,
     "metadata": {},
     "output_type": "execute_result"
    }
   ],
   "source": [
    "# role --> tbl.find('tr').find('td').text"
   ]
  },
  {
   "cell_type": "code",
   "execution_count": 292,
   "metadata": {},
   "outputs": [
    {
     "data": {
      "text/html": [
       "<div>\n",
       "<style scoped>\n",
       "    .dataframe tbody tr th:only-of-type {\n",
       "        vertical-align: middle;\n",
       "    }\n",
       "\n",
       "    .dataframe tbody tr th {\n",
       "        vertical-align: top;\n",
       "    }\n",
       "\n",
       "    .dataframe thead th {\n",
       "        text-align: right;\n",
       "    }\n",
       "</style>\n",
       "<table border=\"1\" class=\"dataframe\">\n",
       "  <thead>\n",
       "    <tr style=\"text-align: right;\">\n",
       "      <th></th>\n",
       "      <th>name</th>\n",
       "      <th>email</th>\n",
       "      <th>role</th>\n",
       "    </tr>\n",
       "  </thead>\n",
       "  <tbody>\n",
       "    <tr>\n",
       "      <th>0</th>\n",
       "      <td>Praveen</td>\n",
       "      <td>praveen@ga.co</td>\n",
       "      <td>Student</td>\n",
       "    </tr>\n",
       "    <tr>\n",
       "      <th>1</th>\n",
       "      <td>Fred</td>\n",
       "      <td>fred@ga.co</td>\n",
       "      <td>Student</td>\n",
       "    </tr>\n",
       "    <tr>\n",
       "      <th>2</th>\n",
       "      <td>Homer</td>\n",
       "      <td>homer@ga.co</td>\n",
       "      <td>Student</td>\n",
       "    </tr>\n",
       "    <tr>\n",
       "      <th>3</th>\n",
       "      <td>Kyle</td>\n",
       "      <td>kyle@ga.co</td>\n",
       "      <td>Student</td>\n",
       "    </tr>\n",
       "    <tr>\n",
       "      <th>4</th>\n",
       "      <td>Sam</td>\n",
       "      <td>sam@ga.co</td>\n",
       "      <td>Student</td>\n",
       "    </tr>\n",
       "    <tr>\n",
       "      <th>5</th>\n",
       "      <td>Javier</td>\n",
       "      <td>javier@ga.co</td>\n",
       "      <td>Student</td>\n",
       "    </tr>\n",
       "    <tr>\n",
       "      <th>6</th>\n",
       "      <td>Nengkuan</td>\n",
       "      <td>nengkuan@ga.co</td>\n",
       "      <td>Student</td>\n",
       "    </tr>\n",
       "    <tr>\n",
       "      <th>7</th>\n",
       "      <td>Kieth</td>\n",
       "      <td>kieth@ga.co</td>\n",
       "      <td>Student</td>\n",
       "    </tr>\n",
       "    <tr>\n",
       "      <th>8</th>\n",
       "      <td>Bola</td>\n",
       "      <td>bola@ga.co</td>\n",
       "      <td>Student</td>\n",
       "    </tr>\n",
       "    <tr>\n",
       "      <th>9</th>\n",
       "      <td>Steve</td>\n",
       "      <td>steve@ga.co</td>\n",
       "      <td>Student</td>\n",
       "    </tr>\n",
       "    <tr>\n",
       "      <th>10</th>\n",
       "      <td>Nichole</td>\n",
       "      <td>nichole@ga.co</td>\n",
       "      <td>Instructor</td>\n",
       "    </tr>\n",
       "    <tr>\n",
       "      <th>11</th>\n",
       "      <td>Riley</td>\n",
       "      <td>riley@ga.co</td>\n",
       "      <td>Instructor</td>\n",
       "    </tr>\n",
       "  </tbody>\n",
       "</table>\n",
       "</div>"
      ],
      "text/plain": [
       "        name           email        role\n",
       "0    Praveen   praveen@ga.co     Student\n",
       "1       Fred      fred@ga.co     Student\n",
       "2      Homer     homer@ga.co     Student\n",
       "3       Kyle      kyle@ga.co     Student\n",
       "4        Sam       sam@ga.co     Student\n",
       "5     Javier    javier@ga.co     Student\n",
       "6   Nengkuan  nengkuan@ga.co     Student\n",
       "7      Kieth     kieth@ga.co     Student\n",
       "8       Bola      bola@ga.co     Student\n",
       "9      Steve     steve@ga.co     Student\n",
       "10   Nichole   nichole@ga.co  Instructor\n",
       "11     Riley     riley@ga.co  Instructor"
      ]
     },
     "execution_count": 292,
     "metadata": {},
     "output_type": "execute_result"
    }
   ],
   "source": [
    "person_empty = []\n",
    "for row in tbl.find_all('tr'):\n",
    "    person_dict = {}\n",
    "    person_dict['name'] = row.find('a').text.strip()\n",
    "    person_dict['email'] = row.find('a').attrs['href'][7:]\n",
    "    person_dict['role'] = row.find('td').text\n",
    "    person_empty.append(person_dict)\n",
    "\n",
    "pd.DataFrame(person_empty)"
   ]
  },
  {
   "cell_type": "code",
   "execution_count": null,
   "metadata": {},
   "outputs": [
    {
     "data": {
      "text/html": [
       "<div>\n",
       "<style scoped>\n",
       "    .dataframe tbody tr th:only-of-type {\n",
       "        vertical-align: middle;\n",
       "    }\n",
       "\n",
       "    .dataframe tbody tr th {\n",
       "        vertical-align: top;\n",
       "    }\n",
       "\n",
       "    .dataframe thead th {\n",
       "        text-align: right;\n",
       "    }\n",
       "</style>\n",
       "<table border=\"1\" class=\"dataframe\">\n",
       "  <thead>\n",
       "    <tr style=\"text-align: right;\">\n",
       "      <th></th>\n",
       "      <th>name</th>\n",
       "      <th>email</th>\n",
       "      <th>role</th>\n",
       "    </tr>\n",
       "  </thead>\n",
       "  <tbody>\n",
       "    <tr>\n",
       "      <th>0</th>\n",
       "      <td>Praveen</td>\n",
       "      <td>praveen@ga.co</td>\n",
       "      <td>Student</td>\n",
       "    </tr>\n",
       "    <tr>\n",
       "      <th>1</th>\n",
       "      <td>Fred</td>\n",
       "      <td>fred@ga.co</td>\n",
       "      <td>Student</td>\n",
       "    </tr>\n",
       "    <tr>\n",
       "      <th>2</th>\n",
       "      <td>Homer</td>\n",
       "      <td>homer@ga.co</td>\n",
       "      <td>Student</td>\n",
       "    </tr>\n",
       "    <tr>\n",
       "      <th>3</th>\n",
       "      <td>Kyle</td>\n",
       "      <td>kyle@ga.co</td>\n",
       "      <td>Student</td>\n",
       "    </tr>\n",
       "    <tr>\n",
       "      <th>4</th>\n",
       "      <td>Sam</td>\n",
       "      <td>sam@ga.co</td>\n",
       "      <td>Student</td>\n",
       "    </tr>\n",
       "    <tr>\n",
       "      <th>5</th>\n",
       "      <td>Javier</td>\n",
       "      <td>javier@ga.co</td>\n",
       "      <td>Student</td>\n",
       "    </tr>\n",
       "    <tr>\n",
       "      <th>6</th>\n",
       "      <td>Nengkuan</td>\n",
       "      <td>nengkuan@ga.co</td>\n",
       "      <td>Student</td>\n",
       "    </tr>\n",
       "    <tr>\n",
       "      <th>7</th>\n",
       "      <td>Kieth</td>\n",
       "      <td>kieth@ga.co</td>\n",
       "      <td>Student</td>\n",
       "    </tr>\n",
       "    <tr>\n",
       "      <th>8</th>\n",
       "      <td>Bola</td>\n",
       "      <td>bola@ga.co</td>\n",
       "      <td>Student</td>\n",
       "    </tr>\n",
       "    <tr>\n",
       "      <th>9</th>\n",
       "      <td>Steve</td>\n",
       "      <td>steve@ga.co</td>\n",
       "      <td>Student</td>\n",
       "    </tr>\n",
       "    <tr>\n",
       "      <th>10</th>\n",
       "      <td>Nichole</td>\n",
       "      <td>nichole@ga.co</td>\n",
       "      <td>Instructor</td>\n",
       "    </tr>\n",
       "    <tr>\n",
       "      <th>11</th>\n",
       "      <td>Riley</td>\n",
       "      <td>riley@ga.co</td>\n",
       "      <td>Instructor</td>\n",
       "    </tr>\n",
       "  </tbody>\n",
       "</table>\n",
       "</div>"
      ],
      "text/plain": [
       "        name           email        role\n",
       "0    Praveen   praveen@ga.co     Student\n",
       "1       Fred      fred@ga.co     Student\n",
       "2      Homer     homer@ga.co     Student\n",
       "3       Kyle      kyle@ga.co     Student\n",
       "4        Sam       sam@ga.co     Student\n",
       "5     Javier    javier@ga.co     Student\n",
       "6   Nengkuan  nengkuan@ga.co     Student\n",
       "7      Kieth     kieth@ga.co     Student\n",
       "8       Bola      bola@ga.co     Student\n",
       "9      Steve     steve@ga.co     Student\n",
       "10   Nichole   nichole@ga.co  Instructor\n",
       "11     Riley     riley@ga.co  Instructor"
      ]
     },
     "execution_count": 205,
     "metadata": {},
     "output_type": "execute_result"
    }
   ],
   "source": [
    "people = []\n",
    "for row in table.find('tbody').find_all('tr'):\n",
    "    person = {}\n",
    "    person['name'] = row.find('a').text.strip()\n",
    "    person['email'] = row.find('a').attrs['href'].replace('mailto:', '')\n",
    "    person['role'] = row.find('td').text.strip()\n",
    "    \n",
    "    people.append(person)\n",
    "pd.DataFrame(people)"
   ]
  },
  {
   "cell_type": "markdown",
   "metadata": {},
   "source": [
    "### Basketball Reference"
   ]
  },
  {
   "cell_type": "code",
   "execution_count": null,
   "metadata": {},
   "outputs": [],
   "source": [
    "url = 'https://www.basketball-reference.com/'\n",
    "res = requests.get(url)\n",
    "res.status_code\n",
    "\n",
    "soup = BeautifulSoup(res.content, 'lxml')"
   ]
  },
  {
   "cell_type": "code",
   "execution_count": null,
   "metadata": {},
   "outputs": [
    {
     "data": {
      "text/html": [
       "<div>\n",
       "<style scoped>\n",
       "    .dataframe tbody tr th:only-of-type {\n",
       "        vertical-align: middle;\n",
       "    }\n",
       "\n",
       "    .dataframe tbody tr th {\n",
       "        vertical-align: top;\n",
       "    }\n",
       "\n",
       "    .dataframe thead th {\n",
       "        text-align: right;\n",
       "    }\n",
       "</style>\n",
       "<table border=\"1\" class=\"dataframe\">\n",
       "  <thead>\n",
       "    <tr style=\"text-align: right;\">\n",
       "      <th></th>\n",
       "      <th>slug</th>\n",
       "      <th>name</th>\n",
       "      <th>wins</th>\n",
       "      <th>losses</th>\n",
       "      <th>rank</th>\n",
       "      <th>conference</th>\n",
       "    </tr>\n",
       "  </thead>\n",
       "  <tbody>\n",
       "    <tr>\n",
       "      <th>0</th>\n",
       "      <td>MIA</td>\n",
       "      <td>Miami Heat</td>\n",
       "      <td>47</td>\n",
       "      <td>24</td>\n",
       "      <td>1</td>\n",
       "      <td>E</td>\n",
       "    </tr>\n",
       "    <tr>\n",
       "      <th>1</th>\n",
       "      <td>PHI</td>\n",
       "      <td>Philadelphia 76ers</td>\n",
       "      <td>43</td>\n",
       "      <td>26</td>\n",
       "      <td>2</td>\n",
       "      <td>E</td>\n",
       "    </tr>\n",
       "    <tr>\n",
       "      <th>2</th>\n",
       "      <td>MIL</td>\n",
       "      <td>Milwaukee Bucks</td>\n",
       "      <td>44</td>\n",
       "      <td>27</td>\n",
       "      <td>3</td>\n",
       "      <td>E</td>\n",
       "    </tr>\n",
       "    <tr>\n",
       "      <th>3</th>\n",
       "      <td>BOS</td>\n",
       "      <td>Boston Celtics</td>\n",
       "      <td>43</td>\n",
       "      <td>28</td>\n",
       "      <td>4</td>\n",
       "      <td>E</td>\n",
       "    </tr>\n",
       "    <tr>\n",
       "      <th>4</th>\n",
       "      <td>CHI</td>\n",
       "      <td>Chicago Bulls</td>\n",
       "      <td>41</td>\n",
       "      <td>29</td>\n",
       "      <td>5</td>\n",
       "      <td>E</td>\n",
       "    </tr>\n",
       "    <tr>\n",
       "      <th>5</th>\n",
       "      <td>CLE</td>\n",
       "      <td>Cleveland Cavaliers</td>\n",
       "      <td>41</td>\n",
       "      <td>30</td>\n",
       "      <td>6</td>\n",
       "      <td>E</td>\n",
       "    </tr>\n",
       "    <tr>\n",
       "      <th>6</th>\n",
       "      <td>TOR</td>\n",
       "      <td>Toronto Raptors</td>\n",
       "      <td>39</td>\n",
       "      <td>31</td>\n",
       "      <td>7</td>\n",
       "      <td>E</td>\n",
       "    </tr>\n",
       "    <tr>\n",
       "      <th>7</th>\n",
       "      <td>BRK</td>\n",
       "      <td>Brooklyn Nets</td>\n",
       "      <td>37</td>\n",
       "      <td>34</td>\n",
       "      <td>8</td>\n",
       "      <td>E</td>\n",
       "    </tr>\n",
       "    <tr>\n",
       "      <th>8</th>\n",
       "      <td>CHO</td>\n",
       "      <td>Charlotte Hornets</td>\n",
       "      <td>36</td>\n",
       "      <td>35</td>\n",
       "      <td>9</td>\n",
       "      <td>E</td>\n",
       "    </tr>\n",
       "    <tr>\n",
       "      <th>9</th>\n",
       "      <td>ATL</td>\n",
       "      <td>Atlanta Hawks</td>\n",
       "      <td>35</td>\n",
       "      <td>35</td>\n",
       "      <td>10</td>\n",
       "      <td>E</td>\n",
       "    </tr>\n",
       "    <tr>\n",
       "      <th>10</th>\n",
       "      <td>WAS</td>\n",
       "      <td>Washington Wizards</td>\n",
       "      <td>30</td>\n",
       "      <td>40</td>\n",
       "      <td>11</td>\n",
       "      <td>E</td>\n",
       "    </tr>\n",
       "    <tr>\n",
       "      <th>11</th>\n",
       "      <td>NYK</td>\n",
       "      <td>New York Knicks</td>\n",
       "      <td>30</td>\n",
       "      <td>40</td>\n",
       "      <td>12</td>\n",
       "      <td>E</td>\n",
       "    </tr>\n",
       "    <tr>\n",
       "      <th>12</th>\n",
       "      <td>IND</td>\n",
       "      <td>Indiana Pacers</td>\n",
       "      <td>24</td>\n",
       "      <td>47</td>\n",
       "      <td>13</td>\n",
       "      <td>E</td>\n",
       "    </tr>\n",
       "    <tr>\n",
       "      <th>13</th>\n",
       "      <td>DET</td>\n",
       "      <td>Detroit Pistons</td>\n",
       "      <td>19</td>\n",
       "      <td>52</td>\n",
       "      <td>14</td>\n",
       "      <td>E</td>\n",
       "    </tr>\n",
       "    <tr>\n",
       "      <th>14</th>\n",
       "      <td>ORL</td>\n",
       "      <td>Orlando Magic</td>\n",
       "      <td>18</td>\n",
       "      <td>53</td>\n",
       "      <td>15</td>\n",
       "      <td>E</td>\n",
       "    </tr>\n",
       "    <tr>\n",
       "      <th>15</th>\n",
       "      <td>PHO</td>\n",
       "      <td>Phoenix Suns</td>\n",
       "      <td>57</td>\n",
       "      <td>14</td>\n",
       "      <td>1</td>\n",
       "      <td>W</td>\n",
       "    </tr>\n",
       "    <tr>\n",
       "      <th>16</th>\n",
       "      <td>MEM</td>\n",
       "      <td>Memphis Grizzlies</td>\n",
       "      <td>48</td>\n",
       "      <td>23</td>\n",
       "      <td>2</td>\n",
       "      <td>W</td>\n",
       "    </tr>\n",
       "    <tr>\n",
       "      <th>17</th>\n",
       "      <td>GSW</td>\n",
       "      <td>Golden State Warriors</td>\n",
       "      <td>47</td>\n",
       "      <td>23</td>\n",
       "      <td>3</td>\n",
       "      <td>W</td>\n",
       "    </tr>\n",
       "    <tr>\n",
       "      <th>18</th>\n",
       "      <td>UTA</td>\n",
       "      <td>Utah Jazz</td>\n",
       "      <td>44</td>\n",
       "      <td>26</td>\n",
       "      <td>4</td>\n",
       "      <td>W</td>\n",
       "    </tr>\n",
       "    <tr>\n",
       "      <th>19</th>\n",
       "      <td>DAL</td>\n",
       "      <td>Dallas Mavericks</td>\n",
       "      <td>43</td>\n",
       "      <td>28</td>\n",
       "      <td>5</td>\n",
       "      <td>W</td>\n",
       "    </tr>\n",
       "    <tr>\n",
       "      <th>20</th>\n",
       "      <td>DEN</td>\n",
       "      <td>Denver Nuggets</td>\n",
       "      <td>42</td>\n",
       "      <td>29</td>\n",
       "      <td>6</td>\n",
       "      <td>W</td>\n",
       "    </tr>\n",
       "    <tr>\n",
       "      <th>21</th>\n",
       "      <td>MIN</td>\n",
       "      <td>Minnesota Timberwolves</td>\n",
       "      <td>42</td>\n",
       "      <td>30</td>\n",
       "      <td>7</td>\n",
       "      <td>W</td>\n",
       "    </tr>\n",
       "    <tr>\n",
       "      <th>22</th>\n",
       "      <td>LAC</td>\n",
       "      <td>Los Angeles Clippers</td>\n",
       "      <td>36</td>\n",
       "      <td>37</td>\n",
       "      <td>8</td>\n",
       "      <td>W</td>\n",
       "    </tr>\n",
       "    <tr>\n",
       "      <th>23</th>\n",
       "      <td>LAL</td>\n",
       "      <td>Los Angeles Lakers</td>\n",
       "      <td>30</td>\n",
       "      <td>41</td>\n",
       "      <td>9</td>\n",
       "      <td>W</td>\n",
       "    </tr>\n",
       "    <tr>\n",
       "      <th>24</th>\n",
       "      <td>NOP</td>\n",
       "      <td>New Orleans Pelicans</td>\n",
       "      <td>29</td>\n",
       "      <td>41</td>\n",
       "      <td>10</td>\n",
       "      <td>W</td>\n",
       "    </tr>\n",
       "    <tr>\n",
       "      <th>25</th>\n",
       "      <td>SAS</td>\n",
       "      <td>San Antonio Spurs</td>\n",
       "      <td>27</td>\n",
       "      <td>44</td>\n",
       "      <td>11</td>\n",
       "      <td>W</td>\n",
       "    </tr>\n",
       "    <tr>\n",
       "      <th>26</th>\n",
       "      <td>POR</td>\n",
       "      <td>Portland Trail Blazers</td>\n",
       "      <td>26</td>\n",
       "      <td>43</td>\n",
       "      <td>12</td>\n",
       "      <td>W</td>\n",
       "    </tr>\n",
       "    <tr>\n",
       "      <th>27</th>\n",
       "      <td>SAC</td>\n",
       "      <td>Sacramento Kings</td>\n",
       "      <td>25</td>\n",
       "      <td>47</td>\n",
       "      <td>13</td>\n",
       "      <td>W</td>\n",
       "    </tr>\n",
       "    <tr>\n",
       "      <th>28</th>\n",
       "      <td>OKC</td>\n",
       "      <td>Oklahoma City Thunder</td>\n",
       "      <td>20</td>\n",
       "      <td>50</td>\n",
       "      <td>14</td>\n",
       "      <td>W</td>\n",
       "    </tr>\n",
       "    <tr>\n",
       "      <th>29</th>\n",
       "      <td>HOU</td>\n",
       "      <td>Houston Rockets</td>\n",
       "      <td>17</td>\n",
       "      <td>53</td>\n",
       "      <td>15</td>\n",
       "      <td>W</td>\n",
       "    </tr>\n",
       "  </tbody>\n",
       "</table>\n",
       "</div>"
      ],
      "text/plain": [
       "   slug                    name wins losses rank conference\n",
       "0   MIA              Miami Heat   47     24    1          E\n",
       "1   PHI      Philadelphia 76ers   43     26    2          E\n",
       "2   MIL         Milwaukee Bucks   44     27    3          E\n",
       "3   BOS          Boston Celtics   43     28    4          E\n",
       "4   CHI           Chicago Bulls   41     29    5          E\n",
       "5   CLE     Cleveland Cavaliers   41     30    6          E\n",
       "6   TOR         Toronto Raptors   39     31    7          E\n",
       "7   BRK           Brooklyn Nets   37     34    8          E\n",
       "8   CHO       Charlotte Hornets   36     35    9          E\n",
       "9   ATL           Atlanta Hawks   35     35   10          E\n",
       "10  WAS      Washington Wizards   30     40   11          E\n",
       "11  NYK         New York Knicks   30     40   12          E\n",
       "12  IND          Indiana Pacers   24     47   13          E\n",
       "13  DET         Detroit Pistons   19     52   14          E\n",
       "14  ORL           Orlando Magic   18     53   15          E\n",
       "15  PHO            Phoenix Suns   57     14    1          W\n",
       "16  MEM       Memphis Grizzlies   48     23    2          W\n",
       "17  GSW   Golden State Warriors   47     23    3          W\n",
       "18  UTA               Utah Jazz   44     26    4          W\n",
       "19  DAL        Dallas Mavericks   43     28    5          W\n",
       "20  DEN          Denver Nuggets   42     29    6          W\n",
       "21  MIN  Minnesota Timberwolves   42     30    7          W\n",
       "22  LAC    Los Angeles Clippers   36     37    8          W\n",
       "23  LAL      Los Angeles Lakers   30     41    9          W\n",
       "24  NOP    New Orleans Pelicans   29     41   10          W\n",
       "25  SAS       San Antonio Spurs   27     44   11          W\n",
       "26  POR  Portland Trail Blazers   26     43   12          W\n",
       "27  SAC        Sacramento Kings   25     47   13          W\n",
       "28  OKC   Oklahoma City Thunder   20     50   14          W\n",
       "29  HOU         Houston Rockets   17     53   15          W"
      ]
     },
     "execution_count": 207,
     "metadata": {},
     "output_type": "execute_result"
    }
   ],
   "source": [
    "teams = []\n",
    "for conf in ['E', 'W']:\n",
    "    table = soup.find('table', {'id': 'confs_standings_'+conf})\n",
    "    for row in table.find('tbody').find_all('tr'):\n",
    "        team = {}\n",
    "        team['slug'] = row.find('a').text\n",
    "        team['name'] = row.find('a').attrs['title']\n",
    "        team['wins'] = row.find_all('td')[2].text\n",
    "        team['wins'] = row.find('td', {'data-stat': 'wins'}).text\n",
    "        team['losses'] = row.find('td', {'data-stat': 'losses'}).text\n",
    "        team['rank'] = row.find('span').text.strip()[1:-1]\n",
    "        team['conference'] = conf\n",
    "\n",
    "        teams.append(team)\n",
    "df = pd.DataFrame(teams)\n",
    "df"
   ]
  },
  {
   "cell_type": "code",
   "execution_count": null,
   "metadata": {},
   "outputs": [
    {
     "data": {
      "text/plain": [
       "slug          object\n",
       "name          object\n",
       "wins          object\n",
       "losses        object\n",
       "rank          object\n",
       "conference    object\n",
       "dtype: object"
      ]
     },
     "execution_count": 208,
     "metadata": {},
     "output_type": "execute_result"
    }
   ],
   "source": [
    "df.dtypes"
   ]
  }
 ],
 "metadata": {
  "kernelspec": {
   "display_name": "Python 3",
   "language": "python",
   "name": "python3"
  },
  "language_info": {
   "codemirror_mode": {
    "name": "ipython",
    "version": 3
   },
   "file_extension": ".py",
   "mimetype": "text/x-python",
   "name": "python",
   "nbconvert_exporter": "python",
   "pygments_lexer": "ipython3",
   "version": "3.8.8"
  }
 },
 "nbformat": 4,
 "nbformat_minor": 2
}
