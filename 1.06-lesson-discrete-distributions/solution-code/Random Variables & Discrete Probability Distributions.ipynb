{
 "cells": [
  {
   "cell_type": "markdown",
   "metadata": {},
   "source": [
    "<img src=\"https://ga-dash.s3.amazonaws.com/production/assets/logo-9f88ae6c9c3871690e33280fcf557f33.png\" style=\"float: left; margin: 15px;\">\n",
    "\n",
    "## Random Variables & Discrete Probability Distributions\n",
    "\n",
    "\n"
   ]
  },
  {
   "cell_type": "markdown",
   "metadata": {},
   "source": [
    "### LEARNING OBJECTIVES\n",
    "By the end of this lesson, students should be able to:\n",
    "- Define distribution and random variable.\n",
    "- Describe the difference between discrete and continuous random variables.\n",
    "- Understand the difference between probability mass functions and cumulative distribution functions.\n",
    "- Give examples of the following distributions: Discrete Uniform, Bernoulli, Binomial, and Poisson."
   ]
  },
  {
   "cell_type": "markdown",
   "metadata": {},
   "source": [
    "## Definitions\n",
    "\n",
    "---\n",
    "\n",
    "An **experiment** is an infinitely-repeatable procedure with a [well-defined](https://en.wikipedia.org/wiki/Well-defined) set of outcomes.\n",
    "- I flip a coin twice.\n",
    "- I roll a die once.\n",
    "\n",
    "The **sample space** for a given experiment is the set of all possible outcomes of that experiment.\n",
    "- I flip a coin twice: $\\{\\{H,H\\}, \\{T,H\\}, \\{H,T\\}, \\{T,T\\}\\}$\n",
    "- I roll a die once: $\\{1, 2, 3, 4, 5, 6\\}$\n",
    "\n",
    "A **random variable** is a function from a sample space $S$ to the real numbers.\n",
    "- Let $X$ be the number of heads I observe. Then, $X$ can take on the values 0, 1, or 2.\n",
    "- I roll a die **once**. Then, $Y$ can take on the values 1, 2, 3, 4, 5, 6.\n",
    "\n",
    "There are two categories of random variables: **discrete random variables** and **continuous random variables**.\n",
    "\n",
    "### Discrete random variables\n",
    "\n",
    "Discrete random variables have outcomes which are \"countable\". The two examples of random variables used above are discrete because I can list out all values of the random variable.\n",
    "\n",
    "The number of heads in a series of coin flips, for example, or the number of aces drawn in a series of hands from a deck of cards. Each discrete outcome has an associated probability of occurring.\n",
    "\n",
    "For discrete random variables, the distribution of the probabilities of each outcome is called the **probability mass function (pmf)**.\n",
    "\n",
    "### Continuous random variables\n",
    "\n",
    "Continuous random variables, on the other hand, have outcomes which are not countable. Say, for example, $T$ is a random variable representing the temperature at noon. There are not exact temperature outcomes with associated probabilities of occurrence – the number of outcomes is infinite. The probabilities of _ranges of values_ are calculated as areas under the **probability density function (pdf)**, which is the probability function associated with continuous variables.\n",
    "\n",
    "## Recap\n",
    "1. We first run an experiment.\n",
    "2. We then observe results of the experiment.\n",
    "3. Our random variable $X$ will map the results of the experiment to a real number.\n",
    "4. We will then study the **distribution** of $X$.\n",
    "\n",
    "**Check:** What is a distribution?"
   ]
  },
  {
   "cell_type": "markdown",
   "metadata": {},
   "source": [
    "### Importing libraries\n",
    "\n",
    "For this lecture, we'll need to import the following libraries:\n",
    "- `numpy`, which we'll alias as `np`\n",
    "- `matplotlib.pyplot`, which we'll alias as `plt`\n",
    "- `scipy.stats`, which we'll alias as `stats`"
   ]
  },
  {
   "cell_type": "code",
   "execution_count": 2,
   "metadata": {},
   "outputs": [],
   "source": [
    "import numpy as np\n",
    "import matplotlib.pyplot as plt\n",
    "import scipy.stats as stats"
   ]
  },
  {
   "cell_type": "markdown",
   "metadata": {},
   "source": [
    "# Discrete Distributions!\n",
    "\n",
    "## The discrete uniform distribution\n",
    "\n",
    "---\n",
    "\n",
    "**Example**: I roll a fair die once. What is the distribution of outcomes?\n",
    "\n",
    "The **discrete uniform distribution** is used when we have a **discrete set of outcomes** and **each outcome is equally likely**.\n",
    "\n",
    "For example, imagine we roll a fair die. The outcome of rolling the die is represented by a random variable $X$, which can take on values 1 through 6.\n",
    "\n",
    "The probability mass function $f$ over the six possible outcomes $x$, each with an associated probability $p$, is defined as:\n",
    "\n",
    "$$  f(x|p) =\n",
    "    \\begin{cases}\n",
    "    1/6 & \\text{for }x=1 \\\\ \n",
    "    1/6 & \\text{for }x=2 \\\\\n",
    "    1/6 & \\text{for }x=3 \\\\\n",
    "    1/6 & \\text{for }x=4 \\\\\n",
    "    1/6 & \\text{for }x=5 \\\\\n",
    "    1/6 & \\text{for }x=6 \\\\\n",
    "    0 & \\text{elsewhere } \\\\\n",
    "    \\end{cases}\n",
    "$$\n",
    "\n",
    "This is an example of the **discrete uniform distribution** because all of the outcomes have the same probability. \n",
    "\n",
    "If you plot the probability mass function (often abbreviated $pmf$), you can see that the probability histogram is uniform (flat)."
   ]
  },
  {
   "cell_type": "markdown",
   "metadata": {},
   "source": [
    "# [lesson]\n",
    "\n",
    "1) subset of integer values \n",
    "\n",
    "2) characterised by total outcomes "
   ]
  },
  {
   "cell_type": "code",
   "execution_count": 3,
   "metadata": {},
   "outputs": [
    {
     "data": {
      "image/png": "[encoded data removed]",
      "text/plain": [
       "<Figure size 432x288 with 1 Axes>"
      ]
     },
     "metadata": {
      "needs_background": "light"
     },
     "output_type": "display_data"
    }
   ],
   "source": [
    "die_sides = list(range(1,7))\n",
    "die_probs = [1/6] * 6\n",
    "\n",
    "plt.bar(die_sides, die_probs)\n",
    "plt.xticks(die_sides);"
   ]
  },
  {
   "cell_type": "markdown",
   "metadata": {},
   "source": [
    "#### The cumulative distribution function (CDF)\n",
    "\n",
    "Continuing with the die example, we can also plot out the **cumulative probability** of our six outcomes. This is known as the **cumulative distribution function** (often abbreviated $cdf$). We can get this by starting at the minimum possible outcome, then add the probability of each outcome. Thus, each point on a cumulative distribution function represents the probability that a random variable is less than or equal to that value.\n",
    "\n",
    "In a formula, if the $pmf$ is given by $f(x) = P(X = x)$, we write the $cdf$ as $F(x) = P(X \\leq x)$."
   ]
  },
  {
   "cell_type": "code",
   "execution_count": 4,
   "metadata": {},
   "outputs": [
    {
     "data": {
      "text/plain": [
       "array([ 1,  3,  6, 10], dtype=int32)"
      ]
     },
     "execution_count": 4,
     "metadata": {},
     "output_type": "execute_result"
    }
   ],
   "source": [
    "# np cumulative sum example\n",
    "np.cumsum([1, 2, 3, 4])"
   ]
  },
  {
   "cell_type": "code",
   "execution_count": 5,
   "metadata": {},
   "outputs": [
    {
     "data": {
      "image/png": "[encoded data removed]",
      "text/plain": [
       "<Figure size 432x288 with 1 Axes>"
      ]
     },
     "metadata": {
      "needs_background": "light"
     },
     "output_type": "display_data"
    }
   ],
   "source": [
    "plt.step(die_sides,\n",
    "         np.cumsum(die_probs))\n",
    "plt.xticks(die_sides);"
   ]
  },
  {
   "cell_type": "markdown",
   "metadata": {},
   "source": [
    "We can simultaneously visualize the probability density/mass function and the cumulative distribution function [here](http://students.brown.edu/seeing-theory/)."
   ]
  },
  {
   "cell_type": "markdown",
   "metadata": {},
   "source": [
    "### Practice: Deck of cards\n",
    "---\n",
    "\n",
    "A deck of cards contains the values Ace-King. How would we represent these as a random variable (**remember, each value needs to map to the number line**)?\n",
    "\n",
    "Plot the probability mass function (pmf) of drawing a single value (Ace-King) from a fair deck."
   ]
  },
  {
   "cell_type": "code",
   "execution_count": 6,
   "metadata": {
    "scrolled": true
   },
   "outputs": [
    {
     "data": {
      "image/png": "[encoded data removed]",
      "text/plain": [
       "<Figure size 432x288 with 1 Axes>"
      ]
     },
     "metadata": {
      "needs_background": "light"
     },
     "output_type": "display_data"
    }
   ],
   "source": [
    "card_values = list(range(1,14))\n",
    "card_probs = [1/13] * 13\n",
    "\n",
    "plt.bar(card_values, card_probs)\n",
    "plt.xticks(card_values);"
   ]
  },
  {
   "cell_type": "code",
   "execution_count": 7,
   "metadata": {},
   "outputs": [
    {
     "data": {
      "text/plain": [
       "[0.07692307692307693,\n",
       " 0.07692307692307693,\n",
       " 0.07692307692307693,\n",
       " 0.07692307692307693,\n",
       " 0.07692307692307693,\n",
       " 0.07692307692307693,\n",
       " 0.07692307692307693,\n",
       " 0.07692307692307693,\n",
       " 0.07692307692307693,\n",
       " 0.07692307692307693,\n",
       " 0.07692307692307693,\n",
       " 0.07692307692307693,\n",
       " 0.07692307692307693]"
      ]
     },
     "execution_count": 7,
     "metadata": {},
     "output_type": "execute_result"
    }
   ],
   "source": [
    "card_probs"
   ]
  },
  {
   "cell_type": "markdown",
   "metadata": {},
   "source": [
    "What is the probability of drawing a 6 or less (assume Ace is low)?"
   ]
  },
  {
   "cell_type": "code",
   "execution_count": 7,
   "metadata": {
    "scrolled": true
   },
   "outputs": [
    {
     "data": {
      "text/plain": [
       "0.46153846153846156"
      ]
     },
     "execution_count": 7,
     "metadata": {},
     "output_type": "execute_result"
    }
   ],
   "source": [
    "np.cumsum(card_probs)[5]"
   ]
  },
  {
   "cell_type": "code",
   "execution_count": null,
   "metadata": {},
   "outputs": [],
   "source": []
  },
  {
   "cell_type": "markdown",
   "metadata": {},
   "source": [
    "## The Bernoulli distribution\n",
    "\n",
    "---\n",
    "\n",
    "**Example**: I flip a coin with some fixed probability of success $p$. What's the likelihood that I flip heads?\n",
    "\n",
    "When to use this distribution:\n",
    "\n",
    "- When your outcome is binary (i.e., two outcomes, say, `1 = success` and `0 = failure`)\n",
    "- When there is a constant probability of success $p$.\n",
    "\n",
    "Parameters of this distribution:\n",
    "\n",
    "- probability of success $p$\n",
    "\n",
    "Some common examples of a Bernoulli random variable:\n",
    "\n",
    "- A coin flip.\n",
    "- Whether or not it will rain tomorrow.\n",
    "- Whether a user will buy your product after visiting your website.\n",
    "\n",
    "Bernoulli distributed variables are very common and will appear continually throughout the course, especially in   classification.\n",
    "\n",
    "#### Bernoulli pmf\n",
    "\n",
    "The probability mass function $f$ for outcomes $x$ and probabilities $p$ is:\n",
    "\n",
    "$$  f(x|p) =\n",
    "    \\begin{cases}\n",
    "    p & \\text{for }x=1 \\\\\n",
    "    1-p & \\text{for }x=0 \\\\ \n",
    "    0 & \\text{elsewhere} \\\\\n",
    "    \\end{cases}\n",
    "$$\n",
    "\n",
    "In the cell below, let's plot the pmf of an unfair coin-flip, where $p = 0.25$."
   ]
  },
  {
   "cell_type": "markdown",
   "metadata": {},
   "source": [
    "characterised by success rate"
   ]
  },
  {
   "cell_type": "code",
   "execution_count": 10,
   "metadata": {},
   "outputs": [
    {
     "data": {
      "image/png": "[encoded data removed]",
      "text/plain": [
       "<Figure size 432x288 with 1 Axes>"
      ]
     },
     "metadata": {
      "needs_background": "light"
     },
     "output_type": "display_data"
    }
   ],
   "source": [
    "coin_outcomes = ['Tails', 'Heads']\n",
    "coin_probs = [1 - .25, .25]\n",
    "\n",
    "plt.bar(coin_outcomes, coin_probs)\n",
    "plt.xticks(coin_outcomes);"
   ]
  },
  {
   "cell_type": "markdown",
   "metadata": {},
   "source": [
    "#### Bernoulli CDF\n",
    "\n",
    "Its cumulative distribution function is also defined as a function of $x$ outcomes with $p$ probabilities:\n",
    "\n",
    "$$ F(x|p) =\n",
    "\\begin{cases}\n",
    "    0 & \\text{for }x<0 \\\\ 1 - p & \\text{for }0 \\leq x < 1 \\\\ 1 & \\text{for }x\\geq 1\n",
    "\\end{cases} $$"
   ]
  },
  {
   "cell_type": "code",
   "execution_count": 9,
   "metadata": {
    "scrolled": true
   },
   "outputs": [
    {
     "data": {
      "text/plain": [
       "array([0.75, 1.  ])"
      ]
     },
     "execution_count": 9,
     "metadata": {},
     "output_type": "execute_result"
    }
   ],
   "source": [
    "np.cumsum(coin_probs)"
   ]
  },
  {
   "cell_type": "markdown",
   "metadata": {},
   "source": [
    "### Practice: Election outcomes\n",
    "---\n",
    "\n",
    "Candidate A is ahead in the polls. She has a 63% chance of winning the election. Plot the Bernoulli distribution of Candidate A's chances as a bar chart."
   ]
  },
  {
   "cell_type": "code",
   "execution_count": 10,
   "metadata": {},
   "outputs": [
    {
     "data": {
      "image/png": "[encoded data removed]",
      "text/plain": [
       "<Figure size 432x288 with 1 Axes>"
      ]
     },
     "metadata": {
      "needs_background": "light"
     },
     "output_type": "display_data"
    }
   ],
   "source": [
    "election_outcomes = [0, 1]\n",
    "election_probs = [1 - .63, .63]\n",
    "\n",
    "plt.bar(election_outcomes,\n",
    "        election_probs)\n",
    "plt.xticks(election_outcomes);"
   ]
  },
  {
   "cell_type": "markdown",
   "metadata": {},
   "source": [
    "<a id='bernoulli'></a>\n",
    "\n",
    "## The Binomial distribution\n",
    "\n",
    "---\n",
    "\n",
    "**Example**: I flip a coin with some fixed probability of success $p$. I flip the same coin $k$ times. What is the proability of getting a certain number of heads?\n",
    "\n",
    "The binomial distribution is directly related to the Bernoulli distribution: it is **the sum of successes of a Bernoulli distributed random variable.**\n",
    "\n",
    "When it's used:\n",
    "\n",
    "- when you have fixed $n$ independent Bernoulli trials.\n",
    "\n",
    "More explicitly:\n",
    "\n",
    "- when you have fixed $n$ trials,\n",
    "- each trial is independent of one another,\n",
    "- when you have a constant probability of success $p$, and\n",
    "- when you have a binary outcome.\n",
    "\n",
    "Parameters of the distribution:\n",
    "\n",
    "- probability of success $p$\n",
    "- number of trials $n$\n",
    " \n",
    "\n",
    "#### Binomial pmf\n",
    "\n",
    "The $pmf$ is a function of $n$ trials with $p$ probability of success and $x$ successes in those trials:\n",
    "\n",
    "$$ f(x|n,p) = P(X = x) = \\binom n x  p^x(1-p)^{n-x} $$\n",
    "\n",
    "Which describes the probability that there will be $x$ successes in $n$ trials.\n",
    "\n",
    "Below is the binomial pmf for 50 coin flips of a coin with probability of getting heads at 25%.\n"
   ]
  },
  {
   "cell_type": "markdown",
   "metadata": {},
   "source": [
    "### Characterized by both number of trials and the probability"
   ]
  },
  {
   "cell_type": "code",
   "execution_count": 12,
   "metadata": {
    "scrolled": false
   },
   "outputs": [
    {
     "data": {
      "text/plain": [
       "<BarContainer object of 10 artists>"
      ]
     },
     "execution_count": 12,
     "metadata": {},
     "output_type": "execute_result"
    },
    {
     "data": {
      "image/png": "[encoded data removed]",
      "text/plain": [
       "<Figure size 432x288 with 1 Axes>"
      ]
     },
     "metadata": {
      "needs_background": "light"
     },
     "output_type": "display_data"
    }
   ],
   "source": [
    "p_heads = .25\n",
    "n_flips = 50\n",
    "\n",
    "coin_distn = stats.binom(n_flips, p_heads)\n",
    "\n",
    "possible_heads = list(range(0, 10))\n",
    "\n",
    "plt.bar(possible_heads,\n",
    "        coin_distn.pmf(possible_heads))"
   ]
  },
  {
   "cell_type": "code",
   "execution_count": 14,
   "metadata": {},
   "outputs": [
    {
     "data": {
      "text/plain": [
       "array([5.66321656e-07, 9.43869427e-06, 7.70826699e-05, 4.11107573e-04,\n",
       "       1.61017133e-03, 4.93785874e-03, 1.23446468e-02, 2.58649743e-02,\n",
       "       4.63414123e-02, 7.20866414e-02])"
      ]
     },
     "execution_count": 14,
     "metadata": {},
     "output_type": "execute_result"
    }
   ],
   "source": [
    "coin_distn.pmf(possible_heads)"
   ]
  },
  {
   "cell_type": "code",
   "execution_count": 17,
   "metadata": {},
   "outputs": [
    {
     "data": {
      "text/plain": [
       "0.09159725883100608"
      ]
     },
     "execution_count": 17,
     "metadata": {},
     "output_type": "execute_result"
    }
   ],
   "source": [
    "# need to plus from 0 to 9 \n",
    "\n",
    "sum(coin_distn.pmf(possible_heads)[:9])"
   ]
  },
  {
   "cell_type": "markdown",
   "metadata": {},
   "source": [
    "#### Binomial cdf"
   ]
  },
  {
   "cell_type": "code",
   "execution_count": 12,
   "metadata": {
    "scrolled": true
   },
   "outputs": [
    {
     "data": {
      "text/plain": [
       "[<matplotlib.lines.Line2D at 0x1e1e49b9b50>]"
      ]
     },
     "execution_count": 12,
     "metadata": {},
     "output_type": "execute_result"
    },
    {
     "data": {
      "image/png": "[encoded data removed]",
      "text/plain": [
       "<Figure size 432x288 with 1 Axes>"
      ]
     },
     "metadata": {
      "needs_background": "light"
     },
     "output_type": "display_data"
    }
   ],
   "source": [
    "plt.step(possible_heads,\n",
    "         coin_distn.cdf(possible_heads))"
   ]
  },
  {
   "cell_type": "code",
   "execution_count": 15,
   "metadata": {},
   "outputs": [
    {
     "data": {
      "text/plain": [
       "0.09159725883100552"
      ]
     },
     "execution_count": 15,
     "metadata": {},
     "output_type": "execute_result"
    }
   ],
   "source": [
    "coin_distn.cdf(possible_heads)[8]"
   ]
  },
  {
   "cell_type": "markdown",
   "metadata": {},
   "source": [
    "### Practice: Elections\n",
    "---\n",
    "\n",
    "Candidate A is now leading the polls at 55%. If we survey 100 people at random, plot a **pmf** of all possible outcomes as a bar chart."
   ]
  },
  {
   "cell_type": "code",
   "execution_count": 20,
   "metadata": {
    "scrolled": true
   },
   "outputs": [
    {
     "data": {
      "text/plain": [
       "<BarContainer object of 101 artists>"
      ]
     },
     "execution_count": 20,
     "metadata": {},
     "output_type": "execute_result"
    },
    {
     "data": {
      "image/png": "[encoded data removed]",
      "text/plain": [
       "<Figure size 432x288 with 1 Axes>"
      ]
     },
     "metadata": {
      "needs_background": "light"
     },
     "output_type": "display_data"
    }
   ],
   "source": [
    "p_election = .55\n",
    "n_surveys = 100\n",
    "\n",
    "survey_distn = stats.binom(n_surveys, p_election)\n",
    "\n",
    "survey_outcomes = list(range(0, 101))\n",
    "plt.bar(survey_outcomes,\n",
    "        survey_distn.pmf(survey_outcomes))"
   ]
  },
  {
   "cell_type": "code",
   "execution_count": 21,
   "metadata": {
    "scrolled": true
   },
   "outputs": [
    {
     "data": {
      "text/plain": [
       "55.00000000000001"
      ]
     },
     "execution_count": 21,
     "metadata": {},
     "output_type": "execute_result"
    }
   ],
   "source": [
    "survey_distn.mean()"
   ]
  },
  {
   "cell_type": "code",
   "execution_count": 23,
   "metadata": {
    "scrolled": true
   },
   "outputs": [
    {
     "data": {
      "text/plain": [
       "69.92481155659931"
      ]
     },
     "execution_count": 23,
     "metadata": {},
     "output_type": "execute_result"
    }
   ],
   "source": [
    "survey_distn.std()*3+survey_distn.mean()"
   ]
  },
  {
   "cell_type": "markdown",
   "metadata": {},
   "source": [
    "## The Poisson distribution\n",
    "\n",
    "---\n",
    "\n",
    "The Poisson distribution represents the counts of \"positive\" events, or successes, within a time span. It shares a relationship with Bernoulli random variables and the Binomial distribution. \n",
    "\n",
    "A Bernoulli random variable represents the probability that an event will occur during a \"trial\". Imagine we had a Bernoulli random variable that was the probability of a user visiting our site between 12pm and 1pm. If we change this to be between 12pm and 12:15pm, this remains a Bernoulli random variable but the probability has decreased. As the time frame shrinks, the probability shrinks as well.\n",
    "\n",
    "The Poisson distribution represents infinitely many infinitely small probability trials. Our number of trials $n$ increases to infinity and the probability of success $p$ shrinks towards zero in a specific way. \n",
    "\n",
    "More formally, if we take the Binomial distribution and examine its behavior when $n\\rightarrow\\infty$ and $p\\rightarrow 0$, we get the Poisson distribution.\n",
    "\n",
    "When we use this:\n",
    "\n",
    "- when the number of successes is is a non-negative integer,\n",
    "- when events occur independently,\n",
    "- when the rate at which events occur is constant,\n",
    "- when two events cannot occur at exactly the same instant, and\n",
    "- the probability of an event occurring in an interval is proportional to the length of the interval.\n",
    "\n",
    "Parameters of the distribution:\n",
    "\n",
    "- rate of event occurring $\\lambda$\n",
    "\n",
    "#### Poisson pmf\n",
    "\n",
    "$$f(x|\\lambda) = P(X=x) = \\frac{\\lambda^x e^{-\\lambda}}{x!} $$\n",
    "\n",
    "Where $x$ is the number of events that occur in an interval,\n",
    "\n",
    "and $\\lambda$ is the rate at which events occur.\n",
    "\n",
    "Let's say, for example, we are measuring visitors to our website. What is the probability mass function of the Poisson distribution for visitor counts given we have an average rate of 5 visitors per hour?"
   ]
  },
  {
   "cell_type": "markdown",
   "metadata": {},
   "source": [
    "# characterised \n",
    "\n",
    "Lambda - rate of event occuring \n",
    "\n",
    "used to model counts \n"
   ]
  },
  {
   "cell_type": "code",
   "execution_count": 24,
   "metadata": {
    "scrolled": true
   },
   "outputs": [
    {
     "data": {
      "text/plain": [
       "<BarContainer object of 20 artists>"
      ]
     },
     "execution_count": 24,
     "metadata": {},
     "output_type": "execute_result"
    },
    {
     "data": {
      "image/png": "[encoded data removed]",
      "text/plain": [
       "<Figure size 432x288 with 1 Axes>"
      ]
     },
     "metadata": {
      "needs_background": "light"
     },
     "output_type": "display_data"
    }
   ],
   "source": [
    "n_visitors = 5\n",
    "\n",
    "visitor_distn = stats.poisson(n_visitors)\n",
    "# this will be your x axis \n",
    "possible_visitors = list(range(20))\n",
    "\n",
    "# because your mean is at 5 per hour, your normal dist will be close to 5 where its the highest. \n",
    "\n",
    "plt.bar(possible_visitors,\n",
    "        visitor_distn.pmf(possible_visitors))"
   ]
  },
  {
   "cell_type": "markdown",
   "metadata": {},
   "source": [
    "What is the probability of 6 people in the next hour?  "
   ]
  },
  {
   "cell_type": "code",
   "execution_count": 30,
   "metadata": {},
   "outputs": [
    {
     "data": {
      "text/plain": [
       "0.7621834629729387"
      ]
     },
     "execution_count": 30,
     "metadata": {},
     "output_type": "execute_result"
    }
   ],
   "source": [
    "visitor_distn.cdf(possible_visitors)[6]"
   ]
  },
  {
   "cell_type": "code",
   "execution_count": 25,
   "metadata": {
    "scrolled": true
   },
   "outputs": [
    {
     "data": {
      "text/plain": [
       "<BarContainer object of 20 artists>"
      ]
     },
     "execution_count": 25,
     "metadata": {},
     "output_type": "execute_result"
    },
    {
     "data": {
      "image/png": "[encoded data removed]",
      "text/plain": [
       "<Figure size 432x288 with 1 Axes>"
      ]
     },
     "metadata": {
      "needs_background": "light"
     },
     "output_type": "display_data"
    }
   ],
   "source": [
    "plt.bar(possible_visitors,\n",
    "        visitor_distn.cdf(possible_visitors))"
   ]
  },
  {
   "cell_type": "code",
   "execution_count": 37,
   "metadata": {
    "scrolled": true
   },
   "outputs": [
    {
     "data": {
      "text/plain": [
       "<BarContainer object of 50 artists>"
      ]
     },
     "execution_count": 37,
     "metadata": {},
     "output_type": "execute_result"
    },
    {
     "data": {
      "image/png": "[encoded data removed]",
      "text/plain": [
       "<Figure size 432x288 with 1 Axes>"
      ]
     },
     "metadata": {
      "needs_background": "light"
     },
     "output_type": "display_data"
    }
   ],
   "source": [
    "n_earthquakes = 0.5 \n",
    "\n",
    "earthquake_distn = stats.poisson(n_earthquakes)\n",
    "possible_earthquakes = list(range(50))\n",
    "\n",
    "#range cannot be random, most of the distribution will go to towards Lambda \n",
    "\n",
    "plt.bar(possible_earthquakes, earthquake_distn.pmf(possible_earthquakes))\n",
    "\n",
    "\n",
    "# x axis will be interger, even though "
   ]
  },
  {
   "cell_type": "code",
   "execution_count": 38,
   "metadata": {},
   "outputs": [
    {
     "data": {
      "text/plain": [
       "[<matplotlib.lines.Line2D at 0x1e1e5db0a00>]"
      ]
     },
     "execution_count": 38,
     "metadata": {},
     "output_type": "execute_result"
    },
    {
     "data": {
      "image/png": "[encoded data removed]",
      "text/plain": [
       "<Figure size 432x288 with 1 Axes>"
      ]
     },
     "metadata": {
      "needs_background": "light"
     },
     "output_type": "display_data"
    }
   ],
   "source": [
    "plt.step(possible_earthquakes, earthquake_distn.cdf(possible_earthquakes))"
   ]
  },
  {
   "cell_type": "markdown",
   "metadata": {},
   "source": [
    "#### Poisson cdf\n",
    "\n",
    "The cumulative distribution is given by the formula:\n",
    "\n",
    "### $$ e^{-\\lambda} \\sum_{i=0}^{\\lfloor x\\rfloor} \\frac{\\lambda^i}{i!} $$\n",
    "\n",
    "Where the $\\lfloor x\\rfloor$ represents the greatest integer less than or equal to $x$."
   ]
  },
  {
   "cell_type": "code",
   "execution_count": 15,
   "metadata": {},
   "outputs": [
    {
     "data": {
      "image/png": "[encoded data removed]",
      "text/plain": [
       "<Figure size 432x288 with 1 Axes>"
      ]
     },
     "metadata": {
      "needs_background": "light"
     },
     "output_type": "display_data"
    }
   ],
   "source": [
    "plt.step(possible_visitors,\n",
    "         visitor_distn.cdf(possible_visitors))\n",
    "plt.xticks(possible_visitors);"
   ]
  },
  {
   "cell_type": "markdown",
   "metadata": {},
   "source": [
    "## Conclusion\n",
    "\n",
    "By the end of this lesson, students should be able to:\n",
    "- Define distribution and random variable.\n",
    "- Describe the difference between discrete and continuous random variables.\n",
    "- Understand the difference between probability mass functions and cumulative distribution functions.\n",
    "- Give examples of the following distributions: Discrete Uniform, Bernoulli, Binomial, and Poisson.\n",
    "\n",
    "<details>\n",
    "<summary>What is a distribution?</summary>\n",
    "<li> A distribution is the set of all values of a variable and how frequently we observe them.\n",
    "</details>\n",
    "<br>\n",
    "<details>\n",
    "<summary>What is a random variable?</summary>\n",
    "<li> A random variable is a function that takes our sample space $\\mathcal{S}$ and maps it to the real number line.\n",
    "</details>\n",
    "<br>\n",
    "<details>\n",
    "<summary>What is the difference between a discrete and continuous random variable?</summary>\n",
    "<li> A discrete random variable has a countable sample space; a continuous random variable has a sample space that is not countable.\n",
    "</details>\n",
    "<br>\n",
    "<details>\n",
    "<summary>What is the difference between a probability mass function and a cumulative distribution function? </summary>\n",
    "<li> A probability mass function gives us the probability of that particular value of the random variable occurring. The cumulative mass function gives us the probability of that particular value and all values below it.\n",
    "</details>\n",
    "<br>\n",
    "<details>\n",
    "<summary>What is the Discrete Uniform distribution? </summary>\n",
    "<li> The discrete uniform distribution is appropriate for an experiment where all outcomes are equally likely.\n",
    "<li> Examples include:\n",
    "<ul>\n",
    "<li> the number of heads tossed with one coin (0 and 1 both occur 50% of the time)\n",
    "<li> the value rolled with one die (numbers 1 through 6 each occur exactly 1/6 of the time)\n",
    "</ul>\n",
    "</details>\n",
    "<br>\n",
    "<details>\n",
    "<summary>What is the Bernoulli distribution? </summary>\n",
    "<li> The Bernoulli distribution is appropriate for an experiment with two outcomes and a fixed probability of success $p$.\n",
    "<li> Examples include:\n",
    "<ul>\n",
    "<li> the number of heads tossed with one coin (0 and 1 both occur 50% of the time)\n",
    "<li> the number of correct answers a randomly guessing person gets on one multiple choice question with four choices (1 occurs 25% of the time; 0 occurs 75% of the time)\n",
    "</ul>\n",
    "</details>\n",
    "<br>\n",
    "<details>\n",
    "<summary>What is the Binomial distribution? </summary>\n",
    "<li> The Binomial distribution is appropriate for a sum of Bernoulli random variables, or where we have $n$ independent experiments with two outcomes and a fixed probability of success $p$.\n",
    "<li> Examples would include:\n",
    "<ul>\n",
    "<li> the number of heads tossed with $n$ coins\n",
    "<li> the number of correct answers a randomly guessing person gets on on $n$ multiple choice questions with four choices each\n",
    "</ul>\n",
    "</details>\n",
    "<br>\n",
    "<details>\n",
    "<summary>What is the Poisson distribution? </summary>\n",
    "<li> Whereas the Binomial distribution is appropriate for an experiment counting the number of successes out of a fixed number of trials, the Poisson distribution is appropriate for an experiment counting the number of successes in a fixed interval.\n",
    "<li> Getting into the theory, if we took a Binomial distribution, let the number of trials $n$ go to infinity, and the probability of success $p$ approach 0, then we get a Poisson distribution.\n",
    "<li> Examples would include:\n",
    "<ul>\n",
    "<li> the number of calls received at a call center in five minutes\n",
    "<li> the count of people who go to my website in one day\n",
    "</ul>\n",
    "</details>\n",
    "\n"
   ]
  },
  {
   "cell_type": "markdown",
   "metadata": {},
   "source": [
    "## What is a distribution?\n",
    "A distribution is simply a collection of data, or scores, on a variable\n"
   ]
  },
  {
   "cell_type": "markdown",
   "metadata": {},
   "source": [
    "## What is a random variable?"
   ]
  },
  {
   "cell_type": "markdown",
   "metadata": {},
   "source": []
  },
  {
   "cell_type": "markdown",
   "metadata": {},
   "source": []
  },
  {
   "cell_type": "markdown",
   "metadata": {},
   "source": []
  },
  {
   "cell_type": "markdown",
   "metadata": {},
   "source": []
  },
  {
   "cell_type": "markdown",
   "metadata": {},
   "source": []
  }
 ],
 "metadata": {
  "kernelspec": {
   "display_name": "Python 3",
   "language": "python",
   "name": "python3"
  },
  "language_info": {
   "codemirror_mode": {
    "name": "ipython",
    "version": 3
   },
   "file_extension": ".py",
   "mimetype": "text/x-python",
   "name": "python",
   "nbconvert_exporter": "python",
   "pygments_lexer": "ipython3",
   "version": "3.8.8"
  }
 },
 "nbformat": 4,
 "nbformat_minor": 1
}
