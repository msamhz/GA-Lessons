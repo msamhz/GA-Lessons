{
 "cells": [
  {
   "cell_type": "markdown",
   "metadata": {},
   "source": [
    "<img src=\"http://imgur.com/1ZcRyrc.png\" style=\"float: left; margin: 20px; height: 55px\">\n",
    "\n",
    "# Introduction to Object-Oriented Programming\n",
    "_Author:_ Tim Book"
   ]
  },
  {
   "cell_type": "markdown",
   "metadata": {},
   "source": [
    "# Programming Paradigms\n",
    "\n",
    "There are many **programming paradigms** (ie, programming patterns/styles). Each paradigm provides a completely different way of thinking about how to design software. Many languages (including Python) are multi-paradigm; they borrow popular aspects of several paradigms. \n",
    "\n",
    "The best way to learn a paradigm is to use a language that _only_ supports the paradigm, a so-called \"pure\" language. (The exact distinction between \"pure\" and not is often debated!)\n",
    "\n",
    "## Functional Programming\n",
    "The FP paradigm involves writing programs that consist only of _pure functions_. In FP:\n",
    "- No mutable variables. This has the consequence of outlawing _for_ loops and emphasizing recursion.\n",
    "- No side effects. Functions have no effect on the system aside from returning a value (i.e. no `print`).\n",
    "- Functions _always_ return the same output given the same inputs.\n",
    "\n",
    "\n",
    "\n",
    "You already have some experience with this style. For example, `map` and `apply` avoid _for_ loops by accepting a function as an argument. \n",
    "\n",
    "| \"Pure\" FP languages | Highly influenced by FP |\n",
    "| -----      | ----- |\n",
    "| Haskell | Scala (popular for big data) |\n",
    "| Scheme (and Lisp)   | R (popular with statisticians) |\n",
    "| Clojure | Mathematica |\n",
    "| Racket |  |\n",
    "\n",
    "Advantages of FP:\n",
    "- Allows some complex ideas to be expressed simply (e.g. `map`, `apply`).\n",
    "- Code is automatically scalable/parallelizable! Hence, FP is popular when working with big data.\n",
    "- Code can more easily be proven correct, due to simplicity and reliance on recursion.\n",
    "- Is often easy to prototype new languages in, since data _is_ code.\n",
    "\n",
    "Disadvantages of FP:\n",
    "- Often has a steep learning curve. \n",
    "- Has a strong foundation in theoretical mathematics, so the community can feel mathy to newcomers. (Functional languages are based on the \"lambda calculus\" model of computation instead of the \"Turing machine\" model.)"
   ]
  },
  {
   "cell_type": "markdown",
   "metadata": {},
   "source": [
    "## Object-Oriented Programming\n",
    "The OOP paradigm involves bundling together variables and functions into \"classes\" -- aka **creating your own data types**.\n",
    "\n",
    "| \"Pure\" OOP languages | Highly influenced by OOP |\n",
    "| -----      | ----- |\n",
    "| Java | Scala |\n",
    "| C#   | C++ |\n",
    "| Smalltalk | Python |\n",
    "| | Ruby |\n",
    "\n",
    "OOP software design follows four main principles:\n",
    "- **Encapsulation.** Attributes and methods are bound together and protected from misuse.\n",
    "- **Abstraction.** Implementation details are not exposed.\n",
    "- **Inheritance.** In a hierarchical manner, objects can inherit properties and methods from other objects.\n",
    "- **Polymorphism.** Functions (and hence operators) can be \"overloaded\" and change their functionality based on the data type.\n",
    "\n",
    "OOP was developed in an attempt to make code easier to write in large teams. Initial optimism led to a wave of popular OOP implementations, e.g. Java and C++. However, although OOP seems intuitive for some things, many programming ideas are not easily expressed in the OOP paradigm. \n",
    "\n",
    "In fact, OOP programs can easily become extremely complex and verbose if not carefully designed. For example, because data is hidden it is often difficult for one object to get access to necessary data. \n",
    "\n",
    "---\n",
    "\n",
    "Other paradigms:\n",
    "- **Procedural programming**: In DSI, we definitely _use_ some aspects of functional programming and OOP. However, the way we design software tends to be _procedural_. A procedural style is where functions (aka \"procedures\") are the highest level of abstraction. This style is good to know, because it is how your CPU works! \"Pure\" procedural languages include C and BASIC. \n",
    "- **Declarative programming**: A declarative style is where you tell the computer _what_ to do, rather than _how_ to do it. Declarative programming works best in so-called \"domain-specific languages,\" since optimizing _how_ to do things is not possible in a general way. An example of a declarative language is SQL, e.g. `SELECT make, model, year, mpg FROM car WHERE mpg > 40;`.\n",
    "\n",
    "\n",
    "## Python supports Object-Oriented Programming!\n",
    "![](imgs/gvr.jpg)\n",
    "\n",
    "While Python _does_ support a lot of FP ideas, Python is fundamentally object-oriented -- everything in Python is an object."
   ]
  },
  {
   "cell_type": "markdown",
   "metadata": {},
   "source": [
    "## Cool, but: Why now?\n",
    "You're actually very familiar with some OOP ideas. Instantiations of `DataFrame`, `StandardScaler`, and `LinearRegression` have all followed the traditional OOP pattern. If you understand how to manipulate those objects, you know the basics of OOP!\n",
    "\n",
    "But, we don't know how to **make our own templates for objects** (called \"classes\") yet. That's what we're going to explore today.\n",
    "\n",
    "![](imgs/ds-def.png)\n",
    "\n",
    "In data science, we don't make our own classes very often. But it's absolutely imperative for data scientists to be comfortable with the idea, and to recognize when making a class is a good idea. **If data science is a cross between statistics and computer science, this lesson falls more on the computer science side.** After today's lesson, a lot of the magic surrounding what we've been doing up until now should \"click\"."
   ]
  },
  {
   "cell_type": "markdown",
   "metadata": {},
   "source": [
    "## OOP Vocab\n",
    "\n",
    "**Covered in this lesson:**\n",
    "* Class\n",
    "* Instance\n",
    "* Attribute\n",
    "* Method\n",
    "* Constructor method\n",
    "* State\n",
    "* \"self\"\n",
    "\n",
    "**Not covered in this lesson (but some covered in supplemental material):**\n",
    "* Inheritance\n",
    "* Encapsulation\n",
    "* Magic methods (aka \"dunder methods\")\n",
    "* Class method\n",
    "* Static method\n",
    "* Public and private methods\n",
    "* Getter and setter methods"
   ]
  },
  {
   "cell_type": "markdown",
   "metadata": {},
   "source": [
    "## Part I: The Dog Class"
   ]
  },
  {
   "cell_type": "code",
   "execution_count": 81,
   "metadata": {},
   "outputs": [
    {
     "name": "stdout",
     "output_type": "stream",
     "text": [
      "Potato eats ...\n"
     ]
    }
   ],
   "source": [
    "# implicit the function will do something with the object of the class                      \n",
    "\n",
    "class Dog:\n",
    "    def __init__(self,name,breed, hungry = True):        \n",
    "        self.name = name\n",
    "        self.breed = breed\n",
    "        self.hungry = True\n",
    "\n",
    "    def speak(self):\n",
    "        print(f\"{self.name} is here, woof!\")\n",
    "\n",
    "\n",
    "    def feed(self):\n",
    "        if self.hungry:\n",
    "            print(f\"{self.name} eats ...\")\n",
    "            # primitive state management \n",
    "            self.hungry = False\n",
    "        \n",
    "        else:\n",
    "            print(f\"{self.name} is not hungry!\")\n",
    "\n",
    "mydog = Dog('marley', 'frenchie')\n",
    "yourdog = Dog('Potato', 'Newfoundland')\n",
    "yourdog.feed()\n"
   ]
  },
  {
   "cell_type": "code",
   "execution_count": 55,
   "metadata": {},
   "outputs": [],
   "source": [
    "# when we create this, with the (), its calling the init function inside \n",
    "\n",
    "# -->  LinearRegression()"
   ]
  },
  {
   "cell_type": "code",
   "execution_count": 82,
   "metadata": {},
   "outputs": [
    {
     "data": {
      "text/plain": [
       "'marley'"
      ]
     },
     "execution_count": 82,
     "metadata": {},
     "output_type": "execute_result"
    }
   ],
   "source": [
    "mydog.name"
   ]
  },
  {
   "cell_type": "code",
   "execution_count": 83,
   "metadata": {},
   "outputs": [
    {
     "name": "stdout",
     "output_type": "stream",
     "text": [
      "marley is here, woof!\n"
     ]
    }
   ],
   "source": [
    "mydog.speak()"
   ]
  },
  {
   "cell_type": "code",
   "execution_count": 84,
   "metadata": {},
   "outputs": [
    {
     "name": "stdout",
     "output_type": "stream",
     "text": [
      "marley eats ...\n",
      "marley is not hungry!\n",
      "marley is not hungry!\n"
     ]
    }
   ],
   "source": [
    "mydog.feed()\n",
    "mydog.feed()\n",
    "mydog.feed()"
   ]
  },
  {
   "cell_type": "code",
   "execution_count": 85,
   "metadata": {},
   "outputs": [
    {
     "name": "stdout",
     "output_type": "stream",
     "text": [
      "Moomooo is here, woof!\n"
     ]
    }
   ],
   "source": [
    "# can directly reassign\n",
    "\n",
    "mydog.name = 'Moomooo'\n",
    "mydog.speak()"
   ]
  },
  {
   "cell_type": "code",
   "execution_count": 86,
   "metadata": {},
   "outputs": [],
   "source": [
    "# Instantiate a Dog named Chloe"
   ]
  },
  {
   "cell_type": "code",
   "execution_count": 87,
   "metadata": {},
   "outputs": [],
   "source": [
    "# A new type of thing!"
   ]
  },
  {
   "cell_type": "code",
   "execution_count": 88,
   "metadata": {},
   "outputs": [],
   "source": [
    "# This instace of Dog has attributes"
   ]
  },
  {
   "cell_type": "code",
   "execution_count": null,
   "metadata": {},
   "outputs": [],
   "source": []
  },
  {
   "cell_type": "code",
   "execution_count": 89,
   "metadata": {},
   "outputs": [],
   "source": [
    "# Call a method on this instance of Dog"
   ]
  },
  {
   "cell_type": "code",
   "execution_count": 90,
   "metadata": {},
   "outputs": [],
   "source": [
    "# Another method. This one changes the state of the Dog"
   ]
  },
  {
   "cell_type": "code",
   "execution_count": 91,
   "metadata": {},
   "outputs": [],
   "source": [
    "# State has changed!"
   ]
  },
  {
   "cell_type": "code",
   "execution_count": 92,
   "metadata": {},
   "outputs": [],
   "source": [
    "# Again. The state of Chloe has changed!"
   ]
  },
  {
   "cell_type": "code",
   "execution_count": 93,
   "metadata": {},
   "outputs": [],
   "source": [
    "# If I make a different Dog, it doesn't share state with Chloe"
   ]
  },
  {
   "cell_type": "code",
   "execution_count": 94,
   "metadata": {},
   "outputs": [],
   "source": [
    "# We can also make a Cat class, but it's a totally separate concept from Dog."
   ]
  },
  {
   "cell_type": "code",
   "execution_count": null,
   "metadata": {},
   "outputs": [],
   "source": []
  },
  {
   "cell_type": "code",
   "execution_count": 95,
   "metadata": {},
   "outputs": [],
   "source": [
    "# Cat doesn't magically get Dog class's methods.\n",
    "# Keeping methods specific to only the classes that can use them\n",
    "# is called \"encapsulation\" - a core tenant of OOP."
   ]
  },
  {
   "cell_type": "markdown",
   "metadata": {},
   "source": [
    "## Part II: The Car Class\n",
    "Let's create a car with a make and model. This car will have the following features:\n",
    "* It will keep track of its own miles\n",
    "* It will keep track of its state as to whether the car is on or off\n",
    "* If the car is off, it can't drive!\n",
    "* It will have methods to turn the car on and off.\n",
    "\n",
    "**(THREAD):** Build a `drive()` method that takes one argument and adds that many miles to the car's odometer."
   ]
  },
  {
   "cell_type": "code",
   "execution_count": 140,
   "metadata": {},
   "outputs": [],
   "source": [
    "class Car:\n",
    "    def __init__(self, make, model):\n",
    "        self.make = make\n",
    "        self.model = model\n",
    "        self.miles = 0\n",
    "        self.on = False\n",
    "\n",
    "    def honk(self):\n",
    "        print('Beep beep!')\n",
    "    def turn_on(self):\n",
    "        self.on = True\n",
    "\n",
    "    def turn_off(self):\n",
    "        self.on = False\n",
    "    \n",
    "    def drive(self,distance):\n",
    "        if self.on == True:\n",
    "            self.miles = self.miles + distance\n",
    "            print(f\"{self.make} {self.model} has travelled {self.miles} km\") \n",
    "        else:\n",
    "            print(f'{self.make} {self.model} is turned off')\n",
    "\n",
    "    def reset_miles(self):\n",
    "        print(f'{self.make} {self.model} miles reset from {self.miles} to 0')\n",
    "        self.miles = 0\n",
    "\n",
    "mycar = Car('Nissan', 'Sunny')"
   ]
  },
  {
   "cell_type": "code",
   "execution_count": 141,
   "metadata": {},
   "outputs": [],
   "source": [
    "mycar.turn_on()"
   ]
  },
  {
   "cell_type": "code",
   "execution_count": 142,
   "metadata": {},
   "outputs": [
    {
     "name": "stdout",
     "output_type": "stream",
     "text": [
      "Nissan Sunny has travelled 1000 km\n"
     ]
    }
   ],
   "source": [
    "mycar.drive(1000)"
   ]
  },
  {
   "cell_type": "code",
   "execution_count": 143,
   "metadata": {},
   "outputs": [],
   "source": [
    "mycar.turn_off()"
   ]
  },
  {
   "cell_type": "code",
   "execution_count": 144,
   "metadata": {},
   "outputs": [
    {
     "name": "stdout",
     "output_type": "stream",
     "text": [
      "Beep beep!\n"
     ]
    }
   ],
   "source": [
    "mycar.honk()"
   ]
  },
  {
   "cell_type": "code",
   "execution_count": 145,
   "metadata": {},
   "outputs": [
    {
     "name": "stdout",
     "output_type": "stream",
     "text": [
      "Nissan Sunny miles reset from 1000 to 0\n"
     ]
    }
   ],
   "source": [
    "mycar.reset_miles()"
   ]
  },
  {
   "cell_type": "markdown",
   "metadata": {},
   "source": [
    "### Can you see how this can quickly get complicated?\n",
    "Cars are more intricate than this.\n",
    "\n",
    "**An exercise left to the reader:** Can you modify this car class to keep track of its own gas, too? That might involve an `mpg` attribute as well as a `tank_size` attribute. When the car drives a certain number of miles, compute how much gas is consumed. You'll also probably need a `fill_tank()` method to refuel gas.\n",
    "\n",
    "**Further, much more advanced considerations:** What if the car only has enough gas for 15 miles, but you try to drive 20 miles? Should it drive 15 miles and then stop? Should it throw an error? Should it throw the error before or after deducting the gas? If it throws an error, what kind? Maybe you'll need to create your own `EmptyTankError` exception that inherits from `Exception`.\n",
    "\n",
    "Sounds hard to make? This is one of the pro/con tradeoffs of OOP. It's very easy to use. When done right code looks like this:\n",
    "\n",
    "```python\n",
    "mycar = Car(\"Chrysler\", \"PT Cruiser\", mpg=30, tank_size=11)\n",
    "mycar.turn_on()\n",
    "mycar.drive(30)\n",
    "mycar.turn_off()\n",
    "mycar.turn_on()\n",
    "mycar.drive(100)\n",
    "mycar.fill_tank()\n",
    "mycar.drive(100)\n",
    "mycar.turn_off()\n",
    "```\n",
    "\n",
    "Simple! Easy to read! Building classes is said to be a **layer of abstraction** for your code for this reason. This syntax is hiding potentially hundreds of lines of code that you don't need to worry about.\n",
    "\n",
    "**Fun fact:** The file that defines the pandas `DataFrame` is more than 8,000 lines long! You don't need to read those 8,000+ lines to know how to use a `DataFrame`. Check out what this really looks like in the wild [here](https://github.com/pandas-dev/pandas/blob/master/pandas/core/frame.py)."
   ]
  },
  {
   "cell_type": "markdown",
   "metadata": {},
   "source": [
    "## Part III: Hiding Your Ugly Code to Keep Your Notebooks Clean\n",
    "Have you ever wondered how to make your own \"importable\" things? Let's check out a basic example. Let's open up the `car.py` file in this directory."
   ]
  },
  {
   "cell_type": "code",
   "execution_count": 156,
   "metadata": {},
   "outputs": [],
   "source": [
    "from car import AdvancedCar"
   ]
  },
  {
   "cell_type": "code",
   "execution_count": 157,
   "metadata": {},
   "outputs": [],
   "source": [
    "mywhitecar = AdvancedCar('Mazda Axela', \"Mazda3\", 26, 55)"
   ]
  },
  {
   "cell_type": "code",
   "execution_count": 167,
   "metadata": {},
   "outputs": [
    {
     "name": "stdout",
     "output_type": "stream",
     "text": [
      "mpg: 26\n",
      "Tank size: 55\n"
     ]
    }
   ],
   "source": [
    "# This new advanced car can keep track of mpg and tanks_size!\n",
    "\n",
    "print(f'mpg: {mywhitecar.mpg}')\n",
    "print(f'Tank size: {mywhitecar.tank_size}')"
   ]
  },
  {
   "cell_type": "code",
   "execution_count": 174,
   "metadata": {},
   "outputs": [
    {
     "name": "stdout",
     "output_type": "stream",
     "text": [
      "Beep beep!\n"
     ]
    }
   ],
   "source": [
    "# Car still honks\n",
    "\n",
    "mywhitecar.honk()"
   ]
  },
  {
   "cell_type": "code",
   "execution_count": 182,
   "metadata": {},
   "outputs": [],
   "source": [
    "# Car now has a 'gas' attribute\n",
    "\n",
    "mywhitecar.turn_on()\n",
    "# mywhitecar.drive(1000)\n",
    "mywhitecar.fill_tank(500)"
   ]
  },
  {
   "cell_type": "code",
   "execution_count": 184,
   "metadata": {},
   "outputs": [
    {
     "ename": "InsufficientGasError",
     "evalue": "You don't have enough gas!",
     "output_type": "error",
     "traceback": [
      "\u001b[1;31m---------------------------------------------------------------------------\u001b[0m",
      "\u001b[1;31mInsufficientGasError\u001b[0m                      Traceback (most recent call last)",
      "\u001b[1;32m<ipython-input-184-bb403d224b32>\u001b[0m in \u001b[0;36m<module>\u001b[1;34m\u001b[0m\n\u001b[0;32m      1\u001b[0m \u001b[1;31m# Let's turn the car on and go!\u001b[0m\u001b[1;33m\u001b[0m\u001b[1;33m\u001b[0m\u001b[1;33m\u001b[0m\u001b[0m\n\u001b[0;32m      2\u001b[0m \u001b[1;33m\u001b[0m\u001b[0m\n\u001b[1;32m----> 3\u001b[1;33m \u001b[0mmywhitecar\u001b[0m\u001b[1;33m.\u001b[0m\u001b[0mdrive\u001b[0m\u001b[1;33m(\u001b[0m\u001b[1;36m1000\u001b[0m\u001b[1;33m)\u001b[0m\u001b[1;33m\u001b[0m\u001b[1;33m\u001b[0m\u001b[0m\n\u001b[0m\u001b[0;32m      4\u001b[0m \u001b[0mmywhitecar\u001b[0m\u001b[1;33m.\u001b[0m\u001b[0mgas\u001b[0m\u001b[1;33m\u001b[0m\u001b[1;33m\u001b[0m\u001b[0m\n",
      "\u001b[1;32mc:\\Users\\User\\OneDrive\\Desktop\\Github Desktop Local\\GA-Lessons\\5.03-lesson-object-oriented-programming\\car.py\u001b[0m in \u001b[0;36mdrive\u001b[1;34m(self, distance)\u001b[0m\n\u001b[0;32m     32\u001b[0m                 \u001b[0mself\u001b[0m\u001b[1;33m.\u001b[0m\u001b[0mmiles\u001b[0m \u001b[1;33m+=\u001b[0m \u001b[0mdistance\u001b[0m\u001b[1;33m\u001b[0m\u001b[1;33m\u001b[0m\u001b[0m\n\u001b[0;32m     33\u001b[0m             \u001b[1;32melse\u001b[0m\u001b[1;33m:\u001b[0m\u001b[1;33m\u001b[0m\u001b[1;33m\u001b[0m\u001b[0m\n\u001b[1;32m---> 34\u001b[1;33m                 \u001b[1;32mraise\u001b[0m \u001b[0mInsufficientGasError\u001b[0m\u001b[1;33m(\u001b[0m\u001b[1;34m\"You don't have enough gas!\"\u001b[0m\u001b[1;33m)\u001b[0m\u001b[1;33m\u001b[0m\u001b[1;33m\u001b[0m\u001b[0m\n\u001b[0m\u001b[0;32m     35\u001b[0m         \u001b[1;32melse\u001b[0m\u001b[1;33m:\u001b[0m\u001b[1;33m\u001b[0m\u001b[1;33m\u001b[0m\u001b[0m\n\u001b[0;32m     36\u001b[0m             \u001b[1;32mraise\u001b[0m \u001b[0mCarOffError\u001b[0m\u001b[1;33m(\u001b[0m\u001b[1;34m\"The car is off!\"\u001b[0m\u001b[1;33m)\u001b[0m\u001b[1;33m\u001b[0m\u001b[1;33m\u001b[0m\u001b[0m\n",
      "\u001b[1;31mInsufficientGasError\u001b[0m: You don't have enough gas!"
     ]
    }
   ],
   "source": [
    "# Let's turn the car on and go!\n",
    "\n",
    "mywhitecar.drive(1000)\n"
   ]
  },
  {
   "cell_type": "code",
   "execution_count": 151,
   "metadata": {},
   "outputs": [],
   "source": [
    "# Car state has changed. We've added miles..."
   ]
  },
  {
   "cell_type": "code",
   "execution_count": 152,
   "metadata": {},
   "outputs": [],
   "source": [
    "# And used up some gas!"
   ]
  },
  {
   "cell_type": "code",
   "execution_count": 153,
   "metadata": {},
   "outputs": [],
   "source": [
    "# What if we try to drive too far?\n",
    "# A custom error!"
   ]
  },
  {
   "cell_type": "code",
   "execution_count": 154,
   "metadata": {},
   "outputs": [],
   "source": [
    "# Fill up"
   ]
  },
  {
   "cell_type": "code",
   "execution_count": 155,
   "metadata": {},
   "outputs": [],
   "source": [
    "# All the gas"
   ]
  },
  {
   "cell_type": "markdown",
   "metadata": {},
   "source": [
    "### When would we needs this?\n",
    "Luckily for us, between `pandas` and `sklearn`, most of the classes we need have already been built for us. But data scientists don't work in a vacuum! Here are some examples of times where building your own class is the right thing to do:\n",
    "\n",
    "#### Whenever you want to bundle your code into a package.\n",
    "It's true that you can define functions that can be `import`ed, but it's not very _Pythonic_. True Pythonistas will build related tools into classes that can be shared amongst coworkers. **If you set this up properly, you can even have them be `pip install`able from either a private or prublic Git repository!** Think about all of the different libraries we've used so far. You know this pattern to be true!\n",
    "\n",
    "#### Whenever you want to \"build once, run many times later.\"\n",
    "Imagine a complicated task, such as connecting to a server and executing code on it. These tasks typically have a lot of rote boilerplate code that you'd want to automate. For example, check out this fantasy code you might write for connecting to a SQL server:\n",
    "\n",
    "```python\n",
    "conn = SQLServer(\"12.34.56.78\")\n",
    "conn.connect()\n",
    "conn.login(\"tim\", \"p@ssw0rd1!\")\n",
    "conn.execute(\"SELECT name, age FROM users\")\n",
    "conn.close()\n",
    "```\n",
    "\n",
    "#### Unit Testing\n",
    "Most of Python's unit testing capabilities require you to build classes, where each method is an individual suite of tests.\n",
    "\n",
    "> **Unit testing** is a type of automated testing you can do to ensure that minor changes you make to your code don't fundamentally change what your code is doing.\n",
    "\n",
    "#### Sometimes you literally just _need_ to.\n",
    "There are actually a few data science packages that force you to build a class in order to use them properly. Specificaly these two:\n",
    "\n",
    "![](imgs/scrapy.png)\n",
    "![](imgs/pytorch.png)\n",
    "\n",
    "* **PyTorch** - A popular deep learning library. Second only in popularity to TensorFlow/Keras and gaining.\n",
    "* **Scrapy** - A heavy-duty webscraping library, much more powerful than BeautifulSoup."
   ]
  },
  {
   "cell_type": "markdown",
   "metadata": {},
   "source": [
    "## Conclusions and Takeaways\n",
    "* OOP is a really cool coding paradigm that takes some getting used to.\n",
    "* OOP is easy to use and write, but code can be pretty long sometimes.\n",
    "* OOP can serve to really clean you code up and make it easier to read.\n",
    "* We won't _need_ to build classes very often, but we should definitely do it more!\n",
    "* Let us all be more OO."
   ]
  }
 ],
 "metadata": {
  "kernelspec": {
   "display_name": "Python 3",
   "language": "python",
   "name": "python3"
  },
  "language_info": {
   "codemirror_mode": {
    "name": "ipython",
    "version": 3
   },
   "file_extension": ".py",
   "mimetype": "text/x-python",
   "name": "python",
   "nbconvert_exporter": "python",
   "pygments_lexer": "ipython3",
   "version": "3.8.8"
  }
 },
 "nbformat": 4,
 "nbformat_minor": 4
}
