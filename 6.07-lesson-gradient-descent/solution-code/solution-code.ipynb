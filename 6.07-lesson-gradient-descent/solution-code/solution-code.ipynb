{
 "cells": [
  {
   "cell_type": "markdown",
   "metadata": {},
   "source": [
    "<img src=\"http://imgur.com/1ZcRyrc.png\" style=\"float: left; margin: 20px; height: 55px\">\n",
    "\n",
    "## Gradient Descent Code-Along"
   ]
  },
  {
   "cell_type": "markdown",
   "metadata": {},
   "source": [
    "Let's walk through how gradient descent works using code."
   ]
  },
  {
   "cell_type": "code",
   "execution_count": 1,
   "metadata": {},
   "outputs": [],
   "source": [
    "import pandas as pd\n",
    "import numpy as np\n",
    "import matplotlib.pyplot as plt"
   ]
  },
  {
   "cell_type": "code",
   "execution_count": 2,
   "metadata": {},
   "outputs": [],
   "source": [
    "# The objective function\n",
    "def f(x):\n",
    "    return -np.log(x) / (1 + x) ## ln(x) / (1+x)"
   ]
  },
  {
   "cell_type": "code",
   "execution_count": 3,
   "metadata": {},
   "outputs": [],
   "source": [
    "# Derivative of the objective function\n",
    "def f_deriv(x):\n",
    "    return -(1 + 1/x - np.log(x)) / (1 + x)**2"
   ]
  },
  {
   "cell_type": "code",
   "execution_count": 4,
   "metadata": {},
   "outputs": [
    {
     "data": {
      "image/png": "[encoded data removed]",
      "text/plain": [
       "<Figure size 432x288 with 1 Axes>"
      ]
     },
     "metadata": {
      "needs_background": "light"
     },
     "output_type": "display_data"
    }
   ],
   "source": [
    "# Let's see what it looks like\n",
    "xs = np.linspace(1, 7, 1000)\n",
    "plt.plot(xs, f(xs));"
   ]
  },
  {
   "cell_type": "code",
   "execution_count": 5,
   "metadata": {},
   "outputs": [],
   "source": [
    "# Initial value and learning rate\n",
    "x = 1\n",
    "alpha = 1\n",
    "\n",
    "# Iterate and apply gradient descent\n",
    "x_steps = [x]\n",
    "for i in range(300):\n",
    "    x = x - alpha * f_deriv(x)\n",
    "    x_steps.append(x)\n",
    "#     print(f\"{i}: {x}\")"
   ]
  },
  {
   "cell_type": "code",
   "execution_count": 6,
   "metadata": {},
   "outputs": [
    {
     "data": {
      "image/png": "[encoded data removed]",
      "text/plain": [
       "<Figure size 432x288 with 1 Axes>"
      ]
     },
     "metadata": {
      "needs_background": "light"
     },
     "output_type": "display_data"
    }
   ],
   "source": [
    "plt.plot(x_steps);"
   ]
  },
  {
   "cell_type": "markdown",
   "metadata": {},
   "source": [
    "## Let's see if we can do OLS by Gradient Descent!"
   ]
  },
  {
   "cell_type": "code",
   "execution_count": 7,
   "metadata": {},
   "outputs": [],
   "source": [
    "# Set a random seed.\n",
    "np.random.seed(42)"
   ]
  },
  {
   "cell_type": "code",
   "execution_count": 8,
   "metadata": {},
   "outputs": [],
   "source": [
    "# Randomly generate data from a Poisson(45) distribution.\n",
    "temp = np.random.poisson(45, 100)"
   ]
  },
  {
   "cell_type": "code",
   "execution_count": 9,
   "metadata": {
    "scrolled": true
   },
   "outputs": [
    {
     "data": {
      "text/plain": [
       "array([42, 50, 37, 47, 52, 38, 41, 44, 47, 41, 44, 38, 47, 47, 41, 49, 36,\n",
       "       40, 41, 46, 58, 47, 34, 29, 43, 52, 40, 37, 51, 49, 51, 42, 53, 42,\n",
       "       41, 50, 55, 36, 50, 51, 45, 41, 56, 43, 39, 41, 57, 48, 52, 55, 41,\n",
       "       39, 43, 36, 59, 45, 63, 45, 40, 47, 30, 56, 37, 48, 39, 42, 48, 34,\n",
       "       41, 49, 45, 48, 49, 58, 42, 40, 52, 46, 55, 42, 48, 47, 35, 46, 48,\n",
       "       49, 41, 48, 48, 34, 40, 55, 51, 46, 38, 40, 48, 56, 44, 41])"
      ]
     },
     "execution_count": 9,
     "metadata": {},
     "output_type": "execute_result"
    }
   ],
   "source": [
    "# View array.\n",
    "temp"
   ]
  },
  {
   "cell_type": "code",
   "execution_count": 10,
   "metadata": {},
   "outputs": [
    {
     "name": "stdout",
     "output_type": "stream",
     "text": [
      "45.18\n",
      "45.07838383838384\n"
     ]
    }
   ],
   "source": [
    "# Calculate mean and sample variance of array.\n",
    "print(np.mean(temp))\n",
    "print(np.var(temp, ddof = 1))"
   ]
  },
  {
   "cell_type": "markdown",
   "metadata": {},
   "source": [
    "**Ohio State Fun Facts:**\n",
    "1. Ohio Stadium can seat 104,944 people. (Source: [Wikipedia](https://en.wikipedia.org/wiki/Ohio_Stadium).)\n",
    "2. Ohio Stadium's record attendance is 110,045 people. (Source: [Wikipedia](https://en.wikipedia.org/wiki/Ohio_Stadium).)\n",
    "3. Ohio State is better than Michigan. (Source: It's just a fact.)\n",
    "4. Ohio State students enjoy soda. (Source: first-hand knowledge.)"
   ]
  },
  {
   "cell_type": "code",
   "execution_count": 11,
   "metadata": {},
   "outputs": [],
   "source": [
    "# sodas ~ N(200000 + 1000 * temp, 20000)\n",
    "sodas_sold = 200000 + 1000 * temp + np.round(np.random.normal(0, 20000, 100))"
   ]
  },
  {
   "cell_type": "code",
   "execution_count": 12,
   "metadata": {},
   "outputs": [
    {
     "data": {
      "text/plain": [
       "array([233070., 267128., 241282., 222085., 255464., 245706., 223323.,\n",
       "       247075., 248164., 218141., 251156., 249216., 268661., 268076.,\n",
       "       213447., 230243., 246301., 250276., 251301., 323055., 269418.,\n",
       "       269711., 253080., 242028., 236695., 267179., 224543., 232264.,\n",
       "       241293., 250637., 297293., 204655., 266725., 209746., 231561.,\n",
       "       271779., 256286., 214445., 235694., 264592., 230393., 245329.,\n",
       "       256911., 229968., 281879., 253678., 216497., 251729., 238764.,\n",
       "       272049., 225150., 236705., 253100., 253315., 234994., 238310.,\n",
       "       253501., 231933., 275309., 255100., 204782., 274357., 279443.,\n",
       "       268649., 208613., 232315., 273338., 219847., 249876., 264493.,\n",
       "       226461., 246809., 184175., 237512., 236949., 215044., 284648.,\n",
       "       217397., 246199., 244615., 276825., 218283., 258263., 246205.,\n",
       "       228370., 258242., 244981., 235996., 249396., 226294., 242270.,\n",
       "       268243., 282720., 221244., 280661., 200958., 244964., 267766.,\n",
       "       249620., 228546.])"
      ]
     },
     "execution_count": 12,
     "metadata": {},
     "output_type": "execute_result"
    }
   ],
   "source": [
    "sodas_sold"
   ]
  },
  {
   "cell_type": "markdown",
   "metadata": {},
   "source": [
    "$$ \\text{sodas_sold}_i = 200000 + 1000 * \\text{temp}_i + \\varepsilon_i $$"
   ]
  },
  {
   "cell_type": "code",
   "execution_count": 13,
   "metadata": {},
   "outputs": [],
   "source": [
    "# Create dataframe with temp and sodas_sold.\n",
    "df = pd.DataFrame({'temp': temp,\n",
    "                   'sodas': sodas_sold})"
   ]
  },
  {
   "cell_type": "code",
   "execution_count": 14,
   "metadata": {},
   "outputs": [
    {
     "data": {
      "text/html": [
       "<div>\n",
       "<style scoped>\n",
       "    .dataframe tbody tr th:only-of-type {\n",
       "        vertical-align: middle;\n",
       "    }\n",
       "\n",
       "    .dataframe tbody tr th {\n",
       "        vertical-align: top;\n",
       "    }\n",
       "\n",
       "    .dataframe thead th {\n",
       "        text-align: right;\n",
       "    }\n",
       "</style>\n",
       "<table border=\"1\" class=\"dataframe\">\n",
       "  <thead>\n",
       "    <tr style=\"text-align: right;\">\n",
       "      <th></th>\n",
       "      <th>temp</th>\n",
       "      <th>sodas</th>\n",
       "    </tr>\n",
       "  </thead>\n",
       "  <tbody>\n",
       "    <tr>\n",
       "      <th>0</th>\n",
       "      <td>42</td>\n",
       "      <td>233070.0</td>\n",
       "    </tr>\n",
       "    <tr>\n",
       "      <th>1</th>\n",
       "      <td>50</td>\n",
       "      <td>267128.0</td>\n",
       "    </tr>\n",
       "    <tr>\n",
       "      <th>2</th>\n",
       "      <td>37</td>\n",
       "      <td>241282.0</td>\n",
       "    </tr>\n",
       "    <tr>\n",
       "      <th>3</th>\n",
       "      <td>47</td>\n",
       "      <td>222085.0</td>\n",
       "    </tr>\n",
       "    <tr>\n",
       "      <th>4</th>\n",
       "      <td>52</td>\n",
       "      <td>255464.0</td>\n",
       "    </tr>\n",
       "  </tbody>\n",
       "</table>\n",
       "</div>"
      ],
      "text/plain": [
       "   temp     sodas\n",
       "0    42  233070.0\n",
       "1    50  267128.0\n",
       "2    37  241282.0\n",
       "3    47  222085.0\n",
       "4    52  255464.0"
      ]
     },
     "execution_count": 14,
     "metadata": {},
     "output_type": "execute_result"
    }
   ],
   "source": [
    "# Check the first five rows.\n",
    "df.head()"
   ]
  },
  {
   "cell_type": "markdown",
   "metadata": {},
   "source": [
    "#### Our goal is to fit a model here.\n",
    "- You and I know that our $y$-intercept $\\beta_0$ is 200,000.\n",
    "- You and I know that our slope $\\beta_1$ is 1,000.\n",
    "- However, our computer does not know that. Our computer has to estimate $\\hat{\\beta}_0$ and $\\hat{\\beta}_1$ from the data.\n",
    "    - We might say that our **machine** has to... **learn**."
   ]
  },
  {
   "cell_type": "markdown",
   "metadata": {},
   "source": [
    "#### Our workflow:\n",
    "1. Instantiate model.\n",
    "2. Select a learning rate $\\alpha$.\n",
    "3. Select a starting point $\\hat{\\beta}_{1,0}$.\n",
    "4. Calculate the gradient of the loss function.\n",
    "5. Calculate $\\hat{\\beta}_{1,i+1} = \\hat{\\beta}_{1,i} - \\alpha * \\frac{\\partial L}{\\partial \\beta_1}$.\n",
    "6. Check value of $\\left|\\hat{\\beta}_{1,i+1} - \\hat{\\beta}_{1,i}\\right|$.\n",
    "7. Repeat steps 4 through 6 until \"stopping condition\" is met."
   ]
  },
  {
   "cell_type": "markdown",
   "metadata": {},
   "source": [
    "#### Step 1. Instantiate model.\n",
    "\n",
    "Our model takes on the form:\n",
    "$$ Y = \\beta_0 + \\beta_1 X + \\varepsilon$$"
   ]
  },
  {
   "cell_type": "markdown",
   "metadata": {},
   "source": [
    "#### Step 2. Select a learning rate $\\alpha$.\n",
    "\n",
    "$$\\alpha = 0.1$$"
   ]
  },
  {
   "cell_type": "code",
   "execution_count": 15,
   "metadata": {},
   "outputs": [],
   "source": [
    "alpha = 0.1"
   ]
  },
  {
   "cell_type": "markdown",
   "metadata": {},
   "source": [
    "#### Step 3. Select a starting point.\n",
    "The zero-th iteration of $\\hat{\\beta}_1$ is going to start at, say, 20.\n",
    "$$\\hat{\\beta}_{1,0} = 20$$\n",
    "\n",
    "Two points:\n",
    "- You and I know that the true value of $\\beta_1$ is 1000. We need the computer to figure (machine to learn) that part out!\n",
    "- We're going to pretend like the computer already knows the value for $\\beta_0$. In reality, we'd have to do this for $\\beta_0$ and for $\\beta_1$ at the same time."
   ]
  },
  {
   "cell_type": "code",
   "execution_count": 16,
   "metadata": {},
   "outputs": [],
   "source": [
    "beta_1 = 20"
   ]
  },
  {
   "cell_type": "markdown",
   "metadata": {},
   "source": [
    "#### Step 4. Calculate the gradient of the loss function with respect to parameter $\\beta_1$.\n",
    "\n",
    "The loss function, $L$, is our mean square error.\n",
    "\n",
    "$$L = \\frac{1}{n}\\sum_{i = 1} ^ n (y_i - \\hat{y}_i)^2 $$\n",
    "\n",
    "$$\\Rightarrow L = \\frac{1}{n}\\sum_{i = 1} ^ n \\left(y_i - \\left(\\hat{\\beta}_0 + \\hat{\\beta}_1x_i\\right)\\right)^2 $$\n",
    "\n",
    "The gradient of this loss function with respect to $\\beta_1$ is:\n",
    "\n",
    "$$\\frac{\\partial L}{\\partial \\beta_1} = \\frac{2}{n} \\sum_{i=1}^n -x_i\\left(y_i - \\left(\\hat{\\beta}_1x_i + \\hat{\\beta}_0\\right)\\right) $$"
   ]
  },
  {
   "cell_type": "code",
   "execution_count": 17,
   "metadata": {},
   "outputs": [],
   "source": [
    "# Calculate gradient of beta_1.\n",
    "\n",
    "# Matt's bad code - preserved for posterity.\n",
    "# def beta_1_gradient(x, y, beta_1, beta_0):\n",
    "#     n = len(x)\n",
    "#     # Start gradient at 0.\n",
    "#     gradient = 0\n",
    "#     # Begin summation.\n",
    "#     for i in range(n):\n",
    "#         # Add gradient for each observation.\n",
    "#         gradient += -1 * x[i] * (y[i] - (beta_1 * x[i] + beta_0))\n",
    "#     # Multiply gradient by 2 / n.\n",
    "#     gradient *= (2 / n)\n",
    "#     return gradient\n",
    "\n",
    "# Tim's good code - to see what a differnce numpy makes\n",
    "def beta_1_gradient(x, y, beta_1, beta_0):\n",
    "    grads = -x * (y - (beta_1*x + beta_0))\n",
    "    return 2 * np.mean(grads)"
   ]
  },
  {
   "cell_type": "markdown",
   "metadata": {},
   "source": [
    "#### Step 5. Calculate $\\hat{\\beta}_{1,i+1} = \\hat{\\beta}_{1,i} - \\alpha * \\frac{\\partial L}{\\partial \\beta_1}$."
   ]
  },
  {
   "cell_type": "code",
   "execution_count": 18,
   "metadata": {},
   "outputs": [],
   "source": [
    "# Define function to calculate new value of beta_1.\n",
    "def update_beta_1(beta_1, alpha, gradient):\n",
    "    beta_1 = beta_1 - alpha * gradient\n",
    "    return beta_1"
   ]
  },
  {
   "cell_type": "markdown",
   "metadata": {},
   "source": [
    "#### Step 6. Check value of $\\left|\\hat{\\beta}_{1,i+1} - \\hat{\\beta}_{1,i}\\right|$."
   ]
  },
  {
   "cell_type": "code",
   "execution_count": 19,
   "metadata": {},
   "outputs": [],
   "source": [
    "def check_update(beta_1, updated_beta_1, tolerance = 0.1):\n",
    "    return abs(beta_1 - updated_beta_1) < tolerance"
   ]
  },
  {
   "cell_type": "markdown",
   "metadata": {},
   "source": [
    "#### Step 7: Save final value of $\\hat{\\beta}_1$."
   ]
  },
  {
   "cell_type": "markdown",
   "metadata": {},
   "source": [
    "#### Putting it all together..."
   ]
  },
  {
   "cell_type": "code",
   "execution_count": 20,
   "metadata": {},
   "outputs": [],
   "source": [
    "def gradient_descent(x, y, beta_1 = 0, alpha = 0.01, max_iter = 100):\n",
    "    # Set converged = False.\n",
    "    converged = False\n",
    "    \n",
    "    # Iterate through our observations.\n",
    "    step = 0\n",
    "    while not converged:\n",
    "        \n",
    "        # Calculate gradient.\n",
    "        gradient = beta_1_gradient(x, y, beta_1, 200000)\n",
    "        \n",
    "        # Update beta_1.\n",
    "        updated_beta_1 = update_beta_1(beta_1, alpha, gradient)\n",
    "        \n",
    "        # Check for convergence.\n",
    "        converged = check_update(beta_1, updated_beta_1)\n",
    "        \n",
    "        # Overwrite beta_1.\n",
    "        beta_1 = updated_beta_1\n",
    "        \n",
    "        # Print out current step findings.\n",
    "        print(f'Iteration {step} with beta_1 value of {beta_1}.')\n",
    "        \n",
    "        # If we've converged, let us know!\n",
    "        if converged:\n",
    "            print(f'Our algorithm converged after {step} iterations with a beta_1 value of {beta_1}.')\n",
    "        else:\n",
    "            step += 1\n",
    "            \n",
    "        # If we exceed our step limit, break!\n",
    "        if step > max_iter:\n",
    "            break\n",
    "        \n",
    "    # If we didn't converge by the end of our loop, let us know!\n",
    "    if not converged:\n",
    "        print(\"Our algorithm did not converge, so do not trust the value of beta_1.\")\n",
    "    \n",
    "    # Return beta_1.\n",
    "    return beta_1"
   ]
  },
  {
   "cell_type": "code",
   "execution_count": 21,
   "metadata": {},
   "outputs": [
    {
     "name": "stdout",
     "output_type": "stream",
     "text": [
      "Iteration 0 with beta_1 value of 41435.536400000005.\n",
      "Iteration 1 with beta_1 value of -1644889.1423060799.\n",
      "Iteration 2 with beta_1 value of 67017530.06550511.\n",
      "Iteration 3 with beta_1 value of -2728723925.302785.\n",
      "Iteration 4 with beta_1 value of 111106040061.21898.\n",
      "Iteration 5 with beta_1 value of -4523926812130.785.\n",
      "Iteration 6 with beta_1 value of 184201632837141.5.\n",
      "Iteration 7 with beta_1 value of -7500174724514208.0.\n",
      "Iteration 8 with beta_1 value of 3.053861142930322e+17.\n",
      "Iteration 9 with beta_1 value of -1.2434467492892207e+19.\n",
      "Iteration 10 with beta_1 value of 5.062966998015906e+20.\n",
      "Iteration 11 with beta_1 value of -2.0614983985161323e+22.\n",
      "Iteration 12 with beta_1 value of 8.393844259206108e+23.\n",
      "Iteration 13 with beta_1 value of -3.4177383547094688e+25.\n",
      "Iteration 14 with beta_1 value of 1.3916073613637641e+27.\n",
      "Iteration 15 with beta_1 value of -5.666235525412065e+28.\n",
      "Iteration 16 with beta_1 value of 2.307132451353081e+30.\n",
      "Iteration 17 with beta_1 value of -9.393997344823367e+31.\n",
      "Iteration 18 with beta_1 value of 3.82497268688642e+33.\n",
      "Iteration 19 with beta_1 value of -1.5574217788649178e+35.\n",
      "Iteration 20 with beta_1 value of 6.341385405439864e+36.\n",
      "Iteration 21 with beta_1 value of -2.58203457830376e+38.\n",
      "Iteration 22 with beta_1 value of 1.0513321833170987e+40.\n",
      "Iteration 23 with beta_1 value of -4.280730277455898e+41.\n",
      "Iteration 24 with beta_1 value of 1.742993508532273e+43.\n",
      "Iteration 25 with beta_1 value of -7.096981528561027e+44.\n",
      "Iteration 26 with beta_1 value of 2.88969216294725e+46.\n",
      "Iteration 27 with beta_1 value of -1.1766017373715581e+48.\n",
      "Iteration 28 with beta_1 value of 4.790792826090522e+49.\n",
      "Iteration 29 with beta_1 value of -1.9506766965849305e+51.\n",
      "Iteration 30 with beta_1 value of 7.942609319018793e+52.\n",
      "Iteration 31 with beta_1 value of -3.23400812164352e+54.\n",
      "Iteration 32 with beta_1 value of 1.3167975549058353e+56.\n",
      "Iteration 33 with beta_1 value of -5.361630940261188e+57.\n",
      "Iteration 34 with beta_1 value of 2.183105993208028e+59.\n",
      "Iteration 35 with beta_1 value of -8.888996334664993e+60.\n",
      "Iteration 36 with beta_1 value of 3.619350415578213e+62.\n",
      "Iteration 37 with beta_1 value of -1.4736981474118123e+64.\n",
      "Iteration 38 with beta_1 value of 6.000486220779624e+65.\n",
      "Iteration 39 with beta_1 value of -2.443229975487281e+67.\n",
      "Iteration 40 with beta_1 value of 9.948148355791073e+68.\n",
      "Iteration 41 with beta_1 value of -4.0506074623241633e+70.\n",
      "Iteration 42 with beta_1 value of 1.6492939416494543e+72.\n",
      "Iteration 43 with beta_1 value of -6.715463128092916e+73.\n",
      "Iteration 44 with beta_1 value of 2.7343485527918488e+75.\n",
      "Iteration 45 with beta_1 value of -1.1133501689373623e+77.\n",
      "Iteration 46 with beta_1 value of 4.5332501498656376e+78.\n",
      "Iteration 47 with beta_1 value of -1.8458125300210919e+80.\n",
      "Iteration 48 with beta_1 value of 7.51563179473748e+81.\n",
      "Iteration 49 with beta_1 value of -3.060154829126849e+83.\n",
      "Iteration 50 with beta_1 value of 1.2460093620852375e+85.\n",
      "Iteration 51 with beta_1 value of -5.073401239789703e+86.\n",
      "Iteration 52 with beta_1 value of 2.065746929607653e+88.\n",
      "Iteration 53 with beta_1 value of -8.411143088222072e+89.\n",
      "Iteration 54 with beta_1 value of 3.4247819535175585e+91.\n",
      "Iteration 55 with beta_1 value of -1.3944753175776513e+93.\n",
      "Iteration 56 with beta_1 value of 5.6779130400872756e+94.\n",
      "Iteration 57 with beta_1 value of -2.3118872083584165e+96.\n",
      "Iteration 58 with beta_1 value of 9.413357384017132e+97.\n",
      "Iteration 59 with beta_1 value of -3.8328555527650227e+99.\n",
      "Iteration 60 with beta_1 value of 1.56063146113044e+101.\n",
      "Iteration 61 with beta_1 value of -6.354454332914035e+102.\n",
      "Iteration 62 with beta_1 value of 2.5873558796412734e+104.\n",
      "Iteration 63 with beta_1 value of -1.053498868225297e+106.\n",
      "Iteration 64 with beta_1 value of 4.289552411730306e+107.\n",
      "Iteration 65 with beta_1 value of -1.7465856345890524e+109.\n",
      "Iteration 66 with beta_1 value of 7.111607660068937e+110.\n",
      "Iteration 67 with beta_1 value of -2.8956475141655893e+112.\n",
      "Iteration 68 with beta_1 value of 1.1790265896378315e+114.\n",
      "Iteration 69 with beta_1 value of -4.800666145560151e+115.\n",
      "Iteration 70 with beta_1 value of 1.9546968358200174e+117.\n",
      "Iteration 71 with beta_1 value of -7.958978200345081e+118.\n",
      "Iteration 72 with beta_1 value of 3.240673071790908e+120.\n",
      "Iteration 73 with beta_1 value of -1.3195113359872477e+122.\n",
      "Iteration 74 with beta_1 value of 5.372680696965997e+123.\n",
      "Iteration 75 with beta_1 value of -2.187605144745039e+125.\n",
      "Iteration 76 with beta_1 value of 8.90731561996127e+126.\n",
      "Iteration 77 with beta_1 value of -3.626809515610871e+128.\n",
      "Iteration 78 with beta_1 value of 1.4767352840903096e+130.\n",
      "Iteration 79 with beta_1 value of -6.012852590936194e+131.\n",
      "Iteration 80 with beta_1 value of 2.448265215156672e+133.\n",
      "Iteration 81 with beta_1 value of -9.968650441857724e+134.\n",
      "Iteration 82 with beta_1 value of 4.0589553377120936e+136.\n",
      "Iteration 83 with beta_1 value of -1.6526929627669086e+138.\n",
      "Iteration 84 with beta_1 value of 6.729302990357276e+139.\n",
      "Iteration 85 with beta_1 value of -2.7399837571897537e+141.\n",
      "Iteration 86 with beta_1 value of 1.1156446663824663e+143.\n",
      "Iteration 87 with beta_1 value of -4.542592701002816e+144.\n",
      "Iteration 88 with beta_1 value of 1.8496165552527184e+146.\n",
      "Iteration 89 with beta_1 value of -7.531120720353598e+147.\n",
      "Iteration 90 with beta_1 value of 3.066461485947816e+149.\n",
      "Iteration 91 with beta_1 value of -1.248577256156344e+151.\n",
      "Iteration 92 with beta_1 value of 5.083856985436909e+152.\n",
      "Iteration 93 with beta_1 value of -2.0700042164743167e+154.\n",
      "Iteration 94 with beta_1 value of 8.428477568302805e+155.\n",
      "Iteration 95 with beta_1 value of -3.43184006844099e+157.\n",
      "Iteration 96 with beta_1 value of 1.3973491843472545e+159.\n",
      "Iteration 97 with beta_1 value of -5.689614620890404e+160.\n",
      "Iteration 98 with beta_1 value of 2.3166517644171873e+162.\n",
      "Iteration 99 with beta_1 value of -9.43275732221275e+163.\n",
      "Iteration 100 with beta_1 value of 3.84075466440001e+165.\n",
      "Our algorithm did not converge, so do not trust the value of beta_1.\n"
     ]
    },
    {
     "data": {
      "text/plain": [
       "3.84075466440001e+165"
      ]
     },
     "execution_count": 21,
     "metadata": {},
     "output_type": "execute_result"
    }
   ],
   "source": [
    "# Call gradient_descent with an initial beta_1 of 20, alpha of 0.01, and 100 iterations.\n",
    "gradient_descent(df['temp'],\n",
    "                 df['sodas'],\n",
    "                 beta_1 = 20,\n",
    "                 alpha = 0.01,\n",
    "                 max_iter = 100)"
   ]
  },
  {
   "cell_type": "markdown",
   "metadata": {},
   "source": [
    "<details><summary>What should we do?</summary>\n",
    "\n",
    "- We **should not** adjust our maximum iterations. It doesn't look like we'll converge.\n",
    "- We should adjust our alpha!\n",
    "</details>"
   ]
  },
  {
   "cell_type": "code",
   "execution_count": 22,
   "metadata": {
    "scrolled": false
   },
   "outputs": [
    {
     "name": "stdout",
     "output_type": "stream",
     "text": [
      "Iteration 0 with beta_1 value of 434.155364.\n",
      "Iteration 1 with beta_1 value of 675.536706489392.\n",
      "Iteration 2 with beta_1 value of 816.2205115697993.\n",
      "Iteration 3 with beta_1 value of 898.214972317203.\n",
      "Iteration 4 with beta_1 value of 946.0036398856907.\n",
      "Iteration 5 with beta_1 value of 973.8562134272973.\n",
      "Iteration 6 with beta_1 value of 990.0894731594049.\n",
      "Iteration 7 with beta_1 value of 999.5506714625496.\n",
      "Iteration 8 with beta_1 value of 1005.0649227471749.\n",
      "Iteration 9 with beta_1 value of 1008.2787827948905.\n",
      "Iteration 10 with beta_1 value of 1010.1519104187804.\n",
      "Iteration 11 with beta_1 value of 1011.2436216455569.\n",
      "Iteration 12 with beta_1 value of 1011.8799015164366.\n",
      "Iteration 13 with beta_1 value of 1012.2507432410217.\n",
      "Iteration 14 with beta_1 value of 1012.4668801816782.\n",
      "Iteration 15 with beta_1 value of 1012.5928508425271.\n",
      "Iteration 16 with beta_1 value of 1012.6662700708484.\n",
      "Our algorithm converged after 16 iterations with a beta_1 value of 1012.6662700708484.\n"
     ]
    },
    {
     "data": {
      "text/plain": [
       "1012.6662700708484"
      ]
     },
     "execution_count": 22,
     "metadata": {},
     "output_type": "execute_result"
    }
   ],
   "source": [
    "gradient_descent(df['temp'],\n",
    "                 df['sodas'],\n",
    "                 beta_1 = 20,\n",
    "                 alpha = 0.0001,\n",
    "                 max_iter = 100)"
   ]
  }
 ],
 "metadata": {
  "kernelspec": {
   "display_name": "Python 3",
   "language": "python",
   "name": "python3"
  },
  "language_info": {
   "codemirror_mode": {
    "name": "ipython",
    "version": 3
   },
   "file_extension": ".py",
   "mimetype": "text/x-python",
   "name": "python",
   "nbconvert_exporter": "python",
   "pygments_lexer": "ipython3",
   "version": "3.9.7"
  }
 },
 "nbformat": 4,
 "nbformat_minor": 2
}
