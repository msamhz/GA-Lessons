{
 "cells": [
  {
   "cell_type": "code",
   "execution_count": 54,
   "metadata": {},
   "outputs": [],
   "source": [
    "import pandas as pd\n",
    "import numpy as np\n",
    "import seaborn as sns\n",
    "import matplotlib.pyplot as plt\n",
    "from datetime import datetime\n"
   ]
  },
  {
   "cell_type": "code",
   "execution_count": 55,
   "metadata": {},
   "outputs": [],
   "source": [
    "test = pd.read_csv('Data/test/test.csv')\n",
    "train = pd.read_csv('Data/train/train.csv')\n",
    "weather = pd.read_csv('Data/weather.csv')\n",
    "spray = pd.read_csv('Data/spray.csv') "
   ]
  },
  {
   "cell_type": "markdown",
   "metadata": {},
   "source": [
    "Cleaning Train Dataset"
   ]
  },
  {
   "cell_type": "code",
   "execution_count": 56,
   "metadata": {},
   "outputs": [
    {
     "name": "stdout",
     "output_type": "stream",
     "text": [
      "<class 'pandas.core.frame.DataFrame'>\n",
      "RangeIndex: 10506 entries, 0 to 10505\n",
      "Data columns (total 12 columns):\n",
      " #   Column                  Non-Null Count  Dtype  \n",
      "---  ------                  --------------  -----  \n",
      " 0   Date                    10506 non-null  object \n",
      " 1   Address                 10506 non-null  object \n",
      " 2   Species                 10506 non-null  object \n",
      " 3   Block                   10506 non-null  int64  \n",
      " 4   Street                  10506 non-null  object \n",
      " 5   Trap                    10506 non-null  object \n",
      " 6   AddressNumberAndStreet  10506 non-null  object \n",
      " 7   Latitude                10506 non-null  float64\n",
      " 8   Longitude               10506 non-null  float64\n",
      " 9   AddressAccuracy         10506 non-null  int64  \n",
      " 10  NumMosquitos            10506 non-null  int64  \n",
      " 11  WnvPresent              10506 non-null  int64  \n",
      "dtypes: float64(2), int64(4), object(6)\n",
      "memory usage: 985.1+ KB\n"
     ]
    }
   ],
   "source": [
    "train.info()"
   ]
  },
  {
   "cell_type": "code",
   "execution_count": 57,
   "metadata": {},
   "outputs": [
    {
     "data": {
      "text/html": [
       "<div>\n",
       "<style scoped>\n",
       "    .dataframe tbody tr th:only-of-type {\n",
       "        vertical-align: middle;\n",
       "    }\n",
       "\n",
       "    .dataframe tbody tr th {\n",
       "        vertical-align: top;\n",
       "    }\n",
       "\n",
       "    .dataframe thead th {\n",
       "        text-align: right;\n",
       "    }\n",
       "</style>\n",
       "<table border=\"1\" class=\"dataframe\">\n",
       "  <thead>\n",
       "    <tr style=\"text-align: right;\">\n",
       "      <th></th>\n",
       "      <th>Date</th>\n",
       "      <th>Address</th>\n",
       "      <th>Species</th>\n",
       "      <th>Block</th>\n",
       "      <th>Street</th>\n",
       "      <th>Trap</th>\n",
       "      <th>AddressNumberAndStreet</th>\n",
       "      <th>Latitude</th>\n",
       "      <th>Longitude</th>\n",
       "      <th>AddressAccuracy</th>\n",
       "      <th>NumMosquitos</th>\n",
       "      <th>WnvPresent</th>\n",
       "    </tr>\n",
       "  </thead>\n",
       "  <tbody>\n",
       "    <tr>\n",
       "      <th>0</th>\n",
       "      <td>2007-05-29</td>\n",
       "      <td>4100 North Oak Park Avenue, Chicago, IL 60634,...</td>\n",
       "      <td>CULEX PIPIENS/RESTUANS</td>\n",
       "      <td>41</td>\n",
       "      <td>N OAK PARK AVE</td>\n",
       "      <td>T002</td>\n",
       "      <td>4100  N OAK PARK AVE, Chicago, IL</td>\n",
       "      <td>41.954690</td>\n",
       "      <td>-87.800991</td>\n",
       "      <td>9</td>\n",
       "      <td>1</td>\n",
       "      <td>0</td>\n",
       "    </tr>\n",
       "    <tr>\n",
       "      <th>1</th>\n",
       "      <td>2007-05-29</td>\n",
       "      <td>4100 North Oak Park Avenue, Chicago, IL 60634,...</td>\n",
       "      <td>CULEX RESTUANS</td>\n",
       "      <td>41</td>\n",
       "      <td>N OAK PARK AVE</td>\n",
       "      <td>T002</td>\n",
       "      <td>4100  N OAK PARK AVE, Chicago, IL</td>\n",
       "      <td>41.954690</td>\n",
       "      <td>-87.800991</td>\n",
       "      <td>9</td>\n",
       "      <td>1</td>\n",
       "      <td>0</td>\n",
       "    </tr>\n",
       "    <tr>\n",
       "      <th>2</th>\n",
       "      <td>2007-05-29</td>\n",
       "      <td>6200 North Mandell Avenue, Chicago, IL 60646, USA</td>\n",
       "      <td>CULEX RESTUANS</td>\n",
       "      <td>62</td>\n",
       "      <td>N MANDELL AVE</td>\n",
       "      <td>T007</td>\n",
       "      <td>6200  N MANDELL AVE, Chicago, IL</td>\n",
       "      <td>41.994991</td>\n",
       "      <td>-87.769279</td>\n",
       "      <td>9</td>\n",
       "      <td>1</td>\n",
       "      <td>0</td>\n",
       "    </tr>\n",
       "    <tr>\n",
       "      <th>3</th>\n",
       "      <td>2007-05-29</td>\n",
       "      <td>7900 West Foster Avenue, Chicago, IL 60656, USA</td>\n",
       "      <td>CULEX PIPIENS/RESTUANS</td>\n",
       "      <td>79</td>\n",
       "      <td>W FOSTER AVE</td>\n",
       "      <td>T015</td>\n",
       "      <td>7900  W FOSTER AVE, Chicago, IL</td>\n",
       "      <td>41.974089</td>\n",
       "      <td>-87.824812</td>\n",
       "      <td>8</td>\n",
       "      <td>1</td>\n",
       "      <td>0</td>\n",
       "    </tr>\n",
       "    <tr>\n",
       "      <th>4</th>\n",
       "      <td>2007-05-29</td>\n",
       "      <td>7900 West Foster Avenue, Chicago, IL 60656, USA</td>\n",
       "      <td>CULEX RESTUANS</td>\n",
       "      <td>79</td>\n",
       "      <td>W FOSTER AVE</td>\n",
       "      <td>T015</td>\n",
       "      <td>7900  W FOSTER AVE, Chicago, IL</td>\n",
       "      <td>41.974089</td>\n",
       "      <td>-87.824812</td>\n",
       "      <td>8</td>\n",
       "      <td>4</td>\n",
       "      <td>0</td>\n",
       "    </tr>\n",
       "  </tbody>\n",
       "</table>\n",
       "</div>"
      ],
      "text/plain": [
       "         Date                                            Address  \\\n",
       "0  2007-05-29  4100 North Oak Park Avenue, Chicago, IL 60634,...   \n",
       "1  2007-05-29  4100 North Oak Park Avenue, Chicago, IL 60634,...   \n",
       "2  2007-05-29  6200 North Mandell Avenue, Chicago, IL 60646, USA   \n",
       "3  2007-05-29    7900 West Foster Avenue, Chicago, IL 60656, USA   \n",
       "4  2007-05-29    7900 West Foster Avenue, Chicago, IL 60656, USA   \n",
       "\n",
       "                  Species  Block           Street  Trap  \\\n",
       "0  CULEX PIPIENS/RESTUANS     41   N OAK PARK AVE  T002   \n",
       "1          CULEX RESTUANS     41   N OAK PARK AVE  T002   \n",
       "2          CULEX RESTUANS     62    N MANDELL AVE  T007   \n",
       "3  CULEX PIPIENS/RESTUANS     79     W FOSTER AVE  T015   \n",
       "4          CULEX RESTUANS     79     W FOSTER AVE  T015   \n",
       "\n",
       "              AddressNumberAndStreet   Latitude  Longitude  AddressAccuracy  \\\n",
       "0  4100  N OAK PARK AVE, Chicago, IL  41.954690 -87.800991                9   \n",
       "1  4100  N OAK PARK AVE, Chicago, IL  41.954690 -87.800991                9   \n",
       "2   6200  N MANDELL AVE, Chicago, IL  41.994991 -87.769279                9   \n",
       "3    7900  W FOSTER AVE, Chicago, IL  41.974089 -87.824812                8   \n",
       "4    7900  W FOSTER AVE, Chicago, IL  41.974089 -87.824812                8   \n",
       "\n",
       "   NumMosquitos  WnvPresent  \n",
       "0             1           0  \n",
       "1             1           0  \n",
       "2             1           0  \n",
       "3             1           0  \n",
       "4             4           0  "
      ]
     },
     "execution_count": 57,
     "metadata": {},
     "output_type": "execute_result"
    }
   ],
   "source": [
    "train.head(5)"
   ]
  },
  {
   "cell_type": "code",
   "execution_count": 58,
   "metadata": {},
   "outputs": [
    {
     "name": "stdout",
     "output_type": "stream",
     "text": [
      "Mean of mosquitoes caught: 12.853512278697886\n"
     ]
    },
    {
     "data": {
      "image/png": "[encoded data removed]",
      "text/plain": [
       "<Figure size 432x288 with 1 Axes>"
      ]
     },
     "metadata": {
      "needs_background": "light"
     },
     "output_type": "display_data"
    }
   ],
   "source": [
    "sns.histplot(x = 'NumMosquitos', data = train)\n",
    "print(f'Mean of mosquitoes caught: {train.NumMosquitos.mean()}')"
   ]
  },
  {
   "cell_type": "markdown",
   "metadata": {},
   "source": [
    "Noticed there is one at max 50. "
   ]
  },
  {
   "cell_type": "code",
   "execution_count": 59,
   "metadata": {},
   "outputs": [
    {
     "data": {
      "text/html": [
       "<div>\n",
       "<style scoped>\n",
       "    .dataframe tbody tr th:only-of-type {\n",
       "        vertical-align: middle;\n",
       "    }\n",
       "\n",
       "    .dataframe tbody tr th {\n",
       "        vertical-align: top;\n",
       "    }\n",
       "\n",
       "    .dataframe thead th {\n",
       "        text-align: right;\n",
       "    }\n",
       "</style>\n",
       "<table border=\"1\" class=\"dataframe\">\n",
       "  <thead>\n",
       "    <tr style=\"text-align: right;\">\n",
       "      <th></th>\n",
       "      <th>Date</th>\n",
       "      <th>Address</th>\n",
       "      <th>Species</th>\n",
       "      <th>Block</th>\n",
       "      <th>Street</th>\n",
       "      <th>Trap</th>\n",
       "      <th>AddressNumberAndStreet</th>\n",
       "      <th>Latitude</th>\n",
       "      <th>Longitude</th>\n",
       "      <th>AddressAccuracy</th>\n",
       "      <th>NumMosquitos</th>\n",
       "      <th>WnvPresent</th>\n",
       "    </tr>\n",
       "  </thead>\n",
       "  <tbody>\n",
       "    <tr>\n",
       "      <th>293</th>\n",
       "      <td>2007-07-11</td>\n",
       "      <td>2200 West 113th Street, Chicago, IL 60643, USA</td>\n",
       "      <td>CULEX PIPIENS/RESTUANS</td>\n",
       "      <td>22</td>\n",
       "      <td>W 113TH ST</td>\n",
       "      <td>T086</td>\n",
       "      <td>2200  W 113TH ST, Chicago, IL</td>\n",
       "      <td>41.688324</td>\n",
       "      <td>-87.676709</td>\n",
       "      <td>8</td>\n",
       "      <td>50</td>\n",
       "      <td>0</td>\n",
       "    </tr>\n",
       "    <tr>\n",
       "      <th>295</th>\n",
       "      <td>2007-07-11</td>\n",
       "      <td>2200 West 113th Street, Chicago, IL 60643, USA</td>\n",
       "      <td>CULEX PIPIENS/RESTUANS</td>\n",
       "      <td>22</td>\n",
       "      <td>W 113TH ST</td>\n",
       "      <td>T086</td>\n",
       "      <td>2200  W 113TH ST, Chicago, IL</td>\n",
       "      <td>41.688324</td>\n",
       "      <td>-87.676709</td>\n",
       "      <td>8</td>\n",
       "      <td>50</td>\n",
       "      <td>0</td>\n",
       "    </tr>\n",
       "    <tr>\n",
       "      <th>350</th>\n",
       "      <td>2007-07-11</td>\n",
       "      <td>3500 West 116th Street, Chicago, IL 60655, USA</td>\n",
       "      <td>CULEX PIPIENS/RESTUANS</td>\n",
       "      <td>35</td>\n",
       "      <td>W 116TH ST</td>\n",
       "      <td>T158</td>\n",
       "      <td>3500  W 116TH ST, Chicago, IL</td>\n",
       "      <td>41.682587</td>\n",
       "      <td>-87.707973</td>\n",
       "      <td>9</td>\n",
       "      <td>50</td>\n",
       "      <td>0</td>\n",
       "    </tr>\n",
       "    <tr>\n",
       "      <th>351</th>\n",
       "      <td>2007-07-11</td>\n",
       "      <td>3500 West 116th Street, Chicago, IL 60655, USA</td>\n",
       "      <td>CULEX PIPIENS/RESTUANS</td>\n",
       "      <td>35</td>\n",
       "      <td>W 116TH ST</td>\n",
       "      <td>T158</td>\n",
       "      <td>3500  W 116TH ST, Chicago, IL</td>\n",
       "      <td>41.682587</td>\n",
       "      <td>-87.707973</td>\n",
       "      <td>9</td>\n",
       "      <td>50</td>\n",
       "      <td>0</td>\n",
       "    </tr>\n",
       "    <tr>\n",
       "      <th>353</th>\n",
       "      <td>2007-07-11</td>\n",
       "      <td>3500 West 116th Street, Chicago, IL 60655, USA</td>\n",
       "      <td>CULEX PIPIENS/RESTUANS</td>\n",
       "      <td>35</td>\n",
       "      <td>W 116TH ST</td>\n",
       "      <td>T158</td>\n",
       "      <td>3500  W 116TH ST, Chicago, IL</td>\n",
       "      <td>41.682587</td>\n",
       "      <td>-87.707973</td>\n",
       "      <td>9</td>\n",
       "      <td>50</td>\n",
       "      <td>0</td>\n",
       "    </tr>\n",
       "    <tr>\n",
       "      <th>...</th>\n",
       "      <td>...</td>\n",
       "      <td>...</td>\n",
       "      <td>...</td>\n",
       "      <td>...</td>\n",
       "      <td>...</td>\n",
       "      <td>...</td>\n",
       "      <td>...</td>\n",
       "      <td>...</td>\n",
       "      <td>...</td>\n",
       "      <td>...</td>\n",
       "      <td>...</td>\n",
       "      <td>...</td>\n",
       "    </tr>\n",
       "    <tr>\n",
       "      <th>10240</th>\n",
       "      <td>2013-09-12</td>\n",
       "      <td>South Doty Avenue, Chicago, IL, USA</td>\n",
       "      <td>CULEX PIPIENS/RESTUANS</td>\n",
       "      <td>12</td>\n",
       "      <td>S DOTY AVE</td>\n",
       "      <td>T115</td>\n",
       "      <td>1200  S DOTY AVE, Chicago, IL</td>\n",
       "      <td>41.673408</td>\n",
       "      <td>-87.599862</td>\n",
       "      <td>5</td>\n",
       "      <td>50</td>\n",
       "      <td>1</td>\n",
       "    </tr>\n",
       "    <tr>\n",
       "      <th>10242</th>\n",
       "      <td>2013-09-12</td>\n",
       "      <td>South Doty Avenue, Chicago, IL, USA</td>\n",
       "      <td>CULEX PIPIENS/RESTUANS</td>\n",
       "      <td>12</td>\n",
       "      <td>S DOTY AVE</td>\n",
       "      <td>T115</td>\n",
       "      <td>1200  S DOTY AVE, Chicago, IL</td>\n",
       "      <td>41.673408</td>\n",
       "      <td>-87.599862</td>\n",
       "      <td>5</td>\n",
       "      <td>50</td>\n",
       "      <td>0</td>\n",
       "    </tr>\n",
       "    <tr>\n",
       "      <th>10259</th>\n",
       "      <td>2013-09-12</td>\n",
       "      <td>ORD Terminal 5, O'Hare International Airport, ...</td>\n",
       "      <td>CULEX PIPIENS/RESTUANS</td>\n",
       "      <td>10</td>\n",
       "      <td>W OHARE AIRPORT</td>\n",
       "      <td>T900</td>\n",
       "      <td>1000  W OHARE AIRPORT, Chicago, IL</td>\n",
       "      <td>41.974689</td>\n",
       "      <td>-87.890615</td>\n",
       "      <td>9</td>\n",
       "      <td>50</td>\n",
       "      <td>0</td>\n",
       "    </tr>\n",
       "    <tr>\n",
       "      <th>10262</th>\n",
       "      <td>2013-09-12</td>\n",
       "      <td>ORD Terminal 5, O'Hare International Airport, ...</td>\n",
       "      <td>CULEX PIPIENS/RESTUANS</td>\n",
       "      <td>10</td>\n",
       "      <td>W OHARE AIRPORT</td>\n",
       "      <td>T900</td>\n",
       "      <td>1000  W OHARE AIRPORT, Chicago, IL</td>\n",
       "      <td>41.974689</td>\n",
       "      <td>-87.890615</td>\n",
       "      <td>9</td>\n",
       "      <td>50</td>\n",
       "      <td>0</td>\n",
       "    </tr>\n",
       "    <tr>\n",
       "      <th>10267</th>\n",
       "      <td>2013-09-12</td>\n",
       "      <td>ORD Terminal 5, O'Hare International Airport, ...</td>\n",
       "      <td>CULEX PIPIENS</td>\n",
       "      <td>10</td>\n",
       "      <td>W OHARE AIRPORT</td>\n",
       "      <td>T900</td>\n",
       "      <td>1000  W OHARE AIRPORT, Chicago, IL</td>\n",
       "      <td>41.974689</td>\n",
       "      <td>-87.890615</td>\n",
       "      <td>9</td>\n",
       "      <td>50</td>\n",
       "      <td>0</td>\n",
       "    </tr>\n",
       "  </tbody>\n",
       "</table>\n",
       "<p>1019 rows × 12 columns</p>\n",
       "</div>"
      ],
      "text/plain": [
       "             Date                                            Address  \\\n",
       "293    2007-07-11     2200 West 113th Street, Chicago, IL 60643, USA   \n",
       "295    2007-07-11     2200 West 113th Street, Chicago, IL 60643, USA   \n",
       "350    2007-07-11     3500 West 116th Street, Chicago, IL 60655, USA   \n",
       "351    2007-07-11     3500 West 116th Street, Chicago, IL 60655, USA   \n",
       "353    2007-07-11     3500 West 116th Street, Chicago, IL 60655, USA   \n",
       "...           ...                                                ...   \n",
       "10240  2013-09-12                South Doty Avenue, Chicago, IL, USA   \n",
       "10242  2013-09-12                South Doty Avenue, Chicago, IL, USA   \n",
       "10259  2013-09-12  ORD Terminal 5, O'Hare International Airport, ...   \n",
       "10262  2013-09-12  ORD Terminal 5, O'Hare International Airport, ...   \n",
       "10267  2013-09-12  ORD Terminal 5, O'Hare International Airport, ...   \n",
       "\n",
       "                      Species  Block            Street  Trap  \\\n",
       "293    CULEX PIPIENS/RESTUANS     22        W 113TH ST  T086   \n",
       "295    CULEX PIPIENS/RESTUANS     22        W 113TH ST  T086   \n",
       "350    CULEX PIPIENS/RESTUANS     35        W 116TH ST  T158   \n",
       "351    CULEX PIPIENS/RESTUANS     35        W 116TH ST  T158   \n",
       "353    CULEX PIPIENS/RESTUANS     35        W 116TH ST  T158   \n",
       "...                       ...    ...               ...   ...   \n",
       "10240  CULEX PIPIENS/RESTUANS     12        S DOTY AVE  T115   \n",
       "10242  CULEX PIPIENS/RESTUANS     12        S DOTY AVE  T115   \n",
       "10259  CULEX PIPIENS/RESTUANS     10   W OHARE AIRPORT  T900   \n",
       "10262  CULEX PIPIENS/RESTUANS     10   W OHARE AIRPORT  T900   \n",
       "10267           CULEX PIPIENS     10   W OHARE AIRPORT  T900   \n",
       "\n",
       "                   AddressNumberAndStreet   Latitude  Longitude  \\\n",
       "293         2200  W 113TH ST, Chicago, IL  41.688324 -87.676709   \n",
       "295         2200  W 113TH ST, Chicago, IL  41.688324 -87.676709   \n",
       "350         3500  W 116TH ST, Chicago, IL  41.682587 -87.707973   \n",
       "351         3500  W 116TH ST, Chicago, IL  41.682587 -87.707973   \n",
       "353         3500  W 116TH ST, Chicago, IL  41.682587 -87.707973   \n",
       "...                                   ...        ...        ...   \n",
       "10240       1200  S DOTY AVE, Chicago, IL  41.673408 -87.599862   \n",
       "10242       1200  S DOTY AVE, Chicago, IL  41.673408 -87.599862   \n",
       "10259  1000  W OHARE AIRPORT, Chicago, IL  41.974689 -87.890615   \n",
       "10262  1000  W OHARE AIRPORT, Chicago, IL  41.974689 -87.890615   \n",
       "10267  1000  W OHARE AIRPORT, Chicago, IL  41.974689 -87.890615   \n",
       "\n",
       "       AddressAccuracy  NumMosquitos  WnvPresent  \n",
       "293                  8            50           0  \n",
       "295                  8            50           0  \n",
       "350                  9            50           0  \n",
       "351                  9            50           0  \n",
       "353                  9            50           0  \n",
       "...                ...           ...         ...  \n",
       "10240                5            50           1  \n",
       "10242                5            50           0  \n",
       "10259                9            50           0  \n",
       "10262                9            50           0  \n",
       "10267                9            50           0  \n",
       "\n",
       "[1019 rows x 12 columns]"
      ]
     },
     "execution_count": 59,
     "metadata": {},
     "output_type": "execute_result"
    }
   ],
   "source": [
    "train[train.NumMosquitos == 50]"
   ]
  },
  {
   "cell_type": "markdown",
   "metadata": {},
   "source": [
    "Data seems duplicated. Need to remove duplicates"
   ]
  },
  {
   "cell_type": "code",
   "execution_count": 60,
   "metadata": {},
   "outputs": [
    {
     "data": {
      "text/plain": [
       "(10506, 12)"
      ]
     },
     "execution_count": 60,
     "metadata": {},
     "output_type": "execute_result"
    }
   ],
   "source": [
    "train.shape"
   ]
  },
  {
   "cell_type": "code",
   "execution_count": 61,
   "metadata": {},
   "outputs": [],
   "source": [
    "# remove duplicates from train data\n",
    "train.drop_duplicates(ignore_index=True, inplace = True)"
   ]
  },
  {
   "cell_type": "code",
   "execution_count": 62,
   "metadata": {},
   "outputs": [
    {
     "data": {
      "text/plain": [
       "(9693, 12)"
      ]
     },
     "execution_count": 62,
     "metadata": {},
     "output_type": "execute_result"
    }
   ],
   "source": [
    "train.shape"
   ]
  },
  {
   "cell_type": "code",
   "execution_count": 63,
   "metadata": {},
   "outputs": [],
   "source": [
    "# Converting Date column from object type to datetime type.\n",
    "\n",
    "train['Date'] = train['Date'].map(lambda date: datetime.strptime(date, '%Y-%m-%d'))"
   ]
  },
  {
   "cell_type": "code",
   "execution_count": 64,
   "metadata": {},
   "outputs": [],
   "source": [
    "# Only take relevant ones \n",
    "\n",
    "selected_columns = ['Street','Species','Latitude', 'Longitude', 'WnvPresent']\n",
    "\n",
    "train = train[selected_columns]"
   ]
  },
  {
   "cell_type": "code",
   "execution_count": 65,
   "metadata": {},
   "outputs": [
    {
     "data": {
      "text/plain": [
       "Species\n",
       "CULEX ERRATICUS             0\n",
       "CULEX PIPIENS             208\n",
       "CULEX PIPIENS/RESTUANS    246\n",
       "CULEX RESTUANS             49\n",
       "CULEX SALINARIUS            0\n",
       "CULEX TARSALIS              0\n",
       "CULEX TERRITANS             0\n",
       "Name: WnvPresent, dtype: int64"
      ]
     },
     "execution_count": 65,
     "metadata": {},
     "output_type": "execute_result"
    }
   ],
   "source": [
    "# Groupby species to check how many are present \n",
    "\n",
    "train.groupby('Species')['WnvPresent'].sum()"
   ]
  },
  {
   "cell_type": "markdown",
   "metadata": {},
   "source": [
    "3 out of the 7 species are identified to have West Nile virus. "
   ]
  },
  {
   "cell_type": "code",
   "execution_count": 66,
   "metadata": {},
   "outputs": [
    {
     "data": {
      "text/plain": [
       "Street\n",
       "  W ARMITAGE AVENUE    6\n",
       " E 105TH ST            7\n",
       " E 111TH ST            1\n",
       " E 115TH ST            3\n",
       " E 118TH ST            3\n",
       "                      ..\n",
       " W ROOSEVELT           4\n",
       " W ROSCOE ST           2\n",
       " W STRONG ST           4\n",
       " W SUNNYSIDE AVE       0\n",
       " W WEBSTER AVE         3\n",
       "Name: WnvPresent, Length: 128, dtype: int64"
      ]
     },
     "execution_count": 66,
     "metadata": {},
     "output_type": "execute_result"
    }
   ],
   "source": [
    "# Groupby species to check how many are present \n",
    "\n",
    "train.groupby('Street')['WnvPresent'].sum()"
   ]
  },
  {
   "cell_type": "code",
   "execution_count": null,
   "metadata": {},
   "outputs": [],
   "source": []
  },
  {
   "cell_type": "code",
   "execution_count": null,
   "metadata": {},
   "outputs": [],
   "source": []
  }
 ],
 "metadata": {
  "interpreter": {
   "hash": "006be043bc5636bd4f043fb67299334f749b935cdb979ce371419345f6e1f02a"
  },
  "kernelspec": {
   "display_name": "Python 3.8.12 ('dsi')",
   "language": "python",
   "name": "python3"
  },
  "language_info": {
   "codemirror_mode": {
    "name": "ipython",
    "version": 3
   },
   "file_extension": ".py",
   "mimetype": "text/x-python",
   "name": "python",
   "nbconvert_exporter": "python",
   "pygments_lexer": "ipython3",
   "version": "3.8.12"
  },
  "orig_nbformat": 4
 },
 "nbformat": 4,
 "nbformat_minor": 2
}
